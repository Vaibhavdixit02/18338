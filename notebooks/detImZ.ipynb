{
 "cells": [
  {
   "cell_type": "code",
   "execution_count": 34,
   "metadata": {},
   "outputs": [],
   "source": [
    "using SymPy, LinearAlgebra, Combinatorics"
   ]
  },
  {
   "cell_type": "code",
   "execution_count": 64,
   "metadata": {},
   "outputs": [
    {
     "data": {
      "text/latex": [
       "\\[\\left[ \\begin{array}{rrr}M_{11} z + 1&M_{12} z&M_{13} z\\\\M_{21} z&M_{22} z + 1&M_{23} z\\\\M_{31} z&M_{32} z&M_{33} z + 1\\end{array}\\right]\\]"
      ],
      "text/plain": [
       "3×3 Array{Sym,2}:\n",
       " M_11*z + 1      M_12*z      M_13*z\n",
       "     M_21*z  M_22*z + 1      M_23*z\n",
       "     M_31*z      M_32*z  M_33*z + 1"
      ]
     },
     "execution_count": 64,
     "metadata": {},
     "output_type": "execute_result"
    }
   ],
   "source": [
    "n = 3\n",
    "z = symbols(\"z\")\n",
    "M = z.*[ symbols(\"M_$i$j\",real=true) for i=1:n, j=1:n]\n",
    "A = copy(M)\n",
    "for i=1:n\n",
    "    A[i,i] += 1\n",
    "end\n",
    "A\n"
   ]
  },
  {
   "cell_type": "code",
   "execution_count": 65,
   "metadata": {},
   "outputs": [
    {
     "data": {
      "text/latex": [
       "\\[ \\left[ \\begin{array}{r}M_{11} M_{22} M_{33} - M_{11} M_{23} M_{32} - M_{12} M_{21} M_{33} + M_{12} M_{23} M_{31} + M_{13} M_{21} M_{32} - M_{13} M_{22} M_{31}\\\\M_{11} M_{22} + M_{11} M_{33} - M_{12} M_{21} - M_{13} M_{31} + M_{22} M_{33} - M_{23} M_{32}\\\\M_{11} + M_{22} + M_{33}\\end{array} \\right] \\]"
      ],
      "text/plain": [
       "3-element Array{Sym,1}:\n",
       " M_11*M_22*M_33 - M_11*M_23*M_32 - M_12*M_21*M_33 + M_12*M_23*M_31 + M_13*M_21*M_32 - M_13*M_22*M_31\n",
       "                               M_11*M_22 + M_11*M_33 - M_12*M_21 - M_13*M_31 + M_22*M_33 - M_23*M_32\n",
       "                                                                                  M_11 + M_22 + M_33"
      ]
     },
     "execution_count": 65,
     "metadata": {},
     "output_type": "execute_result"
    }
   ],
   "source": [
    "d = expand(det(A))\n",
    "[d.coeff(z^k) for k=n:-1:1] "
   ]
  },
  {
   "cell_type": "code",
   "execution_count": 66,
   "metadata": {},
   "outputs": [
    {
     "data": {
      "text/latex": [
       "\\begin{equation*}M_{11} M_{22} M_{33} - M_{11} M_{23} M_{32} - M_{12} M_{21} M_{33} + M_{12} M_{23} M_{31} + M_{13} M_{21} M_{32} - M_{13} M_{22} M_{31}\\end{equation*}"
      ],
      "text/plain": [
       "M₁₁⋅M₂₂⋅M₃₃ - M₁₁⋅M₂₃⋅M₃₂ - M₁₂⋅M₂₁⋅M₃₃ + M₁₂⋅M₂₃⋅M₃₁ + M₁₃⋅M₂₁⋅M₃₂ - M₁₃⋅M₂₂⋅\n",
       "M₃₁"
      ]
     },
     "metadata": {},
     "output_type": "display_data"
    },
    {
     "data": {
      "text/latex": [
       "\\begin{equation*}M_{11} M_{22} + M_{11} M_{33} - M_{12} M_{21} - M_{13} M_{31} + M_{22} M_{33} - M_{23} M_{32}\\end{equation*}"
      ],
      "text/plain": [
       "M₁₁⋅M₂₂ + M₁₁⋅M₃₃ - M₁₂⋅M₂₁ - M₁₃⋅M₃₁ + M₂₂⋅M₃₃ - M₂₃⋅M₃₂"
      ]
     },
     "metadata": {},
     "output_type": "display_data"
    },
    {
     "data": {
      "text/latex": [
       "\\begin{equation*}M_{11} + M_{22} + M_{33}\\end{equation*}"
      ],
      "text/plain": [
       "M₁₁ + M₂₂ + M₃₃"
      ]
     },
     "metadata": {},
     "output_type": "display_data"
    },
    {
     "data": {
      "text/latex": [
       "\\begin{equation*}1\\end{equation*}"
      ],
      "text/plain": [
       "1"
      ]
     },
     "metadata": {},
     "output_type": "display_data"
    }
   ],
   "source": [
    "for k=n:-1:0\n",
    "   display(factor(sum(det(M[𝓘,𝓘])/z^k for 𝓘 ∈ combinations(1:n, k))))\n",
    "end"
   ]
  },
  {
   "cell_type": "code",
   "execution_count": 69,
   "metadata": {},
   "outputs": [
    {
     "data": {
      "text/latex": [
       "\\[\\left[ \\begin{array}{rrrr}M_{11} z_{1} + 1&M_{12} z_{1}&M_{13} z_{1}&M_{14} z_{1}\\\\M_{21} z_{2}&M_{22} z_{2} + 1&M_{23} z_{2}&M_{24} z_{2}\\\\M_{31} z_{3}&M_{32} z_{3}&M_{33} z_{3} + 1&M_{34} z_{3}\\\\M_{41} z_{4}&M_{42} z_{4}&M_{43} z_{4}&M_{44} z_{4} + 1\\end{array}\\right]\\]"
      ],
      "text/plain": [
       "4×4 Array{Sym,2}:\n",
       " M_11*z1 + 1      M_12*z1      M_13*z1      M_14*z1\n",
       "     M_21*z2  M_22*z2 + 1      M_23*z2      M_24*z2\n",
       "     M_31*z3      M_32*z3  M_33*z3 + 1      M_34*z3\n",
       "     M_41*z4      M_42*z4      M_43*z4  M_44*z4 + 1"
      ]
     },
     "execution_count": 69,
     "metadata": {},
     "output_type": "execute_result"
    }
   ],
   "source": [
    "n = 4\n",
    "z = symbols(\"z\")\n",
    "M = [symbols(\"z$i\") for i=1:n].*[ symbols(\"M_$i$j\",real=true) for i=1:n, j=1:n]\n",
    "A = copy(M)\n",
    "for i=1:n\n",
    "    A[i,i] += 1\n",
    "end\n",
    "A"
   ]
  },
  {
   "cell_type": "code",
   "execution_count": 70,
   "metadata": {},
   "outputs": [
    {
     "data": {
      "text/latex": [
       "\\begin{equation*}M_{11} M_{22} M_{33} M_{44} z_{1} z_{2} z_{3} z_{4} + M_{11} M_{22} M_{33} z_{1} z_{2} z_{3} - M_{11} M_{22} M_{34} M_{43} z_{1} z_{2} z_{3} z_{4} + M_{11} M_{22} M_{44} z_{1} z_{2} z_{4} + M_{11} M_{22} z_{1} z_{2} - M_{11} M_{23} M_{32} M_{44} z_{1} z_{2} z_{3} z_{4} - M_{11} M_{23} M_{32} z_{1} z_{2} z_{3} + M_{11} M_{23} M_{34} M_{42} z_{1} z_{2} z_{3} z_{4} + M_{11} M_{24} M_{32} M_{43} z_{1} z_{2} z_{3} z_{4} - M_{11} M_{24} M_{33} M_{42} z_{1} z_{2} z_{3} z_{4} - M_{11} M_{24} M_{42} z_{1} z_{2} z_{4} + M_{11} M_{33} M_{44} z_{1} z_{3} z_{4} + M_{11} M_{33} z_{1} z_{3} - M_{11} M_{34} M_{43} z_{1} z_{3} z_{4} + M_{11} M_{44} z_{1} z_{4} + M_{11} z_{1} - M_{12} M_{21} M_{33} M_{44} z_{1} z_{2} z_{3} z_{4} - M_{12} M_{21} M_{33} z_{1} z_{2} z_{3} + M_{12} M_{21} M_{34} M_{43} z_{1} z_{2} z_{3} z_{4} - M_{12} M_{21} M_{44} z_{1} z_{2} z_{4} - M_{12} M_{21} z_{1} z_{2} + M_{12} M_{23} M_{31} M_{44} z_{1} z_{2} z_{3} z_{4} + M_{12} M_{23} M_{31} z_{1} z_{2} z_{3} - M_{12} M_{23} M_{34} M_{41} z_{1} z_{2} z_{3} z_{4} - M_{12} M_{24} M_{31} M_{43} z_{1} z_{2} z_{3} z_{4} + M_{12} M_{24} M_{33} M_{41} z_{1} z_{2} z_{3} z_{4} + M_{12} M_{24} M_{41} z_{1} z_{2} z_{4} + M_{13} M_{21} M_{32} M_{44} z_{1} z_{2} z_{3} z_{4} + M_{13} M_{21} M_{32} z_{1} z_{2} z_{3} - M_{13} M_{21} M_{34} M_{42} z_{1} z_{2} z_{3} z_{4} - M_{13} M_{22} M_{31} M_{44} z_{1} z_{2} z_{3} z_{4} - M_{13} M_{22} M_{31} z_{1} z_{2} z_{3} + M_{13} M_{22} M_{34} M_{41} z_{1} z_{2} z_{3} z_{4} + M_{13} M_{24} M_{31} M_{42} z_{1} z_{2} z_{3} z_{4} - M_{13} M_{24} M_{32} M_{41} z_{1} z_{2} z_{3} z_{4} - M_{13} M_{31} M_{44} z_{1} z_{3} z_{4} - M_{13} M_{31} z_{1} z_{3} + M_{13} M_{34} M_{41} z_{1} z_{3} z_{4} - M_{14} M_{21} M_{32} M_{43} z_{1} z_{2} z_{3} z_{4} + M_{14} M_{21} M_{33} M_{42} z_{1} z_{2} z_{3} z_{4} + M_{14} M_{21} M_{42} z_{1} z_{2} z_{4} + M_{14} M_{22} M_{31} M_{43} z_{1} z_{2} z_{3} z_{4} - M_{14} M_{22} M_{33} M_{41} z_{1} z_{2} z_{3} z_{4} - M_{14} M_{22} M_{41} z_{1} z_{2} z_{4} - M_{14} M_{23} M_{31} M_{42} z_{1} z_{2} z_{3} z_{4} + M_{14} M_{23} M_{32} M_{41} z_{1} z_{2} z_{3} z_{4} + M_{14} M_{31} M_{43} z_{1} z_{3} z_{4} - M_{14} M_{33} M_{41} z_{1} z_{3} z_{4} - M_{14} M_{41} z_{1} z_{4} + M_{22} M_{33} M_{44} z_{2} z_{3} z_{4} + M_{22} M_{33} z_{2} z_{3} - M_{22} M_{34} M_{43} z_{2} z_{3} z_{4} + M_{22} M_{44} z_{2} z_{4} + M_{22} z_{2} - M_{23} M_{32} M_{44} z_{2} z_{3} z_{4} - M_{23} M_{32} z_{2} z_{3} + M_{23} M_{34} M_{42} z_{2} z_{3} z_{4} + M_{24} M_{32} M_{43} z_{2} z_{3} z_{4} - M_{24} M_{33} M_{42} z_{2} z_{3} z_{4} - M_{24} M_{42} z_{2} z_{4} + M_{33} M_{44} z_{3} z_{4} + M_{33} z_{3} - M_{34} M_{43} z_{3} z_{4} + M_{44} z_{4} + 1\\end{equation*}"
      ],
      "text/plain": [
       "M₁₁⋅M₂₂⋅M₃₃⋅M₄₄⋅z₁⋅z₂⋅z₃⋅z₄ + M₁₁⋅M₂₂⋅M₃₃⋅z₁⋅z₂⋅z₃ - M₁₁⋅M₂₂⋅M₃₄⋅M₄₃⋅z₁⋅z₂⋅z₃⋅\n",
       "z₄ + M₁₁⋅M₂₂⋅M₄₄⋅z₁⋅z₂⋅z₄ + M₁₁⋅M₂₂⋅z₁⋅z₂ - M₁₁⋅M₂₃⋅M₃₂⋅M₄₄⋅z₁⋅z₂⋅z₃⋅z₄ - M₁₁⋅\n",
       "M₂₃⋅M₃₂⋅z₁⋅z₂⋅z₃ + M₁₁⋅M₂₃⋅M₃₄⋅M₄₂⋅z₁⋅z₂⋅z₃⋅z₄ + M₁₁⋅M₂₄⋅M₃₂⋅M₄₃⋅z₁⋅z₂⋅z₃⋅z₄ -\n",
       " M₁₁⋅M₂₄⋅M₃₃⋅M₄₂⋅z₁⋅z₂⋅z₃⋅z₄ - M₁₁⋅M₂₄⋅M₄₂⋅z₁⋅z₂⋅z₄ + M₁₁⋅M₃₃⋅M₄₄⋅z₁⋅z₃⋅z₄ + M\n",
       "₁₁⋅M₃₃⋅z₁⋅z₃ - M₁₁⋅M₃₄⋅M₄₃⋅z₁⋅z₃⋅z₄ + M₁₁⋅M₄₄⋅z₁⋅z₄ + M₁₁⋅z₁ - M₁₂⋅M₂₁⋅M₃₃⋅M₄₄\n",
       "⋅z₁⋅z₂⋅z₃⋅z₄ - M₁₂⋅M₂₁⋅M₃₃⋅z₁⋅z₂⋅z₃ + M₁₂⋅M₂₁⋅M₃₄⋅M₄₃⋅z₁⋅z₂⋅z₃⋅z₄ - M₁₂⋅M₂₁⋅M₄\n",
       "₄⋅z₁⋅z₂⋅z₄ - M₁₂⋅M₂₁⋅z₁⋅z₂ + M₁₂⋅M₂₃⋅M₃₁⋅M₄₄⋅z₁⋅z₂⋅z₃⋅z₄ + M₁₂⋅M₂₃⋅M₃₁⋅z₁⋅z₂⋅z\n",
       "₃ - M₁₂⋅M₂₃⋅M₃₄⋅M₄₁⋅z₁⋅z₂⋅z₃⋅z₄ - M₁₂⋅M₂₄⋅M₃₁⋅M₄₃⋅z₁⋅z₂⋅z₃⋅z₄ + M₁₂⋅M₂₄⋅M₃₃⋅M₄\n",
       "₁⋅z₁⋅z₂⋅z₃⋅z₄ + M₁₂⋅M₂₄⋅M₄₁⋅z₁⋅z₂⋅z₄ + M₁₃⋅M₂₁⋅M₃₂⋅M₄₄⋅z₁⋅z₂⋅z₃⋅z₄ + M₁₃⋅M₂₁⋅M\n",
       "₃₂⋅z₁⋅z₂⋅z₃ - M₁₃⋅M₂₁⋅M₃₄⋅M₄₂⋅z₁⋅z₂⋅z₃⋅z₄ - M₁₃⋅M₂₂⋅M₃₁⋅M₄₄⋅z₁⋅z₂⋅z₃⋅z₄ - M₁₃⋅\n",
       "M₂₂⋅M₃₁⋅z₁⋅z₂⋅z₃ + M₁₃⋅M₂₂⋅M₃₄⋅M₄₁⋅z₁⋅z₂⋅z₃⋅z₄ + M₁₃⋅M₂₄⋅M₃₁⋅M₄₂⋅z₁⋅z₂⋅z₃⋅z₄ -\n",
       " M₁₃⋅M₂₄⋅M₃₂⋅M₄₁⋅z₁⋅z₂⋅z₃⋅z₄ - M₁₃⋅M₃₁⋅M₄₄⋅z₁⋅z₃⋅z₄ - M₁₃⋅M₃₁⋅z₁⋅z₃ + M₁₃⋅M₃₄⋅\n",
       "M₄₁⋅z₁⋅z₃⋅z₄ - M₁₄⋅M₂₁⋅M₃₂⋅M₄₃⋅z₁⋅z₂⋅z₃⋅z₄ + M₁₄⋅M₂₁⋅M₃₃⋅M₄₂⋅z₁⋅z₂⋅z₃⋅z₄ + M₁₄\n",
       "⋅M₂₁⋅M₄₂⋅z₁⋅z₂⋅z₄ + M₁₄⋅M₂₂⋅M₃₁⋅M₄₃⋅z₁⋅z₂⋅z₃⋅z₄ - M₁₄⋅M₂₂⋅M₃₃⋅M₄₁⋅z₁⋅z₂⋅z₃⋅z₄ \n",
       "- M₁₄⋅M₂₂⋅M₄₁⋅z₁⋅z₂⋅z₄ - M₁₄⋅M₂₃⋅M₃₁⋅M₄₂⋅z₁⋅z₂⋅z₃⋅z₄ + M₁₄⋅M₂₃⋅M₃₂⋅M₄₁⋅z₁⋅z₂⋅z\n",
       "₃⋅z₄ + M₁₄⋅M₃₁⋅M₄₃⋅z₁⋅z₃⋅z₄ - M₁₄⋅M₃₃⋅M₄₁⋅z₁⋅z₃⋅z₄ - M₁₄⋅M₄₁⋅z₁⋅z₄ + M₂₂⋅M₃₃⋅M\n",
       "₄₄⋅z₂⋅z₃⋅z₄ + M₂₂⋅M₃₃⋅z₂⋅z₃ - M₂₂⋅M₃₄⋅M₄₃⋅z₂⋅z₃⋅z₄ + M₂₂⋅M₄₄⋅z₂⋅z₄ + M₂₂⋅z₂ - \n",
       "M₂₃⋅M₃₂⋅M₄₄⋅z₂⋅z₃⋅z₄ - M₂₃⋅M₃₂⋅z₂⋅z₃ + M₂₃⋅M₃₄⋅M₄₂⋅z₂⋅z₃⋅z₄ + M₂₄⋅M₃₂⋅M₄₃⋅z₂⋅z\n",
       "₃⋅z₄ - M₂₄⋅M₃₃⋅M₄₂⋅z₂⋅z₃⋅z₄ - M₂₄⋅M₄₂⋅z₂⋅z₄ + M₃₃⋅M₄₄⋅z₃⋅z₄ + M₃₃⋅z₃ - M₃₄⋅M₄₃\n",
       "⋅z₃⋅z₄ + M₄₄⋅z₄ + 1"
      ]
     },
     "execution_count": 70,
     "metadata": {},
     "output_type": "execute_result"
    }
   ],
   "source": [
    "expand(det(A))"
   ]
  },
  {
   "cell_type": "code",
   "execution_count": null,
   "metadata": {},
   "outputs": [],
   "source": []
  }
 ],
 "metadata": {
  "@webio": {
   "lastCommId": null,
   "lastKernelId": null
  },
  "kernelspec": {
   "display_name": "Julia 1.2.0",
   "language": "julia",
   "name": "julia-1.2"
  },
  "language_info": {
   "file_extension": ".jl",
   "mimetype": "application/julia",
   "name": "julia",
   "version": "1.2.0"
  }
 },
 "nbformat": 4,
 "nbformat_minor": 2
}
