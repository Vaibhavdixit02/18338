{
 "cells": [
  {
   "cell_type": "code",
   "execution_count": null,
   "metadata": {},
   "outputs": [],
   "source": [
    "# randomgrowth.jl\n",
    "using Interact\n",
    "using Compose\n",
    "\n",
    "set_default_graphic_size(10Compose.cm,10Compose.cm)\n",
    "# representation: array of points representing cells\n",
    "# which could grow in the next iteration"
   ]
  },
  {
   "cell_type": "code",
   "execution_count": null,
   "metadata": {},
   "outputs": [],
   "source": [
    "function draw_cg(pts, dim, grew)\n",
    "    x, y = transpose(first.(pts)), transpose(last.(pts))\n",
    "    x_g, y_g = x[grew], y[grew]\n",
    "    bound, unit = dim .+ 0*x, 1 .+ 0*x\n",
    "    \n",
    "    highlights = nothing\n",
    "    if length(x_g) > 0\n",
    "        highlights = (context(), rectangle(x_g, y_g, unit, unit), fill(\"yellow\"))\n",
    "    end\n",
    "    return compose(context(units=UnitBox(0, 0, dim, dim)),\n",
    "            highlights,\n",
    "            (context(), rectangle(x, y, bound, bound), fill(\"black\")))\n",
    "end"
   ]
  },
  {
   "cell_type": "code",
   "execution_count": null,
   "metadata": {},
   "outputs": [],
   "source": [
    "function append(arr, pt)\n",
    "    if arr[end][1] == pt[1] || arr[end][2] == pt[2]\n",
    "        arr[end] = (min(arr[end][1], pt[1]), min(arr[end][2], pt[2]))\n",
    "    else\n",
    "        push!(arr, pt)\n",
    "    end\n",
    "end\n",
    "\n",
    "function extend(pts, grew)\n",
    "    # ret = [(-1, Inf)]\n",
    "    ret = [(-1, 5 * (5 + maximum(hcat(first.(pts), last.(pts)))))]\n",
    "    \n",
    "    for i = 1:length(grew)\n",
    "        if grew[i]\n",
    "            append(ret, (pts[i][1], pts[i][2] + 1))\n",
    "            append(ret, (pts[i][1] + 1, pts[i][2]))\n",
    "        else\n",
    "            append(ret, (pts[i][1], pts[i][2]))\n",
    "        end\n",
    "    end\n",
    "    return ret[2:end]\n",
    "end"
   ]
  },
  {
   "cell_type": "code",
   "execution_count": null,
   "metadata": {},
   "outputs": [],
   "source": [
    "function calculate_dynamics(N, q, T=20, highlight=false)\n",
    "    cur = [(0, 1), (1, 0)]\n",
    "    all_images = [draw_cg(cur, N, falses(size(cur)))]\n",
    "    for i=1:T\n",
    "        grew = BitArray(rand(Bool, size(cur)))\n",
    "        if highlight\n",
    "            push!(all_images, draw_cg(cur, N, trues(size(cur))))\n",
    "            push!(all_images, draw_cg(cur, N, grew))\n",
    "        end\n",
    "        \n",
    "        cur = extend(cur, grew)\n",
    "        push!(all_images, draw_cg(cur, N, falses(size(cur))))\n",
    "    end\n",
    "    return all_images\n",
    "end\n",
    "\n",
    "function visualize_dynamics(all_images)\n",
    "    @manipulate for i in slider(1:length(all_images), value=1)\n",
    "    #for i in 1:length(all_images)\n",
    "        all_images[i]\n",
    "    end\n",
    "end"
   ]
  },
  {
   "cell_type": "code",
   "execution_count": null,
   "metadata": {},
   "outputs": [],
   "source": [
    "visualize_dynamics(calculate_dynamics(10000, 0.5, 4000))"
   ]
  },
  {
   "cell_type": "code",
   "execution_count": null,
   "metadata": {},
   "outputs": [],
   "source": [
    "# analytical limiting shape:\n",
    "limiting(x, y) = x + y + 2*√(x*y*q)"
   ]
  }
 ],
 "metadata": {
  "@webio": {
   "lastCommId": "18493810264b4956897a7cfd67403cb3",
   "lastKernelId": "75564cc0-8333-4fd5-86fd-eea042490f6d"
  },
  "kernelspec": {
   "display_name": "Julia 1.2.0",
   "language": "julia",
   "name": "julia-1.2"
  },
  "language_info": {
   "file_extension": ".jl",
   "mimetype": "application/julia",
   "name": "julia",
   "version": "1.2.0"
  }
 },
 "nbformat": 4,
 "nbformat_minor": 2
}
