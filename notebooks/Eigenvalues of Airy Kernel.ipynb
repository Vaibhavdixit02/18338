{
 "cells": [
  {
   "cell_type": "markdown",
   "metadata": {},
   "source": [
    "Extracted the key parts from https://github.com/JuliaMath/RandomMatrices.jl/blob/master/src/densities/TracyWidom.jl"
   ]
  },
  {
   "cell_type": "code",
   "execution_count": 1,
   "metadata": {},
   "outputs": [],
   "source": [
    "using SpecialFunctions, FastGaussQuadrature, LinearAlgebra"
   ]
  },
  {
   "cell_type": "code",
   "execution_count": 2,
   "metadata": {},
   "outputs": [
    {
     "data": {
      "text/plain": [
       "K (generic function with 1 method)"
      ]
     },
     "execution_count": 2,
     "metadata": {},
     "output_type": "execute_result"
    }
   ],
   "source": [
    "airy_kernel(x, y) = x==y ? (airyaiprime(x))^2 - x * (airyai(x))^2 :\n",
    "           (airyai(x) * airyaiprime(y) - airyai(y) * airyaiprime(x)) / (x - y)\n",
    "ϕ(ξ, s) =  s + 10*tan(π*(ξ+1)/4) # Transformation from [-1,1] to (s,∞)\n",
    "ϕ′(ξ) = (5π/2)*(sec(π*(ξ+1)/4))^2\n",
    "K(ξ,η,s) = sqrt(ϕ′(ξ) * ϕ′(η)) * airy_kernel(ϕ(ξ,s), ϕ(η,s))"
   ]
  },
  {
   "cell_type": "code",
   "execution_count": 6,
   "metadata": {},
   "outputs": [
    {
     "name": "stderr",
     "output_type": "stream",
     "text": [
      "┌ Info: Recompiling stale cache file /Users/alanedelman/.julia/compiled/v1.2/Plots/ld3vC.ji for Plots [91a5bcdd-55d7-5caf-9e0b-520d859cae80]\n",
      "└ @ Base loading.jl:1240\n"
     ]
    }
   ],
   "source": [
    "using Plots"
   ]
  },
  {
   "cell_type": "code",
   "execution_count": 16,
   "metadata": {},
   "outputs": [
    {
     "name": "stderr",
     "output_type": "stream",
     "text": [
      "┌ Info: Recompiling stale cache file /Users/alanedelman/.julia/compiled/v1.2/Interact/XmYW4.ji for Interact [c601a237-2ae4-5e1e-952c-7a85b0c7eef1]\n",
      "└ @ Base loading.jl:1240\n"
     ]
    },
    {
     "data": {
      "text/html": [
       "<script>\n",
       "// Immediately-invoked-function-expression to avoid global variables.\n",
       "(function() {\n",
       "    var warning_div = document.getElementById(\"webio-warning-16744868897662608728\");\n",
       "    var hide = function () {\n",
       "        var script = document.getElementById(\"webio-setup-16375747704330948506\");\n",
       "        var parent = script && script.parentElement;\n",
       "        var grandparent = parent && parent.parentElement;\n",
       "        if (grandparent) {\n",
       "            grandparent.style.display = \"none\";\n",
       "        }\n",
       "        warning_div.style.display = \"none\";\n",
       "    };\n",
       "    if (typeof Jupyter !== \"undefined\") {\n",
       "        console.log(\"WebIO detected Jupyter notebook environment.\");\n",
       "        // Jupyter notebook.\n",
       "        var extensions = (\n",
       "            Jupyter\n",
       "            && Jupyter.notebook.config.data\n",
       "            && Jupyter.notebook.config.data.load_extensions\n",
       "        );\n",
       "        if (extensions && extensions[\"webio-jupyter-notebook\"]) {\n",
       "            // Extension already loaded.\n",
       "            console.log(\"Jupyter WebIO nbextension detected; not loading ad-hoc.\");\n",
       "            hide();\n",
       "            return;\n",
       "        }\n",
       "    } else if (window.location.pathname.includes(\"/lab\")) {\n",
       "        // Guessing JupyterLa\n",
       "        console.log(\"Jupyter Lab detected; make sure the @webio/jupyter-lab-provider labextension is installed.\");\n",
       "        hide();\n",
       "        return;\n",
       "    }\n",
       "})();\n",
       "\n",
       "</script>\n",
       "<p\n",
       "    id=\"webio-warning-16744868897662608728\"\n",
       "    class=\"output_text output_stderr\"\n",
       "    style=\"padding: 1em; font-weight: bold;\"\n",
       ">\n",
       "    Unable to load WebIO. Please make sure WebIO works for your Jupyter client.\n",
       "    For troubleshooting, please see <a href=\"https://juliagizmos.github.io/WebIO.jl/latest/providers/ijulia/\">\n",
       "    the WebIO/IJulia documentation</a>.\n",
       "    <!-- TODO: link to installation docs. -->\n",
       "</p>\n"
      ],
      "text/plain": [
       "HTML{String}(\"<script>\\n// Immediately-invoked-function-expression to avoid global variables.\\n(function() {\\n    var warning_div = document.getElementById(\\\"webio-warning-16744868897662608728\\\");\\n    var hide = function () {\\n        var script = document.getElementById(\\\"webio-setup-16375747704330948506\\\");\\n        var parent = script && script.parentElement;\\n        var grandparent = parent && parent.parentElement;\\n        if (grandparent) {\\n            grandparent.style.display = \\\"none\\\";\\n        }\\n        warning_div.style.display = \\\"none\\\";\\n    };\\n    if (typeof Jupyter !== \\\"undefined\\\") {\\n        console.log(\\\"WebIO detected Jupyter notebook environment.\\\");\\n        // Jupyter notebook.\\n        var extensions = (\\n            Jupyter\\n            && Jupyter.notebook.config.data\\n            && Jupyter.notebook.config.data.load_extensions\\n        );\\n        if (extensions && extensions[\\\"webio-jupyter-notebook\\\"]) {\\n            // Extension already loaded.\\n            console.log(\\\"Jupyter WebIO nbextension detected; not loading ad-hoc.\\\");\\n            hide();\\n            return;\\n        }\\n    } else if (window.location.pathname.includes(\\\"/lab\\\")) {\\n        // Guessing JupyterLa\\n        console.log(\\\"Jupyter Lab detected; make sure the @webio/jupyter-lab-provider labextension is installed.\\\");\\n        hide();\\n        return;\\n    }\\n})();\\n\\n</script>\\n<p\\n    id=\\\"webio-warning-16744868897662608728\\\"\\n    class=\\\"output_text output_stderr\\\"\\n    style=\\\"padding: 1em; font-weight: bold;\\\"\\n>\\n    Unable to load WebIO. Please make sure WebIO works for your Jupyter client.\\n    For troubleshooting, please see <a href=\\\"https://juliagizmos.github.io/WebIO.jl/latest/providers/ijulia/\\\">\\n    the WebIO/IJulia documentation</a>.\\n    <!-- TODO: link to installation docs. -->\\n</p>\\n\")"
      ]
     },
     "metadata": {},
     "output_type": "display_data"
    }
   ],
   "source": [
    "using Interact"
   ]
  },
  {
   "cell_type": "code",
   "execution_count": 15,
   "metadata": {},
   "outputs": [
    {
     "data": {
      "image/svg+xml": [
       "<?xml version=\"1.0\" encoding=\"utf-8\"?>\n",
       "<svg xmlns=\"http://www.w3.org/2000/svg\" xmlns:xlink=\"http://www.w3.org/1999/xlink\" width=\"600\" height=\"400\" viewBox=\"0 0 2400 1600\">\n",
       "<defs>\n",
       "  <clipPath id=\"clip8700\">\n",
       "    <rect x=\"0\" y=\"0\" width=\"2400\" height=\"1600\"/>\n",
       "  </clipPath>\n",
       "</defs>\n",
       "<polygon clip-path=\"url(#clip8700)\" points=\"\n",
       "0,1600 2400,1600 2400,0 0,0 \n",
       "  \" fill=\"#ffffff\" fill-rule=\"evenodd\" fill-opacity=\"1\"/>\n",
       "<defs>\n",
       "  <clipPath id=\"clip8701\">\n",
       "    <rect x=\"480\" y=\"0\" width=\"1681\" height=\"1600\"/>\n",
       "  </clipPath>\n",
       "</defs>\n",
       "<polygon clip-path=\"url(#clip8700)\" points=\"\n",
       "140.517,1487.47 2352.76,1487.47 2352.76,47.2441 140.517,47.2441 \n",
       "  \" fill=\"#ffffff\" fill-rule=\"evenodd\" fill-opacity=\"1\"/>\n",
       "<defs>\n",
       "  <clipPath id=\"clip8702\">\n",
       "    <rect x=\"140\" y=\"47\" width=\"2213\" height=\"1441\"/>\n",
       "  </clipPath>\n",
       "</defs>\n",
       "<polyline clip-path=\"url(#clip8702)\" style=\"stroke:#000000; stroke-width:2; stroke-opacity:0.1; fill:none\" points=\"\n",
       "  203.127,1487.47 203.127,47.2441 \n",
       "  \"/>\n",
       "<polyline clip-path=\"url(#clip8702)\" style=\"stroke:#000000; stroke-width:2; stroke-opacity:0.1; fill:none\" points=\"\n",
       "  727.504,1487.47 727.504,47.2441 \n",
       "  \"/>\n",
       "<polyline clip-path=\"url(#clip8702)\" style=\"stroke:#000000; stroke-width:2; stroke-opacity:0.1; fill:none\" points=\"\n",
       "  1251.88,1487.47 1251.88,47.2441 \n",
       "  \"/>\n",
       "<polyline clip-path=\"url(#clip8702)\" style=\"stroke:#000000; stroke-width:2; stroke-opacity:0.1; fill:none\" points=\"\n",
       "  1776.26,1487.47 1776.26,47.2441 \n",
       "  \"/>\n",
       "<polyline clip-path=\"url(#clip8702)\" style=\"stroke:#000000; stroke-width:2; stroke-opacity:0.1; fill:none\" points=\"\n",
       "  2300.63,1487.47 2300.63,47.2441 \n",
       "  \"/>\n",
       "<polyline clip-path=\"url(#clip8702)\" style=\"stroke:#000000; stroke-width:2; stroke-opacity:0.1; fill:none\" points=\"\n",
       "  140.517,1487.47 2352.76,1487.47 \n",
       "  \"/>\n",
       "<polyline clip-path=\"url(#clip8702)\" style=\"stroke:#000000; stroke-width:2; stroke-opacity:0.1; fill:none\" points=\"\n",
       "  140.517,1199.43 2352.76,1199.43 \n",
       "  \"/>\n",
       "<polyline clip-path=\"url(#clip8702)\" style=\"stroke:#000000; stroke-width:2; stroke-opacity:0.1; fill:none\" points=\"\n",
       "  140.517,911.382 2352.76,911.382 \n",
       "  \"/>\n",
       "<polyline clip-path=\"url(#clip8702)\" style=\"stroke:#000000; stroke-width:2; stroke-opacity:0.1; fill:none\" points=\"\n",
       "  140.517,623.336 2352.76,623.336 \n",
       "  \"/>\n",
       "<polyline clip-path=\"url(#clip8702)\" style=\"stroke:#000000; stroke-width:2; stroke-opacity:0.1; fill:none\" points=\"\n",
       "  140.517,335.29 2352.76,335.29 \n",
       "  \"/>\n",
       "<polyline clip-path=\"url(#clip8702)\" style=\"stroke:#000000; stroke-width:2; stroke-opacity:0.1; fill:none\" points=\"\n",
       "  140.517,47.2441 2352.76,47.2441 \n",
       "  \"/>\n",
       "<polyline clip-path=\"url(#clip8700)\" style=\"stroke:#000000; stroke-width:4; stroke-opacity:1; fill:none\" points=\"\n",
       "  140.517,1487.47 2352.76,1487.47 \n",
       "  \"/>\n",
       "<polyline clip-path=\"url(#clip8700)\" style=\"stroke:#000000; stroke-width:4; stroke-opacity:1; fill:none\" points=\"\n",
       "  140.517,1487.47 140.517,47.2441 \n",
       "  \"/>\n",
       "<polyline clip-path=\"url(#clip8700)\" style=\"stroke:#000000; stroke-width:4; stroke-opacity:1; fill:none\" points=\"\n",
       "  203.127,1487.47 203.127,1465.87 \n",
       "  \"/>\n",
       "<polyline clip-path=\"url(#clip8700)\" style=\"stroke:#000000; stroke-width:4; stroke-opacity:1; fill:none\" points=\"\n",
       "  727.504,1487.47 727.504,1465.87 \n",
       "  \"/>\n",
       "<polyline clip-path=\"url(#clip8700)\" style=\"stroke:#000000; stroke-width:4; stroke-opacity:1; fill:none\" points=\"\n",
       "  1251.88,1487.47 1251.88,1465.87 \n",
       "  \"/>\n",
       "<polyline clip-path=\"url(#clip8700)\" style=\"stroke:#000000; stroke-width:4; stroke-opacity:1; fill:none\" points=\"\n",
       "  1776.26,1487.47 1776.26,1465.87 \n",
       "  \"/>\n",
       "<polyline clip-path=\"url(#clip8700)\" style=\"stroke:#000000; stroke-width:4; stroke-opacity:1; fill:none\" points=\"\n",
       "  2300.63,1487.47 2300.63,1465.87 \n",
       "  \"/>\n",
       "<polyline clip-path=\"url(#clip8700)\" style=\"stroke:#000000; stroke-width:4; stroke-opacity:1; fill:none\" points=\"\n",
       "  140.517,1487.47 173.7,1487.47 \n",
       "  \"/>\n",
       "<polyline clip-path=\"url(#clip8700)\" style=\"stroke:#000000; stroke-width:4; stroke-opacity:1; fill:none\" points=\"\n",
       "  140.517,1199.43 173.7,1199.43 \n",
       "  \"/>\n",
       "<polyline clip-path=\"url(#clip8700)\" style=\"stroke:#000000; stroke-width:4; stroke-opacity:1; fill:none\" points=\"\n",
       "  140.517,911.382 173.7,911.382 \n",
       "  \"/>\n",
       "<polyline clip-path=\"url(#clip8700)\" style=\"stroke:#000000; stroke-width:4; stroke-opacity:1; fill:none\" points=\"\n",
       "  140.517,623.336 173.7,623.336 \n",
       "  \"/>\n",
       "<polyline clip-path=\"url(#clip8700)\" style=\"stroke:#000000; stroke-width:4; stroke-opacity:1; fill:none\" points=\"\n",
       "  140.517,335.29 173.7,335.29 \n",
       "  \"/>\n",
       "<polyline clip-path=\"url(#clip8700)\" style=\"stroke:#000000; stroke-width:4; stroke-opacity:1; fill:none\" points=\"\n",
       "  140.517,47.2441 173.7,47.2441 \n",
       "  \"/>\n",
       "<g clip-path=\"url(#clip8700)\">\n",
       "<text style=\"fill:#000000; fill-opacity:1; font-family:Arial,Helvetica Neue,Helvetica,sans-serif; font-size:48px; text-anchor:middle;\" transform=\"rotate(0, 203.127, 1541.47)\" x=\"203.127\" y=\"1541.47\">-1.0</text>\n",
       "</g>\n",
       "<g clip-path=\"url(#clip8700)\">\n",
       "<text style=\"fill:#000000; fill-opacity:1; font-family:Arial,Helvetica Neue,Helvetica,sans-serif; font-size:48px; text-anchor:middle;\" transform=\"rotate(0, 727.504, 1541.47)\" x=\"727.504\" y=\"1541.47\">-0.5</text>\n",
       "</g>\n",
       "<g clip-path=\"url(#clip8700)\">\n",
       "<text style=\"fill:#000000; fill-opacity:1; font-family:Arial,Helvetica Neue,Helvetica,sans-serif; font-size:48px; text-anchor:middle;\" transform=\"rotate(0, 1251.88, 1541.47)\" x=\"1251.88\" y=\"1541.47\">0.0</text>\n",
       "</g>\n",
       "<g clip-path=\"url(#clip8700)\">\n",
       "<text style=\"fill:#000000; fill-opacity:1; font-family:Arial,Helvetica Neue,Helvetica,sans-serif; font-size:48px; text-anchor:middle;\" transform=\"rotate(0, 1776.26, 1541.47)\" x=\"1776.26\" y=\"1541.47\">0.5</text>\n",
       "</g>\n",
       "<g clip-path=\"url(#clip8700)\">\n",
       "<text style=\"fill:#000000; fill-opacity:1; font-family:Arial,Helvetica Neue,Helvetica,sans-serif; font-size:48px; text-anchor:middle;\" transform=\"rotate(0, 2300.63, 1541.47)\" x=\"2300.63\" y=\"1541.47\">1.0</text>\n",
       "</g>\n",
       "<g clip-path=\"url(#clip8700)\">\n",
       "<text style=\"fill:#000000; fill-opacity:1; font-family:Arial,Helvetica Neue,Helvetica,sans-serif; font-size:48px; text-anchor:end;\" transform=\"rotate(0, 116.517, 1504.97)\" x=\"116.517\" y=\"1504.97\">0</text>\n",
       "</g>\n",
       "<g clip-path=\"url(#clip8700)\">\n",
       "<text style=\"fill:#000000; fill-opacity:1; font-family:Arial,Helvetica Neue,Helvetica,sans-serif; font-size:48px; text-anchor:end;\" transform=\"rotate(0, 116.517, 1216.93)\" x=\"116.517\" y=\"1216.93\">2</text>\n",
       "</g>\n",
       "<g clip-path=\"url(#clip8700)\">\n",
       "<text style=\"fill:#000000; fill-opacity:1; font-family:Arial,Helvetica Neue,Helvetica,sans-serif; font-size:48px; text-anchor:end;\" transform=\"rotate(0, 116.517, 928.882)\" x=\"116.517\" y=\"928.882\">4</text>\n",
       "</g>\n",
       "<g clip-path=\"url(#clip8700)\">\n",
       "<text style=\"fill:#000000; fill-opacity:1; font-family:Arial,Helvetica Neue,Helvetica,sans-serif; font-size:48px; text-anchor:end;\" transform=\"rotate(0, 116.517, 640.836)\" x=\"116.517\" y=\"640.836\">6</text>\n",
       "</g>\n",
       "<g clip-path=\"url(#clip8700)\">\n",
       "<text style=\"fill:#000000; fill-opacity:1; font-family:Arial,Helvetica Neue,Helvetica,sans-serif; font-size:48px; text-anchor:end;\" transform=\"rotate(0, 116.517, 352.79)\" x=\"116.517\" y=\"352.79\">8</text>\n",
       "</g>\n",
       "<g clip-path=\"url(#clip8700)\">\n",
       "<text style=\"fill:#000000; fill-opacity:1; font-family:Arial,Helvetica Neue,Helvetica,sans-serif; font-size:48px; text-anchor:end;\" transform=\"rotate(0, 116.517, 64.7441)\" x=\"116.517\" y=\"64.7441\">10</text>\n",
       "</g>\n",
       "<polyline clip-path=\"url(#clip8702)\" style=\"stroke:#009af9; stroke-width:4; stroke-opacity:1; fill:none\" points=\"\n",
       "  203.127,1055.41 213.615,1044.09 224.102,1032.78 234.59,1021.46 245.077,1010.14 255.565,998.819 266.053,987.486 276.54,976.145 287.028,964.794 297.515,953.432 \n",
       "  308.003,942.057 318.49,930.668 328.978,919.264 339.465,907.842 349.953,896.403 360.44,884.943 370.928,873.462 381.415,861.958 391.903,850.43 402.39,838.877 \n",
       "  412.878,827.295 423.365,815.685 433.853,804.045 444.34,792.373 454.828,780.667 465.316,768.926 475.803,757.148 486.291,745.332 496.778,733.476 507.266,721.578 \n",
       "  517.753,709.637 528.241,697.65 538.728,685.617 549.216,673.535 559.703,661.403 570.191,649.218 580.678,636.98 591.166,624.685 601.653,612.333 612.141,599.92 \n",
       "  622.628,587.446 633.116,574.908 643.604,562.304 654.091,549.633 664.579,536.891 675.066,524.076 685.554,511.188 696.041,498.222 706.529,485.178 717.016,472.052 \n",
       "  727.504,458.842 737.991,445.547 748.479,432.162 758.966,418.686 769.454,405.116 779.941,391.45 790.429,377.684 800.916,363.817 811.404,349.844 821.891,335.763 \n",
       "  832.379,321.571 842.867,307.266 853.354,292.843 863.842,278.299 874.329,263.632 884.817,248.838 895.304,233.912 905.792,218.853 916.279,203.656 926.767,188.316 \n",
       "  937.254,172.831 947.742,157.196 958.229,141.407 968.717,125.46 979.204,109.351 989.692,93.0742 1000.18,76.6258 1010.67,60.0009 1021.15,43.1945 1031.64,26.2015 \n",
       "  1042.13,9.01673 1052.62,-8.36531 1063.1,-25.9502 1073.59,-43.7437 1084.08,-61.7519 1094.57,-79.9807 1105.05,-98.4368 1115.54,-117.127 1126.03,-136.057 1136.52,-155.235 \n",
       "  1147,-174.668 1157.49,-194.363 1167.98,-214.329 1178.47,-234.573 1188.95,-255.104 1199.44,-275.93 1209.93,-297.061 1220.42,-318.506 1230.91,-340.275 1241.39,-362.378 \n",
       "  1251.88,-384.825 1262.37,-407.628 1272.86,-430.797 1283.34,-454.345 1293.83,-478.284 1304.32,-502.627 1314.81,-527.387 1325.29,-552.578 1335.78,-578.215 1346.27,-604.313 \n",
       "  1356.76,-630.888 1367.24,-657.956 1377.73,-685.534 1388.22,-713.641 1398.71,-742.296 1409.19,-771.518 1419.68,-801.329 1430.17,-831.749 1440.66,-862.802 1451.14,-894.511 \n",
       "  1461.63,-926.902 1472.12,-960.001 1482.61,-993.835 1493.09,-1028.43 1503.58,-1063.83 1514.07,-1100.05 1524.56,-1137.14 1535.04,-1175.12 1545.53,-1214.03 1556.02,-1253.93 \n",
       "  1566.51,-1294.84 1576.99,-1336.81 1587.48,-1379.89 1597.97,-1424.13 1608.46,-1469.59 1618.94,-1516.31 1629.43,-1564.36 1639.92,-1613.81 1650.41,-1664.72 1660.89,-1717.16 \n",
       "  1671.38,-1771.21 1681.87,-1826.95 1692.36,-1884.47 1702.84,-1943.87 1713.33,-2005.24 1723.82,-2068.7 1734.31,-2134.35 1744.79,-2202.33 1755.28,-2272.77 1765.77,-2345.81 \n",
       "  1776.26,-2421.62 1786.74,-2500.35 1797.23,-2582.2 1807.72,-2667.36 1818.21,-2756.05 1828.69,-2848.51 1839.18,-2944.99 1849.67,-3045.77 1860.16,-3151.16 1870.64,-3261.51 \n",
       "  1881.13,-3377.17 1891.62,-3498.56 1902.11,-3626.14 1912.59,-3760.4 1923.08,-3901.9 1933.57,-4051.27 1944.06,-4209.19 1954.54,-4376.45 1965.03,-4553.92 1975.52,-4742.59 \n",
       "  1986.01,-4943.59 1996.49,-5158.17 2006.98,-5387.82 2017.47,-5634.18 2027.96,-5899.21 2038.44,-6185.12 2048.93,-6494.55 2059.42,-6830.55 2069.91,-7196.74 2080.39,-7597.45 \n",
       "  2090.88,-8037.85 2101.37,-8524.21 2111.86,-9064.18 2122.34,-9667.23 2132.83,-10345.2 2143.32,-11113 2153.81,-11990 2164.3,-13001.4 2174.78,-14180.6 2185.27,-15573.6 \n",
       "  2195.76,-17244.5 2206.25,-19285.7 2216.73,-21836.4 2227.22,-25114.7 2237.71,-29484.6 2248.2,-35600.9 2258.68,-44773.5 2269.17,-60058.6 2279.66,-90625 2290.15,-182317 \n",
       "  \n",
       "  \"/>\n",
       "</svg>\n"
      ]
     },
     "execution_count": 15,
     "metadata": {},
     "output_type": "execute_result"
    }
   ],
   "source": [
    "s = 3\n",
    "plot(ξ->ϕ(ξ, s), -1:.01: .99 , ylim=(0,10),legend=false)"
   ]
  },
  {
   "cell_type": "code",
   "execution_count": 4,
   "metadata": {},
   "outputs": [
    {
     "data": {
      "text/plain": [
       "0.4132241425051216"
      ]
     },
     "execution_count": 4,
     "metadata": {},
     "output_type": "execute_result"
    }
   ],
   "source": [
    "# Tracy widom at s = -2 using \"det\"\n",
    "n = 100 \n",
    "s = -2\n",
    "\n",
    "function K(s , n=100) \n",
    "    nodes,weights = gausslegendre(n)\n",
    "    Symmetric( K.(nodes',nodes,s) .* (√).(weights) .* (√).(weights'))\n",
    "end\n",
    "det(I -  K(s))"
   ]
  },
  {
   "cell_type": "code",
   "execution_count": 5,
   "metadata": {},
   "outputs": [
    {
     "data": {
      "text/plain": [
       "100×100 Symmetric{Float64,Array{Float64,2}}:\n",
       "  0.000384872   0.000581794  …  -0.0  -0.0  -0.0  -0.0  -0.0  -0.0\n",
       "  0.000581794   0.000879474     -0.0  -0.0  -0.0  -0.0  -0.0  -0.0\n",
       "  0.000717167   0.00108412      -0.0  -0.0  -0.0  -0.0  -0.0  -0.0\n",
       "  0.000817291   0.00123548      -0.0  -0.0  -0.0  -0.0  -0.0  -0.0\n",
       "  0.000890653   0.00134639      -0.0  -0.0  -0.0  -0.0  -0.0  -0.0\n",
       "  0.000941176   0.00142278   …  -0.0  -0.0  -0.0  -0.0  -0.0  -0.0\n",
       "  0.000971171   0.00146814      -0.0  -0.0  -0.0  -0.0  -0.0  -0.0\n",
       "  0.000982358   0.00148508      -0.0  -0.0  -0.0  -0.0  -0.0  -0.0\n",
       "  0.000976296   0.00147593      -0.0  -0.0  -0.0  -0.0  -0.0  -0.0\n",
       "  0.000954594   0.00144315      -0.0  -0.0  -0.0  -0.0  -0.0  -0.0\n",
       "  0.000919012   0.00138938   …  -0.0  -0.0  -0.0  -0.0  -0.0  -0.0\n",
       "  0.000871495   0.00131757      -0.0  -0.0  -0.0  -0.0  -0.0  -0.0\n",
       "  0.000814165   0.00123092      -0.0  -0.0  -0.0  -0.0  -0.0  -0.0\n",
       "  ⋮                          ⋱         ⋮                          \n",
       " -0.0          -0.0              0.0   0.0   0.0   0.0   0.0   0.0\n",
       " -0.0          -0.0              0.0   0.0   0.0   0.0   0.0   0.0\n",
       " -0.0          -0.0          …   0.0   0.0   0.0   0.0   0.0   0.0\n",
       " -0.0          -0.0              0.0   0.0   0.0   0.0   0.0   0.0\n",
       " -0.0          -0.0              0.0   0.0   0.0   0.0   0.0   0.0\n",
       " -0.0          -0.0              0.0   0.0   0.0   0.0   0.0   0.0\n",
       " -0.0          -0.0              0.0   0.0   0.0   0.0   0.0   0.0\n",
       " -0.0          -0.0          …   0.0   0.0   0.0   0.0   0.0   0.0\n",
       " -0.0          -0.0              0.0   0.0   0.0   0.0   0.0   0.0\n",
       " -0.0          -0.0              0.0   0.0   0.0   0.0   0.0   0.0\n",
       " -0.0          -0.0              0.0   0.0   0.0   0.0   0.0   0.0\n",
       " -0.0          -0.0              0.0   0.0   0.0   0.0   0.0   0.0"
      ]
     },
     "execution_count": 5,
     "metadata": {},
     "output_type": "execute_result"
    }
   ],
   "source": [
    "K(0)"
   ]
  },
  {
   "cell_type": "code",
   "execution_count": 19,
   "metadata": {},
   "outputs": [
    {
     "data": {
      "text/plain": [
       "7-element Array{Float64,1}:\n",
       " 0.5765544712213151    \n",
       " 0.023947900315389396  \n",
       " 0.00019436102447910228\n",
       " 1.0231068630369925e-6 \n",
       " 4.400191076272687e-9  \n",
       " 1.669643670556442e-11 \n",
       " 5.813520698657187e-14 "
      ]
     },
     "execution_count": 19,
     "metadata": {},
     "output_type": "execute_result"
    }
   ],
   "source": [
    "# Eigenvalues of airy Kernel at s = -2\n",
    "λ = sort(eigvals(K(s)) , rev =true)\n",
    "λ = λ[ λ .> 1e-15]"
   ]
  },
  {
   "cell_type": "code",
   "execution_count": 20,
   "metadata": {},
   "outputs": [
    {
     "data": {
      "text/plain": [
       "0.4132241425051226"
      ]
     },
     "execution_count": 20,
     "metadata": {},
     "output_type": "execute_result"
    }
   ],
   "source": [
    "prod(1 .- λ)  # product of 1-eigs = det = tracy widom"
   ]
  },
  {
   "cell_type": "code",
   "execution_count": 21,
   "metadata": {},
   "outputs": [
    {
     "data": {
      "text/plain": [
       "([-0.9491079123427585, -0.7415311855993945, -0.40584515137739713, 0.0, 0.40584515137739713, 0.7415311855993945, 0.9491079123427585], [0.12948496616886973, 0.2797053914892766, 0.3818300505051189, 0.4179591836734694, 0.3818300505051189, 0.2797053914892766, 0.12948496616886973])"
      ]
     },
     "execution_count": 21,
     "metadata": {},
     "output_type": "execute_result"
    }
   ],
   "source": [
    "nodes,weights = gausslegendre(7)"
   ]
  },
  {
   "cell_type": "code",
   "execution_count": 22,
   "metadata": {},
   "outputs": [
    {
     "data": {
      "text/plain": [
       "21×2 Array{Real,2}:\n",
       "  2.0          2.0      \n",
       " -4.16334e-17  0        \n",
       "  0.666667     0.666667 \n",
       " -1.38778e-17  0        \n",
       "  0.4          0.4      \n",
       "  0.0          0        \n",
       "  0.285714     0.285714 \n",
       "  1.38778e-17  0        \n",
       "  0.222222     0.222222 \n",
       "  0.0          0        \n",
       "  0.181818     0.181818 \n",
       " -6.93889e-18  0        \n",
       "  0.153846     0.153846 \n",
       "  0.0          0        \n",
       "  0.133333     0.133333 \n",
       "  0.0          0        \n",
       "  0.117647     0.117647 \n",
       "  6.93889e-18  0        \n",
       "  0.105263     0.105263 \n",
       "  0.0          0        \n",
       "  0.0952352    0.0952381"
      ]
     },
     "execution_count": 22,
     "metadata": {},
     "output_type": "execute_result"
    }
   ],
   "source": [
    "n = 10\n",
    "nodes,weights = gausslegendre(n)\n",
    "hcat( [ weights ⋅ (x->x^k).(nodes) for k=0:2*n], [k%2==1 ? 0 : 2/(k+1) for k=0:2*n])"
   ]
  },
  {
   "cell_type": "code",
   "execution_count": 23,
   "metadata": {},
   "outputs": [
    {
     "data": {
      "text/plain": [
       "10-element Array{Float64,1}:\n",
       " -0.9739065285171714 \n",
       " -0.8650633666889843 \n",
       " -0.6794095682990245 \n",
       " -0.4333953941292471 \n",
       " -0.1488743389816315 \n",
       "  0.14887433898163172\n",
       "  0.43339539412924716\n",
       "  0.6794095682990244 \n",
       "  0.8650633666889842 \n",
       "  0.9739065285171716 "
      ]
     },
     "execution_count": 23,
     "metadata": {},
     "output_type": "execute_result"
    }
   ],
   "source": [
    "n = 10\n",
    "d = [0.0 for m =(n):-1:1.0]\n",
    "e = [1/√(4-1/m^2) for m=1:(n-1)]\n",
    "eigvals(SymTridiagonal(d,e))"
   ]
  },
  {
   "cell_type": "code",
   "execution_count": 24,
   "metadata": {},
   "outputs": [
    {
     "data": {
      "text/plain": [
       "10-element Array{Float64,1}:\n",
       " 0.06667134430868694\n",
       " 0.1494513491505832 \n",
       " 0.2190863625159837 \n",
       " 0.2692667193099952 \n",
       " 0.2955242247147499 \n",
       " 0.29552422471475276\n",
       " 0.2692667193099954 \n",
       " 0.21908636251598348\n",
       " 0.14945134915058125\n",
       " 0.06667134430868796"
      ]
     },
     "execution_count": 24,
     "metadata": {},
     "output_type": "execute_result"
    }
   ],
   "source": [
    "2*eigvecs(SymTridiagonal(d,e))[1,:].^2"
   ]
  },
  {
   "cell_type": "code",
   "execution_count": 25,
   "metadata": {},
   "outputs": [
    {
     "data": {
      "text/plain": [
       "10-element Array{Float64,1}:\n",
       " 0.578\n",
       " 0.517\n",
       " 0.508\n",
       " 0.504\n",
       " 0.503\n",
       " 0.502\n",
       " 0.502\n",
       " 0.501\n",
       " 0.501\n",
       " 0.501"
      ]
     },
     "execution_count": 25,
     "metadata": {},
     "output_type": "execute_result"
    }
   ],
   "source": [
    "n= 1000\n",
    "r = range(-1,stop=1,length=n)\n",
    "V = r.^(0:n-1)'\n",
    "Q, = qr(V)\n",
    "T = Q'*diagm(r)*Q\n",
    "T = SymTridiagonal(diag(T),abs.(diag(T,-1)))\n",
    "round.(T.ev[1:10],digits=3)"
   ]
  },
  {
   "cell_type": "code",
   "execution_count": 26,
   "metadata": {},
   "outputs": [
    {
     "data": {
      "text/plain": [
       "12-element Array{Float64,1}:\n",
       " 0.5773502691896258\n",
       " 0.5163977794943222\n",
       " 0.50709255283711  \n",
       " 0.5039526306789696\n",
       " 0.502518907629606 \n",
       " 0.5017452060042544\n",
       " 0.501280411827603 \n",
       " 0.5009794328681196\n",
       " 0.5007733956671915\n",
       " 0.5006261743217588\n",
       " 0.5005173307126191\n",
       " 0.5004345937369794"
      ]
     },
     "execution_count": 26,
     "metadata": {},
     "output_type": "execute_result"
    }
   ],
   "source": [
    "[1/√(4-1/m^2) for m=1:12]"
   ]
  },
  {
   "cell_type": "markdown",
   "metadata": {},
   "source": [
    "## Lanczos on Airy Kernel\n",
    "with reorthognalization, grabbed from Arbenz http://people.inf.ethz.ch/arbenz/ewp/Lnotes/chapter10.pdf"
   ]
  },
  {
   "cell_type": "code",
   "execution_count": 27,
   "metadata": {},
   "outputs": [
    {
     "data": {
      "text/plain": [
       "lanczos (generic function with 3 methods)"
      ]
     },
     "execution_count": 27,
     "metadata": {},
     "output_type": "execute_result"
    }
   ],
   "source": [
    "function(lanczos(s,steps=10,n=50))\n",
    "  A = copy(K(s,n));\n",
    "  nodes,weights = gausslegendre(n)\n",
    "  q = fill(1.0,n).*(√).(weights)\n",
    "  q = normalize(q)\n",
    "  Q = q\n",
    "  r =  A * q\n",
    "  α =  q ⋅ r\n",
    "  r -= α * q\n",
    "  β = norm(r)\n",
    "  α_list,β_list = [α],[β]\n",
    "\n",
    "  for j = 2:steps \n",
    "    v = q\n",
    "    q = r / β  \n",
    "    Q = [Q q]\n",
    "    r = A * q - β*v\n",
    "    α = q ⋅ r \n",
    "    r -= α * q \n",
    "    r -= Q*Q'r  # explicit reorthogonalization\n",
    "    β = norm(r)  \n",
    "    append!(α_list,α),append!(β_list,β)\n",
    "  end\n",
    "  T = SymTridiagonal(α_list, β_list[1:steps-1])\n",
    "end"
   ]
  },
  {
   "cell_type": "code",
   "execution_count": 28,
   "metadata": {},
   "outputs": [
    {
     "data": {
      "text/plain": [
       "(0.4132241425051217, 0.4132241425051224)"
      ]
     },
     "execution_count": 28,
     "metadata": {},
     "output_type": "execute_result"
    }
   ],
   "source": [
    "s = -2.0\n",
    "det(I-lanczos(s)), det(I-K(s))"
   ]
  },
  {
   "cell_type": "code",
   "execution_count": 29,
   "metadata": {},
   "outputs": [],
   "source": [
    "using Plots"
   ]
  },
  {
   "cell_type": "code",
   "execution_count": 31,
   "metadata": {},
   "outputs": [
    {
     "data": {
      "image/svg+xml": [
       "<?xml version=\"1.0\" encoding=\"utf-8\"?>\n",
       "<svg xmlns=\"http://www.w3.org/2000/svg\" xmlns:xlink=\"http://www.w3.org/1999/xlink\" width=\"600\" height=\"400\" viewBox=\"0 0 2400 1600\">\n",
       "<defs>\n",
       "  <clipPath id=\"clip3800\">\n",
       "    <rect x=\"0\" y=\"0\" width=\"2400\" height=\"1600\"/>\n",
       "  </clipPath>\n",
       "</defs>\n",
       "<polygon clip-path=\"url(#clip3800)\" points=\"\n",
       "0,1600 2400,1600 2400,0 0,0 \n",
       "  \" fill=\"#ffffff\" fill-rule=\"evenodd\" fill-opacity=\"1\"/>\n",
       "<defs>\n",
       "  <clipPath id=\"clip3801\">\n",
       "    <rect x=\"480\" y=\"0\" width=\"1681\" height=\"1600\"/>\n",
       "  </clipPath>\n",
       "</defs>\n",
       "<polygon clip-path=\"url(#clip3800)\" points=\"\n",
       "180.66,1487.47 2352.76,1487.47 2352.76,47.2441 180.66,47.2441 \n",
       "  \" fill=\"#ffffff\" fill-rule=\"evenodd\" fill-opacity=\"1\"/>\n",
       "<defs>\n",
       "  <clipPath id=\"clip3802\">\n",
       "    <rect x=\"180\" y=\"47\" width=\"2173\" height=\"1441\"/>\n",
       "  </clipPath>\n",
       "</defs>\n",
       "<polyline clip-path=\"url(#clip3802)\" style=\"stroke:#000000; stroke-width:2; stroke-opacity:0.1; fill:none\" points=\"\n",
       "  242.135,1487.47 242.135,47.2441 \n",
       "  \"/>\n",
       "<polyline clip-path=\"url(#clip3802)\" style=\"stroke:#000000; stroke-width:2; stroke-opacity:0.1; fill:none\" points=\"\n",
       "  583.659,1487.47 583.659,47.2441 \n",
       "  \"/>\n",
       "<polyline clip-path=\"url(#clip3802)\" style=\"stroke:#000000; stroke-width:2; stroke-opacity:0.1; fill:none\" points=\"\n",
       "  925.184,1487.47 925.184,47.2441 \n",
       "  \"/>\n",
       "<polyline clip-path=\"url(#clip3802)\" style=\"stroke:#000000; stroke-width:2; stroke-opacity:0.1; fill:none\" points=\"\n",
       "  1266.71,1487.47 1266.71,47.2441 \n",
       "  \"/>\n",
       "<polyline clip-path=\"url(#clip3802)\" style=\"stroke:#000000; stroke-width:2; stroke-opacity:0.1; fill:none\" points=\"\n",
       "  1608.23,1487.47 1608.23,47.2441 \n",
       "  \"/>\n",
       "<polyline clip-path=\"url(#clip3802)\" style=\"stroke:#000000; stroke-width:2; stroke-opacity:0.1; fill:none\" points=\"\n",
       "  1949.76,1487.47 1949.76,47.2441 \n",
       "  \"/>\n",
       "<polyline clip-path=\"url(#clip3802)\" style=\"stroke:#000000; stroke-width:2; stroke-opacity:0.1; fill:none\" points=\"\n",
       "  2291.28,1487.47 2291.28,47.2441 \n",
       "  \"/>\n",
       "<polyline clip-path=\"url(#clip3802)\" style=\"stroke:#000000; stroke-width:2; stroke-opacity:0.1; fill:none\" points=\"\n",
       "  180.66,1447.22 2352.76,1447.22 \n",
       "  \"/>\n",
       "<polyline clip-path=\"url(#clip3802)\" style=\"stroke:#000000; stroke-width:2; stroke-opacity:0.1; fill:none\" points=\"\n",
       "  180.66,1107.35 2352.76,1107.35 \n",
       "  \"/>\n",
       "<polyline clip-path=\"url(#clip3802)\" style=\"stroke:#000000; stroke-width:2; stroke-opacity:0.1; fill:none\" points=\"\n",
       "  180.66,767.477 2352.76,767.477 \n",
       "  \"/>\n",
       "<polyline clip-path=\"url(#clip3802)\" style=\"stroke:#000000; stroke-width:2; stroke-opacity:0.1; fill:none\" points=\"\n",
       "  180.66,427.605 2352.76,427.605 \n",
       "  \"/>\n",
       "<polyline clip-path=\"url(#clip3802)\" style=\"stroke:#000000; stroke-width:2; stroke-opacity:0.1; fill:none\" points=\"\n",
       "  180.66,87.7334 2352.76,87.7334 \n",
       "  \"/>\n",
       "<polyline clip-path=\"url(#clip3800)\" style=\"stroke:#000000; stroke-width:4; stroke-opacity:1; fill:none\" points=\"\n",
       "  180.66,1487.47 2352.76,1487.47 \n",
       "  \"/>\n",
       "<polyline clip-path=\"url(#clip3800)\" style=\"stroke:#000000; stroke-width:4; stroke-opacity:1; fill:none\" points=\"\n",
       "  180.66,1487.47 180.66,47.2441 \n",
       "  \"/>\n",
       "<polyline clip-path=\"url(#clip3800)\" style=\"stroke:#000000; stroke-width:4; stroke-opacity:1; fill:none\" points=\"\n",
       "  242.135,1487.47 242.135,1465.87 \n",
       "  \"/>\n",
       "<polyline clip-path=\"url(#clip3800)\" style=\"stroke:#000000; stroke-width:4; stroke-opacity:1; fill:none\" points=\"\n",
       "  583.659,1487.47 583.659,1465.87 \n",
       "  \"/>\n",
       "<polyline clip-path=\"url(#clip3800)\" style=\"stroke:#000000; stroke-width:4; stroke-opacity:1; fill:none\" points=\"\n",
       "  925.184,1487.47 925.184,1465.87 \n",
       "  \"/>\n",
       "<polyline clip-path=\"url(#clip3800)\" style=\"stroke:#000000; stroke-width:4; stroke-opacity:1; fill:none\" points=\"\n",
       "  1266.71,1487.47 1266.71,1465.87 \n",
       "  \"/>\n",
       "<polyline clip-path=\"url(#clip3800)\" style=\"stroke:#000000; stroke-width:4; stroke-opacity:1; fill:none\" points=\"\n",
       "  1608.23,1487.47 1608.23,1465.87 \n",
       "  \"/>\n",
       "<polyline clip-path=\"url(#clip3800)\" style=\"stroke:#000000; stroke-width:4; stroke-opacity:1; fill:none\" points=\"\n",
       "  1949.76,1487.47 1949.76,1465.87 \n",
       "  \"/>\n",
       "<polyline clip-path=\"url(#clip3800)\" style=\"stroke:#000000; stroke-width:4; stroke-opacity:1; fill:none\" points=\"\n",
       "  2291.28,1487.47 2291.28,1465.87 \n",
       "  \"/>\n",
       "<polyline clip-path=\"url(#clip3800)\" style=\"stroke:#000000; stroke-width:4; stroke-opacity:1; fill:none\" points=\"\n",
       "  180.66,1447.22 213.242,1447.22 \n",
       "  \"/>\n",
       "<polyline clip-path=\"url(#clip3800)\" style=\"stroke:#000000; stroke-width:4; stroke-opacity:1; fill:none\" points=\"\n",
       "  180.66,1107.35 213.242,1107.35 \n",
       "  \"/>\n",
       "<polyline clip-path=\"url(#clip3800)\" style=\"stroke:#000000; stroke-width:4; stroke-opacity:1; fill:none\" points=\"\n",
       "  180.66,767.477 213.242,767.477 \n",
       "  \"/>\n",
       "<polyline clip-path=\"url(#clip3800)\" style=\"stroke:#000000; stroke-width:4; stroke-opacity:1; fill:none\" points=\"\n",
       "  180.66,427.605 213.242,427.605 \n",
       "  \"/>\n",
       "<polyline clip-path=\"url(#clip3800)\" style=\"stroke:#000000; stroke-width:4; stroke-opacity:1; fill:none\" points=\"\n",
       "  180.66,87.7334 213.242,87.7334 \n",
       "  \"/>\n",
       "<g clip-path=\"url(#clip3800)\">\n",
       "<text style=\"fill:#000000; fill-opacity:1; font-family:Arial,Helvetica Neue,Helvetica,sans-serif; font-size:48px; text-anchor:middle;\" transform=\"rotate(0, 242.135, 1541.47)\" x=\"242.135\" y=\"1541.47\">-5</text>\n",
       "</g>\n",
       "<g clip-path=\"url(#clip3800)\">\n",
       "<text style=\"fill:#000000; fill-opacity:1; font-family:Arial,Helvetica Neue,Helvetica,sans-serif; font-size:48px; text-anchor:middle;\" transform=\"rotate(0, 583.659, 1541.47)\" x=\"583.659\" y=\"1541.47\">-4</text>\n",
       "</g>\n",
       "<g clip-path=\"url(#clip3800)\">\n",
       "<text style=\"fill:#000000; fill-opacity:1; font-family:Arial,Helvetica Neue,Helvetica,sans-serif; font-size:48px; text-anchor:middle;\" transform=\"rotate(0, 925.184, 1541.47)\" x=\"925.184\" y=\"1541.47\">-3</text>\n",
       "</g>\n",
       "<g clip-path=\"url(#clip3800)\">\n",
       "<text style=\"fill:#000000; fill-opacity:1; font-family:Arial,Helvetica Neue,Helvetica,sans-serif; font-size:48px; text-anchor:middle;\" transform=\"rotate(0, 1266.71, 1541.47)\" x=\"1266.71\" y=\"1541.47\">-2</text>\n",
       "</g>\n",
       "<g clip-path=\"url(#clip3800)\">\n",
       "<text style=\"fill:#000000; fill-opacity:1; font-family:Arial,Helvetica Neue,Helvetica,sans-serif; font-size:48px; text-anchor:middle;\" transform=\"rotate(0, 1608.23, 1541.47)\" x=\"1608.23\" y=\"1541.47\">-1</text>\n",
       "</g>\n",
       "<g clip-path=\"url(#clip3800)\">\n",
       "<text style=\"fill:#000000; fill-opacity:1; font-family:Arial,Helvetica Neue,Helvetica,sans-serif; font-size:48px; text-anchor:middle;\" transform=\"rotate(0, 1949.76, 1541.47)\" x=\"1949.76\" y=\"1541.47\">0</text>\n",
       "</g>\n",
       "<g clip-path=\"url(#clip3800)\">\n",
       "<text style=\"fill:#000000; fill-opacity:1; font-family:Arial,Helvetica Neue,Helvetica,sans-serif; font-size:48px; text-anchor:middle;\" transform=\"rotate(0, 2291.28, 1541.47)\" x=\"2291.28\" y=\"1541.47\">1</text>\n",
       "</g>\n",
       "<g clip-path=\"url(#clip3800)\">\n",
       "<text style=\"fill:#000000; fill-opacity:1; font-family:Arial,Helvetica Neue,Helvetica,sans-serif; font-size:48px; text-anchor:end;\" transform=\"rotate(0, 156.66, 1464.72)\" x=\"156.66\" y=\"1464.72\">0.00</text>\n",
       "</g>\n",
       "<g clip-path=\"url(#clip3800)\">\n",
       "<text style=\"fill:#000000; fill-opacity:1; font-family:Arial,Helvetica Neue,Helvetica,sans-serif; font-size:48px; text-anchor:end;\" transform=\"rotate(0, 156.66, 1124.85)\" x=\"156.66\" y=\"1124.85\">0.25</text>\n",
       "</g>\n",
       "<g clip-path=\"url(#clip3800)\">\n",
       "<text style=\"fill:#000000; fill-opacity:1; font-family:Arial,Helvetica Neue,Helvetica,sans-serif; font-size:48px; text-anchor:end;\" transform=\"rotate(0, 156.66, 784.977)\" x=\"156.66\" y=\"784.977\">0.50</text>\n",
       "</g>\n",
       "<g clip-path=\"url(#clip3800)\">\n",
       "<text style=\"fill:#000000; fill-opacity:1; font-family:Arial,Helvetica Neue,Helvetica,sans-serif; font-size:48px; text-anchor:end;\" transform=\"rotate(0, 156.66, 445.105)\" x=\"156.66\" y=\"445.105\">0.75</text>\n",
       "</g>\n",
       "<g clip-path=\"url(#clip3800)\">\n",
       "<text style=\"fill:#000000; fill-opacity:1; font-family:Arial,Helvetica Neue,Helvetica,sans-serif; font-size:48px; text-anchor:end;\" transform=\"rotate(0, 156.66, 105.233)\" x=\"156.66\" y=\"105.233\">1.00</text>\n",
       "</g>\n",
       "<polyline clip-path=\"url(#clip3802)\" style=\"stroke:#009af9; stroke-width:4; stroke-opacity:1; fill:none\" points=\"\n",
       "  242.135,465.335 276.287,457.849 310.44,450.897 344.592,444.469 378.745,438.526 412.897,433.009 447.049,427.842 481.202,422.939 515.354,418.205 549.507,413.543 \n",
       "  583.659,408.851 617.812,404.027 651.964,398.97 686.117,393.576 720.269,387.746 754.421,381.386 788.574,374.411 822.726,366.748 856.879,358.343 891.031,349.162 \n",
       "  925.184,339.196 959.336,328.463 993.489,317.011 1027.64,304.913 1061.79,292.269 1095.95,279.2 1130.1,265.844 1164.25,252.347 1198.4,238.865 1232.56,225.547 \n",
       "  1266.71,212.538 1300.86,199.971 1335.01,187.962 1369.17,176.605 1403.32,165.979 1437.47,156.135 1471.62,147.108 1505.78,138.909 1539.93,131.533 1574.08,124.959 \n",
       "  1608.23,119.152 1642.39,114.07 1676.54,109.659 1710.69,105.864 1744.84,102.625 1778.99,99.8844 1813.15,97.5831 1847.3,95.666 1881.45,94.0811 1915.6,92.7807 \n",
       "  1949.76,91.7215 1983.91,90.8651 2018.06,90.1776 2052.21,89.6294 2086.37,89.1954 2120.52,88.8541 2154.67,88.5874 2188.82,88.3804 2222.98,88.2208 2257.13,88.0985 \n",
       "  2291.28,88.0053 \n",
       "  \"/>\n",
       "<polyline clip-path=\"url(#clip3802)\" style=\"stroke:#e26f46; stroke-width:4; stroke-opacity:1; fill:none\" points=\"\n",
       "  242.135,1415.97 276.287,1421.74 310.44,1426.86 344.592,1431.07 378.745,1434.22 412.897,1436.28 447.049,1437.28 481.202,1437.27 515.354,1436.28 549.507,1434.31 \n",
       "  583.659,1431.32 617.812,1427.21 651.964,1421.89 686.117,1415.17 720.269,1406.88 754.421,1396.78 788.574,1384.61 822.726,1370.09 856.879,1352.9 891.031,1332.7 \n",
       "  925.184,1309.2 959.336,1282.09 993.489,1251.16 1027.64,1216.24 1061.79,1177.3 1095.95,1134.4 1130.1,1087.75 1164.25,1037.66 1198.4,984.586 1232.56,929.076 \n",
       "  1266.71,871.772 1300.86,813.374 1335.01,754.613 1369.17,696.22 1403.32,638.902 1437.47,583.309 1471.62,530.02 1505.78,479.521 1539.93,432.199 1574.08,388.335 \n",
       "  1608.23,348.106 1642.39,311.592 1676.54,278.783 1710.69,249.593 1744.84,223.87 1778.99,201.414 1813.15,181.989 1847.3,165.334 1881.45,151.179 1915.6,139.25 \n",
       "  1949.76,129.281 1983.91,121.016 2018.06,114.219 2052.21,108.673 2086.37,104.182 2120.52,100.571 2154.67,97.6905 2188.82,95.4082 2222.98,93.6129 2257.13,92.2103 \n",
       "  2291.28,91.122 \n",
       "  \"/>\n",
       "<polyline clip-path=\"url(#clip3802)\" style=\"stroke:#3da44d; stroke-width:4; stroke-opacity:1; fill:none\" points=\"\n",
       "  242.135,1446.64 276.287,1446.39 310.44,1446.04 344.592,1445.57 378.745,1444.91 412.897,1444.03 447.049,1442.86 481.202,1441.32 515.354,1439.36 549.507,1437.04 \n",
       "  583.659,1434.67 617.812,1432.72 651.964,1431.06 686.117,1428.52 720.269,1424.02 754.421,1417.1 788.574,1407.55 822.726,1395.14 856.879,1379.56 891.031,1360.45 \n",
       "  925.184,1337.49 959.336,1310.4 993.489,1278.98 1027.64,1243.11 1061.79,1202.82 1095.95,1158.26 1130.1,1109.7 1164.25,1057.55 1198.4,1002.34 1232.56,944.707 \n",
       "  1266.71,885.342 1300.86,824.998 1335.01,764.442 1369.17,704.43 1403.32,645.677 1437.47,588.837 1471.62,534.48 1505.78,483.083 1539.93,435.014 1574.08,390.539 \n",
       "  1608.23,349.817 1642.39,312.908 1676.54,279.788 1710.69,250.353 1744.84,224.441 1778.99,201.841 1813.15,182.305 1847.3,165.567 1881.45,151.349 1915.6,139.374 \n",
       "  1949.76,129.37 1983.91,121.081 2018.06,114.266 2052.21,108.706 2086.37,104.205 2120.52,100.588 2154.67,97.7021 2188.82,95.4164 2222.98,93.6186 2257.13,92.2143 \n",
       "  2291.28,91.1247 \n",
       "  \"/>\n",
       "<polyline clip-path=\"url(#clip3802)\" style=\"stroke:#c271d2; stroke-width:4; stroke-opacity:1; fill:none\" points=\"\n",
       "  242.135,1446.71 276.287,1446.57 310.44,1446.47 344.592,1446.36 378.745,1445.97 412.897,1444.07 447.049,1446.23 481.202,1445.89 515.354,1445.15 549.507,1444.03 \n",
       "  583.659,1442.4 617.812,1440.07 651.964,1436.84 686.117,1432.41 720.269,1426.49 754.421,1418.71 788.574,1408.68 822.726,1396.01 856.879,1380.26 891.031,1361.05 \n",
       "  925.184,1338.02 959.336,1310.87 993.489,1279.39 1027.64,1243.48 1061.79,1203.14 1095.95,1158.53 1130.1,1109.93 1164.25,1057.74 1198.4,1002.5 1232.56,944.837 \n",
       "  1266.71,885.447 1300.86,825.082 1335.01,764.508 1369.17,704.48 1403.32,645.716 1437.47,588.866 1471.62,534.503 1505.78,483.099 1539.93,435.027 1574.08,390.548 \n",
       "  1608.23,349.823 1642.39,312.913 1676.54,279.791 1710.69,250.356 1744.84,224.443 1778.99,201.842 1813.15,182.306 1847.3,165.568 1881.45,151.35 1915.6,139.374 \n",
       "  1949.76,129.371 1983.91,121.081 2018.06,114.266 2052.21,108.706 2086.37,104.205 2120.52,100.588 2154.67,97.7022 2188.82,95.4164 2222.98,93.6186 2257.13,92.2143 \n",
       "  2291.28,91.1247 \n",
       "  \"/>\n",
       "<polygon clip-path=\"url(#clip3800)\" points=\"\n",
       "1989.93,433.164 2280.76,433.164 2280.76,130.764 1989.93,130.764 \n",
       "  \" fill=\"#ffffff\" fill-rule=\"evenodd\" fill-opacity=\"1\"/>\n",
       "<polyline clip-path=\"url(#clip3800)\" style=\"stroke:#000000; stroke-width:4; stroke-opacity:1; fill:none\" points=\"\n",
       "  1989.93,433.164 2280.76,433.164 2280.76,130.764 1989.93,130.764 1989.93,433.164 \n",
       "  \"/>\n",
       "<polyline clip-path=\"url(#clip3800)\" style=\"stroke:#009af9; stroke-width:4; stroke-opacity:1; fill:none\" points=\"\n",
       "  2013.93,191.244 2157.93,191.244 \n",
       "  \"/>\n",
       "<g clip-path=\"url(#clip3800)\">\n",
       "<text style=\"fill:#000000; fill-opacity:1; font-family:Arial,Helvetica Neue,Helvetica,sans-serif; font-size:48px; text-anchor:start;\" transform=\"rotate(0, 2181.93, 208.744)\" x=\"2181.93\" y=\"208.744\">y1</text>\n",
       "</g>\n",
       "<polyline clip-path=\"url(#clip3800)\" style=\"stroke:#e26f46; stroke-width:4; stroke-opacity:1; fill:none\" points=\"\n",
       "  2013.93,251.724 2157.93,251.724 \n",
       "  \"/>\n",
       "<g clip-path=\"url(#clip3800)\">\n",
       "<text style=\"fill:#000000; fill-opacity:1; font-family:Arial,Helvetica Neue,Helvetica,sans-serif; font-size:48px; text-anchor:start;\" transform=\"rotate(0, 2181.93, 269.224)\" x=\"2181.93\" y=\"269.224\">y2</text>\n",
       "</g>\n",
       "<polyline clip-path=\"url(#clip3800)\" style=\"stroke:#3da44d; stroke-width:4; stroke-opacity:1; fill:none\" points=\"\n",
       "  2013.93,312.204 2157.93,312.204 \n",
       "  \"/>\n",
       "<g clip-path=\"url(#clip3800)\">\n",
       "<text style=\"fill:#000000; fill-opacity:1; font-family:Arial,Helvetica Neue,Helvetica,sans-serif; font-size:48px; text-anchor:start;\" transform=\"rotate(0, 2181.93, 329.704)\" x=\"2181.93\" y=\"329.704\">y3</text>\n",
       "</g>\n",
       "<polyline clip-path=\"url(#clip3800)\" style=\"stroke:#c271d2; stroke-width:4; stroke-opacity:1; fill:none\" points=\"\n",
       "  2013.93,372.684 2157.93,372.684 \n",
       "  \"/>\n",
       "<g clip-path=\"url(#clip3800)\">\n",
       "<text style=\"fill:#000000; fill-opacity:1; font-family:Arial,Helvetica Neue,Helvetica,sans-serif; font-size:48px; text-anchor:start;\" transform=\"rotate(0, 2181.93, 390.184)\" x=\"2181.93\" y=\"390.184\">y4</text>\n",
       "</g>\n",
       "</svg>\n"
      ]
     },
     "execution_count": 31,
     "metadata": {},
     "output_type": "execute_result"
    }
   ],
   "source": [
    "s = -5:.1:1\n",
    "y1 = [det(I-lanczos(x,1)) for x in s]\n",
    "y2 = [det(I-lanczos(x,2)) for x in s]\n",
    "y3 = [det(I-lanczos(x,3)) for x in s]\n",
    "y4 = [det(I-lanczos(x,4)) for x in s]\n",
    "plot(s,[y1 y2 y3 y4])"
   ]
  },
  {
   "cell_type": "code",
   "execution_count": 50,
   "metadata": {},
   "outputs": [
    {
     "data": {
      "text/html": [
       "<script>\n",
       "// Immediately-invoked-function-expression to avoid global variables.\n",
       "(function() {\n",
       "    var warning_div = document.getElementById(\"webio-warning-16867991284306361128\");\n",
       "    var hide = function () {\n",
       "        var script = document.getElementById(\"webio-setup-13024426466687630603\");\n",
       "        var parent = script && script.parentElement;\n",
       "        var grandparent = parent && parent.parentElement;\n",
       "        if (grandparent) {\n",
       "            grandparent.style.display = \"none\";\n",
       "        }\n",
       "        warning_div.style.display = \"none\";\n",
       "    };\n",
       "    if (typeof Jupyter !== \"undefined\") {\n",
       "        console.log(\"WebIO detected Jupyter notebook environment.\");\n",
       "        // Jupyter notebook.\n",
       "        var extensions = (\n",
       "            Jupyter\n",
       "            && Jupyter.notebook.config.data\n",
       "            && Jupyter.notebook.config.data.load_extensions\n",
       "        );\n",
       "        if (extensions && extensions[\"webio-jupyter-notebook\"]) {\n",
       "            // Extension already loaded.\n",
       "            console.log(\"Jupyter WebIO nbextension detected; not loading ad-hoc.\");\n",
       "            hide();\n",
       "            return;\n",
       "        }\n",
       "    } else if (window.location.pathname.includes(\"/lab\")) {\n",
       "        // Guessing JupyterLa\n",
       "        console.log(\"Jupyter Lab detected; make sure the @webio/jupyter-lab-provider labextension is installed.\");\n",
       "        hide();\n",
       "        return;\n",
       "    }\n",
       "})();\n",
       "\n",
       "</script>\n",
       "<p\n",
       "    id=\"webio-warning-16867991284306361128\"\n",
       "    class=\"output_text output_stderr\"\n",
       "    style=\"padding: 1em; font-weight: bold;\"\n",
       ">\n",
       "    Unable to load WebIO. Please make sure WebIO works for your Jupyter client.\n",
       "    For troubleshooting, please see <a href=\"https://juliagizmos.github.io/WebIO.jl/latest/providers/ijulia/\">\n",
       "    the WebIO/IJulia documentation</a>.\n",
       "    <!-- TODO: link to installation docs. -->\n",
       "</p>\n"
      ],
      "text/plain": [
       "HTML{String}(\"<script>\\n// Immediately-invoked-function-expression to avoid global variables.\\n(function() {\\n    var warning_div = document.getElementById(\\\"webio-warning-16867991284306361128\\\");\\n    var hide = function () {\\n        var script = document.getElementById(\\\"webio-setup-13024426466687630603\\\");\\n        var parent = script && script.parentElement;\\n        var grandparent = parent && parent.parentElement;\\n        if (grandparent) {\\n            grandparent.style.display = \\\"none\\\";\\n        }\\n        warning_div.style.display = \\\"none\\\";\\n    };\\n    if (typeof Jupyter !== \\\"undefined\\\") {\\n        console.log(\\\"WebIO detected Jupyter notebook environment.\\\");\\n        // Jupyter notebook.\\n        var extensions = (\\n            Jupyter\\n            && Jupyter.notebook.config.data\\n            && Jupyter.notebook.config.data.load_extensions\\n        );\\n        if (extensions && extensions[\\\"webio-jupyter-notebook\\\"]) {\\n            // Extension already loaded.\\n            console.log(\\\"Jupyter WebIO nbextension detected; not loading ad-hoc.\\\");\\n            hide();\\n            return;\\n        }\\n    } else if (window.location.pathname.includes(\\\"/lab\\\")) {\\n        // Guessing JupyterLa\\n        console.log(\\\"Jupyter Lab detected; make sure the @webio/jupyter-lab-provider labextension is installed.\\\");\\n        hide();\\n        return;\\n    }\\n})();\\n\\n</script>\\n<p\\n    id=\\\"webio-warning-16867991284306361128\\\"\\n    class=\\\"output_text output_stderr\\\"\\n    style=\\\"padding: 1em; font-weight: bold;\\\"\\n>\\n    Unable to load WebIO. Please make sure WebIO works for your Jupyter client.\\n    For troubleshooting, please see <a href=\\\"https://juliagizmos.github.io/WebIO.jl/latest/providers/ijulia/\\\">\\n    the WebIO/IJulia documentation</a>.\\n    <!-- TODO: link to installation docs. -->\\n</p>\\n\")"
      ]
     },
     "metadata": {},
     "output_type": "display_data"
    }
   ],
   "source": [
    "using Interact"
   ]
  },
  {
   "cell_type": "code",
   "execution_count": 76,
   "metadata": {},
   "outputs": [
    {
     "data": {
      "application/vnd.webio.node+json": {
       "children": [
        {
         "children": [
          {
           "children": [
            {
             "children": [
              {
               "children": [
                {
                 "children": [
                  "s"
                 ],
                 "instanceArgs": {
                  "namespace": "html",
                  "tag": "label"
                 },
                 "nodeType": "DOM",
                 "props": {
                  "className": "interact ",
                  "style": {
                   "padding": "5px 10px 0px 10px"
                  }
                 },
                 "type": "node"
                }
               ],
               "instanceArgs": {
                "namespace": "html",
                "tag": "div"
               },
               "nodeType": "DOM",
               "props": {
                "className": "interact-flex-row-left"
               },
               "type": "node"
              },
              {
               "children": [
                {
                 "children": [],
                 "instanceArgs": {
                  "namespace": "html",
                  "tag": "input"
                 },
                 "nodeType": "DOM",
                 "props": {
                  "attributes": {
                   "data-bind": "numericValue: index, valueUpdate: 'input', event: {change: function (){this.changes(this.changes()+1)}}",
                   "orient": "horizontal",
                   "type": "range"
                  },
                  "className": "slider slider is-fullwidth",
                  "max": 101,
                  "min": 1,
                  "step": 1,
                  "style": {}
                 },
                 "type": "node"
                }
               ],
               "instanceArgs": {
                "namespace": "html",
                "tag": "div"
               },
               "nodeType": "DOM",
               "props": {
                "className": "interact-flex-row-center"
               },
               "type": "node"
              },
              {
               "children": [
                {
                 "children": [],
                 "instanceArgs": {
                  "namespace": "html",
                  "tag": "p"
                 },
                 "nodeType": "DOM",
                 "props": {
                  "attributes": {
                   "data-bind": "text: formatted_val"
                  }
                 },
                 "type": "node"
                }
               ],
               "instanceArgs": {
                "namespace": "html",
                "tag": "div"
               },
               "nodeType": "DOM",
               "props": {
                "className": "interact-flex-row-right"
               },
               "type": "node"
              }
             ],
             "instanceArgs": {
              "namespace": "html",
              "tag": "div"
             },
             "nodeType": "DOM",
             "props": {
              "className": "interact-flex-row interact-widget"
             },
             "type": "node"
            }
           ],
           "instanceArgs": {
            "handlers": {
             "changes": [
              "(function (val){return (val!=this.model[\"changes\"]()) ? (this.valueFromJulia[\"changes\"]=true, this.model[\"changes\"](val)) : undefined})"
             ],
             "index": [
              "(function (val){return (val!=this.model[\"index\"]()) ? (this.valueFromJulia[\"index\"]=true, this.model[\"index\"](val)) : undefined})"
             ]
            },
            "id": "2993767085698940474",
            "imports": {
             "data": [
              {
               "name": "knockout",
               "type": "js",
               "url": "/assetserver/b327bb35fde3fdc34a3743cc513d8641da41be57-knockout.js"
              },
              {
               "name": "knockout_punches",
               "type": "js",
               "url": "/assetserver/fafd688372851144045ba947dbd84da3abb05ea8-knockout_punches.js"
              },
              {
               "name": null,
               "type": "js",
               "url": "/assetserver/0951cc8e3859f1a4385b65048fc97362f372e1c3-all.js"
              },
              {
               "name": null,
               "type": "css",
               "url": "/assetserver/0254bcb16087eaf6e9df2fd5de5adc1df098653e-style.css"
              },
              {
               "name": null,
               "type": "css",
               "url": "/assetserver/f84b8fbf74436201659eff389766269ff931e73a-bulma_confined.min.css"
              }
             ],
             "type": "async_block"
            },
            "mount_callbacks": [
             "function () {\n    var handler = (function (ko, koPunches) {\n    ko.punches.enableAll();\n    ko.bindingHandlers.numericValue = {\n        init: function(element, valueAccessor, allBindings, data, context) {\n            var stringified = ko.observable(ko.unwrap(valueAccessor()));\n            stringified.subscribe(function(value) {\n                var val = parseFloat(value);\n                if (!isNaN(val)) {\n                    valueAccessor()(val);\n                }\n            });\n            valueAccessor().subscribe(function(value) {\n                var str = JSON.stringify(value);\n                if ((str == \"0\") && ([\"-0\", \"-0.\"].indexOf(stringified()) >= 0))\n                     return;\n                 if ([\"null\", \"\"].indexOf(str) >= 0)\n                     return;\n                stringified(str);\n            });\n            ko.applyBindingsToNode(\n                element,\n                {\n                    value: stringified,\n                    valueUpdate: allBindings.get('valueUpdate'),\n                },\n                context,\n            );\n        }\n    };\n    var json_data = {\"formatted_vals\":[\"-5.0\",\"-4.9\",\"-4.8\",\"-4.7\",\"-4.6\",\"-4.5\",\"-4.4\",\"-4.3\",\"-4.2\",\"-4.1\",\"-4.0\",\"-3.9\",\"-3.8\",\"-3.7\",\"-3.6\",\"-3.5\",\"-3.4\",\"-3.3\",\"-3.2\",\"-3.1\",\"-3.0\",\"-2.9\",\"-2.8\",\"-2.7\",\"-2.6\",\"-2.5\",\"-2.4\",\"-2.3\",\"-2.2\",\"-2.1\",\"-2.0\",\"-1.9\",\"-1.8\",\"-1.7\",\"-1.6\",\"-1.5\",\"-1.4\",\"-1.3\",\"-1.2\",\"-1.1\",\"-1.0\",\"-0.9\",\"-0.8\",\"-0.7\",\"-0.6\",\"-0.5\",\"-0.4\",\"-0.3\",\"-0.2\",\"-0.1\",\"0.0\",\"0.1\",\"0.2\",\"0.3\",\"0.4\",\"0.5\",\"0.6\",\"0.7\",\"0.8\",\"0.9\",\"1.0\",\"1.1\",\"1.2\",\"1.3\",\"1.4\",\"1.5\",\"1.6\",\"1.7\",\"1.8\",\"1.9\",\"2.0\",\"2.1\",\"2.2\",\"2.3\",\"2.4\",\"2.5\",\"2.6\",\"2.7\",\"2.8\",\"2.9\",\"3.0\",\"3.1\",\"3.2\",\"3.3\",\"3.4\",\"3.5\",\"3.6\",\"3.7\",\"3.8\",\"3.9\",\"4.0\",\"4.1\",\"4.2\",\"4.3\",\"4.4\",\"4.5\",\"4.6\",\"4.7\",\"4.8\",\"4.9\",\"5.0\"],\"changes\":WebIO.getval({\"name\":\"changes\",\"scope\":\"2993767085698940474\",\"id\":\"ob_96\",\"type\":\"observable\"}),\"index\":WebIO.getval({\"name\":\"index\",\"scope\":\"2993767085698940474\",\"id\":\"ob_95\",\"type\":\"observable\"})};\n    var self = this;\n    function AppViewModel() {\n        for (var key in json_data) {\n            var el = json_data[key];\n            this[key] = Array.isArray(el) ? ko.observableArray(el) : ko.observable(el);\n        }\n        \n        [this[\"formatted_val\"]=ko.computed(    function(){\n        return this.formatted_vals()[parseInt(this.index())-(1)];\n    }\n,this)]\n        [this[\"changes\"].subscribe((function (val){!(this.valueFromJulia[\"changes\"]) ? (WebIO.setval({\"name\":\"changes\",\"scope\":\"2993767085698940474\",\"id\":\"ob_96\",\"type\":\"observable\"},val)) : undefined; return this.valueFromJulia[\"changes\"]=false}),self),this[\"index\"].subscribe((function (val){!(this.valueFromJulia[\"index\"]) ? (WebIO.setval({\"name\":\"index\",\"scope\":\"2993767085698940474\",\"id\":\"ob_95\",\"type\":\"observable\"},val)) : undefined; return this.valueFromJulia[\"index\"]=false}),self)]\n        \n    }\n    self.model = new AppViewModel();\n    self.valueFromJulia = {};\n    for (var key in json_data) {\n        self.valueFromJulia[key] = false;\n    }\n    ko.applyBindings(self.model, self.dom);\n}\n);\n    (WebIO.importBlock({\"data\":[{\"name\":\"knockout\",\"type\":\"js\",\"url\":\"/assetserver/b327bb35fde3fdc34a3743cc513d8641da41be57-knockout.js\"},{\"name\":\"knockout_punches\",\"type\":\"js\",\"url\":\"/assetserver/fafd688372851144045ba947dbd84da3abb05ea8-knockout_punches.js\"}],\"type\":\"async_block\"})).then((imports) => handler.apply(this, imports));\n}\n"
            ],
            "observables": {
             "changes": {
              "id": "ob_96",
              "sync": false,
              "value": 0
             },
             "index": {
              "id": "ob_95",
              "sync": true,
              "value": 51
             }
            },
            "systemjs_options": null
           },
           "nodeType": "Scope",
           "props": {},
           "type": "node"
          }
         ],
         "instanceArgs": {
          "namespace": "html",
          "tag": "div"
         },
         "nodeType": "DOM",
         "props": {
          "className": "field interact-widget"
         },
         "type": "node"
        },
        {
         "children": [
          {
           "children": [],
           "instanceArgs": {
            "id": "ob_102",
            "name": "obs-node"
           },
           "nodeType": "ObservableNode",
           "props": {},
           "type": "node"
          }
         ],
         "instanceArgs": {
          "handlers": {},
          "id": "11221241991186515493",
          "imports": {
           "data": [],
           "type": "async_block"
          },
          "mount_callbacks": [],
          "observables": {
           "obs-node": {
            "id": "ob_102",
            "sync": false,
            "value": {
             "children": [
              {
               "children": [],
               "instanceArgs": {
                "namespace": "html",
                "tag": "div"
               },
               "nodeType": "DOM",
               "props": {
                "setInnerHtml": "<?xml version=\"1.0\" encoding=\"utf-8\"?>\n<svg xmlns=\"http://www.w3.org/2000/svg\" xmlns:xlink=\"http://www.w3.org/1999/xlink\" width=\"600\" height=\"400\" viewBox=\"0 0 2400 1600\">\n<defs>\n  <clipPath id=\"clip2600\">\n    <rect x=\"0\" y=\"0\" width=\"2400\" height=\"1600\"/>\n  </clipPath>\n</defs>\n<polygon clip-path=\"url(#clip2600)\" points=\"\n0,1600 2400,1600 2400,0 0,0 \n  \" fill=\"#ffffff\" fill-rule=\"evenodd\" fill-opacity=\"1\"/>\n<defs>\n  <clipPath id=\"clip2601\">\n    <rect x=\"480\" y=\"0\" width=\"1681\" height=\"1600\"/>\n  </clipPath>\n</defs>\n<polygon clip-path=\"url(#clip2600)\" points=\"\n153.898,1487.47 2352.76,1487.47 2352.76,47.2441 153.898,47.2441 \n  \" fill=\"#ffffff\" fill-rule=\"evenodd\" fill-opacity=\"1\"/>\n<defs>\n  <clipPath id=\"clip2602\">\n    <rect x=\"153\" y=\"47\" width=\"2200\" height=\"1441\"/>\n  </clipPath>\n</defs>\n<polyline clip-path=\"url(#clip2602)\" style=\"stroke:#000000; stroke-width:2; stroke-opacity:0.1; fill:none\" points=\"\n  173.795,1487.47 173.795,47.2441 \n  \"/>\n<polyline clip-path=\"url(#clip2602)\" style=\"stroke:#000000; stroke-width:2; stroke-opacity:0.1; fill:none\" points=\"\n  597.141,1487.47 597.141,47.2441 \n  \"/>\n<polyline clip-path=\"url(#clip2602)\" style=\"stroke:#000000; stroke-width:2; stroke-opacity:0.1; fill:none\" points=\"\n  1020.49,1487.47 1020.49,47.2441 \n  \"/>\n<polyline clip-path=\"url(#clip2602)\" style=\"stroke:#000000; stroke-width:2; stroke-opacity:0.1; fill:none\" points=\"\n  1443.83,1487.47 1443.83,47.2441 \n  \"/>\n<polyline clip-path=\"url(#clip2602)\" style=\"stroke:#000000; stroke-width:2; stroke-opacity:0.1; fill:none\" points=\"\n  1867.18,1487.47 1867.18,47.2441 \n  \"/>\n<polyline clip-path=\"url(#clip2602)\" style=\"stroke:#000000; stroke-width:2; stroke-opacity:0.1; fill:none\" points=\"\n  2290.52,1487.47 2290.52,47.2441 \n  \"/>\n<polyline clip-path=\"url(#clip2602)\" style=\"stroke:#000000; stroke-width:2; stroke-opacity:0.1; fill:none\" points=\"\n  153.898,1446.71 2352.76,1446.71 \n  \"/>\n<polyline clip-path=\"url(#clip2602)\" style=\"stroke:#000000; stroke-width:2; stroke-opacity:0.1; fill:none\" points=\"\n  153.898,1119.28 2352.76,1119.28 \n  \"/>\n<polyline clip-path=\"url(#clip2602)\" style=\"stroke:#000000; stroke-width:2; stroke-opacity:0.1; fill:none\" points=\"\n  153.898,791.838 2352.76,791.838 \n  \"/>\n<polyline clip-path=\"url(#clip2602)\" style=\"stroke:#000000; stroke-width:2; stroke-opacity:0.1; fill:none\" points=\"\n  153.898,464.401 2352.76,464.401 \n  \"/>\n<polyline clip-path=\"url(#clip2602)\" style=\"stroke:#000000; stroke-width:2; stroke-opacity:0.1; fill:none\" points=\"\n  153.898,136.963 2352.76,136.963 \n  \"/>\n<polyline clip-path=\"url(#clip2600)\" style=\"stroke:#000000; stroke-width:4; stroke-opacity:1; fill:none\" points=\"\n  153.898,1487.47 2352.76,1487.47 \n  \"/>\n<polyline clip-path=\"url(#clip2600)\" style=\"stroke:#000000; stroke-width:4; stroke-opacity:1; fill:none\" points=\"\n  153.898,1487.47 153.898,47.2441 \n  \"/>\n<polyline clip-path=\"url(#clip2600)\" style=\"stroke:#000000; stroke-width:4; stroke-opacity:1; fill:none\" points=\"\n  173.795,1487.47 173.795,1465.87 \n  \"/>\n<polyline clip-path=\"url(#clip2600)\" style=\"stroke:#000000; stroke-width:4; stroke-opacity:1; fill:none\" points=\"\n  597.141,1487.47 597.141,1465.87 \n  \"/>\n<polyline clip-path=\"url(#clip2600)\" style=\"stroke:#000000; stroke-width:4; stroke-opacity:1; fill:none\" points=\"\n  1020.49,1487.47 1020.49,1465.87 \n  \"/>\n<polyline clip-path=\"url(#clip2600)\" style=\"stroke:#000000; stroke-width:4; stroke-opacity:1; fill:none\" points=\"\n  1443.83,1487.47 1443.83,1465.87 \n  \"/>\n<polyline clip-path=\"url(#clip2600)\" style=\"stroke:#000000; stroke-width:4; stroke-opacity:1; fill:none\" points=\"\n  1867.18,1487.47 1867.18,1465.87 \n  \"/>\n<polyline clip-path=\"url(#clip2600)\" style=\"stroke:#000000; stroke-width:4; stroke-opacity:1; fill:none\" points=\"\n  2290.52,1487.47 2290.52,1465.87 \n  \"/>\n<polyline clip-path=\"url(#clip2600)\" style=\"stroke:#000000; stroke-width:4; stroke-opacity:1; fill:none\" points=\"\n  153.898,1446.71 186.881,1446.71 \n  \"/>\n<polyline clip-path=\"url(#clip2600)\" style=\"stroke:#000000; stroke-width:4; stroke-opacity:1; fill:none\" points=\"\n  153.898,1119.28 186.881,1119.28 \n  \"/>\n<polyline clip-path=\"url(#clip2600)\" style=\"stroke:#000000; stroke-width:4; stroke-opacity:1; fill:none\" points=\"\n  153.898,791.838 186.881,791.838 \n  \"/>\n<polyline clip-path=\"url(#clip2600)\" style=\"stroke:#000000; stroke-width:4; stroke-opacity:1; fill:none\" points=\"\n  153.898,464.401 186.881,464.401 \n  \"/>\n<polyline clip-path=\"url(#clip2600)\" style=\"stroke:#000000; stroke-width:4; stroke-opacity:1; fill:none\" points=\"\n  153.898,136.963 186.881,136.963 \n  \"/>\n<g clip-path=\"url(#clip2600)\">\n<text style=\"fill:#000000; fill-opacity:1; font-family:Arial,Helvetica Neue,Helvetica,sans-serif; font-size:48px; text-anchor:middle;\" transform=\"rotate(0, 173.795, 1541.47)\" x=\"173.795\" y=\"1541.47\">0</text>\n</g>\n<g clip-path=\"url(#clip2600)\">\n<text style=\"fill:#000000; fill-opacity:1; font-family:Arial,Helvetica Neue,Helvetica,sans-serif; font-size:48px; text-anchor:middle;\" transform=\"rotate(0, 597.141, 1541.47)\" x=\"597.141\" y=\"1541.47\">10</text>\n</g>\n<g clip-path=\"url(#clip2600)\">\n<text style=\"fill:#000000; fill-opacity:1; font-family:Arial,Helvetica Neue,Helvetica,sans-serif; font-size:48px; text-anchor:middle;\" transform=\"rotate(0, 1020.49, 1541.47)\" x=\"1020.49\" y=\"1541.47\">20</text>\n</g>\n<g clip-path=\"url(#clip2600)\">\n<text style=\"fill:#000000; fill-opacity:1; font-family:Arial,Helvetica Neue,Helvetica,sans-serif; font-size:48px; text-anchor:middle;\" transform=\"rotate(0, 1443.83, 1541.47)\" x=\"1443.83\" y=\"1541.47\">30</text>\n</g>\n<g clip-path=\"url(#clip2600)\">\n<text style=\"fill:#000000; fill-opacity:1; font-family:Arial,Helvetica Neue,Helvetica,sans-serif; font-size:48px; text-anchor:middle;\" transform=\"rotate(0, 1867.18, 1541.47)\" x=\"1867.18\" y=\"1541.47\">40</text>\n</g>\n<g clip-path=\"url(#clip2600)\">\n<text style=\"fill:#000000; fill-opacity:1; font-family:Arial,Helvetica Neue,Helvetica,sans-serif; font-size:48px; text-anchor:middle;\" transform=\"rotate(0, 2290.52, 1541.47)\" x=\"2290.52\" y=\"1541.47\">50</text>\n</g>\n<g clip-path=\"url(#clip2600)\">\n<text style=\"fill:#000000; fill-opacity:1; font-family:Arial,Helvetica Neue,Helvetica,sans-serif; font-size:48px; text-anchor:end;\" transform=\"rotate(0, 129.898, 1464.21)\" x=\"129.898\" y=\"1464.21\">0.0</text>\n</g>\n<g clip-path=\"url(#clip2600)\">\n<text style=\"fill:#000000; fill-opacity:1; font-family:Arial,Helvetica Neue,Helvetica,sans-serif; font-size:48px; text-anchor:end;\" transform=\"rotate(0, 129.898, 1136.78)\" x=\"129.898\" y=\"1136.78\">0.1</text>\n</g>\n<g clip-path=\"url(#clip2600)\">\n<text style=\"fill:#000000; fill-opacity:1; font-family:Arial,Helvetica Neue,Helvetica,sans-serif; font-size:48px; text-anchor:end;\" transform=\"rotate(0, 129.898, 809.338)\" x=\"129.898\" y=\"809.338\">0.2</text>\n</g>\n<g clip-path=\"url(#clip2600)\">\n<text style=\"fill:#000000; fill-opacity:1; font-family:Arial,Helvetica Neue,Helvetica,sans-serif; font-size:48px; text-anchor:end;\" transform=\"rotate(0, 129.898, 481.901)\" x=\"129.898\" y=\"481.901\">0.3</text>\n</g>\n<g clip-path=\"url(#clip2600)\">\n<text style=\"fill:#000000; fill-opacity:1; font-family:Arial,Helvetica Neue,Helvetica,sans-serif; font-size:48px; text-anchor:end;\" transform=\"rotate(0, 129.898, 154.463)\" x=\"129.898\" y=\"154.463\">0.4</text>\n</g>\n<polyline clip-path=\"url(#clip2602)\" style=\"stroke:#009af9; stroke-width:4; stroke-opacity:1; fill:none\" points=\"\n  216.13,1446.66 258.464,1445.57 300.799,1446.4 343.134,1439.9 385.468,1446.71 427.803,1446.67 470.137,1446.48 512.472,1444.67 554.806,1443.2 597.141,1442.01 \n  639.476,1445.33 681.81,1431 724.145,1446.71 766.479,1441.74 808.814,1446.71 851.148,1370.9 893.483,1407.99 935.818,1394.17 978.152,1446.71 1020.49,1446.71 \n  1062.82,1446.71 1105.16,1446.71 1147.49,88.0053 1189.83,1446.71 1232.16,1446.71 1274.49,724.974 1316.83,1446.71 1359.16,1446.71 1401.5,1444.3 1443.83,1445.98 \n  1486.17,1440.43 1528.5,1435.96 1570.84,1446.71 1613.17,1446.62 1655.51,1445.31 1697.84,1443.61 1740.17,1446.47 1782.51,1446.7 1824.84,1441.46 1867.18,1445.64 \n  1909.51,1444.41 1951.85,1445.06 1994.18,1444.28 2036.52,1445.53 2078.85,1350.61 2121.19,1339.71 2163.52,1325.62 2205.85,1306.1 2248.19,1278.51 2290.52,1132.76 \n  \n  \"/>\n<polygon clip-path=\"url(#clip2600)\" points=\"\n1973.85,251.724 2280.76,251.724 2280.76,130.764 1973.85,130.764 \n  \" fill=\"#ffffff\" fill-rule=\"evenodd\" fill-opacity=\"1\"/>\n<polyline clip-path=\"url(#clip2600)\" style=\"stroke:#000000; stroke-width:4; stroke-opacity:1; fill:none\" points=\"\n  1973.85,251.724 2280.76,251.724 2280.76,130.764 1973.85,130.764 1973.85,251.724 \n  \"/>\n<polyline clip-path=\"url(#clip2600)\" style=\"stroke:#009af9; stroke-width:4; stroke-opacity:1; fill:none\" points=\"\n  1997.85,191.244 2141.85,191.244 \n  \"/>\n<g clip-path=\"url(#clip2600)\">\n<text style=\"fill:#000000; fill-opacity:1; font-family:Arial,Helvetica Neue,Helvetica,sans-serif; font-size:48px; text-anchor:start;\" transform=\"rotate(0, 2165.85, 208.744)\" x=\"2165.85\" y=\"208.744\">0.0</text>\n</g>\n</svg>\n"
               },
               "type": "node"
              }
             ],
             "instanceArgs": {
              "namespace": "html",
              "tag": "div"
             },
             "nodeType": "DOM",
             "props": {
              "className": "interact-flex-row interact-widget"
             },
             "type": "node"
            }
           }
          },
          "systemjs_options": null
         },
         "nodeType": "Scope",
         "props": {},
         "type": "node"
        }
       ],
       "instanceArgs": {
        "namespace": "html",
        "tag": "div"
       },
       "nodeType": "DOM",
       "props": {},
       "type": "node"
      },
      "text/html": [
       "<div\n",
       "    class=\"webio-mountpoint\"\n",
       "    data-webio-mountpoint=\"528560413065605092\"\n",
       ">\n",
       "    <script>\n",
       "    if (window.require && require.defined && require.defined(\"nbextensions/webio-jupyter-notebook\")) {\n",
       "        console.log(\"Jupyter WebIO extension detected, not mounting.\");\n",
       "    } else if (window.WebIO) {\n",
       "        WebIO.mount(\n",
       "            document.querySelector('[data-webio-mountpoint=\"528560413065605092\"]'),\n",
       "            {\"props\":{},\"nodeType\":\"DOM\",\"type\":\"node\",\"instanceArgs\":{\"namespace\":\"html\",\"tag\":\"div\"},\"children\":[{\"props\":{\"className\":\"field interact-widget\"},\"nodeType\":\"DOM\",\"type\":\"node\",\"instanceArgs\":{\"namespace\":\"html\",\"tag\":\"div\"},\"children\":[{\"props\":{},\"nodeType\":\"Scope\",\"type\":\"node\",\"instanceArgs\":{\"imports\":{\"data\":[{\"name\":\"knockout\",\"type\":\"js\",\"url\":\"\\/assetserver\\/b327bb35fde3fdc34a3743cc513d8641da41be57-knockout.js\"},{\"name\":\"knockout_punches\",\"type\":\"js\",\"url\":\"\\/assetserver\\/fafd688372851144045ba947dbd84da3abb05ea8-knockout_punches.js\"},{\"name\":null,\"type\":\"js\",\"url\":\"\\/assetserver\\/0951cc8e3859f1a4385b65048fc97362f372e1c3-all.js\"},{\"name\":null,\"type\":\"css\",\"url\":\"\\/assetserver\\/0254bcb16087eaf6e9df2fd5de5adc1df098653e-style.css\"},{\"name\":null,\"type\":\"css\",\"url\":\"\\/assetserver\\/f84b8fbf74436201659eff389766269ff931e73a-bulma_confined.min.css\"}],\"type\":\"async_block\"},\"id\":\"2993767085698940474\",\"handlers\":{\"changes\":[\"(function (val){return (val!=this.model[\\\"changes\\\"]()) ? (this.valueFromJulia[\\\"changes\\\"]=true, this.model[\\\"changes\\\"](val)) : undefined})\"],\"index\":[\"(function (val){return (val!=this.model[\\\"index\\\"]()) ? (this.valueFromJulia[\\\"index\\\"]=true, this.model[\\\"index\\\"](val)) : undefined})\"]},\"systemjs_options\":null,\"mount_callbacks\":[\"function () {\\n    var handler = (function (ko, koPunches) {\\n    ko.punches.enableAll();\\n    ko.bindingHandlers.numericValue = {\\n        init: function(element, valueAccessor, allBindings, data, context) {\\n            var stringified = ko.observable(ko.unwrap(valueAccessor()));\\n            stringified.subscribe(function(value) {\\n                var val = parseFloat(value);\\n                if (!isNaN(val)) {\\n                    valueAccessor()(val);\\n                }\\n            });\\n            valueAccessor().subscribe(function(value) {\\n                var str = JSON.stringify(value);\\n                if ((str == \\\"0\\\") && ([\\\"-0\\\", \\\"-0.\\\"].indexOf(stringified()) >= 0))\\n                     return;\\n                 if ([\\\"null\\\", \\\"\\\"].indexOf(str) >= 0)\\n                     return;\\n                stringified(str);\\n            });\\n            ko.applyBindingsToNode(\\n                element,\\n                {\\n                    value: stringified,\\n                    valueUpdate: allBindings.get('valueUpdate'),\\n                },\\n                context,\\n            );\\n        }\\n    };\\n    var json_data = {\\\"formatted_vals\\\":[\\\"-5.0\\\",\\\"-4.9\\\",\\\"-4.8\\\",\\\"-4.7\\\",\\\"-4.6\\\",\\\"-4.5\\\",\\\"-4.4\\\",\\\"-4.3\\\",\\\"-4.2\\\",\\\"-4.1\\\",\\\"-4.0\\\",\\\"-3.9\\\",\\\"-3.8\\\",\\\"-3.7\\\",\\\"-3.6\\\",\\\"-3.5\\\",\\\"-3.4\\\",\\\"-3.3\\\",\\\"-3.2\\\",\\\"-3.1\\\",\\\"-3.0\\\",\\\"-2.9\\\",\\\"-2.8\\\",\\\"-2.7\\\",\\\"-2.6\\\",\\\"-2.5\\\",\\\"-2.4\\\",\\\"-2.3\\\",\\\"-2.2\\\",\\\"-2.1\\\",\\\"-2.0\\\",\\\"-1.9\\\",\\\"-1.8\\\",\\\"-1.7\\\",\\\"-1.6\\\",\\\"-1.5\\\",\\\"-1.4\\\",\\\"-1.3\\\",\\\"-1.2\\\",\\\"-1.1\\\",\\\"-1.0\\\",\\\"-0.9\\\",\\\"-0.8\\\",\\\"-0.7\\\",\\\"-0.6\\\",\\\"-0.5\\\",\\\"-0.4\\\",\\\"-0.3\\\",\\\"-0.2\\\",\\\"-0.1\\\",\\\"0.0\\\",\\\"0.1\\\",\\\"0.2\\\",\\\"0.3\\\",\\\"0.4\\\",\\\"0.5\\\",\\\"0.6\\\",\\\"0.7\\\",\\\"0.8\\\",\\\"0.9\\\",\\\"1.0\\\",\\\"1.1\\\",\\\"1.2\\\",\\\"1.3\\\",\\\"1.4\\\",\\\"1.5\\\",\\\"1.6\\\",\\\"1.7\\\",\\\"1.8\\\",\\\"1.9\\\",\\\"2.0\\\",\\\"2.1\\\",\\\"2.2\\\",\\\"2.3\\\",\\\"2.4\\\",\\\"2.5\\\",\\\"2.6\\\",\\\"2.7\\\",\\\"2.8\\\",\\\"2.9\\\",\\\"3.0\\\",\\\"3.1\\\",\\\"3.2\\\",\\\"3.3\\\",\\\"3.4\\\",\\\"3.5\\\",\\\"3.6\\\",\\\"3.7\\\",\\\"3.8\\\",\\\"3.9\\\",\\\"4.0\\\",\\\"4.1\\\",\\\"4.2\\\",\\\"4.3\\\",\\\"4.4\\\",\\\"4.5\\\",\\\"4.6\\\",\\\"4.7\\\",\\\"4.8\\\",\\\"4.9\\\",\\\"5.0\\\"],\\\"changes\\\":WebIO.getval({\\\"name\\\":\\\"changes\\\",\\\"scope\\\":\\\"2993767085698940474\\\",\\\"id\\\":\\\"ob_96\\\",\\\"type\\\":\\\"observable\\\"}),\\\"index\\\":WebIO.getval({\\\"name\\\":\\\"index\\\",\\\"scope\\\":\\\"2993767085698940474\\\",\\\"id\\\":\\\"ob_95\\\",\\\"type\\\":\\\"observable\\\"})};\\n    var self = this;\\n    function AppViewModel() {\\n        for (var key in json_data) {\\n            var el = json_data[key];\\n            this[key] = Array.isArray(el) ? ko.observableArray(el) : ko.observable(el);\\n        }\\n        \\n        [this[\\\"formatted_val\\\"]=ko.computed(    function(){\\n        return this.formatted_vals()[parseInt(this.index())-(1)];\\n    }\\n,this)]\\n        [this[\\\"changes\\\"].subscribe((function (val){!(this.valueFromJulia[\\\"changes\\\"]) ? (WebIO.setval({\\\"name\\\":\\\"changes\\\",\\\"scope\\\":\\\"2993767085698940474\\\",\\\"id\\\":\\\"ob_96\\\",\\\"type\\\":\\\"observable\\\"},val)) : undefined; return this.valueFromJulia[\\\"changes\\\"]=false}),self),this[\\\"index\\\"].subscribe((function (val){!(this.valueFromJulia[\\\"index\\\"]) ? (WebIO.setval({\\\"name\\\":\\\"index\\\",\\\"scope\\\":\\\"2993767085698940474\\\",\\\"id\\\":\\\"ob_95\\\",\\\"type\\\":\\\"observable\\\"},val)) : undefined; return this.valueFromJulia[\\\"index\\\"]=false}),self)]\\n        \\n    }\\n    self.model = new AppViewModel();\\n    self.valueFromJulia = {};\\n    for (var key in json_data) {\\n        self.valueFromJulia[key] = false;\\n    }\\n    ko.applyBindings(self.model, self.dom);\\n}\\n);\\n    (WebIO.importBlock({\\\"data\\\":[{\\\"name\\\":\\\"knockout\\\",\\\"type\\\":\\\"js\\\",\\\"url\\\":\\\"\\/assetserver\\/b327bb35fde3fdc34a3743cc513d8641da41be57-knockout.js\\\"},{\\\"name\\\":\\\"knockout_punches\\\",\\\"type\\\":\\\"js\\\",\\\"url\\\":\\\"\\/assetserver\\/fafd688372851144045ba947dbd84da3abb05ea8-knockout_punches.js\\\"}],\\\"type\\\":\\\"async_block\\\"})).then((imports) => handler.apply(this, imports));\\n}\\n\"],\"observables\":{\"changes\":{\"sync\":false,\"id\":\"ob_96\",\"value\":0},\"index\":{\"sync\":true,\"id\":\"ob_95\",\"value\":51}}},\"children\":[{\"props\":{\"className\":\"interact-flex-row interact-widget\"},\"nodeType\":\"DOM\",\"type\":\"node\",\"instanceArgs\":{\"namespace\":\"html\",\"tag\":\"div\"},\"children\":[{\"props\":{\"className\":\"interact-flex-row-left\"},\"nodeType\":\"DOM\",\"type\":\"node\",\"instanceArgs\":{\"namespace\":\"html\",\"tag\":\"div\"},\"children\":[{\"props\":{\"className\":\"interact \",\"style\":{\"padding\":\"5px 10px 0px 10px\"}},\"nodeType\":\"DOM\",\"type\":\"node\",\"instanceArgs\":{\"namespace\":\"html\",\"tag\":\"label\"},\"children\":[\"s\"]}]},{\"props\":{\"className\":\"interact-flex-row-center\"},\"nodeType\":\"DOM\",\"type\":\"node\",\"instanceArgs\":{\"namespace\":\"html\",\"tag\":\"div\"},\"children\":[{\"props\":{\"max\":101,\"min\":1,\"attributes\":{\"type\":\"range\",\"data-bind\":\"numericValue: index, valueUpdate: 'input', event: {change: function (){this.changes(this.changes()+1)}}\",\"orient\":\"horizontal\"},\"step\":1,\"className\":\"slider slider is-fullwidth\",\"style\":{}},\"nodeType\":\"DOM\",\"type\":\"node\",\"instanceArgs\":{\"namespace\":\"html\",\"tag\":\"input\"},\"children\":[]}]},{\"props\":{\"className\":\"interact-flex-row-right\"},\"nodeType\":\"DOM\",\"type\":\"node\",\"instanceArgs\":{\"namespace\":\"html\",\"tag\":\"div\"},\"children\":[{\"props\":{\"attributes\":{\"data-bind\":\"text: formatted_val\"}},\"nodeType\":\"DOM\",\"type\":\"node\",\"instanceArgs\":{\"namespace\":\"html\",\"tag\":\"p\"},\"children\":[]}]}]}]}]},{\"props\":{},\"nodeType\":\"Scope\",\"type\":\"node\",\"instanceArgs\":{\"imports\":{\"data\":[],\"type\":\"async_block\"},\"id\":\"10179749162622126765\",\"handlers\":{},\"systemjs_options\":null,\"mount_callbacks\":[],\"observables\":{\"obs-node\":{\"sync\":false,\"id\":\"ob_100\",\"value\":{\"props\":{\"className\":\"interact-flex-row interact-widget\"},\"nodeType\":\"DOM\",\"type\":\"node\",\"instanceArgs\":{\"namespace\":\"html\",\"tag\":\"div\"},\"children\":[{\"props\":{\"setInnerHtml\":\"<?xml version=\\\"1.0\\\" encoding=\\\"utf-8\\\"?>\\n<svg xmlns=\\\"http:\\/\\/www.w3.org\\/2000\\/svg\\\" xmlns:xlink=\\\"http:\\/\\/www.w3.org\\/1999\\/xlink\\\" width=\\\"600\\\" height=\\\"400\\\" viewBox=\\\"0 0 2400 1600\\\">\\n<defs>\\n  <clipPath id=\\\"clip2200\\\">\\n    <rect x=\\\"0\\\" y=\\\"0\\\" width=\\\"2400\\\" height=\\\"1600\\\"\\/>\\n  <\\/clipPath>\\n<\\/defs>\\n<polygon clip-path=\\\"url(#clip2200)\\\" points=\\\"\\n0,1600 2400,1600 2400,0 0,0 \\n  \\\" fill=\\\"#ffffff\\\" fill-rule=\\\"evenodd\\\" fill-opacity=\\\"1\\\"\\/>\\n<defs>\\n  <clipPath id=\\\"clip2201\\\">\\n    <rect x=\\\"480\\\" y=\\\"0\\\" width=\\\"1681\\\" height=\\\"1600\\\"\\/>\\n  <\\/clipPath>\\n<\\/defs>\\n<polygon clip-path=\\\"url(#clip2200)\\\" points=\\\"\\n153.898,1487.47 2352.76,1487.47 2352.76,47.2441 153.898,47.2441 \\n  \\\" fill=\\\"#ffffff\\\" fill-rule=\\\"evenodd\\\" fill-opacity=\\\"1\\\"\\/>\\n<defs>\\n  <clipPath id=\\\"clip2202\\\">\\n    <rect x=\\\"153\\\" y=\\\"47\\\" width=\\\"2200\\\" height=\\\"1441\\\"\\/>\\n  <\\/clipPath>\\n<\\/defs>\\n<polyline clip-path=\\\"url(#clip2202)\\\" style=\\\"stroke:#000000; stroke-width:2; stroke-opacity:0.1; fill:none\\\" points=\\\"\\n  173.795,1487.47 173.795,47.2441 \\n  \\\"\\/>\\n<polyline clip-path=\\\"url(#clip2202)\\\" style=\\\"stroke:#000000; stroke-width:2; stroke-opacity:0.1; fill:none\\\" points=\\\"\\n  597.141,1487.47 597.141,47.2441 \\n  \\\"\\/>\\n<polyline clip-path=\\\"url(#clip2202)\\\" style=\\\"stroke:#000000; stroke-width:2; stroke-opacity:0.1; fill:none\\\" points=\\\"\\n  1020.49,1487.47 1020.49,47.2441 \\n  \\\"\\/>\\n<polyline clip-path=\\\"url(#clip2202)\\\" style=\\\"stroke:#000000; stroke-width:2; stroke-opacity:0.1; fill:none\\\" points=\\\"\\n  1443.83,1487.47 1443.83,47.2441 \\n  \\\"\\/>\\n<polyline clip-path=\\\"url(#clip2202)\\\" style=\\\"stroke:#000000; stroke-width:2; stroke-opacity:0.1; fill:none\\\" points=\\\"\\n  1867.18,1487.47 1867.18,47.2441 \\n  \\\"\\/>\\n<polyline clip-path=\\\"url(#clip2202)\\\" style=\\\"stroke:#000000; stroke-width:2; stroke-opacity:0.1; fill:none\\\" points=\\\"\\n  2290.52,1487.47 2290.52,47.2441 \\n  \\\"\\/>\\n<polyline clip-path=\\\"url(#clip2202)\\\" style=\\\"stroke:#000000; stroke-width:2; stroke-opacity:0.1; fill:none\\\" points=\\\"\\n  153.898,1446.71 2352.76,1446.71 \\n  \\\"\\/>\\n<polyline clip-path=\\\"url(#clip2202)\\\" style=\\\"stroke:#000000; stroke-width:2; stroke-opacity:0.1; fill:none\\\" points=\\\"\\n  153.898,1119.28 2352.76,1119.28 \\n  \\\"\\/>\\n<polyline clip-path=\\\"url(#clip2202)\\\" style=\\\"stroke:#000000; stroke-width:2; stroke-opacity:0.1; fill:none\\\" points=\\\"\\n  153.898,791.838 2352.76,791.838 \\n  \\\"\\/>\\n<polyline clip-path=\\\"url(#clip2202)\\\" style=\\\"stroke:#000000; stroke-width:2; stroke-opacity:0.1; fill:none\\\" points=\\\"\\n  153.898,464.401 2352.76,464.401 \\n  \\\"\\/>\\n<polyline clip-path=\\\"url(#clip2202)\\\" style=\\\"stroke:#000000; stroke-width:2; stroke-opacity:0.1; fill:none\\\" points=\\\"\\n  153.898,136.963 2352.76,136.963 \\n  \\\"\\/>\\n<polyline clip-path=\\\"url(#clip2200)\\\" style=\\\"stroke:#000000; stroke-width:4; stroke-opacity:1; fill:none\\\" points=\\\"\\n  153.898,1487.47 2352.76,1487.47 \\n  \\\"\\/>\\n<polyline clip-path=\\\"url(#clip2200)\\\" style=\\\"stroke:#000000; stroke-width:4; stroke-opacity:1; fill:none\\\" points=\\\"\\n  153.898,1487.47 153.898,47.2441 \\n  \\\"\\/>\\n<polyline clip-path=\\\"url(#clip2200)\\\" style=\\\"stroke:#000000; stroke-width:4; stroke-opacity:1; fill:none\\\" points=\\\"\\n  173.795,1487.47 173.795,1465.87 \\n  \\\"\\/>\\n<polyline clip-path=\\\"url(#clip2200)\\\" style=\\\"stroke:#000000; stroke-width:4; stroke-opacity:1; fill:none\\\" points=\\\"\\n  597.141,1487.47 597.141,1465.87 \\n  \\\"\\/>\\n<polyline clip-path=\\\"url(#clip2200)\\\" style=\\\"stroke:#000000; stroke-width:4; stroke-opacity:1; fill:none\\\" points=\\\"\\n  1020.49,1487.47 1020.49,1465.87 \\n  \\\"\\/>\\n<polyline clip-path=\\\"url(#clip2200)\\\" style=\\\"stroke:#000000; stroke-width:4; stroke-opacity:1; fill:none\\\" points=\\\"\\n  1443.83,1487.47 1443.83,1465.87 \\n  \\\"\\/>\\n<polyline clip-path=\\\"url(#clip2200)\\\" style=\\\"stroke:#000000; stroke-width:4; stroke-opacity:1; fill:none\\\" points=\\\"\\n  1867.18,1487.47 1867.18,1465.87 \\n  \\\"\\/>\\n<polyline clip-path=\\\"url(#clip2200)\\\" style=\\\"stroke:#000000; stroke-width:4; stroke-opacity:1; fill:none\\\" points=\\\"\\n  2290.52,1487.47 2290.52,1465.87 \\n  \\\"\\/>\\n<polyline clip-path=\\\"url(#clip2200)\\\" style=\\\"stroke:#000000; stroke-width:4; stroke-opacity:1; fill:none\\\" points=\\\"\\n  153.898,1446.71 186.881,1446.71 \\n  \\\"\\/>\\n<polyline clip-path=\\\"url(#clip2200)\\\" style=\\\"stroke:#000000; stroke-width:4; stroke-opacity:1; fill:none\\\" points=\\\"\\n  153.898,1119.28 186.881,1119.28 \\n  \\\"\\/>\\n<polyline clip-path=\\\"url(#clip2200)\\\" style=\\\"stroke:#000000; stroke-width:4; stroke-opacity:1; fill:none\\\" points=\\\"\\n  153.898,791.838 186.881,791.838 \\n  \\\"\\/>\\n<polyline clip-path=\\\"url(#clip2200)\\\" style=\\\"stroke:#000000; stroke-width:4; stroke-opacity:1; fill:none\\\" points=\\\"\\n  153.898,464.401 186.881,464.401 \\n  \\\"\\/>\\n<polyline clip-path=\\\"url(#clip2200)\\\" style=\\\"stroke:#000000; stroke-width:4; stroke-opacity:1; fill:none\\\" points=\\\"\\n  153.898,136.963 186.881,136.963 \\n  \\\"\\/>\\n<g clip-path=\\\"url(#clip2200)\\\">\\n<text style=\\\"fill:#000000; fill-opacity:1; font-family:Arial,Helvetica Neue,Helvetica,sans-serif; font-size:48px; text-anchor:middle;\\\" transform=\\\"rotate(0, 173.795, 1541.47)\\\" x=\\\"173.795\\\" y=\\\"1541.47\\\">0<\\/text>\\n<\\/g>\\n<g clip-path=\\\"url(#clip2200)\\\">\\n<text style=\\\"fill:#000000; fill-opacity:1; font-family:Arial,Helvetica Neue,Helvetica,sans-serif; font-size:48px; text-anchor:middle;\\\" transform=\\\"rotate(0, 597.141, 1541.47)\\\" x=\\\"597.141\\\" y=\\\"1541.47\\\">10<\\/text>\\n<\\/g>\\n<g clip-path=\\\"url(#clip2200)\\\">\\n<text style=\\\"fill:#000000; fill-opacity:1; font-family:Arial,Helvetica Neue,Helvetica,sans-serif; font-size:48px; text-anchor:middle;\\\" transform=\\\"rotate(0, 1020.49, 1541.47)\\\" x=\\\"1020.49\\\" y=\\\"1541.47\\\">20<\\/text>\\n<\\/g>\\n<g clip-path=\\\"url(#clip2200)\\\">\\n<text style=\\\"fill:#000000; fill-opacity:1; font-family:Arial,Helvetica Neue,Helvetica,sans-serif; font-size:48px; text-anchor:middle;\\\" transform=\\\"rotate(0, 1443.83, 1541.47)\\\" x=\\\"1443.83\\\" y=\\\"1541.47\\\">30<\\/text>\\n<\\/g>\\n<g clip-path=\\\"url(#clip2200)\\\">\\n<text style=\\\"fill:#000000; fill-opacity:1; font-family:Arial,Helvetica Neue,Helvetica,sans-serif; font-size:48px; text-anchor:middle;\\\" transform=\\\"rotate(0, 1867.18, 1541.47)\\\" x=\\\"1867.18\\\" y=\\\"1541.47\\\">40<\\/text>\\n<\\/g>\\n<g clip-path=\\\"url(#clip2200)\\\">\\n<text style=\\\"fill:#000000; fill-opacity:1; font-family:Arial,Helvetica Neue,Helvetica,sans-serif; font-size:48px; text-anchor:middle;\\\" transform=\\\"rotate(0, 2290.52, 1541.47)\\\" x=\\\"2290.52\\\" y=\\\"1541.47\\\">50<\\/text>\\n<\\/g>\\n<g clip-path=\\\"url(#clip2200)\\\">\\n<text style=\\\"fill:#000000; fill-opacity:1; font-family:Arial,Helvetica Neue,Helvetica,sans-serif; font-size:48px; text-anchor:end;\\\" transform=\\\"rotate(0, 129.898, 1464.21)\\\" x=\\\"129.898\\\" y=\\\"1464.21\\\">0.0<\\/text>\\n<\\/g>\\n<g clip-path=\\\"url(#clip2200)\\\">\\n<text style=\\\"fill:#000000; fill-opacity:1; font-family:Arial,Helvetica Neue,Helvetica,sans-serif; font-size:48px; text-anchor:end;\\\" transform=\\\"rotate(0, 129.898, 1136.78)\\\" x=\\\"129.898\\\" y=\\\"1136.78\\\">0.1<\\/text>\\n<\\/g>\\n<g clip-path=\\\"url(#clip2200)\\\">\\n<text style=\\\"fill:#000000; fill-opacity:1; font-family:Arial,Helvetica Neue,Helvetica,sans-serif; font-size:48px; text-anchor:end;\\\" transform=\\\"rotate(0, 129.898, 809.338)\\\" x=\\\"129.898\\\" y=\\\"809.338\\\">0.2<\\/text>\\n<\\/g>\\n<g clip-path=\\\"url(#clip2200)\\\">\\n<text style=\\\"fill:#000000; fill-opacity:1; font-family:Arial,Helvetica Neue,Helvetica,sans-serif; font-size:48px; text-anchor:end;\\\" transform=\\\"rotate(0, 129.898, 481.901)\\\" x=\\\"129.898\\\" y=\\\"481.901\\\">0.3<\\/text>\\n<\\/g>\\n<g clip-path=\\\"url(#clip2200)\\\">\\n<text style=\\\"fill:#000000; fill-opacity:1; font-family:Arial,Helvetica Neue,Helvetica,sans-serif; font-size:48px; text-anchor:end;\\\" transform=\\\"rotate(0, 129.898, 154.463)\\\" x=\\\"129.898\\\" y=\\\"154.463\\\">0.4<\\/text>\\n<\\/g>\\n<polyline clip-path=\\\"url(#clip2202)\\\" style=\\\"stroke:#009af9; stroke-width:4; stroke-opacity:1; fill:none\\\" points=\\\"\\n  216.13,1446.66 258.464,1445.57 300.799,1446.4 343.134,1439.9 385.468,1446.71 427.803,1446.67 470.137,1446.48 512.472,1444.67 554.806,1443.2 597.141,1442.01 \\n  639.476,1445.33 681.81,1431 724.145,1446.71 766.479,1441.74 808.814,1446.71 851.148,1370.9 893.483,1407.99 935.818,1394.17 978.152,1446.71 1020.49,1446.71 \\n  1062.82,1446.71 1105.16,1446.71 1147.49,88.0053 1189.83,1446.71 1232.16,1446.71 1274.49,724.974 1316.83,1446.71 1359.16,1446.71 1401.5,1444.3 1443.83,1445.98 \\n  1486.17,1440.43 1528.5,1435.96 1570.84,1446.71 1613.17,1446.62 1655.51,1445.31 1697.84,1443.61 1740.17,1446.47 1782.51,1446.7 1824.84,1441.46 1867.18,1445.64 \\n  1909.51,1444.41 1951.85,1445.06 1994.18,1444.28 2036.52,1445.53 2078.85,1350.61 2121.19,1339.71 2163.52,1325.62 2205.85,1306.1 2248.19,1278.51 2290.52,1132.76 \\n  \\n  \\\"\\/>\\n<polygon clip-path=\\\"url(#clip2200)\\\" points=\\\"\\n1973.85,251.724 2280.76,251.724 2280.76,130.764 1973.85,130.764 \\n  \\\" fill=\\\"#ffffff\\\" fill-rule=\\\"evenodd\\\" fill-opacity=\\\"1\\\"\\/>\\n<polyline clip-path=\\\"url(#clip2200)\\\" style=\\\"stroke:#000000; stroke-width:4; stroke-opacity:1; fill:none\\\" points=\\\"\\n  1973.85,251.724 2280.76,251.724 2280.76,130.764 1973.85,130.764 1973.85,251.724 \\n  \\\"\\/>\\n<polyline clip-path=\\\"url(#clip2200)\\\" style=\\\"stroke:#009af9; stroke-width:4; stroke-opacity:1; fill:none\\\" points=\\\"\\n  1997.85,191.244 2141.85,191.244 \\n  \\\"\\/>\\n<g clip-path=\\\"url(#clip2200)\\\">\\n<text style=\\\"fill:#000000; fill-opacity:1; font-family:Arial,Helvetica Neue,Helvetica,sans-serif; font-size:48px; text-anchor:start;\\\" transform=\\\"rotate(0, 2165.85, 208.744)\\\" x=\\\"2165.85\\\" y=\\\"208.744\\\">0.0<\\/text>\\n<\\/g>\\n<\\/svg>\\n\"},\"nodeType\":\"DOM\",\"type\":\"node\",\"instanceArgs\":{\"namespace\":\"html\",\"tag\":\"div\"},\"children\":[]}]}}}},\"children\":[{\"props\":{},\"nodeType\":\"ObservableNode\",\"type\":\"node\",\"instanceArgs\":{\"id\":\"ob_100\",\"name\":\"obs-node\"},\"children\":[]}]}]},\n",
       "            window,\n",
       "        );\n",
       "    } else {\n",
       "        document\n",
       "            .querySelector('[data-webio-mountpoint=\"528560413065605092\"]')\n",
       "            .innerHTML = (\n",
       "                '<strong>WebIO not detected. Please read ' +\n",
       "                '<a href=\"https://juliagizmos.github.io/WebIO.jl/latest/troubleshooting/not-detected/\">the troubleshooting guide</a> ' +\n",
       "                'for more information on how to resolve this issue.' +\n",
       "                '</strong>'\n",
       "            );\n",
       "    }\n",
       "    </script>\n",
       "</div>\n"
      ],
      "text/plain": [
       "Node{WebIO.DOM}(WebIO.DOM(:html, :div), Any[Node{WebIO.DOM}(WebIO.DOM(:html, :div), Any[Scope(Node{WebIO.DOM}(WebIO.DOM(:html, :div), Any[Node{WebIO.DOM}(WebIO.DOM(:html, :div), Any[Node{WebIO.DOM}(WebIO.DOM(:html, :label), Any[\"s\"], Dict{Symbol,Any}(:className => \"interact \",:style => Dict{Any,Any}(:padding => \"5px 10px 0px 10px\")))], Dict{Symbol,Any}(:className => \"interact-flex-row-left\")), Node{WebIO.DOM}(WebIO.DOM(:html, :div), Any[Node{WebIO.DOM}(WebIO.DOM(:html, :input), Any[], Dict{Symbol,Any}(:max => 101,:min => 1,:attributes => Dict{Any,Any}(:type => \"range\",Symbol(\"data-bind\") => \"numericValue: index, valueUpdate: 'input', event: {change: function (){this.changes(this.changes()+1)}}\",\"orient\" => \"horizontal\"),:step => 1,:className => \"slider slider is-fullwidth\",:style => Dict{Any,Any}()))], Dict{Symbol,Any}(:className => \"interact-flex-row-center\")), Node{WebIO.DOM}(WebIO.DOM(:html, :div), Any[Node{WebIO.DOM}(WebIO.DOM(:html, :p), Any[], Dict{Symbol,Any}(:attributes => Dict(\"data-bind\" => \"text: formatted_val\")))], Dict{Symbol,Any}(:className => \"interact-flex-row-right\"))], Dict{Symbol,Any}(:className => \"interact-flex-row interact-widget\")), Dict{String,Tuple{Observables.AbstractObservable,Union{Nothing, Bool}}}(\"changes\" => (Observable{Int64} with 1 listeners. Value:\n",
       "0, nothing),\"index\" => (Observable{Any} with 2 listeners. Value:\n",
       "51, nothing)), Set(String[]), nothing, Asset[Asset(\"js\", \"knockout\", \"/Users/edelman/.julia/packages/Knockout/1sDlc/src/../assets/knockout.js\"), Asset(\"js\", \"knockout_punches\", \"/Users/edelman/.julia/packages/Knockout/1sDlc/src/../assets/knockout_punches.js\"), Asset(\"js\", nothing, \"/Users/edelman/.julia/packages/InteractBase/9mFwe/src/../assets/all.js\"), Asset(\"css\", nothing, \"/Users/edelman/.julia/packages/InteractBase/9mFwe/src/../assets/style.css\"), Asset(\"css\", nothing, \"/Users/edelman/.julia/packages/Interact/SbgIk/src/../assets/bulma_confined.min.css\")], Dict{Any,Any}(\"changes\" => Any[WebIO.JSString(\"(function (val){return (val!=this.model[\\\"changes\\\"]()) ? (this.valueFromJulia[\\\"changes\\\"]=true, this.model[\\\"changes\\\"](val)) : undefined})\")],\"index\" => Any[WebIO.JSString(\"(function (val){return (val!=this.model[\\\"index\\\"]()) ? (this.valueFromJulia[\\\"index\\\"]=true, this.model[\\\"index\\\"](val)) : undefined})\")]), WebIO.ConnectionPool(Channel{Any}(sz_max:32,sz_curr:0), Set(AbstractConnection[]), Base.GenericCondition{Base.AlwaysLockedST}(Base.InvasiveLinkedList{Task}(Task (runnable) @0x0000000129eefcd0, Task (runnable) @0x0000000129eefcd0), Base.AlwaysLockedST(1))), WebIO.JSString[WebIO.JSString(\"function () {\\n    var handler = (function (ko, koPunches) {\\n    ko.punches.enableAll();\\n    ko.bindingHandlers.numericValue = {\\n        init: function(element, valueAccessor, allBindings, data, context) {\\n            var stringified = ko.observable(ko.unwrap(valueAccessor()));\\n            stringified.subscribe(function(value) {\\n                var val = parseFloat(value);\\n                if (!isNaN(val)) {\\n                    valueAccessor()(val);\\n                }\\n            });\\n            valueAccessor().subscribe(function(value) {\\n                var str = JSON.stringify(value);\\n                if ((str == \\\"0\\\") && ([\\\"-0\\\", \\\"-0.\\\"].indexOf(stringified()) >= 0))\\n                     return;\\n                 if ([\\\"null\\\", \\\"\\\"].indexOf(str) >= 0)\\n                     return;\\n                stringified(str);\\n            });\\n            ko.applyBindingsToNode(\\n                element,\\n                {\\n                    value: stringified,\\n                    valueUpdate: allBindings.get('valueUpdate'),\\n                },\\n                context,\\n            );\\n        }\\n    };\\n    var json_data = {\\\"formatted_vals\\\":[\\\"-5.0\\\",\\\"-4.9\\\",\\\"-4.8\\\",\\\"-4.7\\\",\\\"-4.6\\\",\\\"-4.5\\\",\\\"-4.4\\\",\\\"-4.3\\\",\\\"-4.2\\\",\\\"-4.1\\\",\\\"-4.0\\\",\\\"-3.9\\\",\\\"-3.8\\\",\\\"-3.7\\\",\\\"-3.6\\\",\\\"-3.5\\\",\\\"-3.4\\\",\\\"-3.3\\\",\\\"-3.2\\\",\\\"-3.1\\\",\\\"-3.0\\\",\\\"-2.9\\\",\\\"-2.8\\\",\\\"-2.7\\\",\\\"-2.6\\\",\\\"-2.5\\\",\\\"-2.4\\\",\\\"-2.3\\\",\\\"-2.2\\\",\\\"-2.1\\\",\\\"-2.0\\\",\\\"-1.9\\\",\\\"-1.8\\\",\\\"-1.7\\\",\\\"-1.6\\\",\\\"-1.5\\\",\\\"-1.4\\\",\\\"-1.3\\\",\\\"-1.2\\\",\\\"-1.1\\\",\\\"-1.0\\\",\\\"-0.9\\\",\\\"-0.8\\\",\\\"-0.7\\\",\\\"-0.6\\\",\\\"-0.5\\\",\\\"-0.4\\\",\\\"-0.3\\\",\\\"-0.2\\\",\\\"-0.1\\\",\\\"0.0\\\",\\\"0.1\\\",\\\"0.2\\\",\\\"0.3\\\",\\\"0.4\\\",\\\"0.5\\\",\\\"0.6\\\",\\\"0.7\\\",\\\"0.8\\\",\\\"0.9\\\",\\\"1.0\\\",\\\"1.1\\\",\\\"1.2\\\",\\\"1.3\\\",\\\"1.4\\\",\\\"1.5\\\",\\\"1.6\\\",\\\"1.7\\\",\\\"1.8\\\",\\\"1.9\\\",\\\"2.0\\\",\\\"2.1\\\",\\\"2.2\\\",\\\"2.3\\\",\\\"2.4\\\",\\\"2.5\\\",\\\"2.6\\\",\\\"2.7\\\",\\\"2.8\\\",\\\"2.9\\\",\\\"3.0\\\",\\\"3.1\\\",\\\"3.2\\\",\\\"3.3\\\",\\\"3.4\\\",\\\"3.5\\\",\\\"3.6\\\",\\\"3.7\\\",\\\"3.8\\\",\\\"3.9\\\",\\\"4.0\\\",\\\"4.1\\\",\\\"4.2\\\",\\\"4.3\\\",\\\"4.4\\\",\\\"4.5\\\",\\\"4.6\\\",\\\"4.7\\\",\\\"4.8\\\",\\\"4.9\\\",\\\"5.0\\\"],\\\"changes\\\":WebIO.getval({\\\"name\\\":\\\"changes\\\",\\\"scope\\\":\\\"2993767085698940474\\\",\\\"id\\\":\\\"ob_96\\\",\\\"type\\\":\\\"observable\\\"}),\\\"index\\\":WebIO.getval({\\\"name\\\":\\\"index\\\",\\\"scope\\\":\\\"2993767085698940474\\\",\\\"id\\\":\\\"ob_95\\\",\\\"type\\\":\\\"observable\\\"})};\\n    var self = this;\\n    function AppViewModel() {\\n        for (var key in json_data) {\\n            var el = json_data[key];\\n            this[key] = Array.isArray(el) ? ko.observableArray(el) : ko.observable(el);\\n        }\\n        \\n        [this[\\\"formatted_val\\\"]=ko.computed(    function(){\\n        return this.formatted_vals()[parseInt(this.index())-(1)];\\n    }\\n,this)]\\n        [this[\\\"changes\\\"].subscribe((function (val){!(this.valueFromJulia[\\\"changes\\\"]) ? (WebIO.setval({\\\"name\\\":\\\"changes\\\",\\\"scope\\\":\\\"2993767085698940474\\\",\\\"id\\\":\\\"ob_96\\\",\\\"type\\\":\\\"observable\\\"},val)) : undefined; return this.valueFromJulia[\\\"changes\\\"]=false}),self),this[\\\"index\\\"].subscribe((function (val){!(this.valueFromJulia[\\\"index\\\"]) ? (WebIO.setval({\\\"name\\\":\\\"index\\\",\\\"scope\\\":\\\"2993767085698940474\\\",\\\"id\\\":\\\"ob_95\\\",\\\"type\\\":\\\"observable\\\"},val)) : undefined; return this.valueFromJulia[\\\"index\\\"]=false}),self)]\\n        \\n    }\\n    self.model = new AppViewModel();\\n    self.valueFromJulia = {};\\n    for (var key in json_data) {\\n        self.valueFromJulia[key] = false;\\n    }\\n    ko.applyBindings(self.model, self.dom);\\n}\\n);\\n    (WebIO.importBlock({\\\"data\\\":[{\\\"name\\\":\\\"knockout\\\",\\\"type\\\":\\\"js\\\",\\\"url\\\":\\\"/assetserver/b327bb35fde3fdc34a3743cc513d8641da41be57-knockout.js\\\"},{\\\"name\\\":\\\"knockout_punches\\\",\\\"type\\\":\\\"js\\\",\\\"url\\\":\\\"/assetserver/fafd688372851144045ba947dbd84da3abb05ea8-knockout_punches.js\\\"}],\\\"type\\\":\\\"async_block\\\"})).then((imports) => handler.apply(this, imports));\\n}\\n\")])], Dict{Symbol,Any}(:className => \"field interact-widget\")), Observable{Any} with 0 listeners. Value:\n",
       "Node{WebIO.DOM}(WebIO.DOM(:html, :div), Any[Plot{Plots.GRBackend() n=1}], Dict{Symbol,Any}(:className => \"interact-flex-row interact-widget\"))], Dict{Symbol,Any}())"
      ]
     },
     "execution_count": 76,
     "metadata": {
      "application/vnd.webio.node+json": {
       "kernelId": "acfb7b4c-e76a-4d4e-8267-1414560ce683"
      }
     },
     "output_type": "execute_result"
    }
   ],
   "source": [
    "@manipulate for s = -5:.1:5\n",
    "    q = eigvecs(lanczos(s,50,200))[1,:]\n",
    "    plot(q.^2, label=\"$(s)\")\n",
    "end"
   ]
  },
  {
   "cell_type": "code",
   "execution_count": 93,
   "metadata": {},
   "outputs": [
    {
     "data": {
      "image/svg+xml": [
       "<?xml version=\"1.0\" encoding=\"utf-8\"?>\n",
       "<svg xmlns=\"http://www.w3.org/2000/svg\" xmlns:xlink=\"http://www.w3.org/1999/xlink\" width=\"600\" height=\"400\" viewBox=\"0 0 2400 1600\">\n",
       "<defs>\n",
       "  <clipPath id=\"clip2200\">\n",
       "    <rect x=\"0\" y=\"0\" width=\"2400\" height=\"1600\"/>\n",
       "  </clipPath>\n",
       "</defs>\n",
       "<polygon clip-path=\"url(#clip2200)\" points=\"\n",
       "0,1600 2400,1600 2400,0 0,0 \n",
       "  \" fill=\"#ffffff\" fill-rule=\"evenodd\" fill-opacity=\"1\"/>\n",
       "<defs>\n",
       "  <clipPath id=\"clip2201\">\n",
       "    <rect x=\"480\" y=\"0\" width=\"1681\" height=\"1600\"/>\n",
       "  </clipPath>\n",
       "</defs>\n",
       "<polygon clip-path=\"url(#clip2200)\" points=\"\n",
       "180.66,1487.47 2352.76,1487.47 2352.76,47.2441 180.66,47.2441 \n",
       "  \" fill=\"#ffffff\" fill-rule=\"evenodd\" fill-opacity=\"1\"/>\n",
       "<defs>\n",
       "  <clipPath id=\"clip2202\">\n",
       "    <rect x=\"180\" y=\"47\" width=\"2173\" height=\"1441\"/>\n",
       "  </clipPath>\n",
       "</defs>\n",
       "<polyline clip-path=\"url(#clip2202)\" style=\"stroke:#000000; stroke-width:2; stroke-opacity:0.1; fill:none\" points=\"\n",
       "  447.049,1487.47 447.049,47.2441 \n",
       "  \"/>\n",
       "<polyline clip-path=\"url(#clip2202)\" style=\"stroke:#000000; stroke-width:2; stroke-opacity:0.1; fill:none\" points=\"\n",
       "  856.879,1487.47 856.879,47.2441 \n",
       "  \"/>\n",
       "<polyline clip-path=\"url(#clip2202)\" style=\"stroke:#000000; stroke-width:2; stroke-opacity:0.1; fill:none\" points=\"\n",
       "  1266.71,1487.47 1266.71,47.2441 \n",
       "  \"/>\n",
       "<polyline clip-path=\"url(#clip2202)\" style=\"stroke:#000000; stroke-width:2; stroke-opacity:0.1; fill:none\" points=\"\n",
       "  1676.54,1487.47 1676.54,47.2441 \n",
       "  \"/>\n",
       "<polyline clip-path=\"url(#clip2202)\" style=\"stroke:#000000; stroke-width:2; stroke-opacity:0.1; fill:none\" points=\"\n",
       "  2086.37,1487.47 2086.37,47.2441 \n",
       "  \"/>\n",
       "<polyline clip-path=\"url(#clip2202)\" style=\"stroke:#000000; stroke-width:2; stroke-opacity:0.1; fill:none\" points=\"\n",
       "  180.66,1446.71 2352.76,1446.71 \n",
       "  \"/>\n",
       "<polyline clip-path=\"url(#clip2202)\" style=\"stroke:#000000; stroke-width:2; stroke-opacity:0.1; fill:none\" points=\"\n",
       "  180.66,1106.81 2352.76,1106.81 \n",
       "  \"/>\n",
       "<polyline clip-path=\"url(#clip2202)\" style=\"stroke:#000000; stroke-width:2; stroke-opacity:0.1; fill:none\" points=\"\n",
       "  180.66,766.899 2352.76,766.899 \n",
       "  \"/>\n",
       "<polyline clip-path=\"url(#clip2202)\" style=\"stroke:#000000; stroke-width:2; stroke-opacity:0.1; fill:none\" points=\"\n",
       "  180.66,426.991 2352.76,426.991 \n",
       "  \"/>\n",
       "<polyline clip-path=\"url(#clip2202)\" style=\"stroke:#000000; stroke-width:2; stroke-opacity:0.1; fill:none\" points=\"\n",
       "  180.66,87.084 2352.76,87.084 \n",
       "  \"/>\n",
       "<polyline clip-path=\"url(#clip2200)\" style=\"stroke:#000000; stroke-width:4; stroke-opacity:1; fill:none\" points=\"\n",
       "  180.66,1487.47 2352.76,1487.47 \n",
       "  \"/>\n",
       "<polyline clip-path=\"url(#clip2200)\" style=\"stroke:#000000; stroke-width:4; stroke-opacity:1; fill:none\" points=\"\n",
       "  180.66,1487.47 180.66,47.2441 \n",
       "  \"/>\n",
       "<polyline clip-path=\"url(#clip2200)\" style=\"stroke:#000000; stroke-width:4; stroke-opacity:1; fill:none\" points=\"\n",
       "  447.049,1487.47 447.049,1465.87 \n",
       "  \"/>\n",
       "<polyline clip-path=\"url(#clip2200)\" style=\"stroke:#000000; stroke-width:4; stroke-opacity:1; fill:none\" points=\"\n",
       "  856.879,1487.47 856.879,1465.87 \n",
       "  \"/>\n",
       "<polyline clip-path=\"url(#clip2200)\" style=\"stroke:#000000; stroke-width:4; stroke-opacity:1; fill:none\" points=\"\n",
       "  1266.71,1487.47 1266.71,1465.87 \n",
       "  \"/>\n",
       "<polyline clip-path=\"url(#clip2200)\" style=\"stroke:#000000; stroke-width:4; stroke-opacity:1; fill:none\" points=\"\n",
       "  1676.54,1487.47 1676.54,1465.87 \n",
       "  \"/>\n",
       "<polyline clip-path=\"url(#clip2200)\" style=\"stroke:#000000; stroke-width:4; stroke-opacity:1; fill:none\" points=\"\n",
       "  2086.37,1487.47 2086.37,1465.87 \n",
       "  \"/>\n",
       "<polyline clip-path=\"url(#clip2200)\" style=\"stroke:#000000; stroke-width:4; stroke-opacity:1; fill:none\" points=\"\n",
       "  180.66,1446.71 213.242,1446.71 \n",
       "  \"/>\n",
       "<polyline clip-path=\"url(#clip2200)\" style=\"stroke:#000000; stroke-width:4; stroke-opacity:1; fill:none\" points=\"\n",
       "  180.66,1106.81 213.242,1106.81 \n",
       "  \"/>\n",
       "<polyline clip-path=\"url(#clip2200)\" style=\"stroke:#000000; stroke-width:4; stroke-opacity:1; fill:none\" points=\"\n",
       "  180.66,766.899 213.242,766.899 \n",
       "  \"/>\n",
       "<polyline clip-path=\"url(#clip2200)\" style=\"stroke:#000000; stroke-width:4; stroke-opacity:1; fill:none\" points=\"\n",
       "  180.66,426.991 213.242,426.991 \n",
       "  \"/>\n",
       "<polyline clip-path=\"url(#clip2200)\" style=\"stroke:#000000; stroke-width:4; stroke-opacity:1; fill:none\" points=\"\n",
       "  180.66,87.084 213.242,87.084 \n",
       "  \"/>\n",
       "<g clip-path=\"url(#clip2200)\">\n",
       "<text style=\"fill:#000000; fill-opacity:1; font-family:Arial,Helvetica Neue,Helvetica,sans-serif; font-size:48px; text-anchor:middle;\" transform=\"rotate(0, 447.049, 1541.47)\" x=\"447.049\" y=\"1541.47\">-4</text>\n",
       "</g>\n",
       "<g clip-path=\"url(#clip2200)\">\n",
       "<text style=\"fill:#000000; fill-opacity:1; font-family:Arial,Helvetica Neue,Helvetica,sans-serif; font-size:48px; text-anchor:middle;\" transform=\"rotate(0, 856.879, 1541.47)\" x=\"856.879\" y=\"1541.47\">-2</text>\n",
       "</g>\n",
       "<g clip-path=\"url(#clip2200)\">\n",
       "<text style=\"fill:#000000; fill-opacity:1; font-family:Arial,Helvetica Neue,Helvetica,sans-serif; font-size:48px; text-anchor:middle;\" transform=\"rotate(0, 1266.71, 1541.47)\" x=\"1266.71\" y=\"1541.47\">0</text>\n",
       "</g>\n",
       "<g clip-path=\"url(#clip2200)\">\n",
       "<text style=\"fill:#000000; fill-opacity:1; font-family:Arial,Helvetica Neue,Helvetica,sans-serif; font-size:48px; text-anchor:middle;\" transform=\"rotate(0, 1676.54, 1541.47)\" x=\"1676.54\" y=\"1541.47\">2</text>\n",
       "</g>\n",
       "<g clip-path=\"url(#clip2200)\">\n",
       "<text style=\"fill:#000000; fill-opacity:1; font-family:Arial,Helvetica Neue,Helvetica,sans-serif; font-size:48px; text-anchor:middle;\" transform=\"rotate(0, 2086.37, 1541.47)\" x=\"2086.37\" y=\"1541.47\">4</text>\n",
       "</g>\n",
       "<g clip-path=\"url(#clip2200)\">\n",
       "<text style=\"fill:#000000; fill-opacity:1; font-family:Arial,Helvetica Neue,Helvetica,sans-serif; font-size:48px; text-anchor:end;\" transform=\"rotate(0, 156.66, 1464.21)\" x=\"156.66\" y=\"1464.21\">0.00</text>\n",
       "</g>\n",
       "<g clip-path=\"url(#clip2200)\">\n",
       "<text style=\"fill:#000000; fill-opacity:1; font-family:Arial,Helvetica Neue,Helvetica,sans-serif; font-size:48px; text-anchor:end;\" transform=\"rotate(0, 156.66, 1124.31)\" x=\"156.66\" y=\"1124.31\">0.25</text>\n",
       "</g>\n",
       "<g clip-path=\"url(#clip2200)\">\n",
       "<text style=\"fill:#000000; fill-opacity:1; font-family:Arial,Helvetica Neue,Helvetica,sans-serif; font-size:48px; text-anchor:end;\" transform=\"rotate(0, 156.66, 784.399)\" x=\"156.66\" y=\"784.399\">0.50</text>\n",
       "</g>\n",
       "<g clip-path=\"url(#clip2200)\">\n",
       "<text style=\"fill:#000000; fill-opacity:1; font-family:Arial,Helvetica Neue,Helvetica,sans-serif; font-size:48px; text-anchor:end;\" transform=\"rotate(0, 156.66, 444.491)\" x=\"156.66\" y=\"444.491\">0.75</text>\n",
       "</g>\n",
       "<g clip-path=\"url(#clip2200)\">\n",
       "<text style=\"fill:#000000; fill-opacity:1; font-family:Arial,Helvetica Neue,Helvetica,sans-serif; font-size:48px; text-anchor:end;\" transform=\"rotate(0, 156.66, 104.584)\" x=\"156.66\" y=\"104.584\">1.00</text>\n",
       "</g>\n",
       "<polyline clip-path=\"url(#clip2202)\" style=\"stroke:#009af9; stroke-width:4; stroke-opacity:1; fill:none\" points=\"\n",
       "  242.135,88.0053 262.626,88.3221 283.118,88.7413 303.609,89.2937 324.101,90.0183 344.592,90.9641 365.084,92.1928 385.575,93.7805 406.066,95.8211 426.558,98.4287 \n",
       "  447.049,101.741 467.541,105.921 488.032,111.162 508.524,117.685 529.015,125.741 549.507,135.612 569.998,147.602 590.49,162.034 610.981,179.238 631.473,199.539 \n",
       "  651.964,223.241 672.456,250.607 692.947,281.839 713.438,317.061 733.93,356.298 754.421,399.461 774.913,446.345 795.404,496.618 815.896,549.835 836.387,605.444 \n",
       "  856.879,662.813 877.37,721.247 897.862,780.023 918.353,838.414 938.845,895.72 959.336,951.294 979.828,1004.56 1000.32,1055.04 1020.81,1102.34 1041.3,1146.19 \n",
       "  1061.79,1186.4 1082.28,1222.9 1102.78,1255.7 1123.27,1284.88 1143.76,1310.59 1164.25,1333.04 1184.74,1352.47 1205.23,1369.12 1225.73,1383.27 1246.22,1395.2 \n",
       "  1266.71,1405.17 1287.2,1413.43 1307.69,1420.23 1328.18,1425.77 1348.67,1430.27 1369.17,1433.88 1389.66,1436.76 1410.15,1439.04 1430.64,1440.83 1451.13,1442.24 \n",
       "  1471.62,1443.32 1492.11,1444.16 1512.61,1444.81 1533.1,1445.29 1553.59,1445.66 1574.08,1445.94 1594.57,1446.15 1615.06,1446.3 1635.55,1446.42 1656.05,1446.5 \n",
       "  1676.54,1446.56 1697.03,1446.6 1717.52,1446.64 1738.01,1446.66 1758.5,1446.68 1778.99,1446.69 1799.49,1446.7 1819.98,1446.7 1840.47,1446.7 1860.96,1446.71 \n",
       "  1881.45,1446.71 1901.94,1446.71 1922.44,1446.71 1942.93,1446.71 1963.42,1446.71 1983.91,1446.71 2004.4,1446.71 2024.89,1446.71 2045.38,1446.71 2065.88,1446.71 \n",
       "  2086.37,1446.71 2106.86,1446.71 2127.35,1446.71 2147.84,1446.71 2168.33,1446.71 2188.82,1446.71 2209.32,1446.71 2229.81,1446.71 2250.3,1446.71 2270.79,1446.71 \n",
       "  2291.28,1446.71 \n",
       "  \"/>\n",
       "<polyline clip-path=\"url(#clip2202)\" style=\"stroke:#e26f46; stroke-width:4; stroke-opacity:1; fill:none\" points=\"\n",
       "  242.135,160.231 262.626,179.27 283.118,202.273 303.609,229.714 324.101,262.011 344.592,299.483 365.084,342.31 385.575,390.492 406.066,443.818 426.558,501.852 \n",
       "  447.049,563.935 467.541,629.198 488.032,696.61 508.524,765.028 529.015,833.263 549.507,900.148 569.998,964.606 590.49,1025.7 610.981,1082.69 631.473,1135.01 \n",
       "  651.964,1182.34 672.456,1224.54 692.947,1261.66 713.438,1293.88 733.93,1321.52 754.421,1344.95 774.913,1364.61 795.404,1380.93 815.896,1394.35 836.387,1405.3 \n",
       "  856.879,1414.15 877.37,1421.26 897.862,1426.92 918.353,1431.41 938.845,1434.93 959.336,1437.69 979.828,1439.84 1000.32,1441.49 1020.81,1442.77 1041.3,1443.75 \n",
       "  1061.79,1444.49 1082.28,1445.06 1102.78,1445.48 1123.27,1445.8 1143.76,1446.04 1164.25,1446.22 1184.74,1446.35 1205.23,1446.45 1225.73,1446.52 1246.22,1446.58 \n",
       "  1266.71,1446.62 1287.2,1446.64 1307.69,1446.66 1328.18,1446.68 1348.67,1446.69 1369.17,1446.7 1389.66,1446.7 1410.15,1446.7 1430.64,1446.71 1451.13,1446.71 \n",
       "  1471.62,1446.71 1492.11,1446.71 1512.61,1446.71 1533.1,1446.71 1553.59,1446.71 1574.08,1446.71 1594.57,1446.71 1615.06,1446.71 1635.55,1446.71 1656.05,1446.71 \n",
       "  1676.54,1446.71 1697.03,1446.71 1717.52,1446.71 1738.01,1446.71 1758.5,1446.71 1778.99,1446.71 1799.49,1446.71 1819.98,1446.71 1840.47,1446.71 1860.96,1446.71 \n",
       "  1881.45,1446.71 1901.94,1446.71 1922.44,1446.71 1942.93,1446.71 1963.42,1446.71 1983.91,1446.71 2004.4,1446.71 2024.89,1446.71 2045.38,1446.71 2065.88,1446.71 \n",
       "  2086.37,1446.71 2106.86,1446.71 2127.35,1446.71 2147.84,1446.71 2168.33,1446.71 2188.82,1446.71 2209.32,1446.71 2229.81,1446.71 2250.3,1446.71 2270.79,1446.71 \n",
       "  2291.28,1446.71 \n",
       "  \"/>\n",
       "<polyline clip-path=\"url(#clip2202)\" style=\"stroke:#3da44d; stroke-width:4; stroke-opacity:1; fill:none\" points=\"\n",
       "  242.135,903.058 262.626,973.146 283.118,1039.09 303.609,1099.94 324.101,1155.06 344.592,1204.1 365.084,1247.01 385.575,1283.96 406.066,1315.32 426.558,1341.56 \n",
       "  447.049,1363.26 467.541,1380.98 488.032,1395.31 508.524,1406.78 529.015,1415.88 549.507,1423.04 569.998,1428.64 590.49,1432.98 610.981,1436.33 631.473,1438.9 \n",
       "  651.964,1440.86 672.456,1442.34 692.947,1443.47 713.438,1444.31 733.93,1444.94 754.421,1445.41 774.913,1445.76 795.404,1446.02 815.896,1446.21 836.387,1446.35 \n",
       "  856.879,1446.45 877.37,1446.52 897.862,1446.58 918.353,1446.62 938.845,1446.64 959.336,1446.66 979.828,1446.68 1000.32,1446.69 1020.81,1446.7 1041.3,1446.7 \n",
       "  1061.79,1446.71 1082.28,1446.71 1102.78,1446.71 1123.27,1446.71 1143.76,1446.71 1164.25,1446.71 1184.74,1446.71 1205.23,1446.71 1225.73,1446.71 1246.22,1446.71 \n",
       "  1266.71,1446.71 1287.2,1446.71 1307.69,1446.71 1328.18,1446.71 1348.67,1446.71 1369.17,1446.71 1389.66,1446.71 1410.15,1446.71 1430.64,1446.71 1451.13,1446.71 \n",
       "  1471.62,1446.71 1492.11,1446.71 1512.61,1446.71 1533.1,1446.71 1553.59,1446.71 1574.08,1446.71 1594.57,1446.71 1615.06,1446.71 1635.55,1446.71 1656.05,1446.71 \n",
       "  1676.54,1446.71 1697.03,1446.71 1717.52,1446.71 1738.01,1446.71 1758.5,1446.71 1778.99,1446.71 1799.49,1446.71 1819.98,1446.71 1840.47,1446.71 1860.96,1446.71 \n",
       "  1881.45,1446.71 1901.94,1446.71 1922.44,1446.71 1942.93,1446.71 1963.42,1446.71 1983.91,1446.71 2004.4,1446.71 2024.89,1446.71 2045.38,1446.71 2065.88,1446.71 \n",
       "  2086.37,1446.71 2106.86,1446.71 2127.35,1446.71 2147.84,1446.71 2168.33,1446.71 2188.82,1446.71 2209.32,1446.71 2229.81,1446.71 2250.3,1446.71 2270.79,1446.71 \n",
       "  2291.28,1446.71 \n",
       "  \"/>\n",
       "<polyline clip-path=\"url(#clip2202)\" style=\"stroke:#c271d2; stroke-width:4; stroke-opacity:1; fill:none\" points=\"\n",
       "  242.135,1415.01 262.626,1422.7 283.118,1428.63 303.609,1433.16 324.101,1436.61 344.592,1439.22 365.084,1441.17 385.575,1442.64 406.066,1443.72 426.558,1444.53 \n",
       "  447.049,1445.13 467.541,1445.56 488.032,1445.88 508.524,1446.11 529.015,1446.28 549.507,1446.41 569.998,1446.49 590.49,1446.56 610.981,1446.6 631.473,1446.64 \n",
       "  651.964,1446.66 672.456,1446.67 692.947,1446.69 713.438,1446.69 733.93,1446.7 754.421,1446.7 774.913,1446.71 795.404,1446.71 815.896,1446.71 836.387,1446.71 \n",
       "  856.879,1446.71 877.37,1446.71 897.862,1446.71 918.353,1446.71 938.845,1446.71 959.336,1446.71 979.828,1446.71 1000.32,1446.71 1020.81,1446.71 1041.3,1446.71 \n",
       "  1061.79,1446.71 1082.28,1446.71 1102.78,1446.71 1123.27,1446.71 1143.76,1446.71 1164.25,1446.71 1184.74,1446.71 1205.23,1446.71 1225.73,1446.71 1246.22,1446.71 \n",
       "  1266.71,1446.71 1287.2,1446.71 1307.69,1446.71 1328.18,1446.71 1348.67,1446.71 1369.17,1446.71 1389.66,1446.71 1410.15,1446.71 1430.64,1446.71 1451.13,1446.71 \n",
       "  1471.62,1446.71 1492.11,1446.71 1512.61,1446.71 1533.1,1446.71 1553.59,1446.71 1574.08,1446.71 1594.57,1446.71 1615.06,1446.71 1635.55,1446.71 1656.05,1446.71 \n",
       "  1676.54,1446.71 1697.03,1446.71 1717.52,1446.71 1738.01,1446.71 1758.5,1446.71 1778.99,1446.71 1799.49,1446.71 1819.98,1446.71 1840.47,1446.71 1860.96,1446.71 \n",
       "  1881.45,1446.71 1901.94,1446.71 1922.44,1446.71 1942.93,1446.71 1963.42,1446.71 1983.91,1446.71 2004.4,1446.71 2024.89,1446.71 2045.38,1446.71 2065.88,1446.71 \n",
       "  2086.37,1446.71 2106.86,1446.71 2127.35,1446.71 2147.84,1446.71 2168.33,1446.71 2188.82,1446.71 2209.32,1446.71 2229.81,1446.71 2250.3,1446.71 2270.79,1446.71 \n",
       "  2291.28,1446.71 \n",
       "  \"/>\n",
       "<polygon clip-path=\"url(#clip2200)\" points=\"\n",
       "1989.93,433.164 2280.76,433.164 2280.76,130.764 1989.93,130.764 \n",
       "  \" fill=\"#ffffff\" fill-rule=\"evenodd\" fill-opacity=\"1\"/>\n",
       "<polyline clip-path=\"url(#clip2200)\" style=\"stroke:#000000; stroke-width:4; stroke-opacity:1; fill:none\" points=\"\n",
       "  1989.93,433.164 2280.76,433.164 2280.76,130.764 1989.93,130.764 1989.93,433.164 \n",
       "  \"/>\n",
       "<polyline clip-path=\"url(#clip2200)\" style=\"stroke:#009af9; stroke-width:4; stroke-opacity:1; fill:none\" points=\"\n",
       "  2013.93,191.244 2157.93,191.244 \n",
       "  \"/>\n",
       "<g clip-path=\"url(#clip2200)\">\n",
       "<text style=\"fill:#000000; fill-opacity:1; font-family:Arial,Helvetica Neue,Helvetica,sans-serif; font-size:48px; text-anchor:start;\" transform=\"rotate(0, 2181.93, 208.744)\" x=\"2181.93\" y=\"208.744\">y1</text>\n",
       "</g>\n",
       "<polyline clip-path=\"url(#clip2200)\" style=\"stroke:#e26f46; stroke-width:4; stroke-opacity:1; fill:none\" points=\"\n",
       "  2013.93,251.724 2157.93,251.724 \n",
       "  \"/>\n",
       "<g clip-path=\"url(#clip2200)\">\n",
       "<text style=\"fill:#000000; fill-opacity:1; font-family:Arial,Helvetica Neue,Helvetica,sans-serif; font-size:48px; text-anchor:start;\" transform=\"rotate(0, 2181.93, 269.224)\" x=\"2181.93\" y=\"269.224\">y2</text>\n",
       "</g>\n",
       "<polyline clip-path=\"url(#clip2200)\" style=\"stroke:#3da44d; stroke-width:4; stroke-opacity:1; fill:none\" points=\"\n",
       "  2013.93,312.204 2157.93,312.204 \n",
       "  \"/>\n",
       "<g clip-path=\"url(#clip2200)\">\n",
       "<text style=\"fill:#000000; fill-opacity:1; font-family:Arial,Helvetica Neue,Helvetica,sans-serif; font-size:48px; text-anchor:start;\" transform=\"rotate(0, 2181.93, 329.704)\" x=\"2181.93\" y=\"329.704\">y3</text>\n",
       "</g>\n",
       "<polyline clip-path=\"url(#clip2200)\" style=\"stroke:#c271d2; stroke-width:4; stroke-opacity:1; fill:none\" points=\"\n",
       "  2013.93,372.684 2157.93,372.684 \n",
       "  \"/>\n",
       "<g clip-path=\"url(#clip2200)\">\n",
       "<text style=\"fill:#000000; fill-opacity:1; font-family:Arial,Helvetica Neue,Helvetica,sans-serif; font-size:48px; text-anchor:start;\" transform=\"rotate(0, 2181.93, 390.184)\" x=\"2181.93\" y=\"390.184\">y4</text>\n",
       "</g>\n",
       "</svg>\n"
      ]
     },
     "execution_count": 93,
     "metadata": {},
     "output_type": "execute_result"
    }
   ],
   "source": [
    "s = -5:.1:5\n",
    "y = [eigvals(lanczos(x)) for x in s]\n",
    "plot(s,[yy[10] for yy in y])\n",
    "plot!(s,[yy[9] for yy in y])\n",
    "plot!(s,[yy[8] for yy in y])\n",
    "plot!(s,[yy[7] for yy in y])"
   ]
  },
  {
   "cell_type": "code",
   "execution_count": 103,
   "metadata": {},
   "outputs": [
    {
     "data": {
      "image/svg+xml": [
       "<?xml version=\"1.0\" encoding=\"utf-8\"?>\n",
       "<svg xmlns=\"http://www.w3.org/2000/svg\" xmlns:xlink=\"http://www.w3.org/1999/xlink\" width=\"600\" height=\"400\" viewBox=\"0 0 2400 1600\">\n",
       "<defs>\n",
       "  <clipPath id=\"clip5800\">\n",
       "    <rect x=\"0\" y=\"0\" width=\"2400\" height=\"1600\"/>\n",
       "  </clipPath>\n",
       "</defs>\n",
       "<polygon clip-path=\"url(#clip5800)\" points=\"\n",
       "0,1600 2400,1600 2400,0 0,0 \n",
       "  \" fill=\"#ffffff\" fill-rule=\"evenodd\" fill-opacity=\"1\"/>\n",
       "<defs>\n",
       "  <clipPath id=\"clip5801\">\n",
       "    <rect x=\"480\" y=\"0\" width=\"1681\" height=\"1600\"/>\n",
       "  </clipPath>\n",
       "</defs>\n",
       "<polygon clip-path=\"url(#clip5800)\" points=\"\n",
       "195.389,1487.47 2352.76,1487.47 2352.76,47.2441 195.389,47.2441 \n",
       "  \" fill=\"#ffffff\" fill-rule=\"evenodd\" fill-opacity=\"1\"/>\n",
       "<defs>\n",
       "  <clipPath id=\"clip5802\">\n",
       "    <rect x=\"195\" y=\"47\" width=\"2158\" height=\"1441\"/>\n",
       "  </clipPath>\n",
       "</defs>\n",
       "<polyline clip-path=\"url(#clip5802)\" style=\"stroke:#000000; stroke-width:2; stroke-opacity:0.1; fill:none\" points=\"\n",
       "  547.197,1487.47 547.197,47.2441 \n",
       "  \"/>\n",
       "<polyline clip-path=\"url(#clip5802)\" style=\"stroke:#000000; stroke-width:2; stroke-opacity:0.1; fill:none\" points=\"\n",
       "  1128.7,1487.47 1128.7,47.2441 \n",
       "  \"/>\n",
       "<polyline clip-path=\"url(#clip5802)\" style=\"stroke:#000000; stroke-width:2; stroke-opacity:0.1; fill:none\" points=\"\n",
       "  1710.2,1487.47 1710.2,47.2441 \n",
       "  \"/>\n",
       "<polyline clip-path=\"url(#clip5802)\" style=\"stroke:#000000; stroke-width:2; stroke-opacity:0.1; fill:none\" points=\"\n",
       "  2291.7,1487.47 2291.7,47.2441 \n",
       "  \"/>\n",
       "<polyline clip-path=\"url(#clip5802)\" style=\"stroke:#000000; stroke-width:2; stroke-opacity:0.1; fill:none\" points=\"\n",
       "  195.389,1294.83 2352.76,1294.83 \n",
       "  \"/>\n",
       "<polyline clip-path=\"url(#clip5802)\" style=\"stroke:#000000; stroke-width:2; stroke-opacity:0.1; fill:none\" points=\"\n",
       "  195.389,993.126 2352.76,993.126 \n",
       "  \"/>\n",
       "<polyline clip-path=\"url(#clip5802)\" style=\"stroke:#000000; stroke-width:2; stroke-opacity:0.1; fill:none\" points=\"\n",
       "  195.389,691.418 2352.76,691.418 \n",
       "  \"/>\n",
       "<polyline clip-path=\"url(#clip5802)\" style=\"stroke:#000000; stroke-width:2; stroke-opacity:0.1; fill:none\" points=\"\n",
       "  195.389,389.71 2352.76,389.71 \n",
       "  \"/>\n",
       "<polyline clip-path=\"url(#clip5802)\" style=\"stroke:#000000; stroke-width:2; stroke-opacity:0.1; fill:none\" points=\"\n",
       "  195.389,88.0018 2352.76,88.0018 \n",
       "  \"/>\n",
       "<polyline clip-path=\"url(#clip5800)\" style=\"stroke:#000000; stroke-width:4; stroke-opacity:1; fill:none\" points=\"\n",
       "  195.389,1487.47 2352.76,1487.47 \n",
       "  \"/>\n",
       "<polyline clip-path=\"url(#clip5800)\" style=\"stroke:#000000; stroke-width:4; stroke-opacity:1; fill:none\" points=\"\n",
       "  195.389,1487.47 195.389,47.2441 \n",
       "  \"/>\n",
       "<polyline clip-path=\"url(#clip5800)\" style=\"stroke:#000000; stroke-width:4; stroke-opacity:1; fill:none\" points=\"\n",
       "  547.197,1487.47 547.197,1465.87 \n",
       "  \"/>\n",
       "<polyline clip-path=\"url(#clip5800)\" style=\"stroke:#000000; stroke-width:4; stroke-opacity:1; fill:none\" points=\"\n",
       "  1128.7,1487.47 1128.7,1465.87 \n",
       "  \"/>\n",
       "<polyline clip-path=\"url(#clip5800)\" style=\"stroke:#000000; stroke-width:4; stroke-opacity:1; fill:none\" points=\"\n",
       "  1710.2,1487.47 1710.2,1465.87 \n",
       "  \"/>\n",
       "<polyline clip-path=\"url(#clip5800)\" style=\"stroke:#000000; stroke-width:4; stroke-opacity:1; fill:none\" points=\"\n",
       "  2291.7,1487.47 2291.7,1465.87 \n",
       "  \"/>\n",
       "<polyline clip-path=\"url(#clip5800)\" style=\"stroke:#000000; stroke-width:4; stroke-opacity:1; fill:none\" points=\"\n",
       "  195.389,1294.83 227.75,1294.83 \n",
       "  \"/>\n",
       "<polyline clip-path=\"url(#clip5800)\" style=\"stroke:#000000; stroke-width:4; stroke-opacity:1; fill:none\" points=\"\n",
       "  195.389,993.126 227.75,993.126 \n",
       "  \"/>\n",
       "<polyline clip-path=\"url(#clip5800)\" style=\"stroke:#000000; stroke-width:4; stroke-opacity:1; fill:none\" points=\"\n",
       "  195.389,691.418 227.75,691.418 \n",
       "  \"/>\n",
       "<polyline clip-path=\"url(#clip5800)\" style=\"stroke:#000000; stroke-width:4; stroke-opacity:1; fill:none\" points=\"\n",
       "  195.389,389.71 227.75,389.71 \n",
       "  \"/>\n",
       "<polyline clip-path=\"url(#clip5800)\" style=\"stroke:#000000; stroke-width:4; stroke-opacity:1; fill:none\" points=\"\n",
       "  195.389,88.0018 227.75,88.0018 \n",
       "  \"/>\n",
       "<g clip-path=\"url(#clip5800)\">\n",
       "<text style=\"fill:#000000; fill-opacity:1; font-family:Arial,Helvetica Neue,Helvetica,sans-serif; font-size:48px; text-anchor:middle;\" transform=\"rotate(0, 547.197, 1541.47)\" x=\"547.197\" y=\"1541.47\">0</text>\n",
       "</g>\n",
       "<g clip-path=\"url(#clip5800)\">\n",
       "<text style=\"fill:#000000; fill-opacity:1; font-family:Arial,Helvetica Neue,Helvetica,sans-serif; font-size:48px; text-anchor:middle;\" transform=\"rotate(0, 1128.7, 1541.47)\" x=\"1128.7\" y=\"1541.47\">10</text>\n",
       "</g>\n",
       "<g clip-path=\"url(#clip5800)\">\n",
       "<text style=\"fill:#000000; fill-opacity:1; font-family:Arial,Helvetica Neue,Helvetica,sans-serif; font-size:48px; text-anchor:middle;\" transform=\"rotate(0, 1710.2, 1541.47)\" x=\"1710.2\" y=\"1541.47\">20</text>\n",
       "</g>\n",
       "<g clip-path=\"url(#clip5800)\">\n",
       "<text style=\"fill:#000000; fill-opacity:1; font-family:Arial,Helvetica Neue,Helvetica,sans-serif; font-size:48px; text-anchor:middle;\" transform=\"rotate(0, 2291.7, 1541.47)\" x=\"2291.7\" y=\"1541.47\">30</text>\n",
       "</g>\n",
       "<g clip-path=\"url(#clip5800)\">\n",
       "<text style=\"fill:#000000; fill-opacity:1; font-family:Arial,Helvetica Neue,Helvetica,sans-serif; font-size:48px; text-anchor:end;\" transform=\"rotate(0, 171.389, 1312.33)\" x=\"171.389\" y=\"1312.33\">-100</text>\n",
       "</g>\n",
       "<g clip-path=\"url(#clip5800)\">\n",
       "<text style=\"fill:#000000; fill-opacity:1; font-family:Arial,Helvetica Neue,Helvetica,sans-serif; font-size:48px; text-anchor:end;\" transform=\"rotate(0, 171.389, 1010.63)\" x=\"171.389\" y=\"1010.63\">-75</text>\n",
       "</g>\n",
       "<g clip-path=\"url(#clip5800)\">\n",
       "<text style=\"fill:#000000; fill-opacity:1; font-family:Arial,Helvetica Neue,Helvetica,sans-serif; font-size:48px; text-anchor:end;\" transform=\"rotate(0, 171.389, 708.918)\" x=\"171.389\" y=\"708.918\">-50</text>\n",
       "</g>\n",
       "<g clip-path=\"url(#clip5800)\">\n",
       "<text style=\"fill:#000000; fill-opacity:1; font-family:Arial,Helvetica Neue,Helvetica,sans-serif; font-size:48px; text-anchor:end;\" transform=\"rotate(0, 171.389, 407.21)\" x=\"171.389\" y=\"407.21\">-25</text>\n",
       "</g>\n",
       "<g clip-path=\"url(#clip5800)\">\n",
       "<text style=\"fill:#000000; fill-opacity:1; font-family:Arial,Helvetica Neue,Helvetica,sans-serif; font-size:48px; text-anchor:end;\" transform=\"rotate(0, 171.389, 105.502)\" x=\"171.389\" y=\"105.502\">0</text>\n",
       "</g>\n",
       "<polyline clip-path=\"url(#clip5802)\" style=\"stroke:#009af9; stroke-width:4; stroke-opacity:1; fill:none\" points=\"\n",
       "  256.447,88.0053 262.262,88.0066 268.077,88.0082 273.892,88.0103 279.707,88.0131 285.522,88.0168 291.337,88.0215 297.152,88.0277 302.967,88.0356 308.782,88.0457 \n",
       "  314.597,88.0586 320.412,88.0749 326.227,88.0954 332.042,88.1211 337.857,88.153 343.672,88.1923 349.487,88.2404 355.302,88.299 361.117,88.3696 366.932,88.4543 \n",
       "  372.747,88.5548 378.562,88.6734 384.377,88.8121 390.192,88.973 396.007,89.1583 401.822,89.37 407.637,89.61 413.452,89.8803 419.267,90.1824 425.082,90.5179 \n",
       "  430.897,90.888 436.712,91.2941 442.527,91.7369 448.342,92.2173 454.157,92.7359 459.972,93.2931 465.787,93.8893 471.602,94.5247 477.417,95.1992 483.232,95.913 \n",
       "  489.047,96.6659 494.862,97.4577 500.677,98.2882 506.492,99.1571 512.307,100.064 518.122,101.009 523.937,101.991 529.752,103.01 535.567,104.065 541.382,105.157 \n",
       "  547.197,106.284 553.012,107.446 558.827,108.643 564.642,109.875 570.457,111.14 576.272,112.439 582.087,113.771 587.902,115.135 593.717,116.532 599.532,117.96 \n",
       "  605.347,119.42 611.162,120.911 616.977,122.432 622.792,123.984 628.607,125.565 634.422,127.176 640.237,128.817 646.052,130.486 651.867,132.183 657.682,133.909 \n",
       "  663.497,135.662 669.312,137.443 675.127,139.252 680.942,141.087 686.757,142.949 692.572,144.837 698.387,146.751 704.202,148.692 710.017,150.658 715.832,152.649 \n",
       "  721.647,154.665 727.462,156.706 733.277,158.772 739.092,160.862 744.907,162.976 750.722,165.115 756.537,167.277 762.352,169.462 768.167,171.671 773.982,173.903 \n",
       "  779.797,176.158 785.612,178.435 791.427,180.736 797.242,183.058 803.057,185.403 808.872,187.769 814.687,190.158 820.502,192.568 826.317,195 832.132,197.453 \n",
       "  837.947,199.927 843.762,202.422 849.577,204.938 855.392,207.475 861.207,210.033 867.022,212.61 872.837,215.208 878.652,217.827 884.467,220.465 890.282,223.123 \n",
       "  896.097,225.801 901.912,228.499 907.727,231.216 913.542,233.952 919.357,236.708 925.172,239.483 930.987,242.277 936.802,245.089 942.617,247.921 948.432,250.771 \n",
       "  954.247,253.64 960.062,256.527 965.877,259.433 971.692,262.357 977.507,265.299 983.322,268.259 989.137,271.237 994.952,274.232 1000.77,277.246 1006.58,280.277 \n",
       "  1012.4,283.326 1018.21,286.392 1024.03,289.476 1029.84,292.577 1035.66,295.695 1041.47,298.83 1047.29,301.982 1053.1,305.151 1058.92,308.337 1064.73,311.54 \n",
       "  1070.55,314.76 1076.36,317.996 1082.18,321.248 1087.99,324.518 1093.81,327.803 1099.62,331.105 1105.44,334.423 1111.25,337.757 1117.07,341.107 1122.88,344.473 \n",
       "  1128.7,347.856 1134.51,351.254 1140.33,354.667 1146.14,358.097 1151.96,361.542 1157.77,365.003 1163.59,368.479 1169.4,371.971 1175.22,375.479 1181.03,379.001 \n",
       "  1186.85,382.539 1192.66,386.092 1198.48,389.66 1204.29,393.243 1210.11,396.842 1215.92,400.455 1221.74,404.083 1227.55,407.726 1233.37,411.384 1239.18,415.057 \n",
       "  1245,418.744 1250.81,422.446 1256.63,426.162 1262.44,429.893 1268.26,433.639 1274.07,437.399 1279.89,441.173 1285.7,444.961 1291.52,448.764 1297.33,452.581 \n",
       "  1303.15,456.412 1308.96,460.257 1314.78,464.117 1320.59,467.99 1326.41,471.877 1332.22,475.778 1338.04,479.693 1343.85,483.622 1349.67,487.565 1355.48,491.521 \n",
       "  1361.3,495.491 1367.11,499.475 1372.93,503.472 1378.74,507.483 1384.56,511.507 1390.37,515.545 1396.19,519.596 1402,523.661 1407.82,527.738 1413.63,531.829 \n",
       "  1419.45,535.934 1425.26,540.051 1431.08,544.182 1436.89,548.326 1442.71,552.483 1448.52,556.653 1454.34,560.836 1460.15,565.032 1465.97,569.241 1471.78,573.463 \n",
       "  1477.6,577.697 1483.41,581.945 1489.23,586.205 1495.04,590.478 1500.86,594.763 1506.67,599.062 1512.49,603.373 1518.3,607.696 1524.12,612.032 1529.93,616.381 \n",
       "  1535.75,620.742 1541.56,625.116 1547.38,629.502 1553.19,633.9 1559.01,638.311 1564.82,642.734 1570.64,647.169 1576.45,651.616 1582.27,656.076 1588.08,660.548 \n",
       "  1593.9,665.032 1599.71,669.529 1605.53,674.037 1611.34,678.557 1617.16,683.09 1622.97,687.634 1628.79,692.19 1634.6,696.759 1640.42,701.339 1646.23,705.931 \n",
       "  1652.05,710.535 1657.86,715.151 1663.68,719.778 1669.49,724.418 1675.31,729.069 1681.12,733.731 1686.94,738.406 1692.75,743.092 1698.57,747.789 1704.38,752.499 \n",
       "  1710.2,757.22 1716.01,761.952 1721.83,766.696 1727.64,771.451 1733.46,776.218 1739.27,780.996 1745.09,785.785 1750.9,790.586 1756.72,795.399 1762.53,800.222 \n",
       "  1768.35,805.057 1774.16,809.903 1779.98,814.761 1785.79,819.629 1791.61,824.509 1797.42,829.4 1803.24,834.302 1809.05,839.215 1814.87,844.14 1820.68,849.075 \n",
       "  1826.5,854.022 1832.31,858.979 1838.13,863.947 1843.94,868.927 1849.76,873.917 1855.57,878.918 1861.39,883.931 1867.2,888.954 1873.02,893.988 1878.83,899.032 \n",
       "  1884.65,904.088 1890.46,909.154 1896.28,914.231 1902.09,919.319 1907.91,924.418 1913.72,929.527 1919.54,934.647 1925.35,939.777 1931.17,944.918 1936.98,950.07 \n",
       "  1942.8,955.233 1948.61,960.406 1954.43,965.589 1960.24,970.783 1966.06,975.988 1971.87,981.203 1977.69,986.428 1983.5,991.664 1989.32,996.91 1995.13,1002.17 \n",
       "  2000.95,1007.43 2006.76,1012.71 2012.58,1018 2018.39,1023.3 2024.21,1028.61 2030.02,1033.92 2035.84,1039.25 2041.65,1044.59 2047.47,1049.94 2053.28,1055.3 \n",
       "  2059.1,1060.67 2064.91,1066.05 2070.73,1071.44 2076.54,1076.84 2082.36,1082.25 2088.17,1087.67 2093.99,1093.1 2099.8,1098.54 2105.62,1103.99 2111.43,1109.46 \n",
       "  2117.25,1114.93 2123.06,1120.41 2128.88,1125.9 2134.69,1131.4 2140.51,1136.91 2146.32,1142.43 2152.14,1147.96 2157.95,1153.5 2163.77,1159.05 2169.58,1164.61 \n",
       "  2175.4,1170.18 2181.21,1175.76 2187.03,1181.35 2192.84,1186.95 2198.66,1192.56 2204.47,1198.17 2210.29,1203.8 2216.1,1209.44 2221.92,1215.09 2227.73,1220.75 \n",
       "  2233.55,1226.41 2239.36,1232.09 2245.18,1237.78 2250.99,1243.47 2256.81,1249.18 2262.62,1254.89 2268.44,1260.62 2274.25,1266.35 2280.07,1272.09 2285.88,1277.85 \n",
       "  2291.7,1283.61 \n",
       "  \"/>\n",
       "<polyline clip-path=\"url(#clip5802)\" style=\"stroke:#e26f46; stroke-width:4; stroke-opacity:1; fill:none\" points=\"\n",
       "  256.447,88.2916 262.262,88.3698 268.077,88.4658 273.892,88.5826 279.707,88.7236 285.522,88.8921 291.337,89.0915 297.152,89.3253 302.967,89.5968 308.782,89.9092 \n",
       "  314.597,90.2654 320.412,90.668 326.227,91.119 332.042,91.6203 337.857,92.1731 343.672,92.7782 349.487,93.4359 355.302,94.1461 361.117,94.9083 366.932,95.7216 \n",
       "  372.747,96.5848 378.562,97.4963 384.377,98.4544 390.192,99.4572 396.007,100.503 401.822,101.589 407.637,102.714 413.452,103.875 419.267,105.071 425.082,106.301 \n",
       "  430.897,107.561 436.712,108.852 442.527,110.171 448.342,111.517 454.157,112.89 459.972,114.288 465.787,115.71 471.602,117.157 477.417,118.627 483.232,120.12 \n",
       "  489.047,121.635 494.862,123.173 500.677,124.733 506.492,126.314 512.307,127.917 518.122,129.541 523.937,131.187 529.752,132.853 535.567,134.541 541.382,136.25 \n",
       "  547.197,137.98 553.012,139.731 558.827,141.503 564.642,143.296 570.457,145.109 576.272,146.943 582.087,148.799 587.902,150.674 593.717,152.571 599.532,154.488 \n",
       "  605.347,156.426 611.162,158.385 616.977,160.364 622.792,162.364 628.607,164.384 634.422,166.424 640.237,168.485 646.052,170.566 651.867,172.668 657.682,174.789 \n",
       "  663.497,176.931 669.312,179.093 675.127,181.275 680.942,183.477 686.757,185.699 692.572,187.94 698.387,190.201 704.202,192.482 710.017,194.783 715.832,197.103 \n",
       "  721.647,199.443 727.462,201.802 733.277,204.18 739.092,206.577 744.907,208.994 750.722,211.43 756.537,213.884 762.352,216.358 768.167,218.85 773.982,221.362 \n",
       "  779.797,223.892 785.612,226.44 791.427,229.007 797.242,231.593 803.057,234.197 808.872,236.819 814.687,239.46 820.502,242.118 826.317,244.795 832.132,247.49 \n",
       "  837.947,250.202 843.762,252.933 849.577,255.681 855.392,258.447 861.207,261.23 867.022,264.031 872.837,266.85 878.652,269.686 884.467,272.539 890.282,275.41 \n",
       "  896.097,278.298 901.912,281.202 907.727,284.124 913.542,287.063 919.357,290.019 925.172,292.992 930.987,295.981 936.802,298.987 942.617,302.01 948.432,305.049 \n",
       "  954.247,308.105 960.062,311.177 965.877,314.266 971.692,317.371 977.507,320.492 983.322,323.629 989.137,326.782 994.952,329.952 1000.77,333.137 1006.58,336.339 \n",
       "  1012.4,339.556 1018.21,342.789 1024.03,346.038 1029.84,349.302 1035.66,352.582 1041.47,355.878 1047.29,359.189 1053.1,362.515 1058.92,365.857 1064.73,369.215 \n",
       "  1070.55,372.587 1076.36,375.975 1082.18,379.378 1087.99,382.796 1093.81,386.229 1099.62,389.677 1105.44,393.141 1111.25,396.619 1117.07,400.111 1122.88,403.619 \n",
       "  1128.7,407.141 1134.51,410.679 1140.33,414.23 1146.14,417.797 1151.96,421.377 1157.77,424.973 1163.59,428.583 1169.4,432.207 1175.22,435.845 1181.03,439.498 \n",
       "  1186.85,443.165 1192.66,446.847 1198.48,450.542 1204.29,454.252 1210.11,457.975 1215.92,461.713 1221.74,465.464 1227.55,469.23 1233.37,473.009 1239.18,476.803 \n",
       "  1245,480.61 1250.81,484.431 1256.63,488.265 1262.44,492.114 1268.26,495.975 1274.07,499.851 1279.89,503.74 1285.7,507.642 1291.52,511.558 1297.33,515.488 \n",
       "  1303.15,519.431 1308.96,523.387 1314.78,527.356 1320.59,531.339 1326.41,535.335 1332.22,539.344 1338.04,543.366 1343.85,547.402 1349.67,551.45 1355.48,555.512 \n",
       "  1361.3,559.586 1367.11,563.674 1372.93,567.774 1378.74,571.888 1384.56,576.014 1390.37,580.153 1396.19,584.305 1402,588.469 1407.82,592.646 1413.63,596.836 \n",
       "  1419.45,601.039 1425.26,605.254 1431.08,609.482 1436.89,613.722 1442.71,617.975 1448.52,622.24 1454.34,626.518 1460.15,630.808 1465.97,635.111 1471.78,639.426 \n",
       "  1477.6,643.753 1483.41,648.093 1489.23,652.444 1495.04,656.808 1500.86,661.185 1506.67,665.573 1512.49,669.973 1518.3,674.386 1524.12,678.811 1529.93,683.247 \n",
       "  1535.75,687.696 1541.56,692.157 1547.38,696.629 1553.19,701.114 1559.01,705.61 1564.82,710.118 1570.64,714.639 1576.45,719.171 1582.27,723.714 1588.08,728.27 \n",
       "  1593.9,732.837 1599.71,737.416 1605.53,742.006 1611.34,746.609 1617.16,751.222 1622.97,755.848 1628.79,760.485 1634.6,765.133 1640.42,769.793 1646.23,774.465 \n",
       "  1652.05,779.148 1657.86,783.842 1663.68,788.548 1669.49,793.265 1675.31,797.994 1681.12,802.733 1686.94,807.485 1692.75,812.247 1698.57,817.021 1704.38,821.806 \n",
       "  1710.2,826.602 1716.01,831.409 1721.83,836.227 1727.64,841.057 1733.46,845.898 1739.27,850.749 1745.09,855.612 1750.9,860.486 1756.72,865.371 1762.53,870.267 \n",
       "  1768.35,875.174 1774.16,880.091 1779.98,885.02 1785.79,889.96 1791.61,894.91 1797.42,899.872 1803.24,904.844 1809.05,909.827 1814.87,914.82 1820.68,919.825 \n",
       "  1826.5,924.84 1832.31,929.866 1838.13,934.903 1843.94,939.95 1849.76,945.008 1855.57,950.077 1861.39,955.156 1867.2,960.246 1873.02,965.347 1878.83,970.458 \n",
       "  1884.65,975.579 1890.46,980.711 1896.28,985.854 1902.09,991.007 1907.91,996.17 1913.72,1001.34 1919.54,1006.53 1925.35,1011.72 1931.17,1016.93 1936.98,1022.14 \n",
       "  1942.8,1027.37 1948.61,1032.61 1954.43,1037.85 1960.24,1043.11 1966.06,1048.38 1971.87,1053.65 1977.69,1058.94 1983.5,1064.24 1989.32,1069.55 1995.13,1074.86 \n",
       "  2000.95,1080.19 2006.76,1085.53 2012.58,1090.88 2018.39,1096.24 2024.21,1101.61 2030.02,1106.98 2035.84,1112.37 2041.65,1117.77 2047.47,1123.18 2053.28,1128.6 \n",
       "  2059.1,1134.03 2064.91,1139.47 2070.73,1144.91 2076.54,1150.37 2082.36,1155.84 2088.17,1161.32 2093.99,1166.81 2099.8,1172.3 2105.62,1177.81 2111.43,1183.33 \n",
       "  2117.25,1188.86 2123.06,1194.39 2128.88,1199.94 2134.69,1205.5 2140.51,1211.06 2146.32,1216.64 2152.14,1222.23 2157.95,1227.82 2163.77,1233.43 2169.58,1239.04 \n",
       "  2175.4,1244.66 2181.21,1250.3 2187.03,1255.94 2192.84,1261.6 2198.66,1267.26 2204.47,1272.93 2210.29,1278.61 2216.1,1284.3 2221.92,1290 2227.73,1295.72 \n",
       "  2233.55,1301.44 2239.36,1307.16 2245.18,1312.9 2250.99,1318.65 2256.81,1324.41 2262.62,1330.18 2268.44,1335.95 2274.25,1341.74 2280.07,1347.53 2285.88,1353.34 \n",
       "  2291.7,1359.15 \n",
       "  \"/>\n",
       "<polyline clip-path=\"url(#clip5802)\" style=\"stroke:#3da44d; stroke-width:4; stroke-opacity:1; fill:none\" points=\"\n",
       "  256.447,92.8061 262.262,93.5295 268.077,94.3155 273.892,95.1629 279.707,96.0701 285.522,97.035 291.337,98.0551 297.152,99.1275 302.967,100.249 308.782,101.417 \n",
       "  314.597,102.628 320.412,103.879 326.227,105.168 332.042,106.491 337.857,107.846 343.672,109.232 349.487,110.646 355.302,112.087 361.117,113.553 366.932,115.042 \n",
       "  372.747,116.555 378.562,118.089 384.377,119.645 390.192,121.221 396.007,122.817 401.822,124.432 407.637,126.067 413.452,127.721 419.267,129.393 425.082,131.083 \n",
       "  430.897,132.792 436.712,134.519 442.527,136.264 448.342,138.026 454.157,139.806 459.972,141.604 465.787,143.42 471.602,145.253 477.417,147.104 483.232,148.973 \n",
       "  489.047,150.858 494.862,152.762 500.677,154.683 506.492,156.621 512.307,158.577 518.122,160.55 523.937,162.541 529.752,164.55 535.567,166.575 541.382,168.619 \n",
       "  547.197,170.679 553.012,172.757 558.827,174.853 564.642,176.966 570.457,179.097 576.272,181.245 582.087,183.41 587.902,185.593 593.717,187.793 599.532,190.011 \n",
       "  605.347,192.246 611.162,194.498 616.977,196.768 622.792,199.055 628.607,201.359 634.422,203.681 640.237,206.02 646.052,208.376 651.867,210.749 657.682,213.14 \n",
       "  663.497,215.548 669.312,217.973 675.127,220.415 680.942,222.874 686.757,225.35 692.572,227.843 698.387,230.353 704.202,232.88 710.017,235.424 715.832,237.985 \n",
       "  721.647,240.563 727.462,243.157 733.277,245.769 739.092,248.397 744.907,251.042 750.722,253.703 756.537,256.381 762.352,259.075 768.167,261.786 773.982,264.514 \n",
       "  779.797,267.258 785.612,270.018 791.427,272.795 797.242,275.588 803.057,278.398 808.872,281.223 814.687,284.065 820.502,286.923 826.317,289.797 832.132,292.686 \n",
       "  837.947,295.592 843.762,298.514 849.577,301.452 855.392,304.406 861.207,307.375 867.022,310.361 872.837,313.362 878.652,316.378 884.467,319.411 890.282,322.458 \n",
       "  896.097,325.522 901.912,328.601 907.727,331.695 913.542,334.805 919.357,337.93 925.172,341.07 930.987,344.226 936.802,347.397 942.617,350.583 948.432,353.784 \n",
       "  954.247,357.001 960.062,360.232 965.877,363.478 971.692,366.74 977.507,370.016 983.322,373.307 989.137,376.613 994.952,379.933 1000.77,383.269 1006.58,386.619 \n",
       "  1012.4,389.983 1018.21,393.363 1024.03,396.757 1029.84,400.165 1035.66,403.588 1041.47,407.025 1047.29,410.477 1053.1,413.943 1058.92,417.423 1064.73,420.918 \n",
       "  1070.55,424.427 1076.36,427.95 1082.18,431.487 1087.99,435.038 1093.81,438.603 1099.62,442.183 1105.44,445.776 1111.25,449.383 1117.07,453.004 1122.88,456.639 \n",
       "  1128.7,460.288 1134.51,463.951 1140.33,467.627 1146.14,471.317 1151.96,475.021 1157.77,478.738 1163.59,482.469 1169.4,486.214 1175.22,489.972 1181.03,493.743 \n",
       "  1186.85,497.528 1192.66,501.326 1198.48,505.138 1204.29,508.963 1210.11,512.802 1215.92,516.654 1221.74,520.518 1227.55,524.396 1233.37,528.287 1239.18,532.192 \n",
       "  1245,536.109 1250.81,540.039 1256.63,543.983 1262.44,547.94 1268.26,551.909 1274.07,555.891 1279.89,559.886 1285.7,563.894 1291.52,567.915 1297.33,571.949 \n",
       "  1303.15,575.995 1308.96,580.055 1314.78,584.126 1320.59,588.21 1326.41,592.308 1332.22,596.417 1338.04,600.539 1343.85,604.674 1349.67,608.822 1355.48,612.981 \n",
       "  1361.3,617.154 1367.11,621.338 1372.93,625.535 1378.74,629.744 1384.56,633.965 1390.37,638.2 1396.19,642.445 1402,646.706 1407.82,650.974 1413.63,655.256 \n",
       "  1419.45,659.553 1425.26,663.858 1431.08,668.179 1436.89,672.509 1442.71,676.852 1448.52,681.206 1454.34,685.572 1460.15,689.953 1465.97,694.343 1471.78,698.744 \n",
       "  1477.6,703.161 1483.41,707.589 1489.23,712.027 1495.04,716.475 1500.86,720.939 1506.67,725.41 1512.49,729.895 1518.3,734.392 1524.12,738.904 1529.93,743.421 \n",
       "  1535.75,747.95 1541.56,752.498 1547.38,757.052 1553.19,761.618 1559.01,766.198 1564.82,770.785 1570.64,775.387 1576.45,779.995 1582.27,784.625 1588.08,789.257 \n",
       "  1593.9,793.91 1599.71,798.56 1605.53,803.231 1611.34,807.908 1617.16,812.601 1622.97,817.298 1628.79,822.025 1634.6,826.737 1640.42,831.476 1646.23,836.232 \n",
       "  1652.05,840.987 1657.86,845.75 1663.68,850.537 1669.49,855.311 1675.31,860.126 1681.12,864.94 1686.94,869.768 1692.75,874.603 1698.57,879.455 1704.38,884.304 \n",
       "  1710.2,889.163 1716.01,894.06 1721.83,898.951 1727.64,903.844 1733.46,908.754 1739.27,913.678 1745.09,918.612 1750.9,923.56 1756.72,928.509 1762.53,933.47 \n",
       "  1768.35,938.455 1774.16,943.444 1779.98,948.453 1785.79,953.429 1791.61,958.461 1797.42,963.51 1803.24,968.523 1809.05,973.581 1814.87,978.646 1820.68,983.712 \n",
       "  1826.5,988.781 1832.31,993.898 1838.13,998.988 1843.94,1004.11 1849.76,1009.22 1855.57,1014.38 1861.39,1019.51 1867.2,1024.66 1873.02,1029.81 1878.83,1035 \n",
       "  1884.65,1040.19 1890.46,1045.38 1896.28,1050.59 1902.09,1055.81 1907.91,1061.02 1913.72,1066.25 1919.54,1071.5 1925.35,1076.79 1931.17,1082.02 1936.98,1087.3 \n",
       "  1942.8,1092.6 1948.61,1097.87 1954.43,1103.2 1960.24,1108.5 1966.06,1113.84 1971.87,1119.15 1977.69,1124.54 1983.5,1129.85 1989.32,1135.28 1995.13,1140.64 \n",
       "  2000.95,1145.99 2006.76,1151.39 2012.58,1156.81 2018.39,1162.29 2024.21,1167.64 2030.02,1173.14 2035.84,1178.53 2041.65,1184.05 2047.47,1189.46 2053.28,1194.93 \n",
       "  2059.1,1200.47 2064.91,1205.94 2070.73,1211.42 2076.54,1217 2082.36,1222.4 2088.17,1228.01 2093.99,1233.5 2099.8,1239.11 2105.62,1244.68 2111.43,1250.24 \n",
       "  2117.25,1255.79 2123.06,1261.45 2128.88,1266.97 2134.69,1272.64 2140.51,1278.21 2146.32,1283.82 2152.14,1289.47 2157.95,1295.1 2163.77,1300.76 2169.58,1306.58 \n",
       "  2175.4,1312.15 2181.21,1317.74 2187.03,1323.52 2192.84,1329.27 2198.66,1334.99 2204.47,1340.68 2210.29,1346.37 2216.1,1352.23 2221.92,1357.88 2227.73,1363.79 \n",
       "  2233.55,1369.46 2239.36,1375.22 2245.18,1380.96 2250.99,1386.81 2256.81,1392.74 2262.62,1398.42 2268.44,1404.31 2274.25,1410.07 2280.07,1416.02 2285.88,1421.8 \n",
       "  2291.7,1427.67 \n",
       "  \"/>\n",
       "<polyline clip-path=\"url(#clip5802)\" style=\"stroke:#c271d2; stroke-width:4; stroke-opacity:1; fill:none\" points=\"\n",
       "  256.447,107.701 262.262,109.158 268.077,110.643 273.892,112.157 279.707,113.695 285.522,115.258 291.337,116.843 297.152,118.451 302.967,120.078 308.782,121.726 \n",
       "  314.597,123.393 320.412,125.078 326.227,126.782 332.042,128.503 337.857,130.242 343.672,131.998 349.487,133.771 355.302,135.561 361.117,137.367 366.932,139.189 \n",
       "  372.747,141.028 378.562,142.883 384.377,144.754 390.192,146.641 396.007,148.544 401.822,150.463 407.637,152.397 413.452,154.347 419.267,156.313 425.082,158.295 \n",
       "  430.897,160.292 436.712,162.305 442.527,164.333 448.342,166.378 454.157,168.437 459.972,170.513 465.787,172.603 471.602,174.71 477.417,176.832 483.232,178.97 \n",
       "  489.047,181.123 494.862,183.292 500.677,185.476 506.492,187.676 512.307,189.891 518.122,192.122 523.937,194.369 529.752,196.631 535.567,198.909 541.382,201.202 \n",
       "  547.197,203.511 553.012,205.836 558.827,208.176 564.642,210.532 570.457,212.903 576.272,215.29 582.087,217.692 587.902,220.11 593.717,222.543 599.532,224.992 \n",
       "  605.347,227.457 611.162,229.937 616.977,232.432 622.792,234.944 628.607,237.47 634.422,240.012 640.237,242.569 646.052,245.142 651.867,247.732 657.682,250.334 \n",
       "  663.497,252.949 669.312,255.589 675.127,258.239 680.942,260.905 686.757,263.585 692.572,266.281 698.387,268.993 704.202,271.72 710.017,274.462 715.832,277.219 \n",
       "  721.647,279.991 727.462,282.779 733.277,285.582 739.092,288.4 744.907,291.233 750.722,294.081 756.537,296.944 762.352,299.823 768.167,302.715 773.982,305.625 \n",
       "  779.797,308.548 785.612,311.486 791.427,314.439 797.242,317.407 803.057,320.389 808.872,323.389 814.687,326.4 820.502,329.427 826.317,332.467 832.132,335.525 \n",
       "  837.947,338.598 843.762,341.68 849.577,344.787 855.392,347.906 861.207,351.028 867.022,354.174 872.837,357.336 878.652,360.522 884.467,363.662 890.282,366.896 \n",
       "  896.097,370.107 901.912,373.345 907.727,376.595 913.542,379.835 919.357,383.088 925.172,386.412 930.987,389.702 936.802,393.051 942.617,396.375 948.432,399.666 \n",
       "  954.247,403.069 960.062,406.442 965.877,409.837 971.692,413.192 977.507,416.579 983.322,419.957 989.137,423.447 994.952,426.929 1000.77,430.457 1006.58,433.94 \n",
       "  1012.4,437.17 1018.21,440.933 1024.03,444.442 1029.84,447.923 1035.66,451.282 1041.47,454.971 1047.29,458.72 1053.1,462.506 1058.92,466.034 1064.73,469.54 \n",
       "  1070.55,473.203 1076.36,476.766 1082.18,480.444 1087.99,484.264 1093.81,487.393 1099.62,490.802 1105.44,495.24 1111.25,498.992 1117.07,500.115 1122.88,507.099 \n",
       "  1128.7,509.556 1134.51,512.723 1140.33,514.841 1146.14,520.827 1151.96,523.786 1157.77,528.08 1163.59,531.648 1169.4,536.379 1175.22,536.386 1181.03,542.772 \n",
       "  1186.85,547.721 1192.66,551.264 1198.48,552.178 1204.29,556.739 1210.11,561.005 1215.92,561.125 1221.74,563.602 1227.55,568.356 1233.37,576.353 1239.18,577.574 \n",
       "  1245,580.273 1250.81,591.552 1256.63,594.134 1262.44,599.29 1268.26,599.421 1274.07,605.174 1279.89,601.586 1285.7,609.392 1291.52,610.072 1297.33,608.891 \n",
       "  1303.15,621.972 1308.96,631.123 1314.78,624.001 1320.59,629.371 1326.41,634.356 1332.22,641.288 1338.04,645.417 1343.85,648.874 1349.67,645.484 1355.48,653.41 \n",
       "  1361.3,668.991 1367.11,669.897 1372.93,672.158 1378.74,673.119 1384.56,677.22 1390.37,684.133 1396.19,676.821 1402,678.58 1407.82,694.848 1413.63,695.115 \n",
       "  1419.45,696.262 1425.26,709.325 1431.08,705.545 1436.89,704.38 1442.71,721.96 1448.52,721.11 1454.34,722.874 1460.15,736.357 1465.97,734.327 1471.78,733.685 \n",
       "  1477.6,740.095 1483.41,746.26 1489.23,745.778 1495.04,759.607 1500.86,760.06 1506.67,762.951 1512.49,763.869 1518.3,771.924 1524.12,782.071 1529.93,782.374 \n",
       "  1535.75,779.533 1541.56,795.422 1547.38,798.737 1553.19,793.189 1559.01,811.955 1564.82,808.965 1570.64,812.632 1576.45,814.558 1582.27,826.832 1588.08,830.463 \n",
       "  1593.9,823.094 1599.71,831.981 1605.53,841.819 1611.34,844.66 1617.16,850.861 1622.97,845.116 1628.79,856.522 1634.6,858.197 1640.42,865.883 1646.23,866.494 \n",
       "  1652.05,875.798 1657.86,876.744 1663.68,880.086 1669.49,883.117 1675.31,890.631 1681.12,896.538 1686.94,908.031 1692.75,898.832 1698.57,916.74 1704.38,920.908 \n",
       "  1710.2,915.41 1716.01,934.759 1721.83,939.561 1727.64,929.926 1733.46,936.474 1739.27,950.498 1745.09,952.26 1750.9,959.201 1756.72,970.699 1762.53,964.946 \n",
       "  1768.35,976.775 1774.16,975.489 1779.98,974.037 1785.79,978.153 1791.61,981.805 1797.42,983.587 1803.24,1001.74 1809.05,1005.6 1814.87,999.017 1820.68,1021.19 \n",
       "  1826.5,1016.55 1832.31,1019.41 1838.13,1034.21 1843.94,1027.89 1849.76,1031.32 1855.57,1042.14 1861.39,1052.1 1867.2,1047.78 1873.02,1051.87 1878.83,1058.29 \n",
       "  1884.65,1072.77 1890.46,1072.14 1896.28,1076.51 1902.09,1082.18 1907.91,1085.78 1913.72,1097.96 1919.54,1096.81 1925.35,1103.99 1931.17,1102.47 1936.98,1117.67 \n",
       "  1942.8,1119.05 1948.61,1117.87 1954.43,1125.06 1960.24,1135.15 1966.06,1139.62 1971.87,1143.79 1977.69,1154.86 1983.5,1153.08 1989.32,1165.59 1995.13,1160.55 \n",
       "  2000.95,1166.72 2006.76,1178.69 2012.58,1181.61 2018.39,1180.23 2024.21,1194.03 2030.02,1200.29 2035.84,1197.57 2041.65,1205.91 2047.47,1212.56 2053.28,1220.9 \n",
       "  2059.1,1225.45 2064.91,1234.9 2070.73,1233.03 2076.54,1237.06 2082.36,1245.23 2088.17,1243.51 2093.99,1252.21 2099.8,1256.02 2105.62,1268.04 2111.43,1279.95 \n",
       "  2117.25,1284.47 2123.06,1278.25 2128.88,1292.54 2134.69,1292.67 2140.51,1302.42 2146.32,1307.64 2152.14,1307.64 2157.95,1313.24 2163.77,1321.61 2169.58,1332.06 \n",
       "  2175.4,1330.15 2181.21,1332.24 2187.03,1349.69 2192.84,1353.6 2198.66,1363.85 2204.47,1363.5 2210.29,1371.25 2216.1,1368.43 2221.92,1372.55 2227.73,1380.68 \n",
       "  2233.55,1387.69 2239.36,1386.04 2245.18,1399.93 2250.99,1401 2256.81,1412.16 2262.62,1420.98 2268.44,1430.49 2274.25,1428.59 2280.07,1427.88 2285.88,1446.71 \n",
       "  2291.7,1441.89 \n",
       "  \"/>\n",
       "<polygon clip-path=\"url(#clip5800)\" points=\"\n",
       "1989.93,433.164 2280.76,433.164 2280.76,130.764 1989.93,130.764 \n",
       "  \" fill=\"#ffffff\" fill-rule=\"evenodd\" fill-opacity=\"1\"/>\n",
       "<polyline clip-path=\"url(#clip5800)\" style=\"stroke:#000000; stroke-width:4; stroke-opacity:1; fill:none\" points=\"\n",
       "  1989.93,433.164 2280.76,433.164 2280.76,130.764 1989.93,130.764 1989.93,433.164 \n",
       "  \"/>\n",
       "<polyline clip-path=\"url(#clip5800)\" style=\"stroke:#009af9; stroke-width:4; stroke-opacity:1; fill:none\" points=\"\n",
       "  2013.93,191.244 2157.93,191.244 \n",
       "  \"/>\n",
       "<g clip-path=\"url(#clip5800)\">\n",
       "<text style=\"fill:#000000; fill-opacity:1; font-family:Arial,Helvetica Neue,Helvetica,sans-serif; font-size:48px; text-anchor:start;\" transform=\"rotate(0, 2181.93, 208.744)\" x=\"2181.93\" y=\"208.744\">y1</text>\n",
       "</g>\n",
       "<polyline clip-path=\"url(#clip5800)\" style=\"stroke:#e26f46; stroke-width:4; stroke-opacity:1; fill:none\" points=\"\n",
       "  2013.93,251.724 2157.93,251.724 \n",
       "  \"/>\n",
       "<g clip-path=\"url(#clip5800)\">\n",
       "<text style=\"fill:#000000; fill-opacity:1; font-family:Arial,Helvetica Neue,Helvetica,sans-serif; font-size:48px; text-anchor:start;\" transform=\"rotate(0, 2181.93, 269.224)\" x=\"2181.93\" y=\"269.224\">y2</text>\n",
       "</g>\n",
       "<polyline clip-path=\"url(#clip5800)\" style=\"stroke:#3da44d; stroke-width:4; stroke-opacity:1; fill:none\" points=\"\n",
       "  2013.93,312.204 2157.93,312.204 \n",
       "  \"/>\n",
       "<g clip-path=\"url(#clip5800)\">\n",
       "<text style=\"fill:#000000; fill-opacity:1; font-family:Arial,Helvetica Neue,Helvetica,sans-serif; font-size:48px; text-anchor:start;\" transform=\"rotate(0, 2181.93, 329.704)\" x=\"2181.93\" y=\"329.704\">y3</text>\n",
       "</g>\n",
       "<polyline clip-path=\"url(#clip5800)\" style=\"stroke:#c271d2; stroke-width:4; stroke-opacity:1; fill:none\" points=\"\n",
       "  2013.93,372.684 2157.93,372.684 \n",
       "  \"/>\n",
       "<g clip-path=\"url(#clip5800)\">\n",
       "<text style=\"fill:#000000; fill-opacity:1; font-family:Arial,Helvetica Neue,Helvetica,sans-serif; font-size:48px; text-anchor:start;\" transform=\"rotate(0, 2181.93, 390.184)\" x=\"2181.93\" y=\"390.184\">y4</text>\n",
       "</g>\n",
       "</svg>\n"
      ]
     },
     "execution_count": 103,
     "metadata": {},
     "output_type": "execute_result"
    }
   ],
   "source": [
    "s = -5:.1:30\n",
    "y1 = [log10.(eigvals(lanczos(x))[10]) for x in s]\n",
    "y2 = [log10.(eigvals(lanczos(x))[9]) for x in s]\n",
    "y3 = [log10.(eigvals(lanczos(x))[8]) for x in s]\n",
    "y4 = [log10.(eigvals(lanczos(x))[7]) for x in s]\n",
    "plot(s,[y1 y2 y3 y4])"
   ]
  },
  {
   "cell_type": "code",
   "execution_count": null,
   "metadata": {},
   "outputs": [],
   "source": [
    "function extend_airy_kernel(x,y,t)\\\n",
    "    n = 100 # for example\n",
    "    nodes,weights = gausslegendre(n)\n",
    "   exp.(-t.*nodes).* airyai.(nodes.+x) .* airyai.(nodes.+y) .* ϕ′.(nodes)"
   ]
  }
 ],
 "metadata": {
  "@webio": {
   "lastCommId": "5eca0b320cd344cb8be217ad10deda26",
   "lastKernelId": "acfb7b4c-e76a-4d4e-8267-1414560ce683"
  },
  "kernelspec": {
   "display_name": "Julia 1.2.0",
   "language": "julia",
   "name": "julia-1.2"
  },
  "language_info": {
   "file_extension": ".jl",
   "mimetype": "application/julia",
   "name": "julia",
   "version": "1.2.0"
  }
 },
 "nbformat": 4,
 "nbformat_minor": 2
}
