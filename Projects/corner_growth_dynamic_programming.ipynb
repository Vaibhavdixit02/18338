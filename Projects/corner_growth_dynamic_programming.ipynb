{
 "cells": [
  {
   "cell_type": "markdown",
   "metadata": {},
   "source": [
    "# Dynamic Programming Corner Growth"
   ]
  },
  {
   "cell_type": "code",
   "execution_count": 1,
   "metadata": {},
   "outputs": [],
   "source": [
    "# Initialize grid and set up probability density\n",
    "# Run random calls"
   ]
  },
  {
   "cell_type": "code",
   "execution_count": 2,
   "metadata": {},
   "outputs": [
    {
     "data": {
      "text/html": [
       "<script>\n",
       "// Immediately-invoked-function-expression to avoid global variables.\n",
       "(function() {\n",
       "    var warning_div = document.getElementById(\"webio-warning-1200088582239717073\");\n",
       "    var hide = function () {\n",
       "        var script = document.getElementById(\"webio-setup-4989605791935985712\");\n",
       "        var parent = script && script.parentElement;\n",
       "        var grandparent = parent && parent.parentElement;\n",
       "        if (grandparent) {\n",
       "            grandparent.style.display = \"none\";\n",
       "        }\n",
       "        warning_div.style.display = \"none\";\n",
       "    };\n",
       "    if (typeof Jupyter !== \"undefined\") {\n",
       "        console.log(\"WebIO detected Jupyter notebook environment.\");\n",
       "        // Jupyter notebook.\n",
       "        var extensions = (\n",
       "            Jupyter\n",
       "            && Jupyter.notebook.config.data\n",
       "            && Jupyter.notebook.config.data.load_extensions\n",
       "        );\n",
       "        if (extensions && extensions[\"webio-jupyter-notebook\"]) {\n",
       "            // Extension already loaded.\n",
       "            console.log(\"Jupyter WebIO nbextension detected; not loading ad-hoc.\");\n",
       "            hide();\n",
       "            return;\n",
       "        }\n",
       "    } else if (window.location.pathname.includes(\"/lab\")) {\n",
       "        // Guessing JupyterLa\n",
       "        console.log(\"Jupyter Lab detected; make sure the @webio/jupyter-lab-provider labextension is installed.\");\n",
       "        hide();\n",
       "        return;\n",
       "    }\n",
       "})();\n",
       "\n",
       "</script>\n",
       "<p\n",
       "    id=\"webio-warning-1200088582239717073\"\n",
       "    class=\"output_text output_stderr\"\n",
       "    style=\"padding: 1em; font-weight: bold;\"\n",
       ">\n",
       "    Unable to load WebIO. Please make sure WebIO works for your Jupyter client.\n",
       "    For troubleshooting, please see <a href=\"https://juliagizmos.github.io/WebIO.jl/latest/providers/ijulia/\">\n",
       "    the WebIO/IJulia documentation</a>.\n",
       "    <!-- TODO: link to installation docs. -->\n",
       "</p>\n"
      ],
      "text/plain": [
       "HTML{String}(\"<script>\\n// Immediately-invoked-function-expression to avoid global variables.\\n(function() {\\n    var warning_div = document.getElementById(\\\"webio-warning-1200088582239717073\\\");\\n    var hide = function () {\\n        var script = document.getElementById(\\\"webio-setup-4989605791935985712\\\");\\n        var parent = script && script.parentElement;\\n        var grandparent = parent && parent.parentElement;\\n        if (grandparent) {\\n            grandparent.style.display = \\\"none\\\";\\n        }\\n        warning_div.style.display = \\\"none\\\";\\n    };\\n    if (typeof Jupyter !== \\\"undefined\\\") {\\n        console.log(\\\"WebIO detected Jupyter notebook environment.\\\");\\n        // Jupyter notebook.\\n        var extensions = (\\n            Jupyter\\n            && Jupyter.notebook.config.data\\n            && Jupyter.notebook.config.data.load_extensions\\n        );\\n        if (extensions && extensions[\\\"webio-jupyter-notebook\\\"]) {\\n            // Extension already loaded.\\n            console.log(\\\"Jupyter WebIO nbextension detected; not loading ad-hoc.\\\");\\n            hide();\\n            return;\\n        }\\n    } else if (window.location.pathname.includes(\\\"/lab\\\")) {\\n        // Guessing JupyterLa\\n        console.log(\\\"Jupyter Lab detected; make sure the @webio/jupyter-lab-provider labextension is installed.\\\");\\n        hide();\\n        return;\\n    }\\n})();\\n\\n</script>\\n<p\\n    id=\\\"webio-warning-1200088582239717073\\\"\\n    class=\\\"output_text output_stderr\\\"\\n    style=\\\"padding: 1em; font-weight: bold;\\\"\\n>\\n    Unable to load WebIO. Please make sure WebIO works for your Jupyter client.\\n    For troubleshooting, please see <a href=\\\"https://juliagizmos.github.io/WebIO.jl/latest/providers/ijulia/\\\">\\n    the WebIO/IJulia documentation</a>.\\n    <!-- TODO: link to installation docs. -->\\n</p>\\n\")"
      ]
     },
     "metadata": {},
     "output_type": "display_data"
    }
   ],
   "source": [
    "using Random, Distributions, Plots, Interact"
   ]
  },
  {
   "cell_type": "code",
   "execution_count": 3,
   "metadata": {},
   "outputs": [
    {
     "data": {
      "text/plain": [
       "20×20 Array{Int64,2}:\n",
       " 2  1  0  1  0  1  3  0   2  0  0  0  0  0  4  0  0  1  0  1\n",
       " 0  0  0  0  5  0  0  1   1  0  1  0  2  2  4  1  1  5  3  0\n",
       " 0  0  0  0  1  0  1  1   0  6  1  1  0  0  0  1  0  1  0  2\n",
       " 2  0  1  1  0  2  0  0   1  0  0  1  2  0  5  1  0  2  1  1\n",
       " 0  0  0  0  3  0  0  2   5  2  0  2  0  3  1  4  1  0  2  2\n",
       " 1  1  0  0  0  0  2  0   0  1  0  3  1  2  4  2  7  2  2  0\n",
       " 4  4  3  1  0  0  0  0   0  3  5  2  0  1  0  1  0  1  1  4\n",
       " 0  0  1  3  0  2  3  1   0  1  1  0  0  2  1  0  1  3  1  1\n",
       " 3  0  7  1  0  0  2  0   1  1  1  2  0  0  0  1  0  1  1  0\n",
       " 1  0  1  1  0  0  4  0   1  1  0  0  0  0  2  0  0  1  0  0\n",
       " 0  0  0  2  1  2  0  3   0  1  0  3  0  0  1  2  0  3  2  0\n",
       " 0  1  2  2  0  1  2  0   3  0  0  1  0  0  7  0  0  0  1  2\n",
       " 3  4  1  0  2  1  1  0   2  1  2  5  0  3  0  1  1  2  2  0\n",
       " 5  0  2  0  0  1  3  3   3  5  1  1  0  2  0  1  1  0  2  3\n",
       " 0  3  3  0  1  1  1  0   0  1  5  0  1  3  0  0  1  0  0  1\n",
       " 1  0  2  0  3  0  1  0   0  0  1  0  0  0  0  1  1  4  1  0\n",
       " 1  2  3  2  1  0  4  0  11  0  0  1  1  2  0  0  1  0  1  1\n",
       " 2  1  0  1  1  0  2  2   1  1  0  1  1  5  0  0  2  0  1  0\n",
       " 0  0  2  0  1  0  2  0   2  3  0  6  2  1  0  0  0  1  0  0\n",
       " 2  1  2  0  0  0  2  4   0  1  1  0  0  0  3  0  0  3  0  4"
      ]
     },
     "execution_count": 3,
     "metadata": {},
     "output_type": "execute_result"
    }
   ],
   "source": [
    "p = .5\n",
    "mat_size = 20\n",
    "indep_draws = rand(Geometric(p), mat_size, mat_size)"
   ]
  },
  {
   "cell_type": "code",
   "execution_count": 4,
   "metadata": {},
   "outputs": [
    {
     "data": {
      "text/plain": [
       "20×20 Array{Float64,2}:\n",
       "  1.0   3.0   4.0   6.0   7.0   9.0  …   28.0   29.0   31.0   32.0   34.0\n",
       "  2.0   4.0   5.0   7.0  13.0  14.0      36.0   38.0   44.0   48.0   49.0\n",
       "  3.0   5.0   6.0   8.0  15.0  16.0      38.0   39.0   46.0   49.0   52.0\n",
       "  6.0   7.0   9.0  11.0  16.0  19.0      46.0   47.0   50.0   52.0   54.0\n",
       "  7.0   8.0  10.0  12.0  20.0  21.0      51.0   53.0   54.0   57.0   60.0\n",
       "  9.0  11.0  12.0  13.0  21.0  22.0  …   55.0   63.0   66.0   69.0   70.0\n",
       " 14.0  19.0  23.0  25.0  26.0  27.0      57.0   64.0   68.0   71.0   76.0\n",
       " 15.0  20.0  25.0  29.0  30.0  33.0      58.0   66.0   72.0   74.0   78.0\n",
       " 19.0  21.0  33.0  35.0  36.0  37.0      60.0   67.0   74.0   76.0   79.0\n",
       " 21.0  22.0  35.0  37.0  38.0  39.0      62.0   68.0   76.0   77.0   80.0\n",
       " 22.0  23.0  36.0  40.0  42.0  45.0  …   66.0   69.0   80.0   83.0   84.0\n",
       " 23.0  25.0  39.0  43.0  44.0  47.0      72.0   73.0   81.0   85.0   88.0\n",
       " 27.0  32.0  41.0  44.0  47.0  49.0      77.0   79.0   84.0   88.0   89.0\n",
       " 33.0  34.0  44.0  45.0  48.0  51.0      81.0   83.0   85.0   91.0   95.0\n",
       " 34.0  38.0  48.0  49.0  51.0  53.0      87.0   89.0   90.0   92.0   97.0\n",
       " 36.0  39.0  51.0  52.0  56.0  57.0  …   89.0   91.0   96.0   98.0   99.0\n",
       " 38.0  42.0  55.0  58.0  60.0  61.0      91.0   93.0   97.0  100.0  102.0\n",
       " 41.0  44.0  56.0  60.0  62.0  63.0      97.0  100.0  101.0  103.0  104.0\n",
       " 42.0  45.0  59.0  61.0  64.0  65.0     103.0  104.0  106.0  107.0  108.0\n",
       " 45.0  47.0  62.0  63.0  65.0  66.0     107.0  108.0  112.0  113.0  118.0"
      ]
     },
     "execution_count": 4,
     "metadata": {},
     "output_type": "execute_result"
    }
   ],
   "source": [
    "# Simulate Dynamic Programming\n",
    "# T(m, n) = max(T(m-1, n), T(m, n-1)) + s + 1\n",
    "T = zeros(mat_size, mat_size)\n",
    "for row_num = 1:mat_size\n",
    "    for col_num = 1:mat_size\n",
    "        if (row_num > 1 && col_num > 1)\n",
    "            # This is really the main case; the rest are just literally the \"edges.\"\n",
    "            T[row_num, col_num] = (max(T[row_num - 1, col_num], T[row_num, col_num - 1])\n",
    "                + indep_draws[row_num, col_num] + 1)\n",
    "        elseif (row_num == 1 && col_num > 1)\n",
    "            T[row_num, col_num] = (T[row_num, col_num - 1] + indep_draws[row_num, col_num]\n",
    "                + 1)\n",
    "        elseif (col_num == 1 && row_num > 1)\n",
    "            T[row_num, col_num] = (T[row_num - 1, col_num] + indep_draws[row_num, col_num]\n",
    "                + 1)\n",
    "        elseif (col_num == 1 && row_num == 1)\n",
    "            T[row_num, col_num] = indep_draws[row_num, col_num] + 1\n",
    "        else\n",
    "            error(\"Invalid row or column number combination // out of bounds.\")\n",
    "        end\n",
    "    end\n",
    "end\n",
    "T = T .- (T[1,1] - 1) # so that T[1,1] = 1"
   ]
  },
  {
   "cell_type": "code",
   "execution_count": 5,
   "metadata": {},
   "outputs": [],
   "source": [
    "# Visualize corner growth"
   ]
  },
  {
   "cell_type": "code",
   "execution_count": 6,
   "metadata": {},
   "outputs": [],
   "source": [
    "# analytical limiting shape:\n",
    "limiting(x, y) = x + y + 2*√(x*y*p);"
   ]
  },
  {
   "cell_type": "code",
   "execution_count": 7,
   "metadata": {},
   "outputs": [
    {
     "data": {
      "application/vnd.webio.node+json": {
       "children": [
        {
         "children": [
          {
           "children": [
            {
             "children": [
              {
               "children": [
                {
                 "children": [
                  ""
                 ],
                 "instanceArgs": {
                  "namespace": "html",
                  "tag": "label"
                 },
                 "nodeType": "DOM",
                 "props": {
                  "className": "interact ",
                  "style": {
                   "padding": "5px 10px 0px 10px"
                  }
                 },
                 "type": "node"
                }
               ],
               "instanceArgs": {
                "namespace": "html",
                "tag": "div"
               },
               "nodeType": "DOM",
               "props": {
                "className": "interact-flex-row-left"
               },
               "type": "node"
              },
              {
               "children": [
                {
                 "children": [],
                 "instanceArgs": {
                  "namespace": "html",
                  "tag": "input"
                 },
                 "nodeType": "DOM",
                 "props": {
                  "attributes": {
                   "data-bind": "numericValue: index, valueUpdate: 'input', event: {change: function (){this.changes(this.changes()+1)}}",
                   "orient": "horizontal",
                   "type": "range"
                  },
                  "className": "slider slider is-fullwidth",
                  "max": 119,
                  "min": 1,
                  "step": 1,
                  "style": {}
                 },
                 "type": "node"
                }
               ],
               "instanceArgs": {
                "namespace": "html",
                "tag": "div"
               },
               "nodeType": "DOM",
               "props": {
                "className": "interact-flex-row-center"
               },
               "type": "node"
              },
              {
               "children": [
                {
                 "children": [],
                 "instanceArgs": {
                  "namespace": "html",
                  "tag": "p"
                 },
                 "nodeType": "DOM",
                 "props": {
                  "attributes": {
                   "data-bind": "text: formatted_val"
                  }
                 },
                 "type": "node"
                }
               ],
               "instanceArgs": {
                "namespace": "html",
                "tag": "div"
               },
               "nodeType": "DOM",
               "props": {
                "className": "interact-flex-row-right"
               },
               "type": "node"
              }
             ],
             "instanceArgs": {
              "namespace": "html",
              "tag": "div"
             },
             "nodeType": "DOM",
             "props": {
              "className": "interact-flex-row interact-widget"
             },
             "type": "node"
            }
           ],
           "instanceArgs": {
            "handlers": {
             "changes": [
              "(function (val){return (val!=this.model[\"changes\"]()) ? (this.valueFromJulia[\"changes\"]=true, this.model[\"changes\"](val)) : undefined})"
             ],
             "index": [
              "(function (val){return (val!=this.model[\"index\"]()) ? (this.valueFromJulia[\"index\"]=true, this.model[\"index\"](val)) : undefined})"
             ]
            },
            "id": "4821615813723153445",
            "imports": {
             "data": [
              {
               "name": "knockout",
               "type": "js",
               "url": "/assetserver/c94c04b3c7277ec2ffa6cd00982f4e6f751ff20b-knockout.js"
              },
              {
               "name": "knockout_punches",
               "type": "js",
               "url": "/assetserver/b7be776731d2927476fa24be8cecd564b4c28f1e-knockout_punches.js"
              },
              {
               "name": null,
               "type": "js",
               "url": "/assetserver/d2a3c6044be8c8ea75adda4d0582380a9dbae915-all.js"
              },
              {
               "name": null,
               "type": "css",
               "url": "/assetserver/0e23a546158718d7256b210baae7d72c8e6e1f2e-style.css"
              },
              {
               "name": null,
               "type": "css",
               "url": "/assetserver/3c49ab4ec0abf8cf18d163efc5dcc0b63a76d8d5-bulma_confined.min.css"
              }
             ],
             "type": "async_block"
            },
            "mount_callbacks": [
             "function () {\n    var handler = (function (ko, koPunches) {\n    ko.punches.enableAll();\n    ko.bindingHandlers.numericValue = {\n        init: function(element, valueAccessor, allBindings, data, context) {\n            var stringified = ko.observable(ko.unwrap(valueAccessor()));\n            stringified.subscribe(function(value) {\n                var val = parseFloat(value);\n                if (!isNaN(val)) {\n                    valueAccessor()(val);\n                }\n            });\n            valueAccessor().subscribe(function(value) {\n                var str = JSON.stringify(value);\n                if ((str == \"0\") && ([\"-0\", \"-0.\"].indexOf(stringified()) >= 0))\n                     return;\n                 if ([\"null\", \"\"].indexOf(str) >= 0)\n                     return;\n                stringified(str);\n            });\n            ko.applyBindingsToNode(\n                element,\n                {\n                    value: stringified,\n                    valueUpdate: allBindings.get('valueUpdate'),\n                },\n                context,\n            );\n        }\n    };\n    var json_data = {\"formatted_vals\":[\"1.0\",\"2.0\",\"3.0\",\"4.0\",\"5.0\",\"6.0\",\"7.0\",\"8.0\",\"9.0\",\"10.0\",\"11.0\",\"12.0\",\"13.0\",\"14.0\",\"15.0\",\"16.0\",\"17.0\",\"18.0\",\"19.0\",\"20.0\",\"21.0\",\"22.0\",\"23.0\",\"24.0\",\"25.0\",\"26.0\",\"27.0\",\"28.0\",\"29.0\",\"30.0\",\"31.0\",\"32.0\",\"33.0\",\"34.0\",\"35.0\",\"36.0\",\"37.0\",\"38.0\",\"39.0\",\"40.0\",\"41.0\",\"42.0\",\"43.0\",\"44.0\",\"45.0\",\"46.0\",\"47.0\",\"48.0\",\"49.0\",\"50.0\",\"51.0\",\"52.0\",\"53.0\",\"54.0\",\"55.0\",\"56.0\",\"57.0\",\"58.0\",\"59.0\",\"60.0\",\"61.0\",\"62.0\",\"63.0\",\"64.0\",\"65.0\",\"66.0\",\"67.0\",\"68.0\",\"69.0\",\"70.0\",\"71.0\",\"72.0\",\"73.0\",\"74.0\",\"75.0\",\"76.0\",\"77.0\",\"78.0\",\"79.0\",\"80.0\",\"81.0\",\"82.0\",\"83.0\",\"84.0\",\"85.0\",\"86.0\",\"87.0\",\"88.0\",\"89.0\",\"90.0\",\"91.0\",\"92.0\",\"93.0\",\"94.0\",\"95.0\",\"96.0\",\"97.0\",\"98.0\",\"99.0\",\"100.0\",\"101.0\",\"102.0\",\"103.0\",\"104.0\",\"105.0\",\"106.0\",\"107.0\",\"108.0\",\"109.0\",\"110.0\",\"111.0\",\"112.0\",\"113.0\",\"114.0\",\"115.0\",\"116.0\",\"117.0\",\"118.0\",\"119.0\"],\"changes\":WebIO.getval({\"name\":\"changes\",\"scope\":\"4821615813723153445\",\"id\":\"ob_03\",\"type\":\"observable\"}),\"index\":WebIO.getval({\"name\":\"index\",\"scope\":\"4821615813723153445\",\"id\":\"ob_02\",\"type\":\"observable\"})};\n    var self = this;\n    function AppViewModel() {\n        for (var key in json_data) {\n            var el = json_data[key];\n            this[key] = Array.isArray(el) ? ko.observableArray(el) : ko.observable(el);\n        }\n        \n        [this[\"formatted_val\"]=ko.computed(    function(){\n        return this.formatted_vals()[parseInt(this.index())-(1)];\n    }\n,this)]\n        [this[\"changes\"].subscribe((function (val){!(this.valueFromJulia[\"changes\"]) ? (WebIO.setval({\"name\":\"changes\",\"scope\":\"4821615813723153445\",\"id\":\"ob_03\",\"type\":\"observable\"},val)) : undefined; return this.valueFromJulia[\"changes\"]=false}),self),this[\"index\"].subscribe((function (val){!(this.valueFromJulia[\"index\"]) ? (WebIO.setval({\"name\":\"index\",\"scope\":\"4821615813723153445\",\"id\":\"ob_02\",\"type\":\"observable\"},val)) : undefined; return this.valueFromJulia[\"index\"]=false}),self)]\n        \n    }\n    self.model = new AppViewModel();\n    self.valueFromJulia = {};\n    for (var key in json_data) {\n        self.valueFromJulia[key] = false;\n    }\n    ko.applyBindings(self.model, self.dom);\n}\n);\n    (WebIO.importBlock({\"data\":[{\"name\":\"knockout\",\"type\":\"js\",\"url\":\"/assetserver/c94c04b3c7277ec2ffa6cd00982f4e6f751ff20b-knockout.js\"},{\"name\":\"knockout_punches\",\"type\":\"js\",\"url\":\"/assetserver/b7be776731d2927476fa24be8cecd564b4c28f1e-knockout_punches.js\"}],\"type\":\"async_block\"})).then((imports) => handler.apply(this, imports));\n}\n"
            ],
            "observables": {
             "changes": {
              "id": "ob_03",
              "sync": false,
              "value": 0
             },
             "index": {
              "id": "ob_02",
              "sync": true,
              "value": 1
             }
            },
            "systemjs_options": null
           },
           "nodeType": "Scope",
           "props": {},
           "type": "node"
          }
         ],
         "instanceArgs": {
          "namespace": "html",
          "tag": "div"
         },
         "nodeType": "DOM",
         "props": {
          "className": "field interact-widget"
         },
         "type": "node"
        },
        {
         "children": [
          {
           "children": [],
           "instanceArgs": {
            "id": "ob_09",
            "name": "obs-node"
           },
           "nodeType": "ObservableNode",
           "props": {},
           "type": "node"
          }
         ],
         "instanceArgs": {
          "handlers": {},
          "id": "15395109806995092303",
          "imports": {
           "data": [],
           "type": "async_block"
          },
          "mount_callbacks": [],
          "observables": {
           "obs-node": {
            "id": "ob_09",
            "sync": false,
            "value": {
             "children": [
              {
               "children": [],
               "instanceArgs": {
                "namespace": "html",
                "tag": "div"
               },
               "nodeType": "DOM",
               "props": {
                "setInnerHtml": "<?xml version=\"1.0\" encoding=\"utf-8\"?>\n<svg xmlns=\"http://www.w3.org/2000/svg\" xmlns:xlink=\"http://www.w3.org/1999/xlink\" width=\"600\" height=\"400\" viewBox=\"0 0 2400 1600\">\n<defs>\n  <clipPath id=\"clip1100\">\n    <rect x=\"0\" y=\"0\" width=\"2400\" height=\"1600\"/>\n  </clipPath>\n</defs>\n<polygon clip-path=\"url(#clip1100)\" points=\"\n0,1600 2400,1600 2400,0 0,0 \n  \" fill=\"#ffffff\" fill-rule=\"evenodd\" fill-opacity=\"1\"/>\n<defs>\n  <clipPath id=\"clip1101\">\n    <rect x=\"480\" y=\"0\" width=\"1681\" height=\"1600\"/>\n  </clipPath>\n</defs>\n<polygon clip-path=\"url(#clip1100)\" points=\"\n526.521,1487.47 1966.75,1487.47 1966.75,47.2441 526.521,47.2441 \n  \" fill=\"#ffffff\" fill-rule=\"evenodd\" fill-opacity=\"1\"/>\n<defs>\n  <clipPath id=\"clip1102\">\n    <rect x=\"526\" y=\"47\" width=\"1441\" height=\"1441\"/>\n  </clipPath>\n</defs>\n<polyline clip-path=\"url(#clip1102)\" style=\"stroke:#000000; stroke-width:2; stroke-opacity:0.1; fill:none\" points=\"\n  829.727,1487.47 829.727,47.2441 \n  \"/>\n<polyline clip-path=\"url(#clip1102)\" style=\"stroke:#000000; stroke-width:2; stroke-opacity:0.1; fill:none\" points=\"\n  1208.74,1487.47 1208.74,47.2441 \n  \"/>\n<polyline clip-path=\"url(#clip1102)\" style=\"stroke:#000000; stroke-width:2; stroke-opacity:0.1; fill:none\" points=\"\n  1587.74,1487.47 1587.74,47.2441 \n  \"/>\n<polyline clip-path=\"url(#clip1102)\" style=\"stroke:#000000; stroke-width:2; stroke-opacity:0.1; fill:none\" points=\"\n  1966.75,1487.47 1966.75,47.2441 \n  \"/>\n<polyline clip-path=\"url(#clip1102)\" style=\"stroke:#000000; stroke-width:2; stroke-opacity:0.1; fill:none\" points=\"\n  526.521,1184.27 1966.75,1184.27 \n  \"/>\n<polyline clip-path=\"url(#clip1102)\" style=\"stroke:#000000; stroke-width:2; stroke-opacity:0.1; fill:none\" points=\"\n  526.521,805.26 1966.75,805.26 \n  \"/>\n<polyline clip-path=\"url(#clip1102)\" style=\"stroke:#000000; stroke-width:2; stroke-opacity:0.1; fill:none\" points=\"\n  526.521,426.252 1966.75,426.252 \n  \"/>\n<polyline clip-path=\"url(#clip1102)\" style=\"stroke:#000000; stroke-width:2; stroke-opacity:0.1; fill:none\" points=\"\n  526.521,47.2441 1966.75,47.2441 \n  \"/>\n<polyline clip-path=\"url(#clip1100)\" style=\"stroke:#000000; stroke-width:4; stroke-opacity:1; fill:none\" points=\"\n  526.521,1487.47 1966.75,1487.47 \n  \"/>\n<polyline clip-path=\"url(#clip1100)\" style=\"stroke:#000000; stroke-width:4; stroke-opacity:1; fill:none\" points=\"\n  526.521,1487.47 526.521,47.2441 \n  \"/>\n<polyline clip-path=\"url(#clip1100)\" style=\"stroke:#000000; stroke-width:4; stroke-opacity:1; fill:none\" points=\"\n  829.727,1487.47 829.727,1465.87 \n  \"/>\n<polyline clip-path=\"url(#clip1100)\" style=\"stroke:#000000; stroke-width:4; stroke-opacity:1; fill:none\" points=\"\n  1208.74,1487.47 1208.74,1465.87 \n  \"/>\n<polyline clip-path=\"url(#clip1100)\" style=\"stroke:#000000; stroke-width:4; stroke-opacity:1; fill:none\" points=\"\n  1587.74,1487.47 1587.74,1465.87 \n  \"/>\n<polyline clip-path=\"url(#clip1100)\" style=\"stroke:#000000; stroke-width:4; stroke-opacity:1; fill:none\" points=\"\n  1966.75,1487.47 1966.75,1465.87 \n  \"/>\n<polyline clip-path=\"url(#clip1100)\" style=\"stroke:#000000; stroke-width:4; stroke-opacity:1; fill:none\" points=\"\n  526.521,1184.27 548.124,1184.27 \n  \"/>\n<polyline clip-path=\"url(#clip1100)\" style=\"stroke:#000000; stroke-width:4; stroke-opacity:1; fill:none\" points=\"\n  526.521,805.26 548.124,805.26 \n  \"/>\n<polyline clip-path=\"url(#clip1100)\" style=\"stroke:#000000; stroke-width:4; stroke-opacity:1; fill:none\" points=\"\n  526.521,426.252 548.124,426.252 \n  \"/>\n<polyline clip-path=\"url(#clip1100)\" style=\"stroke:#000000; stroke-width:4; stroke-opacity:1; fill:none\" points=\"\n  526.521,47.2441 548.124,47.2441 \n  \"/>\n<g clip-path=\"url(#clip1100)\">\n<text style=\"fill:#000000; fill-opacity:1; font-family:Arial,Helvetica Neue,Helvetica,sans-serif; font-size:48px; text-anchor:middle;\" transform=\"rotate(0, 829.727, 1541.47)\" x=\"829.727\" y=\"1541.47\">5</text>\n</g>\n<g clip-path=\"url(#clip1100)\">\n<text style=\"fill:#000000; fill-opacity:1; font-family:Arial,Helvetica Neue,Helvetica,sans-serif; font-size:48px; text-anchor:middle;\" transform=\"rotate(0, 1208.74, 1541.47)\" x=\"1208.74\" y=\"1541.47\">10</text>\n</g>\n<g clip-path=\"url(#clip1100)\">\n<text style=\"fill:#000000; fill-opacity:1; font-family:Arial,Helvetica Neue,Helvetica,sans-serif; font-size:48px; text-anchor:middle;\" transform=\"rotate(0, 1587.74, 1541.47)\" x=\"1587.74\" y=\"1541.47\">15</text>\n</g>\n<g clip-path=\"url(#clip1100)\">\n<text style=\"fill:#000000; fill-opacity:1; font-family:Arial,Helvetica Neue,Helvetica,sans-serif; font-size:48px; text-anchor:middle;\" transform=\"rotate(0, 1966.75, 1541.47)\" x=\"1966.75\" y=\"1541.47\">20</text>\n</g>\n<g clip-path=\"url(#clip1100)\">\n<text style=\"fill:#000000; fill-opacity:1; font-family:Arial,Helvetica Neue,Helvetica,sans-serif; font-size:48px; text-anchor:end;\" transform=\"rotate(0, 502.521, 1201.77)\" x=\"502.521\" y=\"1201.77\">5</text>\n</g>\n<g clip-path=\"url(#clip1100)\">\n<text style=\"fill:#000000; fill-opacity:1; font-family:Arial,Helvetica Neue,Helvetica,sans-serif; font-size:48px; text-anchor:end;\" transform=\"rotate(0, 502.521, 822.76)\" x=\"502.521\" y=\"822.76\">10</text>\n</g>\n<g clip-path=\"url(#clip1100)\">\n<text style=\"fill:#000000; fill-opacity:1; font-family:Arial,Helvetica Neue,Helvetica,sans-serif; font-size:48px; text-anchor:end;\" transform=\"rotate(0, 502.521, 443.752)\" x=\"502.521\" y=\"443.752\">15</text>\n</g>\n<g clip-path=\"url(#clip1100)\">\n<text style=\"fill:#000000; fill-opacity:1; font-family:Arial,Helvetica Neue,Helvetica,sans-serif; font-size:48px; text-anchor:end;\" transform=\"rotate(0, 502.521, 64.7441)\" x=\"502.521\" y=\"64.7441\">20</text>\n</g>\n<g clip-path=\"url(#clip1102)\">\n<image width=\"1516\" height=\"1516\" xlink:href=\"data:image/png;base64,\niVBORw0KGgoAAAANSUhEUgAABewAAAXsCAYAAABUvMnxAAAgAElEQVR4nOzYMREAIBDAsIfDv2WQ\nQYdEQeeumXMHAAAAAAD4av8OAAAAAAAADHsAAAAAAEgw7AEAAAAAIMCwBwAAAACAAMMeAAAAAAAC\nDHsAAAAAAAgw7AEAAAAAIMCwBwAAAACAAMMeAAAAAAACDHsAAAAAAAgw7AEAAAAAIMCwBwAAAACA\nAMMeAAAAAAACDHsAAAAAAAgw7AEAAAAAIMCwBwAAAACAAMMeAAAAAAACDHsAAAAAAAgw7AEAAAAA\nIMCwBwAAAACAAMMeAAAAAAACDHsAAAAAAAgw7AEAAAAAIMCwBwAAAACAAMMeAAAAAAACDHsAAAAA\nAAgw7AEAAAAAIMCwBwAAAACAAMMeAAAAAAACDHsAAAAAAAgw7AEAAAAAIMCwBwAAAACAAMMeAAAA\nAAACDHsAAAAAAAgw7AEAAAAAIMCwBwAAAACAAMMeAAAAAAACDHsAAAAAAAgw7AEAAAAAIMCwBwAA\nAACAAMMeAAAAAAACDHsAAAAAAAgw7AEAAAAAIMCwBwAAAACAAMMeAAAAAAACDHsAAAAAAAgw7AEA\nAAAAIMCwBwAAAACAAMMeAAAAAAACDHsAAAAAAAgw7AEAAAAAIMCwBwAAAACAAMMeAAAAAAACDHsA\nAAAAAAgw7AEAAAAAIMCwBwAAAACAAMMeAAAAAAACDHsAAAAAAAgw7AEAAAAAIMCwBwAAAACAAMMe\nAAAAAAACDHsAAAAAAAgw7AEAAAAAIMCwBwAAAACAAMMeAAAAAAACDHsAAAAAAAgw7AEAAAAAIMCw\nBwAAAACAAMMeAAAAAAACDHsAAAAAAAgw7AEAAAAAIMCwBwAAAACAAMMeAAAAAAACDHsAAAAAAAgw\n7AEAAAAAIMCwBwAAAACAAMMeAAAAAAACDHsAAAAAAAgw7AEAAAAAIMCwBwAAAACAAMMeAAAAAAAC\nDHsAAAAAAAgw7AEAAAAAIMCwBwAAAACAAMMeAAAAAAACDHsAAAAAAAgw7AEAAAAAIMCwBwAAAACA\nAMMeAAAAAAACDHsAAAAAAAgw7AEAAAAAIMCwBwAAAACAAMMeAAAAAAACDHsAAAAAAAgw7AEAAAAA\nIMCwBwAAAACAAMMeAAAAAAACDHsAAAAAAAgw7AEAAAAAIMCwBwAAAACAAMMeAAAAAAACDHsAAAAA\nAAgw7AEAAAAAIMCwBwAAAACAAMMeAAAAAAACDHsAAAAAAAgw7AEAAAAAIMCwBwAAAACAAMMeAAAA\nAAACDHsAAAAAAAgw7AEAAAAAIMCwBwAAAACAAMMeAAAAAAACDHsAAAAAAAgw7AEAAAAAIMCwBwAA\nAACAAMMeAAAAAAACDHsAAAAAAAgw7AEAAAAAIMCwBwAAAACAAMMeAAAAAAACDHsAAAAAAAgw7AEA\nAAAAIMCwBwAAAACAAMMeAAAAAAACDHsAAAAAAAgw7AEAAAAAIMCwBwAAAACAAMMeAAAAAAACDHsA\nAAAAAAgw7AEAAAAAIMCwBwAAAACAAMMeAAAAAAACDHsAAAAAAAgw7AEAAAAAIMCwBwAAAACAAMMe\nAAAAAAACDHsAAAAAAAgw7AEAAAAAIMCwBwAAAACAAMMeAAAAAAACDHsAAAAAAAgw7AEAAAAAIMCw\nBwAAAACAAMMeAAAAAAACDHsAAAAAAAgw7AEAAAAAIMCwBwAAAACAAMMeAAAAAAACDHsAAAAAAAgw\n7AEAAAAAIMCwBwAAAACAAMMeAAAAAAACDHsAAAAAAAgw7AEAAAAAIMCwBwAAAACAAMMeAAAAAAAC\nDHsAAAAAAAgw7AEAAAAAIMCwBwAAAACAAMMeAAAAAAACDHsAAAAAAAgw7AEAAAAAIMCwBwAAAACA\nAMMeAAAAAAACDHsAAAAAAAgw7AEAAAAAIMCwBwAAAACAAMMeAAAAAAACDHsAAAAAAAgw7AEAAAAA\nIMCwBwAAAACAAMMeAAAAAAACDHsAAAAAAAgw7AEAAAAAIMCwBwAAAACAAMMeAAAAAAACDHsAAAAA\nAAgw7AEAAAAAIMCwBwAAAACAAMMeAAAAAAACDHsAAAAAAAgw7AEAAAAAIMCwBwAAAACAAMMeAAAA\nAAACDHsAAAAAAAgw7AEAAAAAIMCwBwAAAACAAMMeAAAAAAACDHsAAAAAAAgw7AEAAAAAIMCwBwAA\nAACAAMMeAAAAAAACDHsAAAAAAAgw7AEAAAAAIMCwBwAAAACAAMMeAAAAAAACDHsAAAAAAAgw7AEA\nAAAAIMCwBwAAAACAAMMeAAAAAAACDHsAAAAAAAgw7AEAAAAAIMCwBwAAAACAAMMeAAAAAAACDHsA\nAAAAAAgw7AEAAAAAIMCwBwAAAACAAMMeAAAAAAACDHsAAAAAAAgw7AEAAAAAIMCwBwAAAACAAMMe\nAAAAAAACDHsAAAAAAAgw7AEAAAAAIMCwBwAAAACAAMMeAAAAAAACDHsAAAAAAAgw7AEAAAAAIMCw\nBwAAAACAAMMeAAAAAAACDHsAAAAAAAgw7AEAAAAAIMCwBwAAAACAAMMeAAAAAAACDHsAAAAAAAgw\n7AEAAAAAIMCwBwAAAACAAMMeAAAAAAACDHsAAAAAAAgw7AEAAAAAIMCwBwAAAACAAMMeAAAAAAAC\nDHsAAAAAAAgw7AEAAAAAIMCwBwAAAACAAMMeAAAAAAACDHsAAAAAAAgw7AEAAAAAIMCwBwAAAACA\nAMMeAAAAAAACDHsAAAAAAAgw7AEAAAAAIMCwBwAAAACAAMMeAAAAAAACDHsAAAAAAAgw7AEAAAAA\nIMCwBwAAAACAAMMeAAAAAAACDHsAAAAAAAgw7AEAAAAAIMCwBwAAAACAAMMeAAAAAAACDHsAAAAA\nAAgw7AEAAAAAIMCwBwAAAACAAMMeAAAAAAACDHsAAAAAAAgw7AEAAAAAIMCwBwAAAACAAMMeAAAA\nAAACDHsAAAAAAAgw7AEAAAAAIMCwBwAAAACAAMMeAAAAAAACDHsAAAAAAAgw7AEAAAAAIMCwBwAA\nAACAAMMeAAAAAAACDHsAAAAAAAgw7AEAAAAAIMCwBwAAAACAAMMeAAAAAAACDHsAAAAAAAgw7AEA\nAAAAIMCwBwAAAACAAMMeAAAAAAACDHsAAAAAAAgw7AEAAAAAIMCwBwAAAACAAMMeAAAAAAACDHsA\nAAAAAAgw7AEAAAAAIMCwBwAAAACAAMMeAAAAAAACDHsAAAAAAAgw7AEAAAAAIMCwBwAAAACAAMMe\nAAAAAAACDHsAAAAAAAgw7AEAAAAAIMCwBwAAAACAAMMeAAAAAAACDHsAAAAAAAgw7AEAAAAAIMCw\nBwAAAACAAMMeAAAAAAACDHsAAAAAAAgw7AEAAAAAIMCwBwAAAACAAMMeAAAAAAACDHsAAAAAAAgw\n7AEAAAAAIMCwBwAAAACAAMMeAAAAAAACDHsAAAAAAAgw7AEAAAAAIMCwBwAAAACAAMMeAAAAAAAC\nDHsAAAAAAAgw7AEAAAAAIMCwBwAAAACAAMMeAAAAAAACDHsAAAAAAAgw7AEAAAAAIMCwBwAAAACA\nAMMeAAAAAAACDHsAAAAAAAgw7AEAAAAAIMCwBwAAAACAAMMeAAAAAAACDHsAAAAAAAgw7AEAAAAA\nIMCwBwAAAACAAMMeAAAAAAACDHsAAAAAAAgw7AEAAAAAIMCwBwAAAACAAMMeAAAAAAACDHsAAAAA\nAAgw7AEAAAAAIMCwBwAAAACAAMMeAAAAAAACDHsAAAAAAAgw7AEAAAAAIMCwBwAAAACAAMMeAAAA\nAAACDHsAAAAAAAgw7AEAAAAAIMCwBwAAAACAAMMeAAAAAAACDHsAAAAAAAgw7AEAAAAAIMCwBwAA\nAACAAMMeAAAAAAACDHsAAAAAAAgw7AEAAAAAIMCwBwAAAACAAMMeAAAAAAACDHsAAAAAAAgw7AEA\nAAAAIMCwBwAAAACAAMMeAAAAAAACDHsAAAAAAAgw7AEAAAAAIMCwBwAAAACAAMMeAAAAAAACDHsA\nAAAAAAgw7AEAAAAAIMCwBwAAAACAAMMeAAAAAAACDHsAAAAAAAgw7AEAAAAAIMCwBwAAAACAAMMe\nAAAAAAACDHsAAAAAAAgw7AEAAAAAIMCwBwAAAACAAMMeAAAAAAACDHsAAAAAAAgw7AEAAAAAIMCw\nBwAAAACAAMMeAAAAAAACDHsAAAAAAAgw7AEAAAAAIMCwBwAAAACAAMMeAAAAAAACDHsAAAAAAAgw\n7AEAAAAAIMCwBwAAAACAAMMeAAAAAAACDHsAAAAAAAgw7AEAAAAAIMCwBwAAAACAAMMeAAAAAAAC\nDHsAAAAAAAgw7AEAAAAAIMCwBwAAAACAAMMeAAAAAAACDHsAAAAAAAgw7AEAAAAAIMCwBwAAAACA\nAMMeAAAAAAACDHsAAAAAAAgw7AEAAAAAIMCwBwAAAACAAMMeAAAAAAACDHsAAAAAAAgw7AEAAAAA\nIMCwBwAAAACAAMMeAAAAAAACDHsAAAAAAAgw7AEAAAAAIMCwBwAAAACAAMMeAAAAAAACDHsAAAAA\nAAgw7AEAAAAAIMCwBwAAAACAAMMeAAAAAAACDHsAAAAAAAgw7AEAAAAAIMCwBwAAAACAAMMeAAAA\nAAACDHsAAAAAAAgw7AEAAAAAIMCwBwAAAACAAMMeAAAAAAACDHsAAAAAAAgw7AEAAAAAIMCwBwAA\nAACAAMMeAAAAAAACDHsAAAAAAAgw7AEAAAAAIMCwBwAAAACAAMMeAAAAAAACDHsAAAAAAAgw7AEA\nAAAAIMCwBwAAAACAAMMeAAAAAAACDHsAAAAAAAgw7AEAAAAAIMCwBwAAAACAAMMeAAAAAAACDHsA\nAAAAAAgw7AEAAAAAIMCwBwAAAACAAMMeAAAAAAACDHsAAAAAAAgw7AEAAAAAIMCwBwAAAACAAMMe\nAAAAAAACDHsAAAAAAAgw7AEAAAAAIMCwBwAAAACAAMMeAAAAAAACDHsAAAAAAAgw7AEAAAAAIMCw\nBwAAAACAAMMeAAAAAAACDHsAAAAAAAgw7AEAAAAAIMCwBwAAAACAAMMeAAAAAAACDHsAAAAAAAgw\n7AEAAAAAIMCwBwAAAACAAMMeAAAAAAACDHsAAAAAAAgw7AEAAAAAIMCwBwAAAACAAMMeAAAAAAAC\nDHsAAAAAAAgw7AEAAAAAIMCwBwAAAACAAMMeAAAAAAACDHsAAAAAAAgw7AEAAAAAIMCwBwAAAACA\nAMMeAAAAAAACDHsAAAAAAAgw7AEAAAAAIMCwBwAAAACAAMMeAAAAAAACDHsAAAAAAAgw7AEAAAAA\nIMCwBwAAAACAAMMeAAAAAAACDHsAAAAAAAgw7AEAAAAAIMCwBwAAAACAAMMeAAAAAAACDHsAAAAA\nAAgw7AEAAAAAIMCwBwAAAACAAMMeAAAAAAACDHsAAAAAAAgw7AEAAAAAIMCwBwAAAACAAMMeAAAA\nAAACDHsAAAAAAAgw7AEAAAAAIMCwBwAAAACAAMMeAAAAAAACDHsAAAAAAAgw7AEAAAAAIMCwBwAA\nAACAAMMeAAAAAAACDHsAAAAAAAgw7AEAAAAAIMCwBwAAAACAAMMeAAAAAAACDHsAAAAAAAgw7AEA\nAAAAIMCwBwAAAACAAMMeAAAAAAACDHsAAAAAAAgw7AEAAAAAIMCwBwAAAACAAMMeAAAAAAACDHsA\nAAAAAAgw7AEAAAAAIMCwBwAAAACAAMMeAAAAAAACDHsAAAAAAAgw7AEAAAAAIMCwBwAAAACAAMMe\nAAAAAAACDHsAAAAAAAgw7AEAAAAAIMCwBwAAAACAAMMeAAAAAAACDHsAAAAAAAgw7AEAAAAAIMCw\nBwAAAACAAMMeAAAAAAACDHsAAAAAAAgw7AEAAAAAIMCwBwAAAACAAMMeAAAAAAACDHsAAAAAAAgw\n7AEAAAAAIMCwBwAAAACAAMMeAAAAAAACDHsAAAAAAAgw7AEAAAAAIMCwBwAAAACAAMMeAAAAAAAC\nDHsAAAAAAAgw7AEAAAAAIMCwBwAAAACAAMMeAAAAAAACDHsAAAAAAAgw7AEAAAAAIMCwBwAAAACA\nAMMeAAAAAAACDHsAAAAAAAgw7AEAAAAAIMCwBwAAAACAAMMeAAAAAAACDHsAAAAAAAgw7AEAAAAA\nIMCwBwAAAACAAMMeAAAAAAACDHsAAAAAAAgw7AEAAAAAIMCwBwAAAACAAMMeAAAAAAACDHsAAAAA\nAAgw7AEAAAAAIMCwBwAAAACAAMMeAAAAAAACDHsAAAAAAAgw7AEAAAAAIMCwBwAAAACAAMMeAAAA\nAAACDHsAAAAAAAgw7AEAAAAAIMCwBwAAAACAAMMeAAAAAAACDHsAAAAAAAgw7AEAAAAAIMCwBwAA\nAACAAMMeAAAAAAACDHsAAAAAAAgw7AEAAAAAIMCwBwAAAACAAMMeAAAAAAACDHsAAAAAAAgw7AEA\nAAAAIMCwBwAAAACAAMMeAAAAAAACDHsAAAAAAAgw7AEAAAAAIMCwBwAAAACAAMMeAAAAAAACDHsA\nAAAAAAgw7AEAAAAAIMCwBwAAAACAAMMeAAAAAAACDHsAAAAAAAgw7AEAAAAAIMCwBwAAAACAAMMe\nAAAAAAACDHsAAAAAAAgw7AEAAAAAIMCwBwAAAACAAMMeAAAAAAACDHsAAAAAAAgw7AEAAAAAIMCw\nBwAAAACAAMMeAAAAAAACDHsAAAAAAAgw7AEAAAAAIMCwBwAAAACAAMMeAAAAAAACDHsAAAAAAAgw\n7AEAAAAAIMCwBwAAAACAAMMeAAAAAAACDHsAAAAAAAgw7AEAAAAAIMCwBwAAAACAAMMeAAAAAAAC\nDHsAAAAAAAgw7AEAAAAAIMCwBwAAAACAAMMeAAAAAAACDHsAAAAAAAgw7AEAAAAAIMCwBwAAAACA\nAMMeAAAAAAACDHsAAAAAAAgw7AEAAAAAIMCwBwAAAACAAMMeAAAAAAACDHsAAAAAAAgw7AEAAAAA\nIMCwBwAAAACAAMMeAAAAAAACDHsAAAAAAAgw7AEAAAAAIMCwBwAAAACAAMMeAAAAAAACDHsAAAAA\nAAgw7AEAAAAAIMCwBwAAAACAAMMeAAAAAAACDHsAAAAAAAgw7AEAAAAAIMCwBwAAAACAAMMeAAAA\nAAACDHsAAAAAAAgw7AEAAAAAIMCwBwAAAACAAMMeAAAAAAACDHsAAAAAAAgw7AEAAAAAIMCwBwAA\nAACAAMMeAAAAAAACDHsAAAAAAAgw7AEAAAAAIMCwBwAAAACAAMMeAAAAAAACDHsAAAAAAAgw7AEA\nAAAAIMCwBwAAAACAAMMeAAAAAAACDHsAAAAAAAgw7AEAAAAAIMCwBwAAAACAAMMeAAAAAAACDHsA\nAAAAAAgw7AEAAAAAIMCwBwAAAACAAMMeAAAAAAACDHsAAAAAAAgw7AEAAAAAIMCwBwAAAACAAMMe\nAAAAAAACDHsAAAAAAAgw7AEAAAAAIMCwBwAAAACAAMMeAAAAAAACDHsAAAAAAAgw7AEAAAAAIMCw\nBwAAAACAAMMeAAAAAAACDHsAAAAAAAgw7AEAAAAAIMCwBwAAAACAAMMeAAAAAAACDHsA4LFjxwIA\nAAAAg/ytp7GjMAIAAAAGhD0AAAAAAAwIewAAAAAAGBD2AAAAAAAwIOwBAAAAAGBA2AMAAAAAwICw\nBwAAAACAAWEPAAAAAAADwh4AAAAAAAaEPQAAAAAADAh7AAAAAAAYEPYAAAAAADAg7AEAAAAAYEDY\nAwAAAADAgLAHAAAAAIABYQ8AAAAAAAPCHgAAAAAABoQ9AAAAAAAMCHsAAAAAABgQ9gAAAAAAMCDs\nAQAAAABgQNgDAAAAAMCAsAcAAAAAgAFhDwAAAAAAA8IeAAAAAAAGhD0AAAAAAAwIewAAAAAAGBD2\nAAAAAAAwIOwBAAAAAGBA2AMAAAAAwICwBwAAAACAAWEPAAAAAAADwh4AAAAAAAaEPQAAAAAADAh7\nAAAAAAAYEPYAAAAAADAg7AEAAAAAYEDYAwAAAADAgLAHAAAAAIABYQ8AAAAAAAPCHgAAAAAABoQ9\nAAAAAAAMCHsAAAAAABgQ9gAAAAAAMCDsAQAAAABgQNgDAAAAAMCAsAcAAAAAgAFhDwAAAAAAA8Ie\nAAAAAAAGhD0AAAAAAAwIewAAAAAAGBD2AAAAAAAwIOwBAAAAAGBA2AMAAAAAwICwBwAAAACAAWEP\nAAAAAAADwh4AAAAAAAaEPQAAAAAADAh7AAAAAAAYEPYAAAAAADAg7AEAAAAAYEDYAwAAAADAgLAH\nAAAAAIABYQ8AAAAAAAPCHgAAAAAABoQ9AAAAAAAMCHsAAAAAABgQ9gAAAAAAMCDsAQAAAABgQNgD\nAAAAAMCAsAcAAAAAgAFhDwAAAAAAA8IeAAAAAAAGhD0AAAAAAAwIewAAAAAAGBD2AAAAAAAwIOwB\nAAAAAGBA2AMAAAAAwICwBwAAAACAAWEPAAAAAAADwh4AAAAAAAaEPQAAAAAADAh7AAAAAAAYEPYA\nAAAAADAg7AEAAAAAYEDYAwAAAADAgLAHAAAAAIABYQ8AAAAAAAPCHgAAAAAABoQ9AAAAAAAMCHsA\nAAAAABgQ9gAAAAAAMCDsAQAAAABgQNgDAAAAAMCAsAcAAAAAgAFhDwAAAAAAA8IeAAAAAAAGhD0A\nAAAAAAwIewAAAAAAGBD2AAAAAAAwIOwBAAAAAGBA2AMAAAAAwICwBwAAAACAAWEPAAAAAAADwh4A\nAAAAAAaEPQAAAAAADAh7AAAAAAAYEPYAAAAAADAg7AEAAAAAYEDYAwAAAADAgLAHAAAAAIABYQ8A\nAAAAAAPCHgAAAAAABoQ9AAAAAAAMCHsAAAAAABgQ9gAAAAAAMCDsAQAAAABgQNgDAAAAAMCAsAcA\nAAAAgAFhDwAAAAAAA8IeAAAAAAAGhD0AAAAAAAwIewAAAAAAGBD2AAAAAAAwIOwBAAAAAGBA2AMA\nAAAAwICwBwAAAACAAWEPAAAAAAADwh4AAAAAAAaEPQAAAAAADAh7AAAAAAAYEPYAAAAAADAg7AEA\nAAAAYEDYAwAAAADAgLAHAAAAAIABYQ8AAAAAAAPCHgAAAAAABoQ9AAAAAAAMCHsAAAAAABgQ9gAA\nAAAAMCDsAQAAAABgQNgDAAAAAMCAsAcAAAAAgAFhDwAAAAAAA8IeAAAAAAAGhD0AAAAAAAwIewAA\nAAAAGBD2AAAAAAAwIOwBAAAAAGBA2AMAAAAAwICwBwAAAACAAWEPAAAAAAADwh4AAAAAAAaEPQAA\nAAAADAh7AAAAAAAYEPYAAAAAADAg7AEAAAAAYEDYAwAAAADAgLAHAAAAAIABYQ8AAAAAAAPCHgAA\nAAAABoQ9AAAAAAAMCHsAAAAAABgQ9gAAAAAAMCDsAQAAAABgQNgDAAAAAMCAsAcAAAAAgAFhDwAA\nAAAAA8IeAAAAAAAGhD0AAAAAAAwIewAAAAAAGBD2AAAAAAAwIOwBAAAAAGBA2AMAAAAAwICwBwAA\nAACAAWEPAAAAAAADwh4AAAAAAAaEPQAAAAAADAh7AAAAAAAYEPYAAAAAADAg7AEAAAAAYEDYAwAA\nAADAgLAHAAAAAIABYQ8AAAAAAAPCHgAAAAAABoQ9AAAAAAAMCHsAAAAAABgQ9gAAAAAAMCDsAQAA\nAABgQNgDAAAAAMCAsAcAAAAAgAFhDwAAAAAAA8IeAAAAAAAGhD0AAAAAAAwIewAAAAAAGBD2AAAA\nAAAwIOwBAAAAAGBA2AMAAAAAwICwBwAAAACAAWEPAAAAAAADwh4AAAAAAAaEPQAAAAAADAh7AAAA\nAAAYEPYAAAAAADAg7AEAAAAAYEDYAwAAAADAgLAHAAAAAIABYQ8AAAAAAAPCHgAAAAAABoQ9AAAA\nAAAMCHsAAAAAABgQ9gAAAAAAMCDsAQAAAABgQNgDAAAAAMCAsAcAAAAAgAFhDwAAAAAAA8IeAAAA\nAAAGhD0AAAAAAAwIewAAAAAAGBD2AAAAAAAwIOwBAAAAAGBA2AMAAAAAwICwBwAAAACAAWEPAAAA\nAAADwh4AAAAAAAaEPQAAAAAADAh7AAAAAAAYEPYAAAAAADAg7AEAAAAAYEDYAwAAAADAgLAHAAAA\nAIABYQ8AAAAAAAPCHgAAAAAABoQ9AAAAAAAMCHsAAAAAABgQ9gAAAAAAMCDsAQAAAABgQNgDAAAA\nAMCAsAcAAAAAgAFhDwAAAAAAA8IeAAAAAAAGhD0AAAAAAAwIewAAAAAAGBD2AAAAAAAwIOwBAAAA\nAGBA2AMAAAAAwICwBwAAAACAAWEPAAAAAAADwh4AAAAAAAaEPQAAAAAADAh7AAAAAAAYEPYAAAAA\nADAg7AEAAAAAYEDYAwAAAADAgLAHAAAAAIABYQ8AAAAAAAPCHgAAAAAABoQ9AAAAAAAMCHsAAAAA\nABgQ9gAAAAAAMCDsAQAAAABgQNgDAAAAAMCAsAcAAAAAgAFhDwAAAAAAA8IeAAAAAAAGhD0AAAAA\nAAwIewAAAAAAGBD2AAAAAAAwIOwBAAAAAGBA2AMAAAAAwICwBwAAAACAAWEPAAAAAAADwh4AAAAA\nAAaEPQAAAAAADAh7AAAAAAAYEPYAAAAAADAg7AEAAAAAYEDYAwAAAADAgLAHAAAAAIABYQ8AAAAA\nAAPCHgAAAAAABoQ9AAAAAAAMCHsAAAAAABgQ9gAAAAAAMCDsAQAAAABgQNgDAAAAAMCAsAcAAAAA\ngAFhDwAAAAAAA8IeAAAAAAAGhD0AAAAAAAwIewAAAAAAGBD2AAAAAAAwIOwBAAAAAGBA2AMAAAAA\nwICwBwAAAACAAWEPAAAAAAADwh4AAAAAAAaEPQAAAAAADAh7AAAAAAAYEPYAAAAAADAg7AEAAAAA\nYEDYAwAAAADAgLAHAAAAAIABYQ8AAAAAAAPCHgAAAAAABoQ9AAAAAAAMCHsAAAAAABgQ9gAAAAAA\nMCDsAQAAAABgQNgDAAAAAMCAsAcAAAAAgBqBQZUAABDYSURBVAFhDwAAAAAAA8IeAAAAAAAGhD0A\nAAAAAAwIewAAAAAAGBD2AAAAAAAwIOwBAAAAAGBA2AMAAAAAwICwBwAAAACAAWEPAAAAAAADwh4A\nAAAAAAaEPQAAAAAADAh7AAAAAAAYEPYAAAAAADAg7AEAAAAAYEDYAwAAAADAgLAHAAAAAIABYQ8A\nAAAAAAPCHgAAAAAABoQ9AAAAAAAMCHsAAAAAABgQ9gAAAAAAMCDsAQAAAABgQNgDAAAAAMCAsAcA\nAAAAgAFhDwAAAAAAA8IeAAAAAAAGhD0AAAAAAAwIewAAAAAAGBD2AAAAAAAwIOwBAAAAAGBA2AMA\nAAAAwICwBwAAAACAAWEPAAAAAAADwh4AAAAAAAaEPQAAAAAADAh7AAAAAAAYEPYAAAAAADAg7AEA\nAAAAYEDYAwAAAADAgLAHAAAAAIABYQ8AAAAAAAPCHgAAAAAABoQ9AAAAAAAMCHsAAAAAABgQ9gAA\nAAAAMCDsAQAAAABgQNgDAAAAAMCAsAcAAAAAgAFhDwAAAAAAA8IeAAAAAAAGhD0AAAAAAAwIewAA\nAAAAGBD2AAAAAAAwIOwBAAAAAGBA2AMAAAAAwICwBwAAAACAAWEPAAAAAAADwh4AAAAAAAaEPQAA\nAAAADAh7AAAAAAAYEPYAAAAAADAg7AEAAAAAYEDYAwAAAADAgLAHAAAAAIABYQ8AAAAAAAPCHgAA\nAAAABoQ9AAAAAAAMCHsAAAAAABgQ9gAAAAAAMCDsAQAAAABgQNgDAAAAAMCAsAcAAAAAgAFhDwAA\nAAAAA8IeAAAAAAAGhD0AAAAAAAwIewAAAAAAGBD2AAAAAAAwIOwBAAAAAGBA2AMAAAAAwICwBwAA\nAACAAWEPAAAAAAADwh4AAAAAAAaEPQAAAAAADAh7AAAAAAAYEPYAAAAAADAg7AEAAAAAYEDYAwAA\nAADAgLAHAAAAAIABYQ8AAAAAAAPCHgAAAAAABoQ9AAAAAAAMCHsAAAAAABgQ9gAAAAAAMCDsAQAA\nAABgQNgDAAAAAMCAsAcAAAAAgAFhDwAAAAAAA8IeAAAAAAAGhD0AAAAAAAwIewAAAAAAGBD2AAAA\nAAAwIOwBAAAAAGBA2AMAAAAAwICwBwAAAACAAWEPAAAAAAADwh4AAAAAAAaEPQAAAAAADAh7AAAA\nAAAYEPYAAAAAADAg7AEAAAAAYEDYAwAAAADAgLAHAAAAAIABYQ8AAAAAAAPCHgAAAAAABoQ9AAAA\nAAAMCHsAAAAAABgQ9gAAAAAAMCDsAQAAAABgQNgDAAAAAMCAsAcAAAAAgAFhDwAAAAAAA8IeAAAA\nAAAGhD0AAAAAAAwIewAAAAAAGBD2AAAAAAAwIOwBAAAAAGBA2AMAAAAAwICwBwAAAACAAWEPAAAA\nAAADwh4AAAAAAAaEPQAAAAAADAh7AAAAAAAYEPYAAAAAADAg7AEAAAAAYEDYAwAAAADAgLAHAAAA\nAIABYQ8AAAAAAAPCHgAAAAAABoQ9AAAAAAAMCHsAAAAAABgQ9gAAAAAAMCDsAQAAAABgQNgDAAAA\nAMCAsAcAAAAAgAFhDwAAAAAAA8IeAAAAAAAGhD0AAAAAAAwIewAAAAAAGBD2AAAAAAAwIOwBAAAA\nAGBA2AMAAAAAwICwBwAAAACAAWEPAAAAAAADwh4AAAAAAAaEPQAAAAAADAh7AAAAAAAYEPYAAAAA\nADAg7AEAAAAAYEDYAwAAAADAgLAHAAAAAIABYQ8AAAAAAAPCHgAAAAAABoQ9AAAAAAAMCHsAAAAA\nABgQ9gAAAAAAMCDsAQAAAABgQNgDAAAAAMCAsAcAAAAAgAFhDwAAAAAAA8IeAAAAAAAGhD0AAAAA\nAAwIewAAAAAAGBD2AAAAAAAwIOwBAAAAAGBA2AMAAAAAwICwBwAAAACAAWEPAAAAAAADwh4AAAAA\nAAaEPQAAAAAADAh7AAAAAAAYEPYAAAAAADAg7AEAAAAAYEDYAwAAAADAgLAHAAAAAIABYQ8AAAAA\nAAPCHgAAAAAABoQ9AAAAAAAMCHsAAAAAABgQ9gAAAAAAMCDsAQAAAABgQNgDAAAAAMCAsAcAAAAA\ngAFhDwAAAAAAA8IeAAAAAAAGhD0AAAAAAAwIewAAAAAAGBD2AAAAAAAwIOwBAAAAAGBA2AMAAAAA\nwICwBwAAAACAAWEPAAAAAAADwh4AAAAAAAaEPQAAAAAADAh7AAAAAAAYEPYAAAAAADAg7AEAAAAA\nYEDYAwAAAADAgLAHAAAAAIABYQ8AAAAAAAPCHgAAAAAABoQ9AAAAAAAMCHsAAAAAABgQ9gAAAAAA\nMCDsAQAAAABgQNgDAAAAAMCAsAcAAAAAgAFhDwAAAAAAA8IeAAAAAAAGhD0AAAAAAAwIewAAAAAA\nGBD2AAAAAAAwIOwBAAAAAGBA2AMAAAAAwICwBwAAAACAAWEPAAAAAAADwh4AAAAAAAaEPQAAAAAA\nDAh7AAAAAAAYEPYAAAAAADAg7AEAAAAAYEDYAwAAAADAgLAHAAAAAIABYQ8AAAAAAAPCHgAAAAAA\nBoQ9AAAAAAAMCHsAAAAAABgQ9gAAAAAAMCDsAQAAAABgQNgDAAAAAMCAsAcAAAAAgAFhDwAAAAAA\nA8IeAAAAAAAGhD0AAAAAAAwIewAAAAAAGBD2AAAAAAAwIOwBAAAAAGBA2AMAAAAAwICwBwAAAACA\nAWEPAAAAAAADwh4AAAAAAAaEPQAAAAAADAh7AAAAAAAYEPYAAAAAADAg7AEAAAAAYEDYAwAAAADA\ngLAHAAAAAIABYQ8AAAAAAAPCHgAAAAAABoQ9AAAAAAAMCHsAAAAAABgQ9gAAAAAAMCDsAQAAAABg\nQNgDAAAAAMCAsAcAAAAAgAFhDwAAAAAAA8IeAAAAAAAGhD0AAAAAAAwIewAAAAAAGBD2AAAAAAAw\nIOwBAAAAAGBA2AMAAAAAwICwBwAAAACAAWEPAAAAAAADwh4AAAAAAAaEPQAAAAAADAh7AAAAAAAY\nEPYAAAAAADAg7AEAAAAAYEDYAwAAAADAgLAHAAAAAIABYQ8AAAAAAAPCHgAAAAAABoQ9AAAAAAAM\nCHsAAAAAABgQ9gAAAAAAMCDsAQAAAABgQNgDAAAAAMCAsAcAAAAAgAFhDwAAAAAAA8IeAAAAAAAG\nhD0AAAAAAAwIewAAAAAAGBD2AAAAAAAwIOwBAAAAAGBA2AMAAAAAwICwBwAAAACAAWEPAAAAAAAD\nwh4AAAAAAAaEPQAAAAAADAh7AAAAAAAYEPYAAAAAADAg7AEAAAAAYEDYAwAAAADAgLAHAAAAAIAB\nYQ8AAAAAAAPCHgAAAAAABoQ9AAAAAAAMCHsAAAAAABgQ9gAAAAAAMCDsAQAAAABgQNgDAAAAAMCA\nsAcAAAAAgAFhDwAAAAAAA8IeAAAAAAAGhD0AAAAAAAwIewAAAAAAGBD2AAAAAAAwIOwBAAAAAGBA\n2AMAAAAAwICwBwAAAACAAWEPAAAAAAADwh4AAAAAAAaEPQAAAAAADAh7AAAAAAAYEPYAAAAAADAg\n7AEAAAAAYEDYAwAAAADAgLAHAAAAAIABYQ8AAAAAAAPCHgAAAAAABoQ9AAAAAAAMCHsAAAAAABgQ\n9gAAAAAAMCDsAQAAAABgQNgDAAAAAMCAsAcAAAAAgAFhDwAAAAAAA8IeAAAAAAAGhD0AAAAAAAwI\newAAAAAAGBD2AAAAAAAwIOwBAAAAAGBA2AMAAAAAwICwBwAAAACAAWEPAAAAAAADwh4AAAAAAAaE\nPQAAAAAADAh7AAAAAAAYEPYAAAAAADAg7AEAAAAAYEDYAwAAAADAgLAHAAAAAIABYQ8AAAAAAAPC\nHgAAAAAABoQ9AAAAAAAMCHsAAAAAABgQ9gAAAAAAMCDsAQAAAABgQNgDAAAAAMCAsAcAAAAAgAFh\nDwAAAAAAA8IeAAAAAAAGhD0AAAAAAAwIewAAAAAAGBD2AAAAAAAwIOwBAAAAAGBA2AMAAAAAwICw\nBwAAAACAAWEPAAAAAAADwh4AAAAAAAaEPQAAAAAADAh7AAAAAACoXTsoAhAGYCD4qScUVECVIgAF\nuKqMHsyugrxvEiDYAwAAAABAgGAPAAAAAAABgj0AAAAAAAQI9gAAAAAAECDYAwAAAABAgGAPAAAA\nAAABgj0AAAAAAAQI9gAAAAAAECDYAwAAAABAgGAPAAAAAAABgj0AAAAAAAQI9gAAAAAAECDYAwAA\nAABAgGAPAAAAAAABgj0AAAAAAAQI9gAAAAAAECDYAwAAAABAgGAPAAAAAAABgj0AAAAAAAQI9gAA\nAAAAECDYAwAAAABAgGAPAAAAAAABgj0AAAAAAAQI9gAAAAAAECDYAwAAAABAgGAPAAAAAAABgj0A\nAAAAAAQI9gAAAAAAECDYAwAAAABAgGAPAAAAAAABgj0AAAAAAAQI9gAAAAAAECDYAwAAAABAgGAP\nAAAAAAABgj0AAAAAAAQI9gAAAAAAECDYAwAAAABAgGAPAAAAAAABgj0AAAAAAAQI9gAAAAAAECDY\nAwAAAABAgGAPAAAAAAABgj0AAAAAAAQI9gAAAAAAECDYAwAAAABAgGAPAAAAAAABgj0AAAAAAAQI\n9gAAAAAAECDYAwAAAABAgGAPAAAAAAABgj0AAAAAAAQI9gAAAAAAECDYAwAAAABAgGAPAAAAAAAB\ngj0AAAAAAAQI9gAAAAAAECDYAwAAAABAgGAPAAAAAAABgj0AAAAAAAQI9gAAAAAAECDYAwAAAABA\ngGAPAAAAAAABgj0AAAAAAAQI9gAAAAAAECDYAwAAAABAgGAPAAAAAAABgj0AAAAAAAQI9gAAAAAA\nECDYAwAAAABAgGAPAAAAAAABgj0AAAAAAAQI9gAAAAAAECDYAwAAAABAgGAPAAAAAAABgj0AAAAA\nAAQI9gAAAAAAEDCea53e8CnzvU9PAAAAAADghzzsAQAAAAAgQLAHAAAAAIAAwR4AAAAAAAIEewAA\nAAAACBDsAQAAAAAgQLAHAAAAAIAAwR4AAAAAAAIEewAAAAAACBDsAQAAAAAgQLAHAAAAAIAAwR4A\nAAAAAAIEewAAAAAACBDsAQAAAAAgQLAHAAAAAIAAwR4AAAAAAAIEewAAAAAACBDsAQAAAAAgQLAH\nAAAAAIAAwR4AAAAAAAIEewAAAAAACBDsAQAAAAAgQLAHAAAAAIAAwR4AAAAAAAIEewAAAAAACBDs\nAQAAAAAgQLAHAAAAAIAAwR4AAAAAAAIEewAAAAAACBDsAQAAAAAgQLAHAAAAAIAAwR4AAAAAAAIE\newAAAAAACBDsAQAAAAAgQLAHAAAAAIAAwR4AAAAAAAIEewAAAAAACBDsAQAAAAAgQLAHAAAAAIAA\nwR4AAAAAAAIEewAAAAAACBDsAQAAAAAgQLAHAAAAAIAAwR4AAAAAAAIEewAAAAAACBDsAQAAAAAg\nQLAHAAAAAIAAwR4AAAAAAAIEewAAAAAACBDsAQAAAAAgQLAHAAAAAIAAwR4AAAAAAAIEewAAAAAA\nCBDsAQAAAAAgQLAHAAAAAIAAwR4AAAAAAAIEewAAAAAACBDsAQAAAAAgQLAHAAAAAIAAwR4AAAAA\nAAIEewAAAAAACBDsAQAAAAAgQLAHAAAAAIAAwR4AAAAAAAIEewAAAAAACBDsAQAAAAAgQLAHAAAA\nAIAAwR4AAAAAAAIEewAAAAAACBDsAQAAAAAgQLAHAAAAAIAAwR4AAAAAAAIEewAAAAAACBDsAQAA\nAAAgQLAHAAAAAICADQ2lD91LzItTAAAAAElFTkSuQmCC\n\" transform=\"translate(489, 9)\"/>\n</g>\n</svg>\n"
               },
               "type": "node"
              }
             ],
             "instanceArgs": {
              "namespace": "html",
              "tag": "div"
             },
             "nodeType": "DOM",
             "props": {
              "className": "interact-flex-row interact-widget"
             },
             "type": "node"
            }
           }
          },
          "systemjs_options": null
         },
         "nodeType": "Scope",
         "props": {},
         "type": "node"
        }
       ],
       "instanceArgs": {
        "namespace": "html",
        "tag": "div"
       },
       "nodeType": "DOM",
       "props": {},
       "type": "node"
      },
      "text/html": [
       "<div\n",
       "    class=\"webio-mountpoint\"\n",
       "    data-webio-mountpoint=\"809526368376662768\"\n",
       ">\n",
       "    <script>\n",
       "    if (window.require && require.defined && require.defined(\"nbextensions/webio-jupyter-notebook\")) {\n",
       "        console.log(\"Jupyter WebIO extension detected, not mounting.\");\n",
       "    } else if (window.WebIO) {\n",
       "        WebIO.mount(\n",
       "            document.querySelector('[data-webio-mountpoint=\"809526368376662768\"]'),\n",
       "            {\"props\":{},\"nodeType\":\"DOM\",\"type\":\"node\",\"instanceArgs\":{\"namespace\":\"html\",\"tag\":\"div\"},\"children\":[{\"props\":{\"className\":\"field interact-widget\"},\"nodeType\":\"DOM\",\"type\":\"node\",\"instanceArgs\":{\"namespace\":\"html\",\"tag\":\"div\"},\"children\":[{\"props\":{},\"nodeType\":\"Scope\",\"type\":\"node\",\"instanceArgs\":{\"imports\":{\"data\":[{\"name\":\"knockout\",\"type\":\"js\",\"url\":\"\\/assetserver\\/c94c04b3c7277ec2ffa6cd00982f4e6f751ff20b-knockout.js\"},{\"name\":\"knockout_punches\",\"type\":\"js\",\"url\":\"\\/assetserver\\/b7be776731d2927476fa24be8cecd564b4c28f1e-knockout_punches.js\"},{\"name\":null,\"type\":\"js\",\"url\":\"\\/assetserver\\/d2a3c6044be8c8ea75adda4d0582380a9dbae915-all.js\"},{\"name\":null,\"type\":\"css\",\"url\":\"\\/assetserver\\/0e23a546158718d7256b210baae7d72c8e6e1f2e-style.css\"},{\"name\":null,\"type\":\"css\",\"url\":\"\\/assetserver\\/3c49ab4ec0abf8cf18d163efc5dcc0b63a76d8d5-bulma_confined.min.css\"}],\"type\":\"async_block\"},\"id\":\"4821615813723153445\",\"handlers\":{\"changes\":[\"(function (val){return (val!=this.model[\\\"changes\\\"]()) ? (this.valueFromJulia[\\\"changes\\\"]=true, this.model[\\\"changes\\\"](val)) : undefined})\"],\"index\":[\"(function (val){return (val!=this.model[\\\"index\\\"]()) ? (this.valueFromJulia[\\\"index\\\"]=true, this.model[\\\"index\\\"](val)) : undefined})\"]},\"systemjs_options\":null,\"mount_callbacks\":[\"function () {\\n    var handler = (function (ko, koPunches) {\\n    ko.punches.enableAll();\\n    ko.bindingHandlers.numericValue = {\\n        init: function(element, valueAccessor, allBindings, data, context) {\\n            var stringified = ko.observable(ko.unwrap(valueAccessor()));\\n            stringified.subscribe(function(value) {\\n                var val = parseFloat(value);\\n                if (!isNaN(val)) {\\n                    valueAccessor()(val);\\n                }\\n            });\\n            valueAccessor().subscribe(function(value) {\\n                var str = JSON.stringify(value);\\n                if ((str == \\\"0\\\") && ([\\\"-0\\\", \\\"-0.\\\"].indexOf(stringified()) >= 0))\\n                     return;\\n                 if ([\\\"null\\\", \\\"\\\"].indexOf(str) >= 0)\\n                     return;\\n                stringified(str);\\n            });\\n            ko.applyBindingsToNode(\\n                element,\\n                {\\n                    value: stringified,\\n                    valueUpdate: allBindings.get('valueUpdate'),\\n                },\\n                context,\\n            );\\n        }\\n    };\\n    var json_data = {\\\"formatted_vals\\\":[\\\"1.0\\\",\\\"2.0\\\",\\\"3.0\\\",\\\"4.0\\\",\\\"5.0\\\",\\\"6.0\\\",\\\"7.0\\\",\\\"8.0\\\",\\\"9.0\\\",\\\"10.0\\\",\\\"11.0\\\",\\\"12.0\\\",\\\"13.0\\\",\\\"14.0\\\",\\\"15.0\\\",\\\"16.0\\\",\\\"17.0\\\",\\\"18.0\\\",\\\"19.0\\\",\\\"20.0\\\",\\\"21.0\\\",\\\"22.0\\\",\\\"23.0\\\",\\\"24.0\\\",\\\"25.0\\\",\\\"26.0\\\",\\\"27.0\\\",\\\"28.0\\\",\\\"29.0\\\",\\\"30.0\\\",\\\"31.0\\\",\\\"32.0\\\",\\\"33.0\\\",\\\"34.0\\\",\\\"35.0\\\",\\\"36.0\\\",\\\"37.0\\\",\\\"38.0\\\",\\\"39.0\\\",\\\"40.0\\\",\\\"41.0\\\",\\\"42.0\\\",\\\"43.0\\\",\\\"44.0\\\",\\\"45.0\\\",\\\"46.0\\\",\\\"47.0\\\",\\\"48.0\\\",\\\"49.0\\\",\\\"50.0\\\",\\\"51.0\\\",\\\"52.0\\\",\\\"53.0\\\",\\\"54.0\\\",\\\"55.0\\\",\\\"56.0\\\",\\\"57.0\\\",\\\"58.0\\\",\\\"59.0\\\",\\\"60.0\\\",\\\"61.0\\\",\\\"62.0\\\",\\\"63.0\\\",\\\"64.0\\\",\\\"65.0\\\",\\\"66.0\\\",\\\"67.0\\\",\\\"68.0\\\",\\\"69.0\\\",\\\"70.0\\\",\\\"71.0\\\",\\\"72.0\\\",\\\"73.0\\\",\\\"74.0\\\",\\\"75.0\\\",\\\"76.0\\\",\\\"77.0\\\",\\\"78.0\\\",\\\"79.0\\\",\\\"80.0\\\",\\\"81.0\\\",\\\"82.0\\\",\\\"83.0\\\",\\\"84.0\\\",\\\"85.0\\\",\\\"86.0\\\",\\\"87.0\\\",\\\"88.0\\\",\\\"89.0\\\",\\\"90.0\\\",\\\"91.0\\\",\\\"92.0\\\",\\\"93.0\\\",\\\"94.0\\\",\\\"95.0\\\",\\\"96.0\\\",\\\"97.0\\\",\\\"98.0\\\",\\\"99.0\\\",\\\"100.0\\\",\\\"101.0\\\",\\\"102.0\\\",\\\"103.0\\\",\\\"104.0\\\",\\\"105.0\\\",\\\"106.0\\\",\\\"107.0\\\",\\\"108.0\\\",\\\"109.0\\\",\\\"110.0\\\",\\\"111.0\\\",\\\"112.0\\\",\\\"113.0\\\",\\\"114.0\\\",\\\"115.0\\\",\\\"116.0\\\",\\\"117.0\\\",\\\"118.0\\\",\\\"119.0\\\"],\\\"changes\\\":WebIO.getval({\\\"name\\\":\\\"changes\\\",\\\"scope\\\":\\\"4821615813723153445\\\",\\\"id\\\":\\\"ob_03\\\",\\\"type\\\":\\\"observable\\\"}),\\\"index\\\":WebIO.getval({\\\"name\\\":\\\"index\\\",\\\"scope\\\":\\\"4821615813723153445\\\",\\\"id\\\":\\\"ob_02\\\",\\\"type\\\":\\\"observable\\\"})};\\n    var self = this;\\n    function AppViewModel() {\\n        for (var key in json_data) {\\n            var el = json_data[key];\\n            this[key] = Array.isArray(el) ? ko.observableArray(el) : ko.observable(el);\\n        }\\n        \\n        [this[\\\"formatted_val\\\"]=ko.computed(    function(){\\n        return this.formatted_vals()[parseInt(this.index())-(1)];\\n    }\\n,this)]\\n        [this[\\\"changes\\\"].subscribe((function (val){!(this.valueFromJulia[\\\"changes\\\"]) ? (WebIO.setval({\\\"name\\\":\\\"changes\\\",\\\"scope\\\":\\\"4821615813723153445\\\",\\\"id\\\":\\\"ob_03\\\",\\\"type\\\":\\\"observable\\\"},val)) : undefined; return this.valueFromJulia[\\\"changes\\\"]=false}),self),this[\\\"index\\\"].subscribe((function (val){!(this.valueFromJulia[\\\"index\\\"]) ? (WebIO.setval({\\\"name\\\":\\\"index\\\",\\\"scope\\\":\\\"4821615813723153445\\\",\\\"id\\\":\\\"ob_02\\\",\\\"type\\\":\\\"observable\\\"},val)) : undefined; return this.valueFromJulia[\\\"index\\\"]=false}),self)]\\n        \\n    }\\n    self.model = new AppViewModel();\\n    self.valueFromJulia = {};\\n    for (var key in json_data) {\\n        self.valueFromJulia[key] = false;\\n    }\\n    ko.applyBindings(self.model, self.dom);\\n}\\n);\\n    (WebIO.importBlock({\\\"data\\\":[{\\\"name\\\":\\\"knockout\\\",\\\"type\\\":\\\"js\\\",\\\"url\\\":\\\"\\/assetserver\\/c94c04b3c7277ec2ffa6cd00982f4e6f751ff20b-knockout.js\\\"},{\\\"name\\\":\\\"knockout_punches\\\",\\\"type\\\":\\\"js\\\",\\\"url\\\":\\\"\\/assetserver\\/b7be776731d2927476fa24be8cecd564b4c28f1e-knockout_punches.js\\\"}],\\\"type\\\":\\\"async_block\\\"})).then((imports) => handler.apply(this, imports));\\n}\\n\"],\"observables\":{\"changes\":{\"sync\":false,\"id\":\"ob_03\",\"value\":0},\"index\":{\"sync\":true,\"id\":\"ob_02\",\"value\":1}}},\"children\":[{\"props\":{\"className\":\"interact-flex-row interact-widget\"},\"nodeType\":\"DOM\",\"type\":\"node\",\"instanceArgs\":{\"namespace\":\"html\",\"tag\":\"div\"},\"children\":[{\"props\":{\"className\":\"interact-flex-row-left\"},\"nodeType\":\"DOM\",\"type\":\"node\",\"instanceArgs\":{\"namespace\":\"html\",\"tag\":\"div\"},\"children\":[{\"props\":{\"className\":\"interact \",\"style\":{\"padding\":\"5px 10px 0px 10px\"}},\"nodeType\":\"DOM\",\"type\":\"node\",\"instanceArgs\":{\"namespace\":\"html\",\"tag\":\"label\"},\"children\":[\"\"]}]},{\"props\":{\"className\":\"interact-flex-row-center\"},\"nodeType\":\"DOM\",\"type\":\"node\",\"instanceArgs\":{\"namespace\":\"html\",\"tag\":\"div\"},\"children\":[{\"props\":{\"max\":119,\"min\":1,\"attributes\":{\"type\":\"range\",\"data-bind\":\"numericValue: index, valueUpdate: 'input', event: {change: function (){this.changes(this.changes()+1)}}\",\"orient\":\"horizontal\"},\"step\":1,\"className\":\"slider slider is-fullwidth\",\"style\":{}},\"nodeType\":\"DOM\",\"type\":\"node\",\"instanceArgs\":{\"namespace\":\"html\",\"tag\":\"input\"},\"children\":[]}]},{\"props\":{\"className\":\"interact-flex-row-right\"},\"nodeType\":\"DOM\",\"type\":\"node\",\"instanceArgs\":{\"namespace\":\"html\",\"tag\":\"div\"},\"children\":[{\"props\":{\"attributes\":{\"data-bind\":\"text: formatted_val\"}},\"nodeType\":\"DOM\",\"type\":\"node\",\"instanceArgs\":{\"namespace\":\"html\",\"tag\":\"p\"},\"children\":[]}]}]}]}]},{\"props\":{},\"nodeType\":\"Scope\",\"type\":\"node\",\"instanceArgs\":{\"imports\":{\"data\":[],\"type\":\"async_block\"},\"id\":\"6933354459666946146\",\"handlers\":{},\"systemjs_options\":null,\"mount_callbacks\":[],\"observables\":{\"obs-node\":{\"sync\":false,\"id\":\"ob_07\",\"value\":{\"props\":{\"className\":\"interact-flex-row interact-widget\"},\"nodeType\":\"DOM\",\"type\":\"node\",\"instanceArgs\":{\"namespace\":\"html\",\"tag\":\"div\"},\"children\":[{\"props\":{\"setInnerHtml\":\"<?xml version=\\\"1.0\\\" encoding=\\\"utf-8\\\"?>\\n<svg xmlns=\\\"http:\\/\\/www.w3.org\\/2000\\/svg\\\" xmlns:xlink=\\\"http:\\/\\/www.w3.org\\/1999\\/xlink\\\" width=\\\"600\\\" height=\\\"400\\\" viewBox=\\\"0 0 2400 1600\\\">\\n<defs>\\n  <clipPath id=\\\"clip0700\\\">\\n    <rect x=\\\"0\\\" y=\\\"0\\\" width=\\\"2400\\\" height=\\\"1600\\\"\\/>\\n  <\\/clipPath>\\n<\\/defs>\\n<polygon clip-path=\\\"url(#clip0700)\\\" points=\\\"\\n0,1600 2400,1600 2400,0 0,0 \\n  \\\" fill=\\\"#ffffff\\\" fill-rule=\\\"evenodd\\\" fill-opacity=\\\"1\\\"\\/>\\n<defs>\\n  <clipPath id=\\\"clip0701\\\">\\n    <rect x=\\\"480\\\" y=\\\"0\\\" width=\\\"1681\\\" height=\\\"1600\\\"\\/>\\n  <\\/clipPath>\\n<\\/defs>\\n<polygon clip-path=\\\"url(#clip0700)\\\" points=\\\"\\n526.521,1487.47 1966.75,1487.47 1966.75,47.2441 526.521,47.2441 \\n  \\\" fill=\\\"#ffffff\\\" fill-rule=\\\"evenodd\\\" fill-opacity=\\\"1\\\"\\/>\\n<defs>\\n  <clipPath id=\\\"clip0702\\\">\\n    <rect x=\\\"526\\\" y=\\\"47\\\" width=\\\"1441\\\" height=\\\"1441\\\"\\/>\\n  <\\/clipPath>\\n<\\/defs>\\n<polyline clip-path=\\\"url(#clip0702)\\\" style=\\\"stroke:#000000; stroke-width:2; stroke-opacity:0.1; fill:none\\\" points=\\\"\\n  829.727,1487.47 829.727,47.2441 \\n  \\\"\\/>\\n<polyline clip-path=\\\"url(#clip0702)\\\" style=\\\"stroke:#000000; stroke-width:2; stroke-opacity:0.1; fill:none\\\" points=\\\"\\n  1208.74,1487.47 1208.74,47.2441 \\n  \\\"\\/>\\n<polyline clip-path=\\\"url(#clip0702)\\\" style=\\\"stroke:#000000; stroke-width:2; stroke-opacity:0.1; fill:none\\\" points=\\\"\\n  1587.74,1487.47 1587.74,47.2441 \\n  \\\"\\/>\\n<polyline clip-path=\\\"url(#clip0702)\\\" style=\\\"stroke:#000000; stroke-width:2; stroke-opacity:0.1; fill:none\\\" points=\\\"\\n  1966.75,1487.47 1966.75,47.2441 \\n  \\\"\\/>\\n<polyline clip-path=\\\"url(#clip0702)\\\" style=\\\"stroke:#000000; stroke-width:2; stroke-opacity:0.1; fill:none\\\" points=\\\"\\n  526.521,1184.27 1966.75,1184.27 \\n  \\\"\\/>\\n<polyline clip-path=\\\"url(#clip0702)\\\" style=\\\"stroke:#000000; stroke-width:2; stroke-opacity:0.1; fill:none\\\" points=\\\"\\n  526.521,805.26 1966.75,805.26 \\n  \\\"\\/>\\n<polyline clip-path=\\\"url(#clip0702)\\\" style=\\\"stroke:#000000; stroke-width:2; stroke-opacity:0.1; fill:none\\\" points=\\\"\\n  526.521,426.252 1966.75,426.252 \\n  \\\"\\/>\\n<polyline clip-path=\\\"url(#clip0702)\\\" style=\\\"stroke:#000000; stroke-width:2; stroke-opacity:0.1; fill:none\\\" points=\\\"\\n  526.521,47.2441 1966.75,47.2441 \\n  \\\"\\/>\\n<polyline clip-path=\\\"url(#clip0700)\\\" style=\\\"stroke:#000000; stroke-width:4; stroke-opacity:1; fill:none\\\" points=\\\"\\n  526.521,1487.47 1966.75,1487.47 \\n  \\\"\\/>\\n<polyline clip-path=\\\"url(#clip0700)\\\" style=\\\"stroke:#000000; stroke-width:4; stroke-opacity:1; fill:none\\\" points=\\\"\\n  526.521,1487.47 526.521,47.2441 \\n  \\\"\\/>\\n<polyline clip-path=\\\"url(#clip0700)\\\" style=\\\"stroke:#000000; stroke-width:4; stroke-opacity:1; fill:none\\\" points=\\\"\\n  829.727,1487.47 829.727,1465.87 \\n  \\\"\\/>\\n<polyline clip-path=\\\"url(#clip0700)\\\" style=\\\"stroke:#000000; stroke-width:4; stroke-opacity:1; fill:none\\\" points=\\\"\\n  1208.74,1487.47 1208.74,1465.87 \\n  \\\"\\/>\\n<polyline clip-path=\\\"url(#clip0700)\\\" style=\\\"stroke:#000000; stroke-width:4; stroke-opacity:1; fill:none\\\" points=\\\"\\n  1587.74,1487.47 1587.74,1465.87 \\n  \\\"\\/>\\n<polyline clip-path=\\\"url(#clip0700)\\\" style=\\\"stroke:#000000; stroke-width:4; stroke-opacity:1; fill:none\\\" points=\\\"\\n  1966.75,1487.47 1966.75,1465.87 \\n  \\\"\\/>\\n<polyline clip-path=\\\"url(#clip0700)\\\" style=\\\"stroke:#000000; stroke-width:4; stroke-opacity:1; fill:none\\\" points=\\\"\\n  526.521,1184.27 548.124,1184.27 \\n  \\\"\\/>\\n<polyline clip-path=\\\"url(#clip0700)\\\" style=\\\"stroke:#000000; stroke-width:4; stroke-opacity:1; fill:none\\\" points=\\\"\\n  526.521,805.26 548.124,805.26 \\n  \\\"\\/>\\n<polyline clip-path=\\\"url(#clip0700)\\\" style=\\\"stroke:#000000; stroke-width:4; stroke-opacity:1; fill:none\\\" points=\\\"\\n  526.521,426.252 548.124,426.252 \\n  \\\"\\/>\\n<polyline clip-path=\\\"url(#clip0700)\\\" style=\\\"stroke:#000000; stroke-width:4; stroke-opacity:1; fill:none\\\" points=\\\"\\n  526.521,47.2441 548.124,47.2441 \\n  \\\"\\/>\\n<g clip-path=\\\"url(#clip0700)\\\">\\n<text style=\\\"fill:#000000; fill-opacity:1; font-family:Arial,Helvetica Neue,Helvetica,sans-serif; font-size:48px; text-anchor:middle;\\\" transform=\\\"rotate(0, 829.727, 1541.47)\\\" x=\\\"829.727\\\" y=\\\"1541.47\\\">5<\\/text>\\n<\\/g>\\n<g clip-path=\\\"url(#clip0700)\\\">\\n<text style=\\\"fill:#000000; fill-opacity:1; font-family:Arial,Helvetica Neue,Helvetica,sans-serif; font-size:48px; text-anchor:middle;\\\" transform=\\\"rotate(0, 1208.74, 1541.47)\\\" x=\\\"1208.74\\\" y=\\\"1541.47\\\">10<\\/text>\\n<\\/g>\\n<g clip-path=\\\"url(#clip0700)\\\">\\n<text style=\\\"fill:#000000; fill-opacity:1; font-family:Arial,Helvetica Neue,Helvetica,sans-serif; font-size:48px; text-anchor:middle;\\\" transform=\\\"rotate(0, 1587.74, 1541.47)\\\" x=\\\"1587.74\\\" y=\\\"1541.47\\\">15<\\/text>\\n<\\/g>\\n<g clip-path=\\\"url(#clip0700)\\\">\\n<text style=\\\"fill:#000000; fill-opacity:1; font-family:Arial,Helvetica Neue,Helvetica,sans-serif; font-size:48px; text-anchor:middle;\\\" transform=\\\"rotate(0, 1966.75, 1541.47)\\\" x=\\\"1966.75\\\" y=\\\"1541.47\\\">20<\\/text>\\n<\\/g>\\n<g clip-path=\\\"url(#clip0700)\\\">\\n<text style=\\\"fill:#000000; fill-opacity:1; font-family:Arial,Helvetica Neue,Helvetica,sans-serif; font-size:48px; text-anchor:end;\\\" transform=\\\"rotate(0, 502.521, 1201.77)\\\" x=\\\"502.521\\\" y=\\\"1201.77\\\">5<\\/text>\\n<\\/g>\\n<g clip-path=\\\"url(#clip0700)\\\">\\n<text style=\\\"fill:#000000; fill-opacity:1; font-family:Arial,Helvetica Neue,Helvetica,sans-serif; font-size:48px; text-anchor:end;\\\" transform=\\\"rotate(0, 502.521, 822.76)\\\" x=\\\"502.521\\\" y=\\\"822.76\\\">10<\\/text>\\n<\\/g>\\n<g clip-path=\\\"url(#clip0700)\\\">\\n<text style=\\\"fill:#000000; fill-opacity:1; font-family:Arial,Helvetica Neue,Helvetica,sans-serif; font-size:48px; text-anchor:end;\\\" transform=\\\"rotate(0, 502.521, 443.752)\\\" x=\\\"502.521\\\" y=\\\"443.752\\\">15<\\/text>\\n<\\/g>\\n<g clip-path=\\\"url(#clip0700)\\\">\\n<text style=\\\"fill:#000000; fill-opacity:1; font-family:Arial,Helvetica Neue,Helvetica,sans-serif; font-size:48px; text-anchor:end;\\\" transform=\\\"rotate(0, 502.521, 64.7441)\\\" x=\\\"502.521\\\" y=\\\"64.7441\\\">20<\\/text>\\n<\\/g>\\n<g clip-path=\\\"url(#clip0702)\\\">\\n<image width=\\\"1516\\\" height=\\\"1516\\\" xlink:href=\\\"data:image\\/png;base64,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\\nAAAgQLAHAAAAAICADQ2lD91LzItTAAAAAElFTkSuQmCC\\n\\\" transform=\\\"translate(489, 9)\\\"\\/>\\n<\\/g>\\n<\\/svg>\\n\"},\"nodeType\":\"DOM\",\"type\":\"node\",\"instanceArgs\":{\"namespace\":\"html\",\"tag\":\"div\"},\"children\":[]}]}}}},\"children\":[{\"props\":{},\"nodeType\":\"ObservableNode\",\"type\":\"node\",\"instanceArgs\":{\"id\":\"ob_07\",\"name\":\"obs-node\"},\"children\":[]}]}]},\n",
       "            window,\n",
       "        );\n",
       "    } else {\n",
       "        document\n",
       "            .querySelector('[data-webio-mountpoint=\"809526368376662768\"]')\n",
       "            .innerHTML = (\n",
       "                '<strong>WebIO not detected. Please read ' +\n",
       "                '<a href=\"https://juliagizmos.github.io/WebIO.jl/latest/troubleshooting/not-detected/\">the troubleshooting guide</a> ' +\n",
       "                'for more information on how to resolve this issue.' +\n",
       "                '</strong>'\n",
       "            );\n",
       "    }\n",
       "    </script>\n",
       "</div>\n"
      ],
      "text/plain": [
       "Node{WebIO.DOM}(WebIO.DOM(:html, :div), Any[Node{WebIO.DOM}(WebIO.DOM(:html, :div), Any[Scope(Node{WebIO.DOM}(WebIO.DOM(:html, :div), Any[Node{WebIO.DOM}(WebIO.DOM(:html, :div), Any[Node{WebIO.DOM}(WebIO.DOM(:html, :label), Any[nothing], Dict{Symbol,Any}(:className => \"interact \",:style => Dict{Any,Any}(:padding => \"5px 10px 0px 10px\")))], Dict{Symbol,Any}(:className => \"interact-flex-row-left\")), Node{WebIO.DOM}(WebIO.DOM(:html, :div), Any[Node{WebIO.DOM}(WebIO.DOM(:html, :input), Any[], Dict{Symbol,Any}(:max => 119,:min => 1,:attributes => Dict{Any,Any}(:type => \"range\",Symbol(\"data-bind\") => \"numericValue: index, valueUpdate: 'input', event: {change: function (){this.changes(this.changes()+1)}}\",\"orient\" => \"horizontal\"),:step => 1,:className => \"slider slider is-fullwidth\",:style => Dict{Any,Any}()))], Dict{Symbol,Any}(:className => \"interact-flex-row-center\")), Node{WebIO.DOM}(WebIO.DOM(:html, :div), Any[Node{WebIO.DOM}(WebIO.DOM(:html, :p), Any[], Dict{Symbol,Any}(:attributes => Dict(\"data-bind\" => \"text: formatted_val\")))], Dict{Symbol,Any}(:className => \"interact-flex-row-right\"))], Dict{Symbol,Any}(:className => \"interact-flex-row interact-widget\")), Dict{String,Tuple{Observables.AbstractObservable,Union{Nothing, Bool}}}(\"changes\" => (Observable{Int64} with 1 listeners. Value:\n",
       "0, nothing),\"index\" => (Observable{Any} with 2 listeners. Value:\n",
       "1, nothing)), Set(String[]), nothing, Asset[Asset(\"js\", \"knockout\", \"/Users/mitchell/.julia/packages/Knockout/1sDlc/src/../assets/knockout.js\"), Asset(\"js\", \"knockout_punches\", \"/Users/mitchell/.julia/packages/Knockout/1sDlc/src/../assets/knockout_punches.js\"), Asset(\"js\", nothing, \"/Users/mitchell/.julia/packages/InteractBase/9mFwe/src/../assets/all.js\"), Asset(\"css\", nothing, \"/Users/mitchell/.julia/packages/InteractBase/9mFwe/src/../assets/style.css\"), Asset(\"css\", nothing, \"/Users/mitchell/.julia/packages/Interact/SbgIk/src/../assets/bulma_confined.min.css\")], Dict{Any,Any}(\"changes\" => Any[WebIO.JSString(\"(function (val){return (val!=this.model[\\\"changes\\\"]()) ? (this.valueFromJulia[\\\"changes\\\"]=true, this.model[\\\"changes\\\"](val)) : undefined})\")],\"index\" => Any[WebIO.JSString(\"(function (val){return (val!=this.model[\\\"index\\\"]()) ? (this.valueFromJulia[\\\"index\\\"]=true, this.model[\\\"index\\\"](val)) : undefined})\")]), WebIO.ConnectionPool(Channel{Any}(sz_max:32,sz_curr:0), Set(AbstractConnection[]), Base.GenericCondition{Base.AlwaysLockedST}(Base.InvasiveLinkedList{Task}(Task (runnable) @0x00000001087e5f90, Task (runnable) @0x00000001087e5f90), Base.AlwaysLockedST(1))), WebIO.JSString[WebIO.JSString(\"function () {\\n    var handler = (function (ko, koPunches) {\\n    ko.punches.enableAll();\\n    ko.bindingHandlers.numericValue = {\\n        init: function(element, valueAccessor, allBindings, data, context) {\\n            var stringified = ko.observable(ko.unwrap(valueAccessor()));\\n            stringified.subscribe(function(value) {\\n                var val = parseFloat(value);\\n                if (!isNaN(val)) {\\n                    valueAccessor()(val);\\n                }\\n            });\\n            valueAccessor().subscribe(function(value) {\\n                var str = JSON.stringify(value);\\n                if ((str == \\\"0\\\") && ([\\\"-0\\\", \\\"-0.\\\"].indexOf(stringified()) >= 0))\\n                     return;\\n                 if ([\\\"null\\\", \\\"\\\"].indexOf(str) >= 0)\\n                     return;\\n                stringified(str);\\n            });\\n            ko.applyBindingsToNode(\\n                element,\\n                {\\n                    value: stringified,\\n                    valueUpdate: allBindings.get('valueUpdate'),\\n                },\\n                context,\\n            );\\n        }\\n    };\\n    var json_data = {\\\"formatted_vals\\\":[\\\"1.0\\\",\\\"2.0\\\",\\\"3.0\\\",\\\"4.0\\\",\\\"5.0\\\",\\\"6.0\\\",\\\"7.0\\\",\\\"8.0\\\",\\\"9.0\\\",\\\"10.0\\\",\\\"11.0\\\",\\\"12.0\\\",\\\"13.0\\\",\\\"14.0\\\",\\\"15.0\\\",\\\"16.0\\\",\\\"17.0\\\",\\\"18.0\\\",\\\"19.0\\\",\\\"20.0\\\",\\\"21.0\\\",\\\"22.0\\\",\\\"23.0\\\",\\\"24.0\\\",\\\"25.0\\\",\\\"26.0\\\",\\\"27.0\\\",\\\"28.0\\\",\\\"29.0\\\",\\\"30.0\\\",\\\"31.0\\\",\\\"32.0\\\",\\\"33.0\\\",\\\"34.0\\\",\\\"35.0\\\",\\\"36.0\\\",\\\"37.0\\\",\\\"38.0\\\",\\\"39.0\\\",\\\"40.0\\\",\\\"41.0\\\",\\\"42.0\\\",\\\"43.0\\\",\\\"44.0\\\",\\\"45.0\\\",\\\"46.0\\\",\\\"47.0\\\",\\\"48.0\\\",\\\"49.0\\\",\\\"50.0\\\",\\\"51.0\\\",\\\"52.0\\\",\\\"53.0\\\",\\\"54.0\\\",\\\"55.0\\\",\\\"56.0\\\",\\\"57.0\\\",\\\"58.0\\\",\\\"59.0\\\",\\\"60.0\\\",\\\"61.0\\\",\\\"62.0\\\",\\\"63.0\\\",\\\"64.0\\\",\\\"65.0\\\",\\\"66.0\\\",\\\"67.0\\\",\\\"68.0\\\",\\\"69.0\\\",\\\"70.0\\\",\\\"71.0\\\",\\\"72.0\\\",\\\"73.0\\\",\\\"74.0\\\",\\\"75.0\\\",\\\"76.0\\\",\\\"77.0\\\",\\\"78.0\\\",\\\"79.0\\\",\\\"80.0\\\",\\\"81.0\\\",\\\"82.0\\\",\\\"83.0\\\",\\\"84.0\\\",\\\"85.0\\\",\\\"86.0\\\",\\\"87.0\\\",\\\"88.0\\\",\\\"89.0\\\",\\\"90.0\\\",\\\"91.0\\\",\\\"92.0\\\",\\\"93.0\\\",\\\"94.0\\\",\\\"95.0\\\",\\\"96.0\\\",\\\"97.0\\\",\\\"98.0\\\",\\\"99.0\\\",\\\"100.0\\\",\\\"101.0\\\",\\\"102.0\\\",\\\"103.0\\\",\\\"104.0\\\",\\\"105.0\\\",\\\"106.0\\\",\\\"107.0\\\",\\\"108.0\\\",\\\"109.0\\\",\\\"110.0\\\",\\\"111.0\\\",\\\"112.0\\\",\\\"113.0\\\",\\\"114.0\\\",\\\"115.0\\\",\\\"116.0\\\",\\\"117.0\\\",\\\"118.0\\\",\\\"119.0\\\"],\\\"changes\\\":WebIO.getval({\\\"name\\\":\\\"changes\\\",\\\"scope\\\":\\\"4821615813723153445\\\",\\\"id\\\":\\\"ob_03\\\",\\\"type\\\":\\\"observable\\\"}),\\\"index\\\":WebIO.getval({\\\"name\\\":\\\"index\\\",\\\"scope\\\":\\\"4821615813723153445\\\",\\\"id\\\":\\\"ob_02\\\",\\\"type\\\":\\\"observable\\\"})};\\n    var self = this;\\n    function AppViewModel() {\\n        for (var key in json_data) {\\n            var el = json_data[key];\\n            this[key] = Array.isArray(el) ? ko.observableArray(el) : ko.observable(el);\\n        }\\n        \\n        [this[\\\"formatted_val\\\"]=ko.computed(    function(){\\n        return this.formatted_vals()[parseInt(this.index())-(1)];\\n    }\\n,this)]\\n        [this[\\\"changes\\\"].subscribe((function (val){!(this.valueFromJulia[\\\"changes\\\"]) ? (WebIO.setval({\\\"name\\\":\\\"changes\\\",\\\"scope\\\":\\\"4821615813723153445\\\",\\\"id\\\":\\\"ob_03\\\",\\\"type\\\":\\\"observable\\\"},val)) : undefined; return this.valueFromJulia[\\\"changes\\\"]=false}),self),this[\\\"index\\\"].subscribe((function (val){!(this.valueFromJulia[\\\"index\\\"]) ? (WebIO.setval({\\\"name\\\":\\\"index\\\",\\\"scope\\\":\\\"4821615813723153445\\\",\\\"id\\\":\\\"ob_02\\\",\\\"type\\\":\\\"observable\\\"},val)) : undefined; return this.valueFromJulia[\\\"index\\\"]=false}),self)]\\n        \\n    }\\n    self.model = new AppViewModel();\\n    self.valueFromJulia = {};\\n    for (var key in json_data) {\\n        self.valueFromJulia[key] = false;\\n    }\\n    ko.applyBindings(self.model, self.dom);\\n}\\n);\\n    (WebIO.importBlock({\\\"data\\\":[{\\\"name\\\":\\\"knockout\\\",\\\"type\\\":\\\"js\\\",\\\"url\\\":\\\"/assetserver/c94c04b3c7277ec2ffa6cd00982f4e6f751ff20b-knockout.js\\\"},{\\\"name\\\":\\\"knockout_punches\\\",\\\"type\\\":\\\"js\\\",\\\"url\\\":\\\"/assetserver/b7be776731d2927476fa24be8cecd564b4c28f1e-knockout_punches.js\\\"}],\\\"type\\\":\\\"async_block\\\"})).then((imports) => handler.apply(this, imports));\\n}\\n\")])], Dict{Symbol,Any}(:className => \"field interact-widget\")), Observable{Any} with 0 listeners. Value:\n",
       "Node{WebIO.DOM}(WebIO.DOM(:html, :div), Any[Plot{Plots.GRBackend() n=2}], Dict{Symbol,Any}(:className => \"interact-flex-row interact-widget\"))], Dict{Symbol,Any}())"
      ]
     },
     "execution_count": 7,
     "metadata": {
      "application/vnd.webio.node+json": {
       "kernelId": "c8cbb068-0ac8-4e04-96ef-f5dbd1f13b62"
      }
     },
     "output_type": "execute_result"
    }
   ],
   "source": [
    "@manipulate for t in slider(1:maximum(T)+1, value=1)\n",
    "    # plot which squares are \"alive\"\n",
    "    heatmap((T .< t) + (T .== t) .* 0.5, # This makes the new squares a different color\n",
    "        colorbar = false, aspect_ratio = 1, clims = (0,1),\n",
    "        xlims = (1, mat_size), ylims = (1, mat_size))\n",
    "    # plot the theoretical contour\n",
    "    xs = ys = 1:.1:mat_size\n",
    "    scaling = t + 2 # Is this scaling correct? Taken from the RandomGrowth notebook in this repo \n",
    "    contour!(xs, ys, (x,y)->limiting(x/scaling,y/scaling), colorbar=false, levels = [1-p],\n",
    "            color=:blue, lw=3)\n",
    "end"
   ]
  }
 ],
 "metadata": {
  "@webio": {
   "lastCommId": "ec44c171833c46c9b0f72f841ad390f3",
   "lastKernelId": "c8cbb068-0ac8-4e04-96ef-f5dbd1f13b62"
  },
  "kernelspec": {
   "display_name": "Julia 1.2.0",
   "language": "julia",
   "name": "julia-1.2"
  },
  "language_info": {
   "file_extension": ".jl",
   "mimetype": "application/julia",
   "name": "julia",
   "version": "1.2.0"
  }
 },
 "nbformat": 4,
 "nbformat_minor": 2
}
