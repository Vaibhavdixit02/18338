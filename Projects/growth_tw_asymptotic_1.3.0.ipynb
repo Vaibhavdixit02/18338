{
 "cells": [
  {
   "cell_type": "code",
   "execution_count": 2,
   "metadata": {},
   "outputs": [
    {
     "name": "stderr",
     "output_type": "stream",
     "text": [
      "┌ Info: Precompiling Plots [91a5bcdd-55d7-5caf-9e0b-520d859cae80]\n",
      "└ @ Base loading.jl:1273\n",
      "┌ Info: Precompiling Interact [c601a237-2ae4-5e1e-952c-7a85b0c7eef1]\n",
      "└ @ Base loading.jl:1273\n"
     ]
    },
    {
     "data": {
      "text/html": [
       "<script>\n",
       "// Immediately-invoked-function-expression to avoid global variables.\n",
       "(function() {\n",
       "    var warning_div = document.getElementById(\"webio-warning-11115301007977360142\");\n",
       "    var hide = function () {\n",
       "        var script = document.getElementById(\"webio-setup-3442338261278188842\");\n",
       "        var parent = script && script.parentElement;\n",
       "        var grandparent = parent && parent.parentElement;\n",
       "        if (grandparent) {\n",
       "            grandparent.style.display = \"none\";\n",
       "        }\n",
       "        warning_div.style.display = \"none\";\n",
       "    };\n",
       "    if (typeof Jupyter !== \"undefined\") {\n",
       "        console.log(\"WebIO detected Jupyter notebook environment.\");\n",
       "        // Jupyter notebook.\n",
       "        var extensions = (\n",
       "            Jupyter\n",
       "            && Jupyter.notebook.config.data\n",
       "            && Jupyter.notebook.config.data.load_extensions\n",
       "        );\n",
       "        if (extensions && extensions[\"webio-jupyter-notebook\"]) {\n",
       "            // Extension already loaded.\n",
       "            console.log(\"Jupyter WebIO nbextension detected; not loading ad-hoc.\");\n",
       "            hide();\n",
       "            return;\n",
       "        }\n",
       "    } else if (window.location.pathname.includes(\"/lab\")) {\n",
       "        // Guessing JupyterLa\n",
       "        console.log(\"Jupyter Lab detected; make sure the @webio/jupyter-lab-provider labextension is installed.\");\n",
       "        hide();\n",
       "        return;\n",
       "    }\n",
       "})();\n",
       "\n",
       "</script>\n",
       "<p\n",
       "    id=\"webio-warning-11115301007977360142\"\n",
       "    class=\"output_text output_stderr\"\n",
       "    style=\"padding: 1em; font-weight: bold;\"\n",
       ">\n",
       "    Unable to load WebIO. Please make sure WebIO works for your Jupyter client.\n",
       "    For troubleshooting, please see <a href=\"https://juliagizmos.github.io/WebIO.jl/latest/providers/ijulia/\">\n",
       "    the WebIO/IJulia documentation</a>.\n",
       "    <!-- TODO: link to installation docs. -->\n",
       "</p>\n"
      ],
      "text/plain": [
       "HTML{String}(\"<script>\\n// Immediately-invoked-function-expression to avoid global variables.\\n(function() {\\n    var warning_div = document.getElementById(\\\"webio-warning-11115301007977360142\\\");\\n    var hide = function () {\\n        var script = document.getElementById(\\\"webio-setup-3442338261278188842\\\");\\n        var parent = script && script.parentElement;\\n        var grandparent = parent && parent.parentElement;\\n        if (grandparent) {\\n            grandparent.style.display = \\\"none\\\";\\n        }\\n        warning_div.style.display = \\\"none\\\";\\n    };\\n    if (typeof Jupyter !== \\\"undefined\\\") {\\n        console.log(\\\"WebIO detected Jupyter notebook environment.\\\");\\n        // Jupyter notebook.\\n        var extensions = (\\n            Jupyter\\n            && Jupyter.notebook.config.data\\n            && Jupyter.notebook.config.data.load_extensions\\n        );\\n        if (extensions && extensions[\\\"webio-jupyter-notebook\\\"]) {\\n            // Extension already loaded.\\n            console.log(\\\"Jupyter WebIO nbextension detected; not loading ad-hoc.\\\");\\n            hide();\\n            return;\\n        }\\n    } else if (window.location.pathname.includes(\\\"/lab\\\")) {\\n        // Guessing JupyterLa\\n        console.log(\\\"Jupyter Lab detected; make sure the @webio/jupyter-lab-provider labextension is installed.\\\");\\n        hide();\\n        return;\\n    }\\n})();\\n\\n</script>\\n<p\\n    id=\\\"webio-warning-11115301007977360142\\\"\\n    class=\\\"output_text output_stderr\\\"\\n    style=\\\"padding: 1em; font-weight: bold;\\\"\\n>\\n    Unable to load WebIO. Please make sure WebIO works for your Jupyter client.\\n    For troubleshooting, please see <a href=\\\"https://juliagizmos.github.io/WebIO.jl/latest/providers/ijulia/\\\">\\n    the WebIO/IJulia documentation</a>.\\n    <!-- TODO: link to installation docs. -->\\n</p>\\n\")"
      ]
     },
     "metadata": {},
     "output_type": "display_data"
    },
    {
     "name": "stderr",
     "output_type": "stream",
     "text": [
      "┌ Info: Precompiling Distributions [31c24e10-a181-5473-b8eb-7969acd0382f]\n",
      "└ @ Base loading.jl:1273\n",
      "┌ Info: Precompiling RandomMatrices [2576dda1-a324-5b11-aa66-c48ed7e3c618]\n",
      "└ @ Base loading.jl:1273\n"
     ]
    }
   ],
   "source": [
    "using Plots\n",
    "using Interact\n",
    "using Distributions\n",
    "using RandomMatrices"
   ]
  },
  {
   "cell_type": "code",
   "execution_count": 5,
   "metadata": {},
   "outputs": [],
   "source": [
    "function tw_pdf(xs, step)\n",
    "    c = cdf(TracyWidom, vcat(vcat(xs[1]-step,xs),xs[end]+step))\n",
    "    d = (diff(c)[1:end-1]+diff(c)[2:end]) / (2*step)\n",
    "    return d\n",
    "end\n",
    "\n",
    "step = 0.1\n",
    "min_, max_ = -6, 6\n",
    "xs = min_:step:max_\n",
    "TW_pdf = tw_pdf(xs, step);"
   ]
  },
  {
   "cell_type": "code",
   "execution_count": 6,
   "metadata": {},
   "outputs": [
    {
     "data": {
      "text/plain": [
       "m_G (generic function with 1 method)"
      ]
     },
     "execution_count": 6,
     "metadata": {},
     "output_type": "execute_result"
    }
   ],
   "source": [
    "function m_G(wait)\n",
    "    N = size(wait)[1]\n",
    "    memg = zeros(N, N) .- 1\n",
    "    memg[1, 1] = 0\n",
    "    function tmp_G(i, j, wait)\n",
    "        if(memg[i, j] == -1)\n",
    "            if(i==1)\n",
    "                res1 = tmp_G(i, j-1, wait)\n",
    "                memg[i, j-1] = res1\n",
    "                res = res1 + wait[i, j] #+1\n",
    "            elseif(j==1)\n",
    "                res1 = tmp_G(i-1, j, wait)\n",
    "                memg[i-1, j] = res1\n",
    "                res = res1 + wait[i, j] #+1\n",
    "            else\n",
    "                res1 = tmp_G(i, j-1, wait)\n",
    "                res2 = tmp_G(i-1, j, wait)\n",
    "                memg[i, j-1] = res1\n",
    "                memg[i-1, j] = res2\n",
    "                res = max(res1, res2) + wait[i, j] #+1\n",
    "            end\n",
    "            memg[i, j] = res\n",
    "        end\n",
    "        return memg[i, j]\n",
    "    end\n",
    "    tmp_G(N, N, wait)\n",
    "    return memg\n",
    "end"
   ]
  },
  {
   "cell_type": "code",
   "execution_count": 7,
   "metadata": {},
   "outputs": [
    {
     "data": {
      "text/plain": [
       "get_grid (generic function with 1 method)"
      ]
     },
     "execution_count": 7,
     "metadata": {},
     "output_type": "execute_result"
    }
   ],
   "source": [
    "function get_grid(law, N)\n",
    "    w = rand(law, N, N)\n",
    "    grid = m_G(w)\n",
    "    return grid\n",
    "end"
   ]
  },
  {
   "cell_type": "code",
   "execution_count": 49,
   "metadata": {},
   "outputs": [
    {
     "data": {
      "text/plain": [
       "renorm_params (generic function with 1 method)"
      ]
     },
     "execution_count": 49,
     "metadata": {},
     "output_type": "execute_result"
    }
   ],
   "source": [
    "function renorm_params(law)\n",
    "    r = 1\n",
    "    if typeof(law) == Geometric{Float64}\n",
    "        q = 1-params(law)[1]\n",
    "        γ = (q*(1+r) + 2*√(q*r)) / (1-q)\n",
    "        σ = (1/(1-q)) * (q/r)^(1/6) * (√q + √r)^(2/3) * (1 + √(q*r))^(2/3)\n",
    "    elseif typeof(law) == Exponential{Float64}\n",
    "        λ = 1/params(law)[1]\n",
    "        γ = (1+√r)^2 / λ\n",
    "        σ = r^(-1/6) * (1+r)^(4/3) / λ\n",
    "    end\n",
    "    return γ, σ\n",
    "end"
   ]
  },
  {
   "cell_type": "code",
   "execution_count": 29,
   "metadata": {},
   "outputs": [
    {
     "data": {
      "text/plain": [
       "plot_lln (generic function with 1 method)"
      ]
     },
     "execution_count": 29,
     "metadata": {},
     "output_type": "execute_result"
    }
   ],
   "source": [
    "function plot_lln(max_N, law_name, q, λ)\n",
    "    if(law_name == \"Geometric\")\n",
    "        law = Geometric(q)\n",
    "    else\n",
    "        law = Exponential(λ)\n",
    "    end\n",
    "    γ, σ = renorm_params(law)\n",
    "    grid = get_grid(law, max_N)\n",
    "    diag = [grid[i,i] / i for i in 1:max_N]\n",
    "    plot(1:max_N, diag, lw = 3, color = \"red\", legend=:bottomleft, xlabel = \"N\", label = \"empirical T(N,N)\")\n",
    "    hline!([γ], lw = 3, color = \"black\", label = \"theoretical limit\")\n",
    "end"
   ]
  },
  {
   "cell_type": "code",
   "execution_count": 30,
   "metadata": {},
   "outputs": [
    {
     "data": {
      "text/plain": [
       "plot_clt (generic function with 1 method)"
      ]
     },
     "execution_count": 30,
     "metadata": {},
     "output_type": "execute_result"
    }
   ],
   "source": [
    "function plot_clt(N, law_name, q, λ, TW_pdf, d)\n",
    "    if(law_name == \"Geometric\")\n",
    "        res = d[law_name][q][N]\n",
    "        γ, σ = renorm_params(Geometric(q))\n",
    "    else\n",
    "        res = d[law_name][λ][N]\n",
    "        γ, σ = renorm_params(Exponential(λ))\n",
    "    end\n",
    "    norm_res = (res .- γ*N) ./ (σ * N^(1/3))\n",
    "    histogram(norm_res, normalize=true, bins=-5:0.2:2.5, label = \"Empirical distribution\")\n",
    "    plot!(xs, TW_pdf, lw = 3, color = \"red\", label = \"Tracy-Widom PDF\")\n",
    "end"
   ]
  },
  {
   "cell_type": "markdown",
   "metadata": {},
   "source": [
    "### LLN"
   ]
  },
  {
   "cell_type": "code",
   "execution_count": 31,
   "metadata": {},
   "outputs": [
    {
     "data": {
      "application/vnd.webio.node+json": {
       "children": [
        {
         "children": [
          {
           "children": [
            {
             "children": [
              {
               "children": [
                {
                 "children": [
                  "max_N"
                 ],
                 "instanceArgs": {
                  "namespace": "html",
                  "tag": "label"
                 },
                 "nodeType": "DOM",
                 "props": {
                  "className": "interact ",
                  "style": {
                   "padding": "5px 10px 0px 10px"
                  }
                 },
                 "type": "node"
                }
               ],
               "instanceArgs": {
                "namespace": "html",
                "tag": "div"
               },
               "nodeType": "DOM",
               "props": {
                "className": "interact-flex-row-left"
               },
               "type": "node"
              },
              {
               "children": [
                {
                 "children": [],
                 "instanceArgs": {
                  "namespace": "html",
                  "tag": "input"
                 },
                 "nodeType": "DOM",
                 "props": {
                  "attributes": {
                   "data-bind": "numericValue: index, valueUpdate: 'input', event: {change: function (){this.changes(this.changes()+1)}}",
                   "orient": "horizontal",
                   "type": "range"
                  },
                  "className": "slider slider is-fullwidth",
                  "max": 19,
                  "min": 1,
                  "step": 1,
                  "style": {}
                 },
                 "type": "node"
                }
               ],
               "instanceArgs": {
                "namespace": "html",
                "tag": "div"
               },
               "nodeType": "DOM",
               "props": {
                "className": "interact-flex-row-center"
               },
               "type": "node"
              },
              {
               "children": [
                {
                 "children": [],
                 "instanceArgs": {
                  "namespace": "html",
                  "tag": "p"
                 },
                 "nodeType": "DOM",
                 "props": {
                  "attributes": {
                   "data-bind": "text: formatted_val"
                  }
                 },
                 "type": "node"
                }
               ],
               "instanceArgs": {
                "namespace": "html",
                "tag": "div"
               },
               "nodeType": "DOM",
               "props": {
                "className": "interact-flex-row-right"
               },
               "type": "node"
              }
             ],
             "instanceArgs": {
              "namespace": "html",
              "tag": "div"
             },
             "nodeType": "DOM",
             "props": {
              "className": "interact-flex-row interact-widget"
             },
             "type": "node"
            }
           ],
           "instanceArgs": {
            "handlers": {
             "changes": [
              "(function (val){return (val!=this.model[\"changes\"]()) ? (this.valueFromJulia[\"changes\"]=true, this.model[\"changes\"](val)) : undefined})"
             ],
             "index": [
              "(function (val){return (val!=this.model[\"index\"]()) ? (this.valueFromJulia[\"index\"]=true, this.model[\"index\"](val)) : undefined})"
             ]
            },
            "id": "14784886841760261545",
            "imports": {
             "data": [
              {
               "name": "knockout",
               "type": "js",
               "url": "/assetserver/254160226b58162a42111ea27214076747de1cf2-knockout.js"
              },
              {
               "name": "knockout_punches",
               "type": "js",
               "url": "/assetserver/2d0bf510fb683322318163f3ec7562806e4b1104-knockout_punches.js"
              },
              {
               "name": null,
               "type": "js",
               "url": "/assetserver/6ffcdda43c684da84d2ca5dd2027e4a55c68edac-all.js"
              },
              {
               "name": null,
               "type": "css",
               "url": "/assetserver/b0b44adaed1197b8510174b41f32f09d98a0c28e-style.css"
              },
              {
               "name": null,
               "type": "css",
               "url": "/assetserver/bbb2e3064bd5f6dfcf2f18fbeb52d9320f251632-bulma_confined.min.css"
              }
             ],
             "type": "async_block"
            },
            "mount_callbacks": [
             "function () {\n    var handler = (function (ko, koPunches) {\n    ko.punches.enableAll();\n    ko.bindingHandlers.numericValue = {\n        init: function(element, valueAccessor, allBindings, data, context) {\n            var stringified = ko.observable(ko.unwrap(valueAccessor()));\n            stringified.subscribe(function(value) {\n                var val = parseFloat(value);\n                if (!isNaN(val)) {\n                    valueAccessor()(val);\n                }\n            });\n            valueAccessor().subscribe(function(value) {\n                var str = JSON.stringify(value);\n                if ((str == \"0\") && ([\"-0\", \"-0.\"].indexOf(stringified()) >= 0))\n                     return;\n                 if ([\"null\", \"\"].indexOf(str) >= 0)\n                     return;\n                stringified(str);\n            });\n            ko.applyBindingsToNode(\n                element,\n                {\n                    value: stringified,\n                    valueUpdate: allBindings.get('valueUpdate'),\n                },\n                context,\n            );\n        }\n    };\n    var json_data = {\"formatted_vals\":[\"100\",\"150\",\"200\",\"250\",\"300\",\"350\",\"400\",\"450\",\"500\",\"550\",\"600\",\"650\",\"700\",\"750\",\"800\",\"850\",\"900\",\"950\",\"1000\"],\"changes\":WebIO.getval({\"name\":\"changes\",\"scope\":\"14784886841760261545\",\"id\":\"ob_97\",\"type\":\"observable\"}),\"index\":WebIO.getval({\"name\":\"index\",\"scope\":\"14784886841760261545\",\"id\":\"ob_96\",\"type\":\"observable\"})};\n    var self = this;\n    function AppViewModel() {\n        for (var key in json_data) {\n            var el = json_data[key];\n            this[key] = Array.isArray(el) ? ko.observableArray(el) : ko.observable(el);\n        }\n        \n        [this[\"formatted_val\"]=ko.computed(    function(){\n        return this.formatted_vals()[parseInt(this.index())-(1)];\n    }\n,this)]\n        [this[\"changes\"].subscribe((function (val){!(this.valueFromJulia[\"changes\"]) ? (WebIO.setval({\"name\":\"changes\",\"scope\":\"14784886841760261545\",\"id\":\"ob_97\",\"type\":\"observable\"},val)) : undefined; return this.valueFromJulia[\"changes\"]=false}),self),this[\"index\"].subscribe((function (val){!(this.valueFromJulia[\"index\"]) ? (WebIO.setval({\"name\":\"index\",\"scope\":\"14784886841760261545\",\"id\":\"ob_96\",\"type\":\"observable\"},val)) : undefined; return this.valueFromJulia[\"index\"]=false}),self)]\n        \n    }\n    self.model = new AppViewModel();\n    self.valueFromJulia = {};\n    for (var key in json_data) {\n        self.valueFromJulia[key] = false;\n    }\n    ko.applyBindings(self.model, self.dom);\n}\n);\n    (WebIO.importBlock({\"data\":[{\"name\":\"knockout\",\"type\":\"js\",\"url\":\"/assetserver/254160226b58162a42111ea27214076747de1cf2-knockout.js\"},{\"name\":\"knockout_punches\",\"type\":\"js\",\"url\":\"/assetserver/2d0bf510fb683322318163f3ec7562806e4b1104-knockout_punches.js\"}],\"type\":\"async_block\"})).then((imports) => handler.apply(this, imports));\n}\n"
            ],
            "observables": {
             "changes": {
              "id": "ob_97",
              "sync": false,
              "value": 0
             },
             "index": {
              "id": "ob_96",
              "sync": true,
              "value": 10
             }
            },
            "systemjs_options": null
           },
           "nodeType": "Scope",
           "props": {},
           "type": "node"
          }
         ],
         "instanceArgs": {
          "namespace": "html",
          "tag": "div"
         },
         "nodeType": "DOM",
         "props": {
          "className": "field interact-widget"
         },
         "type": "node"
        },
        {
         "children": [
          {
           "children": [
            {
             "children": [
              {
               "children": [
                {
                 "children": [
                  "law_name"
                 ],
                 "instanceArgs": {
                  "namespace": "html",
                  "tag": "label"
                 },
                 "nodeType": "DOM",
                 "props": {
                  "className": "interact ",
                  "style": {
                   "padding": "5px 10px 0px 10px"
                  }
                 },
                 "type": "node"
                }
               ],
               "instanceArgs": {
                "namespace": "html",
                "tag": "div"
               },
               "nodeType": "DOM",
               "props": {
                "className": "interact-flex-row-left"
               },
               "type": "node"
              },
              {
               "children": [
                {
                 "children": [
                  {
                   "children": [
                    {
                     "children": [],
                     "instanceArgs": {
                      "namespace": "html",
                      "tag": "label"
                     },
                     "nodeType": "DOM",
                     "props": {
                      "attributes": {
                       "data-bind": "text : key"
                      }
                     },
                     "type": "node"
                    }
                   ],
                   "instanceArgs": {
                    "namespace": "html",
                    "tag": "span"
                   },
                   "nodeType": "DOM",
                   "props": {
                    "attributes": {
                     "data-bind": "click: function (){$root.update(val)}, css: {'is-primary is-selected' : $root.index() == val, 'interact-widget is-medium button ' : true}"
                    }
                   },
                   "type": "node"
                  }
                 ],
                 "instanceArgs": {
                  "namespace": "html",
                  "tag": "div"
                 },
                 "nodeType": "DOM",
                 "props": {
                  "attributes": {
                   "data-bind": "foreach : options_js"
                  },
                  "className": "buttons has-addons is-centered"
                 },
                 "type": "node"
                }
               ],
               "instanceArgs": {
                "namespace": "html",
                "tag": "div"
               },
               "nodeType": "DOM",
               "props": {
                "className": "interact-flex-row-center"
               },
               "type": "node"
              },
              {
               "children": [
                {
                 "children": [],
                 "instanceArgs": {
                  "namespace": "html",
                  "tag": "div"
                 },
                 "nodeType": "DOM",
                 "props": {},
                 "type": "node"
                }
               ],
               "instanceArgs": {
                "namespace": "html",
                "tag": "div"
               },
               "nodeType": "DOM",
               "props": {
                "className": "interact-flex-row-right"
               },
               "type": "node"
              }
             ],
             "instanceArgs": {
              "namespace": "html",
              "tag": "div"
             },
             "nodeType": "DOM",
             "props": {
              "className": "interact-flex-row interact-widget"
             },
             "type": "node"
            }
           ],
           "instanceArgs": {
            "handlers": {
             "index": [
              "(function (val){return (val!=this.model[\"index\"]()) ? (this.valueFromJulia[\"index\"]=true, this.model[\"index\"](val)) : undefined})"
             ],
             "options_js": [
              "(function (val){return (val!=this.model[\"options_js\"]()) ? (this.valueFromJulia[\"options_js\"]=true, this.model[\"options_js\"](val)) : undefined})"
             ]
            },
            "id": "17695506645409778185",
            "imports": {
             "data": [
              {
               "name": "knockout",
               "type": "js",
               "url": "/assetserver/254160226b58162a42111ea27214076747de1cf2-knockout.js"
              },
              {
               "name": "knockout_punches",
               "type": "js",
               "url": "/assetserver/2d0bf510fb683322318163f3ec7562806e4b1104-knockout_punches.js"
              },
              {
               "name": null,
               "type": "js",
               "url": "/assetserver/6ffcdda43c684da84d2ca5dd2027e4a55c68edac-all.js"
              },
              {
               "name": null,
               "type": "css",
               "url": "/assetserver/b0b44adaed1197b8510174b41f32f09d98a0c28e-style.css"
              },
              {
               "name": null,
               "type": "css",
               "url": "/assetserver/bbb2e3064bd5f6dfcf2f18fbeb52d9320f251632-bulma_confined.min.css"
              }
             ],
             "type": "async_block"
            },
            "mount_callbacks": [
             "function () {\n    var handler = (function (ko, koPunches) {\n    ko.punches.enableAll();\n    ko.bindingHandlers.numericValue = {\n        init: function(element, valueAccessor, allBindings, data, context) {\n            var stringified = ko.observable(ko.unwrap(valueAccessor()));\n            stringified.subscribe(function(value) {\n                var val = parseFloat(value);\n                if (!isNaN(val)) {\n                    valueAccessor()(val);\n                }\n            });\n            valueAccessor().subscribe(function(value) {\n                var str = JSON.stringify(value);\n                if ((str == \"0\") && ([\"-0\", \"-0.\"].indexOf(stringified()) >= 0))\n                     return;\n                 if ([\"null\", \"\"].indexOf(str) >= 0)\n                     return;\n                stringified(str);\n            });\n            ko.applyBindingsToNode(\n                element,\n                {\n                    value: stringified,\n                    valueUpdate: allBindings.get('valueUpdate'),\n                },\n                context,\n            );\n        }\n    };\n    var json_data = {\"options_js\":WebIO.getval({\"name\":\"options_js\",\"scope\":\"17695506645409778185\",\"id\":\"ob_102\",\"type\":\"observable\"}),\"index\":WebIO.getval({\"name\":\"index\",\"scope\":\"17695506645409778185\",\"id\":\"ob_101\",\"type\":\"observable\"})};\n    var self = this;\n    function AppViewModel() {\n        for (var key in json_data) {\n            var el = json_data[key];\n            this[key] = Array.isArray(el) ? ko.observableArray(el) : ko.observable(el);\n        }\n        [this[\"update\"]=function (val) {this.index(val)}]\n        \n        [this[\"options_js\"].subscribe((function (val){!(this.valueFromJulia[\"options_js\"]) ? (WebIO.setval({\"name\":\"options_js\",\"scope\":\"17695506645409778185\",\"id\":\"ob_102\",\"type\":\"observable\"},val)) : undefined; return this.valueFromJulia[\"options_js\"]=false}),self),this[\"index\"].subscribe((function (val){!(this.valueFromJulia[\"index\"]) ? (WebIO.setval({\"name\":\"index\",\"scope\":\"17695506645409778185\",\"id\":\"ob_101\",\"type\":\"observable\"},val)) : undefined; return this.valueFromJulia[\"index\"]=false}),self)]\n        \n    }\n    self.model = new AppViewModel();\n    self.valueFromJulia = {};\n    for (var key in json_data) {\n        self.valueFromJulia[key] = false;\n    }\n    ko.applyBindings(self.model, self.dom);\n}\n);\n    (WebIO.importBlock({\"data\":[{\"name\":\"knockout\",\"type\":\"js\",\"url\":\"/assetserver/254160226b58162a42111ea27214076747de1cf2-knockout.js\"},{\"name\":\"knockout_punches\",\"type\":\"js\",\"url\":\"/assetserver/2d0bf510fb683322318163f3ec7562806e4b1104-knockout_punches.js\"}],\"type\":\"async_block\"})).then((imports) => handler.apply(this, imports));\n}\n"
            ],
            "observables": {
             "index": {
              "id": "ob_101",
              "sync": true,
              "value": 1
             },
             "options_js": {
              "id": "ob_102",
              "sync": false,
              "value": [
               {
                "id": "idE1ioUNWP",
                "key": "Geometric",
                "val": 1
               },
               {
                "id": "idhvwgXTy9",
                "key": "Exponential",
                "val": 2
               }
              ]
             }
            },
            "systemjs_options": null
           },
           "nodeType": "Scope",
           "props": {},
           "type": "node"
          }
         ],
         "instanceArgs": {
          "namespace": "html",
          "tag": "div"
         },
         "nodeType": "DOM",
         "props": {
          "className": "interact-widget"
         },
         "type": "node"
        },
        {
         "children": [
          {
           "children": [
            {
             "children": [
              {
               "children": [
                {
                 "children": [
                  "q"
                 ],
                 "instanceArgs": {
                  "namespace": "html",
                  "tag": "label"
                 },
                 "nodeType": "DOM",
                 "props": {
                  "className": "interact ",
                  "style": {
                   "padding": "5px 10px 0px 10px"
                  }
                 },
                 "type": "node"
                }
               ],
               "instanceArgs": {
                "namespace": "html",
                "tag": "div"
               },
               "nodeType": "DOM",
               "props": {
                "className": "interact-flex-row-left"
               },
               "type": "node"
              },
              {
               "children": [
                {
                 "children": [],
                 "instanceArgs": {
                  "namespace": "html",
                  "tag": "input"
                 },
                 "nodeType": "DOM",
                 "props": {
                  "attributes": {
                   "data-bind": "numericValue: index, valueUpdate: 'input', event: {change: function (){this.changes(this.changes()+1)}}",
                   "orient": "horizontal",
                   "type": "range"
                  },
                  "className": "slider slider is-fullwidth",
                  "max": 19,
                  "min": 1,
                  "step": 1,
                  "style": {}
                 },
                 "type": "node"
                }
               ],
               "instanceArgs": {
                "namespace": "html",
                "tag": "div"
               },
               "nodeType": "DOM",
               "props": {
                "className": "interact-flex-row-center"
               },
               "type": "node"
              },
              {
               "children": [
                {
                 "children": [],
                 "instanceArgs": {
                  "namespace": "html",
                  "tag": "p"
                 },
                 "nodeType": "DOM",
                 "props": {
                  "attributes": {
                   "data-bind": "text: formatted_val"
                  }
                 },
                 "type": "node"
                }
               ],
               "instanceArgs": {
                "namespace": "html",
                "tag": "div"
               },
               "nodeType": "DOM",
               "props": {
                "className": "interact-flex-row-right"
               },
               "type": "node"
              }
             ],
             "instanceArgs": {
              "namespace": "html",
              "tag": "div"
             },
             "nodeType": "DOM",
             "props": {
              "className": "interact-flex-row interact-widget"
             },
             "type": "node"
            }
           ],
           "instanceArgs": {
            "handlers": {
             "changes": [
              "(function (val){return (val!=this.model[\"changes\"]()) ? (this.valueFromJulia[\"changes\"]=true, this.model[\"changes\"](val)) : undefined})"
             ],
             "index": [
              "(function (val){return (val!=this.model[\"index\"]()) ? (this.valueFromJulia[\"index\"]=true, this.model[\"index\"](val)) : undefined})"
             ]
            },
            "id": "4466540654947359303",
            "imports": {
             "data": [
              {
               "name": "knockout",
               "type": "js",
               "url": "/assetserver/254160226b58162a42111ea27214076747de1cf2-knockout.js"
              },
              {
               "name": "knockout_punches",
               "type": "js",
               "url": "/assetserver/2d0bf510fb683322318163f3ec7562806e4b1104-knockout_punches.js"
              },
              {
               "name": null,
               "type": "js",
               "url": "/assetserver/6ffcdda43c684da84d2ca5dd2027e4a55c68edac-all.js"
              },
              {
               "name": null,
               "type": "css",
               "url": "/assetserver/b0b44adaed1197b8510174b41f32f09d98a0c28e-style.css"
              },
              {
               "name": null,
               "type": "css",
               "url": "/assetserver/bbb2e3064bd5f6dfcf2f18fbeb52d9320f251632-bulma_confined.min.css"
              }
             ],
             "type": "async_block"
            },
            "mount_callbacks": [
             "function () {\n    var handler = (function (ko, koPunches) {\n    ko.punches.enableAll();\n    ko.bindingHandlers.numericValue = {\n        init: function(element, valueAccessor, allBindings, data, context) {\n            var stringified = ko.observable(ko.unwrap(valueAccessor()));\n            stringified.subscribe(function(value) {\n                var val = parseFloat(value);\n                if (!isNaN(val)) {\n                    valueAccessor()(val);\n                }\n            });\n            valueAccessor().subscribe(function(value) {\n                var str = JSON.stringify(value);\n                if ((str == \"0\") && ([\"-0\", \"-0.\"].indexOf(stringified()) >= 0))\n                     return;\n                 if ([\"null\", \"\"].indexOf(str) >= 0)\n                     return;\n                stringified(str);\n            });\n            ko.applyBindingsToNode(\n                element,\n                {\n                    value: stringified,\n                    valueUpdate: allBindings.get('valueUpdate'),\n                },\n                context,\n            );\n        }\n    };\n    var json_data = {\"formatted_vals\":[\"0.05\",\"0.1\",\"0.15\",\"0.2\",\"0.25\",\"0.3\",\"0.35\",\"0.4\",\"0.45\",\"0.5\",\"0.55\",\"0.6\",\"0.65\",\"0.7\",\"0.75\",\"0.8\",\"0.85\",\"0.9\",\"0.95\"],\"changes\":WebIO.getval({\"name\":\"changes\",\"scope\":\"4466540654947359303\",\"id\":\"ob_105\",\"type\":\"observable\"}),\"index\":WebIO.getval({\"name\":\"index\",\"scope\":\"4466540654947359303\",\"id\":\"ob_104\",\"type\":\"observable\"})};\n    var self = this;\n    function AppViewModel() {\n        for (var key in json_data) {\n            var el = json_data[key];\n            this[key] = Array.isArray(el) ? ko.observableArray(el) : ko.observable(el);\n        }\n        \n        [this[\"formatted_val\"]=ko.computed(    function(){\n        return this.formatted_vals()[parseInt(this.index())-(1)];\n    }\n,this)]\n        [this[\"changes\"].subscribe((function (val){!(this.valueFromJulia[\"changes\"]) ? (WebIO.setval({\"name\":\"changes\",\"scope\":\"4466540654947359303\",\"id\":\"ob_105\",\"type\":\"observable\"},val)) : undefined; return this.valueFromJulia[\"changes\"]=false}),self),this[\"index\"].subscribe((function (val){!(this.valueFromJulia[\"index\"]) ? (WebIO.setval({\"name\":\"index\",\"scope\":\"4466540654947359303\",\"id\":\"ob_104\",\"type\":\"observable\"},val)) : undefined; return this.valueFromJulia[\"index\"]=false}),self)]\n        \n    }\n    self.model = new AppViewModel();\n    self.valueFromJulia = {};\n    for (var key in json_data) {\n        self.valueFromJulia[key] = false;\n    }\n    ko.applyBindings(self.model, self.dom);\n}\n);\n    (WebIO.importBlock({\"data\":[{\"name\":\"knockout\",\"type\":\"js\",\"url\":\"/assetserver/254160226b58162a42111ea27214076747de1cf2-knockout.js\"},{\"name\":\"knockout_punches\",\"type\":\"js\",\"url\":\"/assetserver/2d0bf510fb683322318163f3ec7562806e4b1104-knockout_punches.js\"}],\"type\":\"async_block\"})).then((imports) => handler.apply(this, imports));\n}\n"
            ],
            "observables": {
             "changes": {
              "id": "ob_105",
              "sync": false,
              "value": 0
             },
             "index": {
              "id": "ob_104",
              "sync": true,
              "value": 10
             }
            },
            "systemjs_options": null
           },
           "nodeType": "Scope",
           "props": {},
           "type": "node"
          }
         ],
         "instanceArgs": {
          "namespace": "html",
          "tag": "div"
         },
         "nodeType": "DOM",
         "props": {
          "className": "field interact-widget"
         },
         "type": "node"
        },
        {
         "children": [
          {
           "children": [
            {
             "children": [
              {
               "children": [
                {
                 "children": [
                  "λ"
                 ],
                 "instanceArgs": {
                  "namespace": "html",
                  "tag": "label"
                 },
                 "nodeType": "DOM",
                 "props": {
                  "className": "interact ",
                  "style": {
                   "padding": "5px 10px 0px 10px"
                  }
                 },
                 "type": "node"
                }
               ],
               "instanceArgs": {
                "namespace": "html",
                "tag": "div"
               },
               "nodeType": "DOM",
               "props": {
                "className": "interact-flex-row-left"
               },
               "type": "node"
              },
              {
               "children": [
                {
                 "children": [],
                 "instanceArgs": {
                  "namespace": "html",
                  "tag": "input"
                 },
                 "nodeType": "DOM",
                 "props": {
                  "attributes": {
                   "data-bind": "numericValue: index, valueUpdate: 'input', event: {change: function (){this.changes(this.changes()+1)}}",
                   "orient": "horizontal",
                   "type": "range"
                  },
                  "className": "slider slider is-fullwidth",
                  "max": 10,
                  "min": 1,
                  "step": 1,
                  "style": {}
                 },
                 "type": "node"
                }
               ],
               "instanceArgs": {
                "namespace": "html",
                "tag": "div"
               },
               "nodeType": "DOM",
               "props": {
                "className": "interact-flex-row-center"
               },
               "type": "node"
              },
              {
               "children": [
                {
                 "children": [],
                 "instanceArgs": {
                  "namespace": "html",
                  "tag": "p"
                 },
                 "nodeType": "DOM",
                 "props": {
                  "attributes": {
                   "data-bind": "text: formatted_val"
                  }
                 },
                 "type": "node"
                }
               ],
               "instanceArgs": {
                "namespace": "html",
                "tag": "div"
               },
               "nodeType": "DOM",
               "props": {
                "className": "interact-flex-row-right"
               },
               "type": "node"
              }
             ],
             "instanceArgs": {
              "namespace": "html",
              "tag": "div"
             },
             "nodeType": "DOM",
             "props": {
              "className": "interact-flex-row interact-widget"
             },
             "type": "node"
            }
           ],
           "instanceArgs": {
            "handlers": {
             "changes": [
              "(function (val){return (val!=this.model[\"changes\"]()) ? (this.valueFromJulia[\"changes\"]=true, this.model[\"changes\"](val)) : undefined})"
             ],
             "index": [
              "(function (val){return (val!=this.model[\"index\"]()) ? (this.valueFromJulia[\"index\"]=true, this.model[\"index\"](val)) : undefined})"
             ]
            },
            "id": "7480107678666411650",
            "imports": {
             "data": [
              {
               "name": "knockout",
               "type": "js",
               "url": "/assetserver/254160226b58162a42111ea27214076747de1cf2-knockout.js"
              },
              {
               "name": "knockout_punches",
               "type": "js",
               "url": "/assetserver/2d0bf510fb683322318163f3ec7562806e4b1104-knockout_punches.js"
              },
              {
               "name": null,
               "type": "js",
               "url": "/assetserver/6ffcdda43c684da84d2ca5dd2027e4a55c68edac-all.js"
              },
              {
               "name": null,
               "type": "css",
               "url": "/assetserver/b0b44adaed1197b8510174b41f32f09d98a0c28e-style.css"
              },
              {
               "name": null,
               "type": "css",
               "url": "/assetserver/bbb2e3064bd5f6dfcf2f18fbeb52d9320f251632-bulma_confined.min.css"
              }
             ],
             "type": "async_block"
            },
            "mount_callbacks": [
             "function () {\n    var handler = (function (ko, koPunches) {\n    ko.punches.enableAll();\n    ko.bindingHandlers.numericValue = {\n        init: function(element, valueAccessor, allBindings, data, context) {\n            var stringified = ko.observable(ko.unwrap(valueAccessor()));\n            stringified.subscribe(function(value) {\n                var val = parseFloat(value);\n                if (!isNaN(val)) {\n                    valueAccessor()(val);\n                }\n            });\n            valueAccessor().subscribe(function(value) {\n                var str = JSON.stringify(value);\n                if ((str == \"0\") && ([\"-0\", \"-0.\"].indexOf(stringified()) >= 0))\n                     return;\n                 if ([\"null\", \"\"].indexOf(str) >= 0)\n                     return;\n                stringified(str);\n            });\n            ko.applyBindingsToNode(\n                element,\n                {\n                    value: stringified,\n                    valueUpdate: allBindings.get('valueUpdate'),\n                },\n                context,\n            );\n        }\n    };\n    var json_data = {\"formatted_vals\":[\"1\",\"2\",\"3\",\"4\",\"5\",\"6\",\"7\",\"8\",\"9\",\"10\"],\"changes\":WebIO.getval({\"name\":\"changes\",\"scope\":\"7480107678666411650\",\"id\":\"ob_108\",\"type\":\"observable\"}),\"index\":WebIO.getval({\"name\":\"index\",\"scope\":\"7480107678666411650\",\"id\":\"ob_107\",\"type\":\"observable\"})};\n    var self = this;\n    function AppViewModel() {\n        for (var key in json_data) {\n            var el = json_data[key];\n            this[key] = Array.isArray(el) ? ko.observableArray(el) : ko.observable(el);\n        }\n        \n        [this[\"formatted_val\"]=ko.computed(    function(){\n        return this.formatted_vals()[parseInt(this.index())-(1)];\n    }\n,this)]\n        [this[\"changes\"].subscribe((function (val){!(this.valueFromJulia[\"changes\"]) ? (WebIO.setval({\"name\":\"changes\",\"scope\":\"7480107678666411650\",\"id\":\"ob_108\",\"type\":\"observable\"},val)) : undefined; return this.valueFromJulia[\"changes\"]=false}),self),this[\"index\"].subscribe((function (val){!(this.valueFromJulia[\"index\"]) ? (WebIO.setval({\"name\":\"index\",\"scope\":\"7480107678666411650\",\"id\":\"ob_107\",\"type\":\"observable\"},val)) : undefined; return this.valueFromJulia[\"index\"]=false}),self)]\n        \n    }\n    self.model = new AppViewModel();\n    self.valueFromJulia = {};\n    for (var key in json_data) {\n        self.valueFromJulia[key] = false;\n    }\n    ko.applyBindings(self.model, self.dom);\n}\n);\n    (WebIO.importBlock({\"data\":[{\"name\":\"knockout\",\"type\":\"js\",\"url\":\"/assetserver/254160226b58162a42111ea27214076747de1cf2-knockout.js\"},{\"name\":\"knockout_punches\",\"type\":\"js\",\"url\":\"/assetserver/2d0bf510fb683322318163f3ec7562806e4b1104-knockout_punches.js\"}],\"type\":\"async_block\"})).then((imports) => handler.apply(this, imports));\n}\n"
            ],
            "observables": {
             "changes": {
              "id": "ob_108",
              "sync": false,
              "value": 0
             },
             "index": {
              "id": "ob_107",
              "sync": true,
              "value": 5
             }
            },
            "systemjs_options": null
           },
           "nodeType": "Scope",
           "props": {},
           "type": "node"
          }
         ],
         "instanceArgs": {
          "namespace": "html",
          "tag": "div"
         },
         "nodeType": "DOM",
         "props": {
          "className": "field interact-widget"
         },
         "type": "node"
        },
        {
         "children": [
          {
           "children": [],
           "instanceArgs": {
            "id": "ob_114",
            "name": "obs-node"
           },
           "nodeType": "ObservableNode",
           "props": {},
           "type": "node"
          }
         ],
         "instanceArgs": {
          "handlers": {},
          "id": "16372895754010322351",
          "imports": {
           "data": [],
           "type": "async_block"
          },
          "mount_callbacks": [],
          "observables": {
           "obs-node": {
            "id": "ob_114",
            "sync": false,
            "value": {
             "children": [
              {
               "children": [],
               "instanceArgs": {
                "namespace": "html",
                "tag": "div"
               },
               "nodeType": "DOM",
               "props": {
                "setInnerHtml": "<?xml version=\"1.0\" encoding=\"utf-8\"?>\n<svg xmlns=\"http://www.w3.org/2000/svg\" xmlns:xlink=\"http://www.w3.org/1999/xlink\" width=\"600\" height=\"400\" viewBox=\"0 0 2400 1600\">\n<defs>\n  <clipPath id=\"clip2600\">\n    <rect x=\"0\" y=\"0\" width=\"2400\" height=\"1600\"/>\n  </clipPath>\n</defs>\n<path clip-path=\"url(#clip2600)\" d=\"\nM0 1600 L2400 1600 L2400 0 L0 0  Z\n  \" fill=\"#ffffff\" fill-rule=\"evenodd\" fill-opacity=\"1\"/>\n<defs>\n  <clipPath id=\"clip2601\">\n    <rect x=\"480\" y=\"0\" width=\"1681\" height=\"1600\"/>\n  </clipPath>\n</defs>\n<path clip-path=\"url(#clip2600)\" d=\"\nM113.754 1425.62 L2352.76 1425.62 L2352.76 47.2441 L113.754 47.2441  Z\n  \" fill=\"#ffffff\" fill-rule=\"evenodd\" fill-opacity=\"1\"/>\n<defs>\n  <clipPath id=\"clip2602\">\n    <rect x=\"113\" y=\"47\" width=\"2240\" height=\"1379\"/>\n  </clipPath>\n</defs>\n<polyline clip-path=\"url(#clip2602)\" style=\"stroke:#000000; stroke-width:2; stroke-opacity:0.1; fill:none\" points=\"\n  173.275,1425.62 173.275,47.2441 \n  \"/>\n<polyline clip-path=\"url(#clip2602)\" style=\"stroke:#000000; stroke-width:2; stroke-opacity:0.1; fill:none\" points=\"\n  558.023,1425.62 558.023,47.2441 \n  \"/>\n<polyline clip-path=\"url(#clip2602)\" style=\"stroke:#000000; stroke-width:2; stroke-opacity:0.1; fill:none\" points=\"\n  942.771,1425.62 942.771,47.2441 \n  \"/>\n<polyline clip-path=\"url(#clip2602)\" style=\"stroke:#000000; stroke-width:2; stroke-opacity:0.1; fill:none\" points=\"\n  1327.52,1425.62 1327.52,47.2441 \n  \"/>\n<polyline clip-path=\"url(#clip2602)\" style=\"stroke:#000000; stroke-width:2; stroke-opacity:0.1; fill:none\" points=\"\n  1712.27,1425.62 1712.27,47.2441 \n  \"/>\n<polyline clip-path=\"url(#clip2602)\" style=\"stroke:#000000; stroke-width:2; stroke-opacity:0.1; fill:none\" points=\"\n  2097.01,1425.62 2097.01,47.2441 \n  \"/>\n<polyline clip-path=\"url(#clip2602)\" style=\"stroke:#000000; stroke-width:2; stroke-opacity:0.1; fill:none\" points=\"\n  113.754,1386.61 2352.76,1386.61 \n  \"/>\n<polyline clip-path=\"url(#clip2602)\" style=\"stroke:#000000; stroke-width:2; stroke-opacity:0.1; fill:none\" points=\"\n  113.754,1117.3 2352.76,1117.3 \n  \"/>\n<polyline clip-path=\"url(#clip2602)\" style=\"stroke:#000000; stroke-width:2; stroke-opacity:0.1; fill:none\" points=\"\n  113.754,847.984 2352.76,847.984 \n  \"/>\n<polyline clip-path=\"url(#clip2602)\" style=\"stroke:#000000; stroke-width:2; stroke-opacity:0.1; fill:none\" points=\"\n  113.754,578.672 2352.76,578.672 \n  \"/>\n<polyline clip-path=\"url(#clip2602)\" style=\"stroke:#000000; stroke-width:2; stroke-opacity:0.1; fill:none\" points=\"\n  113.754,309.36 2352.76,309.36 \n  \"/>\n<polyline clip-path=\"url(#clip2600)\" style=\"stroke:#000000; stroke-width:4; stroke-opacity:1; fill:none\" points=\"\n  113.754,1425.62 2352.76,1425.62 \n  \"/>\n<polyline clip-path=\"url(#clip2600)\" style=\"stroke:#000000; stroke-width:4; stroke-opacity:1; fill:none\" points=\"\n  113.754,1425.62 113.754,47.2441 \n  \"/>\n<polyline clip-path=\"url(#clip2600)\" style=\"stroke:#000000; stroke-width:4; stroke-opacity:1; fill:none\" points=\"\n  173.275,1425.62 173.275,1404.94 \n  \"/>\n<polyline clip-path=\"url(#clip2600)\" style=\"stroke:#000000; stroke-width:4; stroke-opacity:1; fill:none\" points=\"\n  558.023,1425.62 558.023,1404.94 \n  \"/>\n<polyline clip-path=\"url(#clip2600)\" style=\"stroke:#000000; stroke-width:4; stroke-opacity:1; fill:none\" points=\"\n  942.771,1425.62 942.771,1404.94 \n  \"/>\n<polyline clip-path=\"url(#clip2600)\" style=\"stroke:#000000; stroke-width:4; stroke-opacity:1; fill:none\" points=\"\n  1327.52,1425.62 1327.52,1404.94 \n  \"/>\n<polyline clip-path=\"url(#clip2600)\" style=\"stroke:#000000; stroke-width:4; stroke-opacity:1; fill:none\" points=\"\n  1712.27,1425.62 1712.27,1404.94 \n  \"/>\n<polyline clip-path=\"url(#clip2600)\" style=\"stroke:#000000; stroke-width:4; stroke-opacity:1; fill:none\" points=\"\n  2097.01,1425.62 2097.01,1404.94 \n  \"/>\n<polyline clip-path=\"url(#clip2600)\" style=\"stroke:#000000; stroke-width:4; stroke-opacity:1; fill:none\" points=\"\n  113.754,1386.61 147.339,1386.61 \n  \"/>\n<polyline clip-path=\"url(#clip2600)\" style=\"stroke:#000000; stroke-width:4; stroke-opacity:1; fill:none\" points=\"\n  113.754,1117.3 147.339,1117.3 \n  \"/>\n<polyline clip-path=\"url(#clip2600)\" style=\"stroke:#000000; stroke-width:4; stroke-opacity:1; fill:none\" points=\"\n  113.754,847.984 147.339,847.984 \n  \"/>\n<polyline clip-path=\"url(#clip2600)\" style=\"stroke:#000000; stroke-width:4; stroke-opacity:1; fill:none\" points=\"\n  113.754,578.672 147.339,578.672 \n  \"/>\n<polyline clip-path=\"url(#clip2600)\" style=\"stroke:#000000; stroke-width:4; stroke-opacity:1; fill:none\" points=\"\n  113.754,309.36 147.339,309.36 \n  \"/>\n<g clip-path=\"url(#clip2600)\">\n<text style=\"fill:#000000; fill-opacity:1; font-family:Arial,Helvetica Neue,Helvetica,sans-serif; font-size:48px; text-anchor:middle;\" transform=\"rotate(0, 173.275, 1479.62)\" x=\"173.275\" y=\"1479.62\">0</text>\n</g>\n<g clip-path=\"url(#clip2600)\">\n<text style=\"fill:#000000; fill-opacity:1; font-family:Arial,Helvetica Neue,Helvetica,sans-serif; font-size:48px; text-anchor:middle;\" transform=\"rotate(0, 558.023, 1479.62)\" x=\"558.023\" y=\"1479.62\">100</text>\n</g>\n<g clip-path=\"url(#clip2600)\">\n<text style=\"fill:#000000; fill-opacity:1; font-family:Arial,Helvetica Neue,Helvetica,sans-serif; font-size:48px; text-anchor:middle;\" transform=\"rotate(0, 942.771, 1479.62)\" x=\"942.771\" y=\"1479.62\">200</text>\n</g>\n<g clip-path=\"url(#clip2600)\">\n<text style=\"fill:#000000; fill-opacity:1; font-family:Arial,Helvetica Neue,Helvetica,sans-serif; font-size:48px; text-anchor:middle;\" transform=\"rotate(0, 1327.52, 1479.62)\" x=\"1327.52\" y=\"1479.62\">300</text>\n</g>\n<g clip-path=\"url(#clip2600)\">\n<text style=\"fill:#000000; fill-opacity:1; font-family:Arial,Helvetica Neue,Helvetica,sans-serif; font-size:48px; text-anchor:middle;\" transform=\"rotate(0, 1712.27, 1479.62)\" x=\"1712.27\" y=\"1479.62\">400</text>\n</g>\n<g clip-path=\"url(#clip2600)\">\n<text style=\"fill:#000000; fill-opacity:1; font-family:Arial,Helvetica Neue,Helvetica,sans-serif; font-size:48px; text-anchor:middle;\" transform=\"rotate(0, 2097.01, 1479.62)\" x=\"2097.01\" y=\"1479.62\">500</text>\n</g>\n<g clip-path=\"url(#clip2600)\">\n<text style=\"fill:#000000; fill-opacity:1; font-family:Arial,Helvetica Neue,Helvetica,sans-serif; font-size:48px; text-anchor:end;\" transform=\"rotate(0, 89.7545, 1404.11)\" x=\"89.7545\" y=\"1404.11\">0</text>\n</g>\n<g clip-path=\"url(#clip2600)\">\n<text style=\"fill:#000000; fill-opacity:1; font-family:Arial,Helvetica Neue,Helvetica,sans-serif; font-size:48px; text-anchor:end;\" transform=\"rotate(0, 89.7545, 1134.8)\" x=\"89.7545\" y=\"1134.8\">1</text>\n</g>\n<g clip-path=\"url(#clip2600)\">\n<text style=\"fill:#000000; fill-opacity:1; font-family:Arial,Helvetica Neue,Helvetica,sans-serif; font-size:48px; text-anchor:end;\" transform=\"rotate(0, 89.7545, 865.484)\" x=\"89.7545\" y=\"865.484\">2</text>\n</g>\n<g clip-path=\"url(#clip2600)\">\n<text style=\"fill:#000000; fill-opacity:1; font-family:Arial,Helvetica Neue,Helvetica,sans-serif; font-size:48px; text-anchor:end;\" transform=\"rotate(0, 89.7545, 596.172)\" x=\"89.7545\" y=\"596.172\">3</text>\n</g>\n<g clip-path=\"url(#clip2600)\">\n<text style=\"fill:#000000; fill-opacity:1; font-family:Arial,Helvetica Neue,Helvetica,sans-serif; font-size:48px; text-anchor:end;\" transform=\"rotate(0, 89.7545, 326.86)\" x=\"89.7545\" y=\"326.86\">4</text>\n</g>\n<g clip-path=\"url(#clip2600)\">\n<text style=\"fill:#000000; fill-opacity:1; font-family:Arial,Helvetica Neue,Helvetica,sans-serif; font-size:66px; text-anchor:middle;\" transform=\"rotate(0, 1233.26, 1559.48)\" x=\"1233.26\" y=\"1559.48\">N</text>\n</g>\n<polyline clip-path=\"url(#clip2602)\" style=\"stroke:#ff0000; stroke-width:12; stroke-opacity:1; fill:none\" points=\"\n  177.122,1386.61 180.97,982.64 184.817,937.755 188.665,174.704 192.512,417.085 196.36,399.131 200.207,232.414 204.055,309.36 207.902,369.207 211.75,417.085 \n  215.597,456.258 219.445,376.688 223.292,288.644 227.14,309.36 230.987,309.36 234.835,309.36 238.682,261.834 242.53,309.36 246.377,309.36 250.225,215.101 \n  254.072,193.941 257.919,186.946 261.767,168.849 265.614,185.925 269.462,158.545 273.309,153.988 277.157,189.666 281.004,193.941 284.852,132.914 288.699,129.819 \n  292.547,126.923 296.394,124.208 300.242,154.302 304.089,166.783 307.937,186.246 311.784,197.147 315.632,214.737 319.479,195.966 323.327,226.495 327.174,208.368 \n  331.022,217.4 334.869,181.116 338.717,177.836 342.564,193.066 346.411,213.605 350.259,198.122 354.106,177.569 357.954,197.147 361.801,193.941 365.649,201.635 \n  369.496,198.467 373.344,200.599 377.191,207.733 381.039,219.589 384.886,235.911 388.734,222.795 392.581,238.488 396.429,221.137 400.276,213.503 404.124,210.612 \n  407.971,190.156 411.819,200.767 415.666,125.544 419.514,120 423.361,127.057 427.209,142.06 431.056,112.401 434.903,131.139 438.751,141.528 442.598,159.315 \n  446.446,153.842 450.293,167.223 454.141,169.17 457.988,171.065 461.836,162.136 465.683,160.53 469.531,169.458 473.378,185.062 477.226,183.227 481.073,188.17 \n  484.921,179.691 488.768,171.42 492.616,182.816 496.463,161.88 500.311,169.951 504.158,174.704 508.006,160.774 511.853,165.523 515.701,176.217 519.548,180.689 \n  523.395,170.265 527.243,177.631 531.09,144.298 534.938,151.784 538.785,164.782 542.633,149.456 546.48,145.552 550.328,152.719 554.175,129.819 558.023,131.614 \n  561.87,138.707 565.718,145.661 569.565,147.25 573.413,153.988 577.26,160.597 581.108,162.001 584.955,153.31 588.803,159.742 592.65,136.407 596.498,120.842 \n  600.345,124.966 604.193,131.422 608.04,130.613 611.887,134.543 615.735,145.431 619.582,146.844 623.43,139.026 627.277,147.316 631.125,132.836 634.972,136.552 \n  638.82,135.754 642.667,137.177 646.515,138.577 650.362,142.126 654.21,139.155 658.057,121.269 661.905,124.871 665.752,132.624 669.6,131.906 673.447,133.271 \n  677.295,136.671 681.142,137.98 684.99,139.268 688.837,136.518 692.685,137.798 696.532,145.001 700.379,148.166 704.227,153.237 708.074,156.298 711.922,157.391 \n  715.769,164.199 719.617,167.118 723.464,149.279 727.312,157.872 731.159,155.202 735.007,154.413 738.854,157.3 742.702,158.327 746.549,157.533 750.397,165.727 \n  754.244,161.328 758.092,164.073 761.939,157.982 765.787,162.463 769.634,163.41 773.482,167.799 777.329,163.554 781.177,167.886 785.024,162.001 788.871,156.189 \n  792.719,158.813 796.566,166.392 800.414,159.008 804.261,156.64 808.109,160.83 811.956,156.858 815.804,156.159 819.651,158.674 823.499,162.752 827.346,157.278 \n  831.194,147.143 835.041,143.389 838.889,138.121 842.736,140.653 846.584,137 850.431,141.04 854.279,140.469 858.126,144.444 861.974,139.347 865.821,134.307 \n  869.668,141.226 873.516,139.19 877.363,140.12 881.211,138.113 885.058,141.95 888.906,144.298 892.753,146.621 896.601,148.919 900.448,148.343 904.296,149.19 \n  908.143,154.259 911.991,155.067 915.838,155.866 919.686,158.046 923.533,146.392 927.381,148.597 931.228,152.147 935.076,155.662 938.923,153.727 942.771,157.199 \n  946.618,160.636 950.466,162.705 954.313,150.161 958.16,154.902 962.008,156.969 965.855,161.631 969.703,159.742 973.55,157.872 977.398,157.308 981.245,155.467 \n  985.093,137.051 988.94,132.783 992.788,133.612 996.635,126.882 1000.48,128.984 1004.33,119.844 1008.18,120.718 1012.03,112.935 1015.87,117.521 1019.72,122.066 \n  1023.57,120.476 1027.42,123.753 1031.26,123.378 1035.11,127.815 1038.96,132.213 1042.81,137.763 1046.65,134.96 1050.5,132.181 1054.35,135.307 1058.19,137.235 \n  1062.04,136.814 1065.89,131.753 1069.74,129.048 1073.58,130.97 1077.43,134.021 1081.28,137.046 1085.13,134.364 1088.97,136.231 1092.82,138.082 1096.67,141.04 \n  1100.52,143.973 1104.36,137.98 1108.21,137.577 1112.06,138.281 1115.91,142.277 1119.75,142.956 1123.6,142.539 1127.45,143.212 1131.3,137.39 1135.14,140.232 \n  1138.99,135.541 1142.84,128.75 1146.69,131.593 1150.53,134.413 1154.38,120.314 1158.23,123.156 1162.08,123.881 1165.92,121.468 1169.77,124.273 1173.62,128.092 \n  1177.47,128.787 1181.31,131.532 1185.16,126.064 1189.01,128.799 1192.86,131.513 1196.7,135.218 1200.55,123.767 1204.4,127.474 1208.25,131.154 1212.09,130.816 \n  1215.94,129.487 1219.79,130.149 1223.64,132.778 1227.48,134.406 1231.33,134.062 1235.18,137.625 1239.03,137.273 1242.87,132.079 1246.72,133.68 1250.57,133.345 \n  1254.42,136.847 1258.26,138.414 1262.11,129.502 1265.96,129.187 1269.81,130.764 1273.65,133.271 1277.5,130.132 1281.35,131.689 1285.2,135.099 1289.04,131.986 \n  1292.89,129.819 1296.74,133.2 1300.59,135.64 1304.43,138.063 1308.28,136.818 1312.13,139.22 1315.98,135.259 1319.82,136.747 1323.67,140.027 1327.52,137 \n  1331.37,136.678 1335.21,139.925 1339.06,140.485 1342.91,144.584 1346.76,145.124 1350.6,143.02 1354.45,144.439 1358.3,146.724 1362.15,145.507 1365.99,138.217 \n  1369.84,141.365 1373.69,132.408 1377.54,135.555 1381.38,138.681 1385.23,132.384 1389.08,132.944 1392.93,133.5 1396.77,135.747 1400.62,136.291 1404.47,137.674 \n  1408.32,138.209 1412.16,138.74 1416.01,139.268 1419.86,138.131 1423.71,140.315 1427.55,138.355 1431.4,140.525 1435.25,141.861 1439.1,143.189 1442.94,141.244 \n  1446.79,141.752 1450.64,141.446 1454.49,141.141 1458.33,135.194 1462.18,137.322 1466.03,140.239 1469.88,134.347 1473.72,133.271 1477.57,136.174 1481.42,134.307 \n  1485.27,134.821 1489.11,135.331 1492.96,135.838 1496.81,137.909 1500.65,136.064 1504.5,131.894 1508.35,131.63 1512.2,127.497 1516.04,131.105 1519.89,131.614 \n  1523.74,129.819 1527.59,132.624 1531.43,134.651 1535.28,136.666 1539.13,129.566 1542.98,132.34 1546.82,134.345 1550.67,134.834 1554.52,135.32 1558.37,134.307 \n  1562.21,135.538 1566.06,136.762 1569.91,137.238 1573.76,129.572 1577.6,132.278 1581.45,131.29 1585.3,132.509 1589.15,131.526 1592.99,132.008 1596.84,129.576 \n  1600.69,130.061 1604.54,131.991 1608.38,128.856 1612.23,130.059 1616.08,129.819 1619.93,131.729 1623.77,131.486 1627.62,131.244 1631.47,133.845 1635.32,132.89 \n  1639.16,131.939 1643.01,133.814 1646.86,136.382 1650.71,133.325 1654.55,134.482 1658.4,134.237 1662.25,137.474 1666.1,135.14 1669.94,132.126 1673.79,133.271 \n  1677.64,128.212 1681.49,127.3 1685.33,128.448 1689.18,128.907 1693.03,130.728 1696.88,131.179 1700.72,129.593 1704.57,130.044 1708.42,127.794 1712.27,124.881 \n  1716.11,127.356 1719.96,125.799 1723.81,125.586 1727.66,127.374 1731.5,126.494 1735.35,126.281 1739.2,129.378 1743.05,128.499 1746.89,130.916 1750.74,132.008 \n  1754.59,127.853 1758.44,127.64 1762.28,130.688 1766.13,129.819 1769.98,129.602 1773.83,131.977 1777.67,133.048 1781.52,133.47 1785.37,133.889 1789.22,132.384 \n  1793.06,132.804 1796.91,133.861 1800.76,135.549 1804.61,133.418 1808.45,133.832 1812.3,133.612 1816.15,132.762 1820,132.545 1823.84,131.702 1827.69,133.368 \n  1831.54,133.151 1835.39,129.819 1839.23,128.989 1843.08,131.267 1846.93,132.914 1850.78,130.848 1854.62,133.722 1858.47,134.123 1862.32,134.522 1866.17,131.859 \n  1870.01,134.094 1873.86,134.49 1877.71,132.453 1881.56,131.032 1885.4,133.248 1889.25,130.02 1893.1,132.229 1896.95,134.427 1900.79,136.017 1904.64,134.606 \n  1908.49,136.188 1912.34,130.017 1916.18,127.441 1920.03,129.028 1923.88,130.608 1927.72,131 1931.57,133.158 1935.42,134.131 1939.27,128.645 1943.11,128.453 \n  1946.96,130.013 1950.81,127.487 1954.66,123.808 1958.5,122.467 1962.35,124.027 1966.2,124.425 1970.05,124.821 1973.89,123.489 1977.74,123.311 1981.59,124.853 \n  1985.44,125.244 1989.28,125.634 1993.13,127.731 1996.98,125.273 2000.83,125.094 2004.67,126.613 2008.52,124.737 2012.37,124.56 2016.22,125.508 2020.06,120.842 \n  2023.91,120.674 2027.76,118.83 2031.61,119.782 2035.45,121.287 2039.3,122.785 2043.15,122.615 2047,124.104 2050.84,113.998 2054.69,115.499 2058.54,114.796 \n  2062.39,116.838 2066.23,116.682 2070.08,116.526 2073.93,117.462 2077.78,114.041 2081.62,114.435 2085.47,115.911 2089.32,117.381 2093.17,118.305 2097.01,119.764 \n  2100.86,120.143 2104.71,118.91 2108.56,118.218 2112.4,117.529 2116.25,118.975 2120.1,119.884 2123.95,120.257 2127.79,120.099 2131.64,121.529 2135.49,120.842 \n  2139.34,121.738 2143.18,118.948 2147.03,118.794 2150.88,116.021 2154.73,117.443 2158.57,118.858 2162.42,118.706 2166.27,117.514 2170.12,116.846 2173.96,118.77 \n  2177.81,118.619 2181.66,119.5 2185.51,117.289 2189.35,115.599 2193.2,116.994 2197.05,118.896 2200.9,115.68 2204.74,115.537 2208.59,116.922 2212.44,112.203 \n  2216.29,110.546 2220.13,112.438 2223.98,113.313 2227.83,110.15 2231.68,112.032 2235.52,110.893 2239.37,111.263 2243.22,109.128 2247.07,109.5 2250.91,111.366 \n  2254.76,112.23 2258.61,114.084 2262.46,115.436 2266.3,116.287 2270.15,113.676 2274,106.636 2277.85,108.484 2281.69,108.85 2285.54,108.235 2289.39,109.09 \n  \n  \"/>\n<polyline clip-path=\"url(#clip2602)\" style=\"stroke:#000000; stroke-width:12; stroke-opacity:1; fill:none\" points=\"\n  -2125.25,86.2547 4591.76,86.2547 \n  \"/>\n<path clip-path=\"url(#clip2600)\" d=\"\nM185.754 1281.62 L776.023 1281.62 L776.023 1100.18 L185.754 1100.18  Z\n  \" fill=\"#ffffff\" fill-rule=\"evenodd\" fill-opacity=\"1\"/>\n<polyline clip-path=\"url(#clip2600)\" style=\"stroke:#000000; stroke-width:4; stroke-opacity:1; fill:none\" points=\"\n  185.754,1281.62 776.023,1281.62 776.023,1100.18 185.754,1100.18 185.754,1281.62 \n  \"/>\n<polyline clip-path=\"url(#clip2600)\" style=\"stroke:#ff0000; stroke-width:12; stroke-opacity:1; fill:none\" points=\"\n  209.754,1160.66 353.754,1160.66 \n  \"/>\n<g clip-path=\"url(#clip2600)\">\n<text style=\"fill:#000000; fill-opacity:1; font-family:Arial,Helvetica Neue,Helvetica,sans-serif; font-size:48px; text-anchor:start;\" transform=\"rotate(0, 377.754, 1178.16)\" x=\"377.754\" y=\"1178.16\">empirical T(N,N)</text>\n</g>\n<polyline clip-path=\"url(#clip2600)\" style=\"stroke:#000000; stroke-width:12; stroke-opacity:1; fill:none\" points=\"\n  209.754,1221.14 353.754,1221.14 \n  \"/>\n<g clip-path=\"url(#clip2600)\">\n<text style=\"fill:#000000; fill-opacity:1; font-family:Arial,Helvetica Neue,Helvetica,sans-serif; font-size:48px; text-anchor:start;\" transform=\"rotate(0, 377.754, 1238.64)\" x=\"377.754\" y=\"1238.64\">theoretical limit</text>\n</g>\n</svg>\n"
               },
               "type": "node"
              }
             ],
             "instanceArgs": {
              "namespace": "html",
              "tag": "div"
             },
             "nodeType": "DOM",
             "props": {
              "className": "interact-flex-row interact-widget"
             },
             "type": "node"
            }
           }
          },
          "systemjs_options": null
         },
         "nodeType": "Scope",
         "props": {},
         "type": "node"
        }
       ],
       "instanceArgs": {
        "namespace": "html",
        "tag": "div"
       },
       "nodeType": "DOM",
       "props": {},
       "type": "node"
      },
      "text/html": [
       "<div\n",
       "    class=\"webio-mountpoint\"\n",
       "    data-webio-mountpoint=\"10803601955737705261\"\n",
       ">\n",
       "    <script>\n",
       "    if (window.require && require.defined && require.defined(\"nbextensions/webio-jupyter-notebook\")) {\n",
       "        console.log(\"Jupyter WebIO extension detected, not mounting.\");\n",
       "    } else if (window.WebIO) {\n",
       "        WebIO.mount(\n",
       "            document.querySelector('[data-webio-mountpoint=\"10803601955737705261\"]'),\n",
       "            {\"props\":{},\"nodeType\":\"DOM\",\"type\":\"node\",\"instanceArgs\":{\"namespace\":\"html\",\"tag\":\"div\"},\"children\":[{\"props\":{\"className\":\"field interact-widget\"},\"nodeType\":\"DOM\",\"type\":\"node\",\"instanceArgs\":{\"namespace\":\"html\",\"tag\":\"div\"},\"children\":[{\"props\":{},\"nodeType\":\"Scope\",\"type\":\"node\",\"instanceArgs\":{\"imports\":{\"data\":[{\"name\":\"knockout\",\"type\":\"js\",\"url\":\"\\/assetserver\\/254160226b58162a42111ea27214076747de1cf2-knockout.js\"},{\"name\":\"knockout_punches\",\"type\":\"js\",\"url\":\"\\/assetserver\\/2d0bf510fb683322318163f3ec7562806e4b1104-knockout_punches.js\"},{\"name\":null,\"type\":\"js\",\"url\":\"\\/assetserver\\/6ffcdda43c684da84d2ca5dd2027e4a55c68edac-all.js\"},{\"name\":null,\"type\":\"css\",\"url\":\"\\/assetserver\\/b0b44adaed1197b8510174b41f32f09d98a0c28e-style.css\"},{\"name\":null,\"type\":\"css\",\"url\":\"\\/assetserver\\/bbb2e3064bd5f6dfcf2f18fbeb52d9320f251632-bulma_confined.min.css\"}],\"type\":\"async_block\"},\"id\":\"14784886841760261545\",\"handlers\":{\"changes\":[\"(function (val){return (val!=this.model[\\\"changes\\\"]()) ? (this.valueFromJulia[\\\"changes\\\"]=true, this.model[\\\"changes\\\"](val)) : undefined})\"],\"index\":[\"(function (val){return (val!=this.model[\\\"index\\\"]()) ? (this.valueFromJulia[\\\"index\\\"]=true, this.model[\\\"index\\\"](val)) : undefined})\"]},\"systemjs_options\":null,\"mount_callbacks\":[\"function () {\\n    var handler = (function (ko, koPunches) {\\n    ko.punches.enableAll();\\n    ko.bindingHandlers.numericValue = {\\n        init: function(element, valueAccessor, allBindings, data, context) {\\n            var stringified = ko.observable(ko.unwrap(valueAccessor()));\\n            stringified.subscribe(function(value) {\\n                var val = parseFloat(value);\\n                if (!isNaN(val)) {\\n                    valueAccessor()(val);\\n                }\\n            });\\n            valueAccessor().subscribe(function(value) {\\n                var str = JSON.stringify(value);\\n                if ((str == \\\"0\\\") && ([\\\"-0\\\", \\\"-0.\\\"].indexOf(stringified()) >= 0))\\n                     return;\\n                 if ([\\\"null\\\", \\\"\\\"].indexOf(str) >= 0)\\n                     return;\\n                stringified(str);\\n            });\\n            ko.applyBindingsToNode(\\n                element,\\n                {\\n                    value: stringified,\\n                    valueUpdate: allBindings.get('valueUpdate'),\\n                },\\n                context,\\n            );\\n        }\\n    };\\n    var json_data = {\\\"formatted_vals\\\":[\\\"100\\\",\\\"150\\\",\\\"200\\\",\\\"250\\\",\\\"300\\\",\\\"350\\\",\\\"400\\\",\\\"450\\\",\\\"500\\\",\\\"550\\\",\\\"600\\\",\\\"650\\\",\\\"700\\\",\\\"750\\\",\\\"800\\\",\\\"850\\\",\\\"900\\\",\\\"950\\\",\\\"1000\\\"],\\\"changes\\\":WebIO.getval({\\\"name\\\":\\\"changes\\\",\\\"scope\\\":\\\"14784886841760261545\\\",\\\"id\\\":\\\"ob_97\\\",\\\"type\\\":\\\"observable\\\"}),\\\"index\\\":WebIO.getval({\\\"name\\\":\\\"index\\\",\\\"scope\\\":\\\"14784886841760261545\\\",\\\"id\\\":\\\"ob_96\\\",\\\"type\\\":\\\"observable\\\"})};\\n    var self = this;\\n    function AppViewModel() {\\n        for (var key in json_data) {\\n            var el = json_data[key];\\n            this[key] = Array.isArray(el) ? ko.observableArray(el) : ko.observable(el);\\n        }\\n        \\n        [this[\\\"formatted_val\\\"]=ko.computed(    function(){\\n        return this.formatted_vals()[parseInt(this.index())-(1)];\\n    }\\n,this)]\\n        [this[\\\"changes\\\"].subscribe((function (val){!(this.valueFromJulia[\\\"changes\\\"]) ? (WebIO.setval({\\\"name\\\":\\\"changes\\\",\\\"scope\\\":\\\"14784886841760261545\\\",\\\"id\\\":\\\"ob_97\\\",\\\"type\\\":\\\"observable\\\"},val)) : undefined; return this.valueFromJulia[\\\"changes\\\"]=false}),self),this[\\\"index\\\"].subscribe((function (val){!(this.valueFromJulia[\\\"index\\\"]) ? (WebIO.setval({\\\"name\\\":\\\"index\\\",\\\"scope\\\":\\\"14784886841760261545\\\",\\\"id\\\":\\\"ob_96\\\",\\\"type\\\":\\\"observable\\\"},val)) : undefined; return this.valueFromJulia[\\\"index\\\"]=false}),self)]\\n        \\n    }\\n    self.model = new AppViewModel();\\n    self.valueFromJulia = {};\\n    for (var key in json_data) {\\n        self.valueFromJulia[key] = false;\\n    }\\n    ko.applyBindings(self.model, self.dom);\\n}\\n);\\n    (WebIO.importBlock({\\\"data\\\":[{\\\"name\\\":\\\"knockout\\\",\\\"type\\\":\\\"js\\\",\\\"url\\\":\\\"\\/assetserver\\/254160226b58162a42111ea27214076747de1cf2-knockout.js\\\"},{\\\"name\\\":\\\"knockout_punches\\\",\\\"type\\\":\\\"js\\\",\\\"url\\\":\\\"\\/assetserver\\/2d0bf510fb683322318163f3ec7562806e4b1104-knockout_punches.js\\\"}],\\\"type\\\":\\\"async_block\\\"})).then((imports) => handler.apply(this, imports));\\n}\\n\"],\"observables\":{\"changes\":{\"sync\":false,\"id\":\"ob_97\",\"value\":0},\"index\":{\"sync\":true,\"id\":\"ob_96\",\"value\":10}}},\"children\":[{\"props\":{\"className\":\"interact-flex-row interact-widget\"},\"nodeType\":\"DOM\",\"type\":\"node\",\"instanceArgs\":{\"namespace\":\"html\",\"tag\":\"div\"},\"children\":[{\"props\":{\"className\":\"interact-flex-row-left\"},\"nodeType\":\"DOM\",\"type\":\"node\",\"instanceArgs\":{\"namespace\":\"html\",\"tag\":\"div\"},\"children\":[{\"props\":{\"className\":\"interact \",\"style\":{\"padding\":\"5px 10px 0px 10px\"}},\"nodeType\":\"DOM\",\"type\":\"node\",\"instanceArgs\":{\"namespace\":\"html\",\"tag\":\"label\"},\"children\":[\"max_N\"]}]},{\"props\":{\"className\":\"interact-flex-row-center\"},\"nodeType\":\"DOM\",\"type\":\"node\",\"instanceArgs\":{\"namespace\":\"html\",\"tag\":\"div\"},\"children\":[{\"props\":{\"max\":19,\"min\":1,\"attributes\":{\"type\":\"range\",\"data-bind\":\"numericValue: index, valueUpdate: 'input', event: {change: function (){this.changes(this.changes()+1)}}\",\"orient\":\"horizontal\"},\"step\":1,\"className\":\"slider slider is-fullwidth\",\"style\":{}},\"nodeType\":\"DOM\",\"type\":\"node\",\"instanceArgs\":{\"namespace\":\"html\",\"tag\":\"input\"},\"children\":[]}]},{\"props\":{\"className\":\"interact-flex-row-right\"},\"nodeType\":\"DOM\",\"type\":\"node\",\"instanceArgs\":{\"namespace\":\"html\",\"tag\":\"div\"},\"children\":[{\"props\":{\"attributes\":{\"data-bind\":\"text: formatted_val\"}},\"nodeType\":\"DOM\",\"type\":\"node\",\"instanceArgs\":{\"namespace\":\"html\",\"tag\":\"p\"},\"children\":[]}]}]}]}]},{\"props\":{\"className\":\"interact-widget\"},\"nodeType\":\"DOM\",\"type\":\"node\",\"instanceArgs\":{\"namespace\":\"html\",\"tag\":\"div\"},\"children\":[{\"props\":{},\"nodeType\":\"Scope\",\"type\":\"node\",\"instanceArgs\":{\"imports\":{\"data\":[{\"name\":\"knockout\",\"type\":\"js\",\"url\":\"\\/assetserver\\/254160226b58162a42111ea27214076747de1cf2-knockout.js\"},{\"name\":\"knockout_punches\",\"type\":\"js\",\"url\":\"\\/assetserver\\/2d0bf510fb683322318163f3ec7562806e4b1104-knockout_punches.js\"},{\"name\":null,\"type\":\"js\",\"url\":\"\\/assetserver\\/6ffcdda43c684da84d2ca5dd2027e4a55c68edac-all.js\"},{\"name\":null,\"type\":\"css\",\"url\":\"\\/assetserver\\/b0b44adaed1197b8510174b41f32f09d98a0c28e-style.css\"},{\"name\":null,\"type\":\"css\",\"url\":\"\\/assetserver\\/bbb2e3064bd5f6dfcf2f18fbeb52d9320f251632-bulma_confined.min.css\"}],\"type\":\"async_block\"},\"id\":\"17695506645409778185\",\"handlers\":{\"options_js\":[\"(function (val){return (val!=this.model[\\\"options_js\\\"]()) ? (this.valueFromJulia[\\\"options_js\\\"]=true, this.model[\\\"options_js\\\"](val)) : undefined})\"],\"index\":[\"(function (val){return (val!=this.model[\\\"index\\\"]()) ? (this.valueFromJulia[\\\"index\\\"]=true, this.model[\\\"index\\\"](val)) : undefined})\"]},\"systemjs_options\":null,\"mount_callbacks\":[\"function () {\\n    var handler = (function (ko, koPunches) {\\n    ko.punches.enableAll();\\n    ko.bindingHandlers.numericValue = {\\n        init: function(element, valueAccessor, allBindings, data, context) {\\n            var stringified = ko.observable(ko.unwrap(valueAccessor()));\\n            stringified.subscribe(function(value) {\\n                var val = parseFloat(value);\\n                if (!isNaN(val)) {\\n                    valueAccessor()(val);\\n                }\\n            });\\n            valueAccessor().subscribe(function(value) {\\n                var str = JSON.stringify(value);\\n                if ((str == \\\"0\\\") && ([\\\"-0\\\", \\\"-0.\\\"].indexOf(stringified()) >= 0))\\n                     return;\\n                 if ([\\\"null\\\", \\\"\\\"].indexOf(str) >= 0)\\n                     return;\\n                stringified(str);\\n            });\\n            ko.applyBindingsToNode(\\n                element,\\n                {\\n                    value: stringified,\\n                    valueUpdate: allBindings.get('valueUpdate'),\\n                },\\n                context,\\n            );\\n        }\\n    };\\n    var json_data = {\\\"options_js\\\":WebIO.getval({\\\"name\\\":\\\"options_js\\\",\\\"scope\\\":\\\"17695506645409778185\\\",\\\"id\\\":\\\"ob_102\\\",\\\"type\\\":\\\"observable\\\"}),\\\"index\\\":WebIO.getval({\\\"name\\\":\\\"index\\\",\\\"scope\\\":\\\"17695506645409778185\\\",\\\"id\\\":\\\"ob_101\\\",\\\"type\\\":\\\"observable\\\"})};\\n    var self = this;\\n    function AppViewModel() {\\n        for (var key in json_data) {\\n            var el = json_data[key];\\n            this[key] = Array.isArray(el) ? ko.observableArray(el) : ko.observable(el);\\n        }\\n        [this[\\\"update\\\"]=function (val) {this.index(val)}]\\n        \\n        [this[\\\"options_js\\\"].subscribe((function (val){!(this.valueFromJulia[\\\"options_js\\\"]) ? (WebIO.setval({\\\"name\\\":\\\"options_js\\\",\\\"scope\\\":\\\"17695506645409778185\\\",\\\"id\\\":\\\"ob_102\\\",\\\"type\\\":\\\"observable\\\"},val)) : undefined; return this.valueFromJulia[\\\"options_js\\\"]=false}),self),this[\\\"index\\\"].subscribe((function (val){!(this.valueFromJulia[\\\"index\\\"]) ? (WebIO.setval({\\\"name\\\":\\\"index\\\",\\\"scope\\\":\\\"17695506645409778185\\\",\\\"id\\\":\\\"ob_101\\\",\\\"type\\\":\\\"observable\\\"},val)) : undefined; return this.valueFromJulia[\\\"index\\\"]=false}),self)]\\n        \\n    }\\n    self.model = new AppViewModel();\\n    self.valueFromJulia = {};\\n    for (var key in json_data) {\\n        self.valueFromJulia[key] = false;\\n    }\\n    ko.applyBindings(self.model, self.dom);\\n}\\n);\\n    (WebIO.importBlock({\\\"data\\\":[{\\\"name\\\":\\\"knockout\\\",\\\"type\\\":\\\"js\\\",\\\"url\\\":\\\"\\/assetserver\\/254160226b58162a42111ea27214076747de1cf2-knockout.js\\\"},{\\\"name\\\":\\\"knockout_punches\\\",\\\"type\\\":\\\"js\\\",\\\"url\\\":\\\"\\/assetserver\\/2d0bf510fb683322318163f3ec7562806e4b1104-knockout_punches.js\\\"}],\\\"type\\\":\\\"async_block\\\"})).then((imports) => handler.apply(this, imports));\\n}\\n\"],\"observables\":{\"options_js\":{\"sync\":false,\"id\":\"ob_102\",\"value\":[{\"key\":\"Geometric\",\"val\":1,\"id\":\"idE1ioUNWP\"},{\"key\":\"Exponential\",\"val\":2,\"id\":\"idhvwgXTy9\"}]},\"index\":{\"sync\":true,\"id\":\"ob_101\",\"value\":1}}},\"children\":[{\"props\":{\"className\":\"interact-flex-row interact-widget\"},\"nodeType\":\"DOM\",\"type\":\"node\",\"instanceArgs\":{\"namespace\":\"html\",\"tag\":\"div\"},\"children\":[{\"props\":{\"className\":\"interact-flex-row-left\"},\"nodeType\":\"DOM\",\"type\":\"node\",\"instanceArgs\":{\"namespace\":\"html\",\"tag\":\"div\"},\"children\":[{\"props\":{\"className\":\"interact \",\"style\":{\"padding\":\"5px 10px 0px 10px\"}},\"nodeType\":\"DOM\",\"type\":\"node\",\"instanceArgs\":{\"namespace\":\"html\",\"tag\":\"label\"},\"children\":[\"law_name\"]}]},{\"props\":{\"className\":\"interact-flex-row-center\"},\"nodeType\":\"DOM\",\"type\":\"node\",\"instanceArgs\":{\"namespace\":\"html\",\"tag\":\"div\"},\"children\":[{\"props\":{\"attributes\":{\"data-bind\":\"foreach : options_js\"},\"className\":\"buttons has-addons is-centered\"},\"nodeType\":\"DOM\",\"type\":\"node\",\"instanceArgs\":{\"namespace\":\"html\",\"tag\":\"div\"},\"children\":[{\"props\":{\"attributes\":{\"data-bind\":\"click: function (){$root.update(val)}, css: {'is-primary is-selected' : $root.index() == val, 'interact-widget is-medium button ' : true}\"}},\"nodeType\":\"DOM\",\"type\":\"node\",\"instanceArgs\":{\"namespace\":\"html\",\"tag\":\"span\"},\"children\":[{\"props\":{\"attributes\":{\"data-bind\":\"text : key\"}},\"nodeType\":\"DOM\",\"type\":\"node\",\"instanceArgs\":{\"namespace\":\"html\",\"tag\":\"label\"},\"children\":[]}]}]}]},{\"props\":{\"className\":\"interact-flex-row-right\"},\"nodeType\":\"DOM\",\"type\":\"node\",\"instanceArgs\":{\"namespace\":\"html\",\"tag\":\"div\"},\"children\":[{\"props\":{},\"nodeType\":\"DOM\",\"type\":\"node\",\"instanceArgs\":{\"namespace\":\"html\",\"tag\":\"div\"},\"children\":[]}]}]}]}]},{\"props\":{\"className\":\"field interact-widget\"},\"nodeType\":\"DOM\",\"type\":\"node\",\"instanceArgs\":{\"namespace\":\"html\",\"tag\":\"div\"},\"children\":[{\"props\":{},\"nodeType\":\"Scope\",\"type\":\"node\",\"instanceArgs\":{\"imports\":{\"data\":[{\"name\":\"knockout\",\"type\":\"js\",\"url\":\"\\/assetserver\\/254160226b58162a42111ea27214076747de1cf2-knockout.js\"},{\"name\":\"knockout_punches\",\"type\":\"js\",\"url\":\"\\/assetserver\\/2d0bf510fb683322318163f3ec7562806e4b1104-knockout_punches.js\"},{\"name\":null,\"type\":\"js\",\"url\":\"\\/assetserver\\/6ffcdda43c684da84d2ca5dd2027e4a55c68edac-all.js\"},{\"name\":null,\"type\":\"css\",\"url\":\"\\/assetserver\\/b0b44adaed1197b8510174b41f32f09d98a0c28e-style.css\"},{\"name\":null,\"type\":\"css\",\"url\":\"\\/assetserver\\/bbb2e3064bd5f6dfcf2f18fbeb52d9320f251632-bulma_confined.min.css\"}],\"type\":\"async_block\"},\"id\":\"4466540654947359303\",\"handlers\":{\"changes\":[\"(function (val){return (val!=this.model[\\\"changes\\\"]()) ? (this.valueFromJulia[\\\"changes\\\"]=true, this.model[\\\"changes\\\"](val)) : undefined})\"],\"index\":[\"(function (val){return (val!=this.model[\\\"index\\\"]()) ? (this.valueFromJulia[\\\"index\\\"]=true, this.model[\\\"index\\\"](val)) : undefined})\"]},\"systemjs_options\":null,\"mount_callbacks\":[\"function () {\\n    var handler = (function (ko, koPunches) {\\n    ko.punches.enableAll();\\n    ko.bindingHandlers.numericValue = {\\n        init: function(element, valueAccessor, allBindings, data, context) {\\n            var stringified = ko.observable(ko.unwrap(valueAccessor()));\\n            stringified.subscribe(function(value) {\\n                var val = parseFloat(value);\\n                if (!isNaN(val)) {\\n                    valueAccessor()(val);\\n                }\\n            });\\n            valueAccessor().subscribe(function(value) {\\n                var str = JSON.stringify(value);\\n                if ((str == \\\"0\\\") && ([\\\"-0\\\", \\\"-0.\\\"].indexOf(stringified()) >= 0))\\n                     return;\\n                 if ([\\\"null\\\", \\\"\\\"].indexOf(str) >= 0)\\n                     return;\\n                stringified(str);\\n            });\\n            ko.applyBindingsToNode(\\n                element,\\n                {\\n                    value: stringified,\\n                    valueUpdate: allBindings.get('valueUpdate'),\\n                },\\n                context,\\n            );\\n        }\\n    };\\n    var json_data = {\\\"formatted_vals\\\":[\\\"0.05\\\",\\\"0.1\\\",\\\"0.15\\\",\\\"0.2\\\",\\\"0.25\\\",\\\"0.3\\\",\\\"0.35\\\",\\\"0.4\\\",\\\"0.45\\\",\\\"0.5\\\",\\\"0.55\\\",\\\"0.6\\\",\\\"0.65\\\",\\\"0.7\\\",\\\"0.75\\\",\\\"0.8\\\",\\\"0.85\\\",\\\"0.9\\\",\\\"0.95\\\"],\\\"changes\\\":WebIO.getval({\\\"name\\\":\\\"changes\\\",\\\"scope\\\":\\\"4466540654947359303\\\",\\\"id\\\":\\\"ob_105\\\",\\\"type\\\":\\\"observable\\\"}),\\\"index\\\":WebIO.getval({\\\"name\\\":\\\"index\\\",\\\"scope\\\":\\\"4466540654947359303\\\",\\\"id\\\":\\\"ob_104\\\",\\\"type\\\":\\\"observable\\\"})};\\n    var self = this;\\n    function AppViewModel() {\\n        for (var key in json_data) {\\n            var el = json_data[key];\\n            this[key] = Array.isArray(el) ? ko.observableArray(el) : ko.observable(el);\\n        }\\n        \\n        [this[\\\"formatted_val\\\"]=ko.computed(    function(){\\n        return this.formatted_vals()[parseInt(this.index())-(1)];\\n    }\\n,this)]\\n        [this[\\\"changes\\\"].subscribe((function (val){!(this.valueFromJulia[\\\"changes\\\"]) ? (WebIO.setval({\\\"name\\\":\\\"changes\\\",\\\"scope\\\":\\\"4466540654947359303\\\",\\\"id\\\":\\\"ob_105\\\",\\\"type\\\":\\\"observable\\\"},val)) : undefined; return this.valueFromJulia[\\\"changes\\\"]=false}),self),this[\\\"index\\\"].subscribe((function (val){!(this.valueFromJulia[\\\"index\\\"]) ? (WebIO.setval({\\\"name\\\":\\\"index\\\",\\\"scope\\\":\\\"4466540654947359303\\\",\\\"id\\\":\\\"ob_104\\\",\\\"type\\\":\\\"observable\\\"},val)) : undefined; return this.valueFromJulia[\\\"index\\\"]=false}),self)]\\n        \\n    }\\n    self.model = new AppViewModel();\\n    self.valueFromJulia = {};\\n    for (var key in json_data) {\\n        self.valueFromJulia[key] = false;\\n    }\\n    ko.applyBindings(self.model, self.dom);\\n}\\n);\\n    (WebIO.importBlock({\\\"data\\\":[{\\\"name\\\":\\\"knockout\\\",\\\"type\\\":\\\"js\\\",\\\"url\\\":\\\"\\/assetserver\\/254160226b58162a42111ea27214076747de1cf2-knockout.js\\\"},{\\\"name\\\":\\\"knockout_punches\\\",\\\"type\\\":\\\"js\\\",\\\"url\\\":\\\"\\/assetserver\\/2d0bf510fb683322318163f3ec7562806e4b1104-knockout_punches.js\\\"}],\\\"type\\\":\\\"async_block\\\"})).then((imports) => handler.apply(this, imports));\\n}\\n\"],\"observables\":{\"changes\":{\"sync\":false,\"id\":\"ob_105\",\"value\":0},\"index\":{\"sync\":true,\"id\":\"ob_104\",\"value\":10}}},\"children\":[{\"props\":{\"className\":\"interact-flex-row interact-widget\"},\"nodeType\":\"DOM\",\"type\":\"node\",\"instanceArgs\":{\"namespace\":\"html\",\"tag\":\"div\"},\"children\":[{\"props\":{\"className\":\"interact-flex-row-left\"},\"nodeType\":\"DOM\",\"type\":\"node\",\"instanceArgs\":{\"namespace\":\"html\",\"tag\":\"div\"},\"children\":[{\"props\":{\"className\":\"interact \",\"style\":{\"padding\":\"5px 10px 0px 10px\"}},\"nodeType\":\"DOM\",\"type\":\"node\",\"instanceArgs\":{\"namespace\":\"html\",\"tag\":\"label\"},\"children\":[\"q\"]}]},{\"props\":{\"className\":\"interact-flex-row-center\"},\"nodeType\":\"DOM\",\"type\":\"node\",\"instanceArgs\":{\"namespace\":\"html\",\"tag\":\"div\"},\"children\":[{\"props\":{\"max\":19,\"min\":1,\"attributes\":{\"type\":\"range\",\"data-bind\":\"numericValue: index, valueUpdate: 'input', event: {change: function (){this.changes(this.changes()+1)}}\",\"orient\":\"horizontal\"},\"step\":1,\"className\":\"slider slider is-fullwidth\",\"style\":{}},\"nodeType\":\"DOM\",\"type\":\"node\",\"instanceArgs\":{\"namespace\":\"html\",\"tag\":\"input\"},\"children\":[]}]},{\"props\":{\"className\":\"interact-flex-row-right\"},\"nodeType\":\"DOM\",\"type\":\"node\",\"instanceArgs\":{\"namespace\":\"html\",\"tag\":\"div\"},\"children\":[{\"props\":{\"attributes\":{\"data-bind\":\"text: formatted_val\"}},\"nodeType\":\"DOM\",\"type\":\"node\",\"instanceArgs\":{\"namespace\":\"html\",\"tag\":\"p\"},\"children\":[]}]}]}]}]},{\"props\":{\"className\":\"field interact-widget\"},\"nodeType\":\"DOM\",\"type\":\"node\",\"instanceArgs\":{\"namespace\":\"html\",\"tag\":\"div\"},\"children\":[{\"props\":{},\"nodeType\":\"Scope\",\"type\":\"node\",\"instanceArgs\":{\"imports\":{\"data\":[{\"name\":\"knockout\",\"type\":\"js\",\"url\":\"\\/assetserver\\/254160226b58162a42111ea27214076747de1cf2-knockout.js\"},{\"name\":\"knockout_punches\",\"type\":\"js\",\"url\":\"\\/assetserver\\/2d0bf510fb683322318163f3ec7562806e4b1104-knockout_punches.js\"},{\"name\":null,\"type\":\"js\",\"url\":\"\\/assetserver\\/6ffcdda43c684da84d2ca5dd2027e4a55c68edac-all.js\"},{\"name\":null,\"type\":\"css\",\"url\":\"\\/assetserver\\/b0b44adaed1197b8510174b41f32f09d98a0c28e-style.css\"},{\"name\":null,\"type\":\"css\",\"url\":\"\\/assetserver\\/bbb2e3064bd5f6dfcf2f18fbeb52d9320f251632-bulma_confined.min.css\"}],\"type\":\"async_block\"},\"id\":\"7480107678666411650\",\"handlers\":{\"changes\":[\"(function (val){return (val!=this.model[\\\"changes\\\"]()) ? (this.valueFromJulia[\\\"changes\\\"]=true, this.model[\\\"changes\\\"](val)) : undefined})\"],\"index\":[\"(function (val){return (val!=this.model[\\\"index\\\"]()) ? (this.valueFromJulia[\\\"index\\\"]=true, this.model[\\\"index\\\"](val)) : undefined})\"]},\"systemjs_options\":null,\"mount_callbacks\":[\"function () {\\n    var handler = (function (ko, koPunches) {\\n    ko.punches.enableAll();\\n    ko.bindingHandlers.numericValue = {\\n        init: function(element, valueAccessor, allBindings, data, context) {\\n            var stringified = ko.observable(ko.unwrap(valueAccessor()));\\n            stringified.subscribe(function(value) {\\n                var val = parseFloat(value);\\n                if (!isNaN(val)) {\\n                    valueAccessor()(val);\\n                }\\n            });\\n            valueAccessor().subscribe(function(value) {\\n                var str = JSON.stringify(value);\\n                if ((str == \\\"0\\\") && ([\\\"-0\\\", \\\"-0.\\\"].indexOf(stringified()) >= 0))\\n                     return;\\n                 if ([\\\"null\\\", \\\"\\\"].indexOf(str) >= 0)\\n                     return;\\n                stringified(str);\\n            });\\n            ko.applyBindingsToNode(\\n                element,\\n                {\\n                    value: stringified,\\n                    valueUpdate: allBindings.get('valueUpdate'),\\n                },\\n                context,\\n            );\\n        }\\n    };\\n    var json_data = {\\\"formatted_vals\\\":[\\\"1\\\",\\\"2\\\",\\\"3\\\",\\\"4\\\",\\\"5\\\",\\\"6\\\",\\\"7\\\",\\\"8\\\",\\\"9\\\",\\\"10\\\"],\\\"changes\\\":WebIO.getval({\\\"name\\\":\\\"changes\\\",\\\"scope\\\":\\\"7480107678666411650\\\",\\\"id\\\":\\\"ob_108\\\",\\\"type\\\":\\\"observable\\\"}),\\\"index\\\":WebIO.getval({\\\"name\\\":\\\"index\\\",\\\"scope\\\":\\\"7480107678666411650\\\",\\\"id\\\":\\\"ob_107\\\",\\\"type\\\":\\\"observable\\\"})};\\n    var self = this;\\n    function AppViewModel() {\\n        for (var key in json_data) {\\n            var el = json_data[key];\\n            this[key] = Array.isArray(el) ? ko.observableArray(el) : ko.observable(el);\\n        }\\n        \\n        [this[\\\"formatted_val\\\"]=ko.computed(    function(){\\n        return this.formatted_vals()[parseInt(this.index())-(1)];\\n    }\\n,this)]\\n        [this[\\\"changes\\\"].subscribe((function (val){!(this.valueFromJulia[\\\"changes\\\"]) ? (WebIO.setval({\\\"name\\\":\\\"changes\\\",\\\"scope\\\":\\\"7480107678666411650\\\",\\\"id\\\":\\\"ob_108\\\",\\\"type\\\":\\\"observable\\\"},val)) : undefined; return this.valueFromJulia[\\\"changes\\\"]=false}),self),this[\\\"index\\\"].subscribe((function (val){!(this.valueFromJulia[\\\"index\\\"]) ? (WebIO.setval({\\\"name\\\":\\\"index\\\",\\\"scope\\\":\\\"7480107678666411650\\\",\\\"id\\\":\\\"ob_107\\\",\\\"type\\\":\\\"observable\\\"},val)) : undefined; return this.valueFromJulia[\\\"index\\\"]=false}),self)]\\n        \\n    }\\n    self.model = new AppViewModel();\\n    self.valueFromJulia = {};\\n    for (var key in json_data) {\\n        self.valueFromJulia[key] = false;\\n    }\\n    ko.applyBindings(self.model, self.dom);\\n}\\n);\\n    (WebIO.importBlock({\\\"data\\\":[{\\\"name\\\":\\\"knockout\\\",\\\"type\\\":\\\"js\\\",\\\"url\\\":\\\"\\/assetserver\\/254160226b58162a42111ea27214076747de1cf2-knockout.js\\\"},{\\\"name\\\":\\\"knockout_punches\\\",\\\"type\\\":\\\"js\\\",\\\"url\\\":\\\"\\/assetserver\\/2d0bf510fb683322318163f3ec7562806e4b1104-knockout_punches.js\\\"}],\\\"type\\\":\\\"async_block\\\"})).then((imports) => handler.apply(this, imports));\\n}\\n\"],\"observables\":{\"changes\":{\"sync\":false,\"id\":\"ob_108\",\"value\":0},\"index\":{\"sync\":true,\"id\":\"ob_107\",\"value\":5}}},\"children\":[{\"props\":{\"className\":\"interact-flex-row interact-widget\"},\"nodeType\":\"DOM\",\"type\":\"node\",\"instanceArgs\":{\"namespace\":\"html\",\"tag\":\"div\"},\"children\":[{\"props\":{\"className\":\"interact-flex-row-left\"},\"nodeType\":\"DOM\",\"type\":\"node\",\"instanceArgs\":{\"namespace\":\"html\",\"tag\":\"div\"},\"children\":[{\"props\":{\"className\":\"interact \",\"style\":{\"padding\":\"5px 10px 0px 10px\"}},\"nodeType\":\"DOM\",\"type\":\"node\",\"instanceArgs\":{\"namespace\":\"html\",\"tag\":\"label\"},\"children\":[\"λ\"]}]},{\"props\":{\"className\":\"interact-flex-row-center\"},\"nodeType\":\"DOM\",\"type\":\"node\",\"instanceArgs\":{\"namespace\":\"html\",\"tag\":\"div\"},\"children\":[{\"props\":{\"max\":10,\"min\":1,\"attributes\":{\"type\":\"range\",\"data-bind\":\"numericValue: index, valueUpdate: 'input', event: {change: function (){this.changes(this.changes()+1)}}\",\"orient\":\"horizontal\"},\"step\":1,\"className\":\"slider slider is-fullwidth\",\"style\":{}},\"nodeType\":\"DOM\",\"type\":\"node\",\"instanceArgs\":{\"namespace\":\"html\",\"tag\":\"input\"},\"children\":[]}]},{\"props\":{\"className\":\"interact-flex-row-right\"},\"nodeType\":\"DOM\",\"type\":\"node\",\"instanceArgs\":{\"namespace\":\"html\",\"tag\":\"div\"},\"children\":[{\"props\":{\"attributes\":{\"data-bind\":\"text: formatted_val\"}},\"nodeType\":\"DOM\",\"type\":\"node\",\"instanceArgs\":{\"namespace\":\"html\",\"tag\":\"p\"},\"children\":[]}]}]}]}]},{\"props\":{},\"nodeType\":\"Scope\",\"type\":\"node\",\"instanceArgs\":{\"imports\":{\"data\":[],\"type\":\"async_block\"},\"id\":\"3485237734499841026\",\"handlers\":{},\"systemjs_options\":null,\"mount_callbacks\":[],\"observables\":{\"obs-node\":{\"sync\":false,\"id\":\"ob_112\",\"value\":{\"props\":{\"className\":\"interact-flex-row interact-widget\"},\"nodeType\":\"DOM\",\"type\":\"node\",\"instanceArgs\":{\"namespace\":\"html\",\"tag\":\"div\"},\"children\":[{\"props\":{\"setInnerHtml\":\"<?xml version=\\\"1.0\\\" encoding=\\\"utf-8\\\"?>\\n<svg xmlns=\\\"http:\\/\\/www.w3.org\\/2000\\/svg\\\" xmlns:xlink=\\\"http:\\/\\/www.w3.org\\/1999\\/xlink\\\" width=\\\"600\\\" height=\\\"400\\\" viewBox=\\\"0 0 2400 1600\\\">\\n<defs>\\n  <clipPath id=\\\"clip2200\\\">\\n    <rect x=\\\"0\\\" y=\\\"0\\\" width=\\\"2400\\\" height=\\\"1600\\\"\\/>\\n  <\\/clipPath>\\n<\\/defs>\\n<path clip-path=\\\"url(#clip2200)\\\" d=\\\"\\nM0 1600 L2400 1600 L2400 0 L0 0  Z\\n  \\\" fill=\\\"#ffffff\\\" fill-rule=\\\"evenodd\\\" fill-opacity=\\\"1\\\"\\/>\\n<defs>\\n  <clipPath id=\\\"clip2201\\\">\\n    <rect x=\\\"480\\\" y=\\\"0\\\" width=\\\"1681\\\" height=\\\"1600\\\"\\/>\\n  <\\/clipPath>\\n<\\/defs>\\n<path clip-path=\\\"url(#clip2200)\\\" d=\\\"\\nM113.754 1425.62 L2352.76 1425.62 L2352.76 47.2441 L113.754 47.2441  Z\\n  \\\" fill=\\\"#ffffff\\\" fill-rule=\\\"evenodd\\\" fill-opacity=\\\"1\\\"\\/>\\n<defs>\\n  <clipPath id=\\\"clip2202\\\">\\n    <rect x=\\\"113\\\" y=\\\"47\\\" width=\\\"2240\\\" height=\\\"1379\\\"\\/>\\n  <\\/clipPath>\\n<\\/defs>\\n<polyline clip-path=\\\"url(#clip2202)\\\" style=\\\"stroke:#000000; stroke-width:2; stroke-opacity:0.1; fill:none\\\" points=\\\"\\n  173.275,1425.62 173.275,47.2441 \\n  \\\"\\/>\\n<polyline clip-path=\\\"url(#clip2202)\\\" style=\\\"stroke:#000000; stroke-width:2; stroke-opacity:0.1; fill:none\\\" points=\\\"\\n  558.023,1425.62 558.023,47.2441 \\n  \\\"\\/>\\n<polyline clip-path=\\\"url(#clip2202)\\\" style=\\\"stroke:#000000; stroke-width:2; stroke-opacity:0.1; fill:none\\\" points=\\\"\\n  942.771,1425.62 942.771,47.2441 \\n  \\\"\\/>\\n<polyline clip-path=\\\"url(#clip2202)\\\" style=\\\"stroke:#000000; stroke-width:2; stroke-opacity:0.1; fill:none\\\" points=\\\"\\n  1327.52,1425.62 1327.52,47.2441 \\n  \\\"\\/>\\n<polyline clip-path=\\\"url(#clip2202)\\\" style=\\\"stroke:#000000; stroke-width:2; stroke-opacity:0.1; fill:none\\\" points=\\\"\\n  1712.27,1425.62 1712.27,47.2441 \\n  \\\"\\/>\\n<polyline clip-path=\\\"url(#clip2202)\\\" style=\\\"stroke:#000000; stroke-width:2; stroke-opacity:0.1; fill:none\\\" points=\\\"\\n  2097.01,1425.62 2097.01,47.2441 \\n  \\\"\\/>\\n<polyline clip-path=\\\"url(#clip2202)\\\" style=\\\"stroke:#000000; stroke-width:2; stroke-opacity:0.1; fill:none\\\" points=\\\"\\n  113.754,1386.61 2352.76,1386.61 \\n  \\\"\\/>\\n<polyline clip-path=\\\"url(#clip2202)\\\" style=\\\"stroke:#000000; stroke-width:2; stroke-opacity:0.1; fill:none\\\" points=\\\"\\n  113.754,1117.3 2352.76,1117.3 \\n  \\\"\\/>\\n<polyline clip-path=\\\"url(#clip2202)\\\" style=\\\"stroke:#000000; stroke-width:2; stroke-opacity:0.1; fill:none\\\" points=\\\"\\n  113.754,847.984 2352.76,847.984 \\n  \\\"\\/>\\n<polyline clip-path=\\\"url(#clip2202)\\\" style=\\\"stroke:#000000; stroke-width:2; stroke-opacity:0.1; fill:none\\\" points=\\\"\\n  113.754,578.672 2352.76,578.672 \\n  \\\"\\/>\\n<polyline clip-path=\\\"url(#clip2202)\\\" style=\\\"stroke:#000000; stroke-width:2; stroke-opacity:0.1; fill:none\\\" points=\\\"\\n  113.754,309.36 2352.76,309.36 \\n  \\\"\\/>\\n<polyline clip-path=\\\"url(#clip2200)\\\" style=\\\"stroke:#000000; stroke-width:4; stroke-opacity:1; fill:none\\\" points=\\\"\\n  113.754,1425.62 2352.76,1425.62 \\n  \\\"\\/>\\n<polyline clip-path=\\\"url(#clip2200)\\\" style=\\\"stroke:#000000; stroke-width:4; stroke-opacity:1; fill:none\\\" points=\\\"\\n  113.754,1425.62 113.754,47.2441 \\n  \\\"\\/>\\n<polyline clip-path=\\\"url(#clip2200)\\\" style=\\\"stroke:#000000; stroke-width:4; stroke-opacity:1; fill:none\\\" points=\\\"\\n  173.275,1425.62 173.275,1404.94 \\n  \\\"\\/>\\n<polyline clip-path=\\\"url(#clip2200)\\\" style=\\\"stroke:#000000; stroke-width:4; stroke-opacity:1; fill:none\\\" points=\\\"\\n  558.023,1425.62 558.023,1404.94 \\n  \\\"\\/>\\n<polyline clip-path=\\\"url(#clip2200)\\\" style=\\\"stroke:#000000; stroke-width:4; stroke-opacity:1; fill:none\\\" points=\\\"\\n  942.771,1425.62 942.771,1404.94 \\n  \\\"\\/>\\n<polyline clip-path=\\\"url(#clip2200)\\\" style=\\\"stroke:#000000; stroke-width:4; stroke-opacity:1; fill:none\\\" points=\\\"\\n  1327.52,1425.62 1327.52,1404.94 \\n  \\\"\\/>\\n<polyline clip-path=\\\"url(#clip2200)\\\" style=\\\"stroke:#000000; stroke-width:4; stroke-opacity:1; fill:none\\\" points=\\\"\\n  1712.27,1425.62 1712.27,1404.94 \\n  \\\"\\/>\\n<polyline clip-path=\\\"url(#clip2200)\\\" style=\\\"stroke:#000000; stroke-width:4; stroke-opacity:1; fill:none\\\" points=\\\"\\n  2097.01,1425.62 2097.01,1404.94 \\n  \\\"\\/>\\n<polyline clip-path=\\\"url(#clip2200)\\\" style=\\\"stroke:#000000; stroke-width:4; stroke-opacity:1; fill:none\\\" points=\\\"\\n  113.754,1386.61 147.339,1386.61 \\n  \\\"\\/>\\n<polyline clip-path=\\\"url(#clip2200)\\\" style=\\\"stroke:#000000; stroke-width:4; stroke-opacity:1; fill:none\\\" points=\\\"\\n  113.754,1117.3 147.339,1117.3 \\n  \\\"\\/>\\n<polyline clip-path=\\\"url(#clip2200)\\\" style=\\\"stroke:#000000; stroke-width:4; stroke-opacity:1; fill:none\\\" points=\\\"\\n  113.754,847.984 147.339,847.984 \\n  \\\"\\/>\\n<polyline clip-path=\\\"url(#clip2200)\\\" style=\\\"stroke:#000000; stroke-width:4; stroke-opacity:1; fill:none\\\" points=\\\"\\n  113.754,578.672 147.339,578.672 \\n  \\\"\\/>\\n<polyline clip-path=\\\"url(#clip2200)\\\" style=\\\"stroke:#000000; stroke-width:4; stroke-opacity:1; fill:none\\\" points=\\\"\\n  113.754,309.36 147.339,309.36 \\n  \\\"\\/>\\n<g clip-path=\\\"url(#clip2200)\\\">\\n<text style=\\\"fill:#000000; fill-opacity:1; font-family:Arial,Helvetica Neue,Helvetica,sans-serif; font-size:48px; text-anchor:middle;\\\" transform=\\\"rotate(0, 173.275, 1479.62)\\\" x=\\\"173.275\\\" y=\\\"1479.62\\\">0<\\/text>\\n<\\/g>\\n<g clip-path=\\\"url(#clip2200)\\\">\\n<text style=\\\"fill:#000000; fill-opacity:1; font-family:Arial,Helvetica Neue,Helvetica,sans-serif; font-size:48px; text-anchor:middle;\\\" transform=\\\"rotate(0, 558.023, 1479.62)\\\" x=\\\"558.023\\\" y=\\\"1479.62\\\">100<\\/text>\\n<\\/g>\\n<g clip-path=\\\"url(#clip2200)\\\">\\n<text style=\\\"fill:#000000; fill-opacity:1; font-family:Arial,Helvetica Neue,Helvetica,sans-serif; font-size:48px; text-anchor:middle;\\\" transform=\\\"rotate(0, 942.771, 1479.62)\\\" x=\\\"942.771\\\" y=\\\"1479.62\\\">200<\\/text>\\n<\\/g>\\n<g clip-path=\\\"url(#clip2200)\\\">\\n<text style=\\\"fill:#000000; fill-opacity:1; font-family:Arial,Helvetica Neue,Helvetica,sans-serif; font-size:48px; text-anchor:middle;\\\" transform=\\\"rotate(0, 1327.52, 1479.62)\\\" x=\\\"1327.52\\\" y=\\\"1479.62\\\">300<\\/text>\\n<\\/g>\\n<g clip-path=\\\"url(#clip2200)\\\">\\n<text style=\\\"fill:#000000; fill-opacity:1; font-family:Arial,Helvetica Neue,Helvetica,sans-serif; font-size:48px; text-anchor:middle;\\\" transform=\\\"rotate(0, 1712.27, 1479.62)\\\" x=\\\"1712.27\\\" y=\\\"1479.62\\\">400<\\/text>\\n<\\/g>\\n<g clip-path=\\\"url(#clip2200)\\\">\\n<text style=\\\"fill:#000000; fill-opacity:1; font-family:Arial,Helvetica Neue,Helvetica,sans-serif; font-size:48px; text-anchor:middle;\\\" transform=\\\"rotate(0, 2097.01, 1479.62)\\\" x=\\\"2097.01\\\" y=\\\"1479.62\\\">500<\\/text>\\n<\\/g>\\n<g clip-path=\\\"url(#clip2200)\\\">\\n<text style=\\\"fill:#000000; fill-opacity:1; font-family:Arial,Helvetica Neue,Helvetica,sans-serif; font-size:48px; text-anchor:end;\\\" transform=\\\"rotate(0, 89.7545, 1404.11)\\\" x=\\\"89.7545\\\" y=\\\"1404.11\\\">0<\\/text>\\n<\\/g>\\n<g clip-path=\\\"url(#clip2200)\\\">\\n<text style=\\\"fill:#000000; fill-opacity:1; font-family:Arial,Helvetica Neue,Helvetica,sans-serif; font-size:48px; text-anchor:end;\\\" transform=\\\"rotate(0, 89.7545, 1134.8)\\\" x=\\\"89.7545\\\" y=\\\"1134.8\\\">1<\\/text>\\n<\\/g>\\n<g clip-path=\\\"url(#clip2200)\\\">\\n<text style=\\\"fill:#000000; fill-opacity:1; font-family:Arial,Helvetica Neue,Helvetica,sans-serif; font-size:48px; text-anchor:end;\\\" transform=\\\"rotate(0, 89.7545, 865.484)\\\" x=\\\"89.7545\\\" y=\\\"865.484\\\">2<\\/text>\\n<\\/g>\\n<g clip-path=\\\"url(#clip2200)\\\">\\n<text style=\\\"fill:#000000; fill-opacity:1; font-family:Arial,Helvetica Neue,Helvetica,sans-serif; font-size:48px; text-anchor:end;\\\" transform=\\\"rotate(0, 89.7545, 596.172)\\\" x=\\\"89.7545\\\" y=\\\"596.172\\\">3<\\/text>\\n<\\/g>\\n<g clip-path=\\\"url(#clip2200)\\\">\\n<text style=\\\"fill:#000000; fill-opacity:1; font-family:Arial,Helvetica Neue,Helvetica,sans-serif; font-size:48px; text-anchor:end;\\\" transform=\\\"rotate(0, 89.7545, 326.86)\\\" x=\\\"89.7545\\\" y=\\\"326.86\\\">4<\\/text>\\n<\\/g>\\n<g clip-path=\\\"url(#clip2200)\\\">\\n<text style=\\\"fill:#000000; fill-opacity:1; font-family:Arial,Helvetica Neue,Helvetica,sans-serif; font-size:66px; text-anchor:middle;\\\" transform=\\\"rotate(0, 1233.26, 1559.48)\\\" x=\\\"1233.26\\\" y=\\\"1559.48\\\">N<\\/text>\\n<\\/g>\\n<polyline clip-path=\\\"url(#clip2202)\\\" style=\\\"stroke:#ff0000; stroke-width:12; stroke-opacity:1; fill:none\\\" points=\\\"\\n  177.122,1386.61 180.97,982.64 184.817,937.755 188.665,174.704 192.512,417.085 196.36,399.131 200.207,232.414 204.055,309.36 207.902,369.207 211.75,417.085 \\n  215.597,456.258 219.445,376.688 223.292,288.644 227.14,309.36 230.987,309.36 234.835,309.36 238.682,261.834 242.53,309.36 246.377,309.36 250.225,215.101 \\n  254.072,193.941 257.919,186.946 261.767,168.849 265.614,185.925 269.462,158.545 273.309,153.988 277.157,189.666 281.004,193.941 284.852,132.914 288.699,129.819 \\n  292.547,126.923 296.394,124.208 300.242,154.302 304.089,166.783 307.937,186.246 311.784,197.147 315.632,214.737 319.479,195.966 323.327,226.495 327.174,208.368 \\n  331.022,217.4 334.869,181.116 338.717,177.836 342.564,193.066 346.411,213.605 350.259,198.122 354.106,177.569 357.954,197.147 361.801,193.941 365.649,201.635 \\n  369.496,198.467 373.344,200.599 377.191,207.733 381.039,219.589 384.886,235.911 388.734,222.795 392.581,238.488 396.429,221.137 400.276,213.503 404.124,210.612 \\n  407.971,190.156 411.819,200.767 415.666,125.544 419.514,120 423.361,127.057 427.209,142.06 431.056,112.401 434.903,131.139 438.751,141.528 442.598,159.315 \\n  446.446,153.842 450.293,167.223 454.141,169.17 457.988,171.065 461.836,162.136 465.683,160.53 469.531,169.458 473.378,185.062 477.226,183.227 481.073,188.17 \\n  484.921,179.691 488.768,171.42 492.616,182.816 496.463,161.88 500.311,169.951 504.158,174.704 508.006,160.774 511.853,165.523 515.701,176.217 519.548,180.689 \\n  523.395,170.265 527.243,177.631 531.09,144.298 534.938,151.784 538.785,164.782 542.633,149.456 546.48,145.552 550.328,152.719 554.175,129.819 558.023,131.614 \\n  561.87,138.707 565.718,145.661 569.565,147.25 573.413,153.988 577.26,160.597 581.108,162.001 584.955,153.31 588.803,159.742 592.65,136.407 596.498,120.842 \\n  600.345,124.966 604.193,131.422 608.04,130.613 611.887,134.543 615.735,145.431 619.582,146.844 623.43,139.026 627.277,147.316 631.125,132.836 634.972,136.552 \\n  638.82,135.754 642.667,137.177 646.515,138.577 650.362,142.126 654.21,139.155 658.057,121.269 661.905,124.871 665.752,132.624 669.6,131.906 673.447,133.271 \\n  677.295,136.671 681.142,137.98 684.99,139.268 688.837,136.518 692.685,137.798 696.532,145.001 700.379,148.166 704.227,153.237 708.074,156.298 711.922,157.391 \\n  715.769,164.199 719.617,167.118 723.464,149.279 727.312,157.872 731.159,155.202 735.007,154.413 738.854,157.3 742.702,158.327 746.549,157.533 750.397,165.727 \\n  754.244,161.328 758.092,164.073 761.939,157.982 765.787,162.463 769.634,163.41 773.482,167.799 777.329,163.554 781.177,167.886 785.024,162.001 788.871,156.189 \\n  792.719,158.813 796.566,166.392 800.414,159.008 804.261,156.64 808.109,160.83 811.956,156.858 815.804,156.159 819.651,158.674 823.499,162.752 827.346,157.278 \\n  831.194,147.143 835.041,143.389 838.889,138.121 842.736,140.653 846.584,137 850.431,141.04 854.279,140.469 858.126,144.444 861.974,139.347 865.821,134.307 \\n  869.668,141.226 873.516,139.19 877.363,140.12 881.211,138.113 885.058,141.95 888.906,144.298 892.753,146.621 896.601,148.919 900.448,148.343 904.296,149.19 \\n  908.143,154.259 911.991,155.067 915.838,155.866 919.686,158.046 923.533,146.392 927.381,148.597 931.228,152.147 935.076,155.662 938.923,153.727 942.771,157.199 \\n  946.618,160.636 950.466,162.705 954.313,150.161 958.16,154.902 962.008,156.969 965.855,161.631 969.703,159.742 973.55,157.872 977.398,157.308 981.245,155.467 \\n  985.093,137.051 988.94,132.783 992.788,133.612 996.635,126.882 1000.48,128.984 1004.33,119.844 1008.18,120.718 1012.03,112.935 1015.87,117.521 1019.72,122.066 \\n  1023.57,120.476 1027.42,123.753 1031.26,123.378 1035.11,127.815 1038.96,132.213 1042.81,137.763 1046.65,134.96 1050.5,132.181 1054.35,135.307 1058.19,137.235 \\n  1062.04,136.814 1065.89,131.753 1069.74,129.048 1073.58,130.97 1077.43,134.021 1081.28,137.046 1085.13,134.364 1088.97,136.231 1092.82,138.082 1096.67,141.04 \\n  1100.52,143.973 1104.36,137.98 1108.21,137.577 1112.06,138.281 1115.91,142.277 1119.75,142.956 1123.6,142.539 1127.45,143.212 1131.3,137.39 1135.14,140.232 \\n  1138.99,135.541 1142.84,128.75 1146.69,131.593 1150.53,134.413 1154.38,120.314 1158.23,123.156 1162.08,123.881 1165.92,121.468 1169.77,124.273 1173.62,128.092 \\n  1177.47,128.787 1181.31,131.532 1185.16,126.064 1189.01,128.799 1192.86,131.513 1196.7,135.218 1200.55,123.767 1204.4,127.474 1208.25,131.154 1212.09,130.816 \\n  1215.94,129.487 1219.79,130.149 1223.64,132.778 1227.48,134.406 1231.33,134.062 1235.18,137.625 1239.03,137.273 1242.87,132.079 1246.72,133.68 1250.57,133.345 \\n  1254.42,136.847 1258.26,138.414 1262.11,129.502 1265.96,129.187 1269.81,130.764 1273.65,133.271 1277.5,130.132 1281.35,131.689 1285.2,135.099 1289.04,131.986 \\n  1292.89,129.819 1296.74,133.2 1300.59,135.64 1304.43,138.063 1308.28,136.818 1312.13,139.22 1315.98,135.259 1319.82,136.747 1323.67,140.027 1327.52,137 \\n  1331.37,136.678 1335.21,139.925 1339.06,140.485 1342.91,144.584 1346.76,145.124 1350.6,143.02 1354.45,144.439 1358.3,146.724 1362.15,145.507 1365.99,138.217 \\n  1369.84,141.365 1373.69,132.408 1377.54,135.555 1381.38,138.681 1385.23,132.384 1389.08,132.944 1392.93,133.5 1396.77,135.747 1400.62,136.291 1404.47,137.674 \\n  1408.32,138.209 1412.16,138.74 1416.01,139.268 1419.86,138.131 1423.71,140.315 1427.55,138.355 1431.4,140.525 1435.25,141.861 1439.1,143.189 1442.94,141.244 \\n  1446.79,141.752 1450.64,141.446 1454.49,141.141 1458.33,135.194 1462.18,137.322 1466.03,140.239 1469.88,134.347 1473.72,133.271 1477.57,136.174 1481.42,134.307 \\n  1485.27,134.821 1489.11,135.331 1492.96,135.838 1496.81,137.909 1500.65,136.064 1504.5,131.894 1508.35,131.63 1512.2,127.497 1516.04,131.105 1519.89,131.614 \\n  1523.74,129.819 1527.59,132.624 1531.43,134.651 1535.28,136.666 1539.13,129.566 1542.98,132.34 1546.82,134.345 1550.67,134.834 1554.52,135.32 1558.37,134.307 \\n  1562.21,135.538 1566.06,136.762 1569.91,137.238 1573.76,129.572 1577.6,132.278 1581.45,131.29 1585.3,132.509 1589.15,131.526 1592.99,132.008 1596.84,129.576 \\n  1600.69,130.061 1604.54,131.991 1608.38,128.856 1612.23,130.059 1616.08,129.819 1619.93,131.729 1623.77,131.486 1627.62,131.244 1631.47,133.845 1635.32,132.89 \\n  1639.16,131.939 1643.01,133.814 1646.86,136.382 1650.71,133.325 1654.55,134.482 1658.4,134.237 1662.25,137.474 1666.1,135.14 1669.94,132.126 1673.79,133.271 \\n  1677.64,128.212 1681.49,127.3 1685.33,128.448 1689.18,128.907 1693.03,130.728 1696.88,131.179 1700.72,129.593 1704.57,130.044 1708.42,127.794 1712.27,124.881 \\n  1716.11,127.356 1719.96,125.799 1723.81,125.586 1727.66,127.374 1731.5,126.494 1735.35,126.281 1739.2,129.378 1743.05,128.499 1746.89,130.916 1750.74,132.008 \\n  1754.59,127.853 1758.44,127.64 1762.28,130.688 1766.13,129.819 1769.98,129.602 1773.83,131.977 1777.67,133.048 1781.52,133.47 1785.37,133.889 1789.22,132.384 \\n  1793.06,132.804 1796.91,133.861 1800.76,135.549 1804.61,133.418 1808.45,133.832 1812.3,133.612 1816.15,132.762 1820,132.545 1823.84,131.702 1827.69,133.368 \\n  1831.54,133.151 1835.39,129.819 1839.23,128.989 1843.08,131.267 1846.93,132.914 1850.78,130.848 1854.62,133.722 1858.47,134.123 1862.32,134.522 1866.17,131.859 \\n  1870.01,134.094 1873.86,134.49 1877.71,132.453 1881.56,131.032 1885.4,133.248 1889.25,130.02 1893.1,132.229 1896.95,134.427 1900.79,136.017 1904.64,134.606 \\n  1908.49,136.188 1912.34,130.017 1916.18,127.441 1920.03,129.028 1923.88,130.608 1927.72,131 1931.57,133.158 1935.42,134.131 1939.27,128.645 1943.11,128.453 \\n  1946.96,130.013 1950.81,127.487 1954.66,123.808 1958.5,122.467 1962.35,124.027 1966.2,124.425 1970.05,124.821 1973.89,123.489 1977.74,123.311 1981.59,124.853 \\n  1985.44,125.244 1989.28,125.634 1993.13,127.731 1996.98,125.273 2000.83,125.094 2004.67,126.613 2008.52,124.737 2012.37,124.56 2016.22,125.508 2020.06,120.842 \\n  2023.91,120.674 2027.76,118.83 2031.61,119.782 2035.45,121.287 2039.3,122.785 2043.15,122.615 2047,124.104 2050.84,113.998 2054.69,115.499 2058.54,114.796 \\n  2062.39,116.838 2066.23,116.682 2070.08,116.526 2073.93,117.462 2077.78,114.041 2081.62,114.435 2085.47,115.911 2089.32,117.381 2093.17,118.305 2097.01,119.764 \\n  2100.86,120.143 2104.71,118.91 2108.56,118.218 2112.4,117.529 2116.25,118.975 2120.1,119.884 2123.95,120.257 2127.79,120.099 2131.64,121.529 2135.49,120.842 \\n  2139.34,121.738 2143.18,118.948 2147.03,118.794 2150.88,116.021 2154.73,117.443 2158.57,118.858 2162.42,118.706 2166.27,117.514 2170.12,116.846 2173.96,118.77 \\n  2177.81,118.619 2181.66,119.5 2185.51,117.289 2189.35,115.599 2193.2,116.994 2197.05,118.896 2200.9,115.68 2204.74,115.537 2208.59,116.922 2212.44,112.203 \\n  2216.29,110.546 2220.13,112.438 2223.98,113.313 2227.83,110.15 2231.68,112.032 2235.52,110.893 2239.37,111.263 2243.22,109.128 2247.07,109.5 2250.91,111.366 \\n  2254.76,112.23 2258.61,114.084 2262.46,115.436 2266.3,116.287 2270.15,113.676 2274,106.636 2277.85,108.484 2281.69,108.85 2285.54,108.235 2289.39,109.09 \\n  \\n  \\\"\\/>\\n<polyline clip-path=\\\"url(#clip2202)\\\" style=\\\"stroke:#000000; stroke-width:12; stroke-opacity:1; fill:none\\\" points=\\\"\\n  -2125.25,86.2547 4591.76,86.2547 \\n  \\\"\\/>\\n<path clip-path=\\\"url(#clip2200)\\\" d=\\\"\\nM185.754 1281.62 L776.023 1281.62 L776.023 1100.18 L185.754 1100.18  Z\\n  \\\" fill=\\\"#ffffff\\\" fill-rule=\\\"evenodd\\\" fill-opacity=\\\"1\\\"\\/>\\n<polyline clip-path=\\\"url(#clip2200)\\\" style=\\\"stroke:#000000; stroke-width:4; stroke-opacity:1; fill:none\\\" points=\\\"\\n  185.754,1281.62 776.023,1281.62 776.023,1100.18 185.754,1100.18 185.754,1281.62 \\n  \\\"\\/>\\n<polyline clip-path=\\\"url(#clip2200)\\\" style=\\\"stroke:#ff0000; stroke-width:12; stroke-opacity:1; fill:none\\\" points=\\\"\\n  209.754,1160.66 353.754,1160.66 \\n  \\\"\\/>\\n<g clip-path=\\\"url(#clip2200)\\\">\\n<text style=\\\"fill:#000000; fill-opacity:1; font-family:Arial,Helvetica Neue,Helvetica,sans-serif; font-size:48px; text-anchor:start;\\\" transform=\\\"rotate(0, 377.754, 1178.16)\\\" x=\\\"377.754\\\" y=\\\"1178.16\\\">empirical T(N,N)<\\/text>\\n<\\/g>\\n<polyline clip-path=\\\"url(#clip2200)\\\" style=\\\"stroke:#000000; stroke-width:12; stroke-opacity:1; fill:none\\\" points=\\\"\\n  209.754,1221.14 353.754,1221.14 \\n  \\\"\\/>\\n<g clip-path=\\\"url(#clip2200)\\\">\\n<text style=\\\"fill:#000000; fill-opacity:1; font-family:Arial,Helvetica Neue,Helvetica,sans-serif; font-size:48px; text-anchor:start;\\\" transform=\\\"rotate(0, 377.754, 1238.64)\\\" x=\\\"377.754\\\" y=\\\"1238.64\\\">theoretical limit<\\/text>\\n<\\/g>\\n<\\/svg>\\n\"},\"nodeType\":\"DOM\",\"type\":\"node\",\"instanceArgs\":{\"namespace\":\"html\",\"tag\":\"div\"},\"children\":[]}]}}}},\"children\":[{\"props\":{},\"nodeType\":\"ObservableNode\",\"type\":\"node\",\"instanceArgs\":{\"id\":\"ob_112\",\"name\":\"obs-node\"},\"children\":[]}]}]},\n",
       "            window,\n",
       "        );\n",
       "    } else {\n",
       "        document\n",
       "            .querySelector('[data-webio-mountpoint=\"10803601955737705261\"]')\n",
       "            .innerHTML = (\n",
       "                '<strong>WebIO not detected. Please read ' +\n",
       "                '<a href=\"https://juliagizmos.github.io/WebIO.jl/latest/troubleshooting/not-detected/\">the troubleshooting guide</a> ' +\n",
       "                'for more information on how to resolve this issue.' +\n",
       "                '</strong>'\n",
       "            );\n",
       "    }\n",
       "    </script>\n",
       "</div>\n"
      ],
      "text/plain": [
       "Node{WebIO.DOM}(WebIO.DOM(:html, :div), Any[Node{WebIO.DOM}(WebIO.DOM(:html, :div), Any[Scope(Node{WebIO.DOM}(WebIO.DOM(:html, :div), Any[Node{WebIO.DOM}(WebIO.DOM(:html, :div), Any[Node{WebIO.DOM}(WebIO.DOM(:html, :label), Any[\"max_N\"], Dict{Symbol,Any}(:className => \"interact \",:style => Dict{Any,Any}(:padding => \"5px 10px 0px 10px\")))], Dict{Symbol,Any}(:className => \"interact-flex-row-left\")), Node{WebIO.DOM}(WebIO.DOM(:html, :div), Any[Node{WebIO.DOM}(WebIO.DOM(:html, :input), Any[], Dict{Symbol,Any}(:max => 19,:min => 1,:attributes => Dict{Any,Any}(:type => \"range\",Symbol(\"data-bind\") => \"numericValue: index, valueUpdate: 'input', event: {change: function (){this.changes(this.changes()+1)}}\",\"orient\" => \"horizontal\"),:step => 1,:className => \"slider slider is-fullwidth\",:style => Dict{Any,Any}()))], Dict{Symbol,Any}(:className => \"interact-flex-row-center\")), Node{WebIO.DOM}(WebIO.DOM(:html, :div), Any[Node{WebIO.DOM}(WebIO.DOM(:html, :p), Any[], Dict{Symbol,Any}(:attributes => Dict(\"data-bind\" => \"text: formatted_val\")))], Dict{Symbol,Any}(:className => \"interact-flex-row-right\"))], Dict{Symbol,Any}(:className => \"interact-flex-row interact-widget\")), Dict{String,Tuple{Observables.AbstractObservable,Union{Nothing, Bool}}}(\"changes\" => (Observable{Int64} with 1 listeners. Value:\n",
       "0, nothing),\"index\" => (Observable{Any} with 2 listeners. Value:\n",
       "10, nothing)), Set(String[]), nothing, Asset[Asset(\"js\", \"knockout\", \"C:\\\\Users\\\\matte\\\\.julia\\\\packages\\\\Knockout\\\\1sDlc\\\\src\\\\..\\\\assets\\\\knockout.js\"), Asset(\"js\", \"knockout_punches\", \"C:\\\\Users\\\\matte\\\\.julia\\\\packages\\\\Knockout\\\\1sDlc\\\\src\\\\..\\\\assets\\\\knockout_punches.js\"), Asset(\"js\", nothing, \"C:\\\\Users\\\\matte\\\\.julia\\\\packages\\\\InteractBase\\\\9mFwe\\\\src\\\\..\\\\assets\\\\all.js\"), Asset(\"css\", nothing, \"C:\\\\Users\\\\matte\\\\.julia\\\\packages\\\\InteractBase\\\\9mFwe\\\\src\\\\..\\\\assets\\\\style.css\"), Asset(\"css\", nothing, \"C:\\\\Users\\\\matte\\\\.julia\\\\packages\\\\Interact\\\\SbgIk\\\\src\\\\..\\\\assets\\\\bulma_confined.min.css\")], Dict{Any,Any}(\"changes\" => Any[WebIO.JSString(\"(function (val){return (val!=this.model[\\\"changes\\\"]()) ? (this.valueFromJulia[\\\"changes\\\"]=true, this.model[\\\"changes\\\"](val)) : undefined})\")],\"index\" => Any[WebIO.JSString(\"(function (val){return (val!=this.model[\\\"index\\\"]()) ? (this.valueFromJulia[\\\"index\\\"]=true, this.model[\\\"index\\\"](val)) : undefined})\")]), WebIO.ConnectionPool(Channel{Any}(sz_max:32,sz_curr:0), Set(AbstractConnection[]), Base.GenericCondition{Base.AlwaysLockedST}(Base.InvasiveLinkedList{Task}(Task (runnable) @0x0000000011267c70, Task (runnable) @0x0000000011267c70), Base.AlwaysLockedST(1))), WebIO.JSString[WebIO.JSString(\"function () {\\n    var handler = (function (ko, koPunches) {\\n    ko.punches.enableAll();\\n    ko.bindingHandlers.numericValue = {\\n        init: function(element, valueAccessor, allBindings, data, context) {\\n            var stringified = ko.observable(ko.unwrap(valueAccessor()));\\n            stringified.subscribe(function(value) {\\n                var val = parseFloat(value);\\n                if (!isNaN(val)) {\\n                    valueAccessor()(val);\\n                }\\n            });\\n            valueAccessor().subscribe(function(value) {\\n                var str = JSON.stringify(value);\\n                if ((str == \\\"0\\\") && ([\\\"-0\\\", \\\"-0.\\\"].indexOf(stringified()) >= 0))\\n                     return;\\n                 if ([\\\"null\\\", \\\"\\\"].indexOf(str) >= 0)\\n                     return;\\n                stringified(str);\\n            });\\n            ko.applyBindingsToNode(\\n                element,\\n                {\\n                    value: stringified,\\n                    valueUpdate: allBindings.get('valueUpdate'),\\n                },\\n                context,\\n            );\\n        }\\n    };\\n    var json_data = {\\\"formatted_vals\\\":[\\\"100\\\",\\\"150\\\",\\\"200\\\",\\\"250\\\",\\\"300\\\",\\\"350\\\",\\\"400\\\",\\\"450\\\",\\\"500\\\",\\\"550\\\",\\\"600\\\",\\\"650\\\",\\\"700\\\",\\\"750\\\",\\\"800\\\",\\\"850\\\",\\\"900\\\",\\\"950\\\",\\\"1000\\\"],\\\"changes\\\":WebIO.getval({\\\"name\\\":\\\"changes\\\",\\\"scope\\\":\\\"14784886841760261545\\\",\\\"id\\\":\\\"ob_97\\\",\\\"type\\\":\\\"observable\\\"}),\\\"index\\\":WebIO.getval({\\\"name\\\":\\\"index\\\",\\\"scope\\\":\\\"14784886841760261545\\\",\\\"id\\\":\\\"ob_96\\\",\\\"type\\\":\\\"observable\\\"})};\\n    var self = this;\\n    function AppViewModel() {\\n        for (var key in json_data) {\\n            var el = json_data[key];\\n            this[key] = Array.isArray(el) ? ko.observableArray(el) : ko.observable(el);\\n        }\\n        \\n        [this[\\\"formatted_val\\\"]=ko.computed(    function(){\\n        return this.formatted_vals()[parseInt(this.index())-(1)];\\n    }\\n,this)]\\n        [this[\\\"changes\\\"].subscribe((function (val){!(this.valueFromJulia[\\\"changes\\\"]) ? (WebIO.setval({\\\"name\\\":\\\"changes\\\",\\\"scope\\\":\\\"14784886841760261545\\\",\\\"id\\\":\\\"ob_97\\\",\\\"type\\\":\\\"observable\\\"},val)) : undefined; return this.valueFromJulia[\\\"changes\\\"]=false}),self),this[\\\"index\\\"].subscribe((function (val){!(this.valueFromJulia[\\\"index\\\"]) ? (WebIO.setval({\\\"name\\\":\\\"index\\\",\\\"scope\\\":\\\"14784886841760261545\\\",\\\"id\\\":\\\"ob_96\\\",\\\"type\\\":\\\"observable\\\"},val)) : undefined; return this.valueFromJulia[\\\"index\\\"]=false}),self)]\\n        \\n    }\\n    self.model = new AppViewModel();\\n    self.valueFromJulia = {};\\n    for (var key in json_data) {\\n        self.valueFromJulia[key] = false;\\n    }\\n    ko.applyBindings(self.model, self.dom);\\n}\\n);\\n    (WebIO.importBlock({\\\"data\\\":[{\\\"name\\\":\\\"knockout\\\",\\\"type\\\":\\\"js\\\",\\\"url\\\":\\\"/assetserver/254160226b58162a42111ea27214076747de1cf2-knockout.js\\\"},{\\\"name\\\":\\\"knockout_punches\\\",\\\"type\\\":\\\"js\\\",\\\"url\\\":\\\"/assetserver/2d0bf510fb683322318163f3ec7562806e4b1104-knockout_punches.js\\\"}],\\\"type\\\":\\\"async_block\\\"})).then((imports) => handler.apply(this, imports));\\n}\\n\")])], Dict{Symbol,Any}(:className => \"field interact-widget\")), Node{WebIO.DOM}(WebIO.DOM(:html, :div), Any[Scope(Node{WebIO.DOM}(WebIO.DOM(:html, :div), Any[Node{WebIO.DOM}(WebIO.DOM(:html, :div), Any[Node{WebIO.DOM}(WebIO.DOM(:html, :label), Any[\"law_name\"], Dict{Symbol,Any}(:className => \"interact \",:style => Dict{Any,Any}(:padding => \"5px 10px 0px 10px\")))], Dict{Symbol,Any}(:className => \"interact-flex-row-left\")), Node{WebIO.DOM}(WebIO.DOM(:html, :div), Any[Node{WebIO.DOM}(WebIO.DOM(:html, :div), Any[Node{WebIO.DOM}(WebIO.DOM(:html, :span), Any[Node{WebIO.DOM}(WebIO.DOM(:html, :label), Any[], Dict{Symbol,Any}(:attributes => Dict(\"data-bind\" => \"text : key\")))], Dict{Symbol,Any}(:attributes => Dict(\"data-bind\" => \"click: function (){\\$root.update(val)}, css: {'is-primary is-selected' : \\$root.index() == val, 'interact-widget is-medium button ' : true}\")))], Dict{Symbol,Any}(:attributes => (\"data-bind\" => \"foreach : options_js\"),:className => \"buttons has-addons is-centered\"))], Dict{Symbol,Any}(:className => \"interact-flex-row-center\")), Node{WebIO.DOM}(WebIO.DOM(:html, :div), Any[Node{WebIO.DOM}(WebIO.DOM(:html, :div), Any[], Dict{Symbol,Any}())], Dict{Symbol,Any}(:className => \"interact-flex-row-right\"))], Dict{Symbol,Any}(:className => \"interact-flex-row interact-widget\")), Dict{String,Tuple{Observables.AbstractObservable,Union{Nothing, Bool}}}(\"options_js\" => (Observable{Any} with 1 listeners. Value:\n",
       "OrderedDict[OrderedDict{String,Any}(\"key\" => \"Geometric\",\"val\" => 1,\"id\" => \"idE1ioUNWP\"), OrderedDict{String,Any}(\"key\" => \"Exponential\",\"val\" => 2,\"id\" => \"idhvwgXTy9\")], nothing),\"index\" => (Observable{Any} with 2 listeners. Value:\n",
       "1, nothing)), Set(String[]), nothing, Asset[Asset(\"js\", \"knockout\", \"C:\\\\Users\\\\matte\\\\.julia\\\\packages\\\\Knockout\\\\1sDlc\\\\src\\\\..\\\\assets\\\\knockout.js\"), Asset(\"js\", \"knockout_punches\", \"C:\\\\Users\\\\matte\\\\.julia\\\\packages\\\\Knockout\\\\1sDlc\\\\src\\\\..\\\\assets\\\\knockout_punches.js\"), Asset(\"js\", nothing, \"C:\\\\Users\\\\matte\\\\.julia\\\\packages\\\\InteractBase\\\\9mFwe\\\\src\\\\..\\\\assets\\\\all.js\"), Asset(\"css\", nothing, \"C:\\\\Users\\\\matte\\\\.julia\\\\packages\\\\InteractBase\\\\9mFwe\\\\src\\\\..\\\\assets\\\\style.css\"), Asset(\"css\", nothing, \"C:\\\\Users\\\\matte\\\\.julia\\\\packages\\\\Interact\\\\SbgIk\\\\src\\\\..\\\\assets\\\\bulma_confined.min.css\")], Dict{Any,Any}(\"options_js\" => Any[WebIO.JSString(\"(function (val){return (val!=this.model[\\\"options_js\\\"]()) ? (this.valueFromJulia[\\\"options_js\\\"]=true, this.model[\\\"options_js\\\"](val)) : undefined})\")],\"index\" => Any[WebIO.JSString(\"(function (val){return (val!=this.model[\\\"index\\\"]()) ? (this.valueFromJulia[\\\"index\\\"]=true, this.model[\\\"index\\\"](val)) : undefined})\")]), WebIO.ConnectionPool(Channel{Any}(sz_max:32,sz_curr:0), Set(AbstractConnection[]), Base.GenericCondition{Base.AlwaysLockedST}(Base.InvasiveLinkedList{Task}(Task (runnable) @0x0000000011305430, Task (runnable) @0x0000000011305430), Base.AlwaysLockedST(1))), WebIO.JSString[WebIO.JSString(\"function () {\\n    var handler = (function (ko, koPunches) {\\n    ko.punches.enableAll();\\n    ko.bindingHandlers.numericValue = {\\n        init: function(element, valueAccessor, allBindings, data, context) {\\n            var stringified = ko.observable(ko.unwrap(valueAccessor()));\\n            stringified.subscribe(function(value) {\\n                var val = parseFloat(value);\\n                if (!isNaN(val)) {\\n                    valueAccessor()(val);\\n                }\\n            });\\n            valueAccessor().subscribe(function(value) {\\n                var str = JSON.stringify(value);\\n                if ((str == \\\"0\\\") && ([\\\"-0\\\", \\\"-0.\\\"].indexOf(stringified()) >= 0))\\n                     return;\\n                 if ([\\\"null\\\", \\\"\\\"].indexOf(str) >= 0)\\n                     return;\\n                stringified(str);\\n            });\\n            ko.applyBindingsToNode(\\n                element,\\n                {\\n                    value: stringified,\\n                    valueUpdate: allBindings.get('valueUpdate'),\\n                },\\n                context,\\n            );\\n        }\\n    };\\n    var json_data = {\\\"options_js\\\":WebIO.getval({\\\"name\\\":\\\"options_js\\\",\\\"scope\\\":\\\"17695506645409778185\\\",\\\"id\\\":\\\"ob_102\\\",\\\"type\\\":\\\"observable\\\"}),\\\"index\\\":WebIO.getval({\\\"name\\\":\\\"index\\\",\\\"scope\\\":\\\"17695506645409778185\\\",\\\"id\\\":\\\"ob_101\\\",\\\"type\\\":\\\"observable\\\"})};\\n    var self = this;\\n    function AppViewModel() {\\n        for (var key in json_data) {\\n            var el = json_data[key];\\n            this[key] = Array.isArray(el) ? ko.observableArray(el) : ko.observable(el);\\n        }\\n        [this[\\\"update\\\"]=function (val) {this.index(val)}]\\n        \\n        [this[\\\"options_js\\\"].subscribe((function (val){!(this.valueFromJulia[\\\"options_js\\\"]) ? (WebIO.setval({\\\"name\\\":\\\"options_js\\\",\\\"scope\\\":\\\"17695506645409778185\\\",\\\"id\\\":\\\"ob_102\\\",\\\"type\\\":\\\"observable\\\"},val)) : undefined; return this.valueFromJulia[\\\"options_js\\\"]=false}),self),this[\\\"index\\\"].subscribe((function (val){!(this.valueFromJulia[\\\"index\\\"]) ? (WebIO.setval({\\\"name\\\":\\\"index\\\",\\\"scope\\\":\\\"17695506645409778185\\\",\\\"id\\\":\\\"ob_101\\\",\\\"type\\\":\\\"observable\\\"},val)) : undefined; return this.valueFromJulia[\\\"index\\\"]=false}),self)]\\n        \\n    }\\n    self.model = new AppViewModel();\\n    self.valueFromJulia = {};\\n    for (var key in json_data) {\\n        self.valueFromJulia[key] = false;\\n    }\\n    ko.applyBindings(self.model, self.dom);\\n}\\n);\\n    (WebIO.importBlock({\\\"data\\\":[{\\\"name\\\":\\\"knockout\\\",\\\"type\\\":\\\"js\\\",\\\"url\\\":\\\"/assetserver/254160226b58162a42111ea27214076747de1cf2-knockout.js\\\"},{\\\"name\\\":\\\"knockout_punches\\\",\\\"type\\\":\\\"js\\\",\\\"url\\\":\\\"/assetserver/2d0bf510fb683322318163f3ec7562806e4b1104-knockout_punches.js\\\"}],\\\"type\\\":\\\"async_block\\\"})).then((imports) => handler.apply(this, imports));\\n}\\n\")])], Dict{Symbol,Any}(:className => \"interact-widget\")), Node{WebIO.DOM}(WebIO.DOM(:html, :div), Any[Scope(Node{WebIO.DOM}(WebIO.DOM(:html, :div), Any[Node{WebIO.DOM}(WebIO.DOM(:html, :div), Any[Node{WebIO.DOM}(WebIO.DOM(:html, :label), Any[\"q\"], Dict{Symbol,Any}(:className => \"interact \",:style => Dict{Any,Any}(:padding => \"5px 10px 0px 10px\")))], Dict{Symbol,Any}(:className => \"interact-flex-row-left\")), Node{WebIO.DOM}(WebIO.DOM(:html, :div), Any[Node{WebIO.DOM}(WebIO.DOM(:html, :input), Any[], Dict{Symbol,Any}(:max => 19,:min => 1,:attributes => Dict{Any,Any}(:type => \"range\",Symbol(\"data-bind\") => \"numericValue: index, valueUpdate: 'input', event: {change: function (){this.changes(this.changes()+1)}}\",\"orient\" => \"horizontal\"),:step => 1,:className => \"slider slider is-fullwidth\",:style => Dict{Any,Any}()))], Dict{Symbol,Any}(:className => \"interact-flex-row-center\")), Node{WebIO.DOM}(WebIO.DOM(:html, :div), Any[Node{WebIO.DOM}(WebIO.DOM(:html, :p), Any[], Dict{Symbol,Any}(:attributes => Dict(\"data-bind\" => \"text: formatted_val\")))], Dict{Symbol,Any}(:className => \"interact-flex-row-right\"))], Dict{Symbol,Any}(:className => \"interact-flex-row interact-widget\")), Dict{String,Tuple{Observables.AbstractObservable,Union{Nothing, Bool}}}(\"changes\" => (Observable{Int64} with 1 listeners. Value:\n",
       "0, nothing),\"index\" => (Observable{Any} with 2 listeners. Value:\n",
       "10, nothing)), Set(String[]), nothing, Asset[Asset(\"js\", \"knockout\", \"C:\\\\Users\\\\matte\\\\.julia\\\\packages\\\\Knockout\\\\1sDlc\\\\src\\\\..\\\\assets\\\\knockout.js\"), Asset(\"js\", \"knockout_punches\", \"C:\\\\Users\\\\matte\\\\.julia\\\\packages\\\\Knockout\\\\1sDlc\\\\src\\\\..\\\\assets\\\\knockout_punches.js\"), Asset(\"js\", nothing, \"C:\\\\Users\\\\matte\\\\.julia\\\\packages\\\\InteractBase\\\\9mFwe\\\\src\\\\..\\\\assets\\\\all.js\"), Asset(\"css\", nothing, \"C:\\\\Users\\\\matte\\\\.julia\\\\packages\\\\InteractBase\\\\9mFwe\\\\src\\\\..\\\\assets\\\\style.css\"), Asset(\"css\", nothing, \"C:\\\\Users\\\\matte\\\\.julia\\\\packages\\\\Interact\\\\SbgIk\\\\src\\\\..\\\\assets\\\\bulma_confined.min.css\")], Dict{Any,Any}(\"changes\" => Any[WebIO.JSString(\"(function (val){return (val!=this.model[\\\"changes\\\"]()) ? (this.valueFromJulia[\\\"changes\\\"]=true, this.model[\\\"changes\\\"](val)) : undefined})\")],\"index\" => Any[WebIO.JSString(\"(function (val){return (val!=this.model[\\\"index\\\"]()) ? (this.valueFromJulia[\\\"index\\\"]=true, this.model[\\\"index\\\"](val)) : undefined})\")]), WebIO.ConnectionPool(Channel{Any}(sz_max:32,sz_curr:0), Set(AbstractConnection[]), Base.GenericCondition{Base.AlwaysLockedST}(Base.InvasiveLinkedList{Task}(Task (runnable) @0x0000000011306b30, Task (runnable) @0x0000000011306b30), Base.AlwaysLockedST(1))), WebIO.JSString[WebIO.JSString(\"function () {\\n    var handler = (function (ko, koPunches) {\\n    ko.punches.enableAll();\\n    ko.bindingHandlers.numericValue = {\\n        init: function(element, valueAccessor, allBindings, data, context) {\\n            var stringified = ko.observable(ko.unwrap(valueAccessor()));\\n            stringified.subscribe(function(value) {\\n                var val = parseFloat(value);\\n                if (!isNaN(val)) {\\n                    valueAccessor()(val);\\n                }\\n            });\\n            valueAccessor().subscribe(function(value) {\\n                var str = JSON.stringify(value);\\n                if ((str == \\\"0\\\") && ([\\\"-0\\\", \\\"-0.\\\"].indexOf(stringified()) >= 0))\\n                     return;\\n                 if ([\\\"null\\\", \\\"\\\"].indexOf(str) >= 0)\\n                     return;\\n                stringified(str);\\n            });\\n            ko.applyBindingsToNode(\\n                element,\\n                {\\n                    value: stringified,\\n                    valueUpdate: allBindings.get('valueUpdate'),\\n                },\\n                context,\\n            );\\n        }\\n    };\\n    var json_data = {\\\"formatted_vals\\\":[\\\"0.05\\\",\\\"0.1\\\",\\\"0.15\\\",\\\"0.2\\\",\\\"0.25\\\",\\\"0.3\\\",\\\"0.35\\\",\\\"0.4\\\",\\\"0.45\\\",\\\"0.5\\\",\\\"0.55\\\",\\\"0.6\\\",\\\"0.65\\\",\\\"0.7\\\",\\\"0.75\\\",\\\"0.8\\\",\\\"0.85\\\",\\\"0.9\\\",\\\"0.95\\\"],\\\"changes\\\":WebIO.getval({\\\"name\\\":\\\"changes\\\",\\\"scope\\\":\\\"4466540654947359303\\\",\\\"id\\\":\\\"ob_105\\\",\\\"type\\\":\\\"observable\\\"}),\\\"index\\\":WebIO.getval({\\\"name\\\":\\\"index\\\",\\\"scope\\\":\\\"4466540654947359303\\\",\\\"id\\\":\\\"ob_104\\\",\\\"type\\\":\\\"observable\\\"})};\\n    var self = this;\\n    function AppViewModel() {\\n        for (var key in json_data) {\\n            var el = json_data[key];\\n            this[key] = Array.isArray(el) ? ko.observableArray(el) : ko.observable(el);\\n        }\\n        \\n        [this[\\\"formatted_val\\\"]=ko.computed(    function(){\\n        return this.formatted_vals()[parseInt(this.index())-(1)];\\n    }\\n,this)]\\n        [this[\\\"changes\\\"].subscribe((function (val){!(this.valueFromJulia[\\\"changes\\\"]) ? (WebIO.setval({\\\"name\\\":\\\"changes\\\",\\\"scope\\\":\\\"4466540654947359303\\\",\\\"id\\\":\\\"ob_105\\\",\\\"type\\\":\\\"observable\\\"},val)) : undefined; return this.valueFromJulia[\\\"changes\\\"]=false}),self),this[\\\"index\\\"].subscribe((function (val){!(this.valueFromJulia[\\\"index\\\"]) ? (WebIO.setval({\\\"name\\\":\\\"index\\\",\\\"scope\\\":\\\"4466540654947359303\\\",\\\"id\\\":\\\"ob_104\\\",\\\"type\\\":\\\"observable\\\"},val)) : undefined; return this.valueFromJulia[\\\"index\\\"]=false}),self)]\\n        \\n    }\\n    self.model = new AppViewModel();\\n    self.valueFromJulia = {};\\n    for (var key in json_data) {\\n        self.valueFromJulia[key] = false;\\n    }\\n    ko.applyBindings(self.model, self.dom);\\n}\\n);\\n    (WebIO.importBlock({\\\"data\\\":[{\\\"name\\\":\\\"knockout\\\",\\\"type\\\":\\\"js\\\",\\\"url\\\":\\\"/assetserver/254160226b58162a42111ea27214076747de1cf2-knockout.js\\\"},{\\\"name\\\":\\\"knockout_punches\\\",\\\"type\\\":\\\"js\\\",\\\"url\\\":\\\"/assetserver/2d0bf510fb683322318163f3ec7562806e4b1104-knockout_punches.js\\\"}],\\\"type\\\":\\\"async_block\\\"})).then((imports) => handler.apply(this, imports));\\n}\\n\")])], Dict{Symbol,Any}(:className => \"field interact-widget\")), Node{WebIO.DOM}(WebIO.DOM(:html, :div), Any[Scope(Node{WebIO.DOM}(WebIO.DOM(:html, :div), Any[Node{WebIO.DOM}(WebIO.DOM(:html, :div), Any[Node{WebIO.DOM}(WebIO.DOM(:html, :label), Any[\"λ\"], Dict{Symbol,Any}(:className => \"interact \",:style => Dict{Any,Any}(:padding => \"5px 10px 0px 10px\")))], Dict{Symbol,Any}(:className => \"interact-flex-row-left\")), Node{WebIO.DOM}(WebIO.DOM(:html, :div), Any[Node{WebIO.DOM}(WebIO.DOM(:html, :input), Any[], Dict{Symbol,Any}(:max => 10,:min => 1,:attributes => Dict{Any,Any}(:type => \"range\",Symbol(\"data-bind\") => \"numericValue: index, valueUpdate: 'input', event: {change: function (){this.changes(this.changes()+1)}}\",\"orient\" => \"horizontal\"),:step => 1,:className => \"slider slider is-fullwidth\",:style => Dict{Any,Any}()))], Dict{Symbol,Any}(:className => \"interact-flex-row-center\")), Node{WebIO.DOM}(WebIO.DOM(:html, :div), Any[Node{WebIO.DOM}(WebIO.DOM(:html, :p), Any[], Dict{Symbol,Any}(:attributes => Dict(\"data-bind\" => \"text: formatted_val\")))], Dict{Symbol,Any}(:className => \"interact-flex-row-right\"))], Dict{Symbol,Any}(:className => \"interact-flex-row interact-widget\")), Dict{String,Tuple{Observables.AbstractObservable,Union{Nothing, Bool}}}(\"changes\" => (Observable{Int64} with 1 listeners. Value:\n",
       "0, nothing),\"index\" => (Observable{Any} with 2 listeners. Value:\n",
       "5, nothing)), Set(String[]), nothing, Asset[Asset(\"js\", \"knockout\", \"C:\\\\Users\\\\matte\\\\.julia\\\\packages\\\\Knockout\\\\1sDlc\\\\src\\\\..\\\\assets\\\\knockout.js\"), Asset(\"js\", \"knockout_punches\", \"C:\\\\Users\\\\matte\\\\.julia\\\\packages\\\\Knockout\\\\1sDlc\\\\src\\\\..\\\\assets\\\\knockout_punches.js\"), Asset(\"js\", nothing, \"C:\\\\Users\\\\matte\\\\.julia\\\\packages\\\\InteractBase\\\\9mFwe\\\\src\\\\..\\\\assets\\\\all.js\"), Asset(\"css\", nothing, \"C:\\\\Users\\\\matte\\\\.julia\\\\packages\\\\InteractBase\\\\9mFwe\\\\src\\\\..\\\\assets\\\\style.css\"), Asset(\"css\", nothing, \"C:\\\\Users\\\\matte\\\\.julia\\\\packages\\\\Interact\\\\SbgIk\\\\src\\\\..\\\\assets\\\\bulma_confined.min.css\")], Dict{Any,Any}(\"changes\" => Any[WebIO.JSString(\"(function (val){return (val!=this.model[\\\"changes\\\"]()) ? (this.valueFromJulia[\\\"changes\\\"]=true, this.model[\\\"changes\\\"](val)) : undefined})\")],\"index\" => Any[WebIO.JSString(\"(function (val){return (val!=this.model[\\\"index\\\"]()) ? (this.valueFromJulia[\\\"index\\\"]=true, this.model[\\\"index\\\"](val)) : undefined})\")]), WebIO.ConnectionPool(Channel{Any}(sz_max:32,sz_curr:0), Set(AbstractConnection[]), Base.GenericCondition{Base.AlwaysLockedST}(Base.InvasiveLinkedList{Task}(Task (runnable) @0x000000001165f6b0, Task (runnable) @0x000000001165f6b0), Base.AlwaysLockedST(1))), WebIO.JSString[WebIO.JSString(\"function () {\\n    var handler = (function (ko, koPunches) {\\n    ko.punches.enableAll();\\n    ko.bindingHandlers.numericValue = {\\n        init: function(element, valueAccessor, allBindings, data, context) {\\n            var stringified = ko.observable(ko.unwrap(valueAccessor()));\\n            stringified.subscribe(function(value) {\\n                var val = parseFloat(value);\\n                if (!isNaN(val)) {\\n                    valueAccessor()(val);\\n                }\\n            });\\n            valueAccessor().subscribe(function(value) {\\n                var str = JSON.stringify(value);\\n                if ((str == \\\"0\\\") && ([\\\"-0\\\", \\\"-0.\\\"].indexOf(stringified()) >= 0))\\n                     return;\\n                 if ([\\\"null\\\", \\\"\\\"].indexOf(str) >= 0)\\n                     return;\\n                stringified(str);\\n            });\\n            ko.applyBindingsToNode(\\n                element,\\n                {\\n                    value: stringified,\\n                    valueUpdate: allBindings.get('valueUpdate'),\\n                },\\n                context,\\n            );\\n        }\\n    };\\n    var json_data = {\\\"formatted_vals\\\":[\\\"1\\\",\\\"2\\\",\\\"3\\\",\\\"4\\\",\\\"5\\\",\\\"6\\\",\\\"7\\\",\\\"8\\\",\\\"9\\\",\\\"10\\\"],\\\"changes\\\":WebIO.getval({\\\"name\\\":\\\"changes\\\",\\\"scope\\\":\\\"7480107678666411650\\\",\\\"id\\\":\\\"ob_108\\\",\\\"type\\\":\\\"observable\\\"}),\\\"index\\\":WebIO.getval({\\\"name\\\":\\\"index\\\",\\\"scope\\\":\\\"7480107678666411650\\\",\\\"id\\\":\\\"ob_107\\\",\\\"type\\\":\\\"observable\\\"})};\\n    var self = this;\\n    function AppViewModel() {\\n        for (var key in json_data) {\\n            var el = json_data[key];\\n            this[key] = Array.isArray(el) ? ko.observableArray(el) : ko.observable(el);\\n        }\\n        \\n        [this[\\\"formatted_val\\\"]=ko.computed(    function(){\\n        return this.formatted_vals()[parseInt(this.index())-(1)];\\n    }\\n,this)]\\n        [this[\\\"changes\\\"].subscribe((function (val){!(this.valueFromJulia[\\\"changes\\\"]) ? (WebIO.setval({\\\"name\\\":\\\"changes\\\",\\\"scope\\\":\\\"7480107678666411650\\\",\\\"id\\\":\\\"ob_108\\\",\\\"type\\\":\\\"observable\\\"},val)) : undefined; return this.valueFromJulia[\\\"changes\\\"]=false}),self),this[\\\"index\\\"].subscribe((function (val){!(this.valueFromJulia[\\\"index\\\"]) ? (WebIO.setval({\\\"name\\\":\\\"index\\\",\\\"scope\\\":\\\"7480107678666411650\\\",\\\"id\\\":\\\"ob_107\\\",\\\"type\\\":\\\"observable\\\"},val)) : undefined; return this.valueFromJulia[\\\"index\\\"]=false}),self)]\\n        \\n    }\\n    self.model = new AppViewModel();\\n    self.valueFromJulia = {};\\n    for (var key in json_data) {\\n        self.valueFromJulia[key] = false;\\n    }\\n    ko.applyBindings(self.model, self.dom);\\n}\\n);\\n    (WebIO.importBlock({\\\"data\\\":[{\\\"name\\\":\\\"knockout\\\",\\\"type\\\":\\\"js\\\",\\\"url\\\":\\\"/assetserver/254160226b58162a42111ea27214076747de1cf2-knockout.js\\\"},{\\\"name\\\":\\\"knockout_punches\\\",\\\"type\\\":\\\"js\\\",\\\"url\\\":\\\"/assetserver/2d0bf510fb683322318163f3ec7562806e4b1104-knockout_punches.js\\\"}],\\\"type\\\":\\\"async_block\\\"})).then((imports) => handler.apply(this, imports));\\n}\\n\")])], Dict{Symbol,Any}(:className => \"field interact-widget\")), Observable{Any} with 0 listeners. Value:\n",
       "Node{WebIO.DOM}(WebIO.DOM(:html, :div), Any[Plot{Plots.GRBackend() n=2}], Dict{Symbol,Any}(:className => \"interact-flex-row interact-widget\"))], Dict{Symbol,Any}())"
      ]
     },
     "execution_count": 31,
     "metadata": {
      "application/vnd.webio.node+json": {
       "kernelId": "112af0d7-f13c-418a-a378-2bbe83ec6239"
      }
     },
     "output_type": "execute_result"
    }
   ],
   "source": [
    "@manipulate for max_N = 100:50:1000, law_name = [\"Geometric\", \"Exponential\"], q = 0.05:0.05:0.95, λ = 1:1:10\n",
    "    plot_lln(max_N, law_name, q, λ)\n",
    "end"
   ]
  },
  {
   "cell_type": "code",
   "execution_count": 12,
   "metadata": {},
   "outputs": [
    {
     "data": {
      "image/svg+xml": [
       "<?xml version=\"1.0\" encoding=\"utf-8\"?>\n",
       "<svg xmlns=\"http://www.w3.org/2000/svg\" xmlns:xlink=\"http://www.w3.org/1999/xlink\" width=\"600\" height=\"400\" viewBox=\"0 0 2400 1600\">\n",
       "<defs>\n",
       "  <clipPath id=\"clip1000\">\n",
       "    <rect x=\"0\" y=\"0\" width=\"2400\" height=\"1600\"/>\n",
       "  </clipPath>\n",
       "</defs>\n",
       "<path clip-path=\"url(#clip1000)\" d=\"\n",
       "M0 1600 L2400 1600 L2400 0 L0 0  Z\n",
       "  \" fill=\"#ffffff\" fill-rule=\"evenodd\" fill-opacity=\"1\"/>\n",
       "<defs>\n",
       "  <clipPath id=\"clip1001\">\n",
       "    <rect x=\"480\" y=\"0\" width=\"1681\" height=\"1600\"/>\n",
       "  </clipPath>\n",
       "</defs>\n",
       "<path clip-path=\"url(#clip1000)\" d=\"\n",
       "M140.517 1425.62 L2352.76 1425.62 L2352.76 47.2441 L140.517 47.2441  Z\n",
       "  \" fill=\"#ffffff\" fill-rule=\"evenodd\" fill-opacity=\"1\"/>\n",
       "<defs>\n",
       "  <clipPath id=\"clip1002\">\n",
       "    <rect x=\"140\" y=\"47\" width=\"2213\" height=\"1379\"/>\n",
       "  </clipPath>\n",
       "</defs>\n",
       "<polyline clip-path=\"url(#clip1002)\" style=\"stroke:#000000; stroke-width:2; stroke-opacity:0.1; fill:none\" points=\"\n",
       "  198.945,1425.62 198.945,47.2441 \n",
       "  \"/>\n",
       "<polyline clip-path=\"url(#clip1002)\" style=\"stroke:#000000; stroke-width:2; stroke-opacity:0.1; fill:none\" points=\"\n",
       "  617.185,1425.62 617.185,47.2441 \n",
       "  \"/>\n",
       "<polyline clip-path=\"url(#clip1002)\" style=\"stroke:#000000; stroke-width:2; stroke-opacity:0.1; fill:none\" points=\"\n",
       "  1035.43,1425.62 1035.43,47.2441 \n",
       "  \"/>\n",
       "<polyline clip-path=\"url(#clip1002)\" style=\"stroke:#000000; stroke-width:2; stroke-opacity:0.1; fill:none\" points=\"\n",
       "  1453.67,1425.62 1453.67,47.2441 \n",
       "  \"/>\n",
       "<polyline clip-path=\"url(#clip1002)\" style=\"stroke:#000000; stroke-width:2; stroke-opacity:0.1; fill:none\" points=\"\n",
       "  1871.91,1425.62 1871.91,47.2441 \n",
       "  \"/>\n",
       "<polyline clip-path=\"url(#clip1002)\" style=\"stroke:#000000; stroke-width:2; stroke-opacity:0.1; fill:none\" points=\"\n",
       "  2290.15,1425.62 2290.15,47.2441 \n",
       "  \"/>\n",
       "<polyline clip-path=\"url(#clip1002)\" style=\"stroke:#000000; stroke-width:2; stroke-opacity:0.1; fill:none\" points=\"\n",
       "  140.517,1386.61 2352.76,1386.61 \n",
       "  \"/>\n",
       "<polyline clip-path=\"url(#clip1002)\" style=\"stroke:#000000; stroke-width:2; stroke-opacity:0.1; fill:none\" points=\"\n",
       "  140.517,1002.89 2352.76,1002.89 \n",
       "  \"/>\n",
       "<polyline clip-path=\"url(#clip1002)\" style=\"stroke:#000000; stroke-width:2; stroke-opacity:0.1; fill:none\" points=\"\n",
       "  140.517,619.179 2352.76,619.179 \n",
       "  \"/>\n",
       "<polyline clip-path=\"url(#clip1002)\" style=\"stroke:#000000; stroke-width:2; stroke-opacity:0.1; fill:none\" points=\"\n",
       "  140.517,235.464 2352.76,235.464 \n",
       "  \"/>\n",
       "<polyline clip-path=\"url(#clip1000)\" style=\"stroke:#000000; stroke-width:4; stroke-opacity:1; fill:none\" points=\"\n",
       "  140.517,1425.62 2352.76,1425.62 \n",
       "  \"/>\n",
       "<polyline clip-path=\"url(#clip1000)\" style=\"stroke:#000000; stroke-width:4; stroke-opacity:1; fill:none\" points=\"\n",
       "  140.517,1425.62 140.517,47.2441 \n",
       "  \"/>\n",
       "<polyline clip-path=\"url(#clip1000)\" style=\"stroke:#000000; stroke-width:4; stroke-opacity:1; fill:none\" points=\"\n",
       "  198.945,1425.62 198.945,1404.94 \n",
       "  \"/>\n",
       "<polyline clip-path=\"url(#clip1000)\" style=\"stroke:#000000; stroke-width:4; stroke-opacity:1; fill:none\" points=\"\n",
       "  617.185,1425.62 617.185,1404.94 \n",
       "  \"/>\n",
       "<polyline clip-path=\"url(#clip1000)\" style=\"stroke:#000000; stroke-width:4; stroke-opacity:1; fill:none\" points=\"\n",
       "  1035.43,1425.62 1035.43,1404.94 \n",
       "  \"/>\n",
       "<polyline clip-path=\"url(#clip1000)\" style=\"stroke:#000000; stroke-width:4; stroke-opacity:1; fill:none\" points=\"\n",
       "  1453.67,1425.62 1453.67,1404.94 \n",
       "  \"/>\n",
       "<polyline clip-path=\"url(#clip1000)\" style=\"stroke:#000000; stroke-width:4; stroke-opacity:1; fill:none\" points=\"\n",
       "  1871.91,1425.62 1871.91,1404.94 \n",
       "  \"/>\n",
       "<polyline clip-path=\"url(#clip1000)\" style=\"stroke:#000000; stroke-width:4; stroke-opacity:1; fill:none\" points=\"\n",
       "  2290.15,1425.62 2290.15,1404.94 \n",
       "  \"/>\n",
       "<polyline clip-path=\"url(#clip1000)\" style=\"stroke:#000000; stroke-width:4; stroke-opacity:1; fill:none\" points=\"\n",
       "  140.517,1386.61 173.7,1386.61 \n",
       "  \"/>\n",
       "<polyline clip-path=\"url(#clip1000)\" style=\"stroke:#000000; stroke-width:4; stroke-opacity:1; fill:none\" points=\"\n",
       "  140.517,1002.89 173.7,1002.89 \n",
       "  \"/>\n",
       "<polyline clip-path=\"url(#clip1000)\" style=\"stroke:#000000; stroke-width:4; stroke-opacity:1; fill:none\" points=\"\n",
       "  140.517,619.179 173.7,619.179 \n",
       "  \"/>\n",
       "<polyline clip-path=\"url(#clip1000)\" style=\"stroke:#000000; stroke-width:4; stroke-opacity:1; fill:none\" points=\"\n",
       "  140.517,235.464 173.7,235.464 \n",
       "  \"/>\n",
       "<g clip-path=\"url(#clip1000)\">\n",
       "<text style=\"fill:#000000; fill-opacity:1; font-family:Arial,Helvetica Neue,Helvetica,sans-serif; font-size:48px; text-anchor:middle;\" transform=\"rotate(0, 198.945, 1479.62)\" x=\"198.945\" y=\"1479.62\">0</text>\n",
       "</g>\n",
       "<g clip-path=\"url(#clip1000)\">\n",
       "<text style=\"fill:#000000; fill-opacity:1; font-family:Arial,Helvetica Neue,Helvetica,sans-serif; font-size:48px; text-anchor:middle;\" transform=\"rotate(0, 617.185, 1479.62)\" x=\"617.185\" y=\"1479.62\">100</text>\n",
       "</g>\n",
       "<g clip-path=\"url(#clip1000)\">\n",
       "<text style=\"fill:#000000; fill-opacity:1; font-family:Arial,Helvetica Neue,Helvetica,sans-serif; font-size:48px; text-anchor:middle;\" transform=\"rotate(0, 1035.43, 1479.62)\" x=\"1035.43\" y=\"1479.62\">200</text>\n",
       "</g>\n",
       "<g clip-path=\"url(#clip1000)\">\n",
       "<text style=\"fill:#000000; fill-opacity:1; font-family:Arial,Helvetica Neue,Helvetica,sans-serif; font-size:48px; text-anchor:middle;\" transform=\"rotate(0, 1453.67, 1479.62)\" x=\"1453.67\" y=\"1479.62\">300</text>\n",
       "</g>\n",
       "<g clip-path=\"url(#clip1000)\">\n",
       "<text style=\"fill:#000000; fill-opacity:1; font-family:Arial,Helvetica Neue,Helvetica,sans-serif; font-size:48px; text-anchor:middle;\" transform=\"rotate(0, 1871.91, 1479.62)\" x=\"1871.91\" y=\"1479.62\">400</text>\n",
       "</g>\n",
       "<g clip-path=\"url(#clip1000)\">\n",
       "<text style=\"fill:#000000; fill-opacity:1; font-family:Arial,Helvetica Neue,Helvetica,sans-serif; font-size:48px; text-anchor:middle;\" transform=\"rotate(0, 2290.15, 1479.62)\" x=\"2290.15\" y=\"1479.62\">500</text>\n",
       "</g>\n",
       "<g clip-path=\"url(#clip1000)\">\n",
       "<text style=\"fill:#000000; fill-opacity:1; font-family:Arial,Helvetica Neue,Helvetica,sans-serif; font-size:48px; text-anchor:end;\" transform=\"rotate(0, 116.517, 1404.11)\" x=\"116.517\" y=\"1404.11\">0</text>\n",
       "</g>\n",
       "<g clip-path=\"url(#clip1000)\">\n",
       "<text style=\"fill:#000000; fill-opacity:1; font-family:Arial,Helvetica Neue,Helvetica,sans-serif; font-size:48px; text-anchor:end;\" transform=\"rotate(0, 116.517, 1020.39)\" x=\"116.517\" y=\"1020.39\">5</text>\n",
       "</g>\n",
       "<g clip-path=\"url(#clip1000)\">\n",
       "<text style=\"fill:#000000; fill-opacity:1; font-family:Arial,Helvetica Neue,Helvetica,sans-serif; font-size:48px; text-anchor:end;\" transform=\"rotate(0, 116.517, 636.679)\" x=\"116.517\" y=\"636.679\">10</text>\n",
       "</g>\n",
       "<g clip-path=\"url(#clip1000)\">\n",
       "<text style=\"fill:#000000; fill-opacity:1; font-family:Arial,Helvetica Neue,Helvetica,sans-serif; font-size:48px; text-anchor:end;\" transform=\"rotate(0, 116.517, 252.964)\" x=\"116.517\" y=\"252.964\">15</text>\n",
       "</g>\n",
       "<g clip-path=\"url(#clip1000)\">\n",
       "<text style=\"fill:#000000; fill-opacity:1; font-family:Arial,Helvetica Neue,Helvetica,sans-serif; font-size:66px; text-anchor:middle;\" transform=\"rotate(0, 1246.64, 1559.48)\" x=\"1246.64\" y=\"1559.48\">N</text>\n",
       "</g>\n",
       "<polyline clip-path=\"url(#clip1002)\" style=\"stroke:#ff0000; stroke-width:12; stroke-opacity:1; fill:none\" points=\"\n",
       "  203.127,1386.61 207.31,926.15 211.492,900.569 215.675,887.779 219.857,772.664 224.039,683.131 228.222,476.656 232.404,542.436 236.587,568.017 240.769,542.436 \n",
       "  244.951,479.646 249.134,452.902 253.316,495.209 257.499,525.991 261.681,501.506 265.863,523.25 270.046,528.893 274.228,533.909 278.411,502.045 282.593,534.761 \n",
       "  286.775,462.038 290.958,451.739 295.14,445.673 299.323,398.543 303.505,398.159 307.687,394.853 311.87,397.477 316.052,380.727 320.235,333.377 324.417,348.02 \n",
       "  328.599,341.914 332.782,367.366 336.964,391.275 341.147,377.664 345.329,371.408 349.511,350.578 353.694,285.243 357.876,292.011 362.059,308.271 366.241,306.451 \n",
       "  370.423,319.694 374.606,337.788 378.788,313.992 382.971,319.183 387.153,305.385 391.335,277.172 395.518,271.386 399.7,270.638 403.883,269.92 408.065,263.091 \n",
       "  412.247,270.073 416.43,266.456 420.612,280.351 424.795,263.887 428.977,278.719 433.159,283.428 437.342,271.816 441.524,271.189 445.707,267.982 449.889,275.114 \n",
       "  454.071,263.142 458.254,254.031 462.436,264.699 466.619,221.075 470.801,146.914 474.983,150.581 479.166,149.558 483.348,160.978 487.531,168.731 491.713,177.358 \n",
       "  495.895,183.581 500.078,190.697 504.26,193.413 508.443,192.944 512.625,204.767 516.807,206.18 520.99,202.574 525.172,202.996 529.355,196.607 533.537,196.133 \n",
       "  537.719,207.988 541.902,215.81 546.084,208.65 550.267,208.969 554.449,210.184 558.631,214.94 562.814,209.001 566.996,213.662 571.179,207.009 575.361,187.713 \n",
       "  579.543,185.707 583.726,190.419 587.908,181.001 592.091,188.928 596.273,191.034 600.455,175.508 604.638,177.709 608.82,174.383 613.003,178.876 617.185,177.907 \n",
       "  621.367,186.835 625.55,176.778 629.732,182.563 633.915,188.975 638.097,179.917 642.279,188.404 646.462,196.734 650.644,172.933 654.827,176.322 659.009,179.651 \n",
       "  663.191,184.993 667.374,188.185 671.556,187.245 675.739,189.687 679.921,183.412 684.103,184.522 688.286,190.205 692.468,181.484 696.651,185.807 700.833,188.779 \n",
       "  705.015,187.262 709.198,185.141 713.38,186.798 717.563,190.903 721.745,186.348 725.927,178.82 730.11,172.619 734.292,171.312 738.475,168.834 742.657,171.708 \n",
       "  746.839,175.124 751.022,177.325 755.204,185.264 759.387,182.202 763.569,182.028 767.751,188.628 771.934,190.65 776.116,184.858 780.299,178.045 784.481,177.358 \n",
       "  788.663,184.846 792.846,187.364 797.028,191.457 801.211,189.098 805.393,185.184 809.575,181.849 813.758,159.765 817.94,160.795 822.123,158.206 826.305,159.744 \n",
       "  830.487,158.721 834.67,156.701 838.852,158.721 843.035,153.239 847.217,145.353 851.399,149.866 855.582,146.012 859.764,151.435 863.947,150.516 868.129,144.332 \n",
       "  872.311,142.514 876.494,146.878 880.676,144.126 884.859,138.131 889.041,142.442 893.223,139.304 897.406,145.394 901.588,136.794 905.771,135.562 909.953,137.052 \n",
       "  914.135,136.73 918.318,139.981 922.5,140.533 926.683,143.284 930.865,146.881 935.047,136.047 939.23,138.343 943.412,135.439 947.595,133.426 951.777,136.124 \n",
       "  955.959,130.313 960.142,127.518 964.324,133.14 968.507,125.771 972.689,125.95 976.872,125.713 981.054,124.659 985.236,129.33 989.419,130.298 993.601,134.082 \n",
       "  997.784,131.801 1001.97,130.342 1006.15,128.103 1010.33,129.448 1014.51,129.598 1018.7,129.355 1022.88,129.504 1027.06,130.039 1031.24,131.34 1035.43,123.803 \n",
       "  1039.61,122.831 1043.79,127.188 1047.97,123.563 1052.15,124.864 1056.34,128.024 1060.52,126.683 1064.7,126.096 1068.88,118.874 1073.07,120.166 1077.25,120.349 \n",
       "  1081.43,125.26 1085.61,125.779 1089.8,126.655 1093.98,127.522 1098.16,129.451 1102.34,125.324 1106.53,125.124 1110.71,125.982 1114.89,129.636 1119.07,132.21 \n",
       "  1123.26,132.677 1127.44,135.905 1131.62,138.073 1135.8,135.081 1139.99,136.892 1144.17,138.347 1148.35,127.956 1152.53,130.447 1156.71,131.911 1160.9,133.029 \n",
       "  1165.08,137.127 1169.26,132.919 1173.44,135.665 1177.63,129.86 1181.81,133.575 1185.99,132.056 1190.17,132.168 1194.36,133.892 1198.54,135.923 1202.72,128.343 \n",
       "  1206.9,127.514 1211.09,130.497 1215.27,126.508 1219.45,127.269 1223.63,126.771 1227.82,122.845 1232,126.097 1236.18,125.919 1240.36,129.441 1244.55,121.27 \n",
       "  1248.73,123.866 1252.91,124.308 1257.09,125.961 1261.27,123.673 1265.46,127.422 1269.64,129.043 1273.82,117.214 1278,117.375 1282.19,121.683 1286.37,121.825 \n",
       "  1290.55,121.085 1294.73,123.864 1298.92,125.748 1303.1,125.873 1307.28,125.128 1311.46,126.408 1315.65,125.954 1319.83,118.918 1324.01,121.348 1328.19,122.908 \n",
       "  1332.38,123.606 1336.56,124.864 1340.74,124.988 1344.92,125.391 1349.11,127.466 1353.29,125.632 1357.47,125.475 1361.65,126.699 1365.83,129.839 1370.02,127.201 \n",
       "  1374.2,121.305 1378.38,123.071 1382.56,121.027 1386.75,121.16 1390.93,122.908 1395.11,125.984 1399.29,121.82 1403.48,125.679 1407.66,127.652 1411.84,127.759 \n",
       "  1416.02,126.283 1420.21,125.869 1424.39,129.124 1428.57,127.136 1432.75,128.804 1436.94,128.387 1441.12,132.106 1445.3,132.453 1449.48,135.364 1453.67,131.349 \n",
       "  1457.85,130.93 1462.03,130.006 1466.21,129.594 1470.39,128.428 1474.58,127.269 1478.76,129.88 1482.94,127.724 1487.12,129.569 1491.31,128.173 1495.49,128.271 \n",
       "  1499.67,128.616 1503.85,126.991 1508.04,128.318 1512.22,127.926 1516.4,130.46 1520.58,129.335 1524.77,129.67 1528.95,131.451 1533.13,132.98 1537.31,128.503 \n",
       "  1541.5,129.315 1545.68,132.504 1549.86,136.387 1554.04,136.219 1558.23,139.122 1562.41,138.711 1566.59,140.415 1570.77,140.939 1574.95,140.993 1579.14,139.186 \n",
       "  1583.32,137.622 1587.5,139.766 1591.68,141.897 1595.87,143.097 1600.05,141.998 1604.23,143.646 1608.41,141.414 1612.6,141.011 1616.78,141.516 1620.96,142.695 \n",
       "  1625.14,143.417 1629.33,145.257 1633.51,147.758 1637.69,141.32 1641.87,141.37 1646.06,144.304 1650.24,145.23 1654.42,142.843 1658.6,145.747 1662.79,145.126 \n",
       "  1666.97,147.789 1671.15,144.114 1675.33,145.025 1679.51,147.231 1683.7,139.913 1687.88,139.104 1692.06,141.524 1696.24,141.572 1700.43,140.551 1704.61,142.093 \n",
       "  1708.79,137.462 1712.97,138.581 1717.16,138.425 1721.34,140.168 1725.52,143.583 1729.7,144.043 1733.89,138.019 1738.07,138.492 1742.25,136.26 1746.43,136.113 \n",
       "  1750.62,138.863 1754.8,138.297 1758.98,138.764 1763.16,139.843 1767.35,138.665 1771.53,140.76 1775.71,143.454 1779.89,141.058 1784.07,142.724 1788.26,142.968 \n",
       "  1792.44,144.218 1796.62,141.042 1800.8,141.89 1804.99,141.134 1809.17,140.781 1813.35,139.237 1817.53,140.08 1821.72,137.557 1825.9,139.782 1830.08,140.421 \n",
       "  1834.26,142.038 1838.45,144.038 1842.63,142.318 1846.81,143.723 1850.99,142.984 1855.18,143.605 1859.36,144.609 1863.54,146.573 1867.72,148.335 1871.91,148.169 \n",
       "  1876.09,149.152 1880.27,150.703 1884.45,146.914 1888.63,147.323 1892.82,148.11 1897,143.221 1901.18,145.333 1905.36,146.307 1909.55,146.712 1913.73,146.929 \n",
       "  1917.91,144.717 1922.09,146.8 1926.28,143.484 1930.46,145.004 1934.64,146.701 1938.82,143.409 1943.01,144.55 1947.19,144.584 1951.37,146.449 1955.55,148.671 \n",
       "  1959.74,149.789 1963.92,147.991 1968.1,150.194 1972.28,145.508 1976.47,143.733 1980.65,145.39 1984.83,143.804 1989.01,144.556 1993.19,145.125 1997.38,146.228 \n",
       "  2001.56,145.189 2005.74,140.246 2009.92,142.061 2014.11,144.044 2018.29,142.843 2022.47,145.168 2026.65,146.955 2030.84,148.734 2035.02,144.911 2039.2,143.372 \n",
       "  2043.38,145.495 2047.57,144.831 2051.75,145.902 2055.93,144.375 2060.11,144.407 2064.3,145.644 2068.48,147.733 2072.66,146.216 2076.84,146.415 2081.03,146.954 \n",
       "  2085.21,146.469 2089.39,147.515 2093.57,144.66 2097.75,144.353 2101.94,146.071 2106.12,145.93 2110.3,147.974 2114.48,144.813 2118.67,146.014 2122.85,147.043 \n",
       "  2127.03,142.573 2131.21,144.103 2135.4,145.792 2139.58,145.324 2143.76,146.508 2147.94,146.864 2152.13,147.546 2156.31,148.882 2160.49,146.939 2164.67,147.128 \n",
       "  2168.86,149.596 2173.04,150.917 2177.22,152.718 2181.4,142.854 2185.59,142.564 2189.77,141.47 2193.95,140.541 2198.13,140.9 2202.31,139.495 2206.5,140.814 \n",
       "  2210.68,131.598 2214.86,133.565 2219.04,134.57 2223.23,131.924 2227.41,134.037 2231.59,134.245 2235.77,129.095 2239.96,126.168 2244.14,127.647 2248.32,126.458 \n",
       "  2252.5,128.711 2256.69,127.525 2260.87,129.923 2265.05,129.981 2269.23,128.334 2273.42,128.55 2277.6,128.919 2281.78,129.133 2285.96,130.577 2290.15,130.786 \n",
       "  \n",
       "  \"/>\n",
       "<polyline clip-path=\"url(#clip1002)\" style=\"stroke:#000000; stroke-width:12; stroke-opacity:1; fill:none\" points=\"\n",
       "  -2071.72,86.2547 4565,86.2547 \n",
       "  \"/>\n",
       "<path clip-path=\"url(#clip1000)\" d=\"\n",
       "M212.517 1281.62 L802.786 1281.62 L802.786 1100.18 L212.517 1100.18  Z\n",
       "  \" fill=\"#ffffff\" fill-rule=\"evenodd\" fill-opacity=\"1\"/>\n",
       "<polyline clip-path=\"url(#clip1000)\" style=\"stroke:#000000; stroke-width:4; stroke-opacity:1; fill:none\" points=\"\n",
       "  212.517,1281.62 802.786,1281.62 802.786,1100.18 212.517,1100.18 212.517,1281.62 \n",
       "  \"/>\n",
       "<polyline clip-path=\"url(#clip1000)\" style=\"stroke:#ff0000; stroke-width:12; stroke-opacity:1; fill:none\" points=\"\n",
       "  236.517,1160.66 380.517,1160.66 \n",
       "  \"/>\n",
       "<g clip-path=\"url(#clip1000)\">\n",
       "<text style=\"fill:#000000; fill-opacity:1; font-family:Arial,Helvetica Neue,Helvetica,sans-serif; font-size:48px; text-anchor:start;\" transform=\"rotate(0, 404.517, 1178.16)\" x=\"404.517\" y=\"1178.16\">empirical T(N,N)</text>\n",
       "</g>\n",
       "<polyline clip-path=\"url(#clip1000)\" style=\"stroke:#000000; stroke-width:12; stroke-opacity:1; fill:none\" points=\"\n",
       "  236.517,1221.14 380.517,1221.14 \n",
       "  \"/>\n",
       "<g clip-path=\"url(#clip1000)\">\n",
       "<text style=\"fill:#000000; fill-opacity:1; font-family:Arial,Helvetica Neue,Helvetica,sans-serif; font-size:48px; text-anchor:start;\" transform=\"rotate(0, 404.517, 1238.64)\" x=\"404.517\" y=\"1238.64\">theoretical limit</text>\n",
       "</g>\n",
       "</svg>\n"
      ]
     },
     "execution_count": 12,
     "metadata": {},
     "output_type": "execute_result"
    }
   ],
   "source": [
    "max_N = 500\n",
    "law = \"Geometric\"\n",
    "q = 0.2\n",
    "λ = 1\n",
    "plot_lln(max_N, law, q, λ)"
   ]
  },
  {
   "cell_type": "markdown",
   "metadata": {},
   "source": [
    "### CLT"
   ]
  },
  {
   "cell_type": "code",
   "execution_count": 32,
   "metadata": {},
   "outputs": [
    {
     "name": "stdout",
     "output_type": "stream",
     "text": [
      "Geometric, 0.1\n",
      "Geometric, 0.2\n",
      "Geometric, 0.3\n",
      "Geometric, 0.4\n",
      "Geometric, 0.5\n",
      "Geometric, 0.6\n",
      "Geometric, 0.7\n",
      "Geometric, 0.8\n",
      "Geometric, 0.9\n",
      "Exponential, 1\n",
      "Exponential, 2\n",
      "Exponential, 3\n",
      "Exponential, 4\n",
      "Exponential, 5\n",
      "Exponential, 6\n",
      "Exponential, 7\n",
      "Exponential, 8\n",
      "Exponential, 9\n",
      "Exponential, 10\n"
     ]
    }
   ],
   "source": [
    "RANGE_N = 10:10:100\n",
    "max_N = maximum(RANGE_N)\n",
    "RANGE_q = 0.1*(1:9)\n",
    "RANGE_λ = 1:10\n",
    "NB_EXAMPLES = 300\n",
    "\n",
    "d = Dict(vcat((\"Geometric\",Dict([(q, Dict([(N, Float64[]) for N in RANGE_N])) for q in RANGE_q])), (\"Exponential\",Dict([(λ, Dict([(N, Float64[]) for N in RANGE_N])) for λ in RANGE_λ]))))\n",
    "\n",
    "for q in RANGE_q\n",
    "    println(\"Geometric, \", q)\n",
    "    law = Geometric(q)\n",
    "    res = Float64[]\n",
    "    for i in 1:NB_EXAMPLES\n",
    "        grid = get_grid(law, max_N)\n",
    "        for N in RANGE_N\n",
    "            append!(d[\"Geometric\"][q][N], grid[N, N])\n",
    "        end\n",
    "    end\n",
    "end\n",
    "\n",
    "for λ in RANGE_λ\n",
    "    println(\"Exponential, \", λ)\n",
    "    law = Exponential(λ)\n",
    "    res = Float64[]\n",
    "    for i in 1:NB_EXAMPLES\n",
    "        grid = get_grid(law, max_N)\n",
    "        for N in RANGE_N\n",
    "            append!(d[\"Exponential\"][λ][N], grid[N, N])\n",
    "        end\n",
    "    end\n",
    "end"
   ]
  },
  {
   "cell_type": "code",
   "execution_count": 50,
   "metadata": {},
   "outputs": [
    {
     "data": {
      "application/vnd.webio.node+json": {
       "children": [
        {
         "children": [
          {
           "children": [
            {
             "children": [
              {
               "children": [
                {
                 "children": [
                  "N"
                 ],
                 "instanceArgs": {
                  "namespace": "html",
                  "tag": "label"
                 },
                 "nodeType": "DOM",
                 "props": {
                  "className": "interact ",
                  "style": {
                   "padding": "5px 10px 0px 10px"
                  }
                 },
                 "type": "node"
                }
               ],
               "instanceArgs": {
                "namespace": "html",
                "tag": "div"
               },
               "nodeType": "DOM",
               "props": {
                "className": "interact-flex-row-left"
               },
               "type": "node"
              },
              {
               "children": [
                {
                 "children": [],
                 "instanceArgs": {
                  "namespace": "html",
                  "tag": "input"
                 },
                 "nodeType": "DOM",
                 "props": {
                  "attributes": {
                   "data-bind": "numericValue: index, valueUpdate: 'input', event: {change: function (){this.changes(this.changes()+1)}}",
                   "orient": "horizontal",
                   "type": "range"
                  },
                  "className": "slider slider is-fullwidth",
                  "max": 10,
                  "min": 1,
                  "step": 1,
                  "style": {}
                 },
                 "type": "node"
                }
               ],
               "instanceArgs": {
                "namespace": "html",
                "tag": "div"
               },
               "nodeType": "DOM",
               "props": {
                "className": "interact-flex-row-center"
               },
               "type": "node"
              },
              {
               "children": [
                {
                 "children": [],
                 "instanceArgs": {
                  "namespace": "html",
                  "tag": "p"
                 },
                 "nodeType": "DOM",
                 "props": {
                  "attributes": {
                   "data-bind": "text: formatted_val"
                  }
                 },
                 "type": "node"
                }
               ],
               "instanceArgs": {
                "namespace": "html",
                "tag": "div"
               },
               "nodeType": "DOM",
               "props": {
                "className": "interact-flex-row-right"
               },
               "type": "node"
              }
             ],
             "instanceArgs": {
              "namespace": "html",
              "tag": "div"
             },
             "nodeType": "DOM",
             "props": {
              "className": "interact-flex-row interact-widget"
             },
             "type": "node"
            }
           ],
           "instanceArgs": {
            "handlers": {
             "changes": [
              "(function (val){return (val!=this.model[\"changes\"]()) ? (this.valueFromJulia[\"changes\"]=true, this.model[\"changes\"](val)) : undefined})"
             ],
             "index": [
              "(function (val){return (val!=this.model[\"index\"]()) ? (this.valueFromJulia[\"index\"]=true, this.model[\"index\"](val)) : undefined})"
             ]
            },
            "id": "16214519894394556285",
            "imports": {
             "data": [
              {
               "name": "knockout",
               "type": "js",
               "url": "/assetserver/254160226b58162a42111ea27214076747de1cf2-knockout.js"
              },
              {
               "name": "knockout_punches",
               "type": "js",
               "url": "/assetserver/2d0bf510fb683322318163f3ec7562806e4b1104-knockout_punches.js"
              },
              {
               "name": null,
               "type": "js",
               "url": "/assetserver/6ffcdda43c684da84d2ca5dd2027e4a55c68edac-all.js"
              },
              {
               "name": null,
               "type": "css",
               "url": "/assetserver/b0b44adaed1197b8510174b41f32f09d98a0c28e-style.css"
              },
              {
               "name": null,
               "type": "css",
               "url": "/assetserver/bbb2e3064bd5f6dfcf2f18fbeb52d9320f251632-bulma_confined.min.css"
              }
             ],
             "type": "async_block"
            },
            "mount_callbacks": [
             "function () {\n    var handler = (function (ko, koPunches) {\n    ko.punches.enableAll();\n    ko.bindingHandlers.numericValue = {\n        init: function(element, valueAccessor, allBindings, data, context) {\n            var stringified = ko.observable(ko.unwrap(valueAccessor()));\n            stringified.subscribe(function(value) {\n                var val = parseFloat(value);\n                if (!isNaN(val)) {\n                    valueAccessor()(val);\n                }\n            });\n            valueAccessor().subscribe(function(value) {\n                var str = JSON.stringify(value);\n                if ((str == \"0\") && ([\"-0\", \"-0.\"].indexOf(stringified()) >= 0))\n                     return;\n                 if ([\"null\", \"\"].indexOf(str) >= 0)\n                     return;\n                stringified(str);\n            });\n            ko.applyBindingsToNode(\n                element,\n                {\n                    value: stringified,\n                    valueUpdate: allBindings.get('valueUpdate'),\n                },\n                context,\n            );\n        }\n    };\n    var json_data = {\"formatted_vals\":[\"10\",\"20\",\"30\",\"40\",\"50\",\"60\",\"70\",\"80\",\"90\",\"100\"],\"changes\":WebIO.getval({\"name\":\"changes\",\"scope\":\"16214519894394556285\",\"id\":\"ob_136\",\"type\":\"observable\"}),\"index\":WebIO.getval({\"name\":\"index\",\"scope\":\"16214519894394556285\",\"id\":\"ob_135\",\"type\":\"observable\"})};\n    var self = this;\n    function AppViewModel() {\n        for (var key in json_data) {\n            var el = json_data[key];\n            this[key] = Array.isArray(el) ? ko.observableArray(el) : ko.observable(el);\n        }\n        \n        [this[\"formatted_val\"]=ko.computed(    function(){\n        return this.formatted_vals()[parseInt(this.index())-(1)];\n    }\n,this)]\n        [this[\"changes\"].subscribe((function (val){!(this.valueFromJulia[\"changes\"]) ? (WebIO.setval({\"name\":\"changes\",\"scope\":\"16214519894394556285\",\"id\":\"ob_136\",\"type\":\"observable\"},val)) : undefined; return this.valueFromJulia[\"changes\"]=false}),self),this[\"index\"].subscribe((function (val){!(this.valueFromJulia[\"index\"]) ? (WebIO.setval({\"name\":\"index\",\"scope\":\"16214519894394556285\",\"id\":\"ob_135\",\"type\":\"observable\"},val)) : undefined; return this.valueFromJulia[\"index\"]=false}),self)]\n        \n    }\n    self.model = new AppViewModel();\n    self.valueFromJulia = {};\n    for (var key in json_data) {\n        self.valueFromJulia[key] = false;\n    }\n    ko.applyBindings(self.model, self.dom);\n}\n);\n    (WebIO.importBlock({\"data\":[{\"name\":\"knockout\",\"type\":\"js\",\"url\":\"/assetserver/254160226b58162a42111ea27214076747de1cf2-knockout.js\"},{\"name\":\"knockout_punches\",\"type\":\"js\",\"url\":\"/assetserver/2d0bf510fb683322318163f3ec7562806e4b1104-knockout_punches.js\"}],\"type\":\"async_block\"})).then((imports) => handler.apply(this, imports));\n}\n"
            ],
            "observables": {
             "changes": {
              "id": "ob_136",
              "sync": false,
              "value": 0
             },
             "index": {
              "id": "ob_135",
              "sync": true,
              "value": 5
             }
            },
            "systemjs_options": null
           },
           "nodeType": "Scope",
           "props": {},
           "type": "node"
          }
         ],
         "instanceArgs": {
          "namespace": "html",
          "tag": "div"
         },
         "nodeType": "DOM",
         "props": {
          "className": "field interact-widget"
         },
         "type": "node"
        },
        {
         "children": [
          {
           "children": [
            {
             "children": [
              {
               "children": [
                {
                 "children": [
                  "law_name"
                 ],
                 "instanceArgs": {
                  "namespace": "html",
                  "tag": "label"
                 },
                 "nodeType": "DOM",
                 "props": {
                  "className": "interact ",
                  "style": {
                   "padding": "5px 10px 0px 10px"
                  }
                 },
                 "type": "node"
                }
               ],
               "instanceArgs": {
                "namespace": "html",
                "tag": "div"
               },
               "nodeType": "DOM",
               "props": {
                "className": "interact-flex-row-left"
               },
               "type": "node"
              },
              {
               "children": [
                {
                 "children": [
                  {
                   "children": [
                    {
                     "children": [],
                     "instanceArgs": {
                      "namespace": "html",
                      "tag": "label"
                     },
                     "nodeType": "DOM",
                     "props": {
                      "attributes": {
                       "data-bind": "text : key"
                      }
                     },
                     "type": "node"
                    }
                   ],
                   "instanceArgs": {
                    "namespace": "html",
                    "tag": "span"
                   },
                   "nodeType": "DOM",
                   "props": {
                    "attributes": {
                     "data-bind": "click: function (){$root.update(val)}, css: {'is-primary is-selected' : $root.index() == val, 'interact-widget is-medium button ' : true}"
                    }
                   },
                   "type": "node"
                  }
                 ],
                 "instanceArgs": {
                  "namespace": "html",
                  "tag": "div"
                 },
                 "nodeType": "DOM",
                 "props": {
                  "attributes": {
                   "data-bind": "foreach : options_js"
                  },
                  "className": "buttons has-addons is-centered"
                 },
                 "type": "node"
                }
               ],
               "instanceArgs": {
                "namespace": "html",
                "tag": "div"
               },
               "nodeType": "DOM",
               "props": {
                "className": "interact-flex-row-center"
               },
               "type": "node"
              },
              {
               "children": [
                {
                 "children": [],
                 "instanceArgs": {
                  "namespace": "html",
                  "tag": "div"
                 },
                 "nodeType": "DOM",
                 "props": {},
                 "type": "node"
                }
               ],
               "instanceArgs": {
                "namespace": "html",
                "tag": "div"
               },
               "nodeType": "DOM",
               "props": {
                "className": "interact-flex-row-right"
               },
               "type": "node"
              }
             ],
             "instanceArgs": {
              "namespace": "html",
              "tag": "div"
             },
             "nodeType": "DOM",
             "props": {
              "className": "interact-flex-row interact-widget"
             },
             "type": "node"
            }
           ],
           "instanceArgs": {
            "handlers": {
             "index": [
              "(function (val){return (val!=this.model[\"index\"]()) ? (this.valueFromJulia[\"index\"]=true, this.model[\"index\"](val)) : undefined})"
             ],
             "options_js": [
              "(function (val){return (val!=this.model[\"options_js\"]()) ? (this.valueFromJulia[\"options_js\"]=true, this.model[\"options_js\"](val)) : undefined})"
             ]
            },
            "id": "2969530746742546447",
            "imports": {
             "data": [
              {
               "name": "knockout",
               "type": "js",
               "url": "/assetserver/254160226b58162a42111ea27214076747de1cf2-knockout.js"
              },
              {
               "name": "knockout_punches",
               "type": "js",
               "url": "/assetserver/2d0bf510fb683322318163f3ec7562806e4b1104-knockout_punches.js"
              },
              {
               "name": null,
               "type": "js",
               "url": "/assetserver/6ffcdda43c684da84d2ca5dd2027e4a55c68edac-all.js"
              },
              {
               "name": null,
               "type": "css",
               "url": "/assetserver/b0b44adaed1197b8510174b41f32f09d98a0c28e-style.css"
              },
              {
               "name": null,
               "type": "css",
               "url": "/assetserver/bbb2e3064bd5f6dfcf2f18fbeb52d9320f251632-bulma_confined.min.css"
              }
             ],
             "type": "async_block"
            },
            "mount_callbacks": [
             "function () {\n    var handler = (function (ko, koPunches) {\n    ko.punches.enableAll();\n    ko.bindingHandlers.numericValue = {\n        init: function(element, valueAccessor, allBindings, data, context) {\n            var stringified = ko.observable(ko.unwrap(valueAccessor()));\n            stringified.subscribe(function(value) {\n                var val = parseFloat(value);\n                if (!isNaN(val)) {\n                    valueAccessor()(val);\n                }\n            });\n            valueAccessor().subscribe(function(value) {\n                var str = JSON.stringify(value);\n                if ((str == \"0\") && ([\"-0\", \"-0.\"].indexOf(stringified()) >= 0))\n                     return;\n                 if ([\"null\", \"\"].indexOf(str) >= 0)\n                     return;\n                stringified(str);\n            });\n            ko.applyBindingsToNode(\n                element,\n                {\n                    value: stringified,\n                    valueUpdate: allBindings.get('valueUpdate'),\n                },\n                context,\n            );\n        }\n    };\n    var json_data = {\"options_js\":WebIO.getval({\"name\":\"options_js\",\"scope\":\"2969530746742546447\",\"id\":\"ob_141\",\"type\":\"observable\"}),\"index\":WebIO.getval({\"name\":\"index\",\"scope\":\"2969530746742546447\",\"id\":\"ob_140\",\"type\":\"observable\"})};\n    var self = this;\n    function AppViewModel() {\n        for (var key in json_data) {\n            var el = json_data[key];\n            this[key] = Array.isArray(el) ? ko.observableArray(el) : ko.observable(el);\n        }\n        [this[\"update\"]=function (val) {this.index(val)}]\n        \n        [this[\"options_js\"].subscribe((function (val){!(this.valueFromJulia[\"options_js\"]) ? (WebIO.setval({\"name\":\"options_js\",\"scope\":\"2969530746742546447\",\"id\":\"ob_141\",\"type\":\"observable\"},val)) : undefined; return this.valueFromJulia[\"options_js\"]=false}),self),this[\"index\"].subscribe((function (val){!(this.valueFromJulia[\"index\"]) ? (WebIO.setval({\"name\":\"index\",\"scope\":\"2969530746742546447\",\"id\":\"ob_140\",\"type\":\"observable\"},val)) : undefined; return this.valueFromJulia[\"index\"]=false}),self)]\n        \n    }\n    self.model = new AppViewModel();\n    self.valueFromJulia = {};\n    for (var key in json_data) {\n        self.valueFromJulia[key] = false;\n    }\n    ko.applyBindings(self.model, self.dom);\n}\n);\n    (WebIO.importBlock({\"data\":[{\"name\":\"knockout\",\"type\":\"js\",\"url\":\"/assetserver/254160226b58162a42111ea27214076747de1cf2-knockout.js\"},{\"name\":\"knockout_punches\",\"type\":\"js\",\"url\":\"/assetserver/2d0bf510fb683322318163f3ec7562806e4b1104-knockout_punches.js\"}],\"type\":\"async_block\"})).then((imports) => handler.apply(this, imports));\n}\n"
            ],
            "observables": {
             "index": {
              "id": "ob_140",
              "sync": true,
              "value": 1
             },
             "options_js": {
              "id": "ob_141",
              "sync": false,
              "value": [
               {
                "id": "idSKyeAPkF",
                "key": "Geometric",
                "val": 1
               },
               {
                "id": "id3ls1SmP0",
                "key": "Exponential",
                "val": 2
               }
              ]
             }
            },
            "systemjs_options": null
           },
           "nodeType": "Scope",
           "props": {},
           "type": "node"
          }
         ],
         "instanceArgs": {
          "namespace": "html",
          "tag": "div"
         },
         "nodeType": "DOM",
         "props": {
          "className": "interact-widget"
         },
         "type": "node"
        },
        {
         "children": [
          {
           "children": [
            {
             "children": [
              {
               "children": [
                {
                 "children": [
                  "q"
                 ],
                 "instanceArgs": {
                  "namespace": "html",
                  "tag": "label"
                 },
                 "nodeType": "DOM",
                 "props": {
                  "className": "interact ",
                  "style": {
                   "padding": "5px 10px 0px 10px"
                  }
                 },
                 "type": "node"
                }
               ],
               "instanceArgs": {
                "namespace": "html",
                "tag": "div"
               },
               "nodeType": "DOM",
               "props": {
                "className": "interact-flex-row-left"
               },
               "type": "node"
              },
              {
               "children": [
                {
                 "children": [],
                 "instanceArgs": {
                  "namespace": "html",
                  "tag": "input"
                 },
                 "nodeType": "DOM",
                 "props": {
                  "attributes": {
                   "data-bind": "numericValue: index, valueUpdate: 'input', event: {change: function (){this.changes(this.changes()+1)}}",
                   "orient": "horizontal",
                   "type": "range"
                  },
                  "className": "slider slider is-fullwidth",
                  "max": 9,
                  "min": 1,
                  "step": 1,
                  "style": {}
                 },
                 "type": "node"
                }
               ],
               "instanceArgs": {
                "namespace": "html",
                "tag": "div"
               },
               "nodeType": "DOM",
               "props": {
                "className": "interact-flex-row-center"
               },
               "type": "node"
              },
              {
               "children": [
                {
                 "children": [],
                 "instanceArgs": {
                  "namespace": "html",
                  "tag": "p"
                 },
                 "nodeType": "DOM",
                 "props": {
                  "attributes": {
                   "data-bind": "text: formatted_val"
                  }
                 },
                 "type": "node"
                }
               ],
               "instanceArgs": {
                "namespace": "html",
                "tag": "div"
               },
               "nodeType": "DOM",
               "props": {
                "className": "interact-flex-row-right"
               },
               "type": "node"
              }
             ],
             "instanceArgs": {
              "namespace": "html",
              "tag": "div"
             },
             "nodeType": "DOM",
             "props": {
              "className": "interact-flex-row interact-widget"
             },
             "type": "node"
            }
           ],
           "instanceArgs": {
            "handlers": {
             "changes": [
              "(function (val){return (val!=this.model[\"changes\"]()) ? (this.valueFromJulia[\"changes\"]=true, this.model[\"changes\"](val)) : undefined})"
             ],
             "index": [
              "(function (val){return (val!=this.model[\"index\"]()) ? (this.valueFromJulia[\"index\"]=true, this.model[\"index\"](val)) : undefined})"
             ]
            },
            "id": "11723669686370652913",
            "imports": {
             "data": [
              {
               "name": "knockout",
               "type": "js",
               "url": "/assetserver/254160226b58162a42111ea27214076747de1cf2-knockout.js"
              },
              {
               "name": "knockout_punches",
               "type": "js",
               "url": "/assetserver/2d0bf510fb683322318163f3ec7562806e4b1104-knockout_punches.js"
              },
              {
               "name": null,
               "type": "js",
               "url": "/assetserver/6ffcdda43c684da84d2ca5dd2027e4a55c68edac-all.js"
              },
              {
               "name": null,
               "type": "css",
               "url": "/assetserver/b0b44adaed1197b8510174b41f32f09d98a0c28e-style.css"
              },
              {
               "name": null,
               "type": "css",
               "url": "/assetserver/bbb2e3064bd5f6dfcf2f18fbeb52d9320f251632-bulma_confined.min.css"
              }
             ],
             "type": "async_block"
            },
            "mount_callbacks": [
             "function () {\n    var handler = (function (ko, koPunches) {\n    ko.punches.enableAll();\n    ko.bindingHandlers.numericValue = {\n        init: function(element, valueAccessor, allBindings, data, context) {\n            var stringified = ko.observable(ko.unwrap(valueAccessor()));\n            stringified.subscribe(function(value) {\n                var val = parseFloat(value);\n                if (!isNaN(val)) {\n                    valueAccessor()(val);\n                }\n            });\n            valueAccessor().subscribe(function(value) {\n                var str = JSON.stringify(value);\n                if ((str == \"0\") && ([\"-0\", \"-0.\"].indexOf(stringified()) >= 0))\n                     return;\n                 if ([\"null\", \"\"].indexOf(str) >= 0)\n                     return;\n                stringified(str);\n            });\n            ko.applyBindingsToNode(\n                element,\n                {\n                    value: stringified,\n                    valueUpdate: allBindings.get('valueUpdate'),\n                },\n                context,\n            );\n        }\n    };\n    var json_data = {\"formatted_vals\":[\"0.1\",\"0.2\",\"0.3\",\"0.4\",\"0.5\",\"0.6\",\"0.7\",\"0.8\",\"0.9\"],\"changes\":WebIO.getval({\"name\":\"changes\",\"scope\":\"11723669686370652913\",\"id\":\"ob_144\",\"type\":\"observable\"}),\"index\":WebIO.getval({\"name\":\"index\",\"scope\":\"11723669686370652913\",\"id\":\"ob_143\",\"type\":\"observable\"})};\n    var self = this;\n    function AppViewModel() {\n        for (var key in json_data) {\n            var el = json_data[key];\n            this[key] = Array.isArray(el) ? ko.observableArray(el) : ko.observable(el);\n        }\n        \n        [this[\"formatted_val\"]=ko.computed(    function(){\n        return this.formatted_vals()[parseInt(this.index())-(1)];\n    }\n,this)]\n        [this[\"changes\"].subscribe((function (val){!(this.valueFromJulia[\"changes\"]) ? (WebIO.setval({\"name\":\"changes\",\"scope\":\"11723669686370652913\",\"id\":\"ob_144\",\"type\":\"observable\"},val)) : undefined; return this.valueFromJulia[\"changes\"]=false}),self),this[\"index\"].subscribe((function (val){!(this.valueFromJulia[\"index\"]) ? (WebIO.setval({\"name\":\"index\",\"scope\":\"11723669686370652913\",\"id\":\"ob_143\",\"type\":\"observable\"},val)) : undefined; return this.valueFromJulia[\"index\"]=false}),self)]\n        \n    }\n    self.model = new AppViewModel();\n    self.valueFromJulia = {};\n    for (var key in json_data) {\n        self.valueFromJulia[key] = false;\n    }\n    ko.applyBindings(self.model, self.dom);\n}\n);\n    (WebIO.importBlock({\"data\":[{\"name\":\"knockout\",\"type\":\"js\",\"url\":\"/assetserver/254160226b58162a42111ea27214076747de1cf2-knockout.js\"},{\"name\":\"knockout_punches\",\"type\":\"js\",\"url\":\"/assetserver/2d0bf510fb683322318163f3ec7562806e4b1104-knockout_punches.js\"}],\"type\":\"async_block\"})).then((imports) => handler.apply(this, imports));\n}\n"
            ],
            "observables": {
             "changes": {
              "id": "ob_144",
              "sync": false,
              "value": 0
             },
             "index": {
              "id": "ob_143",
              "sync": true,
              "value": 5
             }
            },
            "systemjs_options": null
           },
           "nodeType": "Scope",
           "props": {},
           "type": "node"
          }
         ],
         "instanceArgs": {
          "namespace": "html",
          "tag": "div"
         },
         "nodeType": "DOM",
         "props": {
          "className": "field interact-widget"
         },
         "type": "node"
        },
        {
         "children": [
          {
           "children": [
            {
             "children": [
              {
               "children": [
                {
                 "children": [
                  "λ"
                 ],
                 "instanceArgs": {
                  "namespace": "html",
                  "tag": "label"
                 },
                 "nodeType": "DOM",
                 "props": {
                  "className": "interact ",
                  "style": {
                   "padding": "5px 10px 0px 10px"
                  }
                 },
                 "type": "node"
                }
               ],
               "instanceArgs": {
                "namespace": "html",
                "tag": "div"
               },
               "nodeType": "DOM",
               "props": {
                "className": "interact-flex-row-left"
               },
               "type": "node"
              },
              {
               "children": [
                {
                 "children": [],
                 "instanceArgs": {
                  "namespace": "html",
                  "tag": "input"
                 },
                 "nodeType": "DOM",
                 "props": {
                  "attributes": {
                   "data-bind": "numericValue: index, valueUpdate: 'input', event: {change: function (){this.changes(this.changes()+1)}}",
                   "orient": "horizontal",
                   "type": "range"
                  },
                  "className": "slider slider is-fullwidth",
                  "max": 10,
                  "min": 1,
                  "step": 1,
                  "style": {}
                 },
                 "type": "node"
                }
               ],
               "instanceArgs": {
                "namespace": "html",
                "tag": "div"
               },
               "nodeType": "DOM",
               "props": {
                "className": "interact-flex-row-center"
               },
               "type": "node"
              },
              {
               "children": [
                {
                 "children": [],
                 "instanceArgs": {
                  "namespace": "html",
                  "tag": "p"
                 },
                 "nodeType": "DOM",
                 "props": {
                  "attributes": {
                   "data-bind": "text: formatted_val"
                  }
                 },
                 "type": "node"
                }
               ],
               "instanceArgs": {
                "namespace": "html",
                "tag": "div"
               },
               "nodeType": "DOM",
               "props": {
                "className": "interact-flex-row-right"
               },
               "type": "node"
              }
             ],
             "instanceArgs": {
              "namespace": "html",
              "tag": "div"
             },
             "nodeType": "DOM",
             "props": {
              "className": "interact-flex-row interact-widget"
             },
             "type": "node"
            }
           ],
           "instanceArgs": {
            "handlers": {
             "changes": [
              "(function (val){return (val!=this.model[\"changes\"]()) ? (this.valueFromJulia[\"changes\"]=true, this.model[\"changes\"](val)) : undefined})"
             ],
             "index": [
              "(function (val){return (val!=this.model[\"index\"]()) ? (this.valueFromJulia[\"index\"]=true, this.model[\"index\"](val)) : undefined})"
             ]
            },
            "id": "1725859443039429207",
            "imports": {
             "data": [
              {
               "name": "knockout",
               "type": "js",
               "url": "/assetserver/254160226b58162a42111ea27214076747de1cf2-knockout.js"
              },
              {
               "name": "knockout_punches",
               "type": "js",
               "url": "/assetserver/2d0bf510fb683322318163f3ec7562806e4b1104-knockout_punches.js"
              },
              {
               "name": null,
               "type": "js",
               "url": "/assetserver/6ffcdda43c684da84d2ca5dd2027e4a55c68edac-all.js"
              },
              {
               "name": null,
               "type": "css",
               "url": "/assetserver/b0b44adaed1197b8510174b41f32f09d98a0c28e-style.css"
              },
              {
               "name": null,
               "type": "css",
               "url": "/assetserver/bbb2e3064bd5f6dfcf2f18fbeb52d9320f251632-bulma_confined.min.css"
              }
             ],
             "type": "async_block"
            },
            "mount_callbacks": [
             "function () {\n    var handler = (function (ko, koPunches) {\n    ko.punches.enableAll();\n    ko.bindingHandlers.numericValue = {\n        init: function(element, valueAccessor, allBindings, data, context) {\n            var stringified = ko.observable(ko.unwrap(valueAccessor()));\n            stringified.subscribe(function(value) {\n                var val = parseFloat(value);\n                if (!isNaN(val)) {\n                    valueAccessor()(val);\n                }\n            });\n            valueAccessor().subscribe(function(value) {\n                var str = JSON.stringify(value);\n                if ((str == \"0\") && ([\"-0\", \"-0.\"].indexOf(stringified()) >= 0))\n                     return;\n                 if ([\"null\", \"\"].indexOf(str) >= 0)\n                     return;\n                stringified(str);\n            });\n            ko.applyBindingsToNode(\n                element,\n                {\n                    value: stringified,\n                    valueUpdate: allBindings.get('valueUpdate'),\n                },\n                context,\n            );\n        }\n    };\n    var json_data = {\"formatted_vals\":[\"1\",\"2\",\"3\",\"4\",\"5\",\"6\",\"7\",\"8\",\"9\",\"10\"],\"changes\":WebIO.getval({\"name\":\"changes\",\"scope\":\"1725859443039429207\",\"id\":\"ob_146\",\"type\":\"observable\"}),\"index\":WebIO.getval({\"name\":\"index\",\"scope\":\"1725859443039429207\",\"id\":\"ob_145\",\"type\":\"observable\"})};\n    var self = this;\n    function AppViewModel() {\n        for (var key in json_data) {\n            var el = json_data[key];\n            this[key] = Array.isArray(el) ? ko.observableArray(el) : ko.observable(el);\n        }\n        \n        [this[\"formatted_val\"]=ko.computed(    function(){\n        return this.formatted_vals()[parseInt(this.index())-(1)];\n    }\n,this)]\n        [this[\"changes\"].subscribe((function (val){!(this.valueFromJulia[\"changes\"]) ? (WebIO.setval({\"name\":\"changes\",\"scope\":\"1725859443039429207\",\"id\":\"ob_146\",\"type\":\"observable\"},val)) : undefined; return this.valueFromJulia[\"changes\"]=false}),self),this[\"index\"].subscribe((function (val){!(this.valueFromJulia[\"index\"]) ? (WebIO.setval({\"name\":\"index\",\"scope\":\"1725859443039429207\",\"id\":\"ob_145\",\"type\":\"observable\"},val)) : undefined; return this.valueFromJulia[\"index\"]=false}),self)]\n        \n    }\n    self.model = new AppViewModel();\n    self.valueFromJulia = {};\n    for (var key in json_data) {\n        self.valueFromJulia[key] = false;\n    }\n    ko.applyBindings(self.model, self.dom);\n}\n);\n    (WebIO.importBlock({\"data\":[{\"name\":\"knockout\",\"type\":\"js\",\"url\":\"/assetserver/254160226b58162a42111ea27214076747de1cf2-knockout.js\"},{\"name\":\"knockout_punches\",\"type\":\"js\",\"url\":\"/assetserver/2d0bf510fb683322318163f3ec7562806e4b1104-knockout_punches.js\"}],\"type\":\"async_block\"})).then((imports) => handler.apply(this, imports));\n}\n"
            ],
            "observables": {
             "changes": {
              "id": "ob_146",
              "sync": false,
              "value": 0
             },
             "index": {
              "id": "ob_145",
              "sync": true,
              "value": 5
             }
            },
            "systemjs_options": null
           },
           "nodeType": "Scope",
           "props": {},
           "type": "node"
          }
         ],
         "instanceArgs": {
          "namespace": "html",
          "tag": "div"
         },
         "nodeType": "DOM",
         "props": {
          "className": "field interact-widget"
         },
         "type": "node"
        },
        {
         "children": [
          {
           "children": [],
           "instanceArgs": {
            "id": "ob_152",
            "name": "obs-node"
           },
           "nodeType": "ObservableNode",
           "props": {},
           "type": "node"
          }
         ],
         "instanceArgs": {
          "handlers": {},
          "id": "2695338327200762000",
          "imports": {
           "data": [],
           "type": "async_block"
          },
          "mount_callbacks": [],
          "observables": {
           "obs-node": {
            "id": "ob_152",
            "sync": false,
            "value": {
             "children": [
              {
               "children": [],
               "instanceArgs": {
                "namespace": "html",
                "tag": "div"
               },
               "nodeType": "DOM",
               "props": {
                "setInnerHtml": "<?xml version=\"1.0\" encoding=\"utf-8\"?>\n<svg xmlns=\"http://www.w3.org/2000/svg\" xmlns:xlink=\"http://www.w3.org/1999/xlink\" width=\"600\" height=\"400\" viewBox=\"0 0 2400 1600\">\n<defs>\n  <clipPath id=\"clip2600\">\n    <rect x=\"0\" y=\"0\" width=\"2400\" height=\"1600\"/>\n  </clipPath>\n</defs>\n<path clip-path=\"url(#clip2600)\" d=\"\nM0 1600 L2400 1600 L2400 0 L0 0  Z\n  \" fill=\"#ffffff\" fill-rule=\"evenodd\" fill-opacity=\"1\"/>\n<defs>\n  <clipPath id=\"clip2601\">\n    <rect x=\"480\" y=\"0\" width=\"1681\" height=\"1600\"/>\n  </clipPath>\n</defs>\n<path clip-path=\"url(#clip2600)\" d=\"\nM153.898 1487.47 L2352.76 1487.47 L2352.76 47.2441 L153.898 47.2441  Z\n  \" fill=\"#ffffff\" fill-rule=\"evenodd\" fill-opacity=\"1\"/>\n<defs>\n  <clipPath id=\"clip2602\">\n    <rect x=\"153\" y=\"47\" width=\"2200\" height=\"1441\"/>\n  </clipPath>\n</defs>\n<polyline clip-path=\"url(#clip2602)\" style=\"stroke:#000000; stroke-width:2; stroke-opacity:0.1; fill:none\" points=\"\n  388.996,1487.47 388.996,47.2441 \n  \"/>\n<polyline clip-path=\"url(#clip2602)\" style=\"stroke:#000000; stroke-width:2; stroke-opacity:0.1; fill:none\" points=\"\n  821.161,1487.47 821.161,47.2441 \n  \"/>\n<polyline clip-path=\"url(#clip2602)\" style=\"stroke:#000000; stroke-width:2; stroke-opacity:0.1; fill:none\" points=\"\n  1253.33,1487.47 1253.33,47.2441 \n  \"/>\n<polyline clip-path=\"url(#clip2602)\" style=\"stroke:#000000; stroke-width:2; stroke-opacity:0.1; fill:none\" points=\"\n  1685.49,1487.47 1685.49,47.2441 \n  \"/>\n<polyline clip-path=\"url(#clip2602)\" style=\"stroke:#000000; stroke-width:2; stroke-opacity:0.1; fill:none\" points=\"\n  2117.66,1487.47 2117.66,47.2441 \n  \"/>\n<polyline clip-path=\"url(#clip2602)\" style=\"stroke:#000000; stroke-width:2; stroke-opacity:0.1; fill:none\" points=\"\n  153.898,1446.71 2352.76,1446.71 \n  \"/>\n<polyline clip-path=\"url(#clip2602)\" style=\"stroke:#000000; stroke-width:2; stroke-opacity:0.1; fill:none\" points=\"\n  153.898,1199.68 2352.76,1199.68 \n  \"/>\n<polyline clip-path=\"url(#clip2602)\" style=\"stroke:#000000; stroke-width:2; stroke-opacity:0.1; fill:none\" points=\"\n  153.898,952.638 2352.76,952.638 \n  \"/>\n<polyline clip-path=\"url(#clip2602)\" style=\"stroke:#000000; stroke-width:2; stroke-opacity:0.1; fill:none\" points=\"\n  153.898,705.6 2352.76,705.6 \n  \"/>\n<polyline clip-path=\"url(#clip2602)\" style=\"stroke:#000000; stroke-width:2; stroke-opacity:0.1; fill:none\" points=\"\n  153.898,458.562 2352.76,458.562 \n  \"/>\n<polyline clip-path=\"url(#clip2602)\" style=\"stroke:#000000; stroke-width:2; stroke-opacity:0.1; fill:none\" points=\"\n  153.898,211.524 2352.76,211.524 \n  \"/>\n<polyline clip-path=\"url(#clip2600)\" style=\"stroke:#000000; stroke-width:4; stroke-opacity:1; fill:none\" points=\"\n  153.898,1487.47 2352.76,1487.47 \n  \"/>\n<polyline clip-path=\"url(#clip2600)\" style=\"stroke:#000000; stroke-width:4; stroke-opacity:1; fill:none\" points=\"\n  153.898,1487.47 153.898,47.2441 \n  \"/>\n<polyline clip-path=\"url(#clip2600)\" style=\"stroke:#000000; stroke-width:4; stroke-opacity:1; fill:none\" points=\"\n  388.996,1487.47 388.996,1465.87 \n  \"/>\n<polyline clip-path=\"url(#clip2600)\" style=\"stroke:#000000; stroke-width:4; stroke-opacity:1; fill:none\" points=\"\n  821.161,1487.47 821.161,1465.87 \n  \"/>\n<polyline clip-path=\"url(#clip2600)\" style=\"stroke:#000000; stroke-width:4; stroke-opacity:1; fill:none\" points=\"\n  1253.33,1487.47 1253.33,1465.87 \n  \"/>\n<polyline clip-path=\"url(#clip2600)\" style=\"stroke:#000000; stroke-width:4; stroke-opacity:1; fill:none\" points=\"\n  1685.49,1487.47 1685.49,1465.87 \n  \"/>\n<polyline clip-path=\"url(#clip2600)\" style=\"stroke:#000000; stroke-width:4; stroke-opacity:1; fill:none\" points=\"\n  2117.66,1487.47 2117.66,1465.87 \n  \"/>\n<polyline clip-path=\"url(#clip2600)\" style=\"stroke:#000000; stroke-width:4; stroke-opacity:1; fill:none\" points=\"\n  153.898,1446.71 186.881,1446.71 \n  \"/>\n<polyline clip-path=\"url(#clip2600)\" style=\"stroke:#000000; stroke-width:4; stroke-opacity:1; fill:none\" points=\"\n  153.898,1199.68 186.881,1199.68 \n  \"/>\n<polyline clip-path=\"url(#clip2600)\" style=\"stroke:#000000; stroke-width:4; stroke-opacity:1; fill:none\" points=\"\n  153.898,952.638 186.881,952.638 \n  \"/>\n<polyline clip-path=\"url(#clip2600)\" style=\"stroke:#000000; stroke-width:4; stroke-opacity:1; fill:none\" points=\"\n  153.898,705.6 186.881,705.6 \n  \"/>\n<polyline clip-path=\"url(#clip2600)\" style=\"stroke:#000000; stroke-width:4; stroke-opacity:1; fill:none\" points=\"\n  153.898,458.562 186.881,458.562 \n  \"/>\n<polyline clip-path=\"url(#clip2600)\" style=\"stroke:#000000; stroke-width:4; stroke-opacity:1; fill:none\" points=\"\n  153.898,211.524 186.881,211.524 \n  \"/>\n<g clip-path=\"url(#clip2600)\">\n<text style=\"fill:#000000; fill-opacity:1; font-family:Arial,Helvetica Neue,Helvetica,sans-serif; font-size:48px; text-anchor:middle;\" transform=\"rotate(0, 388.996, 1541.47)\" x=\"388.996\" y=\"1541.47\">-5.0</text>\n</g>\n<g clip-path=\"url(#clip2600)\">\n<text style=\"fill:#000000; fill-opacity:1; font-family:Arial,Helvetica Neue,Helvetica,sans-serif; font-size:48px; text-anchor:middle;\" transform=\"rotate(0, 821.161, 1541.47)\" x=\"821.161\" y=\"1541.47\">-2.5</text>\n</g>\n<g clip-path=\"url(#clip2600)\">\n<text style=\"fill:#000000; fill-opacity:1; font-family:Arial,Helvetica Neue,Helvetica,sans-serif; font-size:48px; text-anchor:middle;\" transform=\"rotate(0, 1253.33, 1541.47)\" x=\"1253.33\" y=\"1541.47\">0.0</text>\n</g>\n<g clip-path=\"url(#clip2600)\">\n<text style=\"fill:#000000; fill-opacity:1; font-family:Arial,Helvetica Neue,Helvetica,sans-serif; font-size:48px; text-anchor:middle;\" transform=\"rotate(0, 1685.49, 1541.47)\" x=\"1685.49\" y=\"1541.47\">2.5</text>\n</g>\n<g clip-path=\"url(#clip2600)\">\n<text style=\"fill:#000000; fill-opacity:1; font-family:Arial,Helvetica Neue,Helvetica,sans-serif; font-size:48px; text-anchor:middle;\" transform=\"rotate(0, 2117.66, 1541.47)\" x=\"2117.66\" y=\"1541.47\">5.0</text>\n</g>\n<g clip-path=\"url(#clip2600)\">\n<text style=\"fill:#000000; fill-opacity:1; font-family:Arial,Helvetica Neue,Helvetica,sans-serif; font-size:48px; text-anchor:end;\" transform=\"rotate(0, 129.898, 1464.21)\" x=\"129.898\" y=\"1464.21\">0.0</text>\n</g>\n<g clip-path=\"url(#clip2600)\">\n<text style=\"fill:#000000; fill-opacity:1; font-family:Arial,Helvetica Neue,Helvetica,sans-serif; font-size:48px; text-anchor:end;\" transform=\"rotate(0, 129.898, 1217.18)\" x=\"129.898\" y=\"1217.18\">0.1</text>\n</g>\n<g clip-path=\"url(#clip2600)\">\n<text style=\"fill:#000000; fill-opacity:1; font-family:Arial,Helvetica Neue,Helvetica,sans-serif; font-size:48px; text-anchor:end;\" transform=\"rotate(0, 129.898, 970.138)\" x=\"129.898\" y=\"970.138\">0.2</text>\n</g>\n<g clip-path=\"url(#clip2600)\">\n<text style=\"fill:#000000; fill-opacity:1; font-family:Arial,Helvetica Neue,Helvetica,sans-serif; font-size:48px; text-anchor:end;\" transform=\"rotate(0, 129.898, 723.1)\" x=\"129.898\" y=\"723.1\">0.3</text>\n</g>\n<g clip-path=\"url(#clip2600)\">\n<text style=\"fill:#000000; fill-opacity:1; font-family:Arial,Helvetica Neue,Helvetica,sans-serif; font-size:48px; text-anchor:end;\" transform=\"rotate(0, 129.898, 476.062)\" x=\"129.898\" y=\"476.062\">0.4</text>\n</g>\n<g clip-path=\"url(#clip2600)\">\n<text style=\"fill:#000000; fill-opacity:1; font-family:Arial,Helvetica Neue,Helvetica,sans-serif; font-size:48px; text-anchor:end;\" transform=\"rotate(0, 129.898, 229.024)\" x=\"129.898\" y=\"229.024\">0.5</text>\n</g>\n<path clip-path=\"url(#clip2602)\" d=\"\nM388.996 1446.71 L388.996 1446.71 L423.569 1446.71 L423.569 1446.71 L388.996 1446.71 L388.996 1446.71  Z\n  \" fill=\"#009af9\" fill-rule=\"evenodd\" fill-opacity=\"1\"/>\n<polyline clip-path=\"url(#clip2602)\" style=\"stroke:#000000; stroke-width:4; stroke-opacity:1; fill:none\" points=\"\n  388.996,1446.71 388.996,1446.71 423.569,1446.71 388.996,1446.71 \n  \"/>\n<path clip-path=\"url(#clip2602)\" d=\"\nM423.569 1446.71 L423.569 1446.71 L458.142 1446.71 L458.142 1446.71 L423.569 1446.71 L423.569 1446.71  Z\n  \" fill=\"#009af9\" fill-rule=\"evenodd\" fill-opacity=\"1\"/>\n<polyline clip-path=\"url(#clip2602)\" style=\"stroke:#000000; stroke-width:4; stroke-opacity:1; fill:none\" points=\"\n  423.569,1446.71 423.569,1446.71 458.142,1446.71 423.569,1446.71 \n  \"/>\n<path clip-path=\"url(#clip2602)\" d=\"\nM458.142 1446.71 L458.142 1446.71 L492.716 1446.71 L492.716 1446.71 L458.142 1446.71 L458.142 1446.71  Z\n  \" fill=\"#009af9\" fill-rule=\"evenodd\" fill-opacity=\"1\"/>\n<polyline clip-path=\"url(#clip2602)\" style=\"stroke:#000000; stroke-width:4; stroke-opacity:1; fill:none\" points=\"\n  458.142,1446.71 458.142,1446.71 492.716,1446.71 458.142,1446.71 \n  \"/>\n<path clip-path=\"url(#clip2602)\" d=\"\nM492.716 1446.71 L492.716 1446.71 L527.289 1446.71 L527.289 1446.71 L492.716 1446.71 L492.716 1446.71  Z\n  \" fill=\"#009af9\" fill-rule=\"evenodd\" fill-opacity=\"1\"/>\n<polyline clip-path=\"url(#clip2602)\" style=\"stroke:#000000; stroke-width:4; stroke-opacity:1; fill:none\" points=\"\n  492.716,1446.71 492.716,1446.71 527.289,1446.71 492.716,1446.71 \n  \"/>\n<path clip-path=\"url(#clip2602)\" d=\"\nM527.289 1446.71 L527.289 1446.71 L561.862 1446.71 L561.862 1446.71 L527.289 1446.71 L527.289 1446.71  Z\n  \" fill=\"#009af9\" fill-rule=\"evenodd\" fill-opacity=\"1\"/>\n<polyline clip-path=\"url(#clip2602)\" style=\"stroke:#000000; stroke-width:4; stroke-opacity:1; fill:none\" points=\"\n  527.289,1446.71 527.289,1446.71 561.862,1446.71 527.289,1446.71 \n  \"/>\n<path clip-path=\"url(#clip2602)\" d=\"\nM561.862 1446.71 L561.862 1446.71 L596.435 1446.71 L596.435 1446.71 L561.862 1446.71 L561.862 1446.71  Z\n  \" fill=\"#009af9\" fill-rule=\"evenodd\" fill-opacity=\"1\"/>\n<polyline clip-path=\"url(#clip2602)\" style=\"stroke:#000000; stroke-width:4; stroke-opacity:1; fill:none\" points=\"\n  561.862,1446.71 561.862,1446.71 596.435,1446.71 561.862,1446.71 \n  \"/>\n<path clip-path=\"url(#clip2602)\" d=\"\nM596.435 1405.54 L596.435 1446.71 L631.009 1446.71 L631.009 1405.54 L596.435 1405.54 L596.435 1405.54  Z\n  \" fill=\"#009af9\" fill-rule=\"evenodd\" fill-opacity=\"1\"/>\n<polyline clip-path=\"url(#clip2602)\" style=\"stroke:#000000; stroke-width:4; stroke-opacity:1; fill:none\" points=\"\n  596.435,1405.54 596.435,1446.71 631.009,1446.71 631.009,1405.54 596.435,1405.54 \n  \"/>\n<path clip-path=\"url(#clip2602)\" d=\"\nM631.009 1364.37 L631.009 1446.71 L665.582 1446.71 L665.582 1364.37 L631.009 1364.37 L631.009 1364.37  Z\n  \" fill=\"#009af9\" fill-rule=\"evenodd\" fill-opacity=\"1\"/>\n<polyline clip-path=\"url(#clip2602)\" style=\"stroke:#000000; stroke-width:4; stroke-opacity:1; fill:none\" points=\"\n  631.009,1364.37 631.009,1446.71 665.582,1446.71 665.582,1364.37 631.009,1364.37 \n  \"/>\n<path clip-path=\"url(#clip2602)\" d=\"\nM665.582 1282.02 L665.582 1446.71 L700.155 1446.71 L700.155 1282.02 L665.582 1282.02 L665.582 1282.02  Z\n  \" fill=\"#009af9\" fill-rule=\"evenodd\" fill-opacity=\"1\"/>\n<polyline clip-path=\"url(#clip2602)\" style=\"stroke:#000000; stroke-width:4; stroke-opacity:1; fill:none\" points=\"\n  665.582,1282.02 665.582,1446.71 700.155,1446.71 700.155,1282.02 665.582,1282.02 \n  \"/>\n<path clip-path=\"url(#clip2602)\" d=\"\nM700.155 1034.98 L700.155 1446.71 L734.728 1446.71 L734.728 1034.98 L700.155 1034.98 L700.155 1034.98  Z\n  \" fill=\"#009af9\" fill-rule=\"evenodd\" fill-opacity=\"1\"/>\n<polyline clip-path=\"url(#clip2602)\" style=\"stroke:#000000; stroke-width:4; stroke-opacity:1; fill:none\" points=\"\n  700.155,1034.98 700.155,1446.71 734.728,1446.71 734.728,1034.98 700.155,1034.98 \n  \"/>\n<path clip-path=\"url(#clip2602)\" d=\"\nM734.728 1199.68 L734.728 1446.71 L769.302 1446.71 L769.302 1199.68 L734.728 1199.68 L734.728 1199.68  Z\n  \" fill=\"#009af9\" fill-rule=\"evenodd\" fill-opacity=\"1\"/>\n<polyline clip-path=\"url(#clip2602)\" style=\"stroke:#000000; stroke-width:4; stroke-opacity:1; fill:none\" points=\"\n  734.728,1199.68 734.728,1446.71 769.302,1446.71 769.302,1199.68 734.728,1199.68 \n  \"/>\n<path clip-path=\"url(#clip2602)\" d=\"\nM769.302 829.119 L769.302 1446.71 L803.875 1446.71 L803.875 829.119 L769.302 829.119 L769.302 829.119  Z\n  \" fill=\"#009af9\" fill-rule=\"evenodd\" fill-opacity=\"1\"/>\n<polyline clip-path=\"url(#clip2602)\" style=\"stroke:#000000; stroke-width:4; stroke-opacity:1; fill:none\" points=\"\n  769.302,829.119 769.302,1446.71 803.875,1446.71 803.875,829.119 769.302,829.119 \n  \"/>\n<path clip-path=\"url(#clip2602)\" d=\"\nM803.875 582.081 L803.875 1446.71 L838.448 1446.71 L838.448 582.081 L803.875 582.081 L803.875 582.081  Z\n  \" fill=\"#009af9\" fill-rule=\"evenodd\" fill-opacity=\"1\"/>\n<polyline clip-path=\"url(#clip2602)\" style=\"stroke:#000000; stroke-width:4; stroke-opacity:1; fill:none\" points=\"\n  803.875,582.081 803.875,1446.71 838.448,1446.71 838.448,582.081 803.875,582.081 \n  \"/>\n<path clip-path=\"url(#clip2602)\" d=\"\nM838.448 499.735 L838.448 1446.71 L873.021 1446.71 L873.021 499.735 L838.448 499.735 L838.448 499.735  Z\n  \" fill=\"#009af9\" fill-rule=\"evenodd\" fill-opacity=\"1\"/>\n<polyline clip-path=\"url(#clip2602)\" style=\"stroke:#000000; stroke-width:4; stroke-opacity:1; fill:none\" points=\"\n  838.448,499.735 838.448,1446.71 873.021,1446.71 873.021,499.735 838.448,499.735 \n  \"/>\n<path clip-path=\"url(#clip2602)\" d=\"\nM873.021 88.0053 L873.021 1446.71 L907.595 1446.71 L907.595 88.0053 L873.021 88.0053 L873.021 88.0053  Z\n  \" fill=\"#009af9\" fill-rule=\"evenodd\" fill-opacity=\"1\"/>\n<polyline clip-path=\"url(#clip2602)\" style=\"stroke:#000000; stroke-width:4; stroke-opacity:1; fill:none\" points=\"\n  873.021,88.0053 873.021,1446.71 907.595,1446.71 907.595,88.0053 873.021,88.0053 \n  \"/>\n<path clip-path=\"url(#clip2602)\" d=\"\nM907.595 129.178 L907.595 1446.71 L942.168 1446.71 L942.168 129.178 L907.595 129.178 L907.595 129.178  Z\n  \" fill=\"#009af9\" fill-rule=\"evenodd\" fill-opacity=\"1\"/>\n<polyline clip-path=\"url(#clip2602)\" style=\"stroke:#000000; stroke-width:4; stroke-opacity:1; fill:none\" points=\"\n  907.595,129.178 907.595,1446.71 942.168,1446.71 942.168,129.178 907.595,129.178 \n  \"/>\n<path clip-path=\"url(#clip2602)\" d=\"\nM942.168 787.946 L942.168 1446.71 L976.741 1446.71 L976.741 787.946 L942.168 787.946 L942.168 787.946  Z\n  \" fill=\"#009af9\" fill-rule=\"evenodd\" fill-opacity=\"1\"/>\n<polyline clip-path=\"url(#clip2602)\" style=\"stroke:#000000; stroke-width:4; stroke-opacity:1; fill:none\" points=\"\n  942.168,787.946 942.168,1446.71 976.741,1446.71 976.741,787.946 942.168,787.946 \n  \"/>\n<path clip-path=\"url(#clip2602)\" d=\"\nM976.741 293.87 L976.741 1446.71 L1011.31 1446.71 L1011.31 293.87 L976.741 293.87 L976.741 293.87  Z\n  \" fill=\"#009af9\" fill-rule=\"evenodd\" fill-opacity=\"1\"/>\n<polyline clip-path=\"url(#clip2602)\" style=\"stroke:#000000; stroke-width:4; stroke-opacity:1; fill:none\" points=\"\n  976.741,293.87 976.741,1446.71 1011.31,1446.71 1011.31,293.87 976.741,293.87 \n  \"/>\n<path clip-path=\"url(#clip2602)\" d=\"\nM1011.31 211.524 L1011.31 1446.71 L1045.89 1446.71 L1045.89 211.524 L1011.31 211.524 L1011.31 211.524  Z\n  \" fill=\"#009af9\" fill-rule=\"evenodd\" fill-opacity=\"1\"/>\n<polyline clip-path=\"url(#clip2602)\" style=\"stroke:#000000; stroke-width:4; stroke-opacity:1; fill:none\" points=\"\n  1011.31,211.524 1011.31,1446.71 1045.89,1446.71 1045.89,211.524 1011.31,211.524 \n  \"/>\n<path clip-path=\"url(#clip2602)\" d=\"\nM1045.89 540.908 L1045.89 1446.71 L1080.46 1446.71 L1080.46 540.908 L1045.89 540.908 L1045.89 540.908  Z\n  \" fill=\"#009af9\" fill-rule=\"evenodd\" fill-opacity=\"1\"/>\n<polyline clip-path=\"url(#clip2602)\" style=\"stroke:#000000; stroke-width:4; stroke-opacity:1; fill:none\" points=\"\n  1045.89,540.908 1045.89,1446.71 1080.46,1446.71 1080.46,540.908 1045.89,540.908 \n  \"/>\n<path clip-path=\"url(#clip2602)\" d=\"\nM1080.46 1117.33 L1080.46 1446.71 L1115.03 1446.71 L1115.03 1117.33 L1080.46 1117.33 L1080.46 1117.33  Z\n  \" fill=\"#009af9\" fill-rule=\"evenodd\" fill-opacity=\"1\"/>\n<polyline clip-path=\"url(#clip2602)\" style=\"stroke:#000000; stroke-width:4; stroke-opacity:1; fill:none\" points=\"\n  1080.46,1117.33 1080.46,1446.71 1115.03,1446.71 1115.03,1117.33 1080.46,1117.33 \n  \"/>\n<path clip-path=\"url(#clip2602)\" d=\"\nM1115.03 787.946 L1115.03 1446.71 L1149.61 1446.71 L1149.61 787.946 L1115.03 787.946 L1115.03 787.946  Z\n  \" fill=\"#009af9\" fill-rule=\"evenodd\" fill-opacity=\"1\"/>\n<polyline clip-path=\"url(#clip2602)\" style=\"stroke:#000000; stroke-width:4; stroke-opacity:1; fill:none\" points=\"\n  1115.03,787.946 1115.03,1446.71 1149.61,1446.71 1149.61,787.946 1115.03,787.946 \n  \"/>\n<path clip-path=\"url(#clip2602)\" d=\"\nM1149.61 787.946 L1149.61 1446.71 L1184.18 1446.71 L1184.18 787.946 L1149.61 787.946 L1149.61 787.946  Z\n  \" fill=\"#009af9\" fill-rule=\"evenodd\" fill-opacity=\"1\"/>\n<polyline clip-path=\"url(#clip2602)\" style=\"stroke:#000000; stroke-width:4; stroke-opacity:1; fill:none\" points=\"\n  1149.61,787.946 1149.61,1446.71 1184.18,1446.71 1184.18,787.946 1149.61,787.946 \n  \"/>\n<path clip-path=\"url(#clip2602)\" d=\"\nM1184.18 1323.19 L1184.18 1446.71 L1218.75 1446.71 L1218.75 1323.19 L1184.18 1323.19 L1184.18 1323.19  Z\n  \" fill=\"#009af9\" fill-rule=\"evenodd\" fill-opacity=\"1\"/>\n<polyline clip-path=\"url(#clip2602)\" style=\"stroke:#000000; stroke-width:4; stroke-opacity:1; fill:none\" points=\"\n  1184.18,1323.19 1184.18,1446.71 1218.75,1446.71 1218.75,1323.19 1184.18,1323.19 \n  \"/>\n<path clip-path=\"url(#clip2602)\" d=\"\nM1218.75 1199.68 L1218.75 1446.71 L1253.33 1446.71 L1253.33 1199.68 L1218.75 1199.68 L1218.75 1199.68  Z\n  \" fill=\"#009af9\" fill-rule=\"evenodd\" fill-opacity=\"1\"/>\n<polyline clip-path=\"url(#clip2602)\" style=\"stroke:#000000; stroke-width:4; stroke-opacity:1; fill:none\" points=\"\n  1218.75,1199.68 1218.75,1446.71 1253.33,1446.71 1253.33,1199.68 1218.75,1199.68 \n  \"/>\n<path clip-path=\"url(#clip2602)\" d=\"\nM1253.33 1364.37 L1253.33 1446.71 L1287.9 1446.71 L1287.9 1364.37 L1253.33 1364.37 L1253.33 1364.37  Z\n  \" fill=\"#009af9\" fill-rule=\"evenodd\" fill-opacity=\"1\"/>\n<polyline clip-path=\"url(#clip2602)\" style=\"stroke:#000000; stroke-width:4; stroke-opacity:1; fill:none\" points=\"\n  1253.33,1364.37 1253.33,1446.71 1287.9,1446.71 1287.9,1364.37 1253.33,1364.37 \n  \"/>\n<path clip-path=\"url(#clip2602)\" d=\"\nM1287.9 1323.19 L1287.9 1446.71 L1322.47 1446.71 L1322.47 1323.19 L1287.9 1323.19 L1287.9 1323.19  Z\n  \" fill=\"#009af9\" fill-rule=\"evenodd\" fill-opacity=\"1\"/>\n<polyline clip-path=\"url(#clip2602)\" style=\"stroke:#000000; stroke-width:4; stroke-opacity:1; fill:none\" points=\"\n  1287.9,1323.19 1287.9,1446.71 1322.47,1446.71 1322.47,1323.19 1287.9,1323.19 \n  \"/>\n<path clip-path=\"url(#clip2602)\" d=\"\nM1322.47 1405.54 L1322.47 1446.71 L1357.05 1446.71 L1357.05 1405.54 L1322.47 1405.54 L1322.47 1405.54  Z\n  \" fill=\"#009af9\" fill-rule=\"evenodd\" fill-opacity=\"1\"/>\n<polyline clip-path=\"url(#clip2602)\" style=\"stroke:#000000; stroke-width:4; stroke-opacity:1; fill:none\" points=\"\n  1322.47,1405.54 1322.47,1446.71 1357.05,1446.71 1357.05,1405.54 1322.47,1405.54 \n  \"/>\n<path clip-path=\"url(#clip2602)\" d=\"\nM1357.05 1364.37 L1357.05 1446.71 L1391.62 1446.71 L1391.62 1364.37 L1357.05 1364.37 L1357.05 1364.37  Z\n  \" fill=\"#009af9\" fill-rule=\"evenodd\" fill-opacity=\"1\"/>\n<polyline clip-path=\"url(#clip2602)\" style=\"stroke:#000000; stroke-width:4; stroke-opacity:1; fill:none\" points=\"\n  1357.05,1364.37 1357.05,1446.71 1391.62,1446.71 1391.62,1364.37 1357.05,1364.37 \n  \"/>\n<path clip-path=\"url(#clip2602)\" d=\"\nM1391.62 1446.71 L1391.62 1446.71 L1426.19 1446.71 L1426.19 1446.71 L1391.62 1446.71 L1391.62 1446.71  Z\n  \" fill=\"#009af9\" fill-rule=\"evenodd\" fill-opacity=\"1\"/>\n<polyline clip-path=\"url(#clip2602)\" style=\"stroke:#000000; stroke-width:4; stroke-opacity:1; fill:none\" points=\"\n  1391.62,1446.71 1391.62,1446.71 1426.19,1446.71 1391.62,1446.71 \n  \"/>\n<path clip-path=\"url(#clip2602)\" d=\"\nM1426.19 1446.71 L1426.19 1446.71 L1460.77 1446.71 L1460.77 1446.71 L1426.19 1446.71 L1426.19 1446.71  Z\n  \" fill=\"#009af9\" fill-rule=\"evenodd\" fill-opacity=\"1\"/>\n<polyline clip-path=\"url(#clip2602)\" style=\"stroke:#000000; stroke-width:4; stroke-opacity:1; fill:none\" points=\"\n  1426.19,1446.71 1426.19,1446.71 1460.77,1446.71 1426.19,1446.71 \n  \"/>\n<path clip-path=\"url(#clip2602)\" d=\"\nM1460.77 1446.71 L1460.77 1446.71 L1495.34 1446.71 L1495.34 1446.71 L1460.77 1446.71 L1460.77 1446.71  Z\n  \" fill=\"#009af9\" fill-rule=\"evenodd\" fill-opacity=\"1\"/>\n<polyline clip-path=\"url(#clip2602)\" style=\"stroke:#000000; stroke-width:4; stroke-opacity:1; fill:none\" points=\"\n  1460.77,1446.71 1460.77,1446.71 1495.34,1446.71 1460.77,1446.71 \n  \"/>\n<path clip-path=\"url(#clip2602)\" d=\"\nM1495.34 1446.71 L1495.34 1446.71 L1529.91 1446.71 L1529.91 1446.71 L1495.34 1446.71 L1495.34 1446.71  Z\n  \" fill=\"#009af9\" fill-rule=\"evenodd\" fill-opacity=\"1\"/>\n<polyline clip-path=\"url(#clip2602)\" style=\"stroke:#000000; stroke-width:4; stroke-opacity:1; fill:none\" points=\"\n  1495.34,1446.71 1495.34,1446.71 1529.91,1446.71 1495.34,1446.71 \n  \"/>\n<path clip-path=\"url(#clip2602)\" d=\"\nM1529.91 1446.71 L1529.91 1446.71 L1564.49 1446.71 L1564.49 1446.71 L1529.91 1446.71 L1529.91 1446.71  Z\n  \" fill=\"#009af9\" fill-rule=\"evenodd\" fill-opacity=\"1\"/>\n<polyline clip-path=\"url(#clip2602)\" style=\"stroke:#000000; stroke-width:4; stroke-opacity:1; fill:none\" points=\"\n  1529.91,1446.71 1529.91,1446.71 1564.49,1446.71 1529.91,1446.71 \n  \"/>\n<path clip-path=\"url(#clip2602)\" d=\"\nM1564.49 1446.71 L1564.49 1446.71 L1599.06 1446.71 L1599.06 1446.71 L1564.49 1446.71 L1564.49 1446.71  Z\n  \" fill=\"#009af9\" fill-rule=\"evenodd\" fill-opacity=\"1\"/>\n<polyline clip-path=\"url(#clip2602)\" style=\"stroke:#000000; stroke-width:4; stroke-opacity:1; fill:none\" points=\"\n  1564.49,1446.71 1564.49,1446.71 1599.06,1446.71 1564.49,1446.71 \n  \"/>\n<path clip-path=\"url(#clip2602)\" d=\"\nM1599.06 1446.71 L1599.06 1446.71 L1633.63 1446.71 L1633.63 1446.71 L1599.06 1446.71 L1599.06 1446.71  Z\n  \" fill=\"#009af9\" fill-rule=\"evenodd\" fill-opacity=\"1\"/>\n<polyline clip-path=\"url(#clip2602)\" style=\"stroke:#000000; stroke-width:4; stroke-opacity:1; fill:none\" points=\"\n  1599.06,1446.71 1599.06,1446.71 1633.63,1446.71 1599.06,1446.71 \n  \"/>\n<path clip-path=\"url(#clip2602)\" d=\"\nM1633.63 1446.71 L1633.63 1446.71 L1668.21 1446.71 L1668.21 1446.71 L1633.63 1446.71 L1633.63 1446.71  Z\n  \" fill=\"#009af9\" fill-rule=\"evenodd\" fill-opacity=\"1\"/>\n<polyline clip-path=\"url(#clip2602)\" style=\"stroke:#000000; stroke-width:4; stroke-opacity:1; fill:none\" points=\"\n  1633.63,1446.71 1633.63,1446.71 1668.21,1446.71 1633.63,1446.71 \n  \"/>\n<polyline clip-path=\"url(#clip2602)\" style=\"stroke:#ff0000; stroke-width:12; stroke-opacity:1; fill:none\" points=\"\n  216.13,1446.71 233.416,1446.71 250.703,1446.71 267.99,1446.71 285.276,1446.71 302.563,1446.7 319.85,1446.69 337.136,1446.66 354.423,1446.61 371.709,1446.52 \n  388.996,1446.36 406.283,1446.1 423.569,1445.65 440.856,1444.92 458.142,1443.77 475.429,1441.99 492.716,1439.3 510.002,1435.34 527.289,1429.67 544.576,1421.7 \n  561.862,1410.8 579.149,1396.2 596.435,1377.11 613.722,1352.7 631.009,1322.21 648.295,1284.95 665.582,1240.45 682.869,1188.47 700.155,1129.13 717.442,1062.93 \n  734.728,990.773 752.015,914.007 769.302,834.361 786.588,753.896 803.875,674.904 821.161,599.799 838.448,530.978 855.735,470.687 873.021,420.893 890.308,383.177 \n  907.595,358.647 924.881,347.893 942.168,350.966 959.454,367.403 976.741,396.276 994.028,436.264 1011.31,485.747 1028.6,542.905 1045.89,605.822 1063.17,672.579 \n  1080.46,741.341 1097.75,810.421 1115.03,878.337 1132.32,943.839 1149.61,1005.93 1166.89,1063.87 1184.18,1117.14 1201.47,1165.46 1218.75,1208.73 1236.04,1247.02 \n  1253.33,1280.5 1270.61,1309.48 1287.9,1334.28 1305.19,1355.3 1322.47,1372.95 1339.76,1387.63 1357.05,1399.73 1374.33,1409.61 1391.62,1417.62 1408.91,1424.05 \n  1426.19,1429.18 1443.48,1433.24 1460.77,1436.43 1478.05,1438.91 1495.34,1440.83 1512.63,1442.3 1529.91,1443.43 1547.2,1444.28 1564.49,1444.92 1581.77,1445.4 \n  1599.06,1445.76 1616.35,1446.02 1633.63,1446.22 1650.92,1446.36 1668.21,1446.46 1685.49,1446.54 1702.78,1446.59 1720.07,1446.63 1737.35,1446.65 1754.64,1446.67 \n  1771.93,1446.68 1789.21,1446.69 1806.5,1446.7 1823.79,1446.7 1841.07,1446.71 1858.36,1446.71 1875.65,1446.71 1892.93,1446.71 1910.22,1446.71 1927.51,1446.71 \n  1944.79,1446.71 1962.08,1446.71 1979.36,1446.71 1996.65,1446.71 2013.94,1446.71 2031.22,1446.71 2048.51,1446.71 2065.8,1446.71 2083.08,1446.71 2100.37,1446.71 \n  2117.66,1446.71 2134.94,1446.71 2152.23,1446.71 2169.52,1446.71 2186.8,1446.71 2204.09,1446.71 2221.38,1446.71 2238.66,1446.71 2255.95,1446.71 2273.24,1446.71 \n  2290.52,1446.71 \n  \"/>\n<path clip-path=\"url(#clip2600)\" d=\"\nM1596.77 312.204 L2280.76 312.204 L2280.76 130.764 L1596.77 130.764  Z\n  \" fill=\"#ffffff\" fill-rule=\"evenodd\" fill-opacity=\"1\"/>\n<polyline clip-path=\"url(#clip2600)\" style=\"stroke:#000000; stroke-width:4; stroke-opacity:1; fill:none\" points=\"\n  1596.77,312.204 2280.76,312.204 2280.76,130.764 1596.77,130.764 1596.77,312.204 \n  \"/>\n<path clip-path=\"url(#clip2600)\" d=\"\nM1620.77 215.436 L1764.77 215.436 L1764.77 167.052 L1620.77 167.052 L1620.77 215.436  Z\n  \" fill=\"#009af9\" fill-rule=\"evenodd\" fill-opacity=\"1\"/>\n<polyline clip-path=\"url(#clip2600)\" style=\"stroke:#000000; stroke-width:4; stroke-opacity:1; fill:none\" points=\"\n  1620.77,215.436 1764.77,215.436 1764.77,167.052 1620.77,167.052 1620.77,215.436 \n  \"/>\n<g clip-path=\"url(#clip2600)\">\n<text style=\"fill:#000000; fill-opacity:1; font-family:Arial,Helvetica Neue,Helvetica,sans-serif; font-size:48px; text-anchor:start;\" transform=\"rotate(0, 1788.77, 208.744)\" x=\"1788.77\" y=\"208.744\">Empirical distribution</text>\n</g>\n<polyline clip-path=\"url(#clip2600)\" style=\"stroke:#ff0000; stroke-width:12; stroke-opacity:1; fill:none\" points=\"\n  1620.77,251.724 1764.77,251.724 \n  \"/>\n<g clip-path=\"url(#clip2600)\">\n<text style=\"fill:#000000; fill-opacity:1; font-family:Arial,Helvetica Neue,Helvetica,sans-serif; font-size:48px; text-anchor:start;\" transform=\"rotate(0, 1788.77, 269.224)\" x=\"1788.77\" y=\"269.224\">Tracy-Widom PDF</text>\n</g>\n</svg>\n"
               },
               "type": "node"
              }
             ],
             "instanceArgs": {
              "namespace": "html",
              "tag": "div"
             },
             "nodeType": "DOM",
             "props": {
              "className": "interact-flex-row interact-widget"
             },
             "type": "node"
            }
           }
          },
          "systemjs_options": null
         },
         "nodeType": "Scope",
         "props": {},
         "type": "node"
        }
       ],
       "instanceArgs": {
        "namespace": "html",
        "tag": "div"
       },
       "nodeType": "DOM",
       "props": {},
       "type": "node"
      },
      "text/html": [
       "<div\n",
       "    class=\"webio-mountpoint\"\n",
       "    data-webio-mountpoint=\"7944395750984498631\"\n",
       ">\n",
       "    <script>\n",
       "    if (window.require && require.defined && require.defined(\"nbextensions/webio-jupyter-notebook\")) {\n",
       "        console.log(\"Jupyter WebIO extension detected, not mounting.\");\n",
       "    } else if (window.WebIO) {\n",
       "        WebIO.mount(\n",
       "            document.querySelector('[data-webio-mountpoint=\"7944395750984498631\"]'),\n",
       "            {\"props\":{},\"nodeType\":\"DOM\",\"type\":\"node\",\"instanceArgs\":{\"namespace\":\"html\",\"tag\":\"div\"},\"children\":[{\"props\":{\"className\":\"field interact-widget\"},\"nodeType\":\"DOM\",\"type\":\"node\",\"instanceArgs\":{\"namespace\":\"html\",\"tag\":\"div\"},\"children\":[{\"props\":{},\"nodeType\":\"Scope\",\"type\":\"node\",\"instanceArgs\":{\"imports\":{\"data\":[{\"name\":\"knockout\",\"type\":\"js\",\"url\":\"\\/assetserver\\/254160226b58162a42111ea27214076747de1cf2-knockout.js\"},{\"name\":\"knockout_punches\",\"type\":\"js\",\"url\":\"\\/assetserver\\/2d0bf510fb683322318163f3ec7562806e4b1104-knockout_punches.js\"},{\"name\":null,\"type\":\"js\",\"url\":\"\\/assetserver\\/6ffcdda43c684da84d2ca5dd2027e4a55c68edac-all.js\"},{\"name\":null,\"type\":\"css\",\"url\":\"\\/assetserver\\/b0b44adaed1197b8510174b41f32f09d98a0c28e-style.css\"},{\"name\":null,\"type\":\"css\",\"url\":\"\\/assetserver\\/bbb2e3064bd5f6dfcf2f18fbeb52d9320f251632-bulma_confined.min.css\"}],\"type\":\"async_block\"},\"id\":\"16214519894394556285\",\"handlers\":{\"changes\":[\"(function (val){return (val!=this.model[\\\"changes\\\"]()) ? (this.valueFromJulia[\\\"changes\\\"]=true, this.model[\\\"changes\\\"](val)) : undefined})\"],\"index\":[\"(function (val){return (val!=this.model[\\\"index\\\"]()) ? (this.valueFromJulia[\\\"index\\\"]=true, this.model[\\\"index\\\"](val)) : undefined})\"]},\"systemjs_options\":null,\"mount_callbacks\":[\"function () {\\n    var handler = (function (ko, koPunches) {\\n    ko.punches.enableAll();\\n    ko.bindingHandlers.numericValue = {\\n        init: function(element, valueAccessor, allBindings, data, context) {\\n            var stringified = ko.observable(ko.unwrap(valueAccessor()));\\n            stringified.subscribe(function(value) {\\n                var val = parseFloat(value);\\n                if (!isNaN(val)) {\\n                    valueAccessor()(val);\\n                }\\n            });\\n            valueAccessor().subscribe(function(value) {\\n                var str = JSON.stringify(value);\\n                if ((str == \\\"0\\\") && ([\\\"-0\\\", \\\"-0.\\\"].indexOf(stringified()) >= 0))\\n                     return;\\n                 if ([\\\"null\\\", \\\"\\\"].indexOf(str) >= 0)\\n                     return;\\n                stringified(str);\\n            });\\n            ko.applyBindingsToNode(\\n                element,\\n                {\\n                    value: stringified,\\n                    valueUpdate: allBindings.get('valueUpdate'),\\n                },\\n                context,\\n            );\\n        }\\n    };\\n    var json_data = {\\\"formatted_vals\\\":[\\\"10\\\",\\\"20\\\",\\\"30\\\",\\\"40\\\",\\\"50\\\",\\\"60\\\",\\\"70\\\",\\\"80\\\",\\\"90\\\",\\\"100\\\"],\\\"changes\\\":WebIO.getval({\\\"name\\\":\\\"changes\\\",\\\"scope\\\":\\\"16214519894394556285\\\",\\\"id\\\":\\\"ob_136\\\",\\\"type\\\":\\\"observable\\\"}),\\\"index\\\":WebIO.getval({\\\"name\\\":\\\"index\\\",\\\"scope\\\":\\\"16214519894394556285\\\",\\\"id\\\":\\\"ob_135\\\",\\\"type\\\":\\\"observable\\\"})};\\n    var self = this;\\n    function AppViewModel() {\\n        for (var key in json_data) {\\n            var el = json_data[key];\\n            this[key] = Array.isArray(el) ? ko.observableArray(el) : ko.observable(el);\\n        }\\n        \\n        [this[\\\"formatted_val\\\"]=ko.computed(    function(){\\n        return this.formatted_vals()[parseInt(this.index())-(1)];\\n    }\\n,this)]\\n        [this[\\\"changes\\\"].subscribe((function (val){!(this.valueFromJulia[\\\"changes\\\"]) ? (WebIO.setval({\\\"name\\\":\\\"changes\\\",\\\"scope\\\":\\\"16214519894394556285\\\",\\\"id\\\":\\\"ob_136\\\",\\\"type\\\":\\\"observable\\\"},val)) : undefined; return this.valueFromJulia[\\\"changes\\\"]=false}),self),this[\\\"index\\\"].subscribe((function (val){!(this.valueFromJulia[\\\"index\\\"]) ? (WebIO.setval({\\\"name\\\":\\\"index\\\",\\\"scope\\\":\\\"16214519894394556285\\\",\\\"id\\\":\\\"ob_135\\\",\\\"type\\\":\\\"observable\\\"},val)) : undefined; return this.valueFromJulia[\\\"index\\\"]=false}),self)]\\n        \\n    }\\n    self.model = new AppViewModel();\\n    self.valueFromJulia = {};\\n    for (var key in json_data) {\\n        self.valueFromJulia[key] = false;\\n    }\\n    ko.applyBindings(self.model, self.dom);\\n}\\n);\\n    (WebIO.importBlock({\\\"data\\\":[{\\\"name\\\":\\\"knockout\\\",\\\"type\\\":\\\"js\\\",\\\"url\\\":\\\"\\/assetserver\\/254160226b58162a42111ea27214076747de1cf2-knockout.js\\\"},{\\\"name\\\":\\\"knockout_punches\\\",\\\"type\\\":\\\"js\\\",\\\"url\\\":\\\"\\/assetserver\\/2d0bf510fb683322318163f3ec7562806e4b1104-knockout_punches.js\\\"}],\\\"type\\\":\\\"async_block\\\"})).then((imports) => handler.apply(this, imports));\\n}\\n\"],\"observables\":{\"changes\":{\"sync\":false,\"id\":\"ob_136\",\"value\":0},\"index\":{\"sync\":true,\"id\":\"ob_135\",\"value\":5}}},\"children\":[{\"props\":{\"className\":\"interact-flex-row interact-widget\"},\"nodeType\":\"DOM\",\"type\":\"node\",\"instanceArgs\":{\"namespace\":\"html\",\"tag\":\"div\"},\"children\":[{\"props\":{\"className\":\"interact-flex-row-left\"},\"nodeType\":\"DOM\",\"type\":\"node\",\"instanceArgs\":{\"namespace\":\"html\",\"tag\":\"div\"},\"children\":[{\"props\":{\"className\":\"interact \",\"style\":{\"padding\":\"5px 10px 0px 10px\"}},\"nodeType\":\"DOM\",\"type\":\"node\",\"instanceArgs\":{\"namespace\":\"html\",\"tag\":\"label\"},\"children\":[\"N\"]}]},{\"props\":{\"className\":\"interact-flex-row-center\"},\"nodeType\":\"DOM\",\"type\":\"node\",\"instanceArgs\":{\"namespace\":\"html\",\"tag\":\"div\"},\"children\":[{\"props\":{\"max\":10,\"min\":1,\"attributes\":{\"type\":\"range\",\"data-bind\":\"numericValue: index, valueUpdate: 'input', event: {change: function (){this.changes(this.changes()+1)}}\",\"orient\":\"horizontal\"},\"step\":1,\"className\":\"slider slider is-fullwidth\",\"style\":{}},\"nodeType\":\"DOM\",\"type\":\"node\",\"instanceArgs\":{\"namespace\":\"html\",\"tag\":\"input\"},\"children\":[]}]},{\"props\":{\"className\":\"interact-flex-row-right\"},\"nodeType\":\"DOM\",\"type\":\"node\",\"instanceArgs\":{\"namespace\":\"html\",\"tag\":\"div\"},\"children\":[{\"props\":{\"attributes\":{\"data-bind\":\"text: formatted_val\"}},\"nodeType\":\"DOM\",\"type\":\"node\",\"instanceArgs\":{\"namespace\":\"html\",\"tag\":\"p\"},\"children\":[]}]}]}]}]},{\"props\":{\"className\":\"interact-widget\"},\"nodeType\":\"DOM\",\"type\":\"node\",\"instanceArgs\":{\"namespace\":\"html\",\"tag\":\"div\"},\"children\":[{\"props\":{},\"nodeType\":\"Scope\",\"type\":\"node\",\"instanceArgs\":{\"imports\":{\"data\":[{\"name\":\"knockout\",\"type\":\"js\",\"url\":\"\\/assetserver\\/254160226b58162a42111ea27214076747de1cf2-knockout.js\"},{\"name\":\"knockout_punches\",\"type\":\"js\",\"url\":\"\\/assetserver\\/2d0bf510fb683322318163f3ec7562806e4b1104-knockout_punches.js\"},{\"name\":null,\"type\":\"js\",\"url\":\"\\/assetserver\\/6ffcdda43c684da84d2ca5dd2027e4a55c68edac-all.js\"},{\"name\":null,\"type\":\"css\",\"url\":\"\\/assetserver\\/b0b44adaed1197b8510174b41f32f09d98a0c28e-style.css\"},{\"name\":null,\"type\":\"css\",\"url\":\"\\/assetserver\\/bbb2e3064bd5f6dfcf2f18fbeb52d9320f251632-bulma_confined.min.css\"}],\"type\":\"async_block\"},\"id\":\"2969530746742546447\",\"handlers\":{\"options_js\":[\"(function (val){return (val!=this.model[\\\"options_js\\\"]()) ? (this.valueFromJulia[\\\"options_js\\\"]=true, this.model[\\\"options_js\\\"](val)) : undefined})\"],\"index\":[\"(function (val){return (val!=this.model[\\\"index\\\"]()) ? (this.valueFromJulia[\\\"index\\\"]=true, this.model[\\\"index\\\"](val)) : undefined})\"]},\"systemjs_options\":null,\"mount_callbacks\":[\"function () {\\n    var handler = (function (ko, koPunches) {\\n    ko.punches.enableAll();\\n    ko.bindingHandlers.numericValue = {\\n        init: function(element, valueAccessor, allBindings, data, context) {\\n            var stringified = ko.observable(ko.unwrap(valueAccessor()));\\n            stringified.subscribe(function(value) {\\n                var val = parseFloat(value);\\n                if (!isNaN(val)) {\\n                    valueAccessor()(val);\\n                }\\n            });\\n            valueAccessor().subscribe(function(value) {\\n                var str = JSON.stringify(value);\\n                if ((str == \\\"0\\\") && ([\\\"-0\\\", \\\"-0.\\\"].indexOf(stringified()) >= 0))\\n                     return;\\n                 if ([\\\"null\\\", \\\"\\\"].indexOf(str) >= 0)\\n                     return;\\n                stringified(str);\\n            });\\n            ko.applyBindingsToNode(\\n                element,\\n                {\\n                    value: stringified,\\n                    valueUpdate: allBindings.get('valueUpdate'),\\n                },\\n                context,\\n            );\\n        }\\n    };\\n    var json_data = {\\\"options_js\\\":WebIO.getval({\\\"name\\\":\\\"options_js\\\",\\\"scope\\\":\\\"2969530746742546447\\\",\\\"id\\\":\\\"ob_141\\\",\\\"type\\\":\\\"observable\\\"}),\\\"index\\\":WebIO.getval({\\\"name\\\":\\\"index\\\",\\\"scope\\\":\\\"2969530746742546447\\\",\\\"id\\\":\\\"ob_140\\\",\\\"type\\\":\\\"observable\\\"})};\\n    var self = this;\\n    function AppViewModel() {\\n        for (var key in json_data) {\\n            var el = json_data[key];\\n            this[key] = Array.isArray(el) ? ko.observableArray(el) : ko.observable(el);\\n        }\\n        [this[\\\"update\\\"]=function (val) {this.index(val)}]\\n        \\n        [this[\\\"options_js\\\"].subscribe((function (val){!(this.valueFromJulia[\\\"options_js\\\"]) ? (WebIO.setval({\\\"name\\\":\\\"options_js\\\",\\\"scope\\\":\\\"2969530746742546447\\\",\\\"id\\\":\\\"ob_141\\\",\\\"type\\\":\\\"observable\\\"},val)) : undefined; return this.valueFromJulia[\\\"options_js\\\"]=false}),self),this[\\\"index\\\"].subscribe((function (val){!(this.valueFromJulia[\\\"index\\\"]) ? (WebIO.setval({\\\"name\\\":\\\"index\\\",\\\"scope\\\":\\\"2969530746742546447\\\",\\\"id\\\":\\\"ob_140\\\",\\\"type\\\":\\\"observable\\\"},val)) : undefined; return this.valueFromJulia[\\\"index\\\"]=false}),self)]\\n        \\n    }\\n    self.model = new AppViewModel();\\n    self.valueFromJulia = {};\\n    for (var key in json_data) {\\n        self.valueFromJulia[key] = false;\\n    }\\n    ko.applyBindings(self.model, self.dom);\\n}\\n);\\n    (WebIO.importBlock({\\\"data\\\":[{\\\"name\\\":\\\"knockout\\\",\\\"type\\\":\\\"js\\\",\\\"url\\\":\\\"\\/assetserver\\/254160226b58162a42111ea27214076747de1cf2-knockout.js\\\"},{\\\"name\\\":\\\"knockout_punches\\\",\\\"type\\\":\\\"js\\\",\\\"url\\\":\\\"\\/assetserver\\/2d0bf510fb683322318163f3ec7562806e4b1104-knockout_punches.js\\\"}],\\\"type\\\":\\\"async_block\\\"})).then((imports) => handler.apply(this, imports));\\n}\\n\"],\"observables\":{\"options_js\":{\"sync\":false,\"id\":\"ob_141\",\"value\":[{\"key\":\"Geometric\",\"val\":1,\"id\":\"idSKyeAPkF\"},{\"key\":\"Exponential\",\"val\":2,\"id\":\"id3ls1SmP0\"}]},\"index\":{\"sync\":true,\"id\":\"ob_140\",\"value\":1}}},\"children\":[{\"props\":{\"className\":\"interact-flex-row interact-widget\"},\"nodeType\":\"DOM\",\"type\":\"node\",\"instanceArgs\":{\"namespace\":\"html\",\"tag\":\"div\"},\"children\":[{\"props\":{\"className\":\"interact-flex-row-left\"},\"nodeType\":\"DOM\",\"type\":\"node\",\"instanceArgs\":{\"namespace\":\"html\",\"tag\":\"div\"},\"children\":[{\"props\":{\"className\":\"interact \",\"style\":{\"padding\":\"5px 10px 0px 10px\"}},\"nodeType\":\"DOM\",\"type\":\"node\",\"instanceArgs\":{\"namespace\":\"html\",\"tag\":\"label\"},\"children\":[\"law_name\"]}]},{\"props\":{\"className\":\"interact-flex-row-center\"},\"nodeType\":\"DOM\",\"type\":\"node\",\"instanceArgs\":{\"namespace\":\"html\",\"tag\":\"div\"},\"children\":[{\"props\":{\"attributes\":{\"data-bind\":\"foreach : options_js\"},\"className\":\"buttons has-addons is-centered\"},\"nodeType\":\"DOM\",\"type\":\"node\",\"instanceArgs\":{\"namespace\":\"html\",\"tag\":\"div\"},\"children\":[{\"props\":{\"attributes\":{\"data-bind\":\"click: function (){$root.update(val)}, css: {'is-primary is-selected' : $root.index() == val, 'interact-widget is-medium button ' : true}\"}},\"nodeType\":\"DOM\",\"type\":\"node\",\"instanceArgs\":{\"namespace\":\"html\",\"tag\":\"span\"},\"children\":[{\"props\":{\"attributes\":{\"data-bind\":\"text : key\"}},\"nodeType\":\"DOM\",\"type\":\"node\",\"instanceArgs\":{\"namespace\":\"html\",\"tag\":\"label\"},\"children\":[]}]}]}]},{\"props\":{\"className\":\"interact-flex-row-right\"},\"nodeType\":\"DOM\",\"type\":\"node\",\"instanceArgs\":{\"namespace\":\"html\",\"tag\":\"div\"},\"children\":[{\"props\":{},\"nodeType\":\"DOM\",\"type\":\"node\",\"instanceArgs\":{\"namespace\":\"html\",\"tag\":\"div\"},\"children\":[]}]}]}]}]},{\"props\":{\"className\":\"field interact-widget\"},\"nodeType\":\"DOM\",\"type\":\"node\",\"instanceArgs\":{\"namespace\":\"html\",\"tag\":\"div\"},\"children\":[{\"props\":{},\"nodeType\":\"Scope\",\"type\":\"node\",\"instanceArgs\":{\"imports\":{\"data\":[{\"name\":\"knockout\",\"type\":\"js\",\"url\":\"\\/assetserver\\/254160226b58162a42111ea27214076747de1cf2-knockout.js\"},{\"name\":\"knockout_punches\",\"type\":\"js\",\"url\":\"\\/assetserver\\/2d0bf510fb683322318163f3ec7562806e4b1104-knockout_punches.js\"},{\"name\":null,\"type\":\"js\",\"url\":\"\\/assetserver\\/6ffcdda43c684da84d2ca5dd2027e4a55c68edac-all.js\"},{\"name\":null,\"type\":\"css\",\"url\":\"\\/assetserver\\/b0b44adaed1197b8510174b41f32f09d98a0c28e-style.css\"},{\"name\":null,\"type\":\"css\",\"url\":\"\\/assetserver\\/bbb2e3064bd5f6dfcf2f18fbeb52d9320f251632-bulma_confined.min.css\"}],\"type\":\"async_block\"},\"id\":\"11723669686370652913\",\"handlers\":{\"changes\":[\"(function (val){return (val!=this.model[\\\"changes\\\"]()) ? (this.valueFromJulia[\\\"changes\\\"]=true, this.model[\\\"changes\\\"](val)) : undefined})\"],\"index\":[\"(function (val){return (val!=this.model[\\\"index\\\"]()) ? (this.valueFromJulia[\\\"index\\\"]=true, this.model[\\\"index\\\"](val)) : undefined})\"]},\"systemjs_options\":null,\"mount_callbacks\":[\"function () {\\n    var handler = (function (ko, koPunches) {\\n    ko.punches.enableAll();\\n    ko.bindingHandlers.numericValue = {\\n        init: function(element, valueAccessor, allBindings, data, context) {\\n            var stringified = ko.observable(ko.unwrap(valueAccessor()));\\n            stringified.subscribe(function(value) {\\n                var val = parseFloat(value);\\n                if (!isNaN(val)) {\\n                    valueAccessor()(val);\\n                }\\n            });\\n            valueAccessor().subscribe(function(value) {\\n                var str = JSON.stringify(value);\\n                if ((str == \\\"0\\\") && ([\\\"-0\\\", \\\"-0.\\\"].indexOf(stringified()) >= 0))\\n                     return;\\n                 if ([\\\"null\\\", \\\"\\\"].indexOf(str) >= 0)\\n                     return;\\n                stringified(str);\\n            });\\n            ko.applyBindingsToNode(\\n                element,\\n                {\\n                    value: stringified,\\n                    valueUpdate: allBindings.get('valueUpdate'),\\n                },\\n                context,\\n            );\\n        }\\n    };\\n    var json_data = {\\\"formatted_vals\\\":[\\\"0.1\\\",\\\"0.2\\\",\\\"0.3\\\",\\\"0.4\\\",\\\"0.5\\\",\\\"0.6\\\",\\\"0.7\\\",\\\"0.8\\\",\\\"0.9\\\"],\\\"changes\\\":WebIO.getval({\\\"name\\\":\\\"changes\\\",\\\"scope\\\":\\\"11723669686370652913\\\",\\\"id\\\":\\\"ob_144\\\",\\\"type\\\":\\\"observable\\\"}),\\\"index\\\":WebIO.getval({\\\"name\\\":\\\"index\\\",\\\"scope\\\":\\\"11723669686370652913\\\",\\\"id\\\":\\\"ob_143\\\",\\\"type\\\":\\\"observable\\\"})};\\n    var self = this;\\n    function AppViewModel() {\\n        for (var key in json_data) {\\n            var el = json_data[key];\\n            this[key] = Array.isArray(el) ? ko.observableArray(el) : ko.observable(el);\\n        }\\n        \\n        [this[\\\"formatted_val\\\"]=ko.computed(    function(){\\n        return this.formatted_vals()[parseInt(this.index())-(1)];\\n    }\\n,this)]\\n        [this[\\\"changes\\\"].subscribe((function (val){!(this.valueFromJulia[\\\"changes\\\"]) ? (WebIO.setval({\\\"name\\\":\\\"changes\\\",\\\"scope\\\":\\\"11723669686370652913\\\",\\\"id\\\":\\\"ob_144\\\",\\\"type\\\":\\\"observable\\\"},val)) : undefined; return this.valueFromJulia[\\\"changes\\\"]=false}),self),this[\\\"index\\\"].subscribe((function (val){!(this.valueFromJulia[\\\"index\\\"]) ? (WebIO.setval({\\\"name\\\":\\\"index\\\",\\\"scope\\\":\\\"11723669686370652913\\\",\\\"id\\\":\\\"ob_143\\\",\\\"type\\\":\\\"observable\\\"},val)) : undefined; return this.valueFromJulia[\\\"index\\\"]=false}),self)]\\n        \\n    }\\n    self.model = new AppViewModel();\\n    self.valueFromJulia = {};\\n    for (var key in json_data) {\\n        self.valueFromJulia[key] = false;\\n    }\\n    ko.applyBindings(self.model, self.dom);\\n}\\n);\\n    (WebIO.importBlock({\\\"data\\\":[{\\\"name\\\":\\\"knockout\\\",\\\"type\\\":\\\"js\\\",\\\"url\\\":\\\"\\/assetserver\\/254160226b58162a42111ea27214076747de1cf2-knockout.js\\\"},{\\\"name\\\":\\\"knockout_punches\\\",\\\"type\\\":\\\"js\\\",\\\"url\\\":\\\"\\/assetserver\\/2d0bf510fb683322318163f3ec7562806e4b1104-knockout_punches.js\\\"}],\\\"type\\\":\\\"async_block\\\"})).then((imports) => handler.apply(this, imports));\\n}\\n\"],\"observables\":{\"changes\":{\"sync\":false,\"id\":\"ob_144\",\"value\":0},\"index\":{\"sync\":true,\"id\":\"ob_143\",\"value\":5}}},\"children\":[{\"props\":{\"className\":\"interact-flex-row interact-widget\"},\"nodeType\":\"DOM\",\"type\":\"node\",\"instanceArgs\":{\"namespace\":\"html\",\"tag\":\"div\"},\"children\":[{\"props\":{\"className\":\"interact-flex-row-left\"},\"nodeType\":\"DOM\",\"type\":\"node\",\"instanceArgs\":{\"namespace\":\"html\",\"tag\":\"div\"},\"children\":[{\"props\":{\"className\":\"interact \",\"style\":{\"padding\":\"5px 10px 0px 10px\"}},\"nodeType\":\"DOM\",\"type\":\"node\",\"instanceArgs\":{\"namespace\":\"html\",\"tag\":\"label\"},\"children\":[\"q\"]}]},{\"props\":{\"className\":\"interact-flex-row-center\"},\"nodeType\":\"DOM\",\"type\":\"node\",\"instanceArgs\":{\"namespace\":\"html\",\"tag\":\"div\"},\"children\":[{\"props\":{\"max\":9,\"min\":1,\"attributes\":{\"type\":\"range\",\"data-bind\":\"numericValue: index, valueUpdate: 'input', event: {change: function (){this.changes(this.changes()+1)}}\",\"orient\":\"horizontal\"},\"step\":1,\"className\":\"slider slider is-fullwidth\",\"style\":{}},\"nodeType\":\"DOM\",\"type\":\"node\",\"instanceArgs\":{\"namespace\":\"html\",\"tag\":\"input\"},\"children\":[]}]},{\"props\":{\"className\":\"interact-flex-row-right\"},\"nodeType\":\"DOM\",\"type\":\"node\",\"instanceArgs\":{\"namespace\":\"html\",\"tag\":\"div\"},\"children\":[{\"props\":{\"attributes\":{\"data-bind\":\"text: formatted_val\"}},\"nodeType\":\"DOM\",\"type\":\"node\",\"instanceArgs\":{\"namespace\":\"html\",\"tag\":\"p\"},\"children\":[]}]}]}]}]},{\"props\":{\"className\":\"field interact-widget\"},\"nodeType\":\"DOM\",\"type\":\"node\",\"instanceArgs\":{\"namespace\":\"html\",\"tag\":\"div\"},\"children\":[{\"props\":{},\"nodeType\":\"Scope\",\"type\":\"node\",\"instanceArgs\":{\"imports\":{\"data\":[{\"name\":\"knockout\",\"type\":\"js\",\"url\":\"\\/assetserver\\/254160226b58162a42111ea27214076747de1cf2-knockout.js\"},{\"name\":\"knockout_punches\",\"type\":\"js\",\"url\":\"\\/assetserver\\/2d0bf510fb683322318163f3ec7562806e4b1104-knockout_punches.js\"},{\"name\":null,\"type\":\"js\",\"url\":\"\\/assetserver\\/6ffcdda43c684da84d2ca5dd2027e4a55c68edac-all.js\"},{\"name\":null,\"type\":\"css\",\"url\":\"\\/assetserver\\/b0b44adaed1197b8510174b41f32f09d98a0c28e-style.css\"},{\"name\":null,\"type\":\"css\",\"url\":\"\\/assetserver\\/bbb2e3064bd5f6dfcf2f18fbeb52d9320f251632-bulma_confined.min.css\"}],\"type\":\"async_block\"},\"id\":\"1725859443039429207\",\"handlers\":{\"changes\":[\"(function (val){return (val!=this.model[\\\"changes\\\"]()) ? (this.valueFromJulia[\\\"changes\\\"]=true, this.model[\\\"changes\\\"](val)) : undefined})\"],\"index\":[\"(function (val){return (val!=this.model[\\\"index\\\"]()) ? (this.valueFromJulia[\\\"index\\\"]=true, this.model[\\\"index\\\"](val)) : undefined})\"]},\"systemjs_options\":null,\"mount_callbacks\":[\"function () {\\n    var handler = (function (ko, koPunches) {\\n    ko.punches.enableAll();\\n    ko.bindingHandlers.numericValue = {\\n        init: function(element, valueAccessor, allBindings, data, context) {\\n            var stringified = ko.observable(ko.unwrap(valueAccessor()));\\n            stringified.subscribe(function(value) {\\n                var val = parseFloat(value);\\n                if (!isNaN(val)) {\\n                    valueAccessor()(val);\\n                }\\n            });\\n            valueAccessor().subscribe(function(value) {\\n                var str = JSON.stringify(value);\\n                if ((str == \\\"0\\\") && ([\\\"-0\\\", \\\"-0.\\\"].indexOf(stringified()) >= 0))\\n                     return;\\n                 if ([\\\"null\\\", \\\"\\\"].indexOf(str) >= 0)\\n                     return;\\n                stringified(str);\\n            });\\n            ko.applyBindingsToNode(\\n                element,\\n                {\\n                    value: stringified,\\n                    valueUpdate: allBindings.get('valueUpdate'),\\n                },\\n                context,\\n            );\\n        }\\n    };\\n    var json_data = {\\\"formatted_vals\\\":[\\\"1\\\",\\\"2\\\",\\\"3\\\",\\\"4\\\",\\\"5\\\",\\\"6\\\",\\\"7\\\",\\\"8\\\",\\\"9\\\",\\\"10\\\"],\\\"changes\\\":WebIO.getval({\\\"name\\\":\\\"changes\\\",\\\"scope\\\":\\\"1725859443039429207\\\",\\\"id\\\":\\\"ob_146\\\",\\\"type\\\":\\\"observable\\\"}),\\\"index\\\":WebIO.getval({\\\"name\\\":\\\"index\\\",\\\"scope\\\":\\\"1725859443039429207\\\",\\\"id\\\":\\\"ob_145\\\",\\\"type\\\":\\\"observable\\\"})};\\n    var self = this;\\n    function AppViewModel() {\\n        for (var key in json_data) {\\n            var el = json_data[key];\\n            this[key] = Array.isArray(el) ? ko.observableArray(el) : ko.observable(el);\\n        }\\n        \\n        [this[\\\"formatted_val\\\"]=ko.computed(    function(){\\n        return this.formatted_vals()[parseInt(this.index())-(1)];\\n    }\\n,this)]\\n        [this[\\\"changes\\\"].subscribe((function (val){!(this.valueFromJulia[\\\"changes\\\"]) ? (WebIO.setval({\\\"name\\\":\\\"changes\\\",\\\"scope\\\":\\\"1725859443039429207\\\",\\\"id\\\":\\\"ob_146\\\",\\\"type\\\":\\\"observable\\\"},val)) : undefined; return this.valueFromJulia[\\\"changes\\\"]=false}),self),this[\\\"index\\\"].subscribe((function (val){!(this.valueFromJulia[\\\"index\\\"]) ? (WebIO.setval({\\\"name\\\":\\\"index\\\",\\\"scope\\\":\\\"1725859443039429207\\\",\\\"id\\\":\\\"ob_145\\\",\\\"type\\\":\\\"observable\\\"},val)) : undefined; return this.valueFromJulia[\\\"index\\\"]=false}),self)]\\n        \\n    }\\n    self.model = new AppViewModel();\\n    self.valueFromJulia = {};\\n    for (var key in json_data) {\\n        self.valueFromJulia[key] = false;\\n    }\\n    ko.applyBindings(self.model, self.dom);\\n}\\n);\\n    (WebIO.importBlock({\\\"data\\\":[{\\\"name\\\":\\\"knockout\\\",\\\"type\\\":\\\"js\\\",\\\"url\\\":\\\"\\/assetserver\\/254160226b58162a42111ea27214076747de1cf2-knockout.js\\\"},{\\\"name\\\":\\\"knockout_punches\\\",\\\"type\\\":\\\"js\\\",\\\"url\\\":\\\"\\/assetserver\\/2d0bf510fb683322318163f3ec7562806e4b1104-knockout_punches.js\\\"}],\\\"type\\\":\\\"async_block\\\"})).then((imports) => handler.apply(this, imports));\\n}\\n\"],\"observables\":{\"changes\":{\"sync\":false,\"id\":\"ob_146\",\"value\":0},\"index\":{\"sync\":true,\"id\":\"ob_145\",\"value\":5}}},\"children\":[{\"props\":{\"className\":\"interact-flex-row interact-widget\"},\"nodeType\":\"DOM\",\"type\":\"node\",\"instanceArgs\":{\"namespace\":\"html\",\"tag\":\"div\"},\"children\":[{\"props\":{\"className\":\"interact-flex-row-left\"},\"nodeType\":\"DOM\",\"type\":\"node\",\"instanceArgs\":{\"namespace\":\"html\",\"tag\":\"div\"},\"children\":[{\"props\":{\"className\":\"interact \",\"style\":{\"padding\":\"5px 10px 0px 10px\"}},\"nodeType\":\"DOM\",\"type\":\"node\",\"instanceArgs\":{\"namespace\":\"html\",\"tag\":\"label\"},\"children\":[\"λ\"]}]},{\"props\":{\"className\":\"interact-flex-row-center\"},\"nodeType\":\"DOM\",\"type\":\"node\",\"instanceArgs\":{\"namespace\":\"html\",\"tag\":\"div\"},\"children\":[{\"props\":{\"max\":10,\"min\":1,\"attributes\":{\"type\":\"range\",\"data-bind\":\"numericValue: index, valueUpdate: 'input', event: {change: function (){this.changes(this.changes()+1)}}\",\"orient\":\"horizontal\"},\"step\":1,\"className\":\"slider slider is-fullwidth\",\"style\":{}},\"nodeType\":\"DOM\",\"type\":\"node\",\"instanceArgs\":{\"namespace\":\"html\",\"tag\":\"input\"},\"children\":[]}]},{\"props\":{\"className\":\"interact-flex-row-right\"},\"nodeType\":\"DOM\",\"type\":\"node\",\"instanceArgs\":{\"namespace\":\"html\",\"tag\":\"div\"},\"children\":[{\"props\":{\"attributes\":{\"data-bind\":\"text: formatted_val\"}},\"nodeType\":\"DOM\",\"type\":\"node\",\"instanceArgs\":{\"namespace\":\"html\",\"tag\":\"p\"},\"children\":[]}]}]}]}]},{\"props\":{},\"nodeType\":\"Scope\",\"type\":\"node\",\"instanceArgs\":{\"imports\":{\"data\":[],\"type\":\"async_block\"},\"id\":\"10278552130657275928\",\"handlers\":{},\"systemjs_options\":null,\"mount_callbacks\":[],\"observables\":{\"obs-node\":{\"sync\":false,\"id\":\"ob_150\",\"value\":{\"props\":{\"className\":\"interact-flex-row interact-widget\"},\"nodeType\":\"DOM\",\"type\":\"node\",\"instanceArgs\":{\"namespace\":\"html\",\"tag\":\"div\"},\"children\":[{\"props\":{\"setInnerHtml\":\"<?xml version=\\\"1.0\\\" encoding=\\\"utf-8\\\"?>\\n<svg xmlns=\\\"http:\\/\\/www.w3.org\\/2000\\/svg\\\" xmlns:xlink=\\\"http:\\/\\/www.w3.org\\/1999\\/xlink\\\" width=\\\"600\\\" height=\\\"400\\\" viewBox=\\\"0 0 2400 1600\\\">\\n<defs>\\n  <clipPath id=\\\"clip2200\\\">\\n    <rect x=\\\"0\\\" y=\\\"0\\\" width=\\\"2400\\\" height=\\\"1600\\\"\\/>\\n  <\\/clipPath>\\n<\\/defs>\\n<path clip-path=\\\"url(#clip2200)\\\" d=\\\"\\nM0 1600 L2400 1600 L2400 0 L0 0  Z\\n  \\\" fill=\\\"#ffffff\\\" fill-rule=\\\"evenodd\\\" fill-opacity=\\\"1\\\"\\/>\\n<defs>\\n  <clipPath id=\\\"clip2201\\\">\\n    <rect x=\\\"480\\\" y=\\\"0\\\" width=\\\"1681\\\" height=\\\"1600\\\"\\/>\\n  <\\/clipPath>\\n<\\/defs>\\n<path clip-path=\\\"url(#clip2200)\\\" d=\\\"\\nM153.898 1487.47 L2352.76 1487.47 L2352.76 47.2441 L153.898 47.2441  Z\\n  \\\" fill=\\\"#ffffff\\\" fill-rule=\\\"evenodd\\\" fill-opacity=\\\"1\\\"\\/>\\n<defs>\\n  <clipPath id=\\\"clip2202\\\">\\n    <rect x=\\\"153\\\" y=\\\"47\\\" width=\\\"2200\\\" height=\\\"1441\\\"\\/>\\n  <\\/clipPath>\\n<\\/defs>\\n<polyline clip-path=\\\"url(#clip2202)\\\" style=\\\"stroke:#000000; stroke-width:2; stroke-opacity:0.1; fill:none\\\" points=\\\"\\n  388.996,1487.47 388.996,47.2441 \\n  \\\"\\/>\\n<polyline clip-path=\\\"url(#clip2202)\\\" style=\\\"stroke:#000000; stroke-width:2; stroke-opacity:0.1; fill:none\\\" points=\\\"\\n  821.161,1487.47 821.161,47.2441 \\n  \\\"\\/>\\n<polyline clip-path=\\\"url(#clip2202)\\\" style=\\\"stroke:#000000; stroke-width:2; stroke-opacity:0.1; fill:none\\\" points=\\\"\\n  1253.33,1487.47 1253.33,47.2441 \\n  \\\"\\/>\\n<polyline clip-path=\\\"url(#clip2202)\\\" style=\\\"stroke:#000000; stroke-width:2; stroke-opacity:0.1; fill:none\\\" points=\\\"\\n  1685.49,1487.47 1685.49,47.2441 \\n  \\\"\\/>\\n<polyline clip-path=\\\"url(#clip2202)\\\" style=\\\"stroke:#000000; stroke-width:2; stroke-opacity:0.1; fill:none\\\" points=\\\"\\n  2117.66,1487.47 2117.66,47.2441 \\n  \\\"\\/>\\n<polyline clip-path=\\\"url(#clip2202)\\\" style=\\\"stroke:#000000; stroke-width:2; stroke-opacity:0.1; fill:none\\\" points=\\\"\\n  153.898,1446.71 2352.76,1446.71 \\n  \\\"\\/>\\n<polyline clip-path=\\\"url(#clip2202)\\\" style=\\\"stroke:#000000; stroke-width:2; stroke-opacity:0.1; fill:none\\\" points=\\\"\\n  153.898,1199.68 2352.76,1199.68 \\n  \\\"\\/>\\n<polyline clip-path=\\\"url(#clip2202)\\\" style=\\\"stroke:#000000; stroke-width:2; stroke-opacity:0.1; fill:none\\\" points=\\\"\\n  153.898,952.638 2352.76,952.638 \\n  \\\"\\/>\\n<polyline clip-path=\\\"url(#clip2202)\\\" style=\\\"stroke:#000000; stroke-width:2; stroke-opacity:0.1; fill:none\\\" points=\\\"\\n  153.898,705.6 2352.76,705.6 \\n  \\\"\\/>\\n<polyline clip-path=\\\"url(#clip2202)\\\" style=\\\"stroke:#000000; stroke-width:2; stroke-opacity:0.1; fill:none\\\" points=\\\"\\n  153.898,458.562 2352.76,458.562 \\n  \\\"\\/>\\n<polyline clip-path=\\\"url(#clip2202)\\\" style=\\\"stroke:#000000; stroke-width:2; stroke-opacity:0.1; fill:none\\\" points=\\\"\\n  153.898,211.524 2352.76,211.524 \\n  \\\"\\/>\\n<polyline clip-path=\\\"url(#clip2200)\\\" style=\\\"stroke:#000000; stroke-width:4; stroke-opacity:1; fill:none\\\" points=\\\"\\n  153.898,1487.47 2352.76,1487.47 \\n  \\\"\\/>\\n<polyline clip-path=\\\"url(#clip2200)\\\" style=\\\"stroke:#000000; stroke-width:4; stroke-opacity:1; fill:none\\\" points=\\\"\\n  153.898,1487.47 153.898,47.2441 \\n  \\\"\\/>\\n<polyline clip-path=\\\"url(#clip2200)\\\" style=\\\"stroke:#000000; stroke-width:4; stroke-opacity:1; fill:none\\\" points=\\\"\\n  388.996,1487.47 388.996,1465.87 \\n  \\\"\\/>\\n<polyline clip-path=\\\"url(#clip2200)\\\" style=\\\"stroke:#000000; stroke-width:4; stroke-opacity:1; fill:none\\\" points=\\\"\\n  821.161,1487.47 821.161,1465.87 \\n  \\\"\\/>\\n<polyline clip-path=\\\"url(#clip2200)\\\" style=\\\"stroke:#000000; stroke-width:4; stroke-opacity:1; fill:none\\\" points=\\\"\\n  1253.33,1487.47 1253.33,1465.87 \\n  \\\"\\/>\\n<polyline clip-path=\\\"url(#clip2200)\\\" style=\\\"stroke:#000000; stroke-width:4; stroke-opacity:1; fill:none\\\" points=\\\"\\n  1685.49,1487.47 1685.49,1465.87 \\n  \\\"\\/>\\n<polyline clip-path=\\\"url(#clip2200)\\\" style=\\\"stroke:#000000; stroke-width:4; stroke-opacity:1; fill:none\\\" points=\\\"\\n  2117.66,1487.47 2117.66,1465.87 \\n  \\\"\\/>\\n<polyline clip-path=\\\"url(#clip2200)\\\" style=\\\"stroke:#000000; stroke-width:4; stroke-opacity:1; fill:none\\\" points=\\\"\\n  153.898,1446.71 186.881,1446.71 \\n  \\\"\\/>\\n<polyline clip-path=\\\"url(#clip2200)\\\" style=\\\"stroke:#000000; stroke-width:4; stroke-opacity:1; fill:none\\\" points=\\\"\\n  153.898,1199.68 186.881,1199.68 \\n  \\\"\\/>\\n<polyline clip-path=\\\"url(#clip2200)\\\" style=\\\"stroke:#000000; stroke-width:4; stroke-opacity:1; fill:none\\\" points=\\\"\\n  153.898,952.638 186.881,952.638 \\n  \\\"\\/>\\n<polyline clip-path=\\\"url(#clip2200)\\\" style=\\\"stroke:#000000; stroke-width:4; stroke-opacity:1; fill:none\\\" points=\\\"\\n  153.898,705.6 186.881,705.6 \\n  \\\"\\/>\\n<polyline clip-path=\\\"url(#clip2200)\\\" style=\\\"stroke:#000000; stroke-width:4; stroke-opacity:1; fill:none\\\" points=\\\"\\n  153.898,458.562 186.881,458.562 \\n  \\\"\\/>\\n<polyline clip-path=\\\"url(#clip2200)\\\" style=\\\"stroke:#000000; stroke-width:4; stroke-opacity:1; fill:none\\\" points=\\\"\\n  153.898,211.524 186.881,211.524 \\n  \\\"\\/>\\n<g clip-path=\\\"url(#clip2200)\\\">\\n<text style=\\\"fill:#000000; fill-opacity:1; font-family:Arial,Helvetica Neue,Helvetica,sans-serif; font-size:48px; text-anchor:middle;\\\" transform=\\\"rotate(0, 388.996, 1541.47)\\\" x=\\\"388.996\\\" y=\\\"1541.47\\\">-5.0<\\/text>\\n<\\/g>\\n<g clip-path=\\\"url(#clip2200)\\\">\\n<text style=\\\"fill:#000000; fill-opacity:1; font-family:Arial,Helvetica Neue,Helvetica,sans-serif; font-size:48px; text-anchor:middle;\\\" transform=\\\"rotate(0, 821.161, 1541.47)\\\" x=\\\"821.161\\\" y=\\\"1541.47\\\">-2.5<\\/text>\\n<\\/g>\\n<g clip-path=\\\"url(#clip2200)\\\">\\n<text style=\\\"fill:#000000; fill-opacity:1; font-family:Arial,Helvetica Neue,Helvetica,sans-serif; font-size:48px; text-anchor:middle;\\\" transform=\\\"rotate(0, 1253.33, 1541.47)\\\" x=\\\"1253.33\\\" y=\\\"1541.47\\\">0.0<\\/text>\\n<\\/g>\\n<g clip-path=\\\"url(#clip2200)\\\">\\n<text style=\\\"fill:#000000; fill-opacity:1; font-family:Arial,Helvetica Neue,Helvetica,sans-serif; font-size:48px; text-anchor:middle;\\\" transform=\\\"rotate(0, 1685.49, 1541.47)\\\" x=\\\"1685.49\\\" y=\\\"1541.47\\\">2.5<\\/text>\\n<\\/g>\\n<g clip-path=\\\"url(#clip2200)\\\">\\n<text style=\\\"fill:#000000; fill-opacity:1; font-family:Arial,Helvetica Neue,Helvetica,sans-serif; font-size:48px; text-anchor:middle;\\\" transform=\\\"rotate(0, 2117.66, 1541.47)\\\" x=\\\"2117.66\\\" y=\\\"1541.47\\\">5.0<\\/text>\\n<\\/g>\\n<g clip-path=\\\"url(#clip2200)\\\">\\n<text style=\\\"fill:#000000; fill-opacity:1; font-family:Arial,Helvetica Neue,Helvetica,sans-serif; font-size:48px; text-anchor:end;\\\" transform=\\\"rotate(0, 129.898, 1464.21)\\\" x=\\\"129.898\\\" y=\\\"1464.21\\\">0.0<\\/text>\\n<\\/g>\\n<g clip-path=\\\"url(#clip2200)\\\">\\n<text style=\\\"fill:#000000; fill-opacity:1; font-family:Arial,Helvetica Neue,Helvetica,sans-serif; font-size:48px; text-anchor:end;\\\" transform=\\\"rotate(0, 129.898, 1217.18)\\\" x=\\\"129.898\\\" y=\\\"1217.18\\\">0.1<\\/text>\\n<\\/g>\\n<g clip-path=\\\"url(#clip2200)\\\">\\n<text style=\\\"fill:#000000; fill-opacity:1; font-family:Arial,Helvetica Neue,Helvetica,sans-serif; font-size:48px; text-anchor:end;\\\" transform=\\\"rotate(0, 129.898, 970.138)\\\" x=\\\"129.898\\\" y=\\\"970.138\\\">0.2<\\/text>\\n<\\/g>\\n<g clip-path=\\\"url(#clip2200)\\\">\\n<text style=\\\"fill:#000000; fill-opacity:1; font-family:Arial,Helvetica Neue,Helvetica,sans-serif; font-size:48px; text-anchor:end;\\\" transform=\\\"rotate(0, 129.898, 723.1)\\\" x=\\\"129.898\\\" y=\\\"723.1\\\">0.3<\\/text>\\n<\\/g>\\n<g clip-path=\\\"url(#clip2200)\\\">\\n<text style=\\\"fill:#000000; fill-opacity:1; font-family:Arial,Helvetica Neue,Helvetica,sans-serif; font-size:48px; text-anchor:end;\\\" transform=\\\"rotate(0, 129.898, 476.062)\\\" x=\\\"129.898\\\" y=\\\"476.062\\\">0.4<\\/text>\\n<\\/g>\\n<g clip-path=\\\"url(#clip2200)\\\">\\n<text style=\\\"fill:#000000; fill-opacity:1; font-family:Arial,Helvetica Neue,Helvetica,sans-serif; font-size:48px; text-anchor:end;\\\" transform=\\\"rotate(0, 129.898, 229.024)\\\" x=\\\"129.898\\\" y=\\\"229.024\\\">0.5<\\/text>\\n<\\/g>\\n<path clip-path=\\\"url(#clip2202)\\\" d=\\\"\\nM388.996 1446.71 L388.996 1446.71 L423.569 1446.71 L423.569 1446.71 L388.996 1446.71 L388.996 1446.71  Z\\n  \\\" fill=\\\"#009af9\\\" fill-rule=\\\"evenodd\\\" fill-opacity=\\\"1\\\"\\/>\\n<polyline clip-path=\\\"url(#clip2202)\\\" style=\\\"stroke:#000000; stroke-width:4; stroke-opacity:1; fill:none\\\" points=\\\"\\n  388.996,1446.71 388.996,1446.71 423.569,1446.71 388.996,1446.71 \\n  \\\"\\/>\\n<path clip-path=\\\"url(#clip2202)\\\" d=\\\"\\nM423.569 1446.71 L423.569 1446.71 L458.142 1446.71 L458.142 1446.71 L423.569 1446.71 L423.569 1446.71  Z\\n  \\\" fill=\\\"#009af9\\\" fill-rule=\\\"evenodd\\\" fill-opacity=\\\"1\\\"\\/>\\n<polyline clip-path=\\\"url(#clip2202)\\\" style=\\\"stroke:#000000; stroke-width:4; stroke-opacity:1; fill:none\\\" points=\\\"\\n  423.569,1446.71 423.569,1446.71 458.142,1446.71 423.569,1446.71 \\n  \\\"\\/>\\n<path clip-path=\\\"url(#clip2202)\\\" d=\\\"\\nM458.142 1446.71 L458.142 1446.71 L492.716 1446.71 L492.716 1446.71 L458.142 1446.71 L458.142 1446.71  Z\\n  \\\" fill=\\\"#009af9\\\" fill-rule=\\\"evenodd\\\" fill-opacity=\\\"1\\\"\\/>\\n<polyline clip-path=\\\"url(#clip2202)\\\" style=\\\"stroke:#000000; stroke-width:4; stroke-opacity:1; fill:none\\\" points=\\\"\\n  458.142,1446.71 458.142,1446.71 492.716,1446.71 458.142,1446.71 \\n  \\\"\\/>\\n<path clip-path=\\\"url(#clip2202)\\\" d=\\\"\\nM492.716 1446.71 L492.716 1446.71 L527.289 1446.71 L527.289 1446.71 L492.716 1446.71 L492.716 1446.71  Z\\n  \\\" fill=\\\"#009af9\\\" fill-rule=\\\"evenodd\\\" fill-opacity=\\\"1\\\"\\/>\\n<polyline clip-path=\\\"url(#clip2202)\\\" style=\\\"stroke:#000000; stroke-width:4; stroke-opacity:1; fill:none\\\" points=\\\"\\n  492.716,1446.71 492.716,1446.71 527.289,1446.71 492.716,1446.71 \\n  \\\"\\/>\\n<path clip-path=\\\"url(#clip2202)\\\" d=\\\"\\nM527.289 1446.71 L527.289 1446.71 L561.862 1446.71 L561.862 1446.71 L527.289 1446.71 L527.289 1446.71  Z\\n  \\\" fill=\\\"#009af9\\\" fill-rule=\\\"evenodd\\\" fill-opacity=\\\"1\\\"\\/>\\n<polyline clip-path=\\\"url(#clip2202)\\\" style=\\\"stroke:#000000; stroke-width:4; stroke-opacity:1; fill:none\\\" points=\\\"\\n  527.289,1446.71 527.289,1446.71 561.862,1446.71 527.289,1446.71 \\n  \\\"\\/>\\n<path clip-path=\\\"url(#clip2202)\\\" d=\\\"\\nM561.862 1446.71 L561.862 1446.71 L596.435 1446.71 L596.435 1446.71 L561.862 1446.71 L561.862 1446.71  Z\\n  \\\" fill=\\\"#009af9\\\" fill-rule=\\\"evenodd\\\" fill-opacity=\\\"1\\\"\\/>\\n<polyline clip-path=\\\"url(#clip2202)\\\" style=\\\"stroke:#000000; stroke-width:4; stroke-opacity:1; fill:none\\\" points=\\\"\\n  561.862,1446.71 561.862,1446.71 596.435,1446.71 561.862,1446.71 \\n  \\\"\\/>\\n<path clip-path=\\\"url(#clip2202)\\\" d=\\\"\\nM596.435 1405.54 L596.435 1446.71 L631.009 1446.71 L631.009 1405.54 L596.435 1405.54 L596.435 1405.54  Z\\n  \\\" fill=\\\"#009af9\\\" fill-rule=\\\"evenodd\\\" fill-opacity=\\\"1\\\"\\/>\\n<polyline clip-path=\\\"url(#clip2202)\\\" style=\\\"stroke:#000000; stroke-width:4; stroke-opacity:1; fill:none\\\" points=\\\"\\n  596.435,1405.54 596.435,1446.71 631.009,1446.71 631.009,1405.54 596.435,1405.54 \\n  \\\"\\/>\\n<path clip-path=\\\"url(#clip2202)\\\" d=\\\"\\nM631.009 1364.37 L631.009 1446.71 L665.582 1446.71 L665.582 1364.37 L631.009 1364.37 L631.009 1364.37  Z\\n  \\\" fill=\\\"#009af9\\\" fill-rule=\\\"evenodd\\\" fill-opacity=\\\"1\\\"\\/>\\n<polyline clip-path=\\\"url(#clip2202)\\\" style=\\\"stroke:#000000; stroke-width:4; stroke-opacity:1; fill:none\\\" points=\\\"\\n  631.009,1364.37 631.009,1446.71 665.582,1446.71 665.582,1364.37 631.009,1364.37 \\n  \\\"\\/>\\n<path clip-path=\\\"url(#clip2202)\\\" d=\\\"\\nM665.582 1282.02 L665.582 1446.71 L700.155 1446.71 L700.155 1282.02 L665.582 1282.02 L665.582 1282.02  Z\\n  \\\" fill=\\\"#009af9\\\" fill-rule=\\\"evenodd\\\" fill-opacity=\\\"1\\\"\\/>\\n<polyline clip-path=\\\"url(#clip2202)\\\" style=\\\"stroke:#000000; stroke-width:4; stroke-opacity:1; fill:none\\\" points=\\\"\\n  665.582,1282.02 665.582,1446.71 700.155,1446.71 700.155,1282.02 665.582,1282.02 \\n  \\\"\\/>\\n<path clip-path=\\\"url(#clip2202)\\\" d=\\\"\\nM700.155 1034.98 L700.155 1446.71 L734.728 1446.71 L734.728 1034.98 L700.155 1034.98 L700.155 1034.98  Z\\n  \\\" fill=\\\"#009af9\\\" fill-rule=\\\"evenodd\\\" fill-opacity=\\\"1\\\"\\/>\\n<polyline clip-path=\\\"url(#clip2202)\\\" style=\\\"stroke:#000000; stroke-width:4; stroke-opacity:1; fill:none\\\" points=\\\"\\n  700.155,1034.98 700.155,1446.71 734.728,1446.71 734.728,1034.98 700.155,1034.98 \\n  \\\"\\/>\\n<path clip-path=\\\"url(#clip2202)\\\" d=\\\"\\nM734.728 1199.68 L734.728 1446.71 L769.302 1446.71 L769.302 1199.68 L734.728 1199.68 L734.728 1199.68  Z\\n  \\\" fill=\\\"#009af9\\\" fill-rule=\\\"evenodd\\\" fill-opacity=\\\"1\\\"\\/>\\n<polyline clip-path=\\\"url(#clip2202)\\\" style=\\\"stroke:#000000; stroke-width:4; stroke-opacity:1; fill:none\\\" points=\\\"\\n  734.728,1199.68 734.728,1446.71 769.302,1446.71 769.302,1199.68 734.728,1199.68 \\n  \\\"\\/>\\n<path clip-path=\\\"url(#clip2202)\\\" d=\\\"\\nM769.302 829.119 L769.302 1446.71 L803.875 1446.71 L803.875 829.119 L769.302 829.119 L769.302 829.119  Z\\n  \\\" fill=\\\"#009af9\\\" fill-rule=\\\"evenodd\\\" fill-opacity=\\\"1\\\"\\/>\\n<polyline clip-path=\\\"url(#clip2202)\\\" style=\\\"stroke:#000000; stroke-width:4; stroke-opacity:1; fill:none\\\" points=\\\"\\n  769.302,829.119 769.302,1446.71 803.875,1446.71 803.875,829.119 769.302,829.119 \\n  \\\"\\/>\\n<path clip-path=\\\"url(#clip2202)\\\" d=\\\"\\nM803.875 582.081 L803.875 1446.71 L838.448 1446.71 L838.448 582.081 L803.875 582.081 L803.875 582.081  Z\\n  \\\" fill=\\\"#009af9\\\" fill-rule=\\\"evenodd\\\" fill-opacity=\\\"1\\\"\\/>\\n<polyline clip-path=\\\"url(#clip2202)\\\" style=\\\"stroke:#000000; stroke-width:4; stroke-opacity:1; fill:none\\\" points=\\\"\\n  803.875,582.081 803.875,1446.71 838.448,1446.71 838.448,582.081 803.875,582.081 \\n  \\\"\\/>\\n<path clip-path=\\\"url(#clip2202)\\\" d=\\\"\\nM838.448 499.735 L838.448 1446.71 L873.021 1446.71 L873.021 499.735 L838.448 499.735 L838.448 499.735  Z\\n  \\\" fill=\\\"#009af9\\\" fill-rule=\\\"evenodd\\\" fill-opacity=\\\"1\\\"\\/>\\n<polyline clip-path=\\\"url(#clip2202)\\\" style=\\\"stroke:#000000; stroke-width:4; stroke-opacity:1; fill:none\\\" points=\\\"\\n  838.448,499.735 838.448,1446.71 873.021,1446.71 873.021,499.735 838.448,499.735 \\n  \\\"\\/>\\n<path clip-path=\\\"url(#clip2202)\\\" d=\\\"\\nM873.021 88.0053 L873.021 1446.71 L907.595 1446.71 L907.595 88.0053 L873.021 88.0053 L873.021 88.0053  Z\\n  \\\" fill=\\\"#009af9\\\" fill-rule=\\\"evenodd\\\" fill-opacity=\\\"1\\\"\\/>\\n<polyline clip-path=\\\"url(#clip2202)\\\" style=\\\"stroke:#000000; stroke-width:4; stroke-opacity:1; fill:none\\\" points=\\\"\\n  873.021,88.0053 873.021,1446.71 907.595,1446.71 907.595,88.0053 873.021,88.0053 \\n  \\\"\\/>\\n<path clip-path=\\\"url(#clip2202)\\\" d=\\\"\\nM907.595 129.178 L907.595 1446.71 L942.168 1446.71 L942.168 129.178 L907.595 129.178 L907.595 129.178  Z\\n  \\\" fill=\\\"#009af9\\\" fill-rule=\\\"evenodd\\\" fill-opacity=\\\"1\\\"\\/>\\n<polyline clip-path=\\\"url(#clip2202)\\\" style=\\\"stroke:#000000; stroke-width:4; stroke-opacity:1; fill:none\\\" points=\\\"\\n  907.595,129.178 907.595,1446.71 942.168,1446.71 942.168,129.178 907.595,129.178 \\n  \\\"\\/>\\n<path clip-path=\\\"url(#clip2202)\\\" d=\\\"\\nM942.168 787.946 L942.168 1446.71 L976.741 1446.71 L976.741 787.946 L942.168 787.946 L942.168 787.946  Z\\n  \\\" fill=\\\"#009af9\\\" fill-rule=\\\"evenodd\\\" fill-opacity=\\\"1\\\"\\/>\\n<polyline clip-path=\\\"url(#clip2202)\\\" style=\\\"stroke:#000000; stroke-width:4; stroke-opacity:1; fill:none\\\" points=\\\"\\n  942.168,787.946 942.168,1446.71 976.741,1446.71 976.741,787.946 942.168,787.946 \\n  \\\"\\/>\\n<path clip-path=\\\"url(#clip2202)\\\" d=\\\"\\nM976.741 293.87 L976.741 1446.71 L1011.31 1446.71 L1011.31 293.87 L976.741 293.87 L976.741 293.87  Z\\n  \\\" fill=\\\"#009af9\\\" fill-rule=\\\"evenodd\\\" fill-opacity=\\\"1\\\"\\/>\\n<polyline clip-path=\\\"url(#clip2202)\\\" style=\\\"stroke:#000000; stroke-width:4; stroke-opacity:1; fill:none\\\" points=\\\"\\n  976.741,293.87 976.741,1446.71 1011.31,1446.71 1011.31,293.87 976.741,293.87 \\n  \\\"\\/>\\n<path clip-path=\\\"url(#clip2202)\\\" d=\\\"\\nM1011.31 211.524 L1011.31 1446.71 L1045.89 1446.71 L1045.89 211.524 L1011.31 211.524 L1011.31 211.524  Z\\n  \\\" fill=\\\"#009af9\\\" fill-rule=\\\"evenodd\\\" fill-opacity=\\\"1\\\"\\/>\\n<polyline clip-path=\\\"url(#clip2202)\\\" style=\\\"stroke:#000000; stroke-width:4; stroke-opacity:1; fill:none\\\" points=\\\"\\n  1011.31,211.524 1011.31,1446.71 1045.89,1446.71 1045.89,211.524 1011.31,211.524 \\n  \\\"\\/>\\n<path clip-path=\\\"url(#clip2202)\\\" d=\\\"\\nM1045.89 540.908 L1045.89 1446.71 L1080.46 1446.71 L1080.46 540.908 L1045.89 540.908 L1045.89 540.908  Z\\n  \\\" fill=\\\"#009af9\\\" fill-rule=\\\"evenodd\\\" fill-opacity=\\\"1\\\"\\/>\\n<polyline clip-path=\\\"url(#clip2202)\\\" style=\\\"stroke:#000000; stroke-width:4; stroke-opacity:1; fill:none\\\" points=\\\"\\n  1045.89,540.908 1045.89,1446.71 1080.46,1446.71 1080.46,540.908 1045.89,540.908 \\n  \\\"\\/>\\n<path clip-path=\\\"url(#clip2202)\\\" d=\\\"\\nM1080.46 1117.33 L1080.46 1446.71 L1115.03 1446.71 L1115.03 1117.33 L1080.46 1117.33 L1080.46 1117.33  Z\\n  \\\" fill=\\\"#009af9\\\" fill-rule=\\\"evenodd\\\" fill-opacity=\\\"1\\\"\\/>\\n<polyline clip-path=\\\"url(#clip2202)\\\" style=\\\"stroke:#000000; stroke-width:4; stroke-opacity:1; fill:none\\\" points=\\\"\\n  1080.46,1117.33 1080.46,1446.71 1115.03,1446.71 1115.03,1117.33 1080.46,1117.33 \\n  \\\"\\/>\\n<path clip-path=\\\"url(#clip2202)\\\" d=\\\"\\nM1115.03 787.946 L1115.03 1446.71 L1149.61 1446.71 L1149.61 787.946 L1115.03 787.946 L1115.03 787.946  Z\\n  \\\" fill=\\\"#009af9\\\" fill-rule=\\\"evenodd\\\" fill-opacity=\\\"1\\\"\\/>\\n<polyline clip-path=\\\"url(#clip2202)\\\" style=\\\"stroke:#000000; stroke-width:4; stroke-opacity:1; fill:none\\\" points=\\\"\\n  1115.03,787.946 1115.03,1446.71 1149.61,1446.71 1149.61,787.946 1115.03,787.946 \\n  \\\"\\/>\\n<path clip-path=\\\"url(#clip2202)\\\" d=\\\"\\nM1149.61 787.946 L1149.61 1446.71 L1184.18 1446.71 L1184.18 787.946 L1149.61 787.946 L1149.61 787.946  Z\\n  \\\" fill=\\\"#009af9\\\" fill-rule=\\\"evenodd\\\" fill-opacity=\\\"1\\\"\\/>\\n<polyline clip-path=\\\"url(#clip2202)\\\" style=\\\"stroke:#000000; stroke-width:4; stroke-opacity:1; fill:none\\\" points=\\\"\\n  1149.61,787.946 1149.61,1446.71 1184.18,1446.71 1184.18,787.946 1149.61,787.946 \\n  \\\"\\/>\\n<path clip-path=\\\"url(#clip2202)\\\" d=\\\"\\nM1184.18 1323.19 L1184.18 1446.71 L1218.75 1446.71 L1218.75 1323.19 L1184.18 1323.19 L1184.18 1323.19  Z\\n  \\\" fill=\\\"#009af9\\\" fill-rule=\\\"evenodd\\\" fill-opacity=\\\"1\\\"\\/>\\n<polyline clip-path=\\\"url(#clip2202)\\\" style=\\\"stroke:#000000; stroke-width:4; stroke-opacity:1; fill:none\\\" points=\\\"\\n  1184.18,1323.19 1184.18,1446.71 1218.75,1446.71 1218.75,1323.19 1184.18,1323.19 \\n  \\\"\\/>\\n<path clip-path=\\\"url(#clip2202)\\\" d=\\\"\\nM1218.75 1199.68 L1218.75 1446.71 L1253.33 1446.71 L1253.33 1199.68 L1218.75 1199.68 L1218.75 1199.68  Z\\n  \\\" fill=\\\"#009af9\\\" fill-rule=\\\"evenodd\\\" fill-opacity=\\\"1\\\"\\/>\\n<polyline clip-path=\\\"url(#clip2202)\\\" style=\\\"stroke:#000000; stroke-width:4; stroke-opacity:1; fill:none\\\" points=\\\"\\n  1218.75,1199.68 1218.75,1446.71 1253.33,1446.71 1253.33,1199.68 1218.75,1199.68 \\n  \\\"\\/>\\n<path clip-path=\\\"url(#clip2202)\\\" d=\\\"\\nM1253.33 1364.37 L1253.33 1446.71 L1287.9 1446.71 L1287.9 1364.37 L1253.33 1364.37 L1253.33 1364.37  Z\\n  \\\" fill=\\\"#009af9\\\" fill-rule=\\\"evenodd\\\" fill-opacity=\\\"1\\\"\\/>\\n<polyline clip-path=\\\"url(#clip2202)\\\" style=\\\"stroke:#000000; stroke-width:4; stroke-opacity:1; fill:none\\\" points=\\\"\\n  1253.33,1364.37 1253.33,1446.71 1287.9,1446.71 1287.9,1364.37 1253.33,1364.37 \\n  \\\"\\/>\\n<path clip-path=\\\"url(#clip2202)\\\" d=\\\"\\nM1287.9 1323.19 L1287.9 1446.71 L1322.47 1446.71 L1322.47 1323.19 L1287.9 1323.19 L1287.9 1323.19  Z\\n  \\\" fill=\\\"#009af9\\\" fill-rule=\\\"evenodd\\\" fill-opacity=\\\"1\\\"\\/>\\n<polyline clip-path=\\\"url(#clip2202)\\\" style=\\\"stroke:#000000; stroke-width:4; stroke-opacity:1; fill:none\\\" points=\\\"\\n  1287.9,1323.19 1287.9,1446.71 1322.47,1446.71 1322.47,1323.19 1287.9,1323.19 \\n  \\\"\\/>\\n<path clip-path=\\\"url(#clip2202)\\\" d=\\\"\\nM1322.47 1405.54 L1322.47 1446.71 L1357.05 1446.71 L1357.05 1405.54 L1322.47 1405.54 L1322.47 1405.54  Z\\n  \\\" fill=\\\"#009af9\\\" fill-rule=\\\"evenodd\\\" fill-opacity=\\\"1\\\"\\/>\\n<polyline clip-path=\\\"url(#clip2202)\\\" style=\\\"stroke:#000000; stroke-width:4; stroke-opacity:1; fill:none\\\" points=\\\"\\n  1322.47,1405.54 1322.47,1446.71 1357.05,1446.71 1357.05,1405.54 1322.47,1405.54 \\n  \\\"\\/>\\n<path clip-path=\\\"url(#clip2202)\\\" d=\\\"\\nM1357.05 1364.37 L1357.05 1446.71 L1391.62 1446.71 L1391.62 1364.37 L1357.05 1364.37 L1357.05 1364.37  Z\\n  \\\" fill=\\\"#009af9\\\" fill-rule=\\\"evenodd\\\" fill-opacity=\\\"1\\\"\\/>\\n<polyline clip-path=\\\"url(#clip2202)\\\" style=\\\"stroke:#000000; stroke-width:4; stroke-opacity:1; fill:none\\\" points=\\\"\\n  1357.05,1364.37 1357.05,1446.71 1391.62,1446.71 1391.62,1364.37 1357.05,1364.37 \\n  \\\"\\/>\\n<path clip-path=\\\"url(#clip2202)\\\" d=\\\"\\nM1391.62 1446.71 L1391.62 1446.71 L1426.19 1446.71 L1426.19 1446.71 L1391.62 1446.71 L1391.62 1446.71  Z\\n  \\\" fill=\\\"#009af9\\\" fill-rule=\\\"evenodd\\\" fill-opacity=\\\"1\\\"\\/>\\n<polyline clip-path=\\\"url(#clip2202)\\\" style=\\\"stroke:#000000; stroke-width:4; stroke-opacity:1; fill:none\\\" points=\\\"\\n  1391.62,1446.71 1391.62,1446.71 1426.19,1446.71 1391.62,1446.71 \\n  \\\"\\/>\\n<path clip-path=\\\"url(#clip2202)\\\" d=\\\"\\nM1426.19 1446.71 L1426.19 1446.71 L1460.77 1446.71 L1460.77 1446.71 L1426.19 1446.71 L1426.19 1446.71  Z\\n  \\\" fill=\\\"#009af9\\\" fill-rule=\\\"evenodd\\\" fill-opacity=\\\"1\\\"\\/>\\n<polyline clip-path=\\\"url(#clip2202)\\\" style=\\\"stroke:#000000; stroke-width:4; stroke-opacity:1; fill:none\\\" points=\\\"\\n  1426.19,1446.71 1426.19,1446.71 1460.77,1446.71 1426.19,1446.71 \\n  \\\"\\/>\\n<path clip-path=\\\"url(#clip2202)\\\" d=\\\"\\nM1460.77 1446.71 L1460.77 1446.71 L1495.34 1446.71 L1495.34 1446.71 L1460.77 1446.71 L1460.77 1446.71  Z\\n  \\\" fill=\\\"#009af9\\\" fill-rule=\\\"evenodd\\\" fill-opacity=\\\"1\\\"\\/>\\n<polyline clip-path=\\\"url(#clip2202)\\\" style=\\\"stroke:#000000; stroke-width:4; stroke-opacity:1; fill:none\\\" points=\\\"\\n  1460.77,1446.71 1460.77,1446.71 1495.34,1446.71 1460.77,1446.71 \\n  \\\"\\/>\\n<path clip-path=\\\"url(#clip2202)\\\" d=\\\"\\nM1495.34 1446.71 L1495.34 1446.71 L1529.91 1446.71 L1529.91 1446.71 L1495.34 1446.71 L1495.34 1446.71  Z\\n  \\\" fill=\\\"#009af9\\\" fill-rule=\\\"evenodd\\\" fill-opacity=\\\"1\\\"\\/>\\n<polyline clip-path=\\\"url(#clip2202)\\\" style=\\\"stroke:#000000; stroke-width:4; stroke-opacity:1; fill:none\\\" points=\\\"\\n  1495.34,1446.71 1495.34,1446.71 1529.91,1446.71 1495.34,1446.71 \\n  \\\"\\/>\\n<path clip-path=\\\"url(#clip2202)\\\" d=\\\"\\nM1529.91 1446.71 L1529.91 1446.71 L1564.49 1446.71 L1564.49 1446.71 L1529.91 1446.71 L1529.91 1446.71  Z\\n  \\\" fill=\\\"#009af9\\\" fill-rule=\\\"evenodd\\\" fill-opacity=\\\"1\\\"\\/>\\n<polyline clip-path=\\\"url(#clip2202)\\\" style=\\\"stroke:#000000; stroke-width:4; stroke-opacity:1; fill:none\\\" points=\\\"\\n  1529.91,1446.71 1529.91,1446.71 1564.49,1446.71 1529.91,1446.71 \\n  \\\"\\/>\\n<path clip-path=\\\"url(#clip2202)\\\" d=\\\"\\nM1564.49 1446.71 L1564.49 1446.71 L1599.06 1446.71 L1599.06 1446.71 L1564.49 1446.71 L1564.49 1446.71  Z\\n  \\\" fill=\\\"#009af9\\\" fill-rule=\\\"evenodd\\\" fill-opacity=\\\"1\\\"\\/>\\n<polyline clip-path=\\\"url(#clip2202)\\\" style=\\\"stroke:#000000; stroke-width:4; stroke-opacity:1; fill:none\\\" points=\\\"\\n  1564.49,1446.71 1564.49,1446.71 1599.06,1446.71 1564.49,1446.71 \\n  \\\"\\/>\\n<path clip-path=\\\"url(#clip2202)\\\" d=\\\"\\nM1599.06 1446.71 L1599.06 1446.71 L1633.63 1446.71 L1633.63 1446.71 L1599.06 1446.71 L1599.06 1446.71  Z\\n  \\\" fill=\\\"#009af9\\\" fill-rule=\\\"evenodd\\\" fill-opacity=\\\"1\\\"\\/>\\n<polyline clip-path=\\\"url(#clip2202)\\\" style=\\\"stroke:#000000; stroke-width:4; stroke-opacity:1; fill:none\\\" points=\\\"\\n  1599.06,1446.71 1599.06,1446.71 1633.63,1446.71 1599.06,1446.71 \\n  \\\"\\/>\\n<path clip-path=\\\"url(#clip2202)\\\" d=\\\"\\nM1633.63 1446.71 L1633.63 1446.71 L1668.21 1446.71 L1668.21 1446.71 L1633.63 1446.71 L1633.63 1446.71  Z\\n  \\\" fill=\\\"#009af9\\\" fill-rule=\\\"evenodd\\\" fill-opacity=\\\"1\\\"\\/>\\n<polyline clip-path=\\\"url(#clip2202)\\\" style=\\\"stroke:#000000; stroke-width:4; stroke-opacity:1; fill:none\\\" points=\\\"\\n  1633.63,1446.71 1633.63,1446.71 1668.21,1446.71 1633.63,1446.71 \\n  \\\"\\/>\\n<polyline clip-path=\\\"url(#clip2202)\\\" style=\\\"stroke:#ff0000; stroke-width:12; stroke-opacity:1; fill:none\\\" points=\\\"\\n  216.13,1446.71 233.416,1446.71 250.703,1446.71 267.99,1446.71 285.276,1446.71 302.563,1446.7 319.85,1446.69 337.136,1446.66 354.423,1446.61 371.709,1446.52 \\n  388.996,1446.36 406.283,1446.1 423.569,1445.65 440.856,1444.92 458.142,1443.77 475.429,1441.99 492.716,1439.3 510.002,1435.34 527.289,1429.67 544.576,1421.7 \\n  561.862,1410.8 579.149,1396.2 596.435,1377.11 613.722,1352.7 631.009,1322.21 648.295,1284.95 665.582,1240.45 682.869,1188.47 700.155,1129.13 717.442,1062.93 \\n  734.728,990.773 752.015,914.007 769.302,834.361 786.588,753.896 803.875,674.904 821.161,599.799 838.448,530.978 855.735,470.687 873.021,420.893 890.308,383.177 \\n  907.595,358.647 924.881,347.893 942.168,350.966 959.454,367.403 976.741,396.276 994.028,436.264 1011.31,485.747 1028.6,542.905 1045.89,605.822 1063.17,672.579 \\n  1080.46,741.341 1097.75,810.421 1115.03,878.337 1132.32,943.839 1149.61,1005.93 1166.89,1063.87 1184.18,1117.14 1201.47,1165.46 1218.75,1208.73 1236.04,1247.02 \\n  1253.33,1280.5 1270.61,1309.48 1287.9,1334.28 1305.19,1355.3 1322.47,1372.95 1339.76,1387.63 1357.05,1399.73 1374.33,1409.61 1391.62,1417.62 1408.91,1424.05 \\n  1426.19,1429.18 1443.48,1433.24 1460.77,1436.43 1478.05,1438.91 1495.34,1440.83 1512.63,1442.3 1529.91,1443.43 1547.2,1444.28 1564.49,1444.92 1581.77,1445.4 \\n  1599.06,1445.76 1616.35,1446.02 1633.63,1446.22 1650.92,1446.36 1668.21,1446.46 1685.49,1446.54 1702.78,1446.59 1720.07,1446.63 1737.35,1446.65 1754.64,1446.67 \\n  1771.93,1446.68 1789.21,1446.69 1806.5,1446.7 1823.79,1446.7 1841.07,1446.71 1858.36,1446.71 1875.65,1446.71 1892.93,1446.71 1910.22,1446.71 1927.51,1446.71 \\n  1944.79,1446.71 1962.08,1446.71 1979.36,1446.71 1996.65,1446.71 2013.94,1446.71 2031.22,1446.71 2048.51,1446.71 2065.8,1446.71 2083.08,1446.71 2100.37,1446.71 \\n  2117.66,1446.71 2134.94,1446.71 2152.23,1446.71 2169.52,1446.71 2186.8,1446.71 2204.09,1446.71 2221.38,1446.71 2238.66,1446.71 2255.95,1446.71 2273.24,1446.71 \\n  2290.52,1446.71 \\n  \\\"\\/>\\n<path clip-path=\\\"url(#clip2200)\\\" d=\\\"\\nM1596.77 312.204 L2280.76 312.204 L2280.76 130.764 L1596.77 130.764  Z\\n  \\\" fill=\\\"#ffffff\\\" fill-rule=\\\"evenodd\\\" fill-opacity=\\\"1\\\"\\/>\\n<polyline clip-path=\\\"url(#clip2200)\\\" style=\\\"stroke:#000000; stroke-width:4; stroke-opacity:1; fill:none\\\" points=\\\"\\n  1596.77,312.204 2280.76,312.204 2280.76,130.764 1596.77,130.764 1596.77,312.204 \\n  \\\"\\/>\\n<path clip-path=\\\"url(#clip2200)\\\" d=\\\"\\nM1620.77 215.436 L1764.77 215.436 L1764.77 167.052 L1620.77 167.052 L1620.77 215.436  Z\\n  \\\" fill=\\\"#009af9\\\" fill-rule=\\\"evenodd\\\" fill-opacity=\\\"1\\\"\\/>\\n<polyline clip-path=\\\"url(#clip2200)\\\" style=\\\"stroke:#000000; stroke-width:4; stroke-opacity:1; fill:none\\\" points=\\\"\\n  1620.77,215.436 1764.77,215.436 1764.77,167.052 1620.77,167.052 1620.77,215.436 \\n  \\\"\\/>\\n<g clip-path=\\\"url(#clip2200)\\\">\\n<text style=\\\"fill:#000000; fill-opacity:1; font-family:Arial,Helvetica Neue,Helvetica,sans-serif; font-size:48px; text-anchor:start;\\\" transform=\\\"rotate(0, 1788.77, 208.744)\\\" x=\\\"1788.77\\\" y=\\\"208.744\\\">Empirical distribution<\\/text>\\n<\\/g>\\n<polyline clip-path=\\\"url(#clip2200)\\\" style=\\\"stroke:#ff0000; stroke-width:12; stroke-opacity:1; fill:none\\\" points=\\\"\\n  1620.77,251.724 1764.77,251.724 \\n  \\\"\\/>\\n<g clip-path=\\\"url(#clip2200)\\\">\\n<text style=\\\"fill:#000000; fill-opacity:1; font-family:Arial,Helvetica Neue,Helvetica,sans-serif; font-size:48px; text-anchor:start;\\\" transform=\\\"rotate(0, 1788.77, 269.224)\\\" x=\\\"1788.77\\\" y=\\\"269.224\\\">Tracy-Widom PDF<\\/text>\\n<\\/g>\\n<\\/svg>\\n\"},\"nodeType\":\"DOM\",\"type\":\"node\",\"instanceArgs\":{\"namespace\":\"html\",\"tag\":\"div\"},\"children\":[]}]}}}},\"children\":[{\"props\":{},\"nodeType\":\"ObservableNode\",\"type\":\"node\",\"instanceArgs\":{\"id\":\"ob_150\",\"name\":\"obs-node\"},\"children\":[]}]}]},\n",
       "            window,\n",
       "        );\n",
       "    } else {\n",
       "        document\n",
       "            .querySelector('[data-webio-mountpoint=\"7944395750984498631\"]')\n",
       "            .innerHTML = (\n",
       "                '<strong>WebIO not detected. Please read ' +\n",
       "                '<a href=\"https://juliagizmos.github.io/WebIO.jl/latest/troubleshooting/not-detected/\">the troubleshooting guide</a> ' +\n",
       "                'for more information on how to resolve this issue.' +\n",
       "                '</strong>'\n",
       "            );\n",
       "    }\n",
       "    </script>\n",
       "</div>\n"
      ],
      "text/plain": [
       "Node{WebIO.DOM}(WebIO.DOM(:html, :div), Any[Node{WebIO.DOM}(WebIO.DOM(:html, :div), Any[Scope(Node{WebIO.DOM}(WebIO.DOM(:html, :div), Any[Node{WebIO.DOM}(WebIO.DOM(:html, :div), Any[Node{WebIO.DOM}(WebIO.DOM(:html, :label), Any[\"N\"], Dict{Symbol,Any}(:className => \"interact \",:style => Dict{Any,Any}(:padding => \"5px 10px 0px 10px\")))], Dict{Symbol,Any}(:className => \"interact-flex-row-left\")), Node{WebIO.DOM}(WebIO.DOM(:html, :div), Any[Node{WebIO.DOM}(WebIO.DOM(:html, :input), Any[], Dict{Symbol,Any}(:max => 10,:min => 1,:attributes => Dict{Any,Any}(:type => \"range\",Symbol(\"data-bind\") => \"numericValue: index, valueUpdate: 'input', event: {change: function (){this.changes(this.changes()+1)}}\",\"orient\" => \"horizontal\"),:step => 1,:className => \"slider slider is-fullwidth\",:style => Dict{Any,Any}()))], Dict{Symbol,Any}(:className => \"interact-flex-row-center\")), Node{WebIO.DOM}(WebIO.DOM(:html, :div), Any[Node{WebIO.DOM}(WebIO.DOM(:html, :p), Any[], Dict{Symbol,Any}(:attributes => Dict(\"data-bind\" => \"text: formatted_val\")))], Dict{Symbol,Any}(:className => \"interact-flex-row-right\"))], Dict{Symbol,Any}(:className => \"interact-flex-row interact-widget\")), Dict{String,Tuple{Observables.AbstractObservable,Union{Nothing, Bool}}}(\"changes\" => (Observable{Int64} with 1 listeners. Value:\n",
       "0, nothing),\"index\" => (Observable{Any} with 2 listeners. Value:\n",
       "5, nothing)), Set(String[]), nothing, Asset[Asset(\"js\", \"knockout\", \"C:\\\\Users\\\\matte\\\\.julia\\\\packages\\\\Knockout\\\\1sDlc\\\\src\\\\..\\\\assets\\\\knockout.js\"), Asset(\"js\", \"knockout_punches\", \"C:\\\\Users\\\\matte\\\\.julia\\\\packages\\\\Knockout\\\\1sDlc\\\\src\\\\..\\\\assets\\\\knockout_punches.js\"), Asset(\"js\", nothing, \"C:\\\\Users\\\\matte\\\\.julia\\\\packages\\\\InteractBase\\\\9mFwe\\\\src\\\\..\\\\assets\\\\all.js\"), Asset(\"css\", nothing, \"C:\\\\Users\\\\matte\\\\.julia\\\\packages\\\\InteractBase\\\\9mFwe\\\\src\\\\..\\\\assets\\\\style.css\"), Asset(\"css\", nothing, \"C:\\\\Users\\\\matte\\\\.julia\\\\packages\\\\Interact\\\\SbgIk\\\\src\\\\..\\\\assets\\\\bulma_confined.min.css\")], Dict{Any,Any}(\"changes\" => Any[WebIO.JSString(\"(function (val){return (val!=this.model[\\\"changes\\\"]()) ? (this.valueFromJulia[\\\"changes\\\"]=true, this.model[\\\"changes\\\"](val)) : undefined})\")],\"index\" => Any[WebIO.JSString(\"(function (val){return (val!=this.model[\\\"index\\\"]()) ? (this.valueFromJulia[\\\"index\\\"]=true, this.model[\\\"index\\\"](val)) : undefined})\")]), WebIO.ConnectionPool(Channel{Any}(sz_max:32,sz_curr:0), Set(AbstractConnection[]), Base.GenericCondition{Base.AlwaysLockedST}(Base.InvasiveLinkedList{Task}(Task (runnable) @0x0000000013382290, Task (runnable) @0x0000000013382290), Base.AlwaysLockedST(1))), WebIO.JSString[WebIO.JSString(\"function () {\\n    var handler = (function (ko, koPunches) {\\n    ko.punches.enableAll();\\n    ko.bindingHandlers.numericValue = {\\n        init: function(element, valueAccessor, allBindings, data, context) {\\n            var stringified = ko.observable(ko.unwrap(valueAccessor()));\\n            stringified.subscribe(function(value) {\\n                var val = parseFloat(value);\\n                if (!isNaN(val)) {\\n                    valueAccessor()(val);\\n                }\\n            });\\n            valueAccessor().subscribe(function(value) {\\n                var str = JSON.stringify(value);\\n                if ((str == \\\"0\\\") && ([\\\"-0\\\", \\\"-0.\\\"].indexOf(stringified()) >= 0))\\n                     return;\\n                 if ([\\\"null\\\", \\\"\\\"].indexOf(str) >= 0)\\n                     return;\\n                stringified(str);\\n            });\\n            ko.applyBindingsToNode(\\n                element,\\n                {\\n                    value: stringified,\\n                    valueUpdate: allBindings.get('valueUpdate'),\\n                },\\n                context,\\n            );\\n        }\\n    };\\n    var json_data = {\\\"formatted_vals\\\":[\\\"10\\\",\\\"20\\\",\\\"30\\\",\\\"40\\\",\\\"50\\\",\\\"60\\\",\\\"70\\\",\\\"80\\\",\\\"90\\\",\\\"100\\\"],\\\"changes\\\":WebIO.getval({\\\"name\\\":\\\"changes\\\",\\\"scope\\\":\\\"16214519894394556285\\\",\\\"id\\\":\\\"ob_136\\\",\\\"type\\\":\\\"observable\\\"}),\\\"index\\\":WebIO.getval({\\\"name\\\":\\\"index\\\",\\\"scope\\\":\\\"16214519894394556285\\\",\\\"id\\\":\\\"ob_135\\\",\\\"type\\\":\\\"observable\\\"})};\\n    var self = this;\\n    function AppViewModel() {\\n        for (var key in json_data) {\\n            var el = json_data[key];\\n            this[key] = Array.isArray(el) ? ko.observableArray(el) : ko.observable(el);\\n        }\\n        \\n        [this[\\\"formatted_val\\\"]=ko.computed(    function(){\\n        return this.formatted_vals()[parseInt(this.index())-(1)];\\n    }\\n,this)]\\n        [this[\\\"changes\\\"].subscribe((function (val){!(this.valueFromJulia[\\\"changes\\\"]) ? (WebIO.setval({\\\"name\\\":\\\"changes\\\",\\\"scope\\\":\\\"16214519894394556285\\\",\\\"id\\\":\\\"ob_136\\\",\\\"type\\\":\\\"observable\\\"},val)) : undefined; return this.valueFromJulia[\\\"changes\\\"]=false}),self),this[\\\"index\\\"].subscribe((function (val){!(this.valueFromJulia[\\\"index\\\"]) ? (WebIO.setval({\\\"name\\\":\\\"index\\\",\\\"scope\\\":\\\"16214519894394556285\\\",\\\"id\\\":\\\"ob_135\\\",\\\"type\\\":\\\"observable\\\"},val)) : undefined; return this.valueFromJulia[\\\"index\\\"]=false}),self)]\\n        \\n    }\\n    self.model = new AppViewModel();\\n    self.valueFromJulia = {};\\n    for (var key in json_data) {\\n        self.valueFromJulia[key] = false;\\n    }\\n    ko.applyBindings(self.model, self.dom);\\n}\\n);\\n    (WebIO.importBlock({\\\"data\\\":[{\\\"name\\\":\\\"knockout\\\",\\\"type\\\":\\\"js\\\",\\\"url\\\":\\\"/assetserver/254160226b58162a42111ea27214076747de1cf2-knockout.js\\\"},{\\\"name\\\":\\\"knockout_punches\\\",\\\"type\\\":\\\"js\\\",\\\"url\\\":\\\"/assetserver/2d0bf510fb683322318163f3ec7562806e4b1104-knockout_punches.js\\\"}],\\\"type\\\":\\\"async_block\\\"})).then((imports) => handler.apply(this, imports));\\n}\\n\")])], Dict{Symbol,Any}(:className => \"field interact-widget\")), Node{WebIO.DOM}(WebIO.DOM(:html, :div), Any[Scope(Node{WebIO.DOM}(WebIO.DOM(:html, :div), Any[Node{WebIO.DOM}(WebIO.DOM(:html, :div), Any[Node{WebIO.DOM}(WebIO.DOM(:html, :label), Any[\"law_name\"], Dict{Symbol,Any}(:className => \"interact \",:style => Dict{Any,Any}(:padding => \"5px 10px 0px 10px\")))], Dict{Symbol,Any}(:className => \"interact-flex-row-left\")), Node{WebIO.DOM}(WebIO.DOM(:html, :div), Any[Node{WebIO.DOM}(WebIO.DOM(:html, :div), Any[Node{WebIO.DOM}(WebIO.DOM(:html, :span), Any[Node{WebIO.DOM}(WebIO.DOM(:html, :label), Any[], Dict{Symbol,Any}(:attributes => Dict(\"data-bind\" => \"text : key\")))], Dict{Symbol,Any}(:attributes => Dict(\"data-bind\" => \"click: function (){\\$root.update(val)}, css: {'is-primary is-selected' : \\$root.index() == val, 'interact-widget is-medium button ' : true}\")))], Dict{Symbol,Any}(:attributes => (\"data-bind\" => \"foreach : options_js\"),:className => \"buttons has-addons is-centered\"))], Dict{Symbol,Any}(:className => \"interact-flex-row-center\")), Node{WebIO.DOM}(WebIO.DOM(:html, :div), Any[Node{WebIO.DOM}(WebIO.DOM(:html, :div), Any[], Dict{Symbol,Any}())], Dict{Symbol,Any}(:className => \"interact-flex-row-right\"))], Dict{Symbol,Any}(:className => \"interact-flex-row interact-widget\")), Dict{String,Tuple{Observables.AbstractObservable,Union{Nothing, Bool}}}(\"options_js\" => (Observable{Any} with 1 listeners. Value:\n",
       "OrderedDict[OrderedDict{String,Any}(\"key\" => \"Geometric\",\"val\" => 1,\"id\" => \"idSKyeAPkF\"), OrderedDict{String,Any}(\"key\" => \"Exponential\",\"val\" => 2,\"id\" => \"id3ls1SmP0\")], nothing),\"index\" => (Observable{Any} with 2 listeners. Value:\n",
       "1, nothing)), Set(String[]), nothing, Asset[Asset(\"js\", \"knockout\", \"C:\\\\Users\\\\matte\\\\.julia\\\\packages\\\\Knockout\\\\1sDlc\\\\src\\\\..\\\\assets\\\\knockout.js\"), Asset(\"js\", \"knockout_punches\", \"C:\\\\Users\\\\matte\\\\.julia\\\\packages\\\\Knockout\\\\1sDlc\\\\src\\\\..\\\\assets\\\\knockout_punches.js\"), Asset(\"js\", nothing, \"C:\\\\Users\\\\matte\\\\.julia\\\\packages\\\\InteractBase\\\\9mFwe\\\\src\\\\..\\\\assets\\\\all.js\"), Asset(\"css\", nothing, \"C:\\\\Users\\\\matte\\\\.julia\\\\packages\\\\InteractBase\\\\9mFwe\\\\src\\\\..\\\\assets\\\\style.css\"), Asset(\"css\", nothing, \"C:\\\\Users\\\\matte\\\\.julia\\\\packages\\\\Interact\\\\SbgIk\\\\src\\\\..\\\\assets\\\\bulma_confined.min.css\")], Dict{Any,Any}(\"options_js\" => Any[WebIO.JSString(\"(function (val){return (val!=this.model[\\\"options_js\\\"]()) ? (this.valueFromJulia[\\\"options_js\\\"]=true, this.model[\\\"options_js\\\"](val)) : undefined})\")],\"index\" => Any[WebIO.JSString(\"(function (val){return (val!=this.model[\\\"index\\\"]()) ? (this.valueFromJulia[\\\"index\\\"]=true, this.model[\\\"index\\\"](val)) : undefined})\")]), WebIO.ConnectionPool(Channel{Any}(sz_max:32,sz_curr:0), Set(AbstractConnection[]), Base.GenericCondition{Base.AlwaysLockedST}(Base.InvasiveLinkedList{Task}(Task (runnable) @0x0000000013382b30, Task (runnable) @0x0000000013382b30), Base.AlwaysLockedST(1))), WebIO.JSString[WebIO.JSString(\"function () {\\n    var handler = (function (ko, koPunches) {\\n    ko.punches.enableAll();\\n    ko.bindingHandlers.numericValue = {\\n        init: function(element, valueAccessor, allBindings, data, context) {\\n            var stringified = ko.observable(ko.unwrap(valueAccessor()));\\n            stringified.subscribe(function(value) {\\n                var val = parseFloat(value);\\n                if (!isNaN(val)) {\\n                    valueAccessor()(val);\\n                }\\n            });\\n            valueAccessor().subscribe(function(value) {\\n                var str = JSON.stringify(value);\\n                if ((str == \\\"0\\\") && ([\\\"-0\\\", \\\"-0.\\\"].indexOf(stringified()) >= 0))\\n                     return;\\n                 if ([\\\"null\\\", \\\"\\\"].indexOf(str) >= 0)\\n                     return;\\n                stringified(str);\\n            });\\n            ko.applyBindingsToNode(\\n                element,\\n                {\\n                    value: stringified,\\n                    valueUpdate: allBindings.get('valueUpdate'),\\n                },\\n                context,\\n            );\\n        }\\n    };\\n    var json_data = {\\\"options_js\\\":WebIO.getval({\\\"name\\\":\\\"options_js\\\",\\\"scope\\\":\\\"2969530746742546447\\\",\\\"id\\\":\\\"ob_141\\\",\\\"type\\\":\\\"observable\\\"}),\\\"index\\\":WebIO.getval({\\\"name\\\":\\\"index\\\",\\\"scope\\\":\\\"2969530746742546447\\\",\\\"id\\\":\\\"ob_140\\\",\\\"type\\\":\\\"observable\\\"})};\\n    var self = this;\\n    function AppViewModel() {\\n        for (var key in json_data) {\\n            var el = json_data[key];\\n            this[key] = Array.isArray(el) ? ko.observableArray(el) : ko.observable(el);\\n        }\\n        [this[\\\"update\\\"]=function (val) {this.index(val)}]\\n        \\n        [this[\\\"options_js\\\"].subscribe((function (val){!(this.valueFromJulia[\\\"options_js\\\"]) ? (WebIO.setval({\\\"name\\\":\\\"options_js\\\",\\\"scope\\\":\\\"2969530746742546447\\\",\\\"id\\\":\\\"ob_141\\\",\\\"type\\\":\\\"observable\\\"},val)) : undefined; return this.valueFromJulia[\\\"options_js\\\"]=false}),self),this[\\\"index\\\"].subscribe((function (val){!(this.valueFromJulia[\\\"index\\\"]) ? (WebIO.setval({\\\"name\\\":\\\"index\\\",\\\"scope\\\":\\\"2969530746742546447\\\",\\\"id\\\":\\\"ob_140\\\",\\\"type\\\":\\\"observable\\\"},val)) : undefined; return this.valueFromJulia[\\\"index\\\"]=false}),self)]\\n        \\n    }\\n    self.model = new AppViewModel();\\n    self.valueFromJulia = {};\\n    for (var key in json_data) {\\n        self.valueFromJulia[key] = false;\\n    }\\n    ko.applyBindings(self.model, self.dom);\\n}\\n);\\n    (WebIO.importBlock({\\\"data\\\":[{\\\"name\\\":\\\"knockout\\\",\\\"type\\\":\\\"js\\\",\\\"url\\\":\\\"/assetserver/254160226b58162a42111ea27214076747de1cf2-knockout.js\\\"},{\\\"name\\\":\\\"knockout_punches\\\",\\\"type\\\":\\\"js\\\",\\\"url\\\":\\\"/assetserver/2d0bf510fb683322318163f3ec7562806e4b1104-knockout_punches.js\\\"}],\\\"type\\\":\\\"async_block\\\"})).then((imports) => handler.apply(this, imports));\\n}\\n\")])], Dict{Symbol,Any}(:className => \"interact-widget\")), Node{WebIO.DOM}(WebIO.DOM(:html, :div), Any[Scope(Node{WebIO.DOM}(WebIO.DOM(:html, :div), Any[Node{WebIO.DOM}(WebIO.DOM(:html, :div), Any[Node{WebIO.DOM}(WebIO.DOM(:html, :label), Any[\"q\"], Dict{Symbol,Any}(:className => \"interact \",:style => Dict{Any,Any}(:padding => \"5px 10px 0px 10px\")))], Dict{Symbol,Any}(:className => \"interact-flex-row-left\")), Node{WebIO.DOM}(WebIO.DOM(:html, :div), Any[Node{WebIO.DOM}(WebIO.DOM(:html, :input), Any[], Dict{Symbol,Any}(:max => 9,:min => 1,:attributes => Dict{Any,Any}(:type => \"range\",Symbol(\"data-bind\") => \"numericValue: index, valueUpdate: 'input', event: {change: function (){this.changes(this.changes()+1)}}\",\"orient\" => \"horizontal\"),:step => 1,:className => \"slider slider is-fullwidth\",:style => Dict{Any,Any}()))], Dict{Symbol,Any}(:className => \"interact-flex-row-center\")), Node{WebIO.DOM}(WebIO.DOM(:html, :div), Any[Node{WebIO.DOM}(WebIO.DOM(:html, :p), Any[], Dict{Symbol,Any}(:attributes => Dict(\"data-bind\" => \"text: formatted_val\")))], Dict{Symbol,Any}(:className => \"interact-flex-row-right\"))], Dict{Symbol,Any}(:className => \"interact-flex-row interact-widget\")), Dict{String,Tuple{Observables.AbstractObservable,Union{Nothing, Bool}}}(\"changes\" => (Observable{Int64} with 1 listeners. Value:\n",
       "0, nothing),\"index\" => (Observable{Any} with 2 listeners. Value:\n",
       "5, nothing)), Set(String[]), nothing, Asset[Asset(\"js\", \"knockout\", \"C:\\\\Users\\\\matte\\\\.julia\\\\packages\\\\Knockout\\\\1sDlc\\\\src\\\\..\\\\assets\\\\knockout.js\"), Asset(\"js\", \"knockout_punches\", \"C:\\\\Users\\\\matte\\\\.julia\\\\packages\\\\Knockout\\\\1sDlc\\\\src\\\\..\\\\assets\\\\knockout_punches.js\"), Asset(\"js\", nothing, \"C:\\\\Users\\\\matte\\\\.julia\\\\packages\\\\InteractBase\\\\9mFwe\\\\src\\\\..\\\\assets\\\\all.js\"), Asset(\"css\", nothing, \"C:\\\\Users\\\\matte\\\\.julia\\\\packages\\\\InteractBase\\\\9mFwe\\\\src\\\\..\\\\assets\\\\style.css\"), Asset(\"css\", nothing, \"C:\\\\Users\\\\matte\\\\.julia\\\\packages\\\\Interact\\\\SbgIk\\\\src\\\\..\\\\assets\\\\bulma_confined.min.css\")], Dict{Any,Any}(\"changes\" => Any[WebIO.JSString(\"(function (val){return (val!=this.model[\\\"changes\\\"]()) ? (this.valueFromJulia[\\\"changes\\\"]=true, this.model[\\\"changes\\\"](val)) : undefined})\")],\"index\" => Any[WebIO.JSString(\"(function (val){return (val!=this.model[\\\"index\\\"]()) ? (this.valueFromJulia[\\\"index\\\"]=true, this.model[\\\"index\\\"](val)) : undefined})\")]), WebIO.ConnectionPool(Channel{Any}(sz_max:32,sz_curr:0), Set(AbstractConnection[]), Base.GenericCondition{Base.AlwaysLockedST}(Base.InvasiveLinkedList{Task}(Task (runnable) @0x0000000013382e10, Task (runnable) @0x0000000013382e10), Base.AlwaysLockedST(1))), WebIO.JSString[WebIO.JSString(\"function () {\\n    var handler = (function (ko, koPunches) {\\n    ko.punches.enableAll();\\n    ko.bindingHandlers.numericValue = {\\n        init: function(element, valueAccessor, allBindings, data, context) {\\n            var stringified = ko.observable(ko.unwrap(valueAccessor()));\\n            stringified.subscribe(function(value) {\\n                var val = parseFloat(value);\\n                if (!isNaN(val)) {\\n                    valueAccessor()(val);\\n                }\\n            });\\n            valueAccessor().subscribe(function(value) {\\n                var str = JSON.stringify(value);\\n                if ((str == \\\"0\\\") && ([\\\"-0\\\", \\\"-0.\\\"].indexOf(stringified()) >= 0))\\n                     return;\\n                 if ([\\\"null\\\", \\\"\\\"].indexOf(str) >= 0)\\n                     return;\\n                stringified(str);\\n            });\\n            ko.applyBindingsToNode(\\n                element,\\n                {\\n                    value: stringified,\\n                    valueUpdate: allBindings.get('valueUpdate'),\\n                },\\n                context,\\n            );\\n        }\\n    };\\n    var json_data = {\\\"formatted_vals\\\":[\\\"0.1\\\",\\\"0.2\\\",\\\"0.3\\\",\\\"0.4\\\",\\\"0.5\\\",\\\"0.6\\\",\\\"0.7\\\",\\\"0.8\\\",\\\"0.9\\\"],\\\"changes\\\":WebIO.getval({\\\"name\\\":\\\"changes\\\",\\\"scope\\\":\\\"11723669686370652913\\\",\\\"id\\\":\\\"ob_144\\\",\\\"type\\\":\\\"observable\\\"}),\\\"index\\\":WebIO.getval({\\\"name\\\":\\\"index\\\",\\\"scope\\\":\\\"11723669686370652913\\\",\\\"id\\\":\\\"ob_143\\\",\\\"type\\\":\\\"observable\\\"})};\\n    var self = this;\\n    function AppViewModel() {\\n        for (var key in json_data) {\\n            var el = json_data[key];\\n            this[key] = Array.isArray(el) ? ko.observableArray(el) : ko.observable(el);\\n        }\\n        \\n        [this[\\\"formatted_val\\\"]=ko.computed(    function(){\\n        return this.formatted_vals()[parseInt(this.index())-(1)];\\n    }\\n,this)]\\n        [this[\\\"changes\\\"].subscribe((function (val){!(this.valueFromJulia[\\\"changes\\\"]) ? (WebIO.setval({\\\"name\\\":\\\"changes\\\",\\\"scope\\\":\\\"11723669686370652913\\\",\\\"id\\\":\\\"ob_144\\\",\\\"type\\\":\\\"observable\\\"},val)) : undefined; return this.valueFromJulia[\\\"changes\\\"]=false}),self),this[\\\"index\\\"].subscribe((function (val){!(this.valueFromJulia[\\\"index\\\"]) ? (WebIO.setval({\\\"name\\\":\\\"index\\\",\\\"scope\\\":\\\"11723669686370652913\\\",\\\"id\\\":\\\"ob_143\\\",\\\"type\\\":\\\"observable\\\"},val)) : undefined; return this.valueFromJulia[\\\"index\\\"]=false}),self)]\\n        \\n    }\\n    self.model = new AppViewModel();\\n    self.valueFromJulia = {};\\n    for (var key in json_data) {\\n        self.valueFromJulia[key] = false;\\n    }\\n    ko.applyBindings(self.model, self.dom);\\n}\\n);\\n    (WebIO.importBlock({\\\"data\\\":[{\\\"name\\\":\\\"knockout\\\",\\\"type\\\":\\\"js\\\",\\\"url\\\":\\\"/assetserver/254160226b58162a42111ea27214076747de1cf2-knockout.js\\\"},{\\\"name\\\":\\\"knockout_punches\\\",\\\"type\\\":\\\"js\\\",\\\"url\\\":\\\"/assetserver/2d0bf510fb683322318163f3ec7562806e4b1104-knockout_punches.js\\\"}],\\\"type\\\":\\\"async_block\\\"})).then((imports) => handler.apply(this, imports));\\n}\\n\")])], Dict{Symbol,Any}(:className => \"field interact-widget\")), Node{WebIO.DOM}(WebIO.DOM(:html, :div), Any[Scope(Node{WebIO.DOM}(WebIO.DOM(:html, :div), Any[Node{WebIO.DOM}(WebIO.DOM(:html, :div), Any[Node{WebIO.DOM}(WebIO.DOM(:html, :label), Any[\"λ\"], Dict{Symbol,Any}(:className => \"interact \",:style => Dict{Any,Any}(:padding => \"5px 10px 0px 10px\")))], Dict{Symbol,Any}(:className => \"interact-flex-row-left\")), Node{WebIO.DOM}(WebIO.DOM(:html, :div), Any[Node{WebIO.DOM}(WebIO.DOM(:html, :input), Any[], Dict{Symbol,Any}(:max => 10,:min => 1,:attributes => Dict{Any,Any}(:type => \"range\",Symbol(\"data-bind\") => \"numericValue: index, valueUpdate: 'input', event: {change: function (){this.changes(this.changes()+1)}}\",\"orient\" => \"horizontal\"),:step => 1,:className => \"slider slider is-fullwidth\",:style => Dict{Any,Any}()))], Dict{Symbol,Any}(:className => \"interact-flex-row-center\")), Node{WebIO.DOM}(WebIO.DOM(:html, :div), Any[Node{WebIO.DOM}(WebIO.DOM(:html, :p), Any[], Dict{Symbol,Any}(:attributes => Dict(\"data-bind\" => \"text: formatted_val\")))], Dict{Symbol,Any}(:className => \"interact-flex-row-right\"))], Dict{Symbol,Any}(:className => \"interact-flex-row interact-widget\")), Dict{String,Tuple{Observables.AbstractObservable,Union{Nothing, Bool}}}(\"changes\" => (Observable{Int64} with 1 listeners. Value:\n",
       "0, nothing),\"index\" => (Observable{Int64} with 2 listeners. Value:\n",
       "5, nothing)), Set(String[]), nothing, Asset[Asset(\"js\", \"knockout\", \"C:\\\\Users\\\\matte\\\\.julia\\\\packages\\\\Knockout\\\\1sDlc\\\\src\\\\..\\\\assets\\\\knockout.js\"), Asset(\"js\", \"knockout_punches\", \"C:\\\\Users\\\\matte\\\\.julia\\\\packages\\\\Knockout\\\\1sDlc\\\\src\\\\..\\\\assets\\\\knockout_punches.js\"), Asset(\"js\", nothing, \"C:\\\\Users\\\\matte\\\\.julia\\\\packages\\\\InteractBase\\\\9mFwe\\\\src\\\\..\\\\assets\\\\all.js\"), Asset(\"css\", nothing, \"C:\\\\Users\\\\matte\\\\.julia\\\\packages\\\\InteractBase\\\\9mFwe\\\\src\\\\..\\\\assets\\\\style.css\"), Asset(\"css\", nothing, \"C:\\\\Users\\\\matte\\\\.julia\\\\packages\\\\Interact\\\\SbgIk\\\\src\\\\..\\\\assets\\\\bulma_confined.min.css\")], Dict{Any,Any}(\"changes\" => Any[WebIO.JSString(\"(function (val){return (val!=this.model[\\\"changes\\\"]()) ? (this.valueFromJulia[\\\"changes\\\"]=true, this.model[\\\"changes\\\"](val)) : undefined})\")],\"index\" => Any[WebIO.JSString(\"(function (val){return (val!=this.model[\\\"index\\\"]()) ? (this.valueFromJulia[\\\"index\\\"]=true, this.model[\\\"index\\\"](val)) : undefined})\")]), WebIO.ConnectionPool(Channel{Any}(sz_max:32,sz_curr:0), Set(AbstractConnection[]), Base.GenericCondition{Base.AlwaysLockedST}(Base.InvasiveLinkedList{Task}(Task (runnable) @0x0000000013383c70, Task (runnable) @0x0000000013383c70), Base.AlwaysLockedST(1))), WebIO.JSString[WebIO.JSString(\"function () {\\n    var handler = (function (ko, koPunches) {\\n    ko.punches.enableAll();\\n    ko.bindingHandlers.numericValue = {\\n        init: function(element, valueAccessor, allBindings, data, context) {\\n            var stringified = ko.observable(ko.unwrap(valueAccessor()));\\n            stringified.subscribe(function(value) {\\n                var val = parseFloat(value);\\n                if (!isNaN(val)) {\\n                    valueAccessor()(val);\\n                }\\n            });\\n            valueAccessor().subscribe(function(value) {\\n                var str = JSON.stringify(value);\\n                if ((str == \\\"0\\\") && ([\\\"-0\\\", \\\"-0.\\\"].indexOf(stringified()) >= 0))\\n                     return;\\n                 if ([\\\"null\\\", \\\"\\\"].indexOf(str) >= 0)\\n                     return;\\n                stringified(str);\\n            });\\n            ko.applyBindingsToNode(\\n                element,\\n                {\\n                    value: stringified,\\n                    valueUpdate: allBindings.get('valueUpdate'),\\n                },\\n                context,\\n            );\\n        }\\n    };\\n    var json_data = {\\\"formatted_vals\\\":[\\\"1\\\",\\\"2\\\",\\\"3\\\",\\\"4\\\",\\\"5\\\",\\\"6\\\",\\\"7\\\",\\\"8\\\",\\\"9\\\",\\\"10\\\"],\\\"changes\\\":WebIO.getval({\\\"name\\\":\\\"changes\\\",\\\"scope\\\":\\\"1725859443039429207\\\",\\\"id\\\":\\\"ob_146\\\",\\\"type\\\":\\\"observable\\\"}),\\\"index\\\":WebIO.getval({\\\"name\\\":\\\"index\\\",\\\"scope\\\":\\\"1725859443039429207\\\",\\\"id\\\":\\\"ob_145\\\",\\\"type\\\":\\\"observable\\\"})};\\n    var self = this;\\n    function AppViewModel() {\\n        for (var key in json_data) {\\n            var el = json_data[key];\\n            this[key] = Array.isArray(el) ? ko.observableArray(el) : ko.observable(el);\\n        }\\n        \\n        [this[\\\"formatted_val\\\"]=ko.computed(    function(){\\n        return this.formatted_vals()[parseInt(this.index())-(1)];\\n    }\\n,this)]\\n        [this[\\\"changes\\\"].subscribe((function (val){!(this.valueFromJulia[\\\"changes\\\"]) ? (WebIO.setval({\\\"name\\\":\\\"changes\\\",\\\"scope\\\":\\\"1725859443039429207\\\",\\\"id\\\":\\\"ob_146\\\",\\\"type\\\":\\\"observable\\\"},val)) : undefined; return this.valueFromJulia[\\\"changes\\\"]=false}),self),this[\\\"index\\\"].subscribe((function (val){!(this.valueFromJulia[\\\"index\\\"]) ? (WebIO.setval({\\\"name\\\":\\\"index\\\",\\\"scope\\\":\\\"1725859443039429207\\\",\\\"id\\\":\\\"ob_145\\\",\\\"type\\\":\\\"observable\\\"},val)) : undefined; return this.valueFromJulia[\\\"index\\\"]=false}),self)]\\n        \\n    }\\n    self.model = new AppViewModel();\\n    self.valueFromJulia = {};\\n    for (var key in json_data) {\\n        self.valueFromJulia[key] = false;\\n    }\\n    ko.applyBindings(self.model, self.dom);\\n}\\n);\\n    (WebIO.importBlock({\\\"data\\\":[{\\\"name\\\":\\\"knockout\\\",\\\"type\\\":\\\"js\\\",\\\"url\\\":\\\"/assetserver/254160226b58162a42111ea27214076747de1cf2-knockout.js\\\"},{\\\"name\\\":\\\"knockout_punches\\\",\\\"type\\\":\\\"js\\\",\\\"url\\\":\\\"/assetserver/2d0bf510fb683322318163f3ec7562806e4b1104-knockout_punches.js\\\"}],\\\"type\\\":\\\"async_block\\\"})).then((imports) => handler.apply(this, imports));\\n}\\n\")])], Dict{Symbol,Any}(:className => \"field interact-widget\")), Observable{Any} with 0 listeners. Value:\n",
       "Node{WebIO.DOM}(WebIO.DOM(:html, :div), Any[Plot{Plots.GRBackend() n=2}], Dict{Symbol,Any}(:className => \"interact-flex-row interact-widget\"))], Dict{Symbol,Any}())"
      ]
     },
     "execution_count": 50,
     "metadata": {
      "application/vnd.webio.node+json": {
       "kernelId": "112af0d7-f13c-418a-a378-2bbe83ec6239"
      }
     },
     "output_type": "execute_result"
    }
   ],
   "source": [
    "@manipulate for N = RANGE_N, law_name = [\"Geometric\", \"Exponential\"], q = RANGE_q, λ = RANGE_λ\n",
    "    plot_clt(N, law_name, q, λ, TW_pdf, d)\n",
    "end"
   ]
  },
  {
   "cell_type": "code",
   "execution_count": 23,
   "metadata": {},
   "outputs": [
    {
     "data": {
      "image/svg+xml": [
       "<?xml version=\"1.0\" encoding=\"utf-8\"?>\n",
       "<svg xmlns=\"http://www.w3.org/2000/svg\" xmlns:xlink=\"http://www.w3.org/1999/xlink\" width=\"600\" height=\"400\" viewBox=\"0 0 2400 1600\">\n",
       "<defs>\n",
       "  <clipPath id=\"clip0600\">\n",
       "    <rect x=\"0\" y=\"0\" width=\"2400\" height=\"1600\"/>\n",
       "  </clipPath>\n",
       "</defs>\n",
       "<path clip-path=\"url(#clip0600)\" d=\"\n",
       "M0 1600 L2400 1600 L2400 0 L0 0  Z\n",
       "  \" fill=\"#ffffff\" fill-rule=\"evenodd\" fill-opacity=\"1\"/>\n",
       "<defs>\n",
       "  <clipPath id=\"clip0601\">\n",
       "    <rect x=\"480\" y=\"0\" width=\"1681\" height=\"1600\"/>\n",
       "  </clipPath>\n",
       "</defs>\n",
       "<path clip-path=\"url(#clip0600)\" d=\"\n",
       "M153.898 1487.47 L2352.76 1487.47 L2352.76 47.2441 L153.898 47.2441  Z\n",
       "  \" fill=\"#ffffff\" fill-rule=\"evenodd\" fill-opacity=\"1\"/>\n",
       "<defs>\n",
       "  <clipPath id=\"clip0602\">\n",
       "    <rect x=\"153\" y=\"47\" width=\"2200\" height=\"1441\"/>\n",
       "  </clipPath>\n",
       "</defs>\n",
       "<polyline clip-path=\"url(#clip0602)\" style=\"stroke:#000000; stroke-width:2; stroke-opacity:0.1; fill:none\" points=\"\n",
       "  388.996,1487.47 388.996,47.2441 \n",
       "  \"/>\n",
       "<polyline clip-path=\"url(#clip0602)\" style=\"stroke:#000000; stroke-width:2; stroke-opacity:0.1; fill:none\" points=\"\n",
       "  821.161,1487.47 821.161,47.2441 \n",
       "  \"/>\n",
       "<polyline clip-path=\"url(#clip0602)\" style=\"stroke:#000000; stroke-width:2; stroke-opacity:0.1; fill:none\" points=\"\n",
       "  1253.33,1487.47 1253.33,47.2441 \n",
       "  \"/>\n",
       "<polyline clip-path=\"url(#clip0602)\" style=\"stroke:#000000; stroke-width:2; stroke-opacity:0.1; fill:none\" points=\"\n",
       "  1685.49,1487.47 1685.49,47.2441 \n",
       "  \"/>\n",
       "<polyline clip-path=\"url(#clip0602)\" style=\"stroke:#000000; stroke-width:2; stroke-opacity:0.1; fill:none\" points=\"\n",
       "  2117.66,1487.47 2117.66,47.2441 \n",
       "  \"/>\n",
       "<polyline clip-path=\"url(#clip0602)\" style=\"stroke:#000000; stroke-width:2; stroke-opacity:0.1; fill:none\" points=\"\n",
       "  153.898,1446.71 2352.76,1446.71 \n",
       "  \"/>\n",
       "<polyline clip-path=\"url(#clip0602)\" style=\"stroke:#000000; stroke-width:2; stroke-opacity:0.1; fill:none\" points=\"\n",
       "  153.898,1174.97 2352.76,1174.97 \n",
       "  \"/>\n",
       "<polyline clip-path=\"url(#clip0602)\" style=\"stroke:#000000; stroke-width:2; stroke-opacity:0.1; fill:none\" points=\"\n",
       "  153.898,903.23 2352.76,903.23 \n",
       "  \"/>\n",
       "<polyline clip-path=\"url(#clip0602)\" style=\"stroke:#000000; stroke-width:2; stroke-opacity:0.1; fill:none\" points=\"\n",
       "  153.898,631.489 2352.76,631.489 \n",
       "  \"/>\n",
       "<polyline clip-path=\"url(#clip0602)\" style=\"stroke:#000000; stroke-width:2; stroke-opacity:0.1; fill:none\" points=\"\n",
       "  153.898,359.747 2352.76,359.747 \n",
       "  \"/>\n",
       "<polyline clip-path=\"url(#clip0602)\" style=\"stroke:#000000; stroke-width:2; stroke-opacity:0.1; fill:none\" points=\"\n",
       "  153.898,88.0053 2352.76,88.0053 \n",
       "  \"/>\n",
       "<polyline clip-path=\"url(#clip0600)\" style=\"stroke:#000000; stroke-width:4; stroke-opacity:1; fill:none\" points=\"\n",
       "  153.898,1487.47 2352.76,1487.47 \n",
       "  \"/>\n",
       "<polyline clip-path=\"url(#clip0600)\" style=\"stroke:#000000; stroke-width:4; stroke-opacity:1; fill:none\" points=\"\n",
       "  153.898,1487.47 153.898,47.2441 \n",
       "  \"/>\n",
       "<polyline clip-path=\"url(#clip0600)\" style=\"stroke:#000000; stroke-width:4; stroke-opacity:1; fill:none\" points=\"\n",
       "  388.996,1487.47 388.996,1465.87 \n",
       "  \"/>\n",
       "<polyline clip-path=\"url(#clip0600)\" style=\"stroke:#000000; stroke-width:4; stroke-opacity:1; fill:none\" points=\"\n",
       "  821.161,1487.47 821.161,1465.87 \n",
       "  \"/>\n",
       "<polyline clip-path=\"url(#clip0600)\" style=\"stroke:#000000; stroke-width:4; stroke-opacity:1; fill:none\" points=\"\n",
       "  1253.33,1487.47 1253.33,1465.87 \n",
       "  \"/>\n",
       "<polyline clip-path=\"url(#clip0600)\" style=\"stroke:#000000; stroke-width:4; stroke-opacity:1; fill:none\" points=\"\n",
       "  1685.49,1487.47 1685.49,1465.87 \n",
       "  \"/>\n",
       "<polyline clip-path=\"url(#clip0600)\" style=\"stroke:#000000; stroke-width:4; stroke-opacity:1; fill:none\" points=\"\n",
       "  2117.66,1487.47 2117.66,1465.87 \n",
       "  \"/>\n",
       "<polyline clip-path=\"url(#clip0600)\" style=\"stroke:#000000; stroke-width:4; stroke-opacity:1; fill:none\" points=\"\n",
       "  153.898,1446.71 186.881,1446.71 \n",
       "  \"/>\n",
       "<polyline clip-path=\"url(#clip0600)\" style=\"stroke:#000000; stroke-width:4; stroke-opacity:1; fill:none\" points=\"\n",
       "  153.898,1174.97 186.881,1174.97 \n",
       "  \"/>\n",
       "<polyline clip-path=\"url(#clip0600)\" style=\"stroke:#000000; stroke-width:4; stroke-opacity:1; fill:none\" points=\"\n",
       "  153.898,903.23 186.881,903.23 \n",
       "  \"/>\n",
       "<polyline clip-path=\"url(#clip0600)\" style=\"stroke:#000000; stroke-width:4; stroke-opacity:1; fill:none\" points=\"\n",
       "  153.898,631.489 186.881,631.489 \n",
       "  \"/>\n",
       "<polyline clip-path=\"url(#clip0600)\" style=\"stroke:#000000; stroke-width:4; stroke-opacity:1; fill:none\" points=\"\n",
       "  153.898,359.747 186.881,359.747 \n",
       "  \"/>\n",
       "<polyline clip-path=\"url(#clip0600)\" style=\"stroke:#000000; stroke-width:4; stroke-opacity:1; fill:none\" points=\"\n",
       "  153.898,88.0053 186.881,88.0053 \n",
       "  \"/>\n",
       "<g clip-path=\"url(#clip0600)\">\n",
       "<text style=\"fill:#000000; fill-opacity:1; font-family:Arial,Helvetica Neue,Helvetica,sans-serif; font-size:48px; text-anchor:middle;\" transform=\"rotate(0, 388.996, 1541.47)\" x=\"388.996\" y=\"1541.47\">-5.0</text>\n",
       "</g>\n",
       "<g clip-path=\"url(#clip0600)\">\n",
       "<text style=\"fill:#000000; fill-opacity:1; font-family:Arial,Helvetica Neue,Helvetica,sans-serif; font-size:48px; text-anchor:middle;\" transform=\"rotate(0, 821.161, 1541.47)\" x=\"821.161\" y=\"1541.47\">-2.5</text>\n",
       "</g>\n",
       "<g clip-path=\"url(#clip0600)\">\n",
       "<text style=\"fill:#000000; fill-opacity:1; font-family:Arial,Helvetica Neue,Helvetica,sans-serif; font-size:48px; text-anchor:middle;\" transform=\"rotate(0, 1253.33, 1541.47)\" x=\"1253.33\" y=\"1541.47\">0.0</text>\n",
       "</g>\n",
       "<g clip-path=\"url(#clip0600)\">\n",
       "<text style=\"fill:#000000; fill-opacity:1; font-family:Arial,Helvetica Neue,Helvetica,sans-serif; font-size:48px; text-anchor:middle;\" transform=\"rotate(0, 1685.49, 1541.47)\" x=\"1685.49\" y=\"1541.47\">2.5</text>\n",
       "</g>\n",
       "<g clip-path=\"url(#clip0600)\">\n",
       "<text style=\"fill:#000000; fill-opacity:1; font-family:Arial,Helvetica Neue,Helvetica,sans-serif; font-size:48px; text-anchor:middle;\" transform=\"rotate(0, 2117.66, 1541.47)\" x=\"2117.66\" y=\"1541.47\">5.0</text>\n",
       "</g>\n",
       "<g clip-path=\"url(#clip0600)\">\n",
       "<text style=\"fill:#000000; fill-opacity:1; font-family:Arial,Helvetica Neue,Helvetica,sans-serif; font-size:48px; text-anchor:end;\" transform=\"rotate(0, 129.898, 1464.21)\" x=\"129.898\" y=\"1464.21\">0.0</text>\n",
       "</g>\n",
       "<g clip-path=\"url(#clip0600)\">\n",
       "<text style=\"fill:#000000; fill-opacity:1; font-family:Arial,Helvetica Neue,Helvetica,sans-serif; font-size:48px; text-anchor:end;\" transform=\"rotate(0, 129.898, 1192.47)\" x=\"129.898\" y=\"1192.47\">0.1</text>\n",
       "</g>\n",
       "<g clip-path=\"url(#clip0600)\">\n",
       "<text style=\"fill:#000000; fill-opacity:1; font-family:Arial,Helvetica Neue,Helvetica,sans-serif; font-size:48px; text-anchor:end;\" transform=\"rotate(0, 129.898, 920.73)\" x=\"129.898\" y=\"920.73\">0.2</text>\n",
       "</g>\n",
       "<g clip-path=\"url(#clip0600)\">\n",
       "<text style=\"fill:#000000; fill-opacity:1; font-family:Arial,Helvetica Neue,Helvetica,sans-serif; font-size:48px; text-anchor:end;\" transform=\"rotate(0, 129.898, 648.989)\" x=\"129.898\" y=\"648.989\">0.3</text>\n",
       "</g>\n",
       "<g clip-path=\"url(#clip0600)\">\n",
       "<text style=\"fill:#000000; fill-opacity:1; font-family:Arial,Helvetica Neue,Helvetica,sans-serif; font-size:48px; text-anchor:end;\" transform=\"rotate(0, 129.898, 377.247)\" x=\"129.898\" y=\"377.247\">0.4</text>\n",
       "</g>\n",
       "<g clip-path=\"url(#clip0600)\">\n",
       "<text style=\"fill:#000000; fill-opacity:1; font-family:Arial,Helvetica Neue,Helvetica,sans-serif; font-size:48px; text-anchor:end;\" transform=\"rotate(0, 129.898, 105.505)\" x=\"129.898\" y=\"105.505\">0.5</text>\n",
       "</g>\n",
       "<path clip-path=\"url(#clip0602)\" d=\"\n",
       "M388.996 1446.71 L388.996 1446.71 L423.569 1446.71 L423.569 1446.71 L388.996 1446.71 L388.996 1446.71  Z\n",
       "  \" fill=\"#009af9\" fill-rule=\"evenodd\" fill-opacity=\"1\"/>\n",
       "<polyline clip-path=\"url(#clip0602)\" style=\"stroke:#000000; stroke-width:4; stroke-opacity:1; fill:none\" points=\"\n",
       "  388.996,1446.71 388.996,1446.71 423.569,1446.71 388.996,1446.71 \n",
       "  \"/>\n",
       "<path clip-path=\"url(#clip0602)\" d=\"\n",
       "M423.569 1446.71 L423.569 1446.71 L458.142 1446.71 L458.142 1446.71 L423.569 1446.71 L423.569 1446.71  Z\n",
       "  \" fill=\"#009af9\" fill-rule=\"evenodd\" fill-opacity=\"1\"/>\n",
       "<polyline clip-path=\"url(#clip0602)\" style=\"stroke:#000000; stroke-width:4; stroke-opacity:1; fill:none\" points=\"\n",
       "  423.569,1446.71 423.569,1446.71 458.142,1446.71 423.569,1446.71 \n",
       "  \"/>\n",
       "<path clip-path=\"url(#clip0602)\" d=\"\n",
       "M458.142 1446.71 L458.142 1446.71 L492.716 1446.71 L492.716 1446.71 L458.142 1446.71 L458.142 1446.71  Z\n",
       "  \" fill=\"#009af9\" fill-rule=\"evenodd\" fill-opacity=\"1\"/>\n",
       "<polyline clip-path=\"url(#clip0602)\" style=\"stroke:#000000; stroke-width:4; stroke-opacity:1; fill:none\" points=\"\n",
       "  458.142,1446.71 458.142,1446.71 492.716,1446.71 458.142,1446.71 \n",
       "  \"/>\n",
       "<path clip-path=\"url(#clip0602)\" d=\"\n",
       "M492.716 1446.71 L492.716 1446.71 L527.289 1446.71 L527.289 1446.71 L492.716 1446.71 L492.716 1446.71  Z\n",
       "  \" fill=\"#009af9\" fill-rule=\"evenodd\" fill-opacity=\"1\"/>\n",
       "<polyline clip-path=\"url(#clip0602)\" style=\"stroke:#000000; stroke-width:4; stroke-opacity:1; fill:none\" points=\"\n",
       "  492.716,1446.71 492.716,1446.71 527.289,1446.71 492.716,1446.71 \n",
       "  \"/>\n",
       "<path clip-path=\"url(#clip0602)\" d=\"\n",
       "M527.289 1446.71 L527.289 1446.71 L561.862 1446.71 L561.862 1446.71 L527.289 1446.71 L527.289 1446.71  Z\n",
       "  \" fill=\"#009af9\" fill-rule=\"evenodd\" fill-opacity=\"1\"/>\n",
       "<polyline clip-path=\"url(#clip0602)\" style=\"stroke:#000000; stroke-width:4; stroke-opacity:1; fill:none\" points=\"\n",
       "  527.289,1446.71 527.289,1446.71 561.862,1446.71 527.289,1446.71 \n",
       "  \"/>\n",
       "<path clip-path=\"url(#clip0602)\" d=\"\n",
       "M561.862 1446.71 L561.862 1446.71 L596.435 1446.71 L596.435 1446.71 L561.862 1446.71 L561.862 1446.71  Z\n",
       "  \" fill=\"#009af9\" fill-rule=\"evenodd\" fill-opacity=\"1\"/>\n",
       "<polyline clip-path=\"url(#clip0602)\" style=\"stroke:#000000; stroke-width:4; stroke-opacity:1; fill:none\" points=\"\n",
       "  561.862,1446.71 561.862,1446.71 596.435,1446.71 561.862,1446.71 \n",
       "  \"/>\n",
       "<path clip-path=\"url(#clip0602)\" d=\"\n",
       "M596.435 1220.26 L596.435 1446.71 L631.009 1446.71 L631.009 1220.26 L596.435 1220.26 L596.435 1220.26  Z\n",
       "  \" fill=\"#009af9\" fill-rule=\"evenodd\" fill-opacity=\"1\"/>\n",
       "<polyline clip-path=\"url(#clip0602)\" style=\"stroke:#000000; stroke-width:4; stroke-opacity:1; fill:none\" points=\"\n",
       "  596.435,1220.26 596.435,1446.71 631.009,1446.71 631.009,1220.26 596.435,1220.26 \n",
       "  \"/>\n",
       "<path clip-path=\"url(#clip0602)\" d=\"\n",
       "M631.009 1401.42 L631.009 1446.71 L665.582 1446.71 L665.582 1401.42 L631.009 1401.42 L631.009 1401.42  Z\n",
       "  \" fill=\"#009af9\" fill-rule=\"evenodd\" fill-opacity=\"1\"/>\n",
       "<polyline clip-path=\"url(#clip0602)\" style=\"stroke:#000000; stroke-width:4; stroke-opacity:1; fill:none\" points=\"\n",
       "  631.009,1401.42 631.009,1446.71 665.582,1446.71 665.582,1401.42 631.009,1401.42 \n",
       "  \"/>\n",
       "<path clip-path=\"url(#clip0602)\" d=\"\n",
       "M665.582 993.811 L665.582 1446.71 L700.155 1446.71 L700.155 993.811 L665.582 993.811 L665.582 993.811  Z\n",
       "  \" fill=\"#009af9\" fill-rule=\"evenodd\" fill-opacity=\"1\"/>\n",
       "<polyline clip-path=\"url(#clip0602)\" style=\"stroke:#000000; stroke-width:4; stroke-opacity:1; fill:none\" points=\"\n",
       "  665.582,993.811 665.582,1446.71 700.155,1446.71 700.155,993.811 665.582,993.811 \n",
       "  \"/>\n",
       "<path clip-path=\"url(#clip0602)\" d=\"\n",
       "M700.155 1174.97 L700.155 1446.71 L734.728 1446.71 L734.728 1174.97 L700.155 1174.97 L700.155 1174.97  Z\n",
       "  \" fill=\"#009af9\" fill-rule=\"evenodd\" fill-opacity=\"1\"/>\n",
       "<polyline clip-path=\"url(#clip0602)\" style=\"stroke:#000000; stroke-width:4; stroke-opacity:1; fill:none\" points=\"\n",
       "  700.155,1174.97 700.155,1446.71 734.728,1446.71 734.728,1174.97 700.155,1174.97 \n",
       "  \"/>\n",
       "<path clip-path=\"url(#clip0602)\" d=\"\n",
       "M734.728 586.198 L734.728 1446.71 L769.302 1446.71 L769.302 586.198 L734.728 586.198 L734.728 586.198  Z\n",
       "  \" fill=\"#009af9\" fill-rule=\"evenodd\" fill-opacity=\"1\"/>\n",
       "<polyline clip-path=\"url(#clip0602)\" style=\"stroke:#000000; stroke-width:4; stroke-opacity:1; fill:none\" points=\"\n",
       "  734.728,586.198 734.728,1446.71 769.302,1446.71 769.302,586.198 734.728,586.198 \n",
       "  \"/>\n",
       "<path clip-path=\"url(#clip0602)\" d=\"\n",
       "M769.302 450.328 L769.302 1446.71 L803.875 1446.71 L803.875 450.328 L769.302 450.328 L769.302 450.328  Z\n",
       "  \" fill=\"#009af9\" fill-rule=\"evenodd\" fill-opacity=\"1\"/>\n",
       "<polyline clip-path=\"url(#clip0602)\" style=\"stroke:#000000; stroke-width:4; stroke-opacity:1; fill:none\" points=\"\n",
       "  769.302,450.328 769.302,1446.71 803.875,1446.71 803.875,450.328 769.302,450.328 \n",
       "  \"/>\n",
       "<path clip-path=\"url(#clip0602)\" d=\"\n",
       "M803.875 359.747 L803.875 1446.71 L838.448 1446.71 L838.448 359.747 L803.875 359.747 L803.875 359.747  Z\n",
       "  \" fill=\"#009af9\" fill-rule=\"evenodd\" fill-opacity=\"1\"/>\n",
       "<polyline clip-path=\"url(#clip0602)\" style=\"stroke:#000000; stroke-width:4; stroke-opacity:1; fill:none\" points=\"\n",
       "  803.875,359.747 803.875,1446.71 838.448,1446.71 838.448,359.747 803.875,359.747 \n",
       "  \"/>\n",
       "<path clip-path=\"url(#clip0602)\" d=\"\n",
       "M838.448 88.0053 L838.448 1446.71 L873.021 1446.71 L873.021 88.0053 L838.448 88.0053 L838.448 88.0053  Z\n",
       "  \" fill=\"#009af9\" fill-rule=\"evenodd\" fill-opacity=\"1\"/>\n",
       "<polyline clip-path=\"url(#clip0602)\" style=\"stroke:#000000; stroke-width:4; stroke-opacity:1; fill:none\" points=\"\n",
       "  838.448,88.0053 838.448,1446.71 873.021,1446.71 873.021,88.0053 838.448,88.0053 \n",
       "  \"/>\n",
       "<path clip-path=\"url(#clip0602)\" d=\"\n",
       "M873.021 314.457 L873.021 1446.71 L907.595 1446.71 L907.595 314.457 L873.021 314.457 L873.021 314.457  Z\n",
       "  \" fill=\"#009af9\" fill-rule=\"evenodd\" fill-opacity=\"1\"/>\n",
       "<polyline clip-path=\"url(#clip0602)\" style=\"stroke:#000000; stroke-width:4; stroke-opacity:1; fill:none\" points=\"\n",
       "  873.021,314.457 873.021,1446.71 907.595,1446.71 907.595,314.457 873.021,314.457 \n",
       "  \"/>\n",
       "<path clip-path=\"url(#clip0602)\" d=\"\n",
       "M907.595 223.876 L907.595 1446.71 L942.168 1446.71 L942.168 223.876 L907.595 223.876 L907.595 223.876  Z\n",
       "  \" fill=\"#009af9\" fill-rule=\"evenodd\" fill-opacity=\"1\"/>\n",
       "<polyline clip-path=\"url(#clip0602)\" style=\"stroke:#000000; stroke-width:4; stroke-opacity:1; fill:none\" points=\"\n",
       "  907.595,223.876 907.595,1446.71 942.168,1446.71 942.168,223.876 907.595,223.876 \n",
       "  \"/>\n",
       "<path clip-path=\"url(#clip0602)\" d=\"\n",
       "M942.168 88.0053 L942.168 1446.71 L976.741 1446.71 L976.741 88.0053 L942.168 88.0053 L942.168 88.0053  Z\n",
       "  \" fill=\"#009af9\" fill-rule=\"evenodd\" fill-opacity=\"1\"/>\n",
       "<polyline clip-path=\"url(#clip0602)\" style=\"stroke:#000000; stroke-width:4; stroke-opacity:1; fill:none\" points=\"\n",
       "  942.168,88.0053 942.168,1446.71 976.741,1446.71 976.741,88.0053 942.168,88.0053 \n",
       "  \"/>\n",
       "<path clip-path=\"url(#clip0602)\" d=\"\n",
       "M976.741 359.747 L976.741 1446.71 L1011.31 1446.71 L1011.31 359.747 L976.741 359.747 L976.741 359.747  Z\n",
       "  \" fill=\"#009af9\" fill-rule=\"evenodd\" fill-opacity=\"1\"/>\n",
       "<polyline clip-path=\"url(#clip0602)\" style=\"stroke:#000000; stroke-width:4; stroke-opacity:1; fill:none\" points=\"\n",
       "  976.741,359.747 976.741,1446.71 1011.31,1446.71 1011.31,359.747 976.741,359.747 \n",
       "  \"/>\n",
       "<path clip-path=\"url(#clip0602)\" d=\"\n",
       "M1011.31 676.779 L1011.31 1446.71 L1045.89 1446.71 L1045.89 676.779 L1011.31 676.779 L1011.31 676.779  Z\n",
       "  \" fill=\"#009af9\" fill-rule=\"evenodd\" fill-opacity=\"1\"/>\n",
       "<polyline clip-path=\"url(#clip0602)\" style=\"stroke:#000000; stroke-width:4; stroke-opacity:1; fill:none\" points=\"\n",
       "  1011.31,676.779 1011.31,1446.71 1045.89,1446.71 1045.89,676.779 1011.31,676.779 \n",
       "  \"/>\n",
       "<path clip-path=\"url(#clip0602)\" d=\"\n",
       "M1045.89 948.52 L1045.89 1446.71 L1080.46 1446.71 L1080.46 948.52 L1045.89 948.52 L1045.89 948.52  Z\n",
       "  \" fill=\"#009af9\" fill-rule=\"evenodd\" fill-opacity=\"1\"/>\n",
       "<polyline clip-path=\"url(#clip0602)\" style=\"stroke:#000000; stroke-width:4; stroke-opacity:1; fill:none\" points=\"\n",
       "  1045.89,948.52 1045.89,1446.71 1080.46,1446.71 1080.46,948.52 1045.89,948.52 \n",
       "  \"/>\n",
       "<path clip-path=\"url(#clip0602)\" d=\"\n",
       "M1080.46 857.94 L1080.46 1446.71 L1115.03 1446.71 L1115.03 857.94 L1080.46 857.94 L1080.46 857.94  Z\n",
       "  \" fill=\"#009af9\" fill-rule=\"evenodd\" fill-opacity=\"1\"/>\n",
       "<polyline clip-path=\"url(#clip0602)\" style=\"stroke:#000000; stroke-width:4; stroke-opacity:1; fill:none\" points=\"\n",
       "  1080.46,857.94 1080.46,1446.71 1115.03,1446.71 1115.03,857.94 1080.46,857.94 \n",
       "  \"/>\n",
       "<path clip-path=\"url(#clip0602)\" d=\"\n",
       "M1115.03 676.779 L1115.03 1446.71 L1149.61 1446.71 L1149.61 676.779 L1115.03 676.779 L1115.03 676.779  Z\n",
       "  \" fill=\"#009af9\" fill-rule=\"evenodd\" fill-opacity=\"1\"/>\n",
       "<polyline clip-path=\"url(#clip0602)\" style=\"stroke:#000000; stroke-width:4; stroke-opacity:1; fill:none\" points=\"\n",
       "  1115.03,676.779 1115.03,1446.71 1149.61,1446.71 1149.61,676.779 1115.03,676.779 \n",
       "  \"/>\n",
       "<path clip-path=\"url(#clip0602)\" d=\"\n",
       "M1149.61 1084.39 L1149.61 1446.71 L1184.18 1446.71 L1184.18 1084.39 L1149.61 1084.39 L1149.61 1084.39  Z\n",
       "  \" fill=\"#009af9\" fill-rule=\"evenodd\" fill-opacity=\"1\"/>\n",
       "<polyline clip-path=\"url(#clip0602)\" style=\"stroke:#000000; stroke-width:4; stroke-opacity:1; fill:none\" points=\"\n",
       "  1149.61,1084.39 1149.61,1446.71 1184.18,1446.71 1184.18,1084.39 1149.61,1084.39 \n",
       "  \"/>\n",
       "<path clip-path=\"url(#clip0602)\" d=\"\n",
       "M1184.18 1310.84 L1184.18 1446.71 L1218.75 1446.71 L1218.75 1310.84 L1184.18 1310.84 L1184.18 1310.84  Z\n",
       "  \" fill=\"#009af9\" fill-rule=\"evenodd\" fill-opacity=\"1\"/>\n",
       "<polyline clip-path=\"url(#clip0602)\" style=\"stroke:#000000; stroke-width:4; stroke-opacity:1; fill:none\" points=\"\n",
       "  1184.18,1310.84 1184.18,1446.71 1218.75,1446.71 1218.75,1310.84 1184.18,1310.84 \n",
       "  \"/>\n",
       "<path clip-path=\"url(#clip0602)\" d=\"\n",
       "M1218.75 1356.13 L1218.75 1446.71 L1253.33 1446.71 L1253.33 1356.13 L1218.75 1356.13 L1218.75 1356.13  Z\n",
       "  \" fill=\"#009af9\" fill-rule=\"evenodd\" fill-opacity=\"1\"/>\n",
       "<polyline clip-path=\"url(#clip0602)\" style=\"stroke:#000000; stroke-width:4; stroke-opacity:1; fill:none\" points=\"\n",
       "  1218.75,1356.13 1218.75,1446.71 1253.33,1446.71 1253.33,1356.13 1218.75,1356.13 \n",
       "  \"/>\n",
       "<path clip-path=\"url(#clip0602)\" d=\"\n",
       "M1253.33 1310.84 L1253.33 1446.71 L1287.9 1446.71 L1287.9 1310.84 L1253.33 1310.84 L1253.33 1310.84  Z\n",
       "  \" fill=\"#009af9\" fill-rule=\"evenodd\" fill-opacity=\"1\"/>\n",
       "<polyline clip-path=\"url(#clip0602)\" style=\"stroke:#000000; stroke-width:4; stroke-opacity:1; fill:none\" points=\"\n",
       "  1253.33,1310.84 1253.33,1446.71 1287.9,1446.71 1287.9,1310.84 1253.33,1310.84 \n",
       "  \"/>\n",
       "<path clip-path=\"url(#clip0602)\" d=\"\n",
       "M1287.9 1401.42 L1287.9 1446.71 L1322.47 1446.71 L1322.47 1401.42 L1287.9 1401.42 L1287.9 1401.42  Z\n",
       "  \" fill=\"#009af9\" fill-rule=\"evenodd\" fill-opacity=\"1\"/>\n",
       "<polyline clip-path=\"url(#clip0602)\" style=\"stroke:#000000; stroke-width:4; stroke-opacity:1; fill:none\" points=\"\n",
       "  1287.9,1401.42 1287.9,1446.71 1322.47,1446.71 1322.47,1401.42 1287.9,1401.42 \n",
       "  \"/>\n",
       "<path clip-path=\"url(#clip0602)\" d=\"\n",
       "M1322.47 1401.42 L1322.47 1446.71 L1357.05 1446.71 L1357.05 1401.42 L1322.47 1401.42 L1322.47 1401.42  Z\n",
       "  \" fill=\"#009af9\" fill-rule=\"evenodd\" fill-opacity=\"1\"/>\n",
       "<polyline clip-path=\"url(#clip0602)\" style=\"stroke:#000000; stroke-width:4; stroke-opacity:1; fill:none\" points=\"\n",
       "  1322.47,1401.42 1322.47,1446.71 1357.05,1446.71 1357.05,1401.42 1322.47,1401.42 \n",
       "  \"/>\n",
       "<path clip-path=\"url(#clip0602)\" d=\"\n",
       "M1357.05 1401.42 L1357.05 1446.71 L1391.62 1446.71 L1391.62 1401.42 L1357.05 1401.42 L1357.05 1401.42  Z\n",
       "  \" fill=\"#009af9\" fill-rule=\"evenodd\" fill-opacity=\"1\"/>\n",
       "<polyline clip-path=\"url(#clip0602)\" style=\"stroke:#000000; stroke-width:4; stroke-opacity:1; fill:none\" points=\"\n",
       "  1357.05,1401.42 1357.05,1446.71 1391.62,1446.71 1391.62,1401.42 1357.05,1401.42 \n",
       "  \"/>\n",
       "<path clip-path=\"url(#clip0602)\" d=\"\n",
       "M1391.62 1446.71 L1391.62 1446.71 L1426.19 1446.71 L1426.19 1446.71 L1391.62 1446.71 L1391.62 1446.71  Z\n",
       "  \" fill=\"#009af9\" fill-rule=\"evenodd\" fill-opacity=\"1\"/>\n",
       "<polyline clip-path=\"url(#clip0602)\" style=\"stroke:#000000; stroke-width:4; stroke-opacity:1; fill:none\" points=\"\n",
       "  1391.62,1446.71 1391.62,1446.71 1426.19,1446.71 1391.62,1446.71 \n",
       "  \"/>\n",
       "<path clip-path=\"url(#clip0602)\" d=\"\n",
       "M1426.19 1446.71 L1426.19 1446.71 L1460.77 1446.71 L1460.77 1446.71 L1426.19 1446.71 L1426.19 1446.71  Z\n",
       "  \" fill=\"#009af9\" fill-rule=\"evenodd\" fill-opacity=\"1\"/>\n",
       "<polyline clip-path=\"url(#clip0602)\" style=\"stroke:#000000; stroke-width:4; stroke-opacity:1; fill:none\" points=\"\n",
       "  1426.19,1446.71 1426.19,1446.71 1460.77,1446.71 1426.19,1446.71 \n",
       "  \"/>\n",
       "<path clip-path=\"url(#clip0602)\" d=\"\n",
       "M1460.77 1446.71 L1460.77 1446.71 L1495.34 1446.71 L1495.34 1446.71 L1460.77 1446.71 L1460.77 1446.71  Z\n",
       "  \" fill=\"#009af9\" fill-rule=\"evenodd\" fill-opacity=\"1\"/>\n",
       "<polyline clip-path=\"url(#clip0602)\" style=\"stroke:#000000; stroke-width:4; stroke-opacity:1; fill:none\" points=\"\n",
       "  1460.77,1446.71 1460.77,1446.71 1495.34,1446.71 1460.77,1446.71 \n",
       "  \"/>\n",
       "<path clip-path=\"url(#clip0602)\" d=\"\n",
       "M1495.34 1446.71 L1495.34 1446.71 L1529.91 1446.71 L1529.91 1446.71 L1495.34 1446.71 L1495.34 1446.71  Z\n",
       "  \" fill=\"#009af9\" fill-rule=\"evenodd\" fill-opacity=\"1\"/>\n",
       "<polyline clip-path=\"url(#clip0602)\" style=\"stroke:#000000; stroke-width:4; stroke-opacity:1; fill:none\" points=\"\n",
       "  1495.34,1446.71 1495.34,1446.71 1529.91,1446.71 1495.34,1446.71 \n",
       "  \"/>\n",
       "<path clip-path=\"url(#clip0602)\" d=\"\n",
       "M1529.91 1446.71 L1529.91 1446.71 L1564.49 1446.71 L1564.49 1446.71 L1529.91 1446.71 L1529.91 1446.71  Z\n",
       "  \" fill=\"#009af9\" fill-rule=\"evenodd\" fill-opacity=\"1\"/>\n",
       "<polyline clip-path=\"url(#clip0602)\" style=\"stroke:#000000; stroke-width:4; stroke-opacity:1; fill:none\" points=\"\n",
       "  1529.91,1446.71 1529.91,1446.71 1564.49,1446.71 1529.91,1446.71 \n",
       "  \"/>\n",
       "<path clip-path=\"url(#clip0602)\" d=\"\n",
       "M1564.49 1446.71 L1564.49 1446.71 L1599.06 1446.71 L1599.06 1446.71 L1564.49 1446.71 L1564.49 1446.71  Z\n",
       "  \" fill=\"#009af9\" fill-rule=\"evenodd\" fill-opacity=\"1\"/>\n",
       "<polyline clip-path=\"url(#clip0602)\" style=\"stroke:#000000; stroke-width:4; stroke-opacity:1; fill:none\" points=\"\n",
       "  1564.49,1446.71 1564.49,1446.71 1599.06,1446.71 1564.49,1446.71 \n",
       "  \"/>\n",
       "<path clip-path=\"url(#clip0602)\" d=\"\n",
       "M1599.06 1446.71 L1599.06 1446.71 L1633.63 1446.71 L1633.63 1446.71 L1599.06 1446.71 L1599.06 1446.71  Z\n",
       "  \" fill=\"#009af9\" fill-rule=\"evenodd\" fill-opacity=\"1\"/>\n",
       "<polyline clip-path=\"url(#clip0602)\" style=\"stroke:#000000; stroke-width:4; stroke-opacity:1; fill:none\" points=\"\n",
       "  1599.06,1446.71 1599.06,1446.71 1633.63,1446.71 1599.06,1446.71 \n",
       "  \"/>\n",
       "<path clip-path=\"url(#clip0602)\" d=\"\n",
       "M1633.63 1446.71 L1633.63 1446.71 L1668.21 1446.71 L1668.21 1446.71 L1633.63 1446.71 L1633.63 1446.71  Z\n",
       "  \" fill=\"#009af9\" fill-rule=\"evenodd\" fill-opacity=\"1\"/>\n",
       "<polyline clip-path=\"url(#clip0602)\" style=\"stroke:#000000; stroke-width:4; stroke-opacity:1; fill:none\" points=\"\n",
       "  1633.63,1446.71 1633.63,1446.71 1668.21,1446.71 1633.63,1446.71 \n",
       "  \"/>\n",
       "<polyline clip-path=\"url(#clip0602)\" style=\"stroke:#ff0000; stroke-width:12; stroke-opacity:1; fill:none\" points=\"\n",
       "  216.13,1446.71 233.416,1446.71 250.703,1446.71 267.99,1446.71 285.276,1446.71 302.563,1446.7 319.85,1446.68 337.136,1446.65 354.423,1446.6 371.709,1446.5 \n",
       "  388.996,1446.33 406.283,1446.03 423.569,1445.54 440.856,1444.74 458.142,1443.47 475.429,1441.51 492.716,1438.56 510.002,1434.21 527.289,1427.96 544.576,1419.2 \n",
       "  561.862,1407.2 579.149,1391.15 596.435,1370.15 613.722,1343.3 631.009,1309.76 648.295,1268.78 665.582,1219.82 682.869,1162.65 700.155,1097.37 717.442,1024.55 \n",
       "  734.728,945.179 752.015,860.736 769.302,773.126 786.588,684.614 803.875,597.723 821.161,515.108 838.448,439.405 855.735,373.084 873.021,318.311 890.308,276.823 \n",
       "  907.595,249.841 924.881,238.011 942.168,241.391 959.454,259.472 976.741,291.233 994.028,335.219 1011.31,389.65 1028.6,452.524 1045.89,521.733 1063.17,595.166 \n",
       "  1080.46,670.804 1097.75,746.792 1115.03,821.499 1132.32,893.552 1149.61,961.853 1166.89,1025.58 1184.18,1084.18 1201.47,1137.33 1218.75,1184.93 1236.04,1227.05 \n",
       "  1253.33,1263.88 1270.61,1295.75 1287.9,1323.04 1305.19,1346.16 1322.47,1365.58 1339.76,1381.72 1357.05,1395.03 1374.33,1405.9 1391.62,1414.71 1408.91,1421.79 \n",
       "  1426.19,1427.43 1443.48,1431.89 1460.77,1435.4 1478.05,1438.13 1495.34,1440.24 1512.63,1441.86 1529.91,1443.1 1547.2,1444.04 1564.49,1444.75 1581.77,1445.27 \n",
       "  1599.06,1445.67 1616.35,1445.96 1633.63,1446.17 1650.92,1446.32 1668.21,1446.44 1685.49,1446.52 1702.78,1446.58 1720.07,1446.62 1737.35,1446.65 1754.64,1446.67 \n",
       "  1771.93,1446.68 1789.21,1446.69 1806.5,1446.7 1823.79,1446.7 1841.07,1446.71 1858.36,1446.71 1875.65,1446.71 1892.93,1446.71 1910.22,1446.71 1927.51,1446.71 \n",
       "  1944.79,1446.71 1962.08,1446.71 1979.36,1446.71 1996.65,1446.71 2013.94,1446.71 2031.22,1446.71 2048.51,1446.71 2065.8,1446.71 2083.08,1446.71 2100.37,1446.71 \n",
       "  2117.66,1446.71 2134.94,1446.71 2152.23,1446.71 2169.52,1446.71 2186.8,1446.71 2204.09,1446.71 2221.38,1446.71 2238.66,1446.71 2255.95,1446.71 2273.24,1446.71 \n",
       "  2290.52,1446.71 \n",
       "  \"/>\n",
       "<path clip-path=\"url(#clip0600)\" d=\"\n",
       "M1596.77 312.204 L2280.76 312.204 L2280.76 130.764 L1596.77 130.764  Z\n",
       "  \" fill=\"#ffffff\" fill-rule=\"evenodd\" fill-opacity=\"1\"/>\n",
       "<polyline clip-path=\"url(#clip0600)\" style=\"stroke:#000000; stroke-width:4; stroke-opacity:1; fill:none\" points=\"\n",
       "  1596.77,312.204 2280.76,312.204 2280.76,130.764 1596.77,130.764 1596.77,312.204 \n",
       "  \"/>\n",
       "<path clip-path=\"url(#clip0600)\" d=\"\n",
       "M1620.77 215.436 L1764.77 215.436 L1764.77 167.052 L1620.77 167.052 L1620.77 215.436  Z\n",
       "  \" fill=\"#009af9\" fill-rule=\"evenodd\" fill-opacity=\"1\"/>\n",
       "<polyline clip-path=\"url(#clip0600)\" style=\"stroke:#000000; stroke-width:4; stroke-opacity:1; fill:none\" points=\"\n",
       "  1620.77,215.436 1764.77,215.436 1764.77,167.052 1620.77,167.052 1620.77,215.436 \n",
       "  \"/>\n",
       "<g clip-path=\"url(#clip0600)\">\n",
       "<text style=\"fill:#000000; fill-opacity:1; font-family:Arial,Helvetica Neue,Helvetica,sans-serif; font-size:48px; text-anchor:start;\" transform=\"rotate(0, 1788.77, 208.744)\" x=\"1788.77\" y=\"208.744\">Empirical distribution</text>\n",
       "</g>\n",
       "<polyline clip-path=\"url(#clip0600)\" style=\"stroke:#ff0000; stroke-width:12; stroke-opacity:1; fill:none\" points=\"\n",
       "  1620.77,251.724 1764.77,251.724 \n",
       "  \"/>\n",
       "<g clip-path=\"url(#clip0600)\">\n",
       "<text style=\"fill:#000000; fill-opacity:1; font-family:Arial,Helvetica Neue,Helvetica,sans-serif; font-size:48px; text-anchor:start;\" transform=\"rotate(0, 1788.77, 269.224)\" x=\"1788.77\" y=\"269.224\">Tracy-Widom PDF</text>\n",
       "</g>\n",
       "</svg>\n"
      ]
     },
     "execution_count": 23,
     "metadata": {},
     "output_type": "execute_result"
    }
   ],
   "source": [
    "N = 100\n",
    "law = \"Exponential\"\n",
    "q = 0.2\n",
    "λ = 1\n",
    "plot_clt(N, law, q, λ, TW_pdf, d)"
   ]
  }
 ],
 "metadata": {
  "@webio": {
   "lastCommId": "29f2ff3048344333852e478d1d566e64",
   "lastKernelId": "112af0d7-f13c-418a-a378-2bbe83ec6239"
  },
  "kernelspec": {
   "display_name": "Julia 1.3.0",
   "language": "julia",
   "name": "julia-1.3"
  },
  "language_info": {
   "file_extension": ".jl",
   "mimetype": "application/julia",
   "name": "julia",
   "version": "1.3.0"
  }
 },
 "nbformat": 4,
 "nbformat_minor": 2
}
