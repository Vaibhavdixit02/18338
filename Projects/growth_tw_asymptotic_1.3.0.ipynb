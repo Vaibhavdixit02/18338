{
 "cells": [
  {
   "cell_type": "code",
   "execution_count": 1,
   "metadata": {},
   "outputs": [
    {
     "data": {
      "text/html": [
       "<script>\n",
       "// Immediately-invoked-function-expression to avoid global variables.\n",
       "(function() {\n",
       "    var warning_div = document.getElementById(\"webio-warning-2753031193288441153\");\n",
       "    var hide = function () {\n",
       "        var script = document.getElementById(\"webio-setup-5613563496415469509\");\n",
       "        var parent = script && script.parentElement;\n",
       "        var grandparent = parent && parent.parentElement;\n",
       "        if (grandparent) {\n",
       "            grandparent.style.display = \"none\";\n",
       "        }\n",
       "        warning_div.style.display = \"none\";\n",
       "    };\n",
       "    if (typeof Jupyter !== \"undefined\") {\n",
       "        console.log(\"WebIO detected Jupyter notebook environment.\");\n",
       "        // Jupyter notebook.\n",
       "        var extensions = (\n",
       "            Jupyter\n",
       "            && Jupyter.notebook.config.data\n",
       "            && Jupyter.notebook.config.data.load_extensions\n",
       "        );\n",
       "        if (extensions && extensions[\"webio-jupyter-notebook\"]) {\n",
       "            // Extension already loaded.\n",
       "            console.log(\"Jupyter WebIO nbextension detected; not loading ad-hoc.\");\n",
       "            hide();\n",
       "            return;\n",
       "        }\n",
       "    } else if (window.location.pathname.includes(\"/lab\")) {\n",
       "        // Guessing JupyterLa\n",
       "        console.log(\"Jupyter Lab detected; make sure the @webio/jupyter-lab-provider labextension is installed.\");\n",
       "        hide();\n",
       "        return;\n",
       "    }\n",
       "})();\n",
       "\n",
       "</script>\n",
       "<p\n",
       "    id=\"webio-warning-2753031193288441153\"\n",
       "    class=\"output_text output_stderr\"\n",
       "    style=\"padding: 1em; font-weight: bold;\"\n",
       ">\n",
       "    Unable to load WebIO. Please make sure WebIO works for your Jupyter client.\n",
       "    For troubleshooting, please see <a href=\"https://juliagizmos.github.io/WebIO.jl/latest/providers/ijulia/\">\n",
       "    the WebIO/IJulia documentation</a>.\n",
       "    <!-- TODO: link to installation docs. -->\n",
       "</p>\n"
      ],
      "text/plain": [
       "HTML{String}(\"<script>\\n// Immediately-invoked-function-expression to avoid global variables.\\n(function() {\\n    var warning_div = document.getElementById(\\\"webio-warning-2753031193288441153\\\");\\n    var hide = function () {\\n        var script = document.getElementById(\\\"webio-setup-5613563496415469509\\\");\\n        var parent = script && script.parentElement;\\n        var grandparent = parent && parent.parentElement;\\n        if (grandparent) {\\n            grandparent.style.display = \\\"none\\\";\\n        }\\n        warning_div.style.display = \\\"none\\\";\\n    };\\n    if (typeof Jupyter !== \\\"undefined\\\") {\\n        console.log(\\\"WebIO detected Jupyter notebook environment.\\\");\\n        // Jupyter notebook.\\n        var extensions = (\\n            Jupyter\\n            && Jupyter.notebook.config.data\\n            && Jupyter.notebook.config.data.load_extensions\\n        );\\n        if (extensions && extensions[\\\"webio-jupyter-notebook\\\"]) {\\n            // Extension already loaded.\\n            console.log(\\\"Jupyter WebIO nbextension detected; not loading ad-hoc.\\\");\\n            hide();\\n            return;\\n        }\\n    } else if (window.location.pathname.includes(\\\"/lab\\\")) {\\n        // Guessing JupyterLa\\n        console.log(\\\"Jupyter Lab detected; make sure the @webio/jupyter-lab-provider labextension is installed.\\\");\\n        hide();\\n        return;\\n    }\\n})();\\n\\n</script>\\n<p\\n    id=\\\"webio-warning-2753031193288441153\\\"\\n    class=\\\"output_text output_stderr\\\"\\n    style=\\\"padding: 1em; font-weight: bold;\\\"\\n>\\n    Unable to load WebIO. Please make sure WebIO works for your Jupyter client.\\n    For troubleshooting, please see <a href=\\\"https://juliagizmos.github.io/WebIO.jl/latest/providers/ijulia/\\\">\\n    the WebIO/IJulia documentation</a>.\\n    <!-- TODO: link to installation docs. -->\\n</p>\\n\")"
      ]
     },
     "metadata": {},
     "output_type": "display_data"
    }
   ],
   "source": [
    "using Plots\n",
    "using Interact\n",
    "using Distributions\n",
    "using RandomMatrices"
   ]
  },
  {
   "cell_type": "code",
   "execution_count": 2,
   "metadata": {},
   "outputs": [],
   "source": [
    "function tw_pdf(xs, step)\n",
    "    c = cdf(TracyWidom, vcat(vcat(xs[1]-step,xs),xs[end]+step))\n",
    "    d = (diff(c)[1:end-1]+diff(c)[2:end]) / (2*step)\n",
    "    return d\n",
    "end\n",
    "\n",
    "step = 0.1\n",
    "min_, max_ = -6, 6\n",
    "xs = min_:step:max_\n",
    "TW_pdf = tw_pdf(xs, step);"
   ]
  },
  {
   "cell_type": "code",
   "execution_count": 3,
   "metadata": {},
   "outputs": [
    {
     "data": {
      "text/plain": [
       "m_G (generic function with 1 method)"
      ]
     },
     "execution_count": 3,
     "metadata": {},
     "output_type": "execute_result"
    }
   ],
   "source": [
    "function m_G(wait)\n",
    "    N = size(wait)[1]\n",
    "    memg = zeros(N, N) .- 1\n",
    "    memg[1, 1] = 0\n",
    "    function tmp_G(i, j, wait)\n",
    "        if(memg[i, j] == -1)\n",
    "            if(i==1)\n",
    "                res1 = tmp_G(i, j-1, wait)\n",
    "                memg[i, j-1] = res1\n",
    "                res = res1 + wait[i, j] #+1\n",
    "            elseif(j==1)\n",
    "                res1 = tmp_G(i-1, j, wait)\n",
    "                memg[i-1, j] = res1\n",
    "                res = res1 + wait[i, j] #+1\n",
    "            else\n",
    "                res1 = tmp_G(i, j-1, wait)\n",
    "                res2 = tmp_G(i-1, j, wait)\n",
    "                memg[i, j-1] = res1\n",
    "                memg[i-1, j] = res2\n",
    "                res = max(res1, res2) + wait[i, j] #+1\n",
    "            end\n",
    "            memg[i, j] = res\n",
    "        end\n",
    "        return memg[i, j]\n",
    "    end\n",
    "    tmp_G(N, N, wait)\n",
    "    return memg\n",
    "end"
   ]
  },
  {
   "cell_type": "code",
   "execution_count": 4,
   "metadata": {},
   "outputs": [
    {
     "data": {
      "text/plain": [
       "get_grid (generic function with 1 method)"
      ]
     },
     "execution_count": 4,
     "metadata": {},
     "output_type": "execute_result"
    }
   ],
   "source": [
    "function get_grid(law, N)\n",
    "    w = rand(law, N, N)\n",
    "    grid = m_G(w)\n",
    "    return grid\n",
    "end"
   ]
  },
  {
   "cell_type": "code",
   "execution_count": 5,
   "metadata": {},
   "outputs": [
    {
     "data": {
      "text/plain": [
       "renorm_params (generic function with 1 method)"
      ]
     },
     "execution_count": 5,
     "metadata": {},
     "output_type": "execute_result"
    }
   ],
   "source": [
    "function renorm_params(law)\n",
    "    r = 1\n",
    "    if typeof(law) == Geometric{Float64}\n",
    "        q = 1-params(law)[1]\n",
    "        γ = (q*(1+r) + 2*√(q*r)) / (1-q)\n",
    "        σ = (1/(1-q)) * (q/r)^(1/6) * (√q + √r)^(2/3) * (1 + √(q*r))^(2/3)\n",
    "    elseif typeof(law) == Exponential{Float64}\n",
    "        λ = 1/params(law)[1]\n",
    "        γ = (1+√r)^2 / λ\n",
    "        σ = r^(-1/6) * (1+r)^(4/3) / λ\n",
    "    end\n",
    "    return γ, σ\n",
    "end"
   ]
  },
  {
   "cell_type": "code",
   "execution_count": 6,
   "metadata": {},
   "outputs": [
    {
     "data": {
      "text/plain": [
       "plot_lln (generic function with 1 method)"
      ]
     },
     "execution_count": 6,
     "metadata": {},
     "output_type": "execute_result"
    }
   ],
   "source": [
    "function plot_lln(max_N, law_name, q, λ)\n",
    "    if(law_name == \"Geometric\")\n",
    "        law = Geometric(q)\n",
    "    else\n",
    "        law = Exponential(λ)\n",
    "    end\n",
    "    γ, σ = renorm_params(law)\n",
    "    grid = get_grid(law, max_N)\n",
    "    diag = [grid[i,i] / i for i in 1:max_N]\n",
    "    plot(1:max_N, diag, lw = 3, color = \"red\", legend=:bottomleft, xlabel = \"N\", label = \"empirical T(N,N)\")\n",
    "    hline!([γ], lw = 3, color = \"black\", label = \"theoretical limit\")\n",
    "end"
   ]
  },
  {
   "cell_type": "code",
   "execution_count": 7,
   "metadata": {},
   "outputs": [
    {
     "data": {
      "text/plain": [
       "plot_clt (generic function with 1 method)"
      ]
     },
     "execution_count": 7,
     "metadata": {},
     "output_type": "execute_result"
    }
   ],
   "source": [
    "function plot_clt(nb_samples, N, law_name, q, λ, TW_pdf, d)\n",
    "    if(law_name == \"Geometric\")\n",
    "        res = d[law_name][q][N][1:nb_samples]\n",
    "        γ, σ = renorm_params(Geometric(q))\n",
    "    else\n",
    "        res = d[law_name][λ][N][1:nb_samples]\n",
    "        γ, σ = renorm_params(Exponential(λ))\n",
    "    end\n",
    "    norm_res = (res .- γ*N) ./ (σ * N^(1/3))\n",
    "    histogram(norm_res, normalize=true, bins=-5:0.2:2.5, label = \"Empirical distribution\")\n",
    "    plot!(xs, TW_pdf, lw = 3, color = \"red\", label = \"Tracy-Widom PDF\")\n",
    "end"
   ]
  },
  {
   "cell_type": "markdown",
   "metadata": {},
   "source": [
    "### LLN"
   ]
  },
  {
   "cell_type": "markdown",
   "metadata": {},
   "source": [
    "__The convergence happens from below ($\\mathbb{E}[TW] \\sim -2$).__"
   ]
  },
  {
   "cell_type": "code",
   "execution_count": 11,
   "metadata": {},
   "outputs": [
    {
     "data": {
      "application/vnd.webio.node+json": {
       "children": [
        {
         "children": [
          {
           "children": [
            {
             "children": [
              {
               "children": [
                {
                 "children": [
                  "max_N"
                 ],
                 "instanceArgs": {
                  "namespace": "html",
                  "tag": "label"
                 },
                 "nodeType": "DOM",
                 "props": {
                  "className": "interact ",
                  "style": {
                   "padding": "5px 10px 0px 10px"
                  }
                 },
                 "type": "node"
                }
               ],
               "instanceArgs": {
                "namespace": "html",
                "tag": "div"
               },
               "nodeType": "DOM",
               "props": {
                "className": "interact-flex-row-left"
               },
               "type": "node"
              },
              {
               "children": [
                {
                 "children": [],
                 "instanceArgs": {
                  "namespace": "html",
                  "tag": "input"
                 },
                 "nodeType": "DOM",
                 "props": {
                  "attributes": {
                   "data-bind": "numericValue: index, valueUpdate: 'input', event: {change: function (){this.changes(this.changes()+1)}}",
                   "orient": "horizontal",
                   "type": "range"
                  },
                  "className": "slider slider is-fullwidth",
                  "max": 19,
                  "min": 1,
                  "step": 1,
                  "style": {}
                 },
                 "type": "node"
                }
               ],
               "instanceArgs": {
                "namespace": "html",
                "tag": "div"
               },
               "nodeType": "DOM",
               "props": {
                "className": "interact-flex-row-center"
               },
               "type": "node"
              },
              {
               "children": [
                {
                 "children": [],
                 "instanceArgs": {
                  "namespace": "html",
                  "tag": "p"
                 },
                 "nodeType": "DOM",
                 "props": {
                  "attributes": {
                   "data-bind": "text: formatted_val"
                  }
                 },
                 "type": "node"
                }
               ],
               "instanceArgs": {
                "namespace": "html",
                "tag": "div"
               },
               "nodeType": "DOM",
               "props": {
                "className": "interact-flex-row-right"
               },
               "type": "node"
              }
             ],
             "instanceArgs": {
              "namespace": "html",
              "tag": "div"
             },
             "nodeType": "DOM",
             "props": {
              "className": "interact-flex-row interact-widget"
             },
             "type": "node"
            }
           ],
           "instanceArgs": {
            "handlers": {
             "changes": [
              "(function (val){return (val!=this.model[\"changes\"]()) ? (this.valueFromJulia[\"changes\"]=true, this.model[\"changes\"](val)) : undefined})"
             ],
             "index": [
              "(function (val){return (val!=this.model[\"index\"]()) ? (this.valueFromJulia[\"index\"]=true, this.model[\"index\"](val)) : undefined})"
             ]
            },
            "id": "3204652391531888282",
            "imports": {
             "data": [
              {
               "name": "knockout",
               "type": "js",
               "url": "/assetserver/254160226b58162a42111ea27214076747de1cf2-knockout.js"
              },
              {
               "name": "knockout_punches",
               "type": "js",
               "url": "/assetserver/2d0bf510fb683322318163f3ec7562806e4b1104-knockout_punches.js"
              },
              {
               "name": null,
               "type": "js",
               "url": "/assetserver/6ffcdda43c684da84d2ca5dd2027e4a55c68edac-all.js"
              },
              {
               "name": null,
               "type": "css",
               "url": "/assetserver/b0b44adaed1197b8510174b41f32f09d98a0c28e-style.css"
              },
              {
               "name": null,
               "type": "css",
               "url": "/assetserver/bbb2e3064bd5f6dfcf2f18fbeb52d9320f251632-bulma_confined.min.css"
              }
             ],
             "type": "async_block"
            },
            "mount_callbacks": [
             "function () {\n    var handler = (function (ko, koPunches) {\n    ko.punches.enableAll();\n    ko.bindingHandlers.numericValue = {\n        init: function(element, valueAccessor, allBindings, data, context) {\n            var stringified = ko.observable(ko.unwrap(valueAccessor()));\n            stringified.subscribe(function(value) {\n                var val = parseFloat(value);\n                if (!isNaN(val)) {\n                    valueAccessor()(val);\n                }\n            });\n            valueAccessor().subscribe(function(value) {\n                var str = JSON.stringify(value);\n                if ((str == \"0\") && ([\"-0\", \"-0.\"].indexOf(stringified()) >= 0))\n                     return;\n                 if ([\"null\", \"\"].indexOf(str) >= 0)\n                     return;\n                stringified(str);\n            });\n            ko.applyBindingsToNode(\n                element,\n                {\n                    value: stringified,\n                    valueUpdate: allBindings.get('valueUpdate'),\n                },\n                context,\n            );\n        }\n    };\n    var json_data = {\"formatted_vals\":[\"100\",\"150\",\"200\",\"250\",\"300\",\"350\",\"400\",\"450\",\"500\",\"550\",\"600\",\"650\",\"700\",\"750\",\"800\",\"850\",\"900\",\"950\",\"1000\"],\"changes\":WebIO.getval({\"name\":\"changes\",\"scope\":\"3204652391531888282\",\"id\":\"ob_23\",\"type\":\"observable\"}),\"index\":WebIO.getval({\"name\":\"index\",\"scope\":\"3204652391531888282\",\"id\":\"ob_22\",\"type\":\"observable\"})};\n    var self = this;\n    function AppViewModel() {\n        for (var key in json_data) {\n            var el = json_data[key];\n            this[key] = Array.isArray(el) ? ko.observableArray(el) : ko.observable(el);\n        }\n        \n        [this[\"formatted_val\"]=ko.computed(    function(){\n        return this.formatted_vals()[parseInt(this.index())-(1)];\n    }\n,this)]\n        [this[\"changes\"].subscribe((function (val){!(this.valueFromJulia[\"changes\"]) ? (WebIO.setval({\"name\":\"changes\",\"scope\":\"3204652391531888282\",\"id\":\"ob_23\",\"type\":\"observable\"},val)) : undefined; return this.valueFromJulia[\"changes\"]=false}),self),this[\"index\"].subscribe((function (val){!(this.valueFromJulia[\"index\"]) ? (WebIO.setval({\"name\":\"index\",\"scope\":\"3204652391531888282\",\"id\":\"ob_22\",\"type\":\"observable\"},val)) : undefined; return this.valueFromJulia[\"index\"]=false}),self)]\n        \n    }\n    self.model = new AppViewModel();\n    self.valueFromJulia = {};\n    for (var key in json_data) {\n        self.valueFromJulia[key] = false;\n    }\n    ko.applyBindings(self.model, self.dom);\n}\n);\n    (WebIO.importBlock({\"data\":[{\"name\":\"knockout\",\"type\":\"js\",\"url\":\"/assetserver/254160226b58162a42111ea27214076747de1cf2-knockout.js\"},{\"name\":\"knockout_punches\",\"type\":\"js\",\"url\":\"/assetserver/2d0bf510fb683322318163f3ec7562806e4b1104-knockout_punches.js\"}],\"type\":\"async_block\"})).then((imports) => handler.apply(this, imports));\n}\n"
            ],
            "observables": {
             "changes": {
              "id": "ob_23",
              "sync": false,
              "value": 0
             },
             "index": {
              "id": "ob_22",
              "sync": true,
              "value": 10
             }
            },
            "systemjs_options": null
           },
           "nodeType": "Scope",
           "props": {},
           "type": "node"
          }
         ],
         "instanceArgs": {
          "namespace": "html",
          "tag": "div"
         },
         "nodeType": "DOM",
         "props": {
          "className": "field interact-widget"
         },
         "type": "node"
        },
        {
         "children": [
          {
           "children": [
            {
             "children": [
              {
               "children": [
                {
                 "children": [
                  "law_name"
                 ],
                 "instanceArgs": {
                  "namespace": "html",
                  "tag": "label"
                 },
                 "nodeType": "DOM",
                 "props": {
                  "className": "interact ",
                  "style": {
                   "padding": "5px 10px 0px 10px"
                  }
                 },
                 "type": "node"
                }
               ],
               "instanceArgs": {
                "namespace": "html",
                "tag": "div"
               },
               "nodeType": "DOM",
               "props": {
                "className": "interact-flex-row-left"
               },
               "type": "node"
              },
              {
               "children": [
                {
                 "children": [
                  {
                   "children": [
                    {
                     "children": [],
                     "instanceArgs": {
                      "namespace": "html",
                      "tag": "label"
                     },
                     "nodeType": "DOM",
                     "props": {
                      "attributes": {
                       "data-bind": "text : key"
                      }
                     },
                     "type": "node"
                    }
                   ],
                   "instanceArgs": {
                    "namespace": "html",
                    "tag": "span"
                   },
                   "nodeType": "DOM",
                   "props": {
                    "attributes": {
                     "data-bind": "click: function (){$root.update(val)}, css: {'is-primary is-selected' : $root.index() == val, 'interact-widget is-medium button ' : true}"
                    }
                   },
                   "type": "node"
                  }
                 ],
                 "instanceArgs": {
                  "namespace": "html",
                  "tag": "div"
                 },
                 "nodeType": "DOM",
                 "props": {
                  "attributes": {
                   "data-bind": "foreach : options_js"
                  },
                  "className": "buttons has-addons is-centered"
                 },
                 "type": "node"
                }
               ],
               "instanceArgs": {
                "namespace": "html",
                "tag": "div"
               },
               "nodeType": "DOM",
               "props": {
                "className": "interact-flex-row-center"
               },
               "type": "node"
              },
              {
               "children": [
                {
                 "children": [],
                 "instanceArgs": {
                  "namespace": "html",
                  "tag": "div"
                 },
                 "nodeType": "DOM",
                 "props": {},
                 "type": "node"
                }
               ],
               "instanceArgs": {
                "namespace": "html",
                "tag": "div"
               },
               "nodeType": "DOM",
               "props": {
                "className": "interact-flex-row-right"
               },
               "type": "node"
              }
             ],
             "instanceArgs": {
              "namespace": "html",
              "tag": "div"
             },
             "nodeType": "DOM",
             "props": {
              "className": "interact-flex-row interact-widget"
             },
             "type": "node"
            }
           ],
           "instanceArgs": {
            "handlers": {
             "index": [
              "(function (val){return (val!=this.model[\"index\"]()) ? (this.valueFromJulia[\"index\"]=true, this.model[\"index\"](val)) : undefined})"
             ],
             "options_js": [
              "(function (val){return (val!=this.model[\"options_js\"]()) ? (this.valueFromJulia[\"options_js\"]=true, this.model[\"options_js\"](val)) : undefined})"
             ]
            },
            "id": "15955561164930491605",
            "imports": {
             "data": [
              {
               "name": "knockout",
               "type": "js",
               "url": "/assetserver/254160226b58162a42111ea27214076747de1cf2-knockout.js"
              },
              {
               "name": "knockout_punches",
               "type": "js",
               "url": "/assetserver/2d0bf510fb683322318163f3ec7562806e4b1104-knockout_punches.js"
              },
              {
               "name": null,
               "type": "js",
               "url": "/assetserver/6ffcdda43c684da84d2ca5dd2027e4a55c68edac-all.js"
              },
              {
               "name": null,
               "type": "css",
               "url": "/assetserver/b0b44adaed1197b8510174b41f32f09d98a0c28e-style.css"
              },
              {
               "name": null,
               "type": "css",
               "url": "/assetserver/bbb2e3064bd5f6dfcf2f18fbeb52d9320f251632-bulma_confined.min.css"
              }
             ],
             "type": "async_block"
            },
            "mount_callbacks": [
             "function () {\n    var handler = (function (ko, koPunches) {\n    ko.punches.enableAll();\n    ko.bindingHandlers.numericValue = {\n        init: function(element, valueAccessor, allBindings, data, context) {\n            var stringified = ko.observable(ko.unwrap(valueAccessor()));\n            stringified.subscribe(function(value) {\n                var val = parseFloat(value);\n                if (!isNaN(val)) {\n                    valueAccessor()(val);\n                }\n            });\n            valueAccessor().subscribe(function(value) {\n                var str = JSON.stringify(value);\n                if ((str == \"0\") && ([\"-0\", \"-0.\"].indexOf(stringified()) >= 0))\n                     return;\n                 if ([\"null\", \"\"].indexOf(str) >= 0)\n                     return;\n                stringified(str);\n            });\n            ko.applyBindingsToNode(\n                element,\n                {\n                    value: stringified,\n                    valueUpdate: allBindings.get('valueUpdate'),\n                },\n                context,\n            );\n        }\n    };\n    var json_data = {\"options_js\":WebIO.getval({\"name\":\"options_js\",\"scope\":\"15955561164930491605\",\"id\":\"ob_28\",\"type\":\"observable\"}),\"index\":WebIO.getval({\"name\":\"index\",\"scope\":\"15955561164930491605\",\"id\":\"ob_27\",\"type\":\"observable\"})};\n    var self = this;\n    function AppViewModel() {\n        for (var key in json_data) {\n            var el = json_data[key];\n            this[key] = Array.isArray(el) ? ko.observableArray(el) : ko.observable(el);\n        }\n        [this[\"update\"]=function (val) {this.index(val)}]\n        \n        [this[\"options_js\"].subscribe((function (val){!(this.valueFromJulia[\"options_js\"]) ? (WebIO.setval({\"name\":\"options_js\",\"scope\":\"15955561164930491605\",\"id\":\"ob_28\",\"type\":\"observable\"},val)) : undefined; return this.valueFromJulia[\"options_js\"]=false}),self),this[\"index\"].subscribe((function (val){!(this.valueFromJulia[\"index\"]) ? (WebIO.setval({\"name\":\"index\",\"scope\":\"15955561164930491605\",\"id\":\"ob_27\",\"type\":\"observable\"},val)) : undefined; return this.valueFromJulia[\"index\"]=false}),self)]\n        \n    }\n    self.model = new AppViewModel();\n    self.valueFromJulia = {};\n    for (var key in json_data) {\n        self.valueFromJulia[key] = false;\n    }\n    ko.applyBindings(self.model, self.dom);\n}\n);\n    (WebIO.importBlock({\"data\":[{\"name\":\"knockout\",\"type\":\"js\",\"url\":\"/assetserver/254160226b58162a42111ea27214076747de1cf2-knockout.js\"},{\"name\":\"knockout_punches\",\"type\":\"js\",\"url\":\"/assetserver/2d0bf510fb683322318163f3ec7562806e4b1104-knockout_punches.js\"}],\"type\":\"async_block\"})).then((imports) => handler.apply(this, imports));\n}\n"
            ],
            "observables": {
             "index": {
              "id": "ob_27",
              "sync": true,
              "value": 1
             },
             "options_js": {
              "id": "ob_28",
              "sync": false,
              "value": [
               {
                "id": "idMEIMV8z4",
                "key": "Geometric",
                "val": 1
               },
               {
                "id": "idl3w5dnZ6",
                "key": "Exponential",
                "val": 2
               }
              ]
             }
            },
            "systemjs_options": null
           },
           "nodeType": "Scope",
           "props": {},
           "type": "node"
          }
         ],
         "instanceArgs": {
          "namespace": "html",
          "tag": "div"
         },
         "nodeType": "DOM",
         "props": {
          "className": "interact-widget"
         },
         "type": "node"
        },
        {
         "children": [
          {
           "children": [
            {
             "children": [
              {
               "children": [
                {
                 "children": [
                  "q"
                 ],
                 "instanceArgs": {
                  "namespace": "html",
                  "tag": "label"
                 },
                 "nodeType": "DOM",
                 "props": {
                  "className": "interact ",
                  "style": {
                   "padding": "5px 10px 0px 10px"
                  }
                 },
                 "type": "node"
                }
               ],
               "instanceArgs": {
                "namespace": "html",
                "tag": "div"
               },
               "nodeType": "DOM",
               "props": {
                "className": "interact-flex-row-left"
               },
               "type": "node"
              },
              {
               "children": [
                {
                 "children": [],
                 "instanceArgs": {
                  "namespace": "html",
                  "tag": "input"
                 },
                 "nodeType": "DOM",
                 "props": {
                  "attributes": {
                   "data-bind": "numericValue: index, valueUpdate: 'input', event: {change: function (){this.changes(this.changes()+1)}}",
                   "orient": "horizontal",
                   "type": "range"
                  },
                  "className": "slider slider is-fullwidth",
                  "max": 19,
                  "min": 1,
                  "step": 1,
                  "style": {}
                 },
                 "type": "node"
                }
               ],
               "instanceArgs": {
                "namespace": "html",
                "tag": "div"
               },
               "nodeType": "DOM",
               "props": {
                "className": "interact-flex-row-center"
               },
               "type": "node"
              },
              {
               "children": [
                {
                 "children": [],
                 "instanceArgs": {
                  "namespace": "html",
                  "tag": "p"
                 },
                 "nodeType": "DOM",
                 "props": {
                  "attributes": {
                   "data-bind": "text: formatted_val"
                  }
                 },
                 "type": "node"
                }
               ],
               "instanceArgs": {
                "namespace": "html",
                "tag": "div"
               },
               "nodeType": "DOM",
               "props": {
                "className": "interact-flex-row-right"
               },
               "type": "node"
              }
             ],
             "instanceArgs": {
              "namespace": "html",
              "tag": "div"
             },
             "nodeType": "DOM",
             "props": {
              "className": "interact-flex-row interact-widget"
             },
             "type": "node"
            }
           ],
           "instanceArgs": {
            "handlers": {
             "changes": [
              "(function (val){return (val!=this.model[\"changes\"]()) ? (this.valueFromJulia[\"changes\"]=true, this.model[\"changes\"](val)) : undefined})"
             ],
             "index": [
              "(function (val){return (val!=this.model[\"index\"]()) ? (this.valueFromJulia[\"index\"]=true, this.model[\"index\"](val)) : undefined})"
             ]
            },
            "id": "190995409720537985",
            "imports": {
             "data": [
              {
               "name": "knockout",
               "type": "js",
               "url": "/assetserver/254160226b58162a42111ea27214076747de1cf2-knockout.js"
              },
              {
               "name": "knockout_punches",
               "type": "js",
               "url": "/assetserver/2d0bf510fb683322318163f3ec7562806e4b1104-knockout_punches.js"
              },
              {
               "name": null,
               "type": "js",
               "url": "/assetserver/6ffcdda43c684da84d2ca5dd2027e4a55c68edac-all.js"
              },
              {
               "name": null,
               "type": "css",
               "url": "/assetserver/b0b44adaed1197b8510174b41f32f09d98a0c28e-style.css"
              },
              {
               "name": null,
               "type": "css",
               "url": "/assetserver/bbb2e3064bd5f6dfcf2f18fbeb52d9320f251632-bulma_confined.min.css"
              }
             ],
             "type": "async_block"
            },
            "mount_callbacks": [
             "function () {\n    var handler = (function (ko, koPunches) {\n    ko.punches.enableAll();\n    ko.bindingHandlers.numericValue = {\n        init: function(element, valueAccessor, allBindings, data, context) {\n            var stringified = ko.observable(ko.unwrap(valueAccessor()));\n            stringified.subscribe(function(value) {\n                var val = parseFloat(value);\n                if (!isNaN(val)) {\n                    valueAccessor()(val);\n                }\n            });\n            valueAccessor().subscribe(function(value) {\n                var str = JSON.stringify(value);\n                if ((str == \"0\") && ([\"-0\", \"-0.\"].indexOf(stringified()) >= 0))\n                     return;\n                 if ([\"null\", \"\"].indexOf(str) >= 0)\n                     return;\n                stringified(str);\n            });\n            ko.applyBindingsToNode(\n                element,\n                {\n                    value: stringified,\n                    valueUpdate: allBindings.get('valueUpdate'),\n                },\n                context,\n            );\n        }\n    };\n    var json_data = {\"formatted_vals\":[\"0.05\",\"0.1\",\"0.15\",\"0.2\",\"0.25\",\"0.3\",\"0.35\",\"0.4\",\"0.45\",\"0.5\",\"0.55\",\"0.6\",\"0.65\",\"0.7\",\"0.75\",\"0.8\",\"0.85\",\"0.9\",\"0.95\"],\"changes\":WebIO.getval({\"name\":\"changes\",\"scope\":\"190995409720537985\",\"id\":\"ob_31\",\"type\":\"observable\"}),\"index\":WebIO.getval({\"name\":\"index\",\"scope\":\"190995409720537985\",\"id\":\"ob_30\",\"type\":\"observable\"})};\n    var self = this;\n    function AppViewModel() {\n        for (var key in json_data) {\n            var el = json_data[key];\n            this[key] = Array.isArray(el) ? ko.observableArray(el) : ko.observable(el);\n        }\n        \n        [this[\"formatted_val\"]=ko.computed(    function(){\n        return this.formatted_vals()[parseInt(this.index())-(1)];\n    }\n,this)]\n        [this[\"changes\"].subscribe((function (val){!(this.valueFromJulia[\"changes\"]) ? (WebIO.setval({\"name\":\"changes\",\"scope\":\"190995409720537985\",\"id\":\"ob_31\",\"type\":\"observable\"},val)) : undefined; return this.valueFromJulia[\"changes\"]=false}),self),this[\"index\"].subscribe((function (val){!(this.valueFromJulia[\"index\"]) ? (WebIO.setval({\"name\":\"index\",\"scope\":\"190995409720537985\",\"id\":\"ob_30\",\"type\":\"observable\"},val)) : undefined; return this.valueFromJulia[\"index\"]=false}),self)]\n        \n    }\n    self.model = new AppViewModel();\n    self.valueFromJulia = {};\n    for (var key in json_data) {\n        self.valueFromJulia[key] = false;\n    }\n    ko.applyBindings(self.model, self.dom);\n}\n);\n    (WebIO.importBlock({\"data\":[{\"name\":\"knockout\",\"type\":\"js\",\"url\":\"/assetserver/254160226b58162a42111ea27214076747de1cf2-knockout.js\"},{\"name\":\"knockout_punches\",\"type\":\"js\",\"url\":\"/assetserver/2d0bf510fb683322318163f3ec7562806e4b1104-knockout_punches.js\"}],\"type\":\"async_block\"})).then((imports) => handler.apply(this, imports));\n}\n"
            ],
            "observables": {
             "changes": {
              "id": "ob_31",
              "sync": false,
              "value": 0
             },
             "index": {
              "id": "ob_30",
              "sync": true,
              "value": 10
             }
            },
            "systemjs_options": null
           },
           "nodeType": "Scope",
           "props": {},
           "type": "node"
          }
         ],
         "instanceArgs": {
          "namespace": "html",
          "tag": "div"
         },
         "nodeType": "DOM",
         "props": {
          "className": "field interact-widget"
         },
         "type": "node"
        },
        {
         "children": [
          {
           "children": [
            {
             "children": [
              {
               "children": [
                {
                 "children": [
                  "λ"
                 ],
                 "instanceArgs": {
                  "namespace": "html",
                  "tag": "label"
                 },
                 "nodeType": "DOM",
                 "props": {
                  "className": "interact ",
                  "style": {
                   "padding": "5px 10px 0px 10px"
                  }
                 },
                 "type": "node"
                }
               ],
               "instanceArgs": {
                "namespace": "html",
                "tag": "div"
               },
               "nodeType": "DOM",
               "props": {
                "className": "interact-flex-row-left"
               },
               "type": "node"
              },
              {
               "children": [
                {
                 "children": [],
                 "instanceArgs": {
                  "namespace": "html",
                  "tag": "input"
                 },
                 "nodeType": "DOM",
                 "props": {
                  "attributes": {
                   "data-bind": "numericValue: index, valueUpdate: 'input', event: {change: function (){this.changes(this.changes()+1)}}",
                   "orient": "horizontal",
                   "type": "range"
                  },
                  "className": "slider slider is-fullwidth",
                  "max": 10,
                  "min": 1,
                  "step": 1,
                  "style": {}
                 },
                 "type": "node"
                }
               ],
               "instanceArgs": {
                "namespace": "html",
                "tag": "div"
               },
               "nodeType": "DOM",
               "props": {
                "className": "interact-flex-row-center"
               },
               "type": "node"
              },
              {
               "children": [
                {
                 "children": [],
                 "instanceArgs": {
                  "namespace": "html",
                  "tag": "p"
                 },
                 "nodeType": "DOM",
                 "props": {
                  "attributes": {
                   "data-bind": "text: formatted_val"
                  }
                 },
                 "type": "node"
                }
               ],
               "instanceArgs": {
                "namespace": "html",
                "tag": "div"
               },
               "nodeType": "DOM",
               "props": {
                "className": "interact-flex-row-right"
               },
               "type": "node"
              }
             ],
             "instanceArgs": {
              "namespace": "html",
              "tag": "div"
             },
             "nodeType": "DOM",
             "props": {
              "className": "interact-flex-row interact-widget"
             },
             "type": "node"
            }
           ],
           "instanceArgs": {
            "handlers": {
             "changes": [
              "(function (val){return (val!=this.model[\"changes\"]()) ? (this.valueFromJulia[\"changes\"]=true, this.model[\"changes\"](val)) : undefined})"
             ],
             "index": [
              "(function (val){return (val!=this.model[\"index\"]()) ? (this.valueFromJulia[\"index\"]=true, this.model[\"index\"](val)) : undefined})"
             ]
            },
            "id": "12966108456295824029",
            "imports": {
             "data": [
              {
               "name": "knockout",
               "type": "js",
               "url": "/assetserver/254160226b58162a42111ea27214076747de1cf2-knockout.js"
              },
              {
               "name": "knockout_punches",
               "type": "js",
               "url": "/assetserver/2d0bf510fb683322318163f3ec7562806e4b1104-knockout_punches.js"
              },
              {
               "name": null,
               "type": "js",
               "url": "/assetserver/6ffcdda43c684da84d2ca5dd2027e4a55c68edac-all.js"
              },
              {
               "name": null,
               "type": "css",
               "url": "/assetserver/b0b44adaed1197b8510174b41f32f09d98a0c28e-style.css"
              },
              {
               "name": null,
               "type": "css",
               "url": "/assetserver/bbb2e3064bd5f6dfcf2f18fbeb52d9320f251632-bulma_confined.min.css"
              }
             ],
             "type": "async_block"
            },
            "mount_callbacks": [
             "function () {\n    var handler = (function (ko, koPunches) {\n    ko.punches.enableAll();\n    ko.bindingHandlers.numericValue = {\n        init: function(element, valueAccessor, allBindings, data, context) {\n            var stringified = ko.observable(ko.unwrap(valueAccessor()));\n            stringified.subscribe(function(value) {\n                var val = parseFloat(value);\n                if (!isNaN(val)) {\n                    valueAccessor()(val);\n                }\n            });\n            valueAccessor().subscribe(function(value) {\n                var str = JSON.stringify(value);\n                if ((str == \"0\") && ([\"-0\", \"-0.\"].indexOf(stringified()) >= 0))\n                     return;\n                 if ([\"null\", \"\"].indexOf(str) >= 0)\n                     return;\n                stringified(str);\n            });\n            ko.applyBindingsToNode(\n                element,\n                {\n                    value: stringified,\n                    valueUpdate: allBindings.get('valueUpdate'),\n                },\n                context,\n            );\n        }\n    };\n    var json_data = {\"formatted_vals\":[\"1\",\"2\",\"3\",\"4\",\"5\",\"6\",\"7\",\"8\",\"9\",\"10\"],\"changes\":WebIO.getval({\"name\":\"changes\",\"scope\":\"12966108456295824029\",\"id\":\"ob_34\",\"type\":\"observable\"}),\"index\":WebIO.getval({\"name\":\"index\",\"scope\":\"12966108456295824029\",\"id\":\"ob_33\",\"type\":\"observable\"})};\n    var self = this;\n    function AppViewModel() {\n        for (var key in json_data) {\n            var el = json_data[key];\n            this[key] = Array.isArray(el) ? ko.observableArray(el) : ko.observable(el);\n        }\n        \n        [this[\"formatted_val\"]=ko.computed(    function(){\n        return this.formatted_vals()[parseInt(this.index())-(1)];\n    }\n,this)]\n        [this[\"changes\"].subscribe((function (val){!(this.valueFromJulia[\"changes\"]) ? (WebIO.setval({\"name\":\"changes\",\"scope\":\"12966108456295824029\",\"id\":\"ob_34\",\"type\":\"observable\"},val)) : undefined; return this.valueFromJulia[\"changes\"]=false}),self),this[\"index\"].subscribe((function (val){!(this.valueFromJulia[\"index\"]) ? (WebIO.setval({\"name\":\"index\",\"scope\":\"12966108456295824029\",\"id\":\"ob_33\",\"type\":\"observable\"},val)) : undefined; return this.valueFromJulia[\"index\"]=false}),self)]\n        \n    }\n    self.model = new AppViewModel();\n    self.valueFromJulia = {};\n    for (var key in json_data) {\n        self.valueFromJulia[key] = false;\n    }\n    ko.applyBindings(self.model, self.dom);\n}\n);\n    (WebIO.importBlock({\"data\":[{\"name\":\"knockout\",\"type\":\"js\",\"url\":\"/assetserver/254160226b58162a42111ea27214076747de1cf2-knockout.js\"},{\"name\":\"knockout_punches\",\"type\":\"js\",\"url\":\"/assetserver/2d0bf510fb683322318163f3ec7562806e4b1104-knockout_punches.js\"}],\"type\":\"async_block\"})).then((imports) => handler.apply(this, imports));\n}\n"
            ],
            "observables": {
             "changes": {
              "id": "ob_34",
              "sync": false,
              "value": 0
             },
             "index": {
              "id": "ob_33",
              "sync": true,
              "value": 5
             }
            },
            "systemjs_options": null
           },
           "nodeType": "Scope",
           "props": {},
           "type": "node"
          }
         ],
         "instanceArgs": {
          "namespace": "html",
          "tag": "div"
         },
         "nodeType": "DOM",
         "props": {
          "className": "field interact-widget"
         },
         "type": "node"
        },
        {
         "children": [
          {
           "children": [],
           "instanceArgs": {
            "id": "ob_40",
            "name": "obs-node"
           },
           "nodeType": "ObservableNode",
           "props": {},
           "type": "node"
          }
         ],
         "instanceArgs": {
          "handlers": {},
          "id": "18273916632571403044",
          "imports": {
           "data": [],
           "type": "async_block"
          },
          "mount_callbacks": [],
          "observables": {
           "obs-node": {
            "id": "ob_40",
            "sync": false,
            "value": {
             "children": [
              {
               "children": [],
               "instanceArgs": {
                "namespace": "html",
                "tag": "div"
               },
               "nodeType": "DOM",
               "props": {
                "setInnerHtml": "<?xml version=\"1.0\" encoding=\"utf-8\"?>\n<svg xmlns=\"http://www.w3.org/2000/svg\" xmlns:xlink=\"http://www.w3.org/1999/xlink\" width=\"600\" height=\"400\" viewBox=\"0 0 2400 1600\">\n<defs>\n  <clipPath id=\"clip3900\">\n    <rect x=\"0\" y=\"0\" width=\"2400\" height=\"1600\"/>\n  </clipPath>\n</defs>\n<path clip-path=\"url(#clip3900)\" d=\"\nM0 1600 L2400 1600 L2400 0 L0 0  Z\n  \" fill=\"#ffffff\" fill-rule=\"evenodd\" fill-opacity=\"1\"/>\n<defs>\n  <clipPath id=\"clip3901\">\n    <rect x=\"480\" y=\"0\" width=\"1681\" height=\"1600\"/>\n  </clipPath>\n</defs>\n<path clip-path=\"url(#clip3900)\" d=\"\nM113.754 1425.62 L2352.76 1425.62 L2352.76 47.2441 L113.754 47.2441  Z\n  \" fill=\"#ffffff\" fill-rule=\"evenodd\" fill-opacity=\"1\"/>\n<defs>\n  <clipPath id=\"clip3902\">\n    <rect x=\"113\" y=\"47\" width=\"2240\" height=\"1379\"/>\n  </clipPath>\n</defs>\n<polyline clip-path=\"url(#clip3902)\" style=\"stroke:#000000; stroke-width:2; stroke-opacity:0.1; fill:none\" points=\"\n  173.275,1425.62 173.275,47.2441 \n  \"/>\n<polyline clip-path=\"url(#clip3902)\" style=\"stroke:#000000; stroke-width:2; stroke-opacity:0.1; fill:none\" points=\"\n  558.023,1425.62 558.023,47.2441 \n  \"/>\n<polyline clip-path=\"url(#clip3902)\" style=\"stroke:#000000; stroke-width:2; stroke-opacity:0.1; fill:none\" points=\"\n  942.771,1425.62 942.771,47.2441 \n  \"/>\n<polyline clip-path=\"url(#clip3902)\" style=\"stroke:#000000; stroke-width:2; stroke-opacity:0.1; fill:none\" points=\"\n  1327.52,1425.62 1327.52,47.2441 \n  \"/>\n<polyline clip-path=\"url(#clip3902)\" style=\"stroke:#000000; stroke-width:2; stroke-opacity:0.1; fill:none\" points=\"\n  1712.27,1425.62 1712.27,47.2441 \n  \"/>\n<polyline clip-path=\"url(#clip3902)\" style=\"stroke:#000000; stroke-width:2; stroke-opacity:0.1; fill:none\" points=\"\n  2097.01,1425.62 2097.01,47.2441 \n  \"/>\n<polyline clip-path=\"url(#clip3902)\" style=\"stroke:#000000; stroke-width:2; stroke-opacity:0.1; fill:none\" points=\"\n  113.754,1386.61 2352.76,1386.61 \n  \"/>\n<polyline clip-path=\"url(#clip3902)\" style=\"stroke:#000000; stroke-width:2; stroke-opacity:0.1; fill:none\" points=\"\n  113.754,1121.77 2352.76,1121.77 \n  \"/>\n<polyline clip-path=\"url(#clip3902)\" style=\"stroke:#000000; stroke-width:2; stroke-opacity:0.1; fill:none\" points=\"\n  113.754,856.923 2352.76,856.923 \n  \"/>\n<polyline clip-path=\"url(#clip3902)\" style=\"stroke:#000000; stroke-width:2; stroke-opacity:0.1; fill:none\" points=\"\n  113.754,592.08 2352.76,592.08 \n  \"/>\n<polyline clip-path=\"url(#clip3902)\" style=\"stroke:#000000; stroke-width:2; stroke-opacity:0.1; fill:none\" points=\"\n  113.754,327.238 2352.76,327.238 \n  \"/>\n<polyline clip-path=\"url(#clip3902)\" style=\"stroke:#000000; stroke-width:2; stroke-opacity:0.1; fill:none\" points=\"\n  113.754,62.395 2352.76,62.395 \n  \"/>\n<polyline clip-path=\"url(#clip3900)\" style=\"stroke:#000000; stroke-width:4; stroke-opacity:1; fill:none\" points=\"\n  113.754,1425.62 2352.76,1425.62 \n  \"/>\n<polyline clip-path=\"url(#clip3900)\" style=\"stroke:#000000; stroke-width:4; stroke-opacity:1; fill:none\" points=\"\n  113.754,1425.62 113.754,47.2441 \n  \"/>\n<polyline clip-path=\"url(#clip3900)\" style=\"stroke:#000000; stroke-width:4; stroke-opacity:1; fill:none\" points=\"\n  173.275,1425.62 173.275,1404.94 \n  \"/>\n<polyline clip-path=\"url(#clip3900)\" style=\"stroke:#000000; stroke-width:4; stroke-opacity:1; fill:none\" points=\"\n  558.023,1425.62 558.023,1404.94 \n  \"/>\n<polyline clip-path=\"url(#clip3900)\" style=\"stroke:#000000; stroke-width:4; stroke-opacity:1; fill:none\" points=\"\n  942.771,1425.62 942.771,1404.94 \n  \"/>\n<polyline clip-path=\"url(#clip3900)\" style=\"stroke:#000000; stroke-width:4; stroke-opacity:1; fill:none\" points=\"\n  1327.52,1425.62 1327.52,1404.94 \n  \"/>\n<polyline clip-path=\"url(#clip3900)\" style=\"stroke:#000000; stroke-width:4; stroke-opacity:1; fill:none\" points=\"\n  1712.27,1425.62 1712.27,1404.94 \n  \"/>\n<polyline clip-path=\"url(#clip3900)\" style=\"stroke:#000000; stroke-width:4; stroke-opacity:1; fill:none\" points=\"\n  2097.01,1425.62 2097.01,1404.94 \n  \"/>\n<polyline clip-path=\"url(#clip3900)\" style=\"stroke:#000000; stroke-width:4; stroke-opacity:1; fill:none\" points=\"\n  113.754,1386.61 147.339,1386.61 \n  \"/>\n<polyline clip-path=\"url(#clip3900)\" style=\"stroke:#000000; stroke-width:4; stroke-opacity:1; fill:none\" points=\"\n  113.754,1121.77 147.339,1121.77 \n  \"/>\n<polyline clip-path=\"url(#clip3900)\" style=\"stroke:#000000; stroke-width:4; stroke-opacity:1; fill:none\" points=\"\n  113.754,856.923 147.339,856.923 \n  \"/>\n<polyline clip-path=\"url(#clip3900)\" style=\"stroke:#000000; stroke-width:4; stroke-opacity:1; fill:none\" points=\"\n  113.754,592.08 147.339,592.08 \n  \"/>\n<polyline clip-path=\"url(#clip3900)\" style=\"stroke:#000000; stroke-width:4; stroke-opacity:1; fill:none\" points=\"\n  113.754,327.238 147.339,327.238 \n  \"/>\n<polyline clip-path=\"url(#clip3900)\" style=\"stroke:#000000; stroke-width:4; stroke-opacity:1; fill:none\" points=\"\n  113.754,62.395 147.339,62.395 \n  \"/>\n<g clip-path=\"url(#clip3900)\">\n<text style=\"fill:#000000; fill-opacity:1; font-family:Arial,Helvetica Neue,Helvetica,sans-serif; font-size:48px; text-anchor:middle;\" transform=\"rotate(0, 173.275, 1479.62)\" x=\"173.275\" y=\"1479.62\">0</text>\n</g>\n<g clip-path=\"url(#clip3900)\">\n<text style=\"fill:#000000; fill-opacity:1; font-family:Arial,Helvetica Neue,Helvetica,sans-serif; font-size:48px; text-anchor:middle;\" transform=\"rotate(0, 558.023, 1479.62)\" x=\"558.023\" y=\"1479.62\">100</text>\n</g>\n<g clip-path=\"url(#clip3900)\">\n<text style=\"fill:#000000; fill-opacity:1; font-family:Arial,Helvetica Neue,Helvetica,sans-serif; font-size:48px; text-anchor:middle;\" transform=\"rotate(0, 942.771, 1479.62)\" x=\"942.771\" y=\"1479.62\">200</text>\n</g>\n<g clip-path=\"url(#clip3900)\">\n<text style=\"fill:#000000; fill-opacity:1; font-family:Arial,Helvetica Neue,Helvetica,sans-serif; font-size:48px; text-anchor:middle;\" transform=\"rotate(0, 1327.52, 1479.62)\" x=\"1327.52\" y=\"1479.62\">300</text>\n</g>\n<g clip-path=\"url(#clip3900)\">\n<text style=\"fill:#000000; fill-opacity:1; font-family:Arial,Helvetica Neue,Helvetica,sans-serif; font-size:48px; text-anchor:middle;\" transform=\"rotate(0, 1712.27, 1479.62)\" x=\"1712.27\" y=\"1479.62\">400</text>\n</g>\n<g clip-path=\"url(#clip3900)\">\n<text style=\"fill:#000000; fill-opacity:1; font-family:Arial,Helvetica Neue,Helvetica,sans-serif; font-size:48px; text-anchor:middle;\" transform=\"rotate(0, 2097.01, 1479.62)\" x=\"2097.01\" y=\"1479.62\">500</text>\n</g>\n<g clip-path=\"url(#clip3900)\">\n<text style=\"fill:#000000; fill-opacity:1; font-family:Arial,Helvetica Neue,Helvetica,sans-serif; font-size:48px; text-anchor:end;\" transform=\"rotate(0, 89.7545, 1404.11)\" x=\"89.7545\" y=\"1404.11\">0</text>\n</g>\n<g clip-path=\"url(#clip3900)\">\n<text style=\"fill:#000000; fill-opacity:1; font-family:Arial,Helvetica Neue,Helvetica,sans-serif; font-size:48px; text-anchor:end;\" transform=\"rotate(0, 89.7545, 1139.27)\" x=\"89.7545\" y=\"1139.27\">1</text>\n</g>\n<g clip-path=\"url(#clip3900)\">\n<text style=\"fill:#000000; fill-opacity:1; font-family:Arial,Helvetica Neue,Helvetica,sans-serif; font-size:48px; text-anchor:end;\" transform=\"rotate(0, 89.7545, 874.423)\" x=\"89.7545\" y=\"874.423\">2</text>\n</g>\n<g clip-path=\"url(#clip3900)\">\n<text style=\"fill:#000000; fill-opacity:1; font-family:Arial,Helvetica Neue,Helvetica,sans-serif; font-size:48px; text-anchor:end;\" transform=\"rotate(0, 89.7545, 609.58)\" x=\"89.7545\" y=\"609.58\">3</text>\n</g>\n<g clip-path=\"url(#clip3900)\">\n<text style=\"fill:#000000; fill-opacity:1; font-family:Arial,Helvetica Neue,Helvetica,sans-serif; font-size:48px; text-anchor:end;\" transform=\"rotate(0, 89.7545, 344.738)\" x=\"89.7545\" y=\"344.738\">4</text>\n</g>\n<g clip-path=\"url(#clip3900)\">\n<text style=\"fill:#000000; fill-opacity:1; font-family:Arial,Helvetica Neue,Helvetica,sans-serif; font-size:48px; text-anchor:end;\" transform=\"rotate(0, 89.7545, 79.895)\" x=\"89.7545\" y=\"79.895\">5</text>\n</g>\n<g clip-path=\"url(#clip3900)\">\n<text style=\"fill:#000000; fill-opacity:1; font-family:Arial,Helvetica Neue,Helvetica,sans-serif; font-size:66px; text-anchor:middle;\" transform=\"rotate(0, 1233.26, 1559.48)\" x=\"1233.26\" y=\"1559.48\">N</text>\n</g>\n<polyline clip-path=\"url(#clip3902)\" style=\"stroke:#ff0000; stroke-width:12; stroke-opacity:1; fill:none\" points=\"\n  177.122,1386.61 180.97,1254.19 184.817,945.204 188.665,923.133 192.512,539.112 196.36,503.799 200.207,516.411 204.055,459.659 207.902,386.092 211.75,433.175 \n  215.597,375.391 219.445,371.378 223.292,408.728 227.14,440.742 230.987,450.831 234.835,443.106 238.682,420.711 242.53,400.805 246.377,424.811 250.225,419.933 \n  254.072,440.742 257.919,435.582 261.767,304.208 265.614,327.238 269.462,316.644 273.309,327.238 277.157,317.429 281.004,213.734 284.852,217.648 288.699,230.129 \n  292.547,105.112 296.394,120.329 300.242,102.523 304.089,124.711 307.937,107.797 311.784,143.319 315.632,148.29 319.479,173.908 323.327,191.421 327.174,188.195 \n  331.022,217.425 334.869,207.428 338.717,167.1 342.564,194.816 346.411,162.447 350.259,171.787 354.106,197.634 357.954,205.851 361.801,192.114 365.649,194.816 \n  369.496,187.027 373.344,194.816 377.191,207.309 381.039,175.198 384.886,187.593 388.734,161.711 392.581,132.09 396.429,153.72 400.276,152.172 404.124,141.848 \n  407.971,153.57 411.819,147.828 415.666,112.841 419.514,124.467 423.361,107.215 427.209,126.599 431.056,117.735 434.903,124.711 438.751,139.161 442.598,119.147 \n  446.446,129.538 450.293,135.962 454.141,138.583 457.988,151.869 461.836,143.613 465.683,156.484 469.531,158.701 473.378,143.885 477.226,136.149 481.073,141.848 \n  484.921,147.406 488.768,152.829 492.616,129.403 496.463,128.606 500.311,99.7845 504.158,108.588 508.006,108.058 511.853,116.567 515.701,110.007 519.548,115.364 \n  523.395,106.05 527.243,117.091 531.09,122.198 534.938,118.744 538.785,129.303 542.633,123.088 546.48,122.462 550.328,124.552 554.175,126.599 558.023,128.606 \n  561.87,138.439 565.718,148.079 569.565,152.39 573.413,143.885 577.26,127.975 581.108,137.35 584.955,141.6 588.803,135.962 592.65,132.858 596.498,98.5099 \n  600.345,86.2547 604.193,90.771 608.04,99.8948 611.887,101.889 615.735,103.849 619.582,114.907 623.43,118.985 627.277,111.772 631.125,113.583 634.972,119.778 \n  638.82,119.303 642.667,112.324 646.515,120.531 650.362,111.519 654.21,111.126 658.057,110.739 661.905,110.359 665.752,114.122 669.6,115.774 673.447,125.55 \n  677.295,119.003 681.142,112.555 684.99,114.169 688.837,121.688 692.685,123.211 696.532,109.132 700.379,110.724 704.227,119.969 708.074,123.366 711.922,119.147 \n  715.769,114.988 719.617,120.213 723.464,123.513 727.312,128.606 731.159,131.802 735.007,125.885 738.854,114.643 742.702,110.711 746.549,108.609 750.397,115.364 \n  754.244,111.505 758.092,111.182 761.939,114.325 765.787,120.867 769.634,129.033 773.482,115.024 777.329,113.002 781.177,111.005 785.024,109.034 788.871,108.742 \n  792.719,108.455 796.566,98.3613 800.414,104.64 804.261,96.3078 808.109,100.918 811.956,105.472 815.804,105.214 819.651,103.383 823.499,100.006 827.346,101.342 \n  831.194,105.761 835.041,110.128 838.889,103.729 842.736,98.925 846.584,106.283 850.431,104.529 854.279,101.298 858.126,99.592 861.974,99.3842 865.821,106.535 \n  869.668,103.365 873.516,101.685 877.363,105.812 881.211,108.455 885.058,108.206 888.906,110.807 892.753,103.467 896.601,106.066 900.448,103.032 904.296,109.788 \n  908.143,112.313 911.991,114.812 915.838,115.912 919.686,119.732 923.533,118.08 927.381,123.201 931.228,118.859 935.076,121.249 938.923,122.284 942.771,124.633 \n  946.618,120.37 950.466,124.017 954.313,125.018 958.16,124.711 962.008,123.115 965.855,126.677 969.703,126.367 973.55,120.966 977.398,123.22 981.245,122.93 \n  985.093,118.878 988.94,121.11 992.788,124.565 996.635,126.749 1000.48,130.145 1004.33,133.51 1008.18,133.182 1012.03,135.287 1015.87,133.745 1019.72,126.198 \n  1023.57,124.711 1027.42,125.623 1031.26,127.715 1035.11,122.694 1038.96,121.249 1042.81,124.504 1046.65,125.397 1050.5,125.121 1054.35,120.221 1058.19,118.818 \n  1062.04,116.281 1065.89,117.19 1069.74,114.682 1073.58,108.799 1077.43,110.856 1081.28,110.65 1085.13,113.799 1088.97,106.906 1092.82,107.828 1096.67,110.949 \n  1100.52,111.847 1104.36,109.454 1108.21,111.44 1112.06,115.581 1115.91,116.445 1119.75,118.378 1123.6,109.573 1127.45,111.519 1131.3,113.449 1135.14,112.185 \n  1138.99,116.208 1142.84,119.147 1146.69,116.829 1150.53,120.785 1154.38,116.402 1158.23,120.329 1162.08,117.012 1165.92,118.854 1169.77,118.636 1173.62,122.494 \n  1177.47,124.293 1181.31,127.089 1185.16,125.836 1189.01,121.583 1192.86,124.358 1196.7,126.117 1200.55,119.926 1204.4,123.665 1208.25,121.468 1212.09,123.211 \n  1215.94,123.964 1219.79,123.737 1223.64,127.393 1227.48,128.122 1231.33,123.068 1235.18,122.848 1239.03,124.542 1242.87,128.129 1246.72,132.64 1250.57,128.606 \n  1254.42,130.255 1258.26,133.771 1262.11,124.16 1265.96,126.741 1269.81,127.444 1273.65,115.178 1277.5,112.226 1281.35,113.892 1285.2,114.63 1289.04,116.277 \n  1292.89,116.092 1296.74,115.001 1300.59,117.533 1304.43,120.048 1308.28,118.057 1312.13,117.869 1315.98,116.79 1319.82,116.608 1323.67,119.969 1327.52,116.246 \n  1331.37,118.707 1335.21,117.644 1339.06,120.083 1342.91,115.538 1346.76,119.705 1350.6,122.114 1354.45,113.293 1358.3,115.707 1362.15,117.249 1365.99,117.927 \n  1369.84,121.154 1373.69,118.419 1377.54,117.394 1381.38,120.593 1385.23,116.204 1389.08,116.872 1392.93,119.207 1396.77,120.694 1400.62,123.002 1404.47,122.812 \n  1408.32,125.924 1412.16,126.549 1416.01,127.991 1419.86,125.336 1423.71,126.772 1427.55,129.012 1431.4,128.808 1435.25,131.028 1439.1,131.624 1442.94,124.994 \n  1446.79,126.405 1450.64,128.606 1454.49,128.407 1458.33,126.623 1462.18,126.432 1466.03,128.606 1469.88,128.409 1473.72,128.214 1477.57,125.676 1481.42,128.606 \n  1485.27,129.965 1489.11,127.444 1492.96,126.482 1496.81,129.376 1500.65,130.717 1504.5,131.285 1508.35,130.323 1512.2,129.367 1516.04,131.451 1519.89,134.281 \n  1523.74,132.567 1527.59,124.844 1531.43,127.668 1535.28,129.728 1539.13,131.03 1542.98,127.118 1546.82,125.453 1550.67,120.838 1554.52,113.298 1558.37,116.099 \n  1562.21,115.95 1566.06,118.729 1569.91,121.492 1573.76,123.513 1577.6,121.894 1581.45,124.626 1585.3,123.735 1589.15,124.288 1592.99,126.273 1596.84,121.806 \n  1600.69,122.359 1604.54,123.622 1608.38,124.168 1612.23,123.295 1616.08,126.663 1619.93,124.379 1623.77,119.298 1627.62,121.95 1631.47,122.491 1635.32,125.818 \n  1639.16,127.737 1643.01,126.872 1646.86,128.087 1650.71,128.606 1654.55,126.37 1658.4,127.576 1662.25,129.461 1666.1,130.653 1669.94,129.116 1673.79,130.982 \n  1677.64,130.807 1681.49,125.228 1685.33,125.068 1689.18,122.892 1693.03,124.08 1696.88,121.918 1700.72,125.103 1704.57,125.611 1708.42,128.772 1712.27,131.254 \n  1716.11,127.12 1719.96,123.665 1723.81,122.198 1727.66,122.05 1731.5,124.519 1735.35,125.018 1739.2,125.515 1743.05,126.658 1746.89,128.444 1750.74,123.761 \n  1754.59,126.189 1758.44,124.749 1762.28,125.88 1766.13,127.006 1769.98,123.022 1773.83,125.422 1777.67,124.001 1781.52,126.388 1785.37,129.396 1789.22,126.714 \n  1793.06,129.707 1796.91,127.664 1800.76,124.379 1804.61,125.483 1808.45,126.58 1812.3,129.538 1816.15,131.862 1820,129.224 1823.84,127.217 1827.69,128.298 \n  1831.54,129.988 1835.39,126.766 1839.23,127.841 1843.08,125.86 1846.93,122.67 1850.78,121.316 1854.62,118.757 1858.47,116.815 1862.32,119.104 1866.17,120.781 \n  1870.01,121.849 1873.86,120.517 1877.71,122.179 1881.56,121.448 1885.4,123.1 1889.25,122.964 1893.1,120.459 1896.95,118.556 1900.79,120.79 1904.64,119.483 \n  1908.49,120.531 1912.34,119.231 1916.18,120.275 1920.03,116.064 1923.88,115.946 1927.72,117.571 1931.57,112.814 1935.42,112.704 1939.27,114.902 1943.11,115.364 \n  1946.96,118.121 1950.81,119.147 1954.66,116.164 1958.5,117.761 1962.35,120.49 1966.2,121.502 1970.05,120.808 1973.89,114.458 1977.74,115.476 1981.59,113.11 \n  1985.44,114.689 1989.28,112.895 1993.13,112.788 1996.98,112.682 2000.83,113.691 2004.67,109.688 2008.52,111.255 2012.37,113.369 2016.22,111.604 2020.06,114.26 \n  2023.91,115.804 2027.76,116.243 2031.61,116.131 2035.45,116.02 2039.3,114.817 2043.15,115.255 2047,117.321 2050.84,117.751 2054.69,114.93 2058.54,117.526 \n  2062.39,116.874 2066.23,117.84 2070.08,112.892 2073.93,115.471 2077.78,112.688 2081.62,113.655 2085.47,113.552 2089.32,113.449 2093.17,116 2097.01,113.245 \n  2100.86,115.258 2104.71,115.68 2108.56,115.574 2112.4,116.52 2116.25,113.266 2120.1,110.025 2123.95,112.02 2127.79,113.487 2131.64,115.468 2135.49,109.651 \n  2139.34,110.595 2143.18,111.018 2147.03,112.472 2150.88,113.406 2154.73,115.364 2158.57,116.287 2162.42,116.695 2166.27,114.034 2170.12,114.445 2173.96,111.289 \n  2177.81,113.737 2181.66,113.638 2185.51,112.528 2189.35,112.432 2193.2,113.85 2197.05,112.242 2200.9,112.147 2204.74,113.558 2208.59,112.96 2212.44,110.866 \n  2216.29,111.274 2220.13,108.693 2223.98,108.606 2227.83,107.527 2231.68,109.918 2235.52,111.806 2239.37,112.207 2243.22,111.13 2247.07,112.022 2250.91,113.892 \n  2254.76,115.755 2258.61,116.634 2262.46,117.51 2266.3,114.974 2270.15,115.849 2274,116.237 2277.85,118.075 2281.69,119.423 2285.54,117.39 2289.39,118.253 \n  \n  \"/>\n<polyline clip-path=\"url(#clip3902)\" style=\"stroke:#000000; stroke-width:12; stroke-opacity:1; fill:none\" points=\"\n  -2125.25,107.835 4591.76,107.835 \n  \"/>\n<path clip-path=\"url(#clip3900)\" d=\"\nM185.754 1281.62 L776.023 1281.62 L776.023 1100.18 L185.754 1100.18  Z\n  \" fill=\"#ffffff\" fill-rule=\"evenodd\" fill-opacity=\"1\"/>\n<polyline clip-path=\"url(#clip3900)\" style=\"stroke:#000000; stroke-width:4; stroke-opacity:1; fill:none\" points=\"\n  185.754,1281.62 776.023,1281.62 776.023,1100.18 185.754,1100.18 185.754,1281.62 \n  \"/>\n<polyline clip-path=\"url(#clip3900)\" style=\"stroke:#ff0000; stroke-width:12; stroke-opacity:1; fill:none\" points=\"\n  209.754,1160.66 353.754,1160.66 \n  \"/>\n<g clip-path=\"url(#clip3900)\">\n<text style=\"fill:#000000; fill-opacity:1; font-family:Arial,Helvetica Neue,Helvetica,sans-serif; font-size:48px; text-anchor:start;\" transform=\"rotate(0, 377.754, 1178.16)\" x=\"377.754\" y=\"1178.16\">empirical T(N,N)</text>\n</g>\n<polyline clip-path=\"url(#clip3900)\" style=\"stroke:#000000; stroke-width:12; stroke-opacity:1; fill:none\" points=\"\n  209.754,1221.14 353.754,1221.14 \n  \"/>\n<g clip-path=\"url(#clip3900)\">\n<text style=\"fill:#000000; fill-opacity:1; font-family:Arial,Helvetica Neue,Helvetica,sans-serif; font-size:48px; text-anchor:start;\" transform=\"rotate(0, 377.754, 1238.64)\" x=\"377.754\" y=\"1238.64\">theoretical limit</text>\n</g>\n</svg>\n"
               },
               "type": "node"
              }
             ],
             "instanceArgs": {
              "namespace": "html",
              "tag": "div"
             },
             "nodeType": "DOM",
             "props": {
              "className": "interact-flex-row interact-widget"
             },
             "type": "node"
            }
           }
          },
          "systemjs_options": null
         },
         "nodeType": "Scope",
         "props": {},
         "type": "node"
        }
       ],
       "instanceArgs": {
        "namespace": "html",
        "tag": "div"
       },
       "nodeType": "DOM",
       "props": {},
       "type": "node"
      },
      "text/html": [
       "<div\n",
       "    class=\"webio-mountpoint\"\n",
       "    data-webio-mountpoint=\"11669994447097353178\"\n",
       ">\n",
       "    <script>\n",
       "    if (window.require && require.defined && require.defined(\"nbextensions/webio-jupyter-notebook\")) {\n",
       "        console.log(\"Jupyter WebIO extension detected, not mounting.\");\n",
       "    } else if (window.WebIO) {\n",
       "        WebIO.mount(\n",
       "            document.querySelector('[data-webio-mountpoint=\"11669994447097353178\"]'),\n",
       "            {\"props\":{},\"nodeType\":\"DOM\",\"type\":\"node\",\"instanceArgs\":{\"namespace\":\"html\",\"tag\":\"div\"},\"children\":[{\"props\":{\"className\":\"field interact-widget\"},\"nodeType\":\"DOM\",\"type\":\"node\",\"instanceArgs\":{\"namespace\":\"html\",\"tag\":\"div\"},\"children\":[{\"props\":{},\"nodeType\":\"Scope\",\"type\":\"node\",\"instanceArgs\":{\"imports\":{\"data\":[{\"name\":\"knockout\",\"type\":\"js\",\"url\":\"\\/assetserver\\/254160226b58162a42111ea27214076747de1cf2-knockout.js\"},{\"name\":\"knockout_punches\",\"type\":\"js\",\"url\":\"\\/assetserver\\/2d0bf510fb683322318163f3ec7562806e4b1104-knockout_punches.js\"},{\"name\":null,\"type\":\"js\",\"url\":\"\\/assetserver\\/6ffcdda43c684da84d2ca5dd2027e4a55c68edac-all.js\"},{\"name\":null,\"type\":\"css\",\"url\":\"\\/assetserver\\/b0b44adaed1197b8510174b41f32f09d98a0c28e-style.css\"},{\"name\":null,\"type\":\"css\",\"url\":\"\\/assetserver\\/bbb2e3064bd5f6dfcf2f18fbeb52d9320f251632-bulma_confined.min.css\"}],\"type\":\"async_block\"},\"id\":\"3204652391531888282\",\"handlers\":{\"changes\":[\"(function (val){return (val!=this.model[\\\"changes\\\"]()) ? (this.valueFromJulia[\\\"changes\\\"]=true, this.model[\\\"changes\\\"](val)) : undefined})\"],\"index\":[\"(function (val){return (val!=this.model[\\\"index\\\"]()) ? (this.valueFromJulia[\\\"index\\\"]=true, this.model[\\\"index\\\"](val)) : undefined})\"]},\"systemjs_options\":null,\"mount_callbacks\":[\"function () {\\n    var handler = (function (ko, koPunches) {\\n    ko.punches.enableAll();\\n    ko.bindingHandlers.numericValue = {\\n        init: function(element, valueAccessor, allBindings, data, context) {\\n            var stringified = ko.observable(ko.unwrap(valueAccessor()));\\n            stringified.subscribe(function(value) {\\n                var val = parseFloat(value);\\n                if (!isNaN(val)) {\\n                    valueAccessor()(val);\\n                }\\n            });\\n            valueAccessor().subscribe(function(value) {\\n                var str = JSON.stringify(value);\\n                if ((str == \\\"0\\\") && ([\\\"-0\\\", \\\"-0.\\\"].indexOf(stringified()) >= 0))\\n                     return;\\n                 if ([\\\"null\\\", \\\"\\\"].indexOf(str) >= 0)\\n                     return;\\n                stringified(str);\\n            });\\n            ko.applyBindingsToNode(\\n                element,\\n                {\\n                    value: stringified,\\n                    valueUpdate: allBindings.get('valueUpdate'),\\n                },\\n                context,\\n            );\\n        }\\n    };\\n    var json_data = {\\\"formatted_vals\\\":[\\\"100\\\",\\\"150\\\",\\\"200\\\",\\\"250\\\",\\\"300\\\",\\\"350\\\",\\\"400\\\",\\\"450\\\",\\\"500\\\",\\\"550\\\",\\\"600\\\",\\\"650\\\",\\\"700\\\",\\\"750\\\",\\\"800\\\",\\\"850\\\",\\\"900\\\",\\\"950\\\",\\\"1000\\\"],\\\"changes\\\":WebIO.getval({\\\"name\\\":\\\"changes\\\",\\\"scope\\\":\\\"3204652391531888282\\\",\\\"id\\\":\\\"ob_23\\\",\\\"type\\\":\\\"observable\\\"}),\\\"index\\\":WebIO.getval({\\\"name\\\":\\\"index\\\",\\\"scope\\\":\\\"3204652391531888282\\\",\\\"id\\\":\\\"ob_22\\\",\\\"type\\\":\\\"observable\\\"})};\\n    var self = this;\\n    function AppViewModel() {\\n        for (var key in json_data) {\\n            var el = json_data[key];\\n            this[key] = Array.isArray(el) ? ko.observableArray(el) : ko.observable(el);\\n        }\\n        \\n        [this[\\\"formatted_val\\\"]=ko.computed(    function(){\\n        return this.formatted_vals()[parseInt(this.index())-(1)];\\n    }\\n,this)]\\n        [this[\\\"changes\\\"].subscribe((function (val){!(this.valueFromJulia[\\\"changes\\\"]) ? (WebIO.setval({\\\"name\\\":\\\"changes\\\",\\\"scope\\\":\\\"3204652391531888282\\\",\\\"id\\\":\\\"ob_23\\\",\\\"type\\\":\\\"observable\\\"},val)) : undefined; return this.valueFromJulia[\\\"changes\\\"]=false}),self),this[\\\"index\\\"].subscribe((function (val){!(this.valueFromJulia[\\\"index\\\"]) ? (WebIO.setval({\\\"name\\\":\\\"index\\\",\\\"scope\\\":\\\"3204652391531888282\\\",\\\"id\\\":\\\"ob_22\\\",\\\"type\\\":\\\"observable\\\"},val)) : undefined; return this.valueFromJulia[\\\"index\\\"]=false}),self)]\\n        \\n    }\\n    self.model = new AppViewModel();\\n    self.valueFromJulia = {};\\n    for (var key in json_data) {\\n        self.valueFromJulia[key] = false;\\n    }\\n    ko.applyBindings(self.model, self.dom);\\n}\\n);\\n    (WebIO.importBlock({\\\"data\\\":[{\\\"name\\\":\\\"knockout\\\",\\\"type\\\":\\\"js\\\",\\\"url\\\":\\\"\\/assetserver\\/254160226b58162a42111ea27214076747de1cf2-knockout.js\\\"},{\\\"name\\\":\\\"knockout_punches\\\",\\\"type\\\":\\\"js\\\",\\\"url\\\":\\\"\\/assetserver\\/2d0bf510fb683322318163f3ec7562806e4b1104-knockout_punches.js\\\"}],\\\"type\\\":\\\"async_block\\\"})).then((imports) => handler.apply(this, imports));\\n}\\n\"],\"observables\":{\"changes\":{\"sync\":false,\"id\":\"ob_23\",\"value\":0},\"index\":{\"sync\":true,\"id\":\"ob_22\",\"value\":10}}},\"children\":[{\"props\":{\"className\":\"interact-flex-row interact-widget\"},\"nodeType\":\"DOM\",\"type\":\"node\",\"instanceArgs\":{\"namespace\":\"html\",\"tag\":\"div\"},\"children\":[{\"props\":{\"className\":\"interact-flex-row-left\"},\"nodeType\":\"DOM\",\"type\":\"node\",\"instanceArgs\":{\"namespace\":\"html\",\"tag\":\"div\"},\"children\":[{\"props\":{\"className\":\"interact \",\"style\":{\"padding\":\"5px 10px 0px 10px\"}},\"nodeType\":\"DOM\",\"type\":\"node\",\"instanceArgs\":{\"namespace\":\"html\",\"tag\":\"label\"},\"children\":[\"max_N\"]}]},{\"props\":{\"className\":\"interact-flex-row-center\"},\"nodeType\":\"DOM\",\"type\":\"node\",\"instanceArgs\":{\"namespace\":\"html\",\"tag\":\"div\"},\"children\":[{\"props\":{\"max\":19,\"min\":1,\"attributes\":{\"type\":\"range\",\"data-bind\":\"numericValue: index, valueUpdate: 'input', event: {change: function (){this.changes(this.changes()+1)}}\",\"orient\":\"horizontal\"},\"step\":1,\"className\":\"slider slider is-fullwidth\",\"style\":{}},\"nodeType\":\"DOM\",\"type\":\"node\",\"instanceArgs\":{\"namespace\":\"html\",\"tag\":\"input\"},\"children\":[]}]},{\"props\":{\"className\":\"interact-flex-row-right\"},\"nodeType\":\"DOM\",\"type\":\"node\",\"instanceArgs\":{\"namespace\":\"html\",\"tag\":\"div\"},\"children\":[{\"props\":{\"attributes\":{\"data-bind\":\"text: formatted_val\"}},\"nodeType\":\"DOM\",\"type\":\"node\",\"instanceArgs\":{\"namespace\":\"html\",\"tag\":\"p\"},\"children\":[]}]}]}]}]},{\"props\":{\"className\":\"interact-widget\"},\"nodeType\":\"DOM\",\"type\":\"node\",\"instanceArgs\":{\"namespace\":\"html\",\"tag\":\"div\"},\"children\":[{\"props\":{},\"nodeType\":\"Scope\",\"type\":\"node\",\"instanceArgs\":{\"imports\":{\"data\":[{\"name\":\"knockout\",\"type\":\"js\",\"url\":\"\\/assetserver\\/254160226b58162a42111ea27214076747de1cf2-knockout.js\"},{\"name\":\"knockout_punches\",\"type\":\"js\",\"url\":\"\\/assetserver\\/2d0bf510fb683322318163f3ec7562806e4b1104-knockout_punches.js\"},{\"name\":null,\"type\":\"js\",\"url\":\"\\/assetserver\\/6ffcdda43c684da84d2ca5dd2027e4a55c68edac-all.js\"},{\"name\":null,\"type\":\"css\",\"url\":\"\\/assetserver\\/b0b44adaed1197b8510174b41f32f09d98a0c28e-style.css\"},{\"name\":null,\"type\":\"css\",\"url\":\"\\/assetserver\\/bbb2e3064bd5f6dfcf2f18fbeb52d9320f251632-bulma_confined.min.css\"}],\"type\":\"async_block\"},\"id\":\"15955561164930491605\",\"handlers\":{\"options_js\":[\"(function (val){return (val!=this.model[\\\"options_js\\\"]()) ? (this.valueFromJulia[\\\"options_js\\\"]=true, this.model[\\\"options_js\\\"](val)) : undefined})\"],\"index\":[\"(function (val){return (val!=this.model[\\\"index\\\"]()) ? (this.valueFromJulia[\\\"index\\\"]=true, this.model[\\\"index\\\"](val)) : undefined})\"]},\"systemjs_options\":null,\"mount_callbacks\":[\"function () {\\n    var handler = (function (ko, koPunches) {\\n    ko.punches.enableAll();\\n    ko.bindingHandlers.numericValue = {\\n        init: function(element, valueAccessor, allBindings, data, context) {\\n            var stringified = ko.observable(ko.unwrap(valueAccessor()));\\n            stringified.subscribe(function(value) {\\n                var val = parseFloat(value);\\n                if (!isNaN(val)) {\\n                    valueAccessor()(val);\\n                }\\n            });\\n            valueAccessor().subscribe(function(value) {\\n                var str = JSON.stringify(value);\\n                if ((str == \\\"0\\\") && ([\\\"-0\\\", \\\"-0.\\\"].indexOf(stringified()) >= 0))\\n                     return;\\n                 if ([\\\"null\\\", \\\"\\\"].indexOf(str) >= 0)\\n                     return;\\n                stringified(str);\\n            });\\n            ko.applyBindingsToNode(\\n                element,\\n                {\\n                    value: stringified,\\n                    valueUpdate: allBindings.get('valueUpdate'),\\n                },\\n                context,\\n            );\\n        }\\n    };\\n    var json_data = {\\\"options_js\\\":WebIO.getval({\\\"name\\\":\\\"options_js\\\",\\\"scope\\\":\\\"15955561164930491605\\\",\\\"id\\\":\\\"ob_28\\\",\\\"type\\\":\\\"observable\\\"}),\\\"index\\\":WebIO.getval({\\\"name\\\":\\\"index\\\",\\\"scope\\\":\\\"15955561164930491605\\\",\\\"id\\\":\\\"ob_27\\\",\\\"type\\\":\\\"observable\\\"})};\\n    var self = this;\\n    function AppViewModel() {\\n        for (var key in json_data) {\\n            var el = json_data[key];\\n            this[key] = Array.isArray(el) ? ko.observableArray(el) : ko.observable(el);\\n        }\\n        [this[\\\"update\\\"]=function (val) {this.index(val)}]\\n        \\n        [this[\\\"options_js\\\"].subscribe((function (val){!(this.valueFromJulia[\\\"options_js\\\"]) ? (WebIO.setval({\\\"name\\\":\\\"options_js\\\",\\\"scope\\\":\\\"15955561164930491605\\\",\\\"id\\\":\\\"ob_28\\\",\\\"type\\\":\\\"observable\\\"},val)) : undefined; return this.valueFromJulia[\\\"options_js\\\"]=false}),self),this[\\\"index\\\"].subscribe((function (val){!(this.valueFromJulia[\\\"index\\\"]) ? (WebIO.setval({\\\"name\\\":\\\"index\\\",\\\"scope\\\":\\\"15955561164930491605\\\",\\\"id\\\":\\\"ob_27\\\",\\\"type\\\":\\\"observable\\\"},val)) : undefined; return this.valueFromJulia[\\\"index\\\"]=false}),self)]\\n        \\n    }\\n    self.model = new AppViewModel();\\n    self.valueFromJulia = {};\\n    for (var key in json_data) {\\n        self.valueFromJulia[key] = false;\\n    }\\n    ko.applyBindings(self.model, self.dom);\\n}\\n);\\n    (WebIO.importBlock({\\\"data\\\":[{\\\"name\\\":\\\"knockout\\\",\\\"type\\\":\\\"js\\\",\\\"url\\\":\\\"\\/assetserver\\/254160226b58162a42111ea27214076747de1cf2-knockout.js\\\"},{\\\"name\\\":\\\"knockout_punches\\\",\\\"type\\\":\\\"js\\\",\\\"url\\\":\\\"\\/assetserver\\/2d0bf510fb683322318163f3ec7562806e4b1104-knockout_punches.js\\\"}],\\\"type\\\":\\\"async_block\\\"})).then((imports) => handler.apply(this, imports));\\n}\\n\"],\"observables\":{\"options_js\":{\"sync\":false,\"id\":\"ob_28\",\"value\":[{\"key\":\"Geometric\",\"val\":1,\"id\":\"idMEIMV8z4\"},{\"key\":\"Exponential\",\"val\":2,\"id\":\"idl3w5dnZ6\"}]},\"index\":{\"sync\":true,\"id\":\"ob_27\",\"value\":1}}},\"children\":[{\"props\":{\"className\":\"interact-flex-row interact-widget\"},\"nodeType\":\"DOM\",\"type\":\"node\",\"instanceArgs\":{\"namespace\":\"html\",\"tag\":\"div\"},\"children\":[{\"props\":{\"className\":\"interact-flex-row-left\"},\"nodeType\":\"DOM\",\"type\":\"node\",\"instanceArgs\":{\"namespace\":\"html\",\"tag\":\"div\"},\"children\":[{\"props\":{\"className\":\"interact \",\"style\":{\"padding\":\"5px 10px 0px 10px\"}},\"nodeType\":\"DOM\",\"type\":\"node\",\"instanceArgs\":{\"namespace\":\"html\",\"tag\":\"label\"},\"children\":[\"law_name\"]}]},{\"props\":{\"className\":\"interact-flex-row-center\"},\"nodeType\":\"DOM\",\"type\":\"node\",\"instanceArgs\":{\"namespace\":\"html\",\"tag\":\"div\"},\"children\":[{\"props\":{\"attributes\":{\"data-bind\":\"foreach : options_js\"},\"className\":\"buttons has-addons is-centered\"},\"nodeType\":\"DOM\",\"type\":\"node\",\"instanceArgs\":{\"namespace\":\"html\",\"tag\":\"div\"},\"children\":[{\"props\":{\"attributes\":{\"data-bind\":\"click: function (){$root.update(val)}, css: {'is-primary is-selected' : $root.index() == val, 'interact-widget is-medium button ' : true}\"}},\"nodeType\":\"DOM\",\"type\":\"node\",\"instanceArgs\":{\"namespace\":\"html\",\"tag\":\"span\"},\"children\":[{\"props\":{\"attributes\":{\"data-bind\":\"text : key\"}},\"nodeType\":\"DOM\",\"type\":\"node\",\"instanceArgs\":{\"namespace\":\"html\",\"tag\":\"label\"},\"children\":[]}]}]}]},{\"props\":{\"className\":\"interact-flex-row-right\"},\"nodeType\":\"DOM\",\"type\":\"node\",\"instanceArgs\":{\"namespace\":\"html\",\"tag\":\"div\"},\"children\":[{\"props\":{},\"nodeType\":\"DOM\",\"type\":\"node\",\"instanceArgs\":{\"namespace\":\"html\",\"tag\":\"div\"},\"children\":[]}]}]}]}]},{\"props\":{\"className\":\"field interact-widget\"},\"nodeType\":\"DOM\",\"type\":\"node\",\"instanceArgs\":{\"namespace\":\"html\",\"tag\":\"div\"},\"children\":[{\"props\":{},\"nodeType\":\"Scope\",\"type\":\"node\",\"instanceArgs\":{\"imports\":{\"data\":[{\"name\":\"knockout\",\"type\":\"js\",\"url\":\"\\/assetserver\\/254160226b58162a42111ea27214076747de1cf2-knockout.js\"},{\"name\":\"knockout_punches\",\"type\":\"js\",\"url\":\"\\/assetserver\\/2d0bf510fb683322318163f3ec7562806e4b1104-knockout_punches.js\"},{\"name\":null,\"type\":\"js\",\"url\":\"\\/assetserver\\/6ffcdda43c684da84d2ca5dd2027e4a55c68edac-all.js\"},{\"name\":null,\"type\":\"css\",\"url\":\"\\/assetserver\\/b0b44adaed1197b8510174b41f32f09d98a0c28e-style.css\"},{\"name\":null,\"type\":\"css\",\"url\":\"\\/assetserver\\/bbb2e3064bd5f6dfcf2f18fbeb52d9320f251632-bulma_confined.min.css\"}],\"type\":\"async_block\"},\"id\":\"190995409720537985\",\"handlers\":{\"changes\":[\"(function (val){return (val!=this.model[\\\"changes\\\"]()) ? (this.valueFromJulia[\\\"changes\\\"]=true, this.model[\\\"changes\\\"](val)) : undefined})\"],\"index\":[\"(function (val){return (val!=this.model[\\\"index\\\"]()) ? (this.valueFromJulia[\\\"index\\\"]=true, this.model[\\\"index\\\"](val)) : undefined})\"]},\"systemjs_options\":null,\"mount_callbacks\":[\"function () {\\n    var handler = (function (ko, koPunches) {\\n    ko.punches.enableAll();\\n    ko.bindingHandlers.numericValue = {\\n        init: function(element, valueAccessor, allBindings, data, context) {\\n            var stringified = ko.observable(ko.unwrap(valueAccessor()));\\n            stringified.subscribe(function(value) {\\n                var val = parseFloat(value);\\n                if (!isNaN(val)) {\\n                    valueAccessor()(val);\\n                }\\n            });\\n            valueAccessor().subscribe(function(value) {\\n                var str = JSON.stringify(value);\\n                if ((str == \\\"0\\\") && ([\\\"-0\\\", \\\"-0.\\\"].indexOf(stringified()) >= 0))\\n                     return;\\n                 if ([\\\"null\\\", \\\"\\\"].indexOf(str) >= 0)\\n                     return;\\n                stringified(str);\\n            });\\n            ko.applyBindingsToNode(\\n                element,\\n                {\\n                    value: stringified,\\n                    valueUpdate: allBindings.get('valueUpdate'),\\n                },\\n                context,\\n            );\\n        }\\n    };\\n    var json_data = {\\\"formatted_vals\\\":[\\\"0.05\\\",\\\"0.1\\\",\\\"0.15\\\",\\\"0.2\\\",\\\"0.25\\\",\\\"0.3\\\",\\\"0.35\\\",\\\"0.4\\\",\\\"0.45\\\",\\\"0.5\\\",\\\"0.55\\\",\\\"0.6\\\",\\\"0.65\\\",\\\"0.7\\\",\\\"0.75\\\",\\\"0.8\\\",\\\"0.85\\\",\\\"0.9\\\",\\\"0.95\\\"],\\\"changes\\\":WebIO.getval({\\\"name\\\":\\\"changes\\\",\\\"scope\\\":\\\"190995409720537985\\\",\\\"id\\\":\\\"ob_31\\\",\\\"type\\\":\\\"observable\\\"}),\\\"index\\\":WebIO.getval({\\\"name\\\":\\\"index\\\",\\\"scope\\\":\\\"190995409720537985\\\",\\\"id\\\":\\\"ob_30\\\",\\\"type\\\":\\\"observable\\\"})};\\n    var self = this;\\n    function AppViewModel() {\\n        for (var key in json_data) {\\n            var el = json_data[key];\\n            this[key] = Array.isArray(el) ? ko.observableArray(el) : ko.observable(el);\\n        }\\n        \\n        [this[\\\"formatted_val\\\"]=ko.computed(    function(){\\n        return this.formatted_vals()[parseInt(this.index())-(1)];\\n    }\\n,this)]\\n        [this[\\\"changes\\\"].subscribe((function (val){!(this.valueFromJulia[\\\"changes\\\"]) ? (WebIO.setval({\\\"name\\\":\\\"changes\\\",\\\"scope\\\":\\\"190995409720537985\\\",\\\"id\\\":\\\"ob_31\\\",\\\"type\\\":\\\"observable\\\"},val)) : undefined; return this.valueFromJulia[\\\"changes\\\"]=false}),self),this[\\\"index\\\"].subscribe((function (val){!(this.valueFromJulia[\\\"index\\\"]) ? (WebIO.setval({\\\"name\\\":\\\"index\\\",\\\"scope\\\":\\\"190995409720537985\\\",\\\"id\\\":\\\"ob_30\\\",\\\"type\\\":\\\"observable\\\"},val)) : undefined; return this.valueFromJulia[\\\"index\\\"]=false}),self)]\\n        \\n    }\\n    self.model = new AppViewModel();\\n    self.valueFromJulia = {};\\n    for (var key in json_data) {\\n        self.valueFromJulia[key] = false;\\n    }\\n    ko.applyBindings(self.model, self.dom);\\n}\\n);\\n    (WebIO.importBlock({\\\"data\\\":[{\\\"name\\\":\\\"knockout\\\",\\\"type\\\":\\\"js\\\",\\\"url\\\":\\\"\\/assetserver\\/254160226b58162a42111ea27214076747de1cf2-knockout.js\\\"},{\\\"name\\\":\\\"knockout_punches\\\",\\\"type\\\":\\\"js\\\",\\\"url\\\":\\\"\\/assetserver\\/2d0bf510fb683322318163f3ec7562806e4b1104-knockout_punches.js\\\"}],\\\"type\\\":\\\"async_block\\\"})).then((imports) => handler.apply(this, imports));\\n}\\n\"],\"observables\":{\"changes\":{\"sync\":false,\"id\":\"ob_31\",\"value\":0},\"index\":{\"sync\":true,\"id\":\"ob_30\",\"value\":10}}},\"children\":[{\"props\":{\"className\":\"interact-flex-row interact-widget\"},\"nodeType\":\"DOM\",\"type\":\"node\",\"instanceArgs\":{\"namespace\":\"html\",\"tag\":\"div\"},\"children\":[{\"props\":{\"className\":\"interact-flex-row-left\"},\"nodeType\":\"DOM\",\"type\":\"node\",\"instanceArgs\":{\"namespace\":\"html\",\"tag\":\"div\"},\"children\":[{\"props\":{\"className\":\"interact \",\"style\":{\"padding\":\"5px 10px 0px 10px\"}},\"nodeType\":\"DOM\",\"type\":\"node\",\"instanceArgs\":{\"namespace\":\"html\",\"tag\":\"label\"},\"children\":[\"q\"]}]},{\"props\":{\"className\":\"interact-flex-row-center\"},\"nodeType\":\"DOM\",\"type\":\"node\",\"instanceArgs\":{\"namespace\":\"html\",\"tag\":\"div\"},\"children\":[{\"props\":{\"max\":19,\"min\":1,\"attributes\":{\"type\":\"range\",\"data-bind\":\"numericValue: index, valueUpdate: 'input', event: {change: function (){this.changes(this.changes()+1)}}\",\"orient\":\"horizontal\"},\"step\":1,\"className\":\"slider slider is-fullwidth\",\"style\":{}},\"nodeType\":\"DOM\",\"type\":\"node\",\"instanceArgs\":{\"namespace\":\"html\",\"tag\":\"input\"},\"children\":[]}]},{\"props\":{\"className\":\"interact-flex-row-right\"},\"nodeType\":\"DOM\",\"type\":\"node\",\"instanceArgs\":{\"namespace\":\"html\",\"tag\":\"div\"},\"children\":[{\"props\":{\"attributes\":{\"data-bind\":\"text: formatted_val\"}},\"nodeType\":\"DOM\",\"type\":\"node\",\"instanceArgs\":{\"namespace\":\"html\",\"tag\":\"p\"},\"children\":[]}]}]}]}]},{\"props\":{\"className\":\"field interact-widget\"},\"nodeType\":\"DOM\",\"type\":\"node\",\"instanceArgs\":{\"namespace\":\"html\",\"tag\":\"div\"},\"children\":[{\"props\":{},\"nodeType\":\"Scope\",\"type\":\"node\",\"instanceArgs\":{\"imports\":{\"data\":[{\"name\":\"knockout\",\"type\":\"js\",\"url\":\"\\/assetserver\\/254160226b58162a42111ea27214076747de1cf2-knockout.js\"},{\"name\":\"knockout_punches\",\"type\":\"js\",\"url\":\"\\/assetserver\\/2d0bf510fb683322318163f3ec7562806e4b1104-knockout_punches.js\"},{\"name\":null,\"type\":\"js\",\"url\":\"\\/assetserver\\/6ffcdda43c684da84d2ca5dd2027e4a55c68edac-all.js\"},{\"name\":null,\"type\":\"css\",\"url\":\"\\/assetserver\\/b0b44adaed1197b8510174b41f32f09d98a0c28e-style.css\"},{\"name\":null,\"type\":\"css\",\"url\":\"\\/assetserver\\/bbb2e3064bd5f6dfcf2f18fbeb52d9320f251632-bulma_confined.min.css\"}],\"type\":\"async_block\"},\"id\":\"12966108456295824029\",\"handlers\":{\"changes\":[\"(function (val){return (val!=this.model[\\\"changes\\\"]()) ? (this.valueFromJulia[\\\"changes\\\"]=true, this.model[\\\"changes\\\"](val)) : undefined})\"],\"index\":[\"(function (val){return (val!=this.model[\\\"index\\\"]()) ? (this.valueFromJulia[\\\"index\\\"]=true, this.model[\\\"index\\\"](val)) : undefined})\"]},\"systemjs_options\":null,\"mount_callbacks\":[\"function () {\\n    var handler = (function (ko, koPunches) {\\n    ko.punches.enableAll();\\n    ko.bindingHandlers.numericValue = {\\n        init: function(element, valueAccessor, allBindings, data, context) {\\n            var stringified = ko.observable(ko.unwrap(valueAccessor()));\\n            stringified.subscribe(function(value) {\\n                var val = parseFloat(value);\\n                if (!isNaN(val)) {\\n                    valueAccessor()(val);\\n                }\\n            });\\n            valueAccessor().subscribe(function(value) {\\n                var str = JSON.stringify(value);\\n                if ((str == \\\"0\\\") && ([\\\"-0\\\", \\\"-0.\\\"].indexOf(stringified()) >= 0))\\n                     return;\\n                 if ([\\\"null\\\", \\\"\\\"].indexOf(str) >= 0)\\n                     return;\\n                stringified(str);\\n            });\\n            ko.applyBindingsToNode(\\n                element,\\n                {\\n                    value: stringified,\\n                    valueUpdate: allBindings.get('valueUpdate'),\\n                },\\n                context,\\n            );\\n        }\\n    };\\n    var json_data = {\\\"formatted_vals\\\":[\\\"1\\\",\\\"2\\\",\\\"3\\\",\\\"4\\\",\\\"5\\\",\\\"6\\\",\\\"7\\\",\\\"8\\\",\\\"9\\\",\\\"10\\\"],\\\"changes\\\":WebIO.getval({\\\"name\\\":\\\"changes\\\",\\\"scope\\\":\\\"12966108456295824029\\\",\\\"id\\\":\\\"ob_34\\\",\\\"type\\\":\\\"observable\\\"}),\\\"index\\\":WebIO.getval({\\\"name\\\":\\\"index\\\",\\\"scope\\\":\\\"12966108456295824029\\\",\\\"id\\\":\\\"ob_33\\\",\\\"type\\\":\\\"observable\\\"})};\\n    var self = this;\\n    function AppViewModel() {\\n        for (var key in json_data) {\\n            var el = json_data[key];\\n            this[key] = Array.isArray(el) ? ko.observableArray(el) : ko.observable(el);\\n        }\\n        \\n        [this[\\\"formatted_val\\\"]=ko.computed(    function(){\\n        return this.formatted_vals()[parseInt(this.index())-(1)];\\n    }\\n,this)]\\n        [this[\\\"changes\\\"].subscribe((function (val){!(this.valueFromJulia[\\\"changes\\\"]) ? (WebIO.setval({\\\"name\\\":\\\"changes\\\",\\\"scope\\\":\\\"12966108456295824029\\\",\\\"id\\\":\\\"ob_34\\\",\\\"type\\\":\\\"observable\\\"},val)) : undefined; return this.valueFromJulia[\\\"changes\\\"]=false}),self),this[\\\"index\\\"].subscribe((function (val){!(this.valueFromJulia[\\\"index\\\"]) ? (WebIO.setval({\\\"name\\\":\\\"index\\\",\\\"scope\\\":\\\"12966108456295824029\\\",\\\"id\\\":\\\"ob_33\\\",\\\"type\\\":\\\"observable\\\"},val)) : undefined; return this.valueFromJulia[\\\"index\\\"]=false}),self)]\\n        \\n    }\\n    self.model = new AppViewModel();\\n    self.valueFromJulia = {};\\n    for (var key in json_data) {\\n        self.valueFromJulia[key] = false;\\n    }\\n    ko.applyBindings(self.model, self.dom);\\n}\\n);\\n    (WebIO.importBlock({\\\"data\\\":[{\\\"name\\\":\\\"knockout\\\",\\\"type\\\":\\\"js\\\",\\\"url\\\":\\\"\\/assetserver\\/254160226b58162a42111ea27214076747de1cf2-knockout.js\\\"},{\\\"name\\\":\\\"knockout_punches\\\",\\\"type\\\":\\\"js\\\",\\\"url\\\":\\\"\\/assetserver\\/2d0bf510fb683322318163f3ec7562806e4b1104-knockout_punches.js\\\"}],\\\"type\\\":\\\"async_block\\\"})).then((imports) => handler.apply(this, imports));\\n}\\n\"],\"observables\":{\"changes\":{\"sync\":false,\"id\":\"ob_34\",\"value\":0},\"index\":{\"sync\":true,\"id\":\"ob_33\",\"value\":5}}},\"children\":[{\"props\":{\"className\":\"interact-flex-row interact-widget\"},\"nodeType\":\"DOM\",\"type\":\"node\",\"instanceArgs\":{\"namespace\":\"html\",\"tag\":\"div\"},\"children\":[{\"props\":{\"className\":\"interact-flex-row-left\"},\"nodeType\":\"DOM\",\"type\":\"node\",\"instanceArgs\":{\"namespace\":\"html\",\"tag\":\"div\"},\"children\":[{\"props\":{\"className\":\"interact \",\"style\":{\"padding\":\"5px 10px 0px 10px\"}},\"nodeType\":\"DOM\",\"type\":\"node\",\"instanceArgs\":{\"namespace\":\"html\",\"tag\":\"label\"},\"children\":[\"λ\"]}]},{\"props\":{\"className\":\"interact-flex-row-center\"},\"nodeType\":\"DOM\",\"type\":\"node\",\"instanceArgs\":{\"namespace\":\"html\",\"tag\":\"div\"},\"children\":[{\"props\":{\"max\":10,\"min\":1,\"attributes\":{\"type\":\"range\",\"data-bind\":\"numericValue: index, valueUpdate: 'input', event: {change: function (){this.changes(this.changes()+1)}}\",\"orient\":\"horizontal\"},\"step\":1,\"className\":\"slider slider is-fullwidth\",\"style\":{}},\"nodeType\":\"DOM\",\"type\":\"node\",\"instanceArgs\":{\"namespace\":\"html\",\"tag\":\"input\"},\"children\":[]}]},{\"props\":{\"className\":\"interact-flex-row-right\"},\"nodeType\":\"DOM\",\"type\":\"node\",\"instanceArgs\":{\"namespace\":\"html\",\"tag\":\"div\"},\"children\":[{\"props\":{\"attributes\":{\"data-bind\":\"text: formatted_val\"}},\"nodeType\":\"DOM\",\"type\":\"node\",\"instanceArgs\":{\"namespace\":\"html\",\"tag\":\"p\"},\"children\":[]}]}]}]}]},{\"props\":{},\"nodeType\":\"Scope\",\"type\":\"node\",\"instanceArgs\":{\"imports\":{\"data\":[],\"type\":\"async_block\"},\"id\":\"2556426918707148522\",\"handlers\":{},\"systemjs_options\":null,\"mount_callbacks\":[],\"observables\":{\"obs-node\":{\"sync\":false,\"id\":\"ob_38\",\"value\":{\"props\":{\"className\":\"interact-flex-row interact-widget\"},\"nodeType\":\"DOM\",\"type\":\"node\",\"instanceArgs\":{\"namespace\":\"html\",\"tag\":\"div\"},\"children\":[{\"props\":{\"setInnerHtml\":\"<?xml version=\\\"1.0\\\" encoding=\\\"utf-8\\\"?>\\n<svg xmlns=\\\"http:\\/\\/www.w3.org\\/2000\\/svg\\\" xmlns:xlink=\\\"http:\\/\\/www.w3.org\\/1999\\/xlink\\\" width=\\\"600\\\" height=\\\"400\\\" viewBox=\\\"0 0 2400 1600\\\">\\n<defs>\\n  <clipPath id=\\\"clip3500\\\">\\n    <rect x=\\\"0\\\" y=\\\"0\\\" width=\\\"2400\\\" height=\\\"1600\\\"\\/>\\n  <\\/clipPath>\\n<\\/defs>\\n<path clip-path=\\\"url(#clip3500)\\\" d=\\\"\\nM0 1600 L2400 1600 L2400 0 L0 0  Z\\n  \\\" fill=\\\"#ffffff\\\" fill-rule=\\\"evenodd\\\" fill-opacity=\\\"1\\\"\\/>\\n<defs>\\n  <clipPath id=\\\"clip3501\\\">\\n    <rect x=\\\"480\\\" y=\\\"0\\\" width=\\\"1681\\\" height=\\\"1600\\\"\\/>\\n  <\\/clipPath>\\n<\\/defs>\\n<path clip-path=\\\"url(#clip3500)\\\" d=\\\"\\nM113.754 1425.62 L2352.76 1425.62 L2352.76 47.2441 L113.754 47.2441  Z\\n  \\\" fill=\\\"#ffffff\\\" fill-rule=\\\"evenodd\\\" fill-opacity=\\\"1\\\"\\/>\\n<defs>\\n  <clipPath id=\\\"clip3502\\\">\\n    <rect x=\\\"113\\\" y=\\\"47\\\" width=\\\"2240\\\" height=\\\"1379\\\"\\/>\\n  <\\/clipPath>\\n<\\/defs>\\n<polyline clip-path=\\\"url(#clip3502)\\\" style=\\\"stroke:#000000; stroke-width:2; stroke-opacity:0.1; fill:none\\\" points=\\\"\\n  173.275,1425.62 173.275,47.2441 \\n  \\\"\\/>\\n<polyline clip-path=\\\"url(#clip3502)\\\" style=\\\"stroke:#000000; stroke-width:2; stroke-opacity:0.1; fill:none\\\" points=\\\"\\n  558.023,1425.62 558.023,47.2441 \\n  \\\"\\/>\\n<polyline clip-path=\\\"url(#clip3502)\\\" style=\\\"stroke:#000000; stroke-width:2; stroke-opacity:0.1; fill:none\\\" points=\\\"\\n  942.771,1425.62 942.771,47.2441 \\n  \\\"\\/>\\n<polyline clip-path=\\\"url(#clip3502)\\\" style=\\\"stroke:#000000; stroke-width:2; stroke-opacity:0.1; fill:none\\\" points=\\\"\\n  1327.52,1425.62 1327.52,47.2441 \\n  \\\"\\/>\\n<polyline clip-path=\\\"url(#clip3502)\\\" style=\\\"stroke:#000000; stroke-width:2; stroke-opacity:0.1; fill:none\\\" points=\\\"\\n  1712.27,1425.62 1712.27,47.2441 \\n  \\\"\\/>\\n<polyline clip-path=\\\"url(#clip3502)\\\" style=\\\"stroke:#000000; stroke-width:2; stroke-opacity:0.1; fill:none\\\" points=\\\"\\n  2097.01,1425.62 2097.01,47.2441 \\n  \\\"\\/>\\n<polyline clip-path=\\\"url(#clip3502)\\\" style=\\\"stroke:#000000; stroke-width:2; stroke-opacity:0.1; fill:none\\\" points=\\\"\\n  113.754,1386.61 2352.76,1386.61 \\n  \\\"\\/>\\n<polyline clip-path=\\\"url(#clip3502)\\\" style=\\\"stroke:#000000; stroke-width:2; stroke-opacity:0.1; fill:none\\\" points=\\\"\\n  113.754,1121.77 2352.76,1121.77 \\n  \\\"\\/>\\n<polyline clip-path=\\\"url(#clip3502)\\\" style=\\\"stroke:#000000; stroke-width:2; stroke-opacity:0.1; fill:none\\\" points=\\\"\\n  113.754,856.923 2352.76,856.923 \\n  \\\"\\/>\\n<polyline clip-path=\\\"url(#clip3502)\\\" style=\\\"stroke:#000000; stroke-width:2; stroke-opacity:0.1; fill:none\\\" points=\\\"\\n  113.754,592.08 2352.76,592.08 \\n  \\\"\\/>\\n<polyline clip-path=\\\"url(#clip3502)\\\" style=\\\"stroke:#000000; stroke-width:2; stroke-opacity:0.1; fill:none\\\" points=\\\"\\n  113.754,327.238 2352.76,327.238 \\n  \\\"\\/>\\n<polyline clip-path=\\\"url(#clip3502)\\\" style=\\\"stroke:#000000; stroke-width:2; stroke-opacity:0.1; fill:none\\\" points=\\\"\\n  113.754,62.395 2352.76,62.395 \\n  \\\"\\/>\\n<polyline clip-path=\\\"url(#clip3500)\\\" style=\\\"stroke:#000000; stroke-width:4; stroke-opacity:1; fill:none\\\" points=\\\"\\n  113.754,1425.62 2352.76,1425.62 \\n  \\\"\\/>\\n<polyline clip-path=\\\"url(#clip3500)\\\" style=\\\"stroke:#000000; stroke-width:4; stroke-opacity:1; fill:none\\\" points=\\\"\\n  113.754,1425.62 113.754,47.2441 \\n  \\\"\\/>\\n<polyline clip-path=\\\"url(#clip3500)\\\" style=\\\"stroke:#000000; stroke-width:4; stroke-opacity:1; fill:none\\\" points=\\\"\\n  173.275,1425.62 173.275,1404.94 \\n  \\\"\\/>\\n<polyline clip-path=\\\"url(#clip3500)\\\" style=\\\"stroke:#000000; stroke-width:4; stroke-opacity:1; fill:none\\\" points=\\\"\\n  558.023,1425.62 558.023,1404.94 \\n  \\\"\\/>\\n<polyline clip-path=\\\"url(#clip3500)\\\" style=\\\"stroke:#000000; stroke-width:4; stroke-opacity:1; fill:none\\\" points=\\\"\\n  942.771,1425.62 942.771,1404.94 \\n  \\\"\\/>\\n<polyline clip-path=\\\"url(#clip3500)\\\" style=\\\"stroke:#000000; stroke-width:4; stroke-opacity:1; fill:none\\\" points=\\\"\\n  1327.52,1425.62 1327.52,1404.94 \\n  \\\"\\/>\\n<polyline clip-path=\\\"url(#clip3500)\\\" style=\\\"stroke:#000000; stroke-width:4; stroke-opacity:1; fill:none\\\" points=\\\"\\n  1712.27,1425.62 1712.27,1404.94 \\n  \\\"\\/>\\n<polyline clip-path=\\\"url(#clip3500)\\\" style=\\\"stroke:#000000; stroke-width:4; stroke-opacity:1; fill:none\\\" points=\\\"\\n  2097.01,1425.62 2097.01,1404.94 \\n  \\\"\\/>\\n<polyline clip-path=\\\"url(#clip3500)\\\" style=\\\"stroke:#000000; stroke-width:4; stroke-opacity:1; fill:none\\\" points=\\\"\\n  113.754,1386.61 147.339,1386.61 \\n  \\\"\\/>\\n<polyline clip-path=\\\"url(#clip3500)\\\" style=\\\"stroke:#000000; stroke-width:4; stroke-opacity:1; fill:none\\\" points=\\\"\\n  113.754,1121.77 147.339,1121.77 \\n  \\\"\\/>\\n<polyline clip-path=\\\"url(#clip3500)\\\" style=\\\"stroke:#000000; stroke-width:4; stroke-opacity:1; fill:none\\\" points=\\\"\\n  113.754,856.923 147.339,856.923 \\n  \\\"\\/>\\n<polyline clip-path=\\\"url(#clip3500)\\\" style=\\\"stroke:#000000; stroke-width:4; stroke-opacity:1; fill:none\\\" points=\\\"\\n  113.754,592.08 147.339,592.08 \\n  \\\"\\/>\\n<polyline clip-path=\\\"url(#clip3500)\\\" style=\\\"stroke:#000000; stroke-width:4; stroke-opacity:1; fill:none\\\" points=\\\"\\n  113.754,327.238 147.339,327.238 \\n  \\\"\\/>\\n<polyline clip-path=\\\"url(#clip3500)\\\" style=\\\"stroke:#000000; stroke-width:4; stroke-opacity:1; fill:none\\\" points=\\\"\\n  113.754,62.395 147.339,62.395 \\n  \\\"\\/>\\n<g clip-path=\\\"url(#clip3500)\\\">\\n<text style=\\\"fill:#000000; fill-opacity:1; font-family:Arial,Helvetica Neue,Helvetica,sans-serif; font-size:48px; text-anchor:middle;\\\" transform=\\\"rotate(0, 173.275, 1479.62)\\\" x=\\\"173.275\\\" y=\\\"1479.62\\\">0<\\/text>\\n<\\/g>\\n<g clip-path=\\\"url(#clip3500)\\\">\\n<text style=\\\"fill:#000000; fill-opacity:1; font-family:Arial,Helvetica Neue,Helvetica,sans-serif; font-size:48px; text-anchor:middle;\\\" transform=\\\"rotate(0, 558.023, 1479.62)\\\" x=\\\"558.023\\\" y=\\\"1479.62\\\">100<\\/text>\\n<\\/g>\\n<g clip-path=\\\"url(#clip3500)\\\">\\n<text style=\\\"fill:#000000; fill-opacity:1; font-family:Arial,Helvetica Neue,Helvetica,sans-serif; font-size:48px; text-anchor:middle;\\\" transform=\\\"rotate(0, 942.771, 1479.62)\\\" x=\\\"942.771\\\" y=\\\"1479.62\\\">200<\\/text>\\n<\\/g>\\n<g clip-path=\\\"url(#clip3500)\\\">\\n<text style=\\\"fill:#000000; fill-opacity:1; font-family:Arial,Helvetica Neue,Helvetica,sans-serif; font-size:48px; text-anchor:middle;\\\" transform=\\\"rotate(0, 1327.52, 1479.62)\\\" x=\\\"1327.52\\\" y=\\\"1479.62\\\">300<\\/text>\\n<\\/g>\\n<g clip-path=\\\"url(#clip3500)\\\">\\n<text style=\\\"fill:#000000; fill-opacity:1; font-family:Arial,Helvetica Neue,Helvetica,sans-serif; font-size:48px; text-anchor:middle;\\\" transform=\\\"rotate(0, 1712.27, 1479.62)\\\" x=\\\"1712.27\\\" y=\\\"1479.62\\\">400<\\/text>\\n<\\/g>\\n<g clip-path=\\\"url(#clip3500)\\\">\\n<text style=\\\"fill:#000000; fill-opacity:1; font-family:Arial,Helvetica Neue,Helvetica,sans-serif; font-size:48px; text-anchor:middle;\\\" transform=\\\"rotate(0, 2097.01, 1479.62)\\\" x=\\\"2097.01\\\" y=\\\"1479.62\\\">500<\\/text>\\n<\\/g>\\n<g clip-path=\\\"url(#clip3500)\\\">\\n<text style=\\\"fill:#000000; fill-opacity:1; font-family:Arial,Helvetica Neue,Helvetica,sans-serif; font-size:48px; text-anchor:end;\\\" transform=\\\"rotate(0, 89.7545, 1404.11)\\\" x=\\\"89.7545\\\" y=\\\"1404.11\\\">0<\\/text>\\n<\\/g>\\n<g clip-path=\\\"url(#clip3500)\\\">\\n<text style=\\\"fill:#000000; fill-opacity:1; font-family:Arial,Helvetica Neue,Helvetica,sans-serif; font-size:48px; text-anchor:end;\\\" transform=\\\"rotate(0, 89.7545, 1139.27)\\\" x=\\\"89.7545\\\" y=\\\"1139.27\\\">1<\\/text>\\n<\\/g>\\n<g clip-path=\\\"url(#clip3500)\\\">\\n<text style=\\\"fill:#000000; fill-opacity:1; font-family:Arial,Helvetica Neue,Helvetica,sans-serif; font-size:48px; text-anchor:end;\\\" transform=\\\"rotate(0, 89.7545, 874.423)\\\" x=\\\"89.7545\\\" y=\\\"874.423\\\">2<\\/text>\\n<\\/g>\\n<g clip-path=\\\"url(#clip3500)\\\">\\n<text style=\\\"fill:#000000; fill-opacity:1; font-family:Arial,Helvetica Neue,Helvetica,sans-serif; font-size:48px; text-anchor:end;\\\" transform=\\\"rotate(0, 89.7545, 609.58)\\\" x=\\\"89.7545\\\" y=\\\"609.58\\\">3<\\/text>\\n<\\/g>\\n<g clip-path=\\\"url(#clip3500)\\\">\\n<text style=\\\"fill:#000000; fill-opacity:1; font-family:Arial,Helvetica Neue,Helvetica,sans-serif; font-size:48px; text-anchor:end;\\\" transform=\\\"rotate(0, 89.7545, 344.738)\\\" x=\\\"89.7545\\\" y=\\\"344.738\\\">4<\\/text>\\n<\\/g>\\n<g clip-path=\\\"url(#clip3500)\\\">\\n<text style=\\\"fill:#000000; fill-opacity:1; font-family:Arial,Helvetica Neue,Helvetica,sans-serif; font-size:48px; text-anchor:end;\\\" transform=\\\"rotate(0, 89.7545, 79.895)\\\" x=\\\"89.7545\\\" y=\\\"79.895\\\">5<\\/text>\\n<\\/g>\\n<g clip-path=\\\"url(#clip3500)\\\">\\n<text style=\\\"fill:#000000; fill-opacity:1; font-family:Arial,Helvetica Neue,Helvetica,sans-serif; font-size:66px; text-anchor:middle;\\\" transform=\\\"rotate(0, 1233.26, 1559.48)\\\" x=\\\"1233.26\\\" y=\\\"1559.48\\\">N<\\/text>\\n<\\/g>\\n<polyline clip-path=\\\"url(#clip3502)\\\" style=\\\"stroke:#ff0000; stroke-width:12; stroke-opacity:1; fill:none\\\" points=\\\"\\n  177.122,1386.61 180.97,1254.19 184.817,945.204 188.665,923.133 192.512,539.112 196.36,503.799 200.207,516.411 204.055,459.659 207.902,386.092 211.75,433.175 \\n  215.597,375.391 219.445,371.378 223.292,408.728 227.14,440.742 230.987,450.831 234.835,443.106 238.682,420.711 242.53,400.805 246.377,424.811 250.225,419.933 \\n  254.072,440.742 257.919,435.582 261.767,304.208 265.614,327.238 269.462,316.644 273.309,327.238 277.157,317.429 281.004,213.734 284.852,217.648 288.699,230.129 \\n  292.547,105.112 296.394,120.329 300.242,102.523 304.089,124.711 307.937,107.797 311.784,143.319 315.632,148.29 319.479,173.908 323.327,191.421 327.174,188.195 \\n  331.022,217.425 334.869,207.428 338.717,167.1 342.564,194.816 346.411,162.447 350.259,171.787 354.106,197.634 357.954,205.851 361.801,192.114 365.649,194.816 \\n  369.496,187.027 373.344,194.816 377.191,207.309 381.039,175.198 384.886,187.593 388.734,161.711 392.581,132.09 396.429,153.72 400.276,152.172 404.124,141.848 \\n  407.971,153.57 411.819,147.828 415.666,112.841 419.514,124.467 423.361,107.215 427.209,126.599 431.056,117.735 434.903,124.711 438.751,139.161 442.598,119.147 \\n  446.446,129.538 450.293,135.962 454.141,138.583 457.988,151.869 461.836,143.613 465.683,156.484 469.531,158.701 473.378,143.885 477.226,136.149 481.073,141.848 \\n  484.921,147.406 488.768,152.829 492.616,129.403 496.463,128.606 500.311,99.7845 504.158,108.588 508.006,108.058 511.853,116.567 515.701,110.007 519.548,115.364 \\n  523.395,106.05 527.243,117.091 531.09,122.198 534.938,118.744 538.785,129.303 542.633,123.088 546.48,122.462 550.328,124.552 554.175,126.599 558.023,128.606 \\n  561.87,138.439 565.718,148.079 569.565,152.39 573.413,143.885 577.26,127.975 581.108,137.35 584.955,141.6 588.803,135.962 592.65,132.858 596.498,98.5099 \\n  600.345,86.2547 604.193,90.771 608.04,99.8948 611.887,101.889 615.735,103.849 619.582,114.907 623.43,118.985 627.277,111.772 631.125,113.583 634.972,119.778 \\n  638.82,119.303 642.667,112.324 646.515,120.531 650.362,111.519 654.21,111.126 658.057,110.739 661.905,110.359 665.752,114.122 669.6,115.774 673.447,125.55 \\n  677.295,119.003 681.142,112.555 684.99,114.169 688.837,121.688 692.685,123.211 696.532,109.132 700.379,110.724 704.227,119.969 708.074,123.366 711.922,119.147 \\n  715.769,114.988 719.617,120.213 723.464,123.513 727.312,128.606 731.159,131.802 735.007,125.885 738.854,114.643 742.702,110.711 746.549,108.609 750.397,115.364 \\n  754.244,111.505 758.092,111.182 761.939,114.325 765.787,120.867 769.634,129.033 773.482,115.024 777.329,113.002 781.177,111.005 785.024,109.034 788.871,108.742 \\n  792.719,108.455 796.566,98.3613 800.414,104.64 804.261,96.3078 808.109,100.918 811.956,105.472 815.804,105.214 819.651,103.383 823.499,100.006 827.346,101.342 \\n  831.194,105.761 835.041,110.128 838.889,103.729 842.736,98.925 846.584,106.283 850.431,104.529 854.279,101.298 858.126,99.592 861.974,99.3842 865.821,106.535 \\n  869.668,103.365 873.516,101.685 877.363,105.812 881.211,108.455 885.058,108.206 888.906,110.807 892.753,103.467 896.601,106.066 900.448,103.032 904.296,109.788 \\n  908.143,112.313 911.991,114.812 915.838,115.912 919.686,119.732 923.533,118.08 927.381,123.201 931.228,118.859 935.076,121.249 938.923,122.284 942.771,124.633 \\n  946.618,120.37 950.466,124.017 954.313,125.018 958.16,124.711 962.008,123.115 965.855,126.677 969.703,126.367 973.55,120.966 977.398,123.22 981.245,122.93 \\n  985.093,118.878 988.94,121.11 992.788,124.565 996.635,126.749 1000.48,130.145 1004.33,133.51 1008.18,133.182 1012.03,135.287 1015.87,133.745 1019.72,126.198 \\n  1023.57,124.711 1027.42,125.623 1031.26,127.715 1035.11,122.694 1038.96,121.249 1042.81,124.504 1046.65,125.397 1050.5,125.121 1054.35,120.221 1058.19,118.818 \\n  1062.04,116.281 1065.89,117.19 1069.74,114.682 1073.58,108.799 1077.43,110.856 1081.28,110.65 1085.13,113.799 1088.97,106.906 1092.82,107.828 1096.67,110.949 \\n  1100.52,111.847 1104.36,109.454 1108.21,111.44 1112.06,115.581 1115.91,116.445 1119.75,118.378 1123.6,109.573 1127.45,111.519 1131.3,113.449 1135.14,112.185 \\n  1138.99,116.208 1142.84,119.147 1146.69,116.829 1150.53,120.785 1154.38,116.402 1158.23,120.329 1162.08,117.012 1165.92,118.854 1169.77,118.636 1173.62,122.494 \\n  1177.47,124.293 1181.31,127.089 1185.16,125.836 1189.01,121.583 1192.86,124.358 1196.7,126.117 1200.55,119.926 1204.4,123.665 1208.25,121.468 1212.09,123.211 \\n  1215.94,123.964 1219.79,123.737 1223.64,127.393 1227.48,128.122 1231.33,123.068 1235.18,122.848 1239.03,124.542 1242.87,128.129 1246.72,132.64 1250.57,128.606 \\n  1254.42,130.255 1258.26,133.771 1262.11,124.16 1265.96,126.741 1269.81,127.444 1273.65,115.178 1277.5,112.226 1281.35,113.892 1285.2,114.63 1289.04,116.277 \\n  1292.89,116.092 1296.74,115.001 1300.59,117.533 1304.43,120.048 1308.28,118.057 1312.13,117.869 1315.98,116.79 1319.82,116.608 1323.67,119.969 1327.52,116.246 \\n  1331.37,118.707 1335.21,117.644 1339.06,120.083 1342.91,115.538 1346.76,119.705 1350.6,122.114 1354.45,113.293 1358.3,115.707 1362.15,117.249 1365.99,117.927 \\n  1369.84,121.154 1373.69,118.419 1377.54,117.394 1381.38,120.593 1385.23,116.204 1389.08,116.872 1392.93,119.207 1396.77,120.694 1400.62,123.002 1404.47,122.812 \\n  1408.32,125.924 1412.16,126.549 1416.01,127.991 1419.86,125.336 1423.71,126.772 1427.55,129.012 1431.4,128.808 1435.25,131.028 1439.1,131.624 1442.94,124.994 \\n  1446.79,126.405 1450.64,128.606 1454.49,128.407 1458.33,126.623 1462.18,126.432 1466.03,128.606 1469.88,128.409 1473.72,128.214 1477.57,125.676 1481.42,128.606 \\n  1485.27,129.965 1489.11,127.444 1492.96,126.482 1496.81,129.376 1500.65,130.717 1504.5,131.285 1508.35,130.323 1512.2,129.367 1516.04,131.451 1519.89,134.281 \\n  1523.74,132.567 1527.59,124.844 1531.43,127.668 1535.28,129.728 1539.13,131.03 1542.98,127.118 1546.82,125.453 1550.67,120.838 1554.52,113.298 1558.37,116.099 \\n  1562.21,115.95 1566.06,118.729 1569.91,121.492 1573.76,123.513 1577.6,121.894 1581.45,124.626 1585.3,123.735 1589.15,124.288 1592.99,126.273 1596.84,121.806 \\n  1600.69,122.359 1604.54,123.622 1608.38,124.168 1612.23,123.295 1616.08,126.663 1619.93,124.379 1623.77,119.298 1627.62,121.95 1631.47,122.491 1635.32,125.818 \\n  1639.16,127.737 1643.01,126.872 1646.86,128.087 1650.71,128.606 1654.55,126.37 1658.4,127.576 1662.25,129.461 1666.1,130.653 1669.94,129.116 1673.79,130.982 \\n  1677.64,130.807 1681.49,125.228 1685.33,125.068 1689.18,122.892 1693.03,124.08 1696.88,121.918 1700.72,125.103 1704.57,125.611 1708.42,128.772 1712.27,131.254 \\n  1716.11,127.12 1719.96,123.665 1723.81,122.198 1727.66,122.05 1731.5,124.519 1735.35,125.018 1739.2,125.515 1743.05,126.658 1746.89,128.444 1750.74,123.761 \\n  1754.59,126.189 1758.44,124.749 1762.28,125.88 1766.13,127.006 1769.98,123.022 1773.83,125.422 1777.67,124.001 1781.52,126.388 1785.37,129.396 1789.22,126.714 \\n  1793.06,129.707 1796.91,127.664 1800.76,124.379 1804.61,125.483 1808.45,126.58 1812.3,129.538 1816.15,131.862 1820,129.224 1823.84,127.217 1827.69,128.298 \\n  1831.54,129.988 1835.39,126.766 1839.23,127.841 1843.08,125.86 1846.93,122.67 1850.78,121.316 1854.62,118.757 1858.47,116.815 1862.32,119.104 1866.17,120.781 \\n  1870.01,121.849 1873.86,120.517 1877.71,122.179 1881.56,121.448 1885.4,123.1 1889.25,122.964 1893.1,120.459 1896.95,118.556 1900.79,120.79 1904.64,119.483 \\n  1908.49,120.531 1912.34,119.231 1916.18,120.275 1920.03,116.064 1923.88,115.946 1927.72,117.571 1931.57,112.814 1935.42,112.704 1939.27,114.902 1943.11,115.364 \\n  1946.96,118.121 1950.81,119.147 1954.66,116.164 1958.5,117.761 1962.35,120.49 1966.2,121.502 1970.05,120.808 1973.89,114.458 1977.74,115.476 1981.59,113.11 \\n  1985.44,114.689 1989.28,112.895 1993.13,112.788 1996.98,112.682 2000.83,113.691 2004.67,109.688 2008.52,111.255 2012.37,113.369 2016.22,111.604 2020.06,114.26 \\n  2023.91,115.804 2027.76,116.243 2031.61,116.131 2035.45,116.02 2039.3,114.817 2043.15,115.255 2047,117.321 2050.84,117.751 2054.69,114.93 2058.54,117.526 \\n  2062.39,116.874 2066.23,117.84 2070.08,112.892 2073.93,115.471 2077.78,112.688 2081.62,113.655 2085.47,113.552 2089.32,113.449 2093.17,116 2097.01,113.245 \\n  2100.86,115.258 2104.71,115.68 2108.56,115.574 2112.4,116.52 2116.25,113.266 2120.1,110.025 2123.95,112.02 2127.79,113.487 2131.64,115.468 2135.49,109.651 \\n  2139.34,110.595 2143.18,111.018 2147.03,112.472 2150.88,113.406 2154.73,115.364 2158.57,116.287 2162.42,116.695 2166.27,114.034 2170.12,114.445 2173.96,111.289 \\n  2177.81,113.737 2181.66,113.638 2185.51,112.528 2189.35,112.432 2193.2,113.85 2197.05,112.242 2200.9,112.147 2204.74,113.558 2208.59,112.96 2212.44,110.866 \\n  2216.29,111.274 2220.13,108.693 2223.98,108.606 2227.83,107.527 2231.68,109.918 2235.52,111.806 2239.37,112.207 2243.22,111.13 2247.07,112.022 2250.91,113.892 \\n  2254.76,115.755 2258.61,116.634 2262.46,117.51 2266.3,114.974 2270.15,115.849 2274,116.237 2277.85,118.075 2281.69,119.423 2285.54,117.39 2289.39,118.253 \\n  \\n  \\\"\\/>\\n<polyline clip-path=\\\"url(#clip3502)\\\" style=\\\"stroke:#000000; stroke-width:12; stroke-opacity:1; fill:none\\\" points=\\\"\\n  -2125.25,107.835 4591.76,107.835 \\n  \\\"\\/>\\n<path clip-path=\\\"url(#clip3500)\\\" d=\\\"\\nM185.754 1281.62 L776.023 1281.62 L776.023 1100.18 L185.754 1100.18  Z\\n  \\\" fill=\\\"#ffffff\\\" fill-rule=\\\"evenodd\\\" fill-opacity=\\\"1\\\"\\/>\\n<polyline clip-path=\\\"url(#clip3500)\\\" style=\\\"stroke:#000000; stroke-width:4; stroke-opacity:1; fill:none\\\" points=\\\"\\n  185.754,1281.62 776.023,1281.62 776.023,1100.18 185.754,1100.18 185.754,1281.62 \\n  \\\"\\/>\\n<polyline clip-path=\\\"url(#clip3500)\\\" style=\\\"stroke:#ff0000; stroke-width:12; stroke-opacity:1; fill:none\\\" points=\\\"\\n  209.754,1160.66 353.754,1160.66 \\n  \\\"\\/>\\n<g clip-path=\\\"url(#clip3500)\\\">\\n<text style=\\\"fill:#000000; fill-opacity:1; font-family:Arial,Helvetica Neue,Helvetica,sans-serif; font-size:48px; text-anchor:start;\\\" transform=\\\"rotate(0, 377.754, 1178.16)\\\" x=\\\"377.754\\\" y=\\\"1178.16\\\">empirical T(N,N)<\\/text>\\n<\\/g>\\n<polyline clip-path=\\\"url(#clip3500)\\\" style=\\\"stroke:#000000; stroke-width:12; stroke-opacity:1; fill:none\\\" points=\\\"\\n  209.754,1221.14 353.754,1221.14 \\n  \\\"\\/>\\n<g clip-path=\\\"url(#clip3500)\\\">\\n<text style=\\\"fill:#000000; fill-opacity:1; font-family:Arial,Helvetica Neue,Helvetica,sans-serif; font-size:48px; text-anchor:start;\\\" transform=\\\"rotate(0, 377.754, 1238.64)\\\" x=\\\"377.754\\\" y=\\\"1238.64\\\">theoretical limit<\\/text>\\n<\\/g>\\n<\\/svg>\\n\"},\"nodeType\":\"DOM\",\"type\":\"node\",\"instanceArgs\":{\"namespace\":\"html\",\"tag\":\"div\"},\"children\":[]}]}}}},\"children\":[{\"props\":{},\"nodeType\":\"ObservableNode\",\"type\":\"node\",\"instanceArgs\":{\"id\":\"ob_38\",\"name\":\"obs-node\"},\"children\":[]}]}]},\n",
       "            window,\n",
       "        );\n",
       "    } else {\n",
       "        document\n",
       "            .querySelector('[data-webio-mountpoint=\"11669994447097353178\"]')\n",
       "            .innerHTML = (\n",
       "                '<strong>WebIO not detected. Please read ' +\n",
       "                '<a href=\"https://juliagizmos.github.io/WebIO.jl/latest/troubleshooting/not-detected/\">the troubleshooting guide</a> ' +\n",
       "                'for more information on how to resolve this issue.' +\n",
       "                '</strong>'\n",
       "            );\n",
       "    }\n",
       "    </script>\n",
       "</div>\n"
      ],
      "text/plain": [
       "Node{WebIO.DOM}(WebIO.DOM(:html, :div), Any[Node{WebIO.DOM}(WebIO.DOM(:html, :div), Any[Scope(Node{WebIO.DOM}(WebIO.DOM(:html, :div), Any[Node{WebIO.DOM}(WebIO.DOM(:html, :div), Any[Node{WebIO.DOM}(WebIO.DOM(:html, :label), Any[\"max_N\"], Dict{Symbol,Any}(:className => \"interact \",:style => Dict{Any,Any}(:padding => \"5px 10px 0px 10px\")))], Dict{Symbol,Any}(:className => \"interact-flex-row-left\")), Node{WebIO.DOM}(WebIO.DOM(:html, :div), Any[Node{WebIO.DOM}(WebIO.DOM(:html, :input), Any[], Dict{Symbol,Any}(:max => 19,:min => 1,:attributes => Dict{Any,Any}(:type => \"range\",Symbol(\"data-bind\") => \"numericValue: index, valueUpdate: 'input', event: {change: function (){this.changes(this.changes()+1)}}\",\"orient\" => \"horizontal\"),:step => 1,:className => \"slider slider is-fullwidth\",:style => Dict{Any,Any}()))], Dict{Symbol,Any}(:className => \"interact-flex-row-center\")), Node{WebIO.DOM}(WebIO.DOM(:html, :div), Any[Node{WebIO.DOM}(WebIO.DOM(:html, :p), Any[], Dict{Symbol,Any}(:attributes => Dict(\"data-bind\" => \"text: formatted_val\")))], Dict{Symbol,Any}(:className => \"interact-flex-row-right\"))], Dict{Symbol,Any}(:className => \"interact-flex-row interact-widget\")), Dict{String,Tuple{Observables.AbstractObservable,Union{Nothing, Bool}}}(\"changes\" => (Observable{Int64} with 1 listeners. Value:\n",
       "0, nothing),\"index\" => (Observable{Any} with 2 listeners. Value:\n",
       "10, nothing)), Set(String[]), nothing, Asset[Asset(\"js\", \"knockout\", \"C:\\\\Users\\\\matte\\\\.julia\\\\packages\\\\Knockout\\\\1sDlc\\\\src\\\\..\\\\assets\\\\knockout.js\"), Asset(\"js\", \"knockout_punches\", \"C:\\\\Users\\\\matte\\\\.julia\\\\packages\\\\Knockout\\\\1sDlc\\\\src\\\\..\\\\assets\\\\knockout_punches.js\"), Asset(\"js\", nothing, \"C:\\\\Users\\\\matte\\\\.julia\\\\packages\\\\InteractBase\\\\9mFwe\\\\src\\\\..\\\\assets\\\\all.js\"), Asset(\"css\", nothing, \"C:\\\\Users\\\\matte\\\\.julia\\\\packages\\\\InteractBase\\\\9mFwe\\\\src\\\\..\\\\assets\\\\style.css\"), Asset(\"css\", nothing, \"C:\\\\Users\\\\matte\\\\.julia\\\\packages\\\\Interact\\\\SbgIk\\\\src\\\\..\\\\assets\\\\bulma_confined.min.css\")], Dict{Any,Any}(\"changes\" => Any[WebIO.JSString(\"(function (val){return (val!=this.model[\\\"changes\\\"]()) ? (this.valueFromJulia[\\\"changes\\\"]=true, this.model[\\\"changes\\\"](val)) : undefined})\")],\"index\" => Any[WebIO.JSString(\"(function (val){return (val!=this.model[\\\"index\\\"]()) ? (this.valueFromJulia[\\\"index\\\"]=true, this.model[\\\"index\\\"](val)) : undefined})\")]), WebIO.ConnectionPool(Channel{Any}(sz_max:32,sz_curr:0), Set(AbstractConnection[]), Base.GenericCondition{Base.AlwaysLockedST}(Base.InvasiveLinkedList{Task}(Task (runnable) @0x000000000fed05d0, Task (runnable) @0x000000000fed05d0), Base.AlwaysLockedST(1))), WebIO.JSString[WebIO.JSString(\"function () {\\n    var handler = (function (ko, koPunches) {\\n    ko.punches.enableAll();\\n    ko.bindingHandlers.numericValue = {\\n        init: function(element, valueAccessor, allBindings, data, context) {\\n            var stringified = ko.observable(ko.unwrap(valueAccessor()));\\n            stringified.subscribe(function(value) {\\n                var val = parseFloat(value);\\n                if (!isNaN(val)) {\\n                    valueAccessor()(val);\\n                }\\n            });\\n            valueAccessor().subscribe(function(value) {\\n                var str = JSON.stringify(value);\\n                if ((str == \\\"0\\\") && ([\\\"-0\\\", \\\"-0.\\\"].indexOf(stringified()) >= 0))\\n                     return;\\n                 if ([\\\"null\\\", \\\"\\\"].indexOf(str) >= 0)\\n                     return;\\n                stringified(str);\\n            });\\n            ko.applyBindingsToNode(\\n                element,\\n                {\\n                    value: stringified,\\n                    valueUpdate: allBindings.get('valueUpdate'),\\n                },\\n                context,\\n            );\\n        }\\n    };\\n    var json_data = {\\\"formatted_vals\\\":[\\\"100\\\",\\\"150\\\",\\\"200\\\",\\\"250\\\",\\\"300\\\",\\\"350\\\",\\\"400\\\",\\\"450\\\",\\\"500\\\",\\\"550\\\",\\\"600\\\",\\\"650\\\",\\\"700\\\",\\\"750\\\",\\\"800\\\",\\\"850\\\",\\\"900\\\",\\\"950\\\",\\\"1000\\\"],\\\"changes\\\":WebIO.getval({\\\"name\\\":\\\"changes\\\",\\\"scope\\\":\\\"3204652391531888282\\\",\\\"id\\\":\\\"ob_23\\\",\\\"type\\\":\\\"observable\\\"}),\\\"index\\\":WebIO.getval({\\\"name\\\":\\\"index\\\",\\\"scope\\\":\\\"3204652391531888282\\\",\\\"id\\\":\\\"ob_22\\\",\\\"type\\\":\\\"observable\\\"})};\\n    var self = this;\\n    function AppViewModel() {\\n        for (var key in json_data) {\\n            var el = json_data[key];\\n            this[key] = Array.isArray(el) ? ko.observableArray(el) : ko.observable(el);\\n        }\\n        \\n        [this[\\\"formatted_val\\\"]=ko.computed(    function(){\\n        return this.formatted_vals()[parseInt(this.index())-(1)];\\n    }\\n,this)]\\n        [this[\\\"changes\\\"].subscribe((function (val){!(this.valueFromJulia[\\\"changes\\\"]) ? (WebIO.setval({\\\"name\\\":\\\"changes\\\",\\\"scope\\\":\\\"3204652391531888282\\\",\\\"id\\\":\\\"ob_23\\\",\\\"type\\\":\\\"observable\\\"},val)) : undefined; return this.valueFromJulia[\\\"changes\\\"]=false}),self),this[\\\"index\\\"].subscribe((function (val){!(this.valueFromJulia[\\\"index\\\"]) ? (WebIO.setval({\\\"name\\\":\\\"index\\\",\\\"scope\\\":\\\"3204652391531888282\\\",\\\"id\\\":\\\"ob_22\\\",\\\"type\\\":\\\"observable\\\"},val)) : undefined; return this.valueFromJulia[\\\"index\\\"]=false}),self)]\\n        \\n    }\\n    self.model = new AppViewModel();\\n    self.valueFromJulia = {};\\n    for (var key in json_data) {\\n        self.valueFromJulia[key] = false;\\n    }\\n    ko.applyBindings(self.model, self.dom);\\n}\\n);\\n    (WebIO.importBlock({\\\"data\\\":[{\\\"name\\\":\\\"knockout\\\",\\\"type\\\":\\\"js\\\",\\\"url\\\":\\\"/assetserver/254160226b58162a42111ea27214076747de1cf2-knockout.js\\\"},{\\\"name\\\":\\\"knockout_punches\\\",\\\"type\\\":\\\"js\\\",\\\"url\\\":\\\"/assetserver/2d0bf510fb683322318163f3ec7562806e4b1104-knockout_punches.js\\\"}],\\\"type\\\":\\\"async_block\\\"})).then((imports) => handler.apply(this, imports));\\n}\\n\")])], Dict{Symbol,Any}(:className => \"field interact-widget\")), Node{WebIO.DOM}(WebIO.DOM(:html, :div), Any[Scope(Node{WebIO.DOM}(WebIO.DOM(:html, :div), Any[Node{WebIO.DOM}(WebIO.DOM(:html, :div), Any[Node{WebIO.DOM}(WebIO.DOM(:html, :label), Any[\"law_name\"], Dict{Symbol,Any}(:className => \"interact \",:style => Dict{Any,Any}(:padding => \"5px 10px 0px 10px\")))], Dict{Symbol,Any}(:className => \"interact-flex-row-left\")), Node{WebIO.DOM}(WebIO.DOM(:html, :div), Any[Node{WebIO.DOM}(WebIO.DOM(:html, :div), Any[Node{WebIO.DOM}(WebIO.DOM(:html, :span), Any[Node{WebIO.DOM}(WebIO.DOM(:html, :label), Any[], Dict{Symbol,Any}(:attributes => Dict(\"data-bind\" => \"text : key\")))], Dict{Symbol,Any}(:attributes => Dict(\"data-bind\" => \"click: function (){\\$root.update(val)}, css: {'is-primary is-selected' : \\$root.index() == val, 'interact-widget is-medium button ' : true}\")))], Dict{Symbol,Any}(:attributes => (\"data-bind\" => \"foreach : options_js\"),:className => \"buttons has-addons is-centered\"))], Dict{Symbol,Any}(:className => \"interact-flex-row-center\")), Node{WebIO.DOM}(WebIO.DOM(:html, :div), Any[Node{WebIO.DOM}(WebIO.DOM(:html, :div), Any[], Dict{Symbol,Any}())], Dict{Symbol,Any}(:className => \"interact-flex-row-right\"))], Dict{Symbol,Any}(:className => \"interact-flex-row interact-widget\")), Dict{String,Tuple{Observables.AbstractObservable,Union{Nothing, Bool}}}(\"options_js\" => (Observable{Any} with 1 listeners. Value:\n",
       "OrderedDict[OrderedDict{String,Any}(\"key\" => \"Geometric\",\"val\" => 1,\"id\" => \"idMEIMV8z4\"), OrderedDict{String,Any}(\"key\" => \"Exponential\",\"val\" => 2,\"id\" => \"idl3w5dnZ6\")], nothing),\"index\" => (Observable{Any} with 2 listeners. Value:\n",
       "1, nothing)), Set(String[]), nothing, Asset[Asset(\"js\", \"knockout\", \"C:\\\\Users\\\\matte\\\\.julia\\\\packages\\\\Knockout\\\\1sDlc\\\\src\\\\..\\\\assets\\\\knockout.js\"), Asset(\"js\", \"knockout_punches\", \"C:\\\\Users\\\\matte\\\\.julia\\\\packages\\\\Knockout\\\\1sDlc\\\\src\\\\..\\\\assets\\\\knockout_punches.js\"), Asset(\"js\", nothing, \"C:\\\\Users\\\\matte\\\\.julia\\\\packages\\\\InteractBase\\\\9mFwe\\\\src\\\\..\\\\assets\\\\all.js\"), Asset(\"css\", nothing, \"C:\\\\Users\\\\matte\\\\.julia\\\\packages\\\\InteractBase\\\\9mFwe\\\\src\\\\..\\\\assets\\\\style.css\"), Asset(\"css\", nothing, \"C:\\\\Users\\\\matte\\\\.julia\\\\packages\\\\Interact\\\\SbgIk\\\\src\\\\..\\\\assets\\\\bulma_confined.min.css\")], Dict{Any,Any}(\"options_js\" => Any[WebIO.JSString(\"(function (val){return (val!=this.model[\\\"options_js\\\"]()) ? (this.valueFromJulia[\\\"options_js\\\"]=true, this.model[\\\"options_js\\\"](val)) : undefined})\")],\"index\" => Any[WebIO.JSString(\"(function (val){return (val!=this.model[\\\"index\\\"]()) ? (this.valueFromJulia[\\\"index\\\"]=true, this.model[\\\"index\\\"](val)) : undefined})\")]), WebIO.ConnectionPool(Channel{Any}(sz_max:32,sz_curr:0), Set(AbstractConnection[]), Base.GenericCondition{Base.AlwaysLockedST}(Base.InvasiveLinkedList{Task}(Task (runnable) @0x000000000fed08b0, Task (runnable) @0x000000000fed08b0), Base.AlwaysLockedST(1))), WebIO.JSString[WebIO.JSString(\"function () {\\n    var handler = (function (ko, koPunches) {\\n    ko.punches.enableAll();\\n    ko.bindingHandlers.numericValue = {\\n        init: function(element, valueAccessor, allBindings, data, context) {\\n            var stringified = ko.observable(ko.unwrap(valueAccessor()));\\n            stringified.subscribe(function(value) {\\n                var val = parseFloat(value);\\n                if (!isNaN(val)) {\\n                    valueAccessor()(val);\\n                }\\n            });\\n            valueAccessor().subscribe(function(value) {\\n                var str = JSON.stringify(value);\\n                if ((str == \\\"0\\\") && ([\\\"-0\\\", \\\"-0.\\\"].indexOf(stringified()) >= 0))\\n                     return;\\n                 if ([\\\"null\\\", \\\"\\\"].indexOf(str) >= 0)\\n                     return;\\n                stringified(str);\\n            });\\n            ko.applyBindingsToNode(\\n                element,\\n                {\\n                    value: stringified,\\n                    valueUpdate: allBindings.get('valueUpdate'),\\n                },\\n                context,\\n            );\\n        }\\n    };\\n    var json_data = {\\\"options_js\\\":WebIO.getval({\\\"name\\\":\\\"options_js\\\",\\\"scope\\\":\\\"15955561164930491605\\\",\\\"id\\\":\\\"ob_28\\\",\\\"type\\\":\\\"observable\\\"}),\\\"index\\\":WebIO.getval({\\\"name\\\":\\\"index\\\",\\\"scope\\\":\\\"15955561164930491605\\\",\\\"id\\\":\\\"ob_27\\\",\\\"type\\\":\\\"observable\\\"})};\\n    var self = this;\\n    function AppViewModel() {\\n        for (var key in json_data) {\\n            var el = json_data[key];\\n            this[key] = Array.isArray(el) ? ko.observableArray(el) : ko.observable(el);\\n        }\\n        [this[\\\"update\\\"]=function (val) {this.index(val)}]\\n        \\n        [this[\\\"options_js\\\"].subscribe((function (val){!(this.valueFromJulia[\\\"options_js\\\"]) ? (WebIO.setval({\\\"name\\\":\\\"options_js\\\",\\\"scope\\\":\\\"15955561164930491605\\\",\\\"id\\\":\\\"ob_28\\\",\\\"type\\\":\\\"observable\\\"},val)) : undefined; return this.valueFromJulia[\\\"options_js\\\"]=false}),self),this[\\\"index\\\"].subscribe((function (val){!(this.valueFromJulia[\\\"index\\\"]) ? (WebIO.setval({\\\"name\\\":\\\"index\\\",\\\"scope\\\":\\\"15955561164930491605\\\",\\\"id\\\":\\\"ob_27\\\",\\\"type\\\":\\\"observable\\\"},val)) : undefined; return this.valueFromJulia[\\\"index\\\"]=false}),self)]\\n        \\n    }\\n    self.model = new AppViewModel();\\n    self.valueFromJulia = {};\\n    for (var key in json_data) {\\n        self.valueFromJulia[key] = false;\\n    }\\n    ko.applyBindings(self.model, self.dom);\\n}\\n);\\n    (WebIO.importBlock({\\\"data\\\":[{\\\"name\\\":\\\"knockout\\\",\\\"type\\\":\\\"js\\\",\\\"url\\\":\\\"/assetserver/254160226b58162a42111ea27214076747de1cf2-knockout.js\\\"},{\\\"name\\\":\\\"knockout_punches\\\",\\\"type\\\":\\\"js\\\",\\\"url\\\":\\\"/assetserver/2d0bf510fb683322318163f3ec7562806e4b1104-knockout_punches.js\\\"}],\\\"type\\\":\\\"async_block\\\"})).then((imports) => handler.apply(this, imports));\\n}\\n\")])], Dict{Symbol,Any}(:className => \"interact-widget\")), Node{WebIO.DOM}(WebIO.DOM(:html, :div), Any[Scope(Node{WebIO.DOM}(WebIO.DOM(:html, :div), Any[Node{WebIO.DOM}(WebIO.DOM(:html, :div), Any[Node{WebIO.DOM}(WebIO.DOM(:html, :label), Any[\"q\"], Dict{Symbol,Any}(:className => \"interact \",:style => Dict{Any,Any}(:padding => \"5px 10px 0px 10px\")))], Dict{Symbol,Any}(:className => \"interact-flex-row-left\")), Node{WebIO.DOM}(WebIO.DOM(:html, :div), Any[Node{WebIO.DOM}(WebIO.DOM(:html, :input), Any[], Dict{Symbol,Any}(:max => 19,:min => 1,:attributes => Dict{Any,Any}(:type => \"range\",Symbol(\"data-bind\") => \"numericValue: index, valueUpdate: 'input', event: {change: function (){this.changes(this.changes()+1)}}\",\"orient\" => \"horizontal\"),:step => 1,:className => \"slider slider is-fullwidth\",:style => Dict{Any,Any}()))], Dict{Symbol,Any}(:className => \"interact-flex-row-center\")), Node{WebIO.DOM}(WebIO.DOM(:html, :div), Any[Node{WebIO.DOM}(WebIO.DOM(:html, :p), Any[], Dict{Symbol,Any}(:attributes => Dict(\"data-bind\" => \"text: formatted_val\")))], Dict{Symbol,Any}(:className => \"interact-flex-row-right\"))], Dict{Symbol,Any}(:className => \"interact-flex-row interact-widget\")), Dict{String,Tuple{Observables.AbstractObservable,Union{Nothing, Bool}}}(\"changes\" => (Observable{Int64} with 1 listeners. Value:\n",
       "0, nothing),\"index\" => (Observable{Any} with 2 listeners. Value:\n",
       "10, nothing)), Set(String[]), nothing, Asset[Asset(\"js\", \"knockout\", \"C:\\\\Users\\\\matte\\\\.julia\\\\packages\\\\Knockout\\\\1sDlc\\\\src\\\\..\\\\assets\\\\knockout.js\"), Asset(\"js\", \"knockout_punches\", \"C:\\\\Users\\\\matte\\\\.julia\\\\packages\\\\Knockout\\\\1sDlc\\\\src\\\\..\\\\assets\\\\knockout_punches.js\"), Asset(\"js\", nothing, \"C:\\\\Users\\\\matte\\\\.julia\\\\packages\\\\InteractBase\\\\9mFwe\\\\src\\\\..\\\\assets\\\\all.js\"), Asset(\"css\", nothing, \"C:\\\\Users\\\\matte\\\\.julia\\\\packages\\\\InteractBase\\\\9mFwe\\\\src\\\\..\\\\assets\\\\style.css\"), Asset(\"css\", nothing, \"C:\\\\Users\\\\matte\\\\.julia\\\\packages\\\\Interact\\\\SbgIk\\\\src\\\\..\\\\assets\\\\bulma_confined.min.css\")], Dict{Any,Any}(\"changes\" => Any[WebIO.JSString(\"(function (val){return (val!=this.model[\\\"changes\\\"]()) ? (this.valueFromJulia[\\\"changes\\\"]=true, this.model[\\\"changes\\\"](val)) : undefined})\")],\"index\" => Any[WebIO.JSString(\"(function (val){return (val!=this.model[\\\"index\\\"]()) ? (this.valueFromJulia[\\\"index\\\"]=true, this.model[\\\"index\\\"](val)) : undefined})\")]), WebIO.ConnectionPool(Channel{Any}(sz_max:32,sz_curr:0), Set(AbstractConnection[]), Base.GenericCondition{Base.AlwaysLockedST}(Base.InvasiveLinkedList{Task}(Task (runnable) @0x000000000fed0b90, Task (runnable) @0x000000000fed0b90), Base.AlwaysLockedST(1))), WebIO.JSString[WebIO.JSString(\"function () {\\n    var handler = (function (ko, koPunches) {\\n    ko.punches.enableAll();\\n    ko.bindingHandlers.numericValue = {\\n        init: function(element, valueAccessor, allBindings, data, context) {\\n            var stringified = ko.observable(ko.unwrap(valueAccessor()));\\n            stringified.subscribe(function(value) {\\n                var val = parseFloat(value);\\n                if (!isNaN(val)) {\\n                    valueAccessor()(val);\\n                }\\n            });\\n            valueAccessor().subscribe(function(value) {\\n                var str = JSON.stringify(value);\\n                if ((str == \\\"0\\\") && ([\\\"-0\\\", \\\"-0.\\\"].indexOf(stringified()) >= 0))\\n                     return;\\n                 if ([\\\"null\\\", \\\"\\\"].indexOf(str) >= 0)\\n                     return;\\n                stringified(str);\\n            });\\n            ko.applyBindingsToNode(\\n                element,\\n                {\\n                    value: stringified,\\n                    valueUpdate: allBindings.get('valueUpdate'),\\n                },\\n                context,\\n            );\\n        }\\n    };\\n    var json_data = {\\\"formatted_vals\\\":[\\\"0.05\\\",\\\"0.1\\\",\\\"0.15\\\",\\\"0.2\\\",\\\"0.25\\\",\\\"0.3\\\",\\\"0.35\\\",\\\"0.4\\\",\\\"0.45\\\",\\\"0.5\\\",\\\"0.55\\\",\\\"0.6\\\",\\\"0.65\\\",\\\"0.7\\\",\\\"0.75\\\",\\\"0.8\\\",\\\"0.85\\\",\\\"0.9\\\",\\\"0.95\\\"],\\\"changes\\\":WebIO.getval({\\\"name\\\":\\\"changes\\\",\\\"scope\\\":\\\"190995409720537985\\\",\\\"id\\\":\\\"ob_31\\\",\\\"type\\\":\\\"observable\\\"}),\\\"index\\\":WebIO.getval({\\\"name\\\":\\\"index\\\",\\\"scope\\\":\\\"190995409720537985\\\",\\\"id\\\":\\\"ob_30\\\",\\\"type\\\":\\\"observable\\\"})};\\n    var self = this;\\n    function AppViewModel() {\\n        for (var key in json_data) {\\n            var el = json_data[key];\\n            this[key] = Array.isArray(el) ? ko.observableArray(el) : ko.observable(el);\\n        }\\n        \\n        [this[\\\"formatted_val\\\"]=ko.computed(    function(){\\n        return this.formatted_vals()[parseInt(this.index())-(1)];\\n    }\\n,this)]\\n        [this[\\\"changes\\\"].subscribe((function (val){!(this.valueFromJulia[\\\"changes\\\"]) ? (WebIO.setval({\\\"name\\\":\\\"changes\\\",\\\"scope\\\":\\\"190995409720537985\\\",\\\"id\\\":\\\"ob_31\\\",\\\"type\\\":\\\"observable\\\"},val)) : undefined; return this.valueFromJulia[\\\"changes\\\"]=false}),self),this[\\\"index\\\"].subscribe((function (val){!(this.valueFromJulia[\\\"index\\\"]) ? (WebIO.setval({\\\"name\\\":\\\"index\\\",\\\"scope\\\":\\\"190995409720537985\\\",\\\"id\\\":\\\"ob_30\\\",\\\"type\\\":\\\"observable\\\"},val)) : undefined; return this.valueFromJulia[\\\"index\\\"]=false}),self)]\\n        \\n    }\\n    self.model = new AppViewModel();\\n    self.valueFromJulia = {};\\n    for (var key in json_data) {\\n        self.valueFromJulia[key] = false;\\n    }\\n    ko.applyBindings(self.model, self.dom);\\n}\\n);\\n    (WebIO.importBlock({\\\"data\\\":[{\\\"name\\\":\\\"knockout\\\",\\\"type\\\":\\\"js\\\",\\\"url\\\":\\\"/assetserver/254160226b58162a42111ea27214076747de1cf2-knockout.js\\\"},{\\\"name\\\":\\\"knockout_punches\\\",\\\"type\\\":\\\"js\\\",\\\"url\\\":\\\"/assetserver/2d0bf510fb683322318163f3ec7562806e4b1104-knockout_punches.js\\\"}],\\\"type\\\":\\\"async_block\\\"})).then((imports) => handler.apply(this, imports));\\n}\\n\")])], Dict{Symbol,Any}(:className => \"field interact-widget\")), Node{WebIO.DOM}(WebIO.DOM(:html, :div), Any[Scope(Node{WebIO.DOM}(WebIO.DOM(:html, :div), Any[Node{WebIO.DOM}(WebIO.DOM(:html, :div), Any[Node{WebIO.DOM}(WebIO.DOM(:html, :label), Any[\"λ\"], Dict{Symbol,Any}(:className => \"interact \",:style => Dict{Any,Any}(:padding => \"5px 10px 0px 10px\")))], Dict{Symbol,Any}(:className => \"interact-flex-row-left\")), Node{WebIO.DOM}(WebIO.DOM(:html, :div), Any[Node{WebIO.DOM}(WebIO.DOM(:html, :input), Any[], Dict{Symbol,Any}(:max => 10,:min => 1,:attributes => Dict{Any,Any}(:type => \"range\",Symbol(\"data-bind\") => \"numericValue: index, valueUpdate: 'input', event: {change: function (){this.changes(this.changes()+1)}}\",\"orient\" => \"horizontal\"),:step => 1,:className => \"slider slider is-fullwidth\",:style => Dict{Any,Any}()))], Dict{Symbol,Any}(:className => \"interact-flex-row-center\")), Node{WebIO.DOM}(WebIO.DOM(:html, :div), Any[Node{WebIO.DOM}(WebIO.DOM(:html, :p), Any[], Dict{Symbol,Any}(:attributes => Dict(\"data-bind\" => \"text: formatted_val\")))], Dict{Symbol,Any}(:className => \"interact-flex-row-right\"))], Dict{Symbol,Any}(:className => \"interact-flex-row interact-widget\")), Dict{String,Tuple{Observables.AbstractObservable,Union{Nothing, Bool}}}(\"changes\" => (Observable{Int64} with 1 listeners. Value:\n",
       "0, nothing),\"index\" => (Observable{Any} with 2 listeners. Value:\n",
       "5, nothing)), Set(String[]), nothing, Asset[Asset(\"js\", \"knockout\", \"C:\\\\Users\\\\matte\\\\.julia\\\\packages\\\\Knockout\\\\1sDlc\\\\src\\\\..\\\\assets\\\\knockout.js\"), Asset(\"js\", \"knockout_punches\", \"C:\\\\Users\\\\matte\\\\.julia\\\\packages\\\\Knockout\\\\1sDlc\\\\src\\\\..\\\\assets\\\\knockout_punches.js\"), Asset(\"js\", nothing, \"C:\\\\Users\\\\matte\\\\.julia\\\\packages\\\\InteractBase\\\\9mFwe\\\\src\\\\..\\\\assets\\\\all.js\"), Asset(\"css\", nothing, \"C:\\\\Users\\\\matte\\\\.julia\\\\packages\\\\InteractBase\\\\9mFwe\\\\src\\\\..\\\\assets\\\\style.css\"), Asset(\"css\", nothing, \"C:\\\\Users\\\\matte\\\\.julia\\\\packages\\\\Interact\\\\SbgIk\\\\src\\\\..\\\\assets\\\\bulma_confined.min.css\")], Dict{Any,Any}(\"changes\" => Any[WebIO.JSString(\"(function (val){return (val!=this.model[\\\"changes\\\"]()) ? (this.valueFromJulia[\\\"changes\\\"]=true, this.model[\\\"changes\\\"](val)) : undefined})\")],\"index\" => Any[WebIO.JSString(\"(function (val){return (val!=this.model[\\\"index\\\"]()) ? (this.valueFromJulia[\\\"index\\\"]=true, this.model[\\\"index\\\"](val)) : undefined})\")]), WebIO.ConnectionPool(Channel{Any}(sz_max:32,sz_curr:0), Set(AbstractConnection[]), Base.GenericCondition{Base.AlwaysLockedST}(Base.InvasiveLinkedList{Task}(Task (runnable) @0x000000000fed1150, Task (runnable) @0x000000000fed1150), Base.AlwaysLockedST(1))), WebIO.JSString[WebIO.JSString(\"function () {\\n    var handler = (function (ko, koPunches) {\\n    ko.punches.enableAll();\\n    ko.bindingHandlers.numericValue = {\\n        init: function(element, valueAccessor, allBindings, data, context) {\\n            var stringified = ko.observable(ko.unwrap(valueAccessor()));\\n            stringified.subscribe(function(value) {\\n                var val = parseFloat(value);\\n                if (!isNaN(val)) {\\n                    valueAccessor()(val);\\n                }\\n            });\\n            valueAccessor().subscribe(function(value) {\\n                var str = JSON.stringify(value);\\n                if ((str == \\\"0\\\") && ([\\\"-0\\\", \\\"-0.\\\"].indexOf(stringified()) >= 0))\\n                     return;\\n                 if ([\\\"null\\\", \\\"\\\"].indexOf(str) >= 0)\\n                     return;\\n                stringified(str);\\n            });\\n            ko.applyBindingsToNode(\\n                element,\\n                {\\n                    value: stringified,\\n                    valueUpdate: allBindings.get('valueUpdate'),\\n                },\\n                context,\\n            );\\n        }\\n    };\\n    var json_data = {\\\"formatted_vals\\\":[\\\"1\\\",\\\"2\\\",\\\"3\\\",\\\"4\\\",\\\"5\\\",\\\"6\\\",\\\"7\\\",\\\"8\\\",\\\"9\\\",\\\"10\\\"],\\\"changes\\\":WebIO.getval({\\\"name\\\":\\\"changes\\\",\\\"scope\\\":\\\"12966108456295824029\\\",\\\"id\\\":\\\"ob_34\\\",\\\"type\\\":\\\"observable\\\"}),\\\"index\\\":WebIO.getval({\\\"name\\\":\\\"index\\\",\\\"scope\\\":\\\"12966108456295824029\\\",\\\"id\\\":\\\"ob_33\\\",\\\"type\\\":\\\"observable\\\"})};\\n    var self = this;\\n    function AppViewModel() {\\n        for (var key in json_data) {\\n            var el = json_data[key];\\n            this[key] = Array.isArray(el) ? ko.observableArray(el) : ko.observable(el);\\n        }\\n        \\n        [this[\\\"formatted_val\\\"]=ko.computed(    function(){\\n        return this.formatted_vals()[parseInt(this.index())-(1)];\\n    }\\n,this)]\\n        [this[\\\"changes\\\"].subscribe((function (val){!(this.valueFromJulia[\\\"changes\\\"]) ? (WebIO.setval({\\\"name\\\":\\\"changes\\\",\\\"scope\\\":\\\"12966108456295824029\\\",\\\"id\\\":\\\"ob_34\\\",\\\"type\\\":\\\"observable\\\"},val)) : undefined; return this.valueFromJulia[\\\"changes\\\"]=false}),self),this[\\\"index\\\"].subscribe((function (val){!(this.valueFromJulia[\\\"index\\\"]) ? (WebIO.setval({\\\"name\\\":\\\"index\\\",\\\"scope\\\":\\\"12966108456295824029\\\",\\\"id\\\":\\\"ob_33\\\",\\\"type\\\":\\\"observable\\\"},val)) : undefined; return this.valueFromJulia[\\\"index\\\"]=false}),self)]\\n        \\n    }\\n    self.model = new AppViewModel();\\n    self.valueFromJulia = {};\\n    for (var key in json_data) {\\n        self.valueFromJulia[key] = false;\\n    }\\n    ko.applyBindings(self.model, self.dom);\\n}\\n);\\n    (WebIO.importBlock({\\\"data\\\":[{\\\"name\\\":\\\"knockout\\\",\\\"type\\\":\\\"js\\\",\\\"url\\\":\\\"/assetserver/254160226b58162a42111ea27214076747de1cf2-knockout.js\\\"},{\\\"name\\\":\\\"knockout_punches\\\",\\\"type\\\":\\\"js\\\",\\\"url\\\":\\\"/assetserver/2d0bf510fb683322318163f3ec7562806e4b1104-knockout_punches.js\\\"}],\\\"type\\\":\\\"async_block\\\"})).then((imports) => handler.apply(this, imports));\\n}\\n\")])], Dict{Symbol,Any}(:className => \"field interact-widget\")), Observable{Any} with 0 listeners. Value:\n",
       "Node{WebIO.DOM}(WebIO.DOM(:html, :div), Any[Plot{Plots.GRBackend() n=2}], Dict{Symbol,Any}(:className => \"interact-flex-row interact-widget\"))], Dict{Symbol,Any}())"
      ]
     },
     "execution_count": 11,
     "metadata": {
      "application/vnd.webio.node+json": {
       "kernelId": "77a607b8-8e7d-45cb-9603-fdcc29a74734"
      }
     },
     "output_type": "execute_result"
    }
   ],
   "source": [
    "@manipulate for max_N = 100:50:1000, law_name = [\"Geometric\", \"Exponential\"], q = 0.05:0.05:0.95, λ = 1:1:10\n",
    "    plot_lln(max_N, law_name, q, λ)\n",
    "end"
   ]
  },
  {
   "cell_type": "code",
   "execution_count": 10,
   "metadata": {},
   "outputs": [
    {
     "data": {
      "image/svg+xml": [
       "<?xml version=\"1.0\" encoding=\"utf-8\"?>\n",
       "<svg xmlns=\"http://www.w3.org/2000/svg\" xmlns:xlink=\"http://www.w3.org/1999/xlink\" width=\"600\" height=\"400\" viewBox=\"0 0 2400 1600\">\n",
       "<defs>\n",
       "  <clipPath id=\"clip3100\">\n",
       "    <rect x=\"0\" y=\"0\" width=\"2400\" height=\"1600\"/>\n",
       "  </clipPath>\n",
       "</defs>\n",
       "<path clip-path=\"url(#clip3100)\" d=\"\n",
       "M0 1600 L2400 1600 L2400 0 L0 0  Z\n",
       "  \" fill=\"#ffffff\" fill-rule=\"evenodd\" fill-opacity=\"1\"/>\n",
       "<defs>\n",
       "  <clipPath id=\"clip3101\">\n",
       "    <rect x=\"480\" y=\"0\" width=\"1681\" height=\"1600\"/>\n",
       "  </clipPath>\n",
       "</defs>\n",
       "<path clip-path=\"url(#clip3100)\" d=\"\n",
       "M140.517 1425.62 L2352.76 1425.62 L2352.76 47.2441 L140.517 47.2441  Z\n",
       "  \" fill=\"#ffffff\" fill-rule=\"evenodd\" fill-opacity=\"1\"/>\n",
       "<defs>\n",
       "  <clipPath id=\"clip3102\">\n",
       "    <rect x=\"140\" y=\"47\" width=\"2213\" height=\"1379\"/>\n",
       "  </clipPath>\n",
       "</defs>\n",
       "<polyline clip-path=\"url(#clip3102)\" style=\"stroke:#000000; stroke-width:2; stroke-opacity:0.1; fill:none\" points=\"\n",
       "  198.945,1425.62 198.945,47.2441 \n",
       "  \"/>\n",
       "<polyline clip-path=\"url(#clip3102)\" style=\"stroke:#000000; stroke-width:2; stroke-opacity:0.1; fill:none\" points=\"\n",
       "  617.185,1425.62 617.185,47.2441 \n",
       "  \"/>\n",
       "<polyline clip-path=\"url(#clip3102)\" style=\"stroke:#000000; stroke-width:2; stroke-opacity:0.1; fill:none\" points=\"\n",
       "  1035.43,1425.62 1035.43,47.2441 \n",
       "  \"/>\n",
       "<polyline clip-path=\"url(#clip3102)\" style=\"stroke:#000000; stroke-width:2; stroke-opacity:0.1; fill:none\" points=\"\n",
       "  1453.67,1425.62 1453.67,47.2441 \n",
       "  \"/>\n",
       "<polyline clip-path=\"url(#clip3102)\" style=\"stroke:#000000; stroke-width:2; stroke-opacity:0.1; fill:none\" points=\"\n",
       "  1871.91,1425.62 1871.91,47.2441 \n",
       "  \"/>\n",
       "<polyline clip-path=\"url(#clip3102)\" style=\"stroke:#000000; stroke-width:2; stroke-opacity:0.1; fill:none\" points=\"\n",
       "  2290.15,1425.62 2290.15,47.2441 \n",
       "  \"/>\n",
       "<polyline clip-path=\"url(#clip3102)\" style=\"stroke:#000000; stroke-width:2; stroke-opacity:0.1; fill:none\" points=\"\n",
       "  140.517,1386.61 2352.76,1386.61 \n",
       "  \"/>\n",
       "<polyline clip-path=\"url(#clip3102)\" style=\"stroke:#000000; stroke-width:2; stroke-opacity:0.1; fill:none\" points=\"\n",
       "  140.517,1002.89 2352.76,1002.89 \n",
       "  \"/>\n",
       "<polyline clip-path=\"url(#clip3102)\" style=\"stroke:#000000; stroke-width:2; stroke-opacity:0.1; fill:none\" points=\"\n",
       "  140.517,619.179 2352.76,619.179 \n",
       "  \"/>\n",
       "<polyline clip-path=\"url(#clip3102)\" style=\"stroke:#000000; stroke-width:2; stroke-opacity:0.1; fill:none\" points=\"\n",
       "  140.517,235.464 2352.76,235.464 \n",
       "  \"/>\n",
       "<polyline clip-path=\"url(#clip3100)\" style=\"stroke:#000000; stroke-width:4; stroke-opacity:1; fill:none\" points=\"\n",
       "  140.517,1425.62 2352.76,1425.62 \n",
       "  \"/>\n",
       "<polyline clip-path=\"url(#clip3100)\" style=\"stroke:#000000; stroke-width:4; stroke-opacity:1; fill:none\" points=\"\n",
       "  140.517,1425.62 140.517,47.2441 \n",
       "  \"/>\n",
       "<polyline clip-path=\"url(#clip3100)\" style=\"stroke:#000000; stroke-width:4; stroke-opacity:1; fill:none\" points=\"\n",
       "  198.945,1425.62 198.945,1404.94 \n",
       "  \"/>\n",
       "<polyline clip-path=\"url(#clip3100)\" style=\"stroke:#000000; stroke-width:4; stroke-opacity:1; fill:none\" points=\"\n",
       "  617.185,1425.62 617.185,1404.94 \n",
       "  \"/>\n",
       "<polyline clip-path=\"url(#clip3100)\" style=\"stroke:#000000; stroke-width:4; stroke-opacity:1; fill:none\" points=\"\n",
       "  1035.43,1425.62 1035.43,1404.94 \n",
       "  \"/>\n",
       "<polyline clip-path=\"url(#clip3100)\" style=\"stroke:#000000; stroke-width:4; stroke-opacity:1; fill:none\" points=\"\n",
       "  1453.67,1425.62 1453.67,1404.94 \n",
       "  \"/>\n",
       "<polyline clip-path=\"url(#clip3100)\" style=\"stroke:#000000; stroke-width:4; stroke-opacity:1; fill:none\" points=\"\n",
       "  1871.91,1425.62 1871.91,1404.94 \n",
       "  \"/>\n",
       "<polyline clip-path=\"url(#clip3100)\" style=\"stroke:#000000; stroke-width:4; stroke-opacity:1; fill:none\" points=\"\n",
       "  2290.15,1425.62 2290.15,1404.94 \n",
       "  \"/>\n",
       "<polyline clip-path=\"url(#clip3100)\" style=\"stroke:#000000; stroke-width:4; stroke-opacity:1; fill:none\" points=\"\n",
       "  140.517,1386.61 173.7,1386.61 \n",
       "  \"/>\n",
       "<polyline clip-path=\"url(#clip3100)\" style=\"stroke:#000000; stroke-width:4; stroke-opacity:1; fill:none\" points=\"\n",
       "  140.517,1002.89 173.7,1002.89 \n",
       "  \"/>\n",
       "<polyline clip-path=\"url(#clip3100)\" style=\"stroke:#000000; stroke-width:4; stroke-opacity:1; fill:none\" points=\"\n",
       "  140.517,619.179 173.7,619.179 \n",
       "  \"/>\n",
       "<polyline clip-path=\"url(#clip3100)\" style=\"stroke:#000000; stroke-width:4; stroke-opacity:1; fill:none\" points=\"\n",
       "  140.517,235.464 173.7,235.464 \n",
       "  \"/>\n",
       "<g clip-path=\"url(#clip3100)\">\n",
       "<text style=\"fill:#000000; fill-opacity:1; font-family:Arial,Helvetica Neue,Helvetica,sans-serif; font-size:48px; text-anchor:middle;\" transform=\"rotate(0, 198.945, 1479.62)\" x=\"198.945\" y=\"1479.62\">0</text>\n",
       "</g>\n",
       "<g clip-path=\"url(#clip3100)\">\n",
       "<text style=\"fill:#000000; fill-opacity:1; font-family:Arial,Helvetica Neue,Helvetica,sans-serif; font-size:48px; text-anchor:middle;\" transform=\"rotate(0, 617.185, 1479.62)\" x=\"617.185\" y=\"1479.62\">100</text>\n",
       "</g>\n",
       "<g clip-path=\"url(#clip3100)\">\n",
       "<text style=\"fill:#000000; fill-opacity:1; font-family:Arial,Helvetica Neue,Helvetica,sans-serif; font-size:48px; text-anchor:middle;\" transform=\"rotate(0, 1035.43, 1479.62)\" x=\"1035.43\" y=\"1479.62\">200</text>\n",
       "</g>\n",
       "<g clip-path=\"url(#clip3100)\">\n",
       "<text style=\"fill:#000000; fill-opacity:1; font-family:Arial,Helvetica Neue,Helvetica,sans-serif; font-size:48px; text-anchor:middle;\" transform=\"rotate(0, 1453.67, 1479.62)\" x=\"1453.67\" y=\"1479.62\">300</text>\n",
       "</g>\n",
       "<g clip-path=\"url(#clip3100)\">\n",
       "<text style=\"fill:#000000; fill-opacity:1; font-family:Arial,Helvetica Neue,Helvetica,sans-serif; font-size:48px; text-anchor:middle;\" transform=\"rotate(0, 1871.91, 1479.62)\" x=\"1871.91\" y=\"1479.62\">400</text>\n",
       "</g>\n",
       "<g clip-path=\"url(#clip3100)\">\n",
       "<text style=\"fill:#000000; fill-opacity:1; font-family:Arial,Helvetica Neue,Helvetica,sans-serif; font-size:48px; text-anchor:middle;\" transform=\"rotate(0, 2290.15, 1479.62)\" x=\"2290.15\" y=\"1479.62\">500</text>\n",
       "</g>\n",
       "<g clip-path=\"url(#clip3100)\">\n",
       "<text style=\"fill:#000000; fill-opacity:1; font-family:Arial,Helvetica Neue,Helvetica,sans-serif; font-size:48px; text-anchor:end;\" transform=\"rotate(0, 116.517, 1404.11)\" x=\"116.517\" y=\"1404.11\">0</text>\n",
       "</g>\n",
       "<g clip-path=\"url(#clip3100)\">\n",
       "<text style=\"fill:#000000; fill-opacity:1; font-family:Arial,Helvetica Neue,Helvetica,sans-serif; font-size:48px; text-anchor:end;\" transform=\"rotate(0, 116.517, 1020.39)\" x=\"116.517\" y=\"1020.39\">5</text>\n",
       "</g>\n",
       "<g clip-path=\"url(#clip3100)\">\n",
       "<text style=\"fill:#000000; fill-opacity:1; font-family:Arial,Helvetica Neue,Helvetica,sans-serif; font-size:48px; text-anchor:end;\" transform=\"rotate(0, 116.517, 636.679)\" x=\"116.517\" y=\"636.679\">10</text>\n",
       "</g>\n",
       "<g clip-path=\"url(#clip3100)\">\n",
       "<text style=\"fill:#000000; fill-opacity:1; font-family:Arial,Helvetica Neue,Helvetica,sans-serif; font-size:48px; text-anchor:end;\" transform=\"rotate(0, 116.517, 252.964)\" x=\"116.517\" y=\"252.964\">15</text>\n",
       "</g>\n",
       "<g clip-path=\"url(#clip3100)\">\n",
       "<text style=\"fill:#000000; fill-opacity:1; font-family:Arial,Helvetica Neue,Helvetica,sans-serif; font-size:66px; text-anchor:middle;\" transform=\"rotate(0, 1246.64, 1559.48)\" x=\"1246.64\" y=\"1559.48\">N</text>\n",
       "</g>\n",
       "<polyline clip-path=\"url(#clip3102)\" style=\"stroke:#ff0000; stroke-width:12; stroke-opacity:1; fill:none\" points=\"\n",
       "  203.127,1386.61 207.31,926.15 211.492,772.664 215.675,753.479 219.857,711.27 224.039,644.76 228.222,728.811 232.404,532.843 236.587,380.423 240.769,458.018 \n",
       "  244.951,465.693 249.134,472.088 253.316,465.693 257.499,460.211 261.681,419.647 265.863,460.896 270.046,416.035 274.228,423.058 278.411,445.497 282.593,465.693 \n",
       "  286.775,381.641 290.958,392.438 295.14,395.623 299.323,414.531 303.505,413.507 307.687,383.046 311.87,283.783 316.052,287.539 320.235,314.853 324.417,322.439 \n",
       "  328.599,322.109 332.782,302.614 336.964,305.23 341.147,316.721 345.329,305.629 349.511,299.416 353.694,303.91 357.876,306.148 362.059,318.11 366.241,310.288 \n",
       "  370.423,295.361 374.606,282.971 378.788,299.714 382.971,282.556 387.153,288.331 391.335,270.499 395.518,287.714 399.7,216.278 403.883,232.331 408.065,235.464 \n",
       "  412.247,242.988 416.43,222.181 420.612,234.016 424.795,184.302 428.977,194.999 433.159,168.314 437.342,169.492 441.524,177.245 445.707,156.119 449.889,147.209 \n",
       "  454.071,158.721 458.254,168.623 462.436,166.03 466.619,159.92 470.801,169.347 474.983,171.511 479.166,170.175 483.348,173.392 487.531,177.629 491.713,177.358 \n",
       "  495.895,179.258 500.078,170.446 504.26,177.644 508.443,135.905 512.625,135.186 516.807,142.564 520.99,150.748 525.172,137.075 529.355,140.264 533.537,112.675 \n",
       "  537.719,93.3473 541.902,102.568 546.084,106.943 550.267,108.473 554.449,104.549 558.631,108.749 562.814,110.205 566.996,120.349 571.179,120.781 575.361,123.76 \n",
       "  579.543,132.578 583.726,127.857 587.908,134.79 592.091,127.697 596.273,118.33 600.455,120.349 604.638,123.91 608.82,122.699 613.003,135.465 617.185,134.931 \n",
       "  621.367,131.367 625.55,128.626 629.732,128.173 633.915,138.059 638.097,130.947 642.279,140.621 646.462,134.335 650.644,136.693 654.827,138.303 659.009,126.628 \n",
       "  663.191,124.843 667.374,129.942 671.556,130.876 675.739,129.774 679.921,134.03 684.103,139.535 688.286,146.914 692.468,154.168 696.651,156.786 700.833,155.523 \n",
       "  705.015,135.888 709.198,141.737 713.38,144.995 717.563,129.014 721.745,124.34 725.927,124.004 730.11,124.277 734.292,126.945 738.475,127.191 742.657,116.807 \n",
       "  746.839,118.299 751.022,118.605 755.204,118.33 759.387,123.213 763.569,117.791 767.751,122.042 771.934,126.231 776.116,125.911 780.299,129.459 784.481,127.476 \n",
       "  788.663,134.773 792.846,137.644 797.028,138.328 801.211,130.475 805.393,135.963 809.575,138.747 813.758,140.971 817.94,137.98 822.123,141.724 826.305,133.652 \n",
       "  830.487,135.85 834.67,134.991 838.852,138.156 843.035,143.273 847.217,137.431 851.399,134.124 855.582,136.236 859.764,143.664 863.947,134.105 868.129,139.056 \n",
       "  872.311,130.598 876.494,134.087 880.676,138.947 884.859,140.939 889.041,136.396 893.223,131.445 897.406,133.446 901.588,133.14 905.771,133.745 909.953,139.761 \n",
       "  914.135,140.321 918.318,138.643 922.5,133.436 926.683,134.904 930.865,139.426 935.047,139.971 939.23,126.203 943.412,131.128 947.595,129.567 951.777,133.566 \n",
       "  955.959,132.857 960.142,138.481 964.324,134.817 968.507,130.776 972.689,134.246 976.872,137.266 981.054,140.253 985.236,141.576 989.419,128.267 993.601,131.255 \n",
       "  997.784,133.006 1001.97,133.54 1006.15,133.67 1010.33,135.777 1014.51,136.682 1018.7,140.318 1022.88,143.918 1027.06,138.566 1031.24,134.811 1035.43,126.105 \n",
       "  1039.61,128.176 1043.79,127.188 1047.97,131.88 1052.15,129.378 1056.34,128.772 1060.52,126.31 1064.7,124.613 1068.88,129.204 1073.07,134.119 1077.25,132.044 \n",
       "  1081.43,136.535 1085.61,137.363 1089.8,133.861 1093.98,136.128 1098.16,137.304 1102.34,130.653 1106.53,135.38 1110.71,135.487 1114.89,135.242 1119.07,134.303 \n",
       "  1123.26,134.413 1127.44,137.98 1131.62,140.137 1135.8,140.563 1139.99,138.256 1144.17,131.895 1148.35,126.604 1152.53,125.062 1156.71,125.544 1160.9,127.023 \n",
       "  1165.08,127.16 1169.26,128.95 1173.44,128.748 1177.63,131.172 1181.81,132.596 1185.99,134.657 1190.17,136.702 1194.36,133.892 1198.54,119.226 1202.72,121.948 \n",
       "  1206.9,118.598 1211.09,114.007 1215.27,111.665 1219.45,105.881 1223.63,110.482 1227.82,113.798 1232,114.291 1236.18,114.47 1240.36,114.339 1244.55,111.14 \n",
       "  1248.73,113.47 1252.91,113.041 1257.09,114.131 1261.27,109.472 1265.46,109.365 1269.64,108.358 1273.82,111.54 1278,110.236 1282.19,111.312 1286.37,108.543 \n",
       "  1290.55,108.147 1294.73,110.39 1298.92,110.866 1303.1,115.408 1307.28,113.834 1311.46,115.156 1315.65,118.194 1319.83,114.05 1324.01,117.354 1328.19,117.791 \n",
       "  1332.38,119.075 1336.56,118.939 1340.74,117.96 1344.92,114.748 1349.11,116.303 1353.29,113.954 1357.47,106.912 1361.65,109.859 1365.83,111.135 1370.02,112.127 \n",
       "  1374.2,109.562 1378.38,111.913 1382.56,113.977 1386.75,113.053 1390.93,110.521 1395.11,111.226 1399.29,104.172 1403.48,107.292 1407.66,106.674 1411.84,110.558 \n",
       "  1416.02,112.57 1420.21,101.952 1424.39,101.884 1428.57,104.427 1432.75,105.911 1436.94,107.127 1441.12,108.334 1445.3,111.078 1449.48,109.441 1453.67,107.303 \n",
       "  1457.85,107.729 1462.03,102.561 1466.21,99.7073 1470.39,98.3868 1474.58,94.0555 1478.76,95.7716 1482.94,97.4765 1487.12,99.1704 1491.31,97.3762 1495.49,98.3168 \n",
       "  1499.67,100.732 1503.85,99.1959 1508.04,101.102 1512.22,99.5751 1516.4,97.3265 1520.58,100.192 1524.77,101.103 1528.95,104.663 1533.13,94.4878 1537.31,88.693 \n",
       "  1541.5,87.9548 1545.68,91.2729 1549.86,87.9178 1554.04,88.6101 1558.23,92.1316 1562.41,87.8632 1566.59,88.7839 1570.77,88.7632 1574.95,90.3754 1579.14,88.722 \n",
       "  1583.32,86.615 1587.5,87.9879 1591.68,88.2004 1595.87,89.3306 1600.05,88.1632 1604.23,88.3732 1608.41,91.3146 1612.6,91.5141 1616.78,89.6749 1620.96,90.7808 \n",
       "  1625.14,91.6552 1629.33,91.4025 1633.51,93.6125 1637.69,96.0326 1641.87,97.9939 1646.06,92.8462 1650.24,92.3725 1654.42,93.6658 1658.6,94.9517 1662.79,98.4229 \n",
       "  1666.97,94.4405 1671.15,94.6231 1675.33,93.9351 1679.51,91.2998 1683.7,92.5706 1687.88,90.8163 1692.06,89.9317 1696.24,91.4101 1700.43,92.0251 1704.61,94.3421 \n",
       "  1708.79,95.7959 1712.97,97.8777 1717.16,100.371 1721.34,99.8987 1725.52,99.0086 1729.7,100.01 1733.89,103.098 1738.07,103.249 1742.25,102.568 1746.43,105.001 \n",
       "  1750.62,105.352 1754.8,100.957 1758.98,98.6433 1763.16,97.3676 1767.35,97.9405 1771.53,96.6734 1775.71,98.0594 1779.89,101.468 1784.07,101.417 1788.26,100.962 \n",
       "  1792.44,97.4877 1796.62,99.8579 1800.8,95.8037 1804.99,97.5664 1809.17,99.9179 1813.35,102.058 1817.53,101.61 1821.72,98.7902 1825.9,101.312 1830.08,96.3427 \n",
       "  1834.26,95.1283 1838.45,95.8778 1842.63,97.9905 1846.81,97.7551 1850.99,99.8523 1855.18,96.125 1859.36,98.989 1863.54,98.175 1867.72,100.442 1871.91,98.094 \n",
       "  1876.09,99.7762 1880.27,100.305 1884.45,101.783 1888.63,101.734 1892.82,99.7899 1897,101.447 1901.18,102.531 1905.36,99.4708 1909.55,102.243 1913.73,103.129 \n",
       "  1917.91,100.65 1922.09,100.232 1926.28,101.117 1930.46,102.369 1934.64,103.059 1938.82,103.008 1943.01,104.246 1947.19,103.826 1951.37,102.675 1955.55,94.2203 \n",
       "  1959.74,95.6495 1963.92,97.9812 1968.1,96.492 1972.28,96.6388 1976.47,97.3265 1980.65,97.6508 1984.83,100.31 1989.01,100.626 1993.19,100.94 1997.38,96.7911 \n",
       "  2001.56,98.8935 2005.74,97.9661 2009.92,98.2836 2014.11,99.4838 2018.29,98.2086 2022.47,100.284 2026.65,102.876 2030.84,101.251 2035.02,101.732 2039.2,103.257 \n",
       "  2043.38,101.99 2047.57,92.7428 2051.75,94.4509 2055.93,93.2128 2060.11,93.1876 2064.3,94.0228 2068.48,95.8844 2072.66,94.8255 2076.84,95.1388 2081.03,91.6987 \n",
       "  2085.21,94.0594 2089.39,89.1089 2093.57,87.2297 2097.75,88.9085 2101.94,89.2306 2106.12,89.7196 2110.3,90.3743 2114.48,91.3614 2118.67,92.1769 2122.85,91.1537 \n",
       "  2127.03,91.9662 2131.21,93.1073 2135.4,92.7518 2139.58,94.2171 2143.76,93.5307 2147.94,92.5178 2152.13,93.1525 2156.31,91.4888 2160.49,92.4503 2164.67,92.9179 \n",
       "  2168.86,94.3611 2173.04,96.286 2177.22,94.9577 2181.4,96.2256 2185.59,96.6803 2189.77,96.9719 2193.95,96.6186 2198.13,96.588 2202.31,98.8005 2206.5,100.364 \n",
       "  2210.68,92.6677 2214.86,94.8746 2219.04,95.8012 2223.23,93.8699 2227.41,95.2695 2231.59,95.4001 2235.77,97.2635 2239.96,96.4459 2244.14,97.9857 2248.32,97.1699 \n",
       "  2252.5,98.3894 2256.69,99.7599 2260.87,101.436 2265.05,102.95 2269.23,93.9157 2273.42,95.7484 2277.6,97.4192 2281.78,99.3915 2285.96,97.6649 2290.15,97.0196 \n",
       "  \n",
       "  \"/>\n",
       "<polyline clip-path=\"url(#clip3102)\" style=\"stroke:#000000; stroke-width:12; stroke-opacity:1; fill:none\" points=\"\n",
       "  -2071.72,86.2547 4565,86.2547 \n",
       "  \"/>\n",
       "<path clip-path=\"url(#clip3100)\" d=\"\n",
       "M212.517 1281.62 L802.786 1281.62 L802.786 1100.18 L212.517 1100.18  Z\n",
       "  \" fill=\"#ffffff\" fill-rule=\"evenodd\" fill-opacity=\"1\"/>\n",
       "<polyline clip-path=\"url(#clip3100)\" style=\"stroke:#000000; stroke-width:4; stroke-opacity:1; fill:none\" points=\"\n",
       "  212.517,1281.62 802.786,1281.62 802.786,1100.18 212.517,1100.18 212.517,1281.62 \n",
       "  \"/>\n",
       "<polyline clip-path=\"url(#clip3100)\" style=\"stroke:#ff0000; stroke-width:12; stroke-opacity:1; fill:none\" points=\"\n",
       "  236.517,1160.66 380.517,1160.66 \n",
       "  \"/>\n",
       "<g clip-path=\"url(#clip3100)\">\n",
       "<text style=\"fill:#000000; fill-opacity:1; font-family:Arial,Helvetica Neue,Helvetica,sans-serif; font-size:48px; text-anchor:start;\" transform=\"rotate(0, 404.517, 1178.16)\" x=\"404.517\" y=\"1178.16\">empirical T(N,N)</text>\n",
       "</g>\n",
       "<polyline clip-path=\"url(#clip3100)\" style=\"stroke:#000000; stroke-width:12; stroke-opacity:1; fill:none\" points=\"\n",
       "  236.517,1221.14 380.517,1221.14 \n",
       "  \"/>\n",
       "<g clip-path=\"url(#clip3100)\">\n",
       "<text style=\"fill:#000000; fill-opacity:1; font-family:Arial,Helvetica Neue,Helvetica,sans-serif; font-size:48px; text-anchor:start;\" transform=\"rotate(0, 404.517, 1238.64)\" x=\"404.517\" y=\"1238.64\">theoretical limit</text>\n",
       "</g>\n",
       "</svg>\n"
      ]
     },
     "execution_count": 10,
     "metadata": {},
     "output_type": "execute_result"
    }
   ],
   "source": [
    "max_N = 500\n",
    "law = \"Geometric\"\n",
    "q = 0.2\n",
    "λ = 1\n",
    "plot_lln(max_N, law, q, λ)"
   ]
  },
  {
   "cell_type": "markdown",
   "metadata": {},
   "source": [
    "### CLT"
   ]
  },
  {
   "cell_type": "code",
   "execution_count": 20,
   "metadata": {
    "scrolled": true
   },
   "outputs": [
    {
     "name": "stdout",
     "output_type": "stream",
     "text": [
      "Geometric, 0.1\n",
      "1000\n",
      "2000\n",
      "3000\n",
      "4000\n",
      "5000\n",
      "Geometric, 0.2\n",
      "1000\n",
      "2000\n",
      "3000\n",
      "4000\n",
      "5000\n",
      "Geometric, 0.3\n",
      "1000\n",
      "2000\n",
      "3000\n",
      "4000\n",
      "5000\n",
      "Geometric, 0.4\n",
      "1000\n",
      "2000\n",
      "3000\n",
      "4000\n",
      "5000\n",
      "Geometric, 0.5\n",
      "1000\n",
      "2000\n",
      "3000\n",
      "4000\n",
      "5000\n",
      "Geometric, 0.6\n",
      "1000\n",
      "2000\n",
      "3000\n",
      "4000\n",
      "5000\n",
      "Geometric, 0.7\n",
      "1000\n",
      "2000\n",
      "3000\n",
      "4000\n",
      "5000\n",
      "Geometric, 0.8\n",
      "1000\n",
      "2000\n",
      "3000\n",
      "4000\n",
      "5000\n",
      "Geometric, 0.9\n",
      "1000\n",
      "2000\n",
      "3000\n",
      "4000\n",
      "5000\n",
      "Exponential, 1\n",
      "Exponential, 2\n",
      "Exponential, 3\n",
      "Exponential, 4\n",
      "Exponential, 5\n",
      "Exponential, 6\n",
      "Exponential, 7\n",
      "Exponential, 8\n",
      "Exponential, 9\n",
      "Exponential, 10\n"
     ]
    }
   ],
   "source": [
    "RANGE_N = 10:10:100\n",
    "max_N = maximum(RANGE_N)\n",
    "RANGE_q = 0.1*(1:9)\n",
    "RANGE_λ = 1:10\n",
    "NB_SAMPLES = 5000\n",
    "\n",
    "d = Dict(vcat((\"Geometric\",Dict([(q, Dict([(N, Float64[]) for N in RANGE_N])) for q in RANGE_q])), (\"Exponential\",Dict([(λ, Dict([(N, Float64[]) for N in RANGE_N])) for λ in RANGE_λ]))))\n",
    "\n",
    "for q in RANGE_q\n",
    "    println(\"Geometric, \", q)\n",
    "    law = Geometric(q)\n",
    "    res = Float64[]\n",
    "    for i in 1:NB_SAMPLES\n",
    "        if(i%1000==0)\n",
    "            println(i)\n",
    "        end\n",
    "        grid = get_grid(law, max_N)\n",
    "        for N in RANGE_N\n",
    "            append!(d[\"Geometric\"][q][N], grid[N, N])\n",
    "        end\n",
    "    end\n",
    "end\n",
    "\n",
    "for λ in RANGE_λ\n",
    "    println(\"Exponential, \", λ)\n",
    "    law = Exponential(λ)\n",
    "    res = Float64[]\n",
    "    for i in 1:NB_SAMPLES\n",
    "        if(i%1000==0)\n",
    "            println(i)\n",
    "        end\n",
    "        grid = get_grid(law, max_N)\n",
    "        for N in RANGE_N\n",
    "            append!(d[\"Exponential\"][λ][N], grid[N, N])\n",
    "        end\n",
    "    end\n",
    "end"
   ]
  },
  {
   "cell_type": "code",
   "execution_count": 22,
   "metadata": {},
   "outputs": [
    {
     "data": {
      "application/vnd.webio.node+json": {
       "children": [
        {
         "children": [
          {
           "children": [
            {
             "children": [
              {
               "children": [
                {
                 "children": [
                  "nb_samples"
                 ],
                 "instanceArgs": {
                  "namespace": "html",
                  "tag": "label"
                 },
                 "nodeType": "DOM",
                 "props": {
                  "className": "interact ",
                  "style": {
                   "padding": "5px 10px 0px 10px"
                  }
                 },
                 "type": "node"
                }
               ],
               "instanceArgs": {
                "namespace": "html",
                "tag": "div"
               },
               "nodeType": "DOM",
               "props": {
                "className": "interact-flex-row-left"
               },
               "type": "node"
              },
              {
               "children": [
                {
                 "children": [],
                 "instanceArgs": {
                  "namespace": "html",
                  "tag": "input"
                 },
                 "nodeType": "DOM",
                 "props": {
                  "attributes": {
                   "data-bind": "numericValue: index, valueUpdate: 'input', event: {change: function (){this.changes(this.changes()+1)}}",
                   "orient": "horizontal",
                   "type": "range"
                  },
                  "className": "slider slider is-fullwidth",
                  "max": 50,
                  "min": 1,
                  "step": 1,
                  "style": {}
                 },
                 "type": "node"
                }
               ],
               "instanceArgs": {
                "namespace": "html",
                "tag": "div"
               },
               "nodeType": "DOM",
               "props": {
                "className": "interact-flex-row-center"
               },
               "type": "node"
              },
              {
               "children": [
                {
                 "children": [],
                 "instanceArgs": {
                  "namespace": "html",
                  "tag": "p"
                 },
                 "nodeType": "DOM",
                 "props": {
                  "attributes": {
                   "data-bind": "text: formatted_val"
                  }
                 },
                 "type": "node"
                }
               ],
               "instanceArgs": {
                "namespace": "html",
                "tag": "div"
               },
               "nodeType": "DOM",
               "props": {
                "className": "interact-flex-row-right"
               },
               "type": "node"
              }
             ],
             "instanceArgs": {
              "namespace": "html",
              "tag": "div"
             },
             "nodeType": "DOM",
             "props": {
              "className": "interact-flex-row interact-widget"
             },
             "type": "node"
            }
           ],
           "instanceArgs": {
            "handlers": {
             "changes": [
              "(function (val){return (val!=this.model[\"changes\"]()) ? (this.valueFromJulia[\"changes\"]=true, this.model[\"changes\"](val)) : undefined})"
             ],
             "index": [
              "(function (val){return (val!=this.model[\"index\"]()) ? (this.valueFromJulia[\"index\"]=true, this.model[\"index\"](val)) : undefined})"
             ]
            },
            "id": "9167796748278594611",
            "imports": {
             "data": [
              {
               "name": "knockout",
               "type": "js",
               "url": "/assetserver/254160226b58162a42111ea27214076747de1cf2-knockout.js"
              },
              {
               "name": "knockout_punches",
               "type": "js",
               "url": "/assetserver/2d0bf510fb683322318163f3ec7562806e4b1104-knockout_punches.js"
              },
              {
               "name": null,
               "type": "js",
               "url": "/assetserver/6ffcdda43c684da84d2ca5dd2027e4a55c68edac-all.js"
              },
              {
               "name": null,
               "type": "css",
               "url": "/assetserver/b0b44adaed1197b8510174b41f32f09d98a0c28e-style.css"
              },
              {
               "name": null,
               "type": "css",
               "url": "/assetserver/bbb2e3064bd5f6dfcf2f18fbeb52d9320f251632-bulma_confined.min.css"
              }
             ],
             "type": "async_block"
            },
            "mount_callbacks": [
             "function () {\n    var handler = (function (ko, koPunches) {\n    ko.punches.enableAll();\n    ko.bindingHandlers.numericValue = {\n        init: function(element, valueAccessor, allBindings, data, context) {\n            var stringified = ko.observable(ko.unwrap(valueAccessor()));\n            stringified.subscribe(function(value) {\n                var val = parseFloat(value);\n                if (!isNaN(val)) {\n                    valueAccessor()(val);\n                }\n            });\n            valueAccessor().subscribe(function(value) {\n                var str = JSON.stringify(value);\n                if ((str == \"0\") && ([\"-0\", \"-0.\"].indexOf(stringified()) >= 0))\n                     return;\n                 if ([\"null\", \"\"].indexOf(str) >= 0)\n                     return;\n                stringified(str);\n            });\n            ko.applyBindingsToNode(\n                element,\n                {\n                    value: stringified,\n                    valueUpdate: allBindings.get('valueUpdate'),\n                },\n                context,\n            );\n        }\n    };\n    var json_data = {\"formatted_vals\":[\"100\",\"200\",\"300\",\"400\",\"500\",\"600\",\"700\",\"800\",\"900\",\"1000\",\"1100\",\"1200\",\"1300\",\"1400\",\"1500\",\"1600\",\"1700\",\"1800\",\"1900\",\"2000\",\"2100\",\"2200\",\"2300\",\"2400\",\"2500\",\"2600\",\"2700\",\"2800\",\"2900\",\"3000\",\"3100\",\"3200\",\"3300\",\"3400\",\"3500\",\"3600\",\"3700\",\"3800\",\"3900\",\"4000\",\"4100\",\"4200\",\"4300\",\"4400\",\"4500\",\"4600\",\"4700\",\"4800\",\"4900\",\"5000\"],\"changes\":WebIO.getval({\"name\":\"changes\",\"scope\":\"9167796748278594611\",\"id\":\"ob_65\",\"type\":\"observable\"}),\"index\":WebIO.getval({\"name\":\"index\",\"scope\":\"9167796748278594611\",\"id\":\"ob_64\",\"type\":\"observable\"})};\n    var self = this;\n    function AppViewModel() {\n        for (var key in json_data) {\n            var el = json_data[key];\n            this[key] = Array.isArray(el) ? ko.observableArray(el) : ko.observable(el);\n        }\n        \n        [this[\"formatted_val\"]=ko.computed(    function(){\n        return this.formatted_vals()[parseInt(this.index())-(1)];\n    }\n,this)]\n        [this[\"changes\"].subscribe((function (val){!(this.valueFromJulia[\"changes\"]) ? (WebIO.setval({\"name\":\"changes\",\"scope\":\"9167796748278594611\",\"id\":\"ob_65\",\"type\":\"observable\"},val)) : undefined; return this.valueFromJulia[\"changes\"]=false}),self),this[\"index\"].subscribe((function (val){!(this.valueFromJulia[\"index\"]) ? (WebIO.setval({\"name\":\"index\",\"scope\":\"9167796748278594611\",\"id\":\"ob_64\",\"type\":\"observable\"},val)) : undefined; return this.valueFromJulia[\"index\"]=false}),self)]\n        \n    }\n    self.model = new AppViewModel();\n    self.valueFromJulia = {};\n    for (var key in json_data) {\n        self.valueFromJulia[key] = false;\n    }\n    ko.applyBindings(self.model, self.dom);\n}\n);\n    (WebIO.importBlock({\"data\":[{\"name\":\"knockout\",\"type\":\"js\",\"url\":\"/assetserver/254160226b58162a42111ea27214076747de1cf2-knockout.js\"},{\"name\":\"knockout_punches\",\"type\":\"js\",\"url\":\"/assetserver/2d0bf510fb683322318163f3ec7562806e4b1104-knockout_punches.js\"}],\"type\":\"async_block\"})).then((imports) => handler.apply(this, imports));\n}\n"
            ],
            "observables": {
             "changes": {
              "id": "ob_65",
              "sync": false,
              "value": 0
             },
             "index": {
              "id": "ob_64",
              "sync": true,
              "value": 25
             }
            },
            "systemjs_options": null
           },
           "nodeType": "Scope",
           "props": {},
           "type": "node"
          }
         ],
         "instanceArgs": {
          "namespace": "html",
          "tag": "div"
         },
         "nodeType": "DOM",
         "props": {
          "className": "field interact-widget"
         },
         "type": "node"
        },
        {
         "children": [
          {
           "children": [
            {
             "children": [
              {
               "children": [
                {
                 "children": [
                  "N"
                 ],
                 "instanceArgs": {
                  "namespace": "html",
                  "tag": "label"
                 },
                 "nodeType": "DOM",
                 "props": {
                  "className": "interact ",
                  "style": {
                   "padding": "5px 10px 0px 10px"
                  }
                 },
                 "type": "node"
                }
               ],
               "instanceArgs": {
                "namespace": "html",
                "tag": "div"
               },
               "nodeType": "DOM",
               "props": {
                "className": "interact-flex-row-left"
               },
               "type": "node"
              },
              {
               "children": [
                {
                 "children": [],
                 "instanceArgs": {
                  "namespace": "html",
                  "tag": "input"
                 },
                 "nodeType": "DOM",
                 "props": {
                  "attributes": {
                   "data-bind": "numericValue: index, valueUpdate: 'input', event: {change: function (){this.changes(this.changes()+1)}}",
                   "orient": "horizontal",
                   "type": "range"
                  },
                  "className": "slider slider is-fullwidth",
                  "max": 10,
                  "min": 1,
                  "step": 1,
                  "style": {}
                 },
                 "type": "node"
                }
               ],
               "instanceArgs": {
                "namespace": "html",
                "tag": "div"
               },
               "nodeType": "DOM",
               "props": {
                "className": "interact-flex-row-center"
               },
               "type": "node"
              },
              {
               "children": [
                {
                 "children": [],
                 "instanceArgs": {
                  "namespace": "html",
                  "tag": "p"
                 },
                 "nodeType": "DOM",
                 "props": {
                  "attributes": {
                   "data-bind": "text: formatted_val"
                  }
                 },
                 "type": "node"
                }
               ],
               "instanceArgs": {
                "namespace": "html",
                "tag": "div"
               },
               "nodeType": "DOM",
               "props": {
                "className": "interact-flex-row-right"
               },
               "type": "node"
              }
             ],
             "instanceArgs": {
              "namespace": "html",
              "tag": "div"
             },
             "nodeType": "DOM",
             "props": {
              "className": "interact-flex-row interact-widget"
             },
             "type": "node"
            }
           ],
           "instanceArgs": {
            "handlers": {
             "changes": [
              "(function (val){return (val!=this.model[\"changes\"]()) ? (this.valueFromJulia[\"changes\"]=true, this.model[\"changes\"](val)) : undefined})"
             ],
             "index": [
              "(function (val){return (val!=this.model[\"index\"]()) ? (this.valueFromJulia[\"index\"]=true, this.model[\"index\"](val)) : undefined})"
             ]
            },
            "id": "16651632120917084719",
            "imports": {
             "data": [
              {
               "name": "knockout",
               "type": "js",
               "url": "/assetserver/254160226b58162a42111ea27214076747de1cf2-knockout.js"
              },
              {
               "name": "knockout_punches",
               "type": "js",
               "url": "/assetserver/2d0bf510fb683322318163f3ec7562806e4b1104-knockout_punches.js"
              },
              {
               "name": null,
               "type": "js",
               "url": "/assetserver/6ffcdda43c684da84d2ca5dd2027e4a55c68edac-all.js"
              },
              {
               "name": null,
               "type": "css",
               "url": "/assetserver/b0b44adaed1197b8510174b41f32f09d98a0c28e-style.css"
              },
              {
               "name": null,
               "type": "css",
               "url": "/assetserver/bbb2e3064bd5f6dfcf2f18fbeb52d9320f251632-bulma_confined.min.css"
              }
             ],
             "type": "async_block"
            },
            "mount_callbacks": [
             "function () {\n    var handler = (function (ko, koPunches) {\n    ko.punches.enableAll();\n    ko.bindingHandlers.numericValue = {\n        init: function(element, valueAccessor, allBindings, data, context) {\n            var stringified = ko.observable(ko.unwrap(valueAccessor()));\n            stringified.subscribe(function(value) {\n                var val = parseFloat(value);\n                if (!isNaN(val)) {\n                    valueAccessor()(val);\n                }\n            });\n            valueAccessor().subscribe(function(value) {\n                var str = JSON.stringify(value);\n                if ((str == \"0\") && ([\"-0\", \"-0.\"].indexOf(stringified()) >= 0))\n                     return;\n                 if ([\"null\", \"\"].indexOf(str) >= 0)\n                     return;\n                stringified(str);\n            });\n            ko.applyBindingsToNode(\n                element,\n                {\n                    value: stringified,\n                    valueUpdate: allBindings.get('valueUpdate'),\n                },\n                context,\n            );\n        }\n    };\n    var json_data = {\"formatted_vals\":[\"10\",\"20\",\"30\",\"40\",\"50\",\"60\",\"70\",\"80\",\"90\",\"100\"],\"changes\":WebIO.getval({\"name\":\"changes\",\"scope\":\"16651632120917084719\",\"id\":\"ob_68\",\"type\":\"observable\"}),\"index\":WebIO.getval({\"name\":\"index\",\"scope\":\"16651632120917084719\",\"id\":\"ob_67\",\"type\":\"observable\"})};\n    var self = this;\n    function AppViewModel() {\n        for (var key in json_data) {\n            var el = json_data[key];\n            this[key] = Array.isArray(el) ? ko.observableArray(el) : ko.observable(el);\n        }\n        \n        [this[\"formatted_val\"]=ko.computed(    function(){\n        return this.formatted_vals()[parseInt(this.index())-(1)];\n    }\n,this)]\n        [this[\"changes\"].subscribe((function (val){!(this.valueFromJulia[\"changes\"]) ? (WebIO.setval({\"name\":\"changes\",\"scope\":\"16651632120917084719\",\"id\":\"ob_68\",\"type\":\"observable\"},val)) : undefined; return this.valueFromJulia[\"changes\"]=false}),self),this[\"index\"].subscribe((function (val){!(this.valueFromJulia[\"index\"]) ? (WebIO.setval({\"name\":\"index\",\"scope\":\"16651632120917084719\",\"id\":\"ob_67\",\"type\":\"observable\"},val)) : undefined; return this.valueFromJulia[\"index\"]=false}),self)]\n        \n    }\n    self.model = new AppViewModel();\n    self.valueFromJulia = {};\n    for (var key in json_data) {\n        self.valueFromJulia[key] = false;\n    }\n    ko.applyBindings(self.model, self.dom);\n}\n);\n    (WebIO.importBlock({\"data\":[{\"name\":\"knockout\",\"type\":\"js\",\"url\":\"/assetserver/254160226b58162a42111ea27214076747de1cf2-knockout.js\"},{\"name\":\"knockout_punches\",\"type\":\"js\",\"url\":\"/assetserver/2d0bf510fb683322318163f3ec7562806e4b1104-knockout_punches.js\"}],\"type\":\"async_block\"})).then((imports) => handler.apply(this, imports));\n}\n"
            ],
            "observables": {
             "changes": {
              "id": "ob_68",
              "sync": false,
              "value": 0
             },
             "index": {
              "id": "ob_67",
              "sync": true,
              "value": 5
             }
            },
            "systemjs_options": null
           },
           "nodeType": "Scope",
           "props": {},
           "type": "node"
          }
         ],
         "instanceArgs": {
          "namespace": "html",
          "tag": "div"
         },
         "nodeType": "DOM",
         "props": {
          "className": "field interact-widget"
         },
         "type": "node"
        },
        {
         "children": [
          {
           "children": [
            {
             "children": [
              {
               "children": [
                {
                 "children": [
                  "law_name"
                 ],
                 "instanceArgs": {
                  "namespace": "html",
                  "tag": "label"
                 },
                 "nodeType": "DOM",
                 "props": {
                  "className": "interact ",
                  "style": {
                   "padding": "5px 10px 0px 10px"
                  }
                 },
                 "type": "node"
                }
               ],
               "instanceArgs": {
                "namespace": "html",
                "tag": "div"
               },
               "nodeType": "DOM",
               "props": {
                "className": "interact-flex-row-left"
               },
               "type": "node"
              },
              {
               "children": [
                {
                 "children": [
                  {
                   "children": [
                    {
                     "children": [],
                     "instanceArgs": {
                      "namespace": "html",
                      "tag": "label"
                     },
                     "nodeType": "DOM",
                     "props": {
                      "attributes": {
                       "data-bind": "text : key"
                      }
                     },
                     "type": "node"
                    }
                   ],
                   "instanceArgs": {
                    "namespace": "html",
                    "tag": "span"
                   },
                   "nodeType": "DOM",
                   "props": {
                    "attributes": {
                     "data-bind": "click: function (){$root.update(val)}, css: {'is-primary is-selected' : $root.index() == val, 'interact-widget is-medium button ' : true}"
                    }
                   },
                   "type": "node"
                  }
                 ],
                 "instanceArgs": {
                  "namespace": "html",
                  "tag": "div"
                 },
                 "nodeType": "DOM",
                 "props": {
                  "attributes": {
                   "data-bind": "foreach : options_js"
                  },
                  "className": "buttons has-addons is-centered"
                 },
                 "type": "node"
                }
               ],
               "instanceArgs": {
                "namespace": "html",
                "tag": "div"
               },
               "nodeType": "DOM",
               "props": {
                "className": "interact-flex-row-center"
               },
               "type": "node"
              },
              {
               "children": [
                {
                 "children": [],
                 "instanceArgs": {
                  "namespace": "html",
                  "tag": "div"
                 },
                 "nodeType": "DOM",
                 "props": {},
                 "type": "node"
                }
               ],
               "instanceArgs": {
                "namespace": "html",
                "tag": "div"
               },
               "nodeType": "DOM",
               "props": {
                "className": "interact-flex-row-right"
               },
               "type": "node"
              }
             ],
             "instanceArgs": {
              "namespace": "html",
              "tag": "div"
             },
             "nodeType": "DOM",
             "props": {
              "className": "interact-flex-row interact-widget"
             },
             "type": "node"
            }
           ],
           "instanceArgs": {
            "handlers": {
             "index": [
              "(function (val){return (val!=this.model[\"index\"]()) ? (this.valueFromJulia[\"index\"]=true, this.model[\"index\"](val)) : undefined})"
             ],
             "options_js": [
              "(function (val){return (val!=this.model[\"options_js\"]()) ? (this.valueFromJulia[\"options_js\"]=true, this.model[\"options_js\"](val)) : undefined})"
             ]
            },
            "id": "11374158366641008554",
            "imports": {
             "data": [
              {
               "name": "knockout",
               "type": "js",
               "url": "/assetserver/254160226b58162a42111ea27214076747de1cf2-knockout.js"
              },
              {
               "name": "knockout_punches",
               "type": "js",
               "url": "/assetserver/2d0bf510fb683322318163f3ec7562806e4b1104-knockout_punches.js"
              },
              {
               "name": null,
               "type": "js",
               "url": "/assetserver/6ffcdda43c684da84d2ca5dd2027e4a55c68edac-all.js"
              },
              {
               "name": null,
               "type": "css",
               "url": "/assetserver/b0b44adaed1197b8510174b41f32f09d98a0c28e-style.css"
              },
              {
               "name": null,
               "type": "css",
               "url": "/assetserver/bbb2e3064bd5f6dfcf2f18fbeb52d9320f251632-bulma_confined.min.css"
              }
             ],
             "type": "async_block"
            },
            "mount_callbacks": [
             "function () {\n    var handler = (function (ko, koPunches) {\n    ko.punches.enableAll();\n    ko.bindingHandlers.numericValue = {\n        init: function(element, valueAccessor, allBindings, data, context) {\n            var stringified = ko.observable(ko.unwrap(valueAccessor()));\n            stringified.subscribe(function(value) {\n                var val = parseFloat(value);\n                if (!isNaN(val)) {\n                    valueAccessor()(val);\n                }\n            });\n            valueAccessor().subscribe(function(value) {\n                var str = JSON.stringify(value);\n                if ((str == \"0\") && ([\"-0\", \"-0.\"].indexOf(stringified()) >= 0))\n                     return;\n                 if ([\"null\", \"\"].indexOf(str) >= 0)\n                     return;\n                stringified(str);\n            });\n            ko.applyBindingsToNode(\n                element,\n                {\n                    value: stringified,\n                    valueUpdate: allBindings.get('valueUpdate'),\n                },\n                context,\n            );\n        }\n    };\n    var json_data = {\"options_js\":WebIO.getval({\"name\":\"options_js\",\"scope\":\"11374158366641008554\",\"id\":\"ob_73\",\"type\":\"observable\"}),\"index\":WebIO.getval({\"name\":\"index\",\"scope\":\"11374158366641008554\",\"id\":\"ob_72\",\"type\":\"observable\"})};\n    var self = this;\n    function AppViewModel() {\n        for (var key in json_data) {\n            var el = json_data[key];\n            this[key] = Array.isArray(el) ? ko.observableArray(el) : ko.observable(el);\n        }\n        [this[\"update\"]=function (val) {this.index(val)}]\n        \n        [this[\"options_js\"].subscribe((function (val){!(this.valueFromJulia[\"options_js\"]) ? (WebIO.setval({\"name\":\"options_js\",\"scope\":\"11374158366641008554\",\"id\":\"ob_73\",\"type\":\"observable\"},val)) : undefined; return this.valueFromJulia[\"options_js\"]=false}),self),this[\"index\"].subscribe((function (val){!(this.valueFromJulia[\"index\"]) ? (WebIO.setval({\"name\":\"index\",\"scope\":\"11374158366641008554\",\"id\":\"ob_72\",\"type\":\"observable\"},val)) : undefined; return this.valueFromJulia[\"index\"]=false}),self)]\n        \n    }\n    self.model = new AppViewModel();\n    self.valueFromJulia = {};\n    for (var key in json_data) {\n        self.valueFromJulia[key] = false;\n    }\n    ko.applyBindings(self.model, self.dom);\n}\n);\n    (WebIO.importBlock({\"data\":[{\"name\":\"knockout\",\"type\":\"js\",\"url\":\"/assetserver/254160226b58162a42111ea27214076747de1cf2-knockout.js\"},{\"name\":\"knockout_punches\",\"type\":\"js\",\"url\":\"/assetserver/2d0bf510fb683322318163f3ec7562806e4b1104-knockout_punches.js\"}],\"type\":\"async_block\"})).then((imports) => handler.apply(this, imports));\n}\n"
            ],
            "observables": {
             "index": {
              "id": "ob_72",
              "sync": true,
              "value": 1
             },
             "options_js": {
              "id": "ob_73",
              "sync": false,
              "value": [
               {
                "id": "id7822Prk3",
                "key": "Geometric",
                "val": 1
               },
               {
                "id": "idTqwPXkE9",
                "key": "Exponential",
                "val": 2
               }
              ]
             }
            },
            "systemjs_options": null
           },
           "nodeType": "Scope",
           "props": {},
           "type": "node"
          }
         ],
         "instanceArgs": {
          "namespace": "html",
          "tag": "div"
         },
         "nodeType": "DOM",
         "props": {
          "className": "interact-widget"
         },
         "type": "node"
        },
        {
         "children": [
          {
           "children": [
            {
             "children": [
              {
               "children": [
                {
                 "children": [
                  "q"
                 ],
                 "instanceArgs": {
                  "namespace": "html",
                  "tag": "label"
                 },
                 "nodeType": "DOM",
                 "props": {
                  "className": "interact ",
                  "style": {
                   "padding": "5px 10px 0px 10px"
                  }
                 },
                 "type": "node"
                }
               ],
               "instanceArgs": {
                "namespace": "html",
                "tag": "div"
               },
               "nodeType": "DOM",
               "props": {
                "className": "interact-flex-row-left"
               },
               "type": "node"
              },
              {
               "children": [
                {
                 "children": [],
                 "instanceArgs": {
                  "namespace": "html",
                  "tag": "input"
                 },
                 "nodeType": "DOM",
                 "props": {
                  "attributes": {
                   "data-bind": "numericValue: index, valueUpdate: 'input', event: {change: function (){this.changes(this.changes()+1)}}",
                   "orient": "horizontal",
                   "type": "range"
                  },
                  "className": "slider slider is-fullwidth",
                  "max": 9,
                  "min": 1,
                  "step": 1,
                  "style": {}
                 },
                 "type": "node"
                }
               ],
               "instanceArgs": {
                "namespace": "html",
                "tag": "div"
               },
               "nodeType": "DOM",
               "props": {
                "className": "interact-flex-row-center"
               },
               "type": "node"
              },
              {
               "children": [
                {
                 "children": [],
                 "instanceArgs": {
                  "namespace": "html",
                  "tag": "p"
                 },
                 "nodeType": "DOM",
                 "props": {
                  "attributes": {
                   "data-bind": "text: formatted_val"
                  }
                 },
                 "type": "node"
                }
               ],
               "instanceArgs": {
                "namespace": "html",
                "tag": "div"
               },
               "nodeType": "DOM",
               "props": {
                "className": "interact-flex-row-right"
               },
               "type": "node"
              }
             ],
             "instanceArgs": {
              "namespace": "html",
              "tag": "div"
             },
             "nodeType": "DOM",
             "props": {
              "className": "interact-flex-row interact-widget"
             },
             "type": "node"
            }
           ],
           "instanceArgs": {
            "handlers": {
             "changes": [
              "(function (val){return (val!=this.model[\"changes\"]()) ? (this.valueFromJulia[\"changes\"]=true, this.model[\"changes\"](val)) : undefined})"
             ],
             "index": [
              "(function (val){return (val!=this.model[\"index\"]()) ? (this.valueFromJulia[\"index\"]=true, this.model[\"index\"](val)) : undefined})"
             ]
            },
            "id": "8964630653891612638",
            "imports": {
             "data": [
              {
               "name": "knockout",
               "type": "js",
               "url": "/assetserver/254160226b58162a42111ea27214076747de1cf2-knockout.js"
              },
              {
               "name": "knockout_punches",
               "type": "js",
               "url": "/assetserver/2d0bf510fb683322318163f3ec7562806e4b1104-knockout_punches.js"
              },
              {
               "name": null,
               "type": "js",
               "url": "/assetserver/6ffcdda43c684da84d2ca5dd2027e4a55c68edac-all.js"
              },
              {
               "name": null,
               "type": "css",
               "url": "/assetserver/b0b44adaed1197b8510174b41f32f09d98a0c28e-style.css"
              },
              {
               "name": null,
               "type": "css",
               "url": "/assetserver/bbb2e3064bd5f6dfcf2f18fbeb52d9320f251632-bulma_confined.min.css"
              }
             ],
             "type": "async_block"
            },
            "mount_callbacks": [
             "function () {\n    var handler = (function (ko, koPunches) {\n    ko.punches.enableAll();\n    ko.bindingHandlers.numericValue = {\n        init: function(element, valueAccessor, allBindings, data, context) {\n            var stringified = ko.observable(ko.unwrap(valueAccessor()));\n            stringified.subscribe(function(value) {\n                var val = parseFloat(value);\n                if (!isNaN(val)) {\n                    valueAccessor()(val);\n                }\n            });\n            valueAccessor().subscribe(function(value) {\n                var str = JSON.stringify(value);\n                if ((str == \"0\") && ([\"-0\", \"-0.\"].indexOf(stringified()) >= 0))\n                     return;\n                 if ([\"null\", \"\"].indexOf(str) >= 0)\n                     return;\n                stringified(str);\n            });\n            ko.applyBindingsToNode(\n                element,\n                {\n                    value: stringified,\n                    valueUpdate: allBindings.get('valueUpdate'),\n                },\n                context,\n            );\n        }\n    };\n    var json_data = {\"formatted_vals\":[\"0.1\",\"0.2\",\"0.3\",\"0.4\",\"0.5\",\"0.6\",\"0.7\",\"0.8\",\"0.9\"],\"changes\":WebIO.getval({\"name\":\"changes\",\"scope\":\"8964630653891612638\",\"id\":\"ob_76\",\"type\":\"observable\"}),\"index\":WebIO.getval({\"name\":\"index\",\"scope\":\"8964630653891612638\",\"id\":\"ob_75\",\"type\":\"observable\"})};\n    var self = this;\n    function AppViewModel() {\n        for (var key in json_data) {\n            var el = json_data[key];\n            this[key] = Array.isArray(el) ? ko.observableArray(el) : ko.observable(el);\n        }\n        \n        [this[\"formatted_val\"]=ko.computed(    function(){\n        return this.formatted_vals()[parseInt(this.index())-(1)];\n    }\n,this)]\n        [this[\"changes\"].subscribe((function (val){!(this.valueFromJulia[\"changes\"]) ? (WebIO.setval({\"name\":\"changes\",\"scope\":\"8964630653891612638\",\"id\":\"ob_76\",\"type\":\"observable\"},val)) : undefined; return this.valueFromJulia[\"changes\"]=false}),self),this[\"index\"].subscribe((function (val){!(this.valueFromJulia[\"index\"]) ? (WebIO.setval({\"name\":\"index\",\"scope\":\"8964630653891612638\",\"id\":\"ob_75\",\"type\":\"observable\"},val)) : undefined; return this.valueFromJulia[\"index\"]=false}),self)]\n        \n    }\n    self.model = new AppViewModel();\n    self.valueFromJulia = {};\n    for (var key in json_data) {\n        self.valueFromJulia[key] = false;\n    }\n    ko.applyBindings(self.model, self.dom);\n}\n);\n    (WebIO.importBlock({\"data\":[{\"name\":\"knockout\",\"type\":\"js\",\"url\":\"/assetserver/254160226b58162a42111ea27214076747de1cf2-knockout.js\"},{\"name\":\"knockout_punches\",\"type\":\"js\",\"url\":\"/assetserver/2d0bf510fb683322318163f3ec7562806e4b1104-knockout_punches.js\"}],\"type\":\"async_block\"})).then((imports) => handler.apply(this, imports));\n}\n"
            ],
            "observables": {
             "changes": {
              "id": "ob_76",
              "sync": false,
              "value": 0
             },
             "index": {
              "id": "ob_75",
              "sync": true,
              "value": 5
             }
            },
            "systemjs_options": null
           },
           "nodeType": "Scope",
           "props": {},
           "type": "node"
          }
         ],
         "instanceArgs": {
          "namespace": "html",
          "tag": "div"
         },
         "nodeType": "DOM",
         "props": {
          "className": "field interact-widget"
         },
         "type": "node"
        },
        {
         "children": [
          {
           "children": [
            {
             "children": [
              {
               "children": [
                {
                 "children": [
                  "λ"
                 ],
                 "instanceArgs": {
                  "namespace": "html",
                  "tag": "label"
                 },
                 "nodeType": "DOM",
                 "props": {
                  "className": "interact ",
                  "style": {
                   "padding": "5px 10px 0px 10px"
                  }
                 },
                 "type": "node"
                }
               ],
               "instanceArgs": {
                "namespace": "html",
                "tag": "div"
               },
               "nodeType": "DOM",
               "props": {
                "className": "interact-flex-row-left"
               },
               "type": "node"
              },
              {
               "children": [
                {
                 "children": [],
                 "instanceArgs": {
                  "namespace": "html",
                  "tag": "input"
                 },
                 "nodeType": "DOM",
                 "props": {
                  "attributes": {
                   "data-bind": "numericValue: index, valueUpdate: 'input', event: {change: function (){this.changes(this.changes()+1)}}",
                   "orient": "horizontal",
                   "type": "range"
                  },
                  "className": "slider slider is-fullwidth",
                  "max": 10,
                  "min": 1,
                  "step": 1,
                  "style": {}
                 },
                 "type": "node"
                }
               ],
               "instanceArgs": {
                "namespace": "html",
                "tag": "div"
               },
               "nodeType": "DOM",
               "props": {
                "className": "interact-flex-row-center"
               },
               "type": "node"
              },
              {
               "children": [
                {
                 "children": [],
                 "instanceArgs": {
                  "namespace": "html",
                  "tag": "p"
                 },
                 "nodeType": "DOM",
                 "props": {
                  "attributes": {
                   "data-bind": "text: formatted_val"
                  }
                 },
                 "type": "node"
                }
               ],
               "instanceArgs": {
                "namespace": "html",
                "tag": "div"
               },
               "nodeType": "DOM",
               "props": {
                "className": "interact-flex-row-right"
               },
               "type": "node"
              }
             ],
             "instanceArgs": {
              "namespace": "html",
              "tag": "div"
             },
             "nodeType": "DOM",
             "props": {
              "className": "interact-flex-row interact-widget"
             },
             "type": "node"
            }
           ],
           "instanceArgs": {
            "handlers": {
             "changes": [
              "(function (val){return (val!=this.model[\"changes\"]()) ? (this.valueFromJulia[\"changes\"]=true, this.model[\"changes\"](val)) : undefined})"
             ],
             "index": [
              "(function (val){return (val!=this.model[\"index\"]()) ? (this.valueFromJulia[\"index\"]=true, this.model[\"index\"](val)) : undefined})"
             ]
            },
            "id": "13751628643193050039",
            "imports": {
             "data": [
              {
               "name": "knockout",
               "type": "js",
               "url": "/assetserver/254160226b58162a42111ea27214076747de1cf2-knockout.js"
              },
              {
               "name": "knockout_punches",
               "type": "js",
               "url": "/assetserver/2d0bf510fb683322318163f3ec7562806e4b1104-knockout_punches.js"
              },
              {
               "name": null,
               "type": "js",
               "url": "/assetserver/6ffcdda43c684da84d2ca5dd2027e4a55c68edac-all.js"
              },
              {
               "name": null,
               "type": "css",
               "url": "/assetserver/b0b44adaed1197b8510174b41f32f09d98a0c28e-style.css"
              },
              {
               "name": null,
               "type": "css",
               "url": "/assetserver/bbb2e3064bd5f6dfcf2f18fbeb52d9320f251632-bulma_confined.min.css"
              }
             ],
             "type": "async_block"
            },
            "mount_callbacks": [
             "function () {\n    var handler = (function (ko, koPunches) {\n    ko.punches.enableAll();\n    ko.bindingHandlers.numericValue = {\n        init: function(element, valueAccessor, allBindings, data, context) {\n            var stringified = ko.observable(ko.unwrap(valueAccessor()));\n            stringified.subscribe(function(value) {\n                var val = parseFloat(value);\n                if (!isNaN(val)) {\n                    valueAccessor()(val);\n                }\n            });\n            valueAccessor().subscribe(function(value) {\n                var str = JSON.stringify(value);\n                if ((str == \"0\") && ([\"-0\", \"-0.\"].indexOf(stringified()) >= 0))\n                     return;\n                 if ([\"null\", \"\"].indexOf(str) >= 0)\n                     return;\n                stringified(str);\n            });\n            ko.applyBindingsToNode(\n                element,\n                {\n                    value: stringified,\n                    valueUpdate: allBindings.get('valueUpdate'),\n                },\n                context,\n            );\n        }\n    };\n    var json_data = {\"formatted_vals\":[\"1\",\"2\",\"3\",\"4\",\"5\",\"6\",\"7\",\"8\",\"9\",\"10\"],\"changes\":WebIO.getval({\"name\":\"changes\",\"scope\":\"13751628643193050039\",\"id\":\"ob_78\",\"type\":\"observable\"}),\"index\":WebIO.getval({\"name\":\"index\",\"scope\":\"13751628643193050039\",\"id\":\"ob_77\",\"type\":\"observable\"})};\n    var self = this;\n    function AppViewModel() {\n        for (var key in json_data) {\n            var el = json_data[key];\n            this[key] = Array.isArray(el) ? ko.observableArray(el) : ko.observable(el);\n        }\n        \n        [this[\"formatted_val\"]=ko.computed(    function(){\n        return this.formatted_vals()[parseInt(this.index())-(1)];\n    }\n,this)]\n        [this[\"changes\"].subscribe((function (val){!(this.valueFromJulia[\"changes\"]) ? (WebIO.setval({\"name\":\"changes\",\"scope\":\"13751628643193050039\",\"id\":\"ob_78\",\"type\":\"observable\"},val)) : undefined; return this.valueFromJulia[\"changes\"]=false}),self),this[\"index\"].subscribe((function (val){!(this.valueFromJulia[\"index\"]) ? (WebIO.setval({\"name\":\"index\",\"scope\":\"13751628643193050039\",\"id\":\"ob_77\",\"type\":\"observable\"},val)) : undefined; return this.valueFromJulia[\"index\"]=false}),self)]\n        \n    }\n    self.model = new AppViewModel();\n    self.valueFromJulia = {};\n    for (var key in json_data) {\n        self.valueFromJulia[key] = false;\n    }\n    ko.applyBindings(self.model, self.dom);\n}\n);\n    (WebIO.importBlock({\"data\":[{\"name\":\"knockout\",\"type\":\"js\",\"url\":\"/assetserver/254160226b58162a42111ea27214076747de1cf2-knockout.js\"},{\"name\":\"knockout_punches\",\"type\":\"js\",\"url\":\"/assetserver/2d0bf510fb683322318163f3ec7562806e4b1104-knockout_punches.js\"}],\"type\":\"async_block\"})).then((imports) => handler.apply(this, imports));\n}\n"
            ],
            "observables": {
             "changes": {
              "id": "ob_78",
              "sync": false,
              "value": 0
             },
             "index": {
              "id": "ob_77",
              "sync": true,
              "value": 5
             }
            },
            "systemjs_options": null
           },
           "nodeType": "Scope",
           "props": {},
           "type": "node"
          }
         ],
         "instanceArgs": {
          "namespace": "html",
          "tag": "div"
         },
         "nodeType": "DOM",
         "props": {
          "className": "field interact-widget"
         },
         "type": "node"
        },
        {
         "children": [
          {
           "children": [],
           "instanceArgs": {
            "id": "ob_84",
            "name": "obs-node"
           },
           "nodeType": "ObservableNode",
           "props": {},
           "type": "node"
          }
         ],
         "instanceArgs": {
          "handlers": {},
          "id": "7869153055887301873",
          "imports": {
           "data": [],
           "type": "async_block"
          },
          "mount_callbacks": [],
          "observables": {
           "obs-node": {
            "id": "ob_84",
            "sync": false,
            "value": {
             "children": [
              {
               "children": [],
               "instanceArgs": {
                "namespace": "html",
                "tag": "div"
               },
               "nodeType": "DOM",
               "props": {
                "setInnerHtml": "<?xml version=\"1.0\" encoding=\"utf-8\"?>\n<svg xmlns=\"http://www.w3.org/2000/svg\" xmlns:xlink=\"http://www.w3.org/1999/xlink\" width=\"600\" height=\"400\" viewBox=\"0 0 2400 1600\">\n<defs>\n  <clipPath id=\"clip5500\">\n    <rect x=\"0\" y=\"0\" width=\"2400\" height=\"1600\"/>\n  </clipPath>\n</defs>\n<path clip-path=\"url(#clip5500)\" d=\"\nM0 1600 L2400 1600 L2400 0 L0 0  Z\n  \" fill=\"#ffffff\" fill-rule=\"evenodd\" fill-opacity=\"1\"/>\n<defs>\n  <clipPath id=\"clip5501\">\n    <rect x=\"480\" y=\"0\" width=\"1681\" height=\"1600\"/>\n  </clipPath>\n</defs>\n<path clip-path=\"url(#clip5500)\" d=\"\nM153.898 1487.47 L2352.76 1487.47 L2352.76 47.2441 L153.898 47.2441  Z\n  \" fill=\"#ffffff\" fill-rule=\"evenodd\" fill-opacity=\"1\"/>\n<defs>\n  <clipPath id=\"clip5502\">\n    <rect x=\"153\" y=\"47\" width=\"2200\" height=\"1441\"/>\n  </clipPath>\n</defs>\n<polyline clip-path=\"url(#clip5502)\" style=\"stroke:#000000; stroke-width:2; stroke-opacity:0.1; fill:none\" points=\"\n  388.996,1487.47 388.996,47.2441 \n  \"/>\n<polyline clip-path=\"url(#clip5502)\" style=\"stroke:#000000; stroke-width:2; stroke-opacity:0.1; fill:none\" points=\"\n  821.161,1487.47 821.161,47.2441 \n  \"/>\n<polyline clip-path=\"url(#clip5502)\" style=\"stroke:#000000; stroke-width:2; stroke-opacity:0.1; fill:none\" points=\"\n  1253.33,1487.47 1253.33,47.2441 \n  \"/>\n<polyline clip-path=\"url(#clip5502)\" style=\"stroke:#000000; stroke-width:2; stroke-opacity:0.1; fill:none\" points=\"\n  1685.49,1487.47 1685.49,47.2441 \n  \"/>\n<polyline clip-path=\"url(#clip5502)\" style=\"stroke:#000000; stroke-width:2; stroke-opacity:0.1; fill:none\" points=\"\n  2117.66,1487.47 2117.66,47.2441 \n  \"/>\n<polyline clip-path=\"url(#clip5502)\" style=\"stroke:#000000; stroke-width:2; stroke-opacity:0.1; fill:none\" points=\"\n  153.898,1446.71 2352.76,1446.71 \n  \"/>\n<polyline clip-path=\"url(#clip5502)\" style=\"stroke:#000000; stroke-width:2; stroke-opacity:0.1; fill:none\" points=\"\n  153.898,1195.1 2352.76,1195.1 \n  \"/>\n<polyline clip-path=\"url(#clip5502)\" style=\"stroke:#000000; stroke-width:2; stroke-opacity:0.1; fill:none\" points=\"\n  153.898,943.488 2352.76,943.488 \n  \"/>\n<polyline clip-path=\"url(#clip5502)\" style=\"stroke:#000000; stroke-width:2; stroke-opacity:0.1; fill:none\" points=\"\n  153.898,691.876 2352.76,691.876 \n  \"/>\n<polyline clip-path=\"url(#clip5502)\" style=\"stroke:#000000; stroke-width:2; stroke-opacity:0.1; fill:none\" points=\"\n  153.898,440.263 2352.76,440.263 \n  \"/>\n<polyline clip-path=\"url(#clip5502)\" style=\"stroke:#000000; stroke-width:2; stroke-opacity:0.1; fill:none\" points=\"\n  153.898,188.65 2352.76,188.65 \n  \"/>\n<polyline clip-path=\"url(#clip5500)\" style=\"stroke:#000000; stroke-width:4; stroke-opacity:1; fill:none\" points=\"\n  153.898,1487.47 2352.76,1487.47 \n  \"/>\n<polyline clip-path=\"url(#clip5500)\" style=\"stroke:#000000; stroke-width:4; stroke-opacity:1; fill:none\" points=\"\n  153.898,1487.47 153.898,47.2441 \n  \"/>\n<polyline clip-path=\"url(#clip5500)\" style=\"stroke:#000000; stroke-width:4; stroke-opacity:1; fill:none\" points=\"\n  388.996,1487.47 388.996,1465.87 \n  \"/>\n<polyline clip-path=\"url(#clip5500)\" style=\"stroke:#000000; stroke-width:4; stroke-opacity:1; fill:none\" points=\"\n  821.161,1487.47 821.161,1465.87 \n  \"/>\n<polyline clip-path=\"url(#clip5500)\" style=\"stroke:#000000; stroke-width:4; stroke-opacity:1; fill:none\" points=\"\n  1253.33,1487.47 1253.33,1465.87 \n  \"/>\n<polyline clip-path=\"url(#clip5500)\" style=\"stroke:#000000; stroke-width:4; stroke-opacity:1; fill:none\" points=\"\n  1685.49,1487.47 1685.49,1465.87 \n  \"/>\n<polyline clip-path=\"url(#clip5500)\" style=\"stroke:#000000; stroke-width:4; stroke-opacity:1; fill:none\" points=\"\n  2117.66,1487.47 2117.66,1465.87 \n  \"/>\n<polyline clip-path=\"url(#clip5500)\" style=\"stroke:#000000; stroke-width:4; stroke-opacity:1; fill:none\" points=\"\n  153.898,1446.71 186.881,1446.71 \n  \"/>\n<polyline clip-path=\"url(#clip5500)\" style=\"stroke:#000000; stroke-width:4; stroke-opacity:1; fill:none\" points=\"\n  153.898,1195.1 186.881,1195.1 \n  \"/>\n<polyline clip-path=\"url(#clip5500)\" style=\"stroke:#000000; stroke-width:4; stroke-opacity:1; fill:none\" points=\"\n  153.898,943.488 186.881,943.488 \n  \"/>\n<polyline clip-path=\"url(#clip5500)\" style=\"stroke:#000000; stroke-width:4; stroke-opacity:1; fill:none\" points=\"\n  153.898,691.876 186.881,691.876 \n  \"/>\n<polyline clip-path=\"url(#clip5500)\" style=\"stroke:#000000; stroke-width:4; stroke-opacity:1; fill:none\" points=\"\n  153.898,440.263 186.881,440.263 \n  \"/>\n<polyline clip-path=\"url(#clip5500)\" style=\"stroke:#000000; stroke-width:4; stroke-opacity:1; fill:none\" points=\"\n  153.898,188.65 186.881,188.65 \n  \"/>\n<g clip-path=\"url(#clip5500)\">\n<text style=\"fill:#000000; fill-opacity:1; font-family:Arial,Helvetica Neue,Helvetica,sans-serif; font-size:48px; text-anchor:middle;\" transform=\"rotate(0, 388.996, 1541.47)\" x=\"388.996\" y=\"1541.47\">-5.0</text>\n</g>\n<g clip-path=\"url(#clip5500)\">\n<text style=\"fill:#000000; fill-opacity:1; font-family:Arial,Helvetica Neue,Helvetica,sans-serif; font-size:48px; text-anchor:middle;\" transform=\"rotate(0, 821.161, 1541.47)\" x=\"821.161\" y=\"1541.47\">-2.5</text>\n</g>\n<g clip-path=\"url(#clip5500)\">\n<text style=\"fill:#000000; fill-opacity:1; font-family:Arial,Helvetica Neue,Helvetica,sans-serif; font-size:48px; text-anchor:middle;\" transform=\"rotate(0, 1253.33, 1541.47)\" x=\"1253.33\" y=\"1541.47\">0.0</text>\n</g>\n<g clip-path=\"url(#clip5500)\">\n<text style=\"fill:#000000; fill-opacity:1; font-family:Arial,Helvetica Neue,Helvetica,sans-serif; font-size:48px; text-anchor:middle;\" transform=\"rotate(0, 1685.49, 1541.47)\" x=\"1685.49\" y=\"1541.47\">2.5</text>\n</g>\n<g clip-path=\"url(#clip5500)\">\n<text style=\"fill:#000000; fill-opacity:1; font-family:Arial,Helvetica Neue,Helvetica,sans-serif; font-size:48px; text-anchor:middle;\" transform=\"rotate(0, 2117.66, 1541.47)\" x=\"2117.66\" y=\"1541.47\">5.0</text>\n</g>\n<g clip-path=\"url(#clip5500)\">\n<text style=\"fill:#000000; fill-opacity:1; font-family:Arial,Helvetica Neue,Helvetica,sans-serif; font-size:48px; text-anchor:end;\" transform=\"rotate(0, 129.898, 1464.21)\" x=\"129.898\" y=\"1464.21\">0.0</text>\n</g>\n<g clip-path=\"url(#clip5500)\">\n<text style=\"fill:#000000; fill-opacity:1; font-family:Arial,Helvetica Neue,Helvetica,sans-serif; font-size:48px; text-anchor:end;\" transform=\"rotate(0, 129.898, 1212.6)\" x=\"129.898\" y=\"1212.6\">0.1</text>\n</g>\n<g clip-path=\"url(#clip5500)\">\n<text style=\"fill:#000000; fill-opacity:1; font-family:Arial,Helvetica Neue,Helvetica,sans-serif; font-size:48px; text-anchor:end;\" transform=\"rotate(0, 129.898, 960.988)\" x=\"129.898\" y=\"960.988\">0.2</text>\n</g>\n<g clip-path=\"url(#clip5500)\">\n<text style=\"fill:#000000; fill-opacity:1; font-family:Arial,Helvetica Neue,Helvetica,sans-serif; font-size:48px; text-anchor:end;\" transform=\"rotate(0, 129.898, 709.376)\" x=\"129.898\" y=\"709.376\">0.3</text>\n</g>\n<g clip-path=\"url(#clip5500)\">\n<text style=\"fill:#000000; fill-opacity:1; font-family:Arial,Helvetica Neue,Helvetica,sans-serif; font-size:48px; text-anchor:end;\" transform=\"rotate(0, 129.898, 457.763)\" x=\"129.898\" y=\"457.763\">0.4</text>\n</g>\n<g clip-path=\"url(#clip5500)\">\n<text style=\"fill:#000000; fill-opacity:1; font-family:Arial,Helvetica Neue,Helvetica,sans-serif; font-size:48px; text-anchor:end;\" transform=\"rotate(0, 129.898, 206.15)\" x=\"129.898\" y=\"206.15\">0.5</text>\n</g>\n<path clip-path=\"url(#clip5502)\" d=\"\nM388.996 1446.71 L388.996 1446.71 L423.569 1446.71 L423.569 1446.71 L388.996 1446.71 L388.996 1446.71  Z\n  \" fill=\"#009af9\" fill-rule=\"evenodd\" fill-opacity=\"1\"/>\n<polyline clip-path=\"url(#clip5502)\" style=\"stroke:#000000; stroke-width:4; stroke-opacity:1; fill:none\" points=\"\n  388.996,1446.71 388.996,1446.71 423.569,1446.71 388.996,1446.71 \n  \"/>\n<path clip-path=\"url(#clip5502)\" d=\"\nM423.569 1446.71 L423.569 1446.71 L458.142 1446.71 L458.142 1446.71 L423.569 1446.71 L423.569 1446.71  Z\n  \" fill=\"#009af9\" fill-rule=\"evenodd\" fill-opacity=\"1\"/>\n<polyline clip-path=\"url(#clip5502)\" style=\"stroke:#000000; stroke-width:4; stroke-opacity:1; fill:none\" points=\"\n  423.569,1446.71 423.569,1446.71 458.142,1446.71 423.569,1446.71 \n  \"/>\n<path clip-path=\"url(#clip5502)\" d=\"\nM458.142 1446.71 L458.142 1446.71 L492.716 1446.71 L492.716 1446.71 L458.142 1446.71 L458.142 1446.71  Z\n  \" fill=\"#009af9\" fill-rule=\"evenodd\" fill-opacity=\"1\"/>\n<polyline clip-path=\"url(#clip5502)\" style=\"stroke:#000000; stroke-width:4; stroke-opacity:1; fill:none\" points=\"\n  458.142,1446.71 458.142,1446.71 492.716,1446.71 458.142,1446.71 \n  \"/>\n<path clip-path=\"url(#clip5502)\" d=\"\nM492.716 1441.68 L492.716 1446.71 L527.289 1446.71 L527.289 1441.68 L492.716 1441.68 L492.716 1441.68  Z\n  \" fill=\"#009af9\" fill-rule=\"evenodd\" fill-opacity=\"1\"/>\n<polyline clip-path=\"url(#clip5502)\" style=\"stroke:#000000; stroke-width:4; stroke-opacity:1; fill:none\" points=\"\n  492.716,1441.68 492.716,1446.71 527.289,1446.71 527.289,1441.68 492.716,1441.68 \n  \"/>\n<path clip-path=\"url(#clip5502)\" d=\"\nM527.289 1411.49 L527.289 1446.71 L561.862 1446.71 L561.862 1411.49 L527.289 1411.49 L527.289 1411.49  Z\n  \" fill=\"#009af9\" fill-rule=\"evenodd\" fill-opacity=\"1\"/>\n<polyline clip-path=\"url(#clip5502)\" style=\"stroke:#000000; stroke-width:4; stroke-opacity:1; fill:none\" points=\"\n  527.289,1411.49 527.289,1446.71 561.862,1446.71 561.862,1411.49 527.289,1411.49 \n  \"/>\n<path clip-path=\"url(#clip5502)\" d=\"\nM561.862 1411.49 L561.862 1446.71 L596.435 1446.71 L596.435 1411.49 L561.862 1411.49 L561.862 1411.49  Z\n  \" fill=\"#009af9\" fill-rule=\"evenodd\" fill-opacity=\"1\"/>\n<polyline clip-path=\"url(#clip5502)\" style=\"stroke:#000000; stroke-width:4; stroke-opacity:1; fill:none\" points=\"\n  561.862,1411.49 561.862,1446.71 596.435,1446.71 596.435,1411.49 561.862,1411.49 \n  \"/>\n<path clip-path=\"url(#clip5502)\" d=\"\nM596.435 1366.2 L596.435 1446.71 L631.009 1446.71 L631.009 1366.2 L596.435 1366.2 L596.435 1366.2  Z\n  \" fill=\"#009af9\" fill-rule=\"evenodd\" fill-opacity=\"1\"/>\n<polyline clip-path=\"url(#clip5502)\" style=\"stroke:#000000; stroke-width:4; stroke-opacity:1; fill:none\" points=\"\n  596.435,1366.2 596.435,1446.71 631.009,1446.71 631.009,1366.2 596.435,1366.2 \n  \"/>\n<path clip-path=\"url(#clip5502)\" d=\"\nM631.009 1361.17 L631.009 1446.71 L665.582 1446.71 L665.582 1361.17 L631.009 1361.17 L631.009 1361.17  Z\n  \" fill=\"#009af9\" fill-rule=\"evenodd\" fill-opacity=\"1\"/>\n<polyline clip-path=\"url(#clip5502)\" style=\"stroke:#000000; stroke-width:4; stroke-opacity:1; fill:none\" points=\"\n  631.009,1361.17 631.009,1446.71 665.582,1446.71 665.582,1361.17 631.009,1361.17 \n  \"/>\n<path clip-path=\"url(#clip5502)\" d=\"\nM665.582 1210.2 L665.582 1446.71 L700.155 1446.71 L700.155 1210.2 L665.582 1210.2 L665.582 1210.2  Z\n  \" fill=\"#009af9\" fill-rule=\"evenodd\" fill-opacity=\"1\"/>\n<polyline clip-path=\"url(#clip5502)\" style=\"stroke:#000000; stroke-width:4; stroke-opacity:1; fill:none\" points=\"\n  665.582,1210.2 665.582,1446.71 700.155,1446.71 700.155,1210.2 665.582,1210.2 \n  \"/>\n<path clip-path=\"url(#clip5502)\" d=\"\nM700.155 1109.55 L700.155 1446.71 L734.728 1446.71 L734.728 1109.55 L700.155 1109.55 L700.155 1109.55  Z\n  \" fill=\"#009af9\" fill-rule=\"evenodd\" fill-opacity=\"1\"/>\n<polyline clip-path=\"url(#clip5502)\" style=\"stroke:#000000; stroke-width:4; stroke-opacity:1; fill:none\" points=\"\n  700.155,1109.55 700.155,1446.71 734.728,1446.71 734.728,1109.55 700.155,1109.55 \n  \"/>\n<path clip-path=\"url(#clip5502)\" d=\"\nM734.728 1049.17 L734.728 1446.71 L769.302 1446.71 L769.302 1049.17 L734.728 1049.17 L734.728 1049.17  Z\n  \" fill=\"#009af9\" fill-rule=\"evenodd\" fill-opacity=\"1\"/>\n<polyline clip-path=\"url(#clip5502)\" style=\"stroke:#000000; stroke-width:4; stroke-opacity:1; fill:none\" points=\"\n  734.728,1049.17 734.728,1446.71 769.302,1446.71 769.302,1049.17 734.728,1049.17 \n  \"/>\n<path clip-path=\"url(#clip5502)\" d=\"\nM769.302 722.069 L769.302 1446.71 L803.875 1446.71 L803.875 722.069 L769.302 722.069 L769.302 722.069  Z\n  \" fill=\"#009af9\" fill-rule=\"evenodd\" fill-opacity=\"1\"/>\n<polyline clip-path=\"url(#clip5502)\" style=\"stroke:#000000; stroke-width:4; stroke-opacity:1; fill:none\" points=\"\n  769.302,722.069 769.302,1446.71 803.875,1446.71 803.875,722.069 769.302,722.069 \n  \"/>\n<path clip-path=\"url(#clip5502)\" d=\"\nM803.875 389.94 L803.875 1446.71 L838.448 1446.71 L838.448 389.94 L803.875 389.94 L803.875 389.94  Z\n  \" fill=\"#009af9\" fill-rule=\"evenodd\" fill-opacity=\"1\"/>\n<polyline clip-path=\"url(#clip5502)\" style=\"stroke:#000000; stroke-width:4; stroke-opacity:1; fill:none\" points=\"\n  803.875,389.94 803.875,1446.71 838.448,1446.71 838.448,389.94 803.875,389.94 \n  \"/>\n<path clip-path=\"url(#clip5502)\" d=\"\nM838.448 616.392 L838.448 1446.71 L873.021 1446.71 L873.021 616.392 L838.448 616.392 L838.448 616.392  Z\n  \" fill=\"#009af9\" fill-rule=\"evenodd\" fill-opacity=\"1\"/>\n<polyline clip-path=\"url(#clip5502)\" style=\"stroke:#000000; stroke-width:4; stroke-opacity:1; fill:none\" points=\"\n  838.448,616.392 838.448,1446.71 873.021,1446.71 873.021,616.392 838.448,616.392 \n  \"/>\n<path clip-path=\"url(#clip5502)\" d=\"\nM873.021 168.521 L873.021 1446.71 L907.595 1446.71 L907.595 168.521 L873.021 168.521 L873.021 168.521  Z\n  \" fill=\"#009af9\" fill-rule=\"evenodd\" fill-opacity=\"1\"/>\n<polyline clip-path=\"url(#clip5502)\" style=\"stroke:#000000; stroke-width:4; stroke-opacity:1; fill:none\" points=\"\n  873.021,168.521 873.021,1446.71 907.595,1446.71 907.595,168.521 873.021,168.521 \n  \"/>\n<path clip-path=\"url(#clip5502)\" d=\"\nM907.595 88.0053 L907.595 1446.71 L942.168 1446.71 L942.168 88.0053 L907.595 88.0053 L907.595 88.0053  Z\n  \" fill=\"#009af9\" fill-rule=\"evenodd\" fill-opacity=\"1\"/>\n<polyline clip-path=\"url(#clip5502)\" style=\"stroke:#000000; stroke-width:4; stroke-opacity:1; fill:none\" points=\"\n  907.595,88.0053 907.595,1446.71 942.168,1446.71 942.168,88.0053 907.595,88.0053 \n  \"/>\n<path clip-path=\"url(#clip5502)\" d=\"\nM942.168 515.747 L942.168 1446.71 L976.741 1446.71 L976.741 515.747 L942.168 515.747 L942.168 515.747  Z\n  \" fill=\"#009af9\" fill-rule=\"evenodd\" fill-opacity=\"1\"/>\n<polyline clip-path=\"url(#clip5502)\" style=\"stroke:#000000; stroke-width:4; stroke-opacity:1; fill:none\" points=\"\n  942.168,515.747 942.168,1446.71 976.741,1446.71 976.741,515.747 942.168,515.747 \n  \"/>\n<path clip-path=\"url(#clip5502)\" d=\"\nM976.741 344.65 L976.741 1446.71 L1011.31 1446.71 L1011.31 344.65 L976.741 344.65 L976.741 344.65  Z\n  \" fill=\"#009af9\" fill-rule=\"evenodd\" fill-opacity=\"1\"/>\n<polyline clip-path=\"url(#clip5502)\" style=\"stroke:#000000; stroke-width:4; stroke-opacity:1; fill:none\" points=\"\n  976.741,344.65 976.741,1446.71 1011.31,1446.71 1011.31,344.65 976.741,344.65 \n  \"/>\n<path clip-path=\"url(#clip5502)\" d=\"\nM1011.31 299.36 L1011.31 1446.71 L1045.89 1446.71 L1045.89 299.36 L1011.31 299.36 L1011.31 299.36  Z\n  \" fill=\"#009af9\" fill-rule=\"evenodd\" fill-opacity=\"1\"/>\n<polyline clip-path=\"url(#clip5502)\" style=\"stroke:#000000; stroke-width:4; stroke-opacity:1; fill:none\" points=\"\n  1011.31,299.36 1011.31,1446.71 1045.89,1446.71 1045.89,299.36 1011.31,299.36 \n  \"/>\n<path clip-path=\"url(#clip5502)\" d=\"\nM1045.89 661.682 L1045.89 1446.71 L1080.46 1446.71 L1080.46 661.682 L1045.89 661.682 L1045.89 661.682  Z\n  \" fill=\"#009af9\" fill-rule=\"evenodd\" fill-opacity=\"1\"/>\n<polyline clip-path=\"url(#clip5502)\" style=\"stroke:#000000; stroke-width:4; stroke-opacity:1; fill:none\" points=\"\n  1045.89,661.682 1045.89,1446.71 1080.46,1446.71 1080.46,661.682 1045.89,661.682 \n  \"/>\n<path clip-path=\"url(#clip5502)\" d=\"\nM1080.46 963.617 L1080.46 1446.71 L1115.03 1446.71 L1115.03 963.617 L1080.46 963.617 L1080.46 963.617  Z\n  \" fill=\"#009af9\" fill-rule=\"evenodd\" fill-opacity=\"1\"/>\n<polyline clip-path=\"url(#clip5502)\" style=\"stroke:#000000; stroke-width:4; stroke-opacity:1; fill:none\" points=\"\n  1080.46,963.617 1080.46,1446.71 1115.03,1446.71 1115.03,963.617 1080.46,963.617 \n  \"/>\n<path clip-path=\"url(#clip5502)\" d=\"\nM1115.03 968.65 L1115.03 1446.71 L1149.61 1446.71 L1149.61 968.65 L1115.03 968.65 L1115.03 968.65  Z\n  \" fill=\"#009af9\" fill-rule=\"evenodd\" fill-opacity=\"1\"/>\n<polyline clip-path=\"url(#clip5502)\" style=\"stroke:#000000; stroke-width:4; stroke-opacity:1; fill:none\" points=\"\n  1115.03,968.65 1115.03,1446.71 1149.61,1446.71 1149.61,968.65 1115.03,968.65 \n  \"/>\n<path clip-path=\"url(#clip5502)\" d=\"\nM1149.61 983.746 L1149.61 1446.71 L1184.18 1446.71 L1184.18 983.746 L1149.61 983.746 L1149.61 983.746  Z\n  \" fill=\"#009af9\" fill-rule=\"evenodd\" fill-opacity=\"1\"/>\n<polyline clip-path=\"url(#clip5502)\" style=\"stroke:#000000; stroke-width:4; stroke-opacity:1; fill:none\" points=\"\n  1149.61,983.746 1149.61,1446.71 1184.18,1446.71 1184.18,983.746 1149.61,983.746 \n  \"/>\n<path clip-path=\"url(#clip5502)\" d=\"\nM1184.18 1255.49 L1184.18 1446.71 L1218.75 1446.71 L1218.75 1255.49 L1184.18 1255.49 L1184.18 1255.49  Z\n  \" fill=\"#009af9\" fill-rule=\"evenodd\" fill-opacity=\"1\"/>\n<polyline clip-path=\"url(#clip5502)\" style=\"stroke:#000000; stroke-width:4; stroke-opacity:1; fill:none\" points=\"\n  1184.18,1255.49 1184.18,1446.71 1218.75,1446.71 1218.75,1255.49 1184.18,1255.49 \n  \"/>\n<path clip-path=\"url(#clip5502)\" d=\"\nM1218.75 1225.29 L1218.75 1446.71 L1253.33 1446.71 L1253.33 1225.29 L1218.75 1225.29 L1218.75 1225.29  Z\n  \" fill=\"#009af9\" fill-rule=\"evenodd\" fill-opacity=\"1\"/>\n<polyline clip-path=\"url(#clip5502)\" style=\"stroke:#000000; stroke-width:4; stroke-opacity:1; fill:none\" points=\"\n  1218.75,1225.29 1218.75,1446.71 1253.33,1446.71 1253.33,1225.29 1218.75,1225.29 \n  \"/>\n<path clip-path=\"url(#clip5502)\" d=\"\nM1253.33 1356.13 L1253.33 1446.71 L1287.9 1446.71 L1287.9 1356.13 L1253.33 1356.13 L1253.33 1356.13  Z\n  \" fill=\"#009af9\" fill-rule=\"evenodd\" fill-opacity=\"1\"/>\n<polyline clip-path=\"url(#clip5502)\" style=\"stroke:#000000; stroke-width:4; stroke-opacity:1; fill:none\" points=\"\n  1253.33,1356.13 1253.33,1446.71 1287.9,1446.71 1287.9,1356.13 1253.33,1356.13 \n  \"/>\n<path clip-path=\"url(#clip5502)\" d=\"\nM1287.9 1376.26 L1287.9 1446.71 L1322.47 1446.71 L1322.47 1376.26 L1287.9 1376.26 L1287.9 1376.26  Z\n  \" fill=\"#009af9\" fill-rule=\"evenodd\" fill-opacity=\"1\"/>\n<polyline clip-path=\"url(#clip5502)\" style=\"stroke:#000000; stroke-width:4; stroke-opacity:1; fill:none\" points=\"\n  1287.9,1376.26 1287.9,1446.71 1322.47,1446.71 1322.47,1376.26 1287.9,1376.26 \n  \"/>\n<path clip-path=\"url(#clip5502)\" d=\"\nM1322.47 1391.36 L1322.47 1446.71 L1357.05 1446.71 L1357.05 1391.36 L1322.47 1391.36 L1322.47 1391.36  Z\n  \" fill=\"#009af9\" fill-rule=\"evenodd\" fill-opacity=\"1\"/>\n<polyline clip-path=\"url(#clip5502)\" style=\"stroke:#000000; stroke-width:4; stroke-opacity:1; fill:none\" points=\"\n  1322.47,1391.36 1322.47,1446.71 1357.05,1446.71 1357.05,1391.36 1322.47,1391.36 \n  \"/>\n<path clip-path=\"url(#clip5502)\" d=\"\nM1357.05 1406.46 L1357.05 1446.71 L1391.62 1446.71 L1391.62 1406.46 L1357.05 1406.46 L1357.05 1406.46  Z\n  \" fill=\"#009af9\" fill-rule=\"evenodd\" fill-opacity=\"1\"/>\n<polyline clip-path=\"url(#clip5502)\" style=\"stroke:#000000; stroke-width:4; stroke-opacity:1; fill:none\" points=\"\n  1357.05,1406.46 1357.05,1446.71 1391.62,1446.71 1391.62,1406.46 1357.05,1406.46 \n  \"/>\n<path clip-path=\"url(#clip5502)\" d=\"\nM1391.62 1416.52 L1391.62 1446.71 L1426.19 1446.71 L1426.19 1416.52 L1391.62 1416.52 L1391.62 1416.52  Z\n  \" fill=\"#009af9\" fill-rule=\"evenodd\" fill-opacity=\"1\"/>\n<polyline clip-path=\"url(#clip5502)\" style=\"stroke:#000000; stroke-width:4; stroke-opacity:1; fill:none\" points=\"\n  1391.62,1416.52 1391.62,1446.71 1426.19,1446.71 1426.19,1416.52 1391.62,1416.52 \n  \"/>\n<path clip-path=\"url(#clip5502)\" d=\"\nM1426.19 1426.58 L1426.19 1446.71 L1460.77 1446.71 L1460.77 1426.58 L1426.19 1426.58 L1426.19 1426.58  Z\n  \" fill=\"#009af9\" fill-rule=\"evenodd\" fill-opacity=\"1\"/>\n<polyline clip-path=\"url(#clip5502)\" style=\"stroke:#000000; stroke-width:4; stroke-opacity:1; fill:none\" points=\"\n  1426.19,1426.58 1426.19,1446.71 1460.77,1446.71 1460.77,1426.58 1426.19,1426.58 \n  \"/>\n<path clip-path=\"url(#clip5502)\" d=\"\nM1460.77 1441.68 L1460.77 1446.71 L1495.34 1446.71 L1495.34 1441.68 L1460.77 1441.68 L1460.77 1441.68  Z\n  \" fill=\"#009af9\" fill-rule=\"evenodd\" fill-opacity=\"1\"/>\n<polyline clip-path=\"url(#clip5502)\" style=\"stroke:#000000; stroke-width:4; stroke-opacity:1; fill:none\" points=\"\n  1460.77,1441.68 1460.77,1446.71 1495.34,1446.71 1495.34,1441.68 1460.77,1441.68 \n  \"/>\n<path clip-path=\"url(#clip5502)\" d=\"\nM1495.34 1446.71 L1495.34 1446.71 L1529.91 1446.71 L1529.91 1446.71 L1495.34 1446.71 L1495.34 1446.71  Z\n  \" fill=\"#009af9\" fill-rule=\"evenodd\" fill-opacity=\"1\"/>\n<polyline clip-path=\"url(#clip5502)\" style=\"stroke:#000000; stroke-width:4; stroke-opacity:1; fill:none\" points=\"\n  1495.34,1446.71 1495.34,1446.71 1529.91,1446.71 1495.34,1446.71 \n  \"/>\n<path clip-path=\"url(#clip5502)\" d=\"\nM1529.91 1446.71 L1529.91 1446.71 L1564.49 1446.71 L1564.49 1446.71 L1529.91 1446.71 L1529.91 1446.71  Z\n  \" fill=\"#009af9\" fill-rule=\"evenodd\" fill-opacity=\"1\"/>\n<polyline clip-path=\"url(#clip5502)\" style=\"stroke:#000000; stroke-width:4; stroke-opacity:1; fill:none\" points=\"\n  1529.91,1446.71 1529.91,1446.71 1564.49,1446.71 1529.91,1446.71 \n  \"/>\n<path clip-path=\"url(#clip5502)\" d=\"\nM1564.49 1446.71 L1564.49 1446.71 L1599.06 1446.71 L1599.06 1446.71 L1564.49 1446.71 L1564.49 1446.71  Z\n  \" fill=\"#009af9\" fill-rule=\"evenodd\" fill-opacity=\"1\"/>\n<polyline clip-path=\"url(#clip5502)\" style=\"stroke:#000000; stroke-width:4; stroke-opacity:1; fill:none\" points=\"\n  1564.49,1446.71 1564.49,1446.71 1599.06,1446.71 1564.49,1446.71 \n  \"/>\n<path clip-path=\"url(#clip5502)\" d=\"\nM1599.06 1441.68 L1599.06 1446.71 L1633.63 1446.71 L1633.63 1441.68 L1599.06 1441.68 L1599.06 1441.68  Z\n  \" fill=\"#009af9\" fill-rule=\"evenodd\" fill-opacity=\"1\"/>\n<polyline clip-path=\"url(#clip5502)\" style=\"stroke:#000000; stroke-width:4; stroke-opacity:1; fill:none\" points=\"\n  1599.06,1441.68 1599.06,1446.71 1633.63,1446.71 1633.63,1441.68 1599.06,1441.68 \n  \"/>\n<path clip-path=\"url(#clip5502)\" d=\"\nM1633.63 1446.71 L1633.63 1446.71 L1668.21 1446.71 L1668.21 1446.71 L1633.63 1446.71 L1633.63 1446.71  Z\n  \" fill=\"#009af9\" fill-rule=\"evenodd\" fill-opacity=\"1\"/>\n<polyline clip-path=\"url(#clip5502)\" style=\"stroke:#000000; stroke-width:4; stroke-opacity:1; fill:none\" points=\"\n  1633.63,1446.71 1633.63,1446.71 1668.21,1446.71 1633.63,1446.71 \n  \"/>\n<polyline clip-path=\"url(#clip5502)\" style=\"stroke:#ff0000; stroke-width:12; stroke-opacity:1; fill:none\" points=\"\n  216.13,1446.71 233.416,1446.71 250.703,1446.71 267.99,1446.71 285.276,1446.71 302.563,1446.7 319.85,1446.69 337.136,1446.66 354.423,1446.61 371.709,1446.52 \n  388.996,1446.36 406.283,1446.08 423.569,1445.63 440.856,1444.89 458.142,1443.71 475.429,1441.9 492.716,1439.16 510.002,1435.13 527.289,1429.35 544.576,1421.24 \n  561.862,1410.13 579.149,1395.26 596.435,1375.82 613.722,1350.96 631.009,1319.9 648.295,1281.96 665.582,1236.63 682.869,1183.69 700.155,1123.25 717.442,1055.82 \n  734.728,982.329 752.015,904.142 769.302,823.022 786.588,741.066 803.875,660.611 821.161,584.116 838.448,514.02 855.735,452.612 873.021,401.896 890.308,363.482 \n  907.595,338.498 924.881,327.544 942.168,330.674 959.454,347.416 976.741,376.824 994.028,417.552 1011.31,467.951 1028.6,526.168 1045.89,590.25 1063.17,658.243 \n  1080.46,728.278 1097.75,798.638 1115.03,867.812 1132.32,934.527 1149.61,997.769 1166.89,1056.78 1184.18,1111.03 1201.47,1160.25 1218.75,1204.32 1236.04,1243.32 \n  1253.33,1277.43 1270.61,1306.93 1287.9,1332.2 1305.19,1353.61 1322.47,1371.59 1339.76,1386.54 1357.05,1398.86 1374.33,1408.92 1391.62,1417.08 1408.91,1423.64 \n  1426.19,1428.86 1443.48,1432.99 1460.77,1436.24 1478.05,1438.76 1495.34,1440.72 1512.63,1442.22 1529.91,1443.37 1547.2,1444.24 1564.49,1444.89 1581.77,1445.38 \n  1599.06,1445.74 1616.35,1446.01 1633.63,1446.21 1650.92,1446.35 1668.21,1446.46 1685.49,1446.53 1702.78,1446.59 1720.07,1446.62 1737.35,1446.65 1754.64,1446.67 \n  1771.93,1446.68 1789.21,1446.69 1806.5,1446.7 1823.79,1446.7 1841.07,1446.71 1858.36,1446.71 1875.65,1446.71 1892.93,1446.71 1910.22,1446.71 1927.51,1446.71 \n  1944.79,1446.71 1962.08,1446.71 1979.36,1446.71 1996.65,1446.71 2013.94,1446.71 2031.22,1446.71 2048.51,1446.71 2065.8,1446.71 2083.08,1446.71 2100.37,1446.71 \n  2117.66,1446.71 2134.94,1446.71 2152.23,1446.71 2169.52,1446.71 2186.8,1446.71 2204.09,1446.71 2221.38,1446.71 2238.66,1446.71 2255.95,1446.71 2273.24,1446.71 \n  2290.52,1446.71 \n  \"/>\n<path clip-path=\"url(#clip5500)\" d=\"\nM1596.77 312.204 L2280.76 312.204 L2280.76 130.764 L1596.77 130.764  Z\n  \" fill=\"#ffffff\" fill-rule=\"evenodd\" fill-opacity=\"1\"/>\n<polyline clip-path=\"url(#clip5500)\" style=\"stroke:#000000; stroke-width:4; stroke-opacity:1; fill:none\" points=\"\n  1596.77,312.204 2280.76,312.204 2280.76,130.764 1596.77,130.764 1596.77,312.204 \n  \"/>\n<path clip-path=\"url(#clip5500)\" d=\"\nM1620.77 215.436 L1764.77 215.436 L1764.77 167.052 L1620.77 167.052 L1620.77 215.436  Z\n  \" fill=\"#009af9\" fill-rule=\"evenodd\" fill-opacity=\"1\"/>\n<polyline clip-path=\"url(#clip5500)\" style=\"stroke:#000000; stroke-width:4; stroke-opacity:1; fill:none\" points=\"\n  1620.77,215.436 1764.77,215.436 1764.77,167.052 1620.77,167.052 1620.77,215.436 \n  \"/>\n<g clip-path=\"url(#clip5500)\">\n<text style=\"fill:#000000; fill-opacity:1; font-family:Arial,Helvetica Neue,Helvetica,sans-serif; font-size:48px; text-anchor:start;\" transform=\"rotate(0, 1788.77, 208.744)\" x=\"1788.77\" y=\"208.744\">Empirical distribution</text>\n</g>\n<polyline clip-path=\"url(#clip5500)\" style=\"stroke:#ff0000; stroke-width:12; stroke-opacity:1; fill:none\" points=\"\n  1620.77,251.724 1764.77,251.724 \n  \"/>\n<g clip-path=\"url(#clip5500)\">\n<text style=\"fill:#000000; fill-opacity:1; font-family:Arial,Helvetica Neue,Helvetica,sans-serif; font-size:48px; text-anchor:start;\" transform=\"rotate(0, 1788.77, 269.224)\" x=\"1788.77\" y=\"269.224\">Tracy-Widom PDF</text>\n</g>\n</svg>\n"
               },
               "type": "node"
              }
             ],
             "instanceArgs": {
              "namespace": "html",
              "tag": "div"
             },
             "nodeType": "DOM",
             "props": {
              "className": "interact-flex-row interact-widget"
             },
             "type": "node"
            }
           }
          },
          "systemjs_options": null
         },
         "nodeType": "Scope",
         "props": {},
         "type": "node"
        }
       ],
       "instanceArgs": {
        "namespace": "html",
        "tag": "div"
       },
       "nodeType": "DOM",
       "props": {},
       "type": "node"
      },
      "text/html": [
       "<div\n",
       "    class=\"webio-mountpoint\"\n",
       "    data-webio-mountpoint=\"11619084340553942623\"\n",
       ">\n",
       "    <script>\n",
       "    if (window.require && require.defined && require.defined(\"nbextensions/webio-jupyter-notebook\")) {\n",
       "        console.log(\"Jupyter WebIO extension detected, not mounting.\");\n",
       "    } else if (window.WebIO) {\n",
       "        WebIO.mount(\n",
       "            document.querySelector('[data-webio-mountpoint=\"11619084340553942623\"]'),\n",
       "            {\"props\":{},\"nodeType\":\"DOM\",\"type\":\"node\",\"instanceArgs\":{\"namespace\":\"html\",\"tag\":\"div\"},\"children\":[{\"props\":{\"className\":\"field interact-widget\"},\"nodeType\":\"DOM\",\"type\":\"node\",\"instanceArgs\":{\"namespace\":\"html\",\"tag\":\"div\"},\"children\":[{\"props\":{},\"nodeType\":\"Scope\",\"type\":\"node\",\"instanceArgs\":{\"imports\":{\"data\":[{\"name\":\"knockout\",\"type\":\"js\",\"url\":\"\\/assetserver\\/254160226b58162a42111ea27214076747de1cf2-knockout.js\"},{\"name\":\"knockout_punches\",\"type\":\"js\",\"url\":\"\\/assetserver\\/2d0bf510fb683322318163f3ec7562806e4b1104-knockout_punches.js\"},{\"name\":null,\"type\":\"js\",\"url\":\"\\/assetserver\\/6ffcdda43c684da84d2ca5dd2027e4a55c68edac-all.js\"},{\"name\":null,\"type\":\"css\",\"url\":\"\\/assetserver\\/b0b44adaed1197b8510174b41f32f09d98a0c28e-style.css\"},{\"name\":null,\"type\":\"css\",\"url\":\"\\/assetserver\\/bbb2e3064bd5f6dfcf2f18fbeb52d9320f251632-bulma_confined.min.css\"}],\"type\":\"async_block\"},\"id\":\"9167796748278594611\",\"handlers\":{\"changes\":[\"(function (val){return (val!=this.model[\\\"changes\\\"]()) ? (this.valueFromJulia[\\\"changes\\\"]=true, this.model[\\\"changes\\\"](val)) : undefined})\"],\"index\":[\"(function (val){return (val!=this.model[\\\"index\\\"]()) ? (this.valueFromJulia[\\\"index\\\"]=true, this.model[\\\"index\\\"](val)) : undefined})\"]},\"systemjs_options\":null,\"mount_callbacks\":[\"function () {\\n    var handler = (function (ko, koPunches) {\\n    ko.punches.enableAll();\\n    ko.bindingHandlers.numericValue = {\\n        init: function(element, valueAccessor, allBindings, data, context) {\\n            var stringified = ko.observable(ko.unwrap(valueAccessor()));\\n            stringified.subscribe(function(value) {\\n                var val = parseFloat(value);\\n                if (!isNaN(val)) {\\n                    valueAccessor()(val);\\n                }\\n            });\\n            valueAccessor().subscribe(function(value) {\\n                var str = JSON.stringify(value);\\n                if ((str == \\\"0\\\") && ([\\\"-0\\\", \\\"-0.\\\"].indexOf(stringified()) >= 0))\\n                     return;\\n                 if ([\\\"null\\\", \\\"\\\"].indexOf(str) >= 0)\\n                     return;\\n                stringified(str);\\n            });\\n            ko.applyBindingsToNode(\\n                element,\\n                {\\n                    value: stringified,\\n                    valueUpdate: allBindings.get('valueUpdate'),\\n                },\\n                context,\\n            );\\n        }\\n    };\\n    var json_data = {\\\"formatted_vals\\\":[\\\"100\\\",\\\"200\\\",\\\"300\\\",\\\"400\\\",\\\"500\\\",\\\"600\\\",\\\"700\\\",\\\"800\\\",\\\"900\\\",\\\"1000\\\",\\\"1100\\\",\\\"1200\\\",\\\"1300\\\",\\\"1400\\\",\\\"1500\\\",\\\"1600\\\",\\\"1700\\\",\\\"1800\\\",\\\"1900\\\",\\\"2000\\\",\\\"2100\\\",\\\"2200\\\",\\\"2300\\\",\\\"2400\\\",\\\"2500\\\",\\\"2600\\\",\\\"2700\\\",\\\"2800\\\",\\\"2900\\\",\\\"3000\\\",\\\"3100\\\",\\\"3200\\\",\\\"3300\\\",\\\"3400\\\",\\\"3500\\\",\\\"3600\\\",\\\"3700\\\",\\\"3800\\\",\\\"3900\\\",\\\"4000\\\",\\\"4100\\\",\\\"4200\\\",\\\"4300\\\",\\\"4400\\\",\\\"4500\\\",\\\"4600\\\",\\\"4700\\\",\\\"4800\\\",\\\"4900\\\",\\\"5000\\\"],\\\"changes\\\":WebIO.getval({\\\"name\\\":\\\"changes\\\",\\\"scope\\\":\\\"9167796748278594611\\\",\\\"id\\\":\\\"ob_65\\\",\\\"type\\\":\\\"observable\\\"}),\\\"index\\\":WebIO.getval({\\\"name\\\":\\\"index\\\",\\\"scope\\\":\\\"9167796748278594611\\\",\\\"id\\\":\\\"ob_64\\\",\\\"type\\\":\\\"observable\\\"})};\\n    var self = this;\\n    function AppViewModel() {\\n        for (var key in json_data) {\\n            var el = json_data[key];\\n            this[key] = Array.isArray(el) ? ko.observableArray(el) : ko.observable(el);\\n        }\\n        \\n        [this[\\\"formatted_val\\\"]=ko.computed(    function(){\\n        return this.formatted_vals()[parseInt(this.index())-(1)];\\n    }\\n,this)]\\n        [this[\\\"changes\\\"].subscribe((function (val){!(this.valueFromJulia[\\\"changes\\\"]) ? (WebIO.setval({\\\"name\\\":\\\"changes\\\",\\\"scope\\\":\\\"9167796748278594611\\\",\\\"id\\\":\\\"ob_65\\\",\\\"type\\\":\\\"observable\\\"},val)) : undefined; return this.valueFromJulia[\\\"changes\\\"]=false}),self),this[\\\"index\\\"].subscribe((function (val){!(this.valueFromJulia[\\\"index\\\"]) ? (WebIO.setval({\\\"name\\\":\\\"index\\\",\\\"scope\\\":\\\"9167796748278594611\\\",\\\"id\\\":\\\"ob_64\\\",\\\"type\\\":\\\"observable\\\"},val)) : undefined; return this.valueFromJulia[\\\"index\\\"]=false}),self)]\\n        \\n    }\\n    self.model = new AppViewModel();\\n    self.valueFromJulia = {};\\n    for (var key in json_data) {\\n        self.valueFromJulia[key] = false;\\n    }\\n    ko.applyBindings(self.model, self.dom);\\n}\\n);\\n    (WebIO.importBlock({\\\"data\\\":[{\\\"name\\\":\\\"knockout\\\",\\\"type\\\":\\\"js\\\",\\\"url\\\":\\\"\\/assetserver\\/254160226b58162a42111ea27214076747de1cf2-knockout.js\\\"},{\\\"name\\\":\\\"knockout_punches\\\",\\\"type\\\":\\\"js\\\",\\\"url\\\":\\\"\\/assetserver\\/2d0bf510fb683322318163f3ec7562806e4b1104-knockout_punches.js\\\"}],\\\"type\\\":\\\"async_block\\\"})).then((imports) => handler.apply(this, imports));\\n}\\n\"],\"observables\":{\"changes\":{\"sync\":false,\"id\":\"ob_65\",\"value\":0},\"index\":{\"sync\":true,\"id\":\"ob_64\",\"value\":25}}},\"children\":[{\"props\":{\"className\":\"interact-flex-row interact-widget\"},\"nodeType\":\"DOM\",\"type\":\"node\",\"instanceArgs\":{\"namespace\":\"html\",\"tag\":\"div\"},\"children\":[{\"props\":{\"className\":\"interact-flex-row-left\"},\"nodeType\":\"DOM\",\"type\":\"node\",\"instanceArgs\":{\"namespace\":\"html\",\"tag\":\"div\"},\"children\":[{\"props\":{\"className\":\"interact \",\"style\":{\"padding\":\"5px 10px 0px 10px\"}},\"nodeType\":\"DOM\",\"type\":\"node\",\"instanceArgs\":{\"namespace\":\"html\",\"tag\":\"label\"},\"children\":[\"nb_samples\"]}]},{\"props\":{\"className\":\"interact-flex-row-center\"},\"nodeType\":\"DOM\",\"type\":\"node\",\"instanceArgs\":{\"namespace\":\"html\",\"tag\":\"div\"},\"children\":[{\"props\":{\"max\":50,\"min\":1,\"attributes\":{\"type\":\"range\",\"data-bind\":\"numericValue: index, valueUpdate: 'input', event: {change: function (){this.changes(this.changes()+1)}}\",\"orient\":\"horizontal\"},\"step\":1,\"className\":\"slider slider is-fullwidth\",\"style\":{}},\"nodeType\":\"DOM\",\"type\":\"node\",\"instanceArgs\":{\"namespace\":\"html\",\"tag\":\"input\"},\"children\":[]}]},{\"props\":{\"className\":\"interact-flex-row-right\"},\"nodeType\":\"DOM\",\"type\":\"node\",\"instanceArgs\":{\"namespace\":\"html\",\"tag\":\"div\"},\"children\":[{\"props\":{\"attributes\":{\"data-bind\":\"text: formatted_val\"}},\"nodeType\":\"DOM\",\"type\":\"node\",\"instanceArgs\":{\"namespace\":\"html\",\"tag\":\"p\"},\"children\":[]}]}]}]}]},{\"props\":{\"className\":\"field interact-widget\"},\"nodeType\":\"DOM\",\"type\":\"node\",\"instanceArgs\":{\"namespace\":\"html\",\"tag\":\"div\"},\"children\":[{\"props\":{},\"nodeType\":\"Scope\",\"type\":\"node\",\"instanceArgs\":{\"imports\":{\"data\":[{\"name\":\"knockout\",\"type\":\"js\",\"url\":\"\\/assetserver\\/254160226b58162a42111ea27214076747de1cf2-knockout.js\"},{\"name\":\"knockout_punches\",\"type\":\"js\",\"url\":\"\\/assetserver\\/2d0bf510fb683322318163f3ec7562806e4b1104-knockout_punches.js\"},{\"name\":null,\"type\":\"js\",\"url\":\"\\/assetserver\\/6ffcdda43c684da84d2ca5dd2027e4a55c68edac-all.js\"},{\"name\":null,\"type\":\"css\",\"url\":\"\\/assetserver\\/b0b44adaed1197b8510174b41f32f09d98a0c28e-style.css\"},{\"name\":null,\"type\":\"css\",\"url\":\"\\/assetserver\\/bbb2e3064bd5f6dfcf2f18fbeb52d9320f251632-bulma_confined.min.css\"}],\"type\":\"async_block\"},\"id\":\"16651632120917084719\",\"handlers\":{\"changes\":[\"(function (val){return (val!=this.model[\\\"changes\\\"]()) ? (this.valueFromJulia[\\\"changes\\\"]=true, this.model[\\\"changes\\\"](val)) : undefined})\"],\"index\":[\"(function (val){return (val!=this.model[\\\"index\\\"]()) ? (this.valueFromJulia[\\\"index\\\"]=true, this.model[\\\"index\\\"](val)) : undefined})\"]},\"systemjs_options\":null,\"mount_callbacks\":[\"function () {\\n    var handler = (function (ko, koPunches) {\\n    ko.punches.enableAll();\\n    ko.bindingHandlers.numericValue = {\\n        init: function(element, valueAccessor, allBindings, data, context) {\\n            var stringified = ko.observable(ko.unwrap(valueAccessor()));\\n            stringified.subscribe(function(value) {\\n                var val = parseFloat(value);\\n                if (!isNaN(val)) {\\n                    valueAccessor()(val);\\n                }\\n            });\\n            valueAccessor().subscribe(function(value) {\\n                var str = JSON.stringify(value);\\n                if ((str == \\\"0\\\") && ([\\\"-0\\\", \\\"-0.\\\"].indexOf(stringified()) >= 0))\\n                     return;\\n                 if ([\\\"null\\\", \\\"\\\"].indexOf(str) >= 0)\\n                     return;\\n                stringified(str);\\n            });\\n            ko.applyBindingsToNode(\\n                element,\\n                {\\n                    value: stringified,\\n                    valueUpdate: allBindings.get('valueUpdate'),\\n                },\\n                context,\\n            );\\n        }\\n    };\\n    var json_data = {\\\"formatted_vals\\\":[\\\"10\\\",\\\"20\\\",\\\"30\\\",\\\"40\\\",\\\"50\\\",\\\"60\\\",\\\"70\\\",\\\"80\\\",\\\"90\\\",\\\"100\\\"],\\\"changes\\\":WebIO.getval({\\\"name\\\":\\\"changes\\\",\\\"scope\\\":\\\"16651632120917084719\\\",\\\"id\\\":\\\"ob_68\\\",\\\"type\\\":\\\"observable\\\"}),\\\"index\\\":WebIO.getval({\\\"name\\\":\\\"index\\\",\\\"scope\\\":\\\"16651632120917084719\\\",\\\"id\\\":\\\"ob_67\\\",\\\"type\\\":\\\"observable\\\"})};\\n    var self = this;\\n    function AppViewModel() {\\n        for (var key in json_data) {\\n            var el = json_data[key];\\n            this[key] = Array.isArray(el) ? ko.observableArray(el) : ko.observable(el);\\n        }\\n        \\n        [this[\\\"formatted_val\\\"]=ko.computed(    function(){\\n        return this.formatted_vals()[parseInt(this.index())-(1)];\\n    }\\n,this)]\\n        [this[\\\"changes\\\"].subscribe((function (val){!(this.valueFromJulia[\\\"changes\\\"]) ? (WebIO.setval({\\\"name\\\":\\\"changes\\\",\\\"scope\\\":\\\"16651632120917084719\\\",\\\"id\\\":\\\"ob_68\\\",\\\"type\\\":\\\"observable\\\"},val)) : undefined; return this.valueFromJulia[\\\"changes\\\"]=false}),self),this[\\\"index\\\"].subscribe((function (val){!(this.valueFromJulia[\\\"index\\\"]) ? (WebIO.setval({\\\"name\\\":\\\"index\\\",\\\"scope\\\":\\\"16651632120917084719\\\",\\\"id\\\":\\\"ob_67\\\",\\\"type\\\":\\\"observable\\\"},val)) : undefined; return this.valueFromJulia[\\\"index\\\"]=false}),self)]\\n        \\n    }\\n    self.model = new AppViewModel();\\n    self.valueFromJulia = {};\\n    for (var key in json_data) {\\n        self.valueFromJulia[key] = false;\\n    }\\n    ko.applyBindings(self.model, self.dom);\\n}\\n);\\n    (WebIO.importBlock({\\\"data\\\":[{\\\"name\\\":\\\"knockout\\\",\\\"type\\\":\\\"js\\\",\\\"url\\\":\\\"\\/assetserver\\/254160226b58162a42111ea27214076747de1cf2-knockout.js\\\"},{\\\"name\\\":\\\"knockout_punches\\\",\\\"type\\\":\\\"js\\\",\\\"url\\\":\\\"\\/assetserver\\/2d0bf510fb683322318163f3ec7562806e4b1104-knockout_punches.js\\\"}],\\\"type\\\":\\\"async_block\\\"})).then((imports) => handler.apply(this, imports));\\n}\\n\"],\"observables\":{\"changes\":{\"sync\":false,\"id\":\"ob_68\",\"value\":0},\"index\":{\"sync\":true,\"id\":\"ob_67\",\"value\":5}}},\"children\":[{\"props\":{\"className\":\"interact-flex-row interact-widget\"},\"nodeType\":\"DOM\",\"type\":\"node\",\"instanceArgs\":{\"namespace\":\"html\",\"tag\":\"div\"},\"children\":[{\"props\":{\"className\":\"interact-flex-row-left\"},\"nodeType\":\"DOM\",\"type\":\"node\",\"instanceArgs\":{\"namespace\":\"html\",\"tag\":\"div\"},\"children\":[{\"props\":{\"className\":\"interact \",\"style\":{\"padding\":\"5px 10px 0px 10px\"}},\"nodeType\":\"DOM\",\"type\":\"node\",\"instanceArgs\":{\"namespace\":\"html\",\"tag\":\"label\"},\"children\":[\"N\"]}]},{\"props\":{\"className\":\"interact-flex-row-center\"},\"nodeType\":\"DOM\",\"type\":\"node\",\"instanceArgs\":{\"namespace\":\"html\",\"tag\":\"div\"},\"children\":[{\"props\":{\"max\":10,\"min\":1,\"attributes\":{\"type\":\"range\",\"data-bind\":\"numericValue: index, valueUpdate: 'input', event: {change: function (){this.changes(this.changes()+1)}}\",\"orient\":\"horizontal\"},\"step\":1,\"className\":\"slider slider is-fullwidth\",\"style\":{}},\"nodeType\":\"DOM\",\"type\":\"node\",\"instanceArgs\":{\"namespace\":\"html\",\"tag\":\"input\"},\"children\":[]}]},{\"props\":{\"className\":\"interact-flex-row-right\"},\"nodeType\":\"DOM\",\"type\":\"node\",\"instanceArgs\":{\"namespace\":\"html\",\"tag\":\"div\"},\"children\":[{\"props\":{\"attributes\":{\"data-bind\":\"text: formatted_val\"}},\"nodeType\":\"DOM\",\"type\":\"node\",\"instanceArgs\":{\"namespace\":\"html\",\"tag\":\"p\"},\"children\":[]}]}]}]}]},{\"props\":{\"className\":\"interact-widget\"},\"nodeType\":\"DOM\",\"type\":\"node\",\"instanceArgs\":{\"namespace\":\"html\",\"tag\":\"div\"},\"children\":[{\"props\":{},\"nodeType\":\"Scope\",\"type\":\"node\",\"instanceArgs\":{\"imports\":{\"data\":[{\"name\":\"knockout\",\"type\":\"js\",\"url\":\"\\/assetserver\\/254160226b58162a42111ea27214076747de1cf2-knockout.js\"},{\"name\":\"knockout_punches\",\"type\":\"js\",\"url\":\"\\/assetserver\\/2d0bf510fb683322318163f3ec7562806e4b1104-knockout_punches.js\"},{\"name\":null,\"type\":\"js\",\"url\":\"\\/assetserver\\/6ffcdda43c684da84d2ca5dd2027e4a55c68edac-all.js\"},{\"name\":null,\"type\":\"css\",\"url\":\"\\/assetserver\\/b0b44adaed1197b8510174b41f32f09d98a0c28e-style.css\"},{\"name\":null,\"type\":\"css\",\"url\":\"\\/assetserver\\/bbb2e3064bd5f6dfcf2f18fbeb52d9320f251632-bulma_confined.min.css\"}],\"type\":\"async_block\"},\"id\":\"11374158366641008554\",\"handlers\":{\"options_js\":[\"(function (val){return (val!=this.model[\\\"options_js\\\"]()) ? (this.valueFromJulia[\\\"options_js\\\"]=true, this.model[\\\"options_js\\\"](val)) : undefined})\"],\"index\":[\"(function (val){return (val!=this.model[\\\"index\\\"]()) ? (this.valueFromJulia[\\\"index\\\"]=true, this.model[\\\"index\\\"](val)) : undefined})\"]},\"systemjs_options\":null,\"mount_callbacks\":[\"function () {\\n    var handler = (function (ko, koPunches) {\\n    ko.punches.enableAll();\\n    ko.bindingHandlers.numericValue = {\\n        init: function(element, valueAccessor, allBindings, data, context) {\\n            var stringified = ko.observable(ko.unwrap(valueAccessor()));\\n            stringified.subscribe(function(value) {\\n                var val = parseFloat(value);\\n                if (!isNaN(val)) {\\n                    valueAccessor()(val);\\n                }\\n            });\\n            valueAccessor().subscribe(function(value) {\\n                var str = JSON.stringify(value);\\n                if ((str == \\\"0\\\") && ([\\\"-0\\\", \\\"-0.\\\"].indexOf(stringified()) >= 0))\\n                     return;\\n                 if ([\\\"null\\\", \\\"\\\"].indexOf(str) >= 0)\\n                     return;\\n                stringified(str);\\n            });\\n            ko.applyBindingsToNode(\\n                element,\\n                {\\n                    value: stringified,\\n                    valueUpdate: allBindings.get('valueUpdate'),\\n                },\\n                context,\\n            );\\n        }\\n    };\\n    var json_data = {\\\"options_js\\\":WebIO.getval({\\\"name\\\":\\\"options_js\\\",\\\"scope\\\":\\\"11374158366641008554\\\",\\\"id\\\":\\\"ob_73\\\",\\\"type\\\":\\\"observable\\\"}),\\\"index\\\":WebIO.getval({\\\"name\\\":\\\"index\\\",\\\"scope\\\":\\\"11374158366641008554\\\",\\\"id\\\":\\\"ob_72\\\",\\\"type\\\":\\\"observable\\\"})};\\n    var self = this;\\n    function AppViewModel() {\\n        for (var key in json_data) {\\n            var el = json_data[key];\\n            this[key] = Array.isArray(el) ? ko.observableArray(el) : ko.observable(el);\\n        }\\n        [this[\\\"update\\\"]=function (val) {this.index(val)}]\\n        \\n        [this[\\\"options_js\\\"].subscribe((function (val){!(this.valueFromJulia[\\\"options_js\\\"]) ? (WebIO.setval({\\\"name\\\":\\\"options_js\\\",\\\"scope\\\":\\\"11374158366641008554\\\",\\\"id\\\":\\\"ob_73\\\",\\\"type\\\":\\\"observable\\\"},val)) : undefined; return this.valueFromJulia[\\\"options_js\\\"]=false}),self),this[\\\"index\\\"].subscribe((function (val){!(this.valueFromJulia[\\\"index\\\"]) ? (WebIO.setval({\\\"name\\\":\\\"index\\\",\\\"scope\\\":\\\"11374158366641008554\\\",\\\"id\\\":\\\"ob_72\\\",\\\"type\\\":\\\"observable\\\"},val)) : undefined; return this.valueFromJulia[\\\"index\\\"]=false}),self)]\\n        \\n    }\\n    self.model = new AppViewModel();\\n    self.valueFromJulia = {};\\n    for (var key in json_data) {\\n        self.valueFromJulia[key] = false;\\n    }\\n    ko.applyBindings(self.model, self.dom);\\n}\\n);\\n    (WebIO.importBlock({\\\"data\\\":[{\\\"name\\\":\\\"knockout\\\",\\\"type\\\":\\\"js\\\",\\\"url\\\":\\\"\\/assetserver\\/254160226b58162a42111ea27214076747de1cf2-knockout.js\\\"},{\\\"name\\\":\\\"knockout_punches\\\",\\\"type\\\":\\\"js\\\",\\\"url\\\":\\\"\\/assetserver\\/2d0bf510fb683322318163f3ec7562806e4b1104-knockout_punches.js\\\"}],\\\"type\\\":\\\"async_block\\\"})).then((imports) => handler.apply(this, imports));\\n}\\n\"],\"observables\":{\"options_js\":{\"sync\":false,\"id\":\"ob_73\",\"value\":[{\"key\":\"Geometric\",\"val\":1,\"id\":\"id7822Prk3\"},{\"key\":\"Exponential\",\"val\":2,\"id\":\"idTqwPXkE9\"}]},\"index\":{\"sync\":true,\"id\":\"ob_72\",\"value\":1}}},\"children\":[{\"props\":{\"className\":\"interact-flex-row interact-widget\"},\"nodeType\":\"DOM\",\"type\":\"node\",\"instanceArgs\":{\"namespace\":\"html\",\"tag\":\"div\"},\"children\":[{\"props\":{\"className\":\"interact-flex-row-left\"},\"nodeType\":\"DOM\",\"type\":\"node\",\"instanceArgs\":{\"namespace\":\"html\",\"tag\":\"div\"},\"children\":[{\"props\":{\"className\":\"interact \",\"style\":{\"padding\":\"5px 10px 0px 10px\"}},\"nodeType\":\"DOM\",\"type\":\"node\",\"instanceArgs\":{\"namespace\":\"html\",\"tag\":\"label\"},\"children\":[\"law_name\"]}]},{\"props\":{\"className\":\"interact-flex-row-center\"},\"nodeType\":\"DOM\",\"type\":\"node\",\"instanceArgs\":{\"namespace\":\"html\",\"tag\":\"div\"},\"children\":[{\"props\":{\"attributes\":{\"data-bind\":\"foreach : options_js\"},\"className\":\"buttons has-addons is-centered\"},\"nodeType\":\"DOM\",\"type\":\"node\",\"instanceArgs\":{\"namespace\":\"html\",\"tag\":\"div\"},\"children\":[{\"props\":{\"attributes\":{\"data-bind\":\"click: function (){$root.update(val)}, css: {'is-primary is-selected' : $root.index() == val, 'interact-widget is-medium button ' : true}\"}},\"nodeType\":\"DOM\",\"type\":\"node\",\"instanceArgs\":{\"namespace\":\"html\",\"tag\":\"span\"},\"children\":[{\"props\":{\"attributes\":{\"data-bind\":\"text : key\"}},\"nodeType\":\"DOM\",\"type\":\"node\",\"instanceArgs\":{\"namespace\":\"html\",\"tag\":\"label\"},\"children\":[]}]}]}]},{\"props\":{\"className\":\"interact-flex-row-right\"},\"nodeType\":\"DOM\",\"type\":\"node\",\"instanceArgs\":{\"namespace\":\"html\",\"tag\":\"div\"},\"children\":[{\"props\":{},\"nodeType\":\"DOM\",\"type\":\"node\",\"instanceArgs\":{\"namespace\":\"html\",\"tag\":\"div\"},\"children\":[]}]}]}]}]},{\"props\":{\"className\":\"field interact-widget\"},\"nodeType\":\"DOM\",\"type\":\"node\",\"instanceArgs\":{\"namespace\":\"html\",\"tag\":\"div\"},\"children\":[{\"props\":{},\"nodeType\":\"Scope\",\"type\":\"node\",\"instanceArgs\":{\"imports\":{\"data\":[{\"name\":\"knockout\",\"type\":\"js\",\"url\":\"\\/assetserver\\/254160226b58162a42111ea27214076747de1cf2-knockout.js\"},{\"name\":\"knockout_punches\",\"type\":\"js\",\"url\":\"\\/assetserver\\/2d0bf510fb683322318163f3ec7562806e4b1104-knockout_punches.js\"},{\"name\":null,\"type\":\"js\",\"url\":\"\\/assetserver\\/6ffcdda43c684da84d2ca5dd2027e4a55c68edac-all.js\"},{\"name\":null,\"type\":\"css\",\"url\":\"\\/assetserver\\/b0b44adaed1197b8510174b41f32f09d98a0c28e-style.css\"},{\"name\":null,\"type\":\"css\",\"url\":\"\\/assetserver\\/bbb2e3064bd5f6dfcf2f18fbeb52d9320f251632-bulma_confined.min.css\"}],\"type\":\"async_block\"},\"id\":\"8964630653891612638\",\"handlers\":{\"changes\":[\"(function (val){return (val!=this.model[\\\"changes\\\"]()) ? (this.valueFromJulia[\\\"changes\\\"]=true, this.model[\\\"changes\\\"](val)) : undefined})\"],\"index\":[\"(function (val){return (val!=this.model[\\\"index\\\"]()) ? (this.valueFromJulia[\\\"index\\\"]=true, this.model[\\\"index\\\"](val)) : undefined})\"]},\"systemjs_options\":null,\"mount_callbacks\":[\"function () {\\n    var handler = (function (ko, koPunches) {\\n    ko.punches.enableAll();\\n    ko.bindingHandlers.numericValue = {\\n        init: function(element, valueAccessor, allBindings, data, context) {\\n            var stringified = ko.observable(ko.unwrap(valueAccessor()));\\n            stringified.subscribe(function(value) {\\n                var val = parseFloat(value);\\n                if (!isNaN(val)) {\\n                    valueAccessor()(val);\\n                }\\n            });\\n            valueAccessor().subscribe(function(value) {\\n                var str = JSON.stringify(value);\\n                if ((str == \\\"0\\\") && ([\\\"-0\\\", \\\"-0.\\\"].indexOf(stringified()) >= 0))\\n                     return;\\n                 if ([\\\"null\\\", \\\"\\\"].indexOf(str) >= 0)\\n                     return;\\n                stringified(str);\\n            });\\n            ko.applyBindingsToNode(\\n                element,\\n                {\\n                    value: stringified,\\n                    valueUpdate: allBindings.get('valueUpdate'),\\n                },\\n                context,\\n            );\\n        }\\n    };\\n    var json_data = {\\\"formatted_vals\\\":[\\\"0.1\\\",\\\"0.2\\\",\\\"0.3\\\",\\\"0.4\\\",\\\"0.5\\\",\\\"0.6\\\",\\\"0.7\\\",\\\"0.8\\\",\\\"0.9\\\"],\\\"changes\\\":WebIO.getval({\\\"name\\\":\\\"changes\\\",\\\"scope\\\":\\\"8964630653891612638\\\",\\\"id\\\":\\\"ob_76\\\",\\\"type\\\":\\\"observable\\\"}),\\\"index\\\":WebIO.getval({\\\"name\\\":\\\"index\\\",\\\"scope\\\":\\\"8964630653891612638\\\",\\\"id\\\":\\\"ob_75\\\",\\\"type\\\":\\\"observable\\\"})};\\n    var self = this;\\n    function AppViewModel() {\\n        for (var key in json_data) {\\n            var el = json_data[key];\\n            this[key] = Array.isArray(el) ? ko.observableArray(el) : ko.observable(el);\\n        }\\n        \\n        [this[\\\"formatted_val\\\"]=ko.computed(    function(){\\n        return this.formatted_vals()[parseInt(this.index())-(1)];\\n    }\\n,this)]\\n        [this[\\\"changes\\\"].subscribe((function (val){!(this.valueFromJulia[\\\"changes\\\"]) ? (WebIO.setval({\\\"name\\\":\\\"changes\\\",\\\"scope\\\":\\\"8964630653891612638\\\",\\\"id\\\":\\\"ob_76\\\",\\\"type\\\":\\\"observable\\\"},val)) : undefined; return this.valueFromJulia[\\\"changes\\\"]=false}),self),this[\\\"index\\\"].subscribe((function (val){!(this.valueFromJulia[\\\"index\\\"]) ? (WebIO.setval({\\\"name\\\":\\\"index\\\",\\\"scope\\\":\\\"8964630653891612638\\\",\\\"id\\\":\\\"ob_75\\\",\\\"type\\\":\\\"observable\\\"},val)) : undefined; return this.valueFromJulia[\\\"index\\\"]=false}),self)]\\n        \\n    }\\n    self.model = new AppViewModel();\\n    self.valueFromJulia = {};\\n    for (var key in json_data) {\\n        self.valueFromJulia[key] = false;\\n    }\\n    ko.applyBindings(self.model, self.dom);\\n}\\n);\\n    (WebIO.importBlock({\\\"data\\\":[{\\\"name\\\":\\\"knockout\\\",\\\"type\\\":\\\"js\\\",\\\"url\\\":\\\"\\/assetserver\\/254160226b58162a42111ea27214076747de1cf2-knockout.js\\\"},{\\\"name\\\":\\\"knockout_punches\\\",\\\"type\\\":\\\"js\\\",\\\"url\\\":\\\"\\/assetserver\\/2d0bf510fb683322318163f3ec7562806e4b1104-knockout_punches.js\\\"}],\\\"type\\\":\\\"async_block\\\"})).then((imports) => handler.apply(this, imports));\\n}\\n\"],\"observables\":{\"changes\":{\"sync\":false,\"id\":\"ob_76\",\"value\":0},\"index\":{\"sync\":true,\"id\":\"ob_75\",\"value\":5}}},\"children\":[{\"props\":{\"className\":\"interact-flex-row interact-widget\"},\"nodeType\":\"DOM\",\"type\":\"node\",\"instanceArgs\":{\"namespace\":\"html\",\"tag\":\"div\"},\"children\":[{\"props\":{\"className\":\"interact-flex-row-left\"},\"nodeType\":\"DOM\",\"type\":\"node\",\"instanceArgs\":{\"namespace\":\"html\",\"tag\":\"div\"},\"children\":[{\"props\":{\"className\":\"interact \",\"style\":{\"padding\":\"5px 10px 0px 10px\"}},\"nodeType\":\"DOM\",\"type\":\"node\",\"instanceArgs\":{\"namespace\":\"html\",\"tag\":\"label\"},\"children\":[\"q\"]}]},{\"props\":{\"className\":\"interact-flex-row-center\"},\"nodeType\":\"DOM\",\"type\":\"node\",\"instanceArgs\":{\"namespace\":\"html\",\"tag\":\"div\"},\"children\":[{\"props\":{\"max\":9,\"min\":1,\"attributes\":{\"type\":\"range\",\"data-bind\":\"numericValue: index, valueUpdate: 'input', event: {change: function (){this.changes(this.changes()+1)}}\",\"orient\":\"horizontal\"},\"step\":1,\"className\":\"slider slider is-fullwidth\",\"style\":{}},\"nodeType\":\"DOM\",\"type\":\"node\",\"instanceArgs\":{\"namespace\":\"html\",\"tag\":\"input\"},\"children\":[]}]},{\"props\":{\"className\":\"interact-flex-row-right\"},\"nodeType\":\"DOM\",\"type\":\"node\",\"instanceArgs\":{\"namespace\":\"html\",\"tag\":\"div\"},\"children\":[{\"props\":{\"attributes\":{\"data-bind\":\"text: formatted_val\"}},\"nodeType\":\"DOM\",\"type\":\"node\",\"instanceArgs\":{\"namespace\":\"html\",\"tag\":\"p\"},\"children\":[]}]}]}]}]},{\"props\":{\"className\":\"field interact-widget\"},\"nodeType\":\"DOM\",\"type\":\"node\",\"instanceArgs\":{\"namespace\":\"html\",\"tag\":\"div\"},\"children\":[{\"props\":{},\"nodeType\":\"Scope\",\"type\":\"node\",\"instanceArgs\":{\"imports\":{\"data\":[{\"name\":\"knockout\",\"type\":\"js\",\"url\":\"\\/assetserver\\/254160226b58162a42111ea27214076747de1cf2-knockout.js\"},{\"name\":\"knockout_punches\",\"type\":\"js\",\"url\":\"\\/assetserver\\/2d0bf510fb683322318163f3ec7562806e4b1104-knockout_punches.js\"},{\"name\":null,\"type\":\"js\",\"url\":\"\\/assetserver\\/6ffcdda43c684da84d2ca5dd2027e4a55c68edac-all.js\"},{\"name\":null,\"type\":\"css\",\"url\":\"\\/assetserver\\/b0b44adaed1197b8510174b41f32f09d98a0c28e-style.css\"},{\"name\":null,\"type\":\"css\",\"url\":\"\\/assetserver\\/bbb2e3064bd5f6dfcf2f18fbeb52d9320f251632-bulma_confined.min.css\"}],\"type\":\"async_block\"},\"id\":\"13751628643193050039\",\"handlers\":{\"changes\":[\"(function (val){return (val!=this.model[\\\"changes\\\"]()) ? (this.valueFromJulia[\\\"changes\\\"]=true, this.model[\\\"changes\\\"](val)) : undefined})\"],\"index\":[\"(function (val){return (val!=this.model[\\\"index\\\"]()) ? (this.valueFromJulia[\\\"index\\\"]=true, this.model[\\\"index\\\"](val)) : undefined})\"]},\"systemjs_options\":null,\"mount_callbacks\":[\"function () {\\n    var handler = (function (ko, koPunches) {\\n    ko.punches.enableAll();\\n    ko.bindingHandlers.numericValue = {\\n        init: function(element, valueAccessor, allBindings, data, context) {\\n            var stringified = ko.observable(ko.unwrap(valueAccessor()));\\n            stringified.subscribe(function(value) {\\n                var val = parseFloat(value);\\n                if (!isNaN(val)) {\\n                    valueAccessor()(val);\\n                }\\n            });\\n            valueAccessor().subscribe(function(value) {\\n                var str = JSON.stringify(value);\\n                if ((str == \\\"0\\\") && ([\\\"-0\\\", \\\"-0.\\\"].indexOf(stringified()) >= 0))\\n                     return;\\n                 if ([\\\"null\\\", \\\"\\\"].indexOf(str) >= 0)\\n                     return;\\n                stringified(str);\\n            });\\n            ko.applyBindingsToNode(\\n                element,\\n                {\\n                    value: stringified,\\n                    valueUpdate: allBindings.get('valueUpdate'),\\n                },\\n                context,\\n            );\\n        }\\n    };\\n    var json_data = {\\\"formatted_vals\\\":[\\\"1\\\",\\\"2\\\",\\\"3\\\",\\\"4\\\",\\\"5\\\",\\\"6\\\",\\\"7\\\",\\\"8\\\",\\\"9\\\",\\\"10\\\"],\\\"changes\\\":WebIO.getval({\\\"name\\\":\\\"changes\\\",\\\"scope\\\":\\\"13751628643193050039\\\",\\\"id\\\":\\\"ob_78\\\",\\\"type\\\":\\\"observable\\\"}),\\\"index\\\":WebIO.getval({\\\"name\\\":\\\"index\\\",\\\"scope\\\":\\\"13751628643193050039\\\",\\\"id\\\":\\\"ob_77\\\",\\\"type\\\":\\\"observable\\\"})};\\n    var self = this;\\n    function AppViewModel() {\\n        for (var key in json_data) {\\n            var el = json_data[key];\\n            this[key] = Array.isArray(el) ? ko.observableArray(el) : ko.observable(el);\\n        }\\n        \\n        [this[\\\"formatted_val\\\"]=ko.computed(    function(){\\n        return this.formatted_vals()[parseInt(this.index())-(1)];\\n    }\\n,this)]\\n        [this[\\\"changes\\\"].subscribe((function (val){!(this.valueFromJulia[\\\"changes\\\"]) ? (WebIO.setval({\\\"name\\\":\\\"changes\\\",\\\"scope\\\":\\\"13751628643193050039\\\",\\\"id\\\":\\\"ob_78\\\",\\\"type\\\":\\\"observable\\\"},val)) : undefined; return this.valueFromJulia[\\\"changes\\\"]=false}),self),this[\\\"index\\\"].subscribe((function (val){!(this.valueFromJulia[\\\"index\\\"]) ? (WebIO.setval({\\\"name\\\":\\\"index\\\",\\\"scope\\\":\\\"13751628643193050039\\\",\\\"id\\\":\\\"ob_77\\\",\\\"type\\\":\\\"observable\\\"},val)) : undefined; return this.valueFromJulia[\\\"index\\\"]=false}),self)]\\n        \\n    }\\n    self.model = new AppViewModel();\\n    self.valueFromJulia = {};\\n    for (var key in json_data) {\\n        self.valueFromJulia[key] = false;\\n    }\\n    ko.applyBindings(self.model, self.dom);\\n}\\n);\\n    (WebIO.importBlock({\\\"data\\\":[{\\\"name\\\":\\\"knockout\\\",\\\"type\\\":\\\"js\\\",\\\"url\\\":\\\"\\/assetserver\\/254160226b58162a42111ea27214076747de1cf2-knockout.js\\\"},{\\\"name\\\":\\\"knockout_punches\\\",\\\"type\\\":\\\"js\\\",\\\"url\\\":\\\"\\/assetserver\\/2d0bf510fb683322318163f3ec7562806e4b1104-knockout_punches.js\\\"}],\\\"type\\\":\\\"async_block\\\"})).then((imports) => handler.apply(this, imports));\\n}\\n\"],\"observables\":{\"changes\":{\"sync\":false,\"id\":\"ob_78\",\"value\":0},\"index\":{\"sync\":true,\"id\":\"ob_77\",\"value\":5}}},\"children\":[{\"props\":{\"className\":\"interact-flex-row interact-widget\"},\"nodeType\":\"DOM\",\"type\":\"node\",\"instanceArgs\":{\"namespace\":\"html\",\"tag\":\"div\"},\"children\":[{\"props\":{\"className\":\"interact-flex-row-left\"},\"nodeType\":\"DOM\",\"type\":\"node\",\"instanceArgs\":{\"namespace\":\"html\",\"tag\":\"div\"},\"children\":[{\"props\":{\"className\":\"interact \",\"style\":{\"padding\":\"5px 10px 0px 10px\"}},\"nodeType\":\"DOM\",\"type\":\"node\",\"instanceArgs\":{\"namespace\":\"html\",\"tag\":\"label\"},\"children\":[\"λ\"]}]},{\"props\":{\"className\":\"interact-flex-row-center\"},\"nodeType\":\"DOM\",\"type\":\"node\",\"instanceArgs\":{\"namespace\":\"html\",\"tag\":\"div\"},\"children\":[{\"props\":{\"max\":10,\"min\":1,\"attributes\":{\"type\":\"range\",\"data-bind\":\"numericValue: index, valueUpdate: 'input', event: {change: function (){this.changes(this.changes()+1)}}\",\"orient\":\"horizontal\"},\"step\":1,\"className\":\"slider slider is-fullwidth\",\"style\":{}},\"nodeType\":\"DOM\",\"type\":\"node\",\"instanceArgs\":{\"namespace\":\"html\",\"tag\":\"input\"},\"children\":[]}]},{\"props\":{\"className\":\"interact-flex-row-right\"},\"nodeType\":\"DOM\",\"type\":\"node\",\"instanceArgs\":{\"namespace\":\"html\",\"tag\":\"div\"},\"children\":[{\"props\":{\"attributes\":{\"data-bind\":\"text: formatted_val\"}},\"nodeType\":\"DOM\",\"type\":\"node\",\"instanceArgs\":{\"namespace\":\"html\",\"tag\":\"p\"},\"children\":[]}]}]}]}]},{\"props\":{},\"nodeType\":\"Scope\",\"type\":\"node\",\"instanceArgs\":{\"imports\":{\"data\":[],\"type\":\"async_block\"},\"id\":\"16749911634935143844\",\"handlers\":{},\"systemjs_options\":null,\"mount_callbacks\":[],\"observables\":{\"obs-node\":{\"sync\":false,\"id\":\"ob_82\",\"value\":{\"props\":{\"className\":\"interact-flex-row interact-widget\"},\"nodeType\":\"DOM\",\"type\":\"node\",\"instanceArgs\":{\"namespace\":\"html\",\"tag\":\"div\"},\"children\":[{\"props\":{\"setInnerHtml\":\"<?xml version=\\\"1.0\\\" encoding=\\\"utf-8\\\"?>\\n<svg xmlns=\\\"http:\\/\\/www.w3.org\\/2000\\/svg\\\" xmlns:xlink=\\\"http:\\/\\/www.w3.org\\/1999\\/xlink\\\" width=\\\"600\\\" height=\\\"400\\\" viewBox=\\\"0 0 2400 1600\\\">\\n<defs>\\n  <clipPath id=\\\"clip5100\\\">\\n    <rect x=\\\"0\\\" y=\\\"0\\\" width=\\\"2400\\\" height=\\\"1600\\\"\\/>\\n  <\\/clipPath>\\n<\\/defs>\\n<path clip-path=\\\"url(#clip5100)\\\" d=\\\"\\nM0 1600 L2400 1600 L2400 0 L0 0  Z\\n  \\\" fill=\\\"#ffffff\\\" fill-rule=\\\"evenodd\\\" fill-opacity=\\\"1\\\"\\/>\\n<defs>\\n  <clipPath id=\\\"clip5101\\\">\\n    <rect x=\\\"480\\\" y=\\\"0\\\" width=\\\"1681\\\" height=\\\"1600\\\"\\/>\\n  <\\/clipPath>\\n<\\/defs>\\n<path clip-path=\\\"url(#clip5100)\\\" d=\\\"\\nM153.898 1487.47 L2352.76 1487.47 L2352.76 47.2441 L153.898 47.2441  Z\\n  \\\" fill=\\\"#ffffff\\\" fill-rule=\\\"evenodd\\\" fill-opacity=\\\"1\\\"\\/>\\n<defs>\\n  <clipPath id=\\\"clip5102\\\">\\n    <rect x=\\\"153\\\" y=\\\"47\\\" width=\\\"2200\\\" height=\\\"1441\\\"\\/>\\n  <\\/clipPath>\\n<\\/defs>\\n<polyline clip-path=\\\"url(#clip5102)\\\" style=\\\"stroke:#000000; stroke-width:2; stroke-opacity:0.1; fill:none\\\" points=\\\"\\n  388.996,1487.47 388.996,47.2441 \\n  \\\"\\/>\\n<polyline clip-path=\\\"url(#clip5102)\\\" style=\\\"stroke:#000000; stroke-width:2; stroke-opacity:0.1; fill:none\\\" points=\\\"\\n  821.161,1487.47 821.161,47.2441 \\n  \\\"\\/>\\n<polyline clip-path=\\\"url(#clip5102)\\\" style=\\\"stroke:#000000; stroke-width:2; stroke-opacity:0.1; fill:none\\\" points=\\\"\\n  1253.33,1487.47 1253.33,47.2441 \\n  \\\"\\/>\\n<polyline clip-path=\\\"url(#clip5102)\\\" style=\\\"stroke:#000000; stroke-width:2; stroke-opacity:0.1; fill:none\\\" points=\\\"\\n  1685.49,1487.47 1685.49,47.2441 \\n  \\\"\\/>\\n<polyline clip-path=\\\"url(#clip5102)\\\" style=\\\"stroke:#000000; stroke-width:2; stroke-opacity:0.1; fill:none\\\" points=\\\"\\n  2117.66,1487.47 2117.66,47.2441 \\n  \\\"\\/>\\n<polyline clip-path=\\\"url(#clip5102)\\\" style=\\\"stroke:#000000; stroke-width:2; stroke-opacity:0.1; fill:none\\\" points=\\\"\\n  153.898,1446.71 2352.76,1446.71 \\n  \\\"\\/>\\n<polyline clip-path=\\\"url(#clip5102)\\\" style=\\\"stroke:#000000; stroke-width:2; stroke-opacity:0.1; fill:none\\\" points=\\\"\\n  153.898,1195.1 2352.76,1195.1 \\n  \\\"\\/>\\n<polyline clip-path=\\\"url(#clip5102)\\\" style=\\\"stroke:#000000; stroke-width:2; stroke-opacity:0.1; fill:none\\\" points=\\\"\\n  153.898,943.488 2352.76,943.488 \\n  \\\"\\/>\\n<polyline clip-path=\\\"url(#clip5102)\\\" style=\\\"stroke:#000000; stroke-width:2; stroke-opacity:0.1; fill:none\\\" points=\\\"\\n  153.898,691.876 2352.76,691.876 \\n  \\\"\\/>\\n<polyline clip-path=\\\"url(#clip5102)\\\" style=\\\"stroke:#000000; stroke-width:2; stroke-opacity:0.1; fill:none\\\" points=\\\"\\n  153.898,440.263 2352.76,440.263 \\n  \\\"\\/>\\n<polyline clip-path=\\\"url(#clip5102)\\\" style=\\\"stroke:#000000; stroke-width:2; stroke-opacity:0.1; fill:none\\\" points=\\\"\\n  153.898,188.65 2352.76,188.65 \\n  \\\"\\/>\\n<polyline clip-path=\\\"url(#clip5100)\\\" style=\\\"stroke:#000000; stroke-width:4; stroke-opacity:1; fill:none\\\" points=\\\"\\n  153.898,1487.47 2352.76,1487.47 \\n  \\\"\\/>\\n<polyline clip-path=\\\"url(#clip5100)\\\" style=\\\"stroke:#000000; stroke-width:4; stroke-opacity:1; fill:none\\\" points=\\\"\\n  153.898,1487.47 153.898,47.2441 \\n  \\\"\\/>\\n<polyline clip-path=\\\"url(#clip5100)\\\" style=\\\"stroke:#000000; stroke-width:4; stroke-opacity:1; fill:none\\\" points=\\\"\\n  388.996,1487.47 388.996,1465.87 \\n  \\\"\\/>\\n<polyline clip-path=\\\"url(#clip5100)\\\" style=\\\"stroke:#000000; stroke-width:4; stroke-opacity:1; fill:none\\\" points=\\\"\\n  821.161,1487.47 821.161,1465.87 \\n  \\\"\\/>\\n<polyline clip-path=\\\"url(#clip5100)\\\" style=\\\"stroke:#000000; stroke-width:4; stroke-opacity:1; fill:none\\\" points=\\\"\\n  1253.33,1487.47 1253.33,1465.87 \\n  \\\"\\/>\\n<polyline clip-path=\\\"url(#clip5100)\\\" style=\\\"stroke:#000000; stroke-width:4; stroke-opacity:1; fill:none\\\" points=\\\"\\n  1685.49,1487.47 1685.49,1465.87 \\n  \\\"\\/>\\n<polyline clip-path=\\\"url(#clip5100)\\\" style=\\\"stroke:#000000; stroke-width:4; stroke-opacity:1; fill:none\\\" points=\\\"\\n  2117.66,1487.47 2117.66,1465.87 \\n  \\\"\\/>\\n<polyline clip-path=\\\"url(#clip5100)\\\" style=\\\"stroke:#000000; stroke-width:4; stroke-opacity:1; fill:none\\\" points=\\\"\\n  153.898,1446.71 186.881,1446.71 \\n  \\\"\\/>\\n<polyline clip-path=\\\"url(#clip5100)\\\" style=\\\"stroke:#000000; stroke-width:4; stroke-opacity:1; fill:none\\\" points=\\\"\\n  153.898,1195.1 186.881,1195.1 \\n  \\\"\\/>\\n<polyline clip-path=\\\"url(#clip5100)\\\" style=\\\"stroke:#000000; stroke-width:4; stroke-opacity:1; fill:none\\\" points=\\\"\\n  153.898,943.488 186.881,943.488 \\n  \\\"\\/>\\n<polyline clip-path=\\\"url(#clip5100)\\\" style=\\\"stroke:#000000; stroke-width:4; stroke-opacity:1; fill:none\\\" points=\\\"\\n  153.898,691.876 186.881,691.876 \\n  \\\"\\/>\\n<polyline clip-path=\\\"url(#clip5100)\\\" style=\\\"stroke:#000000; stroke-width:4; stroke-opacity:1; fill:none\\\" points=\\\"\\n  153.898,440.263 186.881,440.263 \\n  \\\"\\/>\\n<polyline clip-path=\\\"url(#clip5100)\\\" style=\\\"stroke:#000000; stroke-width:4; stroke-opacity:1; fill:none\\\" points=\\\"\\n  153.898,188.65 186.881,188.65 \\n  \\\"\\/>\\n<g clip-path=\\\"url(#clip5100)\\\">\\n<text style=\\\"fill:#000000; fill-opacity:1; font-family:Arial,Helvetica Neue,Helvetica,sans-serif; font-size:48px; text-anchor:middle;\\\" transform=\\\"rotate(0, 388.996, 1541.47)\\\" x=\\\"388.996\\\" y=\\\"1541.47\\\">-5.0<\\/text>\\n<\\/g>\\n<g clip-path=\\\"url(#clip5100)\\\">\\n<text style=\\\"fill:#000000; fill-opacity:1; font-family:Arial,Helvetica Neue,Helvetica,sans-serif; font-size:48px; text-anchor:middle;\\\" transform=\\\"rotate(0, 821.161, 1541.47)\\\" x=\\\"821.161\\\" y=\\\"1541.47\\\">-2.5<\\/text>\\n<\\/g>\\n<g clip-path=\\\"url(#clip5100)\\\">\\n<text style=\\\"fill:#000000; fill-opacity:1; font-family:Arial,Helvetica Neue,Helvetica,sans-serif; font-size:48px; text-anchor:middle;\\\" transform=\\\"rotate(0, 1253.33, 1541.47)\\\" x=\\\"1253.33\\\" y=\\\"1541.47\\\">0.0<\\/text>\\n<\\/g>\\n<g clip-path=\\\"url(#clip5100)\\\">\\n<text style=\\\"fill:#000000; fill-opacity:1; font-family:Arial,Helvetica Neue,Helvetica,sans-serif; font-size:48px; text-anchor:middle;\\\" transform=\\\"rotate(0, 1685.49, 1541.47)\\\" x=\\\"1685.49\\\" y=\\\"1541.47\\\">2.5<\\/text>\\n<\\/g>\\n<g clip-path=\\\"url(#clip5100)\\\">\\n<text style=\\\"fill:#000000; fill-opacity:1; font-family:Arial,Helvetica Neue,Helvetica,sans-serif; font-size:48px; text-anchor:middle;\\\" transform=\\\"rotate(0, 2117.66, 1541.47)\\\" x=\\\"2117.66\\\" y=\\\"1541.47\\\">5.0<\\/text>\\n<\\/g>\\n<g clip-path=\\\"url(#clip5100)\\\">\\n<text style=\\\"fill:#000000; fill-opacity:1; font-family:Arial,Helvetica Neue,Helvetica,sans-serif; font-size:48px; text-anchor:end;\\\" transform=\\\"rotate(0, 129.898, 1464.21)\\\" x=\\\"129.898\\\" y=\\\"1464.21\\\">0.0<\\/text>\\n<\\/g>\\n<g clip-path=\\\"url(#clip5100)\\\">\\n<text style=\\\"fill:#000000; fill-opacity:1; font-family:Arial,Helvetica Neue,Helvetica,sans-serif; font-size:48px; text-anchor:end;\\\" transform=\\\"rotate(0, 129.898, 1212.6)\\\" x=\\\"129.898\\\" y=\\\"1212.6\\\">0.1<\\/text>\\n<\\/g>\\n<g clip-path=\\\"url(#clip5100)\\\">\\n<text style=\\\"fill:#000000; fill-opacity:1; font-family:Arial,Helvetica Neue,Helvetica,sans-serif; font-size:48px; text-anchor:end;\\\" transform=\\\"rotate(0, 129.898, 960.988)\\\" x=\\\"129.898\\\" y=\\\"960.988\\\">0.2<\\/text>\\n<\\/g>\\n<g clip-path=\\\"url(#clip5100)\\\">\\n<text style=\\\"fill:#000000; fill-opacity:1; font-family:Arial,Helvetica Neue,Helvetica,sans-serif; font-size:48px; text-anchor:end;\\\" transform=\\\"rotate(0, 129.898, 709.376)\\\" x=\\\"129.898\\\" y=\\\"709.376\\\">0.3<\\/text>\\n<\\/g>\\n<g clip-path=\\\"url(#clip5100)\\\">\\n<text style=\\\"fill:#000000; fill-opacity:1; font-family:Arial,Helvetica Neue,Helvetica,sans-serif; font-size:48px; text-anchor:end;\\\" transform=\\\"rotate(0, 129.898, 457.763)\\\" x=\\\"129.898\\\" y=\\\"457.763\\\">0.4<\\/text>\\n<\\/g>\\n<g clip-path=\\\"url(#clip5100)\\\">\\n<text style=\\\"fill:#000000; fill-opacity:1; font-family:Arial,Helvetica Neue,Helvetica,sans-serif; font-size:48px; text-anchor:end;\\\" transform=\\\"rotate(0, 129.898, 206.15)\\\" x=\\\"129.898\\\" y=\\\"206.15\\\">0.5<\\/text>\\n<\\/g>\\n<path clip-path=\\\"url(#clip5102)\\\" d=\\\"\\nM388.996 1446.71 L388.996 1446.71 L423.569 1446.71 L423.569 1446.71 L388.996 1446.71 L388.996 1446.71  Z\\n  \\\" fill=\\\"#009af9\\\" fill-rule=\\\"evenodd\\\" fill-opacity=\\\"1\\\"\\/>\\n<polyline clip-path=\\\"url(#clip5102)\\\" style=\\\"stroke:#000000; stroke-width:4; stroke-opacity:1; fill:none\\\" points=\\\"\\n  388.996,1446.71 388.996,1446.71 423.569,1446.71 388.996,1446.71 \\n  \\\"\\/>\\n<path clip-path=\\\"url(#clip5102)\\\" d=\\\"\\nM423.569 1446.71 L423.569 1446.71 L458.142 1446.71 L458.142 1446.71 L423.569 1446.71 L423.569 1446.71  Z\\n  \\\" fill=\\\"#009af9\\\" fill-rule=\\\"evenodd\\\" fill-opacity=\\\"1\\\"\\/>\\n<polyline clip-path=\\\"url(#clip5102)\\\" style=\\\"stroke:#000000; stroke-width:4; stroke-opacity:1; fill:none\\\" points=\\\"\\n  423.569,1446.71 423.569,1446.71 458.142,1446.71 423.569,1446.71 \\n  \\\"\\/>\\n<path clip-path=\\\"url(#clip5102)\\\" d=\\\"\\nM458.142 1446.71 L458.142 1446.71 L492.716 1446.71 L492.716 1446.71 L458.142 1446.71 L458.142 1446.71  Z\\n  \\\" fill=\\\"#009af9\\\" fill-rule=\\\"evenodd\\\" fill-opacity=\\\"1\\\"\\/>\\n<polyline clip-path=\\\"url(#clip5102)\\\" style=\\\"stroke:#000000; stroke-width:4; stroke-opacity:1; fill:none\\\" points=\\\"\\n  458.142,1446.71 458.142,1446.71 492.716,1446.71 458.142,1446.71 \\n  \\\"\\/>\\n<path clip-path=\\\"url(#clip5102)\\\" d=\\\"\\nM492.716 1441.68 L492.716 1446.71 L527.289 1446.71 L527.289 1441.68 L492.716 1441.68 L492.716 1441.68  Z\\n  \\\" fill=\\\"#009af9\\\" fill-rule=\\\"evenodd\\\" fill-opacity=\\\"1\\\"\\/>\\n<polyline clip-path=\\\"url(#clip5102)\\\" style=\\\"stroke:#000000; stroke-width:4; stroke-opacity:1; fill:none\\\" points=\\\"\\n  492.716,1441.68 492.716,1446.71 527.289,1446.71 527.289,1441.68 492.716,1441.68 \\n  \\\"\\/>\\n<path clip-path=\\\"url(#clip5102)\\\" d=\\\"\\nM527.289 1411.49 L527.289 1446.71 L561.862 1446.71 L561.862 1411.49 L527.289 1411.49 L527.289 1411.49  Z\\n  \\\" fill=\\\"#009af9\\\" fill-rule=\\\"evenodd\\\" fill-opacity=\\\"1\\\"\\/>\\n<polyline clip-path=\\\"url(#clip5102)\\\" style=\\\"stroke:#000000; stroke-width:4; stroke-opacity:1; fill:none\\\" points=\\\"\\n  527.289,1411.49 527.289,1446.71 561.862,1446.71 561.862,1411.49 527.289,1411.49 \\n  \\\"\\/>\\n<path clip-path=\\\"url(#clip5102)\\\" d=\\\"\\nM561.862 1411.49 L561.862 1446.71 L596.435 1446.71 L596.435 1411.49 L561.862 1411.49 L561.862 1411.49  Z\\n  \\\" fill=\\\"#009af9\\\" fill-rule=\\\"evenodd\\\" fill-opacity=\\\"1\\\"\\/>\\n<polyline clip-path=\\\"url(#clip5102)\\\" style=\\\"stroke:#000000; stroke-width:4; stroke-opacity:1; fill:none\\\" points=\\\"\\n  561.862,1411.49 561.862,1446.71 596.435,1446.71 596.435,1411.49 561.862,1411.49 \\n  \\\"\\/>\\n<path clip-path=\\\"url(#clip5102)\\\" d=\\\"\\nM596.435 1366.2 L596.435 1446.71 L631.009 1446.71 L631.009 1366.2 L596.435 1366.2 L596.435 1366.2  Z\\n  \\\" fill=\\\"#009af9\\\" fill-rule=\\\"evenodd\\\" fill-opacity=\\\"1\\\"\\/>\\n<polyline clip-path=\\\"url(#clip5102)\\\" style=\\\"stroke:#000000; stroke-width:4; stroke-opacity:1; fill:none\\\" points=\\\"\\n  596.435,1366.2 596.435,1446.71 631.009,1446.71 631.009,1366.2 596.435,1366.2 \\n  \\\"\\/>\\n<path clip-path=\\\"url(#clip5102)\\\" d=\\\"\\nM631.009 1361.17 L631.009 1446.71 L665.582 1446.71 L665.582 1361.17 L631.009 1361.17 L631.009 1361.17  Z\\n  \\\" fill=\\\"#009af9\\\" fill-rule=\\\"evenodd\\\" fill-opacity=\\\"1\\\"\\/>\\n<polyline clip-path=\\\"url(#clip5102)\\\" style=\\\"stroke:#000000; stroke-width:4; stroke-opacity:1; fill:none\\\" points=\\\"\\n  631.009,1361.17 631.009,1446.71 665.582,1446.71 665.582,1361.17 631.009,1361.17 \\n  \\\"\\/>\\n<path clip-path=\\\"url(#clip5102)\\\" d=\\\"\\nM665.582 1210.2 L665.582 1446.71 L700.155 1446.71 L700.155 1210.2 L665.582 1210.2 L665.582 1210.2  Z\\n  \\\" fill=\\\"#009af9\\\" fill-rule=\\\"evenodd\\\" fill-opacity=\\\"1\\\"\\/>\\n<polyline clip-path=\\\"url(#clip5102)\\\" style=\\\"stroke:#000000; stroke-width:4; stroke-opacity:1; fill:none\\\" points=\\\"\\n  665.582,1210.2 665.582,1446.71 700.155,1446.71 700.155,1210.2 665.582,1210.2 \\n  \\\"\\/>\\n<path clip-path=\\\"url(#clip5102)\\\" d=\\\"\\nM700.155 1109.55 L700.155 1446.71 L734.728 1446.71 L734.728 1109.55 L700.155 1109.55 L700.155 1109.55  Z\\n  \\\" fill=\\\"#009af9\\\" fill-rule=\\\"evenodd\\\" fill-opacity=\\\"1\\\"\\/>\\n<polyline clip-path=\\\"url(#clip5102)\\\" style=\\\"stroke:#000000; stroke-width:4; stroke-opacity:1; fill:none\\\" points=\\\"\\n  700.155,1109.55 700.155,1446.71 734.728,1446.71 734.728,1109.55 700.155,1109.55 \\n  \\\"\\/>\\n<path clip-path=\\\"url(#clip5102)\\\" d=\\\"\\nM734.728 1049.17 L734.728 1446.71 L769.302 1446.71 L769.302 1049.17 L734.728 1049.17 L734.728 1049.17  Z\\n  \\\" fill=\\\"#009af9\\\" fill-rule=\\\"evenodd\\\" fill-opacity=\\\"1\\\"\\/>\\n<polyline clip-path=\\\"url(#clip5102)\\\" style=\\\"stroke:#000000; stroke-width:4; stroke-opacity:1; fill:none\\\" points=\\\"\\n  734.728,1049.17 734.728,1446.71 769.302,1446.71 769.302,1049.17 734.728,1049.17 \\n  \\\"\\/>\\n<path clip-path=\\\"url(#clip5102)\\\" d=\\\"\\nM769.302 722.069 L769.302 1446.71 L803.875 1446.71 L803.875 722.069 L769.302 722.069 L769.302 722.069  Z\\n  \\\" fill=\\\"#009af9\\\" fill-rule=\\\"evenodd\\\" fill-opacity=\\\"1\\\"\\/>\\n<polyline clip-path=\\\"url(#clip5102)\\\" style=\\\"stroke:#000000; stroke-width:4; stroke-opacity:1; fill:none\\\" points=\\\"\\n  769.302,722.069 769.302,1446.71 803.875,1446.71 803.875,722.069 769.302,722.069 \\n  \\\"\\/>\\n<path clip-path=\\\"url(#clip5102)\\\" d=\\\"\\nM803.875 389.94 L803.875 1446.71 L838.448 1446.71 L838.448 389.94 L803.875 389.94 L803.875 389.94  Z\\n  \\\" fill=\\\"#009af9\\\" fill-rule=\\\"evenodd\\\" fill-opacity=\\\"1\\\"\\/>\\n<polyline clip-path=\\\"url(#clip5102)\\\" style=\\\"stroke:#000000; stroke-width:4; stroke-opacity:1; fill:none\\\" points=\\\"\\n  803.875,389.94 803.875,1446.71 838.448,1446.71 838.448,389.94 803.875,389.94 \\n  \\\"\\/>\\n<path clip-path=\\\"url(#clip5102)\\\" d=\\\"\\nM838.448 616.392 L838.448 1446.71 L873.021 1446.71 L873.021 616.392 L838.448 616.392 L838.448 616.392  Z\\n  \\\" fill=\\\"#009af9\\\" fill-rule=\\\"evenodd\\\" fill-opacity=\\\"1\\\"\\/>\\n<polyline clip-path=\\\"url(#clip5102)\\\" style=\\\"stroke:#000000; stroke-width:4; stroke-opacity:1; fill:none\\\" points=\\\"\\n  838.448,616.392 838.448,1446.71 873.021,1446.71 873.021,616.392 838.448,616.392 \\n  \\\"\\/>\\n<path clip-path=\\\"url(#clip5102)\\\" d=\\\"\\nM873.021 168.521 L873.021 1446.71 L907.595 1446.71 L907.595 168.521 L873.021 168.521 L873.021 168.521  Z\\n  \\\" fill=\\\"#009af9\\\" fill-rule=\\\"evenodd\\\" fill-opacity=\\\"1\\\"\\/>\\n<polyline clip-path=\\\"url(#clip5102)\\\" style=\\\"stroke:#000000; stroke-width:4; stroke-opacity:1; fill:none\\\" points=\\\"\\n  873.021,168.521 873.021,1446.71 907.595,1446.71 907.595,168.521 873.021,168.521 \\n  \\\"\\/>\\n<path clip-path=\\\"url(#clip5102)\\\" d=\\\"\\nM907.595 88.0053 L907.595 1446.71 L942.168 1446.71 L942.168 88.0053 L907.595 88.0053 L907.595 88.0053  Z\\n  \\\" fill=\\\"#009af9\\\" fill-rule=\\\"evenodd\\\" fill-opacity=\\\"1\\\"\\/>\\n<polyline clip-path=\\\"url(#clip5102)\\\" style=\\\"stroke:#000000; stroke-width:4; stroke-opacity:1; fill:none\\\" points=\\\"\\n  907.595,88.0053 907.595,1446.71 942.168,1446.71 942.168,88.0053 907.595,88.0053 \\n  \\\"\\/>\\n<path clip-path=\\\"url(#clip5102)\\\" d=\\\"\\nM942.168 515.747 L942.168 1446.71 L976.741 1446.71 L976.741 515.747 L942.168 515.747 L942.168 515.747  Z\\n  \\\" fill=\\\"#009af9\\\" fill-rule=\\\"evenodd\\\" fill-opacity=\\\"1\\\"\\/>\\n<polyline clip-path=\\\"url(#clip5102)\\\" style=\\\"stroke:#000000; stroke-width:4; stroke-opacity:1; fill:none\\\" points=\\\"\\n  942.168,515.747 942.168,1446.71 976.741,1446.71 976.741,515.747 942.168,515.747 \\n  \\\"\\/>\\n<path clip-path=\\\"url(#clip5102)\\\" d=\\\"\\nM976.741 344.65 L976.741 1446.71 L1011.31 1446.71 L1011.31 344.65 L976.741 344.65 L976.741 344.65  Z\\n  \\\" fill=\\\"#009af9\\\" fill-rule=\\\"evenodd\\\" fill-opacity=\\\"1\\\"\\/>\\n<polyline clip-path=\\\"url(#clip5102)\\\" style=\\\"stroke:#000000; stroke-width:4; stroke-opacity:1; fill:none\\\" points=\\\"\\n  976.741,344.65 976.741,1446.71 1011.31,1446.71 1011.31,344.65 976.741,344.65 \\n  \\\"\\/>\\n<path clip-path=\\\"url(#clip5102)\\\" d=\\\"\\nM1011.31 299.36 L1011.31 1446.71 L1045.89 1446.71 L1045.89 299.36 L1011.31 299.36 L1011.31 299.36  Z\\n  \\\" fill=\\\"#009af9\\\" fill-rule=\\\"evenodd\\\" fill-opacity=\\\"1\\\"\\/>\\n<polyline clip-path=\\\"url(#clip5102)\\\" style=\\\"stroke:#000000; stroke-width:4; stroke-opacity:1; fill:none\\\" points=\\\"\\n  1011.31,299.36 1011.31,1446.71 1045.89,1446.71 1045.89,299.36 1011.31,299.36 \\n  \\\"\\/>\\n<path clip-path=\\\"url(#clip5102)\\\" d=\\\"\\nM1045.89 661.682 L1045.89 1446.71 L1080.46 1446.71 L1080.46 661.682 L1045.89 661.682 L1045.89 661.682  Z\\n  \\\" fill=\\\"#009af9\\\" fill-rule=\\\"evenodd\\\" fill-opacity=\\\"1\\\"\\/>\\n<polyline clip-path=\\\"url(#clip5102)\\\" style=\\\"stroke:#000000; stroke-width:4; stroke-opacity:1; fill:none\\\" points=\\\"\\n  1045.89,661.682 1045.89,1446.71 1080.46,1446.71 1080.46,661.682 1045.89,661.682 \\n  \\\"\\/>\\n<path clip-path=\\\"url(#clip5102)\\\" d=\\\"\\nM1080.46 963.617 L1080.46 1446.71 L1115.03 1446.71 L1115.03 963.617 L1080.46 963.617 L1080.46 963.617  Z\\n  \\\" fill=\\\"#009af9\\\" fill-rule=\\\"evenodd\\\" fill-opacity=\\\"1\\\"\\/>\\n<polyline clip-path=\\\"url(#clip5102)\\\" style=\\\"stroke:#000000; stroke-width:4; stroke-opacity:1; fill:none\\\" points=\\\"\\n  1080.46,963.617 1080.46,1446.71 1115.03,1446.71 1115.03,963.617 1080.46,963.617 \\n  \\\"\\/>\\n<path clip-path=\\\"url(#clip5102)\\\" d=\\\"\\nM1115.03 968.65 L1115.03 1446.71 L1149.61 1446.71 L1149.61 968.65 L1115.03 968.65 L1115.03 968.65  Z\\n  \\\" fill=\\\"#009af9\\\" fill-rule=\\\"evenodd\\\" fill-opacity=\\\"1\\\"\\/>\\n<polyline clip-path=\\\"url(#clip5102)\\\" style=\\\"stroke:#000000; stroke-width:4; stroke-opacity:1; fill:none\\\" points=\\\"\\n  1115.03,968.65 1115.03,1446.71 1149.61,1446.71 1149.61,968.65 1115.03,968.65 \\n  \\\"\\/>\\n<path clip-path=\\\"url(#clip5102)\\\" d=\\\"\\nM1149.61 983.746 L1149.61 1446.71 L1184.18 1446.71 L1184.18 983.746 L1149.61 983.746 L1149.61 983.746  Z\\n  \\\" fill=\\\"#009af9\\\" fill-rule=\\\"evenodd\\\" fill-opacity=\\\"1\\\"\\/>\\n<polyline clip-path=\\\"url(#clip5102)\\\" style=\\\"stroke:#000000; stroke-width:4; stroke-opacity:1; fill:none\\\" points=\\\"\\n  1149.61,983.746 1149.61,1446.71 1184.18,1446.71 1184.18,983.746 1149.61,983.746 \\n  \\\"\\/>\\n<path clip-path=\\\"url(#clip5102)\\\" d=\\\"\\nM1184.18 1255.49 L1184.18 1446.71 L1218.75 1446.71 L1218.75 1255.49 L1184.18 1255.49 L1184.18 1255.49  Z\\n  \\\" fill=\\\"#009af9\\\" fill-rule=\\\"evenodd\\\" fill-opacity=\\\"1\\\"\\/>\\n<polyline clip-path=\\\"url(#clip5102)\\\" style=\\\"stroke:#000000; stroke-width:4; stroke-opacity:1; fill:none\\\" points=\\\"\\n  1184.18,1255.49 1184.18,1446.71 1218.75,1446.71 1218.75,1255.49 1184.18,1255.49 \\n  \\\"\\/>\\n<path clip-path=\\\"url(#clip5102)\\\" d=\\\"\\nM1218.75 1225.29 L1218.75 1446.71 L1253.33 1446.71 L1253.33 1225.29 L1218.75 1225.29 L1218.75 1225.29  Z\\n  \\\" fill=\\\"#009af9\\\" fill-rule=\\\"evenodd\\\" fill-opacity=\\\"1\\\"\\/>\\n<polyline clip-path=\\\"url(#clip5102)\\\" style=\\\"stroke:#000000; stroke-width:4; stroke-opacity:1; fill:none\\\" points=\\\"\\n  1218.75,1225.29 1218.75,1446.71 1253.33,1446.71 1253.33,1225.29 1218.75,1225.29 \\n  \\\"\\/>\\n<path clip-path=\\\"url(#clip5102)\\\" d=\\\"\\nM1253.33 1356.13 L1253.33 1446.71 L1287.9 1446.71 L1287.9 1356.13 L1253.33 1356.13 L1253.33 1356.13  Z\\n  \\\" fill=\\\"#009af9\\\" fill-rule=\\\"evenodd\\\" fill-opacity=\\\"1\\\"\\/>\\n<polyline clip-path=\\\"url(#clip5102)\\\" style=\\\"stroke:#000000; stroke-width:4; stroke-opacity:1; fill:none\\\" points=\\\"\\n  1253.33,1356.13 1253.33,1446.71 1287.9,1446.71 1287.9,1356.13 1253.33,1356.13 \\n  \\\"\\/>\\n<path clip-path=\\\"url(#clip5102)\\\" d=\\\"\\nM1287.9 1376.26 L1287.9 1446.71 L1322.47 1446.71 L1322.47 1376.26 L1287.9 1376.26 L1287.9 1376.26  Z\\n  \\\" fill=\\\"#009af9\\\" fill-rule=\\\"evenodd\\\" fill-opacity=\\\"1\\\"\\/>\\n<polyline clip-path=\\\"url(#clip5102)\\\" style=\\\"stroke:#000000; stroke-width:4; stroke-opacity:1; fill:none\\\" points=\\\"\\n  1287.9,1376.26 1287.9,1446.71 1322.47,1446.71 1322.47,1376.26 1287.9,1376.26 \\n  \\\"\\/>\\n<path clip-path=\\\"url(#clip5102)\\\" d=\\\"\\nM1322.47 1391.36 L1322.47 1446.71 L1357.05 1446.71 L1357.05 1391.36 L1322.47 1391.36 L1322.47 1391.36  Z\\n  \\\" fill=\\\"#009af9\\\" fill-rule=\\\"evenodd\\\" fill-opacity=\\\"1\\\"\\/>\\n<polyline clip-path=\\\"url(#clip5102)\\\" style=\\\"stroke:#000000; stroke-width:4; stroke-opacity:1; fill:none\\\" points=\\\"\\n  1322.47,1391.36 1322.47,1446.71 1357.05,1446.71 1357.05,1391.36 1322.47,1391.36 \\n  \\\"\\/>\\n<path clip-path=\\\"url(#clip5102)\\\" d=\\\"\\nM1357.05 1406.46 L1357.05 1446.71 L1391.62 1446.71 L1391.62 1406.46 L1357.05 1406.46 L1357.05 1406.46  Z\\n  \\\" fill=\\\"#009af9\\\" fill-rule=\\\"evenodd\\\" fill-opacity=\\\"1\\\"\\/>\\n<polyline clip-path=\\\"url(#clip5102)\\\" style=\\\"stroke:#000000; stroke-width:4; stroke-opacity:1; fill:none\\\" points=\\\"\\n  1357.05,1406.46 1357.05,1446.71 1391.62,1446.71 1391.62,1406.46 1357.05,1406.46 \\n  \\\"\\/>\\n<path clip-path=\\\"url(#clip5102)\\\" d=\\\"\\nM1391.62 1416.52 L1391.62 1446.71 L1426.19 1446.71 L1426.19 1416.52 L1391.62 1416.52 L1391.62 1416.52  Z\\n  \\\" fill=\\\"#009af9\\\" fill-rule=\\\"evenodd\\\" fill-opacity=\\\"1\\\"\\/>\\n<polyline clip-path=\\\"url(#clip5102)\\\" style=\\\"stroke:#000000; stroke-width:4; stroke-opacity:1; fill:none\\\" points=\\\"\\n  1391.62,1416.52 1391.62,1446.71 1426.19,1446.71 1426.19,1416.52 1391.62,1416.52 \\n  \\\"\\/>\\n<path clip-path=\\\"url(#clip5102)\\\" d=\\\"\\nM1426.19 1426.58 L1426.19 1446.71 L1460.77 1446.71 L1460.77 1426.58 L1426.19 1426.58 L1426.19 1426.58  Z\\n  \\\" fill=\\\"#009af9\\\" fill-rule=\\\"evenodd\\\" fill-opacity=\\\"1\\\"\\/>\\n<polyline clip-path=\\\"url(#clip5102)\\\" style=\\\"stroke:#000000; stroke-width:4; stroke-opacity:1; fill:none\\\" points=\\\"\\n  1426.19,1426.58 1426.19,1446.71 1460.77,1446.71 1460.77,1426.58 1426.19,1426.58 \\n  \\\"\\/>\\n<path clip-path=\\\"url(#clip5102)\\\" d=\\\"\\nM1460.77 1441.68 L1460.77 1446.71 L1495.34 1446.71 L1495.34 1441.68 L1460.77 1441.68 L1460.77 1441.68  Z\\n  \\\" fill=\\\"#009af9\\\" fill-rule=\\\"evenodd\\\" fill-opacity=\\\"1\\\"\\/>\\n<polyline clip-path=\\\"url(#clip5102)\\\" style=\\\"stroke:#000000; stroke-width:4; stroke-opacity:1; fill:none\\\" points=\\\"\\n  1460.77,1441.68 1460.77,1446.71 1495.34,1446.71 1495.34,1441.68 1460.77,1441.68 \\n  \\\"\\/>\\n<path clip-path=\\\"url(#clip5102)\\\" d=\\\"\\nM1495.34 1446.71 L1495.34 1446.71 L1529.91 1446.71 L1529.91 1446.71 L1495.34 1446.71 L1495.34 1446.71  Z\\n  \\\" fill=\\\"#009af9\\\" fill-rule=\\\"evenodd\\\" fill-opacity=\\\"1\\\"\\/>\\n<polyline clip-path=\\\"url(#clip5102)\\\" style=\\\"stroke:#000000; stroke-width:4; stroke-opacity:1; fill:none\\\" points=\\\"\\n  1495.34,1446.71 1495.34,1446.71 1529.91,1446.71 1495.34,1446.71 \\n  \\\"\\/>\\n<path clip-path=\\\"url(#clip5102)\\\" d=\\\"\\nM1529.91 1446.71 L1529.91 1446.71 L1564.49 1446.71 L1564.49 1446.71 L1529.91 1446.71 L1529.91 1446.71  Z\\n  \\\" fill=\\\"#009af9\\\" fill-rule=\\\"evenodd\\\" fill-opacity=\\\"1\\\"\\/>\\n<polyline clip-path=\\\"url(#clip5102)\\\" style=\\\"stroke:#000000; stroke-width:4; stroke-opacity:1; fill:none\\\" points=\\\"\\n  1529.91,1446.71 1529.91,1446.71 1564.49,1446.71 1529.91,1446.71 \\n  \\\"\\/>\\n<path clip-path=\\\"url(#clip5102)\\\" d=\\\"\\nM1564.49 1446.71 L1564.49 1446.71 L1599.06 1446.71 L1599.06 1446.71 L1564.49 1446.71 L1564.49 1446.71  Z\\n  \\\" fill=\\\"#009af9\\\" fill-rule=\\\"evenodd\\\" fill-opacity=\\\"1\\\"\\/>\\n<polyline clip-path=\\\"url(#clip5102)\\\" style=\\\"stroke:#000000; stroke-width:4; stroke-opacity:1; fill:none\\\" points=\\\"\\n  1564.49,1446.71 1564.49,1446.71 1599.06,1446.71 1564.49,1446.71 \\n  \\\"\\/>\\n<path clip-path=\\\"url(#clip5102)\\\" d=\\\"\\nM1599.06 1441.68 L1599.06 1446.71 L1633.63 1446.71 L1633.63 1441.68 L1599.06 1441.68 L1599.06 1441.68  Z\\n  \\\" fill=\\\"#009af9\\\" fill-rule=\\\"evenodd\\\" fill-opacity=\\\"1\\\"\\/>\\n<polyline clip-path=\\\"url(#clip5102)\\\" style=\\\"stroke:#000000; stroke-width:4; stroke-opacity:1; fill:none\\\" points=\\\"\\n  1599.06,1441.68 1599.06,1446.71 1633.63,1446.71 1633.63,1441.68 1599.06,1441.68 \\n  \\\"\\/>\\n<path clip-path=\\\"url(#clip5102)\\\" d=\\\"\\nM1633.63 1446.71 L1633.63 1446.71 L1668.21 1446.71 L1668.21 1446.71 L1633.63 1446.71 L1633.63 1446.71  Z\\n  \\\" fill=\\\"#009af9\\\" fill-rule=\\\"evenodd\\\" fill-opacity=\\\"1\\\"\\/>\\n<polyline clip-path=\\\"url(#clip5102)\\\" style=\\\"stroke:#000000; stroke-width:4; stroke-opacity:1; fill:none\\\" points=\\\"\\n  1633.63,1446.71 1633.63,1446.71 1668.21,1446.71 1633.63,1446.71 \\n  \\\"\\/>\\n<polyline clip-path=\\\"url(#clip5102)\\\" style=\\\"stroke:#ff0000; stroke-width:12; stroke-opacity:1; fill:none\\\" points=\\\"\\n  216.13,1446.71 233.416,1446.71 250.703,1446.71 267.99,1446.71 285.276,1446.71 302.563,1446.7 319.85,1446.69 337.136,1446.66 354.423,1446.61 371.709,1446.52 \\n  388.996,1446.36 406.283,1446.08 423.569,1445.63 440.856,1444.89 458.142,1443.71 475.429,1441.9 492.716,1439.16 510.002,1435.13 527.289,1429.35 544.576,1421.24 \\n  561.862,1410.13 579.149,1395.26 596.435,1375.82 613.722,1350.96 631.009,1319.9 648.295,1281.96 665.582,1236.63 682.869,1183.69 700.155,1123.25 717.442,1055.82 \\n  734.728,982.329 752.015,904.142 769.302,823.022 786.588,741.066 803.875,660.611 821.161,584.116 838.448,514.02 855.735,452.612 873.021,401.896 890.308,363.482 \\n  907.595,338.498 924.881,327.544 942.168,330.674 959.454,347.416 976.741,376.824 994.028,417.552 1011.31,467.951 1028.6,526.168 1045.89,590.25 1063.17,658.243 \\n  1080.46,728.278 1097.75,798.638 1115.03,867.812 1132.32,934.527 1149.61,997.769 1166.89,1056.78 1184.18,1111.03 1201.47,1160.25 1218.75,1204.32 1236.04,1243.32 \\n  1253.33,1277.43 1270.61,1306.93 1287.9,1332.2 1305.19,1353.61 1322.47,1371.59 1339.76,1386.54 1357.05,1398.86 1374.33,1408.92 1391.62,1417.08 1408.91,1423.64 \\n  1426.19,1428.86 1443.48,1432.99 1460.77,1436.24 1478.05,1438.76 1495.34,1440.72 1512.63,1442.22 1529.91,1443.37 1547.2,1444.24 1564.49,1444.89 1581.77,1445.38 \\n  1599.06,1445.74 1616.35,1446.01 1633.63,1446.21 1650.92,1446.35 1668.21,1446.46 1685.49,1446.53 1702.78,1446.59 1720.07,1446.62 1737.35,1446.65 1754.64,1446.67 \\n  1771.93,1446.68 1789.21,1446.69 1806.5,1446.7 1823.79,1446.7 1841.07,1446.71 1858.36,1446.71 1875.65,1446.71 1892.93,1446.71 1910.22,1446.71 1927.51,1446.71 \\n  1944.79,1446.71 1962.08,1446.71 1979.36,1446.71 1996.65,1446.71 2013.94,1446.71 2031.22,1446.71 2048.51,1446.71 2065.8,1446.71 2083.08,1446.71 2100.37,1446.71 \\n  2117.66,1446.71 2134.94,1446.71 2152.23,1446.71 2169.52,1446.71 2186.8,1446.71 2204.09,1446.71 2221.38,1446.71 2238.66,1446.71 2255.95,1446.71 2273.24,1446.71 \\n  2290.52,1446.71 \\n  \\\"\\/>\\n<path clip-path=\\\"url(#clip5100)\\\" d=\\\"\\nM1596.77 312.204 L2280.76 312.204 L2280.76 130.764 L1596.77 130.764  Z\\n  \\\" fill=\\\"#ffffff\\\" fill-rule=\\\"evenodd\\\" fill-opacity=\\\"1\\\"\\/>\\n<polyline clip-path=\\\"url(#clip5100)\\\" style=\\\"stroke:#000000; stroke-width:4; stroke-opacity:1; fill:none\\\" points=\\\"\\n  1596.77,312.204 2280.76,312.204 2280.76,130.764 1596.77,130.764 1596.77,312.204 \\n  \\\"\\/>\\n<path clip-path=\\\"url(#clip5100)\\\" d=\\\"\\nM1620.77 215.436 L1764.77 215.436 L1764.77 167.052 L1620.77 167.052 L1620.77 215.436  Z\\n  \\\" fill=\\\"#009af9\\\" fill-rule=\\\"evenodd\\\" fill-opacity=\\\"1\\\"\\/>\\n<polyline clip-path=\\\"url(#clip5100)\\\" style=\\\"stroke:#000000; stroke-width:4; stroke-opacity:1; fill:none\\\" points=\\\"\\n  1620.77,215.436 1764.77,215.436 1764.77,167.052 1620.77,167.052 1620.77,215.436 \\n  \\\"\\/>\\n<g clip-path=\\\"url(#clip5100)\\\">\\n<text style=\\\"fill:#000000; fill-opacity:1; font-family:Arial,Helvetica Neue,Helvetica,sans-serif; font-size:48px; text-anchor:start;\\\" transform=\\\"rotate(0, 1788.77, 208.744)\\\" x=\\\"1788.77\\\" y=\\\"208.744\\\">Empirical distribution<\\/text>\\n<\\/g>\\n<polyline clip-path=\\\"url(#clip5100)\\\" style=\\\"stroke:#ff0000; stroke-width:12; stroke-opacity:1; fill:none\\\" points=\\\"\\n  1620.77,251.724 1764.77,251.724 \\n  \\\"\\/>\\n<g clip-path=\\\"url(#clip5100)\\\">\\n<text style=\\\"fill:#000000; fill-opacity:1; font-family:Arial,Helvetica Neue,Helvetica,sans-serif; font-size:48px; text-anchor:start;\\\" transform=\\\"rotate(0, 1788.77, 269.224)\\\" x=\\\"1788.77\\\" y=\\\"269.224\\\">Tracy-Widom PDF<\\/text>\\n<\\/g>\\n<\\/svg>\\n\"},\"nodeType\":\"DOM\",\"type\":\"node\",\"instanceArgs\":{\"namespace\":\"html\",\"tag\":\"div\"},\"children\":[]}]}}}},\"children\":[{\"props\":{},\"nodeType\":\"ObservableNode\",\"type\":\"node\",\"instanceArgs\":{\"id\":\"ob_82\",\"name\":\"obs-node\"},\"children\":[]}]}]},\n",
       "            window,\n",
       "        );\n",
       "    } else {\n",
       "        document\n",
       "            .querySelector('[data-webio-mountpoint=\"11619084340553942623\"]')\n",
       "            .innerHTML = (\n",
       "                '<strong>WebIO not detected. Please read ' +\n",
       "                '<a href=\"https://juliagizmos.github.io/WebIO.jl/latest/troubleshooting/not-detected/\">the troubleshooting guide</a> ' +\n",
       "                'for more information on how to resolve this issue.' +\n",
       "                '</strong>'\n",
       "            );\n",
       "    }\n",
       "    </script>\n",
       "</div>\n"
      ],
      "text/plain": [
       "Node{WebIO.DOM}(WebIO.DOM(:html, :div), Any[Node{WebIO.DOM}(WebIO.DOM(:html, :div), Any[Scope(Node{WebIO.DOM}(WebIO.DOM(:html, :div), Any[Node{WebIO.DOM}(WebIO.DOM(:html, :div), Any[Node{WebIO.DOM}(WebIO.DOM(:html, :label), Any[\"nb_samples\"], Dict{Symbol,Any}(:className => \"interact \",:style => Dict{Any,Any}(:padding => \"5px 10px 0px 10px\")))], Dict{Symbol,Any}(:className => \"interact-flex-row-left\")), Node{WebIO.DOM}(WebIO.DOM(:html, :div), Any[Node{WebIO.DOM}(WebIO.DOM(:html, :input), Any[], Dict{Symbol,Any}(:max => 50,:min => 1,:attributes => Dict{Any,Any}(:type => \"range\",Symbol(\"data-bind\") => \"numericValue: index, valueUpdate: 'input', event: {change: function (){this.changes(this.changes()+1)}}\",\"orient\" => \"horizontal\"),:step => 1,:className => \"slider slider is-fullwidth\",:style => Dict{Any,Any}()))], Dict{Symbol,Any}(:className => \"interact-flex-row-center\")), Node{WebIO.DOM}(WebIO.DOM(:html, :div), Any[Node{WebIO.DOM}(WebIO.DOM(:html, :p), Any[], Dict{Symbol,Any}(:attributes => Dict(\"data-bind\" => \"text: formatted_val\")))], Dict{Symbol,Any}(:className => \"interact-flex-row-right\"))], Dict{Symbol,Any}(:className => \"interact-flex-row interact-widget\")), Dict{String,Tuple{Observables.AbstractObservable,Union{Nothing, Bool}}}(\"changes\" => (Observable{Int64} with 1 listeners. Value:\n",
       "0, nothing),\"index\" => (Observable{Any} with 2 listeners. Value:\n",
       "25, nothing)), Set(String[]), nothing, Asset[Asset(\"js\", \"knockout\", \"C:\\\\Users\\\\matte\\\\.julia\\\\packages\\\\Knockout\\\\1sDlc\\\\src\\\\..\\\\assets\\\\knockout.js\"), Asset(\"js\", \"knockout_punches\", \"C:\\\\Users\\\\matte\\\\.julia\\\\packages\\\\Knockout\\\\1sDlc\\\\src\\\\..\\\\assets\\\\knockout_punches.js\"), Asset(\"js\", nothing, \"C:\\\\Users\\\\matte\\\\.julia\\\\packages\\\\InteractBase\\\\9mFwe\\\\src\\\\..\\\\assets\\\\all.js\"), Asset(\"css\", nothing, \"C:\\\\Users\\\\matte\\\\.julia\\\\packages\\\\InteractBase\\\\9mFwe\\\\src\\\\..\\\\assets\\\\style.css\"), Asset(\"css\", nothing, \"C:\\\\Users\\\\matte\\\\.julia\\\\packages\\\\Interact\\\\SbgIk\\\\src\\\\..\\\\assets\\\\bulma_confined.min.css\")], Dict{Any,Any}(\"changes\" => Any[WebIO.JSString(\"(function (val){return (val!=this.model[\\\"changes\\\"]()) ? (this.valueFromJulia[\\\"changes\\\"]=true, this.model[\\\"changes\\\"](val)) : undefined})\")],\"index\" => Any[WebIO.JSString(\"(function (val){return (val!=this.model[\\\"index\\\"]()) ? (this.valueFromJulia[\\\"index\\\"]=true, this.model[\\\"index\\\"](val)) : undefined})\")]), WebIO.ConnectionPool(Channel{Any}(sz_max:32,sz_curr:0), Set(AbstractConnection[]), Base.GenericCondition{Base.AlwaysLockedST}(Base.InvasiveLinkedList{Task}(Task (runnable) @0x00000000138ed430, Task (runnable) @0x00000000138ed430), Base.AlwaysLockedST(1))), WebIO.JSString[WebIO.JSString(\"function () {\\n    var handler = (function (ko, koPunches) {\\n    ko.punches.enableAll();\\n    ko.bindingHandlers.numericValue = {\\n        init: function(element, valueAccessor, allBindings, data, context) {\\n            var stringified = ko.observable(ko.unwrap(valueAccessor()));\\n            stringified.subscribe(function(value) {\\n                var val = parseFloat(value);\\n                if (!isNaN(val)) {\\n                    valueAccessor()(val);\\n                }\\n            });\\n            valueAccessor().subscribe(function(value) {\\n                var str = JSON.stringify(value);\\n                if ((str == \\\"0\\\") && ([\\\"-0\\\", \\\"-0.\\\"].indexOf(stringified()) >= 0))\\n                     return;\\n                 if ([\\\"null\\\", \\\"\\\"].indexOf(str) >= 0)\\n                     return;\\n                stringified(str);\\n            });\\n            ko.applyBindingsToNode(\\n                element,\\n                {\\n                    value: stringified,\\n                    valueUpdate: allBindings.get('valueUpdate'),\\n                },\\n                context,\\n            );\\n        }\\n    };\\n    var json_data = {\\\"formatted_vals\\\":[\\\"100\\\",\\\"200\\\",\\\"300\\\",\\\"400\\\",\\\"500\\\",\\\"600\\\",\\\"700\\\",\\\"800\\\",\\\"900\\\",\\\"1000\\\",\\\"1100\\\",\\\"1200\\\",\\\"1300\\\",\\\"1400\\\",\\\"1500\\\",\\\"1600\\\",\\\"1700\\\",\\\"1800\\\",\\\"1900\\\",\\\"2000\\\",\\\"2100\\\",\\\"2200\\\",\\\"2300\\\",\\\"2400\\\",\\\"2500\\\",\\\"2600\\\",\\\"2700\\\",\\\"2800\\\",\\\"2900\\\",\\\"3000\\\",\\\"3100\\\",\\\"3200\\\",\\\"3300\\\",\\\"3400\\\",\\\"3500\\\",\\\"3600\\\",\\\"3700\\\",\\\"3800\\\",\\\"3900\\\",\\\"4000\\\",\\\"4100\\\",\\\"4200\\\",\\\"4300\\\",\\\"4400\\\",\\\"4500\\\",\\\"4600\\\",\\\"4700\\\",\\\"4800\\\",\\\"4900\\\",\\\"5000\\\"],\\\"changes\\\":WebIO.getval({\\\"name\\\":\\\"changes\\\",\\\"scope\\\":\\\"9167796748278594611\\\",\\\"id\\\":\\\"ob_65\\\",\\\"type\\\":\\\"observable\\\"}),\\\"index\\\":WebIO.getval({\\\"name\\\":\\\"index\\\",\\\"scope\\\":\\\"9167796748278594611\\\",\\\"id\\\":\\\"ob_64\\\",\\\"type\\\":\\\"observable\\\"})};\\n    var self = this;\\n    function AppViewModel() {\\n        for (var key in json_data) {\\n            var el = json_data[key];\\n            this[key] = Array.isArray(el) ? ko.observableArray(el) : ko.observable(el);\\n        }\\n        \\n        [this[\\\"formatted_val\\\"]=ko.computed(    function(){\\n        return this.formatted_vals()[parseInt(this.index())-(1)];\\n    }\\n,this)]\\n        [this[\\\"changes\\\"].subscribe((function (val){!(this.valueFromJulia[\\\"changes\\\"]) ? (WebIO.setval({\\\"name\\\":\\\"changes\\\",\\\"scope\\\":\\\"9167796748278594611\\\",\\\"id\\\":\\\"ob_65\\\",\\\"type\\\":\\\"observable\\\"},val)) : undefined; return this.valueFromJulia[\\\"changes\\\"]=false}),self),this[\\\"index\\\"].subscribe((function (val){!(this.valueFromJulia[\\\"index\\\"]) ? (WebIO.setval({\\\"name\\\":\\\"index\\\",\\\"scope\\\":\\\"9167796748278594611\\\",\\\"id\\\":\\\"ob_64\\\",\\\"type\\\":\\\"observable\\\"},val)) : undefined; return this.valueFromJulia[\\\"index\\\"]=false}),self)]\\n        \\n    }\\n    self.model = new AppViewModel();\\n    self.valueFromJulia = {};\\n    for (var key in json_data) {\\n        self.valueFromJulia[key] = false;\\n    }\\n    ko.applyBindings(self.model, self.dom);\\n}\\n);\\n    (WebIO.importBlock({\\\"data\\\":[{\\\"name\\\":\\\"knockout\\\",\\\"type\\\":\\\"js\\\",\\\"url\\\":\\\"/assetserver/254160226b58162a42111ea27214076747de1cf2-knockout.js\\\"},{\\\"name\\\":\\\"knockout_punches\\\",\\\"type\\\":\\\"js\\\",\\\"url\\\":\\\"/assetserver/2d0bf510fb683322318163f3ec7562806e4b1104-knockout_punches.js\\\"}],\\\"type\\\":\\\"async_block\\\"})).then((imports) => handler.apply(this, imports));\\n}\\n\")])], Dict{Symbol,Any}(:className => \"field interact-widget\")), Node{WebIO.DOM}(WebIO.DOM(:html, :div), Any[Scope(Node{WebIO.DOM}(WebIO.DOM(:html, :div), Any[Node{WebIO.DOM}(WebIO.DOM(:html, :div), Any[Node{WebIO.DOM}(WebIO.DOM(:html, :label), Any[\"N\"], Dict{Symbol,Any}(:className => \"interact \",:style => Dict{Any,Any}(:padding => \"5px 10px 0px 10px\")))], Dict{Symbol,Any}(:className => \"interact-flex-row-left\")), Node{WebIO.DOM}(WebIO.DOM(:html, :div), Any[Node{WebIO.DOM}(WebIO.DOM(:html, :input), Any[], Dict{Symbol,Any}(:max => 10,:min => 1,:attributes => Dict{Any,Any}(:type => \"range\",Symbol(\"data-bind\") => \"numericValue: index, valueUpdate: 'input', event: {change: function (){this.changes(this.changes()+1)}}\",\"orient\" => \"horizontal\"),:step => 1,:className => \"slider slider is-fullwidth\",:style => Dict{Any,Any}()))], Dict{Symbol,Any}(:className => \"interact-flex-row-center\")), Node{WebIO.DOM}(WebIO.DOM(:html, :div), Any[Node{WebIO.DOM}(WebIO.DOM(:html, :p), Any[], Dict{Symbol,Any}(:attributes => Dict(\"data-bind\" => \"text: formatted_val\")))], Dict{Symbol,Any}(:className => \"interact-flex-row-right\"))], Dict{Symbol,Any}(:className => \"interact-flex-row interact-widget\")), Dict{String,Tuple{Observables.AbstractObservable,Union{Nothing, Bool}}}(\"changes\" => (Observable{Int64} with 1 listeners. Value:\n",
       "0, nothing),\"index\" => (Observable{Any} with 2 listeners. Value:\n",
       "5, nothing)), Set(String[]), nothing, Asset[Asset(\"js\", \"knockout\", \"C:\\\\Users\\\\matte\\\\.julia\\\\packages\\\\Knockout\\\\1sDlc\\\\src\\\\..\\\\assets\\\\knockout.js\"), Asset(\"js\", \"knockout_punches\", \"C:\\\\Users\\\\matte\\\\.julia\\\\packages\\\\Knockout\\\\1sDlc\\\\src\\\\..\\\\assets\\\\knockout_punches.js\"), Asset(\"js\", nothing, \"C:\\\\Users\\\\matte\\\\.julia\\\\packages\\\\InteractBase\\\\9mFwe\\\\src\\\\..\\\\assets\\\\all.js\"), Asset(\"css\", nothing, \"C:\\\\Users\\\\matte\\\\.julia\\\\packages\\\\InteractBase\\\\9mFwe\\\\src\\\\..\\\\assets\\\\style.css\"), Asset(\"css\", nothing, \"C:\\\\Users\\\\matte\\\\.julia\\\\packages\\\\Interact\\\\SbgIk\\\\src\\\\..\\\\assets\\\\bulma_confined.min.css\")], Dict{Any,Any}(\"changes\" => Any[WebIO.JSString(\"(function (val){return (val!=this.model[\\\"changes\\\"]()) ? (this.valueFromJulia[\\\"changes\\\"]=true, this.model[\\\"changes\\\"](val)) : undefined})\")],\"index\" => Any[WebIO.JSString(\"(function (val){return (val!=this.model[\\\"index\\\"]()) ? (this.valueFromJulia[\\\"index\\\"]=true, this.model[\\\"index\\\"](val)) : undefined})\")]), WebIO.ConnectionPool(Channel{Any}(sz_max:32,sz_curr:0), Set(AbstractConnection[]), Base.GenericCondition{Base.AlwaysLockedST}(Base.InvasiveLinkedList{Task}(Task (runnable) @0x00000000138ed710, Task (runnable) @0x00000000138ed710), Base.AlwaysLockedST(1))), WebIO.JSString[WebIO.JSString(\"function () {\\n    var handler = (function (ko, koPunches) {\\n    ko.punches.enableAll();\\n    ko.bindingHandlers.numericValue = {\\n        init: function(element, valueAccessor, allBindings, data, context) {\\n            var stringified = ko.observable(ko.unwrap(valueAccessor()));\\n            stringified.subscribe(function(value) {\\n                var val = parseFloat(value);\\n                if (!isNaN(val)) {\\n                    valueAccessor()(val);\\n                }\\n            });\\n            valueAccessor().subscribe(function(value) {\\n                var str = JSON.stringify(value);\\n                if ((str == \\\"0\\\") && ([\\\"-0\\\", \\\"-0.\\\"].indexOf(stringified()) >= 0))\\n                     return;\\n                 if ([\\\"null\\\", \\\"\\\"].indexOf(str) >= 0)\\n                     return;\\n                stringified(str);\\n            });\\n            ko.applyBindingsToNode(\\n                element,\\n                {\\n                    value: stringified,\\n                    valueUpdate: allBindings.get('valueUpdate'),\\n                },\\n                context,\\n            );\\n        }\\n    };\\n    var json_data = {\\\"formatted_vals\\\":[\\\"10\\\",\\\"20\\\",\\\"30\\\",\\\"40\\\",\\\"50\\\",\\\"60\\\",\\\"70\\\",\\\"80\\\",\\\"90\\\",\\\"100\\\"],\\\"changes\\\":WebIO.getval({\\\"name\\\":\\\"changes\\\",\\\"scope\\\":\\\"16651632120917084719\\\",\\\"id\\\":\\\"ob_68\\\",\\\"type\\\":\\\"observable\\\"}),\\\"index\\\":WebIO.getval({\\\"name\\\":\\\"index\\\",\\\"scope\\\":\\\"16651632120917084719\\\",\\\"id\\\":\\\"ob_67\\\",\\\"type\\\":\\\"observable\\\"})};\\n    var self = this;\\n    function AppViewModel() {\\n        for (var key in json_data) {\\n            var el = json_data[key];\\n            this[key] = Array.isArray(el) ? ko.observableArray(el) : ko.observable(el);\\n        }\\n        \\n        [this[\\\"formatted_val\\\"]=ko.computed(    function(){\\n        return this.formatted_vals()[parseInt(this.index())-(1)];\\n    }\\n,this)]\\n        [this[\\\"changes\\\"].subscribe((function (val){!(this.valueFromJulia[\\\"changes\\\"]) ? (WebIO.setval({\\\"name\\\":\\\"changes\\\",\\\"scope\\\":\\\"16651632120917084719\\\",\\\"id\\\":\\\"ob_68\\\",\\\"type\\\":\\\"observable\\\"},val)) : undefined; return this.valueFromJulia[\\\"changes\\\"]=false}),self),this[\\\"index\\\"].subscribe((function (val){!(this.valueFromJulia[\\\"index\\\"]) ? (WebIO.setval({\\\"name\\\":\\\"index\\\",\\\"scope\\\":\\\"16651632120917084719\\\",\\\"id\\\":\\\"ob_67\\\",\\\"type\\\":\\\"observable\\\"},val)) : undefined; return this.valueFromJulia[\\\"index\\\"]=false}),self)]\\n        \\n    }\\n    self.model = new AppViewModel();\\n    self.valueFromJulia = {};\\n    for (var key in json_data) {\\n        self.valueFromJulia[key] = false;\\n    }\\n    ko.applyBindings(self.model, self.dom);\\n}\\n);\\n    (WebIO.importBlock({\\\"data\\\":[{\\\"name\\\":\\\"knockout\\\",\\\"type\\\":\\\"js\\\",\\\"url\\\":\\\"/assetserver/254160226b58162a42111ea27214076747de1cf2-knockout.js\\\"},{\\\"name\\\":\\\"knockout_punches\\\",\\\"type\\\":\\\"js\\\",\\\"url\\\":\\\"/assetserver/2d0bf510fb683322318163f3ec7562806e4b1104-knockout_punches.js\\\"}],\\\"type\\\":\\\"async_block\\\"})).then((imports) => handler.apply(this, imports));\\n}\\n\")])], Dict{Symbol,Any}(:className => \"field interact-widget\")), Node{WebIO.DOM}(WebIO.DOM(:html, :div), Any[Scope(Node{WebIO.DOM}(WebIO.DOM(:html, :div), Any[Node{WebIO.DOM}(WebIO.DOM(:html, :div), Any[Node{WebIO.DOM}(WebIO.DOM(:html, :label), Any[\"law_name\"], Dict{Symbol,Any}(:className => \"interact \",:style => Dict{Any,Any}(:padding => \"5px 10px 0px 10px\")))], Dict{Symbol,Any}(:className => \"interact-flex-row-left\")), Node{WebIO.DOM}(WebIO.DOM(:html, :div), Any[Node{WebIO.DOM}(WebIO.DOM(:html, :div), Any[Node{WebIO.DOM}(WebIO.DOM(:html, :span), Any[Node{WebIO.DOM}(WebIO.DOM(:html, :label), Any[], Dict{Symbol,Any}(:attributes => Dict(\"data-bind\" => \"text : key\")))], Dict{Symbol,Any}(:attributes => Dict(\"data-bind\" => \"click: function (){\\$root.update(val)}, css: {'is-primary is-selected' : \\$root.index() == val, 'interact-widget is-medium button ' : true}\")))], Dict{Symbol,Any}(:attributes => (\"data-bind\" => \"foreach : options_js\"),:className => \"buttons has-addons is-centered\"))], Dict{Symbol,Any}(:className => \"interact-flex-row-center\")), Node{WebIO.DOM}(WebIO.DOM(:html, :div), Any[Node{WebIO.DOM}(WebIO.DOM(:html, :div), Any[], Dict{Symbol,Any}())], Dict{Symbol,Any}(:className => \"interact-flex-row-right\"))], Dict{Symbol,Any}(:className => \"interact-flex-row interact-widget\")), Dict{String,Tuple{Observables.AbstractObservable,Union{Nothing, Bool}}}(\"options_js\" => (Observable{Any} with 1 listeners. Value:\n",
       "OrderedDict[OrderedDict{String,Any}(\"key\" => \"Geometric\",\"val\" => 1,\"id\" => \"id7822Prk3\"), OrderedDict{String,Any}(\"key\" => \"Exponential\",\"val\" => 2,\"id\" => \"idTqwPXkE9\")], nothing),\"index\" => (Observable{Any} with 2 listeners. Value:\n",
       "1, nothing)), Set(String[]), nothing, Asset[Asset(\"js\", \"knockout\", \"C:\\\\Users\\\\matte\\\\.julia\\\\packages\\\\Knockout\\\\1sDlc\\\\src\\\\..\\\\assets\\\\knockout.js\"), Asset(\"js\", \"knockout_punches\", \"C:\\\\Users\\\\matte\\\\.julia\\\\packages\\\\Knockout\\\\1sDlc\\\\src\\\\..\\\\assets\\\\knockout_punches.js\"), Asset(\"js\", nothing, \"C:\\\\Users\\\\matte\\\\.julia\\\\packages\\\\InteractBase\\\\9mFwe\\\\src\\\\..\\\\assets\\\\all.js\"), Asset(\"css\", nothing, \"C:\\\\Users\\\\matte\\\\.julia\\\\packages\\\\InteractBase\\\\9mFwe\\\\src\\\\..\\\\assets\\\\style.css\"), Asset(\"css\", nothing, \"C:\\\\Users\\\\matte\\\\.julia\\\\packages\\\\Interact\\\\SbgIk\\\\src\\\\..\\\\assets\\\\bulma_confined.min.css\")], Dict{Any,Any}(\"options_js\" => Any[WebIO.JSString(\"(function (val){return (val!=this.model[\\\"options_js\\\"]()) ? (this.valueFromJulia[\\\"options_js\\\"]=true, this.model[\\\"options_js\\\"](val)) : undefined})\")],\"index\" => Any[WebIO.JSString(\"(function (val){return (val!=this.model[\\\"index\\\"]()) ? (this.valueFromJulia[\\\"index\\\"]=true, this.model[\\\"index\\\"](val)) : undefined})\")]), WebIO.ConnectionPool(Channel{Any}(sz_max:32,sz_curr:0), Set(AbstractConnection[]), Base.GenericCondition{Base.AlwaysLockedST}(Base.InvasiveLinkedList{Task}(Task (runnable) @0x00000000138edfb0, Task (runnable) @0x00000000138edfb0), Base.AlwaysLockedST(1))), WebIO.JSString[WebIO.JSString(\"function () {\\n    var handler = (function (ko, koPunches) {\\n    ko.punches.enableAll();\\n    ko.bindingHandlers.numericValue = {\\n        init: function(element, valueAccessor, allBindings, data, context) {\\n            var stringified = ko.observable(ko.unwrap(valueAccessor()));\\n            stringified.subscribe(function(value) {\\n                var val = parseFloat(value);\\n                if (!isNaN(val)) {\\n                    valueAccessor()(val);\\n                }\\n            });\\n            valueAccessor().subscribe(function(value) {\\n                var str = JSON.stringify(value);\\n                if ((str == \\\"0\\\") && ([\\\"-0\\\", \\\"-0.\\\"].indexOf(stringified()) >= 0))\\n                     return;\\n                 if ([\\\"null\\\", \\\"\\\"].indexOf(str) >= 0)\\n                     return;\\n                stringified(str);\\n            });\\n            ko.applyBindingsToNode(\\n                element,\\n                {\\n                    value: stringified,\\n                    valueUpdate: allBindings.get('valueUpdate'),\\n                },\\n                context,\\n            );\\n        }\\n    };\\n    var json_data = {\\\"options_js\\\":WebIO.getval({\\\"name\\\":\\\"options_js\\\",\\\"scope\\\":\\\"11374158366641008554\\\",\\\"id\\\":\\\"ob_73\\\",\\\"type\\\":\\\"observable\\\"}),\\\"index\\\":WebIO.getval({\\\"name\\\":\\\"index\\\",\\\"scope\\\":\\\"11374158366641008554\\\",\\\"id\\\":\\\"ob_72\\\",\\\"type\\\":\\\"observable\\\"})};\\n    var self = this;\\n    function AppViewModel() {\\n        for (var key in json_data) {\\n            var el = json_data[key];\\n            this[key] = Array.isArray(el) ? ko.observableArray(el) : ko.observable(el);\\n        }\\n        [this[\\\"update\\\"]=function (val) {this.index(val)}]\\n        \\n        [this[\\\"options_js\\\"].subscribe((function (val){!(this.valueFromJulia[\\\"options_js\\\"]) ? (WebIO.setval({\\\"name\\\":\\\"options_js\\\",\\\"scope\\\":\\\"11374158366641008554\\\",\\\"id\\\":\\\"ob_73\\\",\\\"type\\\":\\\"observable\\\"},val)) : undefined; return this.valueFromJulia[\\\"options_js\\\"]=false}),self),this[\\\"index\\\"].subscribe((function (val){!(this.valueFromJulia[\\\"index\\\"]) ? (WebIO.setval({\\\"name\\\":\\\"index\\\",\\\"scope\\\":\\\"11374158366641008554\\\",\\\"id\\\":\\\"ob_72\\\",\\\"type\\\":\\\"observable\\\"},val)) : undefined; return this.valueFromJulia[\\\"index\\\"]=false}),self)]\\n        \\n    }\\n    self.model = new AppViewModel();\\n    self.valueFromJulia = {};\\n    for (var key in json_data) {\\n        self.valueFromJulia[key] = false;\\n    }\\n    ko.applyBindings(self.model, self.dom);\\n}\\n);\\n    (WebIO.importBlock({\\\"data\\\":[{\\\"name\\\":\\\"knockout\\\",\\\"type\\\":\\\"js\\\",\\\"url\\\":\\\"/assetserver/254160226b58162a42111ea27214076747de1cf2-knockout.js\\\"},{\\\"name\\\":\\\"knockout_punches\\\",\\\"type\\\":\\\"js\\\",\\\"url\\\":\\\"/assetserver/2d0bf510fb683322318163f3ec7562806e4b1104-knockout_punches.js\\\"}],\\\"type\\\":\\\"async_block\\\"})).then((imports) => handler.apply(this, imports));\\n}\\n\")])], Dict{Symbol,Any}(:className => \"interact-widget\")), Node{WebIO.DOM}(WebIO.DOM(:html, :div), Any[Scope(Node{WebIO.DOM}(WebIO.DOM(:html, :div), Any[Node{WebIO.DOM}(WebIO.DOM(:html, :div), Any[Node{WebIO.DOM}(WebIO.DOM(:html, :label), Any[\"q\"], Dict{Symbol,Any}(:className => \"interact \",:style => Dict{Any,Any}(:padding => \"5px 10px 0px 10px\")))], Dict{Symbol,Any}(:className => \"interact-flex-row-left\")), Node{WebIO.DOM}(WebIO.DOM(:html, :div), Any[Node{WebIO.DOM}(WebIO.DOM(:html, :input), Any[], Dict{Symbol,Any}(:max => 9,:min => 1,:attributes => Dict{Any,Any}(:type => \"range\",Symbol(\"data-bind\") => \"numericValue: index, valueUpdate: 'input', event: {change: function (){this.changes(this.changes()+1)}}\",\"orient\" => \"horizontal\"),:step => 1,:className => \"slider slider is-fullwidth\",:style => Dict{Any,Any}()))], Dict{Symbol,Any}(:className => \"interact-flex-row-center\")), Node{WebIO.DOM}(WebIO.DOM(:html, :div), Any[Node{WebIO.DOM}(WebIO.DOM(:html, :p), Any[], Dict{Symbol,Any}(:attributes => Dict(\"data-bind\" => \"text: formatted_val\")))], Dict{Symbol,Any}(:className => \"interact-flex-row-right\"))], Dict{Symbol,Any}(:className => \"interact-flex-row interact-widget\")), Dict{String,Tuple{Observables.AbstractObservable,Union{Nothing, Bool}}}(\"changes\" => (Observable{Int64} with 1 listeners. Value:\n",
       "0, nothing),\"index\" => (Observable{Any} with 2 listeners. Value:\n",
       "5, nothing)), Set(String[]), nothing, Asset[Asset(\"js\", \"knockout\", \"C:\\\\Users\\\\matte\\\\.julia\\\\packages\\\\Knockout\\\\1sDlc\\\\src\\\\..\\\\assets\\\\knockout.js\"), Asset(\"js\", \"knockout_punches\", \"C:\\\\Users\\\\matte\\\\.julia\\\\packages\\\\Knockout\\\\1sDlc\\\\src\\\\..\\\\assets\\\\knockout_punches.js\"), Asset(\"js\", nothing, \"C:\\\\Users\\\\matte\\\\.julia\\\\packages\\\\InteractBase\\\\9mFwe\\\\src\\\\..\\\\assets\\\\all.js\"), Asset(\"css\", nothing, \"C:\\\\Users\\\\matte\\\\.julia\\\\packages\\\\InteractBase\\\\9mFwe\\\\src\\\\..\\\\assets\\\\style.css\"), Asset(\"css\", nothing, \"C:\\\\Users\\\\matte\\\\.julia\\\\packages\\\\Interact\\\\SbgIk\\\\src\\\\..\\\\assets\\\\bulma_confined.min.css\")], Dict{Any,Any}(\"changes\" => Any[WebIO.JSString(\"(function (val){return (val!=this.model[\\\"changes\\\"]()) ? (this.valueFromJulia[\\\"changes\\\"]=true, this.model[\\\"changes\\\"](val)) : undefined})\")],\"index\" => Any[WebIO.JSString(\"(function (val){return (val!=this.model[\\\"index\\\"]()) ? (this.valueFromJulia[\\\"index\\\"]=true, this.model[\\\"index\\\"](val)) : undefined})\")]), WebIO.ConnectionPool(Channel{Any}(sz_max:32,sz_curr:0), Set(AbstractConnection[]), Base.GenericCondition{Base.AlwaysLockedST}(Base.InvasiveLinkedList{Task}(Task (runnable) @0x00000000138ee290, Task (runnable) @0x00000000138ee290), Base.AlwaysLockedST(1))), WebIO.JSString[WebIO.JSString(\"function () {\\n    var handler = (function (ko, koPunches) {\\n    ko.punches.enableAll();\\n    ko.bindingHandlers.numericValue = {\\n        init: function(element, valueAccessor, allBindings, data, context) {\\n            var stringified = ko.observable(ko.unwrap(valueAccessor()));\\n            stringified.subscribe(function(value) {\\n                var val = parseFloat(value);\\n                if (!isNaN(val)) {\\n                    valueAccessor()(val);\\n                }\\n            });\\n            valueAccessor().subscribe(function(value) {\\n                var str = JSON.stringify(value);\\n                if ((str == \\\"0\\\") && ([\\\"-0\\\", \\\"-0.\\\"].indexOf(stringified()) >= 0))\\n                     return;\\n                 if ([\\\"null\\\", \\\"\\\"].indexOf(str) >= 0)\\n                     return;\\n                stringified(str);\\n            });\\n            ko.applyBindingsToNode(\\n                element,\\n                {\\n                    value: stringified,\\n                    valueUpdate: allBindings.get('valueUpdate'),\\n                },\\n                context,\\n            );\\n        }\\n    };\\n    var json_data = {\\\"formatted_vals\\\":[\\\"0.1\\\",\\\"0.2\\\",\\\"0.3\\\",\\\"0.4\\\",\\\"0.5\\\",\\\"0.6\\\",\\\"0.7\\\",\\\"0.8\\\",\\\"0.9\\\"],\\\"changes\\\":WebIO.getval({\\\"name\\\":\\\"changes\\\",\\\"scope\\\":\\\"8964630653891612638\\\",\\\"id\\\":\\\"ob_76\\\",\\\"type\\\":\\\"observable\\\"}),\\\"index\\\":WebIO.getval({\\\"name\\\":\\\"index\\\",\\\"scope\\\":\\\"8964630653891612638\\\",\\\"id\\\":\\\"ob_75\\\",\\\"type\\\":\\\"observable\\\"})};\\n    var self = this;\\n    function AppViewModel() {\\n        for (var key in json_data) {\\n            var el = json_data[key];\\n            this[key] = Array.isArray(el) ? ko.observableArray(el) : ko.observable(el);\\n        }\\n        \\n        [this[\\\"formatted_val\\\"]=ko.computed(    function(){\\n        return this.formatted_vals()[parseInt(this.index())-(1)];\\n    }\\n,this)]\\n        [this[\\\"changes\\\"].subscribe((function (val){!(this.valueFromJulia[\\\"changes\\\"]) ? (WebIO.setval({\\\"name\\\":\\\"changes\\\",\\\"scope\\\":\\\"8964630653891612638\\\",\\\"id\\\":\\\"ob_76\\\",\\\"type\\\":\\\"observable\\\"},val)) : undefined; return this.valueFromJulia[\\\"changes\\\"]=false}),self),this[\\\"index\\\"].subscribe((function (val){!(this.valueFromJulia[\\\"index\\\"]) ? (WebIO.setval({\\\"name\\\":\\\"index\\\",\\\"scope\\\":\\\"8964630653891612638\\\",\\\"id\\\":\\\"ob_75\\\",\\\"type\\\":\\\"observable\\\"},val)) : undefined; return this.valueFromJulia[\\\"index\\\"]=false}),self)]\\n        \\n    }\\n    self.model = new AppViewModel();\\n    self.valueFromJulia = {};\\n    for (var key in json_data) {\\n        self.valueFromJulia[key] = false;\\n    }\\n    ko.applyBindings(self.model, self.dom);\\n}\\n);\\n    (WebIO.importBlock({\\\"data\\\":[{\\\"name\\\":\\\"knockout\\\",\\\"type\\\":\\\"js\\\",\\\"url\\\":\\\"/assetserver/254160226b58162a42111ea27214076747de1cf2-knockout.js\\\"},{\\\"name\\\":\\\"knockout_punches\\\",\\\"type\\\":\\\"js\\\",\\\"url\\\":\\\"/assetserver/2d0bf510fb683322318163f3ec7562806e4b1104-knockout_punches.js\\\"}],\\\"type\\\":\\\"async_block\\\"})).then((imports) => handler.apply(this, imports));\\n}\\n\")])], Dict{Symbol,Any}(:className => \"field interact-widget\")), Node{WebIO.DOM}(WebIO.DOM(:html, :div), Any[Scope(Node{WebIO.DOM}(WebIO.DOM(:html, :div), Any[Node{WebIO.DOM}(WebIO.DOM(:html, :div), Any[Node{WebIO.DOM}(WebIO.DOM(:html, :label), Any[\"λ\"], Dict{Symbol,Any}(:className => \"interact \",:style => Dict{Any,Any}(:padding => \"5px 10px 0px 10px\")))], Dict{Symbol,Any}(:className => \"interact-flex-row-left\")), Node{WebIO.DOM}(WebIO.DOM(:html, :div), Any[Node{WebIO.DOM}(WebIO.DOM(:html, :input), Any[], Dict{Symbol,Any}(:max => 10,:min => 1,:attributes => Dict{Any,Any}(:type => \"range\",Symbol(\"data-bind\") => \"numericValue: index, valueUpdate: 'input', event: {change: function (){this.changes(this.changes()+1)}}\",\"orient\" => \"horizontal\"),:step => 1,:className => \"slider slider is-fullwidth\",:style => Dict{Any,Any}()))], Dict{Symbol,Any}(:className => \"interact-flex-row-center\")), Node{WebIO.DOM}(WebIO.DOM(:html, :div), Any[Node{WebIO.DOM}(WebIO.DOM(:html, :p), Any[], Dict{Symbol,Any}(:attributes => Dict(\"data-bind\" => \"text: formatted_val\")))], Dict{Symbol,Any}(:className => \"interact-flex-row-right\"))], Dict{Symbol,Any}(:className => \"interact-flex-row interact-widget\")), Dict{String,Tuple{Observables.AbstractObservable,Union{Nothing, Bool}}}(\"changes\" => (Observable{Int64} with 1 listeners. Value:\n",
       "0, nothing),\"index\" => (Observable{Int64} with 2 listeners. Value:\n",
       "5, nothing)), Set(String[]), nothing, Asset[Asset(\"js\", \"knockout\", \"C:\\\\Users\\\\matte\\\\.julia\\\\packages\\\\Knockout\\\\1sDlc\\\\src\\\\..\\\\assets\\\\knockout.js\"), Asset(\"js\", \"knockout_punches\", \"C:\\\\Users\\\\matte\\\\.julia\\\\packages\\\\Knockout\\\\1sDlc\\\\src\\\\..\\\\assets\\\\knockout_punches.js\"), Asset(\"js\", nothing, \"C:\\\\Users\\\\matte\\\\.julia\\\\packages\\\\InteractBase\\\\9mFwe\\\\src\\\\..\\\\assets\\\\all.js\"), Asset(\"css\", nothing, \"C:\\\\Users\\\\matte\\\\.julia\\\\packages\\\\InteractBase\\\\9mFwe\\\\src\\\\..\\\\assets\\\\style.css\"), Asset(\"css\", nothing, \"C:\\\\Users\\\\matte\\\\.julia\\\\packages\\\\Interact\\\\SbgIk\\\\src\\\\..\\\\assets\\\\bulma_confined.min.css\")], Dict{Any,Any}(\"changes\" => Any[WebIO.JSString(\"(function (val){return (val!=this.model[\\\"changes\\\"]()) ? (this.valueFromJulia[\\\"changes\\\"]=true, this.model[\\\"changes\\\"](val)) : undefined})\")],\"index\" => Any[WebIO.JSString(\"(function (val){return (val!=this.model[\\\"index\\\"]()) ? (this.valueFromJulia[\\\"index\\\"]=true, this.model[\\\"index\\\"](val)) : undefined})\")]), WebIO.ConnectionPool(Channel{Any}(sz_max:32,sz_curr:0), Set(AbstractConnection[]), Base.GenericCondition{Base.AlwaysLockedST}(Base.InvasiveLinkedList{Task}(Task (runnable) @0x00000000138ee570, Task (runnable) @0x00000000138ee570), Base.AlwaysLockedST(1))), WebIO.JSString[WebIO.JSString(\"function () {\\n    var handler = (function (ko, koPunches) {\\n    ko.punches.enableAll();\\n    ko.bindingHandlers.numericValue = {\\n        init: function(element, valueAccessor, allBindings, data, context) {\\n            var stringified = ko.observable(ko.unwrap(valueAccessor()));\\n            stringified.subscribe(function(value) {\\n                var val = parseFloat(value);\\n                if (!isNaN(val)) {\\n                    valueAccessor()(val);\\n                }\\n            });\\n            valueAccessor().subscribe(function(value) {\\n                var str = JSON.stringify(value);\\n                if ((str == \\\"0\\\") && ([\\\"-0\\\", \\\"-0.\\\"].indexOf(stringified()) >= 0))\\n                     return;\\n                 if ([\\\"null\\\", \\\"\\\"].indexOf(str) >= 0)\\n                     return;\\n                stringified(str);\\n            });\\n            ko.applyBindingsToNode(\\n                element,\\n                {\\n                    value: stringified,\\n                    valueUpdate: allBindings.get('valueUpdate'),\\n                },\\n                context,\\n            );\\n        }\\n    };\\n    var json_data = {\\\"formatted_vals\\\":[\\\"1\\\",\\\"2\\\",\\\"3\\\",\\\"4\\\",\\\"5\\\",\\\"6\\\",\\\"7\\\",\\\"8\\\",\\\"9\\\",\\\"10\\\"],\\\"changes\\\":WebIO.getval({\\\"name\\\":\\\"changes\\\",\\\"scope\\\":\\\"13751628643193050039\\\",\\\"id\\\":\\\"ob_78\\\",\\\"type\\\":\\\"observable\\\"}),\\\"index\\\":WebIO.getval({\\\"name\\\":\\\"index\\\",\\\"scope\\\":\\\"13751628643193050039\\\",\\\"id\\\":\\\"ob_77\\\",\\\"type\\\":\\\"observable\\\"})};\\n    var self = this;\\n    function AppViewModel() {\\n        for (var key in json_data) {\\n            var el = json_data[key];\\n            this[key] = Array.isArray(el) ? ko.observableArray(el) : ko.observable(el);\\n        }\\n        \\n        [this[\\\"formatted_val\\\"]=ko.computed(    function(){\\n        return this.formatted_vals()[parseInt(this.index())-(1)];\\n    }\\n,this)]\\n        [this[\\\"changes\\\"].subscribe((function (val){!(this.valueFromJulia[\\\"changes\\\"]) ? (WebIO.setval({\\\"name\\\":\\\"changes\\\",\\\"scope\\\":\\\"13751628643193050039\\\",\\\"id\\\":\\\"ob_78\\\",\\\"type\\\":\\\"observable\\\"},val)) : undefined; return this.valueFromJulia[\\\"changes\\\"]=false}),self),this[\\\"index\\\"].subscribe((function (val){!(this.valueFromJulia[\\\"index\\\"]) ? (WebIO.setval({\\\"name\\\":\\\"index\\\",\\\"scope\\\":\\\"13751628643193050039\\\",\\\"id\\\":\\\"ob_77\\\",\\\"type\\\":\\\"observable\\\"},val)) : undefined; return this.valueFromJulia[\\\"index\\\"]=false}),self)]\\n        \\n    }\\n    self.model = new AppViewModel();\\n    self.valueFromJulia = {};\\n    for (var key in json_data) {\\n        self.valueFromJulia[key] = false;\\n    }\\n    ko.applyBindings(self.model, self.dom);\\n}\\n);\\n    (WebIO.importBlock({\\\"data\\\":[{\\\"name\\\":\\\"knockout\\\",\\\"type\\\":\\\"js\\\",\\\"url\\\":\\\"/assetserver/254160226b58162a42111ea27214076747de1cf2-knockout.js\\\"},{\\\"name\\\":\\\"knockout_punches\\\",\\\"type\\\":\\\"js\\\",\\\"url\\\":\\\"/assetserver/2d0bf510fb683322318163f3ec7562806e4b1104-knockout_punches.js\\\"}],\\\"type\\\":\\\"async_block\\\"})).then((imports) => handler.apply(this, imports));\\n}\\n\")])], Dict{Symbol,Any}(:className => \"field interact-widget\")), Observable{Any} with 0 listeners. Value:\n",
       "Node{WebIO.DOM}(WebIO.DOM(:html, :div), Any[Plot{Plots.GRBackend() n=2}], Dict{Symbol,Any}(:className => \"interact-flex-row interact-widget\"))], Dict{Symbol,Any}())"
      ]
     },
     "execution_count": 22,
     "metadata": {
      "application/vnd.webio.node+json": {
       "kernelId": "77a607b8-8e7d-45cb-9603-fdcc29a74734"
      }
     },
     "output_type": "execute_result"
    }
   ],
   "source": [
    "@manipulate for nb_samples = 100:100:NB_SAMPLES, N = RANGE_N, law_name = [\"Geometric\", \"Exponential\"], q = RANGE_q, λ = RANGE_λ\n",
    "    plot_clt(nb_samples, N, law_name, q, λ, TW_pdf, d)\n",
    "end"
   ]
  },
  {
   "cell_type": "code",
   "execution_count": 40,
   "metadata": {},
   "outputs": [
    {
     "data": {
      "image/svg+xml": [
       "<?xml version=\"1.0\" encoding=\"utf-8\"?>\n",
       "<svg xmlns=\"http://www.w3.org/2000/svg\" xmlns:xlink=\"http://www.w3.org/1999/xlink\" width=\"600\" height=\"400\" viewBox=\"0 0 2400 1600\">\n",
       "<defs>\n",
       "  <clipPath id=\"clip2300\">\n",
       "    <rect x=\"0\" y=\"0\" width=\"2400\" height=\"1600\"/>\n",
       "  </clipPath>\n",
       "</defs>\n",
       "<path clip-path=\"url(#clip2300)\" d=\"\n",
       "M0 1600 L2400 1600 L2400 0 L0 0  Z\n",
       "  \" fill=\"#ffffff\" fill-rule=\"evenodd\" fill-opacity=\"1\"/>\n",
       "<defs>\n",
       "  <clipPath id=\"clip2301\">\n",
       "    <rect x=\"480\" y=\"0\" width=\"1681\" height=\"1600\"/>\n",
       "  </clipPath>\n",
       "</defs>\n",
       "<path clip-path=\"url(#clip2300)\" d=\"\n",
       "M153.898 1487.47 L2352.76 1487.47 L2352.76 47.2441 L153.898 47.2441  Z\n",
       "  \" fill=\"#ffffff\" fill-rule=\"evenodd\" fill-opacity=\"1\"/>\n",
       "<defs>\n",
       "  <clipPath id=\"clip2302\">\n",
       "    <rect x=\"153\" y=\"47\" width=\"2200\" height=\"1441\"/>\n",
       "  </clipPath>\n",
       "</defs>\n",
       "<polyline clip-path=\"url(#clip2302)\" style=\"stroke:#000000; stroke-width:2; stroke-opacity:0.1; fill:none\" points=\"\n",
       "  388.996,1487.47 388.996,47.2441 \n",
       "  \"/>\n",
       "<polyline clip-path=\"url(#clip2302)\" style=\"stroke:#000000; stroke-width:2; stroke-opacity:0.1; fill:none\" points=\"\n",
       "  821.161,1487.47 821.161,47.2441 \n",
       "  \"/>\n",
       "<polyline clip-path=\"url(#clip2302)\" style=\"stroke:#000000; stroke-width:2; stroke-opacity:0.1; fill:none\" points=\"\n",
       "  1253.33,1487.47 1253.33,47.2441 \n",
       "  \"/>\n",
       "<polyline clip-path=\"url(#clip2302)\" style=\"stroke:#000000; stroke-width:2; stroke-opacity:0.1; fill:none\" points=\"\n",
       "  1685.49,1487.47 1685.49,47.2441 \n",
       "  \"/>\n",
       "<polyline clip-path=\"url(#clip2302)\" style=\"stroke:#000000; stroke-width:2; stroke-opacity:0.1; fill:none\" points=\"\n",
       "  2117.66,1487.47 2117.66,47.2441 \n",
       "  \"/>\n",
       "<polyline clip-path=\"url(#clip2302)\" style=\"stroke:#000000; stroke-width:2; stroke-opacity:0.1; fill:none\" points=\"\n",
       "  153.898,1446.71 2352.76,1446.71 \n",
       "  \"/>\n",
       "<polyline clip-path=\"url(#clip2302)\" style=\"stroke:#000000; stroke-width:2; stroke-opacity:0.1; fill:none\" points=\"\n",
       "  153.898,1185.42 2352.76,1185.42 \n",
       "  \"/>\n",
       "<polyline clip-path=\"url(#clip2302)\" style=\"stroke:#000000; stroke-width:2; stroke-opacity:0.1; fill:none\" points=\"\n",
       "  153.898,924.133 2352.76,924.133 \n",
       "  \"/>\n",
       "<polyline clip-path=\"url(#clip2302)\" style=\"stroke:#000000; stroke-width:2; stroke-opacity:0.1; fill:none\" points=\"\n",
       "  153.898,662.843 2352.76,662.843 \n",
       "  \"/>\n",
       "<polyline clip-path=\"url(#clip2302)\" style=\"stroke:#000000; stroke-width:2; stroke-opacity:0.1; fill:none\" points=\"\n",
       "  153.898,401.553 2352.76,401.553 \n",
       "  \"/>\n",
       "<polyline clip-path=\"url(#clip2302)\" style=\"stroke:#000000; stroke-width:2; stroke-opacity:0.1; fill:none\" points=\"\n",
       "  153.898,140.263 2352.76,140.263 \n",
       "  \"/>\n",
       "<polyline clip-path=\"url(#clip2300)\" style=\"stroke:#000000; stroke-width:4; stroke-opacity:1; fill:none\" points=\"\n",
       "  153.898,1487.47 2352.76,1487.47 \n",
       "  \"/>\n",
       "<polyline clip-path=\"url(#clip2300)\" style=\"stroke:#000000; stroke-width:4; stroke-opacity:1; fill:none\" points=\"\n",
       "  153.898,1487.47 153.898,47.2441 \n",
       "  \"/>\n",
       "<polyline clip-path=\"url(#clip2300)\" style=\"stroke:#000000; stroke-width:4; stroke-opacity:1; fill:none\" points=\"\n",
       "  388.996,1487.47 388.996,1465.87 \n",
       "  \"/>\n",
       "<polyline clip-path=\"url(#clip2300)\" style=\"stroke:#000000; stroke-width:4; stroke-opacity:1; fill:none\" points=\"\n",
       "  821.161,1487.47 821.161,1465.87 \n",
       "  \"/>\n",
       "<polyline clip-path=\"url(#clip2300)\" style=\"stroke:#000000; stroke-width:4; stroke-opacity:1; fill:none\" points=\"\n",
       "  1253.33,1487.47 1253.33,1465.87 \n",
       "  \"/>\n",
       "<polyline clip-path=\"url(#clip2300)\" style=\"stroke:#000000; stroke-width:4; stroke-opacity:1; fill:none\" points=\"\n",
       "  1685.49,1487.47 1685.49,1465.87 \n",
       "  \"/>\n",
       "<polyline clip-path=\"url(#clip2300)\" style=\"stroke:#000000; stroke-width:4; stroke-opacity:1; fill:none\" points=\"\n",
       "  2117.66,1487.47 2117.66,1465.87 \n",
       "  \"/>\n",
       "<polyline clip-path=\"url(#clip2300)\" style=\"stroke:#000000; stroke-width:4; stroke-opacity:1; fill:none\" points=\"\n",
       "  153.898,1446.71 186.881,1446.71 \n",
       "  \"/>\n",
       "<polyline clip-path=\"url(#clip2300)\" style=\"stroke:#000000; stroke-width:4; stroke-opacity:1; fill:none\" points=\"\n",
       "  153.898,1185.42 186.881,1185.42 \n",
       "  \"/>\n",
       "<polyline clip-path=\"url(#clip2300)\" style=\"stroke:#000000; stroke-width:4; stroke-opacity:1; fill:none\" points=\"\n",
       "  153.898,924.133 186.881,924.133 \n",
       "  \"/>\n",
       "<polyline clip-path=\"url(#clip2300)\" style=\"stroke:#000000; stroke-width:4; stroke-opacity:1; fill:none\" points=\"\n",
       "  153.898,662.843 186.881,662.843 \n",
       "  \"/>\n",
       "<polyline clip-path=\"url(#clip2300)\" style=\"stroke:#000000; stroke-width:4; stroke-opacity:1; fill:none\" points=\"\n",
       "  153.898,401.553 186.881,401.553 \n",
       "  \"/>\n",
       "<polyline clip-path=\"url(#clip2300)\" style=\"stroke:#000000; stroke-width:4; stroke-opacity:1; fill:none\" points=\"\n",
       "  153.898,140.263 186.881,140.263 \n",
       "  \"/>\n",
       "<g clip-path=\"url(#clip2300)\">\n",
       "<text style=\"fill:#000000; fill-opacity:1; font-family:Arial,Helvetica Neue,Helvetica,sans-serif; font-size:48px; text-anchor:middle;\" transform=\"rotate(0, 388.996, 1541.47)\" x=\"388.996\" y=\"1541.47\">-5.0</text>\n",
       "</g>\n",
       "<g clip-path=\"url(#clip2300)\">\n",
       "<text style=\"fill:#000000; fill-opacity:1; font-family:Arial,Helvetica Neue,Helvetica,sans-serif; font-size:48px; text-anchor:middle;\" transform=\"rotate(0, 821.161, 1541.47)\" x=\"821.161\" y=\"1541.47\">-2.5</text>\n",
       "</g>\n",
       "<g clip-path=\"url(#clip2300)\">\n",
       "<text style=\"fill:#000000; fill-opacity:1; font-family:Arial,Helvetica Neue,Helvetica,sans-serif; font-size:48px; text-anchor:middle;\" transform=\"rotate(0, 1253.33, 1541.47)\" x=\"1253.33\" y=\"1541.47\">0.0</text>\n",
       "</g>\n",
       "<g clip-path=\"url(#clip2300)\">\n",
       "<text style=\"fill:#000000; fill-opacity:1; font-family:Arial,Helvetica Neue,Helvetica,sans-serif; font-size:48px; text-anchor:middle;\" transform=\"rotate(0, 1685.49, 1541.47)\" x=\"1685.49\" y=\"1541.47\">2.5</text>\n",
       "</g>\n",
       "<g clip-path=\"url(#clip2300)\">\n",
       "<text style=\"fill:#000000; fill-opacity:1; font-family:Arial,Helvetica Neue,Helvetica,sans-serif; font-size:48px; text-anchor:middle;\" transform=\"rotate(0, 2117.66, 1541.47)\" x=\"2117.66\" y=\"1541.47\">5.0</text>\n",
       "</g>\n",
       "<g clip-path=\"url(#clip2300)\">\n",
       "<text style=\"fill:#000000; fill-opacity:1; font-family:Arial,Helvetica Neue,Helvetica,sans-serif; font-size:48px; text-anchor:end;\" transform=\"rotate(0, 129.898, 1464.21)\" x=\"129.898\" y=\"1464.21\">0.0</text>\n",
       "</g>\n",
       "<g clip-path=\"url(#clip2300)\">\n",
       "<text style=\"fill:#000000; fill-opacity:1; font-family:Arial,Helvetica Neue,Helvetica,sans-serif; font-size:48px; text-anchor:end;\" transform=\"rotate(0, 129.898, 1202.92)\" x=\"129.898\" y=\"1202.92\">0.1</text>\n",
       "</g>\n",
       "<g clip-path=\"url(#clip2300)\">\n",
       "<text style=\"fill:#000000; fill-opacity:1; font-family:Arial,Helvetica Neue,Helvetica,sans-serif; font-size:48px; text-anchor:end;\" transform=\"rotate(0, 129.898, 941.633)\" x=\"129.898\" y=\"941.633\">0.2</text>\n",
       "</g>\n",
       "<g clip-path=\"url(#clip2300)\">\n",
       "<text style=\"fill:#000000; fill-opacity:1; font-family:Arial,Helvetica Neue,Helvetica,sans-serif; font-size:48px; text-anchor:end;\" transform=\"rotate(0, 129.898, 680.343)\" x=\"129.898\" y=\"680.343\">0.3</text>\n",
       "</g>\n",
       "<g clip-path=\"url(#clip2300)\">\n",
       "<text style=\"fill:#000000; fill-opacity:1; font-family:Arial,Helvetica Neue,Helvetica,sans-serif; font-size:48px; text-anchor:end;\" transform=\"rotate(0, 129.898, 419.053)\" x=\"129.898\" y=\"419.053\">0.4</text>\n",
       "</g>\n",
       "<g clip-path=\"url(#clip2300)\">\n",
       "<text style=\"fill:#000000; fill-opacity:1; font-family:Arial,Helvetica Neue,Helvetica,sans-serif; font-size:48px; text-anchor:end;\" transform=\"rotate(0, 129.898, 157.763)\" x=\"129.898\" y=\"157.763\">0.5</text>\n",
       "</g>\n",
       "<path clip-path=\"url(#clip2302)\" d=\"\n",
       "M388.996 1446.71 L388.996 1446.71 L423.569 1446.71 L423.569 1446.71 L388.996 1446.71 L388.996 1446.71  Z\n",
       "  \" fill=\"#009af9\" fill-rule=\"evenodd\" fill-opacity=\"1\"/>\n",
       "<polyline clip-path=\"url(#clip2302)\" style=\"stroke:#000000; stroke-width:4; stroke-opacity:1; fill:none\" points=\"\n",
       "  388.996,1446.71 388.996,1446.71 423.569,1446.71 388.996,1446.71 \n",
       "  \"/>\n",
       "<path clip-path=\"url(#clip2302)\" d=\"\n",
       "M423.569 1446.71 L423.569 1446.71 L458.142 1446.71 L458.142 1446.71 L423.569 1446.71 L423.569 1446.71  Z\n",
       "  \" fill=\"#009af9\" fill-rule=\"evenodd\" fill-opacity=\"1\"/>\n",
       "<polyline clip-path=\"url(#clip2302)\" style=\"stroke:#000000; stroke-width:4; stroke-opacity:1; fill:none\" points=\"\n",
       "  423.569,1446.71 423.569,1446.71 458.142,1446.71 423.569,1446.71 \n",
       "  \"/>\n",
       "<path clip-path=\"url(#clip2302)\" d=\"\n",
       "M458.142 1446.71 L458.142 1446.71 L492.716 1446.71 L492.716 1446.71 L458.142 1446.71 L458.142 1446.71  Z\n",
       "  \" fill=\"#009af9\" fill-rule=\"evenodd\" fill-opacity=\"1\"/>\n",
       "<polyline clip-path=\"url(#clip2302)\" style=\"stroke:#000000; stroke-width:4; stroke-opacity:1; fill:none\" points=\"\n",
       "  458.142,1446.71 458.142,1446.71 492.716,1446.71 458.142,1446.71 \n",
       "  \"/>\n",
       "<path clip-path=\"url(#clip2302)\" d=\"\n",
       "M492.716 1407.52 L492.716 1446.71 L527.289 1446.71 L527.289 1407.52 L492.716 1407.52 L492.716 1407.52  Z\n",
       "  \" fill=\"#009af9\" fill-rule=\"evenodd\" fill-opacity=\"1\"/>\n",
       "<polyline clip-path=\"url(#clip2302)\" style=\"stroke:#000000; stroke-width:4; stroke-opacity:1; fill:none\" points=\"\n",
       "  492.716,1407.52 492.716,1446.71 527.289,1446.71 527.289,1407.52 492.716,1407.52 \n",
       "  \"/>\n",
       "<path clip-path=\"url(#clip2302)\" d=\"\n",
       "M527.289 1407.52 L527.289 1446.71 L561.862 1446.71 L561.862 1407.52 L527.289 1407.52 L527.289 1407.52  Z\n",
       "  \" fill=\"#009af9\" fill-rule=\"evenodd\" fill-opacity=\"1\"/>\n",
       "<polyline clip-path=\"url(#clip2302)\" style=\"stroke:#000000; stroke-width:4; stroke-opacity:1; fill:none\" points=\"\n",
       "  527.289,1407.52 527.289,1446.71 561.862,1446.71 561.862,1407.52 527.289,1407.52 \n",
       "  \"/>\n",
       "<path clip-path=\"url(#clip2302)\" d=\"\n",
       "M561.862 1420.58 L561.862 1446.71 L596.435 1446.71 L596.435 1420.58 L561.862 1420.58 L561.862 1420.58  Z\n",
       "  \" fill=\"#009af9\" fill-rule=\"evenodd\" fill-opacity=\"1\"/>\n",
       "<polyline clip-path=\"url(#clip2302)\" style=\"stroke:#000000; stroke-width:4; stroke-opacity:1; fill:none\" points=\"\n",
       "  561.862,1420.58 561.862,1446.71 596.435,1446.71 596.435,1420.58 561.862,1420.58 \n",
       "  \"/>\n",
       "<path clip-path=\"url(#clip2302)\" d=\"\n",
       "M596.435 1329.13 L596.435 1446.71 L631.009 1446.71 L631.009 1329.13 L596.435 1329.13 L596.435 1329.13  Z\n",
       "  \" fill=\"#009af9\" fill-rule=\"evenodd\" fill-opacity=\"1\"/>\n",
       "<polyline clip-path=\"url(#clip2302)\" style=\"stroke:#000000; stroke-width:4; stroke-opacity:1; fill:none\" points=\"\n",
       "  596.435,1329.13 596.435,1446.71 631.009,1446.71 631.009,1329.13 596.435,1329.13 \n",
       "  \"/>\n",
       "<path clip-path=\"url(#clip2302)\" d=\"\n",
       "M631.009 1289.94 L631.009 1446.71 L665.582 1446.71 L665.582 1289.94 L631.009 1289.94 L631.009 1289.94  Z\n",
       "  \" fill=\"#009af9\" fill-rule=\"evenodd\" fill-opacity=\"1\"/>\n",
       "<polyline clip-path=\"url(#clip2302)\" style=\"stroke:#000000; stroke-width:4; stroke-opacity:1; fill:none\" points=\"\n",
       "  631.009,1289.94 631.009,1446.71 665.582,1446.71 665.582,1289.94 631.009,1289.94 \n",
       "  \"/>\n",
       "<path clip-path=\"url(#clip2302)\" d=\"\n",
       "M665.582 1185.42 L665.582 1446.71 L700.155 1446.71 L700.155 1185.42 L665.582 1185.42 L665.582 1185.42  Z\n",
       "  \" fill=\"#009af9\" fill-rule=\"evenodd\" fill-opacity=\"1\"/>\n",
       "<polyline clip-path=\"url(#clip2302)\" style=\"stroke:#000000; stroke-width:4; stroke-opacity:1; fill:none\" points=\"\n",
       "  665.582,1185.42 665.582,1446.71 700.155,1446.71 700.155,1185.42 665.582,1185.42 \n",
       "  \"/>\n",
       "<path clip-path=\"url(#clip2302)\" d=\"\n",
       "M700.155 989.456 L700.155 1446.71 L734.728 1446.71 L734.728 989.456 L700.155 989.456 L700.155 989.456  Z\n",
       "  \" fill=\"#009af9\" fill-rule=\"evenodd\" fill-opacity=\"1\"/>\n",
       "<polyline clip-path=\"url(#clip2302)\" style=\"stroke:#000000; stroke-width:4; stroke-opacity:1; fill:none\" points=\"\n",
       "  700.155,989.456 700.155,1446.71 734.728,1446.71 734.728,989.456 700.155,989.456 \n",
       "  \"/>\n",
       "<path clip-path=\"url(#clip2302)\" d=\"\n",
       "M734.728 702.037 L734.728 1446.71 L769.302 1446.71 L769.302 702.037 L734.728 702.037 L734.728 702.037  Z\n",
       "  \" fill=\"#009af9\" fill-rule=\"evenodd\" fill-opacity=\"1\"/>\n",
       "<polyline clip-path=\"url(#clip2302)\" style=\"stroke:#000000; stroke-width:4; stroke-opacity:1; fill:none\" points=\"\n",
       "  734.728,702.037 734.728,1446.71 769.302,1446.71 769.302,702.037 734.728,702.037 \n",
       "  \"/>\n",
       "<path clip-path=\"url(#clip2302)\" d=\"\n",
       "M769.302 780.424 L769.302 1446.71 L803.875 1446.71 L803.875 780.424 L769.302 780.424 L769.302 780.424  Z\n",
       "  \" fill=\"#009af9\" fill-rule=\"evenodd\" fill-opacity=\"1\"/>\n",
       "<polyline clip-path=\"url(#clip2302)\" style=\"stroke:#000000; stroke-width:4; stroke-opacity:1; fill:none\" points=\"\n",
       "  769.302,780.424 769.302,1446.71 803.875,1446.71 803.875,780.424 769.302,780.424 \n",
       "  \"/>\n",
       "<path clip-path=\"url(#clip2302)\" d=\"\n",
       "M803.875 715.101 L803.875 1446.71 L838.448 1446.71 L838.448 715.101 L803.875 715.101 L803.875 715.101  Z\n",
       "  \" fill=\"#009af9\" fill-rule=\"evenodd\" fill-opacity=\"1\"/>\n",
       "<polyline clip-path=\"url(#clip2302)\" style=\"stroke:#000000; stroke-width:4; stroke-opacity:1; fill:none\" points=\"\n",
       "  803.875,715.101 803.875,1446.71 838.448,1446.71 838.448,715.101 803.875,715.101 \n",
       "  \"/>\n",
       "<path clip-path=\"url(#clip2302)\" d=\"\n",
       "M838.448 257.844 L838.448 1446.71 L873.021 1446.71 L873.021 257.844 L838.448 257.844 L838.448 257.844  Z\n",
       "  \" fill=\"#009af9\" fill-rule=\"evenodd\" fill-opacity=\"1\"/>\n",
       "<polyline clip-path=\"url(#clip2302)\" style=\"stroke:#000000; stroke-width:4; stroke-opacity:1; fill:none\" points=\"\n",
       "  838.448,257.844 838.448,1446.71 873.021,1446.71 873.021,257.844 838.448,257.844 \n",
       "  \"/>\n",
       "<path clip-path=\"url(#clip2302)\" d=\"\n",
       "M873.021 205.586 L873.021 1446.71 L907.595 1446.71 L907.595 205.586 L873.021 205.586 L873.021 205.586  Z\n",
       "  \" fill=\"#009af9\" fill-rule=\"evenodd\" fill-opacity=\"1\"/>\n",
       "<polyline clip-path=\"url(#clip2302)\" style=\"stroke:#000000; stroke-width:4; stroke-opacity:1; fill:none\" points=\"\n",
       "  873.021,205.586 873.021,1446.71 907.595,1446.71 907.595,205.586 873.021,205.586 \n",
       "  \"/>\n",
       "<path clip-path=\"url(#clip2302)\" d=\"\n",
       "M907.595 88.0053 L907.595 1446.71 L942.168 1446.71 L942.168 88.0053 L907.595 88.0053 L907.595 88.0053  Z\n",
       "  \" fill=\"#009af9\" fill-rule=\"evenodd\" fill-opacity=\"1\"/>\n",
       "<polyline clip-path=\"url(#clip2302)\" style=\"stroke:#000000; stroke-width:4; stroke-opacity:1; fill:none\" points=\"\n",
       "  907.595,88.0053 907.595,1446.71 942.168,1446.71 942.168,88.0053 907.595,88.0053 \n",
       "  \"/>\n",
       "<path clip-path=\"url(#clip2302)\" d=\"\n",
       "M942.168 270.908 L942.168 1446.71 L976.741 1446.71 L976.741 270.908 L942.168 270.908 L942.168 270.908  Z\n",
       "  \" fill=\"#009af9\" fill-rule=\"evenodd\" fill-opacity=\"1\"/>\n",
       "<polyline clip-path=\"url(#clip2302)\" style=\"stroke:#000000; stroke-width:4; stroke-opacity:1; fill:none\" points=\"\n",
       "  942.168,270.908 942.168,1446.71 976.741,1446.71 976.741,270.908 942.168,270.908 \n",
       "  \"/>\n",
       "<path clip-path=\"url(#clip2302)\" d=\"\n",
       "M976.741 414.618 L976.741 1446.71 L1011.31 1446.71 L1011.31 414.618 L976.741 414.618 L976.741 414.618  Z\n",
       "  \" fill=\"#009af9\" fill-rule=\"evenodd\" fill-opacity=\"1\"/>\n",
       "<polyline clip-path=\"url(#clip2302)\" style=\"stroke:#000000; stroke-width:4; stroke-opacity:1; fill:none\" points=\"\n",
       "  976.741,414.618 976.741,1446.71 1011.31,1446.71 1011.31,414.618 976.741,414.618 \n",
       "  \"/>\n",
       "<path clip-path=\"url(#clip2302)\" d=\"\n",
       "M1011.31 558.327 L1011.31 1446.71 L1045.89 1446.71 L1045.89 558.327 L1011.31 558.327 L1011.31 558.327  Z\n",
       "  \" fill=\"#009af9\" fill-rule=\"evenodd\" fill-opacity=\"1\"/>\n",
       "<polyline clip-path=\"url(#clip2302)\" style=\"stroke:#000000; stroke-width:4; stroke-opacity:1; fill:none\" points=\"\n",
       "  1011.31,558.327 1011.31,1446.71 1045.89,1446.71 1045.89,558.327 1011.31,558.327 \n",
       "  \"/>\n",
       "<path clip-path=\"url(#clip2302)\" d=\"\n",
       "M1045.89 623.65 L1045.89 1446.71 L1080.46 1446.71 L1080.46 623.65 L1045.89 623.65 L1045.89 623.65  Z\n",
       "  \" fill=\"#009af9\" fill-rule=\"evenodd\" fill-opacity=\"1\"/>\n",
       "<polyline clip-path=\"url(#clip2302)\" style=\"stroke:#000000; stroke-width:4; stroke-opacity:1; fill:none\" points=\"\n",
       "  1045.89,623.65 1045.89,1446.71 1080.46,1446.71 1080.46,623.65 1045.89,623.65 \n",
       "  \"/>\n",
       "<path clip-path=\"url(#clip2302)\" d=\"\n",
       "M1080.46 858.811 L1080.46 1446.71 L1115.03 1446.71 L1115.03 858.811 L1080.46 858.811 L1080.46 858.811  Z\n",
       "  \" fill=\"#009af9\" fill-rule=\"evenodd\" fill-opacity=\"1\"/>\n",
       "<polyline clip-path=\"url(#clip2302)\" style=\"stroke:#000000; stroke-width:4; stroke-opacity:1; fill:none\" points=\"\n",
       "  1080.46,858.811 1080.46,1446.71 1115.03,1446.71 1115.03,858.811 1080.46,858.811 \n",
       "  \"/>\n",
       "<path clip-path=\"url(#clip2302)\" d=\"\n",
       "M1115.03 924.133 L1115.03 1446.71 L1149.61 1446.71 L1149.61 924.133 L1115.03 924.133 L1115.03 924.133  Z\n",
       "  \" fill=\"#009af9\" fill-rule=\"evenodd\" fill-opacity=\"1\"/>\n",
       "<polyline clip-path=\"url(#clip2302)\" style=\"stroke:#000000; stroke-width:4; stroke-opacity:1; fill:none\" points=\"\n",
       "  1115.03,924.133 1115.03,1446.71 1149.61,1446.71 1149.61,924.133 1115.03,924.133 \n",
       "  \"/>\n",
       "<path clip-path=\"url(#clip2302)\" d=\"\n",
       "M1149.61 1054.78 L1149.61 1446.71 L1184.18 1446.71 L1184.18 1054.78 L1149.61 1054.78 L1149.61 1054.78  Z\n",
       "  \" fill=\"#009af9\" fill-rule=\"evenodd\" fill-opacity=\"1\"/>\n",
       "<polyline clip-path=\"url(#clip2302)\" style=\"stroke:#000000; stroke-width:4; stroke-opacity:1; fill:none\" points=\"\n",
       "  1149.61,1054.78 1149.61,1446.71 1184.18,1446.71 1184.18,1054.78 1149.61,1054.78 \n",
       "  \"/>\n",
       "<path clip-path=\"url(#clip2302)\" d=\"\n",
       "M1184.18 1211.55 L1184.18 1446.71 L1218.75 1446.71 L1218.75 1211.55 L1184.18 1211.55 L1184.18 1211.55  Z\n",
       "  \" fill=\"#009af9\" fill-rule=\"evenodd\" fill-opacity=\"1\"/>\n",
       "<polyline clip-path=\"url(#clip2302)\" style=\"stroke:#000000; stroke-width:4; stroke-opacity:1; fill:none\" points=\"\n",
       "  1184.18,1211.55 1184.18,1446.71 1218.75,1446.71 1218.75,1211.55 1184.18,1211.55 \n",
       "  \"/>\n",
       "<path clip-path=\"url(#clip2302)\" d=\"\n",
       "M1218.75 1250.75 L1218.75 1446.71 L1253.33 1446.71 L1253.33 1250.75 L1218.75 1250.75 L1218.75 1250.75  Z\n",
       "  \" fill=\"#009af9\" fill-rule=\"evenodd\" fill-opacity=\"1\"/>\n",
       "<polyline clip-path=\"url(#clip2302)\" style=\"stroke:#000000; stroke-width:4; stroke-opacity:1; fill:none\" points=\"\n",
       "  1218.75,1250.75 1218.75,1446.71 1253.33,1446.71 1253.33,1250.75 1218.75,1250.75 \n",
       "  \"/>\n",
       "<path clip-path=\"url(#clip2302)\" d=\"\n",
       "M1253.33 1381.39 L1253.33 1446.71 L1287.9 1446.71 L1287.9 1381.39 L1253.33 1381.39 L1253.33 1381.39  Z\n",
       "  \" fill=\"#009af9\" fill-rule=\"evenodd\" fill-opacity=\"1\"/>\n",
       "<polyline clip-path=\"url(#clip2302)\" style=\"stroke:#000000; stroke-width:4; stroke-opacity:1; fill:none\" points=\"\n",
       "  1253.33,1381.39 1253.33,1446.71 1287.9,1446.71 1287.9,1381.39 1253.33,1381.39 \n",
       "  \"/>\n",
       "<path clip-path=\"url(#clip2302)\" d=\"\n",
       "M1287.9 1407.52 L1287.9 1446.71 L1322.47 1446.71 L1322.47 1407.52 L1287.9 1407.52 L1287.9 1407.52  Z\n",
       "  \" fill=\"#009af9\" fill-rule=\"evenodd\" fill-opacity=\"1\"/>\n",
       "<polyline clip-path=\"url(#clip2302)\" style=\"stroke:#000000; stroke-width:4; stroke-opacity:1; fill:none\" points=\"\n",
       "  1287.9,1407.52 1287.9,1446.71 1322.47,1446.71 1322.47,1407.52 1287.9,1407.52 \n",
       "  \"/>\n",
       "<path clip-path=\"url(#clip2302)\" d=\"\n",
       "M1322.47 1433.65 L1322.47 1446.71 L1357.05 1446.71 L1357.05 1433.65 L1322.47 1433.65 L1322.47 1433.65  Z\n",
       "  \" fill=\"#009af9\" fill-rule=\"evenodd\" fill-opacity=\"1\"/>\n",
       "<polyline clip-path=\"url(#clip2302)\" style=\"stroke:#000000; stroke-width:4; stroke-opacity:1; fill:none\" points=\"\n",
       "  1322.47,1433.65 1322.47,1446.71 1357.05,1446.71 1357.05,1433.65 1322.47,1433.65 \n",
       "  \"/>\n",
       "<path clip-path=\"url(#clip2302)\" d=\"\n",
       "M1357.05 1394.46 L1357.05 1446.71 L1391.62 1446.71 L1391.62 1394.46 L1357.05 1394.46 L1357.05 1394.46  Z\n",
       "  \" fill=\"#009af9\" fill-rule=\"evenodd\" fill-opacity=\"1\"/>\n",
       "<polyline clip-path=\"url(#clip2302)\" style=\"stroke:#000000; stroke-width:4; stroke-opacity:1; fill:none\" points=\"\n",
       "  1357.05,1394.46 1357.05,1446.71 1391.62,1446.71 1391.62,1394.46 1357.05,1394.46 \n",
       "  \"/>\n",
       "<path clip-path=\"url(#clip2302)\" d=\"\n",
       "M1391.62 1446.71 L1391.62 1446.71 L1426.19 1446.71 L1426.19 1446.71 L1391.62 1446.71 L1391.62 1446.71  Z\n",
       "  \" fill=\"#009af9\" fill-rule=\"evenodd\" fill-opacity=\"1\"/>\n",
       "<polyline clip-path=\"url(#clip2302)\" style=\"stroke:#000000; stroke-width:4; stroke-opacity:1; fill:none\" points=\"\n",
       "  1391.62,1446.71 1391.62,1446.71 1426.19,1446.71 1391.62,1446.71 \n",
       "  \"/>\n",
       "<path clip-path=\"url(#clip2302)\" d=\"\n",
       "M1426.19 1433.65 L1426.19 1446.71 L1460.77 1446.71 L1460.77 1433.65 L1426.19 1433.65 L1426.19 1433.65  Z\n",
       "  \" fill=\"#009af9\" fill-rule=\"evenodd\" fill-opacity=\"1\"/>\n",
       "<polyline clip-path=\"url(#clip2302)\" style=\"stroke:#000000; stroke-width:4; stroke-opacity:1; fill:none\" points=\"\n",
       "  1426.19,1433.65 1426.19,1446.71 1460.77,1446.71 1460.77,1433.65 1426.19,1433.65 \n",
       "  \"/>\n",
       "<path clip-path=\"url(#clip2302)\" d=\"\n",
       "M1460.77 1446.71 L1460.77 1446.71 L1495.34 1446.71 L1495.34 1446.71 L1460.77 1446.71 L1460.77 1446.71  Z\n",
       "  \" fill=\"#009af9\" fill-rule=\"evenodd\" fill-opacity=\"1\"/>\n",
       "<polyline clip-path=\"url(#clip2302)\" style=\"stroke:#000000; stroke-width:4; stroke-opacity:1; fill:none\" points=\"\n",
       "  1460.77,1446.71 1460.77,1446.71 1495.34,1446.71 1460.77,1446.71 \n",
       "  \"/>\n",
       "<path clip-path=\"url(#clip2302)\" d=\"\n",
       "M1495.34 1446.71 L1495.34 1446.71 L1529.91 1446.71 L1529.91 1446.71 L1495.34 1446.71 L1495.34 1446.71  Z\n",
       "  \" fill=\"#009af9\" fill-rule=\"evenodd\" fill-opacity=\"1\"/>\n",
       "<polyline clip-path=\"url(#clip2302)\" style=\"stroke:#000000; stroke-width:4; stroke-opacity:1; fill:none\" points=\"\n",
       "  1495.34,1446.71 1495.34,1446.71 1529.91,1446.71 1495.34,1446.71 \n",
       "  \"/>\n",
       "<path clip-path=\"url(#clip2302)\" d=\"\n",
       "M1529.91 1446.71 L1529.91 1446.71 L1564.49 1446.71 L1564.49 1446.71 L1529.91 1446.71 L1529.91 1446.71  Z\n",
       "  \" fill=\"#009af9\" fill-rule=\"evenodd\" fill-opacity=\"1\"/>\n",
       "<polyline clip-path=\"url(#clip2302)\" style=\"stroke:#000000; stroke-width:4; stroke-opacity:1; fill:none\" points=\"\n",
       "  1529.91,1446.71 1529.91,1446.71 1564.49,1446.71 1529.91,1446.71 \n",
       "  \"/>\n",
       "<path clip-path=\"url(#clip2302)\" d=\"\n",
       "M1564.49 1446.71 L1564.49 1446.71 L1599.06 1446.71 L1599.06 1446.71 L1564.49 1446.71 L1564.49 1446.71  Z\n",
       "  \" fill=\"#009af9\" fill-rule=\"evenodd\" fill-opacity=\"1\"/>\n",
       "<polyline clip-path=\"url(#clip2302)\" style=\"stroke:#000000; stroke-width:4; stroke-opacity:1; fill:none\" points=\"\n",
       "  1564.49,1446.71 1564.49,1446.71 1599.06,1446.71 1564.49,1446.71 \n",
       "  \"/>\n",
       "<path clip-path=\"url(#clip2302)\" d=\"\n",
       "M1599.06 1446.71 L1599.06 1446.71 L1633.63 1446.71 L1633.63 1446.71 L1599.06 1446.71 L1599.06 1446.71  Z\n",
       "  \" fill=\"#009af9\" fill-rule=\"evenodd\" fill-opacity=\"1\"/>\n",
       "<polyline clip-path=\"url(#clip2302)\" style=\"stroke:#000000; stroke-width:4; stroke-opacity:1; fill:none\" points=\"\n",
       "  1599.06,1446.71 1599.06,1446.71 1633.63,1446.71 1599.06,1446.71 \n",
       "  \"/>\n",
       "<path clip-path=\"url(#clip2302)\" d=\"\n",
       "M1633.63 1446.71 L1633.63 1446.71 L1668.21 1446.71 L1668.21 1446.71 L1633.63 1446.71 L1633.63 1446.71  Z\n",
       "  \" fill=\"#009af9\" fill-rule=\"evenodd\" fill-opacity=\"1\"/>\n",
       "<polyline clip-path=\"url(#clip2302)\" style=\"stroke:#000000; stroke-width:4; stroke-opacity:1; fill:none\" points=\"\n",
       "  1633.63,1446.71 1633.63,1446.71 1668.21,1446.71 1633.63,1446.71 \n",
       "  \"/>\n",
       "<polyline clip-path=\"url(#clip2302)\" style=\"stroke:#ff0000; stroke-width:12; stroke-opacity:1; fill:none\" points=\"\n",
       "  216.13,1446.71 233.416,1446.71 250.703,1446.71 267.99,1446.71 285.276,1446.71 302.563,1446.7 319.85,1446.68 337.136,1446.66 354.423,1446.6 371.709,1446.51 \n",
       "  388.996,1446.34 406.283,1446.06 423.569,1445.59 440.856,1444.82 458.142,1443.6 475.429,1441.71 492.716,1438.87 510.002,1434.69 527.289,1428.68 544.576,1420.26 \n",
       "  561.862,1408.72 579.149,1393.28 596.435,1373.09 613.722,1347.28 631.009,1315.03 648.295,1275.62 665.582,1228.55 682.869,1173.57 700.155,1110.81 717.442,1040.79 \n",
       "  734.728,964.468 752.015,883.274 769.302,799.033 786.588,713.925 803.875,630.377 821.161,550.939 838.448,478.147 855.735,414.378 873.021,361.711 890.308,321.819 \n",
       "  907.595,295.874 924.881,284.499 942.168,287.75 959.454,305.135 976.741,335.674 994.028,377.969 1011.31,430.306 1028.6,490.762 1045.89,557.309 1063.17,627.918 \n",
       "  1080.46,700.646 1097.75,773.712 1115.03,845.546 1132.32,914.828 1149.61,980.501 1166.89,1041.78 1184.18,1098.12 1201.47,1149.23 1218.75,1195 1236.04,1235.5 \n",
       "  1253.33,1270.92 1270.61,1301.56 1287.9,1327.79 1305.19,1350.03 1322.47,1368.7 1339.76,1384.22 1357.05,1397.02 1374.33,1407.47 1391.62,1415.94 1408.91,1422.75 \n",
       "  1426.19,1428.17 1443.48,1432.46 1460.77,1435.83 1478.05,1438.46 1495.34,1440.49 1512.63,1442.05 1529.91,1443.24 1547.2,1444.14 1564.49,1444.82 1581.77,1445.33 \n",
       "  1599.06,1445.71 1616.35,1445.99 1633.63,1446.19 1650.92,1446.34 1668.21,1446.45 1685.49,1446.52 1702.78,1446.58 1720.07,1446.62 1737.35,1446.65 1754.64,1446.67 \n",
       "  1771.93,1446.68 1789.21,1446.69 1806.5,1446.7 1823.79,1446.7 1841.07,1446.71 1858.36,1446.71 1875.65,1446.71 1892.93,1446.71 1910.22,1446.71 1927.51,1446.71 \n",
       "  1944.79,1446.71 1962.08,1446.71 1979.36,1446.71 1996.65,1446.71 2013.94,1446.71 2031.22,1446.71 2048.51,1446.71 2065.8,1446.71 2083.08,1446.71 2100.37,1446.71 \n",
       "  2117.66,1446.71 2134.94,1446.71 2152.23,1446.71 2169.52,1446.71 2186.8,1446.71 2204.09,1446.71 2221.38,1446.71 2238.66,1446.71 2255.95,1446.71 2273.24,1446.71 \n",
       "  2290.52,1446.71 \n",
       "  \"/>\n",
       "<path clip-path=\"url(#clip2300)\" d=\"\n",
       "M1596.77 312.204 L2280.76 312.204 L2280.76 130.764 L1596.77 130.764  Z\n",
       "  \" fill=\"#ffffff\" fill-rule=\"evenodd\" fill-opacity=\"1\"/>\n",
       "<polyline clip-path=\"url(#clip2300)\" style=\"stroke:#000000; stroke-width:4; stroke-opacity:1; fill:none\" points=\"\n",
       "  1596.77,312.204 2280.76,312.204 2280.76,130.764 1596.77,130.764 1596.77,312.204 \n",
       "  \"/>\n",
       "<path clip-path=\"url(#clip2300)\" d=\"\n",
       "M1620.77 215.436 L1764.77 215.436 L1764.77 167.052 L1620.77 167.052 L1620.77 215.436  Z\n",
       "  \" fill=\"#009af9\" fill-rule=\"evenodd\" fill-opacity=\"1\"/>\n",
       "<polyline clip-path=\"url(#clip2300)\" style=\"stroke:#000000; stroke-width:4; stroke-opacity:1; fill:none\" points=\"\n",
       "  1620.77,215.436 1764.77,215.436 1764.77,167.052 1620.77,167.052 1620.77,215.436 \n",
       "  \"/>\n",
       "<g clip-path=\"url(#clip2300)\">\n",
       "<text style=\"fill:#000000; fill-opacity:1; font-family:Arial,Helvetica Neue,Helvetica,sans-serif; font-size:48px; text-anchor:start;\" transform=\"rotate(0, 1788.77, 208.744)\" x=\"1788.77\" y=\"208.744\">Empirical distribution</text>\n",
       "</g>\n",
       "<polyline clip-path=\"url(#clip2300)\" style=\"stroke:#ff0000; stroke-width:12; stroke-opacity:1; fill:none\" points=\"\n",
       "  1620.77,251.724 1764.77,251.724 \n",
       "  \"/>\n",
       "<g clip-path=\"url(#clip2300)\">\n",
       "<text style=\"fill:#000000; fill-opacity:1; font-family:Arial,Helvetica Neue,Helvetica,sans-serif; font-size:48px; text-anchor:start;\" transform=\"rotate(0, 1788.77, 269.224)\" x=\"1788.77\" y=\"269.224\">Tracy-Widom PDF</text>\n",
       "</g>\n",
       "</svg>\n"
      ]
     },
     "execution_count": 40,
     "metadata": {},
     "output_type": "execute_result"
    }
   ],
   "source": [
    "nb_samples = 1000\n",
    "N = 100\n",
    "law = \"Exponential\"\n",
    "q = 0.2\n",
    "λ = 9\n",
    "plot_clt(nb_samples, N, law, q, λ, TW_pdf, d)"
   ]
  }
 ],
 "metadata": {
  "@webio": {
   "lastCommId": "c65c0beb5547459aaaa5affc486cafa3",
   "lastKernelId": "77a607b8-8e7d-45cb-9603-fdcc29a74734"
  },
  "kernelspec": {
   "display_name": "Julia 1.3.0",
   "language": "julia",
   "name": "julia-1.3"
  },
  "language_info": {
   "file_extension": ".jl",
   "mimetype": "application/julia",
   "name": "julia",
   "version": "1.3.0"
  }
 },
 "nbformat": 4,
 "nbformat_minor": 2
}
