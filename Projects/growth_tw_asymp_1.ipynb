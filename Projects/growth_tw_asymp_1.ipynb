{
 "cells": [
  {
   "cell_type": "code",
   "execution_count": 1,
   "metadata": {},
   "outputs": [
    {
     "data": {
      "text/html": [
       "<script>\n",
       "// Immediately-invoked-function-expression to avoid global variables.\n",
       "(function() {\n",
       "    var warning_div = document.getElementById(\"webio-warning-17622601533438704928\");\n",
       "    var hide = function () {\n",
       "        var script = document.getElementById(\"webio-setup-5445284098523067601\");\n",
       "        var parent = script && script.parentElement;\n",
       "        var grandparent = parent && parent.parentElement;\n",
       "        if (grandparent) {\n",
       "            grandparent.style.display = \"none\";\n",
       "        }\n",
       "        warning_div.style.display = \"none\";\n",
       "    };\n",
       "    if (typeof Jupyter !== \"undefined\") {\n",
       "        console.log(\"WebIO detected Jupyter notebook environment.\");\n",
       "        // Jupyter notebook.\n",
       "        var extensions = (\n",
       "            Jupyter\n",
       "            && Jupyter.notebook.config.data\n",
       "            && Jupyter.notebook.config.data.load_extensions\n",
       "        );\n",
       "        if (extensions && extensions[\"webio-jupyter-notebook\"]) {\n",
       "            // Extension already loaded.\n",
       "            console.log(\"Jupyter WebIO nbextension detected; not loading ad-hoc.\");\n",
       "            hide();\n",
       "            return;\n",
       "        }\n",
       "    } else if (window.location.pathname.includes(\"/lab\")) {\n",
       "        // Guessing JupyterLa\n",
       "        console.log(\"Jupyter Lab detected; make sure the @webio/jupyter-lab-provider labextension is installed.\");\n",
       "        hide();\n",
       "        return;\n",
       "    }\n",
       "})();\n",
       "\n",
       "</script>\n",
       "<p\n",
       "    id=\"webio-warning-17622601533438704928\"\n",
       "    class=\"output_text output_stderr\"\n",
       "    style=\"padding: 1em; font-weight: bold;\"\n",
       ">\n",
       "    Unable to load WebIO. Please make sure WebIO works for your Jupyter client.\n",
       "    For troubleshooting, please see <a href=\"https://juliagizmos.github.io/WebIO.jl/latest/providers/ijulia/\">\n",
       "    the WebIO/IJulia documentation</a>.\n",
       "    <!-- TODO: link to installation docs. -->\n",
       "</p>\n"
      ],
      "text/plain": [
       "HTML{String}(\"<script>\\n// Immediately-invoked-function-expression to avoid global variables.\\n(function() {\\n    var warning_div = document.getElementById(\\\"webio-warning-17622601533438704928\\\");\\n    var hide = function () {\\n        var script = document.getElementById(\\\"webio-setup-5445284098523067601\\\");\\n        var parent = script && script.parentElement;\\n        var grandparent = parent && parent.parentElement;\\n        if (grandparent) {\\n            grandparent.style.display = \\\"none\\\";\\n        }\\n        warning_div.style.display = \\\"none\\\";\\n    };\\n    if (typeof Jupyter !== \\\"undefined\\\") {\\n        console.log(\\\"WebIO detected Jupyter notebook environment.\\\");\\n        // Jupyter notebook.\\n        var extensions = (\\n            Jupyter\\n            && Jupyter.notebook.config.data\\n            && Jupyter.notebook.config.data.load_extensions\\n        );\\n        if (extensions && extensions[\\\"webio-jupyter-notebook\\\"]) {\\n            // Extension already loaded.\\n            console.log(\\\"Jupyter WebIO nbextension detected; not loading ad-hoc.\\\");\\n            hide();\\n            return;\\n        }\\n    } else if (window.location.pathname.includes(\\\"/lab\\\")) {\\n        // Guessing JupyterLa\\n        console.log(\\\"Jupyter Lab detected; make sure the @webio/jupyter-lab-provider labextension is installed.\\\");\\n        hide();\\n        return;\\n    }\\n})();\\n\\n</script>\\n<p\\n    id=\\\"webio-warning-17622601533438704928\\\"\\n    class=\\\"output_text output_stderr\\\"\\n    style=\\\"padding: 1em; font-weight: bold;\\\"\\n>\\n    Unable to load WebIO. Please make sure WebIO works for your Jupyter client.\\n    For troubleshooting, please see <a href=\\\"https://juliagizmos.github.io/WebIO.jl/latest/providers/ijulia/\\\">\\n    the WebIO/IJulia documentation</a>.\\n    <!-- TODO: link to installation docs. -->\\n</p>\\n\")"
      ]
     },
     "metadata": {},
     "output_type": "display_data"
    }
   ],
   "source": [
    "using Plots\n",
    "using Interact\n",
    "using Distributions\n",
    "using RandomMatrices"
   ]
  },
  {
   "cell_type": "code",
   "execution_count": 7,
   "metadata": {},
   "outputs": [],
   "source": [
    "function tw_pdf(xs, step)\n",
    "    c = cdf(TracyWidom, vcat(vcat(xs[1]-step,xs),xs[end]+step))\n",
    "    d = (diff(c)[1:end-1]+diff(c)[2:end]) / (2*step)\n",
    "    return d\n",
    "end\n",
    "\n",
    "step = 0.1\n",
    "min_, max_ = -6, 6\n",
    "xs = min_:step:max_\n",
    "TW_pdf = tw_pdf(xs, step);"
   ]
  },
  {
   "cell_type": "code",
   "execution_count": 8,
   "metadata": {},
   "outputs": [
    {
     "data": {
      "text/plain": [
       "m_G (generic function with 1 method)"
      ]
     },
     "execution_count": 8,
     "metadata": {},
     "output_type": "execute_result"
    }
   ],
   "source": [
    "function m_G(wait)\n",
    "    N = size(wait)[1]\n",
    "    memg = zeros(N, N) .- 1\n",
    "    memg[1, 1] = 0\n",
    "    function tmp_G(i, j, wait)\n",
    "        if(memg[i, j] == -1)\n",
    "            if(i==1)\n",
    "                res1 = tmp_G(i, j-1, wait)\n",
    "                memg[i, j-1] = res1\n",
    "                res = res1 + wait[i, j] #+1\n",
    "            elseif(j==1)\n",
    "                res1 = tmp_G(i-1, j, wait)\n",
    "                memg[i-1, j] = res1\n",
    "                res = res1 + wait[i, j] #+1\n",
    "            else\n",
    "                res1 = tmp_G(i, j-1, wait)\n",
    "                res2 = tmp_G(i-1, j, wait)\n",
    "                memg[i, j-1] = res1\n",
    "                memg[i-1, j] = res2\n",
    "                res = max(res1, res2) + wait[i, j] #+1\n",
    "            end\n",
    "            memg[i, j] = res\n",
    "        end\n",
    "        return memg[i, j]\n",
    "    end\n",
    "    tmp_G(N, N, wait)\n",
    "    return memg\n",
    "end"
   ]
  },
  {
   "cell_type": "code",
   "execution_count": 9,
   "metadata": {},
   "outputs": [
    {
     "data": {
      "text/plain": [
       "get_grid (generic function with 1 method)"
      ]
     },
     "execution_count": 9,
     "metadata": {},
     "output_type": "execute_result"
    }
   ],
   "source": [
    "function get_grid(law, N)\n",
    "    w = rand(law, N, N)\n",
    "    grid = m_G(w)\n",
    "    return grid\n",
    "end"
   ]
  },
  {
   "cell_type": "code",
   "execution_count": 10,
   "metadata": {},
   "outputs": [
    {
     "data": {
      "text/plain": [
       "renorm_params (generic function with 1 method)"
      ]
     },
     "execution_count": 10,
     "metadata": {},
     "output_type": "execute_result"
    }
   ],
   "source": [
    "## http://www.math.cmu.edu/~eemrah/CGM_TW.pdf\n",
    "## https://www.math.utah.edu/~firas/FPD16/Talks/Emrah.pdf\n",
    "## https://arxiv.org/pdf/math/9903134.pdf\n",
    "## https://arxiv.org/pdf/1612.08521.pdf\n",
    "\n",
    "function renorm_params(law)\n",
    "    r = 1\n",
    "    if typeof(law) == Geometric{Float64}\n",
    "        q = params(law)[1]\n",
    "        q = (1-q)\n",
    "        γ = (q*(1+r) + 2*√(q*r)) / (1-q)\n",
    "        σ = (1/(1-q)) * (q/r)^(1/6) * (√q + √r)^(2/3) * (1 + √(q*r))^(2/3)\n",
    "    elseif typeof(law) == Exponential{Float64}\n",
    "        λ = 1 / params(law)[1]\n",
    "        γ = (1+√r)^2 / λ\n",
    "        σ = r^(-1/6) * (1+r)^(4/3)\n",
    "    end\n",
    "    return γ, σ\n",
    "end"
   ]
  },
  {
   "cell_type": "code",
   "execution_count": 11,
   "metadata": {},
   "outputs": [
    {
     "data": {
      "application/vnd.webio.node+json": {
       "children": [
        {
         "children": [
          {
           "children": [
            {
             "children": [
              {
               "children": [
                {
                 "children": [
                  "max_N"
                 ],
                 "instanceArgs": {
                  "namespace": "html",
                  "tag": "label"
                 },
                 "nodeType": "DOM",
                 "props": {
                  "className": "interact ",
                  "style": {
                   "padding": "5px 10px 0px 10px"
                  }
                 },
                 "type": "node"
                }
               ],
               "instanceArgs": {
                "namespace": "html",
                "tag": "div"
               },
               "nodeType": "DOM",
               "props": {
                "className": "interact-flex-row-left"
               },
               "type": "node"
              },
              {
               "children": [
                {
                 "children": [],
                 "instanceArgs": {
                  "namespace": "html",
                  "tag": "input"
                 },
                 "nodeType": "DOM",
                 "props": {
                  "attributes": {
                   "data-bind": "numericValue: index, valueUpdate: 'input', event: {change: function (){this.changes(this.changes()+1)}}",
                   "orient": "horizontal",
                   "type": "range"
                  },
                  "className": "slider slider is-fullwidth",
                  "max": 19,
                  "min": 1,
                  "step": 1,
                  "style": {}
                 },
                 "type": "node"
                }
               ],
               "instanceArgs": {
                "namespace": "html",
                "tag": "div"
               },
               "nodeType": "DOM",
               "props": {
                "className": "interact-flex-row-center"
               },
               "type": "node"
              },
              {
               "children": [
                {
                 "children": [],
                 "instanceArgs": {
                  "namespace": "html",
                  "tag": "p"
                 },
                 "nodeType": "DOM",
                 "props": {
                  "attributes": {
                   "data-bind": "text: formatted_val"
                  }
                 },
                 "type": "node"
                }
               ],
               "instanceArgs": {
                "namespace": "html",
                "tag": "div"
               },
               "nodeType": "DOM",
               "props": {
                "className": "interact-flex-row-right"
               },
               "type": "node"
              }
             ],
             "instanceArgs": {
              "namespace": "html",
              "tag": "div"
             },
             "nodeType": "DOM",
             "props": {
              "className": "interact-flex-row interact-widget"
             },
             "type": "node"
            }
           ],
           "instanceArgs": {
            "handlers": {
             "changes": [
              "(function (val){return (val!=this.model[\"changes\"]()) ? (this.valueFromJulia[\"changes\"]=true, this.model[\"changes\"](val)) : undefined})"
             ],
             "index": [
              "(function (val){return (val!=this.model[\"index\"]()) ? (this.valueFromJulia[\"index\"]=true, this.model[\"index\"](val)) : undefined})"
             ]
            },
            "id": "15429352038385944038",
            "imports": {
             "data": [
              {
               "name": "knockout",
               "type": "js",
               "url": "/assetserver/254160226b58162a42111ea27214076747de1cf2-knockout.js"
              },
              {
               "name": "knockout_punches",
               "type": "js",
               "url": "/assetserver/2d0bf510fb683322318163f3ec7562806e4b1104-knockout_punches.js"
              },
              {
               "name": null,
               "type": "js",
               "url": "/assetserver/6ffcdda43c684da84d2ca5dd2027e4a55c68edac-all.js"
              },
              {
               "name": null,
               "type": "css",
               "url": "/assetserver/b0b44adaed1197b8510174b41f32f09d98a0c28e-style.css"
              },
              {
               "name": null,
               "type": "css",
               "url": "/assetserver/bbb2e3064bd5f6dfcf2f18fbeb52d9320f251632-bulma_confined.min.css"
              }
             ],
             "type": "async_block"
            },
            "mount_callbacks": [
             "function () {\n    var handler = (function (ko, koPunches) {\n    ko.punches.enableAll();\n    ko.bindingHandlers.numericValue = {\n        init: function(element, valueAccessor, allBindings, data, context) {\n            var stringified = ko.observable(ko.unwrap(valueAccessor()));\n            stringified.subscribe(function(value) {\n                var val = parseFloat(value);\n                if (!isNaN(val)) {\n                    valueAccessor()(val);\n                }\n            });\n            valueAccessor().subscribe(function(value) {\n                var str = JSON.stringify(value);\n                if ((str == \"0\") && ([\"-0\", \"-0.\"].indexOf(stringified()) >= 0))\n                     return;\n                 if ([\"null\", \"\"].indexOf(str) >= 0)\n                     return;\n                stringified(str);\n            });\n            ko.applyBindingsToNode(\n                element,\n                {\n                    value: stringified,\n                    valueUpdate: allBindings.get('valueUpdate'),\n                },\n                context,\n            );\n        }\n    };\n    var json_data = {\"formatted_vals\":[\"100\",\"150\",\"200\",\"250\",\"300\",\"350\",\"400\",\"450\",\"500\",\"550\",\"600\",\"650\",\"700\",\"750\",\"800\",\"850\",\"900\",\"950\",\"1000\"],\"changes\":WebIO.getval({\"name\":\"changes\",\"scope\":\"15429352038385944038\",\"id\":\"ob_03\",\"type\":\"observable\"}),\"index\":WebIO.getval({\"name\":\"index\",\"scope\":\"15429352038385944038\",\"id\":\"ob_02\",\"type\":\"observable\"})};\n    var self = this;\n    function AppViewModel() {\n        for (var key in json_data) {\n            var el = json_data[key];\n            this[key] = Array.isArray(el) ? ko.observableArray(el) : ko.observable(el);\n        }\n        \n        [this[\"formatted_val\"]=ko.computed(    function(){\n        return this.formatted_vals()[parseInt(this.index())-(1)];\n    }\n,this)]\n        [this[\"changes\"].subscribe((function (val){!(this.valueFromJulia[\"changes\"]) ? (WebIO.setval({\"name\":\"changes\",\"scope\":\"15429352038385944038\",\"id\":\"ob_03\",\"type\":\"observable\"},val)) : undefined; return this.valueFromJulia[\"changes\"]=false}),self),this[\"index\"].subscribe((function (val){!(this.valueFromJulia[\"index\"]) ? (WebIO.setval({\"name\":\"index\",\"scope\":\"15429352038385944038\",\"id\":\"ob_02\",\"type\":\"observable\"},val)) : undefined; return this.valueFromJulia[\"index\"]=false}),self)]\n        \n    }\n    self.model = new AppViewModel();\n    self.valueFromJulia = {};\n    for (var key in json_data) {\n        self.valueFromJulia[key] = false;\n    }\n    ko.applyBindings(self.model, self.dom);\n}\n);\n    (WebIO.importBlock({\"data\":[{\"name\":\"knockout\",\"type\":\"js\",\"url\":\"/assetserver/254160226b58162a42111ea27214076747de1cf2-knockout.js\"},{\"name\":\"knockout_punches\",\"type\":\"js\",\"url\":\"/assetserver/2d0bf510fb683322318163f3ec7562806e4b1104-knockout_punches.js\"}],\"type\":\"async_block\"})).then((imports) => handler.apply(this, imports));\n}\n"
            ],
            "observables": {
             "changes": {
              "id": "ob_03",
              "sync": false,
              "value": 0
             },
             "index": {
              "id": "ob_02",
              "sync": true,
              "value": 10
             }
            },
            "systemjs_options": null
           },
           "nodeType": "Scope",
           "props": {},
           "type": "node"
          }
         ],
         "instanceArgs": {
          "namespace": "html",
          "tag": "div"
         },
         "nodeType": "DOM",
         "props": {
          "className": "field interact-widget"
         },
         "type": "node"
        },
        {
         "children": [
          {
           "children": [
            {
             "children": [
              {
               "children": [
                {
                 "children": [
                  "law_name"
                 ],
                 "instanceArgs": {
                  "namespace": "html",
                  "tag": "label"
                 },
                 "nodeType": "DOM",
                 "props": {
                  "className": "interact ",
                  "style": {
                   "padding": "5px 10px 0px 10px"
                  }
                 },
                 "type": "node"
                }
               ],
               "instanceArgs": {
                "namespace": "html",
                "tag": "div"
               },
               "nodeType": "DOM",
               "props": {
                "className": "interact-flex-row-left"
               },
               "type": "node"
              },
              {
               "children": [
                {
                 "children": [
                  {
                   "children": [
                    {
                     "children": [],
                     "instanceArgs": {
                      "namespace": "html",
                      "tag": "label"
                     },
                     "nodeType": "DOM",
                     "props": {
                      "attributes": {
                       "data-bind": "text : key"
                      }
                     },
                     "type": "node"
                    }
                   ],
                   "instanceArgs": {
                    "namespace": "html",
                    "tag": "span"
                   },
                   "nodeType": "DOM",
                   "props": {
                    "attributes": {
                     "data-bind": "click: function (){$root.update(val)}, css: {'is-primary is-selected' : $root.index() == val, 'interact-widget is-medium button ' : true}"
                    }
                   },
                   "type": "node"
                  }
                 ],
                 "instanceArgs": {
                  "namespace": "html",
                  "tag": "div"
                 },
                 "nodeType": "DOM",
                 "props": {
                  "attributes": {
                   "data-bind": "foreach : options_js"
                  },
                  "className": "buttons has-addons is-centered"
                 },
                 "type": "node"
                }
               ],
               "instanceArgs": {
                "namespace": "html",
                "tag": "div"
               },
               "nodeType": "DOM",
               "props": {
                "className": "interact-flex-row-center"
               },
               "type": "node"
              },
              {
               "children": [
                {
                 "children": [],
                 "instanceArgs": {
                  "namespace": "html",
                  "tag": "div"
                 },
                 "nodeType": "DOM",
                 "props": {},
                 "type": "node"
                }
               ],
               "instanceArgs": {
                "namespace": "html",
                "tag": "div"
               },
               "nodeType": "DOM",
               "props": {
                "className": "interact-flex-row-right"
               },
               "type": "node"
              }
             ],
             "instanceArgs": {
              "namespace": "html",
              "tag": "div"
             },
             "nodeType": "DOM",
             "props": {
              "className": "interact-flex-row interact-widget"
             },
             "type": "node"
            }
           ],
           "instanceArgs": {
            "handlers": {
             "index": [
              "(function (val){return (val!=this.model[\"index\"]()) ? (this.valueFromJulia[\"index\"]=true, this.model[\"index\"](val)) : undefined})"
             ],
             "options_js": [
              "(function (val){return (val!=this.model[\"options_js\"]()) ? (this.valueFromJulia[\"options_js\"]=true, this.model[\"options_js\"](val)) : undefined})"
             ]
            },
            "id": "3640515817087814047",
            "imports": {
             "data": [
              {
               "name": "knockout",
               "type": "js",
               "url": "/assetserver/254160226b58162a42111ea27214076747de1cf2-knockout.js"
              },
              {
               "name": "knockout_punches",
               "type": "js",
               "url": "/assetserver/2d0bf510fb683322318163f3ec7562806e4b1104-knockout_punches.js"
              },
              {
               "name": null,
               "type": "js",
               "url": "/assetserver/6ffcdda43c684da84d2ca5dd2027e4a55c68edac-all.js"
              },
              {
               "name": null,
               "type": "css",
               "url": "/assetserver/b0b44adaed1197b8510174b41f32f09d98a0c28e-style.css"
              },
              {
               "name": null,
               "type": "css",
               "url": "/assetserver/bbb2e3064bd5f6dfcf2f18fbeb52d9320f251632-bulma_confined.min.css"
              }
             ],
             "type": "async_block"
            },
            "mount_callbacks": [
             "function () {\n    var handler = (function (ko, koPunches) {\n    ko.punches.enableAll();\n    ko.bindingHandlers.numericValue = {\n        init: function(element, valueAccessor, allBindings, data, context) {\n            var stringified = ko.observable(ko.unwrap(valueAccessor()));\n            stringified.subscribe(function(value) {\n                var val = parseFloat(value);\n                if (!isNaN(val)) {\n                    valueAccessor()(val);\n                }\n            });\n            valueAccessor().subscribe(function(value) {\n                var str = JSON.stringify(value);\n                if ((str == \"0\") && ([\"-0\", \"-0.\"].indexOf(stringified()) >= 0))\n                     return;\n                 if ([\"null\", \"\"].indexOf(str) >= 0)\n                     return;\n                stringified(str);\n            });\n            ko.applyBindingsToNode(\n                element,\n                {\n                    value: stringified,\n                    valueUpdate: allBindings.get('valueUpdate'),\n                },\n                context,\n            );\n        }\n    };\n    var json_data = {\"options_js\":WebIO.getval({\"name\":\"options_js\",\"scope\":\"3640515817087814047\",\"id\":\"ob_08\",\"type\":\"observable\"}),\"index\":WebIO.getval({\"name\":\"index\",\"scope\":\"3640515817087814047\",\"id\":\"ob_07\",\"type\":\"observable\"})};\n    var self = this;\n    function AppViewModel() {\n        for (var key in json_data) {\n            var el = json_data[key];\n            this[key] = Array.isArray(el) ? ko.observableArray(el) : ko.observable(el);\n        }\n        [this[\"update\"]=function (val) {this.index(val)}]\n        \n        [this[\"options_js\"].subscribe((function (val){!(this.valueFromJulia[\"options_js\"]) ? (WebIO.setval({\"name\":\"options_js\",\"scope\":\"3640515817087814047\",\"id\":\"ob_08\",\"type\":\"observable\"},val)) : undefined; return this.valueFromJulia[\"options_js\"]=false}),self),this[\"index\"].subscribe((function (val){!(this.valueFromJulia[\"index\"]) ? (WebIO.setval({\"name\":\"index\",\"scope\":\"3640515817087814047\",\"id\":\"ob_07\",\"type\":\"observable\"},val)) : undefined; return this.valueFromJulia[\"index\"]=false}),self)]\n        \n    }\n    self.model = new AppViewModel();\n    self.valueFromJulia = {};\n    for (var key in json_data) {\n        self.valueFromJulia[key] = false;\n    }\n    ko.applyBindings(self.model, self.dom);\n}\n);\n    (WebIO.importBlock({\"data\":[{\"name\":\"knockout\",\"type\":\"js\",\"url\":\"/assetserver/254160226b58162a42111ea27214076747de1cf2-knockout.js\"},{\"name\":\"knockout_punches\",\"type\":\"js\",\"url\":\"/assetserver/2d0bf510fb683322318163f3ec7562806e4b1104-knockout_punches.js\"}],\"type\":\"async_block\"})).then((imports) => handler.apply(this, imports));\n}\n"
            ],
            "observables": {
             "index": {
              "id": "ob_07",
              "sync": true,
              "value": 1
             },
             "options_js": {
              "id": "ob_08",
              "sync": false,
              "value": [
               {
                "id": "id7GWEWrSk",
                "key": "Geometric(q)",
                "val": 1
               },
               {
                "id": "idTm8tHOEl",
                "key": "Exponential(λ)",
                "val": 2
               }
              ]
             }
            },
            "systemjs_options": null
           },
           "nodeType": "Scope",
           "props": {},
           "type": "node"
          }
         ],
         "instanceArgs": {
          "namespace": "html",
          "tag": "div"
         },
         "nodeType": "DOM",
         "props": {
          "className": "interact-widget"
         },
         "type": "node"
        },
        {
         "children": [
          {
           "children": [
            {
             "children": [
              {
               "children": [
                {
                 "children": [
                  "q"
                 ],
                 "instanceArgs": {
                  "namespace": "html",
                  "tag": "label"
                 },
                 "nodeType": "DOM",
                 "props": {
                  "className": "interact ",
                  "style": {
                   "padding": "5px 10px 0px 10px"
                  }
                 },
                 "type": "node"
                }
               ],
               "instanceArgs": {
                "namespace": "html",
                "tag": "div"
               },
               "nodeType": "DOM",
               "props": {
                "className": "interact-flex-row-left"
               },
               "type": "node"
              },
              {
               "children": [
                {
                 "children": [],
                 "instanceArgs": {
                  "namespace": "html",
                  "tag": "input"
                 },
                 "nodeType": "DOM",
                 "props": {
                  "attributes": {
                   "data-bind": "numericValue: index, valueUpdate: 'input', event: {change: function (){this.changes(this.changes()+1)}}",
                   "orient": "horizontal",
                   "type": "range"
                  },
                  "className": "slider slider is-fullwidth",
                  "max": 19,
                  "min": 1,
                  "step": 1,
                  "style": {}
                 },
                 "type": "node"
                }
               ],
               "instanceArgs": {
                "namespace": "html",
                "tag": "div"
               },
               "nodeType": "DOM",
               "props": {
                "className": "interact-flex-row-center"
               },
               "type": "node"
              },
              {
               "children": [
                {
                 "children": [],
                 "instanceArgs": {
                  "namespace": "html",
                  "tag": "p"
                 },
                 "nodeType": "DOM",
                 "props": {
                  "attributes": {
                   "data-bind": "text: formatted_val"
                  }
                 },
                 "type": "node"
                }
               ],
               "instanceArgs": {
                "namespace": "html",
                "tag": "div"
               },
               "nodeType": "DOM",
               "props": {
                "className": "interact-flex-row-right"
               },
               "type": "node"
              }
             ],
             "instanceArgs": {
              "namespace": "html",
              "tag": "div"
             },
             "nodeType": "DOM",
             "props": {
              "className": "interact-flex-row interact-widget"
             },
             "type": "node"
            }
           ],
           "instanceArgs": {
            "handlers": {
             "changes": [
              "(function (val){return (val!=this.model[\"changes\"]()) ? (this.valueFromJulia[\"changes\"]=true, this.model[\"changes\"](val)) : undefined})"
             ],
             "index": [
              "(function (val){return (val!=this.model[\"index\"]()) ? (this.valueFromJulia[\"index\"]=true, this.model[\"index\"](val)) : undefined})"
             ]
            },
            "id": "7953307948917451718",
            "imports": {
             "data": [
              {
               "name": "knockout",
               "type": "js",
               "url": "/assetserver/254160226b58162a42111ea27214076747de1cf2-knockout.js"
              },
              {
               "name": "knockout_punches",
               "type": "js",
               "url": "/assetserver/2d0bf510fb683322318163f3ec7562806e4b1104-knockout_punches.js"
              },
              {
               "name": null,
               "type": "js",
               "url": "/assetserver/6ffcdda43c684da84d2ca5dd2027e4a55c68edac-all.js"
              },
              {
               "name": null,
               "type": "css",
               "url": "/assetserver/b0b44adaed1197b8510174b41f32f09d98a0c28e-style.css"
              },
              {
               "name": null,
               "type": "css",
               "url": "/assetserver/bbb2e3064bd5f6dfcf2f18fbeb52d9320f251632-bulma_confined.min.css"
              }
             ],
             "type": "async_block"
            },
            "mount_callbacks": [
             "function () {\n    var handler = (function (ko, koPunches) {\n    ko.punches.enableAll();\n    ko.bindingHandlers.numericValue = {\n        init: function(element, valueAccessor, allBindings, data, context) {\n            var stringified = ko.observable(ko.unwrap(valueAccessor()));\n            stringified.subscribe(function(value) {\n                var val = parseFloat(value);\n                if (!isNaN(val)) {\n                    valueAccessor()(val);\n                }\n            });\n            valueAccessor().subscribe(function(value) {\n                var str = JSON.stringify(value);\n                if ((str == \"0\") && ([\"-0\", \"-0.\"].indexOf(stringified()) >= 0))\n                     return;\n                 if ([\"null\", \"\"].indexOf(str) >= 0)\n                     return;\n                stringified(str);\n            });\n            ko.applyBindingsToNode(\n                element,\n                {\n                    value: stringified,\n                    valueUpdate: allBindings.get('valueUpdate'),\n                },\n                context,\n            );\n        }\n    };\n    var json_data = {\"formatted_vals\":[\"0.05\",\"0.1\",\"0.15\",\"0.2\",\"0.25\",\"0.3\",\"0.35\",\"0.4\",\"0.45\",\"0.5\",\"0.55\",\"0.6\",\"0.65\",\"0.7\",\"0.75\",\"0.8\",\"0.85\",\"0.9\",\"0.95\"],\"changes\":WebIO.getval({\"name\":\"changes\",\"scope\":\"7953307948917451718\",\"id\":\"ob_11\",\"type\":\"observable\"}),\"index\":WebIO.getval({\"name\":\"index\",\"scope\":\"7953307948917451718\",\"id\":\"ob_10\",\"type\":\"observable\"})};\n    var self = this;\n    function AppViewModel() {\n        for (var key in json_data) {\n            var el = json_data[key];\n            this[key] = Array.isArray(el) ? ko.observableArray(el) : ko.observable(el);\n        }\n        \n        [this[\"formatted_val\"]=ko.computed(    function(){\n        return this.formatted_vals()[parseInt(this.index())-(1)];\n    }\n,this)]\n        [this[\"changes\"].subscribe((function (val){!(this.valueFromJulia[\"changes\"]) ? (WebIO.setval({\"name\":\"changes\",\"scope\":\"7953307948917451718\",\"id\":\"ob_11\",\"type\":\"observable\"},val)) : undefined; return this.valueFromJulia[\"changes\"]=false}),self),this[\"index\"].subscribe((function (val){!(this.valueFromJulia[\"index\"]) ? (WebIO.setval({\"name\":\"index\",\"scope\":\"7953307948917451718\",\"id\":\"ob_10\",\"type\":\"observable\"},val)) : undefined; return this.valueFromJulia[\"index\"]=false}),self)]\n        \n    }\n    self.model = new AppViewModel();\n    self.valueFromJulia = {};\n    for (var key in json_data) {\n        self.valueFromJulia[key] = false;\n    }\n    ko.applyBindings(self.model, self.dom);\n}\n);\n    (WebIO.importBlock({\"data\":[{\"name\":\"knockout\",\"type\":\"js\",\"url\":\"/assetserver/254160226b58162a42111ea27214076747de1cf2-knockout.js\"},{\"name\":\"knockout_punches\",\"type\":\"js\",\"url\":\"/assetserver/2d0bf510fb683322318163f3ec7562806e4b1104-knockout_punches.js\"}],\"type\":\"async_block\"})).then((imports) => handler.apply(this, imports));\n}\n"
            ],
            "observables": {
             "changes": {
              "id": "ob_11",
              "sync": false,
              "value": 0
             },
             "index": {
              "id": "ob_10",
              "sync": true,
              "value": 10
             }
            },
            "systemjs_options": null
           },
           "nodeType": "Scope",
           "props": {},
           "type": "node"
          }
         ],
         "instanceArgs": {
          "namespace": "html",
          "tag": "div"
         },
         "nodeType": "DOM",
         "props": {
          "className": "field interact-widget"
         },
         "type": "node"
        },
        {
         "children": [
          {
           "children": [
            {
             "children": [
              {
               "children": [
                {
                 "children": [
                  "λ"
                 ],
                 "instanceArgs": {
                  "namespace": "html",
                  "tag": "label"
                 },
                 "nodeType": "DOM",
                 "props": {
                  "className": "interact ",
                  "style": {
                   "padding": "5px 10px 0px 10px"
                  }
                 },
                 "type": "node"
                }
               ],
               "instanceArgs": {
                "namespace": "html",
                "tag": "div"
               },
               "nodeType": "DOM",
               "props": {
                "className": "interact-flex-row-left"
               },
               "type": "node"
              },
              {
               "children": [
                {
                 "children": [],
                 "instanceArgs": {
                  "namespace": "html",
                  "tag": "input"
                 },
                 "nodeType": "DOM",
                 "props": {
                  "attributes": {
                   "data-bind": "numericValue: index, valueUpdate: 'input', event: {change: function (){this.changes(this.changes()+1)}}",
                   "orient": "horizontal",
                   "type": "range"
                  },
                  "className": "slider slider is-fullwidth",
                  "max": 10,
                  "min": 1,
                  "step": 1,
                  "style": {}
                 },
                 "type": "node"
                }
               ],
               "instanceArgs": {
                "namespace": "html",
                "tag": "div"
               },
               "nodeType": "DOM",
               "props": {
                "className": "interact-flex-row-center"
               },
               "type": "node"
              },
              {
               "children": [
                {
                 "children": [],
                 "instanceArgs": {
                  "namespace": "html",
                  "tag": "p"
                 },
                 "nodeType": "DOM",
                 "props": {
                  "attributes": {
                   "data-bind": "text: formatted_val"
                  }
                 },
                 "type": "node"
                }
               ],
               "instanceArgs": {
                "namespace": "html",
                "tag": "div"
               },
               "nodeType": "DOM",
               "props": {
                "className": "interact-flex-row-right"
               },
               "type": "node"
              }
             ],
             "instanceArgs": {
              "namespace": "html",
              "tag": "div"
             },
             "nodeType": "DOM",
             "props": {
              "className": "interact-flex-row interact-widget"
             },
             "type": "node"
            }
           ],
           "instanceArgs": {
            "handlers": {
             "changes": [
              "(function (val){return (val!=this.model[\"changes\"]()) ? (this.valueFromJulia[\"changes\"]=true, this.model[\"changes\"](val)) : undefined})"
             ],
             "index": [
              "(function (val){return (val!=this.model[\"index\"]()) ? (this.valueFromJulia[\"index\"]=true, this.model[\"index\"](val)) : undefined})"
             ]
            },
            "id": "13435157253992265076",
            "imports": {
             "data": [
              {
               "name": "knockout",
               "type": "js",
               "url": "/assetserver/254160226b58162a42111ea27214076747de1cf2-knockout.js"
              },
              {
               "name": "knockout_punches",
               "type": "js",
               "url": "/assetserver/2d0bf510fb683322318163f3ec7562806e4b1104-knockout_punches.js"
              },
              {
               "name": null,
               "type": "js",
               "url": "/assetserver/6ffcdda43c684da84d2ca5dd2027e4a55c68edac-all.js"
              },
              {
               "name": null,
               "type": "css",
               "url": "/assetserver/b0b44adaed1197b8510174b41f32f09d98a0c28e-style.css"
              },
              {
               "name": null,
               "type": "css",
               "url": "/assetserver/bbb2e3064bd5f6dfcf2f18fbeb52d9320f251632-bulma_confined.min.css"
              }
             ],
             "type": "async_block"
            },
            "mount_callbacks": [
             "function () {\n    var handler = (function (ko, koPunches) {\n    ko.punches.enableAll();\n    ko.bindingHandlers.numericValue = {\n        init: function(element, valueAccessor, allBindings, data, context) {\n            var stringified = ko.observable(ko.unwrap(valueAccessor()));\n            stringified.subscribe(function(value) {\n                var val = parseFloat(value);\n                if (!isNaN(val)) {\n                    valueAccessor()(val);\n                }\n            });\n            valueAccessor().subscribe(function(value) {\n                var str = JSON.stringify(value);\n                if ((str == \"0\") && ([\"-0\", \"-0.\"].indexOf(stringified()) >= 0))\n                     return;\n                 if ([\"null\", \"\"].indexOf(str) >= 0)\n                     return;\n                stringified(str);\n            });\n            ko.applyBindingsToNode(\n                element,\n                {\n                    value: stringified,\n                    valueUpdate: allBindings.get('valueUpdate'),\n                },\n                context,\n            );\n        }\n    };\n    var json_data = {\"formatted_vals\":[\"1\",\"2\",\"3\",\"4\",\"5\",\"6\",\"7\",\"8\",\"9\",\"10\"],\"changes\":WebIO.getval({\"name\":\"changes\",\"scope\":\"13435157253992265076\",\"id\":\"ob_14\",\"type\":\"observable\"}),\"index\":WebIO.getval({\"name\":\"index\",\"scope\":\"13435157253992265076\",\"id\":\"ob_13\",\"type\":\"observable\"})};\n    var self = this;\n    function AppViewModel() {\n        for (var key in json_data) {\n            var el = json_data[key];\n            this[key] = Array.isArray(el) ? ko.observableArray(el) : ko.observable(el);\n        }\n        \n        [this[\"formatted_val\"]=ko.computed(    function(){\n        return this.formatted_vals()[parseInt(this.index())-(1)];\n    }\n,this)]\n        [this[\"changes\"].subscribe((function (val){!(this.valueFromJulia[\"changes\"]) ? (WebIO.setval({\"name\":\"changes\",\"scope\":\"13435157253992265076\",\"id\":\"ob_14\",\"type\":\"observable\"},val)) : undefined; return this.valueFromJulia[\"changes\"]=false}),self),this[\"index\"].subscribe((function (val){!(this.valueFromJulia[\"index\"]) ? (WebIO.setval({\"name\":\"index\",\"scope\":\"13435157253992265076\",\"id\":\"ob_13\",\"type\":\"observable\"},val)) : undefined; return this.valueFromJulia[\"index\"]=false}),self)]\n        \n    }\n    self.model = new AppViewModel();\n    self.valueFromJulia = {};\n    for (var key in json_data) {\n        self.valueFromJulia[key] = false;\n    }\n    ko.applyBindings(self.model, self.dom);\n}\n);\n    (WebIO.importBlock({\"data\":[{\"name\":\"knockout\",\"type\":\"js\",\"url\":\"/assetserver/254160226b58162a42111ea27214076747de1cf2-knockout.js\"},{\"name\":\"knockout_punches\",\"type\":\"js\",\"url\":\"/assetserver/2d0bf510fb683322318163f3ec7562806e4b1104-knockout_punches.js\"}],\"type\":\"async_block\"})).then((imports) => handler.apply(this, imports));\n}\n"
            ],
            "observables": {
             "changes": {
              "id": "ob_14",
              "sync": false,
              "value": 0
             },
             "index": {
              "id": "ob_13",
              "sync": true,
              "value": 5
             }
            },
            "systemjs_options": null
           },
           "nodeType": "Scope",
           "props": {},
           "type": "node"
          }
         ],
         "instanceArgs": {
          "namespace": "html",
          "tag": "div"
         },
         "nodeType": "DOM",
         "props": {
          "className": "field interact-widget"
         },
         "type": "node"
        },
        {
         "children": [
          {
           "children": [],
           "instanceArgs": {
            "id": "ob_20",
            "name": "obs-node"
           },
           "nodeType": "ObservableNode",
           "props": {},
           "type": "node"
          }
         ],
         "instanceArgs": {
          "handlers": {},
          "id": "8966874923505742200",
          "imports": {
           "data": [],
           "type": "async_block"
          },
          "mount_callbacks": [],
          "observables": {
           "obs-node": {
            "id": "ob_20",
            "sync": false,
            "value": {
             "children": [
              {
               "children": [],
               "instanceArgs": {
                "namespace": "html",
                "tag": "div"
               },
               "nodeType": "DOM",
               "props": {
                "setInnerHtml": "<?xml version=\"1.0\" encoding=\"utf-8\"?>\n<svg xmlns=\"http://www.w3.org/2000/svg\" xmlns:xlink=\"http://www.w3.org/1999/xlink\" width=\"600\" height=\"400\" viewBox=\"0 0 2400 1600\">\n<defs>\n  <clipPath id=\"clip6800\">\n    <rect x=\"0\" y=\"0\" width=\"2400\" height=\"1600\"/>\n  </clipPath>\n</defs>\n<path clip-path=\"url(#clip6800)\" d=\"\nM0 1600 L2400 1600 L2400 0 L0 0  Z\n  \" fill=\"#ffffff\" fill-rule=\"evenodd\" fill-opacity=\"1\"/>\n<defs>\n  <clipPath id=\"clip6801\">\n    <rect x=\"480\" y=\"0\" width=\"1681\" height=\"1600\"/>\n  </clipPath>\n</defs>\n<path clip-path=\"url(#clip6800)\" d=\"\nM140.517 1425.62 L2352.76 1425.62 L2352.76 47.2441 L140.517 47.2441  Z\n  \" fill=\"#ffffff\" fill-rule=\"evenodd\" fill-opacity=\"1\"/>\n<defs>\n  <clipPath id=\"clip6802\">\n    <rect x=\"140\" y=\"47\" width=\"2213\" height=\"1379\"/>\n  </clipPath>\n</defs>\n<polyline clip-path=\"url(#clip6802)\" style=\"stroke:#000000; stroke-width:2; stroke-opacity:0.1; fill:none\" points=\"\n  199.326,1425.62 199.326,47.2441 \n  \"/>\n<polyline clip-path=\"url(#clip6802)\" style=\"stroke:#000000; stroke-width:2; stroke-opacity:0.1; fill:none\" points=\"\n  579.475,1425.62 579.475,47.2441 \n  \"/>\n<polyline clip-path=\"url(#clip6802)\" style=\"stroke:#000000; stroke-width:2; stroke-opacity:0.1; fill:none\" points=\"\n  959.624,1425.62 959.624,47.2441 \n  \"/>\n<polyline clip-path=\"url(#clip6802)\" style=\"stroke:#000000; stroke-width:2; stroke-opacity:0.1; fill:none\" points=\"\n  1339.77,1425.62 1339.77,47.2441 \n  \"/>\n<polyline clip-path=\"url(#clip6802)\" style=\"stroke:#000000; stroke-width:2; stroke-opacity:0.1; fill:none\" points=\"\n  1719.92,1425.62 1719.92,47.2441 \n  \"/>\n<polyline clip-path=\"url(#clip6802)\" style=\"stroke:#000000; stroke-width:2; stroke-opacity:0.1; fill:none\" points=\"\n  2100.07,1425.62 2100.07,47.2441 \n  \"/>\n<polyline clip-path=\"url(#clip6802)\" style=\"stroke:#000000; stroke-width:2; stroke-opacity:0.1; fill:none\" points=\"\n  140.517,1386.61 2352.76,1386.61 \n  \"/>\n<polyline clip-path=\"url(#clip6802)\" style=\"stroke:#000000; stroke-width:2; stroke-opacity:0.1; fill:none\" points=\"\n  140.517,1061.52 2352.76,1061.52 \n  \"/>\n<polyline clip-path=\"url(#clip6802)\" style=\"stroke:#000000; stroke-width:2; stroke-opacity:0.1; fill:none\" points=\"\n  140.517,736.431 2352.76,736.431 \n  \"/>\n<polyline clip-path=\"url(#clip6802)\" style=\"stroke:#000000; stroke-width:2; stroke-opacity:0.1; fill:none\" points=\"\n  140.517,411.343 2352.76,411.343 \n  \"/>\n<polyline clip-path=\"url(#clip6802)\" style=\"stroke:#000000; stroke-width:2; stroke-opacity:0.1; fill:none\" points=\"\n  140.517,86.2547 2352.76,86.2547 \n  \"/>\n<polyline clip-path=\"url(#clip6800)\" style=\"stroke:#000000; stroke-width:4; stroke-opacity:1; fill:none\" points=\"\n  140.517,1425.62 2352.76,1425.62 \n  \"/>\n<polyline clip-path=\"url(#clip6800)\" style=\"stroke:#000000; stroke-width:4; stroke-opacity:1; fill:none\" points=\"\n  140.517,1425.62 140.517,47.2441 \n  \"/>\n<polyline clip-path=\"url(#clip6800)\" style=\"stroke:#000000; stroke-width:4; stroke-opacity:1; fill:none\" points=\"\n  199.326,1425.62 199.326,1404.94 \n  \"/>\n<polyline clip-path=\"url(#clip6800)\" style=\"stroke:#000000; stroke-width:4; stroke-opacity:1; fill:none\" points=\"\n  579.475,1425.62 579.475,1404.94 \n  \"/>\n<polyline clip-path=\"url(#clip6800)\" style=\"stroke:#000000; stroke-width:4; stroke-opacity:1; fill:none\" points=\"\n  959.624,1425.62 959.624,1404.94 \n  \"/>\n<polyline clip-path=\"url(#clip6800)\" style=\"stroke:#000000; stroke-width:4; stroke-opacity:1; fill:none\" points=\"\n  1339.77,1425.62 1339.77,1404.94 \n  \"/>\n<polyline clip-path=\"url(#clip6800)\" style=\"stroke:#000000; stroke-width:4; stroke-opacity:1; fill:none\" points=\"\n  1719.92,1425.62 1719.92,1404.94 \n  \"/>\n<polyline clip-path=\"url(#clip6800)\" style=\"stroke:#000000; stroke-width:4; stroke-opacity:1; fill:none\" points=\"\n  2100.07,1425.62 2100.07,1404.94 \n  \"/>\n<polyline clip-path=\"url(#clip6800)\" style=\"stroke:#000000; stroke-width:4; stroke-opacity:1; fill:none\" points=\"\n  140.517,1386.61 173.7,1386.61 \n  \"/>\n<polyline clip-path=\"url(#clip6800)\" style=\"stroke:#000000; stroke-width:4; stroke-opacity:1; fill:none\" points=\"\n  140.517,1061.52 173.7,1061.52 \n  \"/>\n<polyline clip-path=\"url(#clip6800)\" style=\"stroke:#000000; stroke-width:4; stroke-opacity:1; fill:none\" points=\"\n  140.517,736.431 173.7,736.431 \n  \"/>\n<polyline clip-path=\"url(#clip6800)\" style=\"stroke:#000000; stroke-width:4; stroke-opacity:1; fill:none\" points=\"\n  140.517,411.343 173.7,411.343 \n  \"/>\n<polyline clip-path=\"url(#clip6800)\" style=\"stroke:#000000; stroke-width:4; stroke-opacity:1; fill:none\" points=\"\n  140.517,86.2547 173.7,86.2547 \n  \"/>\n<g clip-path=\"url(#clip6800)\">\n<text style=\"fill:#000000; fill-opacity:1; font-family:Arial,Helvetica Neue,Helvetica,sans-serif; font-size:48px; text-anchor:middle;\" transform=\"rotate(0, 199.326, 1479.62)\" x=\"199.326\" y=\"1479.62\">0</text>\n</g>\n<g clip-path=\"url(#clip6800)\">\n<text style=\"fill:#000000; fill-opacity:1; font-family:Arial,Helvetica Neue,Helvetica,sans-serif; font-size:48px; text-anchor:middle;\" transform=\"rotate(0, 579.475, 1479.62)\" x=\"579.475\" y=\"1479.62\">100</text>\n</g>\n<g clip-path=\"url(#clip6800)\">\n<text style=\"fill:#000000; fill-opacity:1; font-family:Arial,Helvetica Neue,Helvetica,sans-serif; font-size:48px; text-anchor:middle;\" transform=\"rotate(0, 959.624, 1479.62)\" x=\"959.624\" y=\"1479.62\">200</text>\n</g>\n<g clip-path=\"url(#clip6800)\">\n<text style=\"fill:#000000; fill-opacity:1; font-family:Arial,Helvetica Neue,Helvetica,sans-serif; font-size:48px; text-anchor:middle;\" transform=\"rotate(0, 1339.77, 1479.62)\" x=\"1339.77\" y=\"1479.62\">300</text>\n</g>\n<g clip-path=\"url(#clip6800)\">\n<text style=\"fill:#000000; fill-opacity:1; font-family:Arial,Helvetica Neue,Helvetica,sans-serif; font-size:48px; text-anchor:middle;\" transform=\"rotate(0, 1719.92, 1479.62)\" x=\"1719.92\" y=\"1479.62\">400</text>\n</g>\n<g clip-path=\"url(#clip6800)\">\n<text style=\"fill:#000000; fill-opacity:1; font-family:Arial,Helvetica Neue,Helvetica,sans-serif; font-size:48px; text-anchor:middle;\" transform=\"rotate(0, 2100.07, 1479.62)\" x=\"2100.07\" y=\"1479.62\">500</text>\n</g>\n<g clip-path=\"url(#clip6800)\">\n<text style=\"fill:#000000; fill-opacity:1; font-family:Arial,Helvetica Neue,Helvetica,sans-serif; font-size:48px; text-anchor:end;\" transform=\"rotate(0, 116.517, 1404.11)\" x=\"116.517\" y=\"1404.11\">0</text>\n</g>\n<g clip-path=\"url(#clip6800)\">\n<text style=\"fill:#000000; fill-opacity:1; font-family:Arial,Helvetica Neue,Helvetica,sans-serif; font-size:48px; text-anchor:end;\" transform=\"rotate(0, 116.517, 1079.02)\" x=\"116.517\" y=\"1079.02\">5</text>\n</g>\n<g clip-path=\"url(#clip6800)\">\n<text style=\"fill:#000000; fill-opacity:1; font-family:Arial,Helvetica Neue,Helvetica,sans-serif; font-size:48px; text-anchor:end;\" transform=\"rotate(0, 116.517, 753.931)\" x=\"116.517\" y=\"753.931\">10</text>\n</g>\n<g clip-path=\"url(#clip6800)\">\n<text style=\"fill:#000000; fill-opacity:1; font-family:Arial,Helvetica Neue,Helvetica,sans-serif; font-size:48px; text-anchor:end;\" transform=\"rotate(0, 116.517, 428.843)\" x=\"116.517\" y=\"428.843\">15</text>\n</g>\n<g clip-path=\"url(#clip6800)\">\n<text style=\"fill:#000000; fill-opacity:1; font-family:Arial,Helvetica Neue,Helvetica,sans-serif; font-size:48px; text-anchor:end;\" transform=\"rotate(0, 116.517, 103.755)\" x=\"116.517\" y=\"103.755\">20</text>\n</g>\n<g clip-path=\"url(#clip6800)\">\n<text style=\"fill:#000000; fill-opacity:1; font-family:Arial,Helvetica Neue,Helvetica,sans-serif; font-size:66px; text-anchor:middle;\" transform=\"rotate(0, 1246.64, 1559.48)\" x=\"1246.64\" y=\"1559.48\">N</text>\n</g>\n<polyline clip-path=\"url(#clip6802)\" style=\"stroke:#ff0000; stroke-width:12; stroke-opacity:1; fill:none\" points=\"\n  203.127,1386.61 206.929,1246.04 210.73,1054.51 214.532,986.397 218.333,598.078 222.135,641.463 225.936,685.395 229.738,321.224 233.539,410.087 237.341,414.847 \n  241.142,306.769 244.944,275.353 248.745,318.941 252.547,336.529 256.348,257.487 260.15,304.59 263.951,276.884 267.753,305.186 271.554,293.712 275.356,322.344 \n  279.157,335.587 282.959,347.004 286.76,313.774 290.562,311.79 294.363,262.644 298.165,265.392 301.966,267.797 305.768,258.245 309.569,254.014 313.371,253.365 \n  317.172,263.795 320.974,249.122 324.775,276.041 328.577,287.283 332.378,281.646 336.179,278.065 339.981,271.255 343.782,229.681 347.584,242.57 351.385,252.314 \n  355.187,270.992 358.988,251.064 362.79,247.212 366.591,242.881 370.393,224.56 374.194,225.173 377.996,221.136 381.797,230.565 385.599,235.237 389.4,247.721 \n  393.202,248.532 397.003,245.289 400.805,227.634 404.606,243.754 408.408,244.34 412.209,240.333 416.011,249.857 419.812,242.096 423.614,254.469 427.415,260.093 \n  431.217,262.701 435.018,232.101 438.82,221.677 442.621,233.635 446.423,220.943 450.224,230.385 454.026,221.94 457.827,227.034 461.629,228.544 465.43,240.291 \n  469.232,250.152 473.033,239.614 476.835,246.958 480.636,246.247 484.438,248.732 488.239,258.55 492.041,238.341 495.842,240.888 499.644,238.441 503.445,241.415 \n  507.247,235.122 511.048,231.849 514.85,239.747 518.651,234.088 522.453,223.009 526.254,223.931 530.055,226.536 533.857,221.258 537.658,229.92 541.46,230.171 \n  545.261,237.31 549.063,246.894 552.864,229.906 556.666,227.683 560.467,203.508 564.269,195.481 568.07,200.647 571.872,209.935 575.673,211.836 579.475,212.788 \n  583.276,198.907 587.078,190.662 590.879,195.954 594.681,190.964 598.482,198.636 602.284,203.654 606.085,190.033 609.887,178.397 613.688,178.158 617.49,176.432 \n  621.291,180.061 625.093,164.54 628.894,171.918 632.696,173.777 636.497,177.725 640.299,160.808 644.1,160.726 647.902,168.187 651.703,163.376 655.505,158.927 \n  659.306,155.753 663.108,160.161 666.909,166.588 670.711,164.011 674.512,170.559 678.314,168.166 682.115,160.603 685.917,164.119 689.718,157.061 693.52,157.453 \n  697.321,160.112 701.123,150.452 704.924,143.536 708.726,147.114 712.527,148.989 716.328,149.879 720.13,151.437 723.931,156.197 727.733,158.547 731.534,155.68 \n  735.336,152.074 739.137,157.256 742.939,164.494 746.74,164.19 750.542,168.66 754.343,172.752 758.145,153.994 761.946,157.449 765.748,153.571 769.549,156.895 \n  773.351,157.351 777.152,159.98 780.954,164.068 784.755,165.747 788.557,167.985 792.358,171.283 796.16,131.493 799.961,132.83 803.763,136.495 807.564,140.794 \n  811.366,136.336 815.167,136.357 818.969,138.767 822.77,132.983 826.572,129.321 830.373,133.369 834.175,128.815 837.976,128.894 841.778,131.366 845.579,136.522 \n  849.381,132.818 853.182,137.332 856.984,138.387 860.785,142.491 864.587,145.133 868.388,140.303 872.19,133.503 875.991,131.937 879.793,133.421 883.594,139.194 \n  887.396,136.782 891.197,138.366 894.999,139.213 898.8,138.469 902.602,140.047 906.403,140.684 910.204,137.307 914.006,140.34 917.807,142.488 921.609,142.667 \n  925.41,139.282 929.212,135.021 933.013,134.734 936.815,134.703 940.616,135.724 944.418,137.255 948.219,137.366 952.021,136.359 955.822,137.109 959.624,140.768 \n  963.425,136.015 967.227,134.095 971.028,135.21 974.83,137.103 978.631,140.137 982.433,131.735 986.234,133.434 990.036,134.89 993.837,138.23 997.639,136.234 \n  1001.44,140.611 1005.24,142.005 1009.04,146.066 1012.84,147.979 1016.65,148.493 1020.45,148.016 1024.25,141.139 1028.05,141.553 1031.85,142.315 1035.65,139.279 \n  1039.46,141.818 1043.26,145.089 1047.06,146.032 1050.86,143.06 1054.66,143.294 1058.46,143.409 1062.26,142.845 1066.07,138.346 1069.87,140.479 1073.67,144.658 \n  1077.47,142.468 1081.27,138.991 1085.07,139.863 1088.87,142.239 1092.68,142.277 1096.48,143.428 1100.28,145.054 1104.08,143.879 1107.88,145.367 1111.68,144.923 \n  1115.48,146.841 1119.29,149.251 1123.09,150.81 1126.89,145.702 1130.69,146.05 1134.49,145.065 1138.29,148.176 1142.1,148.522 1145.9,137.786 1149.7,140.687 \n  1153.5,141.636 1157.3,142.706 1161.1,144.278 1164.9,133.024 1168.71,133.526 1172.51,133.058 1176.31,129.609 1180.11,133.173 1183.91,137.396 1187.71,136.041 \n  1191.51,137.241 1195.32,138.62 1199.12,137.833 1202.92,138.044 1206.72,137.453 1210.52,136.702 1214.32,138.912 1218.13,141.129 1221.93,143.033 1225.73,140.974 \n  1229.53,141.159 1233.33,140.153 1237.13,133.346 1240.93,122.295 1244.74,121.566 1248.54,122.291 1252.34,121.651 1256.14,122.852 1259.94,124.946 1263.74,125.749 \n  1267.54,127.143 1271.35,127.705 1275.15,130.99 1278.95,129.466 1282.75,129.824 1286.55,133.35 1290.35,136.857 1294.15,134.413 1297.96,136.976 1301.76,140.563 \n  1305.56,136.233 1309.36,138.481 1313.16,139.366 1316.96,139.323 1320.77,136.831 1324.57,137.377 1328.37,138.655 1332.17,136.504 1335.97,136.876 1339.77,134.478 \n  1343.57,134.369 1347.38,131.543 1351.18,134.453 1354.98,137.478 1358.78,125.313 1362.58,125.966 1366.38,127.046 1370.18,123.755 1373.99,125.575 1377.79,123.647 \n  1381.59,126.611 1385.39,125.437 1389.19,126.057 1392.99,129.078 1396.8,127.754 1400.6,129.443 1404.4,127.941 1408.2,127.571 1412,129.793 1415.8,128.482 \n  1419.6,130.863 1423.41,132.031 1427.21,130.943 1431.01,133.505 1434.81,131.576 1438.61,131.845 1442.41,128.092 1446.21,128.184 1450.02,128.934 1453.82,131.312 \n  1457.62,126.33 1461.42,128.134 1465.22,128.868 1469.02,130.778 1472.83,129.655 1476.63,127.494 1480.43,124.641 1484.23,124.85 1488.03,126.836 1491.83,125.511 \n  1495.63,126.194 1499.44,127.736 1503.24,125.96 1507.04,120.147 1510.84,119.21 1514.64,122.319 1518.44,117.598 1522.24,119.574 1526.05,116.758 1529.85,118.528 \n  1533.65,118.75 1537.45,117.909 1541.25,118.385 1545.05,117.794 1548.85,115.664 1552.66,113.576 1556.46,116.424 1560.26,118.815 1564.06,119.191 1567.86,121.228 \n  1571.66,123.757 1575.47,120.28 1579.27,117.845 1583.07,120.707 1586.87,122.659 1590.67,122.91 1594.47,124.456 1598.27,122.893 1602.08,115.441 1605.88,113.384 \n  1609.68,115.888 1613.48,113.589 1617.28,116.083 1621.08,116.872 1624.88,113.833 1628.69,116.139 1632.49,116.104 1636.29,116.265 1640.09,118.239 1643.89,119.118 \n  1647.69,120.729 1651.5,120.495 1655.3,121.789 1659.1,121.595 1662.9,122.774 1666.7,123.562 1670.5,124.033 1674.3,123.026 1678.11,124.444 1681.91,125.961 \n  1685.71,128.699 1689.51,129.425 1693.31,127.137 1697.11,126.68 1700.91,127.383 1704.72,125.541 1708.52,127.004 1712.32,124.818 1716.12,120.413 1719.92,122.668 \n  1723.72,116.758 1727.52,118.243 1731.33,118.125 1735.13,120.425 1738.93,121.364 1742.73,120.826 1746.53,122.294 1750.33,120.961 1754.14,120.966 1757.94,120.67 \n  1761.74,118.359 1765.54,119.578 1769.34,118.565 1773.14,117.295 1776.94,118.715 1780.75,119.717 1784.55,121.519 1788.35,120.821 1792.15,121.798 1795.95,119.532 \n  1799.75,120.78 1803.55,122.092 1807.36,122.407 1811.16,123.88 1814.96,122.703 1818.76,122.174 1822.56,124.287 1826.36,124.193 1830.17,123.706 1833.97,125.606 \n  1837.77,124.427 1841.57,119.489 1845.37,119.931 1849.17,121.095 1852.97,118.913 1856.78,120.215 1860.58,121.653 1864.38,122.826 1868.18,119.535 1871.98,121.854 \n  1875.78,123.204 1879.58,123.843 1883.39,124.328 1887.19,126.026 1890.99,127.119 1894.79,128.505 1898.59,127.873 1902.39,128.179 1906.19,126.53 1910,126.176 \n  1913.8,126.228 1917.6,128.317 1921.4,127.036 1925.2,127.304 1929,128.468 1932.81,128.938 1936.61,129.582 1940.41,131.046 1944.21,128.683 1948.01,131.125 \n  1951.81,127.835 1955.61,129.538 1959.42,126.087 1963.22,128.449 1967.02,129.163 1970.82,122.232 1974.62,122.794 1978.42,124.016 1982.22,123.643 1986.03,121.819 \n  1989.83,121.761 1993.63,123.787 1997.43,124.759 2001.23,125.589 2005.03,125.216 2008.84,125.739 2012.64,127.437 2016.44,128.85 2020.24,127.622 2024.04,127.367 \n  2027.84,128.186 2031.64,127.529 2035.45,127.286 2039.25,125.618 2043.05,127.489 2046.85,126.384 2050.65,126.758 2054.45,127.381 2058.25,119.813 2062.06,120.171 \n  2065.86,121.947 2069.66,120.641 2073.46,121.87 2077.26,120.701 2081.06,121.922 2084.86,122.117 2088.67,123.095 2092.47,123.509 2096.27,122.868 2100.07,124.183 \n  2103.87,123.72 2107.67,122.969 2111.48,122.445 2115.28,121.863 2119.08,120.58 2122.88,120.146 2126.68,121.441 2130.48,122.191 2134.28,121.908 2138.09,121.604 \n  2141.89,121.522 2145.69,121.867 2149.49,122.93 2153.29,120.532 2157.09,121.172 2160.89,122.747 2164.7,124.003 2168.5,121.576 2172.3,120.334 2176.1,118.516 \n  2179.9,119.918 2183.7,120.855 2187.51,122.265 2191.31,122.189 2195.11,123.09 2198.91,123.786 2202.71,124.059 2206.51,123.137 2210.31,123.909 2214.12,124.705 \n  2217.92,126.093 2221.72,124.206 2225.52,124.91 2229.32,124.635 2233.12,125.046 2236.92,125.476 2240.73,123.694 2244.53,124.646 2248.33,125.885 2252.13,127.755 \n  2255.93,128.821 2259.73,126.786 2263.53,126.656 2267.34,125.452 2271.14,127.576 2274.94,124.652 2278.74,123.079 2282.54,124.644 2286.34,124.902 2290.15,125.645 \n  \n  \"/>\n<polyline clip-path=\"url(#clip6802)\" style=\"stroke:#000000; stroke-width:12; stroke-opacity:1; fill:none\" points=\"\n  -221083,86.2547 223577,86.2547 \n  \"/>\n<path clip-path=\"url(#clip6800)\" d=\"\nM212.517 1281.62 L802.786 1281.62 L802.786 1100.18 L212.517 1100.18  Z\n  \" fill=\"#ffffff\" fill-rule=\"evenodd\" fill-opacity=\"1\"/>\n<polyline clip-path=\"url(#clip6800)\" style=\"stroke:#000000; stroke-width:4; stroke-opacity:1; fill:none\" points=\"\n  212.517,1281.62 802.786,1281.62 802.786,1100.18 212.517,1100.18 212.517,1281.62 \n  \"/>\n<polyline clip-path=\"url(#clip6800)\" style=\"stroke:#ff0000; stroke-width:12; stroke-opacity:1; fill:none\" points=\"\n  236.517,1160.66 380.517,1160.66 \n  \"/>\n<g clip-path=\"url(#clip6800)\">\n<text style=\"fill:#000000; fill-opacity:1; font-family:Arial,Helvetica Neue,Helvetica,sans-serif; font-size:48px; text-anchor:start;\" transform=\"rotate(0, 404.517, 1178.16)\" x=\"404.517\" y=\"1178.16\">empirical T(N,N)</text>\n</g>\n<polyline clip-path=\"url(#clip6800)\" style=\"stroke:#000000; stroke-width:12; stroke-opacity:1; fill:none\" points=\"\n  236.517,1221.14 380.517,1221.14 \n  \"/>\n<g clip-path=\"url(#clip6800)\">\n<text style=\"fill:#000000; fill-opacity:1; font-family:Arial,Helvetica Neue,Helvetica,sans-serif; font-size:48px; text-anchor:start;\" transform=\"rotate(0, 404.517, 1238.64)\" x=\"404.517\" y=\"1238.64\">theoretical limit</text>\n</g>\n</svg>\n"
               },
               "type": "node"
              }
             ],
             "instanceArgs": {
              "namespace": "html",
              "tag": "div"
             },
             "nodeType": "DOM",
             "props": {
              "className": "interact-flex-row interact-widget"
             },
             "type": "node"
            }
           }
          },
          "systemjs_options": null
         },
         "nodeType": "Scope",
         "props": {},
         "type": "node"
        }
       ],
       "instanceArgs": {
        "namespace": "html",
        "tag": "div"
       },
       "nodeType": "DOM",
       "props": {},
       "type": "node"
      },
      "text/html": [
       "<div\n",
       "    class=\"webio-mountpoint\"\n",
       "    data-webio-mountpoint=\"1660229038225576254\"\n",
       ">\n",
       "    <script>\n",
       "    if (window.require && require.defined && require.defined(\"nbextensions/webio-jupyter-notebook\")) {\n",
       "        console.log(\"Jupyter WebIO extension detected, not mounting.\");\n",
       "    } else if (window.WebIO) {\n",
       "        WebIO.mount(\n",
       "            document.querySelector('[data-webio-mountpoint=\"1660229038225576254\"]'),\n",
       "            {\"props\":{},\"nodeType\":\"DOM\",\"type\":\"node\",\"instanceArgs\":{\"namespace\":\"html\",\"tag\":\"div\"},\"children\":[{\"props\":{\"className\":\"field interact-widget\"},\"nodeType\":\"DOM\",\"type\":\"node\",\"instanceArgs\":{\"namespace\":\"html\",\"tag\":\"div\"},\"children\":[{\"props\":{},\"nodeType\":\"Scope\",\"type\":\"node\",\"instanceArgs\":{\"imports\":{\"data\":[{\"name\":\"knockout\",\"type\":\"js\",\"url\":\"\\/assetserver\\/254160226b58162a42111ea27214076747de1cf2-knockout.js\"},{\"name\":\"knockout_punches\",\"type\":\"js\",\"url\":\"\\/assetserver\\/2d0bf510fb683322318163f3ec7562806e4b1104-knockout_punches.js\"},{\"name\":null,\"type\":\"js\",\"url\":\"\\/assetserver\\/6ffcdda43c684da84d2ca5dd2027e4a55c68edac-all.js\"},{\"name\":null,\"type\":\"css\",\"url\":\"\\/assetserver\\/b0b44adaed1197b8510174b41f32f09d98a0c28e-style.css\"},{\"name\":null,\"type\":\"css\",\"url\":\"\\/assetserver\\/bbb2e3064bd5f6dfcf2f18fbeb52d9320f251632-bulma_confined.min.css\"}],\"type\":\"async_block\"},\"id\":\"15429352038385944038\",\"handlers\":{\"changes\":[\"(function (val){return (val!=this.model[\\\"changes\\\"]()) ? (this.valueFromJulia[\\\"changes\\\"]=true, this.model[\\\"changes\\\"](val)) : undefined})\"],\"index\":[\"(function (val){return (val!=this.model[\\\"index\\\"]()) ? (this.valueFromJulia[\\\"index\\\"]=true, this.model[\\\"index\\\"](val)) : undefined})\"]},\"systemjs_options\":null,\"mount_callbacks\":[\"function () {\\n    var handler = (function (ko, koPunches) {\\n    ko.punches.enableAll();\\n    ko.bindingHandlers.numericValue = {\\n        init: function(element, valueAccessor, allBindings, data, context) {\\n            var stringified = ko.observable(ko.unwrap(valueAccessor()));\\n            stringified.subscribe(function(value) {\\n                var val = parseFloat(value);\\n                if (!isNaN(val)) {\\n                    valueAccessor()(val);\\n                }\\n            });\\n            valueAccessor().subscribe(function(value) {\\n                var str = JSON.stringify(value);\\n                if ((str == \\\"0\\\") && ([\\\"-0\\\", \\\"-0.\\\"].indexOf(stringified()) >= 0))\\n                     return;\\n                 if ([\\\"null\\\", \\\"\\\"].indexOf(str) >= 0)\\n                     return;\\n                stringified(str);\\n            });\\n            ko.applyBindingsToNode(\\n                element,\\n                {\\n                    value: stringified,\\n                    valueUpdate: allBindings.get('valueUpdate'),\\n                },\\n                context,\\n            );\\n        }\\n    };\\n    var json_data = {\\\"formatted_vals\\\":[\\\"100\\\",\\\"150\\\",\\\"200\\\",\\\"250\\\",\\\"300\\\",\\\"350\\\",\\\"400\\\",\\\"450\\\",\\\"500\\\",\\\"550\\\",\\\"600\\\",\\\"650\\\",\\\"700\\\",\\\"750\\\",\\\"800\\\",\\\"850\\\",\\\"900\\\",\\\"950\\\",\\\"1000\\\"],\\\"changes\\\":WebIO.getval({\\\"name\\\":\\\"changes\\\",\\\"scope\\\":\\\"15429352038385944038\\\",\\\"id\\\":\\\"ob_03\\\",\\\"type\\\":\\\"observable\\\"}),\\\"index\\\":WebIO.getval({\\\"name\\\":\\\"index\\\",\\\"scope\\\":\\\"15429352038385944038\\\",\\\"id\\\":\\\"ob_02\\\",\\\"type\\\":\\\"observable\\\"})};\\n    var self = this;\\n    function AppViewModel() {\\n        for (var key in json_data) {\\n            var el = json_data[key];\\n            this[key] = Array.isArray(el) ? ko.observableArray(el) : ko.observable(el);\\n        }\\n        \\n        [this[\\\"formatted_val\\\"]=ko.computed(    function(){\\n        return this.formatted_vals()[parseInt(this.index())-(1)];\\n    }\\n,this)]\\n        [this[\\\"changes\\\"].subscribe((function (val){!(this.valueFromJulia[\\\"changes\\\"]) ? (WebIO.setval({\\\"name\\\":\\\"changes\\\",\\\"scope\\\":\\\"15429352038385944038\\\",\\\"id\\\":\\\"ob_03\\\",\\\"type\\\":\\\"observable\\\"},val)) : undefined; return this.valueFromJulia[\\\"changes\\\"]=false}),self),this[\\\"index\\\"].subscribe((function (val){!(this.valueFromJulia[\\\"index\\\"]) ? (WebIO.setval({\\\"name\\\":\\\"index\\\",\\\"scope\\\":\\\"15429352038385944038\\\",\\\"id\\\":\\\"ob_02\\\",\\\"type\\\":\\\"observable\\\"},val)) : undefined; return this.valueFromJulia[\\\"index\\\"]=false}),self)]\\n        \\n    }\\n    self.model = new AppViewModel();\\n    self.valueFromJulia = {};\\n    for (var key in json_data) {\\n        self.valueFromJulia[key] = false;\\n    }\\n    ko.applyBindings(self.model, self.dom);\\n}\\n);\\n    (WebIO.importBlock({\\\"data\\\":[{\\\"name\\\":\\\"knockout\\\",\\\"type\\\":\\\"js\\\",\\\"url\\\":\\\"\\/assetserver\\/254160226b58162a42111ea27214076747de1cf2-knockout.js\\\"},{\\\"name\\\":\\\"knockout_punches\\\",\\\"type\\\":\\\"js\\\",\\\"url\\\":\\\"\\/assetserver\\/2d0bf510fb683322318163f3ec7562806e4b1104-knockout_punches.js\\\"}],\\\"type\\\":\\\"async_block\\\"})).then((imports) => handler.apply(this, imports));\\n}\\n\"],\"observables\":{\"changes\":{\"sync\":false,\"id\":\"ob_03\",\"value\":0},\"index\":{\"sync\":true,\"id\":\"ob_02\",\"value\":10}}},\"children\":[{\"props\":{\"className\":\"interact-flex-row interact-widget\"},\"nodeType\":\"DOM\",\"type\":\"node\",\"instanceArgs\":{\"namespace\":\"html\",\"tag\":\"div\"},\"children\":[{\"props\":{\"className\":\"interact-flex-row-left\"},\"nodeType\":\"DOM\",\"type\":\"node\",\"instanceArgs\":{\"namespace\":\"html\",\"tag\":\"div\"},\"children\":[{\"props\":{\"className\":\"interact \",\"style\":{\"padding\":\"5px 10px 0px 10px\"}},\"nodeType\":\"DOM\",\"type\":\"node\",\"instanceArgs\":{\"namespace\":\"html\",\"tag\":\"label\"},\"children\":[\"max_N\"]}]},{\"props\":{\"className\":\"interact-flex-row-center\"},\"nodeType\":\"DOM\",\"type\":\"node\",\"instanceArgs\":{\"namespace\":\"html\",\"tag\":\"div\"},\"children\":[{\"props\":{\"max\":19,\"min\":1,\"attributes\":{\"type\":\"range\",\"data-bind\":\"numericValue: index, valueUpdate: 'input', event: {change: function (){this.changes(this.changes()+1)}}\",\"orient\":\"horizontal\"},\"step\":1,\"className\":\"slider slider is-fullwidth\",\"style\":{}},\"nodeType\":\"DOM\",\"type\":\"node\",\"instanceArgs\":{\"namespace\":\"html\",\"tag\":\"input\"},\"children\":[]}]},{\"props\":{\"className\":\"interact-flex-row-right\"},\"nodeType\":\"DOM\",\"type\":\"node\",\"instanceArgs\":{\"namespace\":\"html\",\"tag\":\"div\"},\"children\":[{\"props\":{\"attributes\":{\"data-bind\":\"text: formatted_val\"}},\"nodeType\":\"DOM\",\"type\":\"node\",\"instanceArgs\":{\"namespace\":\"html\",\"tag\":\"p\"},\"children\":[]}]}]}]}]},{\"props\":{\"className\":\"interact-widget\"},\"nodeType\":\"DOM\",\"type\":\"node\",\"instanceArgs\":{\"namespace\":\"html\",\"tag\":\"div\"},\"children\":[{\"props\":{},\"nodeType\":\"Scope\",\"type\":\"node\",\"instanceArgs\":{\"imports\":{\"data\":[{\"name\":\"knockout\",\"type\":\"js\",\"url\":\"\\/assetserver\\/254160226b58162a42111ea27214076747de1cf2-knockout.js\"},{\"name\":\"knockout_punches\",\"type\":\"js\",\"url\":\"\\/assetserver\\/2d0bf510fb683322318163f3ec7562806e4b1104-knockout_punches.js\"},{\"name\":null,\"type\":\"js\",\"url\":\"\\/assetserver\\/6ffcdda43c684da84d2ca5dd2027e4a55c68edac-all.js\"},{\"name\":null,\"type\":\"css\",\"url\":\"\\/assetserver\\/b0b44adaed1197b8510174b41f32f09d98a0c28e-style.css\"},{\"name\":null,\"type\":\"css\",\"url\":\"\\/assetserver\\/bbb2e3064bd5f6dfcf2f18fbeb52d9320f251632-bulma_confined.min.css\"}],\"type\":\"async_block\"},\"id\":\"3640515817087814047\",\"handlers\":{\"options_js\":[\"(function (val){return (val!=this.model[\\\"options_js\\\"]()) ? (this.valueFromJulia[\\\"options_js\\\"]=true, this.model[\\\"options_js\\\"](val)) : undefined})\"],\"index\":[\"(function (val){return (val!=this.model[\\\"index\\\"]()) ? (this.valueFromJulia[\\\"index\\\"]=true, this.model[\\\"index\\\"](val)) : undefined})\"]},\"systemjs_options\":null,\"mount_callbacks\":[\"function () {\\n    var handler = (function (ko, koPunches) {\\n    ko.punches.enableAll();\\n    ko.bindingHandlers.numericValue = {\\n        init: function(element, valueAccessor, allBindings, data, context) {\\n            var stringified = ko.observable(ko.unwrap(valueAccessor()));\\n            stringified.subscribe(function(value) {\\n                var val = parseFloat(value);\\n                if (!isNaN(val)) {\\n                    valueAccessor()(val);\\n                }\\n            });\\n            valueAccessor().subscribe(function(value) {\\n                var str = JSON.stringify(value);\\n                if ((str == \\\"0\\\") && ([\\\"-0\\\", \\\"-0.\\\"].indexOf(stringified()) >= 0))\\n                     return;\\n                 if ([\\\"null\\\", \\\"\\\"].indexOf(str) >= 0)\\n                     return;\\n                stringified(str);\\n            });\\n            ko.applyBindingsToNode(\\n                element,\\n                {\\n                    value: stringified,\\n                    valueUpdate: allBindings.get('valueUpdate'),\\n                },\\n                context,\\n            );\\n        }\\n    };\\n    var json_data = {\\\"options_js\\\":WebIO.getval({\\\"name\\\":\\\"options_js\\\",\\\"scope\\\":\\\"3640515817087814047\\\",\\\"id\\\":\\\"ob_08\\\",\\\"type\\\":\\\"observable\\\"}),\\\"index\\\":WebIO.getval({\\\"name\\\":\\\"index\\\",\\\"scope\\\":\\\"3640515817087814047\\\",\\\"id\\\":\\\"ob_07\\\",\\\"type\\\":\\\"observable\\\"})};\\n    var self = this;\\n    function AppViewModel() {\\n        for (var key in json_data) {\\n            var el = json_data[key];\\n            this[key] = Array.isArray(el) ? ko.observableArray(el) : ko.observable(el);\\n        }\\n        [this[\\\"update\\\"]=function (val) {this.index(val)}]\\n        \\n        [this[\\\"options_js\\\"].subscribe((function (val){!(this.valueFromJulia[\\\"options_js\\\"]) ? (WebIO.setval({\\\"name\\\":\\\"options_js\\\",\\\"scope\\\":\\\"3640515817087814047\\\",\\\"id\\\":\\\"ob_08\\\",\\\"type\\\":\\\"observable\\\"},val)) : undefined; return this.valueFromJulia[\\\"options_js\\\"]=false}),self),this[\\\"index\\\"].subscribe((function (val){!(this.valueFromJulia[\\\"index\\\"]) ? (WebIO.setval({\\\"name\\\":\\\"index\\\",\\\"scope\\\":\\\"3640515817087814047\\\",\\\"id\\\":\\\"ob_07\\\",\\\"type\\\":\\\"observable\\\"},val)) : undefined; return this.valueFromJulia[\\\"index\\\"]=false}),self)]\\n        \\n    }\\n    self.model = new AppViewModel();\\n    self.valueFromJulia = {};\\n    for (var key in json_data) {\\n        self.valueFromJulia[key] = false;\\n    }\\n    ko.applyBindings(self.model, self.dom);\\n}\\n);\\n    (WebIO.importBlock({\\\"data\\\":[{\\\"name\\\":\\\"knockout\\\",\\\"type\\\":\\\"js\\\",\\\"url\\\":\\\"\\/assetserver\\/254160226b58162a42111ea27214076747de1cf2-knockout.js\\\"},{\\\"name\\\":\\\"knockout_punches\\\",\\\"type\\\":\\\"js\\\",\\\"url\\\":\\\"\\/assetserver\\/2d0bf510fb683322318163f3ec7562806e4b1104-knockout_punches.js\\\"}],\\\"type\\\":\\\"async_block\\\"})).then((imports) => handler.apply(this, imports));\\n}\\n\"],\"observables\":{\"options_js\":{\"sync\":false,\"id\":\"ob_08\",\"value\":[{\"key\":\"Geometric(q)\",\"val\":1,\"id\":\"id7GWEWrSk\"},{\"key\":\"Exponential(λ)\",\"val\":2,\"id\":\"idTm8tHOEl\"}]},\"index\":{\"sync\":true,\"id\":\"ob_07\",\"value\":1}}},\"children\":[{\"props\":{\"className\":\"interact-flex-row interact-widget\"},\"nodeType\":\"DOM\",\"type\":\"node\",\"instanceArgs\":{\"namespace\":\"html\",\"tag\":\"div\"},\"children\":[{\"props\":{\"className\":\"interact-flex-row-left\"},\"nodeType\":\"DOM\",\"type\":\"node\",\"instanceArgs\":{\"namespace\":\"html\",\"tag\":\"div\"},\"children\":[{\"props\":{\"className\":\"interact \",\"style\":{\"padding\":\"5px 10px 0px 10px\"}},\"nodeType\":\"DOM\",\"type\":\"node\",\"instanceArgs\":{\"namespace\":\"html\",\"tag\":\"label\"},\"children\":[\"law_name\"]}]},{\"props\":{\"className\":\"interact-flex-row-center\"},\"nodeType\":\"DOM\",\"type\":\"node\",\"instanceArgs\":{\"namespace\":\"html\",\"tag\":\"div\"},\"children\":[{\"props\":{\"attributes\":{\"data-bind\":\"foreach : options_js\"},\"className\":\"buttons has-addons is-centered\"},\"nodeType\":\"DOM\",\"type\":\"node\",\"instanceArgs\":{\"namespace\":\"html\",\"tag\":\"div\"},\"children\":[{\"props\":{\"attributes\":{\"data-bind\":\"click: function (){$root.update(val)}, css: {'is-primary is-selected' : $root.index() == val, 'interact-widget is-medium button ' : true}\"}},\"nodeType\":\"DOM\",\"type\":\"node\",\"instanceArgs\":{\"namespace\":\"html\",\"tag\":\"span\"},\"children\":[{\"props\":{\"attributes\":{\"data-bind\":\"text : key\"}},\"nodeType\":\"DOM\",\"type\":\"node\",\"instanceArgs\":{\"namespace\":\"html\",\"tag\":\"label\"},\"children\":[]}]}]}]},{\"props\":{\"className\":\"interact-flex-row-right\"},\"nodeType\":\"DOM\",\"type\":\"node\",\"instanceArgs\":{\"namespace\":\"html\",\"tag\":\"div\"},\"children\":[{\"props\":{},\"nodeType\":\"DOM\",\"type\":\"node\",\"instanceArgs\":{\"namespace\":\"html\",\"tag\":\"div\"},\"children\":[]}]}]}]}]},{\"props\":{\"className\":\"field interact-widget\"},\"nodeType\":\"DOM\",\"type\":\"node\",\"instanceArgs\":{\"namespace\":\"html\",\"tag\":\"div\"},\"children\":[{\"props\":{},\"nodeType\":\"Scope\",\"type\":\"node\",\"instanceArgs\":{\"imports\":{\"data\":[{\"name\":\"knockout\",\"type\":\"js\",\"url\":\"\\/assetserver\\/254160226b58162a42111ea27214076747de1cf2-knockout.js\"},{\"name\":\"knockout_punches\",\"type\":\"js\",\"url\":\"\\/assetserver\\/2d0bf510fb683322318163f3ec7562806e4b1104-knockout_punches.js\"},{\"name\":null,\"type\":\"js\",\"url\":\"\\/assetserver\\/6ffcdda43c684da84d2ca5dd2027e4a55c68edac-all.js\"},{\"name\":null,\"type\":\"css\",\"url\":\"\\/assetserver\\/b0b44adaed1197b8510174b41f32f09d98a0c28e-style.css\"},{\"name\":null,\"type\":\"css\",\"url\":\"\\/assetserver\\/bbb2e3064bd5f6dfcf2f18fbeb52d9320f251632-bulma_confined.min.css\"}],\"type\":\"async_block\"},\"id\":\"7953307948917451718\",\"handlers\":{\"changes\":[\"(function (val){return (val!=this.model[\\\"changes\\\"]()) ? (this.valueFromJulia[\\\"changes\\\"]=true, this.model[\\\"changes\\\"](val)) : undefined})\"],\"index\":[\"(function (val){return (val!=this.model[\\\"index\\\"]()) ? (this.valueFromJulia[\\\"index\\\"]=true, this.model[\\\"index\\\"](val)) : undefined})\"]},\"systemjs_options\":null,\"mount_callbacks\":[\"function () {\\n    var handler = (function (ko, koPunches) {\\n    ko.punches.enableAll();\\n    ko.bindingHandlers.numericValue = {\\n        init: function(element, valueAccessor, allBindings, data, context) {\\n            var stringified = ko.observable(ko.unwrap(valueAccessor()));\\n            stringified.subscribe(function(value) {\\n                var val = parseFloat(value);\\n                if (!isNaN(val)) {\\n                    valueAccessor()(val);\\n                }\\n            });\\n            valueAccessor().subscribe(function(value) {\\n                var str = JSON.stringify(value);\\n                if ((str == \\\"0\\\") && ([\\\"-0\\\", \\\"-0.\\\"].indexOf(stringified()) >= 0))\\n                     return;\\n                 if ([\\\"null\\\", \\\"\\\"].indexOf(str) >= 0)\\n                     return;\\n                stringified(str);\\n            });\\n            ko.applyBindingsToNode(\\n                element,\\n                {\\n                    value: stringified,\\n                    valueUpdate: allBindings.get('valueUpdate'),\\n                },\\n                context,\\n            );\\n        }\\n    };\\n    var json_data = {\\\"formatted_vals\\\":[\\\"0.05\\\",\\\"0.1\\\",\\\"0.15\\\",\\\"0.2\\\",\\\"0.25\\\",\\\"0.3\\\",\\\"0.35\\\",\\\"0.4\\\",\\\"0.45\\\",\\\"0.5\\\",\\\"0.55\\\",\\\"0.6\\\",\\\"0.65\\\",\\\"0.7\\\",\\\"0.75\\\",\\\"0.8\\\",\\\"0.85\\\",\\\"0.9\\\",\\\"0.95\\\"],\\\"changes\\\":WebIO.getval({\\\"name\\\":\\\"changes\\\",\\\"scope\\\":\\\"7953307948917451718\\\",\\\"id\\\":\\\"ob_11\\\",\\\"type\\\":\\\"observable\\\"}),\\\"index\\\":WebIO.getval({\\\"name\\\":\\\"index\\\",\\\"scope\\\":\\\"7953307948917451718\\\",\\\"id\\\":\\\"ob_10\\\",\\\"type\\\":\\\"observable\\\"})};\\n    var self = this;\\n    function AppViewModel() {\\n        for (var key in json_data) {\\n            var el = json_data[key];\\n            this[key] = Array.isArray(el) ? ko.observableArray(el) : ko.observable(el);\\n        }\\n        \\n        [this[\\\"formatted_val\\\"]=ko.computed(    function(){\\n        return this.formatted_vals()[parseInt(this.index())-(1)];\\n    }\\n,this)]\\n        [this[\\\"changes\\\"].subscribe((function (val){!(this.valueFromJulia[\\\"changes\\\"]) ? (WebIO.setval({\\\"name\\\":\\\"changes\\\",\\\"scope\\\":\\\"7953307948917451718\\\",\\\"id\\\":\\\"ob_11\\\",\\\"type\\\":\\\"observable\\\"},val)) : undefined; return this.valueFromJulia[\\\"changes\\\"]=false}),self),this[\\\"index\\\"].subscribe((function (val){!(this.valueFromJulia[\\\"index\\\"]) ? (WebIO.setval({\\\"name\\\":\\\"index\\\",\\\"scope\\\":\\\"7953307948917451718\\\",\\\"id\\\":\\\"ob_10\\\",\\\"type\\\":\\\"observable\\\"},val)) : undefined; return this.valueFromJulia[\\\"index\\\"]=false}),self)]\\n        \\n    }\\n    self.model = new AppViewModel();\\n    self.valueFromJulia = {};\\n    for (var key in json_data) {\\n        self.valueFromJulia[key] = false;\\n    }\\n    ko.applyBindings(self.model, self.dom);\\n}\\n);\\n    (WebIO.importBlock({\\\"data\\\":[{\\\"name\\\":\\\"knockout\\\",\\\"type\\\":\\\"js\\\",\\\"url\\\":\\\"\\/assetserver\\/254160226b58162a42111ea27214076747de1cf2-knockout.js\\\"},{\\\"name\\\":\\\"knockout_punches\\\",\\\"type\\\":\\\"js\\\",\\\"url\\\":\\\"\\/assetserver\\/2d0bf510fb683322318163f3ec7562806e4b1104-knockout_punches.js\\\"}],\\\"type\\\":\\\"async_block\\\"})).then((imports) => handler.apply(this, imports));\\n}\\n\"],\"observables\":{\"changes\":{\"sync\":false,\"id\":\"ob_11\",\"value\":0},\"index\":{\"sync\":true,\"id\":\"ob_10\",\"value\":10}}},\"children\":[{\"props\":{\"className\":\"interact-flex-row interact-widget\"},\"nodeType\":\"DOM\",\"type\":\"node\",\"instanceArgs\":{\"namespace\":\"html\",\"tag\":\"div\"},\"children\":[{\"props\":{\"className\":\"interact-flex-row-left\"},\"nodeType\":\"DOM\",\"type\":\"node\",\"instanceArgs\":{\"namespace\":\"html\",\"tag\":\"div\"},\"children\":[{\"props\":{\"className\":\"interact \",\"style\":{\"padding\":\"5px 10px 0px 10px\"}},\"nodeType\":\"DOM\",\"type\":\"node\",\"instanceArgs\":{\"namespace\":\"html\",\"tag\":\"label\"},\"children\":[\"q\"]}]},{\"props\":{\"className\":\"interact-flex-row-center\"},\"nodeType\":\"DOM\",\"type\":\"node\",\"instanceArgs\":{\"namespace\":\"html\",\"tag\":\"div\"},\"children\":[{\"props\":{\"max\":19,\"min\":1,\"attributes\":{\"type\":\"range\",\"data-bind\":\"numericValue: index, valueUpdate: 'input', event: {change: function (){this.changes(this.changes()+1)}}\",\"orient\":\"horizontal\"},\"step\":1,\"className\":\"slider slider is-fullwidth\",\"style\":{}},\"nodeType\":\"DOM\",\"type\":\"node\",\"instanceArgs\":{\"namespace\":\"html\",\"tag\":\"input\"},\"children\":[]}]},{\"props\":{\"className\":\"interact-flex-row-right\"},\"nodeType\":\"DOM\",\"type\":\"node\",\"instanceArgs\":{\"namespace\":\"html\",\"tag\":\"div\"},\"children\":[{\"props\":{\"attributes\":{\"data-bind\":\"text: formatted_val\"}},\"nodeType\":\"DOM\",\"type\":\"node\",\"instanceArgs\":{\"namespace\":\"html\",\"tag\":\"p\"},\"children\":[]}]}]}]}]},{\"props\":{\"className\":\"field interact-widget\"},\"nodeType\":\"DOM\",\"type\":\"node\",\"instanceArgs\":{\"namespace\":\"html\",\"tag\":\"div\"},\"children\":[{\"props\":{},\"nodeType\":\"Scope\",\"type\":\"node\",\"instanceArgs\":{\"imports\":{\"data\":[{\"name\":\"knockout\",\"type\":\"js\",\"url\":\"\\/assetserver\\/254160226b58162a42111ea27214076747de1cf2-knockout.js\"},{\"name\":\"knockout_punches\",\"type\":\"js\",\"url\":\"\\/assetserver\\/2d0bf510fb683322318163f3ec7562806e4b1104-knockout_punches.js\"},{\"name\":null,\"type\":\"js\",\"url\":\"\\/assetserver\\/6ffcdda43c684da84d2ca5dd2027e4a55c68edac-all.js\"},{\"name\":null,\"type\":\"css\",\"url\":\"\\/assetserver\\/b0b44adaed1197b8510174b41f32f09d98a0c28e-style.css\"},{\"name\":null,\"type\":\"css\",\"url\":\"\\/assetserver\\/bbb2e3064bd5f6dfcf2f18fbeb52d9320f251632-bulma_confined.min.css\"}],\"type\":\"async_block\"},\"id\":\"13435157253992265076\",\"handlers\":{\"changes\":[\"(function (val){return (val!=this.model[\\\"changes\\\"]()) ? (this.valueFromJulia[\\\"changes\\\"]=true, this.model[\\\"changes\\\"](val)) : undefined})\"],\"index\":[\"(function (val){return (val!=this.model[\\\"index\\\"]()) ? (this.valueFromJulia[\\\"index\\\"]=true, this.model[\\\"index\\\"](val)) : undefined})\"]},\"systemjs_options\":null,\"mount_callbacks\":[\"function () {\\n    var handler = (function (ko, koPunches) {\\n    ko.punches.enableAll();\\n    ko.bindingHandlers.numericValue = {\\n        init: function(element, valueAccessor, allBindings, data, context) {\\n            var stringified = ko.observable(ko.unwrap(valueAccessor()));\\n            stringified.subscribe(function(value) {\\n                var val = parseFloat(value);\\n                if (!isNaN(val)) {\\n                    valueAccessor()(val);\\n                }\\n            });\\n            valueAccessor().subscribe(function(value) {\\n                var str = JSON.stringify(value);\\n                if ((str == \\\"0\\\") && ([\\\"-0\\\", \\\"-0.\\\"].indexOf(stringified()) >= 0))\\n                     return;\\n                 if ([\\\"null\\\", \\\"\\\"].indexOf(str) >= 0)\\n                     return;\\n                stringified(str);\\n            });\\n            ko.applyBindingsToNode(\\n                element,\\n                {\\n                    value: stringified,\\n                    valueUpdate: allBindings.get('valueUpdate'),\\n                },\\n                context,\\n            );\\n        }\\n    };\\n    var json_data = {\\\"formatted_vals\\\":[\\\"1\\\",\\\"2\\\",\\\"3\\\",\\\"4\\\",\\\"5\\\",\\\"6\\\",\\\"7\\\",\\\"8\\\",\\\"9\\\",\\\"10\\\"],\\\"changes\\\":WebIO.getval({\\\"name\\\":\\\"changes\\\",\\\"scope\\\":\\\"13435157253992265076\\\",\\\"id\\\":\\\"ob_14\\\",\\\"type\\\":\\\"observable\\\"}),\\\"index\\\":WebIO.getval({\\\"name\\\":\\\"index\\\",\\\"scope\\\":\\\"13435157253992265076\\\",\\\"id\\\":\\\"ob_13\\\",\\\"type\\\":\\\"observable\\\"})};\\n    var self = this;\\n    function AppViewModel() {\\n        for (var key in json_data) {\\n            var el = json_data[key];\\n            this[key] = Array.isArray(el) ? ko.observableArray(el) : ko.observable(el);\\n        }\\n        \\n        [this[\\\"formatted_val\\\"]=ko.computed(    function(){\\n        return this.formatted_vals()[parseInt(this.index())-(1)];\\n    }\\n,this)]\\n        [this[\\\"changes\\\"].subscribe((function (val){!(this.valueFromJulia[\\\"changes\\\"]) ? (WebIO.setval({\\\"name\\\":\\\"changes\\\",\\\"scope\\\":\\\"13435157253992265076\\\",\\\"id\\\":\\\"ob_14\\\",\\\"type\\\":\\\"observable\\\"},val)) : undefined; return this.valueFromJulia[\\\"changes\\\"]=false}),self),this[\\\"index\\\"].subscribe((function (val){!(this.valueFromJulia[\\\"index\\\"]) ? (WebIO.setval({\\\"name\\\":\\\"index\\\",\\\"scope\\\":\\\"13435157253992265076\\\",\\\"id\\\":\\\"ob_13\\\",\\\"type\\\":\\\"observable\\\"},val)) : undefined; return this.valueFromJulia[\\\"index\\\"]=false}),self)]\\n        \\n    }\\n    self.model = new AppViewModel();\\n    self.valueFromJulia = {};\\n    for (var key in json_data) {\\n        self.valueFromJulia[key] = false;\\n    }\\n    ko.applyBindings(self.model, self.dom);\\n}\\n);\\n    (WebIO.importBlock({\\\"data\\\":[{\\\"name\\\":\\\"knockout\\\",\\\"type\\\":\\\"js\\\",\\\"url\\\":\\\"\\/assetserver\\/254160226b58162a42111ea27214076747de1cf2-knockout.js\\\"},{\\\"name\\\":\\\"knockout_punches\\\",\\\"type\\\":\\\"js\\\",\\\"url\\\":\\\"\\/assetserver\\/2d0bf510fb683322318163f3ec7562806e4b1104-knockout_punches.js\\\"}],\\\"type\\\":\\\"async_block\\\"})).then((imports) => handler.apply(this, imports));\\n}\\n\"],\"observables\":{\"changes\":{\"sync\":false,\"id\":\"ob_14\",\"value\":0},\"index\":{\"sync\":true,\"id\":\"ob_13\",\"value\":5}}},\"children\":[{\"props\":{\"className\":\"interact-flex-row interact-widget\"},\"nodeType\":\"DOM\",\"type\":\"node\",\"instanceArgs\":{\"namespace\":\"html\",\"tag\":\"div\"},\"children\":[{\"props\":{\"className\":\"interact-flex-row-left\"},\"nodeType\":\"DOM\",\"type\":\"node\",\"instanceArgs\":{\"namespace\":\"html\",\"tag\":\"div\"},\"children\":[{\"props\":{\"className\":\"interact \",\"style\":{\"padding\":\"5px 10px 0px 10px\"}},\"nodeType\":\"DOM\",\"type\":\"node\",\"instanceArgs\":{\"namespace\":\"html\",\"tag\":\"label\"},\"children\":[\"λ\"]}]},{\"props\":{\"className\":\"interact-flex-row-center\"},\"nodeType\":\"DOM\",\"type\":\"node\",\"instanceArgs\":{\"namespace\":\"html\",\"tag\":\"div\"},\"children\":[{\"props\":{\"max\":10,\"min\":1,\"attributes\":{\"type\":\"range\",\"data-bind\":\"numericValue: index, valueUpdate: 'input', event: {change: function (){this.changes(this.changes()+1)}}\",\"orient\":\"horizontal\"},\"step\":1,\"className\":\"slider slider is-fullwidth\",\"style\":{}},\"nodeType\":\"DOM\",\"type\":\"node\",\"instanceArgs\":{\"namespace\":\"html\",\"tag\":\"input\"},\"children\":[]}]},{\"props\":{\"className\":\"interact-flex-row-right\"},\"nodeType\":\"DOM\",\"type\":\"node\",\"instanceArgs\":{\"namespace\":\"html\",\"tag\":\"div\"},\"children\":[{\"props\":{\"attributes\":{\"data-bind\":\"text: formatted_val\"}},\"nodeType\":\"DOM\",\"type\":\"node\",\"instanceArgs\":{\"namespace\":\"html\",\"tag\":\"p\"},\"children\":[]}]}]}]}]},{\"props\":{},\"nodeType\":\"Scope\",\"type\":\"node\",\"instanceArgs\":{\"imports\":{\"data\":[],\"type\":\"async_block\"},\"id\":\"13911192544116902383\",\"handlers\":{},\"systemjs_options\":null,\"mount_callbacks\":[],\"observables\":{\"obs-node\":{\"sync\":false,\"id\":\"ob_18\",\"value\":{\"props\":{\"className\":\"interact-flex-row interact-widget\"},\"nodeType\":\"DOM\",\"type\":\"node\",\"instanceArgs\":{\"namespace\":\"html\",\"tag\":\"div\"},\"children\":[{\"props\":{\"setInnerHtml\":\"<?xml version=\\\"1.0\\\" encoding=\\\"utf-8\\\"?>\\n<svg xmlns=\\\"http:\\/\\/www.w3.org\\/2000\\/svg\\\" xmlns:xlink=\\\"http:\\/\\/www.w3.org\\/1999\\/xlink\\\" width=\\\"600\\\" height=\\\"400\\\" viewBox=\\\"0 0 2400 1600\\\">\\n<defs>\\n  <clipPath id=\\\"clip6400\\\">\\n    <rect x=\\\"0\\\" y=\\\"0\\\" width=\\\"2400\\\" height=\\\"1600\\\"\\/>\\n  <\\/clipPath>\\n<\\/defs>\\n<path clip-path=\\\"url(#clip6400)\\\" d=\\\"\\nM0 1600 L2400 1600 L2400 0 L0 0  Z\\n  \\\" fill=\\\"#ffffff\\\" fill-rule=\\\"evenodd\\\" fill-opacity=\\\"1\\\"\\/>\\n<defs>\\n  <clipPath id=\\\"clip6401\\\">\\n    <rect x=\\\"480\\\" y=\\\"0\\\" width=\\\"1681\\\" height=\\\"1600\\\"\\/>\\n  <\\/clipPath>\\n<\\/defs>\\n<path clip-path=\\\"url(#clip6400)\\\" d=\\\"\\nM140.517 1425.62 L2352.76 1425.62 L2352.76 47.2441 L140.517 47.2441  Z\\n  \\\" fill=\\\"#ffffff\\\" fill-rule=\\\"evenodd\\\" fill-opacity=\\\"1\\\"\\/>\\n<defs>\\n  <clipPath id=\\\"clip6402\\\">\\n    <rect x=\\\"140\\\" y=\\\"47\\\" width=\\\"2213\\\" height=\\\"1379\\\"\\/>\\n  <\\/clipPath>\\n<\\/defs>\\n<polyline clip-path=\\\"url(#clip6402)\\\" style=\\\"stroke:#000000; stroke-width:2; stroke-opacity:0.1; fill:none\\\" points=\\\"\\n  199.326,1425.62 199.326,47.2441 \\n  \\\"\\/>\\n<polyline clip-path=\\\"url(#clip6402)\\\" style=\\\"stroke:#000000; stroke-width:2; stroke-opacity:0.1; fill:none\\\" points=\\\"\\n  579.475,1425.62 579.475,47.2441 \\n  \\\"\\/>\\n<polyline clip-path=\\\"url(#clip6402)\\\" style=\\\"stroke:#000000; stroke-width:2; stroke-opacity:0.1; fill:none\\\" points=\\\"\\n  959.624,1425.62 959.624,47.2441 \\n  \\\"\\/>\\n<polyline clip-path=\\\"url(#clip6402)\\\" style=\\\"stroke:#000000; stroke-width:2; stroke-opacity:0.1; fill:none\\\" points=\\\"\\n  1339.77,1425.62 1339.77,47.2441 \\n  \\\"\\/>\\n<polyline clip-path=\\\"url(#clip6402)\\\" style=\\\"stroke:#000000; stroke-width:2; stroke-opacity:0.1; fill:none\\\" points=\\\"\\n  1719.92,1425.62 1719.92,47.2441 \\n  \\\"\\/>\\n<polyline clip-path=\\\"url(#clip6402)\\\" style=\\\"stroke:#000000; stroke-width:2; stroke-opacity:0.1; fill:none\\\" points=\\\"\\n  2100.07,1425.62 2100.07,47.2441 \\n  \\\"\\/>\\n<polyline clip-path=\\\"url(#clip6402)\\\" style=\\\"stroke:#000000; stroke-width:2; stroke-opacity:0.1; fill:none\\\" points=\\\"\\n  140.517,1386.61 2352.76,1386.61 \\n  \\\"\\/>\\n<polyline clip-path=\\\"url(#clip6402)\\\" style=\\\"stroke:#000000; stroke-width:2; stroke-opacity:0.1; fill:none\\\" points=\\\"\\n  140.517,1061.52 2352.76,1061.52 \\n  \\\"\\/>\\n<polyline clip-path=\\\"url(#clip6402)\\\" style=\\\"stroke:#000000; stroke-width:2; stroke-opacity:0.1; fill:none\\\" points=\\\"\\n  140.517,736.431 2352.76,736.431 \\n  \\\"\\/>\\n<polyline clip-path=\\\"url(#clip6402)\\\" style=\\\"stroke:#000000; stroke-width:2; stroke-opacity:0.1; fill:none\\\" points=\\\"\\n  140.517,411.343 2352.76,411.343 \\n  \\\"\\/>\\n<polyline clip-path=\\\"url(#clip6402)\\\" style=\\\"stroke:#000000; stroke-width:2; stroke-opacity:0.1; fill:none\\\" points=\\\"\\n  140.517,86.2547 2352.76,86.2547 \\n  \\\"\\/>\\n<polyline clip-path=\\\"url(#clip6400)\\\" style=\\\"stroke:#000000; stroke-width:4; stroke-opacity:1; fill:none\\\" points=\\\"\\n  140.517,1425.62 2352.76,1425.62 \\n  \\\"\\/>\\n<polyline clip-path=\\\"url(#clip6400)\\\" style=\\\"stroke:#000000; stroke-width:4; stroke-opacity:1; fill:none\\\" points=\\\"\\n  140.517,1425.62 140.517,47.2441 \\n  \\\"\\/>\\n<polyline clip-path=\\\"url(#clip6400)\\\" style=\\\"stroke:#000000; stroke-width:4; stroke-opacity:1; fill:none\\\" points=\\\"\\n  199.326,1425.62 199.326,1404.94 \\n  \\\"\\/>\\n<polyline clip-path=\\\"url(#clip6400)\\\" style=\\\"stroke:#000000; stroke-width:4; stroke-opacity:1; fill:none\\\" points=\\\"\\n  579.475,1425.62 579.475,1404.94 \\n  \\\"\\/>\\n<polyline clip-path=\\\"url(#clip6400)\\\" style=\\\"stroke:#000000; stroke-width:4; stroke-opacity:1; fill:none\\\" points=\\\"\\n  959.624,1425.62 959.624,1404.94 \\n  \\\"\\/>\\n<polyline clip-path=\\\"url(#clip6400)\\\" style=\\\"stroke:#000000; stroke-width:4; stroke-opacity:1; fill:none\\\" points=\\\"\\n  1339.77,1425.62 1339.77,1404.94 \\n  \\\"\\/>\\n<polyline clip-path=\\\"url(#clip6400)\\\" style=\\\"stroke:#000000; stroke-width:4; stroke-opacity:1; fill:none\\\" points=\\\"\\n  1719.92,1425.62 1719.92,1404.94 \\n  \\\"\\/>\\n<polyline clip-path=\\\"url(#clip6400)\\\" style=\\\"stroke:#000000; stroke-width:4; stroke-opacity:1; fill:none\\\" points=\\\"\\n  2100.07,1425.62 2100.07,1404.94 \\n  \\\"\\/>\\n<polyline clip-path=\\\"url(#clip6400)\\\" style=\\\"stroke:#000000; stroke-width:4; stroke-opacity:1; fill:none\\\" points=\\\"\\n  140.517,1386.61 173.7,1386.61 \\n  \\\"\\/>\\n<polyline clip-path=\\\"url(#clip6400)\\\" style=\\\"stroke:#000000; stroke-width:4; stroke-opacity:1; fill:none\\\" points=\\\"\\n  140.517,1061.52 173.7,1061.52 \\n  \\\"\\/>\\n<polyline clip-path=\\\"url(#clip6400)\\\" style=\\\"stroke:#000000; stroke-width:4; stroke-opacity:1; fill:none\\\" points=\\\"\\n  140.517,736.431 173.7,736.431 \\n  \\\"\\/>\\n<polyline clip-path=\\\"url(#clip6400)\\\" style=\\\"stroke:#000000; stroke-width:4; stroke-opacity:1; fill:none\\\" points=\\\"\\n  140.517,411.343 173.7,411.343 \\n  \\\"\\/>\\n<polyline clip-path=\\\"url(#clip6400)\\\" style=\\\"stroke:#000000; stroke-width:4; stroke-opacity:1; fill:none\\\" points=\\\"\\n  140.517,86.2547 173.7,86.2547 \\n  \\\"\\/>\\n<g clip-path=\\\"url(#clip6400)\\\">\\n<text style=\\\"fill:#000000; fill-opacity:1; font-family:Arial,Helvetica Neue,Helvetica,sans-serif; font-size:48px; text-anchor:middle;\\\" transform=\\\"rotate(0, 199.326, 1479.62)\\\" x=\\\"199.326\\\" y=\\\"1479.62\\\">0<\\/text>\\n<\\/g>\\n<g clip-path=\\\"url(#clip6400)\\\">\\n<text style=\\\"fill:#000000; fill-opacity:1; font-family:Arial,Helvetica Neue,Helvetica,sans-serif; font-size:48px; text-anchor:middle;\\\" transform=\\\"rotate(0, 579.475, 1479.62)\\\" x=\\\"579.475\\\" y=\\\"1479.62\\\">100<\\/text>\\n<\\/g>\\n<g clip-path=\\\"url(#clip6400)\\\">\\n<text style=\\\"fill:#000000; fill-opacity:1; font-family:Arial,Helvetica Neue,Helvetica,sans-serif; font-size:48px; text-anchor:middle;\\\" transform=\\\"rotate(0, 959.624, 1479.62)\\\" x=\\\"959.624\\\" y=\\\"1479.62\\\">200<\\/text>\\n<\\/g>\\n<g clip-path=\\\"url(#clip6400)\\\">\\n<text style=\\\"fill:#000000; fill-opacity:1; font-family:Arial,Helvetica Neue,Helvetica,sans-serif; font-size:48px; text-anchor:middle;\\\" transform=\\\"rotate(0, 1339.77, 1479.62)\\\" x=\\\"1339.77\\\" y=\\\"1479.62\\\">300<\\/text>\\n<\\/g>\\n<g clip-path=\\\"url(#clip6400)\\\">\\n<text style=\\\"fill:#000000; fill-opacity:1; font-family:Arial,Helvetica Neue,Helvetica,sans-serif; font-size:48px; text-anchor:middle;\\\" transform=\\\"rotate(0, 1719.92, 1479.62)\\\" x=\\\"1719.92\\\" y=\\\"1479.62\\\">400<\\/text>\\n<\\/g>\\n<g clip-path=\\\"url(#clip6400)\\\">\\n<text style=\\\"fill:#000000; fill-opacity:1; font-family:Arial,Helvetica Neue,Helvetica,sans-serif; font-size:48px; text-anchor:middle;\\\" transform=\\\"rotate(0, 2100.07, 1479.62)\\\" x=\\\"2100.07\\\" y=\\\"1479.62\\\">500<\\/text>\\n<\\/g>\\n<g clip-path=\\\"url(#clip6400)\\\">\\n<text style=\\\"fill:#000000; fill-opacity:1; font-family:Arial,Helvetica Neue,Helvetica,sans-serif; font-size:48px; text-anchor:end;\\\" transform=\\\"rotate(0, 116.517, 1404.11)\\\" x=\\\"116.517\\\" y=\\\"1404.11\\\">0<\\/text>\\n<\\/g>\\n<g clip-path=\\\"url(#clip6400)\\\">\\n<text style=\\\"fill:#000000; fill-opacity:1; font-family:Arial,Helvetica Neue,Helvetica,sans-serif; font-size:48px; text-anchor:end;\\\" transform=\\\"rotate(0, 116.517, 1079.02)\\\" x=\\\"116.517\\\" y=\\\"1079.02\\\">5<\\/text>\\n<\\/g>\\n<g clip-path=\\\"url(#clip6400)\\\">\\n<text style=\\\"fill:#000000; fill-opacity:1; font-family:Arial,Helvetica Neue,Helvetica,sans-serif; font-size:48px; text-anchor:end;\\\" transform=\\\"rotate(0, 116.517, 753.931)\\\" x=\\\"116.517\\\" y=\\\"753.931\\\">10<\\/text>\\n<\\/g>\\n<g clip-path=\\\"url(#clip6400)\\\">\\n<text style=\\\"fill:#000000; fill-opacity:1; font-family:Arial,Helvetica Neue,Helvetica,sans-serif; font-size:48px; text-anchor:end;\\\" transform=\\\"rotate(0, 116.517, 428.843)\\\" x=\\\"116.517\\\" y=\\\"428.843\\\">15<\\/text>\\n<\\/g>\\n<g clip-path=\\\"url(#clip6400)\\\">\\n<text style=\\\"fill:#000000; fill-opacity:1; font-family:Arial,Helvetica Neue,Helvetica,sans-serif; font-size:48px; text-anchor:end;\\\" transform=\\\"rotate(0, 116.517, 103.755)\\\" x=\\\"116.517\\\" y=\\\"103.755\\\">20<\\/text>\\n<\\/g>\\n<g clip-path=\\\"url(#clip6400)\\\">\\n<text style=\\\"fill:#000000; fill-opacity:1; font-family:Arial,Helvetica Neue,Helvetica,sans-serif; font-size:66px; text-anchor:middle;\\\" transform=\\\"rotate(0, 1246.64, 1559.48)\\\" x=\\\"1246.64\\\" y=\\\"1559.48\\\">N<\\/text>\\n<\\/g>\\n<polyline clip-path=\\\"url(#clip6402)\\\" style=\\\"stroke:#ff0000; stroke-width:12; stroke-opacity:1; fill:none\\\" points=\\\"\\n  203.127,1386.61 206.929,1246.04 210.73,1054.51 214.532,986.397 218.333,598.078 222.135,641.463 225.936,685.395 229.738,321.224 233.539,410.087 237.341,414.847 \\n  241.142,306.769 244.944,275.353 248.745,318.941 252.547,336.529 256.348,257.487 260.15,304.59 263.951,276.884 267.753,305.186 271.554,293.712 275.356,322.344 \\n  279.157,335.587 282.959,347.004 286.76,313.774 290.562,311.79 294.363,262.644 298.165,265.392 301.966,267.797 305.768,258.245 309.569,254.014 313.371,253.365 \\n  317.172,263.795 320.974,249.122 324.775,276.041 328.577,287.283 332.378,281.646 336.179,278.065 339.981,271.255 343.782,229.681 347.584,242.57 351.385,252.314 \\n  355.187,270.992 358.988,251.064 362.79,247.212 366.591,242.881 370.393,224.56 374.194,225.173 377.996,221.136 381.797,230.565 385.599,235.237 389.4,247.721 \\n  393.202,248.532 397.003,245.289 400.805,227.634 404.606,243.754 408.408,244.34 412.209,240.333 416.011,249.857 419.812,242.096 423.614,254.469 427.415,260.093 \\n  431.217,262.701 435.018,232.101 438.82,221.677 442.621,233.635 446.423,220.943 450.224,230.385 454.026,221.94 457.827,227.034 461.629,228.544 465.43,240.291 \\n  469.232,250.152 473.033,239.614 476.835,246.958 480.636,246.247 484.438,248.732 488.239,258.55 492.041,238.341 495.842,240.888 499.644,238.441 503.445,241.415 \\n  507.247,235.122 511.048,231.849 514.85,239.747 518.651,234.088 522.453,223.009 526.254,223.931 530.055,226.536 533.857,221.258 537.658,229.92 541.46,230.171 \\n  545.261,237.31 549.063,246.894 552.864,229.906 556.666,227.683 560.467,203.508 564.269,195.481 568.07,200.647 571.872,209.935 575.673,211.836 579.475,212.788 \\n  583.276,198.907 587.078,190.662 590.879,195.954 594.681,190.964 598.482,198.636 602.284,203.654 606.085,190.033 609.887,178.397 613.688,178.158 617.49,176.432 \\n  621.291,180.061 625.093,164.54 628.894,171.918 632.696,173.777 636.497,177.725 640.299,160.808 644.1,160.726 647.902,168.187 651.703,163.376 655.505,158.927 \\n  659.306,155.753 663.108,160.161 666.909,166.588 670.711,164.011 674.512,170.559 678.314,168.166 682.115,160.603 685.917,164.119 689.718,157.061 693.52,157.453 \\n  697.321,160.112 701.123,150.452 704.924,143.536 708.726,147.114 712.527,148.989 716.328,149.879 720.13,151.437 723.931,156.197 727.733,158.547 731.534,155.68 \\n  735.336,152.074 739.137,157.256 742.939,164.494 746.74,164.19 750.542,168.66 754.343,172.752 758.145,153.994 761.946,157.449 765.748,153.571 769.549,156.895 \\n  773.351,157.351 777.152,159.98 780.954,164.068 784.755,165.747 788.557,167.985 792.358,171.283 796.16,131.493 799.961,132.83 803.763,136.495 807.564,140.794 \\n  811.366,136.336 815.167,136.357 818.969,138.767 822.77,132.983 826.572,129.321 830.373,133.369 834.175,128.815 837.976,128.894 841.778,131.366 845.579,136.522 \\n  849.381,132.818 853.182,137.332 856.984,138.387 860.785,142.491 864.587,145.133 868.388,140.303 872.19,133.503 875.991,131.937 879.793,133.421 883.594,139.194 \\n  887.396,136.782 891.197,138.366 894.999,139.213 898.8,138.469 902.602,140.047 906.403,140.684 910.204,137.307 914.006,140.34 917.807,142.488 921.609,142.667 \\n  925.41,139.282 929.212,135.021 933.013,134.734 936.815,134.703 940.616,135.724 944.418,137.255 948.219,137.366 952.021,136.359 955.822,137.109 959.624,140.768 \\n  963.425,136.015 967.227,134.095 971.028,135.21 974.83,137.103 978.631,140.137 982.433,131.735 986.234,133.434 990.036,134.89 993.837,138.23 997.639,136.234 \\n  1001.44,140.611 1005.24,142.005 1009.04,146.066 1012.84,147.979 1016.65,148.493 1020.45,148.016 1024.25,141.139 1028.05,141.553 1031.85,142.315 1035.65,139.279 \\n  1039.46,141.818 1043.26,145.089 1047.06,146.032 1050.86,143.06 1054.66,143.294 1058.46,143.409 1062.26,142.845 1066.07,138.346 1069.87,140.479 1073.67,144.658 \\n  1077.47,142.468 1081.27,138.991 1085.07,139.863 1088.87,142.239 1092.68,142.277 1096.48,143.428 1100.28,145.054 1104.08,143.879 1107.88,145.367 1111.68,144.923 \\n  1115.48,146.841 1119.29,149.251 1123.09,150.81 1126.89,145.702 1130.69,146.05 1134.49,145.065 1138.29,148.176 1142.1,148.522 1145.9,137.786 1149.7,140.687 \\n  1153.5,141.636 1157.3,142.706 1161.1,144.278 1164.9,133.024 1168.71,133.526 1172.51,133.058 1176.31,129.609 1180.11,133.173 1183.91,137.396 1187.71,136.041 \\n  1191.51,137.241 1195.32,138.62 1199.12,137.833 1202.92,138.044 1206.72,137.453 1210.52,136.702 1214.32,138.912 1218.13,141.129 1221.93,143.033 1225.73,140.974 \\n  1229.53,141.159 1233.33,140.153 1237.13,133.346 1240.93,122.295 1244.74,121.566 1248.54,122.291 1252.34,121.651 1256.14,122.852 1259.94,124.946 1263.74,125.749 \\n  1267.54,127.143 1271.35,127.705 1275.15,130.99 1278.95,129.466 1282.75,129.824 1286.55,133.35 1290.35,136.857 1294.15,134.413 1297.96,136.976 1301.76,140.563 \\n  1305.56,136.233 1309.36,138.481 1313.16,139.366 1316.96,139.323 1320.77,136.831 1324.57,137.377 1328.37,138.655 1332.17,136.504 1335.97,136.876 1339.77,134.478 \\n  1343.57,134.369 1347.38,131.543 1351.18,134.453 1354.98,137.478 1358.78,125.313 1362.58,125.966 1366.38,127.046 1370.18,123.755 1373.99,125.575 1377.79,123.647 \\n  1381.59,126.611 1385.39,125.437 1389.19,126.057 1392.99,129.078 1396.8,127.754 1400.6,129.443 1404.4,127.941 1408.2,127.571 1412,129.793 1415.8,128.482 \\n  1419.6,130.863 1423.41,132.031 1427.21,130.943 1431.01,133.505 1434.81,131.576 1438.61,131.845 1442.41,128.092 1446.21,128.184 1450.02,128.934 1453.82,131.312 \\n  1457.62,126.33 1461.42,128.134 1465.22,128.868 1469.02,130.778 1472.83,129.655 1476.63,127.494 1480.43,124.641 1484.23,124.85 1488.03,126.836 1491.83,125.511 \\n  1495.63,126.194 1499.44,127.736 1503.24,125.96 1507.04,120.147 1510.84,119.21 1514.64,122.319 1518.44,117.598 1522.24,119.574 1526.05,116.758 1529.85,118.528 \\n  1533.65,118.75 1537.45,117.909 1541.25,118.385 1545.05,117.794 1548.85,115.664 1552.66,113.576 1556.46,116.424 1560.26,118.815 1564.06,119.191 1567.86,121.228 \\n  1571.66,123.757 1575.47,120.28 1579.27,117.845 1583.07,120.707 1586.87,122.659 1590.67,122.91 1594.47,124.456 1598.27,122.893 1602.08,115.441 1605.88,113.384 \\n  1609.68,115.888 1613.48,113.589 1617.28,116.083 1621.08,116.872 1624.88,113.833 1628.69,116.139 1632.49,116.104 1636.29,116.265 1640.09,118.239 1643.89,119.118 \\n  1647.69,120.729 1651.5,120.495 1655.3,121.789 1659.1,121.595 1662.9,122.774 1666.7,123.562 1670.5,124.033 1674.3,123.026 1678.11,124.444 1681.91,125.961 \\n  1685.71,128.699 1689.51,129.425 1693.31,127.137 1697.11,126.68 1700.91,127.383 1704.72,125.541 1708.52,127.004 1712.32,124.818 1716.12,120.413 1719.92,122.668 \\n  1723.72,116.758 1727.52,118.243 1731.33,118.125 1735.13,120.425 1738.93,121.364 1742.73,120.826 1746.53,122.294 1750.33,120.961 1754.14,120.966 1757.94,120.67 \\n  1761.74,118.359 1765.54,119.578 1769.34,118.565 1773.14,117.295 1776.94,118.715 1780.75,119.717 1784.55,121.519 1788.35,120.821 1792.15,121.798 1795.95,119.532 \\n  1799.75,120.78 1803.55,122.092 1807.36,122.407 1811.16,123.88 1814.96,122.703 1818.76,122.174 1822.56,124.287 1826.36,124.193 1830.17,123.706 1833.97,125.606 \\n  1837.77,124.427 1841.57,119.489 1845.37,119.931 1849.17,121.095 1852.97,118.913 1856.78,120.215 1860.58,121.653 1864.38,122.826 1868.18,119.535 1871.98,121.854 \\n  1875.78,123.204 1879.58,123.843 1883.39,124.328 1887.19,126.026 1890.99,127.119 1894.79,128.505 1898.59,127.873 1902.39,128.179 1906.19,126.53 1910,126.176 \\n  1913.8,126.228 1917.6,128.317 1921.4,127.036 1925.2,127.304 1929,128.468 1932.81,128.938 1936.61,129.582 1940.41,131.046 1944.21,128.683 1948.01,131.125 \\n  1951.81,127.835 1955.61,129.538 1959.42,126.087 1963.22,128.449 1967.02,129.163 1970.82,122.232 1974.62,122.794 1978.42,124.016 1982.22,123.643 1986.03,121.819 \\n  1989.83,121.761 1993.63,123.787 1997.43,124.759 2001.23,125.589 2005.03,125.216 2008.84,125.739 2012.64,127.437 2016.44,128.85 2020.24,127.622 2024.04,127.367 \\n  2027.84,128.186 2031.64,127.529 2035.45,127.286 2039.25,125.618 2043.05,127.489 2046.85,126.384 2050.65,126.758 2054.45,127.381 2058.25,119.813 2062.06,120.171 \\n  2065.86,121.947 2069.66,120.641 2073.46,121.87 2077.26,120.701 2081.06,121.922 2084.86,122.117 2088.67,123.095 2092.47,123.509 2096.27,122.868 2100.07,124.183 \\n  2103.87,123.72 2107.67,122.969 2111.48,122.445 2115.28,121.863 2119.08,120.58 2122.88,120.146 2126.68,121.441 2130.48,122.191 2134.28,121.908 2138.09,121.604 \\n  2141.89,121.522 2145.69,121.867 2149.49,122.93 2153.29,120.532 2157.09,121.172 2160.89,122.747 2164.7,124.003 2168.5,121.576 2172.3,120.334 2176.1,118.516 \\n  2179.9,119.918 2183.7,120.855 2187.51,122.265 2191.31,122.189 2195.11,123.09 2198.91,123.786 2202.71,124.059 2206.51,123.137 2210.31,123.909 2214.12,124.705 \\n  2217.92,126.093 2221.72,124.206 2225.52,124.91 2229.32,124.635 2233.12,125.046 2236.92,125.476 2240.73,123.694 2244.53,124.646 2248.33,125.885 2252.13,127.755 \\n  2255.93,128.821 2259.73,126.786 2263.53,126.656 2267.34,125.452 2271.14,127.576 2274.94,124.652 2278.74,123.079 2282.54,124.644 2286.34,124.902 2290.15,125.645 \\n  \\n  \\\"\\/>\\n<polyline clip-path=\\\"url(#clip6402)\\\" style=\\\"stroke:#000000; stroke-width:12; stroke-opacity:1; fill:none\\\" points=\\\"\\n  -221083,86.2547 223577,86.2547 \\n  \\\"\\/>\\n<path clip-path=\\\"url(#clip6400)\\\" d=\\\"\\nM212.517 1281.62 L802.786 1281.62 L802.786 1100.18 L212.517 1100.18  Z\\n  \\\" fill=\\\"#ffffff\\\" fill-rule=\\\"evenodd\\\" fill-opacity=\\\"1\\\"\\/>\\n<polyline clip-path=\\\"url(#clip6400)\\\" style=\\\"stroke:#000000; stroke-width:4; stroke-opacity:1; fill:none\\\" points=\\\"\\n  212.517,1281.62 802.786,1281.62 802.786,1100.18 212.517,1100.18 212.517,1281.62 \\n  \\\"\\/>\\n<polyline clip-path=\\\"url(#clip6400)\\\" style=\\\"stroke:#ff0000; stroke-width:12; stroke-opacity:1; fill:none\\\" points=\\\"\\n  236.517,1160.66 380.517,1160.66 \\n  \\\"\\/>\\n<g clip-path=\\\"url(#clip6400)\\\">\\n<text style=\\\"fill:#000000; fill-opacity:1; font-family:Arial,Helvetica Neue,Helvetica,sans-serif; font-size:48px; text-anchor:start;\\\" transform=\\\"rotate(0, 404.517, 1178.16)\\\" x=\\\"404.517\\\" y=\\\"1178.16\\\">empirical T(N,N)<\\/text>\\n<\\/g>\\n<polyline clip-path=\\\"url(#clip6400)\\\" style=\\\"stroke:#000000; stroke-width:12; stroke-opacity:1; fill:none\\\" points=\\\"\\n  236.517,1221.14 380.517,1221.14 \\n  \\\"\\/>\\n<g clip-path=\\\"url(#clip6400)\\\">\\n<text style=\\\"fill:#000000; fill-opacity:1; font-family:Arial,Helvetica Neue,Helvetica,sans-serif; font-size:48px; text-anchor:start;\\\" transform=\\\"rotate(0, 404.517, 1238.64)\\\" x=\\\"404.517\\\" y=\\\"1238.64\\\">theoretical limit<\\/text>\\n<\\/g>\\n<\\/svg>\\n\"},\"nodeType\":\"DOM\",\"type\":\"node\",\"instanceArgs\":{\"namespace\":\"html\",\"tag\":\"div\"},\"children\":[]}]}}}},\"children\":[{\"props\":{},\"nodeType\":\"ObservableNode\",\"type\":\"node\",\"instanceArgs\":{\"id\":\"ob_18\",\"name\":\"obs-node\"},\"children\":[]}]}]},\n",
       "            window,\n",
       "        );\n",
       "    } else {\n",
       "        document\n",
       "            .querySelector('[data-webio-mountpoint=\"1660229038225576254\"]')\n",
       "            .innerHTML = (\n",
       "                '<strong>WebIO not detected. Please read ' +\n",
       "                '<a href=\"https://juliagizmos.github.io/WebIO.jl/latest/troubleshooting/not-detected/\">the troubleshooting guide</a> ' +\n",
       "                'for more information on how to resolve this issue.' +\n",
       "                '</strong>'\n",
       "            );\n",
       "    }\n",
       "    </script>\n",
       "</div>\n"
      ],
      "text/plain": [
       "Node{WebIO.DOM}(WebIO.DOM(:html, :div), Any[Node{WebIO.DOM}(WebIO.DOM(:html, :div), Any[Scope(Node{WebIO.DOM}(WebIO.DOM(:html, :div), Any[Node{WebIO.DOM}(WebIO.DOM(:html, :div), Any[Node{WebIO.DOM}(WebIO.DOM(:html, :label), Any[\"max_N\"], Dict{Symbol,Any}(:className => \"interact \",:style => Dict{Any,Any}(:padding => \"5px 10px 0px 10px\")))], Dict{Symbol,Any}(:className => \"interact-flex-row-left\")), Node{WebIO.DOM}(WebIO.DOM(:html, :div), Any[Node{WebIO.DOM}(WebIO.DOM(:html, :input), Any[], Dict{Symbol,Any}(:max => 19,:min => 1,:attributes => Dict{Any,Any}(:type => \"range\",Symbol(\"data-bind\") => \"numericValue: index, valueUpdate: 'input', event: {change: function (){this.changes(this.changes()+1)}}\",\"orient\" => \"horizontal\"),:step => 1,:className => \"slider slider is-fullwidth\",:style => Dict{Any,Any}()))], Dict{Symbol,Any}(:className => \"interact-flex-row-center\")), Node{WebIO.DOM}(WebIO.DOM(:html, :div), Any[Node{WebIO.DOM}(WebIO.DOM(:html, :p), Any[], Dict{Symbol,Any}(:attributes => Dict(\"data-bind\" => \"text: formatted_val\")))], Dict{Symbol,Any}(:className => \"interact-flex-row-right\"))], Dict{Symbol,Any}(:className => \"interact-flex-row interact-widget\")), Dict{String,Tuple{Observables.AbstractObservable,Union{Nothing, Bool}}}(\"changes\" => (Observable{Int64} with 1 listeners. Value:\n",
       "0, nothing),\"index\" => (Observable{Any} with 2 listeners. Value:\n",
       "10, nothing)), Set(String[]), nothing, Asset[Asset(\"js\", \"knockout\", \"C:\\\\Users\\\\matte\\\\.julia\\\\packages\\\\Knockout\\\\1sDlc\\\\src\\\\..\\\\assets\\\\knockout.js\"), Asset(\"js\", \"knockout_punches\", \"C:\\\\Users\\\\matte\\\\.julia\\\\packages\\\\Knockout\\\\1sDlc\\\\src\\\\..\\\\assets\\\\knockout_punches.js\"), Asset(\"js\", nothing, \"C:\\\\Users\\\\matte\\\\.julia\\\\packages\\\\InteractBase\\\\9mFwe\\\\src\\\\..\\\\assets\\\\all.js\"), Asset(\"css\", nothing, \"C:\\\\Users\\\\matte\\\\.julia\\\\packages\\\\InteractBase\\\\9mFwe\\\\src\\\\..\\\\assets\\\\style.css\"), Asset(\"css\", nothing, \"C:\\\\Users\\\\matte\\\\.julia\\\\packages\\\\Interact\\\\SbgIk\\\\src\\\\..\\\\assets\\\\bulma_confined.min.css\")], Dict{Any,Any}(\"changes\" => Any[WebIO.JSString(\"(function (val){return (val!=this.model[\\\"changes\\\"]()) ? (this.valueFromJulia[\\\"changes\\\"]=true, this.model[\\\"changes\\\"](val)) : undefined})\")],\"index\" => Any[WebIO.JSString(\"(function (val){return (val!=this.model[\\\"index\\\"]()) ? (this.valueFromJulia[\\\"index\\\"]=true, this.model[\\\"index\\\"](val)) : undefined})\")]), WebIO.ConnectionPool(Channel{Any}(sz_max:32,sz_curr:0), Set(AbstractConnection[]), Base.GenericCondition{Base.AlwaysLockedST}(Base.InvasiveLinkedList{Task}(Task (runnable) @0x000000001053fc70, Task (runnable) @0x000000001053fc70), Base.AlwaysLockedST(1))), WebIO.JSString[WebIO.JSString(\"function () {\\n    var handler = (function (ko, koPunches) {\\n    ko.punches.enableAll();\\n    ko.bindingHandlers.numericValue = {\\n        init: function(element, valueAccessor, allBindings, data, context) {\\n            var stringified = ko.observable(ko.unwrap(valueAccessor()));\\n            stringified.subscribe(function(value) {\\n                var val = parseFloat(value);\\n                if (!isNaN(val)) {\\n                    valueAccessor()(val);\\n                }\\n            });\\n            valueAccessor().subscribe(function(value) {\\n                var str = JSON.stringify(value);\\n                if ((str == \\\"0\\\") && ([\\\"-0\\\", \\\"-0.\\\"].indexOf(stringified()) >= 0))\\n                     return;\\n                 if ([\\\"null\\\", \\\"\\\"].indexOf(str) >= 0)\\n                     return;\\n                stringified(str);\\n            });\\n            ko.applyBindingsToNode(\\n                element,\\n                {\\n                    value: stringified,\\n                    valueUpdate: allBindings.get('valueUpdate'),\\n                },\\n                context,\\n            );\\n        }\\n    };\\n    var json_data = {\\\"formatted_vals\\\":[\\\"100\\\",\\\"150\\\",\\\"200\\\",\\\"250\\\",\\\"300\\\",\\\"350\\\",\\\"400\\\",\\\"450\\\",\\\"500\\\",\\\"550\\\",\\\"600\\\",\\\"650\\\",\\\"700\\\",\\\"750\\\",\\\"800\\\",\\\"850\\\",\\\"900\\\",\\\"950\\\",\\\"1000\\\"],\\\"changes\\\":WebIO.getval({\\\"name\\\":\\\"changes\\\",\\\"scope\\\":\\\"15429352038385944038\\\",\\\"id\\\":\\\"ob_03\\\",\\\"type\\\":\\\"observable\\\"}),\\\"index\\\":WebIO.getval({\\\"name\\\":\\\"index\\\",\\\"scope\\\":\\\"15429352038385944038\\\",\\\"id\\\":\\\"ob_02\\\",\\\"type\\\":\\\"observable\\\"})};\\n    var self = this;\\n    function AppViewModel() {\\n        for (var key in json_data) {\\n            var el = json_data[key];\\n            this[key] = Array.isArray(el) ? ko.observableArray(el) : ko.observable(el);\\n        }\\n        \\n        [this[\\\"formatted_val\\\"]=ko.computed(    function(){\\n        return this.formatted_vals()[parseInt(this.index())-(1)];\\n    }\\n,this)]\\n        [this[\\\"changes\\\"].subscribe((function (val){!(this.valueFromJulia[\\\"changes\\\"]) ? (WebIO.setval({\\\"name\\\":\\\"changes\\\",\\\"scope\\\":\\\"15429352038385944038\\\",\\\"id\\\":\\\"ob_03\\\",\\\"type\\\":\\\"observable\\\"},val)) : undefined; return this.valueFromJulia[\\\"changes\\\"]=false}),self),this[\\\"index\\\"].subscribe((function (val){!(this.valueFromJulia[\\\"index\\\"]) ? (WebIO.setval({\\\"name\\\":\\\"index\\\",\\\"scope\\\":\\\"15429352038385944038\\\",\\\"id\\\":\\\"ob_02\\\",\\\"type\\\":\\\"observable\\\"},val)) : undefined; return this.valueFromJulia[\\\"index\\\"]=false}),self)]\\n        \\n    }\\n    self.model = new AppViewModel();\\n    self.valueFromJulia = {};\\n    for (var key in json_data) {\\n        self.valueFromJulia[key] = false;\\n    }\\n    ko.applyBindings(self.model, self.dom);\\n}\\n);\\n    (WebIO.importBlock({\\\"data\\\":[{\\\"name\\\":\\\"knockout\\\",\\\"type\\\":\\\"js\\\",\\\"url\\\":\\\"/assetserver/254160226b58162a42111ea27214076747de1cf2-knockout.js\\\"},{\\\"name\\\":\\\"knockout_punches\\\",\\\"type\\\":\\\"js\\\",\\\"url\\\":\\\"/assetserver/2d0bf510fb683322318163f3ec7562806e4b1104-knockout_punches.js\\\"}],\\\"type\\\":\\\"async_block\\\"})).then((imports) => handler.apply(this, imports));\\n}\\n\")])], Dict{Symbol,Any}(:className => \"field interact-widget\")), Node{WebIO.DOM}(WebIO.DOM(:html, :div), Any[Scope(Node{WebIO.DOM}(WebIO.DOM(:html, :div), Any[Node{WebIO.DOM}(WebIO.DOM(:html, :div), Any[Node{WebIO.DOM}(WebIO.DOM(:html, :label), Any[\"law_name\"], Dict{Symbol,Any}(:className => \"interact \",:style => Dict{Any,Any}(:padding => \"5px 10px 0px 10px\")))], Dict{Symbol,Any}(:className => \"interact-flex-row-left\")), Node{WebIO.DOM}(WebIO.DOM(:html, :div), Any[Node{WebIO.DOM}(WebIO.DOM(:html, :div), Any[Node{WebIO.DOM}(WebIO.DOM(:html, :span), Any[Node{WebIO.DOM}(WebIO.DOM(:html, :label), Any[], Dict{Symbol,Any}(:attributes => Dict(\"data-bind\" => \"text : key\")))], Dict{Symbol,Any}(:attributes => Dict(\"data-bind\" => \"click: function (){\\$root.update(val)}, css: {'is-primary is-selected' : \\$root.index() == val, 'interact-widget is-medium button ' : true}\")))], Dict{Symbol,Any}(:attributes => (\"data-bind\" => \"foreach : options_js\"),:className => \"buttons has-addons is-centered\"))], Dict{Symbol,Any}(:className => \"interact-flex-row-center\")), Node{WebIO.DOM}(WebIO.DOM(:html, :div), Any[Node{WebIO.DOM}(WebIO.DOM(:html, :div), Any[], Dict{Symbol,Any}())], Dict{Symbol,Any}(:className => \"interact-flex-row-right\"))], Dict{Symbol,Any}(:className => \"interact-flex-row interact-widget\")), Dict{String,Tuple{Observables.AbstractObservable,Union{Nothing, Bool}}}(\"options_js\" => (Observable{Any} with 1 listeners. Value:\n",
       "OrderedDict[OrderedDict{String,Any}(\"key\" => \"Geometric(q)\",\"val\" => 1,\"id\" => \"id7GWEWrSk\"), OrderedDict{String,Any}(\"key\" => \"Exponential(λ)\",\"val\" => 2,\"id\" => \"idTm8tHOEl\")], nothing),\"index\" => (Observable{Any} with 2 listeners. Value:\n",
       "1, nothing)), Set(String[]), nothing, Asset[Asset(\"js\", \"knockout\", \"C:\\\\Users\\\\matte\\\\.julia\\\\packages\\\\Knockout\\\\1sDlc\\\\src\\\\..\\\\assets\\\\knockout.js\"), Asset(\"js\", \"knockout_punches\", \"C:\\\\Users\\\\matte\\\\.julia\\\\packages\\\\Knockout\\\\1sDlc\\\\src\\\\..\\\\assets\\\\knockout_punches.js\"), Asset(\"js\", nothing, \"C:\\\\Users\\\\matte\\\\.julia\\\\packages\\\\InteractBase\\\\9mFwe\\\\src\\\\..\\\\assets\\\\all.js\"), Asset(\"css\", nothing, \"C:\\\\Users\\\\matte\\\\.julia\\\\packages\\\\InteractBase\\\\9mFwe\\\\src\\\\..\\\\assets\\\\style.css\"), Asset(\"css\", nothing, \"C:\\\\Users\\\\matte\\\\.julia\\\\packages\\\\Interact\\\\SbgIk\\\\src\\\\..\\\\assets\\\\bulma_confined.min.css\")], Dict{Any,Any}(\"options_js\" => Any[WebIO.JSString(\"(function (val){return (val!=this.model[\\\"options_js\\\"]()) ? (this.valueFromJulia[\\\"options_js\\\"]=true, this.model[\\\"options_js\\\"](val)) : undefined})\")],\"index\" => Any[WebIO.JSString(\"(function (val){return (val!=this.model[\\\"index\\\"]()) ? (this.valueFromJulia[\\\"index\\\"]=true, this.model[\\\"index\\\"](val)) : undefined})\")]), WebIO.ConnectionPool(Channel{Any}(sz_max:32,sz_curr:0), Set(AbstractConnection[]), Base.GenericCondition{Base.AlwaysLockedST}(Base.InvasiveLinkedList{Task}(Task (runnable) @0x00000000133a4e70, Task (runnable) @0x00000000133a4e70), Base.AlwaysLockedST(1))), WebIO.JSString[WebIO.JSString(\"function () {\\n    var handler = (function (ko, koPunches) {\\n    ko.punches.enableAll();\\n    ko.bindingHandlers.numericValue = {\\n        init: function(element, valueAccessor, allBindings, data, context) {\\n            var stringified = ko.observable(ko.unwrap(valueAccessor()));\\n            stringified.subscribe(function(value) {\\n                var val = parseFloat(value);\\n                if (!isNaN(val)) {\\n                    valueAccessor()(val);\\n                }\\n            });\\n            valueAccessor().subscribe(function(value) {\\n                var str = JSON.stringify(value);\\n                if ((str == \\\"0\\\") && ([\\\"-0\\\", \\\"-0.\\\"].indexOf(stringified()) >= 0))\\n                     return;\\n                 if ([\\\"null\\\", \\\"\\\"].indexOf(str) >= 0)\\n                     return;\\n                stringified(str);\\n            });\\n            ko.applyBindingsToNode(\\n                element,\\n                {\\n                    value: stringified,\\n                    valueUpdate: allBindings.get('valueUpdate'),\\n                },\\n                context,\\n            );\\n        }\\n    };\\n    var json_data = {\\\"options_js\\\":WebIO.getval({\\\"name\\\":\\\"options_js\\\",\\\"scope\\\":\\\"3640515817087814047\\\",\\\"id\\\":\\\"ob_08\\\",\\\"type\\\":\\\"observable\\\"}),\\\"index\\\":WebIO.getval({\\\"name\\\":\\\"index\\\",\\\"scope\\\":\\\"3640515817087814047\\\",\\\"id\\\":\\\"ob_07\\\",\\\"type\\\":\\\"observable\\\"})};\\n    var self = this;\\n    function AppViewModel() {\\n        for (var key in json_data) {\\n            var el = json_data[key];\\n            this[key] = Array.isArray(el) ? ko.observableArray(el) : ko.observable(el);\\n        }\\n        [this[\\\"update\\\"]=function (val) {this.index(val)}]\\n        \\n        [this[\\\"options_js\\\"].subscribe((function (val){!(this.valueFromJulia[\\\"options_js\\\"]) ? (WebIO.setval({\\\"name\\\":\\\"options_js\\\",\\\"scope\\\":\\\"3640515817087814047\\\",\\\"id\\\":\\\"ob_08\\\",\\\"type\\\":\\\"observable\\\"},val)) : undefined; return this.valueFromJulia[\\\"options_js\\\"]=false}),self),this[\\\"index\\\"].subscribe((function (val){!(this.valueFromJulia[\\\"index\\\"]) ? (WebIO.setval({\\\"name\\\":\\\"index\\\",\\\"scope\\\":\\\"3640515817087814047\\\",\\\"id\\\":\\\"ob_07\\\",\\\"type\\\":\\\"observable\\\"},val)) : undefined; return this.valueFromJulia[\\\"index\\\"]=false}),self)]\\n        \\n    }\\n    self.model = new AppViewModel();\\n    self.valueFromJulia = {};\\n    for (var key in json_data) {\\n        self.valueFromJulia[key] = false;\\n    }\\n    ko.applyBindings(self.model, self.dom);\\n}\\n);\\n    (WebIO.importBlock({\\\"data\\\":[{\\\"name\\\":\\\"knockout\\\",\\\"type\\\":\\\"js\\\",\\\"url\\\":\\\"/assetserver/254160226b58162a42111ea27214076747de1cf2-knockout.js\\\"},{\\\"name\\\":\\\"knockout_punches\\\",\\\"type\\\":\\\"js\\\",\\\"url\\\":\\\"/assetserver/2d0bf510fb683322318163f3ec7562806e4b1104-knockout_punches.js\\\"}],\\\"type\\\":\\\"async_block\\\"})).then((imports) => handler.apply(this, imports));\\n}\\n\")])], Dict{Symbol,Any}(:className => \"interact-widget\")), Node{WebIO.DOM}(WebIO.DOM(:html, :div), Any[Scope(Node{WebIO.DOM}(WebIO.DOM(:html, :div), Any[Node{WebIO.DOM}(WebIO.DOM(:html, :div), Any[Node{WebIO.DOM}(WebIO.DOM(:html, :label), Any[\"q\"], Dict{Symbol,Any}(:className => \"interact \",:style => Dict{Any,Any}(:padding => \"5px 10px 0px 10px\")))], Dict{Symbol,Any}(:className => \"interact-flex-row-left\")), Node{WebIO.DOM}(WebIO.DOM(:html, :div), Any[Node{WebIO.DOM}(WebIO.DOM(:html, :input), Any[], Dict{Symbol,Any}(:max => 19,:min => 1,:attributes => Dict{Any,Any}(:type => \"range\",Symbol(\"data-bind\") => \"numericValue: index, valueUpdate: 'input', event: {change: function (){this.changes(this.changes()+1)}}\",\"orient\" => \"horizontal\"),:step => 1,:className => \"slider slider is-fullwidth\",:style => Dict{Any,Any}()))], Dict{Symbol,Any}(:className => \"interact-flex-row-center\")), Node{WebIO.DOM}(WebIO.DOM(:html, :div), Any[Node{WebIO.DOM}(WebIO.DOM(:html, :p), Any[], Dict{Symbol,Any}(:attributes => Dict(\"data-bind\" => \"text: formatted_val\")))], Dict{Symbol,Any}(:className => \"interact-flex-row-right\"))], Dict{Symbol,Any}(:className => \"interact-flex-row interact-widget\")), Dict{String,Tuple{Observables.AbstractObservable,Union{Nothing, Bool}}}(\"changes\" => (Observable{Int64} with 1 listeners. Value:\n",
       "0, nothing),\"index\" => (Observable{Any} with 2 listeners. Value:\n",
       "10, nothing)), Set(String[]), nothing, Asset[Asset(\"js\", \"knockout\", \"C:\\\\Users\\\\matte\\\\.julia\\\\packages\\\\Knockout\\\\1sDlc\\\\src\\\\..\\\\assets\\\\knockout.js\"), Asset(\"js\", \"knockout_punches\", \"C:\\\\Users\\\\matte\\\\.julia\\\\packages\\\\Knockout\\\\1sDlc\\\\src\\\\..\\\\assets\\\\knockout_punches.js\"), Asset(\"js\", nothing, \"C:\\\\Users\\\\matte\\\\.julia\\\\packages\\\\InteractBase\\\\9mFwe\\\\src\\\\..\\\\assets\\\\all.js\"), Asset(\"css\", nothing, \"C:\\\\Users\\\\matte\\\\.julia\\\\packages\\\\InteractBase\\\\9mFwe\\\\src\\\\..\\\\assets\\\\style.css\"), Asset(\"css\", nothing, \"C:\\\\Users\\\\matte\\\\.julia\\\\packages\\\\Interact\\\\SbgIk\\\\src\\\\..\\\\assets\\\\bulma_confined.min.css\")], Dict{Any,Any}(\"changes\" => Any[WebIO.JSString(\"(function (val){return (val!=this.model[\\\"changes\\\"]()) ? (this.valueFromJulia[\\\"changes\\\"]=true, this.model[\\\"changes\\\"](val)) : undefined})\")],\"index\" => Any[WebIO.JSString(\"(function (val){return (val!=this.model[\\\"index\\\"]()) ? (this.valueFromJulia[\\\"index\\\"]=true, this.model[\\\"index\\\"](val)) : undefined})\")]), WebIO.ConnectionPool(Channel{Any}(sz_max:32,sz_curr:0), Set(AbstractConnection[]), Base.GenericCondition{Base.AlwaysLockedST}(Base.InvasiveLinkedList{Task}(Task (runnable) @0x000000002d0419f0, Task (runnable) @0x000000002d0419f0), Base.AlwaysLockedST(1))), WebIO.JSString[WebIO.JSString(\"function () {\\n    var handler = (function (ko, koPunches) {\\n    ko.punches.enableAll();\\n    ko.bindingHandlers.numericValue = {\\n        init: function(element, valueAccessor, allBindings, data, context) {\\n            var stringified = ko.observable(ko.unwrap(valueAccessor()));\\n            stringified.subscribe(function(value) {\\n                var val = parseFloat(value);\\n                if (!isNaN(val)) {\\n                    valueAccessor()(val);\\n                }\\n            });\\n            valueAccessor().subscribe(function(value) {\\n                var str = JSON.stringify(value);\\n                if ((str == \\\"0\\\") && ([\\\"-0\\\", \\\"-0.\\\"].indexOf(stringified()) >= 0))\\n                     return;\\n                 if ([\\\"null\\\", \\\"\\\"].indexOf(str) >= 0)\\n                     return;\\n                stringified(str);\\n            });\\n            ko.applyBindingsToNode(\\n                element,\\n                {\\n                    value: stringified,\\n                    valueUpdate: allBindings.get('valueUpdate'),\\n                },\\n                context,\\n            );\\n        }\\n    };\\n    var json_data = {\\\"formatted_vals\\\":[\\\"0.05\\\",\\\"0.1\\\",\\\"0.15\\\",\\\"0.2\\\",\\\"0.25\\\",\\\"0.3\\\",\\\"0.35\\\",\\\"0.4\\\",\\\"0.45\\\",\\\"0.5\\\",\\\"0.55\\\",\\\"0.6\\\",\\\"0.65\\\",\\\"0.7\\\",\\\"0.75\\\",\\\"0.8\\\",\\\"0.85\\\",\\\"0.9\\\",\\\"0.95\\\"],\\\"changes\\\":WebIO.getval({\\\"name\\\":\\\"changes\\\",\\\"scope\\\":\\\"7953307948917451718\\\",\\\"id\\\":\\\"ob_11\\\",\\\"type\\\":\\\"observable\\\"}),\\\"index\\\":WebIO.getval({\\\"name\\\":\\\"index\\\",\\\"scope\\\":\\\"7953307948917451718\\\",\\\"id\\\":\\\"ob_10\\\",\\\"type\\\":\\\"observable\\\"})};\\n    var self = this;\\n    function AppViewModel() {\\n        for (var key in json_data) {\\n            var el = json_data[key];\\n            this[key] = Array.isArray(el) ? ko.observableArray(el) : ko.observable(el);\\n        }\\n        \\n        [this[\\\"formatted_val\\\"]=ko.computed(    function(){\\n        return this.formatted_vals()[parseInt(this.index())-(1)];\\n    }\\n,this)]\\n        [this[\\\"changes\\\"].subscribe((function (val){!(this.valueFromJulia[\\\"changes\\\"]) ? (WebIO.setval({\\\"name\\\":\\\"changes\\\",\\\"scope\\\":\\\"7953307948917451718\\\",\\\"id\\\":\\\"ob_11\\\",\\\"type\\\":\\\"observable\\\"},val)) : undefined; return this.valueFromJulia[\\\"changes\\\"]=false}),self),this[\\\"index\\\"].subscribe((function (val){!(this.valueFromJulia[\\\"index\\\"]) ? (WebIO.setval({\\\"name\\\":\\\"index\\\",\\\"scope\\\":\\\"7953307948917451718\\\",\\\"id\\\":\\\"ob_10\\\",\\\"type\\\":\\\"observable\\\"},val)) : undefined; return this.valueFromJulia[\\\"index\\\"]=false}),self)]\\n        \\n    }\\n    self.model = new AppViewModel();\\n    self.valueFromJulia = {};\\n    for (var key in json_data) {\\n        self.valueFromJulia[key] = false;\\n    }\\n    ko.applyBindings(self.model, self.dom);\\n}\\n);\\n    (WebIO.importBlock({\\\"data\\\":[{\\\"name\\\":\\\"knockout\\\",\\\"type\\\":\\\"js\\\",\\\"url\\\":\\\"/assetserver/254160226b58162a42111ea27214076747de1cf2-knockout.js\\\"},{\\\"name\\\":\\\"knockout_punches\\\",\\\"type\\\":\\\"js\\\",\\\"url\\\":\\\"/assetserver/2d0bf510fb683322318163f3ec7562806e4b1104-knockout_punches.js\\\"}],\\\"type\\\":\\\"async_block\\\"})).then((imports) => handler.apply(this, imports));\\n}\\n\")])], Dict{Symbol,Any}(:className => \"field interact-widget\")), Node{WebIO.DOM}(WebIO.DOM(:html, :div), Any[Scope(Node{WebIO.DOM}(WebIO.DOM(:html, :div), Any[Node{WebIO.DOM}(WebIO.DOM(:html, :div), Any[Node{WebIO.DOM}(WebIO.DOM(:html, :label), Any[\"λ\"], Dict{Symbol,Any}(:className => \"interact \",:style => Dict{Any,Any}(:padding => \"5px 10px 0px 10px\")))], Dict{Symbol,Any}(:className => \"interact-flex-row-left\")), Node{WebIO.DOM}(WebIO.DOM(:html, :div), Any[Node{WebIO.DOM}(WebIO.DOM(:html, :input), Any[], Dict{Symbol,Any}(:max => 10,:min => 1,:attributes => Dict{Any,Any}(:type => \"range\",Symbol(\"data-bind\") => \"numericValue: index, valueUpdate: 'input', event: {change: function (){this.changes(this.changes()+1)}}\",\"orient\" => \"horizontal\"),:step => 1,:className => \"slider slider is-fullwidth\",:style => Dict{Any,Any}()))], Dict{Symbol,Any}(:className => \"interact-flex-row-center\")), Node{WebIO.DOM}(WebIO.DOM(:html, :div), Any[Node{WebIO.DOM}(WebIO.DOM(:html, :p), Any[], Dict{Symbol,Any}(:attributes => Dict(\"data-bind\" => \"text: formatted_val\")))], Dict{Symbol,Any}(:className => \"interact-flex-row-right\"))], Dict{Symbol,Any}(:className => \"interact-flex-row interact-widget\")), Dict{String,Tuple{Observables.AbstractObservable,Union{Nothing, Bool}}}(\"changes\" => (Observable{Int64} with 1 listeners. Value:\n",
       "0, nothing),\"index\" => (Observable{Any} with 2 listeners. Value:\n",
       "5, nothing)), Set(String[]), nothing, Asset[Asset(\"js\", \"knockout\", \"C:\\\\Users\\\\matte\\\\.julia\\\\packages\\\\Knockout\\\\1sDlc\\\\src\\\\..\\\\assets\\\\knockout.js\"), Asset(\"js\", \"knockout_punches\", \"C:\\\\Users\\\\matte\\\\.julia\\\\packages\\\\Knockout\\\\1sDlc\\\\src\\\\..\\\\assets\\\\knockout_punches.js\"), Asset(\"js\", nothing, \"C:\\\\Users\\\\matte\\\\.julia\\\\packages\\\\InteractBase\\\\9mFwe\\\\src\\\\..\\\\assets\\\\all.js\"), Asset(\"css\", nothing, \"C:\\\\Users\\\\matte\\\\.julia\\\\packages\\\\InteractBase\\\\9mFwe\\\\src\\\\..\\\\assets\\\\style.css\"), Asset(\"css\", nothing, \"C:\\\\Users\\\\matte\\\\.julia\\\\packages\\\\Interact\\\\SbgIk\\\\src\\\\..\\\\assets\\\\bulma_confined.min.css\")], Dict{Any,Any}(\"changes\" => Any[WebIO.JSString(\"(function (val){return (val!=this.model[\\\"changes\\\"]()) ? (this.valueFromJulia[\\\"changes\\\"]=true, this.model[\\\"changes\\\"](val)) : undefined})\")],\"index\" => Any[WebIO.JSString(\"(function (val){return (val!=this.model[\\\"index\\\"]()) ? (this.valueFromJulia[\\\"index\\\"]=true, this.model[\\\"index\\\"](val)) : undefined})\")]), WebIO.ConnectionPool(Channel{Any}(sz_max:32,sz_curr:0), Set(AbstractConnection[]), Base.GenericCondition{Base.AlwaysLockedST}(Base.InvasiveLinkedList{Task}(Task (runnable) @0x00000000109d0010, Task (runnable) @0x00000000109d0010), Base.AlwaysLockedST(1))), WebIO.JSString[WebIO.JSString(\"function () {\\n    var handler = (function (ko, koPunches) {\\n    ko.punches.enableAll();\\n    ko.bindingHandlers.numericValue = {\\n        init: function(element, valueAccessor, allBindings, data, context) {\\n            var stringified = ko.observable(ko.unwrap(valueAccessor()));\\n            stringified.subscribe(function(value) {\\n                var val = parseFloat(value);\\n                if (!isNaN(val)) {\\n                    valueAccessor()(val);\\n                }\\n            });\\n            valueAccessor().subscribe(function(value) {\\n                var str = JSON.stringify(value);\\n                if ((str == \\\"0\\\") && ([\\\"-0\\\", \\\"-0.\\\"].indexOf(stringified()) >= 0))\\n                     return;\\n                 if ([\\\"null\\\", \\\"\\\"].indexOf(str) >= 0)\\n                     return;\\n                stringified(str);\\n            });\\n            ko.applyBindingsToNode(\\n                element,\\n                {\\n                    value: stringified,\\n                    valueUpdate: allBindings.get('valueUpdate'),\\n                },\\n                context,\\n            );\\n        }\\n    };\\n    var json_data = {\\\"formatted_vals\\\":[\\\"1\\\",\\\"2\\\",\\\"3\\\",\\\"4\\\",\\\"5\\\",\\\"6\\\",\\\"7\\\",\\\"8\\\",\\\"9\\\",\\\"10\\\"],\\\"changes\\\":WebIO.getval({\\\"name\\\":\\\"changes\\\",\\\"scope\\\":\\\"13435157253992265076\\\",\\\"id\\\":\\\"ob_14\\\",\\\"type\\\":\\\"observable\\\"}),\\\"index\\\":WebIO.getval({\\\"name\\\":\\\"index\\\",\\\"scope\\\":\\\"13435157253992265076\\\",\\\"id\\\":\\\"ob_13\\\",\\\"type\\\":\\\"observable\\\"})};\\n    var self = this;\\n    function AppViewModel() {\\n        for (var key in json_data) {\\n            var el = json_data[key];\\n            this[key] = Array.isArray(el) ? ko.observableArray(el) : ko.observable(el);\\n        }\\n        \\n        [this[\\\"formatted_val\\\"]=ko.computed(    function(){\\n        return this.formatted_vals()[parseInt(this.index())-(1)];\\n    }\\n,this)]\\n        [this[\\\"changes\\\"].subscribe((function (val){!(this.valueFromJulia[\\\"changes\\\"]) ? (WebIO.setval({\\\"name\\\":\\\"changes\\\",\\\"scope\\\":\\\"13435157253992265076\\\",\\\"id\\\":\\\"ob_14\\\",\\\"type\\\":\\\"observable\\\"},val)) : undefined; return this.valueFromJulia[\\\"changes\\\"]=false}),self),this[\\\"index\\\"].subscribe((function (val){!(this.valueFromJulia[\\\"index\\\"]) ? (WebIO.setval({\\\"name\\\":\\\"index\\\",\\\"scope\\\":\\\"13435157253992265076\\\",\\\"id\\\":\\\"ob_13\\\",\\\"type\\\":\\\"observable\\\"},val)) : undefined; return this.valueFromJulia[\\\"index\\\"]=false}),self)]\\n        \\n    }\\n    self.model = new AppViewModel();\\n    self.valueFromJulia = {};\\n    for (var key in json_data) {\\n        self.valueFromJulia[key] = false;\\n    }\\n    ko.applyBindings(self.model, self.dom);\\n}\\n);\\n    (WebIO.importBlock({\\\"data\\\":[{\\\"name\\\":\\\"knockout\\\",\\\"type\\\":\\\"js\\\",\\\"url\\\":\\\"/assetserver/254160226b58162a42111ea27214076747de1cf2-knockout.js\\\"},{\\\"name\\\":\\\"knockout_punches\\\",\\\"type\\\":\\\"js\\\",\\\"url\\\":\\\"/assetserver/2d0bf510fb683322318163f3ec7562806e4b1104-knockout_punches.js\\\"}],\\\"type\\\":\\\"async_block\\\"})).then((imports) => handler.apply(this, imports));\\n}\\n\")])], Dict{Symbol,Any}(:className => \"field interact-widget\")), Observable{Any} with 0 listeners. Value:\n",
       "Node{WebIO.DOM}(WebIO.DOM(:html, :div), Any[Plot{Plots.GRBackend() n=2}], Dict{Symbol,Any}(:className => \"interact-flex-row interact-widget\"))], Dict{Symbol,Any}())"
      ]
     },
     "execution_count": 11,
     "metadata": {
      "application/vnd.webio.node+json": {
       "kernelId": "0a5dac8e-7109-40fb-8a95-e2baccb695d6"
      }
     },
     "output_type": "execute_result"
    }
   ],
   "source": [
    "@manipulate for max_N = 100:50:1000, law_name = [\"Geometric(q)\", \"Exponential(λ)\"], q = 0.05:0.05:0.95, λ = 1:1:10\n",
    "    if(law_name == \"Geometric\")\n",
    "        law = Geometric(q)\n",
    "    else\n",
    "        law = Exponential(λ)\n",
    "    end\n",
    "    γ, σ = renorm_params(law)\n",
    "    grid = get_grid(law, max_N)\n",
    "    diag = [grid[i,i] / i for i in 1:max_N]\n",
    "    plot(1:max_N, diag, lw = 3, color = \"red\", legend=:bottomleft, xlabel = \"N\", label = \"empirical T(N,N)\")\n",
    "    hline!([γ], lw = 3, color = \"black\", label = \"theoretical limit\")\n",
    "end"
   ]
  },
  {
   "cell_type": "code",
   "execution_count": 12,
   "metadata": {},
   "outputs": [
    {
     "name": "stdout",
     "output_type": "stream",
     "text": [
      "Geometric, 0.1\n",
      "Geometric, 0.2\n",
      "Geometric, 0.3\n",
      "Geometric, 0.4\n",
      "Geometric, 0.5\n",
      "Geometric, 0.6\n",
      "Geometric, 0.7\n",
      "Geometric, 0.8\n",
      "Geometric, 0.9\n",
      "Exponential, 1\n",
      "Exponential, 2\n",
      "Exponential, 3\n",
      "Exponential, 4\n",
      "Exponential, 5\n",
      "Exponential, 6\n",
      "Exponential, 7\n",
      "Exponential, 8\n",
      "Exponential, 9\n",
      "Exponential, 10\n"
     ]
    }
   ],
   "source": [
    "RANGE_N = 10:10:100\n",
    "max_N = maximum(RANGE_N)\n",
    "RANGE_q = 0.1*(1:9)\n",
    "RANGE_λ = 1:10\n",
    "NB_EXAMPLES = 300\n",
    "\n",
    "d = Dict(vcat((\"Geometric\",Dict([(q, Dict([(N, Float64[]) for N in RANGE_N])) for q in RANGE_q])), (\"Exponential\",Dict([(λ, Dict([(N, Float64[]) for N in RANGE_N])) for λ in RANGE_λ]))))\n",
    "\n",
    "for q in RANGE_q\n",
    "    println(\"Geometric, \", q)\n",
    "    law = Geometric(q)\n",
    "    res = Float64[]\n",
    "    for i in 1:NB_EXAMPLES\n",
    "        grid = get_grid(law, max_N)\n",
    "        for N in RANGE_N\n",
    "            append!(d[\"Geometric\"][q][N], grid[N, N])\n",
    "        end\n",
    "    end\n",
    "end\n",
    "\n",
    "for λ in RANGE_λ\n",
    "    println(\"Exponential, \", λ)\n",
    "    law = Exponential(λ)\n",
    "    res = Float64[]\n",
    "    for i in 1:NB_EXAMPLES\n",
    "        grid = get_grid(law, max_N)\n",
    "        for N in RANGE_N\n",
    "            append!(d[\"Exponential\"][λ][N], grid[N, N])\n",
    "        end\n",
    "    end\n",
    "end"
   ]
  },
  {
   "cell_type": "code",
   "execution_count": 14,
   "metadata": {},
   "outputs": [
    {
     "data": {
      "application/vnd.webio.node+json": {
       "children": [
        {
         "children": [
          {
           "children": [
            {
             "children": [
              {
               "children": [
                {
                 "children": [
                  "N"
                 ],
                 "instanceArgs": {
                  "namespace": "html",
                  "tag": "label"
                 },
                 "nodeType": "DOM",
                 "props": {
                  "className": "interact ",
                  "style": {
                   "padding": "5px 10px 0px 10px"
                  }
                 },
                 "type": "node"
                }
               ],
               "instanceArgs": {
                "namespace": "html",
                "tag": "div"
               },
               "nodeType": "DOM",
               "props": {
                "className": "interact-flex-row-left"
               },
               "type": "node"
              },
              {
               "children": [
                {
                 "children": [],
                 "instanceArgs": {
                  "namespace": "html",
                  "tag": "input"
                 },
                 "nodeType": "DOM",
                 "props": {
                  "attributes": {
                   "data-bind": "numericValue: index, valueUpdate: 'input', event: {change: function (){this.changes(this.changes()+1)}}",
                   "orient": "horizontal",
                   "type": "range"
                  },
                  "className": "slider slider is-fullwidth",
                  "max": 10,
                  "min": 1,
                  "step": 1,
                  "style": {}
                 },
                 "type": "node"
                }
               ],
               "instanceArgs": {
                "namespace": "html",
                "tag": "div"
               },
               "nodeType": "DOM",
               "props": {
                "className": "interact-flex-row-center"
               },
               "type": "node"
              },
              {
               "children": [
                {
                 "children": [],
                 "instanceArgs": {
                  "namespace": "html",
                  "tag": "p"
                 },
                 "nodeType": "DOM",
                 "props": {
                  "attributes": {
                   "data-bind": "text: formatted_val"
                  }
                 },
                 "type": "node"
                }
               ],
               "instanceArgs": {
                "namespace": "html",
                "tag": "div"
               },
               "nodeType": "DOM",
               "props": {
                "className": "interact-flex-row-right"
               },
               "type": "node"
              }
             ],
             "instanceArgs": {
              "namespace": "html",
              "tag": "div"
             },
             "nodeType": "DOM",
             "props": {
              "className": "interact-flex-row interact-widget"
             },
             "type": "node"
            }
           ],
           "instanceArgs": {
            "handlers": {
             "changes": [
              "(function (val){return (val!=this.model[\"changes\"]()) ? (this.valueFromJulia[\"changes\"]=true, this.model[\"changes\"](val)) : undefined})"
             ],
             "index": [
              "(function (val){return (val!=this.model[\"index\"]()) ? (this.valueFromJulia[\"index\"]=true, this.model[\"index\"](val)) : undefined})"
             ]
            },
            "id": "3340014779579841822",
            "imports": {
             "data": [
              {
               "name": "knockout",
               "type": "js",
               "url": "/assetserver/254160226b58162a42111ea27214076747de1cf2-knockout.js"
              },
              {
               "name": "knockout_punches",
               "type": "js",
               "url": "/assetserver/2d0bf510fb683322318163f3ec7562806e4b1104-knockout_punches.js"
              },
              {
               "name": null,
               "type": "js",
               "url": "/assetserver/6ffcdda43c684da84d2ca5dd2027e4a55c68edac-all.js"
              },
              {
               "name": null,
               "type": "css",
               "url": "/assetserver/b0b44adaed1197b8510174b41f32f09d98a0c28e-style.css"
              },
              {
               "name": null,
               "type": "css",
               "url": "/assetserver/bbb2e3064bd5f6dfcf2f18fbeb52d9320f251632-bulma_confined.min.css"
              }
             ],
             "type": "async_block"
            },
            "mount_callbacks": [
             "function () {\n    var handler = (function (ko, koPunches) {\n    ko.punches.enableAll();\n    ko.bindingHandlers.numericValue = {\n        init: function(element, valueAccessor, allBindings, data, context) {\n            var stringified = ko.observable(ko.unwrap(valueAccessor()));\n            stringified.subscribe(function(value) {\n                var val = parseFloat(value);\n                if (!isNaN(val)) {\n                    valueAccessor()(val);\n                }\n            });\n            valueAccessor().subscribe(function(value) {\n                var str = JSON.stringify(value);\n                if ((str == \"0\") && ([\"-0\", \"-0.\"].indexOf(stringified()) >= 0))\n                     return;\n                 if ([\"null\", \"\"].indexOf(str) >= 0)\n                     return;\n                stringified(str);\n            });\n            ko.applyBindingsToNode(\n                element,\n                {\n                    value: stringified,\n                    valueUpdate: allBindings.get('valueUpdate'),\n                },\n                context,\n            );\n        }\n    };\n    var json_data = {\"formatted_vals\":[\"10\",\"20\",\"30\",\"40\",\"50\",\"60\",\"70\",\"80\",\"90\",\"100\"],\"changes\":WebIO.getval({\"name\":\"changes\",\"scope\":\"3340014779579841822\",\"id\":\"ob_42\",\"type\":\"observable\"}),\"index\":WebIO.getval({\"name\":\"index\",\"scope\":\"3340014779579841822\",\"id\":\"ob_41\",\"type\":\"observable\"})};\n    var self = this;\n    function AppViewModel() {\n        for (var key in json_data) {\n            var el = json_data[key];\n            this[key] = Array.isArray(el) ? ko.observableArray(el) : ko.observable(el);\n        }\n        \n        [this[\"formatted_val\"]=ko.computed(    function(){\n        return this.formatted_vals()[parseInt(this.index())-(1)];\n    }\n,this)]\n        [this[\"changes\"].subscribe((function (val){!(this.valueFromJulia[\"changes\"]) ? (WebIO.setval({\"name\":\"changes\",\"scope\":\"3340014779579841822\",\"id\":\"ob_42\",\"type\":\"observable\"},val)) : undefined; return this.valueFromJulia[\"changes\"]=false}),self),this[\"index\"].subscribe((function (val){!(this.valueFromJulia[\"index\"]) ? (WebIO.setval({\"name\":\"index\",\"scope\":\"3340014779579841822\",\"id\":\"ob_41\",\"type\":\"observable\"},val)) : undefined; return this.valueFromJulia[\"index\"]=false}),self)]\n        \n    }\n    self.model = new AppViewModel();\n    self.valueFromJulia = {};\n    for (var key in json_data) {\n        self.valueFromJulia[key] = false;\n    }\n    ko.applyBindings(self.model, self.dom);\n}\n);\n    (WebIO.importBlock({\"data\":[{\"name\":\"knockout\",\"type\":\"js\",\"url\":\"/assetserver/254160226b58162a42111ea27214076747de1cf2-knockout.js\"},{\"name\":\"knockout_punches\",\"type\":\"js\",\"url\":\"/assetserver/2d0bf510fb683322318163f3ec7562806e4b1104-knockout_punches.js\"}],\"type\":\"async_block\"})).then((imports) => handler.apply(this, imports));\n}\n"
            ],
            "observables": {
             "changes": {
              "id": "ob_42",
              "sync": false,
              "value": 0
             },
             "index": {
              "id": "ob_41",
              "sync": true,
              "value": 5
             }
            },
            "systemjs_options": null
           },
           "nodeType": "Scope",
           "props": {},
           "type": "node"
          }
         ],
         "instanceArgs": {
          "namespace": "html",
          "tag": "div"
         },
         "nodeType": "DOM",
         "props": {
          "className": "field interact-widget"
         },
         "type": "node"
        },
        {
         "children": [
          {
           "children": [
            {
             "children": [
              {
               "children": [
                {
                 "children": [
                  "law_name"
                 ],
                 "instanceArgs": {
                  "namespace": "html",
                  "tag": "label"
                 },
                 "nodeType": "DOM",
                 "props": {
                  "className": "interact ",
                  "style": {
                   "padding": "5px 10px 0px 10px"
                  }
                 },
                 "type": "node"
                }
               ],
               "instanceArgs": {
                "namespace": "html",
                "tag": "div"
               },
               "nodeType": "DOM",
               "props": {
                "className": "interact-flex-row-left"
               },
               "type": "node"
              },
              {
               "children": [
                {
                 "children": [
                  {
                   "children": [
                    {
                     "children": [],
                     "instanceArgs": {
                      "namespace": "html",
                      "tag": "label"
                     },
                     "nodeType": "DOM",
                     "props": {
                      "attributes": {
                       "data-bind": "text : key"
                      }
                     },
                     "type": "node"
                    }
                   ],
                   "instanceArgs": {
                    "namespace": "html",
                    "tag": "span"
                   },
                   "nodeType": "DOM",
                   "props": {
                    "attributes": {
                     "data-bind": "click: function (){$root.update(val)}, css: {'is-primary is-selected' : $root.index() == val, 'interact-widget is-medium button ' : true}"
                    }
                   },
                   "type": "node"
                  }
                 ],
                 "instanceArgs": {
                  "namespace": "html",
                  "tag": "div"
                 },
                 "nodeType": "DOM",
                 "props": {
                  "attributes": {
                   "data-bind": "foreach : options_js"
                  },
                  "className": "buttons has-addons is-centered"
                 },
                 "type": "node"
                }
               ],
               "instanceArgs": {
                "namespace": "html",
                "tag": "div"
               },
               "nodeType": "DOM",
               "props": {
                "className": "interact-flex-row-center"
               },
               "type": "node"
              },
              {
               "children": [
                {
                 "children": [],
                 "instanceArgs": {
                  "namespace": "html",
                  "tag": "div"
                 },
                 "nodeType": "DOM",
                 "props": {},
                 "type": "node"
                }
               ],
               "instanceArgs": {
                "namespace": "html",
                "tag": "div"
               },
               "nodeType": "DOM",
               "props": {
                "className": "interact-flex-row-right"
               },
               "type": "node"
              }
             ],
             "instanceArgs": {
              "namespace": "html",
              "tag": "div"
             },
             "nodeType": "DOM",
             "props": {
              "className": "interact-flex-row interact-widget"
             },
             "type": "node"
            }
           ],
           "instanceArgs": {
            "handlers": {
             "index": [
              "(function (val){return (val!=this.model[\"index\"]()) ? (this.valueFromJulia[\"index\"]=true, this.model[\"index\"](val)) : undefined})"
             ],
             "options_js": [
              "(function (val){return (val!=this.model[\"options_js\"]()) ? (this.valueFromJulia[\"options_js\"]=true, this.model[\"options_js\"](val)) : undefined})"
             ]
            },
            "id": "7198650139252358154",
            "imports": {
             "data": [
              {
               "name": "knockout",
               "type": "js",
               "url": "/assetserver/254160226b58162a42111ea27214076747de1cf2-knockout.js"
              },
              {
               "name": "knockout_punches",
               "type": "js",
               "url": "/assetserver/2d0bf510fb683322318163f3ec7562806e4b1104-knockout_punches.js"
              },
              {
               "name": null,
               "type": "js",
               "url": "/assetserver/6ffcdda43c684da84d2ca5dd2027e4a55c68edac-all.js"
              },
              {
               "name": null,
               "type": "css",
               "url": "/assetserver/b0b44adaed1197b8510174b41f32f09d98a0c28e-style.css"
              },
              {
               "name": null,
               "type": "css",
               "url": "/assetserver/bbb2e3064bd5f6dfcf2f18fbeb52d9320f251632-bulma_confined.min.css"
              }
             ],
             "type": "async_block"
            },
            "mount_callbacks": [
             "function () {\n    var handler = (function (ko, koPunches) {\n    ko.punches.enableAll();\n    ko.bindingHandlers.numericValue = {\n        init: function(element, valueAccessor, allBindings, data, context) {\n            var stringified = ko.observable(ko.unwrap(valueAccessor()));\n            stringified.subscribe(function(value) {\n                var val = parseFloat(value);\n                if (!isNaN(val)) {\n                    valueAccessor()(val);\n                }\n            });\n            valueAccessor().subscribe(function(value) {\n                var str = JSON.stringify(value);\n                if ((str == \"0\") && ([\"-0\", \"-0.\"].indexOf(stringified()) >= 0))\n                     return;\n                 if ([\"null\", \"\"].indexOf(str) >= 0)\n                     return;\n                stringified(str);\n            });\n            ko.applyBindingsToNode(\n                element,\n                {\n                    value: stringified,\n                    valueUpdate: allBindings.get('valueUpdate'),\n                },\n                context,\n            );\n        }\n    };\n    var json_data = {\"options_js\":WebIO.getval({\"name\":\"options_js\",\"scope\":\"7198650139252358154\",\"id\":\"ob_47\",\"type\":\"observable\"}),\"index\":WebIO.getval({\"name\":\"index\",\"scope\":\"7198650139252358154\",\"id\":\"ob_46\",\"type\":\"observable\"})};\n    var self = this;\n    function AppViewModel() {\n        for (var key in json_data) {\n            var el = json_data[key];\n            this[key] = Array.isArray(el) ? ko.observableArray(el) : ko.observable(el);\n        }\n        [this[\"update\"]=function (val) {this.index(val)}]\n        \n        [this[\"options_js\"].subscribe((function (val){!(this.valueFromJulia[\"options_js\"]) ? (WebIO.setval({\"name\":\"options_js\",\"scope\":\"7198650139252358154\",\"id\":\"ob_47\",\"type\":\"observable\"},val)) : undefined; return this.valueFromJulia[\"options_js\"]=false}),self),this[\"index\"].subscribe((function (val){!(this.valueFromJulia[\"index\"]) ? (WebIO.setval({\"name\":\"index\",\"scope\":\"7198650139252358154\",\"id\":\"ob_46\",\"type\":\"observable\"},val)) : undefined; return this.valueFromJulia[\"index\"]=false}),self)]\n        \n    }\n    self.model = new AppViewModel();\n    self.valueFromJulia = {};\n    for (var key in json_data) {\n        self.valueFromJulia[key] = false;\n    }\n    ko.applyBindings(self.model, self.dom);\n}\n);\n    (WebIO.importBlock({\"data\":[{\"name\":\"knockout\",\"type\":\"js\",\"url\":\"/assetserver/254160226b58162a42111ea27214076747de1cf2-knockout.js\"},{\"name\":\"knockout_punches\",\"type\":\"js\",\"url\":\"/assetserver/2d0bf510fb683322318163f3ec7562806e4b1104-knockout_punches.js\"}],\"type\":\"async_block\"})).then((imports) => handler.apply(this, imports));\n}\n"
            ],
            "observables": {
             "index": {
              "id": "ob_46",
              "sync": true,
              "value": 1
             },
             "options_js": {
              "id": "ob_47",
              "sync": false,
              "value": [
               {
                "id": "idikupLfls",
                "key": "Geometric",
                "val": 1
               },
               {
                "id": "id13To2hpL",
                "key": "Exponential",
                "val": 2
               }
              ]
             }
            },
            "systemjs_options": null
           },
           "nodeType": "Scope",
           "props": {},
           "type": "node"
          }
         ],
         "instanceArgs": {
          "namespace": "html",
          "tag": "div"
         },
         "nodeType": "DOM",
         "props": {
          "className": "interact-widget"
         },
         "type": "node"
        },
        {
         "children": [
          {
           "children": [
            {
             "children": [
              {
               "children": [
                {
                 "children": [
                  "q"
                 ],
                 "instanceArgs": {
                  "namespace": "html",
                  "tag": "label"
                 },
                 "nodeType": "DOM",
                 "props": {
                  "className": "interact ",
                  "style": {
                   "padding": "5px 10px 0px 10px"
                  }
                 },
                 "type": "node"
                }
               ],
               "instanceArgs": {
                "namespace": "html",
                "tag": "div"
               },
               "nodeType": "DOM",
               "props": {
                "className": "interact-flex-row-left"
               },
               "type": "node"
              },
              {
               "children": [
                {
                 "children": [],
                 "instanceArgs": {
                  "namespace": "html",
                  "tag": "input"
                 },
                 "nodeType": "DOM",
                 "props": {
                  "attributes": {
                   "data-bind": "numericValue: index, valueUpdate: 'input', event: {change: function (){this.changes(this.changes()+1)}}",
                   "orient": "horizontal",
                   "type": "range"
                  },
                  "className": "slider slider is-fullwidth",
                  "max": 9,
                  "min": 1,
                  "step": 1,
                  "style": {}
                 },
                 "type": "node"
                }
               ],
               "instanceArgs": {
                "namespace": "html",
                "tag": "div"
               },
               "nodeType": "DOM",
               "props": {
                "className": "interact-flex-row-center"
               },
               "type": "node"
              },
              {
               "children": [
                {
                 "children": [],
                 "instanceArgs": {
                  "namespace": "html",
                  "tag": "p"
                 },
                 "nodeType": "DOM",
                 "props": {
                  "attributes": {
                   "data-bind": "text: formatted_val"
                  }
                 },
                 "type": "node"
                }
               ],
               "instanceArgs": {
                "namespace": "html",
                "tag": "div"
               },
               "nodeType": "DOM",
               "props": {
                "className": "interact-flex-row-right"
               },
               "type": "node"
              }
             ],
             "instanceArgs": {
              "namespace": "html",
              "tag": "div"
             },
             "nodeType": "DOM",
             "props": {
              "className": "interact-flex-row interact-widget"
             },
             "type": "node"
            }
           ],
           "instanceArgs": {
            "handlers": {
             "changes": [
              "(function (val){return (val!=this.model[\"changes\"]()) ? (this.valueFromJulia[\"changes\"]=true, this.model[\"changes\"](val)) : undefined})"
             ],
             "index": [
              "(function (val){return (val!=this.model[\"index\"]()) ? (this.valueFromJulia[\"index\"]=true, this.model[\"index\"](val)) : undefined})"
             ]
            },
            "id": "3701845850066359653",
            "imports": {
             "data": [
              {
               "name": "knockout",
               "type": "js",
               "url": "/assetserver/254160226b58162a42111ea27214076747de1cf2-knockout.js"
              },
              {
               "name": "knockout_punches",
               "type": "js",
               "url": "/assetserver/2d0bf510fb683322318163f3ec7562806e4b1104-knockout_punches.js"
              },
              {
               "name": null,
               "type": "js",
               "url": "/assetserver/6ffcdda43c684da84d2ca5dd2027e4a55c68edac-all.js"
              },
              {
               "name": null,
               "type": "css",
               "url": "/assetserver/b0b44adaed1197b8510174b41f32f09d98a0c28e-style.css"
              },
              {
               "name": null,
               "type": "css",
               "url": "/assetserver/bbb2e3064bd5f6dfcf2f18fbeb52d9320f251632-bulma_confined.min.css"
              }
             ],
             "type": "async_block"
            },
            "mount_callbacks": [
             "function () {\n    var handler = (function (ko, koPunches) {\n    ko.punches.enableAll();\n    ko.bindingHandlers.numericValue = {\n        init: function(element, valueAccessor, allBindings, data, context) {\n            var stringified = ko.observable(ko.unwrap(valueAccessor()));\n            stringified.subscribe(function(value) {\n                var val = parseFloat(value);\n                if (!isNaN(val)) {\n                    valueAccessor()(val);\n                }\n            });\n            valueAccessor().subscribe(function(value) {\n                var str = JSON.stringify(value);\n                if ((str == \"0\") && ([\"-0\", \"-0.\"].indexOf(stringified()) >= 0))\n                     return;\n                 if ([\"null\", \"\"].indexOf(str) >= 0)\n                     return;\n                stringified(str);\n            });\n            ko.applyBindingsToNode(\n                element,\n                {\n                    value: stringified,\n                    valueUpdate: allBindings.get('valueUpdate'),\n                },\n                context,\n            );\n        }\n    };\n    var json_data = {\"formatted_vals\":[\"0.1\",\"0.2\",\"0.3\",\"0.4\",\"0.5\",\"0.6\",\"0.7\",\"0.8\",\"0.9\"],\"changes\":WebIO.getval({\"name\":\"changes\",\"scope\":\"3701845850066359653\",\"id\":\"ob_50\",\"type\":\"observable\"}),\"index\":WebIO.getval({\"name\":\"index\",\"scope\":\"3701845850066359653\",\"id\":\"ob_49\",\"type\":\"observable\"})};\n    var self = this;\n    function AppViewModel() {\n        for (var key in json_data) {\n            var el = json_data[key];\n            this[key] = Array.isArray(el) ? ko.observableArray(el) : ko.observable(el);\n        }\n        \n        [this[\"formatted_val\"]=ko.computed(    function(){\n        return this.formatted_vals()[parseInt(this.index())-(1)];\n    }\n,this)]\n        [this[\"changes\"].subscribe((function (val){!(this.valueFromJulia[\"changes\"]) ? (WebIO.setval({\"name\":\"changes\",\"scope\":\"3701845850066359653\",\"id\":\"ob_50\",\"type\":\"observable\"},val)) : undefined; return this.valueFromJulia[\"changes\"]=false}),self),this[\"index\"].subscribe((function (val){!(this.valueFromJulia[\"index\"]) ? (WebIO.setval({\"name\":\"index\",\"scope\":\"3701845850066359653\",\"id\":\"ob_49\",\"type\":\"observable\"},val)) : undefined; return this.valueFromJulia[\"index\"]=false}),self)]\n        \n    }\n    self.model = new AppViewModel();\n    self.valueFromJulia = {};\n    for (var key in json_data) {\n        self.valueFromJulia[key] = false;\n    }\n    ko.applyBindings(self.model, self.dom);\n}\n);\n    (WebIO.importBlock({\"data\":[{\"name\":\"knockout\",\"type\":\"js\",\"url\":\"/assetserver/254160226b58162a42111ea27214076747de1cf2-knockout.js\"},{\"name\":\"knockout_punches\",\"type\":\"js\",\"url\":\"/assetserver/2d0bf510fb683322318163f3ec7562806e4b1104-knockout_punches.js\"}],\"type\":\"async_block\"})).then((imports) => handler.apply(this, imports));\n}\n"
            ],
            "observables": {
             "changes": {
              "id": "ob_50",
              "sync": false,
              "value": 0
             },
             "index": {
              "id": "ob_49",
              "sync": true,
              "value": 5
             }
            },
            "systemjs_options": null
           },
           "nodeType": "Scope",
           "props": {},
           "type": "node"
          }
         ],
         "instanceArgs": {
          "namespace": "html",
          "tag": "div"
         },
         "nodeType": "DOM",
         "props": {
          "className": "field interact-widget"
         },
         "type": "node"
        },
        {
         "children": [
          {
           "children": [
            {
             "children": [
              {
               "children": [
                {
                 "children": [
                  "λ"
                 ],
                 "instanceArgs": {
                  "namespace": "html",
                  "tag": "label"
                 },
                 "nodeType": "DOM",
                 "props": {
                  "className": "interact ",
                  "style": {
                   "padding": "5px 10px 0px 10px"
                  }
                 },
                 "type": "node"
                }
               ],
               "instanceArgs": {
                "namespace": "html",
                "tag": "div"
               },
               "nodeType": "DOM",
               "props": {
                "className": "interact-flex-row-left"
               },
               "type": "node"
              },
              {
               "children": [
                {
                 "children": [],
                 "instanceArgs": {
                  "namespace": "html",
                  "tag": "input"
                 },
                 "nodeType": "DOM",
                 "props": {
                  "attributes": {
                   "data-bind": "numericValue: index, valueUpdate: 'input', event: {change: function (){this.changes(this.changes()+1)}}",
                   "orient": "horizontal",
                   "type": "range"
                  },
                  "className": "slider slider is-fullwidth",
                  "max": 10,
                  "min": 1,
                  "step": 1,
                  "style": {}
                 },
                 "type": "node"
                }
               ],
               "instanceArgs": {
                "namespace": "html",
                "tag": "div"
               },
               "nodeType": "DOM",
               "props": {
                "className": "interact-flex-row-center"
               },
               "type": "node"
              },
              {
               "children": [
                {
                 "children": [],
                 "instanceArgs": {
                  "namespace": "html",
                  "tag": "p"
                 },
                 "nodeType": "DOM",
                 "props": {
                  "attributes": {
                   "data-bind": "text: formatted_val"
                  }
                 },
                 "type": "node"
                }
               ],
               "instanceArgs": {
                "namespace": "html",
                "tag": "div"
               },
               "nodeType": "DOM",
               "props": {
                "className": "interact-flex-row-right"
               },
               "type": "node"
              }
             ],
             "instanceArgs": {
              "namespace": "html",
              "tag": "div"
             },
             "nodeType": "DOM",
             "props": {
              "className": "interact-flex-row interact-widget"
             },
             "type": "node"
            }
           ],
           "instanceArgs": {
            "handlers": {
             "changes": [
              "(function (val){return (val!=this.model[\"changes\"]()) ? (this.valueFromJulia[\"changes\"]=true, this.model[\"changes\"](val)) : undefined})"
             ],
             "index": [
              "(function (val){return (val!=this.model[\"index\"]()) ? (this.valueFromJulia[\"index\"]=true, this.model[\"index\"](val)) : undefined})"
             ]
            },
            "id": "210609206460918608",
            "imports": {
             "data": [
              {
               "name": "knockout",
               "type": "js",
               "url": "/assetserver/254160226b58162a42111ea27214076747de1cf2-knockout.js"
              },
              {
               "name": "knockout_punches",
               "type": "js",
               "url": "/assetserver/2d0bf510fb683322318163f3ec7562806e4b1104-knockout_punches.js"
              },
              {
               "name": null,
               "type": "js",
               "url": "/assetserver/6ffcdda43c684da84d2ca5dd2027e4a55c68edac-all.js"
              },
              {
               "name": null,
               "type": "css",
               "url": "/assetserver/b0b44adaed1197b8510174b41f32f09d98a0c28e-style.css"
              },
              {
               "name": null,
               "type": "css",
               "url": "/assetserver/bbb2e3064bd5f6dfcf2f18fbeb52d9320f251632-bulma_confined.min.css"
              }
             ],
             "type": "async_block"
            },
            "mount_callbacks": [
             "function () {\n    var handler = (function (ko, koPunches) {\n    ko.punches.enableAll();\n    ko.bindingHandlers.numericValue = {\n        init: function(element, valueAccessor, allBindings, data, context) {\n            var stringified = ko.observable(ko.unwrap(valueAccessor()));\n            stringified.subscribe(function(value) {\n                var val = parseFloat(value);\n                if (!isNaN(val)) {\n                    valueAccessor()(val);\n                }\n            });\n            valueAccessor().subscribe(function(value) {\n                var str = JSON.stringify(value);\n                if ((str == \"0\") && ([\"-0\", \"-0.\"].indexOf(stringified()) >= 0))\n                     return;\n                 if ([\"null\", \"\"].indexOf(str) >= 0)\n                     return;\n                stringified(str);\n            });\n            ko.applyBindingsToNode(\n                element,\n                {\n                    value: stringified,\n                    valueUpdate: allBindings.get('valueUpdate'),\n                },\n                context,\n            );\n        }\n    };\n    var json_data = {\"formatted_vals\":[\"1\",\"2\",\"3\",\"4\",\"5\",\"6\",\"7\",\"8\",\"9\",\"10\"],\"changes\":WebIO.getval({\"name\":\"changes\",\"scope\":\"210609206460918608\",\"id\":\"ob_52\",\"type\":\"observable\"}),\"index\":WebIO.getval({\"name\":\"index\",\"scope\":\"210609206460918608\",\"id\":\"ob_51\",\"type\":\"observable\"})};\n    var self = this;\n    function AppViewModel() {\n        for (var key in json_data) {\n            var el = json_data[key];\n            this[key] = Array.isArray(el) ? ko.observableArray(el) : ko.observable(el);\n        }\n        \n        [this[\"formatted_val\"]=ko.computed(    function(){\n        return this.formatted_vals()[parseInt(this.index())-(1)];\n    }\n,this)]\n        [this[\"changes\"].subscribe((function (val){!(this.valueFromJulia[\"changes\"]) ? (WebIO.setval({\"name\":\"changes\",\"scope\":\"210609206460918608\",\"id\":\"ob_52\",\"type\":\"observable\"},val)) : undefined; return this.valueFromJulia[\"changes\"]=false}),self),this[\"index\"].subscribe((function (val){!(this.valueFromJulia[\"index\"]) ? (WebIO.setval({\"name\":\"index\",\"scope\":\"210609206460918608\",\"id\":\"ob_51\",\"type\":\"observable\"},val)) : undefined; return this.valueFromJulia[\"index\"]=false}),self)]\n        \n    }\n    self.model = new AppViewModel();\n    self.valueFromJulia = {};\n    for (var key in json_data) {\n        self.valueFromJulia[key] = false;\n    }\n    ko.applyBindings(self.model, self.dom);\n}\n);\n    (WebIO.importBlock({\"data\":[{\"name\":\"knockout\",\"type\":\"js\",\"url\":\"/assetserver/254160226b58162a42111ea27214076747de1cf2-knockout.js\"},{\"name\":\"knockout_punches\",\"type\":\"js\",\"url\":\"/assetserver/2d0bf510fb683322318163f3ec7562806e4b1104-knockout_punches.js\"}],\"type\":\"async_block\"})).then((imports) => handler.apply(this, imports));\n}\n"
            ],
            "observables": {
             "changes": {
              "id": "ob_52",
              "sync": false,
              "value": 0
             },
             "index": {
              "id": "ob_51",
              "sync": true,
              "value": 5
             }
            },
            "systemjs_options": null
           },
           "nodeType": "Scope",
           "props": {},
           "type": "node"
          }
         ],
         "instanceArgs": {
          "namespace": "html",
          "tag": "div"
         },
         "nodeType": "DOM",
         "props": {
          "className": "field interact-widget"
         },
         "type": "node"
        },
        {
         "children": [
          {
           "children": [],
           "instanceArgs": {
            "id": "ob_58",
            "name": "obs-node"
           },
           "nodeType": "ObservableNode",
           "props": {},
           "type": "node"
          }
         ],
         "instanceArgs": {
          "handlers": {},
          "id": "5829214322457583166",
          "imports": {
           "data": [],
           "type": "async_block"
          },
          "mount_callbacks": [],
          "observables": {
           "obs-node": {
            "id": "ob_58",
            "sync": false,
            "value": {
             "children": [
              {
               "children": [],
               "instanceArgs": {
                "namespace": "html",
                "tag": "div"
               },
               "nodeType": "DOM",
               "props": {
                "setInnerHtml": "<?xml version=\"1.0\" encoding=\"utf-8\"?>\n<svg xmlns=\"http://www.w3.org/2000/svg\" xmlns:xlink=\"http://www.w3.org/1999/xlink\" width=\"600\" height=\"400\" viewBox=\"0 0 2400 1600\">\n<defs>\n  <clipPath id=\"clip8400\">\n    <rect x=\"0\" y=\"0\" width=\"2400\" height=\"1600\"/>\n  </clipPath>\n</defs>\n<path clip-path=\"url(#clip8400)\" d=\"\nM0 1600 L2400 1600 L2400 0 L0 0  Z\n  \" fill=\"#ffffff\" fill-rule=\"evenodd\" fill-opacity=\"1\"/>\n<defs>\n  <clipPath id=\"clip8401\">\n    <rect x=\"480\" y=\"0\" width=\"1681\" height=\"1600\"/>\n  </clipPath>\n</defs>\n<path clip-path=\"url(#clip8400)\" d=\"\nM153.898 1487.47 L2352.76 1487.47 L2352.76 47.2441 L153.898 47.2441  Z\n  \" fill=\"#ffffff\" fill-rule=\"evenodd\" fill-opacity=\"1\"/>\n<defs>\n  <clipPath id=\"clip8402\">\n    <rect x=\"153\" y=\"47\" width=\"2200\" height=\"1441\"/>\n  </clipPath>\n</defs>\n<polyline clip-path=\"url(#clip8402)\" style=\"stroke:#000000; stroke-width:2; stroke-opacity:0.1; fill:none\" points=\"\n  388.996,1487.47 388.996,47.2441 \n  \"/>\n<polyline clip-path=\"url(#clip8402)\" style=\"stroke:#000000; stroke-width:2; stroke-opacity:0.1; fill:none\" points=\"\n  821.161,1487.47 821.161,47.2441 \n  \"/>\n<polyline clip-path=\"url(#clip8402)\" style=\"stroke:#000000; stroke-width:2; stroke-opacity:0.1; fill:none\" points=\"\n  1253.33,1487.47 1253.33,47.2441 \n  \"/>\n<polyline clip-path=\"url(#clip8402)\" style=\"stroke:#000000; stroke-width:2; stroke-opacity:0.1; fill:none\" points=\"\n  1685.49,1487.47 1685.49,47.2441 \n  \"/>\n<polyline clip-path=\"url(#clip8402)\" style=\"stroke:#000000; stroke-width:2; stroke-opacity:0.1; fill:none\" points=\"\n  2117.66,1487.47 2117.66,47.2441 \n  \"/>\n<polyline clip-path=\"url(#clip8402)\" style=\"stroke:#000000; stroke-width:2; stroke-opacity:0.1; fill:none\" points=\"\n  153.898,1446.71 2352.76,1446.71 \n  \"/>\n<polyline clip-path=\"url(#clip8402)\" style=\"stroke:#000000; stroke-width:2; stroke-opacity:0.1; fill:none\" points=\"\n  153.898,1242.91 2352.76,1242.91 \n  \"/>\n<polyline clip-path=\"url(#clip8402)\" style=\"stroke:#000000; stroke-width:2; stroke-opacity:0.1; fill:none\" points=\"\n  153.898,1039.1 2352.76,1039.1 \n  \"/>\n<polyline clip-path=\"url(#clip8402)\" style=\"stroke:#000000; stroke-width:2; stroke-opacity:0.1; fill:none\" points=\"\n  153.898,835.295 2352.76,835.295 \n  \"/>\n<polyline clip-path=\"url(#clip8402)\" style=\"stroke:#000000; stroke-width:2; stroke-opacity:0.1; fill:none\" points=\"\n  153.898,631.489 2352.76,631.489 \n  \"/>\n<polyline clip-path=\"url(#clip8402)\" style=\"stroke:#000000; stroke-width:2; stroke-opacity:0.1; fill:none\" points=\"\n  153.898,427.682 2352.76,427.682 \n  \"/>\n<polyline clip-path=\"url(#clip8402)\" style=\"stroke:#000000; stroke-width:2; stroke-opacity:0.1; fill:none\" points=\"\n  153.898,223.876 2352.76,223.876 \n  \"/>\n<polyline clip-path=\"url(#clip8400)\" style=\"stroke:#000000; stroke-width:4; stroke-opacity:1; fill:none\" points=\"\n  153.898,1487.47 2352.76,1487.47 \n  \"/>\n<polyline clip-path=\"url(#clip8400)\" style=\"stroke:#000000; stroke-width:4; stroke-opacity:1; fill:none\" points=\"\n  153.898,1487.47 153.898,47.2441 \n  \"/>\n<polyline clip-path=\"url(#clip8400)\" style=\"stroke:#000000; stroke-width:4; stroke-opacity:1; fill:none\" points=\"\n  388.996,1487.47 388.996,1465.87 \n  \"/>\n<polyline clip-path=\"url(#clip8400)\" style=\"stroke:#000000; stroke-width:4; stroke-opacity:1; fill:none\" points=\"\n  821.161,1487.47 821.161,1465.87 \n  \"/>\n<polyline clip-path=\"url(#clip8400)\" style=\"stroke:#000000; stroke-width:4; stroke-opacity:1; fill:none\" points=\"\n  1253.33,1487.47 1253.33,1465.87 \n  \"/>\n<polyline clip-path=\"url(#clip8400)\" style=\"stroke:#000000; stroke-width:4; stroke-opacity:1; fill:none\" points=\"\n  1685.49,1487.47 1685.49,1465.87 \n  \"/>\n<polyline clip-path=\"url(#clip8400)\" style=\"stroke:#000000; stroke-width:4; stroke-opacity:1; fill:none\" points=\"\n  2117.66,1487.47 2117.66,1465.87 \n  \"/>\n<polyline clip-path=\"url(#clip8400)\" style=\"stroke:#000000; stroke-width:4; stroke-opacity:1; fill:none\" points=\"\n  153.898,1446.71 186.881,1446.71 \n  \"/>\n<polyline clip-path=\"url(#clip8400)\" style=\"stroke:#000000; stroke-width:4; stroke-opacity:1; fill:none\" points=\"\n  153.898,1242.91 186.881,1242.91 \n  \"/>\n<polyline clip-path=\"url(#clip8400)\" style=\"stroke:#000000; stroke-width:4; stroke-opacity:1; fill:none\" points=\"\n  153.898,1039.1 186.881,1039.1 \n  \"/>\n<polyline clip-path=\"url(#clip8400)\" style=\"stroke:#000000; stroke-width:4; stroke-opacity:1; fill:none\" points=\"\n  153.898,835.295 186.881,835.295 \n  \"/>\n<polyline clip-path=\"url(#clip8400)\" style=\"stroke:#000000; stroke-width:4; stroke-opacity:1; fill:none\" points=\"\n  153.898,631.489 186.881,631.489 \n  \"/>\n<polyline clip-path=\"url(#clip8400)\" style=\"stroke:#000000; stroke-width:4; stroke-opacity:1; fill:none\" points=\"\n  153.898,427.682 186.881,427.682 \n  \"/>\n<polyline clip-path=\"url(#clip8400)\" style=\"stroke:#000000; stroke-width:4; stroke-opacity:1; fill:none\" points=\"\n  153.898,223.876 186.881,223.876 \n  \"/>\n<g clip-path=\"url(#clip8400)\">\n<text style=\"fill:#000000; fill-opacity:1; font-family:Arial,Helvetica Neue,Helvetica,sans-serif; font-size:48px; text-anchor:middle;\" transform=\"rotate(0, 388.996, 1541.47)\" x=\"388.996\" y=\"1541.47\">-5.0</text>\n</g>\n<g clip-path=\"url(#clip8400)\">\n<text style=\"fill:#000000; fill-opacity:1; font-family:Arial,Helvetica Neue,Helvetica,sans-serif; font-size:48px; text-anchor:middle;\" transform=\"rotate(0, 821.161, 1541.47)\" x=\"821.161\" y=\"1541.47\">-2.5</text>\n</g>\n<g clip-path=\"url(#clip8400)\">\n<text style=\"fill:#000000; fill-opacity:1; font-family:Arial,Helvetica Neue,Helvetica,sans-serif; font-size:48px; text-anchor:middle;\" transform=\"rotate(0, 1253.33, 1541.47)\" x=\"1253.33\" y=\"1541.47\">0.0</text>\n</g>\n<g clip-path=\"url(#clip8400)\">\n<text style=\"fill:#000000; fill-opacity:1; font-family:Arial,Helvetica Neue,Helvetica,sans-serif; font-size:48px; text-anchor:middle;\" transform=\"rotate(0, 1685.49, 1541.47)\" x=\"1685.49\" y=\"1541.47\">2.5</text>\n</g>\n<g clip-path=\"url(#clip8400)\">\n<text style=\"fill:#000000; fill-opacity:1; font-family:Arial,Helvetica Neue,Helvetica,sans-serif; font-size:48px; text-anchor:middle;\" transform=\"rotate(0, 2117.66, 1541.47)\" x=\"2117.66\" y=\"1541.47\">5.0</text>\n</g>\n<g clip-path=\"url(#clip8400)\">\n<text style=\"fill:#000000; fill-opacity:1; font-family:Arial,Helvetica Neue,Helvetica,sans-serif; font-size:48px; text-anchor:end;\" transform=\"rotate(0, 129.898, 1464.21)\" x=\"129.898\" y=\"1464.21\">0.0</text>\n</g>\n<g clip-path=\"url(#clip8400)\">\n<text style=\"fill:#000000; fill-opacity:1; font-family:Arial,Helvetica Neue,Helvetica,sans-serif; font-size:48px; text-anchor:end;\" transform=\"rotate(0, 129.898, 1260.41)\" x=\"129.898\" y=\"1260.41\">0.1</text>\n</g>\n<g clip-path=\"url(#clip8400)\">\n<text style=\"fill:#000000; fill-opacity:1; font-family:Arial,Helvetica Neue,Helvetica,sans-serif; font-size:48px; text-anchor:end;\" transform=\"rotate(0, 129.898, 1056.6)\" x=\"129.898\" y=\"1056.6\">0.2</text>\n</g>\n<g clip-path=\"url(#clip8400)\">\n<text style=\"fill:#000000; fill-opacity:1; font-family:Arial,Helvetica Neue,Helvetica,sans-serif; font-size:48px; text-anchor:end;\" transform=\"rotate(0, 129.898, 852.795)\" x=\"129.898\" y=\"852.795\">0.3</text>\n</g>\n<g clip-path=\"url(#clip8400)\">\n<text style=\"fill:#000000; fill-opacity:1; font-family:Arial,Helvetica Neue,Helvetica,sans-serif; font-size:48px; text-anchor:end;\" transform=\"rotate(0, 129.898, 648.989)\" x=\"129.898\" y=\"648.989\">0.4</text>\n</g>\n<g clip-path=\"url(#clip8400)\">\n<text style=\"fill:#000000; fill-opacity:1; font-family:Arial,Helvetica Neue,Helvetica,sans-serif; font-size:48px; text-anchor:end;\" transform=\"rotate(0, 129.898, 445.182)\" x=\"129.898\" y=\"445.182\">0.5</text>\n</g>\n<g clip-path=\"url(#clip8400)\">\n<text style=\"fill:#000000; fill-opacity:1; font-family:Arial,Helvetica Neue,Helvetica,sans-serif; font-size:48px; text-anchor:end;\" transform=\"rotate(0, 129.898, 241.376)\" x=\"129.898\" y=\"241.376\">0.6</text>\n</g>\n<path clip-path=\"url(#clip8402)\" d=\"\nM388.996 1446.71 L388.996 1446.71 L423.569 1446.71 L423.569 1446.71 L388.996 1446.71 L388.996 1446.71  Z\n  \" fill=\"#009af9\" fill-rule=\"evenodd\" fill-opacity=\"1\"/>\n<polyline clip-path=\"url(#clip8402)\" style=\"stroke:#000000; stroke-width:4; stroke-opacity:1; fill:none\" points=\"\n  388.996,1446.71 388.996,1446.71 423.569,1446.71 388.996,1446.71 \n  \"/>\n<path clip-path=\"url(#clip8402)\" d=\"\nM423.569 1446.71 L423.569 1446.71 L458.142 1446.71 L458.142 1446.71 L423.569 1446.71 L423.569 1446.71  Z\n  \" fill=\"#009af9\" fill-rule=\"evenodd\" fill-opacity=\"1\"/>\n<polyline clip-path=\"url(#clip8402)\" style=\"stroke:#000000; stroke-width:4; stroke-opacity:1; fill:none\" points=\"\n  423.569,1446.71 423.569,1446.71 458.142,1446.71 423.569,1446.71 \n  \"/>\n<path clip-path=\"url(#clip8402)\" d=\"\nM458.142 1446.71 L458.142 1446.71 L492.716 1446.71 L492.716 1446.71 L458.142 1446.71 L458.142 1446.71  Z\n  \" fill=\"#009af9\" fill-rule=\"evenodd\" fill-opacity=\"1\"/>\n<polyline clip-path=\"url(#clip8402)\" style=\"stroke:#000000; stroke-width:4; stroke-opacity:1; fill:none\" points=\"\n  458.142,1446.71 458.142,1446.71 492.716,1446.71 458.142,1446.71 \n  \"/>\n<path clip-path=\"url(#clip8402)\" d=\"\nM492.716 1412.75 L492.716 1446.71 L527.289 1446.71 L527.289 1412.75 L492.716 1412.75 L492.716 1412.75  Z\n  \" fill=\"#009af9\" fill-rule=\"evenodd\" fill-opacity=\"1\"/>\n<polyline clip-path=\"url(#clip8402)\" style=\"stroke:#000000; stroke-width:4; stroke-opacity:1; fill:none\" points=\"\n  492.716,1412.75 492.716,1446.71 527.289,1446.71 527.289,1412.75 492.716,1412.75 \n  \"/>\n<path clip-path=\"url(#clip8402)\" d=\"\nM527.289 1412.75 L527.289 1446.71 L561.862 1446.71 L561.862 1412.75 L527.289 1412.75 L527.289 1412.75  Z\n  \" fill=\"#009af9\" fill-rule=\"evenodd\" fill-opacity=\"1\"/>\n<polyline clip-path=\"url(#clip8402)\" style=\"stroke:#000000; stroke-width:4; stroke-opacity:1; fill:none\" points=\"\n  527.289,1412.75 527.289,1446.71 561.862,1446.71 561.862,1412.75 527.289,1412.75 \n  \"/>\n<path clip-path=\"url(#clip8402)\" d=\"\nM561.862 1378.78 L561.862 1446.71 L596.435 1446.71 L596.435 1378.78 L561.862 1378.78 L561.862 1378.78  Z\n  \" fill=\"#009af9\" fill-rule=\"evenodd\" fill-opacity=\"1\"/>\n<polyline clip-path=\"url(#clip8402)\" style=\"stroke:#000000; stroke-width:4; stroke-opacity:1; fill:none\" points=\"\n  561.862,1378.78 561.862,1446.71 596.435,1446.71 596.435,1378.78 561.862,1378.78 \n  \"/>\n<path clip-path=\"url(#clip8402)\" d=\"\nM596.435 1344.81 L596.435 1446.71 L631.009 1446.71 L631.009 1344.81 L596.435 1344.81 L596.435 1344.81  Z\n  \" fill=\"#009af9\" fill-rule=\"evenodd\" fill-opacity=\"1\"/>\n<polyline clip-path=\"url(#clip8402)\" style=\"stroke:#000000; stroke-width:4; stroke-opacity:1; fill:none\" points=\"\n  596.435,1344.81 596.435,1446.71 631.009,1446.71 631.009,1344.81 596.435,1344.81 \n  \"/>\n<path clip-path=\"url(#clip8402)\" d=\"\nM631.009 1344.81 L631.009 1446.71 L665.582 1446.71 L665.582 1344.81 L631.009 1344.81 L631.009 1344.81  Z\n  \" fill=\"#009af9\" fill-rule=\"evenodd\" fill-opacity=\"1\"/>\n<polyline clip-path=\"url(#clip8402)\" style=\"stroke:#000000; stroke-width:4; stroke-opacity:1; fill:none\" points=\"\n  631.009,1344.81 631.009,1446.71 665.582,1446.71 665.582,1344.81 631.009,1344.81 \n  \"/>\n<path clip-path=\"url(#clip8402)\" d=\"\nM665.582 1310.84 L665.582 1446.71 L700.155 1446.71 L700.155 1310.84 L665.582 1310.84 L665.582 1310.84  Z\n  \" fill=\"#009af9\" fill-rule=\"evenodd\" fill-opacity=\"1\"/>\n<polyline clip-path=\"url(#clip8402)\" style=\"stroke:#000000; stroke-width:4; stroke-opacity:1; fill:none\" points=\"\n  665.582,1310.84 665.582,1446.71 700.155,1446.71 700.155,1310.84 665.582,1310.84 \n  \"/>\n<path clip-path=\"url(#clip8402)\" d=\"\nM700.155 1141 L700.155 1446.71 L734.728 1446.71 L734.728 1141 L700.155 1141 L700.155 1141  Z\n  \" fill=\"#009af9\" fill-rule=\"evenodd\" fill-opacity=\"1\"/>\n<polyline clip-path=\"url(#clip8402)\" style=\"stroke:#000000; stroke-width:4; stroke-opacity:1; fill:none\" points=\"\n  700.155,1141 700.155,1446.71 734.728,1446.71 734.728,1141 700.155,1141 \n  \"/>\n<path clip-path=\"url(#clip8402)\" d=\"\nM734.728 1174.97 L734.728 1446.71 L769.302 1446.71 L769.302 1174.97 L734.728 1174.97 L734.728 1174.97  Z\n  \" fill=\"#009af9\" fill-rule=\"evenodd\" fill-opacity=\"1\"/>\n<polyline clip-path=\"url(#clip8402)\" style=\"stroke:#000000; stroke-width:4; stroke-opacity:1; fill:none\" points=\"\n  734.728,1174.97 734.728,1446.71 769.302,1446.71 769.302,1174.97 734.728,1174.97 \n  \"/>\n<path clip-path=\"url(#clip8402)\" d=\"\nM769.302 767.359 L769.302 1446.71 L803.875 1446.71 L803.875 767.359 L769.302 767.359 L769.302 767.359  Z\n  \" fill=\"#009af9\" fill-rule=\"evenodd\" fill-opacity=\"1\"/>\n<polyline clip-path=\"url(#clip8402)\" style=\"stroke:#000000; stroke-width:4; stroke-opacity:1; fill:none\" points=\"\n  769.302,767.359 769.302,1446.71 803.875,1446.71 803.875,767.359 769.302,767.359 \n  \"/>\n<path clip-path=\"url(#clip8402)\" d=\"\nM803.875 835.295 L803.875 1446.71 L838.448 1446.71 L838.448 835.295 L803.875 835.295 L803.875 835.295  Z\n  \" fill=\"#009af9\" fill-rule=\"evenodd\" fill-opacity=\"1\"/>\n<polyline clip-path=\"url(#clip8402)\" style=\"stroke:#000000; stroke-width:4; stroke-opacity:1; fill:none\" points=\"\n  803.875,835.295 803.875,1446.71 838.448,1446.71 838.448,835.295 803.875,835.295 \n  \"/>\n<path clip-path=\"url(#clip8402)\" d=\"\nM838.448 699.424 L838.448 1446.71 L873.021 1446.71 L873.021 699.424 L838.448 699.424 L838.448 699.424  Z\n  \" fill=\"#009af9\" fill-rule=\"evenodd\" fill-opacity=\"1\"/>\n<polyline clip-path=\"url(#clip8402)\" style=\"stroke:#000000; stroke-width:4; stroke-opacity:1; fill:none\" points=\"\n  838.448,699.424 838.448,1446.71 873.021,1446.71 873.021,699.424 838.448,699.424 \n  \"/>\n<path clip-path=\"url(#clip8402)\" d=\"\nM873.021 427.682 L873.021 1446.71 L907.595 1446.71 L907.595 427.682 L873.021 427.682 L873.021 427.682  Z\n  \" fill=\"#009af9\" fill-rule=\"evenodd\" fill-opacity=\"1\"/>\n<polyline clip-path=\"url(#clip8402)\" style=\"stroke:#000000; stroke-width:4; stroke-opacity:1; fill:none\" points=\"\n  873.021,427.682 873.021,1446.71 907.595,1446.71 907.595,427.682 873.021,427.682 \n  \"/>\n<path clip-path=\"url(#clip8402)\" d=\"\nM907.595 88.0053 L907.595 1446.71 L942.168 1446.71 L942.168 88.0053 L907.595 88.0053 L907.595 88.0053  Z\n  \" fill=\"#009af9\" fill-rule=\"evenodd\" fill-opacity=\"1\"/>\n<polyline clip-path=\"url(#clip8402)\" style=\"stroke:#000000; stroke-width:4; stroke-opacity:1; fill:none\" points=\"\n  907.595,88.0053 907.595,1446.71 942.168,1446.71 942.168,88.0053 907.595,88.0053 \n  \"/>\n<path clip-path=\"url(#clip8402)\" d=\"\nM942.168 1174.97 L942.168 1446.71 L976.741 1446.71 L976.741 1174.97 L942.168 1174.97 L942.168 1174.97  Z\n  \" fill=\"#009af9\" fill-rule=\"evenodd\" fill-opacity=\"1\"/>\n<polyline clip-path=\"url(#clip8402)\" style=\"stroke:#000000; stroke-width:4; stroke-opacity:1; fill:none\" points=\"\n  942.168,1174.97 942.168,1446.71 976.741,1446.71 976.741,1174.97 942.168,1174.97 \n  \"/>\n<path clip-path=\"url(#clip8402)\" d=\"\nM976.741 495.618 L976.741 1446.71 L1011.31 1446.71 L1011.31 495.618 L976.741 495.618 L976.741 495.618  Z\n  \" fill=\"#009af9\" fill-rule=\"evenodd\" fill-opacity=\"1\"/>\n<polyline clip-path=\"url(#clip8402)\" style=\"stroke:#000000; stroke-width:4; stroke-opacity:1; fill:none\" points=\"\n  976.741,495.618 976.741,1446.71 1011.31,1446.71 1011.31,495.618 976.741,495.618 \n  \"/>\n<path clip-path=\"url(#clip8402)\" d=\"\nM1011.31 597.521 L1011.31 1446.71 L1045.89 1446.71 L1045.89 597.521 L1011.31 597.521 L1011.31 597.521  Z\n  \" fill=\"#009af9\" fill-rule=\"evenodd\" fill-opacity=\"1\"/>\n<polyline clip-path=\"url(#clip8402)\" style=\"stroke:#000000; stroke-width:4; stroke-opacity:1; fill:none\" points=\"\n  1011.31,597.521 1011.31,1446.71 1045.89,1446.71 1045.89,597.521 1011.31,597.521 \n  \"/>\n<path clip-path=\"url(#clip8402)\" d=\"\nM1045.89 665.456 L1045.89 1446.71 L1080.46 1446.71 L1080.46 665.456 L1045.89 665.456 L1045.89 665.456  Z\n  \" fill=\"#009af9\" fill-rule=\"evenodd\" fill-opacity=\"1\"/>\n<polyline clip-path=\"url(#clip8402)\" style=\"stroke:#000000; stroke-width:4; stroke-opacity:1; fill:none\" points=\"\n  1045.89,665.456 1045.89,1446.71 1080.46,1446.71 1080.46,665.456 1045.89,665.456 \n  \"/>\n<path clip-path=\"url(#clip8402)\" d=\"\nM1080.46 835.295 L1080.46 1446.71 L1115.03 1446.71 L1115.03 835.295 L1080.46 835.295 L1080.46 835.295  Z\n  \" fill=\"#009af9\" fill-rule=\"evenodd\" fill-opacity=\"1\"/>\n<polyline clip-path=\"url(#clip8402)\" style=\"stroke:#000000; stroke-width:4; stroke-opacity:1; fill:none\" points=\"\n  1080.46,835.295 1080.46,1446.71 1115.03,1446.71 1115.03,835.295 1080.46,835.295 \n  \"/>\n<path clip-path=\"url(#clip8402)\" d=\"\nM1115.03 1005.13 L1115.03 1446.71 L1149.61 1446.71 L1149.61 1005.13 L1115.03 1005.13 L1115.03 1005.13  Z\n  \" fill=\"#009af9\" fill-rule=\"evenodd\" fill-opacity=\"1\"/>\n<polyline clip-path=\"url(#clip8402)\" style=\"stroke:#000000; stroke-width:4; stroke-opacity:1; fill:none\" points=\"\n  1115.03,1005.13 1115.03,1446.71 1149.61,1446.71 1149.61,1005.13 1115.03,1005.13 \n  \"/>\n<path clip-path=\"url(#clip8402)\" d=\"\nM1149.61 1208.94 L1149.61 1446.71 L1184.18 1446.71 L1184.18 1208.94 L1149.61 1208.94 L1149.61 1208.94  Z\n  \" fill=\"#009af9\" fill-rule=\"evenodd\" fill-opacity=\"1\"/>\n<polyline clip-path=\"url(#clip8402)\" style=\"stroke:#000000; stroke-width:4; stroke-opacity:1; fill:none\" points=\"\n  1149.61,1208.94 1149.61,1446.71 1184.18,1446.71 1184.18,1208.94 1149.61,1208.94 \n  \"/>\n<path clip-path=\"url(#clip8402)\" d=\"\nM1184.18 1378.78 L1184.18 1446.71 L1218.75 1446.71 L1218.75 1378.78 L1184.18 1378.78 L1184.18 1378.78  Z\n  \" fill=\"#009af9\" fill-rule=\"evenodd\" fill-opacity=\"1\"/>\n<polyline clip-path=\"url(#clip8402)\" style=\"stroke:#000000; stroke-width:4; stroke-opacity:1; fill:none\" points=\"\n  1184.18,1378.78 1184.18,1446.71 1218.75,1446.71 1218.75,1378.78 1184.18,1378.78 \n  \"/>\n<path clip-path=\"url(#clip8402)\" d=\"\nM1218.75 1344.81 L1218.75 1446.71 L1253.33 1446.71 L1253.33 1344.81 L1218.75 1344.81 L1218.75 1344.81  Z\n  \" fill=\"#009af9\" fill-rule=\"evenodd\" fill-opacity=\"1\"/>\n<polyline clip-path=\"url(#clip8402)\" style=\"stroke:#000000; stroke-width:4; stroke-opacity:1; fill:none\" points=\"\n  1218.75,1344.81 1218.75,1446.71 1253.33,1446.71 1253.33,1344.81 1218.75,1344.81 \n  \"/>\n<path clip-path=\"url(#clip8402)\" d=\"\nM1253.33 1276.87 L1253.33 1446.71 L1287.9 1446.71 L1287.9 1276.87 L1253.33 1276.87 L1253.33 1276.87  Z\n  \" fill=\"#009af9\" fill-rule=\"evenodd\" fill-opacity=\"1\"/>\n<polyline clip-path=\"url(#clip8402)\" style=\"stroke:#000000; stroke-width:4; stroke-opacity:1; fill:none\" points=\"\n  1253.33,1276.87 1253.33,1446.71 1287.9,1446.71 1287.9,1276.87 1253.33,1276.87 \n  \"/>\n<path clip-path=\"url(#clip8402)\" d=\"\nM1287.9 1378.78 L1287.9 1446.71 L1322.47 1446.71 L1322.47 1378.78 L1287.9 1378.78 L1287.9 1378.78  Z\n  \" fill=\"#009af9\" fill-rule=\"evenodd\" fill-opacity=\"1\"/>\n<polyline clip-path=\"url(#clip8402)\" style=\"stroke:#000000; stroke-width:4; stroke-opacity:1; fill:none\" points=\"\n  1287.9,1378.78 1287.9,1446.71 1322.47,1446.71 1322.47,1378.78 1287.9,1378.78 \n  \"/>\n<path clip-path=\"url(#clip8402)\" d=\"\nM1322.47 1344.81 L1322.47 1446.71 L1357.05 1446.71 L1357.05 1344.81 L1322.47 1344.81 L1322.47 1344.81  Z\n  \" fill=\"#009af9\" fill-rule=\"evenodd\" fill-opacity=\"1\"/>\n<polyline clip-path=\"url(#clip8402)\" style=\"stroke:#000000; stroke-width:4; stroke-opacity:1; fill:none\" points=\"\n  1322.47,1344.81 1322.47,1446.71 1357.05,1446.71 1357.05,1344.81 1322.47,1344.81 \n  \"/>\n<path clip-path=\"url(#clip8402)\" d=\"\nM1357.05 1446.71 L1357.05 1446.71 L1391.62 1446.71 L1391.62 1446.71 L1357.05 1446.71 L1357.05 1446.71  Z\n  \" fill=\"#009af9\" fill-rule=\"evenodd\" fill-opacity=\"1\"/>\n<polyline clip-path=\"url(#clip8402)\" style=\"stroke:#000000; stroke-width:4; stroke-opacity:1; fill:none\" points=\"\n  1357.05,1446.71 1357.05,1446.71 1391.62,1446.71 1357.05,1446.71 \n  \"/>\n<path clip-path=\"url(#clip8402)\" d=\"\nM1391.62 1412.75 L1391.62 1446.71 L1426.19 1446.71 L1426.19 1412.75 L1391.62 1412.75 L1391.62 1412.75  Z\n  \" fill=\"#009af9\" fill-rule=\"evenodd\" fill-opacity=\"1\"/>\n<polyline clip-path=\"url(#clip8402)\" style=\"stroke:#000000; stroke-width:4; stroke-opacity:1; fill:none\" points=\"\n  1391.62,1412.75 1391.62,1446.71 1426.19,1446.71 1426.19,1412.75 1391.62,1412.75 \n  \"/>\n<path clip-path=\"url(#clip8402)\" d=\"\nM1426.19 1446.71 L1426.19 1446.71 L1460.77 1446.71 L1460.77 1446.71 L1426.19 1446.71 L1426.19 1446.71  Z\n  \" fill=\"#009af9\" fill-rule=\"evenodd\" fill-opacity=\"1\"/>\n<polyline clip-path=\"url(#clip8402)\" style=\"stroke:#000000; stroke-width:4; stroke-opacity:1; fill:none\" points=\"\n  1426.19,1446.71 1426.19,1446.71 1460.77,1446.71 1426.19,1446.71 \n  \"/>\n<path clip-path=\"url(#clip8402)\" d=\"\nM1460.77 1412.75 L1460.77 1446.71 L1495.34 1446.71 L1495.34 1412.75 L1460.77 1412.75 L1460.77 1412.75  Z\n  \" fill=\"#009af9\" fill-rule=\"evenodd\" fill-opacity=\"1\"/>\n<polyline clip-path=\"url(#clip8402)\" style=\"stroke:#000000; stroke-width:4; stroke-opacity:1; fill:none\" points=\"\n  1460.77,1412.75 1460.77,1446.71 1495.34,1446.71 1495.34,1412.75 1460.77,1412.75 \n  \"/>\n<path clip-path=\"url(#clip8402)\" d=\"\nM1495.34 1446.71 L1495.34 1446.71 L1529.91 1446.71 L1529.91 1446.71 L1495.34 1446.71 L1495.34 1446.71  Z\n  \" fill=\"#009af9\" fill-rule=\"evenodd\" fill-opacity=\"1\"/>\n<polyline clip-path=\"url(#clip8402)\" style=\"stroke:#000000; stroke-width:4; stroke-opacity:1; fill:none\" points=\"\n  1495.34,1446.71 1495.34,1446.71 1529.91,1446.71 1495.34,1446.71 \n  \"/>\n<path clip-path=\"url(#clip8402)\" d=\"\nM1529.91 1446.71 L1529.91 1446.71 L1564.49 1446.71 L1564.49 1446.71 L1529.91 1446.71 L1529.91 1446.71  Z\n  \" fill=\"#009af9\" fill-rule=\"evenodd\" fill-opacity=\"1\"/>\n<polyline clip-path=\"url(#clip8402)\" style=\"stroke:#000000; stroke-width:4; stroke-opacity:1; fill:none\" points=\"\n  1529.91,1446.71 1529.91,1446.71 1564.49,1446.71 1529.91,1446.71 \n  \"/>\n<path clip-path=\"url(#clip8402)\" d=\"\nM1564.49 1446.71 L1564.49 1446.71 L1599.06 1446.71 L1599.06 1446.71 L1564.49 1446.71 L1564.49 1446.71  Z\n  \" fill=\"#009af9\" fill-rule=\"evenodd\" fill-opacity=\"1\"/>\n<polyline clip-path=\"url(#clip8402)\" style=\"stroke:#000000; stroke-width:4; stroke-opacity:1; fill:none\" points=\"\n  1564.49,1446.71 1564.49,1446.71 1599.06,1446.71 1564.49,1446.71 \n  \"/>\n<path clip-path=\"url(#clip8402)\" d=\"\nM1599.06 1446.71 L1599.06 1446.71 L1633.63 1446.71 L1633.63 1446.71 L1599.06 1446.71 L1599.06 1446.71  Z\n  \" fill=\"#009af9\" fill-rule=\"evenodd\" fill-opacity=\"1\"/>\n<polyline clip-path=\"url(#clip8402)\" style=\"stroke:#000000; stroke-width:4; stroke-opacity:1; fill:none\" points=\"\n  1599.06,1446.71 1599.06,1446.71 1633.63,1446.71 1599.06,1446.71 \n  \"/>\n<path clip-path=\"url(#clip8402)\" d=\"\nM1633.63 1446.71 L1633.63 1446.71 L1668.21 1446.71 L1668.21 1446.71 L1633.63 1446.71 L1633.63 1446.71  Z\n  \" fill=\"#009af9\" fill-rule=\"evenodd\" fill-opacity=\"1\"/>\n<polyline clip-path=\"url(#clip8402)\" style=\"stroke:#000000; stroke-width:4; stroke-opacity:1; fill:none\" points=\"\n  1633.63,1446.71 1633.63,1446.71 1668.21,1446.71 1633.63,1446.71 \n  \"/>\n<polyline clip-path=\"url(#clip8402)\" style=\"stroke:#ff0000; stroke-width:12; stroke-opacity:1; fill:none\" points=\"\n  216.13,1446.71 233.416,1446.71 250.703,1446.71 267.99,1446.71 285.276,1446.71 302.563,1446.7 319.85,1446.69 337.136,1446.67 354.423,1446.63 371.709,1446.55 \n  388.996,1446.43 406.283,1446.2 423.569,1445.83 440.856,1445.23 458.142,1444.28 475.429,1442.81 492.716,1440.6 510.002,1437.33 527.289,1432.65 544.576,1426.08 \n  561.862,1417.08 579.149,1405.04 596.435,1389.29 613.722,1369.16 631.009,1344 648.295,1313.26 665.582,1276.54 682.869,1233.66 700.155,1184.71 717.442,1130.09 \n  734.728,1070.56 752.015,1007.23 769.302,941.523 786.588,875.139 803.875,809.971 821.161,748.009 838.448,691.232 855.735,641.491 873.021,600.412 890.308,569.296 \n  907.595,549.059 924.881,540.186 942.168,542.722 959.454,556.283 976.741,580.103 994.028,613.093 1011.31,653.916 1028.6,701.071 1045.89,752.978 1063.17,808.053 \n  1080.46,864.781 1097.75,921.772 1115.03,977.803 1132.32,1031.84 1149.61,1083.07 1166.89,1130.86 1184.18,1174.81 1201.47,1214.68 1218.75,1250.38 1236.04,1281.96 \n  1253.33,1309.59 1270.61,1333.49 1287.9,1353.96 1305.19,1371.3 1322.47,1385.86 1339.76,1397.97 1357.05,1407.95 1374.33,1416.1 1391.62,1422.71 1408.91,1428.02 \n  1426.19,1432.25 1443.48,1435.6 1460.77,1438.23 1478.05,1440.28 1495.34,1441.86 1512.63,1443.08 1529.91,1444 1547.2,1444.71 1564.49,1445.24 1581.77,1445.63 \n  1599.06,1445.93 1616.35,1446.15 1633.63,1446.3 1650.92,1446.42 1668.21,1446.51 1685.49,1446.57 1702.78,1446.61 1720.07,1446.64 1737.35,1446.66 1754.64,1446.68 \n  1771.93,1446.69 1789.21,1446.7 1806.5,1446.7 1823.79,1446.71 1841.07,1446.71 1858.36,1446.71 1875.65,1446.71 1892.93,1446.71 1910.22,1446.71 1927.51,1446.71 \n  1944.79,1446.71 1962.08,1446.71 1979.36,1446.71 1996.65,1446.71 2013.94,1446.71 2031.22,1446.71 2048.51,1446.71 2065.8,1446.71 2083.08,1446.71 2100.37,1446.71 \n  2117.66,1446.71 2134.94,1446.71 2152.23,1446.71 2169.52,1446.71 2186.8,1446.71 2204.09,1446.71 2221.38,1446.71 2238.66,1446.71 2255.95,1446.71 2273.24,1446.71 \n  2290.52,1446.71 \n  \"/>\n<path clip-path=\"url(#clip8400)\" d=\"\nM1596.77 312.204 L2280.76 312.204 L2280.76 130.764 L1596.77 130.764  Z\n  \" fill=\"#ffffff\" fill-rule=\"evenodd\" fill-opacity=\"1\"/>\n<polyline clip-path=\"url(#clip8400)\" style=\"stroke:#000000; stroke-width:4; stroke-opacity:1; fill:none\" points=\"\n  1596.77,312.204 2280.76,312.204 2280.76,130.764 1596.77,130.764 1596.77,312.204 \n  \"/>\n<path clip-path=\"url(#clip8400)\" d=\"\nM1620.77 215.436 L1764.77 215.436 L1764.77 167.052 L1620.77 167.052 L1620.77 215.436  Z\n  \" fill=\"#009af9\" fill-rule=\"evenodd\" fill-opacity=\"1\"/>\n<polyline clip-path=\"url(#clip8400)\" style=\"stroke:#000000; stroke-width:4; stroke-opacity:1; fill:none\" points=\"\n  1620.77,215.436 1764.77,215.436 1764.77,167.052 1620.77,167.052 1620.77,215.436 \n  \"/>\n<g clip-path=\"url(#clip8400)\">\n<text style=\"fill:#000000; fill-opacity:1; font-family:Arial,Helvetica Neue,Helvetica,sans-serif; font-size:48px; text-anchor:start;\" transform=\"rotate(0, 1788.77, 208.744)\" x=\"1788.77\" y=\"208.744\">Empirical distribution</text>\n</g>\n<polyline clip-path=\"url(#clip8400)\" style=\"stroke:#ff0000; stroke-width:12; stroke-opacity:1; fill:none\" points=\"\n  1620.77,251.724 1764.77,251.724 \n  \"/>\n<g clip-path=\"url(#clip8400)\">\n<text style=\"fill:#000000; fill-opacity:1; font-family:Arial,Helvetica Neue,Helvetica,sans-serif; font-size:48px; text-anchor:start;\" transform=\"rotate(0, 1788.77, 269.224)\" x=\"1788.77\" y=\"269.224\">Tracy-Widom PDF</text>\n</g>\n</svg>\n"
               },
               "type": "node"
              }
             ],
             "instanceArgs": {
              "namespace": "html",
              "tag": "div"
             },
             "nodeType": "DOM",
             "props": {
              "className": "interact-flex-row interact-widget"
             },
             "type": "node"
            }
           }
          },
          "systemjs_options": null
         },
         "nodeType": "Scope",
         "props": {},
         "type": "node"
        }
       ],
       "instanceArgs": {
        "namespace": "html",
        "tag": "div"
       },
       "nodeType": "DOM",
       "props": {},
       "type": "node"
      },
      "text/html": [
       "<div\n",
       "    class=\"webio-mountpoint\"\n",
       "    data-webio-mountpoint=\"5224507298721227956\"\n",
       ">\n",
       "    <script>\n",
       "    if (window.require && require.defined && require.defined(\"nbextensions/webio-jupyter-notebook\")) {\n",
       "        console.log(\"Jupyter WebIO extension detected, not mounting.\");\n",
       "    } else if (window.WebIO) {\n",
       "        WebIO.mount(\n",
       "            document.querySelector('[data-webio-mountpoint=\"5224507298721227956\"]'),\n",
       "            {\"props\":{},\"nodeType\":\"DOM\",\"type\":\"node\",\"instanceArgs\":{\"namespace\":\"html\",\"tag\":\"div\"},\"children\":[{\"props\":{\"className\":\"field interact-widget\"},\"nodeType\":\"DOM\",\"type\":\"node\",\"instanceArgs\":{\"namespace\":\"html\",\"tag\":\"div\"},\"children\":[{\"props\":{},\"nodeType\":\"Scope\",\"type\":\"node\",\"instanceArgs\":{\"imports\":{\"data\":[{\"name\":\"knockout\",\"type\":\"js\",\"url\":\"\\/assetserver\\/254160226b58162a42111ea27214076747de1cf2-knockout.js\"},{\"name\":\"knockout_punches\",\"type\":\"js\",\"url\":\"\\/assetserver\\/2d0bf510fb683322318163f3ec7562806e4b1104-knockout_punches.js\"},{\"name\":null,\"type\":\"js\",\"url\":\"\\/assetserver\\/6ffcdda43c684da84d2ca5dd2027e4a55c68edac-all.js\"},{\"name\":null,\"type\":\"css\",\"url\":\"\\/assetserver\\/b0b44adaed1197b8510174b41f32f09d98a0c28e-style.css\"},{\"name\":null,\"type\":\"css\",\"url\":\"\\/assetserver\\/bbb2e3064bd5f6dfcf2f18fbeb52d9320f251632-bulma_confined.min.css\"}],\"type\":\"async_block\"},\"id\":\"3340014779579841822\",\"handlers\":{\"changes\":[\"(function (val){return (val!=this.model[\\\"changes\\\"]()) ? (this.valueFromJulia[\\\"changes\\\"]=true, this.model[\\\"changes\\\"](val)) : undefined})\"],\"index\":[\"(function (val){return (val!=this.model[\\\"index\\\"]()) ? (this.valueFromJulia[\\\"index\\\"]=true, this.model[\\\"index\\\"](val)) : undefined})\"]},\"systemjs_options\":null,\"mount_callbacks\":[\"function () {\\n    var handler = (function (ko, koPunches) {\\n    ko.punches.enableAll();\\n    ko.bindingHandlers.numericValue = {\\n        init: function(element, valueAccessor, allBindings, data, context) {\\n            var stringified = ko.observable(ko.unwrap(valueAccessor()));\\n            stringified.subscribe(function(value) {\\n                var val = parseFloat(value);\\n                if (!isNaN(val)) {\\n                    valueAccessor()(val);\\n                }\\n            });\\n            valueAccessor().subscribe(function(value) {\\n                var str = JSON.stringify(value);\\n                if ((str == \\\"0\\\") && ([\\\"-0\\\", \\\"-0.\\\"].indexOf(stringified()) >= 0))\\n                     return;\\n                 if ([\\\"null\\\", \\\"\\\"].indexOf(str) >= 0)\\n                     return;\\n                stringified(str);\\n            });\\n            ko.applyBindingsToNode(\\n                element,\\n                {\\n                    value: stringified,\\n                    valueUpdate: allBindings.get('valueUpdate'),\\n                },\\n                context,\\n            );\\n        }\\n    };\\n    var json_data = {\\\"formatted_vals\\\":[\\\"10\\\",\\\"20\\\",\\\"30\\\",\\\"40\\\",\\\"50\\\",\\\"60\\\",\\\"70\\\",\\\"80\\\",\\\"90\\\",\\\"100\\\"],\\\"changes\\\":WebIO.getval({\\\"name\\\":\\\"changes\\\",\\\"scope\\\":\\\"3340014779579841822\\\",\\\"id\\\":\\\"ob_42\\\",\\\"type\\\":\\\"observable\\\"}),\\\"index\\\":WebIO.getval({\\\"name\\\":\\\"index\\\",\\\"scope\\\":\\\"3340014779579841822\\\",\\\"id\\\":\\\"ob_41\\\",\\\"type\\\":\\\"observable\\\"})};\\n    var self = this;\\n    function AppViewModel() {\\n        for (var key in json_data) {\\n            var el = json_data[key];\\n            this[key] = Array.isArray(el) ? ko.observableArray(el) : ko.observable(el);\\n        }\\n        \\n        [this[\\\"formatted_val\\\"]=ko.computed(    function(){\\n        return this.formatted_vals()[parseInt(this.index())-(1)];\\n    }\\n,this)]\\n        [this[\\\"changes\\\"].subscribe((function (val){!(this.valueFromJulia[\\\"changes\\\"]) ? (WebIO.setval({\\\"name\\\":\\\"changes\\\",\\\"scope\\\":\\\"3340014779579841822\\\",\\\"id\\\":\\\"ob_42\\\",\\\"type\\\":\\\"observable\\\"},val)) : undefined; return this.valueFromJulia[\\\"changes\\\"]=false}),self),this[\\\"index\\\"].subscribe((function (val){!(this.valueFromJulia[\\\"index\\\"]) ? (WebIO.setval({\\\"name\\\":\\\"index\\\",\\\"scope\\\":\\\"3340014779579841822\\\",\\\"id\\\":\\\"ob_41\\\",\\\"type\\\":\\\"observable\\\"},val)) : undefined; return this.valueFromJulia[\\\"index\\\"]=false}),self)]\\n        \\n    }\\n    self.model = new AppViewModel();\\n    self.valueFromJulia = {};\\n    for (var key in json_data) {\\n        self.valueFromJulia[key] = false;\\n    }\\n    ko.applyBindings(self.model, self.dom);\\n}\\n);\\n    (WebIO.importBlock({\\\"data\\\":[{\\\"name\\\":\\\"knockout\\\",\\\"type\\\":\\\"js\\\",\\\"url\\\":\\\"\\/assetserver\\/254160226b58162a42111ea27214076747de1cf2-knockout.js\\\"},{\\\"name\\\":\\\"knockout_punches\\\",\\\"type\\\":\\\"js\\\",\\\"url\\\":\\\"\\/assetserver\\/2d0bf510fb683322318163f3ec7562806e4b1104-knockout_punches.js\\\"}],\\\"type\\\":\\\"async_block\\\"})).then((imports) => handler.apply(this, imports));\\n}\\n\"],\"observables\":{\"changes\":{\"sync\":false,\"id\":\"ob_42\",\"value\":0},\"index\":{\"sync\":true,\"id\":\"ob_41\",\"value\":5}}},\"children\":[{\"props\":{\"className\":\"interact-flex-row interact-widget\"},\"nodeType\":\"DOM\",\"type\":\"node\",\"instanceArgs\":{\"namespace\":\"html\",\"tag\":\"div\"},\"children\":[{\"props\":{\"className\":\"interact-flex-row-left\"},\"nodeType\":\"DOM\",\"type\":\"node\",\"instanceArgs\":{\"namespace\":\"html\",\"tag\":\"div\"},\"children\":[{\"props\":{\"className\":\"interact \",\"style\":{\"padding\":\"5px 10px 0px 10px\"}},\"nodeType\":\"DOM\",\"type\":\"node\",\"instanceArgs\":{\"namespace\":\"html\",\"tag\":\"label\"},\"children\":[\"N\"]}]},{\"props\":{\"className\":\"interact-flex-row-center\"},\"nodeType\":\"DOM\",\"type\":\"node\",\"instanceArgs\":{\"namespace\":\"html\",\"tag\":\"div\"},\"children\":[{\"props\":{\"max\":10,\"min\":1,\"attributes\":{\"type\":\"range\",\"data-bind\":\"numericValue: index, valueUpdate: 'input', event: {change: function (){this.changes(this.changes()+1)}}\",\"orient\":\"horizontal\"},\"step\":1,\"className\":\"slider slider is-fullwidth\",\"style\":{}},\"nodeType\":\"DOM\",\"type\":\"node\",\"instanceArgs\":{\"namespace\":\"html\",\"tag\":\"input\"},\"children\":[]}]},{\"props\":{\"className\":\"interact-flex-row-right\"},\"nodeType\":\"DOM\",\"type\":\"node\",\"instanceArgs\":{\"namespace\":\"html\",\"tag\":\"div\"},\"children\":[{\"props\":{\"attributes\":{\"data-bind\":\"text: formatted_val\"}},\"nodeType\":\"DOM\",\"type\":\"node\",\"instanceArgs\":{\"namespace\":\"html\",\"tag\":\"p\"},\"children\":[]}]}]}]}]},{\"props\":{\"className\":\"interact-widget\"},\"nodeType\":\"DOM\",\"type\":\"node\",\"instanceArgs\":{\"namespace\":\"html\",\"tag\":\"div\"},\"children\":[{\"props\":{},\"nodeType\":\"Scope\",\"type\":\"node\",\"instanceArgs\":{\"imports\":{\"data\":[{\"name\":\"knockout\",\"type\":\"js\",\"url\":\"\\/assetserver\\/254160226b58162a42111ea27214076747de1cf2-knockout.js\"},{\"name\":\"knockout_punches\",\"type\":\"js\",\"url\":\"\\/assetserver\\/2d0bf510fb683322318163f3ec7562806e4b1104-knockout_punches.js\"},{\"name\":null,\"type\":\"js\",\"url\":\"\\/assetserver\\/6ffcdda43c684da84d2ca5dd2027e4a55c68edac-all.js\"},{\"name\":null,\"type\":\"css\",\"url\":\"\\/assetserver\\/b0b44adaed1197b8510174b41f32f09d98a0c28e-style.css\"},{\"name\":null,\"type\":\"css\",\"url\":\"\\/assetserver\\/bbb2e3064bd5f6dfcf2f18fbeb52d9320f251632-bulma_confined.min.css\"}],\"type\":\"async_block\"},\"id\":\"7198650139252358154\",\"handlers\":{\"options_js\":[\"(function (val){return (val!=this.model[\\\"options_js\\\"]()) ? (this.valueFromJulia[\\\"options_js\\\"]=true, this.model[\\\"options_js\\\"](val)) : undefined})\"],\"index\":[\"(function (val){return (val!=this.model[\\\"index\\\"]()) ? (this.valueFromJulia[\\\"index\\\"]=true, this.model[\\\"index\\\"](val)) : undefined})\"]},\"systemjs_options\":null,\"mount_callbacks\":[\"function () {\\n    var handler = (function (ko, koPunches) {\\n    ko.punches.enableAll();\\n    ko.bindingHandlers.numericValue = {\\n        init: function(element, valueAccessor, allBindings, data, context) {\\n            var stringified = ko.observable(ko.unwrap(valueAccessor()));\\n            stringified.subscribe(function(value) {\\n                var val = parseFloat(value);\\n                if (!isNaN(val)) {\\n                    valueAccessor()(val);\\n                }\\n            });\\n            valueAccessor().subscribe(function(value) {\\n                var str = JSON.stringify(value);\\n                if ((str == \\\"0\\\") && ([\\\"-0\\\", \\\"-0.\\\"].indexOf(stringified()) >= 0))\\n                     return;\\n                 if ([\\\"null\\\", \\\"\\\"].indexOf(str) >= 0)\\n                     return;\\n                stringified(str);\\n            });\\n            ko.applyBindingsToNode(\\n                element,\\n                {\\n                    value: stringified,\\n                    valueUpdate: allBindings.get('valueUpdate'),\\n                },\\n                context,\\n            );\\n        }\\n    };\\n    var json_data = {\\\"options_js\\\":WebIO.getval({\\\"name\\\":\\\"options_js\\\",\\\"scope\\\":\\\"7198650139252358154\\\",\\\"id\\\":\\\"ob_47\\\",\\\"type\\\":\\\"observable\\\"}),\\\"index\\\":WebIO.getval({\\\"name\\\":\\\"index\\\",\\\"scope\\\":\\\"7198650139252358154\\\",\\\"id\\\":\\\"ob_46\\\",\\\"type\\\":\\\"observable\\\"})};\\n    var self = this;\\n    function AppViewModel() {\\n        for (var key in json_data) {\\n            var el = json_data[key];\\n            this[key] = Array.isArray(el) ? ko.observableArray(el) : ko.observable(el);\\n        }\\n        [this[\\\"update\\\"]=function (val) {this.index(val)}]\\n        \\n        [this[\\\"options_js\\\"].subscribe((function (val){!(this.valueFromJulia[\\\"options_js\\\"]) ? (WebIO.setval({\\\"name\\\":\\\"options_js\\\",\\\"scope\\\":\\\"7198650139252358154\\\",\\\"id\\\":\\\"ob_47\\\",\\\"type\\\":\\\"observable\\\"},val)) : undefined; return this.valueFromJulia[\\\"options_js\\\"]=false}),self),this[\\\"index\\\"].subscribe((function (val){!(this.valueFromJulia[\\\"index\\\"]) ? (WebIO.setval({\\\"name\\\":\\\"index\\\",\\\"scope\\\":\\\"7198650139252358154\\\",\\\"id\\\":\\\"ob_46\\\",\\\"type\\\":\\\"observable\\\"},val)) : undefined; return this.valueFromJulia[\\\"index\\\"]=false}),self)]\\n        \\n    }\\n    self.model = new AppViewModel();\\n    self.valueFromJulia = {};\\n    for (var key in json_data) {\\n        self.valueFromJulia[key] = false;\\n    }\\n    ko.applyBindings(self.model, self.dom);\\n}\\n);\\n    (WebIO.importBlock({\\\"data\\\":[{\\\"name\\\":\\\"knockout\\\",\\\"type\\\":\\\"js\\\",\\\"url\\\":\\\"\\/assetserver\\/254160226b58162a42111ea27214076747de1cf2-knockout.js\\\"},{\\\"name\\\":\\\"knockout_punches\\\",\\\"type\\\":\\\"js\\\",\\\"url\\\":\\\"\\/assetserver\\/2d0bf510fb683322318163f3ec7562806e4b1104-knockout_punches.js\\\"}],\\\"type\\\":\\\"async_block\\\"})).then((imports) => handler.apply(this, imports));\\n}\\n\"],\"observables\":{\"options_js\":{\"sync\":false,\"id\":\"ob_47\",\"value\":[{\"key\":\"Geometric\",\"val\":1,\"id\":\"idikupLfls\"},{\"key\":\"Exponential\",\"val\":2,\"id\":\"id13To2hpL\"}]},\"index\":{\"sync\":true,\"id\":\"ob_46\",\"value\":1}}},\"children\":[{\"props\":{\"className\":\"interact-flex-row interact-widget\"},\"nodeType\":\"DOM\",\"type\":\"node\",\"instanceArgs\":{\"namespace\":\"html\",\"tag\":\"div\"},\"children\":[{\"props\":{\"className\":\"interact-flex-row-left\"},\"nodeType\":\"DOM\",\"type\":\"node\",\"instanceArgs\":{\"namespace\":\"html\",\"tag\":\"div\"},\"children\":[{\"props\":{\"className\":\"interact \",\"style\":{\"padding\":\"5px 10px 0px 10px\"}},\"nodeType\":\"DOM\",\"type\":\"node\",\"instanceArgs\":{\"namespace\":\"html\",\"tag\":\"label\"},\"children\":[\"law_name\"]}]},{\"props\":{\"className\":\"interact-flex-row-center\"},\"nodeType\":\"DOM\",\"type\":\"node\",\"instanceArgs\":{\"namespace\":\"html\",\"tag\":\"div\"},\"children\":[{\"props\":{\"attributes\":{\"data-bind\":\"foreach : options_js\"},\"className\":\"buttons has-addons is-centered\"},\"nodeType\":\"DOM\",\"type\":\"node\",\"instanceArgs\":{\"namespace\":\"html\",\"tag\":\"div\"},\"children\":[{\"props\":{\"attributes\":{\"data-bind\":\"click: function (){$root.update(val)}, css: {'is-primary is-selected' : $root.index() == val, 'interact-widget is-medium button ' : true}\"}},\"nodeType\":\"DOM\",\"type\":\"node\",\"instanceArgs\":{\"namespace\":\"html\",\"tag\":\"span\"},\"children\":[{\"props\":{\"attributes\":{\"data-bind\":\"text : key\"}},\"nodeType\":\"DOM\",\"type\":\"node\",\"instanceArgs\":{\"namespace\":\"html\",\"tag\":\"label\"},\"children\":[]}]}]}]},{\"props\":{\"className\":\"interact-flex-row-right\"},\"nodeType\":\"DOM\",\"type\":\"node\",\"instanceArgs\":{\"namespace\":\"html\",\"tag\":\"div\"},\"children\":[{\"props\":{},\"nodeType\":\"DOM\",\"type\":\"node\",\"instanceArgs\":{\"namespace\":\"html\",\"tag\":\"div\"},\"children\":[]}]}]}]}]},{\"props\":{\"className\":\"field interact-widget\"},\"nodeType\":\"DOM\",\"type\":\"node\",\"instanceArgs\":{\"namespace\":\"html\",\"tag\":\"div\"},\"children\":[{\"props\":{},\"nodeType\":\"Scope\",\"type\":\"node\",\"instanceArgs\":{\"imports\":{\"data\":[{\"name\":\"knockout\",\"type\":\"js\",\"url\":\"\\/assetserver\\/254160226b58162a42111ea27214076747de1cf2-knockout.js\"},{\"name\":\"knockout_punches\",\"type\":\"js\",\"url\":\"\\/assetserver\\/2d0bf510fb683322318163f3ec7562806e4b1104-knockout_punches.js\"},{\"name\":null,\"type\":\"js\",\"url\":\"\\/assetserver\\/6ffcdda43c684da84d2ca5dd2027e4a55c68edac-all.js\"},{\"name\":null,\"type\":\"css\",\"url\":\"\\/assetserver\\/b0b44adaed1197b8510174b41f32f09d98a0c28e-style.css\"},{\"name\":null,\"type\":\"css\",\"url\":\"\\/assetserver\\/bbb2e3064bd5f6dfcf2f18fbeb52d9320f251632-bulma_confined.min.css\"}],\"type\":\"async_block\"},\"id\":\"3701845850066359653\",\"handlers\":{\"changes\":[\"(function (val){return (val!=this.model[\\\"changes\\\"]()) ? (this.valueFromJulia[\\\"changes\\\"]=true, this.model[\\\"changes\\\"](val)) : undefined})\"],\"index\":[\"(function (val){return (val!=this.model[\\\"index\\\"]()) ? (this.valueFromJulia[\\\"index\\\"]=true, this.model[\\\"index\\\"](val)) : undefined})\"]},\"systemjs_options\":null,\"mount_callbacks\":[\"function () {\\n    var handler = (function (ko, koPunches) {\\n    ko.punches.enableAll();\\n    ko.bindingHandlers.numericValue = {\\n        init: function(element, valueAccessor, allBindings, data, context) {\\n            var stringified = ko.observable(ko.unwrap(valueAccessor()));\\n            stringified.subscribe(function(value) {\\n                var val = parseFloat(value);\\n                if (!isNaN(val)) {\\n                    valueAccessor()(val);\\n                }\\n            });\\n            valueAccessor().subscribe(function(value) {\\n                var str = JSON.stringify(value);\\n                if ((str == \\\"0\\\") && ([\\\"-0\\\", \\\"-0.\\\"].indexOf(stringified()) >= 0))\\n                     return;\\n                 if ([\\\"null\\\", \\\"\\\"].indexOf(str) >= 0)\\n                     return;\\n                stringified(str);\\n            });\\n            ko.applyBindingsToNode(\\n                element,\\n                {\\n                    value: stringified,\\n                    valueUpdate: allBindings.get('valueUpdate'),\\n                },\\n                context,\\n            );\\n        }\\n    };\\n    var json_data = {\\\"formatted_vals\\\":[\\\"0.1\\\",\\\"0.2\\\",\\\"0.3\\\",\\\"0.4\\\",\\\"0.5\\\",\\\"0.6\\\",\\\"0.7\\\",\\\"0.8\\\",\\\"0.9\\\"],\\\"changes\\\":WebIO.getval({\\\"name\\\":\\\"changes\\\",\\\"scope\\\":\\\"3701845850066359653\\\",\\\"id\\\":\\\"ob_50\\\",\\\"type\\\":\\\"observable\\\"}),\\\"index\\\":WebIO.getval({\\\"name\\\":\\\"index\\\",\\\"scope\\\":\\\"3701845850066359653\\\",\\\"id\\\":\\\"ob_49\\\",\\\"type\\\":\\\"observable\\\"})};\\n    var self = this;\\n    function AppViewModel() {\\n        for (var key in json_data) {\\n            var el = json_data[key];\\n            this[key] = Array.isArray(el) ? ko.observableArray(el) : ko.observable(el);\\n        }\\n        \\n        [this[\\\"formatted_val\\\"]=ko.computed(    function(){\\n        return this.formatted_vals()[parseInt(this.index())-(1)];\\n    }\\n,this)]\\n        [this[\\\"changes\\\"].subscribe((function (val){!(this.valueFromJulia[\\\"changes\\\"]) ? (WebIO.setval({\\\"name\\\":\\\"changes\\\",\\\"scope\\\":\\\"3701845850066359653\\\",\\\"id\\\":\\\"ob_50\\\",\\\"type\\\":\\\"observable\\\"},val)) : undefined; return this.valueFromJulia[\\\"changes\\\"]=false}),self),this[\\\"index\\\"].subscribe((function (val){!(this.valueFromJulia[\\\"index\\\"]) ? (WebIO.setval({\\\"name\\\":\\\"index\\\",\\\"scope\\\":\\\"3701845850066359653\\\",\\\"id\\\":\\\"ob_49\\\",\\\"type\\\":\\\"observable\\\"},val)) : undefined; return this.valueFromJulia[\\\"index\\\"]=false}),self)]\\n        \\n    }\\n    self.model = new AppViewModel();\\n    self.valueFromJulia = {};\\n    for (var key in json_data) {\\n        self.valueFromJulia[key] = false;\\n    }\\n    ko.applyBindings(self.model, self.dom);\\n}\\n);\\n    (WebIO.importBlock({\\\"data\\\":[{\\\"name\\\":\\\"knockout\\\",\\\"type\\\":\\\"js\\\",\\\"url\\\":\\\"\\/assetserver\\/254160226b58162a42111ea27214076747de1cf2-knockout.js\\\"},{\\\"name\\\":\\\"knockout_punches\\\",\\\"type\\\":\\\"js\\\",\\\"url\\\":\\\"\\/assetserver\\/2d0bf510fb683322318163f3ec7562806e4b1104-knockout_punches.js\\\"}],\\\"type\\\":\\\"async_block\\\"})).then((imports) => handler.apply(this, imports));\\n}\\n\"],\"observables\":{\"changes\":{\"sync\":false,\"id\":\"ob_50\",\"value\":0},\"index\":{\"sync\":true,\"id\":\"ob_49\",\"value\":5}}},\"children\":[{\"props\":{\"className\":\"interact-flex-row interact-widget\"},\"nodeType\":\"DOM\",\"type\":\"node\",\"instanceArgs\":{\"namespace\":\"html\",\"tag\":\"div\"},\"children\":[{\"props\":{\"className\":\"interact-flex-row-left\"},\"nodeType\":\"DOM\",\"type\":\"node\",\"instanceArgs\":{\"namespace\":\"html\",\"tag\":\"div\"},\"children\":[{\"props\":{\"className\":\"interact \",\"style\":{\"padding\":\"5px 10px 0px 10px\"}},\"nodeType\":\"DOM\",\"type\":\"node\",\"instanceArgs\":{\"namespace\":\"html\",\"tag\":\"label\"},\"children\":[\"q\"]}]},{\"props\":{\"className\":\"interact-flex-row-center\"},\"nodeType\":\"DOM\",\"type\":\"node\",\"instanceArgs\":{\"namespace\":\"html\",\"tag\":\"div\"},\"children\":[{\"props\":{\"max\":9,\"min\":1,\"attributes\":{\"type\":\"range\",\"data-bind\":\"numericValue: index, valueUpdate: 'input', event: {change: function (){this.changes(this.changes()+1)}}\",\"orient\":\"horizontal\"},\"step\":1,\"className\":\"slider slider is-fullwidth\",\"style\":{}},\"nodeType\":\"DOM\",\"type\":\"node\",\"instanceArgs\":{\"namespace\":\"html\",\"tag\":\"input\"},\"children\":[]}]},{\"props\":{\"className\":\"interact-flex-row-right\"},\"nodeType\":\"DOM\",\"type\":\"node\",\"instanceArgs\":{\"namespace\":\"html\",\"tag\":\"div\"},\"children\":[{\"props\":{\"attributes\":{\"data-bind\":\"text: formatted_val\"}},\"nodeType\":\"DOM\",\"type\":\"node\",\"instanceArgs\":{\"namespace\":\"html\",\"tag\":\"p\"},\"children\":[]}]}]}]}]},{\"props\":{\"className\":\"field interact-widget\"},\"nodeType\":\"DOM\",\"type\":\"node\",\"instanceArgs\":{\"namespace\":\"html\",\"tag\":\"div\"},\"children\":[{\"props\":{},\"nodeType\":\"Scope\",\"type\":\"node\",\"instanceArgs\":{\"imports\":{\"data\":[{\"name\":\"knockout\",\"type\":\"js\",\"url\":\"\\/assetserver\\/254160226b58162a42111ea27214076747de1cf2-knockout.js\"},{\"name\":\"knockout_punches\",\"type\":\"js\",\"url\":\"\\/assetserver\\/2d0bf510fb683322318163f3ec7562806e4b1104-knockout_punches.js\"},{\"name\":null,\"type\":\"js\",\"url\":\"\\/assetserver\\/6ffcdda43c684da84d2ca5dd2027e4a55c68edac-all.js\"},{\"name\":null,\"type\":\"css\",\"url\":\"\\/assetserver\\/b0b44adaed1197b8510174b41f32f09d98a0c28e-style.css\"},{\"name\":null,\"type\":\"css\",\"url\":\"\\/assetserver\\/bbb2e3064bd5f6dfcf2f18fbeb52d9320f251632-bulma_confined.min.css\"}],\"type\":\"async_block\"},\"id\":\"210609206460918608\",\"handlers\":{\"changes\":[\"(function (val){return (val!=this.model[\\\"changes\\\"]()) ? (this.valueFromJulia[\\\"changes\\\"]=true, this.model[\\\"changes\\\"](val)) : undefined})\"],\"index\":[\"(function (val){return (val!=this.model[\\\"index\\\"]()) ? (this.valueFromJulia[\\\"index\\\"]=true, this.model[\\\"index\\\"](val)) : undefined})\"]},\"systemjs_options\":null,\"mount_callbacks\":[\"function () {\\n    var handler = (function (ko, koPunches) {\\n    ko.punches.enableAll();\\n    ko.bindingHandlers.numericValue = {\\n        init: function(element, valueAccessor, allBindings, data, context) {\\n            var stringified = ko.observable(ko.unwrap(valueAccessor()));\\n            stringified.subscribe(function(value) {\\n                var val = parseFloat(value);\\n                if (!isNaN(val)) {\\n                    valueAccessor()(val);\\n                }\\n            });\\n            valueAccessor().subscribe(function(value) {\\n                var str = JSON.stringify(value);\\n                if ((str == \\\"0\\\") && ([\\\"-0\\\", \\\"-0.\\\"].indexOf(stringified()) >= 0))\\n                     return;\\n                 if ([\\\"null\\\", \\\"\\\"].indexOf(str) >= 0)\\n                     return;\\n                stringified(str);\\n            });\\n            ko.applyBindingsToNode(\\n                element,\\n                {\\n                    value: stringified,\\n                    valueUpdate: allBindings.get('valueUpdate'),\\n                },\\n                context,\\n            );\\n        }\\n    };\\n    var json_data = {\\\"formatted_vals\\\":[\\\"1\\\",\\\"2\\\",\\\"3\\\",\\\"4\\\",\\\"5\\\",\\\"6\\\",\\\"7\\\",\\\"8\\\",\\\"9\\\",\\\"10\\\"],\\\"changes\\\":WebIO.getval({\\\"name\\\":\\\"changes\\\",\\\"scope\\\":\\\"210609206460918608\\\",\\\"id\\\":\\\"ob_52\\\",\\\"type\\\":\\\"observable\\\"}),\\\"index\\\":WebIO.getval({\\\"name\\\":\\\"index\\\",\\\"scope\\\":\\\"210609206460918608\\\",\\\"id\\\":\\\"ob_51\\\",\\\"type\\\":\\\"observable\\\"})};\\n    var self = this;\\n    function AppViewModel() {\\n        for (var key in json_data) {\\n            var el = json_data[key];\\n            this[key] = Array.isArray(el) ? ko.observableArray(el) : ko.observable(el);\\n        }\\n        \\n        [this[\\\"formatted_val\\\"]=ko.computed(    function(){\\n        return this.formatted_vals()[parseInt(this.index())-(1)];\\n    }\\n,this)]\\n        [this[\\\"changes\\\"].subscribe((function (val){!(this.valueFromJulia[\\\"changes\\\"]) ? (WebIO.setval({\\\"name\\\":\\\"changes\\\",\\\"scope\\\":\\\"210609206460918608\\\",\\\"id\\\":\\\"ob_52\\\",\\\"type\\\":\\\"observable\\\"},val)) : undefined; return this.valueFromJulia[\\\"changes\\\"]=false}),self),this[\\\"index\\\"].subscribe((function (val){!(this.valueFromJulia[\\\"index\\\"]) ? (WebIO.setval({\\\"name\\\":\\\"index\\\",\\\"scope\\\":\\\"210609206460918608\\\",\\\"id\\\":\\\"ob_51\\\",\\\"type\\\":\\\"observable\\\"},val)) : undefined; return this.valueFromJulia[\\\"index\\\"]=false}),self)]\\n        \\n    }\\n    self.model = new AppViewModel();\\n    self.valueFromJulia = {};\\n    for (var key in json_data) {\\n        self.valueFromJulia[key] = false;\\n    }\\n    ko.applyBindings(self.model, self.dom);\\n}\\n);\\n    (WebIO.importBlock({\\\"data\\\":[{\\\"name\\\":\\\"knockout\\\",\\\"type\\\":\\\"js\\\",\\\"url\\\":\\\"\\/assetserver\\/254160226b58162a42111ea27214076747de1cf2-knockout.js\\\"},{\\\"name\\\":\\\"knockout_punches\\\",\\\"type\\\":\\\"js\\\",\\\"url\\\":\\\"\\/assetserver\\/2d0bf510fb683322318163f3ec7562806e4b1104-knockout_punches.js\\\"}],\\\"type\\\":\\\"async_block\\\"})).then((imports) => handler.apply(this, imports));\\n}\\n\"],\"observables\":{\"changes\":{\"sync\":false,\"id\":\"ob_52\",\"value\":0},\"index\":{\"sync\":true,\"id\":\"ob_51\",\"value\":5}}},\"children\":[{\"props\":{\"className\":\"interact-flex-row interact-widget\"},\"nodeType\":\"DOM\",\"type\":\"node\",\"instanceArgs\":{\"namespace\":\"html\",\"tag\":\"div\"},\"children\":[{\"props\":{\"className\":\"interact-flex-row-left\"},\"nodeType\":\"DOM\",\"type\":\"node\",\"instanceArgs\":{\"namespace\":\"html\",\"tag\":\"div\"},\"children\":[{\"props\":{\"className\":\"interact \",\"style\":{\"padding\":\"5px 10px 0px 10px\"}},\"nodeType\":\"DOM\",\"type\":\"node\",\"instanceArgs\":{\"namespace\":\"html\",\"tag\":\"label\"},\"children\":[\"λ\"]}]},{\"props\":{\"className\":\"interact-flex-row-center\"},\"nodeType\":\"DOM\",\"type\":\"node\",\"instanceArgs\":{\"namespace\":\"html\",\"tag\":\"div\"},\"children\":[{\"props\":{\"max\":10,\"min\":1,\"attributes\":{\"type\":\"range\",\"data-bind\":\"numericValue: index, valueUpdate: 'input', event: {change: function (){this.changes(this.changes()+1)}}\",\"orient\":\"horizontal\"},\"step\":1,\"className\":\"slider slider is-fullwidth\",\"style\":{}},\"nodeType\":\"DOM\",\"type\":\"node\",\"instanceArgs\":{\"namespace\":\"html\",\"tag\":\"input\"},\"children\":[]}]},{\"props\":{\"className\":\"interact-flex-row-right\"},\"nodeType\":\"DOM\",\"type\":\"node\",\"instanceArgs\":{\"namespace\":\"html\",\"tag\":\"div\"},\"children\":[{\"props\":{\"attributes\":{\"data-bind\":\"text: formatted_val\"}},\"nodeType\":\"DOM\",\"type\":\"node\",\"instanceArgs\":{\"namespace\":\"html\",\"tag\":\"p\"},\"children\":[]}]}]}]}]},{\"props\":{},\"nodeType\":\"Scope\",\"type\":\"node\",\"instanceArgs\":{\"imports\":{\"data\":[],\"type\":\"async_block\"},\"id\":\"6845177944872321469\",\"handlers\":{},\"systemjs_options\":null,\"mount_callbacks\":[],\"observables\":{\"obs-node\":{\"sync\":false,\"id\":\"ob_56\",\"value\":{\"props\":{\"className\":\"interact-flex-row interact-widget\"},\"nodeType\":\"DOM\",\"type\":\"node\",\"instanceArgs\":{\"namespace\":\"html\",\"tag\":\"div\"},\"children\":[{\"props\":{\"setInnerHtml\":\"<?xml version=\\\"1.0\\\" encoding=\\\"utf-8\\\"?>\\n<svg xmlns=\\\"http:\\/\\/www.w3.org\\/2000\\/svg\\\" xmlns:xlink=\\\"http:\\/\\/www.w3.org\\/1999\\/xlink\\\" width=\\\"600\\\" height=\\\"400\\\" viewBox=\\\"0 0 2400 1600\\\">\\n<defs>\\n  <clipPath id=\\\"clip8000\\\">\\n    <rect x=\\\"0\\\" y=\\\"0\\\" width=\\\"2400\\\" height=\\\"1600\\\"\\/>\\n  <\\/clipPath>\\n<\\/defs>\\n<path clip-path=\\\"url(#clip8000)\\\" d=\\\"\\nM0 1600 L2400 1600 L2400 0 L0 0  Z\\n  \\\" fill=\\\"#ffffff\\\" fill-rule=\\\"evenodd\\\" fill-opacity=\\\"1\\\"\\/>\\n<defs>\\n  <clipPath id=\\\"clip8001\\\">\\n    <rect x=\\\"480\\\" y=\\\"0\\\" width=\\\"1681\\\" height=\\\"1600\\\"\\/>\\n  <\\/clipPath>\\n<\\/defs>\\n<path clip-path=\\\"url(#clip8000)\\\" d=\\\"\\nM153.898 1487.47 L2352.76 1487.47 L2352.76 47.2441 L153.898 47.2441  Z\\n  \\\" fill=\\\"#ffffff\\\" fill-rule=\\\"evenodd\\\" fill-opacity=\\\"1\\\"\\/>\\n<defs>\\n  <clipPath id=\\\"clip8002\\\">\\n    <rect x=\\\"153\\\" y=\\\"47\\\" width=\\\"2200\\\" height=\\\"1441\\\"\\/>\\n  <\\/clipPath>\\n<\\/defs>\\n<polyline clip-path=\\\"url(#clip8002)\\\" style=\\\"stroke:#000000; stroke-width:2; stroke-opacity:0.1; fill:none\\\" points=\\\"\\n  388.996,1487.47 388.996,47.2441 \\n  \\\"\\/>\\n<polyline clip-path=\\\"url(#clip8002)\\\" style=\\\"stroke:#000000; stroke-width:2; stroke-opacity:0.1; fill:none\\\" points=\\\"\\n  821.161,1487.47 821.161,47.2441 \\n  \\\"\\/>\\n<polyline clip-path=\\\"url(#clip8002)\\\" style=\\\"stroke:#000000; stroke-width:2; stroke-opacity:0.1; fill:none\\\" points=\\\"\\n  1253.33,1487.47 1253.33,47.2441 \\n  \\\"\\/>\\n<polyline clip-path=\\\"url(#clip8002)\\\" style=\\\"stroke:#000000; stroke-width:2; stroke-opacity:0.1; fill:none\\\" points=\\\"\\n  1685.49,1487.47 1685.49,47.2441 \\n  \\\"\\/>\\n<polyline clip-path=\\\"url(#clip8002)\\\" style=\\\"stroke:#000000; stroke-width:2; stroke-opacity:0.1; fill:none\\\" points=\\\"\\n  2117.66,1487.47 2117.66,47.2441 \\n  \\\"\\/>\\n<polyline clip-path=\\\"url(#clip8002)\\\" style=\\\"stroke:#000000; stroke-width:2; stroke-opacity:0.1; fill:none\\\" points=\\\"\\n  153.898,1446.71 2352.76,1446.71 \\n  \\\"\\/>\\n<polyline clip-path=\\\"url(#clip8002)\\\" style=\\\"stroke:#000000; stroke-width:2; stroke-opacity:0.1; fill:none\\\" points=\\\"\\n  153.898,1242.91 2352.76,1242.91 \\n  \\\"\\/>\\n<polyline clip-path=\\\"url(#clip8002)\\\" style=\\\"stroke:#000000; stroke-width:2; stroke-opacity:0.1; fill:none\\\" points=\\\"\\n  153.898,1039.1 2352.76,1039.1 \\n  \\\"\\/>\\n<polyline clip-path=\\\"url(#clip8002)\\\" style=\\\"stroke:#000000; stroke-width:2; stroke-opacity:0.1; fill:none\\\" points=\\\"\\n  153.898,835.295 2352.76,835.295 \\n  \\\"\\/>\\n<polyline clip-path=\\\"url(#clip8002)\\\" style=\\\"stroke:#000000; stroke-width:2; stroke-opacity:0.1; fill:none\\\" points=\\\"\\n  153.898,631.489 2352.76,631.489 \\n  \\\"\\/>\\n<polyline clip-path=\\\"url(#clip8002)\\\" style=\\\"stroke:#000000; stroke-width:2; stroke-opacity:0.1; fill:none\\\" points=\\\"\\n  153.898,427.682 2352.76,427.682 \\n  \\\"\\/>\\n<polyline clip-path=\\\"url(#clip8002)\\\" style=\\\"stroke:#000000; stroke-width:2; stroke-opacity:0.1; fill:none\\\" points=\\\"\\n  153.898,223.876 2352.76,223.876 \\n  \\\"\\/>\\n<polyline clip-path=\\\"url(#clip8000)\\\" style=\\\"stroke:#000000; stroke-width:4; stroke-opacity:1; fill:none\\\" points=\\\"\\n  153.898,1487.47 2352.76,1487.47 \\n  \\\"\\/>\\n<polyline clip-path=\\\"url(#clip8000)\\\" style=\\\"stroke:#000000; stroke-width:4; stroke-opacity:1; fill:none\\\" points=\\\"\\n  153.898,1487.47 153.898,47.2441 \\n  \\\"\\/>\\n<polyline clip-path=\\\"url(#clip8000)\\\" style=\\\"stroke:#000000; stroke-width:4; stroke-opacity:1; fill:none\\\" points=\\\"\\n  388.996,1487.47 388.996,1465.87 \\n  \\\"\\/>\\n<polyline clip-path=\\\"url(#clip8000)\\\" style=\\\"stroke:#000000; stroke-width:4; stroke-opacity:1; fill:none\\\" points=\\\"\\n  821.161,1487.47 821.161,1465.87 \\n  \\\"\\/>\\n<polyline clip-path=\\\"url(#clip8000)\\\" style=\\\"stroke:#000000; stroke-width:4; stroke-opacity:1; fill:none\\\" points=\\\"\\n  1253.33,1487.47 1253.33,1465.87 \\n  \\\"\\/>\\n<polyline clip-path=\\\"url(#clip8000)\\\" style=\\\"stroke:#000000; stroke-width:4; stroke-opacity:1; fill:none\\\" points=\\\"\\n  1685.49,1487.47 1685.49,1465.87 \\n  \\\"\\/>\\n<polyline clip-path=\\\"url(#clip8000)\\\" style=\\\"stroke:#000000; stroke-width:4; stroke-opacity:1; fill:none\\\" points=\\\"\\n  2117.66,1487.47 2117.66,1465.87 \\n  \\\"\\/>\\n<polyline clip-path=\\\"url(#clip8000)\\\" style=\\\"stroke:#000000; stroke-width:4; stroke-opacity:1; fill:none\\\" points=\\\"\\n  153.898,1446.71 186.881,1446.71 \\n  \\\"\\/>\\n<polyline clip-path=\\\"url(#clip8000)\\\" style=\\\"stroke:#000000; stroke-width:4; stroke-opacity:1; fill:none\\\" points=\\\"\\n  153.898,1242.91 186.881,1242.91 \\n  \\\"\\/>\\n<polyline clip-path=\\\"url(#clip8000)\\\" style=\\\"stroke:#000000; stroke-width:4; stroke-opacity:1; fill:none\\\" points=\\\"\\n  153.898,1039.1 186.881,1039.1 \\n  \\\"\\/>\\n<polyline clip-path=\\\"url(#clip8000)\\\" style=\\\"stroke:#000000; stroke-width:4; stroke-opacity:1; fill:none\\\" points=\\\"\\n  153.898,835.295 186.881,835.295 \\n  \\\"\\/>\\n<polyline clip-path=\\\"url(#clip8000)\\\" style=\\\"stroke:#000000; stroke-width:4; stroke-opacity:1; fill:none\\\" points=\\\"\\n  153.898,631.489 186.881,631.489 \\n  \\\"\\/>\\n<polyline clip-path=\\\"url(#clip8000)\\\" style=\\\"stroke:#000000; stroke-width:4; stroke-opacity:1; fill:none\\\" points=\\\"\\n  153.898,427.682 186.881,427.682 \\n  \\\"\\/>\\n<polyline clip-path=\\\"url(#clip8000)\\\" style=\\\"stroke:#000000; stroke-width:4; stroke-opacity:1; fill:none\\\" points=\\\"\\n  153.898,223.876 186.881,223.876 \\n  \\\"\\/>\\n<g clip-path=\\\"url(#clip8000)\\\">\\n<text style=\\\"fill:#000000; fill-opacity:1; font-family:Arial,Helvetica Neue,Helvetica,sans-serif; font-size:48px; text-anchor:middle;\\\" transform=\\\"rotate(0, 388.996, 1541.47)\\\" x=\\\"388.996\\\" y=\\\"1541.47\\\">-5.0<\\/text>\\n<\\/g>\\n<g clip-path=\\\"url(#clip8000)\\\">\\n<text style=\\\"fill:#000000; fill-opacity:1; font-family:Arial,Helvetica Neue,Helvetica,sans-serif; font-size:48px; text-anchor:middle;\\\" transform=\\\"rotate(0, 821.161, 1541.47)\\\" x=\\\"821.161\\\" y=\\\"1541.47\\\">-2.5<\\/text>\\n<\\/g>\\n<g clip-path=\\\"url(#clip8000)\\\">\\n<text style=\\\"fill:#000000; fill-opacity:1; font-family:Arial,Helvetica Neue,Helvetica,sans-serif; font-size:48px; text-anchor:middle;\\\" transform=\\\"rotate(0, 1253.33, 1541.47)\\\" x=\\\"1253.33\\\" y=\\\"1541.47\\\">0.0<\\/text>\\n<\\/g>\\n<g clip-path=\\\"url(#clip8000)\\\">\\n<text style=\\\"fill:#000000; fill-opacity:1; font-family:Arial,Helvetica Neue,Helvetica,sans-serif; font-size:48px; text-anchor:middle;\\\" transform=\\\"rotate(0, 1685.49, 1541.47)\\\" x=\\\"1685.49\\\" y=\\\"1541.47\\\">2.5<\\/text>\\n<\\/g>\\n<g clip-path=\\\"url(#clip8000)\\\">\\n<text style=\\\"fill:#000000; fill-opacity:1; font-family:Arial,Helvetica Neue,Helvetica,sans-serif; font-size:48px; text-anchor:middle;\\\" transform=\\\"rotate(0, 2117.66, 1541.47)\\\" x=\\\"2117.66\\\" y=\\\"1541.47\\\">5.0<\\/text>\\n<\\/g>\\n<g clip-path=\\\"url(#clip8000)\\\">\\n<text style=\\\"fill:#000000; fill-opacity:1; font-family:Arial,Helvetica Neue,Helvetica,sans-serif; font-size:48px; text-anchor:end;\\\" transform=\\\"rotate(0, 129.898, 1464.21)\\\" x=\\\"129.898\\\" y=\\\"1464.21\\\">0.0<\\/text>\\n<\\/g>\\n<g clip-path=\\\"url(#clip8000)\\\">\\n<text style=\\\"fill:#000000; fill-opacity:1; font-family:Arial,Helvetica Neue,Helvetica,sans-serif; font-size:48px; text-anchor:end;\\\" transform=\\\"rotate(0, 129.898, 1260.41)\\\" x=\\\"129.898\\\" y=\\\"1260.41\\\">0.1<\\/text>\\n<\\/g>\\n<g clip-path=\\\"url(#clip8000)\\\">\\n<text style=\\\"fill:#000000; fill-opacity:1; font-family:Arial,Helvetica Neue,Helvetica,sans-serif; font-size:48px; text-anchor:end;\\\" transform=\\\"rotate(0, 129.898, 1056.6)\\\" x=\\\"129.898\\\" y=\\\"1056.6\\\">0.2<\\/text>\\n<\\/g>\\n<g clip-path=\\\"url(#clip8000)\\\">\\n<text style=\\\"fill:#000000; fill-opacity:1; font-family:Arial,Helvetica Neue,Helvetica,sans-serif; font-size:48px; text-anchor:end;\\\" transform=\\\"rotate(0, 129.898, 852.795)\\\" x=\\\"129.898\\\" y=\\\"852.795\\\">0.3<\\/text>\\n<\\/g>\\n<g clip-path=\\\"url(#clip8000)\\\">\\n<text style=\\\"fill:#000000; fill-opacity:1; font-family:Arial,Helvetica Neue,Helvetica,sans-serif; font-size:48px; text-anchor:end;\\\" transform=\\\"rotate(0, 129.898, 648.989)\\\" x=\\\"129.898\\\" y=\\\"648.989\\\">0.4<\\/text>\\n<\\/g>\\n<g clip-path=\\\"url(#clip8000)\\\">\\n<text style=\\\"fill:#000000; fill-opacity:1; font-family:Arial,Helvetica Neue,Helvetica,sans-serif; font-size:48px; text-anchor:end;\\\" transform=\\\"rotate(0, 129.898, 445.182)\\\" x=\\\"129.898\\\" y=\\\"445.182\\\">0.5<\\/text>\\n<\\/g>\\n<g clip-path=\\\"url(#clip8000)\\\">\\n<text style=\\\"fill:#000000; fill-opacity:1; font-family:Arial,Helvetica Neue,Helvetica,sans-serif; font-size:48px; text-anchor:end;\\\" transform=\\\"rotate(0, 129.898, 241.376)\\\" x=\\\"129.898\\\" y=\\\"241.376\\\">0.6<\\/text>\\n<\\/g>\\n<path clip-path=\\\"url(#clip8002)\\\" d=\\\"\\nM388.996 1446.71 L388.996 1446.71 L423.569 1446.71 L423.569 1446.71 L388.996 1446.71 L388.996 1446.71  Z\\n  \\\" fill=\\\"#009af9\\\" fill-rule=\\\"evenodd\\\" fill-opacity=\\\"1\\\"\\/>\\n<polyline clip-path=\\\"url(#clip8002)\\\" style=\\\"stroke:#000000; stroke-width:4; stroke-opacity:1; fill:none\\\" points=\\\"\\n  388.996,1446.71 388.996,1446.71 423.569,1446.71 388.996,1446.71 \\n  \\\"\\/>\\n<path clip-path=\\\"url(#clip8002)\\\" d=\\\"\\nM423.569 1446.71 L423.569 1446.71 L458.142 1446.71 L458.142 1446.71 L423.569 1446.71 L423.569 1446.71  Z\\n  \\\" fill=\\\"#009af9\\\" fill-rule=\\\"evenodd\\\" fill-opacity=\\\"1\\\"\\/>\\n<polyline clip-path=\\\"url(#clip8002)\\\" style=\\\"stroke:#000000; stroke-width:4; stroke-opacity:1; fill:none\\\" points=\\\"\\n  423.569,1446.71 423.569,1446.71 458.142,1446.71 423.569,1446.71 \\n  \\\"\\/>\\n<path clip-path=\\\"url(#clip8002)\\\" d=\\\"\\nM458.142 1446.71 L458.142 1446.71 L492.716 1446.71 L492.716 1446.71 L458.142 1446.71 L458.142 1446.71  Z\\n  \\\" fill=\\\"#009af9\\\" fill-rule=\\\"evenodd\\\" fill-opacity=\\\"1\\\"\\/>\\n<polyline clip-path=\\\"url(#clip8002)\\\" style=\\\"stroke:#000000; stroke-width:4; stroke-opacity:1; fill:none\\\" points=\\\"\\n  458.142,1446.71 458.142,1446.71 492.716,1446.71 458.142,1446.71 \\n  \\\"\\/>\\n<path clip-path=\\\"url(#clip8002)\\\" d=\\\"\\nM492.716 1412.75 L492.716 1446.71 L527.289 1446.71 L527.289 1412.75 L492.716 1412.75 L492.716 1412.75  Z\\n  \\\" fill=\\\"#009af9\\\" fill-rule=\\\"evenodd\\\" fill-opacity=\\\"1\\\"\\/>\\n<polyline clip-path=\\\"url(#clip8002)\\\" style=\\\"stroke:#000000; stroke-width:4; stroke-opacity:1; fill:none\\\" points=\\\"\\n  492.716,1412.75 492.716,1446.71 527.289,1446.71 527.289,1412.75 492.716,1412.75 \\n  \\\"\\/>\\n<path clip-path=\\\"url(#clip8002)\\\" d=\\\"\\nM527.289 1412.75 L527.289 1446.71 L561.862 1446.71 L561.862 1412.75 L527.289 1412.75 L527.289 1412.75  Z\\n  \\\" fill=\\\"#009af9\\\" fill-rule=\\\"evenodd\\\" fill-opacity=\\\"1\\\"\\/>\\n<polyline clip-path=\\\"url(#clip8002)\\\" style=\\\"stroke:#000000; stroke-width:4; stroke-opacity:1; fill:none\\\" points=\\\"\\n  527.289,1412.75 527.289,1446.71 561.862,1446.71 561.862,1412.75 527.289,1412.75 \\n  \\\"\\/>\\n<path clip-path=\\\"url(#clip8002)\\\" d=\\\"\\nM561.862 1378.78 L561.862 1446.71 L596.435 1446.71 L596.435 1378.78 L561.862 1378.78 L561.862 1378.78  Z\\n  \\\" fill=\\\"#009af9\\\" fill-rule=\\\"evenodd\\\" fill-opacity=\\\"1\\\"\\/>\\n<polyline clip-path=\\\"url(#clip8002)\\\" style=\\\"stroke:#000000; stroke-width:4; stroke-opacity:1; fill:none\\\" points=\\\"\\n  561.862,1378.78 561.862,1446.71 596.435,1446.71 596.435,1378.78 561.862,1378.78 \\n  \\\"\\/>\\n<path clip-path=\\\"url(#clip8002)\\\" d=\\\"\\nM596.435 1344.81 L596.435 1446.71 L631.009 1446.71 L631.009 1344.81 L596.435 1344.81 L596.435 1344.81  Z\\n  \\\" fill=\\\"#009af9\\\" fill-rule=\\\"evenodd\\\" fill-opacity=\\\"1\\\"\\/>\\n<polyline clip-path=\\\"url(#clip8002)\\\" style=\\\"stroke:#000000; stroke-width:4; stroke-opacity:1; fill:none\\\" points=\\\"\\n  596.435,1344.81 596.435,1446.71 631.009,1446.71 631.009,1344.81 596.435,1344.81 \\n  \\\"\\/>\\n<path clip-path=\\\"url(#clip8002)\\\" d=\\\"\\nM631.009 1344.81 L631.009 1446.71 L665.582 1446.71 L665.582 1344.81 L631.009 1344.81 L631.009 1344.81  Z\\n  \\\" fill=\\\"#009af9\\\" fill-rule=\\\"evenodd\\\" fill-opacity=\\\"1\\\"\\/>\\n<polyline clip-path=\\\"url(#clip8002)\\\" style=\\\"stroke:#000000; stroke-width:4; stroke-opacity:1; fill:none\\\" points=\\\"\\n  631.009,1344.81 631.009,1446.71 665.582,1446.71 665.582,1344.81 631.009,1344.81 \\n  \\\"\\/>\\n<path clip-path=\\\"url(#clip8002)\\\" d=\\\"\\nM665.582 1310.84 L665.582 1446.71 L700.155 1446.71 L700.155 1310.84 L665.582 1310.84 L665.582 1310.84  Z\\n  \\\" fill=\\\"#009af9\\\" fill-rule=\\\"evenodd\\\" fill-opacity=\\\"1\\\"\\/>\\n<polyline clip-path=\\\"url(#clip8002)\\\" style=\\\"stroke:#000000; stroke-width:4; stroke-opacity:1; fill:none\\\" points=\\\"\\n  665.582,1310.84 665.582,1446.71 700.155,1446.71 700.155,1310.84 665.582,1310.84 \\n  \\\"\\/>\\n<path clip-path=\\\"url(#clip8002)\\\" d=\\\"\\nM700.155 1141 L700.155 1446.71 L734.728 1446.71 L734.728 1141 L700.155 1141 L700.155 1141  Z\\n  \\\" fill=\\\"#009af9\\\" fill-rule=\\\"evenodd\\\" fill-opacity=\\\"1\\\"\\/>\\n<polyline clip-path=\\\"url(#clip8002)\\\" style=\\\"stroke:#000000; stroke-width:4; stroke-opacity:1; fill:none\\\" points=\\\"\\n  700.155,1141 700.155,1446.71 734.728,1446.71 734.728,1141 700.155,1141 \\n  \\\"\\/>\\n<path clip-path=\\\"url(#clip8002)\\\" d=\\\"\\nM734.728 1174.97 L734.728 1446.71 L769.302 1446.71 L769.302 1174.97 L734.728 1174.97 L734.728 1174.97  Z\\n  \\\" fill=\\\"#009af9\\\" fill-rule=\\\"evenodd\\\" fill-opacity=\\\"1\\\"\\/>\\n<polyline clip-path=\\\"url(#clip8002)\\\" style=\\\"stroke:#000000; stroke-width:4; stroke-opacity:1; fill:none\\\" points=\\\"\\n  734.728,1174.97 734.728,1446.71 769.302,1446.71 769.302,1174.97 734.728,1174.97 \\n  \\\"\\/>\\n<path clip-path=\\\"url(#clip8002)\\\" d=\\\"\\nM769.302 767.359 L769.302 1446.71 L803.875 1446.71 L803.875 767.359 L769.302 767.359 L769.302 767.359  Z\\n  \\\" fill=\\\"#009af9\\\" fill-rule=\\\"evenodd\\\" fill-opacity=\\\"1\\\"\\/>\\n<polyline clip-path=\\\"url(#clip8002)\\\" style=\\\"stroke:#000000; stroke-width:4; stroke-opacity:1; fill:none\\\" points=\\\"\\n  769.302,767.359 769.302,1446.71 803.875,1446.71 803.875,767.359 769.302,767.359 \\n  \\\"\\/>\\n<path clip-path=\\\"url(#clip8002)\\\" d=\\\"\\nM803.875 835.295 L803.875 1446.71 L838.448 1446.71 L838.448 835.295 L803.875 835.295 L803.875 835.295  Z\\n  \\\" fill=\\\"#009af9\\\" fill-rule=\\\"evenodd\\\" fill-opacity=\\\"1\\\"\\/>\\n<polyline clip-path=\\\"url(#clip8002)\\\" style=\\\"stroke:#000000; stroke-width:4; stroke-opacity:1; fill:none\\\" points=\\\"\\n  803.875,835.295 803.875,1446.71 838.448,1446.71 838.448,835.295 803.875,835.295 \\n  \\\"\\/>\\n<path clip-path=\\\"url(#clip8002)\\\" d=\\\"\\nM838.448 699.424 L838.448 1446.71 L873.021 1446.71 L873.021 699.424 L838.448 699.424 L838.448 699.424  Z\\n  \\\" fill=\\\"#009af9\\\" fill-rule=\\\"evenodd\\\" fill-opacity=\\\"1\\\"\\/>\\n<polyline clip-path=\\\"url(#clip8002)\\\" style=\\\"stroke:#000000; stroke-width:4; stroke-opacity:1; fill:none\\\" points=\\\"\\n  838.448,699.424 838.448,1446.71 873.021,1446.71 873.021,699.424 838.448,699.424 \\n  \\\"\\/>\\n<path clip-path=\\\"url(#clip8002)\\\" d=\\\"\\nM873.021 427.682 L873.021 1446.71 L907.595 1446.71 L907.595 427.682 L873.021 427.682 L873.021 427.682  Z\\n  \\\" fill=\\\"#009af9\\\" fill-rule=\\\"evenodd\\\" fill-opacity=\\\"1\\\"\\/>\\n<polyline clip-path=\\\"url(#clip8002)\\\" style=\\\"stroke:#000000; stroke-width:4; stroke-opacity:1; fill:none\\\" points=\\\"\\n  873.021,427.682 873.021,1446.71 907.595,1446.71 907.595,427.682 873.021,427.682 \\n  \\\"\\/>\\n<path clip-path=\\\"url(#clip8002)\\\" d=\\\"\\nM907.595 88.0053 L907.595 1446.71 L942.168 1446.71 L942.168 88.0053 L907.595 88.0053 L907.595 88.0053  Z\\n  \\\" fill=\\\"#009af9\\\" fill-rule=\\\"evenodd\\\" fill-opacity=\\\"1\\\"\\/>\\n<polyline clip-path=\\\"url(#clip8002)\\\" style=\\\"stroke:#000000; stroke-width:4; stroke-opacity:1; fill:none\\\" points=\\\"\\n  907.595,88.0053 907.595,1446.71 942.168,1446.71 942.168,88.0053 907.595,88.0053 \\n  \\\"\\/>\\n<path clip-path=\\\"url(#clip8002)\\\" d=\\\"\\nM942.168 1174.97 L942.168 1446.71 L976.741 1446.71 L976.741 1174.97 L942.168 1174.97 L942.168 1174.97  Z\\n  \\\" fill=\\\"#009af9\\\" fill-rule=\\\"evenodd\\\" fill-opacity=\\\"1\\\"\\/>\\n<polyline clip-path=\\\"url(#clip8002)\\\" style=\\\"stroke:#000000; stroke-width:4; stroke-opacity:1; fill:none\\\" points=\\\"\\n  942.168,1174.97 942.168,1446.71 976.741,1446.71 976.741,1174.97 942.168,1174.97 \\n  \\\"\\/>\\n<path clip-path=\\\"url(#clip8002)\\\" d=\\\"\\nM976.741 495.618 L976.741 1446.71 L1011.31 1446.71 L1011.31 495.618 L976.741 495.618 L976.741 495.618  Z\\n  \\\" fill=\\\"#009af9\\\" fill-rule=\\\"evenodd\\\" fill-opacity=\\\"1\\\"\\/>\\n<polyline clip-path=\\\"url(#clip8002)\\\" style=\\\"stroke:#000000; stroke-width:4; stroke-opacity:1; fill:none\\\" points=\\\"\\n  976.741,495.618 976.741,1446.71 1011.31,1446.71 1011.31,495.618 976.741,495.618 \\n  \\\"\\/>\\n<path clip-path=\\\"url(#clip8002)\\\" d=\\\"\\nM1011.31 597.521 L1011.31 1446.71 L1045.89 1446.71 L1045.89 597.521 L1011.31 597.521 L1011.31 597.521  Z\\n  \\\" fill=\\\"#009af9\\\" fill-rule=\\\"evenodd\\\" fill-opacity=\\\"1\\\"\\/>\\n<polyline clip-path=\\\"url(#clip8002)\\\" style=\\\"stroke:#000000; stroke-width:4; stroke-opacity:1; fill:none\\\" points=\\\"\\n  1011.31,597.521 1011.31,1446.71 1045.89,1446.71 1045.89,597.521 1011.31,597.521 \\n  \\\"\\/>\\n<path clip-path=\\\"url(#clip8002)\\\" d=\\\"\\nM1045.89 665.456 L1045.89 1446.71 L1080.46 1446.71 L1080.46 665.456 L1045.89 665.456 L1045.89 665.456  Z\\n  \\\" fill=\\\"#009af9\\\" fill-rule=\\\"evenodd\\\" fill-opacity=\\\"1\\\"\\/>\\n<polyline clip-path=\\\"url(#clip8002)\\\" style=\\\"stroke:#000000; stroke-width:4; stroke-opacity:1; fill:none\\\" points=\\\"\\n  1045.89,665.456 1045.89,1446.71 1080.46,1446.71 1080.46,665.456 1045.89,665.456 \\n  \\\"\\/>\\n<path clip-path=\\\"url(#clip8002)\\\" d=\\\"\\nM1080.46 835.295 L1080.46 1446.71 L1115.03 1446.71 L1115.03 835.295 L1080.46 835.295 L1080.46 835.295  Z\\n  \\\" fill=\\\"#009af9\\\" fill-rule=\\\"evenodd\\\" fill-opacity=\\\"1\\\"\\/>\\n<polyline clip-path=\\\"url(#clip8002)\\\" style=\\\"stroke:#000000; stroke-width:4; stroke-opacity:1; fill:none\\\" points=\\\"\\n  1080.46,835.295 1080.46,1446.71 1115.03,1446.71 1115.03,835.295 1080.46,835.295 \\n  \\\"\\/>\\n<path clip-path=\\\"url(#clip8002)\\\" d=\\\"\\nM1115.03 1005.13 L1115.03 1446.71 L1149.61 1446.71 L1149.61 1005.13 L1115.03 1005.13 L1115.03 1005.13  Z\\n  \\\" fill=\\\"#009af9\\\" fill-rule=\\\"evenodd\\\" fill-opacity=\\\"1\\\"\\/>\\n<polyline clip-path=\\\"url(#clip8002)\\\" style=\\\"stroke:#000000; stroke-width:4; stroke-opacity:1; fill:none\\\" points=\\\"\\n  1115.03,1005.13 1115.03,1446.71 1149.61,1446.71 1149.61,1005.13 1115.03,1005.13 \\n  \\\"\\/>\\n<path clip-path=\\\"url(#clip8002)\\\" d=\\\"\\nM1149.61 1208.94 L1149.61 1446.71 L1184.18 1446.71 L1184.18 1208.94 L1149.61 1208.94 L1149.61 1208.94  Z\\n  \\\" fill=\\\"#009af9\\\" fill-rule=\\\"evenodd\\\" fill-opacity=\\\"1\\\"\\/>\\n<polyline clip-path=\\\"url(#clip8002)\\\" style=\\\"stroke:#000000; stroke-width:4; stroke-opacity:1; fill:none\\\" points=\\\"\\n  1149.61,1208.94 1149.61,1446.71 1184.18,1446.71 1184.18,1208.94 1149.61,1208.94 \\n  \\\"\\/>\\n<path clip-path=\\\"url(#clip8002)\\\" d=\\\"\\nM1184.18 1378.78 L1184.18 1446.71 L1218.75 1446.71 L1218.75 1378.78 L1184.18 1378.78 L1184.18 1378.78  Z\\n  \\\" fill=\\\"#009af9\\\" fill-rule=\\\"evenodd\\\" fill-opacity=\\\"1\\\"\\/>\\n<polyline clip-path=\\\"url(#clip8002)\\\" style=\\\"stroke:#000000; stroke-width:4; stroke-opacity:1; fill:none\\\" points=\\\"\\n  1184.18,1378.78 1184.18,1446.71 1218.75,1446.71 1218.75,1378.78 1184.18,1378.78 \\n  \\\"\\/>\\n<path clip-path=\\\"url(#clip8002)\\\" d=\\\"\\nM1218.75 1344.81 L1218.75 1446.71 L1253.33 1446.71 L1253.33 1344.81 L1218.75 1344.81 L1218.75 1344.81  Z\\n  \\\" fill=\\\"#009af9\\\" fill-rule=\\\"evenodd\\\" fill-opacity=\\\"1\\\"\\/>\\n<polyline clip-path=\\\"url(#clip8002)\\\" style=\\\"stroke:#000000; stroke-width:4; stroke-opacity:1; fill:none\\\" points=\\\"\\n  1218.75,1344.81 1218.75,1446.71 1253.33,1446.71 1253.33,1344.81 1218.75,1344.81 \\n  \\\"\\/>\\n<path clip-path=\\\"url(#clip8002)\\\" d=\\\"\\nM1253.33 1276.87 L1253.33 1446.71 L1287.9 1446.71 L1287.9 1276.87 L1253.33 1276.87 L1253.33 1276.87  Z\\n  \\\" fill=\\\"#009af9\\\" fill-rule=\\\"evenodd\\\" fill-opacity=\\\"1\\\"\\/>\\n<polyline clip-path=\\\"url(#clip8002)\\\" style=\\\"stroke:#000000; stroke-width:4; stroke-opacity:1; fill:none\\\" points=\\\"\\n  1253.33,1276.87 1253.33,1446.71 1287.9,1446.71 1287.9,1276.87 1253.33,1276.87 \\n  \\\"\\/>\\n<path clip-path=\\\"url(#clip8002)\\\" d=\\\"\\nM1287.9 1378.78 L1287.9 1446.71 L1322.47 1446.71 L1322.47 1378.78 L1287.9 1378.78 L1287.9 1378.78  Z\\n  \\\" fill=\\\"#009af9\\\" fill-rule=\\\"evenodd\\\" fill-opacity=\\\"1\\\"\\/>\\n<polyline clip-path=\\\"url(#clip8002)\\\" style=\\\"stroke:#000000; stroke-width:4; stroke-opacity:1; fill:none\\\" points=\\\"\\n  1287.9,1378.78 1287.9,1446.71 1322.47,1446.71 1322.47,1378.78 1287.9,1378.78 \\n  \\\"\\/>\\n<path clip-path=\\\"url(#clip8002)\\\" d=\\\"\\nM1322.47 1344.81 L1322.47 1446.71 L1357.05 1446.71 L1357.05 1344.81 L1322.47 1344.81 L1322.47 1344.81  Z\\n  \\\" fill=\\\"#009af9\\\" fill-rule=\\\"evenodd\\\" fill-opacity=\\\"1\\\"\\/>\\n<polyline clip-path=\\\"url(#clip8002)\\\" style=\\\"stroke:#000000; stroke-width:4; stroke-opacity:1; fill:none\\\" points=\\\"\\n  1322.47,1344.81 1322.47,1446.71 1357.05,1446.71 1357.05,1344.81 1322.47,1344.81 \\n  \\\"\\/>\\n<path clip-path=\\\"url(#clip8002)\\\" d=\\\"\\nM1357.05 1446.71 L1357.05 1446.71 L1391.62 1446.71 L1391.62 1446.71 L1357.05 1446.71 L1357.05 1446.71  Z\\n  \\\" fill=\\\"#009af9\\\" fill-rule=\\\"evenodd\\\" fill-opacity=\\\"1\\\"\\/>\\n<polyline clip-path=\\\"url(#clip8002)\\\" style=\\\"stroke:#000000; stroke-width:4; stroke-opacity:1; fill:none\\\" points=\\\"\\n  1357.05,1446.71 1357.05,1446.71 1391.62,1446.71 1357.05,1446.71 \\n  \\\"\\/>\\n<path clip-path=\\\"url(#clip8002)\\\" d=\\\"\\nM1391.62 1412.75 L1391.62 1446.71 L1426.19 1446.71 L1426.19 1412.75 L1391.62 1412.75 L1391.62 1412.75  Z\\n  \\\" fill=\\\"#009af9\\\" fill-rule=\\\"evenodd\\\" fill-opacity=\\\"1\\\"\\/>\\n<polyline clip-path=\\\"url(#clip8002)\\\" style=\\\"stroke:#000000; stroke-width:4; stroke-opacity:1; fill:none\\\" points=\\\"\\n  1391.62,1412.75 1391.62,1446.71 1426.19,1446.71 1426.19,1412.75 1391.62,1412.75 \\n  \\\"\\/>\\n<path clip-path=\\\"url(#clip8002)\\\" d=\\\"\\nM1426.19 1446.71 L1426.19 1446.71 L1460.77 1446.71 L1460.77 1446.71 L1426.19 1446.71 L1426.19 1446.71  Z\\n  \\\" fill=\\\"#009af9\\\" fill-rule=\\\"evenodd\\\" fill-opacity=\\\"1\\\"\\/>\\n<polyline clip-path=\\\"url(#clip8002)\\\" style=\\\"stroke:#000000; stroke-width:4; stroke-opacity:1; fill:none\\\" points=\\\"\\n  1426.19,1446.71 1426.19,1446.71 1460.77,1446.71 1426.19,1446.71 \\n  \\\"\\/>\\n<path clip-path=\\\"url(#clip8002)\\\" d=\\\"\\nM1460.77 1412.75 L1460.77 1446.71 L1495.34 1446.71 L1495.34 1412.75 L1460.77 1412.75 L1460.77 1412.75  Z\\n  \\\" fill=\\\"#009af9\\\" fill-rule=\\\"evenodd\\\" fill-opacity=\\\"1\\\"\\/>\\n<polyline clip-path=\\\"url(#clip8002)\\\" style=\\\"stroke:#000000; stroke-width:4; stroke-opacity:1; fill:none\\\" points=\\\"\\n  1460.77,1412.75 1460.77,1446.71 1495.34,1446.71 1495.34,1412.75 1460.77,1412.75 \\n  \\\"\\/>\\n<path clip-path=\\\"url(#clip8002)\\\" d=\\\"\\nM1495.34 1446.71 L1495.34 1446.71 L1529.91 1446.71 L1529.91 1446.71 L1495.34 1446.71 L1495.34 1446.71  Z\\n  \\\" fill=\\\"#009af9\\\" fill-rule=\\\"evenodd\\\" fill-opacity=\\\"1\\\"\\/>\\n<polyline clip-path=\\\"url(#clip8002)\\\" style=\\\"stroke:#000000; stroke-width:4; stroke-opacity:1; fill:none\\\" points=\\\"\\n  1495.34,1446.71 1495.34,1446.71 1529.91,1446.71 1495.34,1446.71 \\n  \\\"\\/>\\n<path clip-path=\\\"url(#clip8002)\\\" d=\\\"\\nM1529.91 1446.71 L1529.91 1446.71 L1564.49 1446.71 L1564.49 1446.71 L1529.91 1446.71 L1529.91 1446.71  Z\\n  \\\" fill=\\\"#009af9\\\" fill-rule=\\\"evenodd\\\" fill-opacity=\\\"1\\\"\\/>\\n<polyline clip-path=\\\"url(#clip8002)\\\" style=\\\"stroke:#000000; stroke-width:4; stroke-opacity:1; fill:none\\\" points=\\\"\\n  1529.91,1446.71 1529.91,1446.71 1564.49,1446.71 1529.91,1446.71 \\n  \\\"\\/>\\n<path clip-path=\\\"url(#clip8002)\\\" d=\\\"\\nM1564.49 1446.71 L1564.49 1446.71 L1599.06 1446.71 L1599.06 1446.71 L1564.49 1446.71 L1564.49 1446.71  Z\\n  \\\" fill=\\\"#009af9\\\" fill-rule=\\\"evenodd\\\" fill-opacity=\\\"1\\\"\\/>\\n<polyline clip-path=\\\"url(#clip8002)\\\" style=\\\"stroke:#000000; stroke-width:4; stroke-opacity:1; fill:none\\\" points=\\\"\\n  1564.49,1446.71 1564.49,1446.71 1599.06,1446.71 1564.49,1446.71 \\n  \\\"\\/>\\n<path clip-path=\\\"url(#clip8002)\\\" d=\\\"\\nM1599.06 1446.71 L1599.06 1446.71 L1633.63 1446.71 L1633.63 1446.71 L1599.06 1446.71 L1599.06 1446.71  Z\\n  \\\" fill=\\\"#009af9\\\" fill-rule=\\\"evenodd\\\" fill-opacity=\\\"1\\\"\\/>\\n<polyline clip-path=\\\"url(#clip8002)\\\" style=\\\"stroke:#000000; stroke-width:4; stroke-opacity:1; fill:none\\\" points=\\\"\\n  1599.06,1446.71 1599.06,1446.71 1633.63,1446.71 1599.06,1446.71 \\n  \\\"\\/>\\n<path clip-path=\\\"url(#clip8002)\\\" d=\\\"\\nM1633.63 1446.71 L1633.63 1446.71 L1668.21 1446.71 L1668.21 1446.71 L1633.63 1446.71 L1633.63 1446.71  Z\\n  \\\" fill=\\\"#009af9\\\" fill-rule=\\\"evenodd\\\" fill-opacity=\\\"1\\\"\\/>\\n<polyline clip-path=\\\"url(#clip8002)\\\" style=\\\"stroke:#000000; stroke-width:4; stroke-opacity:1; fill:none\\\" points=\\\"\\n  1633.63,1446.71 1633.63,1446.71 1668.21,1446.71 1633.63,1446.71 \\n  \\\"\\/>\\n<polyline clip-path=\\\"url(#clip8002)\\\" style=\\\"stroke:#ff0000; stroke-width:12; stroke-opacity:1; fill:none\\\" points=\\\"\\n  216.13,1446.71 233.416,1446.71 250.703,1446.71 267.99,1446.71 285.276,1446.71 302.563,1446.7 319.85,1446.69 337.136,1446.67 354.423,1446.63 371.709,1446.55 \\n  388.996,1446.43 406.283,1446.2 423.569,1445.83 440.856,1445.23 458.142,1444.28 475.429,1442.81 492.716,1440.6 510.002,1437.33 527.289,1432.65 544.576,1426.08 \\n  561.862,1417.08 579.149,1405.04 596.435,1389.29 613.722,1369.16 631.009,1344 648.295,1313.26 665.582,1276.54 682.869,1233.66 700.155,1184.71 717.442,1130.09 \\n  734.728,1070.56 752.015,1007.23 769.302,941.523 786.588,875.139 803.875,809.971 821.161,748.009 838.448,691.232 855.735,641.491 873.021,600.412 890.308,569.296 \\n  907.595,549.059 924.881,540.186 942.168,542.722 959.454,556.283 976.741,580.103 994.028,613.093 1011.31,653.916 1028.6,701.071 1045.89,752.978 1063.17,808.053 \\n  1080.46,864.781 1097.75,921.772 1115.03,977.803 1132.32,1031.84 1149.61,1083.07 1166.89,1130.86 1184.18,1174.81 1201.47,1214.68 1218.75,1250.38 1236.04,1281.96 \\n  1253.33,1309.59 1270.61,1333.49 1287.9,1353.96 1305.19,1371.3 1322.47,1385.86 1339.76,1397.97 1357.05,1407.95 1374.33,1416.1 1391.62,1422.71 1408.91,1428.02 \\n  1426.19,1432.25 1443.48,1435.6 1460.77,1438.23 1478.05,1440.28 1495.34,1441.86 1512.63,1443.08 1529.91,1444 1547.2,1444.71 1564.49,1445.24 1581.77,1445.63 \\n  1599.06,1445.93 1616.35,1446.15 1633.63,1446.3 1650.92,1446.42 1668.21,1446.51 1685.49,1446.57 1702.78,1446.61 1720.07,1446.64 1737.35,1446.66 1754.64,1446.68 \\n  1771.93,1446.69 1789.21,1446.7 1806.5,1446.7 1823.79,1446.71 1841.07,1446.71 1858.36,1446.71 1875.65,1446.71 1892.93,1446.71 1910.22,1446.71 1927.51,1446.71 \\n  1944.79,1446.71 1962.08,1446.71 1979.36,1446.71 1996.65,1446.71 2013.94,1446.71 2031.22,1446.71 2048.51,1446.71 2065.8,1446.71 2083.08,1446.71 2100.37,1446.71 \\n  2117.66,1446.71 2134.94,1446.71 2152.23,1446.71 2169.52,1446.71 2186.8,1446.71 2204.09,1446.71 2221.38,1446.71 2238.66,1446.71 2255.95,1446.71 2273.24,1446.71 \\n  2290.52,1446.71 \\n  \\\"\\/>\\n<path clip-path=\\\"url(#clip8000)\\\" d=\\\"\\nM1596.77 312.204 L2280.76 312.204 L2280.76 130.764 L1596.77 130.764  Z\\n  \\\" fill=\\\"#ffffff\\\" fill-rule=\\\"evenodd\\\" fill-opacity=\\\"1\\\"\\/>\\n<polyline clip-path=\\\"url(#clip8000)\\\" style=\\\"stroke:#000000; stroke-width:4; stroke-opacity:1; fill:none\\\" points=\\\"\\n  1596.77,312.204 2280.76,312.204 2280.76,130.764 1596.77,130.764 1596.77,312.204 \\n  \\\"\\/>\\n<path clip-path=\\\"url(#clip8000)\\\" d=\\\"\\nM1620.77 215.436 L1764.77 215.436 L1764.77 167.052 L1620.77 167.052 L1620.77 215.436  Z\\n  \\\" fill=\\\"#009af9\\\" fill-rule=\\\"evenodd\\\" fill-opacity=\\\"1\\\"\\/>\\n<polyline clip-path=\\\"url(#clip8000)\\\" style=\\\"stroke:#000000; stroke-width:4; stroke-opacity:1; fill:none\\\" points=\\\"\\n  1620.77,215.436 1764.77,215.436 1764.77,167.052 1620.77,167.052 1620.77,215.436 \\n  \\\"\\/>\\n<g clip-path=\\\"url(#clip8000)\\\">\\n<text style=\\\"fill:#000000; fill-opacity:1; font-family:Arial,Helvetica Neue,Helvetica,sans-serif; font-size:48px; text-anchor:start;\\\" transform=\\\"rotate(0, 1788.77, 208.744)\\\" x=\\\"1788.77\\\" y=\\\"208.744\\\">Empirical distribution<\\/text>\\n<\\/g>\\n<polyline clip-path=\\\"url(#clip8000)\\\" style=\\\"stroke:#ff0000; stroke-width:12; stroke-opacity:1; fill:none\\\" points=\\\"\\n  1620.77,251.724 1764.77,251.724 \\n  \\\"\\/>\\n<g clip-path=\\\"url(#clip8000)\\\">\\n<text style=\\\"fill:#000000; fill-opacity:1; font-family:Arial,Helvetica Neue,Helvetica,sans-serif; font-size:48px; text-anchor:start;\\\" transform=\\\"rotate(0, 1788.77, 269.224)\\\" x=\\\"1788.77\\\" y=\\\"269.224\\\">Tracy-Widom PDF<\\/text>\\n<\\/g>\\n<\\/svg>\\n\"},\"nodeType\":\"DOM\",\"type\":\"node\",\"instanceArgs\":{\"namespace\":\"html\",\"tag\":\"div\"},\"children\":[]}]}}}},\"children\":[{\"props\":{},\"nodeType\":\"ObservableNode\",\"type\":\"node\",\"instanceArgs\":{\"id\":\"ob_56\",\"name\":\"obs-node\"},\"children\":[]}]}]},\n",
       "            window,\n",
       "        );\n",
       "    } else {\n",
       "        document\n",
       "            .querySelector('[data-webio-mountpoint=\"5224507298721227956\"]')\n",
       "            .innerHTML = (\n",
       "                '<strong>WebIO not detected. Please read ' +\n",
       "                '<a href=\"https://juliagizmos.github.io/WebIO.jl/latest/troubleshooting/not-detected/\">the troubleshooting guide</a> ' +\n",
       "                'for more information on how to resolve this issue.' +\n",
       "                '</strong>'\n",
       "            );\n",
       "    }\n",
       "    </script>\n",
       "</div>\n"
      ],
      "text/plain": [
       "Node{WebIO.DOM}(WebIO.DOM(:html, :div), Any[Node{WebIO.DOM}(WebIO.DOM(:html, :div), Any[Scope(Node{WebIO.DOM}(WebIO.DOM(:html, :div), Any[Node{WebIO.DOM}(WebIO.DOM(:html, :div), Any[Node{WebIO.DOM}(WebIO.DOM(:html, :label), Any[\"N\"], Dict{Symbol,Any}(:className => \"interact \",:style => Dict{Any,Any}(:padding => \"5px 10px 0px 10px\")))], Dict{Symbol,Any}(:className => \"interact-flex-row-left\")), Node{WebIO.DOM}(WebIO.DOM(:html, :div), Any[Node{WebIO.DOM}(WebIO.DOM(:html, :input), Any[], Dict{Symbol,Any}(:max => 10,:min => 1,:attributes => Dict{Any,Any}(:type => \"range\",Symbol(\"data-bind\") => \"numericValue: index, valueUpdate: 'input', event: {change: function (){this.changes(this.changes()+1)}}\",\"orient\" => \"horizontal\"),:step => 1,:className => \"slider slider is-fullwidth\",:style => Dict{Any,Any}()))], Dict{Symbol,Any}(:className => \"interact-flex-row-center\")), Node{WebIO.DOM}(WebIO.DOM(:html, :div), Any[Node{WebIO.DOM}(WebIO.DOM(:html, :p), Any[], Dict{Symbol,Any}(:attributes => Dict(\"data-bind\" => \"text: formatted_val\")))], Dict{Symbol,Any}(:className => \"interact-flex-row-right\"))], Dict{Symbol,Any}(:className => \"interact-flex-row interact-widget\")), Dict{String,Tuple{Observables.AbstractObservable,Union{Nothing, Bool}}}(\"changes\" => (Observable{Int64} with 1 listeners. Value:\n",
       "0, nothing),\"index\" => (Observable{Any} with 2 listeners. Value:\n",
       "5, nothing)), Set(String[]), nothing, Asset[Asset(\"js\", \"knockout\", \"C:\\\\Users\\\\matte\\\\.julia\\\\packages\\\\Knockout\\\\1sDlc\\\\src\\\\..\\\\assets\\\\knockout.js\"), Asset(\"js\", \"knockout_punches\", \"C:\\\\Users\\\\matte\\\\.julia\\\\packages\\\\Knockout\\\\1sDlc\\\\src\\\\..\\\\assets\\\\knockout_punches.js\"), Asset(\"js\", nothing, \"C:\\\\Users\\\\matte\\\\.julia\\\\packages\\\\InteractBase\\\\9mFwe\\\\src\\\\..\\\\assets\\\\all.js\"), Asset(\"css\", nothing, \"C:\\\\Users\\\\matte\\\\.julia\\\\packages\\\\InteractBase\\\\9mFwe\\\\src\\\\..\\\\assets\\\\style.css\"), Asset(\"css\", nothing, \"C:\\\\Users\\\\matte\\\\.julia\\\\packages\\\\Interact\\\\SbgIk\\\\src\\\\..\\\\assets\\\\bulma_confined.min.css\")], Dict{Any,Any}(\"changes\" => Any[WebIO.JSString(\"(function (val){return (val!=this.model[\\\"changes\\\"]()) ? (this.valueFromJulia[\\\"changes\\\"]=true, this.model[\\\"changes\\\"](val)) : undefined})\")],\"index\" => Any[WebIO.JSString(\"(function (val){return (val!=this.model[\\\"index\\\"]()) ? (this.valueFromJulia[\\\"index\\\"]=true, this.model[\\\"index\\\"](val)) : undefined})\")]), WebIO.ConnectionPool(Channel{Any}(sz_max:32,sz_curr:0), Set(AbstractConnection[]), Base.GenericCondition{Base.AlwaysLockedST}(Base.InvasiveLinkedList{Task}(Task (runnable) @0x00000000129d2b30, Task (runnable) @0x00000000129d2b30), Base.AlwaysLockedST(1))), WebIO.JSString[WebIO.JSString(\"function () {\\n    var handler = (function (ko, koPunches) {\\n    ko.punches.enableAll();\\n    ko.bindingHandlers.numericValue = {\\n        init: function(element, valueAccessor, allBindings, data, context) {\\n            var stringified = ko.observable(ko.unwrap(valueAccessor()));\\n            stringified.subscribe(function(value) {\\n                var val = parseFloat(value);\\n                if (!isNaN(val)) {\\n                    valueAccessor()(val);\\n                }\\n            });\\n            valueAccessor().subscribe(function(value) {\\n                var str = JSON.stringify(value);\\n                if ((str == \\\"0\\\") && ([\\\"-0\\\", \\\"-0.\\\"].indexOf(stringified()) >= 0))\\n                     return;\\n                 if ([\\\"null\\\", \\\"\\\"].indexOf(str) >= 0)\\n                     return;\\n                stringified(str);\\n            });\\n            ko.applyBindingsToNode(\\n                element,\\n                {\\n                    value: stringified,\\n                    valueUpdate: allBindings.get('valueUpdate'),\\n                },\\n                context,\\n            );\\n        }\\n    };\\n    var json_data = {\\\"formatted_vals\\\":[\\\"10\\\",\\\"20\\\",\\\"30\\\",\\\"40\\\",\\\"50\\\",\\\"60\\\",\\\"70\\\",\\\"80\\\",\\\"90\\\",\\\"100\\\"],\\\"changes\\\":WebIO.getval({\\\"name\\\":\\\"changes\\\",\\\"scope\\\":\\\"3340014779579841822\\\",\\\"id\\\":\\\"ob_42\\\",\\\"type\\\":\\\"observable\\\"}),\\\"index\\\":WebIO.getval({\\\"name\\\":\\\"index\\\",\\\"scope\\\":\\\"3340014779579841822\\\",\\\"id\\\":\\\"ob_41\\\",\\\"type\\\":\\\"observable\\\"})};\\n    var self = this;\\n    function AppViewModel() {\\n        for (var key in json_data) {\\n            var el = json_data[key];\\n            this[key] = Array.isArray(el) ? ko.observableArray(el) : ko.observable(el);\\n        }\\n        \\n        [this[\\\"formatted_val\\\"]=ko.computed(    function(){\\n        return this.formatted_vals()[parseInt(this.index())-(1)];\\n    }\\n,this)]\\n        [this[\\\"changes\\\"].subscribe((function (val){!(this.valueFromJulia[\\\"changes\\\"]) ? (WebIO.setval({\\\"name\\\":\\\"changes\\\",\\\"scope\\\":\\\"3340014779579841822\\\",\\\"id\\\":\\\"ob_42\\\",\\\"type\\\":\\\"observable\\\"},val)) : undefined; return this.valueFromJulia[\\\"changes\\\"]=false}),self),this[\\\"index\\\"].subscribe((function (val){!(this.valueFromJulia[\\\"index\\\"]) ? (WebIO.setval({\\\"name\\\":\\\"index\\\",\\\"scope\\\":\\\"3340014779579841822\\\",\\\"id\\\":\\\"ob_41\\\",\\\"type\\\":\\\"observable\\\"},val)) : undefined; return this.valueFromJulia[\\\"index\\\"]=false}),self)]\\n        \\n    }\\n    self.model = new AppViewModel();\\n    self.valueFromJulia = {};\\n    for (var key in json_data) {\\n        self.valueFromJulia[key] = false;\\n    }\\n    ko.applyBindings(self.model, self.dom);\\n}\\n);\\n    (WebIO.importBlock({\\\"data\\\":[{\\\"name\\\":\\\"knockout\\\",\\\"type\\\":\\\"js\\\",\\\"url\\\":\\\"/assetserver/254160226b58162a42111ea27214076747de1cf2-knockout.js\\\"},{\\\"name\\\":\\\"knockout_punches\\\",\\\"type\\\":\\\"js\\\",\\\"url\\\":\\\"/assetserver/2d0bf510fb683322318163f3ec7562806e4b1104-knockout_punches.js\\\"}],\\\"type\\\":\\\"async_block\\\"})).then((imports) => handler.apply(this, imports));\\n}\\n\")])], Dict{Symbol,Any}(:className => \"field interact-widget\")), Node{WebIO.DOM}(WebIO.DOM(:html, :div), Any[Scope(Node{WebIO.DOM}(WebIO.DOM(:html, :div), Any[Node{WebIO.DOM}(WebIO.DOM(:html, :div), Any[Node{WebIO.DOM}(WebIO.DOM(:html, :label), Any[\"law_name\"], Dict{Symbol,Any}(:className => \"interact \",:style => Dict{Any,Any}(:padding => \"5px 10px 0px 10px\")))], Dict{Symbol,Any}(:className => \"interact-flex-row-left\")), Node{WebIO.DOM}(WebIO.DOM(:html, :div), Any[Node{WebIO.DOM}(WebIO.DOM(:html, :div), Any[Node{WebIO.DOM}(WebIO.DOM(:html, :span), Any[Node{WebIO.DOM}(WebIO.DOM(:html, :label), Any[], Dict{Symbol,Any}(:attributes => Dict(\"data-bind\" => \"text : key\")))], Dict{Symbol,Any}(:attributes => Dict(\"data-bind\" => \"click: function (){\\$root.update(val)}, css: {'is-primary is-selected' : \\$root.index() == val, 'interact-widget is-medium button ' : true}\")))], Dict{Symbol,Any}(:attributes => (\"data-bind\" => \"foreach : options_js\"),:className => \"buttons has-addons is-centered\"))], Dict{Symbol,Any}(:className => \"interact-flex-row-center\")), Node{WebIO.DOM}(WebIO.DOM(:html, :div), Any[Node{WebIO.DOM}(WebIO.DOM(:html, :div), Any[], Dict{Symbol,Any}())], Dict{Symbol,Any}(:className => \"interact-flex-row-right\"))], Dict{Symbol,Any}(:className => \"interact-flex-row interact-widget\")), Dict{String,Tuple{Observables.AbstractObservable,Union{Nothing, Bool}}}(\"options_js\" => (Observable{Any} with 1 listeners. Value:\n",
       "OrderedDict[OrderedDict{String,Any}(\"key\" => \"Geometric\",\"val\" => 1,\"id\" => \"idikupLfls\"), OrderedDict{String,Any}(\"key\" => \"Exponential\",\"val\" => 2,\"id\" => \"id13To2hpL\")], nothing),\"index\" => (Observable{Any} with 2 listeners. Value:\n",
       "1, nothing)), Set(String[]), nothing, Asset[Asset(\"js\", \"knockout\", \"C:\\\\Users\\\\matte\\\\.julia\\\\packages\\\\Knockout\\\\1sDlc\\\\src\\\\..\\\\assets\\\\knockout.js\"), Asset(\"js\", \"knockout_punches\", \"C:\\\\Users\\\\matte\\\\.julia\\\\packages\\\\Knockout\\\\1sDlc\\\\src\\\\..\\\\assets\\\\knockout_punches.js\"), Asset(\"js\", nothing, \"C:\\\\Users\\\\matte\\\\.julia\\\\packages\\\\InteractBase\\\\9mFwe\\\\src\\\\..\\\\assets\\\\all.js\"), Asset(\"css\", nothing, \"C:\\\\Users\\\\matte\\\\.julia\\\\packages\\\\InteractBase\\\\9mFwe\\\\src\\\\..\\\\assets\\\\style.css\"), Asset(\"css\", nothing, \"C:\\\\Users\\\\matte\\\\.julia\\\\packages\\\\Interact\\\\SbgIk\\\\src\\\\..\\\\assets\\\\bulma_confined.min.css\")], Dict{Any,Any}(\"options_js\" => Any[WebIO.JSString(\"(function (val){return (val!=this.model[\\\"options_js\\\"]()) ? (this.valueFromJulia[\\\"options_js\\\"]=true, this.model[\\\"options_js\\\"](val)) : undefined})\")],\"index\" => Any[WebIO.JSString(\"(function (val){return (val!=this.model[\\\"index\\\"]()) ? (this.valueFromJulia[\\\"index\\\"]=true, this.model[\\\"index\\\"](val)) : undefined})\")]), WebIO.ConnectionPool(Channel{Any}(sz_max:32,sz_curr:0), Set(AbstractConnection[]), Base.GenericCondition{Base.AlwaysLockedST}(Base.InvasiveLinkedList{Task}(Task (runnable) @0x0000000012c49cd0, Task (runnable) @0x0000000012c49cd0), Base.AlwaysLockedST(1))), WebIO.JSString[WebIO.JSString(\"function () {\\n    var handler = (function (ko, koPunches) {\\n    ko.punches.enableAll();\\n    ko.bindingHandlers.numericValue = {\\n        init: function(element, valueAccessor, allBindings, data, context) {\\n            var stringified = ko.observable(ko.unwrap(valueAccessor()));\\n            stringified.subscribe(function(value) {\\n                var val = parseFloat(value);\\n                if (!isNaN(val)) {\\n                    valueAccessor()(val);\\n                }\\n            });\\n            valueAccessor().subscribe(function(value) {\\n                var str = JSON.stringify(value);\\n                if ((str == \\\"0\\\") && ([\\\"-0\\\", \\\"-0.\\\"].indexOf(stringified()) >= 0))\\n                     return;\\n                 if ([\\\"null\\\", \\\"\\\"].indexOf(str) >= 0)\\n                     return;\\n                stringified(str);\\n            });\\n            ko.applyBindingsToNode(\\n                element,\\n                {\\n                    value: stringified,\\n                    valueUpdate: allBindings.get('valueUpdate'),\\n                },\\n                context,\\n            );\\n        }\\n    };\\n    var json_data = {\\\"options_js\\\":WebIO.getval({\\\"name\\\":\\\"options_js\\\",\\\"scope\\\":\\\"7198650139252358154\\\",\\\"id\\\":\\\"ob_47\\\",\\\"type\\\":\\\"observable\\\"}),\\\"index\\\":WebIO.getval({\\\"name\\\":\\\"index\\\",\\\"scope\\\":\\\"7198650139252358154\\\",\\\"id\\\":\\\"ob_46\\\",\\\"type\\\":\\\"observable\\\"})};\\n    var self = this;\\n    function AppViewModel() {\\n        for (var key in json_data) {\\n            var el = json_data[key];\\n            this[key] = Array.isArray(el) ? ko.observableArray(el) : ko.observable(el);\\n        }\\n        [this[\\\"update\\\"]=function (val) {this.index(val)}]\\n        \\n        [this[\\\"options_js\\\"].subscribe((function (val){!(this.valueFromJulia[\\\"options_js\\\"]) ? (WebIO.setval({\\\"name\\\":\\\"options_js\\\",\\\"scope\\\":\\\"7198650139252358154\\\",\\\"id\\\":\\\"ob_47\\\",\\\"type\\\":\\\"observable\\\"},val)) : undefined; return this.valueFromJulia[\\\"options_js\\\"]=false}),self),this[\\\"index\\\"].subscribe((function (val){!(this.valueFromJulia[\\\"index\\\"]) ? (WebIO.setval({\\\"name\\\":\\\"index\\\",\\\"scope\\\":\\\"7198650139252358154\\\",\\\"id\\\":\\\"ob_46\\\",\\\"type\\\":\\\"observable\\\"},val)) : undefined; return this.valueFromJulia[\\\"index\\\"]=false}),self)]\\n        \\n    }\\n    self.model = new AppViewModel();\\n    self.valueFromJulia = {};\\n    for (var key in json_data) {\\n        self.valueFromJulia[key] = false;\\n    }\\n    ko.applyBindings(self.model, self.dom);\\n}\\n);\\n    (WebIO.importBlock({\\\"data\\\":[{\\\"name\\\":\\\"knockout\\\",\\\"type\\\":\\\"js\\\",\\\"url\\\":\\\"/assetserver/254160226b58162a42111ea27214076747de1cf2-knockout.js\\\"},{\\\"name\\\":\\\"knockout_punches\\\",\\\"type\\\":\\\"js\\\",\\\"url\\\":\\\"/assetserver/2d0bf510fb683322318163f3ec7562806e4b1104-knockout_punches.js\\\"}],\\\"type\\\":\\\"async_block\\\"})).then((imports) => handler.apply(this, imports));\\n}\\n\")])], Dict{Symbol,Any}(:className => \"interact-widget\")), Node{WebIO.DOM}(WebIO.DOM(:html, :div), Any[Scope(Node{WebIO.DOM}(WebIO.DOM(:html, :div), Any[Node{WebIO.DOM}(WebIO.DOM(:html, :div), Any[Node{WebIO.DOM}(WebIO.DOM(:html, :label), Any[\"q\"], Dict{Symbol,Any}(:className => \"interact \",:style => Dict{Any,Any}(:padding => \"5px 10px 0px 10px\")))], Dict{Symbol,Any}(:className => \"interact-flex-row-left\")), Node{WebIO.DOM}(WebIO.DOM(:html, :div), Any[Node{WebIO.DOM}(WebIO.DOM(:html, :input), Any[], Dict{Symbol,Any}(:max => 9,:min => 1,:attributes => Dict{Any,Any}(:type => \"range\",Symbol(\"data-bind\") => \"numericValue: index, valueUpdate: 'input', event: {change: function (){this.changes(this.changes()+1)}}\",\"orient\" => \"horizontal\"),:step => 1,:className => \"slider slider is-fullwidth\",:style => Dict{Any,Any}()))], Dict{Symbol,Any}(:className => \"interact-flex-row-center\")), Node{WebIO.DOM}(WebIO.DOM(:html, :div), Any[Node{WebIO.DOM}(WebIO.DOM(:html, :p), Any[], Dict{Symbol,Any}(:attributes => Dict(\"data-bind\" => \"text: formatted_val\")))], Dict{Symbol,Any}(:className => \"interact-flex-row-right\"))], Dict{Symbol,Any}(:className => \"interact-flex-row interact-widget\")), Dict{String,Tuple{Observables.AbstractObservable,Union{Nothing, Bool}}}(\"changes\" => (Observable{Int64} with 1 listeners. Value:\n",
       "0, nothing),\"index\" => (Observable{Any} with 2 listeners. Value:\n",
       "5, nothing)), Set(String[]), nothing, Asset[Asset(\"js\", \"knockout\", \"C:\\\\Users\\\\matte\\\\.julia\\\\packages\\\\Knockout\\\\1sDlc\\\\src\\\\..\\\\assets\\\\knockout.js\"), Asset(\"js\", \"knockout_punches\", \"C:\\\\Users\\\\matte\\\\.julia\\\\packages\\\\Knockout\\\\1sDlc\\\\src\\\\..\\\\assets\\\\knockout_punches.js\"), Asset(\"js\", nothing, \"C:\\\\Users\\\\matte\\\\.julia\\\\packages\\\\InteractBase\\\\9mFwe\\\\src\\\\..\\\\assets\\\\all.js\"), Asset(\"css\", nothing, \"C:\\\\Users\\\\matte\\\\.julia\\\\packages\\\\InteractBase\\\\9mFwe\\\\src\\\\..\\\\assets\\\\style.css\"), Asset(\"css\", nothing, \"C:\\\\Users\\\\matte\\\\.julia\\\\packages\\\\Interact\\\\SbgIk\\\\src\\\\..\\\\assets\\\\bulma_confined.min.css\")], Dict{Any,Any}(\"changes\" => Any[WebIO.JSString(\"(function (val){return (val!=this.model[\\\"changes\\\"]()) ? (this.valueFromJulia[\\\"changes\\\"]=true, this.model[\\\"changes\\\"](val)) : undefined})\")],\"index\" => Any[WebIO.JSString(\"(function (val){return (val!=this.model[\\\"index\\\"]()) ? (this.valueFromJulia[\\\"index\\\"]=true, this.model[\\\"index\\\"](val)) : undefined})\")]), WebIO.ConnectionPool(Channel{Any}(sz_max:32,sz_curr:0), Set(AbstractConnection[]), Base.GenericCondition{Base.AlwaysLockedST}(Base.InvasiveLinkedList{Task}(Task (runnable) @0x0000000012c4b0f0, Task (runnable) @0x0000000012c4b0f0), Base.AlwaysLockedST(1))), WebIO.JSString[WebIO.JSString(\"function () {\\n    var handler = (function (ko, koPunches) {\\n    ko.punches.enableAll();\\n    ko.bindingHandlers.numericValue = {\\n        init: function(element, valueAccessor, allBindings, data, context) {\\n            var stringified = ko.observable(ko.unwrap(valueAccessor()));\\n            stringified.subscribe(function(value) {\\n                var val = parseFloat(value);\\n                if (!isNaN(val)) {\\n                    valueAccessor()(val);\\n                }\\n            });\\n            valueAccessor().subscribe(function(value) {\\n                var str = JSON.stringify(value);\\n                if ((str == \\\"0\\\") && ([\\\"-0\\\", \\\"-0.\\\"].indexOf(stringified()) >= 0))\\n                     return;\\n                 if ([\\\"null\\\", \\\"\\\"].indexOf(str) >= 0)\\n                     return;\\n                stringified(str);\\n            });\\n            ko.applyBindingsToNode(\\n                element,\\n                {\\n                    value: stringified,\\n                    valueUpdate: allBindings.get('valueUpdate'),\\n                },\\n                context,\\n            );\\n        }\\n    };\\n    var json_data = {\\\"formatted_vals\\\":[\\\"0.1\\\",\\\"0.2\\\",\\\"0.3\\\",\\\"0.4\\\",\\\"0.5\\\",\\\"0.6\\\",\\\"0.7\\\",\\\"0.8\\\",\\\"0.9\\\"],\\\"changes\\\":WebIO.getval({\\\"name\\\":\\\"changes\\\",\\\"scope\\\":\\\"3701845850066359653\\\",\\\"id\\\":\\\"ob_50\\\",\\\"type\\\":\\\"observable\\\"}),\\\"index\\\":WebIO.getval({\\\"name\\\":\\\"index\\\",\\\"scope\\\":\\\"3701845850066359653\\\",\\\"id\\\":\\\"ob_49\\\",\\\"type\\\":\\\"observable\\\"})};\\n    var self = this;\\n    function AppViewModel() {\\n        for (var key in json_data) {\\n            var el = json_data[key];\\n            this[key] = Array.isArray(el) ? ko.observableArray(el) : ko.observable(el);\\n        }\\n        \\n        [this[\\\"formatted_val\\\"]=ko.computed(    function(){\\n        return this.formatted_vals()[parseInt(this.index())-(1)];\\n    }\\n,this)]\\n        [this[\\\"changes\\\"].subscribe((function (val){!(this.valueFromJulia[\\\"changes\\\"]) ? (WebIO.setval({\\\"name\\\":\\\"changes\\\",\\\"scope\\\":\\\"3701845850066359653\\\",\\\"id\\\":\\\"ob_50\\\",\\\"type\\\":\\\"observable\\\"},val)) : undefined; return this.valueFromJulia[\\\"changes\\\"]=false}),self),this[\\\"index\\\"].subscribe((function (val){!(this.valueFromJulia[\\\"index\\\"]) ? (WebIO.setval({\\\"name\\\":\\\"index\\\",\\\"scope\\\":\\\"3701845850066359653\\\",\\\"id\\\":\\\"ob_49\\\",\\\"type\\\":\\\"observable\\\"},val)) : undefined; return this.valueFromJulia[\\\"index\\\"]=false}),self)]\\n        \\n    }\\n    self.model = new AppViewModel();\\n    self.valueFromJulia = {};\\n    for (var key in json_data) {\\n        self.valueFromJulia[key] = false;\\n    }\\n    ko.applyBindings(self.model, self.dom);\\n}\\n);\\n    (WebIO.importBlock({\\\"data\\\":[{\\\"name\\\":\\\"knockout\\\",\\\"type\\\":\\\"js\\\",\\\"url\\\":\\\"/assetserver/254160226b58162a42111ea27214076747de1cf2-knockout.js\\\"},{\\\"name\\\":\\\"knockout_punches\\\",\\\"type\\\":\\\"js\\\",\\\"url\\\":\\\"/assetserver/2d0bf510fb683322318163f3ec7562806e4b1104-knockout_punches.js\\\"}],\\\"type\\\":\\\"async_block\\\"})).then((imports) => handler.apply(this, imports));\\n}\\n\")])], Dict{Symbol,Any}(:className => \"field interact-widget\")), Node{WebIO.DOM}(WebIO.DOM(:html, :div), Any[Scope(Node{WebIO.DOM}(WebIO.DOM(:html, :div), Any[Node{WebIO.DOM}(WebIO.DOM(:html, :div), Any[Node{WebIO.DOM}(WebIO.DOM(:html, :label), Any[\"λ\"], Dict{Symbol,Any}(:className => \"interact \",:style => Dict{Any,Any}(:padding => \"5px 10px 0px 10px\")))], Dict{Symbol,Any}(:className => \"interact-flex-row-left\")), Node{WebIO.DOM}(WebIO.DOM(:html, :div), Any[Node{WebIO.DOM}(WebIO.DOM(:html, :input), Any[], Dict{Symbol,Any}(:max => 10,:min => 1,:attributes => Dict{Any,Any}(:type => \"range\",Symbol(\"data-bind\") => \"numericValue: index, valueUpdate: 'input', event: {change: function (){this.changes(this.changes()+1)}}\",\"orient\" => \"horizontal\"),:step => 1,:className => \"slider slider is-fullwidth\",:style => Dict{Any,Any}()))], Dict{Symbol,Any}(:className => \"interact-flex-row-center\")), Node{WebIO.DOM}(WebIO.DOM(:html, :div), Any[Node{WebIO.DOM}(WebIO.DOM(:html, :p), Any[], Dict{Symbol,Any}(:attributes => Dict(\"data-bind\" => \"text: formatted_val\")))], Dict{Symbol,Any}(:className => \"interact-flex-row-right\"))], Dict{Symbol,Any}(:className => \"interact-flex-row interact-widget\")), Dict{String,Tuple{Observables.AbstractObservable,Union{Nothing, Bool}}}(\"changes\" => (Observable{Int64} with 1 listeners. Value:\n",
       "0, nothing),\"index\" => (Observable{Int64} with 2 listeners. Value:\n",
       "5, nothing)), Set(String[]), nothing, Asset[Asset(\"js\", \"knockout\", \"C:\\\\Users\\\\matte\\\\.julia\\\\packages\\\\Knockout\\\\1sDlc\\\\src\\\\..\\\\assets\\\\knockout.js\"), Asset(\"js\", \"knockout_punches\", \"C:\\\\Users\\\\matte\\\\.julia\\\\packages\\\\Knockout\\\\1sDlc\\\\src\\\\..\\\\assets\\\\knockout_punches.js\"), Asset(\"js\", nothing, \"C:\\\\Users\\\\matte\\\\.julia\\\\packages\\\\InteractBase\\\\9mFwe\\\\src\\\\..\\\\assets\\\\all.js\"), Asset(\"css\", nothing, \"C:\\\\Users\\\\matte\\\\.julia\\\\packages\\\\InteractBase\\\\9mFwe\\\\src\\\\..\\\\assets\\\\style.css\"), Asset(\"css\", nothing, \"C:\\\\Users\\\\matte\\\\.julia\\\\packages\\\\Interact\\\\SbgIk\\\\src\\\\..\\\\assets\\\\bulma_confined.min.css\")], Dict{Any,Any}(\"changes\" => Any[WebIO.JSString(\"(function (val){return (val!=this.model[\\\"changes\\\"]()) ? (this.valueFromJulia[\\\"changes\\\"]=true, this.model[\\\"changes\\\"](val)) : undefined})\")],\"index\" => Any[WebIO.JSString(\"(function (val){return (val!=this.model[\\\"index\\\"]()) ? (this.valueFromJulia[\\\"index\\\"]=true, this.model[\\\"index\\\"](val)) : undefined})\")]), WebIO.ConnectionPool(Channel{Any}(sz_max:32,sz_curr:0), Set(AbstractConnection[]), Base.GenericCondition{Base.AlwaysLockedST}(Base.InvasiveLinkedList{Task}(Task (runnable) @0x0000000012c74e70, Task (runnable) @0x0000000012c74e70), Base.AlwaysLockedST(1))), WebIO.JSString[WebIO.JSString(\"function () {\\n    var handler = (function (ko, koPunches) {\\n    ko.punches.enableAll();\\n    ko.bindingHandlers.numericValue = {\\n        init: function(element, valueAccessor, allBindings, data, context) {\\n            var stringified = ko.observable(ko.unwrap(valueAccessor()));\\n            stringified.subscribe(function(value) {\\n                var val = parseFloat(value);\\n                if (!isNaN(val)) {\\n                    valueAccessor()(val);\\n                }\\n            });\\n            valueAccessor().subscribe(function(value) {\\n                var str = JSON.stringify(value);\\n                if ((str == \\\"0\\\") && ([\\\"-0\\\", \\\"-0.\\\"].indexOf(stringified()) >= 0))\\n                     return;\\n                 if ([\\\"null\\\", \\\"\\\"].indexOf(str) >= 0)\\n                     return;\\n                stringified(str);\\n            });\\n            ko.applyBindingsToNode(\\n                element,\\n                {\\n                    value: stringified,\\n                    valueUpdate: allBindings.get('valueUpdate'),\\n                },\\n                context,\\n            );\\n        }\\n    };\\n    var json_data = {\\\"formatted_vals\\\":[\\\"1\\\",\\\"2\\\",\\\"3\\\",\\\"4\\\",\\\"5\\\",\\\"6\\\",\\\"7\\\",\\\"8\\\",\\\"9\\\",\\\"10\\\"],\\\"changes\\\":WebIO.getval({\\\"name\\\":\\\"changes\\\",\\\"scope\\\":\\\"210609206460918608\\\",\\\"id\\\":\\\"ob_52\\\",\\\"type\\\":\\\"observable\\\"}),\\\"index\\\":WebIO.getval({\\\"name\\\":\\\"index\\\",\\\"scope\\\":\\\"210609206460918608\\\",\\\"id\\\":\\\"ob_51\\\",\\\"type\\\":\\\"observable\\\"})};\\n    var self = this;\\n    function AppViewModel() {\\n        for (var key in json_data) {\\n            var el = json_data[key];\\n            this[key] = Array.isArray(el) ? ko.observableArray(el) : ko.observable(el);\\n        }\\n        \\n        [this[\\\"formatted_val\\\"]=ko.computed(    function(){\\n        return this.formatted_vals()[parseInt(this.index())-(1)];\\n    }\\n,this)]\\n        [this[\\\"changes\\\"].subscribe((function (val){!(this.valueFromJulia[\\\"changes\\\"]) ? (WebIO.setval({\\\"name\\\":\\\"changes\\\",\\\"scope\\\":\\\"210609206460918608\\\",\\\"id\\\":\\\"ob_52\\\",\\\"type\\\":\\\"observable\\\"},val)) : undefined; return this.valueFromJulia[\\\"changes\\\"]=false}),self),this[\\\"index\\\"].subscribe((function (val){!(this.valueFromJulia[\\\"index\\\"]) ? (WebIO.setval({\\\"name\\\":\\\"index\\\",\\\"scope\\\":\\\"210609206460918608\\\",\\\"id\\\":\\\"ob_51\\\",\\\"type\\\":\\\"observable\\\"},val)) : undefined; return this.valueFromJulia[\\\"index\\\"]=false}),self)]\\n        \\n    }\\n    self.model = new AppViewModel();\\n    self.valueFromJulia = {};\\n    for (var key in json_data) {\\n        self.valueFromJulia[key] = false;\\n    }\\n    ko.applyBindings(self.model, self.dom);\\n}\\n);\\n    (WebIO.importBlock({\\\"data\\\":[{\\\"name\\\":\\\"knockout\\\",\\\"type\\\":\\\"js\\\",\\\"url\\\":\\\"/assetserver/254160226b58162a42111ea27214076747de1cf2-knockout.js\\\"},{\\\"name\\\":\\\"knockout_punches\\\",\\\"type\\\":\\\"js\\\",\\\"url\\\":\\\"/assetserver/2d0bf510fb683322318163f3ec7562806e4b1104-knockout_punches.js\\\"}],\\\"type\\\":\\\"async_block\\\"})).then((imports) => handler.apply(this, imports));\\n}\\n\")])], Dict{Symbol,Any}(:className => \"field interact-widget\")), Observable{Any} with 0 listeners. Value:\n",
       "Node{WebIO.DOM}(WebIO.DOM(:html, :div), Any[Plot{Plots.GRBackend() n=2}], Dict{Symbol,Any}(:className => \"interact-flex-row interact-widget\"))], Dict{Symbol,Any}())"
      ]
     },
     "execution_count": 14,
     "metadata": {
      "application/vnd.webio.node+json": {
       "kernelId": "0a5dac8e-7109-40fb-8a95-e2baccb695d6"
      }
     },
     "output_type": "execute_result"
    }
   ],
   "source": [
    "@manipulate for N = RANGE_N, law_name = [\"Geometric\", \"Exponential\"], q = RANGE_q, λ = RANGE_λ\n",
    "    if(law_name == \"Geometric\")\n",
    "        res = d[law_name][q][N]\n",
    "        γ, σ = renorm_params(Geometric(q))\n",
    "    else\n",
    "        res = d[law_name][λ][N]\n",
    "        γ, σ = renorm_params(Exponential(λ))\n",
    "    end\n",
    "    norm_res = (res .- γ*N) ./ (σ * N^(1/3))\n",
    "    histogram(norm_res, normalize=true, bins=-5:0.2:2.5, label = \"Empirical distribution\")\n",
    "    plot!(xs, TW_pdf, lw = 3, color = \"red\", label = \"Tracy-Widom PDF\")\n",
    "end"
   ]
  },
  {
   "cell_type": "code",
   "execution_count": 17,
   "metadata": {},
   "outputs": [
    {
     "data": {
      "image/svg+xml": [
       "<?xml version=\"1.0\" encoding=\"utf-8\"?>\n",
       "<svg xmlns=\"http://www.w3.org/2000/svg\" xmlns:xlink=\"http://www.w3.org/1999/xlink\" width=\"600\" height=\"400\" viewBox=\"0 0 2400 1600\">\n",
       "<defs>\n",
       "  <clipPath id=\"clip9600\">\n",
       "    <rect x=\"0\" y=\"0\" width=\"2400\" height=\"1600\"/>\n",
       "  </clipPath>\n",
       "</defs>\n",
       "<path clip-path=\"url(#clip9600)\" d=\"\n",
       "M0 1600 L2400 1600 L2400 0 L0 0  Z\n",
       "  \" fill=\"#ffffff\" fill-rule=\"evenodd\" fill-opacity=\"1\"/>\n",
       "<defs>\n",
       "  <clipPath id=\"clip9601\">\n",
       "    <rect x=\"480\" y=\"0\" width=\"1681\" height=\"1600\"/>\n",
       "  </clipPath>\n",
       "</defs>\n",
       "<path clip-path=\"url(#clip9600)\" d=\"\n",
       "M153.898 1487.47 L2352.76 1487.47 L2352.76 47.2441 L153.898 47.2441  Z\n",
       "  \" fill=\"#ffffff\" fill-rule=\"evenodd\" fill-opacity=\"1\"/>\n",
       "<defs>\n",
       "  <clipPath id=\"clip9602\">\n",
       "    <rect x=\"153\" y=\"47\" width=\"2200\" height=\"1441\"/>\n",
       "  </clipPath>\n",
       "</defs>\n",
       "<polyline clip-path=\"url(#clip9602)\" style=\"stroke:#000000; stroke-width:2; stroke-opacity:0.1; fill:none\" points=\"\n",
       "  388.996,1487.47 388.996,47.2441 \n",
       "  \"/>\n",
       "<polyline clip-path=\"url(#clip9602)\" style=\"stroke:#000000; stroke-width:2; stroke-opacity:0.1; fill:none\" points=\"\n",
       "  821.161,1487.47 821.161,47.2441 \n",
       "  \"/>\n",
       "<polyline clip-path=\"url(#clip9602)\" style=\"stroke:#000000; stroke-width:2; stroke-opacity:0.1; fill:none\" points=\"\n",
       "  1253.33,1487.47 1253.33,47.2441 \n",
       "  \"/>\n",
       "<polyline clip-path=\"url(#clip9602)\" style=\"stroke:#000000; stroke-width:2; stroke-opacity:0.1; fill:none\" points=\"\n",
       "  1685.49,1487.47 1685.49,47.2441 \n",
       "  \"/>\n",
       "<polyline clip-path=\"url(#clip9602)\" style=\"stroke:#000000; stroke-width:2; stroke-opacity:0.1; fill:none\" points=\"\n",
       "  2117.66,1487.47 2117.66,47.2441 \n",
       "  \"/>\n",
       "<polyline clip-path=\"url(#clip9602)\" style=\"stroke:#000000; stroke-width:2; stroke-opacity:0.1; fill:none\" points=\"\n",
       "  153.898,1446.71 2352.76,1446.71 \n",
       "  \"/>\n",
       "<polyline clip-path=\"url(#clip9602)\" style=\"stroke:#000000; stroke-width:2; stroke-opacity:0.1; fill:none\" points=\"\n",
       "  153.898,1220.26 2352.76,1220.26 \n",
       "  \"/>\n",
       "<polyline clip-path=\"url(#clip9602)\" style=\"stroke:#000000; stroke-width:2; stroke-opacity:0.1; fill:none\" points=\"\n",
       "  153.898,993.811 2352.76,993.811 \n",
       "  \"/>\n",
       "<polyline clip-path=\"url(#clip9602)\" style=\"stroke:#000000; stroke-width:2; stroke-opacity:0.1; fill:none\" points=\"\n",
       "  153.898,767.359 2352.76,767.359 \n",
       "  \"/>\n",
       "<polyline clip-path=\"url(#clip9602)\" style=\"stroke:#000000; stroke-width:2; stroke-opacity:0.1; fill:none\" points=\"\n",
       "  153.898,540.908 2352.76,540.908 \n",
       "  \"/>\n",
       "<polyline clip-path=\"url(#clip9602)\" style=\"stroke:#000000; stroke-width:2; stroke-opacity:0.1; fill:none\" points=\"\n",
       "  153.898,314.457 2352.76,314.457 \n",
       "  \"/>\n",
       "<polyline clip-path=\"url(#clip9602)\" style=\"stroke:#000000; stroke-width:2; stroke-opacity:0.1; fill:none\" points=\"\n",
       "  153.898,88.0053 2352.76,88.0053 \n",
       "  \"/>\n",
       "<polyline clip-path=\"url(#clip9600)\" style=\"stroke:#000000; stroke-width:4; stroke-opacity:1; fill:none\" points=\"\n",
       "  153.898,1487.47 2352.76,1487.47 \n",
       "  \"/>\n",
       "<polyline clip-path=\"url(#clip9600)\" style=\"stroke:#000000; stroke-width:4; stroke-opacity:1; fill:none\" points=\"\n",
       "  153.898,1487.47 153.898,47.2441 \n",
       "  \"/>\n",
       "<polyline clip-path=\"url(#clip9600)\" style=\"stroke:#000000; stroke-width:4; stroke-opacity:1; fill:none\" points=\"\n",
       "  388.996,1487.47 388.996,1465.87 \n",
       "  \"/>\n",
       "<polyline clip-path=\"url(#clip9600)\" style=\"stroke:#000000; stroke-width:4; stroke-opacity:1; fill:none\" points=\"\n",
       "  821.161,1487.47 821.161,1465.87 \n",
       "  \"/>\n",
       "<polyline clip-path=\"url(#clip9600)\" style=\"stroke:#000000; stroke-width:4; stroke-opacity:1; fill:none\" points=\"\n",
       "  1253.33,1487.47 1253.33,1465.87 \n",
       "  \"/>\n",
       "<polyline clip-path=\"url(#clip9600)\" style=\"stroke:#000000; stroke-width:4; stroke-opacity:1; fill:none\" points=\"\n",
       "  1685.49,1487.47 1685.49,1465.87 \n",
       "  \"/>\n",
       "<polyline clip-path=\"url(#clip9600)\" style=\"stroke:#000000; stroke-width:4; stroke-opacity:1; fill:none\" points=\"\n",
       "  2117.66,1487.47 2117.66,1465.87 \n",
       "  \"/>\n",
       "<polyline clip-path=\"url(#clip9600)\" style=\"stroke:#000000; stroke-width:4; stroke-opacity:1; fill:none\" points=\"\n",
       "  153.898,1446.71 186.881,1446.71 \n",
       "  \"/>\n",
       "<polyline clip-path=\"url(#clip9600)\" style=\"stroke:#000000; stroke-width:4; stroke-opacity:1; fill:none\" points=\"\n",
       "  153.898,1220.26 186.881,1220.26 \n",
       "  \"/>\n",
       "<polyline clip-path=\"url(#clip9600)\" style=\"stroke:#000000; stroke-width:4; stroke-opacity:1; fill:none\" points=\"\n",
       "  153.898,993.811 186.881,993.811 \n",
       "  \"/>\n",
       "<polyline clip-path=\"url(#clip9600)\" style=\"stroke:#000000; stroke-width:4; stroke-opacity:1; fill:none\" points=\"\n",
       "  153.898,767.359 186.881,767.359 \n",
       "  \"/>\n",
       "<polyline clip-path=\"url(#clip9600)\" style=\"stroke:#000000; stroke-width:4; stroke-opacity:1; fill:none\" points=\"\n",
       "  153.898,540.908 186.881,540.908 \n",
       "  \"/>\n",
       "<polyline clip-path=\"url(#clip9600)\" style=\"stroke:#000000; stroke-width:4; stroke-opacity:1; fill:none\" points=\"\n",
       "  153.898,314.457 186.881,314.457 \n",
       "  \"/>\n",
       "<polyline clip-path=\"url(#clip9600)\" style=\"stroke:#000000; stroke-width:4; stroke-opacity:1; fill:none\" points=\"\n",
       "  153.898,88.0053 186.881,88.0053 \n",
       "  \"/>\n",
       "<g clip-path=\"url(#clip9600)\">\n",
       "<text style=\"fill:#000000; fill-opacity:1; font-family:Arial,Helvetica Neue,Helvetica,sans-serif; font-size:48px; text-anchor:middle;\" transform=\"rotate(0, 388.996, 1541.47)\" x=\"388.996\" y=\"1541.47\">-5.0</text>\n",
       "</g>\n",
       "<g clip-path=\"url(#clip9600)\">\n",
       "<text style=\"fill:#000000; fill-opacity:1; font-family:Arial,Helvetica Neue,Helvetica,sans-serif; font-size:48px; text-anchor:middle;\" transform=\"rotate(0, 821.161, 1541.47)\" x=\"821.161\" y=\"1541.47\">-2.5</text>\n",
       "</g>\n",
       "<g clip-path=\"url(#clip9600)\">\n",
       "<text style=\"fill:#000000; fill-opacity:1; font-family:Arial,Helvetica Neue,Helvetica,sans-serif; font-size:48px; text-anchor:middle;\" transform=\"rotate(0, 1253.33, 1541.47)\" x=\"1253.33\" y=\"1541.47\">0.0</text>\n",
       "</g>\n",
       "<g clip-path=\"url(#clip9600)\">\n",
       "<text style=\"fill:#000000; fill-opacity:1; font-family:Arial,Helvetica Neue,Helvetica,sans-serif; font-size:48px; text-anchor:middle;\" transform=\"rotate(0, 1685.49, 1541.47)\" x=\"1685.49\" y=\"1541.47\">2.5</text>\n",
       "</g>\n",
       "<g clip-path=\"url(#clip9600)\">\n",
       "<text style=\"fill:#000000; fill-opacity:1; font-family:Arial,Helvetica Neue,Helvetica,sans-serif; font-size:48px; text-anchor:middle;\" transform=\"rotate(0, 2117.66, 1541.47)\" x=\"2117.66\" y=\"1541.47\">5.0</text>\n",
       "</g>\n",
       "<g clip-path=\"url(#clip9600)\">\n",
       "<text style=\"fill:#000000; fill-opacity:1; font-family:Arial,Helvetica Neue,Helvetica,sans-serif; font-size:48px; text-anchor:end;\" transform=\"rotate(0, 129.898, 1464.21)\" x=\"129.898\" y=\"1464.21\">0.0</text>\n",
       "</g>\n",
       "<g clip-path=\"url(#clip9600)\">\n",
       "<text style=\"fill:#000000; fill-opacity:1; font-family:Arial,Helvetica Neue,Helvetica,sans-serif; font-size:48px; text-anchor:end;\" transform=\"rotate(0, 129.898, 1237.76)\" x=\"129.898\" y=\"1237.76\">0.1</text>\n",
       "</g>\n",
       "<g clip-path=\"url(#clip9600)\">\n",
       "<text style=\"fill:#000000; fill-opacity:1; font-family:Arial,Helvetica Neue,Helvetica,sans-serif; font-size:48px; text-anchor:end;\" transform=\"rotate(0, 129.898, 1011.31)\" x=\"129.898\" y=\"1011.31\">0.2</text>\n",
       "</g>\n",
       "<g clip-path=\"url(#clip9600)\">\n",
       "<text style=\"fill:#000000; fill-opacity:1; font-family:Arial,Helvetica Neue,Helvetica,sans-serif; font-size:48px; text-anchor:end;\" transform=\"rotate(0, 129.898, 784.859)\" x=\"129.898\" y=\"784.859\">0.3</text>\n",
       "</g>\n",
       "<g clip-path=\"url(#clip9600)\">\n",
       "<text style=\"fill:#000000; fill-opacity:1; font-family:Arial,Helvetica Neue,Helvetica,sans-serif; font-size:48px; text-anchor:end;\" transform=\"rotate(0, 129.898, 558.408)\" x=\"129.898\" y=\"558.408\">0.4</text>\n",
       "</g>\n",
       "<g clip-path=\"url(#clip9600)\">\n",
       "<text style=\"fill:#000000; fill-opacity:1; font-family:Arial,Helvetica Neue,Helvetica,sans-serif; font-size:48px; text-anchor:end;\" transform=\"rotate(0, 129.898, 331.957)\" x=\"129.898\" y=\"331.957\">0.5</text>\n",
       "</g>\n",
       "<g clip-path=\"url(#clip9600)\">\n",
       "<text style=\"fill:#000000; fill-opacity:1; font-family:Arial,Helvetica Neue,Helvetica,sans-serif; font-size:48px; text-anchor:end;\" transform=\"rotate(0, 129.898, 105.505)\" x=\"129.898\" y=\"105.505\">0.6</text>\n",
       "</g>\n",
       "<path clip-path=\"url(#clip9602)\" d=\"\n",
       "M388.996 1446.71 L388.996 1446.71 L423.569 1446.71 L423.569 1446.71 L388.996 1446.71 L388.996 1446.71  Z\n",
       "  \" fill=\"#009af9\" fill-rule=\"evenodd\" fill-opacity=\"1\"/>\n",
       "<polyline clip-path=\"url(#clip9602)\" style=\"stroke:#000000; stroke-width:4; stroke-opacity:1; fill:none\" points=\"\n",
       "  388.996,1446.71 388.996,1446.71 423.569,1446.71 388.996,1446.71 \n",
       "  \"/>\n",
       "<path clip-path=\"url(#clip9602)\" d=\"\n",
       "M423.569 1446.71 L423.569 1446.71 L458.142 1446.71 L458.142 1446.71 L423.569 1446.71 L423.569 1446.71  Z\n",
       "  \" fill=\"#009af9\" fill-rule=\"evenodd\" fill-opacity=\"1\"/>\n",
       "<polyline clip-path=\"url(#clip9602)\" style=\"stroke:#000000; stroke-width:4; stroke-opacity:1; fill:none\" points=\"\n",
       "  423.569,1446.71 423.569,1446.71 458.142,1446.71 423.569,1446.71 \n",
       "  \"/>\n",
       "<path clip-path=\"url(#clip9602)\" d=\"\n",
       "M458.142 1446.71 L458.142 1446.71 L492.716 1446.71 L492.716 1446.71 L458.142 1446.71 L458.142 1446.71  Z\n",
       "  \" fill=\"#009af9\" fill-rule=\"evenodd\" fill-opacity=\"1\"/>\n",
       "<polyline clip-path=\"url(#clip9602)\" style=\"stroke:#000000; stroke-width:4; stroke-opacity:1; fill:none\" points=\"\n",
       "  458.142,1446.71 458.142,1446.71 492.716,1446.71 458.142,1446.71 \n",
       "  \"/>\n",
       "<path clip-path=\"url(#clip9602)\" d=\"\n",
       "M492.716 1446.71 L492.716 1446.71 L527.289 1446.71 L527.289 1446.71 L492.716 1446.71 L492.716 1446.71  Z\n",
       "  \" fill=\"#009af9\" fill-rule=\"evenodd\" fill-opacity=\"1\"/>\n",
       "<polyline clip-path=\"url(#clip9602)\" style=\"stroke:#000000; stroke-width:4; stroke-opacity:1; fill:none\" points=\"\n",
       "  492.716,1446.71 492.716,1446.71 527.289,1446.71 492.716,1446.71 \n",
       "  \"/>\n",
       "<path clip-path=\"url(#clip9602)\" d=\"\n",
       "M527.289 1446.71 L527.289 1446.71 L561.862 1446.71 L561.862 1446.71 L527.289 1446.71 L527.289 1446.71  Z\n",
       "  \" fill=\"#009af9\" fill-rule=\"evenodd\" fill-opacity=\"1\"/>\n",
       "<polyline clip-path=\"url(#clip9602)\" style=\"stroke:#000000; stroke-width:4; stroke-opacity:1; fill:none\" points=\"\n",
       "  527.289,1446.71 527.289,1446.71 561.862,1446.71 527.289,1446.71 \n",
       "  \"/>\n",
       "<path clip-path=\"url(#clip9602)\" d=\"\n",
       "M561.862 1333.49 L561.862 1446.71 L596.435 1446.71 L596.435 1333.49 L561.862 1333.49 L561.862 1333.49  Z\n",
       "  \" fill=\"#009af9\" fill-rule=\"evenodd\" fill-opacity=\"1\"/>\n",
       "<polyline clip-path=\"url(#clip9602)\" style=\"stroke:#000000; stroke-width:4; stroke-opacity:1; fill:none\" points=\"\n",
       "  561.862,1333.49 561.862,1446.71 596.435,1446.71 596.435,1333.49 561.862,1333.49 \n",
       "  \"/>\n",
       "<path clip-path=\"url(#clip9602)\" d=\"\n",
       "M596.435 1276.87 L596.435 1446.71 L631.009 1446.71 L631.009 1276.87 L596.435 1276.87 L596.435 1276.87  Z\n",
       "  \" fill=\"#009af9\" fill-rule=\"evenodd\" fill-opacity=\"1\"/>\n",
       "<polyline clip-path=\"url(#clip9602)\" style=\"stroke:#000000; stroke-width:4; stroke-opacity:1; fill:none\" points=\"\n",
       "  596.435,1276.87 596.435,1446.71 631.009,1446.71 631.009,1276.87 596.435,1276.87 \n",
       "  \"/>\n",
       "<path clip-path=\"url(#clip9602)\" d=\"\n",
       "M631.009 1276.87 L631.009 1446.71 L665.582 1446.71 L665.582 1276.87 L631.009 1276.87 L631.009 1276.87  Z\n",
       "  \" fill=\"#009af9\" fill-rule=\"evenodd\" fill-opacity=\"1\"/>\n",
       "<polyline clip-path=\"url(#clip9602)\" style=\"stroke:#000000; stroke-width:4; stroke-opacity:1; fill:none\" points=\"\n",
       "  631.009,1276.87 631.009,1446.71 665.582,1446.71 665.582,1276.87 631.009,1276.87 \n",
       "  \"/>\n",
       "<path clip-path=\"url(#clip9602)\" d=\"\n",
       "M665.582 1163.65 L665.582 1446.71 L700.155 1446.71 L700.155 1163.65 L665.582 1163.65 L665.582 1163.65  Z\n",
       "  \" fill=\"#009af9\" fill-rule=\"evenodd\" fill-opacity=\"1\"/>\n",
       "<polyline clip-path=\"url(#clip9602)\" style=\"stroke:#000000; stroke-width:4; stroke-opacity:1; fill:none\" points=\"\n",
       "  665.582,1163.65 665.582,1446.71 700.155,1446.71 700.155,1163.65 665.582,1163.65 \n",
       "  \"/>\n",
       "<path clip-path=\"url(#clip9602)\" d=\"\n",
       "M700.155 1050.42 L700.155 1446.71 L734.728 1446.71 L734.728 1050.42 L700.155 1050.42 L700.155 1050.42  Z\n",
       "  \" fill=\"#009af9\" fill-rule=\"evenodd\" fill-opacity=\"1\"/>\n",
       "<polyline clip-path=\"url(#clip9602)\" style=\"stroke:#000000; stroke-width:4; stroke-opacity:1; fill:none\" points=\"\n",
       "  700.155,1050.42 700.155,1446.71 734.728,1446.71 734.728,1050.42 700.155,1050.42 \n",
       "  \"/>\n",
       "<path clip-path=\"url(#clip9602)\" d=\"\n",
       "M734.728 1163.65 L734.728 1446.71 L769.302 1446.71 L769.302 1163.65 L734.728 1163.65 L734.728 1163.65  Z\n",
       "  \" fill=\"#009af9\" fill-rule=\"evenodd\" fill-opacity=\"1\"/>\n",
       "<polyline clip-path=\"url(#clip9602)\" style=\"stroke:#000000; stroke-width:4; stroke-opacity:1; fill:none\" points=\"\n",
       "  734.728,1163.65 734.728,1446.71 769.302,1446.71 769.302,1163.65 734.728,1163.65 \n",
       "  \"/>\n",
       "<path clip-path=\"url(#clip9602)\" d=\"\n",
       "M769.302 484.295 L769.302 1446.71 L803.875 1446.71 L803.875 484.295 L769.302 484.295 L769.302 484.295  Z\n",
       "  \" fill=\"#009af9\" fill-rule=\"evenodd\" fill-opacity=\"1\"/>\n",
       "<polyline clip-path=\"url(#clip9602)\" style=\"stroke:#000000; stroke-width:4; stroke-opacity:1; fill:none\" points=\"\n",
       "  769.302,484.295 769.302,1446.71 803.875,1446.71 803.875,484.295 769.302,484.295 \n",
       "  \"/>\n",
       "<path clip-path=\"url(#clip9602)\" d=\"\n",
       "M803.875 597.521 L803.875 1446.71 L838.448 1446.71 L838.448 597.521 L803.875 597.521 L803.875 597.521  Z\n",
       "  \" fill=\"#009af9\" fill-rule=\"evenodd\" fill-opacity=\"1\"/>\n",
       "<polyline clip-path=\"url(#clip9602)\" style=\"stroke:#000000; stroke-width:4; stroke-opacity:1; fill:none\" points=\"\n",
       "  803.875,597.521 803.875,1446.71 838.448,1446.71 838.448,597.521 803.875,597.521 \n",
       "  \"/>\n",
       "<path clip-path=\"url(#clip9602)\" d=\"\n",
       "M838.448 654.134 L838.448 1446.71 L873.021 1446.71 L873.021 654.134 L838.448 654.134 L838.448 654.134  Z\n",
       "  \" fill=\"#009af9\" fill-rule=\"evenodd\" fill-opacity=\"1\"/>\n",
       "<polyline clip-path=\"url(#clip9602)\" style=\"stroke:#000000; stroke-width:4; stroke-opacity:1; fill:none\" points=\"\n",
       "  838.448,654.134 838.448,1446.71 873.021,1446.71 873.021,654.134 838.448,654.134 \n",
       "  \"/>\n",
       "<path clip-path=\"url(#clip9602)\" d=\"\n",
       "M873.021 540.908 L873.021 1446.71 L907.595 1446.71 L907.595 540.908 L873.021 540.908 L873.021 540.908  Z\n",
       "  \" fill=\"#009af9\" fill-rule=\"evenodd\" fill-opacity=\"1\"/>\n",
       "<polyline clip-path=\"url(#clip9602)\" style=\"stroke:#000000; stroke-width:4; stroke-opacity:1; fill:none\" points=\"\n",
       "  873.021,540.908 873.021,1446.71 907.595,1446.71 907.595,540.908 873.021,540.908 \n",
       "  \"/>\n",
       "<path clip-path=\"url(#clip9602)\" d=\"\n",
       "M907.595 427.682 L907.595 1446.71 L942.168 1446.71 L942.168 427.682 L907.595 427.682 L907.595 427.682  Z\n",
       "  \" fill=\"#009af9\" fill-rule=\"evenodd\" fill-opacity=\"1\"/>\n",
       "<polyline clip-path=\"url(#clip9602)\" style=\"stroke:#000000; stroke-width:4; stroke-opacity:1; fill:none\" points=\"\n",
       "  907.595,427.682 907.595,1446.71 942.168,1446.71 942.168,427.682 907.595,427.682 \n",
       "  \"/>\n",
       "<path clip-path=\"url(#clip9602)\" d=\"\n",
       "M942.168 767.359 L942.168 1446.71 L976.741 1446.71 L976.741 767.359 L942.168 767.359 L942.168 767.359  Z\n",
       "  \" fill=\"#009af9\" fill-rule=\"evenodd\" fill-opacity=\"1\"/>\n",
       "<polyline clip-path=\"url(#clip9602)\" style=\"stroke:#000000; stroke-width:4; stroke-opacity:1; fill:none\" points=\"\n",
       "  942.168,767.359 942.168,1446.71 976.741,1446.71 976.741,767.359 942.168,767.359 \n",
       "  \"/>\n",
       "<path clip-path=\"url(#clip9602)\" d=\"\n",
       "M976.741 88.0053 L976.741 1446.71 L1011.31 1446.71 L1011.31 88.0053 L976.741 88.0053 L976.741 88.0053  Z\n",
       "  \" fill=\"#009af9\" fill-rule=\"evenodd\" fill-opacity=\"1\"/>\n",
       "<polyline clip-path=\"url(#clip9602)\" style=\"stroke:#000000; stroke-width:4; stroke-opacity:1; fill:none\" points=\"\n",
       "  976.741,88.0053 976.741,1446.71 1011.31,1446.71 1011.31,88.0053 976.741,88.0053 \n",
       "  \"/>\n",
       "<path clip-path=\"url(#clip9602)\" d=\"\n",
       "M1011.31 823.972 L1011.31 1446.71 L1045.89 1446.71 L1045.89 823.972 L1011.31 823.972 L1011.31 823.972  Z\n",
       "  \" fill=\"#009af9\" fill-rule=\"evenodd\" fill-opacity=\"1\"/>\n",
       "<polyline clip-path=\"url(#clip9602)\" style=\"stroke:#000000; stroke-width:4; stroke-opacity:1; fill:none\" points=\"\n",
       "  1011.31,823.972 1011.31,1446.71 1045.89,1446.71 1045.89,823.972 1011.31,823.972 \n",
       "  \"/>\n",
       "<path clip-path=\"url(#clip9602)\" d=\"\n",
       "M1045.89 767.359 L1045.89 1446.71 L1080.46 1446.71 L1080.46 767.359 L1045.89 767.359 L1045.89 767.359  Z\n",
       "  \" fill=\"#009af9\" fill-rule=\"evenodd\" fill-opacity=\"1\"/>\n",
       "<polyline clip-path=\"url(#clip9602)\" style=\"stroke:#000000; stroke-width:4; stroke-opacity:1; fill:none\" points=\"\n",
       "  1045.89,767.359 1045.89,1446.71 1080.46,1446.71 1080.46,767.359 1045.89,767.359 \n",
       "  \"/>\n",
       "<path clip-path=\"url(#clip9602)\" d=\"\n",
       "M1080.46 937.198 L1080.46 1446.71 L1115.03 1446.71 L1115.03 937.198 L1080.46 937.198 L1080.46 937.198  Z\n",
       "  \" fill=\"#009af9\" fill-rule=\"evenodd\" fill-opacity=\"1\"/>\n",
       "<polyline clip-path=\"url(#clip9602)\" style=\"stroke:#000000; stroke-width:4; stroke-opacity:1; fill:none\" points=\"\n",
       "  1080.46,937.198 1080.46,1446.71 1115.03,1446.71 1115.03,937.198 1080.46,937.198 \n",
       "  \"/>\n",
       "<path clip-path=\"url(#clip9602)\" d=\"\n",
       "M1115.03 993.811 L1115.03 1446.71 L1149.61 1446.71 L1149.61 993.811 L1115.03 993.811 L1115.03 993.811  Z\n",
       "  \" fill=\"#009af9\" fill-rule=\"evenodd\" fill-opacity=\"1\"/>\n",
       "<polyline clip-path=\"url(#clip9602)\" style=\"stroke:#000000; stroke-width:4; stroke-opacity:1; fill:none\" points=\"\n",
       "  1115.03,993.811 1115.03,1446.71 1149.61,1446.71 1149.61,993.811 1115.03,993.811 \n",
       "  \"/>\n",
       "<path clip-path=\"url(#clip9602)\" d=\"\n",
       "M1149.61 1220.26 L1149.61 1446.71 L1184.18 1446.71 L1184.18 1220.26 L1149.61 1220.26 L1149.61 1220.26  Z\n",
       "  \" fill=\"#009af9\" fill-rule=\"evenodd\" fill-opacity=\"1\"/>\n",
       "<polyline clip-path=\"url(#clip9602)\" style=\"stroke:#000000; stroke-width:4; stroke-opacity:1; fill:none\" points=\"\n",
       "  1149.61,1220.26 1149.61,1446.71 1184.18,1446.71 1184.18,1220.26 1149.61,1220.26 \n",
       "  \"/>\n",
       "<path clip-path=\"url(#clip9602)\" d=\"\n",
       "M1184.18 1163.65 L1184.18 1446.71 L1218.75 1446.71 L1218.75 1163.65 L1184.18 1163.65 L1184.18 1163.65  Z\n",
       "  \" fill=\"#009af9\" fill-rule=\"evenodd\" fill-opacity=\"1\"/>\n",
       "<polyline clip-path=\"url(#clip9602)\" style=\"stroke:#000000; stroke-width:4; stroke-opacity:1; fill:none\" points=\"\n",
       "  1184.18,1163.65 1184.18,1446.71 1218.75,1446.71 1218.75,1163.65 1184.18,1163.65 \n",
       "  \"/>\n",
       "<path clip-path=\"url(#clip9602)\" d=\"\n",
       "M1218.75 1446.71 L1218.75 1446.71 L1253.33 1446.71 L1253.33 1446.71 L1218.75 1446.71 L1218.75 1446.71  Z\n",
       "  \" fill=\"#009af9\" fill-rule=\"evenodd\" fill-opacity=\"1\"/>\n",
       "<polyline clip-path=\"url(#clip9602)\" style=\"stroke:#000000; stroke-width:4; stroke-opacity:1; fill:none\" points=\"\n",
       "  1218.75,1446.71 1218.75,1446.71 1253.33,1446.71 1218.75,1446.71 \n",
       "  \"/>\n",
       "<path clip-path=\"url(#clip9602)\" d=\"\n",
       "M1253.33 1050.42 L1253.33 1446.71 L1287.9 1446.71 L1287.9 1050.42 L1253.33 1050.42 L1253.33 1050.42  Z\n",
       "  \" fill=\"#009af9\" fill-rule=\"evenodd\" fill-opacity=\"1\"/>\n",
       "<polyline clip-path=\"url(#clip9602)\" style=\"stroke:#000000; stroke-width:4; stroke-opacity:1; fill:none\" points=\"\n",
       "  1253.33,1050.42 1253.33,1446.71 1287.9,1446.71 1287.9,1050.42 1253.33,1050.42 \n",
       "  \"/>\n",
       "<path clip-path=\"url(#clip9602)\" d=\"\n",
       "M1287.9 1390.1 L1287.9 1446.71 L1322.47 1446.71 L1322.47 1390.1 L1287.9 1390.1 L1287.9 1390.1  Z\n",
       "  \" fill=\"#009af9\" fill-rule=\"evenodd\" fill-opacity=\"1\"/>\n",
       "<polyline clip-path=\"url(#clip9602)\" style=\"stroke:#000000; stroke-width:4; stroke-opacity:1; fill:none\" points=\"\n",
       "  1287.9,1390.1 1287.9,1446.71 1322.47,1446.71 1322.47,1390.1 1287.9,1390.1 \n",
       "  \"/>\n",
       "<path clip-path=\"url(#clip9602)\" d=\"\n",
       "M1322.47 1446.71 L1322.47 1446.71 L1357.05 1446.71 L1357.05 1446.71 L1322.47 1446.71 L1322.47 1446.71  Z\n",
       "  \" fill=\"#009af9\" fill-rule=\"evenodd\" fill-opacity=\"1\"/>\n",
       "<polyline clip-path=\"url(#clip9602)\" style=\"stroke:#000000; stroke-width:4; stroke-opacity:1; fill:none\" points=\"\n",
       "  1322.47,1446.71 1322.47,1446.71 1357.05,1446.71 1322.47,1446.71 \n",
       "  \"/>\n",
       "<path clip-path=\"url(#clip9602)\" d=\"\n",
       "M1357.05 1390.1 L1357.05 1446.71 L1391.62 1446.71 L1391.62 1390.1 L1357.05 1390.1 L1357.05 1390.1  Z\n",
       "  \" fill=\"#009af9\" fill-rule=\"evenodd\" fill-opacity=\"1\"/>\n",
       "<polyline clip-path=\"url(#clip9602)\" style=\"stroke:#000000; stroke-width:4; stroke-opacity:1; fill:none\" points=\"\n",
       "  1357.05,1390.1 1357.05,1446.71 1391.62,1446.71 1391.62,1390.1 1357.05,1390.1 \n",
       "  \"/>\n",
       "<path clip-path=\"url(#clip9602)\" d=\"\n",
       "M1391.62 1446.71 L1391.62 1446.71 L1426.19 1446.71 L1426.19 1446.71 L1391.62 1446.71 L1391.62 1446.71  Z\n",
       "  \" fill=\"#009af9\" fill-rule=\"evenodd\" fill-opacity=\"1\"/>\n",
       "<polyline clip-path=\"url(#clip9602)\" style=\"stroke:#000000; stroke-width:4; stroke-opacity:1; fill:none\" points=\"\n",
       "  1391.62,1446.71 1391.62,1446.71 1426.19,1446.71 1391.62,1446.71 \n",
       "  \"/>\n",
       "<path clip-path=\"url(#clip9602)\" d=\"\n",
       "M1426.19 1390.1 L1426.19 1446.71 L1460.77 1446.71 L1460.77 1390.1 L1426.19 1390.1 L1426.19 1390.1  Z\n",
       "  \" fill=\"#009af9\" fill-rule=\"evenodd\" fill-opacity=\"1\"/>\n",
       "<polyline clip-path=\"url(#clip9602)\" style=\"stroke:#000000; stroke-width:4; stroke-opacity:1; fill:none\" points=\"\n",
       "  1426.19,1390.1 1426.19,1446.71 1460.77,1446.71 1460.77,1390.1 1426.19,1390.1 \n",
       "  \"/>\n",
       "<path clip-path=\"url(#clip9602)\" d=\"\n",
       "M1460.77 1446.71 L1460.77 1446.71 L1495.34 1446.71 L1495.34 1446.71 L1460.77 1446.71 L1460.77 1446.71  Z\n",
       "  \" fill=\"#009af9\" fill-rule=\"evenodd\" fill-opacity=\"1\"/>\n",
       "<polyline clip-path=\"url(#clip9602)\" style=\"stroke:#000000; stroke-width:4; stroke-opacity:1; fill:none\" points=\"\n",
       "  1460.77,1446.71 1460.77,1446.71 1495.34,1446.71 1460.77,1446.71 \n",
       "  \"/>\n",
       "<path clip-path=\"url(#clip9602)\" d=\"\n",
       "M1495.34 1446.71 L1495.34 1446.71 L1529.91 1446.71 L1529.91 1446.71 L1495.34 1446.71 L1495.34 1446.71  Z\n",
       "  \" fill=\"#009af9\" fill-rule=\"evenodd\" fill-opacity=\"1\"/>\n",
       "<polyline clip-path=\"url(#clip9602)\" style=\"stroke:#000000; stroke-width:4; stroke-opacity:1; fill:none\" points=\"\n",
       "  1495.34,1446.71 1495.34,1446.71 1529.91,1446.71 1495.34,1446.71 \n",
       "  \"/>\n",
       "<path clip-path=\"url(#clip9602)\" d=\"\n",
       "M1529.91 1446.71 L1529.91 1446.71 L1564.49 1446.71 L1564.49 1446.71 L1529.91 1446.71 L1529.91 1446.71  Z\n",
       "  \" fill=\"#009af9\" fill-rule=\"evenodd\" fill-opacity=\"1\"/>\n",
       "<polyline clip-path=\"url(#clip9602)\" style=\"stroke:#000000; stroke-width:4; stroke-opacity:1; fill:none\" points=\"\n",
       "  1529.91,1446.71 1529.91,1446.71 1564.49,1446.71 1529.91,1446.71 \n",
       "  \"/>\n",
       "<path clip-path=\"url(#clip9602)\" d=\"\n",
       "M1564.49 1446.71 L1564.49 1446.71 L1599.06 1446.71 L1599.06 1446.71 L1564.49 1446.71 L1564.49 1446.71  Z\n",
       "  \" fill=\"#009af9\" fill-rule=\"evenodd\" fill-opacity=\"1\"/>\n",
       "<polyline clip-path=\"url(#clip9602)\" style=\"stroke:#000000; stroke-width:4; stroke-opacity:1; fill:none\" points=\"\n",
       "  1564.49,1446.71 1564.49,1446.71 1599.06,1446.71 1564.49,1446.71 \n",
       "  \"/>\n",
       "<path clip-path=\"url(#clip9602)\" d=\"\n",
       "M1599.06 1446.71 L1599.06 1446.71 L1633.63 1446.71 L1633.63 1446.71 L1599.06 1446.71 L1599.06 1446.71  Z\n",
       "  \" fill=\"#009af9\" fill-rule=\"evenodd\" fill-opacity=\"1\"/>\n",
       "<polyline clip-path=\"url(#clip9602)\" style=\"stroke:#000000; stroke-width:4; stroke-opacity:1; fill:none\" points=\"\n",
       "  1599.06,1446.71 1599.06,1446.71 1633.63,1446.71 1599.06,1446.71 \n",
       "  \"/>\n",
       "<path clip-path=\"url(#clip9602)\" d=\"\n",
       "M1633.63 1446.71 L1633.63 1446.71 L1668.21 1446.71 L1668.21 1446.71 L1633.63 1446.71 L1633.63 1446.71  Z\n",
       "  \" fill=\"#009af9\" fill-rule=\"evenodd\" fill-opacity=\"1\"/>\n",
       "<polyline clip-path=\"url(#clip9602)\" style=\"stroke:#000000; stroke-width:4; stroke-opacity:1; fill:none\" points=\"\n",
       "  1633.63,1446.71 1633.63,1446.71 1668.21,1446.71 1633.63,1446.71 \n",
       "  \"/>\n",
       "<path clip-path=\"url(#clip9602)\" d=\"\n",
       "M1668.21 1446.71 L1668.21 1446.71 L1702.78 1446.71 L1702.78 1446.71 L1668.21 1446.71 L1668.21 1446.71  Z\n",
       "  \" fill=\"#009af9\" fill-rule=\"evenodd\" fill-opacity=\"1\"/>\n",
       "<polyline clip-path=\"url(#clip9602)\" style=\"stroke:#000000; stroke-width:4; stroke-opacity:1; fill:none\" points=\"\n",
       "  1668.21,1446.71 1668.21,1446.71 1702.78,1446.71 1668.21,1446.71 \n",
       "  \"/>\n",
       "<path clip-path=\"url(#clip9602)\" d=\"\n",
       "M1702.78 1446.71 L1702.78 1446.71 L1737.35 1446.71 L1737.35 1446.71 L1702.78 1446.71 L1702.78 1446.71  Z\n",
       "  \" fill=\"#009af9\" fill-rule=\"evenodd\" fill-opacity=\"1\"/>\n",
       "<polyline clip-path=\"url(#clip9602)\" style=\"stroke:#000000; stroke-width:4; stroke-opacity:1; fill:none\" points=\"\n",
       "  1702.78,1446.71 1702.78,1446.71 1737.35,1446.71 1702.78,1446.71 \n",
       "  \"/>\n",
       "<path clip-path=\"url(#clip9602)\" d=\"\n",
       "M1737.35 1446.71 L1737.35 1446.71 L1771.93 1446.71 L1771.93 1446.71 L1737.35 1446.71 L1737.35 1446.71  Z\n",
       "  \" fill=\"#009af9\" fill-rule=\"evenodd\" fill-opacity=\"1\"/>\n",
       "<polyline clip-path=\"url(#clip9602)\" style=\"stroke:#000000; stroke-width:4; stroke-opacity:1; fill:none\" points=\"\n",
       "  1737.35,1446.71 1737.35,1446.71 1771.93,1446.71 1737.35,1446.71 \n",
       "  \"/>\n",
       "<path clip-path=\"url(#clip9602)\" d=\"\n",
       "M1771.93 1446.71 L1771.93 1446.71 L1806.5 1446.71 L1806.5 1446.71 L1771.93 1446.71 L1771.93 1446.71  Z\n",
       "  \" fill=\"#009af9\" fill-rule=\"evenodd\" fill-opacity=\"1\"/>\n",
       "<polyline clip-path=\"url(#clip9602)\" style=\"stroke:#000000; stroke-width:4; stroke-opacity:1; fill:none\" points=\"\n",
       "  1771.93,1446.71 1771.93,1446.71 1806.5,1446.71 1771.93,1446.71 \n",
       "  \"/>\n",
       "<path clip-path=\"url(#clip9602)\" d=\"\n",
       "M1806.5 1446.71 L1806.5 1446.71 L1841.07 1446.71 L1841.07 1446.71 L1806.5 1446.71 L1806.5 1446.71  Z\n",
       "  \" fill=\"#009af9\" fill-rule=\"evenodd\" fill-opacity=\"1\"/>\n",
       "<polyline clip-path=\"url(#clip9602)\" style=\"stroke:#000000; stroke-width:4; stroke-opacity:1; fill:none\" points=\"\n",
       "  1806.5,1446.71 1806.5,1446.71 1841.07,1446.71 1806.5,1446.71 \n",
       "  \"/>\n",
       "<path clip-path=\"url(#clip9602)\" d=\"\n",
       "M1841.07 1446.71 L1841.07 1446.71 L1875.65 1446.71 L1875.65 1446.71 L1841.07 1446.71 L1841.07 1446.71  Z\n",
       "  \" fill=\"#009af9\" fill-rule=\"evenodd\" fill-opacity=\"1\"/>\n",
       "<polyline clip-path=\"url(#clip9602)\" style=\"stroke:#000000; stroke-width:4; stroke-opacity:1; fill:none\" points=\"\n",
       "  1841.07,1446.71 1841.07,1446.71 1875.65,1446.71 1841.07,1446.71 \n",
       "  \"/>\n",
       "<path clip-path=\"url(#clip9602)\" d=\"\n",
       "M1875.65 1446.71 L1875.65 1446.71 L1910.22 1446.71 L1910.22 1446.71 L1875.65 1446.71 L1875.65 1446.71  Z\n",
       "  \" fill=\"#009af9\" fill-rule=\"evenodd\" fill-opacity=\"1\"/>\n",
       "<polyline clip-path=\"url(#clip9602)\" style=\"stroke:#000000; stroke-width:4; stroke-opacity:1; fill:none\" points=\"\n",
       "  1875.65,1446.71 1875.65,1446.71 1910.22,1446.71 1875.65,1446.71 \n",
       "  \"/>\n",
       "<path clip-path=\"url(#clip9602)\" d=\"\n",
       "M1910.22 1446.71 L1910.22 1446.71 L1944.79 1446.71 L1944.79 1446.71 L1910.22 1446.71 L1910.22 1446.71  Z\n",
       "  \" fill=\"#009af9\" fill-rule=\"evenodd\" fill-opacity=\"1\"/>\n",
       "<polyline clip-path=\"url(#clip9602)\" style=\"stroke:#000000; stroke-width:4; stroke-opacity:1; fill:none\" points=\"\n",
       "  1910.22,1446.71 1910.22,1446.71 1944.79,1446.71 1910.22,1446.71 \n",
       "  \"/>\n",
       "<path clip-path=\"url(#clip9602)\" d=\"\n",
       "M1944.79 1446.71 L1944.79 1446.71 L1979.36 1446.71 L1979.36 1446.71 L1944.79 1446.71 L1944.79 1446.71  Z\n",
       "  \" fill=\"#009af9\" fill-rule=\"evenodd\" fill-opacity=\"1\"/>\n",
       "<polyline clip-path=\"url(#clip9602)\" style=\"stroke:#000000; stroke-width:4; stroke-opacity:1; fill:none\" points=\"\n",
       "  1944.79,1446.71 1944.79,1446.71 1979.36,1446.71 1944.79,1446.71 \n",
       "  \"/>\n",
       "<path clip-path=\"url(#clip9602)\" d=\"\n",
       "M1979.36 1446.71 L1979.36 1446.71 L2013.94 1446.71 L2013.94 1446.71 L1979.36 1446.71 L1979.36 1446.71  Z\n",
       "  \" fill=\"#009af9\" fill-rule=\"evenodd\" fill-opacity=\"1\"/>\n",
       "<polyline clip-path=\"url(#clip9602)\" style=\"stroke:#000000; stroke-width:4; stroke-opacity:1; fill:none\" points=\"\n",
       "  1979.36,1446.71 1979.36,1446.71 2013.94,1446.71 1979.36,1446.71 \n",
       "  \"/>\n",
       "<path clip-path=\"url(#clip9602)\" d=\"\n",
       "M2013.94 1446.71 L2013.94 1446.71 L2048.51 1446.71 L2048.51 1446.71 L2013.94 1446.71 L2013.94 1446.71  Z\n",
       "  \" fill=\"#009af9\" fill-rule=\"evenodd\" fill-opacity=\"1\"/>\n",
       "<polyline clip-path=\"url(#clip9602)\" style=\"stroke:#000000; stroke-width:4; stroke-opacity:1; fill:none\" points=\"\n",
       "  2013.94,1446.71 2013.94,1446.71 2048.51,1446.71 2013.94,1446.71 \n",
       "  \"/>\n",
       "<path clip-path=\"url(#clip9602)\" d=\"\n",
       "M2048.51 1446.71 L2048.51 1446.71 L2083.08 1446.71 L2083.08 1446.71 L2048.51 1446.71 L2048.51 1446.71  Z\n",
       "  \" fill=\"#009af9\" fill-rule=\"evenodd\" fill-opacity=\"1\"/>\n",
       "<polyline clip-path=\"url(#clip9602)\" style=\"stroke:#000000; stroke-width:4; stroke-opacity:1; fill:none\" points=\"\n",
       "  2048.51,1446.71 2048.51,1446.71 2083.08,1446.71 2048.51,1446.71 \n",
       "  \"/>\n",
       "<path clip-path=\"url(#clip9602)\" d=\"\n",
       "M2083.08 1446.71 L2083.08 1446.71 L2117.66 1446.71 L2117.66 1446.71 L2083.08 1446.71 L2083.08 1446.71  Z\n",
       "  \" fill=\"#009af9\" fill-rule=\"evenodd\" fill-opacity=\"1\"/>\n",
       "<polyline clip-path=\"url(#clip9602)\" style=\"stroke:#000000; stroke-width:4; stroke-opacity:1; fill:none\" points=\"\n",
       "  2083.08,1446.71 2083.08,1446.71 2117.66,1446.71 2083.08,1446.71 \n",
       "  \"/>\n",
       "<polyline clip-path=\"url(#clip9602)\" style=\"stroke:#ff0000; stroke-width:12; stroke-opacity:1; fill:none\" points=\"\n",
       "  216.13,1446.71 233.416,1446.71 250.703,1446.71 267.99,1446.71 285.276,1446.71 302.563,1446.7 319.85,1446.69 337.136,1446.66 354.423,1446.62 371.709,1446.54 \n",
       "  388.996,1446.39 406.283,1446.15 423.569,1445.74 440.856,1445.07 458.142,1444.01 475.429,1442.38 492.716,1439.92 510.002,1436.29 527.289,1431.09 544.576,1423.79 \n",
       "  561.862,1413.79 579.149,1400.41 596.435,1382.91 613.722,1360.54 631.009,1332.58 648.295,1298.43 665.582,1257.64 682.869,1209.99 700.155,1155.6 717.442,1094.91 \n",
       "  734.728,1028.77 752.015,958.399 769.302,885.391 786.588,811.63 803.875,739.222 821.161,670.376 838.448,607.289 855.735,552.022 873.021,506.378 890.308,471.805 \n",
       "  907.595,449.32 924.881,439.461 942.168,442.278 959.454,457.346 976.741,483.813 994.028,520.468 1011.31,565.827 1028.6,618.222 1045.89,675.896 1063.17,737.09 \n",
       "  1080.46,800.122 1097.75,863.446 1115.03,925.702 1132.32,985.746 1149.61,1042.66 1166.89,1095.77 1184.18,1144.6 1201.47,1188.9 1218.75,1228.56 1236.04,1263.66 \n",
       "  1253.33,1294.36 1270.61,1320.91 1287.9,1343.65 1305.19,1362.92 1322.47,1379.1 1339.76,1392.55 1357.05,1403.64 1374.33,1412.7 1391.62,1420.04 1408.91,1425.94 \n",
       "  1426.19,1430.65 1443.48,1434.36 1460.77,1437.28 1478.05,1439.56 1495.34,1441.32 1512.63,1442.67 1529.91,1443.7 1547.2,1444.49 1564.49,1445.07 1581.77,1445.51 \n",
       "  1599.06,1445.84 1616.35,1446.08 1633.63,1446.26 1650.92,1446.39 1668.21,1446.48 1685.49,1446.55 1702.78,1446.6 1720.07,1446.63 1737.35,1446.66 1754.64,1446.67 \n",
       "  1771.93,1446.69 1789.21,1446.7 1806.5,1446.7 1823.79,1446.7 1841.07,1446.71 1858.36,1446.71 1875.65,1446.71 1892.93,1446.71 1910.22,1446.71 1927.51,1446.71 \n",
       "  1944.79,1446.71 1962.08,1446.71 1979.36,1446.71 1996.65,1446.71 2013.94,1446.71 2031.22,1446.71 2048.51,1446.71 2065.8,1446.71 2083.08,1446.71 2100.37,1446.71 \n",
       "  2117.66,1446.71 2134.94,1446.71 2152.23,1446.71 2169.52,1446.71 2186.8,1446.71 2204.09,1446.71 2221.38,1446.71 2238.66,1446.71 2255.95,1446.71 2273.24,1446.71 \n",
       "  2290.52,1446.71 \n",
       "  \"/>\n",
       "<path clip-path=\"url(#clip9600)\" d=\"\n",
       "M1632.92 312.204 L2280.76 312.204 L2280.76 130.764 L1632.92 130.764  Z\n",
       "  \" fill=\"#ffffff\" fill-rule=\"evenodd\" fill-opacity=\"1\"/>\n",
       "<polyline clip-path=\"url(#clip9600)\" style=\"stroke:#000000; stroke-width:4; stroke-opacity:1; fill:none\" points=\"\n",
       "  1632.92,312.204 2280.76,312.204 2280.76,130.764 1632.92,130.764 1632.92,312.204 \n",
       "  \"/>\n",
       "<path clip-path=\"url(#clip9600)\" d=\"\n",
       "M1656.92 215.436 L1800.92 215.436 L1800.92 167.052 L1656.92 167.052 L1656.92 215.436  Z\n",
       "  \" fill=\"#009af9\" fill-rule=\"evenodd\" fill-opacity=\"1\"/>\n",
       "<polyline clip-path=\"url(#clip9600)\" style=\"stroke:#000000; stroke-width:4; stroke-opacity:1; fill:none\" points=\"\n",
       "  1656.92,215.436 1800.92,215.436 1800.92,167.052 1656.92,167.052 1656.92,215.436 \n",
       "  \"/>\n",
       "<g clip-path=\"url(#clip9600)\">\n",
       "<text style=\"fill:#000000; fill-opacity:1; font-family:Arial,Helvetica Neue,Helvetica,sans-serif; font-size:48px; text-anchor:start;\" transform=\"rotate(0, 1824.92, 208.744)\" x=\"1824.92\" y=\"208.744\">y1</text>\n",
       "</g>\n",
       "<polyline clip-path=\"url(#clip9600)\" style=\"stroke:#ff0000; stroke-width:12; stroke-opacity:1; fill:none\" points=\"\n",
       "  1656.92,251.724 1800.92,251.724 \n",
       "  \"/>\n",
       "<g clip-path=\"url(#clip9600)\">\n",
       "<text style=\"fill:#000000; fill-opacity:1; font-family:Arial,Helvetica Neue,Helvetica,sans-serif; font-size:48px; text-anchor:start;\" transform=\"rotate(0, 1824.92, 269.224)\" x=\"1824.92\" y=\"269.224\">Tracy-Widom PDF</text>\n",
       "</g>\n",
       "</svg>\n"
      ]
     },
     "execution_count": 17,
     "metadata": {},
     "output_type": "execute_result"
    }
   ],
   "source": [
    "law = Geometric(0.2)\n",
    "res = Float64[]\n",
    "N = 100\n",
    "γ, σ = renorm_params(law)\n",
    "for i in 1:200\n",
    "    tnn = get_grid(law, N)[N, N]\n",
    "    append!(res, tnn)\n",
    "end \n",
    "norm_res = (res .- γ*N) ./ (σ * N^(1/3))\n",
    "histogram(norm_res, normalize=true, bins=-5:0.2:5)\n",
    "plot!(xs, TW_pdf, lw = 3, color = \"red\", label = \"Tracy-Widom PDF\")"
   ]
  }
 ],
 "metadata": {
  "@webio": {
   "lastCommId": "97dc185cd1954baf83c59de0c50a75ec",
   "lastKernelId": "0a5dac8e-7109-40fb-8a95-e2baccb695d6"
  },
  "kernelspec": {
   "display_name": "Julia 1.2.0",
   "language": "julia",
   "name": "julia-1.2"
  },
  "language_info": {
   "file_extension": ".jl",
   "mimetype": "application/julia",
   "name": "julia",
   "version": "1.2.0"
  }
 },
 "nbformat": 4,
 "nbformat_minor": 2
}
