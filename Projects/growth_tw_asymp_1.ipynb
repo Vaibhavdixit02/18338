{
 "cells": [
  {
   "cell_type": "code",
   "execution_count": 1,
   "metadata": {},
   "outputs": [
    {
     "data": {
      "text/html": [
       "<script>\n",
       "// Immediately-invoked-function-expression to avoid global variables.\n",
       "(function() {\n",
       "    var warning_div = document.getElementById(\"webio-warning-3444258864179425632\");\n",
       "    var hide = function () {\n",
       "        var script = document.getElementById(\"webio-setup-15890680291814407747\");\n",
       "        var parent = script && script.parentElement;\n",
       "        var grandparent = parent && parent.parentElement;\n",
       "        if (grandparent) {\n",
       "            grandparent.style.display = \"none\";\n",
       "        }\n",
       "        warning_div.style.display = \"none\";\n",
       "    };\n",
       "    if (typeof Jupyter !== \"undefined\") {\n",
       "        console.log(\"WebIO detected Jupyter notebook environment.\");\n",
       "        // Jupyter notebook.\n",
       "        var extensions = (\n",
       "            Jupyter\n",
       "            && Jupyter.notebook.config.data\n",
       "            && Jupyter.notebook.config.data.load_extensions\n",
       "        );\n",
       "        if (extensions && extensions[\"webio-jupyter-notebook\"]) {\n",
       "            // Extension already loaded.\n",
       "            console.log(\"Jupyter WebIO nbextension detected; not loading ad-hoc.\");\n",
       "            hide();\n",
       "            return;\n",
       "        }\n",
       "    } else if (window.location.pathname.includes(\"/lab\")) {\n",
       "        // Guessing JupyterLa\n",
       "        console.log(\"Jupyter Lab detected; make sure the @webio/jupyter-lab-provider labextension is installed.\");\n",
       "        hide();\n",
       "        return;\n",
       "    }\n",
       "})();\n",
       "\n",
       "</script>\n",
       "<p\n",
       "    id=\"webio-warning-3444258864179425632\"\n",
       "    class=\"output_text output_stderr\"\n",
       "    style=\"padding: 1em; font-weight: bold;\"\n",
       ">\n",
       "    Unable to load WebIO. Please make sure WebIO works for your Jupyter client.\n",
       "    For troubleshooting, please see <a href=\"https://juliagizmos.github.io/WebIO.jl/latest/providers/ijulia/\">\n",
       "    the WebIO/IJulia documentation</a>.\n",
       "    <!-- TODO: link to installation docs. -->\n",
       "</p>\n"
      ],
      "text/plain": [
       "HTML{String}(\"<script>\\n// Immediately-invoked-function-expression to avoid global variables.\\n(function() {\\n    var warning_div = document.getElementById(\\\"webio-warning-3444258864179425632\\\");\\n    var hide = function () {\\n        var script = document.getElementById(\\\"webio-setup-15890680291814407747\\\");\\n        var parent = script && script.parentElement;\\n        var grandparent = parent && parent.parentElement;\\n        if (grandparent) {\\n            grandparent.style.display = \\\"none\\\";\\n        }\\n        warning_div.style.display = \\\"none\\\";\\n    };\\n    if (typeof Jupyter !== \\\"undefined\\\") {\\n        console.log(\\\"WebIO detected Jupyter notebook environment.\\\");\\n        // Jupyter notebook.\\n        var extensions = (\\n            Jupyter\\n            && Jupyter.notebook.config.data\\n            && Jupyter.notebook.config.data.load_extensions\\n        );\\n        if (extensions && extensions[\\\"webio-jupyter-notebook\\\"]) {\\n            // Extension already loaded.\\n            console.log(\\\"Jupyter WebIO nbextension detected; not loading ad-hoc.\\\");\\n            hide();\\n            return;\\n        }\\n    } else if (window.location.pathname.includes(\\\"/lab\\\")) {\\n        // Guessing JupyterLa\\n        console.log(\\\"Jupyter Lab detected; make sure the @webio/jupyter-lab-provider labextension is installed.\\\");\\n        hide();\\n        return;\\n    }\\n})();\\n\\n</script>\\n<p\\n    id=\\\"webio-warning-3444258864179425632\\\"\\n    class=\\\"output_text output_stderr\\\"\\n    style=\\\"padding: 1em; font-weight: bold;\\\"\\n>\\n    Unable to load WebIO. Please make sure WebIO works for your Jupyter client.\\n    For troubleshooting, please see <a href=\\\"https://juliagizmos.github.io/WebIO.jl/latest/providers/ijulia/\\\">\\n    the WebIO/IJulia documentation</a>.\\n    <!-- TODO: link to installation docs. -->\\n</p>\\n\")"
      ]
     },
     "metadata": {},
     "output_type": "display_data"
    }
   ],
   "source": [
    "#using Plots\n",
    "#using Interact\n",
    "using Distributions"
   ]
  },
  {
   "cell_type": "code",
   "execution_count": 44,
   "metadata": {},
   "outputs": [
    {
     "data": {
      "text/plain": [
       "m_G (generic function with 1 method)"
      ]
     },
     "execution_count": 44,
     "metadata": {},
     "output_type": "execute_result"
    }
   ],
   "source": [
    "function G(couple, wait)\n",
    "    i, j = couple[1], couple[2]\n",
    "    if(i==1 && j==1)\n",
    "        return 0\n",
    "    elseif(i==1)\n",
    "        return G((i, j-1), wait) + 1 + wait[i, j]\n",
    "    elseif(j==1)\n",
    "        return G((i-1, j), wait) + 1 + wait[i, j]\n",
    "    else\n",
    "        return max(G((i, j-1), wait), G((i-1, j), wait)) + 1 + wait[i, j]\n",
    "    end\n",
    "end\n",
    "\n",
    "function m_G(wait)\n",
    "    memg = zeros(N, N) .- 1 #trunc.(Int, zeros(N,N)) .- 1\n",
    "    memg[1, 1] = 0\n",
    "    function tmp_G(i, j, wait)\n",
    "        if(memg[i, j] == -1)\n",
    "            if(i==1)\n",
    "                res1 = tmp_G(i, j-1, wait)\n",
    "                memg[i, j-1] = res1\n",
    "                res = res1 + 1 + wait[i, j]\n",
    "            elseif(j==1)\n",
    "                res1 = tmp_G(i-1, j, wait)\n",
    "                memg[i-1, j] = res1\n",
    "                res = res1 + 1 + wait[i, j]\n",
    "            else\n",
    "                res1 = tmp_G(i, j-1, wait)\n",
    "                res2 = tmp_G(i-1, j, wait)\n",
    "                memg[i, j-1] = res1\n",
    "                memg[i-1, j] = res2\n",
    "                res = max(res1, res2) + 1 + wait[i, j]\n",
    "            end\n",
    "            memg[i, j] = res\n",
    "        end\n",
    "        return memg[i, j]\n",
    "    end\n",
    "    tmp_G(size(wait)[1], size(wait)[2], wait)\n",
    "    return memg\n",
    "end"
   ]
  },
  {
   "cell_type": "code",
   "execution_count": 45,
   "metadata": {},
   "outputs": [],
   "source": [
    "N = 18\n",
    "wait = rand(Geometric(0.5), N, N);"
   ]
  },
  {
   "cell_type": "code",
   "execution_count": 46,
   "metadata": {
    "scrolled": false
   },
   "outputs": [
    {
     "name": "stdout",
     "output_type": "stream",
     "text": [
      "  0.038864 seconds (29.74 k allocations: 1.453 MiB)\n"
     ]
    },
    {
     "data": {
      "text/plain": [
       "98.0"
      ]
     },
     "execution_count": 46,
     "metadata": {},
     "output_type": "execute_result"
    }
   ],
   "source": [
    "@time m_G(wait)[N, N]"
   ]
  }
 ],
 "metadata": {
  "@webio": {
   "lastCommId": "81fac77fe6a445a98a3438989718737b",
   "lastKernelId": "73f0e422-e9d0-4e5a-9f20-ceecbda518e0"
  },
  "kernelspec": {
   "display_name": "Julia 1.2.0",
   "language": "julia",
   "name": "julia-1.2"
  },
  "language_info": {
   "file_extension": ".jl",
   "mimetype": "application/julia",
   "name": "julia",
   "version": "1.2.0"
  }
 },
 "nbformat": 4,
 "nbformat_minor": 2
}
