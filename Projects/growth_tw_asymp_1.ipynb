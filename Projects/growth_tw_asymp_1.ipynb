{
 "cells": [
  {
   "cell_type": "code",
   "execution_count": 46,
   "metadata": {},
   "outputs": [
    {
     "name": "stderr",
     "output_type": "stream",
     "text": [
      "┌ Info: Recompiling stale cache file C:\\Users\\matte\\.julia\\compiled\\v1.2\\Interact\\XmYW4.ji for Interact [c601a237-2ae4-5e1e-952c-7a85b0c7eef1]\n",
      "└ @ Base loading.jl:1240\n"
     ]
    },
    {
     "data": {
      "text/html": [
       "<script>\n",
       "// Immediately-invoked-function-expression to avoid global variables.\n",
       "(function() {\n",
       "    var warning_div = document.getElementById(\"webio-warning-12589776457119003439\");\n",
       "    var hide = function () {\n",
       "        var script = document.getElementById(\"webio-setup-5311059250349592638\");\n",
       "        var parent = script && script.parentElement;\n",
       "        var grandparent = parent && parent.parentElement;\n",
       "        if (grandparent) {\n",
       "            grandparent.style.display = \"none\";\n",
       "        }\n",
       "        warning_div.style.display = \"none\";\n",
       "    };\n",
       "    if (typeof Jupyter !== \"undefined\") {\n",
       "        console.log(\"WebIO detected Jupyter notebook environment.\");\n",
       "        // Jupyter notebook.\n",
       "        var extensions = (\n",
       "            Jupyter\n",
       "            && Jupyter.notebook.config.data\n",
       "            && Jupyter.notebook.config.data.load_extensions\n",
       "        );\n",
       "        if (extensions && extensions[\"webio-jupyter-notebook\"]) {\n",
       "            // Extension already loaded.\n",
       "            console.log(\"Jupyter WebIO nbextension detected; not loading ad-hoc.\");\n",
       "            hide();\n",
       "            return;\n",
       "        }\n",
       "    } else if (window.location.pathname.includes(\"/lab\")) {\n",
       "        // Guessing JupyterLa\n",
       "        console.log(\"Jupyter Lab detected; make sure the @webio/jupyter-lab-provider labextension is installed.\");\n",
       "        hide();\n",
       "        return;\n",
       "    }\n",
       "})();\n",
       "\n",
       "</script>\n",
       "<p\n",
       "    id=\"webio-warning-12589776457119003439\"\n",
       "    class=\"output_text output_stderr\"\n",
       "    style=\"padding: 1em; font-weight: bold;\"\n",
       ">\n",
       "    Unable to load WebIO. Please make sure WebIO works for your Jupyter client.\n",
       "    For troubleshooting, please see <a href=\"https://juliagizmos.github.io/WebIO.jl/latest/providers/ijulia/\">\n",
       "    the WebIO/IJulia documentation</a>.\n",
       "    <!-- TODO: link to installation docs. -->\n",
       "</p>\n"
      ],
      "text/plain": [
       "HTML{String}(\"<script>\\n// Immediately-invoked-function-expression to avoid global variables.\\n(function() {\\n    var warning_div = document.getElementById(\\\"webio-warning-12589776457119003439\\\");\\n    var hide = function () {\\n        var script = document.getElementById(\\\"webio-setup-5311059250349592638\\\");\\n        var parent = script && script.parentElement;\\n        var grandparent = parent && parent.parentElement;\\n        if (grandparent) {\\n            grandparent.style.display = \\\"none\\\";\\n        }\\n        warning_div.style.display = \\\"none\\\";\\n    };\\n    if (typeof Jupyter !== \\\"undefined\\\") {\\n        console.log(\\\"WebIO detected Jupyter notebook environment.\\\");\\n        // Jupyter notebook.\\n        var extensions = (\\n            Jupyter\\n            && Jupyter.notebook.config.data\\n            && Jupyter.notebook.config.data.load_extensions\\n        );\\n        if (extensions && extensions[\\\"webio-jupyter-notebook\\\"]) {\\n            // Extension already loaded.\\n            console.log(\\\"Jupyter WebIO nbextension detected; not loading ad-hoc.\\\");\\n            hide();\\n            return;\\n        }\\n    } else if (window.location.pathname.includes(\\\"/lab\\\")) {\\n        // Guessing JupyterLa\\n        console.log(\\\"Jupyter Lab detected; make sure the @webio/jupyter-lab-provider labextension is installed.\\\");\\n        hide();\\n        return;\\n    }\\n})();\\n\\n</script>\\n<p\\n    id=\\\"webio-warning-12589776457119003439\\\"\\n    class=\\\"output_text output_stderr\\\"\\n    style=\\\"padding: 1em; font-weight: bold;\\\"\\n>\\n    Unable to load WebIO. Please make sure WebIO works for your Jupyter client.\\n    For troubleshooting, please see <a href=\\\"https://juliagizmos.github.io/WebIO.jl/latest/providers/ijulia/\\\">\\n    the WebIO/IJulia documentation</a>.\\n    <!-- TODO: link to installation docs. -->\\n</p>\\n\")"
      ]
     },
     "metadata": {},
     "output_type": "display_data"
    }
   ],
   "source": [
    "using Plots\n",
    "using Interact\n",
    "using Distributions\n",
    "using RandomMatrices"
   ]
  },
  {
   "cell_type": "code",
   "execution_count": 2,
   "metadata": {},
   "outputs": [],
   "source": [
    "function tw_pdf(xs, step)\n",
    "    c = cdf(TracyWidom, vcat(vcat(xs[1]-step,xs),xs[end]+step))\n",
    "    d = (diff(c)[1:end-1]+diff(c)[2:end]) / (2*step)\n",
    "    return d\n",
    "end\n",
    "\n",
    "step = 0.1\n",
    "min_, max_ = -6, 6\n",
    "xs = min_:step:max_\n",
    "TW_pdf = tw_pdf(xs, step);"
   ]
  },
  {
   "cell_type": "code",
   "execution_count": 41,
   "metadata": {},
   "outputs": [
    {
     "data": {
      "text/plain": [
       "m_G (generic function with 1 method)"
      ]
     },
     "execution_count": 41,
     "metadata": {},
     "output_type": "execute_result"
    }
   ],
   "source": [
    "function m_G(wait)\n",
    "    N = size(wait)[1]\n",
    "    memg = zeros(N, N) .- 1 #trunc.(Int, zeros(N,N)) .- 1\n",
    "    memg[1, 1] = 0\n",
    "#     for i in 1:N\n",
    "#         memg[i, 1] = 0\n",
    "#         memg[1, i] = 0\n",
    "#     end\n",
    "    function tmp_G(i, j, wait)\n",
    "        if(memg[i, j] == -1)\n",
    "            if(i==1)\n",
    "                res1 = tmp_G(i, j-1, wait)\n",
    "                memg[i, j-1] = res1\n",
    "                res = res1 + wait[i, j] #+1\n",
    "            elseif(j==1)\n",
    "                res1 = tmp_G(i-1, j, wait)\n",
    "                memg[i-1, j] = res1\n",
    "                res = res1 + wait[i, j] #+1\n",
    "            else\n",
    "                res1 = tmp_G(i, j-1, wait)\n",
    "                res2 = tmp_G(i-1, j, wait)\n",
    "                memg[i, j-1] = res1\n",
    "                memg[i-1, j] = res2\n",
    "                res = max(res1, res2) + wait[i, j] #+1\n",
    "            end\n",
    "            memg[i, j] = res\n",
    "        end\n",
    "        return memg[i, j]\n",
    "    end\n",
    "    tmp_G(N, N, wait)\n",
    "    return memg\n",
    "end"
   ]
  },
  {
   "cell_type": "code",
   "execution_count": 39,
   "metadata": {},
   "outputs": [
    {
     "data": {
      "text/plain": [
       "get_grid (generic function with 1 method)"
      ]
     },
     "execution_count": 39,
     "metadata": {},
     "output_type": "execute_result"
    }
   ],
   "source": [
    "function get_grid(law, N)\n",
    "    w = rand(law, N, N)\n",
    "    grid = m_G(w)\n",
    "    return grid\n",
    "end"
   ]
  },
  {
   "cell_type": "code",
   "execution_count": 148,
   "metadata": {},
   "outputs": [
    {
     "data": {
      "text/plain": [
       "renorm_params (generic function with 1 method)"
      ]
     },
     "execution_count": 148,
     "metadata": {},
     "output_type": "execute_result"
    }
   ],
   "source": [
    "## http://www.math.cmu.edu/~eemrah/CGM_TW.pdf\n",
    "## https://www.math.utah.edu/~firas/FPD16/Talks/Emrah.pdf\n",
    "## https://arxiv.org/pdf/math/9903134.pdf\n",
    "## https://arxiv.org/pdf/1612.08521.pdf\n",
    "\n",
    "function renorm_params(law)\n",
    "    r = 1\n",
    "    if typeof(law) == Geometric{Float64}\n",
    "        q = params(law)[1]\n",
    "        q = (1-q)\n",
    "        γ = (q*(1+r) + 2*√(q*r)) / (1-q)\n",
    "        σ = (1/(1-q)) * (q/r)^(1/6) * (√q + √r)^(2/3) * (1 + √(q*r))^(2/3)\n",
    "    elseif typeof(law) == Exponential{Float64}\n",
    "        λ = 1 / params(law)[1]\n",
    "        γ = (1+√r)^2 / λ\n",
    "        σ = r^(-1/6) * (1+r)^(4/3)\n",
    "    end\n",
    "    return γ, σ\n",
    "end"
   ]
  },
  {
   "cell_type": "code",
   "execution_count": 146,
   "metadata": {},
   "outputs": [],
   "source": [
    "N = 400\n",
    "res = Float64[]\n",
    "for i in 1:100\n",
    "    append!(res, get_grid(Geometric(0.2), N)[N, N])\n",
    "end"
   ]
  },
  {
   "cell_type": "code",
   "execution_count": 140,
   "metadata": {},
   "outputs": [
    {
     "data": {
      "text/plain": [
       "(15.4628, 8.724268724692603)"
      ]
     },
     "execution_count": 140,
     "metadata": {},
     "output_type": "execute_result"
    }
   ],
   "source": [
    "mean(res)/N, std(res)/(N^(1/3))"
   ]
  },
  {
   "cell_type": "code",
   "execution_count": 142,
   "metadata": {},
   "outputs": [
    {
     "data": {
      "text/plain": [
       "(16.0272, 10.071457838505559)"
      ]
     },
     "execution_count": 142,
     "metadata": {},
     "output_type": "execute_result"
    }
   ],
   "source": [
    "mean(res)/N, std(res)/(N^(1/3))"
   ]
  },
  {
   "cell_type": "code",
   "execution_count": 144,
   "metadata": {},
   "outputs": [
    {
     "data": {
      "text/plain": [
       "(16.357, 10.916986771400781)"
      ]
     },
     "execution_count": 144,
     "metadata": {},
     "output_type": "execute_result"
    }
   ],
   "source": [
    "mean(res)/N, std(res)/(N^(1/3))"
   ]
  },
  {
   "cell_type": "code",
   "execution_count": 147,
   "metadata": {},
   "outputs": [
    {
     "data": {
      "text/plain": [
       "(16.626199999999997, 10.51944911127134)"
      ]
     },
     "execution_count": 147,
     "metadata": {},
     "output_type": "execute_result"
    }
   ],
   "source": [
    "mean(res)/N, std(res)/(N^(1/3))"
   ]
  },
  {
   "cell_type": "code",
   "execution_count": 135,
   "metadata": {},
   "outputs": [
    {
     "data": {
      "text/plain": [
       "(16.94427190999916, 1.564798870444482)"
      ]
     },
     "execution_count": 135,
     "metadata": {},
     "output_type": "execute_result"
    }
   ],
   "source": [
    "renorm_params(Geometric(0.2))"
   ]
  },
  {
   "cell_type": "code",
   "execution_count": 136,
   "metadata": {},
   "outputs": [
    {
     "data": {
      "text/plain": [
       "72.0369230521979"
      ]
     },
     "execution_count": 136,
     "metadata": {},
     "output_type": "execute_result"
    }
   ],
   "source": []
  },
  {
   "cell_type": "code",
   "execution_count": null,
   "metadata": {},
   "outputs": [],
   "source": []
  },
  {
   "cell_type": "code",
   "execution_count": 68,
   "metadata": {},
   "outputs": [
    {
     "data": {
      "application/vnd.webio.node+json": {
       "children": [
        {
         "children": [
          {
           "children": [
            {
             "children": [
              {
               "children": [
                {
                 "children": [
                  "max_N"
                 ],
                 "instanceArgs": {
                  "namespace": "html",
                  "tag": "label"
                 },
                 "nodeType": "DOM",
                 "props": {
                  "className": "interact ",
                  "style": {
                   "padding": "5px 10px 0px 10px"
                  }
                 },
                 "type": "node"
                }
               ],
               "instanceArgs": {
                "namespace": "html",
                "tag": "div"
               },
               "nodeType": "DOM",
               "props": {
                "className": "interact-flex-row-left"
               },
               "type": "node"
              },
              {
               "children": [
                {
                 "children": [],
                 "instanceArgs": {
                  "namespace": "html",
                  "tag": "input"
                 },
                 "nodeType": "DOM",
                 "props": {
                  "attributes": {
                   "data-bind": "numericValue: index, valueUpdate: 'input', event: {change: function (){this.changes(this.changes()+1)}}",
                   "orient": "horizontal",
                   "type": "range"
                  },
                  "className": "slider slider is-fullwidth",
                  "max": 19,
                  "min": 1,
                  "step": 1,
                  "style": {}
                 },
                 "type": "node"
                }
               ],
               "instanceArgs": {
                "namespace": "html",
                "tag": "div"
               },
               "nodeType": "DOM",
               "props": {
                "className": "interact-flex-row-center"
               },
               "type": "node"
              },
              {
               "children": [
                {
                 "children": [],
                 "instanceArgs": {
                  "namespace": "html",
                  "tag": "p"
                 },
                 "nodeType": "DOM",
                 "props": {
                  "attributes": {
                   "data-bind": "text: formatted_val"
                  }
                 },
                 "type": "node"
                }
               ],
               "instanceArgs": {
                "namespace": "html",
                "tag": "div"
               },
               "nodeType": "DOM",
               "props": {
                "className": "interact-flex-row-right"
               },
               "type": "node"
              }
             ],
             "instanceArgs": {
              "namespace": "html",
              "tag": "div"
             },
             "nodeType": "DOM",
             "props": {
              "className": "interact-flex-row interact-widget"
             },
             "type": "node"
            }
           ],
           "instanceArgs": {
            "handlers": {
             "changes": [
              "(function (val){return (val!=this.model[\"changes\"]()) ? (this.valueFromJulia[\"changes\"]=true, this.model[\"changes\"](val)) : undefined})"
             ],
             "index": [
              "(function (val){return (val!=this.model[\"index\"]()) ? (this.valueFromJulia[\"index\"]=true, this.model[\"index\"](val)) : undefined})"
             ]
            },
            "id": "12012879019589766080",
            "imports": {
             "data": [
              {
               "name": "knockout",
               "type": "js",
               "url": "/assetserver/254160226b58162a42111ea27214076747de1cf2-knockout.js"
              },
              {
               "name": "knockout_punches",
               "type": "js",
               "url": "/assetserver/2d0bf510fb683322318163f3ec7562806e4b1104-knockout_punches.js"
              },
              {
               "name": null,
               "type": "js",
               "url": "/assetserver/6ffcdda43c684da84d2ca5dd2027e4a55c68edac-all.js"
              },
              {
               "name": null,
               "type": "css",
               "url": "/assetserver/b0b44adaed1197b8510174b41f32f09d98a0c28e-style.css"
              },
              {
               "name": null,
               "type": "css",
               "url": "/assetserver/bbb2e3064bd5f6dfcf2f18fbeb52d9320f251632-bulma_confined.min.css"
              }
             ],
             "type": "async_block"
            },
            "mount_callbacks": [
             "function () {\n    var handler = (function (ko, koPunches) {\n    ko.punches.enableAll();\n    ko.bindingHandlers.numericValue = {\n        init: function(element, valueAccessor, allBindings, data, context) {\n            var stringified = ko.observable(ko.unwrap(valueAccessor()));\n            stringified.subscribe(function(value) {\n                var val = parseFloat(value);\n                if (!isNaN(val)) {\n                    valueAccessor()(val);\n                }\n            });\n            valueAccessor().subscribe(function(value) {\n                var str = JSON.stringify(value);\n                if ((str == \"0\") && ([\"-0\", \"-0.\"].indexOf(stringified()) >= 0))\n                     return;\n                 if ([\"null\", \"\"].indexOf(str) >= 0)\n                     return;\n                stringified(str);\n            });\n            ko.applyBindingsToNode(\n                element,\n                {\n                    value: stringified,\n                    valueUpdate: allBindings.get('valueUpdate'),\n                },\n                context,\n            );\n        }\n    };\n    var json_data = {\"formatted_vals\":[\"100\",\"150\",\"200\",\"250\",\"300\",\"350\",\"400\",\"450\",\"500\",\"550\",\"600\",\"650\",\"700\",\"750\",\"800\",\"850\",\"900\",\"950\",\"1000\"],\"changes\":WebIO.getval({\"name\":\"changes\",\"scope\":\"12012879019589766080\",\"id\":\"ob_415\",\"type\":\"observable\"}),\"index\":WebIO.getval({\"name\":\"index\",\"scope\":\"12012879019589766080\",\"id\":\"ob_414\",\"type\":\"observable\"})};\n    var self = this;\n    function AppViewModel() {\n        for (var key in json_data) {\n            var el = json_data[key];\n            this[key] = Array.isArray(el) ? ko.observableArray(el) : ko.observable(el);\n        }\n        \n        [this[\"formatted_val\"]=ko.computed(    function(){\n        return this.formatted_vals()[parseInt(this.index())-(1)];\n    }\n,this)]\n        [this[\"changes\"].subscribe((function (val){!(this.valueFromJulia[\"changes\"]) ? (WebIO.setval({\"name\":\"changes\",\"scope\":\"12012879019589766080\",\"id\":\"ob_415\",\"type\":\"observable\"},val)) : undefined; return this.valueFromJulia[\"changes\"]=false}),self),this[\"index\"].subscribe((function (val){!(this.valueFromJulia[\"index\"]) ? (WebIO.setval({\"name\":\"index\",\"scope\":\"12012879019589766080\",\"id\":\"ob_414\",\"type\":\"observable\"},val)) : undefined; return this.valueFromJulia[\"index\"]=false}),self)]\n        \n    }\n    self.model = new AppViewModel();\n    self.valueFromJulia = {};\n    for (var key in json_data) {\n        self.valueFromJulia[key] = false;\n    }\n    ko.applyBindings(self.model, self.dom);\n}\n);\n    (WebIO.importBlock({\"data\":[{\"name\":\"knockout\",\"type\":\"js\",\"url\":\"/assetserver/254160226b58162a42111ea27214076747de1cf2-knockout.js\"},{\"name\":\"knockout_punches\",\"type\":\"js\",\"url\":\"/assetserver/2d0bf510fb683322318163f3ec7562806e4b1104-knockout_punches.js\"}],\"type\":\"async_block\"})).then((imports) => handler.apply(this, imports));\n}\n"
            ],
            "observables": {
             "changes": {
              "id": "ob_415",
              "sync": false,
              "value": 0
             },
             "index": {
              "id": "ob_414",
              "sync": true,
              "value": 10
             }
            },
            "systemjs_options": null
           },
           "nodeType": "Scope",
           "props": {},
           "type": "node"
          }
         ],
         "instanceArgs": {
          "namespace": "html",
          "tag": "div"
         },
         "nodeType": "DOM",
         "props": {
          "className": "field interact-widget"
         },
         "type": "node"
        },
        {
         "children": [
          {
           "children": [
            {
             "children": [
              {
               "children": [
                {
                 "children": [
                  "law_name"
                 ],
                 "instanceArgs": {
                  "namespace": "html",
                  "tag": "label"
                 },
                 "nodeType": "DOM",
                 "props": {
                  "className": "interact ",
                  "style": {
                   "padding": "5px 10px 0px 10px"
                  }
                 },
                 "type": "node"
                }
               ],
               "instanceArgs": {
                "namespace": "html",
                "tag": "div"
               },
               "nodeType": "DOM",
               "props": {
                "className": "interact-flex-row-left"
               },
               "type": "node"
              },
              {
               "children": [
                {
                 "children": [
                  {
                   "children": [
                    {
                     "children": [],
                     "instanceArgs": {
                      "namespace": "html",
                      "tag": "label"
                     },
                     "nodeType": "DOM",
                     "props": {
                      "attributes": {
                       "data-bind": "text : key"
                      }
                     },
                     "type": "node"
                    }
                   ],
                   "instanceArgs": {
                    "namespace": "html",
                    "tag": "span"
                   },
                   "nodeType": "DOM",
                   "props": {
                    "attributes": {
                     "data-bind": "click: function (){$root.update(val)}, css: {'is-primary is-selected' : $root.index() == val, 'interact-widget is-medium button ' : true}"
                    }
                   },
                   "type": "node"
                  }
                 ],
                 "instanceArgs": {
                  "namespace": "html",
                  "tag": "div"
                 },
                 "nodeType": "DOM",
                 "props": {
                  "attributes": {
                   "data-bind": "foreach : options_js"
                  },
                  "className": "buttons has-addons is-centered"
                 },
                 "type": "node"
                }
               ],
               "instanceArgs": {
                "namespace": "html",
                "tag": "div"
               },
               "nodeType": "DOM",
               "props": {
                "className": "interact-flex-row-center"
               },
               "type": "node"
              },
              {
               "children": [
                {
                 "children": [],
                 "instanceArgs": {
                  "namespace": "html",
                  "tag": "div"
                 },
                 "nodeType": "DOM",
                 "props": {},
                 "type": "node"
                }
               ],
               "instanceArgs": {
                "namespace": "html",
                "tag": "div"
               },
               "nodeType": "DOM",
               "props": {
                "className": "interact-flex-row-right"
               },
               "type": "node"
              }
             ],
             "instanceArgs": {
              "namespace": "html",
              "tag": "div"
             },
             "nodeType": "DOM",
             "props": {
              "className": "interact-flex-row interact-widget"
             },
             "type": "node"
            }
           ],
           "instanceArgs": {
            "handlers": {
             "index": [
              "(function (val){return (val!=this.model[\"index\"]()) ? (this.valueFromJulia[\"index\"]=true, this.model[\"index\"](val)) : undefined})"
             ],
             "options_js": [
              "(function (val){return (val!=this.model[\"options_js\"]()) ? (this.valueFromJulia[\"options_js\"]=true, this.model[\"options_js\"](val)) : undefined})"
             ]
            },
            "id": "3963777282110550701",
            "imports": {
             "data": [
              {
               "name": "knockout",
               "type": "js",
               "url": "/assetserver/254160226b58162a42111ea27214076747de1cf2-knockout.js"
              },
              {
               "name": "knockout_punches",
               "type": "js",
               "url": "/assetserver/2d0bf510fb683322318163f3ec7562806e4b1104-knockout_punches.js"
              },
              {
               "name": null,
               "type": "js",
               "url": "/assetserver/6ffcdda43c684da84d2ca5dd2027e4a55c68edac-all.js"
              },
              {
               "name": null,
               "type": "css",
               "url": "/assetserver/b0b44adaed1197b8510174b41f32f09d98a0c28e-style.css"
              },
              {
               "name": null,
               "type": "css",
               "url": "/assetserver/bbb2e3064bd5f6dfcf2f18fbeb52d9320f251632-bulma_confined.min.css"
              }
             ],
             "type": "async_block"
            },
            "mount_callbacks": [
             "function () {\n    var handler = (function (ko, koPunches) {\n    ko.punches.enableAll();\n    ko.bindingHandlers.numericValue = {\n        init: function(element, valueAccessor, allBindings, data, context) {\n            var stringified = ko.observable(ko.unwrap(valueAccessor()));\n            stringified.subscribe(function(value) {\n                var val = parseFloat(value);\n                if (!isNaN(val)) {\n                    valueAccessor()(val);\n                }\n            });\n            valueAccessor().subscribe(function(value) {\n                var str = JSON.stringify(value);\n                if ((str == \"0\") && ([\"-0\", \"-0.\"].indexOf(stringified()) >= 0))\n                     return;\n                 if ([\"null\", \"\"].indexOf(str) >= 0)\n                     return;\n                stringified(str);\n            });\n            ko.applyBindingsToNode(\n                element,\n                {\n                    value: stringified,\n                    valueUpdate: allBindings.get('valueUpdate'),\n                },\n                context,\n            );\n        }\n    };\n    var json_data = {\"options_js\":WebIO.getval({\"name\":\"options_js\",\"scope\":\"3963777282110550701\",\"id\":\"ob_420\",\"type\":\"observable\"}),\"index\":WebIO.getval({\"name\":\"index\",\"scope\":\"3963777282110550701\",\"id\":\"ob_419\",\"type\":\"observable\"})};\n    var self = this;\n    function AppViewModel() {\n        for (var key in json_data) {\n            var el = json_data[key];\n            this[key] = Array.isArray(el) ? ko.observableArray(el) : ko.observable(el);\n        }\n        [this[\"update\"]=function (val) {this.index(val)}]\n        \n        [this[\"options_js\"].subscribe((function (val){!(this.valueFromJulia[\"options_js\"]) ? (WebIO.setval({\"name\":\"options_js\",\"scope\":\"3963777282110550701\",\"id\":\"ob_420\",\"type\":\"observable\"},val)) : undefined; return this.valueFromJulia[\"options_js\"]=false}),self),this[\"index\"].subscribe((function (val){!(this.valueFromJulia[\"index\"]) ? (WebIO.setval({\"name\":\"index\",\"scope\":\"3963777282110550701\",\"id\":\"ob_419\",\"type\":\"observable\"},val)) : undefined; return this.valueFromJulia[\"index\"]=false}),self)]\n        \n    }\n    self.model = new AppViewModel();\n    self.valueFromJulia = {};\n    for (var key in json_data) {\n        self.valueFromJulia[key] = false;\n    }\n    ko.applyBindings(self.model, self.dom);\n}\n);\n    (WebIO.importBlock({\"data\":[{\"name\":\"knockout\",\"type\":\"js\",\"url\":\"/assetserver/254160226b58162a42111ea27214076747de1cf2-knockout.js\"},{\"name\":\"knockout_punches\",\"type\":\"js\",\"url\":\"/assetserver/2d0bf510fb683322318163f3ec7562806e4b1104-knockout_punches.js\"}],\"type\":\"async_block\"})).then((imports) => handler.apply(this, imports));\n}\n"
            ],
            "observables": {
             "index": {
              "id": "ob_419",
              "sync": true,
              "value": 1
             },
             "options_js": {
              "id": "ob_420",
              "sync": false,
              "value": [
               {
                "id": "idSadITQuX",
                "key": "Geometric(q)",
                "val": 1
               },
               {
                "id": "idAhnh0RHj",
                "key": "Exponential(λ)",
                "val": 2
               }
              ]
             }
            },
            "systemjs_options": null
           },
           "nodeType": "Scope",
           "props": {},
           "type": "node"
          }
         ],
         "instanceArgs": {
          "namespace": "html",
          "tag": "div"
         },
         "nodeType": "DOM",
         "props": {
          "className": "interact-widget"
         },
         "type": "node"
        },
        {
         "children": [
          {
           "children": [
            {
             "children": [
              {
               "children": [
                {
                 "children": [
                  "q"
                 ],
                 "instanceArgs": {
                  "namespace": "html",
                  "tag": "label"
                 },
                 "nodeType": "DOM",
                 "props": {
                  "className": "interact ",
                  "style": {
                   "padding": "5px 10px 0px 10px"
                  }
                 },
                 "type": "node"
                }
               ],
               "instanceArgs": {
                "namespace": "html",
                "tag": "div"
               },
               "nodeType": "DOM",
               "props": {
                "className": "interact-flex-row-left"
               },
               "type": "node"
              },
              {
               "children": [
                {
                 "children": [],
                 "instanceArgs": {
                  "namespace": "html",
                  "tag": "input"
                 },
                 "nodeType": "DOM",
                 "props": {
                  "attributes": {
                   "data-bind": "numericValue: index, valueUpdate: 'input', event: {change: function (){this.changes(this.changes()+1)}}",
                   "orient": "horizontal",
                   "type": "range"
                  },
                  "className": "slider slider is-fullwidth",
                  "max": 19,
                  "min": 1,
                  "step": 1,
                  "style": {}
                 },
                 "type": "node"
                }
               ],
               "instanceArgs": {
                "namespace": "html",
                "tag": "div"
               },
               "nodeType": "DOM",
               "props": {
                "className": "interact-flex-row-center"
               },
               "type": "node"
              },
              {
               "children": [
                {
                 "children": [],
                 "instanceArgs": {
                  "namespace": "html",
                  "tag": "p"
                 },
                 "nodeType": "DOM",
                 "props": {
                  "attributes": {
                   "data-bind": "text: formatted_val"
                  }
                 },
                 "type": "node"
                }
               ],
               "instanceArgs": {
                "namespace": "html",
                "tag": "div"
               },
               "nodeType": "DOM",
               "props": {
                "className": "interact-flex-row-right"
               },
               "type": "node"
              }
             ],
             "instanceArgs": {
              "namespace": "html",
              "tag": "div"
             },
             "nodeType": "DOM",
             "props": {
              "className": "interact-flex-row interact-widget"
             },
             "type": "node"
            }
           ],
           "instanceArgs": {
            "handlers": {
             "changes": [
              "(function (val){return (val!=this.model[\"changes\"]()) ? (this.valueFromJulia[\"changes\"]=true, this.model[\"changes\"](val)) : undefined})"
             ],
             "index": [
              "(function (val){return (val!=this.model[\"index\"]()) ? (this.valueFromJulia[\"index\"]=true, this.model[\"index\"](val)) : undefined})"
             ]
            },
            "id": "3682272753745580192",
            "imports": {
             "data": [
              {
               "name": "knockout",
               "type": "js",
               "url": "/assetserver/254160226b58162a42111ea27214076747de1cf2-knockout.js"
              },
              {
               "name": "knockout_punches",
               "type": "js",
               "url": "/assetserver/2d0bf510fb683322318163f3ec7562806e4b1104-knockout_punches.js"
              },
              {
               "name": null,
               "type": "js",
               "url": "/assetserver/6ffcdda43c684da84d2ca5dd2027e4a55c68edac-all.js"
              },
              {
               "name": null,
               "type": "css",
               "url": "/assetserver/b0b44adaed1197b8510174b41f32f09d98a0c28e-style.css"
              },
              {
               "name": null,
               "type": "css",
               "url": "/assetserver/bbb2e3064bd5f6dfcf2f18fbeb52d9320f251632-bulma_confined.min.css"
              }
             ],
             "type": "async_block"
            },
            "mount_callbacks": [
             "function () {\n    var handler = (function (ko, koPunches) {\n    ko.punches.enableAll();\n    ko.bindingHandlers.numericValue = {\n        init: function(element, valueAccessor, allBindings, data, context) {\n            var stringified = ko.observable(ko.unwrap(valueAccessor()));\n            stringified.subscribe(function(value) {\n                var val = parseFloat(value);\n                if (!isNaN(val)) {\n                    valueAccessor()(val);\n                }\n            });\n            valueAccessor().subscribe(function(value) {\n                var str = JSON.stringify(value);\n                if ((str == \"0\") && ([\"-0\", \"-0.\"].indexOf(stringified()) >= 0))\n                     return;\n                 if ([\"null\", \"\"].indexOf(str) >= 0)\n                     return;\n                stringified(str);\n            });\n            ko.applyBindingsToNode(\n                element,\n                {\n                    value: stringified,\n                    valueUpdate: allBindings.get('valueUpdate'),\n                },\n                context,\n            );\n        }\n    };\n    var json_data = {\"formatted_vals\":[\"0.05\",\"0.1\",\"0.15\",\"0.2\",\"0.25\",\"0.3\",\"0.35\",\"0.4\",\"0.45\",\"0.5\",\"0.55\",\"0.6\",\"0.65\",\"0.7\",\"0.75\",\"0.8\",\"0.85\",\"0.9\",\"0.95\"],\"changes\":WebIO.getval({\"name\":\"changes\",\"scope\":\"3682272753745580192\",\"id\":\"ob_423\",\"type\":\"observable\"}),\"index\":WebIO.getval({\"name\":\"index\",\"scope\":\"3682272753745580192\",\"id\":\"ob_422\",\"type\":\"observable\"})};\n    var self = this;\n    function AppViewModel() {\n        for (var key in json_data) {\n            var el = json_data[key];\n            this[key] = Array.isArray(el) ? ko.observableArray(el) : ko.observable(el);\n        }\n        \n        [this[\"formatted_val\"]=ko.computed(    function(){\n        return this.formatted_vals()[parseInt(this.index())-(1)];\n    }\n,this)]\n        [this[\"changes\"].subscribe((function (val){!(this.valueFromJulia[\"changes\"]) ? (WebIO.setval({\"name\":\"changes\",\"scope\":\"3682272753745580192\",\"id\":\"ob_423\",\"type\":\"observable\"},val)) : undefined; return this.valueFromJulia[\"changes\"]=false}),self),this[\"index\"].subscribe((function (val){!(this.valueFromJulia[\"index\"]) ? (WebIO.setval({\"name\":\"index\",\"scope\":\"3682272753745580192\",\"id\":\"ob_422\",\"type\":\"observable\"},val)) : undefined; return this.valueFromJulia[\"index\"]=false}),self)]\n        \n    }\n    self.model = new AppViewModel();\n    self.valueFromJulia = {};\n    for (var key in json_data) {\n        self.valueFromJulia[key] = false;\n    }\n    ko.applyBindings(self.model, self.dom);\n}\n);\n    (WebIO.importBlock({\"data\":[{\"name\":\"knockout\",\"type\":\"js\",\"url\":\"/assetserver/254160226b58162a42111ea27214076747de1cf2-knockout.js\"},{\"name\":\"knockout_punches\",\"type\":\"js\",\"url\":\"/assetserver/2d0bf510fb683322318163f3ec7562806e4b1104-knockout_punches.js\"}],\"type\":\"async_block\"})).then((imports) => handler.apply(this, imports));\n}\n"
            ],
            "observables": {
             "changes": {
              "id": "ob_423",
              "sync": false,
              "value": 0
             },
             "index": {
              "id": "ob_422",
              "sync": true,
              "value": 10
             }
            },
            "systemjs_options": null
           },
           "nodeType": "Scope",
           "props": {},
           "type": "node"
          }
         ],
         "instanceArgs": {
          "namespace": "html",
          "tag": "div"
         },
         "nodeType": "DOM",
         "props": {
          "className": "field interact-widget"
         },
         "type": "node"
        },
        {
         "children": [
          {
           "children": [
            {
             "children": [
              {
               "children": [
                {
                 "children": [
                  "λ"
                 ],
                 "instanceArgs": {
                  "namespace": "html",
                  "tag": "label"
                 },
                 "nodeType": "DOM",
                 "props": {
                  "className": "interact ",
                  "style": {
                   "padding": "5px 10px 0px 10px"
                  }
                 },
                 "type": "node"
                }
               ],
               "instanceArgs": {
                "namespace": "html",
                "tag": "div"
               },
               "nodeType": "DOM",
               "props": {
                "className": "interact-flex-row-left"
               },
               "type": "node"
              },
              {
               "children": [
                {
                 "children": [],
                 "instanceArgs": {
                  "namespace": "html",
                  "tag": "input"
                 },
                 "nodeType": "DOM",
                 "props": {
                  "attributes": {
                   "data-bind": "numericValue: index, valueUpdate: 'input', event: {change: function (){this.changes(this.changes()+1)}}",
                   "orient": "horizontal",
                   "type": "range"
                  },
                  "className": "slider slider is-fullwidth",
                  "max": 10,
                  "min": 1,
                  "step": 1,
                  "style": {}
                 },
                 "type": "node"
                }
               ],
               "instanceArgs": {
                "namespace": "html",
                "tag": "div"
               },
               "nodeType": "DOM",
               "props": {
                "className": "interact-flex-row-center"
               },
               "type": "node"
              },
              {
               "children": [
                {
                 "children": [],
                 "instanceArgs": {
                  "namespace": "html",
                  "tag": "p"
                 },
                 "nodeType": "DOM",
                 "props": {
                  "attributes": {
                   "data-bind": "text: formatted_val"
                  }
                 },
                 "type": "node"
                }
               ],
               "instanceArgs": {
                "namespace": "html",
                "tag": "div"
               },
               "nodeType": "DOM",
               "props": {
                "className": "interact-flex-row-right"
               },
               "type": "node"
              }
             ],
             "instanceArgs": {
              "namespace": "html",
              "tag": "div"
             },
             "nodeType": "DOM",
             "props": {
              "className": "interact-flex-row interact-widget"
             },
             "type": "node"
            }
           ],
           "instanceArgs": {
            "handlers": {
             "changes": [
              "(function (val){return (val!=this.model[\"changes\"]()) ? (this.valueFromJulia[\"changes\"]=true, this.model[\"changes\"](val)) : undefined})"
             ],
             "index": [
              "(function (val){return (val!=this.model[\"index\"]()) ? (this.valueFromJulia[\"index\"]=true, this.model[\"index\"](val)) : undefined})"
             ]
            },
            "id": "15413021545696262385",
            "imports": {
             "data": [
              {
               "name": "knockout",
               "type": "js",
               "url": "/assetserver/254160226b58162a42111ea27214076747de1cf2-knockout.js"
              },
              {
               "name": "knockout_punches",
               "type": "js",
               "url": "/assetserver/2d0bf510fb683322318163f3ec7562806e4b1104-knockout_punches.js"
              },
              {
               "name": null,
               "type": "js",
               "url": "/assetserver/6ffcdda43c684da84d2ca5dd2027e4a55c68edac-all.js"
              },
              {
               "name": null,
               "type": "css",
               "url": "/assetserver/b0b44adaed1197b8510174b41f32f09d98a0c28e-style.css"
              },
              {
               "name": null,
               "type": "css",
               "url": "/assetserver/bbb2e3064bd5f6dfcf2f18fbeb52d9320f251632-bulma_confined.min.css"
              }
             ],
             "type": "async_block"
            },
            "mount_callbacks": [
             "function () {\n    var handler = (function (ko, koPunches) {\n    ko.punches.enableAll();\n    ko.bindingHandlers.numericValue = {\n        init: function(element, valueAccessor, allBindings, data, context) {\n            var stringified = ko.observable(ko.unwrap(valueAccessor()));\n            stringified.subscribe(function(value) {\n                var val = parseFloat(value);\n                if (!isNaN(val)) {\n                    valueAccessor()(val);\n                }\n            });\n            valueAccessor().subscribe(function(value) {\n                var str = JSON.stringify(value);\n                if ((str == \"0\") && ([\"-0\", \"-0.\"].indexOf(stringified()) >= 0))\n                     return;\n                 if ([\"null\", \"\"].indexOf(str) >= 0)\n                     return;\n                stringified(str);\n            });\n            ko.applyBindingsToNode(\n                element,\n                {\n                    value: stringified,\n                    valueUpdate: allBindings.get('valueUpdate'),\n                },\n                context,\n            );\n        }\n    };\n    var json_data = {\"formatted_vals\":[\"1\",\"2\",\"3\",\"4\",\"5\",\"6\",\"7\",\"8\",\"9\",\"10\"],\"changes\":WebIO.getval({\"name\":\"changes\",\"scope\":\"15413021545696262385\",\"id\":\"ob_426\",\"type\":\"observable\"}),\"index\":WebIO.getval({\"name\":\"index\",\"scope\":\"15413021545696262385\",\"id\":\"ob_425\",\"type\":\"observable\"})};\n    var self = this;\n    function AppViewModel() {\n        for (var key in json_data) {\n            var el = json_data[key];\n            this[key] = Array.isArray(el) ? ko.observableArray(el) : ko.observable(el);\n        }\n        \n        [this[\"formatted_val\"]=ko.computed(    function(){\n        return this.formatted_vals()[parseInt(this.index())-(1)];\n    }\n,this)]\n        [this[\"changes\"].subscribe((function (val){!(this.valueFromJulia[\"changes\"]) ? (WebIO.setval({\"name\":\"changes\",\"scope\":\"15413021545696262385\",\"id\":\"ob_426\",\"type\":\"observable\"},val)) : undefined; return this.valueFromJulia[\"changes\"]=false}),self),this[\"index\"].subscribe((function (val){!(this.valueFromJulia[\"index\"]) ? (WebIO.setval({\"name\":\"index\",\"scope\":\"15413021545696262385\",\"id\":\"ob_425\",\"type\":\"observable\"},val)) : undefined; return this.valueFromJulia[\"index\"]=false}),self)]\n        \n    }\n    self.model = new AppViewModel();\n    self.valueFromJulia = {};\n    for (var key in json_data) {\n        self.valueFromJulia[key] = false;\n    }\n    ko.applyBindings(self.model, self.dom);\n}\n);\n    (WebIO.importBlock({\"data\":[{\"name\":\"knockout\",\"type\":\"js\",\"url\":\"/assetserver/254160226b58162a42111ea27214076747de1cf2-knockout.js\"},{\"name\":\"knockout_punches\",\"type\":\"js\",\"url\":\"/assetserver/2d0bf510fb683322318163f3ec7562806e4b1104-knockout_punches.js\"}],\"type\":\"async_block\"})).then((imports) => handler.apply(this, imports));\n}\n"
            ],
            "observables": {
             "changes": {
              "id": "ob_426",
              "sync": false,
              "value": 0
             },
             "index": {
              "id": "ob_425",
              "sync": true,
              "value": 5
             }
            },
            "systemjs_options": null
           },
           "nodeType": "Scope",
           "props": {},
           "type": "node"
          }
         ],
         "instanceArgs": {
          "namespace": "html",
          "tag": "div"
         },
         "nodeType": "DOM",
         "props": {
          "className": "field interact-widget"
         },
         "type": "node"
        },
        {
         "children": [
          {
           "children": [],
           "instanceArgs": {
            "id": "ob_432",
            "name": "obs-node"
           },
           "nodeType": "ObservableNode",
           "props": {},
           "type": "node"
          }
         ],
         "instanceArgs": {
          "handlers": {},
          "id": "8236032885932908167",
          "imports": {
           "data": [],
           "type": "async_block"
          },
          "mount_callbacks": [],
          "observables": {
           "obs-node": {
            "id": "ob_432",
            "sync": false,
            "value": {
             "children": [
              {
               "children": [],
               "instanceArgs": {
                "namespace": "html",
                "tag": "div"
               },
               "nodeType": "DOM",
               "props": {
                "setInnerHtml": "<?xml version=\"1.0\" encoding=\"utf-8\"?>\n<svg xmlns=\"http://www.w3.org/2000/svg\" xmlns:xlink=\"http://www.w3.org/1999/xlink\" width=\"600\" height=\"400\" viewBox=\"0 0 2400 1600\">\n<defs>\n  <clipPath id=\"clip3700\">\n    <rect x=\"0\" y=\"0\" width=\"2400\" height=\"1600\"/>\n  </clipPath>\n</defs>\n<path clip-path=\"url(#clip3700)\" d=\"\nM0 1600 L2400 1600 L2400 0 L0 0  Z\n  \" fill=\"#ffffff\" fill-rule=\"evenodd\" fill-opacity=\"1\"/>\n<defs>\n  <clipPath id=\"clip3701\">\n    <rect x=\"480\" y=\"0\" width=\"1681\" height=\"1600\"/>\n  </clipPath>\n</defs>\n<path clip-path=\"url(#clip3700)\" d=\"\nM140.517 1425.62 L2352.76 1425.62 L2352.76 47.2441 L140.517 47.2441  Z\n  \" fill=\"#ffffff\" fill-rule=\"evenodd\" fill-opacity=\"1\"/>\n<defs>\n  <clipPath id=\"clip3702\">\n    <rect x=\"140\" y=\"47\" width=\"2213\" height=\"1379\"/>\n  </clipPath>\n</defs>\n<polyline clip-path=\"url(#clip3702)\" style=\"stroke:#000000; stroke-width:2; stroke-opacity:0.1; fill:none\" points=\"\n  199.326,1425.62 199.326,47.2441 \n  \"/>\n<polyline clip-path=\"url(#clip3702)\" style=\"stroke:#000000; stroke-width:2; stroke-opacity:0.1; fill:none\" points=\"\n  579.475,1425.62 579.475,47.2441 \n  \"/>\n<polyline clip-path=\"url(#clip3702)\" style=\"stroke:#000000; stroke-width:2; stroke-opacity:0.1; fill:none\" points=\"\n  959.624,1425.62 959.624,47.2441 \n  \"/>\n<polyline clip-path=\"url(#clip3702)\" style=\"stroke:#000000; stroke-width:2; stroke-opacity:0.1; fill:none\" points=\"\n  1339.77,1425.62 1339.77,47.2441 \n  \"/>\n<polyline clip-path=\"url(#clip3702)\" style=\"stroke:#000000; stroke-width:2; stroke-opacity:0.1; fill:none\" points=\"\n  1719.92,1425.62 1719.92,47.2441 \n  \"/>\n<polyline clip-path=\"url(#clip3702)\" style=\"stroke:#000000; stroke-width:2; stroke-opacity:0.1; fill:none\" points=\"\n  2100.07,1425.62 2100.07,47.2441 \n  \"/>\n<polyline clip-path=\"url(#clip3702)\" style=\"stroke:#000000; stroke-width:2; stroke-opacity:0.1; fill:none\" points=\"\n  140.517,1386.61 2352.76,1386.61 \n  \"/>\n<polyline clip-path=\"url(#clip3702)\" style=\"stroke:#000000; stroke-width:2; stroke-opacity:0.1; fill:none\" points=\"\n  140.517,1068.09 2352.76,1068.09 \n  \"/>\n<polyline clip-path=\"url(#clip3702)\" style=\"stroke:#000000; stroke-width:2; stroke-opacity:0.1; fill:none\" points=\"\n  140.517,749.569 2352.76,749.569 \n  \"/>\n<polyline clip-path=\"url(#clip3702)\" style=\"stroke:#000000; stroke-width:2; stroke-opacity:0.1; fill:none\" points=\"\n  140.517,431.049 2352.76,431.049 \n  \"/>\n<polyline clip-path=\"url(#clip3702)\" style=\"stroke:#000000; stroke-width:2; stroke-opacity:0.1; fill:none\" points=\"\n  140.517,112.53 2352.76,112.53 \n  \"/>\n<polyline clip-path=\"url(#clip3700)\" style=\"stroke:#000000; stroke-width:4; stroke-opacity:1; fill:none\" points=\"\n  140.517,1425.62 2352.76,1425.62 \n  \"/>\n<polyline clip-path=\"url(#clip3700)\" style=\"stroke:#000000; stroke-width:4; stroke-opacity:1; fill:none\" points=\"\n  140.517,1425.62 140.517,47.2441 \n  \"/>\n<polyline clip-path=\"url(#clip3700)\" style=\"stroke:#000000; stroke-width:4; stroke-opacity:1; fill:none\" points=\"\n  199.326,1425.62 199.326,1404.94 \n  \"/>\n<polyline clip-path=\"url(#clip3700)\" style=\"stroke:#000000; stroke-width:4; stroke-opacity:1; fill:none\" points=\"\n  579.475,1425.62 579.475,1404.94 \n  \"/>\n<polyline clip-path=\"url(#clip3700)\" style=\"stroke:#000000; stroke-width:4; stroke-opacity:1; fill:none\" points=\"\n  959.624,1425.62 959.624,1404.94 \n  \"/>\n<polyline clip-path=\"url(#clip3700)\" style=\"stroke:#000000; stroke-width:4; stroke-opacity:1; fill:none\" points=\"\n  1339.77,1425.62 1339.77,1404.94 \n  \"/>\n<polyline clip-path=\"url(#clip3700)\" style=\"stroke:#000000; stroke-width:4; stroke-opacity:1; fill:none\" points=\"\n  1719.92,1425.62 1719.92,1404.94 \n  \"/>\n<polyline clip-path=\"url(#clip3700)\" style=\"stroke:#000000; stroke-width:4; stroke-opacity:1; fill:none\" points=\"\n  2100.07,1425.62 2100.07,1404.94 \n  \"/>\n<polyline clip-path=\"url(#clip3700)\" style=\"stroke:#000000; stroke-width:4; stroke-opacity:1; fill:none\" points=\"\n  140.517,1386.61 173.7,1386.61 \n  \"/>\n<polyline clip-path=\"url(#clip3700)\" style=\"stroke:#000000; stroke-width:4; stroke-opacity:1; fill:none\" points=\"\n  140.517,1068.09 173.7,1068.09 \n  \"/>\n<polyline clip-path=\"url(#clip3700)\" style=\"stroke:#000000; stroke-width:4; stroke-opacity:1; fill:none\" points=\"\n  140.517,749.569 173.7,749.569 \n  \"/>\n<polyline clip-path=\"url(#clip3700)\" style=\"stroke:#000000; stroke-width:4; stroke-opacity:1; fill:none\" points=\"\n  140.517,431.049 173.7,431.049 \n  \"/>\n<polyline clip-path=\"url(#clip3700)\" style=\"stroke:#000000; stroke-width:4; stroke-opacity:1; fill:none\" points=\"\n  140.517,112.53 173.7,112.53 \n  \"/>\n<g clip-path=\"url(#clip3700)\">\n<text style=\"fill:#000000; fill-opacity:1; font-family:Arial,Helvetica Neue,Helvetica,sans-serif; font-size:48px; text-anchor:middle;\" transform=\"rotate(0, 199.326, 1479.62)\" x=\"199.326\" y=\"1479.62\">0</text>\n</g>\n<g clip-path=\"url(#clip3700)\">\n<text style=\"fill:#000000; fill-opacity:1; font-family:Arial,Helvetica Neue,Helvetica,sans-serif; font-size:48px; text-anchor:middle;\" transform=\"rotate(0, 579.475, 1479.62)\" x=\"579.475\" y=\"1479.62\">100</text>\n</g>\n<g clip-path=\"url(#clip3700)\">\n<text style=\"fill:#000000; fill-opacity:1; font-family:Arial,Helvetica Neue,Helvetica,sans-serif; font-size:48px; text-anchor:middle;\" transform=\"rotate(0, 959.624, 1479.62)\" x=\"959.624\" y=\"1479.62\">200</text>\n</g>\n<g clip-path=\"url(#clip3700)\">\n<text style=\"fill:#000000; fill-opacity:1; font-family:Arial,Helvetica Neue,Helvetica,sans-serif; font-size:48px; text-anchor:middle;\" transform=\"rotate(0, 1339.77, 1479.62)\" x=\"1339.77\" y=\"1479.62\">300</text>\n</g>\n<g clip-path=\"url(#clip3700)\">\n<text style=\"fill:#000000; fill-opacity:1; font-family:Arial,Helvetica Neue,Helvetica,sans-serif; font-size:48px; text-anchor:middle;\" transform=\"rotate(0, 1719.92, 1479.62)\" x=\"1719.92\" y=\"1479.62\">400</text>\n</g>\n<g clip-path=\"url(#clip3700)\">\n<text style=\"fill:#000000; fill-opacity:1; font-family:Arial,Helvetica Neue,Helvetica,sans-serif; font-size:48px; text-anchor:middle;\" transform=\"rotate(0, 2100.07, 1479.62)\" x=\"2100.07\" y=\"1479.62\">500</text>\n</g>\n<g clip-path=\"url(#clip3700)\">\n<text style=\"fill:#000000; fill-opacity:1; font-family:Arial,Helvetica Neue,Helvetica,sans-serif; font-size:48px; text-anchor:end;\" transform=\"rotate(0, 116.517, 1404.11)\" x=\"116.517\" y=\"1404.11\">0</text>\n</g>\n<g clip-path=\"url(#clip3700)\">\n<text style=\"fill:#000000; fill-opacity:1; font-family:Arial,Helvetica Neue,Helvetica,sans-serif; font-size:48px; text-anchor:end;\" transform=\"rotate(0, 116.517, 1085.59)\" x=\"116.517\" y=\"1085.59\">5</text>\n</g>\n<g clip-path=\"url(#clip3700)\">\n<text style=\"fill:#000000; fill-opacity:1; font-family:Arial,Helvetica Neue,Helvetica,sans-serif; font-size:48px; text-anchor:end;\" transform=\"rotate(0, 116.517, 767.069)\" x=\"116.517\" y=\"767.069\">10</text>\n</g>\n<g clip-path=\"url(#clip3700)\">\n<text style=\"fill:#000000; fill-opacity:1; font-family:Arial,Helvetica Neue,Helvetica,sans-serif; font-size:48px; text-anchor:end;\" transform=\"rotate(0, 116.517, 448.549)\" x=\"116.517\" y=\"448.549\">15</text>\n</g>\n<g clip-path=\"url(#clip3700)\">\n<text style=\"fill:#000000; fill-opacity:1; font-family:Arial,Helvetica Neue,Helvetica,sans-serif; font-size:48px; text-anchor:end;\" transform=\"rotate(0, 116.517, 130.03)\" x=\"116.517\" y=\"130.03\">20</text>\n</g>\n<g clip-path=\"url(#clip3700)\">\n<text style=\"fill:#000000; fill-opacity:1; font-family:Arial,Helvetica Neue,Helvetica,sans-serif; font-size:66px; text-anchor:middle;\" transform=\"rotate(0, 1246.64, 1559.48)\" x=\"1246.64\" y=\"1559.48\">N</text>\n</g>\n<polyline clip-path=\"url(#clip3702)\" style=\"stroke:#ff0000; stroke-width:12; stroke-opacity:1; fill:none\" points=\"\n  203.127,1386.61 206.929,1196.98 210.73,977.958 214.532,859.656 218.333,545.006 222.135,504.979 225.936,600.995 229.738,573.509 233.539,549.119 237.341,559.357 \n  241.142,539.105 244.944,413.483 248.745,380.954 252.547,286.692 256.348,315.225 260.15,187.026 263.951,203.321 267.753,226.906 271.554,208.173 275.356,233.395 \n  279.157,249.239 282.959,158.71 286.76,171.606 290.562,153.877 294.363,126.072 298.165,144.251 301.966,118.566 305.768,156.61 309.569,102.413 313.371,108.505 \n  317.172,86.2547 320.974,111.906 324.775,132.78 328.577,140.499 332.378,129.985 336.179,138.105 339.981,145.606 343.782,134.544 347.584,156.658 351.385,147.297 \n  355.187,109.329 358.988,120.489 362.79,124.374 366.591,141.418 370.393,152.178 374.194,150.205 377.996,159.981 381.797,141.667 385.599,155.664 389.4,150.823 \n  393.202,148.751 397.003,166.106 400.805,177.697 404.606,178.284 408.408,191.662 412.209,186.064 416.011,192.723 419.812,205.361 423.614,201.029 427.415,207.426 \n  431.217,207.25 435.018,151.748 438.82,159.705 442.621,149.699 446.423,161.774 450.224,163.415 454.026,154.075 457.827,156.377 461.629,165.244 465.43,166.871 \n  469.232,173.459 473.033,178.851 476.835,153.144 480.636,158.309 484.438,162.951 488.239,174.807 492.041,161.43 495.842,149.581 499.644,159.974 503.445,155.141 \n  507.247,153.913 511.048,141.132 514.85,151.295 518.651,156.184 522.453,145.833 526.254,140.62 530.055,151.011 533.857,133.982 537.658,131.185 541.46,134.067 \n  545.261,136.152 549.063,137.965 552.864,134.01 556.666,144.958 560.467,140.604 564.269,147.024 568.07,156.816 571.872,157.311 575.673,154.265 579.475,155.985 \n  583.276,146.456 587.078,147.928 590.879,149.874 594.681,154.574 598.482,147.744 602.284,147.297 606.085,150.631 609.887,145.013 613.688,144.574 617.49,140.695 \n  621.291,141.261 625.093,135.759 628.894,141.631 632.696,135.054 636.497,133.087 640.299,128.575 644.1,127.492 647.902,130.565 651.703,134.91 655.505,138.434 \n  659.306,138.97 663.108,146.412 666.909,145.173 670.711,154.223 674.512,160.619 678.314,152.626 682.115,158.055 685.917,154.258 689.718,140.567 693.52,140.077 \n  697.321,136.9 701.123,139.016 704.924,137.634 708.726,131.524 712.527,128.343 716.328,135.077 720.13,126.176 723.931,122.185 727.733,116.411 731.534,99.1697 \n  735.336,101.092 739.137,108.271 742.939,114.536 746.74,109.273 750.542,111.277 754.343,109.607 758.145,110.196 761.946,114.32 765.748,109.247 769.549,114.967 \n  773.351,115.474 777.152,119.189 780.954,125.98 784.755,116.444 788.557,120.165 792.358,115.788 796.16,114.658 799.961,114.416 803.763,109.479 807.564,108.828 \n  811.366,104.039 815.167,99.9816 818.969,104.361 822.77,108.01 826.572,109.631 830.373,111.006 834.175,110.913 837.976,110.859 841.778,111.073 845.579,114.201 \n  849.381,117.846 853.182,121.57 856.984,123.267 860.785,127.435 864.587,132.104 868.388,125.109 872.19,127.447 875.991,127.021 879.793,128.503 883.594,128.131 \n  887.396,132.749 891.197,134.114 894.999,133.846 898.8,137.991 902.602,134.423 906.403,121.235 910.204,127.099 914.006,125.76 917.807,131.49 921.609,122.384 \n  925.41,127.228 929.212,126.206 933.013,130.591 936.815,132.943 940.616,133.799 944.418,129.589 948.219,132.48 952.021,134.688 955.822,135.766 959.624,137.935 \n  963.425,135.346 967.227,137.627 971.028,138.399 974.83,130.722 978.631,125.926 982.433,126.752 986.234,127.79 990.036,131.237 993.837,132.849 997.639,130.202 \n  1001.44,132.429 1005.24,135.268 1009.04,124.052 1012.84,123.26 1016.65,123.589 1020.45,126.636 1024.25,121.686 1028.05,126.363 1031.85,120.261 1035.65,124.515 \n  1039.46,124.465 1043.26,124.329 1047.06,125.904 1050.86,122.34 1054.66,124.372 1058.46,126.755 1062.26,127.036 1066.07,127.517 1069.87,127.578 1073.67,130.892 \n  1077.47,128.37 1081.27,132.066 1085.07,128.984 1088.87,131.422 1092.68,131.354 1096.48,130.853 1100.28,127.71 1104.08,121.406 1107.88,119.911 1111.68,119.246 \n  1115.48,120.449 1119.29,124.338 1123.09,122.269 1126.89,120.09 1130.69,121.571 1134.49,125.505 1138.29,123.713 1142.1,124.77 1145.9,127.065 1149.7,129.451 \n  1153.5,127.902 1157.3,125.041 1161.1,124.46 1164.9,128.586 1168.71,129.084 1172.51,126.88 1176.31,126.339 1180.11,128.59 1183.91,132.276 1187.71,129.782 \n  1191.51,126.683 1195.32,128.093 1199.12,129.317 1202.92,125.688 1206.72,128.011 1210.52,130.383 1214.32,133.249 1218.13,134.063 1221.93,130.507 1225.73,133.844 \n  1229.53,135.068 1233.33,137.988 1237.13,137.792 1240.93,136.439 1244.74,137.267 1248.54,136.363 1252.34,133.501 1256.14,126.751 1259.94,127.933 1263.74,129.288 \n  1267.54,129.407 1271.35,130.568 1275.15,133.35 1278.95,136.84 1282.75,134.403 1286.55,132.228 1290.35,132.504 1294.15,135.784 1297.96,132.291 1301.76,130.579 \n  1305.56,133.765 1309.36,136.274 1313.16,135.477 1316.96,134.532 1320.77,134.767 1324.57,135.199 1328.37,138.123 1332.17,135.615 1335.97,134.777 1339.77,137.371 \n  1343.57,136.949 1347.38,137.467 1351.18,130.95 1354.98,132.074 1358.78,131.857 1362.58,133.801 1366.38,135.514 1370.18,138.6 1373.99,139.644 1377.79,132.884 \n  1381.59,135.4 1385.39,134.398 1389.19,135.427 1392.99,135.443 1396.8,136.293 1400.6,136.919 1404.4,134.99 1408.2,129.799 1412,130.73 1415.8,133.43 \n  1419.6,130.721 1423.41,133.883 1427.21,132.045 1431.01,134.339 1434.81,131.255 1438.61,133.76 1442.41,131.571 1446.21,129.387 1450.02,126.455 1453.82,128.146 \n  1457.62,128.411 1461.42,127.154 1465.22,125.227 1469.02,127.161 1472.83,128.655 1476.63,129.279 1480.43,131.234 1484.23,128.04 1488.03,129.686 1491.83,131.634 \n  1495.63,127.925 1499.44,126.468 1503.24,129.529 1507.04,129.642 1510.84,132.098 1514.64,134.098 1518.44,133.439 1522.24,133.779 1526.05,132.333 1529.85,130.445 \n  1533.65,133.31 1537.45,134.186 1541.25,135.611 1545.05,133.67 1548.85,132.884 1552.66,132.447 1556.46,134.47 1560.26,125.64 1564.06,127.811 1567.86,128.446 \n  1571.66,130.836 1575.47,133.384 1579.27,130.528 1583.07,129.663 1586.87,128.045 1590.67,130.282 1594.47,130.463 1598.27,130.91 1602.08,132.267 1605.88,134.75 \n  1609.68,135.028 1613.48,128.294 1617.28,130.278 1621.08,131.418 1624.88,128.865 1628.69,127.837 1632.49,128.322 1636.29,128.872 1640.09,125.173 1643.89,125.193 \n  1647.69,126.624 1651.5,127.396 1655.3,124.534 1659.1,125.988 1662.9,126.467 1666.7,126.828 1670.5,128.814 1674.3,126.858 1678.11,127.451 1681.91,126.507 \n  1685.71,124.522 1689.51,124.192 1693.31,126.299 1697.11,128.941 1700.91,125.988 1704.72,127.516 1708.52,129.614 1712.32,130.384 1716.12,128.232 1719.92,130.84 \n  1723.72,127.623 1727.52,129.921 1731.33,130.519 1735.13,132.188 1738.93,132.424 1742.73,135.065 1746.53,135.63 1750.33,135.571 1754.14,137.033 1757.94,132.058 \n  1761.74,132.184 1765.54,133.784 1769.34,135.245 1773.14,136.162 1776.94,136.599 1780.75,136.192 1784.55,137.549 1788.35,137.137 1792.15,138.83 1795.95,138.064 \n  1799.75,135.183 1803.55,136.851 1807.36,138.877 1811.16,137.459 1814.96,139.19 1818.76,140.774 1822.56,138.38 1826.36,139.964 1830.17,141.215 1833.97,140.514 \n  1837.77,141.51 1841.57,142.722 1845.37,136.408 1849.17,137.058 1852.97,137.89 1856.78,138.904 1860.58,137.868 1864.38,137.765 1868.18,138.786 1871.98,138.592 \n  1875.78,139.581 1879.58,141.478 1883.39,141.968 1887.19,141.447 1890.99,142.718 1894.79,141.712 1898.59,142.323 1902.39,143.768 1906.19,135.309 1910,134.23 \n  1913.8,132.858 1917.6,134.051 1921.4,133.777 1925.2,135.954 1929,135.819 1932.81,134.786 1936.61,136.896 1940.41,137.431 1944.21,137.341 1948.01,138.792 \n  1951.81,137.475 1955.61,139.323 1959.42,138.142 1963.22,139.503 1967.02,137.565 1970.82,135.636 1974.62,135.433 1978.42,135.564 1982.22,130.948 1986.03,132.862 \n  1989.83,133.21 1993.63,133.476 1997.43,134.39 2001.23,135.941 2005.03,133.176 2008.84,134.917 2012.64,135.145 2016.44,135.407 2020.24,136.519 2024.04,136.7 \n  2027.84,135.271 2031.64,135.388 2035.45,133.808 2039.25,131.809 2043.05,133.107 2046.85,134.294 2050.65,135.08 2054.45,134.892 2058.25,134.875 2062.06,135.095 \n  2065.86,136.058 2069.66,135.577 2073.46,137.898 2077.26,139.436 2081.06,136.17 2084.86,136.905 2088.67,137.115 2092.47,138.175 2096.27,135.422 2100.07,136.8 \n  2103.87,135.441 2107.67,136.333 2111.48,137.359 2115.28,131.922 2119.08,133.068 2122.88,135.05 2126.68,134.457 2130.48,135.392 2134.28,134.285 2138.09,135.886 \n  2141.89,135.737 2145.69,135.14 2149.49,135.498 2153.29,136.605 2157.09,137.189 2160.89,137.39 2164.7,133.773 2168.5,134.974 2172.3,136.066 2176.1,136.562 \n  2179.9,136.169 2183.7,135.154 2187.51,135.005 2191.31,136.406 2195.11,136.647 2198.91,133.994 2202.71,135.517 2206.51,133.509 2210.31,135.03 2214.12,134.399 \n  2217.92,133.805 2221.72,134.11 2225.52,135.662 2229.32,135.613 2233.12,137.123 2236.92,135.641 2240.73,136.134 2244.53,137.581 2248.33,135.296 2252.13,135.886 \n  2255.93,136.808 2259.73,137.753 2263.53,137.758 2267.34,137.632 2271.14,136.562 2274.94,138.27 2278.74,137.879 2282.54,138.743 2286.34,139.237 2290.15,140.54 \n  \n  \"/>\n<polyline clip-path=\"url(#clip3702)\" style=\"stroke:#000000; stroke-width:12; stroke-opacity:1; fill:none\" points=\"\n  -221083,112.53 223577,112.53 \n  \"/>\n<path clip-path=\"url(#clip3700)\" d=\"\nM212.517 1281.62 L802.786 1281.62 L802.786 1100.18 L212.517 1100.18  Z\n  \" fill=\"#ffffff\" fill-rule=\"evenodd\" fill-opacity=\"1\"/>\n<polyline clip-path=\"url(#clip3700)\" style=\"stroke:#000000; stroke-width:4; stroke-opacity:1; fill:none\" points=\"\n  212.517,1281.62 802.786,1281.62 802.786,1100.18 212.517,1100.18 212.517,1281.62 \n  \"/>\n<polyline clip-path=\"url(#clip3700)\" style=\"stroke:#ff0000; stroke-width:12; stroke-opacity:1; fill:none\" points=\"\n  236.517,1160.66 380.517,1160.66 \n  \"/>\n<g clip-path=\"url(#clip3700)\">\n<text style=\"fill:#000000; fill-opacity:1; font-family:Arial,Helvetica Neue,Helvetica,sans-serif; font-size:48px; text-anchor:start;\" transform=\"rotate(0, 404.517, 1178.16)\" x=\"404.517\" y=\"1178.16\">empirical T(N,N)</text>\n</g>\n<polyline clip-path=\"url(#clip3700)\" style=\"stroke:#000000; stroke-width:12; stroke-opacity:1; fill:none\" points=\"\n  236.517,1221.14 380.517,1221.14 \n  \"/>\n<g clip-path=\"url(#clip3700)\">\n<text style=\"fill:#000000; fill-opacity:1; font-family:Arial,Helvetica Neue,Helvetica,sans-serif; font-size:48px; text-anchor:start;\" transform=\"rotate(0, 404.517, 1238.64)\" x=\"404.517\" y=\"1238.64\">theoretical limit</text>\n</g>\n</svg>\n"
               },
               "type": "node"
              }
             ],
             "instanceArgs": {
              "namespace": "html",
              "tag": "div"
             },
             "nodeType": "DOM",
             "props": {
              "className": "interact-flex-row interact-widget"
             },
             "type": "node"
            }
           }
          },
          "systemjs_options": null
         },
         "nodeType": "Scope",
         "props": {},
         "type": "node"
        }
       ],
       "instanceArgs": {
        "namespace": "html",
        "tag": "div"
       },
       "nodeType": "DOM",
       "props": {},
       "type": "node"
      },
      "text/html": [
       "<div\n",
       "    class=\"webio-mountpoint\"\n",
       "    data-webio-mountpoint=\"11322066718645314771\"\n",
       ">\n",
       "    <script>\n",
       "    if (window.require && require.defined && require.defined(\"nbextensions/webio-jupyter-notebook\")) {\n",
       "        console.log(\"Jupyter WebIO extension detected, not mounting.\");\n",
       "    } else if (window.WebIO) {\n",
       "        WebIO.mount(\n",
       "            document.querySelector('[data-webio-mountpoint=\"11322066718645314771\"]'),\n",
       "            {\"props\":{},\"nodeType\":\"DOM\",\"type\":\"node\",\"instanceArgs\":{\"namespace\":\"html\",\"tag\":\"div\"},\"children\":[{\"props\":{\"className\":\"field interact-widget\"},\"nodeType\":\"DOM\",\"type\":\"node\",\"instanceArgs\":{\"namespace\":\"html\",\"tag\":\"div\"},\"children\":[{\"props\":{},\"nodeType\":\"Scope\",\"type\":\"node\",\"instanceArgs\":{\"imports\":{\"data\":[{\"name\":\"knockout\",\"type\":\"js\",\"url\":\"\\/assetserver\\/254160226b58162a42111ea27214076747de1cf2-knockout.js\"},{\"name\":\"knockout_punches\",\"type\":\"js\",\"url\":\"\\/assetserver\\/2d0bf510fb683322318163f3ec7562806e4b1104-knockout_punches.js\"},{\"name\":null,\"type\":\"js\",\"url\":\"\\/assetserver\\/6ffcdda43c684da84d2ca5dd2027e4a55c68edac-all.js\"},{\"name\":null,\"type\":\"css\",\"url\":\"\\/assetserver\\/b0b44adaed1197b8510174b41f32f09d98a0c28e-style.css\"},{\"name\":null,\"type\":\"css\",\"url\":\"\\/assetserver\\/bbb2e3064bd5f6dfcf2f18fbeb52d9320f251632-bulma_confined.min.css\"}],\"type\":\"async_block\"},\"id\":\"12012879019589766080\",\"handlers\":{\"changes\":[\"(function (val){return (val!=this.model[\\\"changes\\\"]()) ? (this.valueFromJulia[\\\"changes\\\"]=true, this.model[\\\"changes\\\"](val)) : undefined})\"],\"index\":[\"(function (val){return (val!=this.model[\\\"index\\\"]()) ? (this.valueFromJulia[\\\"index\\\"]=true, this.model[\\\"index\\\"](val)) : undefined})\"]},\"systemjs_options\":null,\"mount_callbacks\":[\"function () {\\n    var handler = (function (ko, koPunches) {\\n    ko.punches.enableAll();\\n    ko.bindingHandlers.numericValue = {\\n        init: function(element, valueAccessor, allBindings, data, context) {\\n            var stringified = ko.observable(ko.unwrap(valueAccessor()));\\n            stringified.subscribe(function(value) {\\n                var val = parseFloat(value);\\n                if (!isNaN(val)) {\\n                    valueAccessor()(val);\\n                }\\n            });\\n            valueAccessor().subscribe(function(value) {\\n                var str = JSON.stringify(value);\\n                if ((str == \\\"0\\\") && ([\\\"-0\\\", \\\"-0.\\\"].indexOf(stringified()) >= 0))\\n                     return;\\n                 if ([\\\"null\\\", \\\"\\\"].indexOf(str) >= 0)\\n                     return;\\n                stringified(str);\\n            });\\n            ko.applyBindingsToNode(\\n                element,\\n                {\\n                    value: stringified,\\n                    valueUpdate: allBindings.get('valueUpdate'),\\n                },\\n                context,\\n            );\\n        }\\n    };\\n    var json_data = {\\\"formatted_vals\\\":[\\\"100\\\",\\\"150\\\",\\\"200\\\",\\\"250\\\",\\\"300\\\",\\\"350\\\",\\\"400\\\",\\\"450\\\",\\\"500\\\",\\\"550\\\",\\\"600\\\",\\\"650\\\",\\\"700\\\",\\\"750\\\",\\\"800\\\",\\\"850\\\",\\\"900\\\",\\\"950\\\",\\\"1000\\\"],\\\"changes\\\":WebIO.getval({\\\"name\\\":\\\"changes\\\",\\\"scope\\\":\\\"12012879019589766080\\\",\\\"id\\\":\\\"ob_415\\\",\\\"type\\\":\\\"observable\\\"}),\\\"index\\\":WebIO.getval({\\\"name\\\":\\\"index\\\",\\\"scope\\\":\\\"12012879019589766080\\\",\\\"id\\\":\\\"ob_414\\\",\\\"type\\\":\\\"observable\\\"})};\\n    var self = this;\\n    function AppViewModel() {\\n        for (var key in json_data) {\\n            var el = json_data[key];\\n            this[key] = Array.isArray(el) ? ko.observableArray(el) : ko.observable(el);\\n        }\\n        \\n        [this[\\\"formatted_val\\\"]=ko.computed(    function(){\\n        return this.formatted_vals()[parseInt(this.index())-(1)];\\n    }\\n,this)]\\n        [this[\\\"changes\\\"].subscribe((function (val){!(this.valueFromJulia[\\\"changes\\\"]) ? (WebIO.setval({\\\"name\\\":\\\"changes\\\",\\\"scope\\\":\\\"12012879019589766080\\\",\\\"id\\\":\\\"ob_415\\\",\\\"type\\\":\\\"observable\\\"},val)) : undefined; return this.valueFromJulia[\\\"changes\\\"]=false}),self),this[\\\"index\\\"].subscribe((function (val){!(this.valueFromJulia[\\\"index\\\"]) ? (WebIO.setval({\\\"name\\\":\\\"index\\\",\\\"scope\\\":\\\"12012879019589766080\\\",\\\"id\\\":\\\"ob_414\\\",\\\"type\\\":\\\"observable\\\"},val)) : undefined; return this.valueFromJulia[\\\"index\\\"]=false}),self)]\\n        \\n    }\\n    self.model = new AppViewModel();\\n    self.valueFromJulia = {};\\n    for (var key in json_data) {\\n        self.valueFromJulia[key] = false;\\n    }\\n    ko.applyBindings(self.model, self.dom);\\n}\\n);\\n    (WebIO.importBlock({\\\"data\\\":[{\\\"name\\\":\\\"knockout\\\",\\\"type\\\":\\\"js\\\",\\\"url\\\":\\\"\\/assetserver\\/254160226b58162a42111ea27214076747de1cf2-knockout.js\\\"},{\\\"name\\\":\\\"knockout_punches\\\",\\\"type\\\":\\\"js\\\",\\\"url\\\":\\\"\\/assetserver\\/2d0bf510fb683322318163f3ec7562806e4b1104-knockout_punches.js\\\"}],\\\"type\\\":\\\"async_block\\\"})).then((imports) => handler.apply(this, imports));\\n}\\n\"],\"observables\":{\"changes\":{\"sync\":false,\"id\":\"ob_415\",\"value\":0},\"index\":{\"sync\":true,\"id\":\"ob_414\",\"value\":10}}},\"children\":[{\"props\":{\"className\":\"interact-flex-row interact-widget\"},\"nodeType\":\"DOM\",\"type\":\"node\",\"instanceArgs\":{\"namespace\":\"html\",\"tag\":\"div\"},\"children\":[{\"props\":{\"className\":\"interact-flex-row-left\"},\"nodeType\":\"DOM\",\"type\":\"node\",\"instanceArgs\":{\"namespace\":\"html\",\"tag\":\"div\"},\"children\":[{\"props\":{\"className\":\"interact \",\"style\":{\"padding\":\"5px 10px 0px 10px\"}},\"nodeType\":\"DOM\",\"type\":\"node\",\"instanceArgs\":{\"namespace\":\"html\",\"tag\":\"label\"},\"children\":[\"max_N\"]}]},{\"props\":{\"className\":\"interact-flex-row-center\"},\"nodeType\":\"DOM\",\"type\":\"node\",\"instanceArgs\":{\"namespace\":\"html\",\"tag\":\"div\"},\"children\":[{\"props\":{\"max\":19,\"min\":1,\"attributes\":{\"type\":\"range\",\"data-bind\":\"numericValue: index, valueUpdate: 'input', event: {change: function (){this.changes(this.changes()+1)}}\",\"orient\":\"horizontal\"},\"step\":1,\"className\":\"slider slider is-fullwidth\",\"style\":{}},\"nodeType\":\"DOM\",\"type\":\"node\",\"instanceArgs\":{\"namespace\":\"html\",\"tag\":\"input\"},\"children\":[]}]},{\"props\":{\"className\":\"interact-flex-row-right\"},\"nodeType\":\"DOM\",\"type\":\"node\",\"instanceArgs\":{\"namespace\":\"html\",\"tag\":\"div\"},\"children\":[{\"props\":{\"attributes\":{\"data-bind\":\"text: formatted_val\"}},\"nodeType\":\"DOM\",\"type\":\"node\",\"instanceArgs\":{\"namespace\":\"html\",\"tag\":\"p\"},\"children\":[]}]}]}]}]},{\"props\":{\"className\":\"interact-widget\"},\"nodeType\":\"DOM\",\"type\":\"node\",\"instanceArgs\":{\"namespace\":\"html\",\"tag\":\"div\"},\"children\":[{\"props\":{},\"nodeType\":\"Scope\",\"type\":\"node\",\"instanceArgs\":{\"imports\":{\"data\":[{\"name\":\"knockout\",\"type\":\"js\",\"url\":\"\\/assetserver\\/254160226b58162a42111ea27214076747de1cf2-knockout.js\"},{\"name\":\"knockout_punches\",\"type\":\"js\",\"url\":\"\\/assetserver\\/2d0bf510fb683322318163f3ec7562806e4b1104-knockout_punches.js\"},{\"name\":null,\"type\":\"js\",\"url\":\"\\/assetserver\\/6ffcdda43c684da84d2ca5dd2027e4a55c68edac-all.js\"},{\"name\":null,\"type\":\"css\",\"url\":\"\\/assetserver\\/b0b44adaed1197b8510174b41f32f09d98a0c28e-style.css\"},{\"name\":null,\"type\":\"css\",\"url\":\"\\/assetserver\\/bbb2e3064bd5f6dfcf2f18fbeb52d9320f251632-bulma_confined.min.css\"}],\"type\":\"async_block\"},\"id\":\"3963777282110550701\",\"handlers\":{\"options_js\":[\"(function (val){return (val!=this.model[\\\"options_js\\\"]()) ? (this.valueFromJulia[\\\"options_js\\\"]=true, this.model[\\\"options_js\\\"](val)) : undefined})\"],\"index\":[\"(function (val){return (val!=this.model[\\\"index\\\"]()) ? (this.valueFromJulia[\\\"index\\\"]=true, this.model[\\\"index\\\"](val)) : undefined})\"]},\"systemjs_options\":null,\"mount_callbacks\":[\"function () {\\n    var handler = (function (ko, koPunches) {\\n    ko.punches.enableAll();\\n    ko.bindingHandlers.numericValue = {\\n        init: function(element, valueAccessor, allBindings, data, context) {\\n            var stringified = ko.observable(ko.unwrap(valueAccessor()));\\n            stringified.subscribe(function(value) {\\n                var val = parseFloat(value);\\n                if (!isNaN(val)) {\\n                    valueAccessor()(val);\\n                }\\n            });\\n            valueAccessor().subscribe(function(value) {\\n                var str = JSON.stringify(value);\\n                if ((str == \\\"0\\\") && ([\\\"-0\\\", \\\"-0.\\\"].indexOf(stringified()) >= 0))\\n                     return;\\n                 if ([\\\"null\\\", \\\"\\\"].indexOf(str) >= 0)\\n                     return;\\n                stringified(str);\\n            });\\n            ko.applyBindingsToNode(\\n                element,\\n                {\\n                    value: stringified,\\n                    valueUpdate: allBindings.get('valueUpdate'),\\n                },\\n                context,\\n            );\\n        }\\n    };\\n    var json_data = {\\\"options_js\\\":WebIO.getval({\\\"name\\\":\\\"options_js\\\",\\\"scope\\\":\\\"3963777282110550701\\\",\\\"id\\\":\\\"ob_420\\\",\\\"type\\\":\\\"observable\\\"}),\\\"index\\\":WebIO.getval({\\\"name\\\":\\\"index\\\",\\\"scope\\\":\\\"3963777282110550701\\\",\\\"id\\\":\\\"ob_419\\\",\\\"type\\\":\\\"observable\\\"})};\\n    var self = this;\\n    function AppViewModel() {\\n        for (var key in json_data) {\\n            var el = json_data[key];\\n            this[key] = Array.isArray(el) ? ko.observableArray(el) : ko.observable(el);\\n        }\\n        [this[\\\"update\\\"]=function (val) {this.index(val)}]\\n        \\n        [this[\\\"options_js\\\"].subscribe((function (val){!(this.valueFromJulia[\\\"options_js\\\"]) ? (WebIO.setval({\\\"name\\\":\\\"options_js\\\",\\\"scope\\\":\\\"3963777282110550701\\\",\\\"id\\\":\\\"ob_420\\\",\\\"type\\\":\\\"observable\\\"},val)) : undefined; return this.valueFromJulia[\\\"options_js\\\"]=false}),self),this[\\\"index\\\"].subscribe((function (val){!(this.valueFromJulia[\\\"index\\\"]) ? (WebIO.setval({\\\"name\\\":\\\"index\\\",\\\"scope\\\":\\\"3963777282110550701\\\",\\\"id\\\":\\\"ob_419\\\",\\\"type\\\":\\\"observable\\\"},val)) : undefined; return this.valueFromJulia[\\\"index\\\"]=false}),self)]\\n        \\n    }\\n    self.model = new AppViewModel();\\n    self.valueFromJulia = {};\\n    for (var key in json_data) {\\n        self.valueFromJulia[key] = false;\\n    }\\n    ko.applyBindings(self.model, self.dom);\\n}\\n);\\n    (WebIO.importBlock({\\\"data\\\":[{\\\"name\\\":\\\"knockout\\\",\\\"type\\\":\\\"js\\\",\\\"url\\\":\\\"\\/assetserver\\/254160226b58162a42111ea27214076747de1cf2-knockout.js\\\"},{\\\"name\\\":\\\"knockout_punches\\\",\\\"type\\\":\\\"js\\\",\\\"url\\\":\\\"\\/assetserver\\/2d0bf510fb683322318163f3ec7562806e4b1104-knockout_punches.js\\\"}],\\\"type\\\":\\\"async_block\\\"})).then((imports) => handler.apply(this, imports));\\n}\\n\"],\"observables\":{\"options_js\":{\"sync\":false,\"id\":\"ob_420\",\"value\":[{\"key\":\"Geometric(q)\",\"val\":1,\"id\":\"idSadITQuX\"},{\"key\":\"Exponential(λ)\",\"val\":2,\"id\":\"idAhnh0RHj\"}]},\"index\":{\"sync\":true,\"id\":\"ob_419\",\"value\":1}}},\"children\":[{\"props\":{\"className\":\"interact-flex-row interact-widget\"},\"nodeType\":\"DOM\",\"type\":\"node\",\"instanceArgs\":{\"namespace\":\"html\",\"tag\":\"div\"},\"children\":[{\"props\":{\"className\":\"interact-flex-row-left\"},\"nodeType\":\"DOM\",\"type\":\"node\",\"instanceArgs\":{\"namespace\":\"html\",\"tag\":\"div\"},\"children\":[{\"props\":{\"className\":\"interact \",\"style\":{\"padding\":\"5px 10px 0px 10px\"}},\"nodeType\":\"DOM\",\"type\":\"node\",\"instanceArgs\":{\"namespace\":\"html\",\"tag\":\"label\"},\"children\":[\"law_name\"]}]},{\"props\":{\"className\":\"interact-flex-row-center\"},\"nodeType\":\"DOM\",\"type\":\"node\",\"instanceArgs\":{\"namespace\":\"html\",\"tag\":\"div\"},\"children\":[{\"props\":{\"attributes\":{\"data-bind\":\"foreach : options_js\"},\"className\":\"buttons has-addons is-centered\"},\"nodeType\":\"DOM\",\"type\":\"node\",\"instanceArgs\":{\"namespace\":\"html\",\"tag\":\"div\"},\"children\":[{\"props\":{\"attributes\":{\"data-bind\":\"click: function (){$root.update(val)}, css: {'is-primary is-selected' : $root.index() == val, 'interact-widget is-medium button ' : true}\"}},\"nodeType\":\"DOM\",\"type\":\"node\",\"instanceArgs\":{\"namespace\":\"html\",\"tag\":\"span\"},\"children\":[{\"props\":{\"attributes\":{\"data-bind\":\"text : key\"}},\"nodeType\":\"DOM\",\"type\":\"node\",\"instanceArgs\":{\"namespace\":\"html\",\"tag\":\"label\"},\"children\":[]}]}]}]},{\"props\":{\"className\":\"interact-flex-row-right\"},\"nodeType\":\"DOM\",\"type\":\"node\",\"instanceArgs\":{\"namespace\":\"html\",\"tag\":\"div\"},\"children\":[{\"props\":{},\"nodeType\":\"DOM\",\"type\":\"node\",\"instanceArgs\":{\"namespace\":\"html\",\"tag\":\"div\"},\"children\":[]}]}]}]}]},{\"props\":{\"className\":\"field interact-widget\"},\"nodeType\":\"DOM\",\"type\":\"node\",\"instanceArgs\":{\"namespace\":\"html\",\"tag\":\"div\"},\"children\":[{\"props\":{},\"nodeType\":\"Scope\",\"type\":\"node\",\"instanceArgs\":{\"imports\":{\"data\":[{\"name\":\"knockout\",\"type\":\"js\",\"url\":\"\\/assetserver\\/254160226b58162a42111ea27214076747de1cf2-knockout.js\"},{\"name\":\"knockout_punches\",\"type\":\"js\",\"url\":\"\\/assetserver\\/2d0bf510fb683322318163f3ec7562806e4b1104-knockout_punches.js\"},{\"name\":null,\"type\":\"js\",\"url\":\"\\/assetserver\\/6ffcdda43c684da84d2ca5dd2027e4a55c68edac-all.js\"},{\"name\":null,\"type\":\"css\",\"url\":\"\\/assetserver\\/b0b44adaed1197b8510174b41f32f09d98a0c28e-style.css\"},{\"name\":null,\"type\":\"css\",\"url\":\"\\/assetserver\\/bbb2e3064bd5f6dfcf2f18fbeb52d9320f251632-bulma_confined.min.css\"}],\"type\":\"async_block\"},\"id\":\"3682272753745580192\",\"handlers\":{\"changes\":[\"(function (val){return (val!=this.model[\\\"changes\\\"]()) ? (this.valueFromJulia[\\\"changes\\\"]=true, this.model[\\\"changes\\\"](val)) : undefined})\"],\"index\":[\"(function (val){return (val!=this.model[\\\"index\\\"]()) ? (this.valueFromJulia[\\\"index\\\"]=true, this.model[\\\"index\\\"](val)) : undefined})\"]},\"systemjs_options\":null,\"mount_callbacks\":[\"function () {\\n    var handler = (function (ko, koPunches) {\\n    ko.punches.enableAll();\\n    ko.bindingHandlers.numericValue = {\\n        init: function(element, valueAccessor, allBindings, data, context) {\\n            var stringified = ko.observable(ko.unwrap(valueAccessor()));\\n            stringified.subscribe(function(value) {\\n                var val = parseFloat(value);\\n                if (!isNaN(val)) {\\n                    valueAccessor()(val);\\n                }\\n            });\\n            valueAccessor().subscribe(function(value) {\\n                var str = JSON.stringify(value);\\n                if ((str == \\\"0\\\") && ([\\\"-0\\\", \\\"-0.\\\"].indexOf(stringified()) >= 0))\\n                     return;\\n                 if ([\\\"null\\\", \\\"\\\"].indexOf(str) >= 0)\\n                     return;\\n                stringified(str);\\n            });\\n            ko.applyBindingsToNode(\\n                element,\\n                {\\n                    value: stringified,\\n                    valueUpdate: allBindings.get('valueUpdate'),\\n                },\\n                context,\\n            );\\n        }\\n    };\\n    var json_data = {\\\"formatted_vals\\\":[\\\"0.05\\\",\\\"0.1\\\",\\\"0.15\\\",\\\"0.2\\\",\\\"0.25\\\",\\\"0.3\\\",\\\"0.35\\\",\\\"0.4\\\",\\\"0.45\\\",\\\"0.5\\\",\\\"0.55\\\",\\\"0.6\\\",\\\"0.65\\\",\\\"0.7\\\",\\\"0.75\\\",\\\"0.8\\\",\\\"0.85\\\",\\\"0.9\\\",\\\"0.95\\\"],\\\"changes\\\":WebIO.getval({\\\"name\\\":\\\"changes\\\",\\\"scope\\\":\\\"3682272753745580192\\\",\\\"id\\\":\\\"ob_423\\\",\\\"type\\\":\\\"observable\\\"}),\\\"index\\\":WebIO.getval({\\\"name\\\":\\\"index\\\",\\\"scope\\\":\\\"3682272753745580192\\\",\\\"id\\\":\\\"ob_422\\\",\\\"type\\\":\\\"observable\\\"})};\\n    var self = this;\\n    function AppViewModel() {\\n        for (var key in json_data) {\\n            var el = json_data[key];\\n            this[key] = Array.isArray(el) ? ko.observableArray(el) : ko.observable(el);\\n        }\\n        \\n        [this[\\\"formatted_val\\\"]=ko.computed(    function(){\\n        return this.formatted_vals()[parseInt(this.index())-(1)];\\n    }\\n,this)]\\n        [this[\\\"changes\\\"].subscribe((function (val){!(this.valueFromJulia[\\\"changes\\\"]) ? (WebIO.setval({\\\"name\\\":\\\"changes\\\",\\\"scope\\\":\\\"3682272753745580192\\\",\\\"id\\\":\\\"ob_423\\\",\\\"type\\\":\\\"observable\\\"},val)) : undefined; return this.valueFromJulia[\\\"changes\\\"]=false}),self),this[\\\"index\\\"].subscribe((function (val){!(this.valueFromJulia[\\\"index\\\"]) ? (WebIO.setval({\\\"name\\\":\\\"index\\\",\\\"scope\\\":\\\"3682272753745580192\\\",\\\"id\\\":\\\"ob_422\\\",\\\"type\\\":\\\"observable\\\"},val)) : undefined; return this.valueFromJulia[\\\"index\\\"]=false}),self)]\\n        \\n    }\\n    self.model = new AppViewModel();\\n    self.valueFromJulia = {};\\n    for (var key in json_data) {\\n        self.valueFromJulia[key] = false;\\n    }\\n    ko.applyBindings(self.model, self.dom);\\n}\\n);\\n    (WebIO.importBlock({\\\"data\\\":[{\\\"name\\\":\\\"knockout\\\",\\\"type\\\":\\\"js\\\",\\\"url\\\":\\\"\\/assetserver\\/254160226b58162a42111ea27214076747de1cf2-knockout.js\\\"},{\\\"name\\\":\\\"knockout_punches\\\",\\\"type\\\":\\\"js\\\",\\\"url\\\":\\\"\\/assetserver\\/2d0bf510fb683322318163f3ec7562806e4b1104-knockout_punches.js\\\"}],\\\"type\\\":\\\"async_block\\\"})).then((imports) => handler.apply(this, imports));\\n}\\n\"],\"observables\":{\"changes\":{\"sync\":false,\"id\":\"ob_423\",\"value\":0},\"index\":{\"sync\":true,\"id\":\"ob_422\",\"value\":10}}},\"children\":[{\"props\":{\"className\":\"interact-flex-row interact-widget\"},\"nodeType\":\"DOM\",\"type\":\"node\",\"instanceArgs\":{\"namespace\":\"html\",\"tag\":\"div\"},\"children\":[{\"props\":{\"className\":\"interact-flex-row-left\"},\"nodeType\":\"DOM\",\"type\":\"node\",\"instanceArgs\":{\"namespace\":\"html\",\"tag\":\"div\"},\"children\":[{\"props\":{\"className\":\"interact \",\"style\":{\"padding\":\"5px 10px 0px 10px\"}},\"nodeType\":\"DOM\",\"type\":\"node\",\"instanceArgs\":{\"namespace\":\"html\",\"tag\":\"label\"},\"children\":[\"q\"]}]},{\"props\":{\"className\":\"interact-flex-row-center\"},\"nodeType\":\"DOM\",\"type\":\"node\",\"instanceArgs\":{\"namespace\":\"html\",\"tag\":\"div\"},\"children\":[{\"props\":{\"max\":19,\"min\":1,\"attributes\":{\"type\":\"range\",\"data-bind\":\"numericValue: index, valueUpdate: 'input', event: {change: function (){this.changes(this.changes()+1)}}\",\"orient\":\"horizontal\"},\"step\":1,\"className\":\"slider slider is-fullwidth\",\"style\":{}},\"nodeType\":\"DOM\",\"type\":\"node\",\"instanceArgs\":{\"namespace\":\"html\",\"tag\":\"input\"},\"children\":[]}]},{\"props\":{\"className\":\"interact-flex-row-right\"},\"nodeType\":\"DOM\",\"type\":\"node\",\"instanceArgs\":{\"namespace\":\"html\",\"tag\":\"div\"},\"children\":[{\"props\":{\"attributes\":{\"data-bind\":\"text: formatted_val\"}},\"nodeType\":\"DOM\",\"type\":\"node\",\"instanceArgs\":{\"namespace\":\"html\",\"tag\":\"p\"},\"children\":[]}]}]}]}]},{\"props\":{\"className\":\"field interact-widget\"},\"nodeType\":\"DOM\",\"type\":\"node\",\"instanceArgs\":{\"namespace\":\"html\",\"tag\":\"div\"},\"children\":[{\"props\":{},\"nodeType\":\"Scope\",\"type\":\"node\",\"instanceArgs\":{\"imports\":{\"data\":[{\"name\":\"knockout\",\"type\":\"js\",\"url\":\"\\/assetserver\\/254160226b58162a42111ea27214076747de1cf2-knockout.js\"},{\"name\":\"knockout_punches\",\"type\":\"js\",\"url\":\"\\/assetserver\\/2d0bf510fb683322318163f3ec7562806e4b1104-knockout_punches.js\"},{\"name\":null,\"type\":\"js\",\"url\":\"\\/assetserver\\/6ffcdda43c684da84d2ca5dd2027e4a55c68edac-all.js\"},{\"name\":null,\"type\":\"css\",\"url\":\"\\/assetserver\\/b0b44adaed1197b8510174b41f32f09d98a0c28e-style.css\"},{\"name\":null,\"type\":\"css\",\"url\":\"\\/assetserver\\/bbb2e3064bd5f6dfcf2f18fbeb52d9320f251632-bulma_confined.min.css\"}],\"type\":\"async_block\"},\"id\":\"15413021545696262385\",\"handlers\":{\"changes\":[\"(function (val){return (val!=this.model[\\\"changes\\\"]()) ? (this.valueFromJulia[\\\"changes\\\"]=true, this.model[\\\"changes\\\"](val)) : undefined})\"],\"index\":[\"(function (val){return (val!=this.model[\\\"index\\\"]()) ? (this.valueFromJulia[\\\"index\\\"]=true, this.model[\\\"index\\\"](val)) : undefined})\"]},\"systemjs_options\":null,\"mount_callbacks\":[\"function () {\\n    var handler = (function (ko, koPunches) {\\n    ko.punches.enableAll();\\n    ko.bindingHandlers.numericValue = {\\n        init: function(element, valueAccessor, allBindings, data, context) {\\n            var stringified = ko.observable(ko.unwrap(valueAccessor()));\\n            stringified.subscribe(function(value) {\\n                var val = parseFloat(value);\\n                if (!isNaN(val)) {\\n                    valueAccessor()(val);\\n                }\\n            });\\n            valueAccessor().subscribe(function(value) {\\n                var str = JSON.stringify(value);\\n                if ((str == \\\"0\\\") && ([\\\"-0\\\", \\\"-0.\\\"].indexOf(stringified()) >= 0))\\n                     return;\\n                 if ([\\\"null\\\", \\\"\\\"].indexOf(str) >= 0)\\n                     return;\\n                stringified(str);\\n            });\\n            ko.applyBindingsToNode(\\n                element,\\n                {\\n                    value: stringified,\\n                    valueUpdate: allBindings.get('valueUpdate'),\\n                },\\n                context,\\n            );\\n        }\\n    };\\n    var json_data = {\\\"formatted_vals\\\":[\\\"1\\\",\\\"2\\\",\\\"3\\\",\\\"4\\\",\\\"5\\\",\\\"6\\\",\\\"7\\\",\\\"8\\\",\\\"9\\\",\\\"10\\\"],\\\"changes\\\":WebIO.getval({\\\"name\\\":\\\"changes\\\",\\\"scope\\\":\\\"15413021545696262385\\\",\\\"id\\\":\\\"ob_426\\\",\\\"type\\\":\\\"observable\\\"}),\\\"index\\\":WebIO.getval({\\\"name\\\":\\\"index\\\",\\\"scope\\\":\\\"15413021545696262385\\\",\\\"id\\\":\\\"ob_425\\\",\\\"type\\\":\\\"observable\\\"})};\\n    var self = this;\\n    function AppViewModel() {\\n        for (var key in json_data) {\\n            var el = json_data[key];\\n            this[key] = Array.isArray(el) ? ko.observableArray(el) : ko.observable(el);\\n        }\\n        \\n        [this[\\\"formatted_val\\\"]=ko.computed(    function(){\\n        return this.formatted_vals()[parseInt(this.index())-(1)];\\n    }\\n,this)]\\n        [this[\\\"changes\\\"].subscribe((function (val){!(this.valueFromJulia[\\\"changes\\\"]) ? (WebIO.setval({\\\"name\\\":\\\"changes\\\",\\\"scope\\\":\\\"15413021545696262385\\\",\\\"id\\\":\\\"ob_426\\\",\\\"type\\\":\\\"observable\\\"},val)) : undefined; return this.valueFromJulia[\\\"changes\\\"]=false}),self),this[\\\"index\\\"].subscribe((function (val){!(this.valueFromJulia[\\\"index\\\"]) ? (WebIO.setval({\\\"name\\\":\\\"index\\\",\\\"scope\\\":\\\"15413021545696262385\\\",\\\"id\\\":\\\"ob_425\\\",\\\"type\\\":\\\"observable\\\"},val)) : undefined; return this.valueFromJulia[\\\"index\\\"]=false}),self)]\\n        \\n    }\\n    self.model = new AppViewModel();\\n    self.valueFromJulia = {};\\n    for (var key in json_data) {\\n        self.valueFromJulia[key] = false;\\n    }\\n    ko.applyBindings(self.model, self.dom);\\n}\\n);\\n    (WebIO.importBlock({\\\"data\\\":[{\\\"name\\\":\\\"knockout\\\",\\\"type\\\":\\\"js\\\",\\\"url\\\":\\\"\\/assetserver\\/254160226b58162a42111ea27214076747de1cf2-knockout.js\\\"},{\\\"name\\\":\\\"knockout_punches\\\",\\\"type\\\":\\\"js\\\",\\\"url\\\":\\\"\\/assetserver\\/2d0bf510fb683322318163f3ec7562806e4b1104-knockout_punches.js\\\"}],\\\"type\\\":\\\"async_block\\\"})).then((imports) => handler.apply(this, imports));\\n}\\n\"],\"observables\":{\"changes\":{\"sync\":false,\"id\":\"ob_426\",\"value\":0},\"index\":{\"sync\":true,\"id\":\"ob_425\",\"value\":5}}},\"children\":[{\"props\":{\"className\":\"interact-flex-row interact-widget\"},\"nodeType\":\"DOM\",\"type\":\"node\",\"instanceArgs\":{\"namespace\":\"html\",\"tag\":\"div\"},\"children\":[{\"props\":{\"className\":\"interact-flex-row-left\"},\"nodeType\":\"DOM\",\"type\":\"node\",\"instanceArgs\":{\"namespace\":\"html\",\"tag\":\"div\"},\"children\":[{\"props\":{\"className\":\"interact \",\"style\":{\"padding\":\"5px 10px 0px 10px\"}},\"nodeType\":\"DOM\",\"type\":\"node\",\"instanceArgs\":{\"namespace\":\"html\",\"tag\":\"label\"},\"children\":[\"λ\"]}]},{\"props\":{\"className\":\"interact-flex-row-center\"},\"nodeType\":\"DOM\",\"type\":\"node\",\"instanceArgs\":{\"namespace\":\"html\",\"tag\":\"div\"},\"children\":[{\"props\":{\"max\":10,\"min\":1,\"attributes\":{\"type\":\"range\",\"data-bind\":\"numericValue: index, valueUpdate: 'input', event: {change: function (){this.changes(this.changes()+1)}}\",\"orient\":\"horizontal\"},\"step\":1,\"className\":\"slider slider is-fullwidth\",\"style\":{}},\"nodeType\":\"DOM\",\"type\":\"node\",\"instanceArgs\":{\"namespace\":\"html\",\"tag\":\"input\"},\"children\":[]}]},{\"props\":{\"className\":\"interact-flex-row-right\"},\"nodeType\":\"DOM\",\"type\":\"node\",\"instanceArgs\":{\"namespace\":\"html\",\"tag\":\"div\"},\"children\":[{\"props\":{\"attributes\":{\"data-bind\":\"text: formatted_val\"}},\"nodeType\":\"DOM\",\"type\":\"node\",\"instanceArgs\":{\"namespace\":\"html\",\"tag\":\"p\"},\"children\":[]}]}]}]}]},{\"props\":{},\"nodeType\":\"Scope\",\"type\":\"node\",\"instanceArgs\":{\"imports\":{\"data\":[],\"type\":\"async_block\"},\"id\":\"1580354228761524125\",\"handlers\":{},\"systemjs_options\":null,\"mount_callbacks\":[],\"observables\":{\"obs-node\":{\"sync\":false,\"id\":\"ob_430\",\"value\":{\"props\":{\"className\":\"interact-flex-row interact-widget\"},\"nodeType\":\"DOM\",\"type\":\"node\",\"instanceArgs\":{\"namespace\":\"html\",\"tag\":\"div\"},\"children\":[{\"props\":{\"setInnerHtml\":\"<?xml version=\\\"1.0\\\" encoding=\\\"utf-8\\\"?>\\n<svg xmlns=\\\"http:\\/\\/www.w3.org\\/2000\\/svg\\\" xmlns:xlink=\\\"http:\\/\\/www.w3.org\\/1999\\/xlink\\\" width=\\\"600\\\" height=\\\"400\\\" viewBox=\\\"0 0 2400 1600\\\">\\n<defs>\\n  <clipPath id=\\\"clip3300\\\">\\n    <rect x=\\\"0\\\" y=\\\"0\\\" width=\\\"2400\\\" height=\\\"1600\\\"\\/>\\n  <\\/clipPath>\\n<\\/defs>\\n<path clip-path=\\\"url(#clip3300)\\\" d=\\\"\\nM0 1600 L2400 1600 L2400 0 L0 0  Z\\n  \\\" fill=\\\"#ffffff\\\" fill-rule=\\\"evenodd\\\" fill-opacity=\\\"1\\\"\\/>\\n<defs>\\n  <clipPath id=\\\"clip3301\\\">\\n    <rect x=\\\"480\\\" y=\\\"0\\\" width=\\\"1681\\\" height=\\\"1600\\\"\\/>\\n  <\\/clipPath>\\n<\\/defs>\\n<path clip-path=\\\"url(#clip3300)\\\" d=\\\"\\nM140.517 1425.62 L2352.76 1425.62 L2352.76 47.2441 L140.517 47.2441  Z\\n  \\\" fill=\\\"#ffffff\\\" fill-rule=\\\"evenodd\\\" fill-opacity=\\\"1\\\"\\/>\\n<defs>\\n  <clipPath id=\\\"clip3302\\\">\\n    <rect x=\\\"140\\\" y=\\\"47\\\" width=\\\"2213\\\" height=\\\"1379\\\"\\/>\\n  <\\/clipPath>\\n<\\/defs>\\n<polyline clip-path=\\\"url(#clip3302)\\\" style=\\\"stroke:#000000; stroke-width:2; stroke-opacity:0.1; fill:none\\\" points=\\\"\\n  199.326,1425.62 199.326,47.2441 \\n  \\\"\\/>\\n<polyline clip-path=\\\"url(#clip3302)\\\" style=\\\"stroke:#000000; stroke-width:2; stroke-opacity:0.1; fill:none\\\" points=\\\"\\n  579.475,1425.62 579.475,47.2441 \\n  \\\"\\/>\\n<polyline clip-path=\\\"url(#clip3302)\\\" style=\\\"stroke:#000000; stroke-width:2; stroke-opacity:0.1; fill:none\\\" points=\\\"\\n  959.624,1425.62 959.624,47.2441 \\n  \\\"\\/>\\n<polyline clip-path=\\\"url(#clip3302)\\\" style=\\\"stroke:#000000; stroke-width:2; stroke-opacity:0.1; fill:none\\\" points=\\\"\\n  1339.77,1425.62 1339.77,47.2441 \\n  \\\"\\/>\\n<polyline clip-path=\\\"url(#clip3302)\\\" style=\\\"stroke:#000000; stroke-width:2; stroke-opacity:0.1; fill:none\\\" points=\\\"\\n  1719.92,1425.62 1719.92,47.2441 \\n  \\\"\\/>\\n<polyline clip-path=\\\"url(#clip3302)\\\" style=\\\"stroke:#000000; stroke-width:2; stroke-opacity:0.1; fill:none\\\" points=\\\"\\n  2100.07,1425.62 2100.07,47.2441 \\n  \\\"\\/>\\n<polyline clip-path=\\\"url(#clip3302)\\\" style=\\\"stroke:#000000; stroke-width:2; stroke-opacity:0.1; fill:none\\\" points=\\\"\\n  140.517,1386.61 2352.76,1386.61 \\n  \\\"\\/>\\n<polyline clip-path=\\\"url(#clip3302)\\\" style=\\\"stroke:#000000; stroke-width:2; stroke-opacity:0.1; fill:none\\\" points=\\\"\\n  140.517,1068.09 2352.76,1068.09 \\n  \\\"\\/>\\n<polyline clip-path=\\\"url(#clip3302)\\\" style=\\\"stroke:#000000; stroke-width:2; stroke-opacity:0.1; fill:none\\\" points=\\\"\\n  140.517,749.569 2352.76,749.569 \\n  \\\"\\/>\\n<polyline clip-path=\\\"url(#clip3302)\\\" style=\\\"stroke:#000000; stroke-width:2; stroke-opacity:0.1; fill:none\\\" points=\\\"\\n  140.517,431.049 2352.76,431.049 \\n  \\\"\\/>\\n<polyline clip-path=\\\"url(#clip3302)\\\" style=\\\"stroke:#000000; stroke-width:2; stroke-opacity:0.1; fill:none\\\" points=\\\"\\n  140.517,112.53 2352.76,112.53 \\n  \\\"\\/>\\n<polyline clip-path=\\\"url(#clip3300)\\\" style=\\\"stroke:#000000; stroke-width:4; stroke-opacity:1; fill:none\\\" points=\\\"\\n  140.517,1425.62 2352.76,1425.62 \\n  \\\"\\/>\\n<polyline clip-path=\\\"url(#clip3300)\\\" style=\\\"stroke:#000000; stroke-width:4; stroke-opacity:1; fill:none\\\" points=\\\"\\n  140.517,1425.62 140.517,47.2441 \\n  \\\"\\/>\\n<polyline clip-path=\\\"url(#clip3300)\\\" style=\\\"stroke:#000000; stroke-width:4; stroke-opacity:1; fill:none\\\" points=\\\"\\n  199.326,1425.62 199.326,1404.94 \\n  \\\"\\/>\\n<polyline clip-path=\\\"url(#clip3300)\\\" style=\\\"stroke:#000000; stroke-width:4; stroke-opacity:1; fill:none\\\" points=\\\"\\n  579.475,1425.62 579.475,1404.94 \\n  \\\"\\/>\\n<polyline clip-path=\\\"url(#clip3300)\\\" style=\\\"stroke:#000000; stroke-width:4; stroke-opacity:1; fill:none\\\" points=\\\"\\n  959.624,1425.62 959.624,1404.94 \\n  \\\"\\/>\\n<polyline clip-path=\\\"url(#clip3300)\\\" style=\\\"stroke:#000000; stroke-width:4; stroke-opacity:1; fill:none\\\" points=\\\"\\n  1339.77,1425.62 1339.77,1404.94 \\n  \\\"\\/>\\n<polyline clip-path=\\\"url(#clip3300)\\\" style=\\\"stroke:#000000; stroke-width:4; stroke-opacity:1; fill:none\\\" points=\\\"\\n  1719.92,1425.62 1719.92,1404.94 \\n  \\\"\\/>\\n<polyline clip-path=\\\"url(#clip3300)\\\" style=\\\"stroke:#000000; stroke-width:4; stroke-opacity:1; fill:none\\\" points=\\\"\\n  2100.07,1425.62 2100.07,1404.94 \\n  \\\"\\/>\\n<polyline clip-path=\\\"url(#clip3300)\\\" style=\\\"stroke:#000000; stroke-width:4; stroke-opacity:1; fill:none\\\" points=\\\"\\n  140.517,1386.61 173.7,1386.61 \\n  \\\"\\/>\\n<polyline clip-path=\\\"url(#clip3300)\\\" style=\\\"stroke:#000000; stroke-width:4; stroke-opacity:1; fill:none\\\" points=\\\"\\n  140.517,1068.09 173.7,1068.09 \\n  \\\"\\/>\\n<polyline clip-path=\\\"url(#clip3300)\\\" style=\\\"stroke:#000000; stroke-width:4; stroke-opacity:1; fill:none\\\" points=\\\"\\n  140.517,749.569 173.7,749.569 \\n  \\\"\\/>\\n<polyline clip-path=\\\"url(#clip3300)\\\" style=\\\"stroke:#000000; stroke-width:4; stroke-opacity:1; fill:none\\\" points=\\\"\\n  140.517,431.049 173.7,431.049 \\n  \\\"\\/>\\n<polyline clip-path=\\\"url(#clip3300)\\\" style=\\\"stroke:#000000; stroke-width:4; stroke-opacity:1; fill:none\\\" points=\\\"\\n  140.517,112.53 173.7,112.53 \\n  \\\"\\/>\\n<g clip-path=\\\"url(#clip3300)\\\">\\n<text style=\\\"fill:#000000; fill-opacity:1; font-family:Arial,Helvetica Neue,Helvetica,sans-serif; font-size:48px; text-anchor:middle;\\\" transform=\\\"rotate(0, 199.326, 1479.62)\\\" x=\\\"199.326\\\" y=\\\"1479.62\\\">0<\\/text>\\n<\\/g>\\n<g clip-path=\\\"url(#clip3300)\\\">\\n<text style=\\\"fill:#000000; fill-opacity:1; font-family:Arial,Helvetica Neue,Helvetica,sans-serif; font-size:48px; text-anchor:middle;\\\" transform=\\\"rotate(0, 579.475, 1479.62)\\\" x=\\\"579.475\\\" y=\\\"1479.62\\\">100<\\/text>\\n<\\/g>\\n<g clip-path=\\\"url(#clip3300)\\\">\\n<text style=\\\"fill:#000000; fill-opacity:1; font-family:Arial,Helvetica Neue,Helvetica,sans-serif; font-size:48px; text-anchor:middle;\\\" transform=\\\"rotate(0, 959.624, 1479.62)\\\" x=\\\"959.624\\\" y=\\\"1479.62\\\">200<\\/text>\\n<\\/g>\\n<g clip-path=\\\"url(#clip3300)\\\">\\n<text style=\\\"fill:#000000; fill-opacity:1; font-family:Arial,Helvetica Neue,Helvetica,sans-serif; font-size:48px; text-anchor:middle;\\\" transform=\\\"rotate(0, 1339.77, 1479.62)\\\" x=\\\"1339.77\\\" y=\\\"1479.62\\\">300<\\/text>\\n<\\/g>\\n<g clip-path=\\\"url(#clip3300)\\\">\\n<text style=\\\"fill:#000000; fill-opacity:1; font-family:Arial,Helvetica Neue,Helvetica,sans-serif; font-size:48px; text-anchor:middle;\\\" transform=\\\"rotate(0, 1719.92, 1479.62)\\\" x=\\\"1719.92\\\" y=\\\"1479.62\\\">400<\\/text>\\n<\\/g>\\n<g clip-path=\\\"url(#clip3300)\\\">\\n<text style=\\\"fill:#000000; fill-opacity:1; font-family:Arial,Helvetica Neue,Helvetica,sans-serif; font-size:48px; text-anchor:middle;\\\" transform=\\\"rotate(0, 2100.07, 1479.62)\\\" x=\\\"2100.07\\\" y=\\\"1479.62\\\">500<\\/text>\\n<\\/g>\\n<g clip-path=\\\"url(#clip3300)\\\">\\n<text style=\\\"fill:#000000; fill-opacity:1; font-family:Arial,Helvetica Neue,Helvetica,sans-serif; font-size:48px; text-anchor:end;\\\" transform=\\\"rotate(0, 116.517, 1404.11)\\\" x=\\\"116.517\\\" y=\\\"1404.11\\\">0<\\/text>\\n<\\/g>\\n<g clip-path=\\\"url(#clip3300)\\\">\\n<text style=\\\"fill:#000000; fill-opacity:1; font-family:Arial,Helvetica Neue,Helvetica,sans-serif; font-size:48px; text-anchor:end;\\\" transform=\\\"rotate(0, 116.517, 1085.59)\\\" x=\\\"116.517\\\" y=\\\"1085.59\\\">5<\\/text>\\n<\\/g>\\n<g clip-path=\\\"url(#clip3300)\\\">\\n<text style=\\\"fill:#000000; fill-opacity:1; font-family:Arial,Helvetica Neue,Helvetica,sans-serif; font-size:48px; text-anchor:end;\\\" transform=\\\"rotate(0, 116.517, 767.069)\\\" x=\\\"116.517\\\" y=\\\"767.069\\\">10<\\/text>\\n<\\/g>\\n<g clip-path=\\\"url(#clip3300)\\\">\\n<text style=\\\"fill:#000000; fill-opacity:1; font-family:Arial,Helvetica Neue,Helvetica,sans-serif; font-size:48px; text-anchor:end;\\\" transform=\\\"rotate(0, 116.517, 448.549)\\\" x=\\\"116.517\\\" y=\\\"448.549\\\">15<\\/text>\\n<\\/g>\\n<g clip-path=\\\"url(#clip3300)\\\">\\n<text style=\\\"fill:#000000; fill-opacity:1; font-family:Arial,Helvetica Neue,Helvetica,sans-serif; font-size:48px; text-anchor:end;\\\" transform=\\\"rotate(0, 116.517, 130.03)\\\" x=\\\"116.517\\\" y=\\\"130.03\\\">20<\\/text>\\n<\\/g>\\n<g clip-path=\\\"url(#clip3300)\\\">\\n<text style=\\\"fill:#000000; fill-opacity:1; font-family:Arial,Helvetica Neue,Helvetica,sans-serif; font-size:66px; text-anchor:middle;\\\" transform=\\\"rotate(0, 1246.64, 1559.48)\\\" x=\\\"1246.64\\\" y=\\\"1559.48\\\">N<\\/text>\\n<\\/g>\\n<polyline clip-path=\\\"url(#clip3302)\\\" style=\\\"stroke:#ff0000; stroke-width:12; stroke-opacity:1; fill:none\\\" points=\\\"\\n  203.127,1386.61 206.929,1196.98 210.73,977.958 214.532,859.656 218.333,545.006 222.135,504.979 225.936,600.995 229.738,573.509 233.539,549.119 237.341,559.357 \\n  241.142,539.105 244.944,413.483 248.745,380.954 252.547,286.692 256.348,315.225 260.15,187.026 263.951,203.321 267.753,226.906 271.554,208.173 275.356,233.395 \\n  279.157,249.239 282.959,158.71 286.76,171.606 290.562,153.877 294.363,126.072 298.165,144.251 301.966,118.566 305.768,156.61 309.569,102.413 313.371,108.505 \\n  317.172,86.2547 320.974,111.906 324.775,132.78 328.577,140.499 332.378,129.985 336.179,138.105 339.981,145.606 343.782,134.544 347.584,156.658 351.385,147.297 \\n  355.187,109.329 358.988,120.489 362.79,124.374 366.591,141.418 370.393,152.178 374.194,150.205 377.996,159.981 381.797,141.667 385.599,155.664 389.4,150.823 \\n  393.202,148.751 397.003,166.106 400.805,177.697 404.606,178.284 408.408,191.662 412.209,186.064 416.011,192.723 419.812,205.361 423.614,201.029 427.415,207.426 \\n  431.217,207.25 435.018,151.748 438.82,159.705 442.621,149.699 446.423,161.774 450.224,163.415 454.026,154.075 457.827,156.377 461.629,165.244 465.43,166.871 \\n  469.232,173.459 473.033,178.851 476.835,153.144 480.636,158.309 484.438,162.951 488.239,174.807 492.041,161.43 495.842,149.581 499.644,159.974 503.445,155.141 \\n  507.247,153.913 511.048,141.132 514.85,151.295 518.651,156.184 522.453,145.833 526.254,140.62 530.055,151.011 533.857,133.982 537.658,131.185 541.46,134.067 \\n  545.261,136.152 549.063,137.965 552.864,134.01 556.666,144.958 560.467,140.604 564.269,147.024 568.07,156.816 571.872,157.311 575.673,154.265 579.475,155.985 \\n  583.276,146.456 587.078,147.928 590.879,149.874 594.681,154.574 598.482,147.744 602.284,147.297 606.085,150.631 609.887,145.013 613.688,144.574 617.49,140.695 \\n  621.291,141.261 625.093,135.759 628.894,141.631 632.696,135.054 636.497,133.087 640.299,128.575 644.1,127.492 647.902,130.565 651.703,134.91 655.505,138.434 \\n  659.306,138.97 663.108,146.412 666.909,145.173 670.711,154.223 674.512,160.619 678.314,152.626 682.115,158.055 685.917,154.258 689.718,140.567 693.52,140.077 \\n  697.321,136.9 701.123,139.016 704.924,137.634 708.726,131.524 712.527,128.343 716.328,135.077 720.13,126.176 723.931,122.185 727.733,116.411 731.534,99.1697 \\n  735.336,101.092 739.137,108.271 742.939,114.536 746.74,109.273 750.542,111.277 754.343,109.607 758.145,110.196 761.946,114.32 765.748,109.247 769.549,114.967 \\n  773.351,115.474 777.152,119.189 780.954,125.98 784.755,116.444 788.557,120.165 792.358,115.788 796.16,114.658 799.961,114.416 803.763,109.479 807.564,108.828 \\n  811.366,104.039 815.167,99.9816 818.969,104.361 822.77,108.01 826.572,109.631 830.373,111.006 834.175,110.913 837.976,110.859 841.778,111.073 845.579,114.201 \\n  849.381,117.846 853.182,121.57 856.984,123.267 860.785,127.435 864.587,132.104 868.388,125.109 872.19,127.447 875.991,127.021 879.793,128.503 883.594,128.131 \\n  887.396,132.749 891.197,134.114 894.999,133.846 898.8,137.991 902.602,134.423 906.403,121.235 910.204,127.099 914.006,125.76 917.807,131.49 921.609,122.384 \\n  925.41,127.228 929.212,126.206 933.013,130.591 936.815,132.943 940.616,133.799 944.418,129.589 948.219,132.48 952.021,134.688 955.822,135.766 959.624,137.935 \\n  963.425,135.346 967.227,137.627 971.028,138.399 974.83,130.722 978.631,125.926 982.433,126.752 986.234,127.79 990.036,131.237 993.837,132.849 997.639,130.202 \\n  1001.44,132.429 1005.24,135.268 1009.04,124.052 1012.84,123.26 1016.65,123.589 1020.45,126.636 1024.25,121.686 1028.05,126.363 1031.85,120.261 1035.65,124.515 \\n  1039.46,124.465 1043.26,124.329 1047.06,125.904 1050.86,122.34 1054.66,124.372 1058.46,126.755 1062.26,127.036 1066.07,127.517 1069.87,127.578 1073.67,130.892 \\n  1077.47,128.37 1081.27,132.066 1085.07,128.984 1088.87,131.422 1092.68,131.354 1096.48,130.853 1100.28,127.71 1104.08,121.406 1107.88,119.911 1111.68,119.246 \\n  1115.48,120.449 1119.29,124.338 1123.09,122.269 1126.89,120.09 1130.69,121.571 1134.49,125.505 1138.29,123.713 1142.1,124.77 1145.9,127.065 1149.7,129.451 \\n  1153.5,127.902 1157.3,125.041 1161.1,124.46 1164.9,128.586 1168.71,129.084 1172.51,126.88 1176.31,126.339 1180.11,128.59 1183.91,132.276 1187.71,129.782 \\n  1191.51,126.683 1195.32,128.093 1199.12,129.317 1202.92,125.688 1206.72,128.011 1210.52,130.383 1214.32,133.249 1218.13,134.063 1221.93,130.507 1225.73,133.844 \\n  1229.53,135.068 1233.33,137.988 1237.13,137.792 1240.93,136.439 1244.74,137.267 1248.54,136.363 1252.34,133.501 1256.14,126.751 1259.94,127.933 1263.74,129.288 \\n  1267.54,129.407 1271.35,130.568 1275.15,133.35 1278.95,136.84 1282.75,134.403 1286.55,132.228 1290.35,132.504 1294.15,135.784 1297.96,132.291 1301.76,130.579 \\n  1305.56,133.765 1309.36,136.274 1313.16,135.477 1316.96,134.532 1320.77,134.767 1324.57,135.199 1328.37,138.123 1332.17,135.615 1335.97,134.777 1339.77,137.371 \\n  1343.57,136.949 1347.38,137.467 1351.18,130.95 1354.98,132.074 1358.78,131.857 1362.58,133.801 1366.38,135.514 1370.18,138.6 1373.99,139.644 1377.79,132.884 \\n  1381.59,135.4 1385.39,134.398 1389.19,135.427 1392.99,135.443 1396.8,136.293 1400.6,136.919 1404.4,134.99 1408.2,129.799 1412,130.73 1415.8,133.43 \\n  1419.6,130.721 1423.41,133.883 1427.21,132.045 1431.01,134.339 1434.81,131.255 1438.61,133.76 1442.41,131.571 1446.21,129.387 1450.02,126.455 1453.82,128.146 \\n  1457.62,128.411 1461.42,127.154 1465.22,125.227 1469.02,127.161 1472.83,128.655 1476.63,129.279 1480.43,131.234 1484.23,128.04 1488.03,129.686 1491.83,131.634 \\n  1495.63,127.925 1499.44,126.468 1503.24,129.529 1507.04,129.642 1510.84,132.098 1514.64,134.098 1518.44,133.439 1522.24,133.779 1526.05,132.333 1529.85,130.445 \\n  1533.65,133.31 1537.45,134.186 1541.25,135.611 1545.05,133.67 1548.85,132.884 1552.66,132.447 1556.46,134.47 1560.26,125.64 1564.06,127.811 1567.86,128.446 \\n  1571.66,130.836 1575.47,133.384 1579.27,130.528 1583.07,129.663 1586.87,128.045 1590.67,130.282 1594.47,130.463 1598.27,130.91 1602.08,132.267 1605.88,134.75 \\n  1609.68,135.028 1613.48,128.294 1617.28,130.278 1621.08,131.418 1624.88,128.865 1628.69,127.837 1632.49,128.322 1636.29,128.872 1640.09,125.173 1643.89,125.193 \\n  1647.69,126.624 1651.5,127.396 1655.3,124.534 1659.1,125.988 1662.9,126.467 1666.7,126.828 1670.5,128.814 1674.3,126.858 1678.11,127.451 1681.91,126.507 \\n  1685.71,124.522 1689.51,124.192 1693.31,126.299 1697.11,128.941 1700.91,125.988 1704.72,127.516 1708.52,129.614 1712.32,130.384 1716.12,128.232 1719.92,130.84 \\n  1723.72,127.623 1727.52,129.921 1731.33,130.519 1735.13,132.188 1738.93,132.424 1742.73,135.065 1746.53,135.63 1750.33,135.571 1754.14,137.033 1757.94,132.058 \\n  1761.74,132.184 1765.54,133.784 1769.34,135.245 1773.14,136.162 1776.94,136.599 1780.75,136.192 1784.55,137.549 1788.35,137.137 1792.15,138.83 1795.95,138.064 \\n  1799.75,135.183 1803.55,136.851 1807.36,138.877 1811.16,137.459 1814.96,139.19 1818.76,140.774 1822.56,138.38 1826.36,139.964 1830.17,141.215 1833.97,140.514 \\n  1837.77,141.51 1841.57,142.722 1845.37,136.408 1849.17,137.058 1852.97,137.89 1856.78,138.904 1860.58,137.868 1864.38,137.765 1868.18,138.786 1871.98,138.592 \\n  1875.78,139.581 1879.58,141.478 1883.39,141.968 1887.19,141.447 1890.99,142.718 1894.79,141.712 1898.59,142.323 1902.39,143.768 1906.19,135.309 1910,134.23 \\n  1913.8,132.858 1917.6,134.051 1921.4,133.777 1925.2,135.954 1929,135.819 1932.81,134.786 1936.61,136.896 1940.41,137.431 1944.21,137.341 1948.01,138.792 \\n  1951.81,137.475 1955.61,139.323 1959.42,138.142 1963.22,139.503 1967.02,137.565 1970.82,135.636 1974.62,135.433 1978.42,135.564 1982.22,130.948 1986.03,132.862 \\n  1989.83,133.21 1993.63,133.476 1997.43,134.39 2001.23,135.941 2005.03,133.176 2008.84,134.917 2012.64,135.145 2016.44,135.407 2020.24,136.519 2024.04,136.7 \\n  2027.84,135.271 2031.64,135.388 2035.45,133.808 2039.25,131.809 2043.05,133.107 2046.85,134.294 2050.65,135.08 2054.45,134.892 2058.25,134.875 2062.06,135.095 \\n  2065.86,136.058 2069.66,135.577 2073.46,137.898 2077.26,139.436 2081.06,136.17 2084.86,136.905 2088.67,137.115 2092.47,138.175 2096.27,135.422 2100.07,136.8 \\n  2103.87,135.441 2107.67,136.333 2111.48,137.359 2115.28,131.922 2119.08,133.068 2122.88,135.05 2126.68,134.457 2130.48,135.392 2134.28,134.285 2138.09,135.886 \\n  2141.89,135.737 2145.69,135.14 2149.49,135.498 2153.29,136.605 2157.09,137.189 2160.89,137.39 2164.7,133.773 2168.5,134.974 2172.3,136.066 2176.1,136.562 \\n  2179.9,136.169 2183.7,135.154 2187.51,135.005 2191.31,136.406 2195.11,136.647 2198.91,133.994 2202.71,135.517 2206.51,133.509 2210.31,135.03 2214.12,134.399 \\n  2217.92,133.805 2221.72,134.11 2225.52,135.662 2229.32,135.613 2233.12,137.123 2236.92,135.641 2240.73,136.134 2244.53,137.581 2248.33,135.296 2252.13,135.886 \\n  2255.93,136.808 2259.73,137.753 2263.53,137.758 2267.34,137.632 2271.14,136.562 2274.94,138.27 2278.74,137.879 2282.54,138.743 2286.34,139.237 2290.15,140.54 \\n  \\n  \\\"\\/>\\n<polyline clip-path=\\\"url(#clip3302)\\\" style=\\\"stroke:#000000; stroke-width:12; stroke-opacity:1; fill:none\\\" points=\\\"\\n  -221083,112.53 223577,112.53 \\n  \\\"\\/>\\n<path clip-path=\\\"url(#clip3300)\\\" d=\\\"\\nM212.517 1281.62 L802.786 1281.62 L802.786 1100.18 L212.517 1100.18  Z\\n  \\\" fill=\\\"#ffffff\\\" fill-rule=\\\"evenodd\\\" fill-opacity=\\\"1\\\"\\/>\\n<polyline clip-path=\\\"url(#clip3300)\\\" style=\\\"stroke:#000000; stroke-width:4; stroke-opacity:1; fill:none\\\" points=\\\"\\n  212.517,1281.62 802.786,1281.62 802.786,1100.18 212.517,1100.18 212.517,1281.62 \\n  \\\"\\/>\\n<polyline clip-path=\\\"url(#clip3300)\\\" style=\\\"stroke:#ff0000; stroke-width:12; stroke-opacity:1; fill:none\\\" points=\\\"\\n  236.517,1160.66 380.517,1160.66 \\n  \\\"\\/>\\n<g clip-path=\\\"url(#clip3300)\\\">\\n<text style=\\\"fill:#000000; fill-opacity:1; font-family:Arial,Helvetica Neue,Helvetica,sans-serif; font-size:48px; text-anchor:start;\\\" transform=\\\"rotate(0, 404.517, 1178.16)\\\" x=\\\"404.517\\\" y=\\\"1178.16\\\">empirical T(N,N)<\\/text>\\n<\\/g>\\n<polyline clip-path=\\\"url(#clip3300)\\\" style=\\\"stroke:#000000; stroke-width:12; stroke-opacity:1; fill:none\\\" points=\\\"\\n  236.517,1221.14 380.517,1221.14 \\n  \\\"\\/>\\n<g clip-path=\\\"url(#clip3300)\\\">\\n<text style=\\\"fill:#000000; fill-opacity:1; font-family:Arial,Helvetica Neue,Helvetica,sans-serif; font-size:48px; text-anchor:start;\\\" transform=\\\"rotate(0, 404.517, 1238.64)\\\" x=\\\"404.517\\\" y=\\\"1238.64\\\">theoretical limit<\\/text>\\n<\\/g>\\n<\\/svg>\\n\"},\"nodeType\":\"DOM\",\"type\":\"node\",\"instanceArgs\":{\"namespace\":\"html\",\"tag\":\"div\"},\"children\":[]}]}}}},\"children\":[{\"props\":{},\"nodeType\":\"ObservableNode\",\"type\":\"node\",\"instanceArgs\":{\"id\":\"ob_430\",\"name\":\"obs-node\"},\"children\":[]}]}]},\n",
       "            window,\n",
       "        );\n",
       "    } else {\n",
       "        document\n",
       "            .querySelector('[data-webio-mountpoint=\"11322066718645314771\"]')\n",
       "            .innerHTML = (\n",
       "                '<strong>WebIO not detected. Please read ' +\n",
       "                '<a href=\"https://juliagizmos.github.io/WebIO.jl/latest/troubleshooting/not-detected/\">the troubleshooting guide</a> ' +\n",
       "                'for more information on how to resolve this issue.' +\n",
       "                '</strong>'\n",
       "            );\n",
       "    }\n",
       "    </script>\n",
       "</div>\n"
      ],
      "text/plain": [
       "Node{WebIO.DOM}(WebIO.DOM(:html, :div), Any[Node{WebIO.DOM}(WebIO.DOM(:html, :div), Any[Scope(Node{WebIO.DOM}(WebIO.DOM(:html, :div), Any[Node{WebIO.DOM}(WebIO.DOM(:html, :div), Any[Node{WebIO.DOM}(WebIO.DOM(:html, :label), Any[\"max_N\"], Dict{Symbol,Any}(:className => \"interact \",:style => Dict{Any,Any}(:padding => \"5px 10px 0px 10px\")))], Dict{Symbol,Any}(:className => \"interact-flex-row-left\")), Node{WebIO.DOM}(WebIO.DOM(:html, :div), Any[Node{WebIO.DOM}(WebIO.DOM(:html, :input), Any[], Dict{Symbol,Any}(:max => 19,:min => 1,:attributes => Dict{Any,Any}(:type => \"range\",Symbol(\"data-bind\") => \"numericValue: index, valueUpdate: 'input', event: {change: function (){this.changes(this.changes()+1)}}\",\"orient\" => \"horizontal\"),:step => 1,:className => \"slider slider is-fullwidth\",:style => Dict{Any,Any}()))], Dict{Symbol,Any}(:className => \"interact-flex-row-center\")), Node{WebIO.DOM}(WebIO.DOM(:html, :div), Any[Node{WebIO.DOM}(WebIO.DOM(:html, :p), Any[], Dict{Symbol,Any}(:attributes => Dict(\"data-bind\" => \"text: formatted_val\")))], Dict{Symbol,Any}(:className => \"interact-flex-row-right\"))], Dict{Symbol,Any}(:className => \"interact-flex-row interact-widget\")), Dict{String,Tuple{Observables.AbstractObservable,Union{Nothing, Bool}}}(\"changes\" => (Observable{Int64} with 1 listeners. Value:\n",
       "0, nothing),\"index\" => (Observable{Any} with 2 listeners. Value:\n",
       "10, nothing)), Set(String[]), nothing, Asset[Asset(\"js\", \"knockout\", \"C:\\\\Users\\\\matte\\\\.julia\\\\packages\\\\Knockout\\\\1sDlc\\\\src\\\\..\\\\assets\\\\knockout.js\"), Asset(\"js\", \"knockout_punches\", \"C:\\\\Users\\\\matte\\\\.julia\\\\packages\\\\Knockout\\\\1sDlc\\\\src\\\\..\\\\assets\\\\knockout_punches.js\"), Asset(\"js\", nothing, \"C:\\\\Users\\\\matte\\\\.julia\\\\packages\\\\InteractBase\\\\9mFwe\\\\src\\\\..\\\\assets\\\\all.js\"), Asset(\"css\", nothing, \"C:\\\\Users\\\\matte\\\\.julia\\\\packages\\\\InteractBase\\\\9mFwe\\\\src\\\\..\\\\assets\\\\style.css\"), Asset(\"css\", nothing, \"C:\\\\Users\\\\matte\\\\.julia\\\\packages\\\\Interact\\\\SbgIk\\\\src\\\\..\\\\assets\\\\bulma_confined.min.css\")], Dict{Any,Any}(\"changes\" => Any[WebIO.JSString(\"(function (val){return (val!=this.model[\\\"changes\\\"]()) ? (this.valueFromJulia[\\\"changes\\\"]=true, this.model[\\\"changes\\\"](val)) : undefined})\")],\"index\" => Any[WebIO.JSString(\"(function (val){return (val!=this.model[\\\"index\\\"]()) ? (this.valueFromJulia[\\\"index\\\"]=true, this.model[\\\"index\\\"](val)) : undefined})\")]), WebIO.ConnectionPool(Channel{Any}(sz_max:32,sz_curr:0), Set(AbstractConnection[]), Base.GenericCondition{Base.AlwaysLockedST}(Base.InvasiveLinkedList{Task}(Task (runnable) @0x000000002feef0f0, Task (runnable) @0x000000002feef0f0), Base.AlwaysLockedST(1))), WebIO.JSString[WebIO.JSString(\"function () {\\n    var handler = (function (ko, koPunches) {\\n    ko.punches.enableAll();\\n    ko.bindingHandlers.numericValue = {\\n        init: function(element, valueAccessor, allBindings, data, context) {\\n            var stringified = ko.observable(ko.unwrap(valueAccessor()));\\n            stringified.subscribe(function(value) {\\n                var val = parseFloat(value);\\n                if (!isNaN(val)) {\\n                    valueAccessor()(val);\\n                }\\n            });\\n            valueAccessor().subscribe(function(value) {\\n                var str = JSON.stringify(value);\\n                if ((str == \\\"0\\\") && ([\\\"-0\\\", \\\"-0.\\\"].indexOf(stringified()) >= 0))\\n                     return;\\n                 if ([\\\"null\\\", \\\"\\\"].indexOf(str) >= 0)\\n                     return;\\n                stringified(str);\\n            });\\n            ko.applyBindingsToNode(\\n                element,\\n                {\\n                    value: stringified,\\n                    valueUpdate: allBindings.get('valueUpdate'),\\n                },\\n                context,\\n            );\\n        }\\n    };\\n    var json_data = {\\\"formatted_vals\\\":[\\\"100\\\",\\\"150\\\",\\\"200\\\",\\\"250\\\",\\\"300\\\",\\\"350\\\",\\\"400\\\",\\\"450\\\",\\\"500\\\",\\\"550\\\",\\\"600\\\",\\\"650\\\",\\\"700\\\",\\\"750\\\",\\\"800\\\",\\\"850\\\",\\\"900\\\",\\\"950\\\",\\\"1000\\\"],\\\"changes\\\":WebIO.getval({\\\"name\\\":\\\"changes\\\",\\\"scope\\\":\\\"12012879019589766080\\\",\\\"id\\\":\\\"ob_415\\\",\\\"type\\\":\\\"observable\\\"}),\\\"index\\\":WebIO.getval({\\\"name\\\":\\\"index\\\",\\\"scope\\\":\\\"12012879019589766080\\\",\\\"id\\\":\\\"ob_414\\\",\\\"type\\\":\\\"observable\\\"})};\\n    var self = this;\\n    function AppViewModel() {\\n        for (var key in json_data) {\\n            var el = json_data[key];\\n            this[key] = Array.isArray(el) ? ko.observableArray(el) : ko.observable(el);\\n        }\\n        \\n        [this[\\\"formatted_val\\\"]=ko.computed(    function(){\\n        return this.formatted_vals()[parseInt(this.index())-(1)];\\n    }\\n,this)]\\n        [this[\\\"changes\\\"].subscribe((function (val){!(this.valueFromJulia[\\\"changes\\\"]) ? (WebIO.setval({\\\"name\\\":\\\"changes\\\",\\\"scope\\\":\\\"12012879019589766080\\\",\\\"id\\\":\\\"ob_415\\\",\\\"type\\\":\\\"observable\\\"},val)) : undefined; return this.valueFromJulia[\\\"changes\\\"]=false}),self),this[\\\"index\\\"].subscribe((function (val){!(this.valueFromJulia[\\\"index\\\"]) ? (WebIO.setval({\\\"name\\\":\\\"index\\\",\\\"scope\\\":\\\"12012879019589766080\\\",\\\"id\\\":\\\"ob_414\\\",\\\"type\\\":\\\"observable\\\"},val)) : undefined; return this.valueFromJulia[\\\"index\\\"]=false}),self)]\\n        \\n    }\\n    self.model = new AppViewModel();\\n    self.valueFromJulia = {};\\n    for (var key in json_data) {\\n        self.valueFromJulia[key] = false;\\n    }\\n    ko.applyBindings(self.model, self.dom);\\n}\\n);\\n    (WebIO.importBlock({\\\"data\\\":[{\\\"name\\\":\\\"knockout\\\",\\\"type\\\":\\\"js\\\",\\\"url\\\":\\\"/assetserver/254160226b58162a42111ea27214076747de1cf2-knockout.js\\\"},{\\\"name\\\":\\\"knockout_punches\\\",\\\"type\\\":\\\"js\\\",\\\"url\\\":\\\"/assetserver/2d0bf510fb683322318163f3ec7562806e4b1104-knockout_punches.js\\\"}],\\\"type\\\":\\\"async_block\\\"})).then((imports) => handler.apply(this, imports));\\n}\\n\")])], Dict{Symbol,Any}(:className => \"field interact-widget\")), Node{WebIO.DOM}(WebIO.DOM(:html, :div), Any[Scope(Node{WebIO.DOM}(WebIO.DOM(:html, :div), Any[Node{WebIO.DOM}(WebIO.DOM(:html, :div), Any[Node{WebIO.DOM}(WebIO.DOM(:html, :label), Any[\"law_name\"], Dict{Symbol,Any}(:className => \"interact \",:style => Dict{Any,Any}(:padding => \"5px 10px 0px 10px\")))], Dict{Symbol,Any}(:className => \"interact-flex-row-left\")), Node{WebIO.DOM}(WebIO.DOM(:html, :div), Any[Node{WebIO.DOM}(WebIO.DOM(:html, :div), Any[Node{WebIO.DOM}(WebIO.DOM(:html, :span), Any[Node{WebIO.DOM}(WebIO.DOM(:html, :label), Any[], Dict{Symbol,Any}(:attributes => Dict(\"data-bind\" => \"text : key\")))], Dict{Symbol,Any}(:attributes => Dict(\"data-bind\" => \"click: function (){\\$root.update(val)}, css: {'is-primary is-selected' : \\$root.index() == val, 'interact-widget is-medium button ' : true}\")))], Dict{Symbol,Any}(:attributes => (\"data-bind\" => \"foreach : options_js\"),:className => \"buttons has-addons is-centered\"))], Dict{Symbol,Any}(:className => \"interact-flex-row-center\")), Node{WebIO.DOM}(WebIO.DOM(:html, :div), Any[Node{WebIO.DOM}(WebIO.DOM(:html, :div), Any[], Dict{Symbol,Any}())], Dict{Symbol,Any}(:className => \"interact-flex-row-right\"))], Dict{Symbol,Any}(:className => \"interact-flex-row interact-widget\")), Dict{String,Tuple{Observables.AbstractObservable,Union{Nothing, Bool}}}(\"options_js\" => (Observable{Any} with 1 listeners. Value:\n",
       "OrderedDict[OrderedDict{String,Any}(\"key\" => \"Geometric(q)\",\"val\" => 1,\"id\" => \"idSadITQuX\"), OrderedDict{String,Any}(\"key\" => \"Exponential(λ)\",\"val\" => 2,\"id\" => \"idAhnh0RHj\")], nothing),\"index\" => (Observable{Any} with 2 listeners. Value:\n",
       "1, nothing)), Set(String[]), nothing, Asset[Asset(\"js\", \"knockout\", \"C:\\\\Users\\\\matte\\\\.julia\\\\packages\\\\Knockout\\\\1sDlc\\\\src\\\\..\\\\assets\\\\knockout.js\"), Asset(\"js\", \"knockout_punches\", \"C:\\\\Users\\\\matte\\\\.julia\\\\packages\\\\Knockout\\\\1sDlc\\\\src\\\\..\\\\assets\\\\knockout_punches.js\"), Asset(\"js\", nothing, \"C:\\\\Users\\\\matte\\\\.julia\\\\packages\\\\InteractBase\\\\9mFwe\\\\src\\\\..\\\\assets\\\\all.js\"), Asset(\"css\", nothing, \"C:\\\\Users\\\\matte\\\\.julia\\\\packages\\\\InteractBase\\\\9mFwe\\\\src\\\\..\\\\assets\\\\style.css\"), Asset(\"css\", nothing, \"C:\\\\Users\\\\matte\\\\.julia\\\\packages\\\\Interact\\\\SbgIk\\\\src\\\\..\\\\assets\\\\bulma_confined.min.css\")], Dict{Any,Any}(\"options_js\" => Any[WebIO.JSString(\"(function (val){return (val!=this.model[\\\"options_js\\\"]()) ? (this.valueFromJulia[\\\"options_js\\\"]=true, this.model[\\\"options_js\\\"](val)) : undefined})\")],\"index\" => Any[WebIO.JSString(\"(function (val){return (val!=this.model[\\\"index\\\"]()) ? (this.valueFromJulia[\\\"index\\\"]=true, this.model[\\\"index\\\"](val)) : undefined})\")]), WebIO.ConnectionPool(Channel{Any}(sz_max:32,sz_curr:0), Set(AbstractConnection[]), Base.GenericCondition{Base.AlwaysLockedST}(Base.InvasiveLinkedList{Task}(Task (runnable) @0x000000002feef3d0, Task (runnable) @0x000000002feef3d0), Base.AlwaysLockedST(1))), WebIO.JSString[WebIO.JSString(\"function () {\\n    var handler = (function (ko, koPunches) {\\n    ko.punches.enableAll();\\n    ko.bindingHandlers.numericValue = {\\n        init: function(element, valueAccessor, allBindings, data, context) {\\n            var stringified = ko.observable(ko.unwrap(valueAccessor()));\\n            stringified.subscribe(function(value) {\\n                var val = parseFloat(value);\\n                if (!isNaN(val)) {\\n                    valueAccessor()(val);\\n                }\\n            });\\n            valueAccessor().subscribe(function(value) {\\n                var str = JSON.stringify(value);\\n                if ((str == \\\"0\\\") && ([\\\"-0\\\", \\\"-0.\\\"].indexOf(stringified()) >= 0))\\n                     return;\\n                 if ([\\\"null\\\", \\\"\\\"].indexOf(str) >= 0)\\n                     return;\\n                stringified(str);\\n            });\\n            ko.applyBindingsToNode(\\n                element,\\n                {\\n                    value: stringified,\\n                    valueUpdate: allBindings.get('valueUpdate'),\\n                },\\n                context,\\n            );\\n        }\\n    };\\n    var json_data = {\\\"options_js\\\":WebIO.getval({\\\"name\\\":\\\"options_js\\\",\\\"scope\\\":\\\"3963777282110550701\\\",\\\"id\\\":\\\"ob_420\\\",\\\"type\\\":\\\"observable\\\"}),\\\"index\\\":WebIO.getval({\\\"name\\\":\\\"index\\\",\\\"scope\\\":\\\"3963777282110550701\\\",\\\"id\\\":\\\"ob_419\\\",\\\"type\\\":\\\"observable\\\"})};\\n    var self = this;\\n    function AppViewModel() {\\n        for (var key in json_data) {\\n            var el = json_data[key];\\n            this[key] = Array.isArray(el) ? ko.observableArray(el) : ko.observable(el);\\n        }\\n        [this[\\\"update\\\"]=function (val) {this.index(val)}]\\n        \\n        [this[\\\"options_js\\\"].subscribe((function (val){!(this.valueFromJulia[\\\"options_js\\\"]) ? (WebIO.setval({\\\"name\\\":\\\"options_js\\\",\\\"scope\\\":\\\"3963777282110550701\\\",\\\"id\\\":\\\"ob_420\\\",\\\"type\\\":\\\"observable\\\"},val)) : undefined; return this.valueFromJulia[\\\"options_js\\\"]=false}),self),this[\\\"index\\\"].subscribe((function (val){!(this.valueFromJulia[\\\"index\\\"]) ? (WebIO.setval({\\\"name\\\":\\\"index\\\",\\\"scope\\\":\\\"3963777282110550701\\\",\\\"id\\\":\\\"ob_419\\\",\\\"type\\\":\\\"observable\\\"},val)) : undefined; return this.valueFromJulia[\\\"index\\\"]=false}),self)]\\n        \\n    }\\n    self.model = new AppViewModel();\\n    self.valueFromJulia = {};\\n    for (var key in json_data) {\\n        self.valueFromJulia[key] = false;\\n    }\\n    ko.applyBindings(self.model, self.dom);\\n}\\n);\\n    (WebIO.importBlock({\\\"data\\\":[{\\\"name\\\":\\\"knockout\\\",\\\"type\\\":\\\"js\\\",\\\"url\\\":\\\"/assetserver/254160226b58162a42111ea27214076747de1cf2-knockout.js\\\"},{\\\"name\\\":\\\"knockout_punches\\\",\\\"type\\\":\\\"js\\\",\\\"url\\\":\\\"/assetserver/2d0bf510fb683322318163f3ec7562806e4b1104-knockout_punches.js\\\"}],\\\"type\\\":\\\"async_block\\\"})).then((imports) => handler.apply(this, imports));\\n}\\n\")])], Dict{Symbol,Any}(:className => \"interact-widget\")), Node{WebIO.DOM}(WebIO.DOM(:html, :div), Any[Scope(Node{WebIO.DOM}(WebIO.DOM(:html, :div), Any[Node{WebIO.DOM}(WebIO.DOM(:html, :div), Any[Node{WebIO.DOM}(WebIO.DOM(:html, :label), Any[\"q\"], Dict{Symbol,Any}(:className => \"interact \",:style => Dict{Any,Any}(:padding => \"5px 10px 0px 10px\")))], Dict{Symbol,Any}(:className => \"interact-flex-row-left\")), Node{WebIO.DOM}(WebIO.DOM(:html, :div), Any[Node{WebIO.DOM}(WebIO.DOM(:html, :input), Any[], Dict{Symbol,Any}(:max => 19,:min => 1,:attributes => Dict{Any,Any}(:type => \"range\",Symbol(\"data-bind\") => \"numericValue: index, valueUpdate: 'input', event: {change: function (){this.changes(this.changes()+1)}}\",\"orient\" => \"horizontal\"),:step => 1,:className => \"slider slider is-fullwidth\",:style => Dict{Any,Any}()))], Dict{Symbol,Any}(:className => \"interact-flex-row-center\")), Node{WebIO.DOM}(WebIO.DOM(:html, :div), Any[Node{WebIO.DOM}(WebIO.DOM(:html, :p), Any[], Dict{Symbol,Any}(:attributes => Dict(\"data-bind\" => \"text: formatted_val\")))], Dict{Symbol,Any}(:className => \"interact-flex-row-right\"))], Dict{Symbol,Any}(:className => \"interact-flex-row interact-widget\")), Dict{String,Tuple{Observables.AbstractObservable,Union{Nothing, Bool}}}(\"changes\" => (Observable{Int64} with 1 listeners. Value:\n",
       "0, nothing),\"index\" => (Observable{Any} with 2 listeners. Value:\n",
       "10, nothing)), Set(String[]), nothing, Asset[Asset(\"js\", \"knockout\", \"C:\\\\Users\\\\matte\\\\.julia\\\\packages\\\\Knockout\\\\1sDlc\\\\src\\\\..\\\\assets\\\\knockout.js\"), Asset(\"js\", \"knockout_punches\", \"C:\\\\Users\\\\matte\\\\.julia\\\\packages\\\\Knockout\\\\1sDlc\\\\src\\\\..\\\\assets\\\\knockout_punches.js\"), Asset(\"js\", nothing, \"C:\\\\Users\\\\matte\\\\.julia\\\\packages\\\\InteractBase\\\\9mFwe\\\\src\\\\..\\\\assets\\\\all.js\"), Asset(\"css\", nothing, \"C:\\\\Users\\\\matte\\\\.julia\\\\packages\\\\InteractBase\\\\9mFwe\\\\src\\\\..\\\\assets\\\\style.css\"), Asset(\"css\", nothing, \"C:\\\\Users\\\\matte\\\\.julia\\\\packages\\\\Interact\\\\SbgIk\\\\src\\\\..\\\\assets\\\\bulma_confined.min.css\")], Dict{Any,Any}(\"changes\" => Any[WebIO.JSString(\"(function (val){return (val!=this.model[\\\"changes\\\"]()) ? (this.valueFromJulia[\\\"changes\\\"]=true, this.model[\\\"changes\\\"](val)) : undefined})\")],\"index\" => Any[WebIO.JSString(\"(function (val){return (val!=this.model[\\\"index\\\"]()) ? (this.valueFromJulia[\\\"index\\\"]=true, this.model[\\\"index\\\"](val)) : undefined})\")]), WebIO.ConnectionPool(Channel{Any}(sz_max:32,sz_curr:0), Set(AbstractConnection[]), Base.GenericCondition{Base.AlwaysLockedST}(Base.InvasiveLinkedList{Task}(Task (runnable) @0x000000002feef6b0, Task (runnable) @0x000000002feef6b0), Base.AlwaysLockedST(1))), WebIO.JSString[WebIO.JSString(\"function () {\\n    var handler = (function (ko, koPunches) {\\n    ko.punches.enableAll();\\n    ko.bindingHandlers.numericValue = {\\n        init: function(element, valueAccessor, allBindings, data, context) {\\n            var stringified = ko.observable(ko.unwrap(valueAccessor()));\\n            stringified.subscribe(function(value) {\\n                var val = parseFloat(value);\\n                if (!isNaN(val)) {\\n                    valueAccessor()(val);\\n                }\\n            });\\n            valueAccessor().subscribe(function(value) {\\n                var str = JSON.stringify(value);\\n                if ((str == \\\"0\\\") && ([\\\"-0\\\", \\\"-0.\\\"].indexOf(stringified()) >= 0))\\n                     return;\\n                 if ([\\\"null\\\", \\\"\\\"].indexOf(str) >= 0)\\n                     return;\\n                stringified(str);\\n            });\\n            ko.applyBindingsToNode(\\n                element,\\n                {\\n                    value: stringified,\\n                    valueUpdate: allBindings.get('valueUpdate'),\\n                },\\n                context,\\n            );\\n        }\\n    };\\n    var json_data = {\\\"formatted_vals\\\":[\\\"0.05\\\",\\\"0.1\\\",\\\"0.15\\\",\\\"0.2\\\",\\\"0.25\\\",\\\"0.3\\\",\\\"0.35\\\",\\\"0.4\\\",\\\"0.45\\\",\\\"0.5\\\",\\\"0.55\\\",\\\"0.6\\\",\\\"0.65\\\",\\\"0.7\\\",\\\"0.75\\\",\\\"0.8\\\",\\\"0.85\\\",\\\"0.9\\\",\\\"0.95\\\"],\\\"changes\\\":WebIO.getval({\\\"name\\\":\\\"changes\\\",\\\"scope\\\":\\\"3682272753745580192\\\",\\\"id\\\":\\\"ob_423\\\",\\\"type\\\":\\\"observable\\\"}),\\\"index\\\":WebIO.getval({\\\"name\\\":\\\"index\\\",\\\"scope\\\":\\\"3682272753745580192\\\",\\\"id\\\":\\\"ob_422\\\",\\\"type\\\":\\\"observable\\\"})};\\n    var self = this;\\n    function AppViewModel() {\\n        for (var key in json_data) {\\n            var el = json_data[key];\\n            this[key] = Array.isArray(el) ? ko.observableArray(el) : ko.observable(el);\\n        }\\n        \\n        [this[\\\"formatted_val\\\"]=ko.computed(    function(){\\n        return this.formatted_vals()[parseInt(this.index())-(1)];\\n    }\\n,this)]\\n        [this[\\\"changes\\\"].subscribe((function (val){!(this.valueFromJulia[\\\"changes\\\"]) ? (WebIO.setval({\\\"name\\\":\\\"changes\\\",\\\"scope\\\":\\\"3682272753745580192\\\",\\\"id\\\":\\\"ob_423\\\",\\\"type\\\":\\\"observable\\\"},val)) : undefined; return this.valueFromJulia[\\\"changes\\\"]=false}),self),this[\\\"index\\\"].subscribe((function (val){!(this.valueFromJulia[\\\"index\\\"]) ? (WebIO.setval({\\\"name\\\":\\\"index\\\",\\\"scope\\\":\\\"3682272753745580192\\\",\\\"id\\\":\\\"ob_422\\\",\\\"type\\\":\\\"observable\\\"},val)) : undefined; return this.valueFromJulia[\\\"index\\\"]=false}),self)]\\n        \\n    }\\n    self.model = new AppViewModel();\\n    self.valueFromJulia = {};\\n    for (var key in json_data) {\\n        self.valueFromJulia[key] = false;\\n    }\\n    ko.applyBindings(self.model, self.dom);\\n}\\n);\\n    (WebIO.importBlock({\\\"data\\\":[{\\\"name\\\":\\\"knockout\\\",\\\"type\\\":\\\"js\\\",\\\"url\\\":\\\"/assetserver/254160226b58162a42111ea27214076747de1cf2-knockout.js\\\"},{\\\"name\\\":\\\"knockout_punches\\\",\\\"type\\\":\\\"js\\\",\\\"url\\\":\\\"/assetserver/2d0bf510fb683322318163f3ec7562806e4b1104-knockout_punches.js\\\"}],\\\"type\\\":\\\"async_block\\\"})).then((imports) => handler.apply(this, imports));\\n}\\n\")])], Dict{Symbol,Any}(:className => \"field interact-widget\")), Node{WebIO.DOM}(WebIO.DOM(:html, :div), Any[Scope(Node{WebIO.DOM}(WebIO.DOM(:html, :div), Any[Node{WebIO.DOM}(WebIO.DOM(:html, :div), Any[Node{WebIO.DOM}(WebIO.DOM(:html, :label), Any[\"λ\"], Dict{Symbol,Any}(:className => \"interact \",:style => Dict{Any,Any}(:padding => \"5px 10px 0px 10px\")))], Dict{Symbol,Any}(:className => \"interact-flex-row-left\")), Node{WebIO.DOM}(WebIO.DOM(:html, :div), Any[Node{WebIO.DOM}(WebIO.DOM(:html, :input), Any[], Dict{Symbol,Any}(:max => 10,:min => 1,:attributes => Dict{Any,Any}(:type => \"range\",Symbol(\"data-bind\") => \"numericValue: index, valueUpdate: 'input', event: {change: function (){this.changes(this.changes()+1)}}\",\"orient\" => \"horizontal\"),:step => 1,:className => \"slider slider is-fullwidth\",:style => Dict{Any,Any}()))], Dict{Symbol,Any}(:className => \"interact-flex-row-center\")), Node{WebIO.DOM}(WebIO.DOM(:html, :div), Any[Node{WebIO.DOM}(WebIO.DOM(:html, :p), Any[], Dict{Symbol,Any}(:attributes => Dict(\"data-bind\" => \"text: formatted_val\")))], Dict{Symbol,Any}(:className => \"interact-flex-row-right\"))], Dict{Symbol,Any}(:className => \"interact-flex-row interact-widget\")), Dict{String,Tuple{Observables.AbstractObservable,Union{Nothing, Bool}}}(\"changes\" => (Observable{Int64} with 1 listeners. Value:\n",
       "0, nothing),\"index\" => (Observable{Any} with 2 listeners. Value:\n",
       "5, nothing)), Set(String[]), nothing, Asset[Asset(\"js\", \"knockout\", \"C:\\\\Users\\\\matte\\\\.julia\\\\packages\\\\Knockout\\\\1sDlc\\\\src\\\\..\\\\assets\\\\knockout.js\"), Asset(\"js\", \"knockout_punches\", \"C:\\\\Users\\\\matte\\\\.julia\\\\packages\\\\Knockout\\\\1sDlc\\\\src\\\\..\\\\assets\\\\knockout_punches.js\"), Asset(\"js\", nothing, \"C:\\\\Users\\\\matte\\\\.julia\\\\packages\\\\InteractBase\\\\9mFwe\\\\src\\\\..\\\\assets\\\\all.js\"), Asset(\"css\", nothing, \"C:\\\\Users\\\\matte\\\\.julia\\\\packages\\\\InteractBase\\\\9mFwe\\\\src\\\\..\\\\assets\\\\style.css\"), Asset(\"css\", nothing, \"C:\\\\Users\\\\matte\\\\.julia\\\\packages\\\\Interact\\\\SbgIk\\\\src\\\\..\\\\assets\\\\bulma_confined.min.css\")], Dict{Any,Any}(\"changes\" => Any[WebIO.JSString(\"(function (val){return (val!=this.model[\\\"changes\\\"]()) ? (this.valueFromJulia[\\\"changes\\\"]=true, this.model[\\\"changes\\\"](val)) : undefined})\")],\"index\" => Any[WebIO.JSString(\"(function (val){return (val!=this.model[\\\"index\\\"]()) ? (this.valueFromJulia[\\\"index\\\"]=true, this.model[\\\"index\\\"](val)) : undefined})\")]), WebIO.ConnectionPool(Channel{Any}(sz_max:32,sz_curr:0), Set(AbstractConnection[]), Base.GenericCondition{Base.AlwaysLockedST}(Base.InvasiveLinkedList{Task}(Task (runnable) @0x000000002feef990, Task (runnable) @0x000000002feef990), Base.AlwaysLockedST(1))), WebIO.JSString[WebIO.JSString(\"function () {\\n    var handler = (function (ko, koPunches) {\\n    ko.punches.enableAll();\\n    ko.bindingHandlers.numericValue = {\\n        init: function(element, valueAccessor, allBindings, data, context) {\\n            var stringified = ko.observable(ko.unwrap(valueAccessor()));\\n            stringified.subscribe(function(value) {\\n                var val = parseFloat(value);\\n                if (!isNaN(val)) {\\n                    valueAccessor()(val);\\n                }\\n            });\\n            valueAccessor().subscribe(function(value) {\\n                var str = JSON.stringify(value);\\n                if ((str == \\\"0\\\") && ([\\\"-0\\\", \\\"-0.\\\"].indexOf(stringified()) >= 0))\\n                     return;\\n                 if ([\\\"null\\\", \\\"\\\"].indexOf(str) >= 0)\\n                     return;\\n                stringified(str);\\n            });\\n            ko.applyBindingsToNode(\\n                element,\\n                {\\n                    value: stringified,\\n                    valueUpdate: allBindings.get('valueUpdate'),\\n                },\\n                context,\\n            );\\n        }\\n    };\\n    var json_data = {\\\"formatted_vals\\\":[\\\"1\\\",\\\"2\\\",\\\"3\\\",\\\"4\\\",\\\"5\\\",\\\"6\\\",\\\"7\\\",\\\"8\\\",\\\"9\\\",\\\"10\\\"],\\\"changes\\\":WebIO.getval({\\\"name\\\":\\\"changes\\\",\\\"scope\\\":\\\"15413021545696262385\\\",\\\"id\\\":\\\"ob_426\\\",\\\"type\\\":\\\"observable\\\"}),\\\"index\\\":WebIO.getval({\\\"name\\\":\\\"index\\\",\\\"scope\\\":\\\"15413021545696262385\\\",\\\"id\\\":\\\"ob_425\\\",\\\"type\\\":\\\"observable\\\"})};\\n    var self = this;\\n    function AppViewModel() {\\n        for (var key in json_data) {\\n            var el = json_data[key];\\n            this[key] = Array.isArray(el) ? ko.observableArray(el) : ko.observable(el);\\n        }\\n        \\n        [this[\\\"formatted_val\\\"]=ko.computed(    function(){\\n        return this.formatted_vals()[parseInt(this.index())-(1)];\\n    }\\n,this)]\\n        [this[\\\"changes\\\"].subscribe((function (val){!(this.valueFromJulia[\\\"changes\\\"]) ? (WebIO.setval({\\\"name\\\":\\\"changes\\\",\\\"scope\\\":\\\"15413021545696262385\\\",\\\"id\\\":\\\"ob_426\\\",\\\"type\\\":\\\"observable\\\"},val)) : undefined; return this.valueFromJulia[\\\"changes\\\"]=false}),self),this[\\\"index\\\"].subscribe((function (val){!(this.valueFromJulia[\\\"index\\\"]) ? (WebIO.setval({\\\"name\\\":\\\"index\\\",\\\"scope\\\":\\\"15413021545696262385\\\",\\\"id\\\":\\\"ob_425\\\",\\\"type\\\":\\\"observable\\\"},val)) : undefined; return this.valueFromJulia[\\\"index\\\"]=false}),self)]\\n        \\n    }\\n    self.model = new AppViewModel();\\n    self.valueFromJulia = {};\\n    for (var key in json_data) {\\n        self.valueFromJulia[key] = false;\\n    }\\n    ko.applyBindings(self.model, self.dom);\\n}\\n);\\n    (WebIO.importBlock({\\\"data\\\":[{\\\"name\\\":\\\"knockout\\\",\\\"type\\\":\\\"js\\\",\\\"url\\\":\\\"/assetserver/254160226b58162a42111ea27214076747de1cf2-knockout.js\\\"},{\\\"name\\\":\\\"knockout_punches\\\",\\\"type\\\":\\\"js\\\",\\\"url\\\":\\\"/assetserver/2d0bf510fb683322318163f3ec7562806e4b1104-knockout_punches.js\\\"}],\\\"type\\\":\\\"async_block\\\"})).then((imports) => handler.apply(this, imports));\\n}\\n\")])], Dict{Symbol,Any}(:className => \"field interact-widget\")), Observable{Any} with 0 listeners. Value:\n",
       "Node{WebIO.DOM}(WebIO.DOM(:html, :div), Any[Plot{Plots.GRBackend() n=2}], Dict{Symbol,Any}(:className => \"interact-flex-row interact-widget\"))], Dict{Symbol,Any}())"
      ]
     },
     "execution_count": 68,
     "metadata": {
      "application/vnd.webio.node+json": {
       "kernelId": "cd19c830-5d4e-48f4-bb59-770b2c1df0a8"
      }
     },
     "output_type": "execute_result"
    }
   ],
   "source": [
    "@manipulate for max_N = 100:50:1000, law_name = [\"Geometric(q)\", \"Exponential(λ)\"], q = 0.05:0.05:0.95, λ = 1:1:10\n",
    "    if(law_name == \"Geometric\")\n",
    "        law = Geometric(q)\n",
    "    else\n",
    "        law = Exponential(λ)\n",
    "    end\n",
    "    γ, σ = renorm_params(law)\n",
    "    grid = get_grid(law, max_N)\n",
    "    diag = [grid[i,i] / i for i in 1:max_N]\n",
    "    plot(1:max_N, diag, lw = 3, color = \"red\", legend=:bottomleft, xlabel = \"N\", label = \"empirical T(N,N)\")\n",
    "    hline!([γ], lw = 3, color = \"black\", label = \"theoretical limit\")\n",
    "end"
   ]
  },
  {
   "cell_type": "code",
   "execution_count": 196,
   "metadata": {},
   "outputs": [
    {
     "name": "stdout",
     "output_type": "stream",
     "text": [
      "Geometric, 0.1\n",
      "Geometric, 0.2\n",
      "Geometric, 0.3\n",
      "Geometric, 0.4\n",
      "Geometric, 0.5\n",
      "Geometric, 0.6\n",
      "Geometric, 0.7\n",
      "Geometric, 0.8\n",
      "Geometric, 0.9\n",
      "Exponential, 1\n",
      "Exponential, 2\n",
      "Exponential, 3\n",
      "Exponential, 4\n",
      "Exponential, 5\n",
      "Exponential, 6\n",
      "Exponential, 7\n",
      "Exponential, 8\n",
      "Exponential, 9\n",
      "Exponential, 10\n"
     ]
    }
   ],
   "source": [
    "RANGE_N = 10:10:100\n",
    "max_N = maximum(RANGE_N)\n",
    "RANGE_q = 0.1*(1:9)\n",
    "RANGE_λ = 1:10\n",
    "NB_EXAMPLES = 300\n",
    "\n",
    "d = Dict(vcat((\"Geometric\",Dict([(q, Dict([(N, Float64[]) for N in RANGE_N])) for q in RANGE_q])), (\"Exponential\",Dict([(λ, Dict([(N, Float64[]) for N in RANGE_N])) for λ in RANGE_λ]))))\n",
    "\n",
    "for q in RANGE_q\n",
    "    println(\"Geometric, \", q)\n",
    "    law = Geometric(q)\n",
    "    res = Float64[]\n",
    "    for i in 1:NB_EXAMPLES\n",
    "        grid = get_grid(law, max_N)\n",
    "        for N in RANGE_N\n",
    "            append!(d[\"Geometric\"][q][N], grid[N, N])\n",
    "        end\n",
    "    end\n",
    "end\n",
    "\n",
    "for λ in RANGE_λ\n",
    "    println(\"Exponential, \", λ)\n",
    "    law = Exponential(λ)\n",
    "    res = Float64[]\n",
    "    for i in 1:NB_EXAMPLES\n",
    "        grid = get_grid(law, max_N)\n",
    "        for N in RANGE_N\n",
    "            append!(d[\"Exponential\"][λ][N], grid[N, N])\n",
    "        end\n",
    "    end\n",
    "end"
   ]
  },
  {
   "cell_type": "code",
   "execution_count": 197,
   "metadata": {},
   "outputs": [
    {
     "data": {
      "application/vnd.webio.node+json": {
       "children": [
        {
         "children": [
          {
           "children": [
            {
             "children": [
              {
               "children": [
                {
                 "children": [
                  "N"
                 ],
                 "instanceArgs": {
                  "namespace": "html",
                  "tag": "label"
                 },
                 "nodeType": "DOM",
                 "props": {
                  "className": "interact ",
                  "style": {
                   "padding": "5px 10px 0px 10px"
                  }
                 },
                 "type": "node"
                }
               ],
               "instanceArgs": {
                "namespace": "html",
                "tag": "div"
               },
               "nodeType": "DOM",
               "props": {
                "className": "interact-flex-row-left"
               },
               "type": "node"
              },
              {
               "children": [
                {
                 "children": [],
                 "instanceArgs": {
                  "namespace": "html",
                  "tag": "input"
                 },
                 "nodeType": "DOM",
                 "props": {
                  "attributes": {
                   "data-bind": "numericValue: index, valueUpdate: 'input', event: {change: function (){this.changes(this.changes()+1)}}",
                   "orient": "horizontal",
                   "type": "range"
                  },
                  "className": "slider slider is-fullwidth",
                  "max": 10,
                  "min": 1,
                  "step": 1,
                  "style": {}
                 },
                 "type": "node"
                }
               ],
               "instanceArgs": {
                "namespace": "html",
                "tag": "div"
               },
               "nodeType": "DOM",
               "props": {
                "className": "interact-flex-row-center"
               },
               "type": "node"
              },
              {
               "children": [
                {
                 "children": [],
                 "instanceArgs": {
                  "namespace": "html",
                  "tag": "p"
                 },
                 "nodeType": "DOM",
                 "props": {
                  "attributes": {
                   "data-bind": "text: formatted_val"
                  }
                 },
                 "type": "node"
                }
               ],
               "instanceArgs": {
                "namespace": "html",
                "tag": "div"
               },
               "nodeType": "DOM",
               "props": {
                "className": "interact-flex-row-right"
               },
               "type": "node"
              }
             ],
             "instanceArgs": {
              "namespace": "html",
              "tag": "div"
             },
             "nodeType": "DOM",
             "props": {
              "className": "interact-flex-row interact-widget"
             },
             "type": "node"
            }
           ],
           "instanceArgs": {
            "handlers": {
             "changes": [
              "(function (val){return (val!=this.model[\"changes\"]()) ? (this.valueFromJulia[\"changes\"]=true, this.model[\"changes\"](val)) : undefined})"
             ],
             "index": [
              "(function (val){return (val!=this.model[\"index\"]()) ? (this.valueFromJulia[\"index\"]=true, this.model[\"index\"](val)) : undefined})"
             ]
            },
            "id": "16827103425311065201",
            "imports": {
             "data": [
              {
               "name": "knockout",
               "type": "js",
               "url": "/assetserver/254160226b58162a42111ea27214076747de1cf2-knockout.js"
              },
              {
               "name": "knockout_punches",
               "type": "js",
               "url": "/assetserver/2d0bf510fb683322318163f3ec7562806e4b1104-knockout_punches.js"
              },
              {
               "name": null,
               "type": "js",
               "url": "/assetserver/6ffcdda43c684da84d2ca5dd2027e4a55c68edac-all.js"
              },
              {
               "name": null,
               "type": "css",
               "url": "/assetserver/b0b44adaed1197b8510174b41f32f09d98a0c28e-style.css"
              },
              {
               "name": null,
               "type": "css",
               "url": "/assetserver/bbb2e3064bd5f6dfcf2f18fbeb52d9320f251632-bulma_confined.min.css"
              }
             ],
             "type": "async_block"
            },
            "mount_callbacks": [
             "function () {\n    var handler = (function (ko, koPunches) {\n    ko.punches.enableAll();\n    ko.bindingHandlers.numericValue = {\n        init: function(element, valueAccessor, allBindings, data, context) {\n            var stringified = ko.observable(ko.unwrap(valueAccessor()));\n            stringified.subscribe(function(value) {\n                var val = parseFloat(value);\n                if (!isNaN(val)) {\n                    valueAccessor()(val);\n                }\n            });\n            valueAccessor().subscribe(function(value) {\n                var str = JSON.stringify(value);\n                if ((str == \"0\") && ([\"-0\", \"-0.\"].indexOf(stringified()) >= 0))\n                     return;\n                 if ([\"null\", \"\"].indexOf(str) >= 0)\n                     return;\n                stringified(str);\n            });\n            ko.applyBindingsToNode(\n                element,\n                {\n                    value: stringified,\n                    valueUpdate: allBindings.get('valueUpdate'),\n                },\n                context,\n            );\n        }\n    };\n    var json_data = {\"formatted_vals\":[\"10\",\"20\",\"30\",\"40\",\"50\",\"60\",\"70\",\"80\",\"90\",\"100\"],\"changes\":WebIO.getval({\"name\":\"changes\",\"scope\":\"16827103425311065201\",\"id\":\"ob_517\",\"type\":\"observable\"}),\"index\":WebIO.getval({\"name\":\"index\",\"scope\":\"16827103425311065201\",\"id\":\"ob_516\",\"type\":\"observable\"})};\n    var self = this;\n    function AppViewModel() {\n        for (var key in json_data) {\n            var el = json_data[key];\n            this[key] = Array.isArray(el) ? ko.observableArray(el) : ko.observable(el);\n        }\n        \n        [this[\"formatted_val\"]=ko.computed(    function(){\n        return this.formatted_vals()[parseInt(this.index())-(1)];\n    }\n,this)]\n        [this[\"changes\"].subscribe((function (val){!(this.valueFromJulia[\"changes\"]) ? (WebIO.setval({\"name\":\"changes\",\"scope\":\"16827103425311065201\",\"id\":\"ob_517\",\"type\":\"observable\"},val)) : undefined; return this.valueFromJulia[\"changes\"]=false}),self),this[\"index\"].subscribe((function (val){!(this.valueFromJulia[\"index\"]) ? (WebIO.setval({\"name\":\"index\",\"scope\":\"16827103425311065201\",\"id\":\"ob_516\",\"type\":\"observable\"},val)) : undefined; return this.valueFromJulia[\"index\"]=false}),self)]\n        \n    }\n    self.model = new AppViewModel();\n    self.valueFromJulia = {};\n    for (var key in json_data) {\n        self.valueFromJulia[key] = false;\n    }\n    ko.applyBindings(self.model, self.dom);\n}\n);\n    (WebIO.importBlock({\"data\":[{\"name\":\"knockout\",\"type\":\"js\",\"url\":\"/assetserver/254160226b58162a42111ea27214076747de1cf2-knockout.js\"},{\"name\":\"knockout_punches\",\"type\":\"js\",\"url\":\"/assetserver/2d0bf510fb683322318163f3ec7562806e4b1104-knockout_punches.js\"}],\"type\":\"async_block\"})).then((imports) => handler.apply(this, imports));\n}\n"
            ],
            "observables": {
             "changes": {
              "id": "ob_517",
              "sync": false,
              "value": 0
             },
             "index": {
              "id": "ob_516",
              "sync": true,
              "value": 5
             }
            },
            "systemjs_options": null
           },
           "nodeType": "Scope",
           "props": {},
           "type": "node"
          }
         ],
         "instanceArgs": {
          "namespace": "html",
          "tag": "div"
         },
         "nodeType": "DOM",
         "props": {
          "className": "field interact-widget"
         },
         "type": "node"
        },
        {
         "children": [
          {
           "children": [
            {
             "children": [
              {
               "children": [
                {
                 "children": [
                  "law_name"
                 ],
                 "instanceArgs": {
                  "namespace": "html",
                  "tag": "label"
                 },
                 "nodeType": "DOM",
                 "props": {
                  "className": "interact ",
                  "style": {
                   "padding": "5px 10px 0px 10px"
                  }
                 },
                 "type": "node"
                }
               ],
               "instanceArgs": {
                "namespace": "html",
                "tag": "div"
               },
               "nodeType": "DOM",
               "props": {
                "className": "interact-flex-row-left"
               },
               "type": "node"
              },
              {
               "children": [
                {
                 "children": [
                  {
                   "children": [
                    {
                     "children": [],
                     "instanceArgs": {
                      "namespace": "html",
                      "tag": "label"
                     },
                     "nodeType": "DOM",
                     "props": {
                      "attributes": {
                       "data-bind": "text : key"
                      }
                     },
                     "type": "node"
                    }
                   ],
                   "instanceArgs": {
                    "namespace": "html",
                    "tag": "span"
                   },
                   "nodeType": "DOM",
                   "props": {
                    "attributes": {
                     "data-bind": "click: function (){$root.update(val)}, css: {'is-primary is-selected' : $root.index() == val, 'interact-widget is-medium button ' : true}"
                    }
                   },
                   "type": "node"
                  }
                 ],
                 "instanceArgs": {
                  "namespace": "html",
                  "tag": "div"
                 },
                 "nodeType": "DOM",
                 "props": {
                  "attributes": {
                   "data-bind": "foreach : options_js"
                  },
                  "className": "buttons has-addons is-centered"
                 },
                 "type": "node"
                }
               ],
               "instanceArgs": {
                "namespace": "html",
                "tag": "div"
               },
               "nodeType": "DOM",
               "props": {
                "className": "interact-flex-row-center"
               },
               "type": "node"
              },
              {
               "children": [
                {
                 "children": [],
                 "instanceArgs": {
                  "namespace": "html",
                  "tag": "div"
                 },
                 "nodeType": "DOM",
                 "props": {},
                 "type": "node"
                }
               ],
               "instanceArgs": {
                "namespace": "html",
                "tag": "div"
               },
               "nodeType": "DOM",
               "props": {
                "className": "interact-flex-row-right"
               },
               "type": "node"
              }
             ],
             "instanceArgs": {
              "namespace": "html",
              "tag": "div"
             },
             "nodeType": "DOM",
             "props": {
              "className": "interact-flex-row interact-widget"
             },
             "type": "node"
            }
           ],
           "instanceArgs": {
            "handlers": {
             "index": [
              "(function (val){return (val!=this.model[\"index\"]()) ? (this.valueFromJulia[\"index\"]=true, this.model[\"index\"](val)) : undefined})"
             ],
             "options_js": [
              "(function (val){return (val!=this.model[\"options_js\"]()) ? (this.valueFromJulia[\"options_js\"]=true, this.model[\"options_js\"](val)) : undefined})"
             ]
            },
            "id": "84324617763087244",
            "imports": {
             "data": [
              {
               "name": "knockout",
               "type": "js",
               "url": "/assetserver/254160226b58162a42111ea27214076747de1cf2-knockout.js"
              },
              {
               "name": "knockout_punches",
               "type": "js",
               "url": "/assetserver/2d0bf510fb683322318163f3ec7562806e4b1104-knockout_punches.js"
              },
              {
               "name": null,
               "type": "js",
               "url": "/assetserver/6ffcdda43c684da84d2ca5dd2027e4a55c68edac-all.js"
              },
              {
               "name": null,
               "type": "css",
               "url": "/assetserver/b0b44adaed1197b8510174b41f32f09d98a0c28e-style.css"
              },
              {
               "name": null,
               "type": "css",
               "url": "/assetserver/bbb2e3064bd5f6dfcf2f18fbeb52d9320f251632-bulma_confined.min.css"
              }
             ],
             "type": "async_block"
            },
            "mount_callbacks": [
             "function () {\n    var handler = (function (ko, koPunches) {\n    ko.punches.enableAll();\n    ko.bindingHandlers.numericValue = {\n        init: function(element, valueAccessor, allBindings, data, context) {\n            var stringified = ko.observable(ko.unwrap(valueAccessor()));\n            stringified.subscribe(function(value) {\n                var val = parseFloat(value);\n                if (!isNaN(val)) {\n                    valueAccessor()(val);\n                }\n            });\n            valueAccessor().subscribe(function(value) {\n                var str = JSON.stringify(value);\n                if ((str == \"0\") && ([\"-0\", \"-0.\"].indexOf(stringified()) >= 0))\n                     return;\n                 if ([\"null\", \"\"].indexOf(str) >= 0)\n                     return;\n                stringified(str);\n            });\n            ko.applyBindingsToNode(\n                element,\n                {\n                    value: stringified,\n                    valueUpdate: allBindings.get('valueUpdate'),\n                },\n                context,\n            );\n        }\n    };\n    var json_data = {\"options_js\":WebIO.getval({\"name\":\"options_js\",\"scope\":\"84324617763087244\",\"id\":\"ob_522\",\"type\":\"observable\"}),\"index\":WebIO.getval({\"name\":\"index\",\"scope\":\"84324617763087244\",\"id\":\"ob_521\",\"type\":\"observable\"})};\n    var self = this;\n    function AppViewModel() {\n        for (var key in json_data) {\n            var el = json_data[key];\n            this[key] = Array.isArray(el) ? ko.observableArray(el) : ko.observable(el);\n        }\n        [this[\"update\"]=function (val) {this.index(val)}]\n        \n        [this[\"options_js\"].subscribe((function (val){!(this.valueFromJulia[\"options_js\"]) ? (WebIO.setval({\"name\":\"options_js\",\"scope\":\"84324617763087244\",\"id\":\"ob_522\",\"type\":\"observable\"},val)) : undefined; return this.valueFromJulia[\"options_js\"]=false}),self),this[\"index\"].subscribe((function (val){!(this.valueFromJulia[\"index\"]) ? (WebIO.setval({\"name\":\"index\",\"scope\":\"84324617763087244\",\"id\":\"ob_521\",\"type\":\"observable\"},val)) : undefined; return this.valueFromJulia[\"index\"]=false}),self)]\n        \n    }\n    self.model = new AppViewModel();\n    self.valueFromJulia = {};\n    for (var key in json_data) {\n        self.valueFromJulia[key] = false;\n    }\n    ko.applyBindings(self.model, self.dom);\n}\n);\n    (WebIO.importBlock({\"data\":[{\"name\":\"knockout\",\"type\":\"js\",\"url\":\"/assetserver/254160226b58162a42111ea27214076747de1cf2-knockout.js\"},{\"name\":\"knockout_punches\",\"type\":\"js\",\"url\":\"/assetserver/2d0bf510fb683322318163f3ec7562806e4b1104-knockout_punches.js\"}],\"type\":\"async_block\"})).then((imports) => handler.apply(this, imports));\n}\n"
            ],
            "observables": {
             "index": {
              "id": "ob_521",
              "sync": true,
              "value": 1
             },
             "options_js": {
              "id": "ob_522",
              "sync": false,
              "value": [
               {
                "id": "id4BbYJ4LL",
                "key": "Geometric",
                "val": 1
               },
               {
                "id": "idOB3uzw1X",
                "key": "Exponential",
                "val": 2
               }
              ]
             }
            },
            "systemjs_options": null
           },
           "nodeType": "Scope",
           "props": {},
           "type": "node"
          }
         ],
         "instanceArgs": {
          "namespace": "html",
          "tag": "div"
         },
         "nodeType": "DOM",
         "props": {
          "className": "interact-widget"
         },
         "type": "node"
        },
        {
         "children": [
          {
           "children": [
            {
             "children": [
              {
               "children": [
                {
                 "children": [
                  "q"
                 ],
                 "instanceArgs": {
                  "namespace": "html",
                  "tag": "label"
                 },
                 "nodeType": "DOM",
                 "props": {
                  "className": "interact ",
                  "style": {
                   "padding": "5px 10px 0px 10px"
                  }
                 },
                 "type": "node"
                }
               ],
               "instanceArgs": {
                "namespace": "html",
                "tag": "div"
               },
               "nodeType": "DOM",
               "props": {
                "className": "interact-flex-row-left"
               },
               "type": "node"
              },
              {
               "children": [
                {
                 "children": [],
                 "instanceArgs": {
                  "namespace": "html",
                  "tag": "input"
                 },
                 "nodeType": "DOM",
                 "props": {
                  "attributes": {
                   "data-bind": "numericValue: index, valueUpdate: 'input', event: {change: function (){this.changes(this.changes()+1)}}",
                   "orient": "horizontal",
                   "type": "range"
                  },
                  "className": "slider slider is-fullwidth",
                  "max": 9,
                  "min": 1,
                  "step": 1,
                  "style": {}
                 },
                 "type": "node"
                }
               ],
               "instanceArgs": {
                "namespace": "html",
                "tag": "div"
               },
               "nodeType": "DOM",
               "props": {
                "className": "interact-flex-row-center"
               },
               "type": "node"
              },
              {
               "children": [
                {
                 "children": [],
                 "instanceArgs": {
                  "namespace": "html",
                  "tag": "p"
                 },
                 "nodeType": "DOM",
                 "props": {
                  "attributes": {
                   "data-bind": "text: formatted_val"
                  }
                 },
                 "type": "node"
                }
               ],
               "instanceArgs": {
                "namespace": "html",
                "tag": "div"
               },
               "nodeType": "DOM",
               "props": {
                "className": "interact-flex-row-right"
               },
               "type": "node"
              }
             ],
             "instanceArgs": {
              "namespace": "html",
              "tag": "div"
             },
             "nodeType": "DOM",
             "props": {
              "className": "interact-flex-row interact-widget"
             },
             "type": "node"
            }
           ],
           "instanceArgs": {
            "handlers": {
             "changes": [
              "(function (val){return (val!=this.model[\"changes\"]()) ? (this.valueFromJulia[\"changes\"]=true, this.model[\"changes\"](val)) : undefined})"
             ],
             "index": [
              "(function (val){return (val!=this.model[\"index\"]()) ? (this.valueFromJulia[\"index\"]=true, this.model[\"index\"](val)) : undefined})"
             ]
            },
            "id": "15579242857745661435",
            "imports": {
             "data": [
              {
               "name": "knockout",
               "type": "js",
               "url": "/assetserver/254160226b58162a42111ea27214076747de1cf2-knockout.js"
              },
              {
               "name": "knockout_punches",
               "type": "js",
               "url": "/assetserver/2d0bf510fb683322318163f3ec7562806e4b1104-knockout_punches.js"
              },
              {
               "name": null,
               "type": "js",
               "url": "/assetserver/6ffcdda43c684da84d2ca5dd2027e4a55c68edac-all.js"
              },
              {
               "name": null,
               "type": "css",
               "url": "/assetserver/b0b44adaed1197b8510174b41f32f09d98a0c28e-style.css"
              },
              {
               "name": null,
               "type": "css",
               "url": "/assetserver/bbb2e3064bd5f6dfcf2f18fbeb52d9320f251632-bulma_confined.min.css"
              }
             ],
             "type": "async_block"
            },
            "mount_callbacks": [
             "function () {\n    var handler = (function (ko, koPunches) {\n    ko.punches.enableAll();\n    ko.bindingHandlers.numericValue = {\n        init: function(element, valueAccessor, allBindings, data, context) {\n            var stringified = ko.observable(ko.unwrap(valueAccessor()));\n            stringified.subscribe(function(value) {\n                var val = parseFloat(value);\n                if (!isNaN(val)) {\n                    valueAccessor()(val);\n                }\n            });\n            valueAccessor().subscribe(function(value) {\n                var str = JSON.stringify(value);\n                if ((str == \"0\") && ([\"-0\", \"-0.\"].indexOf(stringified()) >= 0))\n                     return;\n                 if ([\"null\", \"\"].indexOf(str) >= 0)\n                     return;\n                stringified(str);\n            });\n            ko.applyBindingsToNode(\n                element,\n                {\n                    value: stringified,\n                    valueUpdate: allBindings.get('valueUpdate'),\n                },\n                context,\n            );\n        }\n    };\n    var json_data = {\"formatted_vals\":[\"0.1\",\"0.2\",\"0.3\",\"0.4\",\"0.5\",\"0.6\",\"0.7\",\"0.8\",\"0.9\"],\"changes\":WebIO.getval({\"name\":\"changes\",\"scope\":\"15579242857745661435\",\"id\":\"ob_525\",\"type\":\"observable\"}),\"index\":WebIO.getval({\"name\":\"index\",\"scope\":\"15579242857745661435\",\"id\":\"ob_524\",\"type\":\"observable\"})};\n    var self = this;\n    function AppViewModel() {\n        for (var key in json_data) {\n            var el = json_data[key];\n            this[key] = Array.isArray(el) ? ko.observableArray(el) : ko.observable(el);\n        }\n        \n        [this[\"formatted_val\"]=ko.computed(    function(){\n        return this.formatted_vals()[parseInt(this.index())-(1)];\n    }\n,this)]\n        [this[\"changes\"].subscribe((function (val){!(this.valueFromJulia[\"changes\"]) ? (WebIO.setval({\"name\":\"changes\",\"scope\":\"15579242857745661435\",\"id\":\"ob_525\",\"type\":\"observable\"},val)) : undefined; return this.valueFromJulia[\"changes\"]=false}),self),this[\"index\"].subscribe((function (val){!(this.valueFromJulia[\"index\"]) ? (WebIO.setval({\"name\":\"index\",\"scope\":\"15579242857745661435\",\"id\":\"ob_524\",\"type\":\"observable\"},val)) : undefined; return this.valueFromJulia[\"index\"]=false}),self)]\n        \n    }\n    self.model = new AppViewModel();\n    self.valueFromJulia = {};\n    for (var key in json_data) {\n        self.valueFromJulia[key] = false;\n    }\n    ko.applyBindings(self.model, self.dom);\n}\n);\n    (WebIO.importBlock({\"data\":[{\"name\":\"knockout\",\"type\":\"js\",\"url\":\"/assetserver/254160226b58162a42111ea27214076747de1cf2-knockout.js\"},{\"name\":\"knockout_punches\",\"type\":\"js\",\"url\":\"/assetserver/2d0bf510fb683322318163f3ec7562806e4b1104-knockout_punches.js\"}],\"type\":\"async_block\"})).then((imports) => handler.apply(this, imports));\n}\n"
            ],
            "observables": {
             "changes": {
              "id": "ob_525",
              "sync": false,
              "value": 0
             },
             "index": {
              "id": "ob_524",
              "sync": true,
              "value": 5
             }
            },
            "systemjs_options": null
           },
           "nodeType": "Scope",
           "props": {},
           "type": "node"
          }
         ],
         "instanceArgs": {
          "namespace": "html",
          "tag": "div"
         },
         "nodeType": "DOM",
         "props": {
          "className": "field interact-widget"
         },
         "type": "node"
        },
        {
         "children": [
          {
           "children": [
            {
             "children": [
              {
               "children": [
                {
                 "children": [
                  "λ"
                 ],
                 "instanceArgs": {
                  "namespace": "html",
                  "tag": "label"
                 },
                 "nodeType": "DOM",
                 "props": {
                  "className": "interact ",
                  "style": {
                   "padding": "5px 10px 0px 10px"
                  }
                 },
                 "type": "node"
                }
               ],
               "instanceArgs": {
                "namespace": "html",
                "tag": "div"
               },
               "nodeType": "DOM",
               "props": {
                "className": "interact-flex-row-left"
               },
               "type": "node"
              },
              {
               "children": [
                {
                 "children": [],
                 "instanceArgs": {
                  "namespace": "html",
                  "tag": "input"
                 },
                 "nodeType": "DOM",
                 "props": {
                  "attributes": {
                   "data-bind": "numericValue: index, valueUpdate: 'input', event: {change: function (){this.changes(this.changes()+1)}}",
                   "orient": "horizontal",
                   "type": "range"
                  },
                  "className": "slider slider is-fullwidth",
                  "max": 10,
                  "min": 1,
                  "step": 1,
                  "style": {}
                 },
                 "type": "node"
                }
               ],
               "instanceArgs": {
                "namespace": "html",
                "tag": "div"
               },
               "nodeType": "DOM",
               "props": {
                "className": "interact-flex-row-center"
               },
               "type": "node"
              },
              {
               "children": [
                {
                 "children": [],
                 "instanceArgs": {
                  "namespace": "html",
                  "tag": "p"
                 },
                 "nodeType": "DOM",
                 "props": {
                  "attributes": {
                   "data-bind": "text: formatted_val"
                  }
                 },
                 "type": "node"
                }
               ],
               "instanceArgs": {
                "namespace": "html",
                "tag": "div"
               },
               "nodeType": "DOM",
               "props": {
                "className": "interact-flex-row-right"
               },
               "type": "node"
              }
             ],
             "instanceArgs": {
              "namespace": "html",
              "tag": "div"
             },
             "nodeType": "DOM",
             "props": {
              "className": "interact-flex-row interact-widget"
             },
             "type": "node"
            }
           ],
           "instanceArgs": {
            "handlers": {
             "changes": [
              "(function (val){return (val!=this.model[\"changes\"]()) ? (this.valueFromJulia[\"changes\"]=true, this.model[\"changes\"](val)) : undefined})"
             ],
             "index": [
              "(function (val){return (val!=this.model[\"index\"]()) ? (this.valueFromJulia[\"index\"]=true, this.model[\"index\"](val)) : undefined})"
             ]
            },
            "id": "2936884827985194111",
            "imports": {
             "data": [
              {
               "name": "knockout",
               "type": "js",
               "url": "/assetserver/254160226b58162a42111ea27214076747de1cf2-knockout.js"
              },
              {
               "name": "knockout_punches",
               "type": "js",
               "url": "/assetserver/2d0bf510fb683322318163f3ec7562806e4b1104-knockout_punches.js"
              },
              {
               "name": null,
               "type": "js",
               "url": "/assetserver/6ffcdda43c684da84d2ca5dd2027e4a55c68edac-all.js"
              },
              {
               "name": null,
               "type": "css",
               "url": "/assetserver/b0b44adaed1197b8510174b41f32f09d98a0c28e-style.css"
              },
              {
               "name": null,
               "type": "css",
               "url": "/assetserver/bbb2e3064bd5f6dfcf2f18fbeb52d9320f251632-bulma_confined.min.css"
              }
             ],
             "type": "async_block"
            },
            "mount_callbacks": [
             "function () {\n    var handler = (function (ko, koPunches) {\n    ko.punches.enableAll();\n    ko.bindingHandlers.numericValue = {\n        init: function(element, valueAccessor, allBindings, data, context) {\n            var stringified = ko.observable(ko.unwrap(valueAccessor()));\n            stringified.subscribe(function(value) {\n                var val = parseFloat(value);\n                if (!isNaN(val)) {\n                    valueAccessor()(val);\n                }\n            });\n            valueAccessor().subscribe(function(value) {\n                var str = JSON.stringify(value);\n                if ((str == \"0\") && ([\"-0\", \"-0.\"].indexOf(stringified()) >= 0))\n                     return;\n                 if ([\"null\", \"\"].indexOf(str) >= 0)\n                     return;\n                stringified(str);\n            });\n            ko.applyBindingsToNode(\n                element,\n                {\n                    value: stringified,\n                    valueUpdate: allBindings.get('valueUpdate'),\n                },\n                context,\n            );\n        }\n    };\n    var json_data = {\"formatted_vals\":[\"1\",\"2\",\"3\",\"4\",\"5\",\"6\",\"7\",\"8\",\"9\",\"10\"],\"changes\":WebIO.getval({\"name\":\"changes\",\"scope\":\"2936884827985194111\",\"id\":\"ob_527\",\"type\":\"observable\"}),\"index\":WebIO.getval({\"name\":\"index\",\"scope\":\"2936884827985194111\",\"id\":\"ob_526\",\"type\":\"observable\"})};\n    var self = this;\n    function AppViewModel() {\n        for (var key in json_data) {\n            var el = json_data[key];\n            this[key] = Array.isArray(el) ? ko.observableArray(el) : ko.observable(el);\n        }\n        \n        [this[\"formatted_val\"]=ko.computed(    function(){\n        return this.formatted_vals()[parseInt(this.index())-(1)];\n    }\n,this)]\n        [this[\"changes\"].subscribe((function (val){!(this.valueFromJulia[\"changes\"]) ? (WebIO.setval({\"name\":\"changes\",\"scope\":\"2936884827985194111\",\"id\":\"ob_527\",\"type\":\"observable\"},val)) : undefined; return this.valueFromJulia[\"changes\"]=false}),self),this[\"index\"].subscribe((function (val){!(this.valueFromJulia[\"index\"]) ? (WebIO.setval({\"name\":\"index\",\"scope\":\"2936884827985194111\",\"id\":\"ob_526\",\"type\":\"observable\"},val)) : undefined; return this.valueFromJulia[\"index\"]=false}),self)]\n        \n    }\n    self.model = new AppViewModel();\n    self.valueFromJulia = {};\n    for (var key in json_data) {\n        self.valueFromJulia[key] = false;\n    }\n    ko.applyBindings(self.model, self.dom);\n}\n);\n    (WebIO.importBlock({\"data\":[{\"name\":\"knockout\",\"type\":\"js\",\"url\":\"/assetserver/254160226b58162a42111ea27214076747de1cf2-knockout.js\"},{\"name\":\"knockout_punches\",\"type\":\"js\",\"url\":\"/assetserver/2d0bf510fb683322318163f3ec7562806e4b1104-knockout_punches.js\"}],\"type\":\"async_block\"})).then((imports) => handler.apply(this, imports));\n}\n"
            ],
            "observables": {
             "changes": {
              "id": "ob_527",
              "sync": false,
              "value": 0
             },
             "index": {
              "id": "ob_526",
              "sync": true,
              "value": 5
             }
            },
            "systemjs_options": null
           },
           "nodeType": "Scope",
           "props": {},
           "type": "node"
          }
         ],
         "instanceArgs": {
          "namespace": "html",
          "tag": "div"
         },
         "nodeType": "DOM",
         "props": {
          "className": "field interact-widget"
         },
         "type": "node"
        },
        {
         "children": [
          {
           "children": [],
           "instanceArgs": {
            "id": "ob_533",
            "name": "obs-node"
           },
           "nodeType": "ObservableNode",
           "props": {},
           "type": "node"
          }
         ],
         "instanceArgs": {
          "handlers": {},
          "id": "3741257124632819826",
          "imports": {
           "data": [],
           "type": "async_block"
          },
          "mount_callbacks": [],
          "observables": {
           "obs-node": {
            "id": "ob_533",
            "sync": false,
            "value": {
             "children": [
              {
               "children": [],
               "instanceArgs": {
                "namespace": "html",
                "tag": "div"
               },
               "nodeType": "DOM",
               "props": {
                "setInnerHtml": "<?xml version=\"1.0\" encoding=\"utf-8\"?>\n<svg xmlns=\"http://www.w3.org/2000/svg\" xmlns:xlink=\"http://www.w3.org/1999/xlink\" width=\"600\" height=\"400\" viewBox=\"0 0 2400 1600\">\n<defs>\n  <clipPath id=\"clip2500\">\n    <rect x=\"0\" y=\"0\" width=\"2400\" height=\"1600\"/>\n  </clipPath>\n</defs>\n<path clip-path=\"url(#clip2500)\" d=\"\nM0 1600 L2400 1600 L2400 0 L0 0  Z\n  \" fill=\"#ffffff\" fill-rule=\"evenodd\" fill-opacity=\"1\"/>\n<defs>\n  <clipPath id=\"clip2501\">\n    <rect x=\"480\" y=\"0\" width=\"1681\" height=\"1600\"/>\n  </clipPath>\n</defs>\n<path clip-path=\"url(#clip2500)\" d=\"\nM153.898 1487.47 L2352.76 1487.47 L2352.76 47.2441 L153.898 47.2441  Z\n  \" fill=\"#ffffff\" fill-rule=\"evenodd\" fill-opacity=\"1\"/>\n<defs>\n  <clipPath id=\"clip2502\">\n    <rect x=\"153\" y=\"47\" width=\"2200\" height=\"1441\"/>\n  </clipPath>\n</defs>\n<polyline clip-path=\"url(#clip2502)\" style=\"stroke:#000000; stroke-width:2; stroke-opacity:0.1; fill:none\" points=\"\n  388.996,1487.47 388.996,47.2441 \n  \"/>\n<polyline clip-path=\"url(#clip2502)\" style=\"stroke:#000000; stroke-width:2; stroke-opacity:0.1; fill:none\" points=\"\n  821.161,1487.47 821.161,47.2441 \n  \"/>\n<polyline clip-path=\"url(#clip2502)\" style=\"stroke:#000000; stroke-width:2; stroke-opacity:0.1; fill:none\" points=\"\n  1253.33,1487.47 1253.33,47.2441 \n  \"/>\n<polyline clip-path=\"url(#clip2502)\" style=\"stroke:#000000; stroke-width:2; stroke-opacity:0.1; fill:none\" points=\"\n  1685.49,1487.47 1685.49,47.2441 \n  \"/>\n<polyline clip-path=\"url(#clip2502)\" style=\"stroke:#000000; stroke-width:2; stroke-opacity:0.1; fill:none\" points=\"\n  2117.66,1487.47 2117.66,47.2441 \n  \"/>\n<polyline clip-path=\"url(#clip2502)\" style=\"stroke:#000000; stroke-width:2; stroke-opacity:0.1; fill:none\" points=\"\n  153.898,1446.71 2352.76,1446.71 \n  \"/>\n<polyline clip-path=\"url(#clip2502)\" style=\"stroke:#000000; stroke-width:2; stroke-opacity:0.1; fill:none\" points=\"\n  153.898,1206.94 2352.76,1206.94 \n  \"/>\n<polyline clip-path=\"url(#clip2502)\" style=\"stroke:#000000; stroke-width:2; stroke-opacity:0.1; fill:none\" points=\"\n  153.898,967.169 2352.76,967.169 \n  \"/>\n<polyline clip-path=\"url(#clip2502)\" style=\"stroke:#000000; stroke-width:2; stroke-opacity:0.1; fill:none\" points=\"\n  153.898,727.397 2352.76,727.397 \n  \"/>\n<polyline clip-path=\"url(#clip2502)\" style=\"stroke:#000000; stroke-width:2; stroke-opacity:0.1; fill:none\" points=\"\n  153.898,487.625 2352.76,487.625 \n  \"/>\n<polyline clip-path=\"url(#clip2502)\" style=\"stroke:#000000; stroke-width:2; stroke-opacity:0.1; fill:none\" points=\"\n  153.898,247.853 2352.76,247.853 \n  \"/>\n<polyline clip-path=\"url(#clip2500)\" style=\"stroke:#000000; stroke-width:4; stroke-opacity:1; fill:none\" points=\"\n  153.898,1487.47 2352.76,1487.47 \n  \"/>\n<polyline clip-path=\"url(#clip2500)\" style=\"stroke:#000000; stroke-width:4; stroke-opacity:1; fill:none\" points=\"\n  153.898,1487.47 153.898,47.2441 \n  \"/>\n<polyline clip-path=\"url(#clip2500)\" style=\"stroke:#000000; stroke-width:4; stroke-opacity:1; fill:none\" points=\"\n  388.996,1487.47 388.996,1465.87 \n  \"/>\n<polyline clip-path=\"url(#clip2500)\" style=\"stroke:#000000; stroke-width:4; stroke-opacity:1; fill:none\" points=\"\n  821.161,1487.47 821.161,1465.87 \n  \"/>\n<polyline clip-path=\"url(#clip2500)\" style=\"stroke:#000000; stroke-width:4; stroke-opacity:1; fill:none\" points=\"\n  1253.33,1487.47 1253.33,1465.87 \n  \"/>\n<polyline clip-path=\"url(#clip2500)\" style=\"stroke:#000000; stroke-width:4; stroke-opacity:1; fill:none\" points=\"\n  1685.49,1487.47 1685.49,1465.87 \n  \"/>\n<polyline clip-path=\"url(#clip2500)\" style=\"stroke:#000000; stroke-width:4; stroke-opacity:1; fill:none\" points=\"\n  2117.66,1487.47 2117.66,1465.87 \n  \"/>\n<polyline clip-path=\"url(#clip2500)\" style=\"stroke:#000000; stroke-width:4; stroke-opacity:1; fill:none\" points=\"\n  153.898,1446.71 186.881,1446.71 \n  \"/>\n<polyline clip-path=\"url(#clip2500)\" style=\"stroke:#000000; stroke-width:4; stroke-opacity:1; fill:none\" points=\"\n  153.898,1206.94 186.881,1206.94 \n  \"/>\n<polyline clip-path=\"url(#clip2500)\" style=\"stroke:#000000; stroke-width:4; stroke-opacity:1; fill:none\" points=\"\n  153.898,967.169 186.881,967.169 \n  \"/>\n<polyline clip-path=\"url(#clip2500)\" style=\"stroke:#000000; stroke-width:4; stroke-opacity:1; fill:none\" points=\"\n  153.898,727.397 186.881,727.397 \n  \"/>\n<polyline clip-path=\"url(#clip2500)\" style=\"stroke:#000000; stroke-width:4; stroke-opacity:1; fill:none\" points=\"\n  153.898,487.625 186.881,487.625 \n  \"/>\n<polyline clip-path=\"url(#clip2500)\" style=\"stroke:#000000; stroke-width:4; stroke-opacity:1; fill:none\" points=\"\n  153.898,247.853 186.881,247.853 \n  \"/>\n<g clip-path=\"url(#clip2500)\">\n<text style=\"fill:#000000; fill-opacity:1; font-family:Arial,Helvetica Neue,Helvetica,sans-serif; font-size:48px; text-anchor:middle;\" transform=\"rotate(0, 388.996, 1541.47)\" x=\"388.996\" y=\"1541.47\">-5.0</text>\n</g>\n<g clip-path=\"url(#clip2500)\">\n<text style=\"fill:#000000; fill-opacity:1; font-family:Arial,Helvetica Neue,Helvetica,sans-serif; font-size:48px; text-anchor:middle;\" transform=\"rotate(0, 821.161, 1541.47)\" x=\"821.161\" y=\"1541.47\">-2.5</text>\n</g>\n<g clip-path=\"url(#clip2500)\">\n<text style=\"fill:#000000; fill-opacity:1; font-family:Arial,Helvetica Neue,Helvetica,sans-serif; font-size:48px; text-anchor:middle;\" transform=\"rotate(0, 1253.33, 1541.47)\" x=\"1253.33\" y=\"1541.47\">0.0</text>\n</g>\n<g clip-path=\"url(#clip2500)\">\n<text style=\"fill:#000000; fill-opacity:1; font-family:Arial,Helvetica Neue,Helvetica,sans-serif; font-size:48px; text-anchor:middle;\" transform=\"rotate(0, 1685.49, 1541.47)\" x=\"1685.49\" y=\"1541.47\">2.5</text>\n</g>\n<g clip-path=\"url(#clip2500)\">\n<text style=\"fill:#000000; fill-opacity:1; font-family:Arial,Helvetica Neue,Helvetica,sans-serif; font-size:48px; text-anchor:middle;\" transform=\"rotate(0, 2117.66, 1541.47)\" x=\"2117.66\" y=\"1541.47\">5.0</text>\n</g>\n<g clip-path=\"url(#clip2500)\">\n<text style=\"fill:#000000; fill-opacity:1; font-family:Arial,Helvetica Neue,Helvetica,sans-serif; font-size:48px; text-anchor:end;\" transform=\"rotate(0, 129.898, 1464.21)\" x=\"129.898\" y=\"1464.21\">0.0</text>\n</g>\n<g clip-path=\"url(#clip2500)\">\n<text style=\"fill:#000000; fill-opacity:1; font-family:Arial,Helvetica Neue,Helvetica,sans-serif; font-size:48px; text-anchor:end;\" transform=\"rotate(0, 129.898, 1224.44)\" x=\"129.898\" y=\"1224.44\">0.1</text>\n</g>\n<g clip-path=\"url(#clip2500)\">\n<text style=\"fill:#000000; fill-opacity:1; font-family:Arial,Helvetica Neue,Helvetica,sans-serif; font-size:48px; text-anchor:end;\" transform=\"rotate(0, 129.898, 984.669)\" x=\"129.898\" y=\"984.669\">0.2</text>\n</g>\n<g clip-path=\"url(#clip2500)\">\n<text style=\"fill:#000000; fill-opacity:1; font-family:Arial,Helvetica Neue,Helvetica,sans-serif; font-size:48px; text-anchor:end;\" transform=\"rotate(0, 129.898, 744.897)\" x=\"129.898\" y=\"744.897\">0.3</text>\n</g>\n<g clip-path=\"url(#clip2500)\">\n<text style=\"fill:#000000; fill-opacity:1; font-family:Arial,Helvetica Neue,Helvetica,sans-serif; font-size:48px; text-anchor:end;\" transform=\"rotate(0, 129.898, 505.125)\" x=\"129.898\" y=\"505.125\">0.4</text>\n</g>\n<g clip-path=\"url(#clip2500)\">\n<text style=\"fill:#000000; fill-opacity:1; font-family:Arial,Helvetica Neue,Helvetica,sans-serif; font-size:48px; text-anchor:end;\" transform=\"rotate(0, 129.898, 265.353)\" x=\"129.898\" y=\"265.353\">0.5</text>\n</g>\n<path clip-path=\"url(#clip2502)\" d=\"\nM388.996 1446.71 L388.996 1446.71 L423.569 1446.71 L423.569 1446.71 L388.996 1446.71 L388.996 1446.71  Z\n  \" fill=\"#009af9\" fill-rule=\"evenodd\" fill-opacity=\"1\"/>\n<polyline clip-path=\"url(#clip2502)\" style=\"stroke:#000000; stroke-width:4; stroke-opacity:1; fill:none\" points=\"\n  388.996,1446.71 388.996,1446.71 423.569,1446.71 388.996,1446.71 \n  \"/>\n<path clip-path=\"url(#clip2502)\" d=\"\nM423.569 1446.71 L423.569 1446.71 L458.142 1446.71 L458.142 1446.71 L423.569 1446.71 L423.569 1446.71  Z\n  \" fill=\"#009af9\" fill-rule=\"evenodd\" fill-opacity=\"1\"/>\n<polyline clip-path=\"url(#clip2502)\" style=\"stroke:#000000; stroke-width:4; stroke-opacity:1; fill:none\" points=\"\n  423.569,1446.71 423.569,1446.71 458.142,1446.71 423.569,1446.71 \n  \"/>\n<path clip-path=\"url(#clip2502)\" d=\"\nM458.142 1446.71 L458.142 1446.71 L492.716 1446.71 L492.716 1446.71 L458.142 1446.71 L458.142 1446.71  Z\n  \" fill=\"#009af9\" fill-rule=\"evenodd\" fill-opacity=\"1\"/>\n<polyline clip-path=\"url(#clip2502)\" style=\"stroke:#000000; stroke-width:4; stroke-opacity:1; fill:none\" points=\"\n  458.142,1446.71 458.142,1446.71 492.716,1446.71 458.142,1446.71 \n  \"/>\n<path clip-path=\"url(#clip2502)\" d=\"\nM492.716 1406.75 L492.716 1446.71 L527.289 1446.71 L527.289 1406.75 L492.716 1406.75 L492.716 1406.75  Z\n  \" fill=\"#009af9\" fill-rule=\"evenodd\" fill-opacity=\"1\"/>\n<polyline clip-path=\"url(#clip2502)\" style=\"stroke:#000000; stroke-width:4; stroke-opacity:1; fill:none\" points=\"\n  492.716,1406.75 492.716,1446.71 527.289,1446.71 527.289,1406.75 492.716,1406.75 \n  \"/>\n<path clip-path=\"url(#clip2502)\" d=\"\nM527.289 1446.71 L527.289 1446.71 L561.862 1446.71 L561.862 1446.71 L527.289 1446.71 L527.289 1446.71  Z\n  \" fill=\"#009af9\" fill-rule=\"evenodd\" fill-opacity=\"1\"/>\n<polyline clip-path=\"url(#clip2502)\" style=\"stroke:#000000; stroke-width:4; stroke-opacity:1; fill:none\" points=\"\n  527.289,1446.71 527.289,1446.71 561.862,1446.71 527.289,1446.71 \n  \"/>\n<path clip-path=\"url(#clip2502)\" d=\"\nM561.862 1446.71 L561.862 1446.71 L596.435 1446.71 L596.435 1446.71 L561.862 1446.71 L561.862 1446.71  Z\n  \" fill=\"#009af9\" fill-rule=\"evenodd\" fill-opacity=\"1\"/>\n<polyline clip-path=\"url(#clip2502)\" style=\"stroke:#000000; stroke-width:4; stroke-opacity:1; fill:none\" points=\"\n  561.862,1446.71 561.862,1446.71 596.435,1446.71 561.862,1446.71 \n  \"/>\n<path clip-path=\"url(#clip2502)\" d=\"\nM596.435 1366.79 L596.435 1446.71 L631.009 1446.71 L631.009 1366.79 L596.435 1366.79 L596.435 1366.79  Z\n  \" fill=\"#009af9\" fill-rule=\"evenodd\" fill-opacity=\"1\"/>\n<polyline clip-path=\"url(#clip2502)\" style=\"stroke:#000000; stroke-width:4; stroke-opacity:1; fill:none\" points=\"\n  596.435,1366.79 596.435,1446.71 631.009,1446.71 631.009,1366.79 596.435,1366.79 \n  \"/>\n<path clip-path=\"url(#clip2502)\" d=\"\nM631.009 1326.83 L631.009 1446.71 L665.582 1446.71 L665.582 1326.83 L631.009 1326.83 L631.009 1326.83  Z\n  \" fill=\"#009af9\" fill-rule=\"evenodd\" fill-opacity=\"1\"/>\n<polyline clip-path=\"url(#clip2502)\" style=\"stroke:#000000; stroke-width:4; stroke-opacity:1; fill:none\" points=\"\n  631.009,1326.83 631.009,1446.71 665.582,1446.71 665.582,1326.83 631.009,1326.83 \n  \"/>\n<path clip-path=\"url(#clip2502)\" d=\"\nM665.582 1206.94 L665.582 1446.71 L700.155 1446.71 L700.155 1206.94 L665.582 1206.94 L665.582 1206.94  Z\n  \" fill=\"#009af9\" fill-rule=\"evenodd\" fill-opacity=\"1\"/>\n<polyline clip-path=\"url(#clip2502)\" style=\"stroke:#000000; stroke-width:4; stroke-opacity:1; fill:none\" points=\"\n  665.582,1206.94 665.582,1446.71 700.155,1446.71 700.155,1206.94 665.582,1206.94 \n  \"/>\n<path clip-path=\"url(#clip2502)\" d=\"\nM700.155 1047.09 L700.155 1446.71 L734.728 1446.71 L734.728 1047.09 L700.155 1047.09 L700.155 1047.09  Z\n  \" fill=\"#009af9\" fill-rule=\"evenodd\" fill-opacity=\"1\"/>\n<polyline clip-path=\"url(#clip2502)\" style=\"stroke:#000000; stroke-width:4; stroke-opacity:1; fill:none\" points=\"\n  700.155,1047.09 700.155,1446.71 734.728,1446.71 734.728,1047.09 700.155,1047.09 \n  \"/>\n<path clip-path=\"url(#clip2502)\" d=\"\nM734.728 1206.94 L734.728 1446.71 L769.302 1446.71 L769.302 1206.94 L734.728 1206.94 L734.728 1206.94  Z\n  \" fill=\"#009af9\" fill-rule=\"evenodd\" fill-opacity=\"1\"/>\n<polyline clip-path=\"url(#clip2502)\" style=\"stroke:#000000; stroke-width:4; stroke-opacity:1; fill:none\" points=\"\n  734.728,1206.94 734.728,1446.71 769.302,1446.71 769.302,1206.94 734.728,1206.94 \n  \"/>\n<path clip-path=\"url(#clip2502)\" d=\"\nM769.302 567.549 L769.302 1446.71 L803.875 1446.71 L803.875 567.549 L769.302 567.549 L769.302 567.549  Z\n  \" fill=\"#009af9\" fill-rule=\"evenodd\" fill-opacity=\"1\"/>\n<polyline clip-path=\"url(#clip2502)\" style=\"stroke:#000000; stroke-width:4; stroke-opacity:1; fill:none\" points=\"\n  769.302,567.549 769.302,1446.71 803.875,1446.71 803.875,567.549 769.302,567.549 \n  \"/>\n<path clip-path=\"url(#clip2502)\" d=\"\nM803.875 527.587 L803.875 1446.71 L838.448 1446.71 L838.448 527.587 L803.875 527.587 L803.875 527.587  Z\n  \" fill=\"#009af9\" fill-rule=\"evenodd\" fill-opacity=\"1\"/>\n<polyline clip-path=\"url(#clip2502)\" style=\"stroke:#000000; stroke-width:4; stroke-opacity:1; fill:none\" points=\"\n  803.875,527.587 803.875,1446.71 838.448,1446.71 838.448,527.587 803.875,527.587 \n  \"/>\n<path clip-path=\"url(#clip2502)\" d=\"\nM838.448 647.473 L838.448 1446.71 L873.021 1446.71 L873.021 647.473 L838.448 647.473 L838.448 647.473  Z\n  \" fill=\"#009af9\" fill-rule=\"evenodd\" fill-opacity=\"1\"/>\n<polyline clip-path=\"url(#clip2502)\" style=\"stroke:#000000; stroke-width:4; stroke-opacity:1; fill:none\" points=\"\n  838.448,647.473 838.448,1446.71 873.021,1446.71 873.021,647.473 838.448,647.473 \n  \"/>\n<path clip-path=\"url(#clip2502)\" d=\"\nM873.021 327.777 L873.021 1446.71 L907.595 1446.71 L907.595 327.777 L873.021 327.777 L873.021 327.777  Z\n  \" fill=\"#009af9\" fill-rule=\"evenodd\" fill-opacity=\"1\"/>\n<polyline clip-path=\"url(#clip2502)\" style=\"stroke:#000000; stroke-width:4; stroke-opacity:1; fill:none\" points=\"\n  873.021,327.777 873.021,1446.71 907.595,1446.71 907.595,327.777 873.021,327.777 \n  \"/>\n<path clip-path=\"url(#clip2502)\" d=\"\nM907.595 327.777 L907.595 1446.71 L942.168 1446.71 L942.168 327.777 L907.595 327.777 L907.595 327.777  Z\n  \" fill=\"#009af9\" fill-rule=\"evenodd\" fill-opacity=\"1\"/>\n<polyline clip-path=\"url(#clip2502)\" style=\"stroke:#000000; stroke-width:4; stroke-opacity:1; fill:none\" points=\"\n  907.595,327.777 907.595,1446.71 942.168,1446.71 942.168,327.777 907.595,327.777 \n  \"/>\n<path clip-path=\"url(#clip2502)\" d=\"\nM942.168 607.511 L942.168 1446.71 L976.741 1446.71 L976.741 607.511 L942.168 607.511 L942.168 607.511  Z\n  \" fill=\"#009af9\" fill-rule=\"evenodd\" fill-opacity=\"1\"/>\n<polyline clip-path=\"url(#clip2502)\" style=\"stroke:#000000; stroke-width:4; stroke-opacity:1; fill:none\" points=\"\n  942.168,607.511 942.168,1446.71 976.741,1446.71 976.741,607.511 942.168,607.511 \n  \"/>\n<path clip-path=\"url(#clip2502)\" d=\"\nM976.741 88.0053 L976.741 1446.71 L1011.31 1446.71 L1011.31 88.0053 L976.741 88.0053 L976.741 88.0053  Z\n  \" fill=\"#009af9\" fill-rule=\"evenodd\" fill-opacity=\"1\"/>\n<polyline clip-path=\"url(#clip2502)\" style=\"stroke:#000000; stroke-width:4; stroke-opacity:1; fill:none\" points=\"\n  976.741,88.0053 976.741,1446.71 1011.31,1446.71 1011.31,88.0053 976.741,88.0053 \n  \"/>\n<path clip-path=\"url(#clip2502)\" d=\"\nM1011.31 527.587 L1011.31 1446.71 L1045.89 1446.71 L1045.89 527.587 L1011.31 527.587 L1011.31 527.587  Z\n  \" fill=\"#009af9\" fill-rule=\"evenodd\" fill-opacity=\"1\"/>\n<polyline clip-path=\"url(#clip2502)\" style=\"stroke:#000000; stroke-width:4; stroke-opacity:1; fill:none\" points=\"\n  1011.31,527.587 1011.31,1446.71 1045.89,1446.71 1045.89,527.587 1011.31,527.587 \n  \"/>\n<path clip-path=\"url(#clip2502)\" d=\"\nM1045.89 767.359 L1045.89 1446.71 L1080.46 1446.71 L1080.46 767.359 L1045.89 767.359 L1045.89 767.359  Z\n  \" fill=\"#009af9\" fill-rule=\"evenodd\" fill-opacity=\"1\"/>\n<polyline clip-path=\"url(#clip2502)\" style=\"stroke:#000000; stroke-width:4; stroke-opacity:1; fill:none\" points=\"\n  1045.89,767.359 1045.89,1446.71 1080.46,1446.71 1080.46,767.359 1045.89,767.359 \n  \"/>\n<path clip-path=\"url(#clip2502)\" d=\"\nM1080.46 967.169 L1080.46 1446.71 L1115.03 1446.71 L1115.03 967.169 L1080.46 967.169 L1080.46 967.169  Z\n  \" fill=\"#009af9\" fill-rule=\"evenodd\" fill-opacity=\"1\"/>\n<polyline clip-path=\"url(#clip2502)\" style=\"stroke:#000000; stroke-width:4; stroke-opacity:1; fill:none\" points=\"\n  1080.46,967.169 1080.46,1446.71 1115.03,1446.71 1115.03,967.169 1080.46,967.169 \n  \"/>\n<path clip-path=\"url(#clip2502)\" d=\"\nM1115.03 847.283 L1115.03 1446.71 L1149.61 1446.71 L1149.61 847.283 L1115.03 847.283 L1115.03 847.283  Z\n  \" fill=\"#009af9\" fill-rule=\"evenodd\" fill-opacity=\"1\"/>\n<polyline clip-path=\"url(#clip2502)\" style=\"stroke:#000000; stroke-width:4; stroke-opacity:1; fill:none\" points=\"\n  1115.03,847.283 1115.03,1446.71 1149.61,1446.71 1149.61,847.283 1115.03,847.283 \n  \"/>\n<path clip-path=\"url(#clip2502)\" d=\"\nM1149.61 1087.06 L1149.61 1446.71 L1184.18 1446.71 L1184.18 1087.06 L1149.61 1087.06 L1149.61 1087.06  Z\n  \" fill=\"#009af9\" fill-rule=\"evenodd\" fill-opacity=\"1\"/>\n<polyline clip-path=\"url(#clip2502)\" style=\"stroke:#000000; stroke-width:4; stroke-opacity:1; fill:none\" points=\"\n  1149.61,1087.06 1149.61,1446.71 1184.18,1446.71 1184.18,1087.06 1149.61,1087.06 \n  \"/>\n<path clip-path=\"url(#clip2502)\" d=\"\nM1184.18 1127.02 L1184.18 1446.71 L1218.75 1446.71 L1218.75 1127.02 L1184.18 1127.02 L1184.18 1127.02  Z\n  \" fill=\"#009af9\" fill-rule=\"evenodd\" fill-opacity=\"1\"/>\n<polyline clip-path=\"url(#clip2502)\" style=\"stroke:#000000; stroke-width:4; stroke-opacity:1; fill:none\" points=\"\n  1184.18,1127.02 1184.18,1446.71 1218.75,1446.71 1218.75,1127.02 1184.18,1127.02 \n  \"/>\n<path clip-path=\"url(#clip2502)\" d=\"\nM1218.75 1326.83 L1218.75 1446.71 L1253.33 1446.71 L1253.33 1326.83 L1218.75 1326.83 L1218.75 1326.83  Z\n  \" fill=\"#009af9\" fill-rule=\"evenodd\" fill-opacity=\"1\"/>\n<polyline clip-path=\"url(#clip2502)\" style=\"stroke:#000000; stroke-width:4; stroke-opacity:1; fill:none\" points=\"\n  1218.75,1326.83 1218.75,1446.71 1253.33,1446.71 1253.33,1326.83 1218.75,1326.83 \n  \"/>\n<path clip-path=\"url(#clip2502)\" d=\"\nM1253.33 1286.87 L1253.33 1446.71 L1287.9 1446.71 L1287.9 1286.87 L1253.33 1286.87 L1253.33 1286.87  Z\n  \" fill=\"#009af9\" fill-rule=\"evenodd\" fill-opacity=\"1\"/>\n<polyline clip-path=\"url(#clip2502)\" style=\"stroke:#000000; stroke-width:4; stroke-opacity:1; fill:none\" points=\"\n  1253.33,1286.87 1253.33,1446.71 1287.9,1446.71 1287.9,1286.87 1253.33,1286.87 \n  \"/>\n<path clip-path=\"url(#clip2502)\" d=\"\nM1287.9 1406.75 L1287.9 1446.71 L1322.47 1446.71 L1322.47 1406.75 L1287.9 1406.75 L1287.9 1406.75  Z\n  \" fill=\"#009af9\" fill-rule=\"evenodd\" fill-opacity=\"1\"/>\n<polyline clip-path=\"url(#clip2502)\" style=\"stroke:#000000; stroke-width:4; stroke-opacity:1; fill:none\" points=\"\n  1287.9,1406.75 1287.9,1446.71 1322.47,1446.71 1322.47,1406.75 1287.9,1406.75 \n  \"/>\n<path clip-path=\"url(#clip2502)\" d=\"\nM1322.47 1366.79 L1322.47 1446.71 L1357.05 1446.71 L1357.05 1366.79 L1322.47 1366.79 L1322.47 1366.79  Z\n  \" fill=\"#009af9\" fill-rule=\"evenodd\" fill-opacity=\"1\"/>\n<polyline clip-path=\"url(#clip2502)\" style=\"stroke:#000000; stroke-width:4; stroke-opacity:1; fill:none\" points=\"\n  1322.47,1366.79 1322.47,1446.71 1357.05,1446.71 1357.05,1366.79 1322.47,1366.79 \n  \"/>\n<path clip-path=\"url(#clip2502)\" d=\"\nM1357.05 1406.75 L1357.05 1446.71 L1391.62 1446.71 L1391.62 1406.75 L1357.05 1406.75 L1357.05 1406.75  Z\n  \" fill=\"#009af9\" fill-rule=\"evenodd\" fill-opacity=\"1\"/>\n<polyline clip-path=\"url(#clip2502)\" style=\"stroke:#000000; stroke-width:4; stroke-opacity:1; fill:none\" points=\"\n  1357.05,1406.75 1357.05,1446.71 1391.62,1446.71 1391.62,1406.75 1357.05,1406.75 \n  \"/>\n<path clip-path=\"url(#clip2502)\" d=\"\nM1391.62 1446.71 L1391.62 1446.71 L1426.19 1446.71 L1426.19 1446.71 L1391.62 1446.71 L1391.62 1446.71  Z\n  \" fill=\"#009af9\" fill-rule=\"evenodd\" fill-opacity=\"1\"/>\n<polyline clip-path=\"url(#clip2502)\" style=\"stroke:#000000; stroke-width:4; stroke-opacity:1; fill:none\" points=\"\n  1391.62,1446.71 1391.62,1446.71 1426.19,1446.71 1391.62,1446.71 \n  \"/>\n<path clip-path=\"url(#clip2502)\" d=\"\nM1426.19 1406.75 L1426.19 1446.71 L1460.77 1446.71 L1460.77 1406.75 L1426.19 1406.75 L1426.19 1406.75  Z\n  \" fill=\"#009af9\" fill-rule=\"evenodd\" fill-opacity=\"1\"/>\n<polyline clip-path=\"url(#clip2502)\" style=\"stroke:#000000; stroke-width:4; stroke-opacity:1; fill:none\" points=\"\n  1426.19,1406.75 1426.19,1446.71 1460.77,1446.71 1460.77,1406.75 1426.19,1406.75 \n  \"/>\n<path clip-path=\"url(#clip2502)\" d=\"\nM1460.77 1446.71 L1460.77 1446.71 L1495.34 1446.71 L1495.34 1446.71 L1460.77 1446.71 L1460.77 1446.71  Z\n  \" fill=\"#009af9\" fill-rule=\"evenodd\" fill-opacity=\"1\"/>\n<polyline clip-path=\"url(#clip2502)\" style=\"stroke:#000000; stroke-width:4; stroke-opacity:1; fill:none\" points=\"\n  1460.77,1446.71 1460.77,1446.71 1495.34,1446.71 1460.77,1446.71 \n  \"/>\n<path clip-path=\"url(#clip2502)\" d=\"\nM1495.34 1446.71 L1495.34 1446.71 L1529.91 1446.71 L1529.91 1446.71 L1495.34 1446.71 L1495.34 1446.71  Z\n  \" fill=\"#009af9\" fill-rule=\"evenodd\" fill-opacity=\"1\"/>\n<polyline clip-path=\"url(#clip2502)\" style=\"stroke:#000000; stroke-width:4; stroke-opacity:1; fill:none\" points=\"\n  1495.34,1446.71 1495.34,1446.71 1529.91,1446.71 1495.34,1446.71 \n  \"/>\n<path clip-path=\"url(#clip2502)\" d=\"\nM1529.91 1446.71 L1529.91 1446.71 L1564.49 1446.71 L1564.49 1446.71 L1529.91 1446.71 L1529.91 1446.71  Z\n  \" fill=\"#009af9\" fill-rule=\"evenodd\" fill-opacity=\"1\"/>\n<polyline clip-path=\"url(#clip2502)\" style=\"stroke:#000000; stroke-width:4; stroke-opacity:1; fill:none\" points=\"\n  1529.91,1446.71 1529.91,1446.71 1564.49,1446.71 1529.91,1446.71 \n  \"/>\n<path clip-path=\"url(#clip2502)\" d=\"\nM1564.49 1446.71 L1564.49 1446.71 L1599.06 1446.71 L1599.06 1446.71 L1564.49 1446.71 L1564.49 1446.71  Z\n  \" fill=\"#009af9\" fill-rule=\"evenodd\" fill-opacity=\"1\"/>\n<polyline clip-path=\"url(#clip2502)\" style=\"stroke:#000000; stroke-width:4; stroke-opacity:1; fill:none\" points=\"\n  1564.49,1446.71 1564.49,1446.71 1599.06,1446.71 1564.49,1446.71 \n  \"/>\n<path clip-path=\"url(#clip2502)\" d=\"\nM1599.06 1446.71 L1599.06 1446.71 L1633.63 1446.71 L1633.63 1446.71 L1599.06 1446.71 L1599.06 1446.71  Z\n  \" fill=\"#009af9\" fill-rule=\"evenodd\" fill-opacity=\"1\"/>\n<polyline clip-path=\"url(#clip2502)\" style=\"stroke:#000000; stroke-width:4; stroke-opacity:1; fill:none\" points=\"\n  1599.06,1446.71 1599.06,1446.71 1633.63,1446.71 1599.06,1446.71 \n  \"/>\n<path clip-path=\"url(#clip2502)\" d=\"\nM1633.63 1446.71 L1633.63 1446.71 L1668.21 1446.71 L1668.21 1446.71 L1633.63 1446.71 L1633.63 1446.71  Z\n  \" fill=\"#009af9\" fill-rule=\"evenodd\" fill-opacity=\"1\"/>\n<polyline clip-path=\"url(#clip2502)\" style=\"stroke:#000000; stroke-width:4; stroke-opacity:1; fill:none\" points=\"\n  1633.63,1446.71 1633.63,1446.71 1668.21,1446.71 1633.63,1446.71 \n  \"/>\n<polyline clip-path=\"url(#clip2502)\" style=\"stroke:#ff0000; stroke-width:12; stroke-opacity:1; fill:none\" points=\"\n  216.13,1446.71 233.416,1446.71 250.703,1446.71 267.99,1446.71 285.276,1446.71 302.563,1446.7 319.85,1446.69 337.136,1446.66 354.423,1446.61 371.709,1446.53 \n  388.996,1446.37 406.283,1446.11 423.569,1445.68 440.856,1444.97 458.142,1443.85 475.429,1442.12 492.716,1439.52 510.002,1435.68 527.289,1430.17 544.576,1422.44 \n  561.862,1411.85 579.149,1397.68 596.435,1379.15 613.722,1355.47 631.009,1325.87 648.295,1289.71 665.582,1246.51 682.869,1196.07 700.155,1138.47 717.442,1074.21 \n  734.728,1004.18 752.015,929.675 769.302,852.372 786.588,774.273 803.875,697.605 821.161,624.709 838.448,557.912 855.735,499.393 873.021,451.064 890.308,414.457 \n  907.595,390.649 924.881,380.211 942.168,383.194 959.454,399.148 976.741,427.172 994.028,465.983 1011.31,514.01 1028.6,569.487 1045.89,630.554 1063.17,695.348 \n  1080.46,762.087 1097.75,829.136 1115.03,895.054 1132.32,958.63 1149.61,1018.9 1166.89,1075.13 1184.18,1126.83 1201.47,1173.73 1218.75,1215.73 1236.04,1252.89 \n  1253.33,1285.39 1270.61,1313.51 1287.9,1337.59 1305.19,1357.99 1322.47,1375.12 1339.76,1389.37 1357.05,1401.11 1374.33,1410.7 1391.62,1418.48 1408.91,1424.72 \n  1426.19,1429.7 1443.48,1433.64 1460.77,1436.73 1478.05,1439.14 1495.34,1441 1512.63,1442.43 1529.91,1443.53 1547.2,1444.35 1564.49,1444.98 1581.77,1445.44 \n  1599.06,1445.79 1616.35,1446.05 1633.63,1446.23 1650.92,1446.37 1668.21,1446.47 1685.49,1446.54 1702.78,1446.59 1720.07,1446.63 1737.35,1446.65 1754.64,1446.67 \n  1771.93,1446.69 1789.21,1446.69 1806.5,1446.7 1823.79,1446.7 1841.07,1446.71 1858.36,1446.71 1875.65,1446.71 1892.93,1446.71 1910.22,1446.71 1927.51,1446.71 \n  1944.79,1446.71 1962.08,1446.71 1979.36,1446.71 1996.65,1446.71 2013.94,1446.71 2031.22,1446.71 2048.51,1446.71 2065.8,1446.71 2083.08,1446.71 2100.37,1446.71 \n  2117.66,1446.71 2134.94,1446.71 2152.23,1446.71 2169.52,1446.71 2186.8,1446.71 2204.09,1446.71 2221.38,1446.71 2238.66,1446.71 2255.95,1446.71 2273.24,1446.71 \n  2290.52,1446.71 \n  \"/>\n<path clip-path=\"url(#clip2500)\" d=\"\nM1632.92 312.204 L2280.76 312.204 L2280.76 130.764 L1632.92 130.764  Z\n  \" fill=\"#ffffff\" fill-rule=\"evenodd\" fill-opacity=\"1\"/>\n<polyline clip-path=\"url(#clip2500)\" style=\"stroke:#000000; stroke-width:4; stroke-opacity:1; fill:none\" points=\"\n  1632.92,312.204 2280.76,312.204 2280.76,130.764 1632.92,130.764 1632.92,312.204 \n  \"/>\n<path clip-path=\"url(#clip2500)\" d=\"\nM1656.92 215.436 L1800.92 215.436 L1800.92 167.052 L1656.92 167.052 L1656.92 215.436  Z\n  \" fill=\"#009af9\" fill-rule=\"evenodd\" fill-opacity=\"1\"/>\n<polyline clip-path=\"url(#clip2500)\" style=\"stroke:#000000; stroke-width:4; stroke-opacity:1; fill:none\" points=\"\n  1656.92,215.436 1800.92,215.436 1800.92,167.052 1656.92,167.052 1656.92,215.436 \n  \"/>\n<g clip-path=\"url(#clip2500)\">\n<text style=\"fill:#000000; fill-opacity:1; font-family:Arial,Helvetica Neue,Helvetica,sans-serif; font-size:48px; text-anchor:start;\" transform=\"rotate(0, 1824.92, 208.744)\" x=\"1824.92\" y=\"208.744\">y1</text>\n</g>\n<polyline clip-path=\"url(#clip2500)\" style=\"stroke:#ff0000; stroke-width:12; stroke-opacity:1; fill:none\" points=\"\n  1656.92,251.724 1800.92,251.724 \n  \"/>\n<g clip-path=\"url(#clip2500)\">\n<text style=\"fill:#000000; fill-opacity:1; font-family:Arial,Helvetica Neue,Helvetica,sans-serif; font-size:48px; text-anchor:start;\" transform=\"rotate(0, 1824.92, 269.224)\" x=\"1824.92\" y=\"269.224\">Tracy-Widom PDF</text>\n</g>\n</svg>\n"
               },
               "type": "node"
              }
             ],
             "instanceArgs": {
              "namespace": "html",
              "tag": "div"
             },
             "nodeType": "DOM",
             "props": {
              "className": "interact-flex-row interact-widget"
             },
             "type": "node"
            }
           }
          },
          "systemjs_options": null
         },
         "nodeType": "Scope",
         "props": {},
         "type": "node"
        }
       ],
       "instanceArgs": {
        "namespace": "html",
        "tag": "div"
       },
       "nodeType": "DOM",
       "props": {},
       "type": "node"
      },
      "text/html": [
       "<div\n",
       "    class=\"webio-mountpoint\"\n",
       "    data-webio-mountpoint=\"775127380593320292\"\n",
       ">\n",
       "    <script>\n",
       "    if (window.require && require.defined && require.defined(\"nbextensions/webio-jupyter-notebook\")) {\n",
       "        console.log(\"Jupyter WebIO extension detected, not mounting.\");\n",
       "    } else if (window.WebIO) {\n",
       "        WebIO.mount(\n",
       "            document.querySelector('[data-webio-mountpoint=\"775127380593320292\"]'),\n",
       "            {\"props\":{},\"nodeType\":\"DOM\",\"type\":\"node\",\"instanceArgs\":{\"namespace\":\"html\",\"tag\":\"div\"},\"children\":[{\"props\":{\"className\":\"field interact-widget\"},\"nodeType\":\"DOM\",\"type\":\"node\",\"instanceArgs\":{\"namespace\":\"html\",\"tag\":\"div\"},\"children\":[{\"props\":{},\"nodeType\":\"Scope\",\"type\":\"node\",\"instanceArgs\":{\"imports\":{\"data\":[{\"name\":\"knockout\",\"type\":\"js\",\"url\":\"\\/assetserver\\/254160226b58162a42111ea27214076747de1cf2-knockout.js\"},{\"name\":\"knockout_punches\",\"type\":\"js\",\"url\":\"\\/assetserver\\/2d0bf510fb683322318163f3ec7562806e4b1104-knockout_punches.js\"},{\"name\":null,\"type\":\"js\",\"url\":\"\\/assetserver\\/6ffcdda43c684da84d2ca5dd2027e4a55c68edac-all.js\"},{\"name\":null,\"type\":\"css\",\"url\":\"\\/assetserver\\/b0b44adaed1197b8510174b41f32f09d98a0c28e-style.css\"},{\"name\":null,\"type\":\"css\",\"url\":\"\\/assetserver\\/bbb2e3064bd5f6dfcf2f18fbeb52d9320f251632-bulma_confined.min.css\"}],\"type\":\"async_block\"},\"id\":\"16827103425311065201\",\"handlers\":{\"changes\":[\"(function (val){return (val!=this.model[\\\"changes\\\"]()) ? (this.valueFromJulia[\\\"changes\\\"]=true, this.model[\\\"changes\\\"](val)) : undefined})\"],\"index\":[\"(function (val){return (val!=this.model[\\\"index\\\"]()) ? (this.valueFromJulia[\\\"index\\\"]=true, this.model[\\\"index\\\"](val)) : undefined})\"]},\"systemjs_options\":null,\"mount_callbacks\":[\"function () {\\n    var handler = (function (ko, koPunches) {\\n    ko.punches.enableAll();\\n    ko.bindingHandlers.numericValue = {\\n        init: function(element, valueAccessor, allBindings, data, context) {\\n            var stringified = ko.observable(ko.unwrap(valueAccessor()));\\n            stringified.subscribe(function(value) {\\n                var val = parseFloat(value);\\n                if (!isNaN(val)) {\\n                    valueAccessor()(val);\\n                }\\n            });\\n            valueAccessor().subscribe(function(value) {\\n                var str = JSON.stringify(value);\\n                if ((str == \\\"0\\\") && ([\\\"-0\\\", \\\"-0.\\\"].indexOf(stringified()) >= 0))\\n                     return;\\n                 if ([\\\"null\\\", \\\"\\\"].indexOf(str) >= 0)\\n                     return;\\n                stringified(str);\\n            });\\n            ko.applyBindingsToNode(\\n                element,\\n                {\\n                    value: stringified,\\n                    valueUpdate: allBindings.get('valueUpdate'),\\n                },\\n                context,\\n            );\\n        }\\n    };\\n    var json_data = {\\\"formatted_vals\\\":[\\\"10\\\",\\\"20\\\",\\\"30\\\",\\\"40\\\",\\\"50\\\",\\\"60\\\",\\\"70\\\",\\\"80\\\",\\\"90\\\",\\\"100\\\"],\\\"changes\\\":WebIO.getval({\\\"name\\\":\\\"changes\\\",\\\"scope\\\":\\\"16827103425311065201\\\",\\\"id\\\":\\\"ob_517\\\",\\\"type\\\":\\\"observable\\\"}),\\\"index\\\":WebIO.getval({\\\"name\\\":\\\"index\\\",\\\"scope\\\":\\\"16827103425311065201\\\",\\\"id\\\":\\\"ob_516\\\",\\\"type\\\":\\\"observable\\\"})};\\n    var self = this;\\n    function AppViewModel() {\\n        for (var key in json_data) {\\n            var el = json_data[key];\\n            this[key] = Array.isArray(el) ? ko.observableArray(el) : ko.observable(el);\\n        }\\n        \\n        [this[\\\"formatted_val\\\"]=ko.computed(    function(){\\n        return this.formatted_vals()[parseInt(this.index())-(1)];\\n    }\\n,this)]\\n        [this[\\\"changes\\\"].subscribe((function (val){!(this.valueFromJulia[\\\"changes\\\"]) ? (WebIO.setval({\\\"name\\\":\\\"changes\\\",\\\"scope\\\":\\\"16827103425311065201\\\",\\\"id\\\":\\\"ob_517\\\",\\\"type\\\":\\\"observable\\\"},val)) : undefined; return this.valueFromJulia[\\\"changes\\\"]=false}),self),this[\\\"index\\\"].subscribe((function (val){!(this.valueFromJulia[\\\"index\\\"]) ? (WebIO.setval({\\\"name\\\":\\\"index\\\",\\\"scope\\\":\\\"16827103425311065201\\\",\\\"id\\\":\\\"ob_516\\\",\\\"type\\\":\\\"observable\\\"},val)) : undefined; return this.valueFromJulia[\\\"index\\\"]=false}),self)]\\n        \\n    }\\n    self.model = new AppViewModel();\\n    self.valueFromJulia = {};\\n    for (var key in json_data) {\\n        self.valueFromJulia[key] = false;\\n    }\\n    ko.applyBindings(self.model, self.dom);\\n}\\n);\\n    (WebIO.importBlock({\\\"data\\\":[{\\\"name\\\":\\\"knockout\\\",\\\"type\\\":\\\"js\\\",\\\"url\\\":\\\"\\/assetserver\\/254160226b58162a42111ea27214076747de1cf2-knockout.js\\\"},{\\\"name\\\":\\\"knockout_punches\\\",\\\"type\\\":\\\"js\\\",\\\"url\\\":\\\"\\/assetserver\\/2d0bf510fb683322318163f3ec7562806e4b1104-knockout_punches.js\\\"}],\\\"type\\\":\\\"async_block\\\"})).then((imports) => handler.apply(this, imports));\\n}\\n\"],\"observables\":{\"changes\":{\"sync\":false,\"id\":\"ob_517\",\"value\":0},\"index\":{\"sync\":true,\"id\":\"ob_516\",\"value\":5}}},\"children\":[{\"props\":{\"className\":\"interact-flex-row interact-widget\"},\"nodeType\":\"DOM\",\"type\":\"node\",\"instanceArgs\":{\"namespace\":\"html\",\"tag\":\"div\"},\"children\":[{\"props\":{\"className\":\"interact-flex-row-left\"},\"nodeType\":\"DOM\",\"type\":\"node\",\"instanceArgs\":{\"namespace\":\"html\",\"tag\":\"div\"},\"children\":[{\"props\":{\"className\":\"interact \",\"style\":{\"padding\":\"5px 10px 0px 10px\"}},\"nodeType\":\"DOM\",\"type\":\"node\",\"instanceArgs\":{\"namespace\":\"html\",\"tag\":\"label\"},\"children\":[\"N\"]}]},{\"props\":{\"className\":\"interact-flex-row-center\"},\"nodeType\":\"DOM\",\"type\":\"node\",\"instanceArgs\":{\"namespace\":\"html\",\"tag\":\"div\"},\"children\":[{\"props\":{\"max\":10,\"min\":1,\"attributes\":{\"type\":\"range\",\"data-bind\":\"numericValue: index, valueUpdate: 'input', event: {change: function (){this.changes(this.changes()+1)}}\",\"orient\":\"horizontal\"},\"step\":1,\"className\":\"slider slider is-fullwidth\",\"style\":{}},\"nodeType\":\"DOM\",\"type\":\"node\",\"instanceArgs\":{\"namespace\":\"html\",\"tag\":\"input\"},\"children\":[]}]},{\"props\":{\"className\":\"interact-flex-row-right\"},\"nodeType\":\"DOM\",\"type\":\"node\",\"instanceArgs\":{\"namespace\":\"html\",\"tag\":\"div\"},\"children\":[{\"props\":{\"attributes\":{\"data-bind\":\"text: formatted_val\"}},\"nodeType\":\"DOM\",\"type\":\"node\",\"instanceArgs\":{\"namespace\":\"html\",\"tag\":\"p\"},\"children\":[]}]}]}]}]},{\"props\":{\"className\":\"interact-widget\"},\"nodeType\":\"DOM\",\"type\":\"node\",\"instanceArgs\":{\"namespace\":\"html\",\"tag\":\"div\"},\"children\":[{\"props\":{},\"nodeType\":\"Scope\",\"type\":\"node\",\"instanceArgs\":{\"imports\":{\"data\":[{\"name\":\"knockout\",\"type\":\"js\",\"url\":\"\\/assetserver\\/254160226b58162a42111ea27214076747de1cf2-knockout.js\"},{\"name\":\"knockout_punches\",\"type\":\"js\",\"url\":\"\\/assetserver\\/2d0bf510fb683322318163f3ec7562806e4b1104-knockout_punches.js\"},{\"name\":null,\"type\":\"js\",\"url\":\"\\/assetserver\\/6ffcdda43c684da84d2ca5dd2027e4a55c68edac-all.js\"},{\"name\":null,\"type\":\"css\",\"url\":\"\\/assetserver\\/b0b44adaed1197b8510174b41f32f09d98a0c28e-style.css\"},{\"name\":null,\"type\":\"css\",\"url\":\"\\/assetserver\\/bbb2e3064bd5f6dfcf2f18fbeb52d9320f251632-bulma_confined.min.css\"}],\"type\":\"async_block\"},\"id\":\"84324617763087244\",\"handlers\":{\"options_js\":[\"(function (val){return (val!=this.model[\\\"options_js\\\"]()) ? (this.valueFromJulia[\\\"options_js\\\"]=true, this.model[\\\"options_js\\\"](val)) : undefined})\"],\"index\":[\"(function (val){return (val!=this.model[\\\"index\\\"]()) ? (this.valueFromJulia[\\\"index\\\"]=true, this.model[\\\"index\\\"](val)) : undefined})\"]},\"systemjs_options\":null,\"mount_callbacks\":[\"function () {\\n    var handler = (function (ko, koPunches) {\\n    ko.punches.enableAll();\\n    ko.bindingHandlers.numericValue = {\\n        init: function(element, valueAccessor, allBindings, data, context) {\\n            var stringified = ko.observable(ko.unwrap(valueAccessor()));\\n            stringified.subscribe(function(value) {\\n                var val = parseFloat(value);\\n                if (!isNaN(val)) {\\n                    valueAccessor()(val);\\n                }\\n            });\\n            valueAccessor().subscribe(function(value) {\\n                var str = JSON.stringify(value);\\n                if ((str == \\\"0\\\") && ([\\\"-0\\\", \\\"-0.\\\"].indexOf(stringified()) >= 0))\\n                     return;\\n                 if ([\\\"null\\\", \\\"\\\"].indexOf(str) >= 0)\\n                     return;\\n                stringified(str);\\n            });\\n            ko.applyBindingsToNode(\\n                element,\\n                {\\n                    value: stringified,\\n                    valueUpdate: allBindings.get('valueUpdate'),\\n                },\\n                context,\\n            );\\n        }\\n    };\\n    var json_data = {\\\"options_js\\\":WebIO.getval({\\\"name\\\":\\\"options_js\\\",\\\"scope\\\":\\\"84324617763087244\\\",\\\"id\\\":\\\"ob_522\\\",\\\"type\\\":\\\"observable\\\"}),\\\"index\\\":WebIO.getval({\\\"name\\\":\\\"index\\\",\\\"scope\\\":\\\"84324617763087244\\\",\\\"id\\\":\\\"ob_521\\\",\\\"type\\\":\\\"observable\\\"})};\\n    var self = this;\\n    function AppViewModel() {\\n        for (var key in json_data) {\\n            var el = json_data[key];\\n            this[key] = Array.isArray(el) ? ko.observableArray(el) : ko.observable(el);\\n        }\\n        [this[\\\"update\\\"]=function (val) {this.index(val)}]\\n        \\n        [this[\\\"options_js\\\"].subscribe((function (val){!(this.valueFromJulia[\\\"options_js\\\"]) ? (WebIO.setval({\\\"name\\\":\\\"options_js\\\",\\\"scope\\\":\\\"84324617763087244\\\",\\\"id\\\":\\\"ob_522\\\",\\\"type\\\":\\\"observable\\\"},val)) : undefined; return this.valueFromJulia[\\\"options_js\\\"]=false}),self),this[\\\"index\\\"].subscribe((function (val){!(this.valueFromJulia[\\\"index\\\"]) ? (WebIO.setval({\\\"name\\\":\\\"index\\\",\\\"scope\\\":\\\"84324617763087244\\\",\\\"id\\\":\\\"ob_521\\\",\\\"type\\\":\\\"observable\\\"},val)) : undefined; return this.valueFromJulia[\\\"index\\\"]=false}),self)]\\n        \\n    }\\n    self.model = new AppViewModel();\\n    self.valueFromJulia = {};\\n    for (var key in json_data) {\\n        self.valueFromJulia[key] = false;\\n    }\\n    ko.applyBindings(self.model, self.dom);\\n}\\n);\\n    (WebIO.importBlock({\\\"data\\\":[{\\\"name\\\":\\\"knockout\\\",\\\"type\\\":\\\"js\\\",\\\"url\\\":\\\"\\/assetserver\\/254160226b58162a42111ea27214076747de1cf2-knockout.js\\\"},{\\\"name\\\":\\\"knockout_punches\\\",\\\"type\\\":\\\"js\\\",\\\"url\\\":\\\"\\/assetserver\\/2d0bf510fb683322318163f3ec7562806e4b1104-knockout_punches.js\\\"}],\\\"type\\\":\\\"async_block\\\"})).then((imports) => handler.apply(this, imports));\\n}\\n\"],\"observables\":{\"options_js\":{\"sync\":false,\"id\":\"ob_522\",\"value\":[{\"key\":\"Geometric\",\"val\":1,\"id\":\"id4BbYJ4LL\"},{\"key\":\"Exponential\",\"val\":2,\"id\":\"idOB3uzw1X\"}]},\"index\":{\"sync\":true,\"id\":\"ob_521\",\"value\":1}}},\"children\":[{\"props\":{\"className\":\"interact-flex-row interact-widget\"},\"nodeType\":\"DOM\",\"type\":\"node\",\"instanceArgs\":{\"namespace\":\"html\",\"tag\":\"div\"},\"children\":[{\"props\":{\"className\":\"interact-flex-row-left\"},\"nodeType\":\"DOM\",\"type\":\"node\",\"instanceArgs\":{\"namespace\":\"html\",\"tag\":\"div\"},\"children\":[{\"props\":{\"className\":\"interact \",\"style\":{\"padding\":\"5px 10px 0px 10px\"}},\"nodeType\":\"DOM\",\"type\":\"node\",\"instanceArgs\":{\"namespace\":\"html\",\"tag\":\"label\"},\"children\":[\"law_name\"]}]},{\"props\":{\"className\":\"interact-flex-row-center\"},\"nodeType\":\"DOM\",\"type\":\"node\",\"instanceArgs\":{\"namespace\":\"html\",\"tag\":\"div\"},\"children\":[{\"props\":{\"attributes\":{\"data-bind\":\"foreach : options_js\"},\"className\":\"buttons has-addons is-centered\"},\"nodeType\":\"DOM\",\"type\":\"node\",\"instanceArgs\":{\"namespace\":\"html\",\"tag\":\"div\"},\"children\":[{\"props\":{\"attributes\":{\"data-bind\":\"click: function (){$root.update(val)}, css: {'is-primary is-selected' : $root.index() == val, 'interact-widget is-medium button ' : true}\"}},\"nodeType\":\"DOM\",\"type\":\"node\",\"instanceArgs\":{\"namespace\":\"html\",\"tag\":\"span\"},\"children\":[{\"props\":{\"attributes\":{\"data-bind\":\"text : key\"}},\"nodeType\":\"DOM\",\"type\":\"node\",\"instanceArgs\":{\"namespace\":\"html\",\"tag\":\"label\"},\"children\":[]}]}]}]},{\"props\":{\"className\":\"interact-flex-row-right\"},\"nodeType\":\"DOM\",\"type\":\"node\",\"instanceArgs\":{\"namespace\":\"html\",\"tag\":\"div\"},\"children\":[{\"props\":{},\"nodeType\":\"DOM\",\"type\":\"node\",\"instanceArgs\":{\"namespace\":\"html\",\"tag\":\"div\"},\"children\":[]}]}]}]}]},{\"props\":{\"className\":\"field interact-widget\"},\"nodeType\":\"DOM\",\"type\":\"node\",\"instanceArgs\":{\"namespace\":\"html\",\"tag\":\"div\"},\"children\":[{\"props\":{},\"nodeType\":\"Scope\",\"type\":\"node\",\"instanceArgs\":{\"imports\":{\"data\":[{\"name\":\"knockout\",\"type\":\"js\",\"url\":\"\\/assetserver\\/254160226b58162a42111ea27214076747de1cf2-knockout.js\"},{\"name\":\"knockout_punches\",\"type\":\"js\",\"url\":\"\\/assetserver\\/2d0bf510fb683322318163f3ec7562806e4b1104-knockout_punches.js\"},{\"name\":null,\"type\":\"js\",\"url\":\"\\/assetserver\\/6ffcdda43c684da84d2ca5dd2027e4a55c68edac-all.js\"},{\"name\":null,\"type\":\"css\",\"url\":\"\\/assetserver\\/b0b44adaed1197b8510174b41f32f09d98a0c28e-style.css\"},{\"name\":null,\"type\":\"css\",\"url\":\"\\/assetserver\\/bbb2e3064bd5f6dfcf2f18fbeb52d9320f251632-bulma_confined.min.css\"}],\"type\":\"async_block\"},\"id\":\"15579242857745661435\",\"handlers\":{\"changes\":[\"(function (val){return (val!=this.model[\\\"changes\\\"]()) ? (this.valueFromJulia[\\\"changes\\\"]=true, this.model[\\\"changes\\\"](val)) : undefined})\"],\"index\":[\"(function (val){return (val!=this.model[\\\"index\\\"]()) ? (this.valueFromJulia[\\\"index\\\"]=true, this.model[\\\"index\\\"](val)) : undefined})\"]},\"systemjs_options\":null,\"mount_callbacks\":[\"function () {\\n    var handler = (function (ko, koPunches) {\\n    ko.punches.enableAll();\\n    ko.bindingHandlers.numericValue = {\\n        init: function(element, valueAccessor, allBindings, data, context) {\\n            var stringified = ko.observable(ko.unwrap(valueAccessor()));\\n            stringified.subscribe(function(value) {\\n                var val = parseFloat(value);\\n                if (!isNaN(val)) {\\n                    valueAccessor()(val);\\n                }\\n            });\\n            valueAccessor().subscribe(function(value) {\\n                var str = JSON.stringify(value);\\n                if ((str == \\\"0\\\") && ([\\\"-0\\\", \\\"-0.\\\"].indexOf(stringified()) >= 0))\\n                     return;\\n                 if ([\\\"null\\\", \\\"\\\"].indexOf(str) >= 0)\\n                     return;\\n                stringified(str);\\n            });\\n            ko.applyBindingsToNode(\\n                element,\\n                {\\n                    value: stringified,\\n                    valueUpdate: allBindings.get('valueUpdate'),\\n                },\\n                context,\\n            );\\n        }\\n    };\\n    var json_data = {\\\"formatted_vals\\\":[\\\"0.1\\\",\\\"0.2\\\",\\\"0.3\\\",\\\"0.4\\\",\\\"0.5\\\",\\\"0.6\\\",\\\"0.7\\\",\\\"0.8\\\",\\\"0.9\\\"],\\\"changes\\\":WebIO.getval({\\\"name\\\":\\\"changes\\\",\\\"scope\\\":\\\"15579242857745661435\\\",\\\"id\\\":\\\"ob_525\\\",\\\"type\\\":\\\"observable\\\"}),\\\"index\\\":WebIO.getval({\\\"name\\\":\\\"index\\\",\\\"scope\\\":\\\"15579242857745661435\\\",\\\"id\\\":\\\"ob_524\\\",\\\"type\\\":\\\"observable\\\"})};\\n    var self = this;\\n    function AppViewModel() {\\n        for (var key in json_data) {\\n            var el = json_data[key];\\n            this[key] = Array.isArray(el) ? ko.observableArray(el) : ko.observable(el);\\n        }\\n        \\n        [this[\\\"formatted_val\\\"]=ko.computed(    function(){\\n        return this.formatted_vals()[parseInt(this.index())-(1)];\\n    }\\n,this)]\\n        [this[\\\"changes\\\"].subscribe((function (val){!(this.valueFromJulia[\\\"changes\\\"]) ? (WebIO.setval({\\\"name\\\":\\\"changes\\\",\\\"scope\\\":\\\"15579242857745661435\\\",\\\"id\\\":\\\"ob_525\\\",\\\"type\\\":\\\"observable\\\"},val)) : undefined; return this.valueFromJulia[\\\"changes\\\"]=false}),self),this[\\\"index\\\"].subscribe((function (val){!(this.valueFromJulia[\\\"index\\\"]) ? (WebIO.setval({\\\"name\\\":\\\"index\\\",\\\"scope\\\":\\\"15579242857745661435\\\",\\\"id\\\":\\\"ob_524\\\",\\\"type\\\":\\\"observable\\\"},val)) : undefined; return this.valueFromJulia[\\\"index\\\"]=false}),self)]\\n        \\n    }\\n    self.model = new AppViewModel();\\n    self.valueFromJulia = {};\\n    for (var key in json_data) {\\n        self.valueFromJulia[key] = false;\\n    }\\n    ko.applyBindings(self.model, self.dom);\\n}\\n);\\n    (WebIO.importBlock({\\\"data\\\":[{\\\"name\\\":\\\"knockout\\\",\\\"type\\\":\\\"js\\\",\\\"url\\\":\\\"\\/assetserver\\/254160226b58162a42111ea27214076747de1cf2-knockout.js\\\"},{\\\"name\\\":\\\"knockout_punches\\\",\\\"type\\\":\\\"js\\\",\\\"url\\\":\\\"\\/assetserver\\/2d0bf510fb683322318163f3ec7562806e4b1104-knockout_punches.js\\\"}],\\\"type\\\":\\\"async_block\\\"})).then((imports) => handler.apply(this, imports));\\n}\\n\"],\"observables\":{\"changes\":{\"sync\":false,\"id\":\"ob_525\",\"value\":0},\"index\":{\"sync\":true,\"id\":\"ob_524\",\"value\":5}}},\"children\":[{\"props\":{\"className\":\"interact-flex-row interact-widget\"},\"nodeType\":\"DOM\",\"type\":\"node\",\"instanceArgs\":{\"namespace\":\"html\",\"tag\":\"div\"},\"children\":[{\"props\":{\"className\":\"interact-flex-row-left\"},\"nodeType\":\"DOM\",\"type\":\"node\",\"instanceArgs\":{\"namespace\":\"html\",\"tag\":\"div\"},\"children\":[{\"props\":{\"className\":\"interact \",\"style\":{\"padding\":\"5px 10px 0px 10px\"}},\"nodeType\":\"DOM\",\"type\":\"node\",\"instanceArgs\":{\"namespace\":\"html\",\"tag\":\"label\"},\"children\":[\"q\"]}]},{\"props\":{\"className\":\"interact-flex-row-center\"},\"nodeType\":\"DOM\",\"type\":\"node\",\"instanceArgs\":{\"namespace\":\"html\",\"tag\":\"div\"},\"children\":[{\"props\":{\"max\":9,\"min\":1,\"attributes\":{\"type\":\"range\",\"data-bind\":\"numericValue: index, valueUpdate: 'input', event: {change: function (){this.changes(this.changes()+1)}}\",\"orient\":\"horizontal\"},\"step\":1,\"className\":\"slider slider is-fullwidth\",\"style\":{}},\"nodeType\":\"DOM\",\"type\":\"node\",\"instanceArgs\":{\"namespace\":\"html\",\"tag\":\"input\"},\"children\":[]}]},{\"props\":{\"className\":\"interact-flex-row-right\"},\"nodeType\":\"DOM\",\"type\":\"node\",\"instanceArgs\":{\"namespace\":\"html\",\"tag\":\"div\"},\"children\":[{\"props\":{\"attributes\":{\"data-bind\":\"text: formatted_val\"}},\"nodeType\":\"DOM\",\"type\":\"node\",\"instanceArgs\":{\"namespace\":\"html\",\"tag\":\"p\"},\"children\":[]}]}]}]}]},{\"props\":{\"className\":\"field interact-widget\"},\"nodeType\":\"DOM\",\"type\":\"node\",\"instanceArgs\":{\"namespace\":\"html\",\"tag\":\"div\"},\"children\":[{\"props\":{},\"nodeType\":\"Scope\",\"type\":\"node\",\"instanceArgs\":{\"imports\":{\"data\":[{\"name\":\"knockout\",\"type\":\"js\",\"url\":\"\\/assetserver\\/254160226b58162a42111ea27214076747de1cf2-knockout.js\"},{\"name\":\"knockout_punches\",\"type\":\"js\",\"url\":\"\\/assetserver\\/2d0bf510fb683322318163f3ec7562806e4b1104-knockout_punches.js\"},{\"name\":null,\"type\":\"js\",\"url\":\"\\/assetserver\\/6ffcdda43c684da84d2ca5dd2027e4a55c68edac-all.js\"},{\"name\":null,\"type\":\"css\",\"url\":\"\\/assetserver\\/b0b44adaed1197b8510174b41f32f09d98a0c28e-style.css\"},{\"name\":null,\"type\":\"css\",\"url\":\"\\/assetserver\\/bbb2e3064bd5f6dfcf2f18fbeb52d9320f251632-bulma_confined.min.css\"}],\"type\":\"async_block\"},\"id\":\"2936884827985194111\",\"handlers\":{\"changes\":[\"(function (val){return (val!=this.model[\\\"changes\\\"]()) ? (this.valueFromJulia[\\\"changes\\\"]=true, this.model[\\\"changes\\\"](val)) : undefined})\"],\"index\":[\"(function (val){return (val!=this.model[\\\"index\\\"]()) ? (this.valueFromJulia[\\\"index\\\"]=true, this.model[\\\"index\\\"](val)) : undefined})\"]},\"systemjs_options\":null,\"mount_callbacks\":[\"function () {\\n    var handler = (function (ko, koPunches) {\\n    ko.punches.enableAll();\\n    ko.bindingHandlers.numericValue = {\\n        init: function(element, valueAccessor, allBindings, data, context) {\\n            var stringified = ko.observable(ko.unwrap(valueAccessor()));\\n            stringified.subscribe(function(value) {\\n                var val = parseFloat(value);\\n                if (!isNaN(val)) {\\n                    valueAccessor()(val);\\n                }\\n            });\\n            valueAccessor().subscribe(function(value) {\\n                var str = JSON.stringify(value);\\n                if ((str == \\\"0\\\") && ([\\\"-0\\\", \\\"-0.\\\"].indexOf(stringified()) >= 0))\\n                     return;\\n                 if ([\\\"null\\\", \\\"\\\"].indexOf(str) >= 0)\\n                     return;\\n                stringified(str);\\n            });\\n            ko.applyBindingsToNode(\\n                element,\\n                {\\n                    value: stringified,\\n                    valueUpdate: allBindings.get('valueUpdate'),\\n                },\\n                context,\\n            );\\n        }\\n    };\\n    var json_data = {\\\"formatted_vals\\\":[\\\"1\\\",\\\"2\\\",\\\"3\\\",\\\"4\\\",\\\"5\\\",\\\"6\\\",\\\"7\\\",\\\"8\\\",\\\"9\\\",\\\"10\\\"],\\\"changes\\\":WebIO.getval({\\\"name\\\":\\\"changes\\\",\\\"scope\\\":\\\"2936884827985194111\\\",\\\"id\\\":\\\"ob_527\\\",\\\"type\\\":\\\"observable\\\"}),\\\"index\\\":WebIO.getval({\\\"name\\\":\\\"index\\\",\\\"scope\\\":\\\"2936884827985194111\\\",\\\"id\\\":\\\"ob_526\\\",\\\"type\\\":\\\"observable\\\"})};\\n    var self = this;\\n    function AppViewModel() {\\n        for (var key in json_data) {\\n            var el = json_data[key];\\n            this[key] = Array.isArray(el) ? ko.observableArray(el) : ko.observable(el);\\n        }\\n        \\n        [this[\\\"formatted_val\\\"]=ko.computed(    function(){\\n        return this.formatted_vals()[parseInt(this.index())-(1)];\\n    }\\n,this)]\\n        [this[\\\"changes\\\"].subscribe((function (val){!(this.valueFromJulia[\\\"changes\\\"]) ? (WebIO.setval({\\\"name\\\":\\\"changes\\\",\\\"scope\\\":\\\"2936884827985194111\\\",\\\"id\\\":\\\"ob_527\\\",\\\"type\\\":\\\"observable\\\"},val)) : undefined; return this.valueFromJulia[\\\"changes\\\"]=false}),self),this[\\\"index\\\"].subscribe((function (val){!(this.valueFromJulia[\\\"index\\\"]) ? (WebIO.setval({\\\"name\\\":\\\"index\\\",\\\"scope\\\":\\\"2936884827985194111\\\",\\\"id\\\":\\\"ob_526\\\",\\\"type\\\":\\\"observable\\\"},val)) : undefined; return this.valueFromJulia[\\\"index\\\"]=false}),self)]\\n        \\n    }\\n    self.model = new AppViewModel();\\n    self.valueFromJulia = {};\\n    for (var key in json_data) {\\n        self.valueFromJulia[key] = false;\\n    }\\n    ko.applyBindings(self.model, self.dom);\\n}\\n);\\n    (WebIO.importBlock({\\\"data\\\":[{\\\"name\\\":\\\"knockout\\\",\\\"type\\\":\\\"js\\\",\\\"url\\\":\\\"\\/assetserver\\/254160226b58162a42111ea27214076747de1cf2-knockout.js\\\"},{\\\"name\\\":\\\"knockout_punches\\\",\\\"type\\\":\\\"js\\\",\\\"url\\\":\\\"\\/assetserver\\/2d0bf510fb683322318163f3ec7562806e4b1104-knockout_punches.js\\\"}],\\\"type\\\":\\\"async_block\\\"})).then((imports) => handler.apply(this, imports));\\n}\\n\"],\"observables\":{\"changes\":{\"sync\":false,\"id\":\"ob_527\",\"value\":0},\"index\":{\"sync\":true,\"id\":\"ob_526\",\"value\":5}}},\"children\":[{\"props\":{\"className\":\"interact-flex-row interact-widget\"},\"nodeType\":\"DOM\",\"type\":\"node\",\"instanceArgs\":{\"namespace\":\"html\",\"tag\":\"div\"},\"children\":[{\"props\":{\"className\":\"interact-flex-row-left\"},\"nodeType\":\"DOM\",\"type\":\"node\",\"instanceArgs\":{\"namespace\":\"html\",\"tag\":\"div\"},\"children\":[{\"props\":{\"className\":\"interact \",\"style\":{\"padding\":\"5px 10px 0px 10px\"}},\"nodeType\":\"DOM\",\"type\":\"node\",\"instanceArgs\":{\"namespace\":\"html\",\"tag\":\"label\"},\"children\":[\"λ\"]}]},{\"props\":{\"className\":\"interact-flex-row-center\"},\"nodeType\":\"DOM\",\"type\":\"node\",\"instanceArgs\":{\"namespace\":\"html\",\"tag\":\"div\"},\"children\":[{\"props\":{\"max\":10,\"min\":1,\"attributes\":{\"type\":\"range\",\"data-bind\":\"numericValue: index, valueUpdate: 'input', event: {change: function (){this.changes(this.changes()+1)}}\",\"orient\":\"horizontal\"},\"step\":1,\"className\":\"slider slider is-fullwidth\",\"style\":{}},\"nodeType\":\"DOM\",\"type\":\"node\",\"instanceArgs\":{\"namespace\":\"html\",\"tag\":\"input\"},\"children\":[]}]},{\"props\":{\"className\":\"interact-flex-row-right\"},\"nodeType\":\"DOM\",\"type\":\"node\",\"instanceArgs\":{\"namespace\":\"html\",\"tag\":\"div\"},\"children\":[{\"props\":{\"attributes\":{\"data-bind\":\"text: formatted_val\"}},\"nodeType\":\"DOM\",\"type\":\"node\",\"instanceArgs\":{\"namespace\":\"html\",\"tag\":\"p\"},\"children\":[]}]}]}]}]},{\"props\":{},\"nodeType\":\"Scope\",\"type\":\"node\",\"instanceArgs\":{\"imports\":{\"data\":[],\"type\":\"async_block\"},\"id\":\"174031799927373998\",\"handlers\":{},\"systemjs_options\":null,\"mount_callbacks\":[],\"observables\":{\"obs-node\":{\"sync\":false,\"id\":\"ob_531\",\"value\":{\"props\":{\"className\":\"interact-flex-row interact-widget\"},\"nodeType\":\"DOM\",\"type\":\"node\",\"instanceArgs\":{\"namespace\":\"html\",\"tag\":\"div\"},\"children\":[{\"props\":{\"setInnerHtml\":\"<?xml version=\\\"1.0\\\" encoding=\\\"utf-8\\\"?>\\n<svg xmlns=\\\"http:\\/\\/www.w3.org\\/2000\\/svg\\\" xmlns:xlink=\\\"http:\\/\\/www.w3.org\\/1999\\/xlink\\\" width=\\\"600\\\" height=\\\"400\\\" viewBox=\\\"0 0 2400 1600\\\">\\n<defs>\\n  <clipPath id=\\\"clip2100\\\">\\n    <rect x=\\\"0\\\" y=\\\"0\\\" width=\\\"2400\\\" height=\\\"1600\\\"\\/>\\n  <\\/clipPath>\\n<\\/defs>\\n<path clip-path=\\\"url(#clip2100)\\\" d=\\\"\\nM0 1600 L2400 1600 L2400 0 L0 0  Z\\n  \\\" fill=\\\"#ffffff\\\" fill-rule=\\\"evenodd\\\" fill-opacity=\\\"1\\\"\\/>\\n<defs>\\n  <clipPath id=\\\"clip2101\\\">\\n    <rect x=\\\"480\\\" y=\\\"0\\\" width=\\\"1681\\\" height=\\\"1600\\\"\\/>\\n  <\\/clipPath>\\n<\\/defs>\\n<path clip-path=\\\"url(#clip2100)\\\" d=\\\"\\nM153.898 1487.47 L2352.76 1487.47 L2352.76 47.2441 L153.898 47.2441  Z\\n  \\\" fill=\\\"#ffffff\\\" fill-rule=\\\"evenodd\\\" fill-opacity=\\\"1\\\"\\/>\\n<defs>\\n  <clipPath id=\\\"clip2102\\\">\\n    <rect x=\\\"153\\\" y=\\\"47\\\" width=\\\"2200\\\" height=\\\"1441\\\"\\/>\\n  <\\/clipPath>\\n<\\/defs>\\n<polyline clip-path=\\\"url(#clip2102)\\\" style=\\\"stroke:#000000; stroke-width:2; stroke-opacity:0.1; fill:none\\\" points=\\\"\\n  388.996,1487.47 388.996,47.2441 \\n  \\\"\\/>\\n<polyline clip-path=\\\"url(#clip2102)\\\" style=\\\"stroke:#000000; stroke-width:2; stroke-opacity:0.1; fill:none\\\" points=\\\"\\n  821.161,1487.47 821.161,47.2441 \\n  \\\"\\/>\\n<polyline clip-path=\\\"url(#clip2102)\\\" style=\\\"stroke:#000000; stroke-width:2; stroke-opacity:0.1; fill:none\\\" points=\\\"\\n  1253.33,1487.47 1253.33,47.2441 \\n  \\\"\\/>\\n<polyline clip-path=\\\"url(#clip2102)\\\" style=\\\"stroke:#000000; stroke-width:2; stroke-opacity:0.1; fill:none\\\" points=\\\"\\n  1685.49,1487.47 1685.49,47.2441 \\n  \\\"\\/>\\n<polyline clip-path=\\\"url(#clip2102)\\\" style=\\\"stroke:#000000; stroke-width:2; stroke-opacity:0.1; fill:none\\\" points=\\\"\\n  2117.66,1487.47 2117.66,47.2441 \\n  \\\"\\/>\\n<polyline clip-path=\\\"url(#clip2102)\\\" style=\\\"stroke:#000000; stroke-width:2; stroke-opacity:0.1; fill:none\\\" points=\\\"\\n  153.898,1446.71 2352.76,1446.71 \\n  \\\"\\/>\\n<polyline clip-path=\\\"url(#clip2102)\\\" style=\\\"stroke:#000000; stroke-width:2; stroke-opacity:0.1; fill:none\\\" points=\\\"\\n  153.898,1206.94 2352.76,1206.94 \\n  \\\"\\/>\\n<polyline clip-path=\\\"url(#clip2102)\\\" style=\\\"stroke:#000000; stroke-width:2; stroke-opacity:0.1; fill:none\\\" points=\\\"\\n  153.898,967.169 2352.76,967.169 \\n  \\\"\\/>\\n<polyline clip-path=\\\"url(#clip2102)\\\" style=\\\"stroke:#000000; stroke-width:2; stroke-opacity:0.1; fill:none\\\" points=\\\"\\n  153.898,727.397 2352.76,727.397 \\n  \\\"\\/>\\n<polyline clip-path=\\\"url(#clip2102)\\\" style=\\\"stroke:#000000; stroke-width:2; stroke-opacity:0.1; fill:none\\\" points=\\\"\\n  153.898,487.625 2352.76,487.625 \\n  \\\"\\/>\\n<polyline clip-path=\\\"url(#clip2102)\\\" style=\\\"stroke:#000000; stroke-width:2; stroke-opacity:0.1; fill:none\\\" points=\\\"\\n  153.898,247.853 2352.76,247.853 \\n  \\\"\\/>\\n<polyline clip-path=\\\"url(#clip2100)\\\" style=\\\"stroke:#000000; stroke-width:4; stroke-opacity:1; fill:none\\\" points=\\\"\\n  153.898,1487.47 2352.76,1487.47 \\n  \\\"\\/>\\n<polyline clip-path=\\\"url(#clip2100)\\\" style=\\\"stroke:#000000; stroke-width:4; stroke-opacity:1; fill:none\\\" points=\\\"\\n  153.898,1487.47 153.898,47.2441 \\n  \\\"\\/>\\n<polyline clip-path=\\\"url(#clip2100)\\\" style=\\\"stroke:#000000; stroke-width:4; stroke-opacity:1; fill:none\\\" points=\\\"\\n  388.996,1487.47 388.996,1465.87 \\n  \\\"\\/>\\n<polyline clip-path=\\\"url(#clip2100)\\\" style=\\\"stroke:#000000; stroke-width:4; stroke-opacity:1; fill:none\\\" points=\\\"\\n  821.161,1487.47 821.161,1465.87 \\n  \\\"\\/>\\n<polyline clip-path=\\\"url(#clip2100)\\\" style=\\\"stroke:#000000; stroke-width:4; stroke-opacity:1; fill:none\\\" points=\\\"\\n  1253.33,1487.47 1253.33,1465.87 \\n  \\\"\\/>\\n<polyline clip-path=\\\"url(#clip2100)\\\" style=\\\"stroke:#000000; stroke-width:4; stroke-opacity:1; fill:none\\\" points=\\\"\\n  1685.49,1487.47 1685.49,1465.87 \\n  \\\"\\/>\\n<polyline clip-path=\\\"url(#clip2100)\\\" style=\\\"stroke:#000000; stroke-width:4; stroke-opacity:1; fill:none\\\" points=\\\"\\n  2117.66,1487.47 2117.66,1465.87 \\n  \\\"\\/>\\n<polyline clip-path=\\\"url(#clip2100)\\\" style=\\\"stroke:#000000; stroke-width:4; stroke-opacity:1; fill:none\\\" points=\\\"\\n  153.898,1446.71 186.881,1446.71 \\n  \\\"\\/>\\n<polyline clip-path=\\\"url(#clip2100)\\\" style=\\\"stroke:#000000; stroke-width:4; stroke-opacity:1; fill:none\\\" points=\\\"\\n  153.898,1206.94 186.881,1206.94 \\n  \\\"\\/>\\n<polyline clip-path=\\\"url(#clip2100)\\\" style=\\\"stroke:#000000; stroke-width:4; stroke-opacity:1; fill:none\\\" points=\\\"\\n  153.898,967.169 186.881,967.169 \\n  \\\"\\/>\\n<polyline clip-path=\\\"url(#clip2100)\\\" style=\\\"stroke:#000000; stroke-width:4; stroke-opacity:1; fill:none\\\" points=\\\"\\n  153.898,727.397 186.881,727.397 \\n  \\\"\\/>\\n<polyline clip-path=\\\"url(#clip2100)\\\" style=\\\"stroke:#000000; stroke-width:4; stroke-opacity:1; fill:none\\\" points=\\\"\\n  153.898,487.625 186.881,487.625 \\n  \\\"\\/>\\n<polyline clip-path=\\\"url(#clip2100)\\\" style=\\\"stroke:#000000; stroke-width:4; stroke-opacity:1; fill:none\\\" points=\\\"\\n  153.898,247.853 186.881,247.853 \\n  \\\"\\/>\\n<g clip-path=\\\"url(#clip2100)\\\">\\n<text style=\\\"fill:#000000; fill-opacity:1; font-family:Arial,Helvetica Neue,Helvetica,sans-serif; font-size:48px; text-anchor:middle;\\\" transform=\\\"rotate(0, 388.996, 1541.47)\\\" x=\\\"388.996\\\" y=\\\"1541.47\\\">-5.0<\\/text>\\n<\\/g>\\n<g clip-path=\\\"url(#clip2100)\\\">\\n<text style=\\\"fill:#000000; fill-opacity:1; font-family:Arial,Helvetica Neue,Helvetica,sans-serif; font-size:48px; text-anchor:middle;\\\" transform=\\\"rotate(0, 821.161, 1541.47)\\\" x=\\\"821.161\\\" y=\\\"1541.47\\\">-2.5<\\/text>\\n<\\/g>\\n<g clip-path=\\\"url(#clip2100)\\\">\\n<text style=\\\"fill:#000000; fill-opacity:1; font-family:Arial,Helvetica Neue,Helvetica,sans-serif; font-size:48px; text-anchor:middle;\\\" transform=\\\"rotate(0, 1253.33, 1541.47)\\\" x=\\\"1253.33\\\" y=\\\"1541.47\\\">0.0<\\/text>\\n<\\/g>\\n<g clip-path=\\\"url(#clip2100)\\\">\\n<text style=\\\"fill:#000000; fill-opacity:1; font-family:Arial,Helvetica Neue,Helvetica,sans-serif; font-size:48px; text-anchor:middle;\\\" transform=\\\"rotate(0, 1685.49, 1541.47)\\\" x=\\\"1685.49\\\" y=\\\"1541.47\\\">2.5<\\/text>\\n<\\/g>\\n<g clip-path=\\\"url(#clip2100)\\\">\\n<text style=\\\"fill:#000000; fill-opacity:1; font-family:Arial,Helvetica Neue,Helvetica,sans-serif; font-size:48px; text-anchor:middle;\\\" transform=\\\"rotate(0, 2117.66, 1541.47)\\\" x=\\\"2117.66\\\" y=\\\"1541.47\\\">5.0<\\/text>\\n<\\/g>\\n<g clip-path=\\\"url(#clip2100)\\\">\\n<text style=\\\"fill:#000000; fill-opacity:1; font-family:Arial,Helvetica Neue,Helvetica,sans-serif; font-size:48px; text-anchor:end;\\\" transform=\\\"rotate(0, 129.898, 1464.21)\\\" x=\\\"129.898\\\" y=\\\"1464.21\\\">0.0<\\/text>\\n<\\/g>\\n<g clip-path=\\\"url(#clip2100)\\\">\\n<text style=\\\"fill:#000000; fill-opacity:1; font-family:Arial,Helvetica Neue,Helvetica,sans-serif; font-size:48px; text-anchor:end;\\\" transform=\\\"rotate(0, 129.898, 1224.44)\\\" x=\\\"129.898\\\" y=\\\"1224.44\\\">0.1<\\/text>\\n<\\/g>\\n<g clip-path=\\\"url(#clip2100)\\\">\\n<text style=\\\"fill:#000000; fill-opacity:1; font-family:Arial,Helvetica Neue,Helvetica,sans-serif; font-size:48px; text-anchor:end;\\\" transform=\\\"rotate(0, 129.898, 984.669)\\\" x=\\\"129.898\\\" y=\\\"984.669\\\">0.2<\\/text>\\n<\\/g>\\n<g clip-path=\\\"url(#clip2100)\\\">\\n<text style=\\\"fill:#000000; fill-opacity:1; font-family:Arial,Helvetica Neue,Helvetica,sans-serif; font-size:48px; text-anchor:end;\\\" transform=\\\"rotate(0, 129.898, 744.897)\\\" x=\\\"129.898\\\" y=\\\"744.897\\\">0.3<\\/text>\\n<\\/g>\\n<g clip-path=\\\"url(#clip2100)\\\">\\n<text style=\\\"fill:#000000; fill-opacity:1; font-family:Arial,Helvetica Neue,Helvetica,sans-serif; font-size:48px; text-anchor:end;\\\" transform=\\\"rotate(0, 129.898, 505.125)\\\" x=\\\"129.898\\\" y=\\\"505.125\\\">0.4<\\/text>\\n<\\/g>\\n<g clip-path=\\\"url(#clip2100)\\\">\\n<text style=\\\"fill:#000000; fill-opacity:1; font-family:Arial,Helvetica Neue,Helvetica,sans-serif; font-size:48px; text-anchor:end;\\\" transform=\\\"rotate(0, 129.898, 265.353)\\\" x=\\\"129.898\\\" y=\\\"265.353\\\">0.5<\\/text>\\n<\\/g>\\n<path clip-path=\\\"url(#clip2102)\\\" d=\\\"\\nM388.996 1446.71 L388.996 1446.71 L423.569 1446.71 L423.569 1446.71 L388.996 1446.71 L388.996 1446.71  Z\\n  \\\" fill=\\\"#009af9\\\" fill-rule=\\\"evenodd\\\" fill-opacity=\\\"1\\\"\\/>\\n<polyline clip-path=\\\"url(#clip2102)\\\" style=\\\"stroke:#000000; stroke-width:4; stroke-opacity:1; fill:none\\\" points=\\\"\\n  388.996,1446.71 388.996,1446.71 423.569,1446.71 388.996,1446.71 \\n  \\\"\\/>\\n<path clip-path=\\\"url(#clip2102)\\\" d=\\\"\\nM423.569 1446.71 L423.569 1446.71 L458.142 1446.71 L458.142 1446.71 L423.569 1446.71 L423.569 1446.71  Z\\n  \\\" fill=\\\"#009af9\\\" fill-rule=\\\"evenodd\\\" fill-opacity=\\\"1\\\"\\/>\\n<polyline clip-path=\\\"url(#clip2102)\\\" style=\\\"stroke:#000000; stroke-width:4; stroke-opacity:1; fill:none\\\" points=\\\"\\n  423.569,1446.71 423.569,1446.71 458.142,1446.71 423.569,1446.71 \\n  \\\"\\/>\\n<path clip-path=\\\"url(#clip2102)\\\" d=\\\"\\nM458.142 1446.71 L458.142 1446.71 L492.716 1446.71 L492.716 1446.71 L458.142 1446.71 L458.142 1446.71  Z\\n  \\\" fill=\\\"#009af9\\\" fill-rule=\\\"evenodd\\\" fill-opacity=\\\"1\\\"\\/>\\n<polyline clip-path=\\\"url(#clip2102)\\\" style=\\\"stroke:#000000; stroke-width:4; stroke-opacity:1; fill:none\\\" points=\\\"\\n  458.142,1446.71 458.142,1446.71 492.716,1446.71 458.142,1446.71 \\n  \\\"\\/>\\n<path clip-path=\\\"url(#clip2102)\\\" d=\\\"\\nM492.716 1406.75 L492.716 1446.71 L527.289 1446.71 L527.289 1406.75 L492.716 1406.75 L492.716 1406.75  Z\\n  \\\" fill=\\\"#009af9\\\" fill-rule=\\\"evenodd\\\" fill-opacity=\\\"1\\\"\\/>\\n<polyline clip-path=\\\"url(#clip2102)\\\" style=\\\"stroke:#000000; stroke-width:4; stroke-opacity:1; fill:none\\\" points=\\\"\\n  492.716,1406.75 492.716,1446.71 527.289,1446.71 527.289,1406.75 492.716,1406.75 \\n  \\\"\\/>\\n<path clip-path=\\\"url(#clip2102)\\\" d=\\\"\\nM527.289 1446.71 L527.289 1446.71 L561.862 1446.71 L561.862 1446.71 L527.289 1446.71 L527.289 1446.71  Z\\n  \\\" fill=\\\"#009af9\\\" fill-rule=\\\"evenodd\\\" fill-opacity=\\\"1\\\"\\/>\\n<polyline clip-path=\\\"url(#clip2102)\\\" style=\\\"stroke:#000000; stroke-width:4; stroke-opacity:1; fill:none\\\" points=\\\"\\n  527.289,1446.71 527.289,1446.71 561.862,1446.71 527.289,1446.71 \\n  \\\"\\/>\\n<path clip-path=\\\"url(#clip2102)\\\" d=\\\"\\nM561.862 1446.71 L561.862 1446.71 L596.435 1446.71 L596.435 1446.71 L561.862 1446.71 L561.862 1446.71  Z\\n  \\\" fill=\\\"#009af9\\\" fill-rule=\\\"evenodd\\\" fill-opacity=\\\"1\\\"\\/>\\n<polyline clip-path=\\\"url(#clip2102)\\\" style=\\\"stroke:#000000; stroke-width:4; stroke-opacity:1; fill:none\\\" points=\\\"\\n  561.862,1446.71 561.862,1446.71 596.435,1446.71 561.862,1446.71 \\n  \\\"\\/>\\n<path clip-path=\\\"url(#clip2102)\\\" d=\\\"\\nM596.435 1366.79 L596.435 1446.71 L631.009 1446.71 L631.009 1366.79 L596.435 1366.79 L596.435 1366.79  Z\\n  \\\" fill=\\\"#009af9\\\" fill-rule=\\\"evenodd\\\" fill-opacity=\\\"1\\\"\\/>\\n<polyline clip-path=\\\"url(#clip2102)\\\" style=\\\"stroke:#000000; stroke-width:4; stroke-opacity:1; fill:none\\\" points=\\\"\\n  596.435,1366.79 596.435,1446.71 631.009,1446.71 631.009,1366.79 596.435,1366.79 \\n  \\\"\\/>\\n<path clip-path=\\\"url(#clip2102)\\\" d=\\\"\\nM631.009 1326.83 L631.009 1446.71 L665.582 1446.71 L665.582 1326.83 L631.009 1326.83 L631.009 1326.83  Z\\n  \\\" fill=\\\"#009af9\\\" fill-rule=\\\"evenodd\\\" fill-opacity=\\\"1\\\"\\/>\\n<polyline clip-path=\\\"url(#clip2102)\\\" style=\\\"stroke:#000000; stroke-width:4; stroke-opacity:1; fill:none\\\" points=\\\"\\n  631.009,1326.83 631.009,1446.71 665.582,1446.71 665.582,1326.83 631.009,1326.83 \\n  \\\"\\/>\\n<path clip-path=\\\"url(#clip2102)\\\" d=\\\"\\nM665.582 1206.94 L665.582 1446.71 L700.155 1446.71 L700.155 1206.94 L665.582 1206.94 L665.582 1206.94  Z\\n  \\\" fill=\\\"#009af9\\\" fill-rule=\\\"evenodd\\\" fill-opacity=\\\"1\\\"\\/>\\n<polyline clip-path=\\\"url(#clip2102)\\\" style=\\\"stroke:#000000; stroke-width:4; stroke-opacity:1; fill:none\\\" points=\\\"\\n  665.582,1206.94 665.582,1446.71 700.155,1446.71 700.155,1206.94 665.582,1206.94 \\n  \\\"\\/>\\n<path clip-path=\\\"url(#clip2102)\\\" d=\\\"\\nM700.155 1047.09 L700.155 1446.71 L734.728 1446.71 L734.728 1047.09 L700.155 1047.09 L700.155 1047.09  Z\\n  \\\" fill=\\\"#009af9\\\" fill-rule=\\\"evenodd\\\" fill-opacity=\\\"1\\\"\\/>\\n<polyline clip-path=\\\"url(#clip2102)\\\" style=\\\"stroke:#000000; stroke-width:4; stroke-opacity:1; fill:none\\\" points=\\\"\\n  700.155,1047.09 700.155,1446.71 734.728,1446.71 734.728,1047.09 700.155,1047.09 \\n  \\\"\\/>\\n<path clip-path=\\\"url(#clip2102)\\\" d=\\\"\\nM734.728 1206.94 L734.728 1446.71 L769.302 1446.71 L769.302 1206.94 L734.728 1206.94 L734.728 1206.94  Z\\n  \\\" fill=\\\"#009af9\\\" fill-rule=\\\"evenodd\\\" fill-opacity=\\\"1\\\"\\/>\\n<polyline clip-path=\\\"url(#clip2102)\\\" style=\\\"stroke:#000000; stroke-width:4; stroke-opacity:1; fill:none\\\" points=\\\"\\n  734.728,1206.94 734.728,1446.71 769.302,1446.71 769.302,1206.94 734.728,1206.94 \\n  \\\"\\/>\\n<path clip-path=\\\"url(#clip2102)\\\" d=\\\"\\nM769.302 567.549 L769.302 1446.71 L803.875 1446.71 L803.875 567.549 L769.302 567.549 L769.302 567.549  Z\\n  \\\" fill=\\\"#009af9\\\" fill-rule=\\\"evenodd\\\" fill-opacity=\\\"1\\\"\\/>\\n<polyline clip-path=\\\"url(#clip2102)\\\" style=\\\"stroke:#000000; stroke-width:4; stroke-opacity:1; fill:none\\\" points=\\\"\\n  769.302,567.549 769.302,1446.71 803.875,1446.71 803.875,567.549 769.302,567.549 \\n  \\\"\\/>\\n<path clip-path=\\\"url(#clip2102)\\\" d=\\\"\\nM803.875 527.587 L803.875 1446.71 L838.448 1446.71 L838.448 527.587 L803.875 527.587 L803.875 527.587  Z\\n  \\\" fill=\\\"#009af9\\\" fill-rule=\\\"evenodd\\\" fill-opacity=\\\"1\\\"\\/>\\n<polyline clip-path=\\\"url(#clip2102)\\\" style=\\\"stroke:#000000; stroke-width:4; stroke-opacity:1; fill:none\\\" points=\\\"\\n  803.875,527.587 803.875,1446.71 838.448,1446.71 838.448,527.587 803.875,527.587 \\n  \\\"\\/>\\n<path clip-path=\\\"url(#clip2102)\\\" d=\\\"\\nM838.448 647.473 L838.448 1446.71 L873.021 1446.71 L873.021 647.473 L838.448 647.473 L838.448 647.473  Z\\n  \\\" fill=\\\"#009af9\\\" fill-rule=\\\"evenodd\\\" fill-opacity=\\\"1\\\"\\/>\\n<polyline clip-path=\\\"url(#clip2102)\\\" style=\\\"stroke:#000000; stroke-width:4; stroke-opacity:1; fill:none\\\" points=\\\"\\n  838.448,647.473 838.448,1446.71 873.021,1446.71 873.021,647.473 838.448,647.473 \\n  \\\"\\/>\\n<path clip-path=\\\"url(#clip2102)\\\" d=\\\"\\nM873.021 327.777 L873.021 1446.71 L907.595 1446.71 L907.595 327.777 L873.021 327.777 L873.021 327.777  Z\\n  \\\" fill=\\\"#009af9\\\" fill-rule=\\\"evenodd\\\" fill-opacity=\\\"1\\\"\\/>\\n<polyline clip-path=\\\"url(#clip2102)\\\" style=\\\"stroke:#000000; stroke-width:4; stroke-opacity:1; fill:none\\\" points=\\\"\\n  873.021,327.777 873.021,1446.71 907.595,1446.71 907.595,327.777 873.021,327.777 \\n  \\\"\\/>\\n<path clip-path=\\\"url(#clip2102)\\\" d=\\\"\\nM907.595 327.777 L907.595 1446.71 L942.168 1446.71 L942.168 327.777 L907.595 327.777 L907.595 327.777  Z\\n  \\\" fill=\\\"#009af9\\\" fill-rule=\\\"evenodd\\\" fill-opacity=\\\"1\\\"\\/>\\n<polyline clip-path=\\\"url(#clip2102)\\\" style=\\\"stroke:#000000; stroke-width:4; stroke-opacity:1; fill:none\\\" points=\\\"\\n  907.595,327.777 907.595,1446.71 942.168,1446.71 942.168,327.777 907.595,327.777 \\n  \\\"\\/>\\n<path clip-path=\\\"url(#clip2102)\\\" d=\\\"\\nM942.168 607.511 L942.168 1446.71 L976.741 1446.71 L976.741 607.511 L942.168 607.511 L942.168 607.511  Z\\n  \\\" fill=\\\"#009af9\\\" fill-rule=\\\"evenodd\\\" fill-opacity=\\\"1\\\"\\/>\\n<polyline clip-path=\\\"url(#clip2102)\\\" style=\\\"stroke:#000000; stroke-width:4; stroke-opacity:1; fill:none\\\" points=\\\"\\n  942.168,607.511 942.168,1446.71 976.741,1446.71 976.741,607.511 942.168,607.511 \\n  \\\"\\/>\\n<path clip-path=\\\"url(#clip2102)\\\" d=\\\"\\nM976.741 88.0053 L976.741 1446.71 L1011.31 1446.71 L1011.31 88.0053 L976.741 88.0053 L976.741 88.0053  Z\\n  \\\" fill=\\\"#009af9\\\" fill-rule=\\\"evenodd\\\" fill-opacity=\\\"1\\\"\\/>\\n<polyline clip-path=\\\"url(#clip2102)\\\" style=\\\"stroke:#000000; stroke-width:4; stroke-opacity:1; fill:none\\\" points=\\\"\\n  976.741,88.0053 976.741,1446.71 1011.31,1446.71 1011.31,88.0053 976.741,88.0053 \\n  \\\"\\/>\\n<path clip-path=\\\"url(#clip2102)\\\" d=\\\"\\nM1011.31 527.587 L1011.31 1446.71 L1045.89 1446.71 L1045.89 527.587 L1011.31 527.587 L1011.31 527.587  Z\\n  \\\" fill=\\\"#009af9\\\" fill-rule=\\\"evenodd\\\" fill-opacity=\\\"1\\\"\\/>\\n<polyline clip-path=\\\"url(#clip2102)\\\" style=\\\"stroke:#000000; stroke-width:4; stroke-opacity:1; fill:none\\\" points=\\\"\\n  1011.31,527.587 1011.31,1446.71 1045.89,1446.71 1045.89,527.587 1011.31,527.587 \\n  \\\"\\/>\\n<path clip-path=\\\"url(#clip2102)\\\" d=\\\"\\nM1045.89 767.359 L1045.89 1446.71 L1080.46 1446.71 L1080.46 767.359 L1045.89 767.359 L1045.89 767.359  Z\\n  \\\" fill=\\\"#009af9\\\" fill-rule=\\\"evenodd\\\" fill-opacity=\\\"1\\\"\\/>\\n<polyline clip-path=\\\"url(#clip2102)\\\" style=\\\"stroke:#000000; stroke-width:4; stroke-opacity:1; fill:none\\\" points=\\\"\\n  1045.89,767.359 1045.89,1446.71 1080.46,1446.71 1080.46,767.359 1045.89,767.359 \\n  \\\"\\/>\\n<path clip-path=\\\"url(#clip2102)\\\" d=\\\"\\nM1080.46 967.169 L1080.46 1446.71 L1115.03 1446.71 L1115.03 967.169 L1080.46 967.169 L1080.46 967.169  Z\\n  \\\" fill=\\\"#009af9\\\" fill-rule=\\\"evenodd\\\" fill-opacity=\\\"1\\\"\\/>\\n<polyline clip-path=\\\"url(#clip2102)\\\" style=\\\"stroke:#000000; stroke-width:4; stroke-opacity:1; fill:none\\\" points=\\\"\\n  1080.46,967.169 1080.46,1446.71 1115.03,1446.71 1115.03,967.169 1080.46,967.169 \\n  \\\"\\/>\\n<path clip-path=\\\"url(#clip2102)\\\" d=\\\"\\nM1115.03 847.283 L1115.03 1446.71 L1149.61 1446.71 L1149.61 847.283 L1115.03 847.283 L1115.03 847.283  Z\\n  \\\" fill=\\\"#009af9\\\" fill-rule=\\\"evenodd\\\" fill-opacity=\\\"1\\\"\\/>\\n<polyline clip-path=\\\"url(#clip2102)\\\" style=\\\"stroke:#000000; stroke-width:4; stroke-opacity:1; fill:none\\\" points=\\\"\\n  1115.03,847.283 1115.03,1446.71 1149.61,1446.71 1149.61,847.283 1115.03,847.283 \\n  \\\"\\/>\\n<path clip-path=\\\"url(#clip2102)\\\" d=\\\"\\nM1149.61 1087.06 L1149.61 1446.71 L1184.18 1446.71 L1184.18 1087.06 L1149.61 1087.06 L1149.61 1087.06  Z\\n  \\\" fill=\\\"#009af9\\\" fill-rule=\\\"evenodd\\\" fill-opacity=\\\"1\\\"\\/>\\n<polyline clip-path=\\\"url(#clip2102)\\\" style=\\\"stroke:#000000; stroke-width:4; stroke-opacity:1; fill:none\\\" points=\\\"\\n  1149.61,1087.06 1149.61,1446.71 1184.18,1446.71 1184.18,1087.06 1149.61,1087.06 \\n  \\\"\\/>\\n<path clip-path=\\\"url(#clip2102)\\\" d=\\\"\\nM1184.18 1127.02 L1184.18 1446.71 L1218.75 1446.71 L1218.75 1127.02 L1184.18 1127.02 L1184.18 1127.02  Z\\n  \\\" fill=\\\"#009af9\\\" fill-rule=\\\"evenodd\\\" fill-opacity=\\\"1\\\"\\/>\\n<polyline clip-path=\\\"url(#clip2102)\\\" style=\\\"stroke:#000000; stroke-width:4; stroke-opacity:1; fill:none\\\" points=\\\"\\n  1184.18,1127.02 1184.18,1446.71 1218.75,1446.71 1218.75,1127.02 1184.18,1127.02 \\n  \\\"\\/>\\n<path clip-path=\\\"url(#clip2102)\\\" d=\\\"\\nM1218.75 1326.83 L1218.75 1446.71 L1253.33 1446.71 L1253.33 1326.83 L1218.75 1326.83 L1218.75 1326.83  Z\\n  \\\" fill=\\\"#009af9\\\" fill-rule=\\\"evenodd\\\" fill-opacity=\\\"1\\\"\\/>\\n<polyline clip-path=\\\"url(#clip2102)\\\" style=\\\"stroke:#000000; stroke-width:4; stroke-opacity:1; fill:none\\\" points=\\\"\\n  1218.75,1326.83 1218.75,1446.71 1253.33,1446.71 1253.33,1326.83 1218.75,1326.83 \\n  \\\"\\/>\\n<path clip-path=\\\"url(#clip2102)\\\" d=\\\"\\nM1253.33 1286.87 L1253.33 1446.71 L1287.9 1446.71 L1287.9 1286.87 L1253.33 1286.87 L1253.33 1286.87  Z\\n  \\\" fill=\\\"#009af9\\\" fill-rule=\\\"evenodd\\\" fill-opacity=\\\"1\\\"\\/>\\n<polyline clip-path=\\\"url(#clip2102)\\\" style=\\\"stroke:#000000; stroke-width:4; stroke-opacity:1; fill:none\\\" points=\\\"\\n  1253.33,1286.87 1253.33,1446.71 1287.9,1446.71 1287.9,1286.87 1253.33,1286.87 \\n  \\\"\\/>\\n<path clip-path=\\\"url(#clip2102)\\\" d=\\\"\\nM1287.9 1406.75 L1287.9 1446.71 L1322.47 1446.71 L1322.47 1406.75 L1287.9 1406.75 L1287.9 1406.75  Z\\n  \\\" fill=\\\"#009af9\\\" fill-rule=\\\"evenodd\\\" fill-opacity=\\\"1\\\"\\/>\\n<polyline clip-path=\\\"url(#clip2102)\\\" style=\\\"stroke:#000000; stroke-width:4; stroke-opacity:1; fill:none\\\" points=\\\"\\n  1287.9,1406.75 1287.9,1446.71 1322.47,1446.71 1322.47,1406.75 1287.9,1406.75 \\n  \\\"\\/>\\n<path clip-path=\\\"url(#clip2102)\\\" d=\\\"\\nM1322.47 1366.79 L1322.47 1446.71 L1357.05 1446.71 L1357.05 1366.79 L1322.47 1366.79 L1322.47 1366.79  Z\\n  \\\" fill=\\\"#009af9\\\" fill-rule=\\\"evenodd\\\" fill-opacity=\\\"1\\\"\\/>\\n<polyline clip-path=\\\"url(#clip2102)\\\" style=\\\"stroke:#000000; stroke-width:4; stroke-opacity:1; fill:none\\\" points=\\\"\\n  1322.47,1366.79 1322.47,1446.71 1357.05,1446.71 1357.05,1366.79 1322.47,1366.79 \\n  \\\"\\/>\\n<path clip-path=\\\"url(#clip2102)\\\" d=\\\"\\nM1357.05 1406.75 L1357.05 1446.71 L1391.62 1446.71 L1391.62 1406.75 L1357.05 1406.75 L1357.05 1406.75  Z\\n  \\\" fill=\\\"#009af9\\\" fill-rule=\\\"evenodd\\\" fill-opacity=\\\"1\\\"\\/>\\n<polyline clip-path=\\\"url(#clip2102)\\\" style=\\\"stroke:#000000; stroke-width:4; stroke-opacity:1; fill:none\\\" points=\\\"\\n  1357.05,1406.75 1357.05,1446.71 1391.62,1446.71 1391.62,1406.75 1357.05,1406.75 \\n  \\\"\\/>\\n<path clip-path=\\\"url(#clip2102)\\\" d=\\\"\\nM1391.62 1446.71 L1391.62 1446.71 L1426.19 1446.71 L1426.19 1446.71 L1391.62 1446.71 L1391.62 1446.71  Z\\n  \\\" fill=\\\"#009af9\\\" fill-rule=\\\"evenodd\\\" fill-opacity=\\\"1\\\"\\/>\\n<polyline clip-path=\\\"url(#clip2102)\\\" style=\\\"stroke:#000000; stroke-width:4; stroke-opacity:1; fill:none\\\" points=\\\"\\n  1391.62,1446.71 1391.62,1446.71 1426.19,1446.71 1391.62,1446.71 \\n  \\\"\\/>\\n<path clip-path=\\\"url(#clip2102)\\\" d=\\\"\\nM1426.19 1406.75 L1426.19 1446.71 L1460.77 1446.71 L1460.77 1406.75 L1426.19 1406.75 L1426.19 1406.75  Z\\n  \\\" fill=\\\"#009af9\\\" fill-rule=\\\"evenodd\\\" fill-opacity=\\\"1\\\"\\/>\\n<polyline clip-path=\\\"url(#clip2102)\\\" style=\\\"stroke:#000000; stroke-width:4; stroke-opacity:1; fill:none\\\" points=\\\"\\n  1426.19,1406.75 1426.19,1446.71 1460.77,1446.71 1460.77,1406.75 1426.19,1406.75 \\n  \\\"\\/>\\n<path clip-path=\\\"url(#clip2102)\\\" d=\\\"\\nM1460.77 1446.71 L1460.77 1446.71 L1495.34 1446.71 L1495.34 1446.71 L1460.77 1446.71 L1460.77 1446.71  Z\\n  \\\" fill=\\\"#009af9\\\" fill-rule=\\\"evenodd\\\" fill-opacity=\\\"1\\\"\\/>\\n<polyline clip-path=\\\"url(#clip2102)\\\" style=\\\"stroke:#000000; stroke-width:4; stroke-opacity:1; fill:none\\\" points=\\\"\\n  1460.77,1446.71 1460.77,1446.71 1495.34,1446.71 1460.77,1446.71 \\n  \\\"\\/>\\n<path clip-path=\\\"url(#clip2102)\\\" d=\\\"\\nM1495.34 1446.71 L1495.34 1446.71 L1529.91 1446.71 L1529.91 1446.71 L1495.34 1446.71 L1495.34 1446.71  Z\\n  \\\" fill=\\\"#009af9\\\" fill-rule=\\\"evenodd\\\" fill-opacity=\\\"1\\\"\\/>\\n<polyline clip-path=\\\"url(#clip2102)\\\" style=\\\"stroke:#000000; stroke-width:4; stroke-opacity:1; fill:none\\\" points=\\\"\\n  1495.34,1446.71 1495.34,1446.71 1529.91,1446.71 1495.34,1446.71 \\n  \\\"\\/>\\n<path clip-path=\\\"url(#clip2102)\\\" d=\\\"\\nM1529.91 1446.71 L1529.91 1446.71 L1564.49 1446.71 L1564.49 1446.71 L1529.91 1446.71 L1529.91 1446.71  Z\\n  \\\" fill=\\\"#009af9\\\" fill-rule=\\\"evenodd\\\" fill-opacity=\\\"1\\\"\\/>\\n<polyline clip-path=\\\"url(#clip2102)\\\" style=\\\"stroke:#000000; stroke-width:4; stroke-opacity:1; fill:none\\\" points=\\\"\\n  1529.91,1446.71 1529.91,1446.71 1564.49,1446.71 1529.91,1446.71 \\n  \\\"\\/>\\n<path clip-path=\\\"url(#clip2102)\\\" d=\\\"\\nM1564.49 1446.71 L1564.49 1446.71 L1599.06 1446.71 L1599.06 1446.71 L1564.49 1446.71 L1564.49 1446.71  Z\\n  \\\" fill=\\\"#009af9\\\" fill-rule=\\\"evenodd\\\" fill-opacity=\\\"1\\\"\\/>\\n<polyline clip-path=\\\"url(#clip2102)\\\" style=\\\"stroke:#000000; stroke-width:4; stroke-opacity:1; fill:none\\\" points=\\\"\\n  1564.49,1446.71 1564.49,1446.71 1599.06,1446.71 1564.49,1446.71 \\n  \\\"\\/>\\n<path clip-path=\\\"url(#clip2102)\\\" d=\\\"\\nM1599.06 1446.71 L1599.06 1446.71 L1633.63 1446.71 L1633.63 1446.71 L1599.06 1446.71 L1599.06 1446.71  Z\\n  \\\" fill=\\\"#009af9\\\" fill-rule=\\\"evenodd\\\" fill-opacity=\\\"1\\\"\\/>\\n<polyline clip-path=\\\"url(#clip2102)\\\" style=\\\"stroke:#000000; stroke-width:4; stroke-opacity:1; fill:none\\\" points=\\\"\\n  1599.06,1446.71 1599.06,1446.71 1633.63,1446.71 1599.06,1446.71 \\n  \\\"\\/>\\n<path clip-path=\\\"url(#clip2102)\\\" d=\\\"\\nM1633.63 1446.71 L1633.63 1446.71 L1668.21 1446.71 L1668.21 1446.71 L1633.63 1446.71 L1633.63 1446.71  Z\\n  \\\" fill=\\\"#009af9\\\" fill-rule=\\\"evenodd\\\" fill-opacity=\\\"1\\\"\\/>\\n<polyline clip-path=\\\"url(#clip2102)\\\" style=\\\"stroke:#000000; stroke-width:4; stroke-opacity:1; fill:none\\\" points=\\\"\\n  1633.63,1446.71 1633.63,1446.71 1668.21,1446.71 1633.63,1446.71 \\n  \\\"\\/>\\n<polyline clip-path=\\\"url(#clip2102)\\\" style=\\\"stroke:#ff0000; stroke-width:12; stroke-opacity:1; fill:none\\\" points=\\\"\\n  216.13,1446.71 233.416,1446.71 250.703,1446.71 267.99,1446.71 285.276,1446.71 302.563,1446.7 319.85,1446.69 337.136,1446.66 354.423,1446.61 371.709,1446.53 \\n  388.996,1446.37 406.283,1446.11 423.569,1445.68 440.856,1444.97 458.142,1443.85 475.429,1442.12 492.716,1439.52 510.002,1435.68 527.289,1430.17 544.576,1422.44 \\n  561.862,1411.85 579.149,1397.68 596.435,1379.15 613.722,1355.47 631.009,1325.87 648.295,1289.71 665.582,1246.51 682.869,1196.07 700.155,1138.47 717.442,1074.21 \\n  734.728,1004.18 752.015,929.675 769.302,852.372 786.588,774.273 803.875,697.605 821.161,624.709 838.448,557.912 855.735,499.393 873.021,451.064 890.308,414.457 \\n  907.595,390.649 924.881,380.211 942.168,383.194 959.454,399.148 976.741,427.172 994.028,465.983 1011.31,514.01 1028.6,569.487 1045.89,630.554 1063.17,695.348 \\n  1080.46,762.087 1097.75,829.136 1115.03,895.054 1132.32,958.63 1149.61,1018.9 1166.89,1075.13 1184.18,1126.83 1201.47,1173.73 1218.75,1215.73 1236.04,1252.89 \\n  1253.33,1285.39 1270.61,1313.51 1287.9,1337.59 1305.19,1357.99 1322.47,1375.12 1339.76,1389.37 1357.05,1401.11 1374.33,1410.7 1391.62,1418.48 1408.91,1424.72 \\n  1426.19,1429.7 1443.48,1433.64 1460.77,1436.73 1478.05,1439.14 1495.34,1441 1512.63,1442.43 1529.91,1443.53 1547.2,1444.35 1564.49,1444.98 1581.77,1445.44 \\n  1599.06,1445.79 1616.35,1446.05 1633.63,1446.23 1650.92,1446.37 1668.21,1446.47 1685.49,1446.54 1702.78,1446.59 1720.07,1446.63 1737.35,1446.65 1754.64,1446.67 \\n  1771.93,1446.69 1789.21,1446.69 1806.5,1446.7 1823.79,1446.7 1841.07,1446.71 1858.36,1446.71 1875.65,1446.71 1892.93,1446.71 1910.22,1446.71 1927.51,1446.71 \\n  1944.79,1446.71 1962.08,1446.71 1979.36,1446.71 1996.65,1446.71 2013.94,1446.71 2031.22,1446.71 2048.51,1446.71 2065.8,1446.71 2083.08,1446.71 2100.37,1446.71 \\n  2117.66,1446.71 2134.94,1446.71 2152.23,1446.71 2169.52,1446.71 2186.8,1446.71 2204.09,1446.71 2221.38,1446.71 2238.66,1446.71 2255.95,1446.71 2273.24,1446.71 \\n  2290.52,1446.71 \\n  \\\"\\/>\\n<path clip-path=\\\"url(#clip2100)\\\" d=\\\"\\nM1632.92 312.204 L2280.76 312.204 L2280.76 130.764 L1632.92 130.764  Z\\n  \\\" fill=\\\"#ffffff\\\" fill-rule=\\\"evenodd\\\" fill-opacity=\\\"1\\\"\\/>\\n<polyline clip-path=\\\"url(#clip2100)\\\" style=\\\"stroke:#000000; stroke-width:4; stroke-opacity:1; fill:none\\\" points=\\\"\\n  1632.92,312.204 2280.76,312.204 2280.76,130.764 1632.92,130.764 1632.92,312.204 \\n  \\\"\\/>\\n<path clip-path=\\\"url(#clip2100)\\\" d=\\\"\\nM1656.92 215.436 L1800.92 215.436 L1800.92 167.052 L1656.92 167.052 L1656.92 215.436  Z\\n  \\\" fill=\\\"#009af9\\\" fill-rule=\\\"evenodd\\\" fill-opacity=\\\"1\\\"\\/>\\n<polyline clip-path=\\\"url(#clip2100)\\\" style=\\\"stroke:#000000; stroke-width:4; stroke-opacity:1; fill:none\\\" points=\\\"\\n  1656.92,215.436 1800.92,215.436 1800.92,167.052 1656.92,167.052 1656.92,215.436 \\n  \\\"\\/>\\n<g clip-path=\\\"url(#clip2100)\\\">\\n<text style=\\\"fill:#000000; fill-opacity:1; font-family:Arial,Helvetica Neue,Helvetica,sans-serif; font-size:48px; text-anchor:start;\\\" transform=\\\"rotate(0, 1824.92, 208.744)\\\" x=\\\"1824.92\\\" y=\\\"208.744\\\">y1<\\/text>\\n<\\/g>\\n<polyline clip-path=\\\"url(#clip2100)\\\" style=\\\"stroke:#ff0000; stroke-width:12; stroke-opacity:1; fill:none\\\" points=\\\"\\n  1656.92,251.724 1800.92,251.724 \\n  \\\"\\/>\\n<g clip-path=\\\"url(#clip2100)\\\">\\n<text style=\\\"fill:#000000; fill-opacity:1; font-family:Arial,Helvetica Neue,Helvetica,sans-serif; font-size:48px; text-anchor:start;\\\" transform=\\\"rotate(0, 1824.92, 269.224)\\\" x=\\\"1824.92\\\" y=\\\"269.224\\\">Tracy-Widom PDF<\\/text>\\n<\\/g>\\n<\\/svg>\\n\"},\"nodeType\":\"DOM\",\"type\":\"node\",\"instanceArgs\":{\"namespace\":\"html\",\"tag\":\"div\"},\"children\":[]}]}}}},\"children\":[{\"props\":{},\"nodeType\":\"ObservableNode\",\"type\":\"node\",\"instanceArgs\":{\"id\":\"ob_531\",\"name\":\"obs-node\"},\"children\":[]}]}]},\n",
       "            window,\n",
       "        );\n",
       "    } else {\n",
       "        document\n",
       "            .querySelector('[data-webio-mountpoint=\"775127380593320292\"]')\n",
       "            .innerHTML = (\n",
       "                '<strong>WebIO not detected. Please read ' +\n",
       "                '<a href=\"https://juliagizmos.github.io/WebIO.jl/latest/troubleshooting/not-detected/\">the troubleshooting guide</a> ' +\n",
       "                'for more information on how to resolve this issue.' +\n",
       "                '</strong>'\n",
       "            );\n",
       "    }\n",
       "    </script>\n",
       "</div>\n"
      ],
      "text/plain": [
       "Node{WebIO.DOM}(WebIO.DOM(:html, :div), Any[Node{WebIO.DOM}(WebIO.DOM(:html, :div), Any[Scope(Node{WebIO.DOM}(WebIO.DOM(:html, :div), Any[Node{WebIO.DOM}(WebIO.DOM(:html, :div), Any[Node{WebIO.DOM}(WebIO.DOM(:html, :label), Any[\"N\"], Dict{Symbol,Any}(:className => \"interact \",:style => Dict{Any,Any}(:padding => \"5px 10px 0px 10px\")))], Dict{Symbol,Any}(:className => \"interact-flex-row-left\")), Node{WebIO.DOM}(WebIO.DOM(:html, :div), Any[Node{WebIO.DOM}(WebIO.DOM(:html, :input), Any[], Dict{Symbol,Any}(:max => 10,:min => 1,:attributes => Dict{Any,Any}(:type => \"range\",Symbol(\"data-bind\") => \"numericValue: index, valueUpdate: 'input', event: {change: function (){this.changes(this.changes()+1)}}\",\"orient\" => \"horizontal\"),:step => 1,:className => \"slider slider is-fullwidth\",:style => Dict{Any,Any}()))], Dict{Symbol,Any}(:className => \"interact-flex-row-center\")), Node{WebIO.DOM}(WebIO.DOM(:html, :div), Any[Node{WebIO.DOM}(WebIO.DOM(:html, :p), Any[], Dict{Symbol,Any}(:attributes => Dict(\"data-bind\" => \"text: formatted_val\")))], Dict{Symbol,Any}(:className => \"interact-flex-row-right\"))], Dict{Symbol,Any}(:className => \"interact-flex-row interact-widget\")), Dict{String,Tuple{Observables.AbstractObservable,Union{Nothing, Bool}}}(\"changes\" => (Observable{Int64} with 1 listeners. Value:\n",
       "0, nothing),\"index\" => (Observable{Any} with 2 listeners. Value:\n",
       "5, nothing)), Set(String[]), nothing, Asset[Asset(\"js\", \"knockout\", \"C:\\\\Users\\\\matte\\\\.julia\\\\packages\\\\Knockout\\\\1sDlc\\\\src\\\\..\\\\assets\\\\knockout.js\"), Asset(\"js\", \"knockout_punches\", \"C:\\\\Users\\\\matte\\\\.julia\\\\packages\\\\Knockout\\\\1sDlc\\\\src\\\\..\\\\assets\\\\knockout_punches.js\"), Asset(\"js\", nothing, \"C:\\\\Users\\\\matte\\\\.julia\\\\packages\\\\InteractBase\\\\9mFwe\\\\src\\\\..\\\\assets\\\\all.js\"), Asset(\"css\", nothing, \"C:\\\\Users\\\\matte\\\\.julia\\\\packages\\\\InteractBase\\\\9mFwe\\\\src\\\\..\\\\assets\\\\style.css\"), Asset(\"css\", nothing, \"C:\\\\Users\\\\matte\\\\.julia\\\\packages\\\\Interact\\\\SbgIk\\\\src\\\\..\\\\assets\\\\bulma_confined.min.css\")], Dict{Any,Any}(\"changes\" => Any[WebIO.JSString(\"(function (val){return (val!=this.model[\\\"changes\\\"]()) ? (this.valueFromJulia[\\\"changes\\\"]=true, this.model[\\\"changes\\\"](val)) : undefined})\")],\"index\" => Any[WebIO.JSString(\"(function (val){return (val!=this.model[\\\"index\\\"]()) ? (this.valueFromJulia[\\\"index\\\"]=true, this.model[\\\"index\\\"](val)) : undefined})\")]), WebIO.ConnectionPool(Channel{Any}(sz_max:32,sz_curr:0), Set(AbstractConnection[]), Base.GenericCondition{Base.AlwaysLockedST}(Base.InvasiveLinkedList{Task}(Task (runnable) @0x000000003051ae10, Task (runnable) @0x000000003051ae10), Base.AlwaysLockedST(1))), WebIO.JSString[WebIO.JSString(\"function () {\\n    var handler = (function (ko, koPunches) {\\n    ko.punches.enableAll();\\n    ko.bindingHandlers.numericValue = {\\n        init: function(element, valueAccessor, allBindings, data, context) {\\n            var stringified = ko.observable(ko.unwrap(valueAccessor()));\\n            stringified.subscribe(function(value) {\\n                var val = parseFloat(value);\\n                if (!isNaN(val)) {\\n                    valueAccessor()(val);\\n                }\\n            });\\n            valueAccessor().subscribe(function(value) {\\n                var str = JSON.stringify(value);\\n                if ((str == \\\"0\\\") && ([\\\"-0\\\", \\\"-0.\\\"].indexOf(stringified()) >= 0))\\n                     return;\\n                 if ([\\\"null\\\", \\\"\\\"].indexOf(str) >= 0)\\n                     return;\\n                stringified(str);\\n            });\\n            ko.applyBindingsToNode(\\n                element,\\n                {\\n                    value: stringified,\\n                    valueUpdate: allBindings.get('valueUpdate'),\\n                },\\n                context,\\n            );\\n        }\\n    };\\n    var json_data = {\\\"formatted_vals\\\":[\\\"10\\\",\\\"20\\\",\\\"30\\\",\\\"40\\\",\\\"50\\\",\\\"60\\\",\\\"70\\\",\\\"80\\\",\\\"90\\\",\\\"100\\\"],\\\"changes\\\":WebIO.getval({\\\"name\\\":\\\"changes\\\",\\\"scope\\\":\\\"16827103425311065201\\\",\\\"id\\\":\\\"ob_517\\\",\\\"type\\\":\\\"observable\\\"}),\\\"index\\\":WebIO.getval({\\\"name\\\":\\\"index\\\",\\\"scope\\\":\\\"16827103425311065201\\\",\\\"id\\\":\\\"ob_516\\\",\\\"type\\\":\\\"observable\\\"})};\\n    var self = this;\\n    function AppViewModel() {\\n        for (var key in json_data) {\\n            var el = json_data[key];\\n            this[key] = Array.isArray(el) ? ko.observableArray(el) : ko.observable(el);\\n        }\\n        \\n        [this[\\\"formatted_val\\\"]=ko.computed(    function(){\\n        return this.formatted_vals()[parseInt(this.index())-(1)];\\n    }\\n,this)]\\n        [this[\\\"changes\\\"].subscribe((function (val){!(this.valueFromJulia[\\\"changes\\\"]) ? (WebIO.setval({\\\"name\\\":\\\"changes\\\",\\\"scope\\\":\\\"16827103425311065201\\\",\\\"id\\\":\\\"ob_517\\\",\\\"type\\\":\\\"observable\\\"},val)) : undefined; return this.valueFromJulia[\\\"changes\\\"]=false}),self),this[\\\"index\\\"].subscribe((function (val){!(this.valueFromJulia[\\\"index\\\"]) ? (WebIO.setval({\\\"name\\\":\\\"index\\\",\\\"scope\\\":\\\"16827103425311065201\\\",\\\"id\\\":\\\"ob_516\\\",\\\"type\\\":\\\"observable\\\"},val)) : undefined; return this.valueFromJulia[\\\"index\\\"]=false}),self)]\\n        \\n    }\\n    self.model = new AppViewModel();\\n    self.valueFromJulia = {};\\n    for (var key in json_data) {\\n        self.valueFromJulia[key] = false;\\n    }\\n    ko.applyBindings(self.model, self.dom);\\n}\\n);\\n    (WebIO.importBlock({\\\"data\\\":[{\\\"name\\\":\\\"knockout\\\",\\\"type\\\":\\\"js\\\",\\\"url\\\":\\\"/assetserver/254160226b58162a42111ea27214076747de1cf2-knockout.js\\\"},{\\\"name\\\":\\\"knockout_punches\\\",\\\"type\\\":\\\"js\\\",\\\"url\\\":\\\"/assetserver/2d0bf510fb683322318163f3ec7562806e4b1104-knockout_punches.js\\\"}],\\\"type\\\":\\\"async_block\\\"})).then((imports) => handler.apply(this, imports));\\n}\\n\")])], Dict{Symbol,Any}(:className => \"field interact-widget\")), Node{WebIO.DOM}(WebIO.DOM(:html, :div), Any[Scope(Node{WebIO.DOM}(WebIO.DOM(:html, :div), Any[Node{WebIO.DOM}(WebIO.DOM(:html, :div), Any[Node{WebIO.DOM}(WebIO.DOM(:html, :label), Any[\"law_name\"], Dict{Symbol,Any}(:className => \"interact \",:style => Dict{Any,Any}(:padding => \"5px 10px 0px 10px\")))], Dict{Symbol,Any}(:className => \"interact-flex-row-left\")), Node{WebIO.DOM}(WebIO.DOM(:html, :div), Any[Node{WebIO.DOM}(WebIO.DOM(:html, :div), Any[Node{WebIO.DOM}(WebIO.DOM(:html, :span), Any[Node{WebIO.DOM}(WebIO.DOM(:html, :label), Any[], Dict{Symbol,Any}(:attributes => Dict(\"data-bind\" => \"text : key\")))], Dict{Symbol,Any}(:attributes => Dict(\"data-bind\" => \"click: function (){\\$root.update(val)}, css: {'is-primary is-selected' : \\$root.index() == val, 'interact-widget is-medium button ' : true}\")))], Dict{Symbol,Any}(:attributes => (\"data-bind\" => \"foreach : options_js\"),:className => \"buttons has-addons is-centered\"))], Dict{Symbol,Any}(:className => \"interact-flex-row-center\")), Node{WebIO.DOM}(WebIO.DOM(:html, :div), Any[Node{WebIO.DOM}(WebIO.DOM(:html, :div), Any[], Dict{Symbol,Any}())], Dict{Symbol,Any}(:className => \"interact-flex-row-right\"))], Dict{Symbol,Any}(:className => \"interact-flex-row interact-widget\")), Dict{String,Tuple{Observables.AbstractObservable,Union{Nothing, Bool}}}(\"options_js\" => (Observable{Any} with 1 listeners. Value:\n",
       "OrderedDict[OrderedDict{String,Any}(\"key\" => \"Geometric\",\"val\" => 1,\"id\" => \"id4BbYJ4LL\"), OrderedDict{String,Any}(\"key\" => \"Exponential\",\"val\" => 2,\"id\" => \"idOB3uzw1X\")], nothing),\"index\" => (Observable{Any} with 2 listeners. Value:\n",
       "1, nothing)), Set(String[]), nothing, Asset[Asset(\"js\", \"knockout\", \"C:\\\\Users\\\\matte\\\\.julia\\\\packages\\\\Knockout\\\\1sDlc\\\\src\\\\..\\\\assets\\\\knockout.js\"), Asset(\"js\", \"knockout_punches\", \"C:\\\\Users\\\\matte\\\\.julia\\\\packages\\\\Knockout\\\\1sDlc\\\\src\\\\..\\\\assets\\\\knockout_punches.js\"), Asset(\"js\", nothing, \"C:\\\\Users\\\\matte\\\\.julia\\\\packages\\\\InteractBase\\\\9mFwe\\\\src\\\\..\\\\assets\\\\all.js\"), Asset(\"css\", nothing, \"C:\\\\Users\\\\matte\\\\.julia\\\\packages\\\\InteractBase\\\\9mFwe\\\\src\\\\..\\\\assets\\\\style.css\"), Asset(\"css\", nothing, \"C:\\\\Users\\\\matte\\\\.julia\\\\packages\\\\Interact\\\\SbgIk\\\\src\\\\..\\\\assets\\\\bulma_confined.min.css\")], Dict{Any,Any}(\"options_js\" => Any[WebIO.JSString(\"(function (val){return (val!=this.model[\\\"options_js\\\"]()) ? (this.valueFromJulia[\\\"options_js\\\"]=true, this.model[\\\"options_js\\\"](val)) : undefined})\")],\"index\" => Any[WebIO.JSString(\"(function (val){return (val!=this.model[\\\"index\\\"]()) ? (this.valueFromJulia[\\\"index\\\"]=true, this.model[\\\"index\\\"](val)) : undefined})\")]), WebIO.ConnectionPool(Channel{Any}(sz_max:32,sz_curr:0), Set(AbstractConnection[]), Base.GenericCondition{Base.AlwaysLockedST}(Base.InvasiveLinkedList{Task}(Task (runnable) @0x000000003051b0f0, Task (runnable) @0x000000003051b0f0), Base.AlwaysLockedST(1))), WebIO.JSString[WebIO.JSString(\"function () {\\n    var handler = (function (ko, koPunches) {\\n    ko.punches.enableAll();\\n    ko.bindingHandlers.numericValue = {\\n        init: function(element, valueAccessor, allBindings, data, context) {\\n            var stringified = ko.observable(ko.unwrap(valueAccessor()));\\n            stringified.subscribe(function(value) {\\n                var val = parseFloat(value);\\n                if (!isNaN(val)) {\\n                    valueAccessor()(val);\\n                }\\n            });\\n            valueAccessor().subscribe(function(value) {\\n                var str = JSON.stringify(value);\\n                if ((str == \\\"0\\\") && ([\\\"-0\\\", \\\"-0.\\\"].indexOf(stringified()) >= 0))\\n                     return;\\n                 if ([\\\"null\\\", \\\"\\\"].indexOf(str) >= 0)\\n                     return;\\n                stringified(str);\\n            });\\n            ko.applyBindingsToNode(\\n                element,\\n                {\\n                    value: stringified,\\n                    valueUpdate: allBindings.get('valueUpdate'),\\n                },\\n                context,\\n            );\\n        }\\n    };\\n    var json_data = {\\\"options_js\\\":WebIO.getval({\\\"name\\\":\\\"options_js\\\",\\\"scope\\\":\\\"84324617763087244\\\",\\\"id\\\":\\\"ob_522\\\",\\\"type\\\":\\\"observable\\\"}),\\\"index\\\":WebIO.getval({\\\"name\\\":\\\"index\\\",\\\"scope\\\":\\\"84324617763087244\\\",\\\"id\\\":\\\"ob_521\\\",\\\"type\\\":\\\"observable\\\"})};\\n    var self = this;\\n    function AppViewModel() {\\n        for (var key in json_data) {\\n            var el = json_data[key];\\n            this[key] = Array.isArray(el) ? ko.observableArray(el) : ko.observable(el);\\n        }\\n        [this[\\\"update\\\"]=function (val) {this.index(val)}]\\n        \\n        [this[\\\"options_js\\\"].subscribe((function (val){!(this.valueFromJulia[\\\"options_js\\\"]) ? (WebIO.setval({\\\"name\\\":\\\"options_js\\\",\\\"scope\\\":\\\"84324617763087244\\\",\\\"id\\\":\\\"ob_522\\\",\\\"type\\\":\\\"observable\\\"},val)) : undefined; return this.valueFromJulia[\\\"options_js\\\"]=false}),self),this[\\\"index\\\"].subscribe((function (val){!(this.valueFromJulia[\\\"index\\\"]) ? (WebIO.setval({\\\"name\\\":\\\"index\\\",\\\"scope\\\":\\\"84324617763087244\\\",\\\"id\\\":\\\"ob_521\\\",\\\"type\\\":\\\"observable\\\"},val)) : undefined; return this.valueFromJulia[\\\"index\\\"]=false}),self)]\\n        \\n    }\\n    self.model = new AppViewModel();\\n    self.valueFromJulia = {};\\n    for (var key in json_data) {\\n        self.valueFromJulia[key] = false;\\n    }\\n    ko.applyBindings(self.model, self.dom);\\n}\\n);\\n    (WebIO.importBlock({\\\"data\\\":[{\\\"name\\\":\\\"knockout\\\",\\\"type\\\":\\\"js\\\",\\\"url\\\":\\\"/assetserver/254160226b58162a42111ea27214076747de1cf2-knockout.js\\\"},{\\\"name\\\":\\\"knockout_punches\\\",\\\"type\\\":\\\"js\\\",\\\"url\\\":\\\"/assetserver/2d0bf510fb683322318163f3ec7562806e4b1104-knockout_punches.js\\\"}],\\\"type\\\":\\\"async_block\\\"})).then((imports) => handler.apply(this, imports));\\n}\\n\")])], Dict{Symbol,Any}(:className => \"interact-widget\")), Node{WebIO.DOM}(WebIO.DOM(:html, :div), Any[Scope(Node{WebIO.DOM}(WebIO.DOM(:html, :div), Any[Node{WebIO.DOM}(WebIO.DOM(:html, :div), Any[Node{WebIO.DOM}(WebIO.DOM(:html, :label), Any[\"q\"], Dict{Symbol,Any}(:className => \"interact \",:style => Dict{Any,Any}(:padding => \"5px 10px 0px 10px\")))], Dict{Symbol,Any}(:className => \"interact-flex-row-left\")), Node{WebIO.DOM}(WebIO.DOM(:html, :div), Any[Node{WebIO.DOM}(WebIO.DOM(:html, :input), Any[], Dict{Symbol,Any}(:max => 9,:min => 1,:attributes => Dict{Any,Any}(:type => \"range\",Symbol(\"data-bind\") => \"numericValue: index, valueUpdate: 'input', event: {change: function (){this.changes(this.changes()+1)}}\",\"orient\" => \"horizontal\"),:step => 1,:className => \"slider slider is-fullwidth\",:style => Dict{Any,Any}()))], Dict{Symbol,Any}(:className => \"interact-flex-row-center\")), Node{WebIO.DOM}(WebIO.DOM(:html, :div), Any[Node{WebIO.DOM}(WebIO.DOM(:html, :p), Any[], Dict{Symbol,Any}(:attributes => Dict(\"data-bind\" => \"text: formatted_val\")))], Dict{Symbol,Any}(:className => \"interact-flex-row-right\"))], Dict{Symbol,Any}(:className => \"interact-flex-row interact-widget\")), Dict{String,Tuple{Observables.AbstractObservable,Union{Nothing, Bool}}}(\"changes\" => (Observable{Int64} with 1 listeners. Value:\n",
       "0, nothing),\"index\" => (Observable{Any} with 2 listeners. Value:\n",
       "5, nothing)), Set(String[]), nothing, Asset[Asset(\"js\", \"knockout\", \"C:\\\\Users\\\\matte\\\\.julia\\\\packages\\\\Knockout\\\\1sDlc\\\\src\\\\..\\\\assets\\\\knockout.js\"), Asset(\"js\", \"knockout_punches\", \"C:\\\\Users\\\\matte\\\\.julia\\\\packages\\\\Knockout\\\\1sDlc\\\\src\\\\..\\\\assets\\\\knockout_punches.js\"), Asset(\"js\", nothing, \"C:\\\\Users\\\\matte\\\\.julia\\\\packages\\\\InteractBase\\\\9mFwe\\\\src\\\\..\\\\assets\\\\all.js\"), Asset(\"css\", nothing, \"C:\\\\Users\\\\matte\\\\.julia\\\\packages\\\\InteractBase\\\\9mFwe\\\\src\\\\..\\\\assets\\\\style.css\"), Asset(\"css\", nothing, \"C:\\\\Users\\\\matte\\\\.julia\\\\packages\\\\Interact\\\\SbgIk\\\\src\\\\..\\\\assets\\\\bulma_confined.min.css\")], Dict{Any,Any}(\"changes\" => Any[WebIO.JSString(\"(function (val){return (val!=this.model[\\\"changes\\\"]()) ? (this.valueFromJulia[\\\"changes\\\"]=true, this.model[\\\"changes\\\"](val)) : undefined})\")],\"index\" => Any[WebIO.JSString(\"(function (val){return (val!=this.model[\\\"index\\\"]()) ? (this.valueFromJulia[\\\"index\\\"]=true, this.model[\\\"index\\\"](val)) : undefined})\")]), WebIO.ConnectionPool(Channel{Any}(sz_max:32,sz_curr:0), Set(AbstractConnection[]), Base.GenericCondition{Base.AlwaysLockedST}(Base.InvasiveLinkedList{Task}(Task (runnable) @0x000000003051b3d0, Task (runnable) @0x000000003051b3d0), Base.AlwaysLockedST(1))), WebIO.JSString[WebIO.JSString(\"function () {\\n    var handler = (function (ko, koPunches) {\\n    ko.punches.enableAll();\\n    ko.bindingHandlers.numericValue = {\\n        init: function(element, valueAccessor, allBindings, data, context) {\\n            var stringified = ko.observable(ko.unwrap(valueAccessor()));\\n            stringified.subscribe(function(value) {\\n                var val = parseFloat(value);\\n                if (!isNaN(val)) {\\n                    valueAccessor()(val);\\n                }\\n            });\\n            valueAccessor().subscribe(function(value) {\\n                var str = JSON.stringify(value);\\n                if ((str == \\\"0\\\") && ([\\\"-0\\\", \\\"-0.\\\"].indexOf(stringified()) >= 0))\\n                     return;\\n                 if ([\\\"null\\\", \\\"\\\"].indexOf(str) >= 0)\\n                     return;\\n                stringified(str);\\n            });\\n            ko.applyBindingsToNode(\\n                element,\\n                {\\n                    value: stringified,\\n                    valueUpdate: allBindings.get('valueUpdate'),\\n                },\\n                context,\\n            );\\n        }\\n    };\\n    var json_data = {\\\"formatted_vals\\\":[\\\"0.1\\\",\\\"0.2\\\",\\\"0.3\\\",\\\"0.4\\\",\\\"0.5\\\",\\\"0.6\\\",\\\"0.7\\\",\\\"0.8\\\",\\\"0.9\\\"],\\\"changes\\\":WebIO.getval({\\\"name\\\":\\\"changes\\\",\\\"scope\\\":\\\"15579242857745661435\\\",\\\"id\\\":\\\"ob_525\\\",\\\"type\\\":\\\"observable\\\"}),\\\"index\\\":WebIO.getval({\\\"name\\\":\\\"index\\\",\\\"scope\\\":\\\"15579242857745661435\\\",\\\"id\\\":\\\"ob_524\\\",\\\"type\\\":\\\"observable\\\"})};\\n    var self = this;\\n    function AppViewModel() {\\n        for (var key in json_data) {\\n            var el = json_data[key];\\n            this[key] = Array.isArray(el) ? ko.observableArray(el) : ko.observable(el);\\n        }\\n        \\n        [this[\\\"formatted_val\\\"]=ko.computed(    function(){\\n        return this.formatted_vals()[parseInt(this.index())-(1)];\\n    }\\n,this)]\\n        [this[\\\"changes\\\"].subscribe((function (val){!(this.valueFromJulia[\\\"changes\\\"]) ? (WebIO.setval({\\\"name\\\":\\\"changes\\\",\\\"scope\\\":\\\"15579242857745661435\\\",\\\"id\\\":\\\"ob_525\\\",\\\"type\\\":\\\"observable\\\"},val)) : undefined; return this.valueFromJulia[\\\"changes\\\"]=false}),self),this[\\\"index\\\"].subscribe((function (val){!(this.valueFromJulia[\\\"index\\\"]) ? (WebIO.setval({\\\"name\\\":\\\"index\\\",\\\"scope\\\":\\\"15579242857745661435\\\",\\\"id\\\":\\\"ob_524\\\",\\\"type\\\":\\\"observable\\\"},val)) : undefined; return this.valueFromJulia[\\\"index\\\"]=false}),self)]\\n        \\n    }\\n    self.model = new AppViewModel();\\n    self.valueFromJulia = {};\\n    for (var key in json_data) {\\n        self.valueFromJulia[key] = false;\\n    }\\n    ko.applyBindings(self.model, self.dom);\\n}\\n);\\n    (WebIO.importBlock({\\\"data\\\":[{\\\"name\\\":\\\"knockout\\\",\\\"type\\\":\\\"js\\\",\\\"url\\\":\\\"/assetserver/254160226b58162a42111ea27214076747de1cf2-knockout.js\\\"},{\\\"name\\\":\\\"knockout_punches\\\",\\\"type\\\":\\\"js\\\",\\\"url\\\":\\\"/assetserver/2d0bf510fb683322318163f3ec7562806e4b1104-knockout_punches.js\\\"}],\\\"type\\\":\\\"async_block\\\"})).then((imports) => handler.apply(this, imports));\\n}\\n\")])], Dict{Symbol,Any}(:className => \"field interact-widget\")), Node{WebIO.DOM}(WebIO.DOM(:html, :div), Any[Scope(Node{WebIO.DOM}(WebIO.DOM(:html, :div), Any[Node{WebIO.DOM}(WebIO.DOM(:html, :div), Any[Node{WebIO.DOM}(WebIO.DOM(:html, :label), Any[\"λ\"], Dict{Symbol,Any}(:className => \"interact \",:style => Dict{Any,Any}(:padding => \"5px 10px 0px 10px\")))], Dict{Symbol,Any}(:className => \"interact-flex-row-left\")), Node{WebIO.DOM}(WebIO.DOM(:html, :div), Any[Node{WebIO.DOM}(WebIO.DOM(:html, :input), Any[], Dict{Symbol,Any}(:max => 10,:min => 1,:attributes => Dict{Any,Any}(:type => \"range\",Symbol(\"data-bind\") => \"numericValue: index, valueUpdate: 'input', event: {change: function (){this.changes(this.changes()+1)}}\",\"orient\" => \"horizontal\"),:step => 1,:className => \"slider slider is-fullwidth\",:style => Dict{Any,Any}()))], Dict{Symbol,Any}(:className => \"interact-flex-row-center\")), Node{WebIO.DOM}(WebIO.DOM(:html, :div), Any[Node{WebIO.DOM}(WebIO.DOM(:html, :p), Any[], Dict{Symbol,Any}(:attributes => Dict(\"data-bind\" => \"text: formatted_val\")))], Dict{Symbol,Any}(:className => \"interact-flex-row-right\"))], Dict{Symbol,Any}(:className => \"interact-flex-row interact-widget\")), Dict{String,Tuple{Observables.AbstractObservable,Union{Nothing, Bool}}}(\"changes\" => (Observable{Int64} with 1 listeners. Value:\n",
       "0, nothing),\"index\" => (Observable{Int64} with 2 listeners. Value:\n",
       "5, nothing)), Set(String[]), nothing, Asset[Asset(\"js\", \"knockout\", \"C:\\\\Users\\\\matte\\\\.julia\\\\packages\\\\Knockout\\\\1sDlc\\\\src\\\\..\\\\assets\\\\knockout.js\"), Asset(\"js\", \"knockout_punches\", \"C:\\\\Users\\\\matte\\\\.julia\\\\packages\\\\Knockout\\\\1sDlc\\\\src\\\\..\\\\assets\\\\knockout_punches.js\"), Asset(\"js\", nothing, \"C:\\\\Users\\\\matte\\\\.julia\\\\packages\\\\InteractBase\\\\9mFwe\\\\src\\\\..\\\\assets\\\\all.js\"), Asset(\"css\", nothing, \"C:\\\\Users\\\\matte\\\\.julia\\\\packages\\\\InteractBase\\\\9mFwe\\\\src\\\\..\\\\assets\\\\style.css\"), Asset(\"css\", nothing, \"C:\\\\Users\\\\matte\\\\.julia\\\\packages\\\\Interact\\\\SbgIk\\\\src\\\\..\\\\assets\\\\bulma_confined.min.css\")], Dict{Any,Any}(\"changes\" => Any[WebIO.JSString(\"(function (val){return (val!=this.model[\\\"changes\\\"]()) ? (this.valueFromJulia[\\\"changes\\\"]=true, this.model[\\\"changes\\\"](val)) : undefined})\")],\"index\" => Any[WebIO.JSString(\"(function (val){return (val!=this.model[\\\"index\\\"]()) ? (this.valueFromJulia[\\\"index\\\"]=true, this.model[\\\"index\\\"](val)) : undefined})\")]), WebIO.ConnectionPool(Channel{Any}(sz_max:32,sz_curr:0), Set(AbstractConnection[]), Base.GenericCondition{Base.AlwaysLockedST}(Base.InvasiveLinkedList{Task}(Task (runnable) @0x000000003051b6b0, Task (runnable) @0x000000003051b6b0), Base.AlwaysLockedST(1))), WebIO.JSString[WebIO.JSString(\"function () {\\n    var handler = (function (ko, koPunches) {\\n    ko.punches.enableAll();\\n    ko.bindingHandlers.numericValue = {\\n        init: function(element, valueAccessor, allBindings, data, context) {\\n            var stringified = ko.observable(ko.unwrap(valueAccessor()));\\n            stringified.subscribe(function(value) {\\n                var val = parseFloat(value);\\n                if (!isNaN(val)) {\\n                    valueAccessor()(val);\\n                }\\n            });\\n            valueAccessor().subscribe(function(value) {\\n                var str = JSON.stringify(value);\\n                if ((str == \\\"0\\\") && ([\\\"-0\\\", \\\"-0.\\\"].indexOf(stringified()) >= 0))\\n                     return;\\n                 if ([\\\"null\\\", \\\"\\\"].indexOf(str) >= 0)\\n                     return;\\n                stringified(str);\\n            });\\n            ko.applyBindingsToNode(\\n                element,\\n                {\\n                    value: stringified,\\n                    valueUpdate: allBindings.get('valueUpdate'),\\n                },\\n                context,\\n            );\\n        }\\n    };\\n    var json_data = {\\\"formatted_vals\\\":[\\\"1\\\",\\\"2\\\",\\\"3\\\",\\\"4\\\",\\\"5\\\",\\\"6\\\",\\\"7\\\",\\\"8\\\",\\\"9\\\",\\\"10\\\"],\\\"changes\\\":WebIO.getval({\\\"name\\\":\\\"changes\\\",\\\"scope\\\":\\\"2936884827985194111\\\",\\\"id\\\":\\\"ob_527\\\",\\\"type\\\":\\\"observable\\\"}),\\\"index\\\":WebIO.getval({\\\"name\\\":\\\"index\\\",\\\"scope\\\":\\\"2936884827985194111\\\",\\\"id\\\":\\\"ob_526\\\",\\\"type\\\":\\\"observable\\\"})};\\n    var self = this;\\n    function AppViewModel() {\\n        for (var key in json_data) {\\n            var el = json_data[key];\\n            this[key] = Array.isArray(el) ? ko.observableArray(el) : ko.observable(el);\\n        }\\n        \\n        [this[\\\"formatted_val\\\"]=ko.computed(    function(){\\n        return this.formatted_vals()[parseInt(this.index())-(1)];\\n    }\\n,this)]\\n        [this[\\\"changes\\\"].subscribe((function (val){!(this.valueFromJulia[\\\"changes\\\"]) ? (WebIO.setval({\\\"name\\\":\\\"changes\\\",\\\"scope\\\":\\\"2936884827985194111\\\",\\\"id\\\":\\\"ob_527\\\",\\\"type\\\":\\\"observable\\\"},val)) : undefined; return this.valueFromJulia[\\\"changes\\\"]=false}),self),this[\\\"index\\\"].subscribe((function (val){!(this.valueFromJulia[\\\"index\\\"]) ? (WebIO.setval({\\\"name\\\":\\\"index\\\",\\\"scope\\\":\\\"2936884827985194111\\\",\\\"id\\\":\\\"ob_526\\\",\\\"type\\\":\\\"observable\\\"},val)) : undefined; return this.valueFromJulia[\\\"index\\\"]=false}),self)]\\n        \\n    }\\n    self.model = new AppViewModel();\\n    self.valueFromJulia = {};\\n    for (var key in json_data) {\\n        self.valueFromJulia[key] = false;\\n    }\\n    ko.applyBindings(self.model, self.dom);\\n}\\n);\\n    (WebIO.importBlock({\\\"data\\\":[{\\\"name\\\":\\\"knockout\\\",\\\"type\\\":\\\"js\\\",\\\"url\\\":\\\"/assetserver/254160226b58162a42111ea27214076747de1cf2-knockout.js\\\"},{\\\"name\\\":\\\"knockout_punches\\\",\\\"type\\\":\\\"js\\\",\\\"url\\\":\\\"/assetserver/2d0bf510fb683322318163f3ec7562806e4b1104-knockout_punches.js\\\"}],\\\"type\\\":\\\"async_block\\\"})).then((imports) => handler.apply(this, imports));\\n}\\n\")])], Dict{Symbol,Any}(:className => \"field interact-widget\")), Observable{Any} with 0 listeners. Value:\n",
       "Node{WebIO.DOM}(WebIO.DOM(:html, :div), Any[Plot{Plots.GRBackend() n=2}], Dict{Symbol,Any}(:className => \"interact-flex-row interact-widget\"))], Dict{Symbol,Any}())"
      ]
     },
     "execution_count": 197,
     "metadata": {
      "application/vnd.webio.node+json": {
       "kernelId": "cd19c830-5d4e-48f4-bb59-770b2c1df0a8"
      }
     },
     "output_type": "execute_result"
    }
   ],
   "source": [
    "@manipulate for N = RANGE_N, law_name = [\"Geometric\", \"Exponential\"], q = RANGE_q, λ = RANGE_λ\n",
    "    if(law_name == \"Geometric\")\n",
    "        res = d[law_name][q][N]\n",
    "        γ, σ = renorm_params(Geometric(q))\n",
    "    else\n",
    "        res = d[law_name][λ][N]\n",
    "        γ, σ = renorm_params(Exponential(λ))\n",
    "    end\n",
    "    norm_res = (res .- γ*N) ./ (σ * N^(1/3))\n",
    "    histogram(norm_res, normalize=true, bins=-5:0.2:2.5)\n",
    "    plot!(xs, TW_pdf, lw = 3, color = \"red\", label = \"Tracy-Widom PDF\")\n",
    "end"
   ]
  },
  {
   "cell_type": "code",
   "execution_count": 149,
   "metadata": {},
   "outputs": [
    {
     "data": {
      "image/svg+xml": [
       "<?xml version=\"1.0\" encoding=\"utf-8\"?>\n",
       "<svg xmlns=\"http://www.w3.org/2000/svg\" xmlns:xlink=\"http://www.w3.org/1999/xlink\" width=\"600\" height=\"400\" viewBox=\"0 0 2400 1600\">\n",
       "<defs>\n",
       "  <clipPath id=\"clip0100\">\n",
       "    <rect x=\"0\" y=\"0\" width=\"2400\" height=\"1600\"/>\n",
       "  </clipPath>\n",
       "</defs>\n",
       "<path clip-path=\"url(#clip0100)\" d=\"\n",
       "M0 1600 L2400 1600 L2400 0 L0 0  Z\n",
       "  \" fill=\"#ffffff\" fill-rule=\"evenodd\" fill-opacity=\"1\"/>\n",
       "<defs>\n",
       "  <clipPath id=\"clip0101\">\n",
       "    <rect x=\"480\" y=\"0\" width=\"1681\" height=\"1600\"/>\n",
       "  </clipPath>\n",
       "</defs>\n",
       "<path clip-path=\"url(#clip0100)\" d=\"\n",
       "M153.898 1487.47 L2352.76 1487.47 L2352.76 47.2441 L153.898 47.2441  Z\n",
       "  \" fill=\"#ffffff\" fill-rule=\"evenodd\" fill-opacity=\"1\"/>\n",
       "<defs>\n",
       "  <clipPath id=\"clip0102\">\n",
       "    <rect x=\"153\" y=\"47\" width=\"2200\" height=\"1441\"/>\n",
       "  </clipPath>\n",
       "</defs>\n",
       "<polyline clip-path=\"url(#clip0102)\" style=\"stroke:#000000; stroke-width:2; stroke-opacity:0.1; fill:none\" points=\"\n",
       "  388.996,1487.47 388.996,47.2441 \n",
       "  \"/>\n",
       "<polyline clip-path=\"url(#clip0102)\" style=\"stroke:#000000; stroke-width:2; stroke-opacity:0.1; fill:none\" points=\"\n",
       "  821.161,1487.47 821.161,47.2441 \n",
       "  \"/>\n",
       "<polyline clip-path=\"url(#clip0102)\" style=\"stroke:#000000; stroke-width:2; stroke-opacity:0.1; fill:none\" points=\"\n",
       "  1253.33,1487.47 1253.33,47.2441 \n",
       "  \"/>\n",
       "<polyline clip-path=\"url(#clip0102)\" style=\"stroke:#000000; stroke-width:2; stroke-opacity:0.1; fill:none\" points=\"\n",
       "  1685.49,1487.47 1685.49,47.2441 \n",
       "  \"/>\n",
       "<polyline clip-path=\"url(#clip0102)\" style=\"stroke:#000000; stroke-width:2; stroke-opacity:0.1; fill:none\" points=\"\n",
       "  2117.66,1487.47 2117.66,47.2441 \n",
       "  \"/>\n",
       "<polyline clip-path=\"url(#clip0102)\" style=\"stroke:#000000; stroke-width:2; stroke-opacity:0.1; fill:none\" points=\"\n",
       "  153.898,1446.71 2352.76,1446.71 \n",
       "  \"/>\n",
       "<polyline clip-path=\"url(#clip0102)\" style=\"stroke:#000000; stroke-width:2; stroke-opacity:0.1; fill:none\" points=\"\n",
       "  153.898,1210.42 2352.76,1210.42 \n",
       "  \"/>\n",
       "<polyline clip-path=\"url(#clip0102)\" style=\"stroke:#000000; stroke-width:2; stroke-opacity:0.1; fill:none\" points=\"\n",
       "  153.898,974.119 2352.76,974.119 \n",
       "  \"/>\n",
       "<polyline clip-path=\"url(#clip0102)\" style=\"stroke:#000000; stroke-width:2; stroke-opacity:0.1; fill:none\" points=\"\n",
       "  153.898,737.822 2352.76,737.822 \n",
       "  \"/>\n",
       "<polyline clip-path=\"url(#clip0102)\" style=\"stroke:#000000; stroke-width:2; stroke-opacity:0.1; fill:none\" points=\"\n",
       "  153.898,501.525 2352.76,501.525 \n",
       "  \"/>\n",
       "<polyline clip-path=\"url(#clip0102)\" style=\"stroke:#000000; stroke-width:2; stroke-opacity:0.1; fill:none\" points=\"\n",
       "  153.898,265.228 2352.76,265.228 \n",
       "  \"/>\n",
       "<polyline clip-path=\"url(#clip0100)\" style=\"stroke:#000000; stroke-width:4; stroke-opacity:1; fill:none\" points=\"\n",
       "  153.898,1487.47 2352.76,1487.47 \n",
       "  \"/>\n",
       "<polyline clip-path=\"url(#clip0100)\" style=\"stroke:#000000; stroke-width:4; stroke-opacity:1; fill:none\" points=\"\n",
       "  153.898,1487.47 153.898,47.2441 \n",
       "  \"/>\n",
       "<polyline clip-path=\"url(#clip0100)\" style=\"stroke:#000000; stroke-width:4; stroke-opacity:1; fill:none\" points=\"\n",
       "  388.996,1487.47 388.996,1465.87 \n",
       "  \"/>\n",
       "<polyline clip-path=\"url(#clip0100)\" style=\"stroke:#000000; stroke-width:4; stroke-opacity:1; fill:none\" points=\"\n",
       "  821.161,1487.47 821.161,1465.87 \n",
       "  \"/>\n",
       "<polyline clip-path=\"url(#clip0100)\" style=\"stroke:#000000; stroke-width:4; stroke-opacity:1; fill:none\" points=\"\n",
       "  1253.33,1487.47 1253.33,1465.87 \n",
       "  \"/>\n",
       "<polyline clip-path=\"url(#clip0100)\" style=\"stroke:#000000; stroke-width:4; stroke-opacity:1; fill:none\" points=\"\n",
       "  1685.49,1487.47 1685.49,1465.87 \n",
       "  \"/>\n",
       "<polyline clip-path=\"url(#clip0100)\" style=\"stroke:#000000; stroke-width:4; stroke-opacity:1; fill:none\" points=\"\n",
       "  2117.66,1487.47 2117.66,1465.87 \n",
       "  \"/>\n",
       "<polyline clip-path=\"url(#clip0100)\" style=\"stroke:#000000; stroke-width:4; stroke-opacity:1; fill:none\" points=\"\n",
       "  153.898,1446.71 186.881,1446.71 \n",
       "  \"/>\n",
       "<polyline clip-path=\"url(#clip0100)\" style=\"stroke:#000000; stroke-width:4; stroke-opacity:1; fill:none\" points=\"\n",
       "  153.898,1210.42 186.881,1210.42 \n",
       "  \"/>\n",
       "<polyline clip-path=\"url(#clip0100)\" style=\"stroke:#000000; stroke-width:4; stroke-opacity:1; fill:none\" points=\"\n",
       "  153.898,974.119 186.881,974.119 \n",
       "  \"/>\n",
       "<polyline clip-path=\"url(#clip0100)\" style=\"stroke:#000000; stroke-width:4; stroke-opacity:1; fill:none\" points=\"\n",
       "  153.898,737.822 186.881,737.822 \n",
       "  \"/>\n",
       "<polyline clip-path=\"url(#clip0100)\" style=\"stroke:#000000; stroke-width:4; stroke-opacity:1; fill:none\" points=\"\n",
       "  153.898,501.525 186.881,501.525 \n",
       "  \"/>\n",
       "<polyline clip-path=\"url(#clip0100)\" style=\"stroke:#000000; stroke-width:4; stroke-opacity:1; fill:none\" points=\"\n",
       "  153.898,265.228 186.881,265.228 \n",
       "  \"/>\n",
       "<g clip-path=\"url(#clip0100)\">\n",
       "<text style=\"fill:#000000; fill-opacity:1; font-family:Arial,Helvetica Neue,Helvetica,sans-serif; font-size:48px; text-anchor:middle;\" transform=\"rotate(0, 388.996, 1541.47)\" x=\"388.996\" y=\"1541.47\">-5.0</text>\n",
       "</g>\n",
       "<g clip-path=\"url(#clip0100)\">\n",
       "<text style=\"fill:#000000; fill-opacity:1; font-family:Arial,Helvetica Neue,Helvetica,sans-serif; font-size:48px; text-anchor:middle;\" transform=\"rotate(0, 821.161, 1541.47)\" x=\"821.161\" y=\"1541.47\">-2.5</text>\n",
       "</g>\n",
       "<g clip-path=\"url(#clip0100)\">\n",
       "<text style=\"fill:#000000; fill-opacity:1; font-family:Arial,Helvetica Neue,Helvetica,sans-serif; font-size:48px; text-anchor:middle;\" transform=\"rotate(0, 1253.33, 1541.47)\" x=\"1253.33\" y=\"1541.47\">0.0</text>\n",
       "</g>\n",
       "<g clip-path=\"url(#clip0100)\">\n",
       "<text style=\"fill:#000000; fill-opacity:1; font-family:Arial,Helvetica Neue,Helvetica,sans-serif; font-size:48px; text-anchor:middle;\" transform=\"rotate(0, 1685.49, 1541.47)\" x=\"1685.49\" y=\"1541.47\">2.5</text>\n",
       "</g>\n",
       "<g clip-path=\"url(#clip0100)\">\n",
       "<text style=\"fill:#000000; fill-opacity:1; font-family:Arial,Helvetica Neue,Helvetica,sans-serif; font-size:48px; text-anchor:middle;\" transform=\"rotate(0, 2117.66, 1541.47)\" x=\"2117.66\" y=\"1541.47\">5.0</text>\n",
       "</g>\n",
       "<g clip-path=\"url(#clip0100)\">\n",
       "<text style=\"fill:#000000; fill-opacity:1; font-family:Arial,Helvetica Neue,Helvetica,sans-serif; font-size:48px; text-anchor:end;\" transform=\"rotate(0, 129.898, 1464.21)\" x=\"129.898\" y=\"1464.21\">0.0</text>\n",
       "</g>\n",
       "<g clip-path=\"url(#clip0100)\">\n",
       "<text style=\"fill:#000000; fill-opacity:1; font-family:Arial,Helvetica Neue,Helvetica,sans-serif; font-size:48px; text-anchor:end;\" transform=\"rotate(0, 129.898, 1227.92)\" x=\"129.898\" y=\"1227.92\">0.1</text>\n",
       "</g>\n",
       "<g clip-path=\"url(#clip0100)\">\n",
       "<text style=\"fill:#000000; fill-opacity:1; font-family:Arial,Helvetica Neue,Helvetica,sans-serif; font-size:48px; text-anchor:end;\" transform=\"rotate(0, 129.898, 991.619)\" x=\"129.898\" y=\"991.619\">0.2</text>\n",
       "</g>\n",
       "<g clip-path=\"url(#clip0100)\">\n",
       "<text style=\"fill:#000000; fill-opacity:1; font-family:Arial,Helvetica Neue,Helvetica,sans-serif; font-size:48px; text-anchor:end;\" transform=\"rotate(0, 129.898, 755.322)\" x=\"129.898\" y=\"755.322\">0.3</text>\n",
       "</g>\n",
       "<g clip-path=\"url(#clip0100)\">\n",
       "<text style=\"fill:#000000; fill-opacity:1; font-family:Arial,Helvetica Neue,Helvetica,sans-serif; font-size:48px; text-anchor:end;\" transform=\"rotate(0, 129.898, 519.025)\" x=\"129.898\" y=\"519.025\">0.4</text>\n",
       "</g>\n",
       "<g clip-path=\"url(#clip0100)\">\n",
       "<text style=\"fill:#000000; fill-opacity:1; font-family:Arial,Helvetica Neue,Helvetica,sans-serif; font-size:48px; text-anchor:end;\" transform=\"rotate(0, 129.898, 282.728)\" x=\"129.898\" y=\"282.728\">0.5</text>\n",
       "</g>\n",
       "<path clip-path=\"url(#clip0102)\" d=\"\n",
       "M388.996 1446.71 L388.996 1446.71 L423.569 1446.71 L423.569 1446.71 L388.996 1446.71 L388.996 1446.71  Z\n",
       "  \" fill=\"#009af9\" fill-rule=\"evenodd\" fill-opacity=\"1\"/>\n",
       "<polyline clip-path=\"url(#clip0102)\" style=\"stroke:#000000; stroke-width:4; stroke-opacity:1; fill:none\" points=\"\n",
       "  388.996,1446.71 388.996,1446.71 423.569,1446.71 388.996,1446.71 \n",
       "  \"/>\n",
       "<path clip-path=\"url(#clip0102)\" d=\"\n",
       "M423.569 1446.71 L423.569 1446.71 L458.142 1446.71 L458.142 1446.71 L423.569 1446.71 L423.569 1446.71  Z\n",
       "  \" fill=\"#009af9\" fill-rule=\"evenodd\" fill-opacity=\"1\"/>\n",
       "<polyline clip-path=\"url(#clip0102)\" style=\"stroke:#000000; stroke-width:4; stroke-opacity:1; fill:none\" points=\"\n",
       "  423.569,1446.71 423.569,1446.71 458.142,1446.71 423.569,1446.71 \n",
       "  \"/>\n",
       "<path clip-path=\"url(#clip0102)\" d=\"\n",
       "M458.142 1446.71 L458.142 1446.71 L492.716 1446.71 L492.716 1446.71 L458.142 1446.71 L458.142 1446.71  Z\n",
       "  \" fill=\"#009af9\" fill-rule=\"evenodd\" fill-opacity=\"1\"/>\n",
       "<polyline clip-path=\"url(#clip0102)\" style=\"stroke:#000000; stroke-width:4; stroke-opacity:1; fill:none\" points=\"\n",
       "  458.142,1446.71 458.142,1446.71 492.716,1446.71 458.142,1446.71 \n",
       "  \"/>\n",
       "<path clip-path=\"url(#clip0102)\" d=\"\n",
       "M492.716 1446.71 L492.716 1446.71 L527.289 1446.71 L527.289 1446.71 L492.716 1446.71 L492.716 1446.71  Z\n",
       "  \" fill=\"#009af9\" fill-rule=\"evenodd\" fill-opacity=\"1\"/>\n",
       "<polyline clip-path=\"url(#clip0102)\" style=\"stroke:#000000; stroke-width:4; stroke-opacity:1; fill:none\" points=\"\n",
       "  492.716,1446.71 492.716,1446.71 527.289,1446.71 492.716,1446.71 \n",
       "  \"/>\n",
       "<path clip-path=\"url(#clip0102)\" d=\"\n",
       "M527.289 1446.71 L527.289 1446.71 L561.862 1446.71 L561.862 1446.71 L527.289 1446.71 L527.289 1446.71  Z\n",
       "  \" fill=\"#009af9\" fill-rule=\"evenodd\" fill-opacity=\"1\"/>\n",
       "<polyline clip-path=\"url(#clip0102)\" style=\"stroke:#000000; stroke-width:4; stroke-opacity:1; fill:none\" points=\"\n",
       "  527.289,1446.71 527.289,1446.71 561.862,1446.71 527.289,1446.71 \n",
       "  \"/>\n",
       "<path clip-path=\"url(#clip0102)\" d=\"\n",
       "M561.862 1387.64 L561.862 1446.71 L596.435 1446.71 L596.435 1387.64 L561.862 1387.64 L561.862 1387.64  Z\n",
       "  \" fill=\"#009af9\" fill-rule=\"evenodd\" fill-opacity=\"1\"/>\n",
       "<polyline clip-path=\"url(#clip0102)\" style=\"stroke:#000000; stroke-width:4; stroke-opacity:1; fill:none\" points=\"\n",
       "  561.862,1387.64 561.862,1446.71 596.435,1446.71 596.435,1387.64 561.862,1387.64 \n",
       "  \"/>\n",
       "<path clip-path=\"url(#clip0102)\" d=\"\n",
       "M596.435 1328.56 L596.435 1446.71 L631.009 1446.71 L631.009 1328.56 L596.435 1328.56 L596.435 1328.56  Z\n",
       "  \" fill=\"#009af9\" fill-rule=\"evenodd\" fill-opacity=\"1\"/>\n",
       "<polyline clip-path=\"url(#clip0102)\" style=\"stroke:#000000; stroke-width:4; stroke-opacity:1; fill:none\" points=\"\n",
       "  596.435,1328.56 596.435,1446.71 631.009,1446.71 631.009,1328.56 596.435,1328.56 \n",
       "  \"/>\n",
       "<path clip-path=\"url(#clip0102)\" d=\"\n",
       "M631.009 1210.42 L631.009 1446.71 L665.582 1446.71 L665.582 1210.42 L631.009 1210.42 L631.009 1210.42  Z\n",
       "  \" fill=\"#009af9\" fill-rule=\"evenodd\" fill-opacity=\"1\"/>\n",
       "<polyline clip-path=\"url(#clip0102)\" style=\"stroke:#000000; stroke-width:4; stroke-opacity:1; fill:none\" points=\"\n",
       "  631.009,1210.42 631.009,1446.71 665.582,1446.71 665.582,1210.42 631.009,1210.42 \n",
       "  \"/>\n",
       "<path clip-path=\"url(#clip0102)\" d=\"\n",
       "M665.582 1210.42 L665.582 1446.71 L700.155 1446.71 L700.155 1210.42 L665.582 1210.42 L665.582 1210.42  Z\n",
       "  \" fill=\"#009af9\" fill-rule=\"evenodd\" fill-opacity=\"1\"/>\n",
       "<polyline clip-path=\"url(#clip0102)\" style=\"stroke:#000000; stroke-width:4; stroke-opacity:1; fill:none\" points=\"\n",
       "  665.582,1210.42 665.582,1446.71 700.155,1446.71 700.155,1210.42 665.582,1210.42 \n",
       "  \"/>\n",
       "<path clip-path=\"url(#clip0102)\" d=\"\n",
       "M700.155 1269.49 L700.155 1446.71 L734.728 1446.71 L734.728 1269.49 L700.155 1269.49 L700.155 1269.49  Z\n",
       "  \" fill=\"#009af9\" fill-rule=\"evenodd\" fill-opacity=\"1\"/>\n",
       "<polyline clip-path=\"url(#clip0102)\" style=\"stroke:#000000; stroke-width:4; stroke-opacity:1; fill:none\" points=\"\n",
       "  700.155,1269.49 700.155,1446.71 734.728,1446.71 734.728,1269.49 700.155,1269.49 \n",
       "  \"/>\n",
       "<path clip-path=\"url(#clip0102)\" d=\"\n",
       "M734.728 796.897 L734.728 1446.71 L769.302 1446.71 L769.302 796.897 L734.728 796.897 L734.728 796.897  Z\n",
       "  \" fill=\"#009af9\" fill-rule=\"evenodd\" fill-opacity=\"1\"/>\n",
       "<polyline clip-path=\"url(#clip0102)\" style=\"stroke:#000000; stroke-width:4; stroke-opacity:1; fill:none\" points=\"\n",
       "  734.728,796.897 734.728,1446.71 769.302,1446.71 769.302,796.897 734.728,796.897 \n",
       "  \"/>\n",
       "<path clip-path=\"url(#clip0102)\" d=\"\n",
       "M769.302 855.971 L769.302 1446.71 L803.875 1446.71 L803.875 855.971 L769.302 855.971 L769.302 855.971  Z\n",
       "  \" fill=\"#009af9\" fill-rule=\"evenodd\" fill-opacity=\"1\"/>\n",
       "<polyline clip-path=\"url(#clip0102)\" style=\"stroke:#000000; stroke-width:4; stroke-opacity:1; fill:none\" points=\"\n",
       "  769.302,855.971 769.302,1446.71 803.875,1446.71 803.875,855.971 769.302,855.971 \n",
       "  \"/>\n",
       "<path clip-path=\"url(#clip0102)\" d=\"\n",
       "M803.875 855.971 L803.875 1446.71 L838.448 1446.71 L838.448 855.971 L803.875 855.971 L803.875 855.971  Z\n",
       "  \" fill=\"#009af9\" fill-rule=\"evenodd\" fill-opacity=\"1\"/>\n",
       "<polyline clip-path=\"url(#clip0102)\" style=\"stroke:#000000; stroke-width:4; stroke-opacity:1; fill:none\" points=\"\n",
       "  803.875,855.971 803.875,1446.71 838.448,1446.71 838.448,855.971 803.875,855.971 \n",
       "  \"/>\n",
       "<path clip-path=\"url(#clip0102)\" d=\"\n",
       "M838.448 147.08 L838.448 1446.71 L873.021 1446.71 L873.021 147.08 L838.448 147.08 L838.448 147.08  Z\n",
       "  \" fill=\"#009af9\" fill-rule=\"evenodd\" fill-opacity=\"1\"/>\n",
       "<polyline clip-path=\"url(#clip0102)\" style=\"stroke:#000000; stroke-width:4; stroke-opacity:1; fill:none\" points=\"\n",
       "  838.448,147.08 838.448,1446.71 873.021,1446.71 873.021,147.08 838.448,147.08 \n",
       "  \"/>\n",
       "<path clip-path=\"url(#clip0102)\" d=\"\n",
       "M873.021 265.228 L873.021 1446.71 L907.595 1446.71 L907.595 265.228 L873.021 265.228 L873.021 265.228  Z\n",
       "  \" fill=\"#009af9\" fill-rule=\"evenodd\" fill-opacity=\"1\"/>\n",
       "<polyline clip-path=\"url(#clip0102)\" style=\"stroke:#000000; stroke-width:4; stroke-opacity:1; fill:none\" points=\"\n",
       "  873.021,265.228 873.021,1446.71 907.595,1446.71 907.595,265.228 873.021,265.228 \n",
       "  \"/>\n",
       "<path clip-path=\"url(#clip0102)\" d=\"\n",
       "M907.595 678.748 L907.595 1446.71 L942.168 1446.71 L942.168 678.748 L907.595 678.748 L907.595 678.748  Z\n",
       "  \" fill=\"#009af9\" fill-rule=\"evenodd\" fill-opacity=\"1\"/>\n",
       "<polyline clip-path=\"url(#clip0102)\" style=\"stroke:#000000; stroke-width:4; stroke-opacity:1; fill:none\" points=\"\n",
       "  907.595,678.748 907.595,1446.71 942.168,1446.71 942.168,678.748 907.595,678.748 \n",
       "  \"/>\n",
       "<path clip-path=\"url(#clip0102)\" d=\"\n",
       "M942.168 88.0053 L942.168 1446.71 L976.741 1446.71 L976.741 88.0053 L942.168 88.0053 L942.168 88.0053  Z\n",
       "  \" fill=\"#009af9\" fill-rule=\"evenodd\" fill-opacity=\"1\"/>\n",
       "<polyline clip-path=\"url(#clip0102)\" style=\"stroke:#000000; stroke-width:4; stroke-opacity:1; fill:none\" points=\"\n",
       "  942.168,88.0053 942.168,1446.71 976.741,1446.71 976.741,88.0053 942.168,88.0053 \n",
       "  \"/>\n",
       "<path clip-path=\"url(#clip0102)\" d=\"\n",
       "M976.741 147.08 L976.741 1446.71 L1011.31 1446.71 L1011.31 147.08 L976.741 147.08 L976.741 147.08  Z\n",
       "  \" fill=\"#009af9\" fill-rule=\"evenodd\" fill-opacity=\"1\"/>\n",
       "<polyline clip-path=\"url(#clip0102)\" style=\"stroke:#000000; stroke-width:4; stroke-opacity:1; fill:none\" points=\"\n",
       "  976.741,147.08 976.741,1446.71 1011.31,1446.71 1011.31,147.08 976.741,147.08 \n",
       "  \"/>\n",
       "<path clip-path=\"url(#clip0102)\" d=\"\n",
       "M1011.31 855.971 L1011.31 1446.71 L1045.89 1446.71 L1045.89 855.971 L1011.31 855.971 L1011.31 855.971  Z\n",
       "  \" fill=\"#009af9\" fill-rule=\"evenodd\" fill-opacity=\"1\"/>\n",
       "<polyline clip-path=\"url(#clip0102)\" style=\"stroke:#000000; stroke-width:4; stroke-opacity:1; fill:none\" points=\"\n",
       "  1011.31,855.971 1011.31,1446.71 1045.89,1446.71 1045.89,855.971 1011.31,855.971 \n",
       "  \"/>\n",
       "<path clip-path=\"url(#clip0102)\" d=\"\n",
       "M1045.89 737.822 L1045.89 1446.71 L1080.46 1446.71 L1080.46 737.822 L1045.89 737.822 L1045.89 737.822  Z\n",
       "  \" fill=\"#009af9\" fill-rule=\"evenodd\" fill-opacity=\"1\"/>\n",
       "<polyline clip-path=\"url(#clip0102)\" style=\"stroke:#000000; stroke-width:4; stroke-opacity:1; fill:none\" points=\"\n",
       "  1045.89,737.822 1045.89,1446.71 1080.46,1446.71 1080.46,737.822 1045.89,737.822 \n",
       "  \"/>\n",
       "<path clip-path=\"url(#clip0102)\" d=\"\n",
       "M1080.46 855.971 L1080.46 1446.71 L1115.03 1446.71 L1115.03 855.971 L1080.46 855.971 L1080.46 855.971  Z\n",
       "  \" fill=\"#009af9\" fill-rule=\"evenodd\" fill-opacity=\"1\"/>\n",
       "<polyline clip-path=\"url(#clip0102)\" style=\"stroke:#000000; stroke-width:4; stroke-opacity:1; fill:none\" points=\"\n",
       "  1080.46,855.971 1080.46,1446.71 1115.03,1446.71 1115.03,855.971 1080.46,855.971 \n",
       "  \"/>\n",
       "<path clip-path=\"url(#clip0102)\" d=\"\n",
       "M1115.03 1151.34 L1115.03 1446.71 L1149.61 1446.71 L1149.61 1151.34 L1115.03 1151.34 L1115.03 1151.34  Z\n",
       "  \" fill=\"#009af9\" fill-rule=\"evenodd\" fill-opacity=\"1\"/>\n",
       "<polyline clip-path=\"url(#clip0102)\" style=\"stroke:#000000; stroke-width:4; stroke-opacity:1; fill:none\" points=\"\n",
       "  1115.03,1151.34 1115.03,1446.71 1149.61,1446.71 1149.61,1151.34 1115.03,1151.34 \n",
       "  \"/>\n",
       "<path clip-path=\"url(#clip0102)\" d=\"\n",
       "M1149.61 1092.27 L1149.61 1446.71 L1184.18 1446.71 L1184.18 1092.27 L1149.61 1092.27 L1149.61 1092.27  Z\n",
       "  \" fill=\"#009af9\" fill-rule=\"evenodd\" fill-opacity=\"1\"/>\n",
       "<polyline clip-path=\"url(#clip0102)\" style=\"stroke:#000000; stroke-width:4; stroke-opacity:1; fill:none\" points=\"\n",
       "  1149.61,1092.27 1149.61,1446.71 1184.18,1446.71 1184.18,1092.27 1149.61,1092.27 \n",
       "  \"/>\n",
       "<path clip-path=\"url(#clip0102)\" d=\"\n",
       "M1184.18 1210.42 L1184.18 1446.71 L1218.75 1446.71 L1218.75 1210.42 L1184.18 1210.42 L1184.18 1210.42  Z\n",
       "  \" fill=\"#009af9\" fill-rule=\"evenodd\" fill-opacity=\"1\"/>\n",
       "<polyline clip-path=\"url(#clip0102)\" style=\"stroke:#000000; stroke-width:4; stroke-opacity:1; fill:none\" points=\"\n",
       "  1184.18,1210.42 1184.18,1446.71 1218.75,1446.71 1218.75,1210.42 1184.18,1210.42 \n",
       "  \"/>\n",
       "<path clip-path=\"url(#clip0102)\" d=\"\n",
       "M1218.75 1210.42 L1218.75 1446.71 L1253.33 1446.71 L1253.33 1210.42 L1218.75 1210.42 L1218.75 1210.42  Z\n",
       "  \" fill=\"#009af9\" fill-rule=\"evenodd\" fill-opacity=\"1\"/>\n",
       "<polyline clip-path=\"url(#clip0102)\" style=\"stroke:#000000; stroke-width:4; stroke-opacity:1; fill:none\" points=\"\n",
       "  1218.75,1210.42 1218.75,1446.71 1253.33,1446.71 1253.33,1210.42 1218.75,1210.42 \n",
       "  \"/>\n",
       "<path clip-path=\"url(#clip0102)\" d=\"\n",
       "M1253.33 1269.49 L1253.33 1446.71 L1287.9 1446.71 L1287.9 1269.49 L1253.33 1269.49 L1253.33 1269.49  Z\n",
       "  \" fill=\"#009af9\" fill-rule=\"evenodd\" fill-opacity=\"1\"/>\n",
       "<polyline clip-path=\"url(#clip0102)\" style=\"stroke:#000000; stroke-width:4; stroke-opacity:1; fill:none\" points=\"\n",
       "  1253.33,1269.49 1253.33,1446.71 1287.9,1446.71 1287.9,1269.49 1253.33,1269.49 \n",
       "  \"/>\n",
       "<path clip-path=\"url(#clip0102)\" d=\"\n",
       "M1287.9 1446.71 L1287.9 1446.71 L1322.47 1446.71 L1322.47 1446.71 L1287.9 1446.71 L1287.9 1446.71  Z\n",
       "  \" fill=\"#009af9\" fill-rule=\"evenodd\" fill-opacity=\"1\"/>\n",
       "<polyline clip-path=\"url(#clip0102)\" style=\"stroke:#000000; stroke-width:4; stroke-opacity:1; fill:none\" points=\"\n",
       "  1287.9,1446.71 1287.9,1446.71 1322.47,1446.71 1287.9,1446.71 \n",
       "  \"/>\n",
       "<path clip-path=\"url(#clip0102)\" d=\"\n",
       "M1322.47 1387.64 L1322.47 1446.71 L1357.05 1446.71 L1357.05 1387.64 L1322.47 1387.64 L1322.47 1387.64  Z\n",
       "  \" fill=\"#009af9\" fill-rule=\"evenodd\" fill-opacity=\"1\"/>\n",
       "<polyline clip-path=\"url(#clip0102)\" style=\"stroke:#000000; stroke-width:4; stroke-opacity:1; fill:none\" points=\"\n",
       "  1322.47,1387.64 1322.47,1446.71 1357.05,1446.71 1357.05,1387.64 1322.47,1387.64 \n",
       "  \"/>\n",
       "<path clip-path=\"url(#clip0102)\" d=\"\n",
       "M1357.05 1446.71 L1357.05 1446.71 L1391.62 1446.71 L1391.62 1446.71 L1357.05 1446.71 L1357.05 1446.71  Z\n",
       "  \" fill=\"#009af9\" fill-rule=\"evenodd\" fill-opacity=\"1\"/>\n",
       "<polyline clip-path=\"url(#clip0102)\" style=\"stroke:#000000; stroke-width:4; stroke-opacity:1; fill:none\" points=\"\n",
       "  1357.05,1446.71 1357.05,1446.71 1391.62,1446.71 1357.05,1446.71 \n",
       "  \"/>\n",
       "<path clip-path=\"url(#clip0102)\" d=\"\n",
       "M1391.62 1446.71 L1391.62 1446.71 L1426.19 1446.71 L1426.19 1446.71 L1391.62 1446.71 L1391.62 1446.71  Z\n",
       "  \" fill=\"#009af9\" fill-rule=\"evenodd\" fill-opacity=\"1\"/>\n",
       "<polyline clip-path=\"url(#clip0102)\" style=\"stroke:#000000; stroke-width:4; stroke-opacity:1; fill:none\" points=\"\n",
       "  1391.62,1446.71 1391.62,1446.71 1426.19,1446.71 1391.62,1446.71 \n",
       "  \"/>\n",
       "<path clip-path=\"url(#clip0102)\" d=\"\n",
       "M1426.19 1446.71 L1426.19 1446.71 L1460.77 1446.71 L1460.77 1446.71 L1426.19 1446.71 L1426.19 1446.71  Z\n",
       "  \" fill=\"#009af9\" fill-rule=\"evenodd\" fill-opacity=\"1\"/>\n",
       "<polyline clip-path=\"url(#clip0102)\" style=\"stroke:#000000; stroke-width:4; stroke-opacity:1; fill:none\" points=\"\n",
       "  1426.19,1446.71 1426.19,1446.71 1460.77,1446.71 1426.19,1446.71 \n",
       "  \"/>\n",
       "<path clip-path=\"url(#clip0102)\" d=\"\n",
       "M1460.77 1446.71 L1460.77 1446.71 L1495.34 1446.71 L1495.34 1446.71 L1460.77 1446.71 L1460.77 1446.71  Z\n",
       "  \" fill=\"#009af9\" fill-rule=\"evenodd\" fill-opacity=\"1\"/>\n",
       "<polyline clip-path=\"url(#clip0102)\" style=\"stroke:#000000; stroke-width:4; stroke-opacity:1; fill:none\" points=\"\n",
       "  1460.77,1446.71 1460.77,1446.71 1495.34,1446.71 1460.77,1446.71 \n",
       "  \"/>\n",
       "<path clip-path=\"url(#clip0102)\" d=\"\n",
       "M1495.34 1446.71 L1495.34 1446.71 L1529.91 1446.71 L1529.91 1446.71 L1495.34 1446.71 L1495.34 1446.71  Z\n",
       "  \" fill=\"#009af9\" fill-rule=\"evenodd\" fill-opacity=\"1\"/>\n",
       "<polyline clip-path=\"url(#clip0102)\" style=\"stroke:#000000; stroke-width:4; stroke-opacity:1; fill:none\" points=\"\n",
       "  1495.34,1446.71 1495.34,1446.71 1529.91,1446.71 1495.34,1446.71 \n",
       "  \"/>\n",
       "<path clip-path=\"url(#clip0102)\" d=\"\n",
       "M1529.91 1446.71 L1529.91 1446.71 L1564.49 1446.71 L1564.49 1446.71 L1529.91 1446.71 L1529.91 1446.71  Z\n",
       "  \" fill=\"#009af9\" fill-rule=\"evenodd\" fill-opacity=\"1\"/>\n",
       "<polyline clip-path=\"url(#clip0102)\" style=\"stroke:#000000; stroke-width:4; stroke-opacity:1; fill:none\" points=\"\n",
       "  1529.91,1446.71 1529.91,1446.71 1564.49,1446.71 1529.91,1446.71 \n",
       "  \"/>\n",
       "<path clip-path=\"url(#clip0102)\" d=\"\n",
       "M1564.49 1446.71 L1564.49 1446.71 L1599.06 1446.71 L1599.06 1446.71 L1564.49 1446.71 L1564.49 1446.71  Z\n",
       "  \" fill=\"#009af9\" fill-rule=\"evenodd\" fill-opacity=\"1\"/>\n",
       "<polyline clip-path=\"url(#clip0102)\" style=\"stroke:#000000; stroke-width:4; stroke-opacity:1; fill:none\" points=\"\n",
       "  1564.49,1446.71 1564.49,1446.71 1599.06,1446.71 1564.49,1446.71 \n",
       "  \"/>\n",
       "<path clip-path=\"url(#clip0102)\" d=\"\n",
       "M1599.06 1446.71 L1599.06 1446.71 L1633.63 1446.71 L1633.63 1446.71 L1599.06 1446.71 L1599.06 1446.71  Z\n",
       "  \" fill=\"#009af9\" fill-rule=\"evenodd\" fill-opacity=\"1\"/>\n",
       "<polyline clip-path=\"url(#clip0102)\" style=\"stroke:#000000; stroke-width:4; stroke-opacity:1; fill:none\" points=\"\n",
       "  1599.06,1446.71 1599.06,1446.71 1633.63,1446.71 1599.06,1446.71 \n",
       "  \"/>\n",
       "<path clip-path=\"url(#clip0102)\" d=\"\n",
       "M1633.63 1446.71 L1633.63 1446.71 L1668.21 1446.71 L1668.21 1446.71 L1633.63 1446.71 L1633.63 1446.71  Z\n",
       "  \" fill=\"#009af9\" fill-rule=\"evenodd\" fill-opacity=\"1\"/>\n",
       "<polyline clip-path=\"url(#clip0102)\" style=\"stroke:#000000; stroke-width:4; stroke-opacity:1; fill:none\" points=\"\n",
       "  1633.63,1446.71 1633.63,1446.71 1668.21,1446.71 1633.63,1446.71 \n",
       "  \"/>\n",
       "<path clip-path=\"url(#clip0102)\" d=\"\n",
       "M1668.21 1446.71 L1668.21 1446.71 L1702.78 1446.71 L1702.78 1446.71 L1668.21 1446.71 L1668.21 1446.71  Z\n",
       "  \" fill=\"#009af9\" fill-rule=\"evenodd\" fill-opacity=\"1\"/>\n",
       "<polyline clip-path=\"url(#clip0102)\" style=\"stroke:#000000; stroke-width:4; stroke-opacity:1; fill:none\" points=\"\n",
       "  1668.21,1446.71 1668.21,1446.71 1702.78,1446.71 1668.21,1446.71 \n",
       "  \"/>\n",
       "<path clip-path=\"url(#clip0102)\" d=\"\n",
       "M1702.78 1446.71 L1702.78 1446.71 L1737.35 1446.71 L1737.35 1446.71 L1702.78 1446.71 L1702.78 1446.71  Z\n",
       "  \" fill=\"#009af9\" fill-rule=\"evenodd\" fill-opacity=\"1\"/>\n",
       "<polyline clip-path=\"url(#clip0102)\" style=\"stroke:#000000; stroke-width:4; stroke-opacity:1; fill:none\" points=\"\n",
       "  1702.78,1446.71 1702.78,1446.71 1737.35,1446.71 1702.78,1446.71 \n",
       "  \"/>\n",
       "<path clip-path=\"url(#clip0102)\" d=\"\n",
       "M1737.35 1446.71 L1737.35 1446.71 L1771.93 1446.71 L1771.93 1446.71 L1737.35 1446.71 L1737.35 1446.71  Z\n",
       "  \" fill=\"#009af9\" fill-rule=\"evenodd\" fill-opacity=\"1\"/>\n",
       "<polyline clip-path=\"url(#clip0102)\" style=\"stroke:#000000; stroke-width:4; stroke-opacity:1; fill:none\" points=\"\n",
       "  1737.35,1446.71 1737.35,1446.71 1771.93,1446.71 1737.35,1446.71 \n",
       "  \"/>\n",
       "<path clip-path=\"url(#clip0102)\" d=\"\n",
       "M1771.93 1446.71 L1771.93 1446.71 L1806.5 1446.71 L1806.5 1446.71 L1771.93 1446.71 L1771.93 1446.71  Z\n",
       "  \" fill=\"#009af9\" fill-rule=\"evenodd\" fill-opacity=\"1\"/>\n",
       "<polyline clip-path=\"url(#clip0102)\" style=\"stroke:#000000; stroke-width:4; stroke-opacity:1; fill:none\" points=\"\n",
       "  1771.93,1446.71 1771.93,1446.71 1806.5,1446.71 1771.93,1446.71 \n",
       "  \"/>\n",
       "<path clip-path=\"url(#clip0102)\" d=\"\n",
       "M1806.5 1446.71 L1806.5 1446.71 L1841.07 1446.71 L1841.07 1446.71 L1806.5 1446.71 L1806.5 1446.71  Z\n",
       "  \" fill=\"#009af9\" fill-rule=\"evenodd\" fill-opacity=\"1\"/>\n",
       "<polyline clip-path=\"url(#clip0102)\" style=\"stroke:#000000; stroke-width:4; stroke-opacity:1; fill:none\" points=\"\n",
       "  1806.5,1446.71 1806.5,1446.71 1841.07,1446.71 1806.5,1446.71 \n",
       "  \"/>\n",
       "<path clip-path=\"url(#clip0102)\" d=\"\n",
       "M1841.07 1446.71 L1841.07 1446.71 L1875.65 1446.71 L1875.65 1446.71 L1841.07 1446.71 L1841.07 1446.71  Z\n",
       "  \" fill=\"#009af9\" fill-rule=\"evenodd\" fill-opacity=\"1\"/>\n",
       "<polyline clip-path=\"url(#clip0102)\" style=\"stroke:#000000; stroke-width:4; stroke-opacity:1; fill:none\" points=\"\n",
       "  1841.07,1446.71 1841.07,1446.71 1875.65,1446.71 1841.07,1446.71 \n",
       "  \"/>\n",
       "<path clip-path=\"url(#clip0102)\" d=\"\n",
       "M1875.65 1446.71 L1875.65 1446.71 L1910.22 1446.71 L1910.22 1446.71 L1875.65 1446.71 L1875.65 1446.71  Z\n",
       "  \" fill=\"#009af9\" fill-rule=\"evenodd\" fill-opacity=\"1\"/>\n",
       "<polyline clip-path=\"url(#clip0102)\" style=\"stroke:#000000; stroke-width:4; stroke-opacity:1; fill:none\" points=\"\n",
       "  1875.65,1446.71 1875.65,1446.71 1910.22,1446.71 1875.65,1446.71 \n",
       "  \"/>\n",
       "<path clip-path=\"url(#clip0102)\" d=\"\n",
       "M1910.22 1446.71 L1910.22 1446.71 L1944.79 1446.71 L1944.79 1446.71 L1910.22 1446.71 L1910.22 1446.71  Z\n",
       "  \" fill=\"#009af9\" fill-rule=\"evenodd\" fill-opacity=\"1\"/>\n",
       "<polyline clip-path=\"url(#clip0102)\" style=\"stroke:#000000; stroke-width:4; stroke-opacity:1; fill:none\" points=\"\n",
       "  1910.22,1446.71 1910.22,1446.71 1944.79,1446.71 1910.22,1446.71 \n",
       "  \"/>\n",
       "<path clip-path=\"url(#clip0102)\" d=\"\n",
       "M1944.79 1446.71 L1944.79 1446.71 L1979.36 1446.71 L1979.36 1446.71 L1944.79 1446.71 L1944.79 1446.71  Z\n",
       "  \" fill=\"#009af9\" fill-rule=\"evenodd\" fill-opacity=\"1\"/>\n",
       "<polyline clip-path=\"url(#clip0102)\" style=\"stroke:#000000; stroke-width:4; stroke-opacity:1; fill:none\" points=\"\n",
       "  1944.79,1446.71 1944.79,1446.71 1979.36,1446.71 1944.79,1446.71 \n",
       "  \"/>\n",
       "<path clip-path=\"url(#clip0102)\" d=\"\n",
       "M1979.36 1446.71 L1979.36 1446.71 L2013.94 1446.71 L2013.94 1446.71 L1979.36 1446.71 L1979.36 1446.71  Z\n",
       "  \" fill=\"#009af9\" fill-rule=\"evenodd\" fill-opacity=\"1\"/>\n",
       "<polyline clip-path=\"url(#clip0102)\" style=\"stroke:#000000; stroke-width:4; stroke-opacity:1; fill:none\" points=\"\n",
       "  1979.36,1446.71 1979.36,1446.71 2013.94,1446.71 1979.36,1446.71 \n",
       "  \"/>\n",
       "<path clip-path=\"url(#clip0102)\" d=\"\n",
       "M2013.94 1446.71 L2013.94 1446.71 L2048.51 1446.71 L2048.51 1446.71 L2013.94 1446.71 L2013.94 1446.71  Z\n",
       "  \" fill=\"#009af9\" fill-rule=\"evenodd\" fill-opacity=\"1\"/>\n",
       "<polyline clip-path=\"url(#clip0102)\" style=\"stroke:#000000; stroke-width:4; stroke-opacity:1; fill:none\" points=\"\n",
       "  2013.94,1446.71 2013.94,1446.71 2048.51,1446.71 2013.94,1446.71 \n",
       "  \"/>\n",
       "<path clip-path=\"url(#clip0102)\" d=\"\n",
       "M2048.51 1446.71 L2048.51 1446.71 L2083.08 1446.71 L2083.08 1446.71 L2048.51 1446.71 L2048.51 1446.71  Z\n",
       "  \" fill=\"#009af9\" fill-rule=\"evenodd\" fill-opacity=\"1\"/>\n",
       "<polyline clip-path=\"url(#clip0102)\" style=\"stroke:#000000; stroke-width:4; stroke-opacity:1; fill:none\" points=\"\n",
       "  2048.51,1446.71 2048.51,1446.71 2083.08,1446.71 2048.51,1446.71 \n",
       "  \"/>\n",
       "<path clip-path=\"url(#clip0102)\" d=\"\n",
       "M2083.08 1446.71 L2083.08 1446.71 L2117.66 1446.71 L2117.66 1446.71 L2083.08 1446.71 L2083.08 1446.71  Z\n",
       "  \" fill=\"#009af9\" fill-rule=\"evenodd\" fill-opacity=\"1\"/>\n",
       "<polyline clip-path=\"url(#clip0102)\" style=\"stroke:#000000; stroke-width:4; stroke-opacity:1; fill:none\" points=\"\n",
       "  2083.08,1446.71 2083.08,1446.71 2117.66,1446.71 2083.08,1446.71 \n",
       "  \"/>\n",
       "<polyline clip-path=\"url(#clip0102)\" style=\"stroke:#ff0000; stroke-width:12; stroke-opacity:1; fill:none\" points=\"\n",
       "  216.13,1446.71 233.416,1446.71 250.703,1446.71 267.99,1446.71 285.276,1446.71 302.563,1446.7 319.85,1446.69 337.136,1446.66 354.423,1446.61 371.709,1446.53 \n",
       "  388.996,1446.38 406.283,1446.12 423.569,1445.69 440.856,1445 458.142,1443.9 475.429,1442.19 492.716,1439.62 510.002,1435.84 527.289,1430.41 544.576,1422.79 \n",
       "  561.862,1412.36 579.149,1398.39 596.435,1380.13 613.722,1356.79 631.009,1327.62 648.295,1291.98 665.582,1249.41 682.869,1199.7 700.155,1142.94 717.442,1079.61 \n",
       "  734.728,1010.6 752.015,937.168 769.302,860.985 786.588,784.018 803.875,708.461 821.161,636.622 838.448,570.793 855.735,513.123 873.021,465.494 890.308,429.418 \n",
       "  907.595,405.955 924.881,395.667 942.168,398.607 959.454,414.33 976.741,441.948 994.028,480.197 1011.31,527.528 1028.6,582.201 1045.89,642.382 1063.17,706.237 \n",
       "  1080.46,772.009 1097.75,838.086 1115.03,903.049 1132.32,965.704 1149.61,1025.1 1166.89,1080.51 1184.18,1131.47 1201.47,1177.69 1218.75,1219.08 1236.04,1255.7 \n",
       "  1253.33,1287.73 1270.61,1315.44 1287.9,1339.17 1305.19,1359.28 1322.47,1376.16 1339.76,1390.2 1357.05,1401.77 1374.33,1411.22 1391.62,1418.88 1408.91,1425.04 \n",
       "  1426.19,1429.95 1443.48,1433.83 1460.77,1436.87 1478.05,1439.25 1495.34,1441.09 1512.63,1442.5 1529.91,1443.57 1547.2,1444.39 1564.49,1445 1581.77,1445.46 \n",
       "  1599.06,1445.8 1616.35,1446.05 1633.63,1446.24 1650.92,1446.37 1668.21,1446.47 1685.49,1446.54 1702.78,1446.59 1720.07,1446.63 1737.35,1446.65 1754.64,1446.67 \n",
       "  1771.93,1446.69 1789.21,1446.69 1806.5,1446.7 1823.79,1446.7 1841.07,1446.71 1858.36,1446.71 1875.65,1446.71 1892.93,1446.71 1910.22,1446.71 1927.51,1446.71 \n",
       "  1944.79,1446.71 1962.08,1446.71 1979.36,1446.71 1996.65,1446.71 2013.94,1446.71 2031.22,1446.71 2048.51,1446.71 2065.8,1446.71 2083.08,1446.71 2100.37,1446.71 \n",
       "  2117.66,1446.71 2134.94,1446.71 2152.23,1446.71 2169.52,1446.71 2186.8,1446.71 2204.09,1446.71 2221.38,1446.71 2238.66,1446.71 2255.95,1446.71 2273.24,1446.71 \n",
       "  2290.52,1446.71 \n",
       "  \"/>\n",
       "<path clip-path=\"url(#clip0100)\" d=\"\n",
       "M1632.92 312.204 L2280.76 312.204 L2280.76 130.764 L1632.92 130.764  Z\n",
       "  \" fill=\"#ffffff\" fill-rule=\"evenodd\" fill-opacity=\"1\"/>\n",
       "<polyline clip-path=\"url(#clip0100)\" style=\"stroke:#000000; stroke-width:4; stroke-opacity:1; fill:none\" points=\"\n",
       "  1632.92,312.204 2280.76,312.204 2280.76,130.764 1632.92,130.764 1632.92,312.204 \n",
       "  \"/>\n",
       "<path clip-path=\"url(#clip0100)\" d=\"\n",
       "M1656.92 215.436 L1800.92 215.436 L1800.92 167.052 L1656.92 167.052 L1656.92 215.436  Z\n",
       "  \" fill=\"#009af9\" fill-rule=\"evenodd\" fill-opacity=\"1\"/>\n",
       "<polyline clip-path=\"url(#clip0100)\" style=\"stroke:#000000; stroke-width:4; stroke-opacity:1; fill:none\" points=\"\n",
       "  1656.92,215.436 1800.92,215.436 1800.92,167.052 1656.92,167.052 1656.92,215.436 \n",
       "  \"/>\n",
       "<g clip-path=\"url(#clip0100)\">\n",
       "<text style=\"fill:#000000; fill-opacity:1; font-family:Arial,Helvetica Neue,Helvetica,sans-serif; font-size:48px; text-anchor:start;\" transform=\"rotate(0, 1824.92, 208.744)\" x=\"1824.92\" y=\"208.744\">y1</text>\n",
       "</g>\n",
       "<polyline clip-path=\"url(#clip0100)\" style=\"stroke:#ff0000; stroke-width:12; stroke-opacity:1; fill:none\" points=\"\n",
       "  1656.92,251.724 1800.92,251.724 \n",
       "  \"/>\n",
       "<g clip-path=\"url(#clip0100)\">\n",
       "<text style=\"fill:#000000; fill-opacity:1; font-family:Arial,Helvetica Neue,Helvetica,sans-serif; font-size:48px; text-anchor:start;\" transform=\"rotate(0, 1824.92, 269.224)\" x=\"1824.92\" y=\"269.224\">Tracy-Widom PDF</text>\n",
       "</g>\n",
       "</svg>\n"
      ]
     },
     "execution_count": 149,
     "metadata": {},
     "output_type": "execute_result"
    }
   ],
   "source": [
    "law = Geometric(0.2)\n",
    "res = Float64[]\n",
    "N = 100\n",
    "γ, σ = renorm_params(law)\n",
    "for i in 1:200\n",
    "    tnn = get_grid(law, N)[N, N]\n",
    "    append!(res, tnn)\n",
    "end \n",
    "norm_res = (res .- γ*N) ./ (σ * N^(1/3))\n",
    "histogram(norm_res, normalize=true, bins=-5:0.2:5)\n",
    "plot!(xs, TW_pdf, lw = 3, color = \"red\", label = \"Tracy-Widom PDF\")"
   ]
  },
  {
   "cell_type": "code",
   "execution_count": 8,
   "metadata": {},
   "outputs": [],
   "source": [
    "## Add Interact plot -> NB_EXAMPLES slider\n",
    "## Find the right normalization\n",
    "## Add option to specify randomness"
   ]
  },
  {
   "cell_type": "code",
   "execution_count": null,
   "metadata": {},
   "outputs": [],
   "source": []
  }
 ],
 "metadata": {
  "@webio": {
   "lastCommId": "6fe43d409a2a4dc7b184a455306a0a71",
   "lastKernelId": "cd19c830-5d4e-48f4-bb59-770b2c1df0a8"
  },
  "kernelspec": {
   "display_name": "Julia 1.2.0",
   "language": "julia",
   "name": "julia-1.2"
  },
  "language_info": {
   "file_extension": ".jl",
   "mimetype": "application/julia",
   "name": "julia",
   "version": "1.2.0"
  }
 },
 "nbformat": 4,
 "nbformat_minor": 2
}
